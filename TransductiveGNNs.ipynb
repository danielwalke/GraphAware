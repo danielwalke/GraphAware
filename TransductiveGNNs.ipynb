{
 "cells": [
  {
   "cell_type": "code",
   "execution_count": 1,
   "id": "87003c47-b14b-4138-a8c5-727a0ac77a81",
   "metadata": {},
   "outputs": [
    {
     "name": "stderr",
     "output_type": "stream",
     "text": [
      "/home/dwalke/.local/lib/python3.10/site-packages/transformers/utils/generic.py:441: UserWarning: torch.utils._pytree._register_pytree_node is deprecated. Please use torch.utils._pytree.register_pytree_node instead.\n",
      "  _torch_pytree._register_pytree_node(\n"
     ]
    }
   ],
   "source": [
    "import torch\n",
    "from torch import nn\n",
    "from torch_geometric.nn import GCNConv\n",
    "from torch.nn import Linear\n",
    "import torch.nn.functional as F\n",
    "from GNNNestedCVEvaluation import GNNNestedCVEvaluation\n",
    "from torch_geometric.datasets import Planetoid\n",
    "import torch_geometric.transforms as T\n",
    "from torch_geometric.utils import add_self_loops\n",
    "from hyperopt import hp"
   ]
  },
  {
   "cell_type": "code",
   "execution_count": 2,
   "id": "5f2c3025-439d-48d0-a380-0f53a720a481",
   "metadata": {},
   "outputs": [],
   "source": [
    "class GNN(nn.Module):\n",
    "    def __init__(self, in_dim, hidden_dim, out_dim, dropout = .2, normalize = False, add_self_loops = True):\n",
    "        super(GNN, self).__init__()\n",
    "        \n",
    "        self.conv1 = GCNConv(in_dim, hidden_dim, normalize = normalize, add_self_loops=add_self_loops)\n",
    "        self.conv2 = GCNConv(hidden_dim, out_dim, normalize = normalize, add_self_loops=add_self_loops)\n",
    "        self.dropout = nn.Dropout(p=dropout)\n",
    "        \n",
    "    def forward(self, x, edge_index):\n",
    "        x = self.dropout(x)\n",
    "        x = self.conv1(x, edge_index)\n",
    "        x = F.relu(x)\n",
    "        x = self.dropout(x)\n",
    "        x = self.conv2(x, edge_index)\n",
    "        return x"
   ]
  },
  {
   "cell_type": "code",
   "execution_count": 3,
   "id": "bb811edd-a4aa-4398-9bb9-9358e107dea3",
   "metadata": {},
   "outputs": [],
   "source": [
    "dataset_name = 'Cora'\n",
    "split = \"public\"\n",
    "dataset = Planetoid(root='data/', name=dataset_name, split=split)\n",
    "dataset.transform = T.NormalizeFeatures()"
   ]
  },
  {
   "cell_type": "code",
   "execution_count": 4,
   "id": "3785e8f0-63d0-4962-83ec-949fa55df694",
   "metadata": {},
   "outputs": [],
   "source": [
    "data = dataset[0]"
   ]
  },
  {
   "cell_type": "code",
   "execution_count": 5,
   "id": "992986aa-d6f9-4ce6-bea9-42519c25ebd8",
   "metadata": {},
   "outputs": [],
   "source": [
    "device = torch.device(\"cuda:0\")"
   ]
  },
  {
   "cell_type": "code",
   "execution_count": 6,
   "id": "56765bd3-1b08-41e6-a7f4-5722eb09aa09",
   "metadata": {},
   "outputs": [],
   "source": [
    "gnn_nestedCV_evaluation = GNNNestedCVEvaluation(device, GNN,data)"
   ]
  },
  {
   "cell_type": "code",
   "execution_count": 7,
   "id": "933c867e-94c3-4ed7-9497-9bdab7ea3718",
   "metadata": {},
   "outputs": [],
   "source": [
    "hidden_dim = [2**i for i in range(3, 8)]\n",
    "out_dim = [dataset.num_classes]\n",
    "normalize = [True]\n",
    "add_self_loops = [True, False]\n",
    "\n",
    "gnn_choices = {\n",
    "    'hidden_dim': hidden_dim,\n",
    "    'out_dim': out_dim, \n",
    "    'normalize': normalize, \n",
    "    'add_self_loops': add_self_loops, \n",
    "}\n",
    " \n",
    "gnn_space = {\n",
    "    **{key: hp.choice(key, value) for key, value in gnn_choices.items()},\n",
    "    'lr': hp.loguniform('lr',-8, -4),\n",
    "    'weight_decay': hp.loguniform('weight_decay',-11, -9),\n",
    "    'dropout': hp.uniform('dropout', 0, .6),\n",
    "}"
   ]
  },
  {
   "cell_type": "code",
   "execution_count": 8,
   "id": "3089079f-d155-4c40-9a9d-d86acfe492a3",
   "metadata": {},
   "outputs": [
    {
     "data": {
      "application/vnd.jupyter.widget-view+json": {
       "model_id": "83801fc8581a44fd8d69d5e7173c3acc",
       "version_major": 2,
       "version_minor": 0
      },
      "text/plain": [
       "0it [00:00, ?it/s]"
      ]
     },
     "metadata": {},
     "output_type": "display_data"
    },
    {
     "name": "stdout",
     "output_type": "stream",
     "text": [
      "START HYPERPARAM SEARCH\n",
      "{'hidden_dim': <hyperopt.pyll.base.Apply object at 0x7f4041b977c0>, 'out_dim': <hyperopt.pyll.base.Apply object at 0x7f4041b946d0>, 'normalize': <hyperopt.pyll.base.Apply object at 0x7f4041b955a0>, 'add_self_loops': <hyperopt.pyll.base.Apply object at 0x7f4041b956c0>, 'lr': <hyperopt.pyll.base.Apply object at 0x7f4041b95840>, 'weight_decay': <hyperopt.pyll.base.Apply object at 0x7f4041b95960>, 'dropout': <hyperopt.pyll.base.Apply object at 0x7f4041b96f80>}\n"
     ]
    },
    {
     "name": "stderr",
     "output_type": "stream",
     "text": [
      "Setting default log level to \"WARN\".\n",
      "To adjust logging level use sc.setLogLevel(newLevel). For SparkR, use setLogLevel(newLevel).\n",
      "24/07/04 14:47:48 WARN NativeCodeLoader: Unable to load native-hadoop library for your platform... using builtin-java classes where applicable\n",
      "24/07/04 14:47:49 WARN Utils: Service 'SparkUI' could not bind on port 4040. Attempting port 4041.\n",
      "/home/dwalke/.local/lib/python3.10/site-packages/transformers/utils/generic.py:441: UserWarning: torch.utils._pytree._register_pytree_node is deprecated. Please use torch.utils._pytree.register_pytree_node instead.\n",
      "  _torch_pytree._register_pytree_node(\n",
      "[0.31166911 0.33382571]\n",
      "/home/dwalke/.local/lib/python3.10/site-packages/transformers/utils/generic.py:441: UserWarning: torch.utils._pytree._register_pytree_node is deprecated. Please use torch.utils._pytree.register_pytree_node instead.\n",
      "  _torch_pytree._register_pytree_node(\n",
      "[0.3028065  0.31314623]\n",
      "/home/dwalke/.local/lib/python3.10/site-packages/transformers/utils/generic.py:441: UserWarning: torch.utils._pytree._register_pytree_node is deprecated. Please use torch.utils._pytree.register_pytree_node instead.\n",
      "  _torch_pytree._register_pytree_node(\n",
      "[0.20384046 0.31610045]\n",
      "/home/dwalke/.local/lib/python3.10/site-packages/transformers/utils/generic.py:441: UserWarning: torch.utils._pytree._register_pytree_node is deprecated. Please use torch.utils._pytree.register_pytree_node instead.\n",
      "  _torch_pytree._register_pytree_node(\n",
      "[0.30428359 0.30576071]\n",
      "/home/dwalke/.local/lib/python3.10/site-packages/transformers/utils/generic.py:441: UserWarning: torch.utils._pytree._register_pytree_node is deprecated. Please use torch.utils._pytree.register_pytree_node instead.\n",
      "  _torch_pytree._register_pytree_node(\n",
      "[0.86410636 0.3028065 ]\n",
      "Total Trials: 5: 5 succeeded, 0 failed, 0 cancelled.                            \n"
     ]
    },
    {
     "name": "stdout",
     "output_type": "stream",
     "text": [
      "[[0. 0.]\n",
      " [0. 0.]]\n",
      "START HYPERPARAM SEARCH\n",
      "{'hidden_dim': <hyperopt.pyll.base.Apply object at 0x7f4041b977c0>, 'out_dim': <hyperopt.pyll.base.Apply object at 0x7f4041b946d0>, 'normalize': <hyperopt.pyll.base.Apply object at 0x7f4041b955a0>, 'add_self_loops': <hyperopt.pyll.base.Apply object at 0x7f4041b956c0>, 'lr': <hyperopt.pyll.base.Apply object at 0x7f4041b95840>, 'weight_decay': <hyperopt.pyll.base.Apply object at 0x7f4041b95960>, 'dropout': <hyperopt.pyll.base.Apply object at 0x7f4041b96f80>}\n"
     ]
    },
    {
     "name": "stderr",
     "output_type": "stream",
     "text": [
      "/home/dwalke/.local/lib/python3.10/site-packages/transformers/utils/generic.py:441: UserWarning: torch.utils._pytree._register_pytree_node is deprecated. Please use torch.utils._pytree.register_pytree_node instead.\n",
      "  _torch_pytree._register_pytree_node(\n",
      "[0.30428359 0.80059081]\n",
      "/home/dwalke/.local/lib/python3.10/site-packages/transformers/utils/generic.py:441: UserWarning: torch.utils._pytree._register_pytree_node is deprecated. Please use torch.utils._pytree.register_pytree_node instead.\n",
      "  _torch_pytree._register_pytree_node(\n",
      "[0.41949779 0.32496306]\n",
      "/home/dwalke/.local/lib/python3.10/site-packages/transformers/utils/generic.py:441: UserWarning: torch.utils._pytree._register_pytree_node is deprecated. Please use torch.utils._pytree.register_pytree_node instead.\n",
      "  _torch_pytree._register_pytree_node(\n",
      "[0.31314623 0.31610045]\n",
      "/home/dwalke/.local/lib/python3.10/site-packages/transformers/utils/generic.py:441: UserWarning: torch.utils._pytree._register_pytree_node is deprecated. Please use torch.utils._pytree.register_pytree_node instead.\n",
      "  _torch_pytree._register_pytree_node(\n",
      "[0.77548003 0.31166911]\n",
      "/home/dwalke/.local/lib/python3.10/site-packages/transformers/utils/generic.py:441: UserWarning: torch.utils._pytree._register_pytree_node is deprecated. Please use torch.utils._pytree.register_pytree_node instead.\n",
      "  _torch_pytree._register_pytree_node(\n",
      "[0.85672081 0.30871493]\n",
      "Total Trials: 5: 5 succeeded, 0 failed, 0 cancelled.                            \n"
     ]
    },
    {
     "name": "stdout",
     "output_type": "stream",
     "text": [
      "[[0. 0.]\n",
      " [0. 0.]]\n"
     ]
    },
    {
     "data": {
      "text/plain": [
       "<NestedCV.NestedTransductiveCV at 0x7f4041b95c30>"
      ]
     },
     "execution_count": 8,
     "metadata": {},
     "output_type": "execute_result"
    }
   ],
   "source": [
    "gnn_nestedCV_evaluation.nested_cross_validate(2, 2, gnn_space, 5)"
   ]
  },
  {
   "cell_type": "code",
   "execution_count": 9,
   "id": "5bc37027-0343-449e-97ee-7fe703a16c8e",
   "metadata": {},
   "outputs": [
    {
     "data": {
      "text/plain": [
       "array([0.30354506, 0.88183159])"
      ]
     },
     "execution_count": 9,
     "metadata": {},
     "output_type": "execute_result"
    }
   ],
   "source": [
    "gnn_nestedCV_evaluation.nested_transd_cv.outer_scores"
   ]
  },
  {
   "cell_type": "code",
   "execution_count": null,
   "id": "235bb250-02ce-41b7-9e2b-49f1f3e131f9",
   "metadata": {},
   "outputs": [],
   "source": []
  }
 ],
 "metadata": {
  "kernelspec": {
   "display_name": "Python 3 (ipykernel)",
   "language": "python",
   "name": "python3"
  },
  "language_info": {
   "codemirror_mode": {
    "name": "ipython",
    "version": 3
   },
   "file_extension": ".py",
   "mimetype": "text/x-python",
   "name": "python",
   "nbconvert_exporter": "python",
   "pygments_lexer": "ipython3",
   "version": "3.10.12"
  }
 },
 "nbformat": 4,
 "nbformat_minor": 5
}
