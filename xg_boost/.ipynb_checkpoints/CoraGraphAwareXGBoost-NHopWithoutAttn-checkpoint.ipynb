{
 "cells": [
  {
   "cell_type": "code",
   "execution_count": 1,
   "id": "49ee8a3d-cd92-4c7c-a0d5-a706499820c7",
   "metadata": {},
   "outputs": [],
   "source": [
    "import sys\n",
    " \n",
    "sys.path.insert(0, \"../\")\n",
    "\n",
    "from EnsembleFramework import Framework"
   ]
  },
  {
   "cell_type": "code",
   "execution_count": 2,
   "id": "e23f83ec-02b0-4440-9e93-2723480014ae",
   "metadata": {},
   "outputs": [],
   "source": [
    "from torch_geometric.datasets import Planetoid\n",
    "import torch_geometric.transforms as T\n",
    "from torch_geometric.utils import add_self_loops\n",
    "\n",
    "dataset_name = 'Cora'\n",
    "split = \"public\"\n",
    "dataset = Planetoid(root='/tmp/Cora', name=dataset_name, split=split)\n",
    "dataset.transform = T.NormalizeFeatures()\n",
    "\n",
    "features =  dataset[0].x\n",
    "y =  dataset[0].y\n",
    "\n",
    "test =  dataset[0].test_mask\n",
    "train = dataset[0].train_mask\n",
    "val =  dataset[0].val_mask\n",
    "\n",
    "edge_index = dataset[0].edge_index \n",
    "edge_index = add_self_loops(edge_index)[0]"
   ]
  },
  {
   "cell_type": "code",
   "execution_count": 3,
   "id": "37df08b7-43e4-486b-a20a-db5fe07992bb",
   "metadata": {},
   "outputs": [],
   "source": [
    "from torch.nn.functional import normalize\n",
    "def user_function(kwargs):\n",
    "    return  normalize(kwargs[\"original_features\"] + kwargs[\"summed_neighbors\"], p=2.0, dim = 1)\n",
    "    \n",
    "hops_list = [ 0, 1,2,3, 5, 10]\n",
    "framework = Framework([user_function for i in hops_list], \n",
    "                     hops_list=hops_list, ## to obtain best for local neighborhood\n",
    "                     clfs=[],\n",
    "                     gpu_idx=0,\n",
    "                     handle_nan=0.0,\n",
    "                    attention_configs=[None for i in hops_list])\n",
    "new_features_list = framework.get_features(features, edge_index, None)"
   ]
  },
  {
   "cell_type": "code",
   "execution_count": 4,
   "id": "35f22842-958b-4227-89bd-5ab082a49d58",
   "metadata": {},
   "outputs": [
    {
     "ename": "NameError",
     "evalue": "name 'max_depth' is not defined",
     "output_type": "error",
     "traceback": [
      "\u001b[0;31m---------------------------------------------------------------------------\u001b[0m",
      "\u001b[0;31mNameError\u001b[0m                                 Traceback (most recent call last)",
      "Cell \u001b[0;32mIn[4], line 14\u001b[0m\n\u001b[1;32m      9\u001b[0m n_estimators \u001b[38;5;241m=\u001b[39m [\u001b[38;5;241m50\u001b[39m, \u001b[38;5;241m100\u001b[39m,\u001b[38;5;241m150\u001b[39m, \u001b[38;5;241m200\u001b[39m, \u001b[38;5;241m400\u001b[39m, \u001b[38;5;241m500\u001b[39m, \u001b[38;5;241m800\u001b[39m, \u001b[38;5;241m1_000\u001b[39m, \u001b[38;5;241m1_200\u001b[39m]\n\u001b[1;32m     10\u001b[0m \u001b[38;5;66;03m# max_delta_step = [None, 1, 2, 3, 4]\u001b[39;00m\n\u001b[1;32m     12\u001b[0m lr_choices \u001b[38;5;241m=\u001b[39m {\n\u001b[1;32m     13\u001b[0m     \u001b[38;5;124m'\u001b[39m\u001b[38;5;124mn_estimators\u001b[39m\u001b[38;5;124m'\u001b[39m: n_estimators,\n\u001b[0;32m---> 14\u001b[0m     \u001b[38;5;124m'\u001b[39m\u001b[38;5;124mmax_depth\u001b[39m\u001b[38;5;124m'\u001b[39m: \u001b[43mmax_depth\u001b[49m,\n\u001b[1;32m     15\u001b[0m     \u001b[38;5;66;03m# 'max_delta_step': max_delta_step,\u001b[39;00m\n\u001b[1;32m     16\u001b[0m }\n\u001b[1;32m     18\u001b[0m space \u001b[38;5;241m=\u001b[39m {\n\u001b[1;32m     19\u001b[0m     \u001b[38;5;241m*\u001b[39m\u001b[38;5;241m*\u001b[39m{key: hp\u001b[38;5;241m.\u001b[39mchoice(key, value) \u001b[38;5;28;01mfor\u001b[39;00m key, value \u001b[38;5;129;01min\u001b[39;00m lr_choices\u001b[38;5;241m.\u001b[39mitems()},\n\u001b[1;32m     20\u001b[0m     \u001b[38;5;124m'\u001b[39m\u001b[38;5;124mmin_child_weight\u001b[39m\u001b[38;5;124m'\u001b[39m: hp\u001b[38;5;241m.\u001b[39muniform(\u001b[38;5;124m'\u001b[39m\u001b[38;5;124mmin_child_weight\u001b[39m\u001b[38;5;124m'\u001b[39m, \u001b[38;5;241m0\u001b[39m, \u001b[38;5;241m5\u001b[39m),\n\u001b[0;32m   (...)\u001b[0m\n\u001b[1;32m     24\u001b[0m     \u001b[38;5;124m'\u001b[39m\u001b[38;5;124malpha\u001b[39m\u001b[38;5;124m'\u001b[39m: hp\u001b[38;5;241m.\u001b[39muniform(\u001b[38;5;124m'\u001b[39m\u001b[38;5;124malpha\u001b[39m\u001b[38;5;124m'\u001b[39m, \u001b[38;5;241m0\u001b[39m, \u001b[38;5;241m1\u001b[39m),\n\u001b[1;32m     25\u001b[0m }\n\u001b[1;32m     27\u001b[0m clf \u001b[38;5;241m=\u001b[39m XGBClassifier\n",
      "\u001b[0;31mNameError\u001b[0m: name 'max_depth' is not defined"
     ]
    }
   ],
   "source": [
    "from xgboost import XGBClassifier\n",
    "from sklearn.metrics import accuracy_score\n",
    "import numpy as np\n",
    "from sklearn.model_selection import ParameterGrid\n",
    "from tqdm.notebook import tqdm\n",
    "from hyperopt import fmin, tpe, hp,STATUS_OK\n",
    "\n",
    "hops_list = [0,2,5,10, 15, 20, 30]\n",
    "n_estimators = [50, 100,150, 200, 400, 500, 800, 1_000, 1_200]\n",
    "# max_delta_step = [None, 1, 2, 3, 4]\n",
    "\n",
    "lr_choices = {\n",
    "    'n_estimators': n_estimators,\n",
    "    'max_depth': max_depth,\n",
    "    # 'max_delta_step': max_delta_step,\n",
    "}\n",
    "\n",
    "space = {\n",
    "    **{key: hp.choice(key, value) for key, value in lr_choices.items()},\n",
    "    'min_child_weight': hp.uniform('min_child_weight', 0, 5),\n",
    "    'eta': hp.loguniform('eta', -3, -.3),\n",
    "    'subsample': hp.uniform('subsample', 0.6, 1),\n",
    "    'reg_lambda': hp.uniform('reg_lambda', 0, 1),\n",
    "    'alpha': hp.uniform('alpha', 0, 1),\n",
    "}\n",
    "\n",
    "clf = XGBClassifier\n",
    "hops_to_params=dict({})\n",
    "hops_to_score=dict({})\n",
    "\n",
    "for i, hops in tqdm(enumerate(hops_list)):\n",
    "    new_features = new_features_list[i].cpu()\n",
    "    \n",
    "    def objective(params):\n",
    "        score = 0\n",
    "        try:\n",
    "            model = clf(**params, random_state = 42,  tree_method = \"hist\", device=\"cuda:0\")\n",
    "            model.fit(new_features[train], y[train])\n",
    "            y_pred = model.predict(new_features[val])\n",
    "            score = accuracy_score(y[val], y_pred)\n",
    "        except Exception:\n",
    "            print(Exception)\n",
    "            print(params)\n",
    "            score = -100\n",
    "        return {'loss': -score, 'status': STATUS_OK}\n",
    "    \n",
    "    best_params = fmin(objective, space, algo=tpe.suggest, max_evals=1_000, verbose=1)\n",
    "\n",
    "    for key,value in lr_choices.items():\n",
    "        best_params[key] = value[best_params[key]]\n",
    "\n",
    "    best_model = clf(**best_params, random_state = 42,  tree_method = \"hist\", device=\"cuda:0\")\n",
    "    best_model.fit(new_features[train], y[train])\n",
    "    y_pred = best_model.predict(new_features[val])\n",
    "    \n",
    "    hops_to_params[hops] = best_params\n",
    "    hops_to_score[hops] = accuracy_score(y[val], y_pred)"
   ]
  },
  {
   "cell_type": "code",
   "execution_count": null,
   "id": "6598cdf3-f367-4a40-9dcc-1984209eb25e",
   "metadata": {},
   "outputs": [],
   "source": [
    "hops_to_params"
   ]
  },
  {
   "cell_type": "code",
   "execution_count": null,
   "id": "a0aedc13-a579-402b-96a3-6e7c3cf2f156",
   "metadata": {},
   "outputs": [],
   "source": [
    "hops_to_score"
   ]
  },
  {
   "cell_type": "code",
   "execution_count": null,
   "id": "9f76e753-6680-46fd-9480-6adae2f11d0f",
   "metadata": {},
   "outputs": [],
   "source": [
    "raise Exception"
   ]
  },
  {
   "cell_type": "code",
   "execution_count": null,
   "id": "79a00c30-5144-4059-a6ec-d1df9d641771",
   "metadata": {},
   "outputs": [],
   "source": [
    "hops_to_score"
   ]
  },
  {
   "cell_type": "code",
   "execution_count": null,
   "id": "3302fbf6-bf09-4fc2-acc9-dd3fd5747aa0",
   "metadata": {},
   "outputs": [],
   "source": [
    "hops_to_params"
   ]
  },
  {
   "cell_type": "code",
   "execution_count": null,
   "id": "60b9bec8-20d8-4a82-b584-ae85be9ed415",
   "metadata": {},
   "outputs": [],
   "source": [
    "##TODO Unnormalize!!!"
   ]
  },
  {
   "cell_type": "code",
   "execution_count": null,
   "id": "1fd31963-ab29-4a7a-9dc4-4a14a2eb0cf4",
   "metadata": {},
   "outputs": [],
   "source": []
  }
 ],
 "metadata": {
  "kernelspec": {
   "display_name": "Python 3 (ipykernel)",
   "language": "python",
   "name": "python3"
  },
  "language_info": {
   "codemirror_mode": {
    "name": "ipython",
    "version": 3
   },
   "file_extension": ".py",
   "mimetype": "text/x-python",
   "name": "python",
   "nbconvert_exporter": "python",
   "pygments_lexer": "ipython3",
   "version": "3.10.12"
  }
 },
 "nbformat": 4,
 "nbformat_minor": 5
}
