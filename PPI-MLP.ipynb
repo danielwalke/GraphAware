{
 "cells": [
  {
   "cell_type": "code",
   "execution_count": 1,
   "id": "2fedec7e-b40b-4639-baec-2040f1a07fba",
   "metadata": {},
   "outputs": [],
   "source": [
    "from EnsembleFramework import Framework"
   ]
  },
  {
   "cell_type": "code",
   "execution_count": 2,
   "id": "ff17fc77-ad91-4c3f-ad39-88e7ea7a122b",
   "metadata": {},
   "outputs": [],
   "source": [
    "from torch_geometric.datasets import PPI\n",
    "import torch_geometric.transforms as T\n",
    "from torch_geometric.utils import add_self_loops\n",
    "from torch_geometric.loader import DataLoader\n",
    "\n",
    "train_dataset = PPI(root='/tmp/PPI', split=\"train\")\n",
    "val_dataset = PPI(root='/tmp/PPI', split=\"val\")\n",
    "test_dataset = PPI(root='/tmp/PPI', split=\"test\")\n",
    "train_dataset.transform = T.NormalizeFeatures()\n",
    "val_dataset.transform = T.NormalizeFeatures()\n",
    "test_dataset.transform = T.NormalizeFeatures()\n",
    "\n",
    "train_loader = iter(DataLoader(train_dataset, batch_size=len(train_dataset)))\n",
    "val_loader = iter(DataLoader(val_dataset, batch_size=len(val_dataset)))\n",
    "test_loader = iter(DataLoader(test_dataset, batch_size=len(test_dataset)))"
   ]
  },
  {
   "cell_type": "code",
   "execution_count": 3,
   "id": "59b1c73b-8677-4797-ae3d-c116adcbd7fc",
   "metadata": {},
   "outputs": [],
   "source": [
    "train_set = next(train_loader)\n",
    "test_set = next(test_loader)\n",
    "val_set = next(val_loader)"
   ]
  },
  {
   "cell_type": "code",
   "execution_count": 4,
   "id": "ac43e3aa-3ded-4b37-bfe4-9ac7482b5edb",
   "metadata": {},
   "outputs": [],
   "source": [
    "import torch\n",
    "\n",
    "train_size = train_set.y.shape[0]\n",
    "test_size = test_set.y.shape[0]\n",
    "val_size = val_set.y.shape[0]\n",
    "mask = torch.zeros(train_size + test_size + val_size)\n",
    "train_mask = torch.clone(mask)\n",
    "train_mask[:train_size] = 1\n",
    "train_mask = train_mask.type(torch.bool)\n",
    "\n",
    "test_mask = torch.clone(mask)\n",
    "test_mask[train_size:train_size+test_size] = 1\n",
    "test_mask = test_mask.type(torch.bool)\n",
    "\n",
    "val_mask = torch.clone(mask)\n",
    "val_mask[train_size+test_size:] = 1\n",
    "val_mask = val_mask.type(torch.bool)"
   ]
  },
  {
   "cell_type": "code",
   "execution_count": 5,
   "id": "e0a10414-d8dc-47ed-9403-b3cf3d3c4cce",
   "metadata": {},
   "outputs": [],
   "source": [
    "complete_set = next(iter(DataLoader([train_set, test_set, val_set], batch_size=train_size+test_size+val_size)))"
   ]
  },
  {
   "cell_type": "code",
   "execution_count": 6,
   "id": "ceb2fd0a-1a4f-4879-acac-62b87cdbb30e",
   "metadata": {},
   "outputs": [],
   "source": [
    "complete_data = {\"X\": complete_set.x,\n",
    "                 \"y\": complete_set.y,\n",
    "                \"edge_index\": complete_set.edge_index, \"test\": test_mask, \"train\": train_mask, \"val\": val_mask}"
   ]
  },
  {
   "cell_type": "code",
   "execution_count": 7,
   "id": "da10e1b1-4199-4583-a746-6f64569744cc",
   "metadata": {},
   "outputs": [],
   "source": [
    "from hyperopt import fmin, tpe, hp\n",
    "from xgboost import XGBClassifier\n",
    "clfs = [XGBClassifier]\n",
    "\n",
    "booster_self = [\"gbtree\"]\n",
    "n_estimators_self = [5, 50, 100,150, 200, 400, 500, 800, 1_000, 1_200]\n",
    "max_depth_self = [None, 1, 2, 3, 4]\n",
    "max_delta_step_self = [None, 1, 2, 3, 4]\n",
    "min_child_weight_self = [None, 1, 2, 3, 4]\n",
    "\n",
    "xb_choices = {\n",
    "    'booster': booster_self,\n",
    "    'n_estimators': n_estimators_self,\n",
    "    'max_depth': max_depth_self,\n",
    "    'max_delta_step': max_delta_step_self,\n",
    "    'min_child_weight': min_child_weight_self,\n",
    "}\n",
    "space_xb = {\n",
    "    **{key: hp.choice(key, value) for key, value in xb_choices.items()},\n",
    "    'eta': hp.loguniform('eta', -3, -.3),\n",
    "    'subsample': hp.uniform('subsample', 0.6, 1),\n",
    "    'reg_lambda': hp.uniform('reg_lambda', 0, 1),\n",
    "    'alpha': hp.uniform('alpha', 0, 1),\n",
    "}\n",
    "clfs_space = dict({})\n",
    "clfs_space[\"XGBClassifier\"] = space_xb"
   ]
  },
  {
   "cell_type": "code",
   "execution_count": 9,
   "id": "0361ff6f-fe71-43f6-a93c-e22fd09f58e9",
   "metadata": {},
   "outputs": [
    {
     "data": {
      "application/vnd.jupyter.widget-view+json": {
       "model_id": "28e76e7e4d5d4c31afa424e68e884f61",
       "version_major": 2,
       "version_minor": 0
      },
      "text/plain": [
       "  0%|          | 0/1 [00:00<?, ?it/s]"
      ]
     },
     "metadata": {},
     "output_type": "display_data"
    },
    {
     "data": {
      "application/vnd.jupyter.widget-view+json": {
       "model_id": "e7911c742a31493da086f90d19d34bde",
       "version_major": 2,
       "version_minor": 0
      },
      "text/plain": [
       "  0%|          | 0/1 [00:00<?, ?it/s]"
      ]
     },
     "metadata": {},
     "output_type": "display_data"
    },
    {
     "data": {
      "application/vnd.jupyter.widget-view+json": {
       "model_id": "0d895011faef4788b395136c3f3ee3de",
       "version_major": 2,
       "version_minor": 0
      },
      "text/plain": [
       "  0%|          | 0/4 [00:00<?, ?it/s]"
      ]
     },
     "metadata": {},
     "output_type": "display_data"
    },
    {
     "name": "stderr",
     "output_type": "stream",
     "text": [
      "Because the requested parallelism was None or a non-positive value, parallelism will be set to (64), which is Spark's default parallelism (64), or 1, whichever is greater. We recommend setting parallelism explicitly to a positive value because the total of Spark task slots is subject to cluster sizing.\n",
      "WARNING:hyperopt-spark:Because the requested parallelism was None or a non-positive value, parallelism will be set to (64), which is Spark's default parallelism (64), or 1, whichever is greater. We recommend setting parallelism explicitly to a positive value because the total of Spark task slots is subject to cluster sizing.\n"
     ]
    },
    {
     "name": "stdout",
     "output_type": "stream",
     "text": [
      "\n",
      "\n",
      "\n",
      "  0%|                                                                            | 0/10 [00:00<?, ?trial/s, best loss=?]\u001b[A\u001b[A\u001b[A"
     ]
    },
    {
     "name": "stderr",
     "output_type": "stream",
     "text": [
      "Multi class                 (0 + 1) / 1][Stage 81:>                 (0 + 1) / 1]\n",
      "Multi class   (0 + 1) / 1][Stage 81:>   (0 + 1) / 1][Stage 82:>   (0 + 1) / 1]\n",
      "Multi class\n",
      "Multi class\n",
      "Multi class\n",
      "Multi class\n",
      "Multi class\n",
      "Multi class\n",
      "Multi class\n",
      "Multi class\n",
      "/home/dwalke/miniconda3/lib/python3.10/site-packages/joblib/externals/loky/backend/resource_tracker.py:314: UserWarning: resource_tracker: There appear to be 17 leaked semlock objects to clean up at shutdown\n",
      "  warnings.warn(\n",
      "/home/dwalke/miniconda3/lib/python3.10/site-packages/joblib/externals/loky/backend/resource_tracker.py:314: UserWarning: resource_tracker: There appear to be 2 leaked folder objects to clean up at shutdown\n",
      "  warnings.warn(\n",
      "                                                                                \r"
     ]
    },
    {
     "name": "stdout",
     "output_type": "stream",
     "text": [
      "\n",
      "\n",
      "\n",
      " 10%|████▊                                           | 1/10 [00:24<03:36, 24.10s/trial, best loss: -0.41048695458284495]\u001b[A\u001b[A\u001b[A"
     ]
    },
    {
     "name": "stderr",
     "output_type": "stream",
     "text": [
      "[Stage 80:>   (0 + 1) / 1][Stage 82:>   (0 + 1) / 1][Stage 83:>   (0 + 1) / 1]\r"
     ]
    },
    {
     "name": "stdout",
     "output_type": "stream",
     "text": [
      "\n",
      "\n",
      "\n",
      " 20%|█████████▊                                       | 2/10 [00:28<01:38, 12.28s/trial, best loss: -0.4345113172541744]\u001b[A\u001b[A\u001b[A"
     ]
    },
    {
     "name": "stderr",
     "output_type": "stream",
     "text": [
      "/home/dwalke/miniconda3/lib/python3.10/site-packages/joblib/externals/loky/backend/resource_tracker.py:314: UserWarning: resource_tracker: There appear to be 17 leaked semlock objects to clean up at shutdown\n",
      "  warnings.warn(\n",
      "/home/dwalke/miniconda3/lib/python3.10/site-packages/joblib/externals/loky/backend/resource_tracker.py:314: UserWarning: resource_tracker: There appear to be 2 leaked folder objects to clean up at shutdown\n",
      "  warnings.warn(\n",
      "                                                                                \r"
     ]
    },
    {
     "name": "stdout",
     "output_type": "stream",
     "text": [
      "\n",
      "\n",
      "\n",
      " 30%|██████████████▋                                  | 3/10 [00:41<01:28, 12.62s/trial, best loss: -0.4345113172541744]\u001b[A\u001b[A\u001b[A"
     ]
    },
    {
     "name": "stderr",
     "output_type": "stream",
     "text": [
      "/home/dwalke/miniconda3/lib/python3.10/site-packages/joblib/externals/loky/backend/resource_tracker.py:314: UserWarning: resource_tracker: There appear to be 17 leaked semlock objects to clean up at shutdown\n",
      "  warnings.warn(\n",
      "/home/dwalke/miniconda3/lib/python3.10/site-packages/joblib/externals/loky/backend/resource_tracker.py:314: UserWarning: resource_tracker: There appear to be 2 leaked folder objects to clean up at shutdown\n",
      "  warnings.warn(\n",
      "/home/dwalke/miniconda3/lib/python3.10/site-packages/joblib/externals/loky/backend/resource_tracker.py:314: UserWarning: resource_tracker: There appear to be 17 leaked semlock objects to clean up at shutdown\n",
      "  warnings.warn(\n",
      "/home/dwalke/miniconda3/lib/python3.10/site-packages/joblib/externals/loky/backend/resource_tracker.py:314: UserWarning: resource_tracker: There appear to be 2 leaked folder objects to clean up at shutdown\n",
      "  warnings.warn(\n",
      "/home/dwalke/miniconda3/lib/python3.10/site-packages/joblib/externals/loky/backend/resource_tracker.py:314: UserWarning: resource_tracker: There appear to be 17 leaked semlock objects to clean up at shutdown\n",
      "  warnings.warn(\n",
      "/home/dwalke/miniconda3/lib/python3.10/site-packages/joblib/externals/loky/backend/resource_tracker.py:314: UserWarning: resource_tracker: There appear to be 2 leaked folder objects to clean up at shutdown\n",
      "  warnings.warn(\n",
      "/home/dwalke/miniconda3/lib/python3.10/site-packages/joblib/externals/loky/backend/resource_tracker.py:314: UserWarning: resource_tracker: There appear to be 17 leaked semlock objects to clean up at shutdown\n",
      "  warnings.warn(\n",
      "/home/dwalke/miniconda3/lib/python3.10/site-packages/joblib/externals/loky/backend/resource_tracker.py:314: UserWarning: resource_tracker: There appear to be 2 leaked folder objects to clean up at shutdown\n",
      "  warnings.warn(\n",
      "[Stage 83:>   (0 + 1) / 1][Stage 84:>   (0 + 1) / 1][Stage 85:>   (0 + 1) / 1]  \r"
     ]
    },
    {
     "name": "stdout",
     "output_type": "stream",
     "text": [
      "\n",
      "\n",
      "\n",
      " 40%|███████████████████▌                             | 4/10 [01:06<01:45, 17.52s/trial, best loss: -0.6158198516510774]\u001b[A\u001b[A\u001b[A"
     ]
    },
    {
     "name": "stderr",
     "output_type": "stream",
     "text": [
      "/home/dwalke/miniconda3/lib/python3.10/site-packages/joblib/externals/loky/backend/resource_tracker.py:314: UserWarning: resource_tracker: There appear to be 17 leaked semlock objects to clean up at shutdown\n",
      "  warnings.warn(\n",
      "/home/dwalke/miniconda3/lib/python3.10/site-packages/joblib/externals/loky/backend/resource_tracker.py:314: UserWarning: resource_tracker: There appear to be 2 leaked folder objects to clean up at shutdown\n",
      "  warnings.warn(\n",
      "                                                                                \r"
     ]
    },
    {
     "name": "stdout",
     "output_type": "stream",
     "text": [
      "\n",
      "\n",
      "\n",
      " 50%|████████████████████████▌                        | 5/10 [01:17<01:15, 15.17s/trial, best loss: -0.6158198516510774]\u001b[A\u001b[A\u001b[A"
     ]
    },
    {
     "name": "stderr",
     "output_type": "stream",
     "text": [
      "                                                                                \r"
     ]
    },
    {
     "name": "stdout",
     "output_type": "stream",
     "text": [
      "\n",
      "\n",
      "\n",
      " 60%|█████████████████████████████▍                   | 6/10 [01:34<01:03, 15.80s/trial, best loss: -0.6158198516510774]\u001b[A\u001b[A\u001b[A"
     ]
    },
    {
     "name": "stderr",
     "output_type": "stream",
     "text": [
      "/home/dwalke/miniconda3/lib/python3.10/site-packages/joblib/externals/loky/backend/resource_tracker.py:314: UserWarning: resource_tracker: There appear to be 17 leaked semlock objects to clean up at shutdown\n",
      "  warnings.warn(\n",
      "/home/dwalke/miniconda3/lib/python3.10/site-packages/joblib/externals/loky/backend/resource_tracker.py:314: UserWarning: resource_tracker: There appear to be 2 leaked folder objects to clean up at shutdown\n",
      "  warnings.warn(\n",
      "/home/dwalke/miniconda3/lib/python3.10/site-packages/joblib/externals/loky/backend/resource_tracker.py:314: UserWarning: resource_tracker: There appear to be 17 leaked semlock objects to clean up at shutdown\n",
      "  warnings.warn(\n",
      "/home/dwalke/miniconda3/lib/python3.10/site-packages/joblib/externals/loky/backend/resource_tracker.py:314: UserWarning: resource_tracker: There appear to be 2 leaked folder objects to clean up at shutdown\n",
      "  warnings.warn(\n",
      "[Stage 83:>   (0 + 1) / 1][Stage 84:>   (0 + 1) / 1][Stage 86:>   (0 + 1) / 1]  \r"
     ]
    },
    {
     "name": "stdout",
     "output_type": "stream",
     "text": [
      "\n",
      "\n",
      "\n",
      " 70%|██████████████████████████████████▎              | 7/10 [02:04<01:01, 20.46s/trial, best loss: -0.6322533318211543]\u001b[A\u001b[A\u001b[A"
     ]
    },
    {
     "name": "stderr",
     "output_type": "stream",
     "text": [
      "                                                                                \r"
     ]
    },
    {
     "name": "stdout",
     "output_type": "stream",
     "text": [
      "\n",
      "\n",
      "\n",
      " 80%|███████████████████████████████████████▏         | 8/10 [02:06<00:29, 14.58s/trial, best loss: -0.6322533318211543]\u001b[A\u001b[A\u001b[A"
     ]
    },
    {
     "name": "stderr",
     "output_type": "stream",
     "text": [
      "/home/dwalke/miniconda3/lib/python3.10/site-packages/joblib/externals/loky/backend/resource_tracker.py:314: UserWarning: resource_tracker: There appear to be 17 leaked semlock objects to clean up at shutdown\n",
      "  warnings.warn(\n",
      "/home/dwalke/miniconda3/lib/python3.10/site-packages/joblib/externals/loky/backend/resource_tracker.py:314: UserWarning: resource_tracker: There appear to be 2 leaked folder objects to clean up at shutdown\n",
      "  warnings.warn(\n",
      "                                                                                \r"
     ]
    },
    {
     "name": "stdout",
     "output_type": "stream",
     "text": [
      "\n",
      "\n",
      "\n",
      " 90%|████████████████████████████████████████████     | 9/10 [03:29<00:36, 36.00s/trial, best loss: -0.6378881092981626]\u001b[A\u001b[A\u001b[A"
     ]
    },
    {
     "name": "stderr",
     "output_type": "stream",
     "text": [
      "                                                                                \r"
     ]
    },
    {
     "name": "stdout",
     "output_type": "stream",
     "text": [
      "\n",
      "\n",
      "\n",
      "100%|████████████████████████████████████████████████| 10/10 [04:13<00:00, 25.34s/trial, best loss: -0.6562224420094617]\u001b[A\u001b[A\u001b[A\n"
     ]
    },
    {
     "name": "stderr",
     "output_type": "stream",
     "text": [
      "Total Trials: 10: 10 succeeded, 0 failed, 0 cancelled.\n",
      "INFO:hyperopt-spark:Total Trials: 10: 10 succeeded, 0 failed, 0 cancelled.\n"
     ]
    },
    {
     "name": "stdout",
     "output_type": "stream",
     "text": [
      "Multi class\n"
     ]
    },
    {
     "name": "stderr",
     "output_type": "stream",
     "text": [
      "/home/dwalke/miniconda3/lib/python3.10/site-packages/joblib/externals/loky/backend/resource_tracker.py:314: UserWarning: resource_tracker: There appear to be 17 leaked semlock objects to clean up at shutdown\n",
      "  warnings.warn(\n",
      "/home/dwalke/miniconda3/lib/python3.10/site-packages/joblib/externals/loky/backend/resource_tracker.py:314: UserWarning: resource_tracker: There appear to be 2 leaked folder objects to clean up at shutdown\n",
      "  warnings.warn(\n",
      "/home/dwalke/miniconda3/lib/python3.10/site-packages/joblib/externals/loky/backend/resource_tracker.py:314: UserWarning: resource_tracker: There appear to be 17 leaked semlock objects to clean up at shutdown\n",
      "  warnings.warn(\n",
      "/home/dwalke/miniconda3/lib/python3.10/site-packages/joblib/externals/loky/backend/resource_tracker.py:314: UserWarning: resource_tracker: There appear to be 2 leaked folder objects to clean up at shutdown\n",
      "  warnings.warn(\n",
      "Because the requested parallelism was None or a non-positive value, parallelism will be set to (64), which is Spark's default parallelism (64), or 1, whichever is greater. We recommend setting parallelism explicitly to a positive value because the total of Spark task slots is subject to cluster sizing.\n",
      "WARNING:hyperopt-spark:Because the requested parallelism was None or a non-positive value, parallelism will be set to (64), which is Spark's default parallelism (64), or 1, whichever is greater. We recommend setting parallelism explicitly to a positive value because the total of Spark task slots is subject to cluster sizing.\n"
     ]
    },
    {
     "name": "stdout",
     "output_type": "stream",
     "text": [
      "\n",
      "\n",
      "\n",
      "  0%|                                                                            | 0/10 [00:00<?, ?trial/s, best loss=?]\u001b[A\u001b[A\u001b[A"
     ]
    },
    {
     "name": "stderr",
     "output_type": "stream",
     "text": [
      "Multi class                 (0 + 1) / 1][Stage 91:>                 (0 + 1) / 1]\n",
      "Multi class   (0 + 1) / 1][Stage 91:>   (0 + 1) / 1][Stage 92:>   (0 + 1) / 1]\n",
      "/home/dwalke/miniconda3/lib/python3.10/site-packages/joblib/externals/loky/backend/resource_tracker.py:314: UserWarning: resource_tracker: There appear to be 17 leaked semlock objects to clean up at shutdown\n",
      "  warnings.warn(\n",
      "/home/dwalke/miniconda3/lib/python3.10/site-packages/joblib/externals/loky/backend/resource_tracker.py:314: UserWarning: resource_tracker: There appear to be 2 leaked folder objects to clean up at shutdown\n",
      "  warnings.warn(\n",
      "Multi class\n",
      "Multi class\n",
      "Multi class\n",
      "Multi class\n",
      "Multi class\n",
      "Multi class\n",
      "Multi class\n",
      "Multi class\n",
      "/home/dwalke/miniconda3/lib/python3.10/site-packages/joblib/externals/loky/backend/resource_tracker.py:314: UserWarning: resource_tracker: There appear to be 17 leaked semlock objects to clean up at shutdown\n",
      "  warnings.warn(\n",
      "/home/dwalke/miniconda3/lib/python3.10/site-packages/joblib/externals/loky/backend/resource_tracker.py:314: UserWarning: resource_tracker: There appear to be 2 leaked folder objects to clean up at shutdown\n",
      "  warnings.warn(\n",
      "/home/dwalke/miniconda3/lib/python3.10/site-packages/joblib/externals/loky/backend/resource_tracker.py:314: UserWarning: resource_tracker: There appear to be 17 leaked semlock objects to clean up at shutdown\n",
      "  warnings.warn(\n",
      "/home/dwalke/miniconda3/lib/python3.10/site-packages/joblib/externals/loky/backend/resource_tracker.py:314: UserWarning: resource_tracker: There appear to be 2 leaked folder objects to clean up at shutdown\n",
      "  warnings.warn(\n",
      "[Stage 90:>   (0 + 1) / 1][Stage 91:>   (0 + 1) / 1][Stage 92:>   (0 + 1) / 1]  \r"
     ]
    },
    {
     "name": "stdout",
     "output_type": "stream",
     "text": [
      "\n",
      "\n",
      "\n",
      " 10%|████▉                                            | 1/10 [01:00<09:01, 60.12s/trial, best loss: -0.4700447256463401]\u001b[A\u001b[A\u001b[A"
     ]
    },
    {
     "name": "stderr",
     "output_type": "stream",
     "text": [
      "/home/dwalke/miniconda3/lib/python3.10/site-packages/joblib/externals/loky/backend/resource_tracker.py:314: UserWarning: resource_tracker: There appear to be 17 leaked semlock objects to clean up at shutdown\n",
      "  warnings.warn(\n",
      "/home/dwalke/miniconda3/lib/python3.10/site-packages/joblib/externals/loky/backend/resource_tracker.py:314: UserWarning: resource_tracker: There appear to be 2 leaked folder objects to clean up at shutdown\n",
      "  warnings.warn(\n",
      "[Stage 90:>   (0 + 1) / 1][Stage 91:>   (0 + 1) / 1][Stage 92:>   (0 + 1) / 1]  \r"
     ]
    },
    {
     "name": "stdout",
     "output_type": "stream",
     "text": [
      "\n",
      "\n",
      "\n",
      " 20%|█████████▊                                       | 2/10 [01:15<04:28, 33.59s/trial, best loss: -0.4706888894338317]\u001b[A\u001b[A\u001b[A"
     ]
    },
    {
     "name": "stderr",
     "output_type": "stream",
     "text": [
      "                                                                                \r"
     ]
    },
    {
     "name": "stdout",
     "output_type": "stream",
     "text": [
      "\n",
      "\n",
      "\n",
      " 30%|██████████████▋                                  | 3/10 [01:23<02:33, 21.91s/trial, best loss: -0.4706888894338317]\u001b[A\u001b[A\u001b[A"
     ]
    },
    {
     "name": "stderr",
     "output_type": "stream",
     "text": [
      "/home/dwalke/miniconda3/lib/python3.10/site-packages/joblib/externals/loky/backend/resource_tracker.py:314: UserWarning: resource_tracker: There appear to be 17 leaked semlock objects to clean up at shutdown\n",
      "  warnings.warn(\n",
      "/home/dwalke/miniconda3/lib/python3.10/site-packages/joblib/externals/loky/backend/resource_tracker.py:314: UserWarning: resource_tracker: There appear to be 2 leaked folder objects to clean up at shutdown\n",
      "  warnings.warn(\n",
      "/home/dwalke/miniconda3/lib/python3.10/site-packages/joblib/externals/loky/backend/resource_tracker.py:314: UserWarning: resource_tracker: There appear to be 17 leaked semlock objects to clean up at shutdown\n",
      "  warnings.warn(\n",
      "/home/dwalke/miniconda3/lib/python3.10/site-packages/joblib/externals/loky/backend/resource_tracker.py:314: UserWarning: resource_tracker: There appear to be 2 leaked folder objects to clean up at shutdown\n",
      "  warnings.warn(\n",
      "                                                                                \r"
     ]
    },
    {
     "name": "stdout",
     "output_type": "stream",
     "text": [
      "\n",
      "\n",
      "\n",
      " 40%|███████████████████▌                             | 4/10 [02:01<02:49, 28.28s/trial, best loss: -0.4706888894338317]\u001b[A\u001b[A\u001b[A"
     ]
    },
    {
     "name": "stderr",
     "output_type": "stream",
     "text": [
      "/home/dwalke/miniconda3/lib/python3.10/site-packages/joblib/externals/loky/backend/resource_tracker.py:314: UserWarning: resource_tracker: There appear to be 17 leaked semlock objects to clean up at shutdown\n",
      "  warnings.warn(\n",
      "/home/dwalke/miniconda3/lib/python3.10/site-packages/joblib/externals/loky/backend/resource_tracker.py:314: UserWarning: resource_tracker: There appear to be 2 leaked folder objects to clean up at shutdown\n",
      "  warnings.warn(\n",
      "[Stage 90:>   (0 + 1) / 1][Stage 92:>   (0 + 1) / 1][Stage 93:>   (0 + 1) / 1]\r"
     ]
    },
    {
     "name": "stdout",
     "output_type": "stream",
     "text": [
      "\n",
      "\n",
      "\n",
      " 50%|████████████████████████▌                        | 5/10 [03:31<04:12, 50.57s/trial, best loss: -0.4734905805948613]\u001b[A\u001b[A\u001b[A"
     ]
    },
    {
     "name": "stderr",
     "output_type": "stream",
     "text": [
      "/home/dwalke/miniconda3/lib/python3.10/site-packages/joblib/externals/loky/backend/resource_tracker.py:314: UserWarning: resource_tracker: There appear to be 17 leaked semlock objects to clean up at shutdown\n",
      "  warnings.warn(\n",
      "/home/dwalke/miniconda3/lib/python3.10/site-packages/joblib/externals/loky/backend/resource_tracker.py:314: UserWarning: resource_tracker: There appear to be 2 leaked folder objects to clean up at shutdown\n",
      "  warnings.warn(\n",
      "[Stage 92:>   (0 + 1) / 1][Stage 93:>   (0 + 1) / 1][Stage 94:>   (0 + 1) / 1]  \r"
     ]
    },
    {
     "name": "stdout",
     "output_type": "stream",
     "text": [
      "\n",
      "\n",
      "\n",
      " 60%|█████████████████████████████▍                   | 6/10 [03:43<02:29, 37.46s/trial, best loss: -0.4734905805948613]\u001b[A\u001b[A\u001b[A"
     ]
    },
    {
     "name": "stderr",
     "output_type": "stream",
     "text": [
      "                                                                                \r"
     ]
    },
    {
     "name": "stdout",
     "output_type": "stream",
     "text": [
      "\n",
      "\n",
      "\n",
      " 70%|██████████████████████████████████▎              | 7/10 [04:06<01:38, 32.74s/trial, best loss: -0.4734905805948613]\u001b[A\u001b[A\u001b[A"
     ]
    },
    {
     "name": "stderr",
     "output_type": "stream",
     "text": [
      "                                                                                \r"
     ]
    },
    {
     "name": "stdout",
     "output_type": "stream",
     "text": [
      "\n",
      "\n",
      "\n",
      " 80%|███████████████████████████████████████▏         | 8/10 [04:29<00:59, 29.65s/trial, best loss: -0.4734905805948613]\u001b[A\u001b[A\u001b[A"
     ]
    },
    {
     "name": "stderr",
     "output_type": "stream",
     "text": [
      "                                                                                \r"
     ]
    },
    {
     "name": "stdout",
     "output_type": "stream",
     "text": [
      "\n",
      "\n",
      "\n",
      " 90%|████████████████████████████████████████████     | 9/10 [04:41<00:24, 24.14s/trial, best loss: -0.4734905805948613]\u001b[A\u001b[A\u001b[A"
     ]
    },
    {
     "name": "stderr",
     "output_type": "stream",
     "text": [
      "                                                                                \r"
     ]
    },
    {
     "name": "stdout",
     "output_type": "stream",
     "text": [
      "\n",
      "\n",
      "\n",
      "100%|████████████████████████████████████████████████| 10/10 [04:47<00:00, 28.74s/trial, best loss: -0.4734905805948613]\u001b[A\u001b[A\u001b[A\n"
     ]
    },
    {
     "name": "stderr",
     "output_type": "stream",
     "text": [
      "Total Trials: 10: 10 succeeded, 0 failed, 0 cancelled.\n",
      "INFO:hyperopt-spark:Total Trials: 10: 10 succeeded, 0 failed, 0 cancelled.\n"
     ]
    },
    {
     "name": "stdout",
     "output_type": "stream",
     "text": [
      "Multi class\n"
     ]
    },
    {
     "name": "stderr",
     "output_type": "stream",
     "text": [
      "Because the requested parallelism was None or a non-positive value, parallelism will be set to (64), which is Spark's default parallelism (64), or 1, whichever is greater. We recommend setting parallelism explicitly to a positive value because the total of Spark task slots is subject to cluster sizing.\n",
      "WARNING:hyperopt-spark:Because the requested parallelism was None or a non-positive value, parallelism will be set to (64), which is Spark's default parallelism (64), or 1, whichever is greater. We recommend setting parallelism explicitly to a positive value because the total of Spark task slots is subject to cluster sizing.\n"
     ]
    },
    {
     "name": "stdout",
     "output_type": "stream",
     "text": [
      "\n",
      "\n",
      "\n",
      "  0%|                                                                            | 0/10 [00:00<?, ?trial/s, best loss=?]\u001b[A\u001b[A\u001b[A"
     ]
    },
    {
     "name": "stderr",
     "output_type": "stream",
     "text": [
      "Multi class>                (0 + 1) / 1][Stage 101:>                (0 + 1) / 1]\n",
      "Multi class>  (0 + 1) / 1][Stage 101:>  (0 + 1) / 1][Stage 102:>  (0 + 1) / 1]\n",
      "Multi class\n",
      "Multi class\n",
      "Multi class\n",
      "Multi class\n",
      "Multi class\n",
      "Multi class\n",
      "Multi class\n",
      "Multi class\n",
      "[Stage 101:>  (0 + 1) / 1][Stage 102:>  (0 + 1) / 1][Stage 103:>  (0 + 1) / 1]  \r"
     ]
    },
    {
     "name": "stdout",
     "output_type": "stream",
     "text": [
      "\n",
      "\n",
      "\n",
      " 10%|████▉                                            | 1/10 [00:21<03:09, 21.08s/trial, best loss: -0.4105670041118618]\u001b[A\u001b[A\u001b[A"
     ]
    },
    {
     "name": "stderr",
     "output_type": "stream",
     "text": [
      "                                                                                \r"
     ]
    },
    {
     "name": "stdout",
     "output_type": "stream",
     "text": [
      "\n",
      "\n",
      "\n",
      " 20%|█████████▊                                       | 2/10 [00:46<03:07, 23.40s/trial, best loss: -0.4526452558054362]\u001b[A\u001b[A\u001b[A"
     ]
    },
    {
     "name": "stderr",
     "output_type": "stream",
     "text": [
      "                                                                                \r"
     ]
    },
    {
     "name": "stdout",
     "output_type": "stream",
     "text": [
      "\n",
      "\n",
      "\n",
      " 30%|██████████████▋                                  | 3/10 [00:52<01:48, 15.46s/trial, best loss: -0.5774035007932857]\u001b[A\u001b[A\u001b[A"
     ]
    },
    {
     "name": "stderr",
     "output_type": "stream",
     "text": [
      "/home/dwalke/miniconda3/lib/python3.10/site-packages/joblib/externals/loky/backend/resource_tracker.py:314: UserWarning: resource_tracker: There appear to be 17 leaked semlock objects to clean up at shutdown\n",
      "  warnings.warn(\n",
      "/home/dwalke/miniconda3/lib/python3.10/site-packages/joblib/externals/loky/backend/resource_tracker.py:314: UserWarning: resource_tracker: There appear to be 2 leaked folder objects to clean up at shutdown\n",
      "  warnings.warn(\n",
      "/home/dwalke/miniconda3/lib/python3.10/site-packages/joblib/externals/loky/backend/resource_tracker.py:314: UserWarning: resource_tracker: There appear to be 17 leaked semlock objects to clean up at shutdown\n",
      "  warnings.warn(\n",
      "/home/dwalke/miniconda3/lib/python3.10/site-packages/joblib/externals/loky/backend/resource_tracker.py:314: UserWarning: resource_tracker: There appear to be 2 leaked folder objects to clean up at shutdown\n",
      "  warnings.warn(\n",
      "/home/dwalke/miniconda3/lib/python3.10/site-packages/joblib/externals/loky/backend/resource_tracker.py:314: UserWarning: resource_tracker: There appear to be 17 leaked semlock objects to clean up at shutdown\n",
      "  warnings.warn(\n",
      "/home/dwalke/miniconda3/lib/python3.10/site-packages/joblib/externals/loky/backend/resource_tracker.py:314: UserWarning: resource_tracker: There appear to be 2 leaked folder objects to clean up at shutdown\n",
      "  warnings.warn(\n",
      "/home/dwalke/miniconda3/lib/python3.10/site-packages/joblib/externals/loky/backend/resource_tracker.py:314: UserWarning: resource_tracker: There appear to be 17 leaked semlock objects to clean up at shutdown\n",
      "  warnings.warn(\n",
      "/home/dwalke/miniconda3/lib/python3.10/site-packages/joblib/externals/loky/backend/resource_tracker.py:314: UserWarning: resource_tracker: There appear to be 2 leaked folder objects to clean up at shutdown\n",
      "  warnings.warn(\n",
      "                                                                                \r"
     ]
    },
    {
     "name": "stdout",
     "output_type": "stream",
     "text": [
      "\n",
      "\n",
      "\n",
      " 40%|███████████████████▌                             | 4/10 [02:09<03:58, 39.79s/trial, best loss: -0.9089221539434186]\u001b[A\u001b[A\u001b[A"
     ]
    },
    {
     "name": "stderr",
     "output_type": "stream",
     "text": [
      "                                                                                \r"
     ]
    },
    {
     "name": "stdout",
     "output_type": "stream",
     "text": [
      "\n",
      "\n",
      "\n",
      " 50%|████████████████████████▌                        | 5/10 [02:27<02:39, 31.94s/trial, best loss: -0.9089221539434186]\u001b[A\u001b[A\u001b[A"
     ]
    },
    {
     "name": "stderr",
     "output_type": "stream",
     "text": [
      "                                                                                \r"
     ]
    },
    {
     "name": "stdout",
     "output_type": "stream",
     "text": [
      "\n",
      "\n",
      "\n",
      " 60%|█████████████████████████████▍                   | 6/10 [02:28<01:25, 21.42s/trial, best loss: -0.9089221539434186]\u001b[A\u001b[A\u001b[A"
     ]
    },
    {
     "name": "stderr",
     "output_type": "stream",
     "text": [
      "                                                                                \r"
     ]
    },
    {
     "name": "stdout",
     "output_type": "stream",
     "text": [
      "\n",
      "\n",
      "\n",
      " 70%|██████████████████████████████████▎              | 7/10 [03:16<01:30, 30.13s/trial, best loss: -0.9089221539434186]\u001b[A\u001b[A\u001b[A"
     ]
    },
    {
     "name": "stderr",
     "output_type": "stream",
     "text": [
      "                                                                                \r"
     ]
    },
    {
     "name": "stdout",
     "output_type": "stream",
     "text": [
      "\n",
      "\n",
      "\n",
      " 80%|███████████████████████████████████████▏         | 8/10 [03:18<00:42, 21.18s/trial, best loss: -0.9089221539434186]\u001b[A\u001b[A\u001b[A"
     ]
    },
    {
     "name": "stderr",
     "output_type": "stream",
     "text": [
      "                                                                                \r"
     ]
    },
    {
     "name": "stdout",
     "output_type": "stream",
     "text": [
      "\n",
      "\n",
      "\n",
      " 90%|████████████████████████████████████████████     | 9/10 [03:33<00:19, 19.25s/trial, best loss: -0.9089221539434186]\u001b[A\u001b[A\u001b[A"
     ]
    },
    {
     "name": "stderr",
     "output_type": "stream",
     "text": [
      "/home/dwalke/miniconda3/lib/python3.10/site-packages/joblib/externals/loky/backend/resource_tracker.py:314: UserWarning: resource_tracker: There appear to be 17 leaked semlock objects to clean up at shutdown\n",
      "  warnings.warn(\n",
      "/home/dwalke/miniconda3/lib/python3.10/site-packages/joblib/externals/loky/backend/resource_tracker.py:314: UserWarning: resource_tracker: There appear to be 2 leaked folder objects to clean up at shutdown\n",
      "  warnings.warn(\n",
      "/home/dwalke/miniconda3/lib/python3.10/site-packages/joblib/externals/loky/backend/resource_tracker.py:314: UserWarning: resource_tracker: There appear to be 17 leaked semlock objects to clean up at shutdown\n",
      "  warnings.warn(\n",
      "/home/dwalke/miniconda3/lib/python3.10/site-packages/joblib/externals/loky/backend/resource_tracker.py:314: UserWarning: resource_tracker: There appear to be 2 leaked folder objects to clean up at shutdown\n",
      "  warnings.warn(\n",
      "/home/dwalke/miniconda3/lib/python3.10/site-packages/joblib/externals/loky/backend/resource_tracker.py:314: UserWarning: resource_tracker: There appear to be 17 leaked semlock objects to clean up at shutdown\n",
      "  warnings.warn(\n",
      "/home/dwalke/miniconda3/lib/python3.10/site-packages/joblib/externals/loky/backend/resource_tracker.py:314: UserWarning: resource_tracker: There appear to be 2 leaked folder objects to clean up at shutdown\n",
      "  warnings.warn(\n",
      "/home/dwalke/miniconda3/lib/python3.10/site-packages/joblib/externals/loky/backend/resource_tracker.py:314: UserWarning: resource_tracker: There appear to be 17 leaked semlock objects to clean up at shutdown\n",
      "  warnings.warn(\n",
      "/home/dwalke/miniconda3/lib/python3.10/site-packages/joblib/externals/loky/backend/resource_tracker.py:314: UserWarning: resource_tracker: There appear to be 2 leaked folder objects to clean up at shutdown\n",
      "  warnings.warn(\n",
      "/home/dwalke/miniconda3/lib/python3.10/site-packages/joblib/externals/loky/backend/resource_tracker.py:314: UserWarning: resource_tracker: There appear to be 17 leaked semlock objects to clean up at shutdown\n",
      "  warnings.warn(\n",
      "/home/dwalke/miniconda3/lib/python3.10/site-packages/joblib/externals/loky/backend/resource_tracker.py:314: UserWarning: resource_tracker: There appear to be 2 leaked folder objects to clean up at shutdown\n",
      "  warnings.warn(\n",
      "                                                                                \r"
     ]
    },
    {
     "name": "stdout",
     "output_type": "stream",
     "text": [
      "\n",
      "\n",
      "\n",
      "100%|████████████████████████████████████████████████| 10/10 [04:50<00:00, 29.04s/trial, best loss: -0.9597256576976154]\u001b[A\u001b[A\u001b[A\n"
     ]
    },
    {
     "name": "stderr",
     "output_type": "stream",
     "text": [
      "Total Trials: 10: 10 succeeded, 0 failed, 0 cancelled.\n",
      "INFO:hyperopt-spark:Total Trials: 10: 10 succeeded, 0 failed, 0 cancelled.\n"
     ]
    },
    {
     "name": "stdout",
     "output_type": "stream",
     "text": [
      "Multi class\n"
     ]
    },
    {
     "name": "stderr",
     "output_type": "stream",
     "text": [
      "/home/dwalke/miniconda3/lib/python3.10/site-packages/joblib/externals/loky/backend/resource_tracker.py:314: UserWarning: resource_tracker: There appear to be 17 leaked semlock objects to clean up at shutdown\n",
      "  warnings.warn(\n",
      "/home/dwalke/miniconda3/lib/python3.10/site-packages/joblib/externals/loky/backend/resource_tracker.py:314: UserWarning: resource_tracker: There appear to be 2 leaked folder objects to clean up at shutdown\n",
      "  warnings.warn(\n",
      "/home/dwalke/miniconda3/lib/python3.10/site-packages/joblib/externals/loky/backend/resource_tracker.py:314: UserWarning: resource_tracker: There appear to be 17 leaked semlock objects to clean up at shutdown\n",
      "  warnings.warn(\n",
      "/home/dwalke/miniconda3/lib/python3.10/site-packages/joblib/externals/loky/backend/resource_tracker.py:314: UserWarning: resource_tracker: There appear to be 2 leaked folder objects to clean up at shutdown\n",
      "  warnings.warn(\n",
      "/home/dwalke/miniconda3/lib/python3.10/site-packages/joblib/externals/loky/backend/resource_tracker.py:314: UserWarning: resource_tracker: There appear to be 17 leaked semlock objects to clean up at shutdown\n",
      "  warnings.warn(\n",
      "/home/dwalke/miniconda3/lib/python3.10/site-packages/joblib/externals/loky/backend/resource_tracker.py:314: UserWarning: resource_tracker: There appear to be 2 leaked folder objects to clean up at shutdown\n",
      "  warnings.warn(\n",
      "/home/dwalke/miniconda3/lib/python3.10/site-packages/joblib/externals/loky/backend/resource_tracker.py:314: UserWarning: resource_tracker: There appear to be 17 leaked semlock objects to clean up at shutdown\n",
      "  warnings.warn(\n",
      "/home/dwalke/miniconda3/lib/python3.10/site-packages/joblib/externals/loky/backend/resource_tracker.py:314: UserWarning: resource_tracker: There appear to be 2 leaked folder objects to clean up at shutdown\n",
      "  warnings.warn(\n",
      "Because the requested parallelism was None or a non-positive value, parallelism will be set to (64), which is Spark's default parallelism (64), or 1, whichever is greater. We recommend setting parallelism explicitly to a positive value because the total of Spark task slots is subject to cluster sizing.\n",
      "WARNING:hyperopt-spark:Because the requested parallelism was None or a non-positive value, parallelism will be set to (64), which is Spark's default parallelism (64), or 1, whichever is greater. We recommend setting parallelism explicitly to a positive value because the total of Spark task slots is subject to cluster sizing.\n"
     ]
    },
    {
     "name": "stdout",
     "output_type": "stream",
     "text": [
      "\n",
      "\n",
      "\n",
      "  0%|                                                                            | 0/10 [00:00<?, ?trial/s, best loss=?]\u001b[A\u001b[A\u001b[A"
     ]
    },
    {
     "name": "stderr",
     "output_type": "stream",
     "text": [
      "Multi class>                (0 + 1) / 1][Stage 111:>                (0 + 1) / 1]\n",
      "Multi class>  (0 + 1) / 1][Stage 111:>  (0 + 1) / 1][Stage 112:>  (0 + 1) / 1]\n",
      "Multi class\n",
      "Multi class\n",
      "Multi class\n",
      "Multi class\n",
      "Multi class\n",
      "Multi class\n",
      "Multi class\n",
      "Multi class\n",
      "[Stage 110:>  (0 + 1) / 1][Stage 111:>  (0 + 1) / 1][Stage 112:>  (0 + 1) / 1]  \r"
     ]
    },
    {
     "name": "stdout",
     "output_type": "stream",
     "text": [
      "\n",
      "\n",
      "\n",
      " 10%|████▊                                           | 1/10 [00:33<04:57, 33.09s/trial, best loss: -0.40817633623762856]\u001b[A\u001b[A\u001b[A"
     ]
    },
    {
     "name": "stderr",
     "output_type": "stream",
     "text": [
      "                                                                                \r"
     ]
    },
    {
     "name": "stdout",
     "output_type": "stream",
     "text": [
      "\n",
      "\n",
      "\n",
      " 20%|█████████▊                                       | 2/10 [00:49<03:04, 23.05s/trial, best loss: -0.4553291039314998]\u001b[A\u001b[A\u001b[A"
     ]
    },
    {
     "name": "stderr",
     "output_type": "stream",
     "text": [
      "/home/dwalke/miniconda3/lib/python3.10/site-packages/joblib/externals/loky/backend/resource_tracker.py:314: UserWarning: resource_tracker: There appear to be 17 leaked semlock objects to clean up at shutdown\n",
      "  warnings.warn(\n",
      "/home/dwalke/miniconda3/lib/python3.10/site-packages/joblib/externals/loky/backend/resource_tracker.py:314: UserWarning: resource_tracker: There appear to be 2 leaked folder objects to clean up at shutdown\n",
      "  warnings.warn(\n",
      "                                                                                \r"
     ]
    },
    {
     "name": "stdout",
     "output_type": "stream",
     "text": [
      "\n",
      "\n",
      "\n",
      " 30%|██████████████▍                                 | 3/10 [01:00<02:02, 17.55s/trial, best loss: -0.46620515832511245]\u001b[A\u001b[A\u001b[A"
     ]
    },
    {
     "name": "stderr",
     "output_type": "stream",
     "text": [
      "                                                                                \r"
     ]
    },
    {
     "name": "stdout",
     "output_type": "stream",
     "text": [
      "\n",
      "\n",
      "\n",
      " 40%|███████████████████▏                            | 4/10 [01:05<01:15, 12.60s/trial, best loss: -0.46620515832511245]\u001b[A\u001b[A\u001b[A"
     ]
    },
    {
     "name": "stderr",
     "output_type": "stream",
     "text": [
      "/home/dwalke/miniconda3/lib/python3.10/site-packages/joblib/externals/loky/backend/resource_tracker.py:314: UserWarning: resource_tracker: There appear to be 17 leaked semlock objects to clean up at shutdown\n",
      "  warnings.warn(\n",
      "/home/dwalke/miniconda3/lib/python3.10/site-packages/joblib/externals/loky/backend/resource_tracker.py:314: UserWarning: resource_tracker: There appear to be 2 leaked folder objects to clean up at shutdown\n",
      "  warnings.warn(\n",
      "/home/dwalke/miniconda3/lib/python3.10/site-packages/joblib/externals/loky/backend/resource_tracker.py:314: UserWarning: resource_tracker: There appear to be 17 leaked semlock objects to clean up at shutdown\n",
      "  warnings.warn(\n",
      "/home/dwalke/miniconda3/lib/python3.10/site-packages/joblib/externals/loky/backend/resource_tracker.py:314: UserWarning: resource_tracker: There appear to be 2 leaked folder objects to clean up at shutdown\n",
      "  warnings.warn(\n",
      "[Stage 110:>  (0 + 1) / 1][Stage 111:>  (0 + 1) / 1][Stage 112:>  (0 + 1) / 1]  \r"
     ]
    },
    {
     "name": "stdout",
     "output_type": "stream",
     "text": [
      "\n",
      "\n",
      "\n",
      " 50%|████████████████████████                        | 5/10 [01:17<01:01, 12.39s/trial, best loss: -0.47581194961258955]\u001b[A\u001b[A\u001b[A"
     ]
    },
    {
     "name": "stderr",
     "output_type": "stream",
     "text": [
      "[Stage 110:>  (0 + 1) / 1][Stage 112:>  (0 + 1) / 1][Stage 116:>  (0 + 1) / 1]  \r"
     ]
    },
    {
     "name": "stdout",
     "output_type": "stream",
     "text": [
      "\n",
      "\n",
      "\n",
      " 60%|█████████████████████████████▍                   | 6/10 [01:24<00:42, 10.56s/trial, best loss: -0.5212157394843963]\u001b[A\u001b[A\u001b[A\n",
      "\n",
      "\n",
      " 70%|██████████████████████████████████▎              | 7/10 [01:42<00:39, 13.00s/trial, best loss: -0.5212157394843963]\u001b[A\u001b[A\u001b[A"
     ]
    },
    {
     "name": "stderr",
     "output_type": "stream",
     "text": [
      "[Stage 110:>  (0 + 1) / 1][Stage 112:>  (0 + 1) / 1][Stage 116:>  (0 + 1) / 1]  \r"
     ]
    },
    {
     "name": "stdout",
     "output_type": "stream",
     "text": [
      "\n",
      "\n",
      "\n",
      " 80%|███████████████████████████████████████▏         | 8/10 [01:54<00:25, 12.69s/trial, best loss: -0.5277818984094961]\u001b[A\u001b[A\u001b[A"
     ]
    },
    {
     "name": "stderr",
     "output_type": "stream",
     "text": [
      "/home/dwalke/miniconda3/lib/python3.10/site-packages/joblib/externals/loky/backend/resource_tracker.py:314: UserWarning: resource_tracker: There appear to be 17 leaked semlock objects to clean up at shutdown\n",
      "  warnings.warn(\n",
      "/home/dwalke/miniconda3/lib/python3.10/site-packages/joblib/externals/loky/backend/resource_tracker.py:314: UserWarning: resource_tracker: There appear to be 2 leaked folder objects to clean up at shutdown\n",
      "  warnings.warn(\n",
      "/home/dwalke/miniconda3/lib/python3.10/site-packages/joblib/externals/loky/backend/resource_tracker.py:314: UserWarning: resource_tracker: There appear to be 17 leaked semlock objects to clean up at shutdown\n",
      "  warnings.warn(\n",
      "/home/dwalke/miniconda3/lib/python3.10/site-packages/joblib/externals/loky/backend/resource_tracker.py:314: UserWarning: resource_tracker: There appear to be 2 leaked folder objects to clean up at shutdown\n",
      "  warnings.warn(\n",
      "                                                                                \r"
     ]
    },
    {
     "name": "stdout",
     "output_type": "stream",
     "text": [
      "\n",
      "\n",
      "\n",
      " 90%|████████████████████████████████████████████     | 9/10 [02:02<00:11, 11.23s/trial, best loss: -0.6399783553098406]\u001b[A\u001b[A\u001b[A"
     ]
    },
    {
     "name": "stderr",
     "output_type": "stream",
     "text": [
      "/home/dwalke/miniconda3/lib/python3.10/site-packages/joblib/externals/loky/backend/resource_tracker.py:314: UserWarning: resource_tracker: There appear to be 17 leaked semlock objects to clean up at shutdown\n",
      "  warnings.warn(\n",
      "/home/dwalke/miniconda3/lib/python3.10/site-packages/joblib/externals/loky/backend/resource_tracker.py:314: UserWarning: resource_tracker: There appear to be 2 leaked folder objects to clean up at shutdown\n",
      "  warnings.warn(\n"
     ]
    },
    {
     "name": "stdout",
     "output_type": "stream",
     "text": [
      "\n",
      "\n",
      "\n",
      "100%|█████████████████████████████████████████████████| 10/10 [02:18<00:00, 13.83s/trial, best loss: -0.703859386686612]\u001b[A\u001b[A\u001b[A"
     ]
    },
    {
     "name": "stderr",
     "output_type": "stream",
     "text": [
      "                                                                                \r"
     ]
    },
    {
     "name": "stdout",
     "output_type": "stream",
     "text": [
      "\n"
     ]
    },
    {
     "name": "stderr",
     "output_type": "stream",
     "text": [
      "Total Trials: 10: 10 succeeded, 0 failed, 0 cancelled.\n",
      "INFO:hyperopt-spark:Total Trials: 10: 10 succeeded, 0 failed, 0 cancelled.\n"
     ]
    },
    {
     "name": "stdout",
     "output_type": "stream",
     "text": [
      "Multi class\n"
     ]
    },
    {
     "name": "stderr",
     "output_type": "stream",
     "text": [
      "Because the requested parallelism was None or a non-positive value, parallelism will be set to (64), which is Spark's default parallelism (64), or 1, whichever is greater. We recommend setting parallelism explicitly to a positive value because the total of Spark task slots is subject to cluster sizing.\n",
      "WARNING:hyperopt-spark:Because the requested parallelism was None or a non-positive value, parallelism will be set to (64), which is Spark's default parallelism (64), or 1, whichever is greater. We recommend setting parallelism explicitly to a positive value because the total of Spark task slots is subject to cluster sizing.\n"
     ]
    },
    {
     "name": "stdout",
     "output_type": "stream",
     "text": [
      "\n",
      "\n",
      "\n",
      "  0%|                                                                            | 0/10 [00:00<?, ?trial/s, best loss=?]\u001b[A\u001b[A\u001b[A"
     ]
    },
    {
     "name": "stderr",
     "output_type": "stream",
     "text": [
      "Multi class>                (0 + 1) / 1][Stage 121:>                (0 + 1) / 1]\n",
      "Multi class>  (0 + 1) / 1][Stage 121:>  (0 + 1) / 1][Stage 122:>  (0 + 1) / 1]\n",
      "Multi class\n",
      "Multi class\n",
      "Multi class\n",
      "Multi class\n",
      "Multi class\n",
      "Multi class\n",
      "Multi class\n",
      "Multi class\n",
      "/home/dwalke/miniconda3/lib/python3.10/site-packages/joblib/externals/loky/backend/resource_tracker.py:314: UserWarning: resource_tracker: There appear to be 17 leaked semlock objects to clean up at shutdown\n",
      "  warnings.warn(\n",
      "/home/dwalke/miniconda3/lib/python3.10/site-packages/joblib/externals/loky/backend/resource_tracker.py:314: UserWarning: resource_tracker: There appear to be 2 leaked folder objects to clean up at shutdown\n",
      "  warnings.warn(\n",
      "                                                                                \r"
     ]
    },
    {
     "name": "stdout",
     "output_type": "stream",
     "text": [
      "\n",
      "\n",
      "\n",
      " 10%|████▊                                           | 1/10 [00:32<04:48, 32.10s/trial, best loss: -0.39921787169227424]\u001b[A\u001b[A\u001b[A"
     ]
    },
    {
     "name": "stderr",
     "output_type": "stream",
     "text": [
      "                                                                                \r"
     ]
    },
    {
     "name": "stdout",
     "output_type": "stream",
     "text": [
      "\n",
      "\n",
      "\n",
      " 20%|█████████▌                                      | 2/10 [00:34<01:55, 14.40s/trial, best loss: -0.40145655085860477]\u001b[A\u001b[A\u001b[A"
     ]
    },
    {
     "name": "stderr",
     "output_type": "stream",
     "text": [
      "[Stage 120:>  (0 + 1) / 1][Stage 121:>  (0 + 1) / 1][Stage 125:>  (0 + 1) / 1]  \r"
     ]
    },
    {
     "name": "stdout",
     "output_type": "stream",
     "text": [
      "\n",
      "\n",
      "\n",
      " 30%|██████████████▋                                  | 3/10 [00:39<01:10, 10.11s/trial, best loss: -0.5344284950793299]\u001b[A\u001b[A\u001b[A"
     ]
    },
    {
     "name": "stderr",
     "output_type": "stream",
     "text": [
      "                                                                                \r"
     ]
    },
    {
     "name": "stdout",
     "output_type": "stream",
     "text": [
      "\n",
      "\n",
      "\n",
      " 40%|███████████████████▌                             | 4/10 [00:46<00:53,  8.89s/trial, best loss: -0.5344284950793299]\u001b[A\u001b[A\u001b[A"
     ]
    },
    {
     "name": "stderr",
     "output_type": "stream",
     "text": [
      "[Stage 120:>  (0 + 1) / 1][Stage 121:>  (0 + 1) / 1][Stage 125:>  (0 + 1) / 1]\r"
     ]
    },
    {
     "name": "stdout",
     "output_type": "stream",
     "text": [
      "\n",
      "\n",
      "\n",
      " 50%|████████████████████████▌                        | 5/10 [01:06<01:04, 12.90s/trial, best loss: -0.5344284950793299]\u001b[A\u001b[A\u001b[A"
     ]
    },
    {
     "name": "stderr",
     "output_type": "stream",
     "text": [
      "[Stage 121:>  (0 + 1) / 1][Stage 126:>  (0 + 1) / 1][Stage 127:>  (0 + 1) / 1]  \r"
     ]
    },
    {
     "name": "stdout",
     "output_type": "stream",
     "text": [
      "\n",
      "\n",
      "\n",
      " 60%|█████████████████████████████▍                   | 6/10 [02:34<02:33, 38.47s/trial, best loss: -0.5362957766315627]\u001b[A\u001b[A\u001b[A\n",
      "\n",
      "\n",
      " 70%|██████████████████████████████████▎              | 7/10 [02:46<01:29, 29.82s/trial, best loss: -0.5362957766315627]\u001b[A\u001b[A\u001b[A"
     ]
    },
    {
     "name": "stderr",
     "output_type": "stream",
     "text": [
      "/home/dwalke/miniconda3/lib/python3.10/site-packages/joblib/externals/loky/backend/resource_tracker.py:314: UserWarning: resource_tracker: There appear to be 17 leaked semlock objects to clean up at shutdown\n",
      "  warnings.warn(\n",
      "/home/dwalke/miniconda3/lib/python3.10/site-packages/joblib/externals/loky/backend/resource_tracker.py:314: UserWarning: resource_tracker: There appear to be 2 leaked folder objects to clean up at shutdown\n",
      "  warnings.warn(\n",
      "/home/dwalke/miniconda3/lib/python3.10/site-packages/joblib/externals/loky/backend/resource_tracker.py:314: UserWarning: resource_tracker: There appear to be 17 leaked semlock objects to clean up at shutdown\n",
      "  warnings.warn(\n",
      "/home/dwalke/miniconda3/lib/python3.10/site-packages/joblib/externals/loky/backend/resource_tracker.py:314: UserWarning: resource_tracker: There appear to be 2 leaked folder objects to clean up at shutdown\n",
      "  warnings.warn(\n",
      "[Stage 126:>                (0 + 1) / 1][Stage 127:>                (0 + 1) / 1]\r"
     ]
    },
    {
     "name": "stdout",
     "output_type": "stream",
     "text": [
      "\n",
      "\n",
      "\n",
      " 80%|███████████████████████████████████████▏         | 8/10 [03:10<00:55, 27.98s/trial, best loss: -0.9210243234593365]\u001b[A\u001b[A\u001b[A"
     ]
    },
    {
     "name": "stderr",
     "output_type": "stream",
     "text": [
      "/home/dwalke/miniconda3/lib/python3.10/site-packages/joblib/externals/loky/backend/resource_tracker.py:314: UserWarning: resource_tracker: There appear to be 17 leaked semlock objects to clean up at shutdown\n",
      "  warnings.warn(\n",
      "/home/dwalke/miniconda3/lib/python3.10/site-packages/joblib/externals/loky/backend/resource_tracker.py:314: UserWarning: resource_tracker: There appear to be 2 leaked folder objects to clean up at shutdown\n",
      "  warnings.warn(\n",
      "                                                                                \r"
     ]
    },
    {
     "name": "stdout",
     "output_type": "stream",
     "text": [
      "\n",
      "\n",
      "\n",
      " 90%|████████████████████████████████████████████     | 9/10 [03:27<00:24, 24.55s/trial, best loss: -0.9696697751245333]\u001b[A\u001b[A\u001b[A"
     ]
    },
    {
     "name": "stderr",
     "output_type": "stream",
     "text": [
      "/home/dwalke/miniconda3/lib/python3.10/site-packages/joblib/externals/loky/backend/resource_tracker.py:314: UserWarning: resource_tracker: There appear to be 17 leaked semlock objects to clean up at shutdown\n",
      "  warnings.warn(\n",
      "/home/dwalke/miniconda3/lib/python3.10/site-packages/joblib/externals/loky/backend/resource_tracker.py:314: UserWarning: resource_tracker: There appear to be 2 leaked folder objects to clean up at shutdown\n",
      "  warnings.warn(\n",
      "/home/dwalke/miniconda3/lib/python3.10/site-packages/joblib/externals/loky/backend/resource_tracker.py:314: UserWarning: resource_tracker: There appear to be 17 leaked semlock objects to clean up at shutdown\n",
      "  warnings.warn(\n",
      "/home/dwalke/miniconda3/lib/python3.10/site-packages/joblib/externals/loky/backend/resource_tracker.py:314: UserWarning: resource_tracker: There appear to be 2 leaked folder objects to clean up at shutdown\n",
      "  warnings.warn(\n",
      "/home/dwalke/miniconda3/lib/python3.10/site-packages/joblib/externals/loky/backend/resource_tracker.py:314: UserWarning: resource_tracker: There appear to be 17 leaked semlock objects to clean up at shutdown\n",
      "  warnings.warn(\n",
      "/home/dwalke/miniconda3/lib/python3.10/site-packages/joblib/externals/loky/backend/resource_tracker.py:314: UserWarning: resource_tracker: There appear to be 2 leaked folder objects to clean up at shutdown\n",
      "  warnings.warn(\n",
      "/home/dwalke/miniconda3/lib/python3.10/site-packages/joblib/externals/loky/backend/resource_tracker.py:314: UserWarning: resource_tracker: There appear to be 17 leaked semlock objects to clean up at shutdown\n",
      "  warnings.warn(\n",
      "/home/dwalke/miniconda3/lib/python3.10/site-packages/joblib/externals/loky/backend/resource_tracker.py:314: UserWarning: resource_tracker: There appear to be 2 leaked folder objects to clean up at shutdown\n",
      "  warnings.warn(\n",
      "/home/dwalke/miniconda3/lib/python3.10/site-packages/joblib/externals/loky/backend/resource_tracker.py:314: UserWarning: resource_tracker: There appear to be 17 leaked semlock objects to clean up at shutdown\n",
      "  warnings.warn(\n",
      "/home/dwalke/miniconda3/lib/python3.10/site-packages/joblib/externals/loky/backend/resource_tracker.py:314: UserWarning: resource_tracker: There appear to be 2 leaked folder objects to clean up at shutdown\n",
      "  warnings.warn(\n",
      "                                                                                \r"
     ]
    },
    {
     "name": "stdout",
     "output_type": "stream",
     "text": [
      "\n",
      "\n",
      "\n",
      "100%|████████████████████████████████████████████████| 10/10 [04:22<00:00, 26.24s/trial, best loss: -0.9708489166635808]\u001b[A\u001b[A\u001b[A\n"
     ]
    },
    {
     "name": "stderr",
     "output_type": "stream",
     "text": [
      "Total Trials: 10: 10 succeeded, 0 failed, 0 cancelled.\n",
      "INFO:hyperopt-spark:Total Trials: 10: 10 succeeded, 0 failed, 0 cancelled.\n"
     ]
    },
    {
     "name": "stdout",
     "output_type": "stream",
     "text": [
      "Multi class\n"
     ]
    },
    {
     "name": "stderr",
     "output_type": "stream",
     "text": [
      "/home/dwalke/miniconda3/lib/python3.10/site-packages/joblib/externals/loky/backend/resource_tracker.py:314: UserWarning: resource_tracker: There appear to be 17 leaked semlock objects to clean up at shutdown\n",
      "  warnings.warn(\n",
      "/home/dwalke/miniconda3/lib/python3.10/site-packages/joblib/externals/loky/backend/resource_tracker.py:314: UserWarning: resource_tracker: There appear to be 2 leaked folder objects to clean up at shutdown\n",
      "  warnings.warn(\n",
      "Because the requested parallelism was None or a non-positive value, parallelism will be set to (64), which is Spark's default parallelism (64), or 1, whichever is greater. We recommend setting parallelism explicitly to a positive value because the total of Spark task slots is subject to cluster sizing.\n",
      "WARNING:hyperopt-spark:Because the requested parallelism was None or a non-positive value, parallelism will be set to (64), which is Spark's default parallelism (64), or 1, whichever is greater. We recommend setting parallelism explicitly to a positive value because the total of Spark task slots is subject to cluster sizing.\n"
     ]
    },
    {
     "name": "stdout",
     "output_type": "stream",
     "text": [
      "\n",
      "\n",
      "\n",
      "  0%|                                                                            | 0/10 [00:00<?, ?trial/s, best loss=?]\u001b[A\u001b[A\u001b[A"
     ]
    },
    {
     "name": "stderr",
     "output_type": "stream",
     "text": [
      "Multi class>                (0 + 1) / 1][Stage 131:>                (0 + 1) / 1]\n",
      "/home/dwalke/miniconda3/lib/python3.10/site-packages/joblib/externals/loky/backend/resource_tracker.py:314: UserWarning: resource_tracker: There appear to be 17 leaked semlock objects to clean up at shutdown\n",
      "  warnings.warn(\n",
      "/home/dwalke/miniconda3/lib/python3.10/site-packages/joblib/externals/loky/backend/resource_tracker.py:314: UserWarning: resource_tracker: There appear to be 2 leaked folder objects to clean up at shutdown\n",
      "  warnings.warn(\n",
      "Multi class>  (0 + 1) / 1][Stage 131:>  (0 + 1) / 1][Stage 132:>  (0 + 1) / 1]\n",
      "/home/dwalke/miniconda3/lib/python3.10/site-packages/joblib/externals/loky/backend/resource_tracker.py:314: UserWarning: resource_tracker: There appear to be 17 leaked semlock objects to clean up at shutdown\n",
      "  warnings.warn(\n",
      "/home/dwalke/miniconda3/lib/python3.10/site-packages/joblib/externals/loky/backend/resource_tracker.py:314: UserWarning: resource_tracker: There appear to be 2 leaked folder objects to clean up at shutdown\n",
      "  warnings.warn(\n",
      "Multi class\n",
      "Multi class\n",
      "Multi class\n",
      "/home/dwalke/miniconda3/lib/python3.10/site-packages/joblib/externals/loky/backend/resource_tracker.py:314: UserWarning: resource_tracker: There appear to be 17 leaked semlock objects to clean up at shutdown\n",
      "  warnings.warn(\n",
      "/home/dwalke/miniconda3/lib/python3.10/site-packages/joblib/externals/loky/backend/resource_tracker.py:314: UserWarning: resource_tracker: There appear to be 2 leaked folder objects to clean up at shutdown\n",
      "  warnings.warn(\n",
      "Multi class\n",
      "Multi class\n",
      "Multi class\n",
      "Multi class\n",
      "Multi class\n",
      "/home/dwalke/miniconda3/lib/python3.10/site-packages/joblib/externals/loky/backend/resource_tracker.py:314: UserWarning: resource_tracker: There appear to be 17 leaked semlock objects to clean up at shutdown\n",
      "  warnings.warn(\n",
      "/home/dwalke/miniconda3/lib/python3.10/site-packages/joblib/externals/loky/backend/resource_tracker.py:314: UserWarning: resource_tracker: There appear to be 2 leaked folder objects to clean up at shutdown\n",
      "  warnings.warn(\n",
      "/home/dwalke/miniconda3/lib/python3.10/site-packages/joblib/externals/loky/backend/resource_tracker.py:314: UserWarning: resource_tracker: There appear to be 17 leaked semlock objects to clean up at shutdown\n",
      "  warnings.warn(\n",
      "/home/dwalke/miniconda3/lib/python3.10/site-packages/joblib/externals/loky/backend/resource_tracker.py:314: UserWarning: resource_tracker: There appear to be 2 leaked folder objects to clean up at shutdown\n",
      "  warnings.warn(\n",
      "                                                                                \r"
     ]
    },
    {
     "name": "stdout",
     "output_type": "stream",
     "text": [
      "\n",
      "\n",
      "\n",
      " 10%|████▉                                            | 1/10 [00:43<06:28, 43.11s/trial, best loss: -0.4582997013767473]\u001b[A\u001b[A\u001b[A"
     ]
    },
    {
     "name": "stderr",
     "output_type": "stream",
     "text": [
      "[Stage 130:>  (0 + 1) / 1][Stage 131:>  (0 + 1) / 1][Stage 132:>  (0 + 1) / 1]\r"
     ]
    },
    {
     "name": "stdout",
     "output_type": "stream",
     "text": [
      "\n",
      "\n",
      "\n",
      " 20%|█████████▊                                       | 2/10 [01:01<03:46, 28.35s/trial, best loss: -0.5044995222594255]\u001b[A\u001b[A\u001b[A"
     ]
    },
    {
     "name": "stderr",
     "output_type": "stream",
     "text": [
      "                                                                                \r"
     ]
    },
    {
     "name": "stdout",
     "output_type": "stream",
     "text": [
      "\n",
      "\n",
      "\n",
      " 30%|██████████████▋                                  | 3/10 [01:02<01:51, 15.87s/trial, best loss: -0.5044995222594255]\u001b[A\u001b[A\u001b[A"
     ]
    },
    {
     "name": "stderr",
     "output_type": "stream",
     "text": [
      "[Stage 132:>  (0 + 1) / 1][Stage 133:>  (0 + 1) / 1][Stage 135:>  (0 + 1) / 1]  \r"
     ]
    },
    {
     "name": "stdout",
     "output_type": "stream",
     "text": [
      "\n",
      "\n",
      "\n",
      " 40%|████████████████████                              | 4/10 [01:14<01:26, 14.35s/trial, best loss: -0.556122394125426]\u001b[A\u001b[A\u001b[A"
     ]
    },
    {
     "name": "stderr",
     "output_type": "stream",
     "text": [
      "                                                                                \r"
     ]
    },
    {
     "name": "stdout",
     "output_type": "stream",
     "text": [
      "\n",
      "\n",
      "\n",
      " 50%|████████████████████████▌                        | 5/10 [01:27<01:09, 13.87s/trial, best loss: -0.9442091744327724]\u001b[A\u001b[A\u001b[A"
     ]
    },
    {
     "name": "stderr",
     "output_type": "stream",
     "text": [
      "                                                                                \r"
     ]
    },
    {
     "name": "stdout",
     "output_type": "stream",
     "text": [
      "\n",
      "\n",
      "\n",
      " 60%|█████████████████████████████▍                   | 6/10 [01:30<00:40, 10.17s/trial, best loss: -0.9442091744327724]\u001b[A\u001b[A\u001b[A"
     ]
    },
    {
     "name": "stderr",
     "output_type": "stream",
     "text": [
      "                                                                                \r"
     ]
    },
    {
     "name": "stdout",
     "output_type": "stream",
     "text": [
      "\n",
      "\n",
      "\n",
      " 70%|██████████████████████████████████▎              | 7/10 [01:37<00:27,  9.14s/trial, best loss: -0.9442091744327724]\u001b[A\u001b[A\u001b[A"
     ]
    },
    {
     "name": "stderr",
     "output_type": "stream",
     "text": [
      "/home/dwalke/miniconda3/lib/python3.10/site-packages/joblib/externals/loky/backend/resource_tracker.py:314: UserWarning: resource_tracker: There appear to be 17 leaked semlock objects to clean up at shutdown\n",
      "  warnings.warn(\n",
      "/home/dwalke/miniconda3/lib/python3.10/site-packages/joblib/externals/loky/backend/resource_tracker.py:314: UserWarning: resource_tracker: There appear to be 2 leaked folder objects to clean up at shutdown\n",
      "  warnings.warn(\n",
      "[Stage 135:>                (0 + 1) / 1][Stage 137:>                (0 + 1) / 1]\r"
     ]
    },
    {
     "name": "stdout",
     "output_type": "stream",
     "text": [
      "\n",
      "\n",
      "\n",
      " 80%|███████████████████████████████████████▏         | 8/10 [02:08<00:32, 16.11s/trial, best loss: -0.9442091744327724]\u001b[A\u001b[A\u001b[A\n",
      "\n",
      "\n",
      " 90%|████████████████████████████████████████████     | 9/10 [02:18<00:14, 14.21s/trial, best loss: -0.9442091744327724]\u001b[A\u001b[A\u001b[A"
     ]
    },
    {
     "name": "stderr",
     "output_type": "stream",
     "text": [
      "/home/dwalke/miniconda3/lib/python3.10/site-packages/joblib/externals/loky/backend/resource_tracker.py:314: UserWarning: resource_tracker: There appear to be 17 leaked semlock objects to clean up at shutdown\n",
      "  warnings.warn(\n",
      "/home/dwalke/miniconda3/lib/python3.10/site-packages/joblib/externals/loky/backend/resource_tracker.py:314: UserWarning: resource_tracker: There appear to be 2 leaked folder objects to clean up at shutdown\n",
      "  warnings.warn(\n",
      "/home/dwalke/miniconda3/lib/python3.10/site-packages/joblib/externals/loky/backend/resource_tracker.py:314: UserWarning: resource_tracker: There appear to be 17 leaked semlock objects to clean up at shutdown\n",
      "  warnings.warn(\n",
      "/home/dwalke/miniconda3/lib/python3.10/site-packages/joblib/externals/loky/backend/resource_tracker.py:314: UserWarning: resource_tracker: There appear to be 2 leaked folder objects to clean up at shutdown\n",
      "  warnings.warn(\n"
     ]
    },
    {
     "name": "stdout",
     "output_type": "stream",
     "text": [
      "\n",
      "\n",
      "\n",
      "100%|████████████████████████████████████████████████| 10/10 [02:29<00:00, 14.93s/trial, best loss: -0.9442091744327724]\u001b[A\u001b[A\u001b[A"
     ]
    },
    {
     "name": "stderr",
     "output_type": "stream",
     "text": [
      "                                                                                \r"
     ]
    },
    {
     "name": "stdout",
     "output_type": "stream",
     "text": [
      "\n"
     ]
    },
    {
     "name": "stderr",
     "output_type": "stream",
     "text": [
      "Total Trials: 10: 10 succeeded, 0 failed, 0 cancelled.\n",
      "INFO:hyperopt-spark:Total Trials: 10: 10 succeeded, 0 failed, 0 cancelled.\n"
     ]
    },
    {
     "name": "stdout",
     "output_type": "stream",
     "text": [
      "Multi class\n"
     ]
    },
    {
     "name": "stderr",
     "output_type": "stream",
     "text": [
      "/home/dwalke/miniconda3/lib/python3.10/site-packages/joblib/externals/loky/backend/resource_tracker.py:314: UserWarning: resource_tracker: There appear to be 17 leaked semlock objects to clean up at shutdown\n",
      "  warnings.warn(\n",
      "/home/dwalke/miniconda3/lib/python3.10/site-packages/joblib/externals/loky/backend/resource_tracker.py:314: UserWarning: resource_tracker: There appear to be 2 leaked folder objects to clean up at shutdown\n",
      "  warnings.warn(\n",
      "Because the requested parallelism was None or a non-positive value, parallelism will be set to (64), which is Spark's default parallelism (64), or 1, whichever is greater. We recommend setting parallelism explicitly to a positive value because the total of Spark task slots is subject to cluster sizing.\n",
      "WARNING:hyperopt-spark:Because the requested parallelism was None or a non-positive value, parallelism will be set to (64), which is Spark's default parallelism (64), or 1, whichever is greater. We recommend setting parallelism explicitly to a positive value because the total of Spark task slots is subject to cluster sizing.\n"
     ]
    },
    {
     "name": "stdout",
     "output_type": "stream",
     "text": [
      "\n",
      "\n",
      "\n",
      "  0%|                                                                            | 0/10 [00:00<?, ?trial/s, best loss=?]\u001b[A\u001b[A\u001b[A"
     ]
    },
    {
     "name": "stderr",
     "output_type": "stream",
     "text": [
      "Multi class>                (0 + 1) / 1][Stage 141:>                (0 + 1) / 1]\n",
      "Multi class>  (0 + 1) / 1][Stage 141:>  (0 + 1) / 1][Stage 142:>  (0 + 1) / 1]\n",
      "Multi class\n",
      "Multi class\n",
      "Multi class\n",
      "Multi class\n",
      "Multi class\n",
      "/home/dwalke/miniconda3/lib/python3.10/site-packages/joblib/externals/loky/backend/resource_tracker.py:314: UserWarning: resource_tracker: There appear to be 17 leaked semlock objects to clean up at shutdown\n",
      "  warnings.warn(\n",
      "/home/dwalke/miniconda3/lib/python3.10/site-packages/joblib/externals/loky/backend/resource_tracker.py:314: UserWarning: resource_tracker: There appear to be 2 leaked folder objects to clean up at shutdown\n",
      "  warnings.warn(\n",
      "Multi class\n",
      "Multi class\n",
      "Multi class\n",
      "                                                                                \r"
     ]
    },
    {
     "name": "stdout",
     "output_type": "stream",
     "text": [
      "\n",
      "\n",
      "\n",
      " 10%|████▉                                            | 1/10 [00:53<07:58, 53.12s/trial, best loss: -0.4179173785951146]\u001b[A\u001b[A\u001b[A"
     ]
    },
    {
     "name": "stderr",
     "output_type": "stream",
     "text": [
      "[Stage 140:>  (0 + 1) / 1][Stage 141:>  (0 + 1) / 1][Stage 142:>  (0 + 1) / 1]\r"
     ]
    },
    {
     "name": "stdout",
     "output_type": "stream",
     "text": [
      "\n",
      "\n",
      "\n",
      " 20%|█████████▊                                       | 2/10 [00:55<03:04, 23.05s/trial, best loss: -0.5265509177550299]\u001b[A\u001b[A\u001b[A"
     ]
    },
    {
     "name": "stderr",
     "output_type": "stream",
     "text": [
      "[Stage 140:>  (0 + 1) / 1][Stage 141:>  (0 + 1) / 1][Stage 143:>  (0 + 1) / 1]  \r"
     ]
    },
    {
     "name": "stdout",
     "output_type": "stream",
     "text": [
      "\n",
      "\n",
      "\n",
      " 30%|██████████████▋                                  | 3/10 [01:00<01:43, 14.81s/trial, best loss: -0.5265509177550299]\u001b[A\u001b[A\u001b[A"
     ]
    },
    {
     "name": "stderr",
     "output_type": "stream",
     "text": [
      "/home/dwalke/miniconda3/lib/python3.10/site-packages/joblib/externals/loky/backend/resource_tracker.py:314: UserWarning: resource_tracker: There appear to be 17 leaked semlock objects to clean up at shutdown\n",
      "  warnings.warn(\n",
      "/home/dwalke/miniconda3/lib/python3.10/site-packages/joblib/externals/loky/backend/resource_tracker.py:314: UserWarning: resource_tracker: There appear to be 2 leaked folder objects to clean up at shutdown\n",
      "  warnings.warn(\n",
      "[Stage 140:>  (0 + 1) / 1][Stage 141:>  (0 + 1) / 1][Stage 143:>  (0 + 1) / 1]  \r"
     ]
    },
    {
     "name": "stdout",
     "output_type": "stream",
     "text": [
      "\n",
      "\n",
      "\n",
      " 40%|████████████████████▍                              | 4/10 [01:16<01:31, 15.29s/trial, best loss: -0.68973938046781]\u001b[A\u001b[A\u001b[A"
     ]
    },
    {
     "name": "stderr",
     "output_type": "stream",
     "text": [
      "                                                                                \r"
     ]
    },
    {
     "name": "stdout",
     "output_type": "stream",
     "text": [
      "\n",
      "\n",
      "\n",
      " 50%|█████████████████████████▌                         | 5/10 [01:32<01:17, 15.55s/trial, best loss: -0.68973938046781]\u001b[A\u001b[A\u001b[A"
     ]
    },
    {
     "name": "stderr",
     "output_type": "stream",
     "text": [
      "                                                                                \r"
     ]
    },
    {
     "name": "stdout",
     "output_type": "stream",
     "text": [
      "\n",
      "\n",
      "\n",
      " 60%|█████████████████████████████▍                   | 6/10 [02:02<01:21, 20.48s/trial, best loss: -0.9645281970110495]\u001b[A\u001b[A\u001b[A"
     ]
    },
    {
     "name": "stderr",
     "output_type": "stream",
     "text": [
      "                                                                                \r"
     ]
    },
    {
     "name": "stdout",
     "output_type": "stream",
     "text": [
      "\n",
      "\n",
      "\n",
      " 70%|██████████████████████████████████▎              | 7/10 [02:03<00:42, 14.11s/trial, best loss: -0.9645281970110495]\u001b[A\u001b[A\u001b[A"
     ]
    },
    {
     "name": "stderr",
     "output_type": "stream",
     "text": [
      "                                                                                \r"
     ]
    },
    {
     "name": "stdout",
     "output_type": "stream",
     "text": [
      "\n",
      "\n",
      "\n",
      " 80%|███████████████████████████████████████▏         | 8/10 [02:40<00:42, 21.41s/trial, best loss: -0.9727738907479032]\u001b[A\u001b[A\u001b[A"
     ]
    },
    {
     "name": "stderr",
     "output_type": "stream",
     "text": [
      "                                                                                \r"
     ]
    },
    {
     "name": "stdout",
     "output_type": "stream",
     "text": [
      "\n",
      "\n",
      "\n",
      " 90%|████████████████████████████████████████████     | 9/10 [02:42<00:15, 15.34s/trial, best loss: -0.9727738907479032]\u001b[A\u001b[A\u001b[A"
     ]
    },
    {
     "name": "stderr",
     "output_type": "stream",
     "text": [
      "                                                                                \r"
     ]
    },
    {
     "name": "stdout",
     "output_type": "stream",
     "text": [
      "\n",
      "\n",
      "\n",
      "100%|████████████████████████████████████████████████| 10/10 [03:24<00:00, 20.43s/trial, best loss: -0.9727738907479032]\u001b[A\u001b[A\u001b[A\n"
     ]
    },
    {
     "name": "stderr",
     "output_type": "stream",
     "text": [
      "Total Trials: 10: 10 succeeded, 0 failed, 0 cancelled.\n",
      "INFO:hyperopt-spark:Total Trials: 10: 10 succeeded, 0 failed, 0 cancelled.\n"
     ]
    },
    {
     "name": "stdout",
     "output_type": "stream",
     "text": [
      "Multi class\n"
     ]
    },
    {
     "name": "stderr",
     "output_type": "stream",
     "text": [
      "/home/dwalke/miniconda3/lib/python3.10/site-packages/joblib/externals/loky/backend/resource_tracker.py:314: UserWarning: resource_tracker: There appear to be 17 leaked semlock objects to clean up at shutdown\n",
      "  warnings.warn(\n",
      "/home/dwalke/miniconda3/lib/python3.10/site-packages/joblib/externals/loky/backend/resource_tracker.py:314: UserWarning: resource_tracker: There appear to be 2 leaked folder objects to clean up at shutdown\n",
      "  warnings.warn(\n",
      "/home/dwalke/miniconda3/lib/python3.10/site-packages/joblib/externals/loky/backend/resource_tracker.py:314: UserWarning: resource_tracker: There appear to be 17 leaked semlock objects to clean up at shutdown\n",
      "  warnings.warn(\n",
      "/home/dwalke/miniconda3/lib/python3.10/site-packages/joblib/externals/loky/backend/resource_tracker.py:314: UserWarning: resource_tracker: There appear to be 2 leaked folder objects to clean up at shutdown\n",
      "  warnings.warn(\n",
      "/home/dwalke/miniconda3/lib/python3.10/site-packages/joblib/externals/loky/backend/resource_tracker.py:314: UserWarning: resource_tracker: There appear to be 17 leaked semlock objects to clean up at shutdown\n",
      "  warnings.warn(\n",
      "/home/dwalke/miniconda3/lib/python3.10/site-packages/joblib/externals/loky/backend/resource_tracker.py:314: UserWarning: resource_tracker: There appear to be 2 leaked folder objects to clean up at shutdown\n",
      "  warnings.warn(\n",
      "/home/dwalke/miniconda3/lib/python3.10/site-packages/joblib/externals/loky/backend/resource_tracker.py:314: UserWarning: resource_tracker: There appear to be 17 leaked semlock objects to clean up at shutdown\n",
      "  warnings.warn(\n",
      "/home/dwalke/miniconda3/lib/python3.10/site-packages/joblib/externals/loky/backend/resource_tracker.py:314: UserWarning: resource_tracker: There appear to be 2 leaked folder objects to clean up at shutdown\n",
      "  warnings.warn(\n",
      "/home/dwalke/miniconda3/lib/python3.10/site-packages/joblib/externals/loky/backend/resource_tracker.py:314: UserWarning: resource_tracker: There appear to be 17 leaked semlock objects to clean up at shutdown\n",
      "  warnings.warn(\n",
      "/home/dwalke/miniconda3/lib/python3.10/site-packages/joblib/externals/loky/backend/resource_tracker.py:314: UserWarning: resource_tracker: There appear to be 2 leaked folder objects to clean up at shutdown\n",
      "  warnings.warn(\n",
      "/home/dwalke/miniconda3/lib/python3.10/site-packages/joblib/externals/loky/backend/resource_tracker.py:314: UserWarning: resource_tracker: There appear to be 17 leaked semlock objects to clean up at shutdown\n",
      "  warnings.warn(\n",
      "/home/dwalke/miniconda3/lib/python3.10/site-packages/joblib/externals/loky/backend/resource_tracker.py:314: UserWarning: resource_tracker: There appear to be 2 leaked folder objects to clean up at shutdown\n",
      "  warnings.warn(\n",
      "Because the requested parallelism was None or a non-positive value, parallelism will be set to (64), which is Spark's default parallelism (64), or 1, whichever is greater. We recommend setting parallelism explicitly to a positive value because the total of Spark task slots is subject to cluster sizing.\n",
      "WARNING:hyperopt-spark:Because the requested parallelism was None or a non-positive value, parallelism will be set to (64), which is Spark's default parallelism (64), or 1, whichever is greater. We recommend setting parallelism explicitly to a positive value because the total of Spark task slots is subject to cluster sizing.\n"
     ]
    },
    {
     "name": "stdout",
     "output_type": "stream",
     "text": [
      "\n",
      "\n",
      "\n",
      "  0%|                                                                            | 0/10 [00:00<?, ?trial/s, best loss=?]\u001b[A\u001b[A\u001b[A"
     ]
    },
    {
     "name": "stderr",
     "output_type": "stream",
     "text": [
      "Multi class>  (0 + 1) / 1][Stage 151:>  (0 + 1) / 1][Stage 152:>  (0 + 1) / 1]1]\n",
      "Multi class\n",
      "/home/dwalke/miniconda3/lib/python3.10/site-packages/joblib/externals/loky/backend/resource_tracker.py:314: UserWarning: resource_tracker: There appear to be 17 leaked semlock objects to clean up at shutdown\n",
      "  warnings.warn(\n",
      "/home/dwalke/miniconda3/lib/python3.10/site-packages/joblib/externals/loky/backend/resource_tracker.py:314: UserWarning: resource_tracker: There appear to be 2 leaked folder objects to clean up at shutdown\n",
      "  warnings.warn(\n",
      "Multi class\n",
      "Multi class\n",
      "Multi class\n",
      "Multi class\n",
      "Multi class\n",
      "Multi class\n",
      "Multi class\n",
      "Multi class\n",
      "                                                                                \r"
     ]
    },
    {
     "name": "stdout",
     "output_type": "stream",
     "text": [
      "\n",
      "\n",
      "\n",
      " 10%|████▊                                           | 1/10 [00:37<05:33, 37.10s/trial, best loss: -0.40790388243471354]\u001b[A\u001b[A\u001b[A"
     ]
    },
    {
     "name": "stderr",
     "output_type": "stream",
     "text": [
      "/home/dwalke/miniconda3/lib/python3.10/site-packages/joblib/externals/loky/backend/resource_tracker.py:314: UserWarning: resource_tracker: There appear to be 17 leaked semlock objects to clean up at shutdown\n",
      "  warnings.warn(\n",
      "/home/dwalke/miniconda3/lib/python3.10/site-packages/joblib/externals/loky/backend/resource_tracker.py:314: UserWarning: resource_tracker: There appear to be 2 leaked folder objects to clean up at shutdown\n",
      "  warnings.warn(\n",
      "                                                                                \r"
     ]
    },
    {
     "name": "stdout",
     "output_type": "stream",
     "text": [
      "\n",
      "\n",
      "\n",
      " 20%|█████████▊                                       | 2/10 [00:47<02:49, 21.17s/trial, best loss: -0.4842165731559046]\u001b[A\u001b[A\u001b[A"
     ]
    },
    {
     "name": "stderr",
     "output_type": "stream",
     "text": [
      "/home/dwalke/miniconda3/lib/python3.10/site-packages/joblib/externals/loky/backend/resource_tracker.py:314: UserWarning: resource_tracker: There appear to be 17 leaked semlock objects to clean up at shutdown\n",
      "  warnings.warn(\n",
      "/home/dwalke/miniconda3/lib/python3.10/site-packages/joblib/externals/loky/backend/resource_tracker.py:314: UserWarning: resource_tracker: There appear to be 2 leaked folder objects to clean up at shutdown\n",
      "  warnings.warn(\n",
      "                                                                                \r"
     ]
    },
    {
     "name": "stdout",
     "output_type": "stream",
     "text": [
      "\n",
      "\n",
      "\n",
      " 30%|██████████████▋                                  | 3/10 [00:55<01:46, 15.16s/trial, best loss: -0.4842165731559046]\u001b[A\u001b[A\u001b[A"
     ]
    },
    {
     "name": "stderr",
     "output_type": "stream",
     "text": [
      "/home/dwalke/miniconda3/lib/python3.10/site-packages/joblib/externals/loky/backend/resource_tracker.py:314: UserWarning: resource_tracker: There appear to be 17 leaked semlock objects to clean up at shutdown\n",
      "  warnings.warn(\n",
      "/home/dwalke/miniconda3/lib/python3.10/site-packages/joblib/externals/loky/backend/resource_tracker.py:314: UserWarning: resource_tracker: There appear to be 2 leaked folder objects to clean up at shutdown\n",
      "  warnings.warn(\n",
      "                                                                                \r"
     ]
    },
    {
     "name": "stdout",
     "output_type": "stream",
     "text": [
      "\n",
      "\n",
      "\n"
     ]
    },
    {
     "name": "stderr",
     "output_type": "stream",
     "text": [
      "[Stage 150:>  (0 + 1) / 1][Stage 151:>  (0 + 1) / 1][Stage 153:>  (0 + 1) / 1]\r"
     ]
    },
    {
     "name": "stdout",
     "output_type": "stream",
     "text": [
      " 40%|████████████████████                              | 4/10 [01:38<02:37, 26.17s/trial, best loss: -0.924085175111261]\u001b[A\u001b[A\u001b[A"
     ]
    },
    {
     "name": "stderr",
     "output_type": "stream",
     "text": [
      "/home/dwalke/miniconda3/lib/python3.10/site-packages/joblib/externals/loky/backend/resource_tracker.py:314: UserWarning: resource_tracker: There appear to be 17 leaked semlock objects to clean up at shutdown\n",
      "  warnings.warn(\n",
      "/home/dwalke/miniconda3/lib/python3.10/site-packages/joblib/externals/loky/backend/resource_tracker.py:314: UserWarning: resource_tracker: There appear to be 2 leaked folder objects to clean up at shutdown\n",
      "  warnings.warn(\n",
      "/home/dwalke/miniconda3/lib/python3.10/site-packages/joblib/externals/loky/backend/resource_tracker.py:314: UserWarning: resource_tracker: There appear to be 17 leaked semlock objects to clean up at shutdown\n",
      "  warnings.warn(\n",
      "/home/dwalke/miniconda3/lib/python3.10/site-packages/joblib/externals/loky/backend/resource_tracker.py:314: UserWarning: resource_tracker: There appear to be 2 leaked folder objects to clean up at shutdown\n",
      "  warnings.warn(\n",
      "/home/dwalke/miniconda3/lib/python3.10/site-packages/joblib/externals/loky/backend/resource_tracker.py:314: UserWarning: resource_tracker: There appear to be 17 leaked semlock objects to clean up at shutdown\n",
      "  warnings.warn(\n",
      "/home/dwalke/miniconda3/lib/python3.10/site-packages/joblib/externals/loky/backend/resource_tracker.py:314: UserWarning: resource_tracker: There appear to be 2 leaked folder objects to clean up at shutdown\n",
      "  warnings.warn(\n",
      "/home/dwalke/miniconda3/lib/python3.10/site-packages/joblib/externals/loky/backend/resource_tracker.py:314: UserWarning: resource_tracker: There appear to be 17 leaked semlock objects to clean up at shutdown\n",
      "  warnings.warn(\n",
      "/home/dwalke/miniconda3/lib/python3.10/site-packages/joblib/externals/loky/backend/resource_tracker.py:314: UserWarning: resource_tracker: There appear to be 2 leaked folder objects to clean up at shutdown\n",
      "  warnings.warn(\n",
      "[Stage 150:>  (0 + 1) / 1][Stage 153:>  (0 + 1) / 1][Stage 155:>  (0 + 1) / 1]  \r"
     ]
    },
    {
     "name": "stdout",
     "output_type": "stream",
     "text": [
      "\n",
      "\n",
      "\n",
      " 50%|█████████████████████████                         | 5/10 [02:40<03:15, 39.12s/trial, best loss: -0.924085175111261]\u001b[A\u001b[A\u001b[A"
     ]
    },
    {
     "name": "stderr",
     "output_type": "stream",
     "text": [
      "/home/dwalke/miniconda3/lib/python3.10/site-packages/joblib/externals/loky/backend/resource_tracker.py:314: UserWarning: resource_tracker: There appear to be 17 leaked semlock objects to clean up at shutdown\n",
      "  warnings.warn(\n",
      "/home/dwalke/miniconda3/lib/python3.10/site-packages/joblib/externals/loky/backend/resource_tracker.py:314: UserWarning: resource_tracker: There appear to be 2 leaked folder objects to clean up at shutdown\n",
      "  warnings.warn(\n",
      "/home/dwalke/miniconda3/lib/python3.10/site-packages/joblib/externals/loky/backend/resource_tracker.py:314: UserWarning: resource_tracker: There appear to be 17 leaked semlock objects to clean up at shutdown\n",
      "  warnings.warn(\n",
      "/home/dwalke/miniconda3/lib/python3.10/site-packages/joblib/externals/loky/backend/resource_tracker.py:314: UserWarning: resource_tracker: There appear to be 2 leaked folder objects to clean up at shutdown\n",
      "  warnings.warn(\n",
      "/home/dwalke/miniconda3/lib/python3.10/site-packages/joblib/externals/loky/backend/resource_tracker.py:314: UserWarning: resource_tracker: There appear to be 17 leaked semlock objects to clean up at shutdown\n",
      "  warnings.warn(\n",
      "/home/dwalke/miniconda3/lib/python3.10/site-packages/joblib/externals/loky/backend/resource_tracker.py:314: UserWarning: resource_tracker: There appear to be 2 leaked folder objects to clean up at shutdown\n",
      "  warnings.warn(\n"
     ]
    },
    {
     "name": "stdout",
     "output_type": "stream",
     "text": [
      "\n",
      "\n",
      "\n",
      " 60%|██████████████████████████████                    | 6/10 [03:39<03:03, 45.90s/trial, best loss: -0.924085175111261]\u001b[A\u001b[A\u001b[A"
     ]
    },
    {
     "name": "stderr",
     "output_type": "stream",
     "text": [
      "                                                                                \r"
     ]
    },
    {
     "name": "stdout",
     "output_type": "stream",
     "text": [
      "\n",
      "\n",
      "\n",
      " 70%|███████████████████████████████████               | 7/10 [03:40<01:33, 31.22s/trial, best loss: -0.924085175111261]\u001b[A\u001b[A\u001b[A"
     ]
    },
    {
     "name": "stderr",
     "output_type": "stream",
     "text": [
      "[Stage 158:>                (0 + 1) / 1][Stage 159:>                (0 + 1) / 1]\r"
     ]
    },
    {
     "name": "stdout",
     "output_type": "stream",
     "text": [
      "\n",
      "\n",
      "\n",
      " 80%|███████████████████████████████████████▏         | 8/10 [03:41<00:43, 21.60s/trial, best loss: -0.9723712341658246]\u001b[A\u001b[A\u001b[A"
     ]
    },
    {
     "name": "stderr",
     "output_type": "stream",
     "text": [
      "                                                                                \r"
     ]
    },
    {
     "name": "stdout",
     "output_type": "stream",
     "text": [
      "\n",
      "\n",
      "\n",
      " 90%|████████████████████████████████████████████     | 9/10 [03:47<00:16, 16.73s/trial, best loss: -0.9723712341658246]\u001b[A\u001b[A\u001b[A"
     ]
    },
    {
     "name": "stderr",
     "output_type": "stream",
     "text": [
      "/home/dwalke/miniconda3/lib/python3.10/site-packages/joblib/externals/loky/backend/resource_tracker.py:314: UserWarning: resource_tracker: There appear to be 17 leaked semlock objects to clean up at shutdown\n",
      "  warnings.warn(\n",
      "/home/dwalke/miniconda3/lib/python3.10/site-packages/joblib/externals/loky/backend/resource_tracker.py:314: UserWarning: resource_tracker: There appear to be 2 leaked folder objects to clean up at shutdown\n",
      "  warnings.warn(\n",
      "/home/dwalke/miniconda3/lib/python3.10/site-packages/joblib/externals/loky/backend/resource_tracker.py:314: UserWarning: resource_tracker: There appear to be 17 leaked semlock objects to clean up at shutdown\n",
      "  warnings.warn(\n",
      "/home/dwalke/miniconda3/lib/python3.10/site-packages/joblib/externals/loky/backend/resource_tracker.py:314: UserWarning: resource_tracker: There appear to be 2 leaked folder objects to clean up at shutdown\n",
      "  warnings.warn(\n"
     ]
    },
    {
     "name": "stdout",
     "output_type": "stream",
     "text": [
      "\n",
      "\n",
      "\n",
      "100%|████████████████████████████████████████████████| 10/10 [04:21<00:00, 26.14s/trial, best loss: -0.9723712341658246]\u001b[A\u001b[A\u001b[A"
     ]
    },
    {
     "name": "stderr",
     "output_type": "stream",
     "text": [
      "                                                                                \r"
     ]
    },
    {
     "name": "stdout",
     "output_type": "stream",
     "text": [
      "\n"
     ]
    },
    {
     "name": "stderr",
     "output_type": "stream",
     "text": [
      "Total Trials: 10: 10 succeeded, 0 failed, 0 cancelled.\n",
      "INFO:hyperopt-spark:Total Trials: 10: 10 succeeded, 0 failed, 0 cancelled.\n"
     ]
    },
    {
     "name": "stdout",
     "output_type": "stream",
     "text": [
      "Multi class\n"
     ]
    },
    {
     "name": "stderr",
     "output_type": "stream",
     "text": [
      "/home/dwalke/miniconda3/lib/python3.10/site-packages/joblib/externals/loky/backend/resource_tracker.py:314: UserWarning: resource_tracker: There appear to be 17 leaked semlock objects to clean up at shutdown\n",
      "  warnings.warn(\n",
      "/home/dwalke/miniconda3/lib/python3.10/site-packages/joblib/externals/loky/backend/resource_tracker.py:314: UserWarning: resource_tracker: There appear to be 2 leaked folder objects to clean up at shutdown\n",
      "  warnings.warn(\n"
     ]
    }
   ],
   "source": [
    "from AutoTune import AutoSearch\n",
    "from sklearn.metrics import f1_score\n",
    "\n",
    "searcher = AutoSearch(complete_data, multi_target_class=True, max_evals=10, pred_metric = f1_score, pred_metric_kwargs={\"average\":\"micro\"})\n",
    "store = searcher.search(clfs, clfs_space, hops=[5])"
   ]
  },
  {
   "cell_type": "code",
   "execution_count": 27,
   "id": "8772106b-c950-4096-b23b-05a5a2b5fcf1",
   "metadata": {},
   "outputs": [],
   "source": [
    "framework = Framework(hops_list= [5],\n",
    "                      clfs=[store[\"XGBClassifier\"][5][\"model\"].estimator],\n",
    "                      attention_configs=[store[\"XGBClassifier\"][5][\"attention_config\"]],\n",
    "                      handle_nan=0.0,\n",
    "                      gpu_idx=0,\n",
    "                      user_functions=[store[\"XGBClassifier\"][5][\"user_function\"]],\n",
    "                      multi_target_class=True)\n",
    "# framework.fit(X_train=complete_set.x, edge_index=complete_set.edge_index,y_train=complete_set.y, train_mask=train_mask,\n",
    "#              kwargs_multi_clf_list=[{\"n_jobs\":-1}])"
   ]
  },
  {
   "cell_type": "code",
   "execution_count": 28,
   "id": "fa3e5ead-1d74-4a92-9e73-fc34927777a9",
   "metadata": {},
   "outputs": [
    {
     "data": {
      "text/plain": [
       "[MultiOutputClassifier(estimator=XGBClassifier(alpha=0.19757862964025008,\n",
       "                                               base_score=None, booster='gbtree',\n",
       "                                               callbacks=None,\n",
       "                                               colsample_bylevel=None,\n",
       "                                               colsample_bynode=None,\n",
       "                                               colsample_bytree=None,\n",
       "                                               device=None,\n",
       "                                               early_stopping_rounds=None,\n",
       "                                               enable_categorical=False,\n",
       "                                               eta=0.3253143884434358,\n",
       "                                               eval_metric=None,\n",
       "                                               feature_types=None, gamma=None,\n",
       "                                               grow_policy=None,\n",
       "                                               importance_type=None,\n",
       "                                               interaction_constraints=None,\n",
       "                                               learning_rate=None, max_bin=None,\n",
       "                                               max_cat_threshold=None,\n",
       "                                               max_cat_to_onehot=None,\n",
       "                                               max_delta_step=2, max_depth=None,\n",
       "                                               max_leaves=None,\n",
       "                                               min_child_weight=1, missing=nan,\n",
       "                                               monotone_constraints=None,\n",
       "                                               multi_strategy=None,\n",
       "                                               n_estimators=400, n_jobs=None, ...),\n",
       "                       n_jobs=-1)]"
      ]
     },
     "execution_count": 28,
     "metadata": {},
     "output_type": "execute_result"
    }
   ],
   "source": [
    "framework.fit(X_train=train_set.x, edge_index=train_set.edge_index,y_train=train_set.y, train_mask=torch.ones(train_set.x.shape[0]).type(torch.bool),\n",
    "             kwargs_multi_clf_list=[{\"n_jobs\":-1}])"
   ]
  },
  {
   "cell_type": "code",
   "execution_count": 29,
   "id": "4b66e0ba-c51a-4bea-bf35-dce49d27cd5f",
   "metadata": {},
   "outputs": [
    {
     "data": {
      "text/plain": [
       "0.5670504794010771"
      ]
     },
     "execution_count": 29,
     "metadata": {},
     "output_type": "execute_result"
    }
   ],
   "source": [
    "import numpy as np\n",
    "from sklearn.metrics import f1_score\n",
    "\n",
    "pred = framework.predict(test_set.x, test_set.edge_index, torch.ones(test_set.x.shape[0]).type(torch.bool))\n",
    "f1_score(test_set.y, pred, average =\"micro\")"
   ]
  },
  {
   "cell_type": "code",
   "execution_count": 15,
   "id": "090e5806-f263-4acc-be98-d0af0d0e44fe",
   "metadata": {},
   "outputs": [
    {
     "data": {
      "text/plain": [
       "{'train_acc': 0.9973477121508217,\n",
       " 'val_acc': 0.9727738907479032,\n",
       " 'test_acc': 0.9820274921005493,\n",
       " 'model': MultiOutputClassifier(estimator=XGBClassifier(alpha=0.19757862964025008,\n",
       "                                               base_score=None, booster='gbtree',\n",
       "                                               callbacks=None,\n",
       "                                               colsample_bylevel=None,\n",
       "                                               colsample_bynode=None,\n",
       "                                               colsample_bytree=None,\n",
       "                                               device=None,\n",
       "                                               early_stopping_rounds=None,\n",
       "                                               enable_categorical=False,\n",
       "                                               eta=0.3253143884434358,\n",
       "                                               eval_metric=None,\n",
       "                                               feature_types=None, gamma=None,\n",
       "                                               grow_policy=None,\n",
       "                                               importance_type=None,\n",
       "                                               interaction_constraints=None,\n",
       "                                               learning_rate=None, max_bin=None,\n",
       "                                               max_cat_threshold=None,\n",
       "                                               max_cat_to_onehot=None,\n",
       "                                               max_delta_step=2, max_depth=None,\n",
       "                                               max_leaves=None,\n",
       "                                               min_child_weight=1, missing=nan,\n",
       "                                               monotone_constraints=None,\n",
       "                                               multi_strategy=None,\n",
       "                                               n_estimators=400, n_jobs=None, ...),\n",
       "                       n_jobs=11),\n",
       " 'user_function': <function AutoTune.norm_user_function(kwargs)>,\n",
       " 'attention_config': {'inter_layer_normalize': True,\n",
       "  'use_pseudo_attention': True,\n",
       "  'cosine_eps': 0.001,\n",
       "  'dropout_attn': None}}"
      ]
     },
     "execution_count": 15,
     "metadata": {},
     "output_type": "execute_result"
    },
    {
     "name": "stderr",
     "output_type": "stream",
     "text": [
      "/home/dwalke/miniconda3/lib/python3.10/site-packages/joblib/externals/loky/backend/resource_tracker.py:314: UserWarning: resource_tracker: There appear to be 17 leaked semlock objects to clean up at shutdown\n",
      "  warnings.warn(\n",
      "/home/dwalke/miniconda3/lib/python3.10/site-packages/joblib/externals/loky/backend/resource_tracker.py:314: UserWarning: resource_tracker: There appear to be 2 leaked folder objects to clean up at shutdown\n",
      "  warnings.warn(\n"
     ]
    }
   ],
   "source": [
    "store[\"XGBClassifier\"][5]"
   ]
  },
  {
   "cell_type": "code",
   "execution_count": 34,
   "id": "eff6004c-0113-4c3b-8840-462f3c600f8d",
   "metadata": {},
   "outputs": [
    {
     "name": "stderr",
     "output_type": "stream",
     "text": [
      "/home/dwalke/git/graph_aware_ml/EnsembleFramework.py:146: UserWarning: The reduce argument of torch.scatter with Tensor src is deprecated and will be removed in a future PyTorch release. Use torch.scatter_reduce instead for more reduction options. (Triggered internally at ../aten/src/ATen/native/TensorAdvancedIndexing.cpp:230.)\n",
      "  summed_exp_score = torch.zeros_like(exp_score).scatter(0, target,exp_score, reduce=\"add\")\n"
     ]
    },
    {
     "data": {
      "text/plain": [
       "[MultiOutputClassifier(estimator=XGBClassifier(alpha=0.9468666283941924,\n",
       "                                               base_score=None, booster='gbtree',\n",
       "                                               callbacks=None,\n",
       "                                               colsample_bylevel=None,\n",
       "                                               colsample_bynode=None,\n",
       "                                               colsample_bytree=None,\n",
       "                                               device=None,\n",
       "                                               early_stopping_rounds=None,\n",
       "                                               enable_categorical=False,\n",
       "                                               eta=0.34790291453070427,\n",
       "                                               eval_metric=None,\n",
       "                                               feature_types=None, gamma=None,\n",
       "                                               grow_policy=None,\n",
       "                                               importance_type=None,\n",
       "                                               interaction_constraints=None,\n",
       "                                               learning_rate=None, max_bin=None,\n",
       "                                               max_cat_threshold=None,\n",
       "                                               max_cat_to_onehot=None,\n",
       "                                               max_delta_step=3, max_depth=None,\n",
       "                                               max_leaves=None,\n",
       "                                               min_child_weight=1, missing=nan,\n",
       "                                               monotone_constraints=None,\n",
       "                                               multi_strategy=None,\n",
       "                                               n_estimators=1200, n_jobs=None, ...),\n",
       "                       n_jobs=-1)]"
      ]
     },
     "execution_count": 34,
     "metadata": {},
     "output_type": "execute_result"
    }
   ],
   "source": [
    "from xgboost import XGBClassifier\n",
    "from torch import nn\n",
    "import torch\n",
    "\n",
    "def user_function(kwargs):\n",
    "    return  nn.functional.normalize(kwargs[\"updated_features\"] + kwargs[\"summed_neighbors\"], p = 2.0, dim = -1)\n",
    "    \n",
    "framework = Framework(hops_list= [5], clfs=[XGBClassifier(**{'alpha': 0.9468666283941924, 'booster': 'gbtree', 'eta': 0.34790291453070427, 'max_delta_step': 3, 'max_depth': None, 'min_child_weight': 1, 'n_estimators': 1200, 'reg_lambda': 0.037655682459731096, 'subsample': 0.9776289728774308})\n",
    "                                           ], attention_configs=[{'inter_layer_normalize': False,\n",
    "   'use_pseudo_attention': True,\n",
    "   'cosine_eps': 0.01,\n",
    "   'dropout_attn': None},{'inter_layer_normalize': False,\n",
    "   'use_pseudo_attention': True,\n",
    "   'cosine_eps': 0.01,\n",
    "   'dropout_attn': None}], handle_nan=0.0, gpu_idx=0, user_functions=[user_function],  multi_target_class=True)\n",
    "framework.fit(X_train=complete_set.x, edge_index=complete_set.edge_index,y_train=complete_set.y, train_mask=train_mask,\n",
    "             kwargs_multi_clf_list=[{\"n_jobs\":-1}])"
   ]
  },
  {
   "cell_type": "code",
   "execution_count": 35,
   "id": "52c24cdb-06b3-4246-bf78-c45ff5c67b50",
   "metadata": {},
   "outputs": [],
   "source": [
    "import numpy as np\n",
    "pred = framework.predict(complete_set.x, complete_set.edge_index, test_mask)"
   ]
  },
  {
   "cell_type": "code",
   "execution_count": 6,
   "id": "d4a832bb-47d0-49ae-91ab-de2cfdfa8045",
   "metadata": {},
   "outputs": [
    {
     "name": "stderr",
     "output_type": "stream",
     "text": [
      "/home/dwalke/git/graph_aware_ml/EnsembleFramework.py:146: UserWarning: The reduce argument of torch.scatter with Tensor src is deprecated and will be removed in a future PyTorch release. Use torch.scatter_reduce instead for more reduction options. (Triggered internally at ../aten/src/ATen/native/TensorAdvancedIndexing.cpp:230.)\n",
      "  summed_exp_score = torch.zeros_like(exp_score).scatter(0, target,exp_score, reduce=\"add\")\n"
     ]
    },
    {
     "data": {
      "text/plain": [
       "[MultiOutputClassifier(estimator=XGBClassifier(alpha=0.9468666283941924,\n",
       "                                               base_score=None, booster='gbtree',\n",
       "                                               callbacks=None,\n",
       "                                               colsample_bylevel=None,\n",
       "                                               colsample_bynode=None,\n",
       "                                               colsample_bytree=None,\n",
       "                                               device=None,\n",
       "                                               early_stopping_rounds=None,\n",
       "                                               enable_categorical=False,\n",
       "                                               eta=0.34790291453070427,\n",
       "                                               eval_metric=None,\n",
       "                                               feature_types=None, gamma=None,\n",
       "                                               grow_policy=None,\n",
       "                                               importance_type=None,\n",
       "                                               interaction_constraints=None,\n",
       "                                               learning_rate=None, max_bin=None,\n",
       "                                               max_cat_threshold=None,\n",
       "                                               max_cat_to_onehot=None,\n",
       "                                               max_delta_step=3, max_depth=None,\n",
       "                                               max_leaves=None,\n",
       "                                               min_child_weight=1, missing=nan,\n",
       "                                               monotone_constraints=None,\n",
       "                                               multi_strategy=None,\n",
       "                                               n_estimators=1200, n_jobs=None, ...),\n",
       "                       n_jobs=-1)]"
      ]
     },
     "execution_count": 6,
     "metadata": {},
     "output_type": "execute_result"
    }
   ],
   "source": [
    "from xgboost import XGBClassifier\n",
    "from torch import nn\n",
    "import torch\n",
    "\n",
    "def user_function(kwargs):\n",
    "    return  nn.functional.normalize(kwargs[\"updated_features\"] + kwargs[\"summed_neighbors\"], p = 2.0, dim = -1)\n",
    "    \n",
    "framework = Framework(hops_list= [5], clfs=[XGBClassifier(**{'alpha': 0.9468666283941924, 'booster': 'gbtree', 'eta': 0.34790291453070427, 'max_delta_step': 3, 'max_depth': None, 'min_child_weight': 1, 'n_estimators': 1200, 'reg_lambda': 0.037655682459731096, 'subsample': 0.9776289728774308})\n",
    "                                           ], attention_configs=[{'inter_layer_normalize': False,\n",
    "   'use_pseudo_attention': True,\n",
    "   'cosine_eps': 0.01,\n",
    "   'dropout_attn': None},{'inter_layer_normalize': False,\n",
    "   'use_pseudo_attention': True,\n",
    "   'cosine_eps': 0.01,\n",
    "   'dropout_attn': None}], handle_nan=0.0, gpu_idx=0, user_functions=[user_function],  multi_target_class=True)\n",
    "framework.fit(X_train=train_set.x, edge_index=train_set.edge_index,y_train=train_set.y, train_mask=torch.ones(train_set.x.shape[0]).type(torch.bool),\n",
    "             kwargs_multi_clf_list=[{\"n_jobs\":-1}])"
   ]
  },
  {
   "cell_type": "code",
   "execution_count": 13,
   "id": "5f8c6504-e8c9-439a-99af-b60e33316c8b",
   "metadata": {},
   "outputs": [
    {
     "data": {
      "text/plain": [
       "(5524, 121)"
      ]
     },
     "execution_count": 13,
     "metadata": {},
     "output_type": "execute_result"
    }
   ],
   "source": [
    "pred.shape"
   ]
  },
  {
   "cell_type": "code",
   "execution_count": 25,
   "id": "a16efc47-aa9c-40ed-bfcc-67e69f61017b",
   "metadata": {},
   "outputs": [
    {
     "data": {
      "text/plain": [
       "(5524, 121, 2)"
      ]
     },
     "execution_count": 25,
     "metadata": {},
     "output_type": "execute_result"
    }
   ],
   "source": [
    "np.transpose(pred_proba, axes = [1,0,2]).shape"
   ]
  },
  {
   "cell_type": "code",
   "execution_count": 93,
   "id": "459875d7-b103-4699-9230-0ef6581388a4",
   "metadata": {},
   "outputs": [
    {
     "ename": "IndexError",
     "evalue": "list index out of range",
     "output_type": "error",
     "traceback": [
      "\u001b[0;31m---------------------------------------------------------------------------\u001b[0m",
      "\u001b[0;31mIndexError\u001b[0m                                Traceback (most recent call last)",
      "Cell \u001b[0;32mIn[93], line 14\u001b[0m\n\u001b[1;32m      6\u001b[0m     \u001b[38;5;28;01mreturn\u001b[39;00m  nn\u001b[38;5;241m.\u001b[39mfunctional\u001b[38;5;241m.\u001b[39mnormalize(kwargs[\u001b[38;5;124m\"\u001b[39m\u001b[38;5;124mupdated_features\u001b[39m\u001b[38;5;124m\"\u001b[39m] \u001b[38;5;241m+\u001b[39m kwargs[\u001b[38;5;124m\"\u001b[39m\u001b[38;5;124msummed_neighbors\u001b[39m\u001b[38;5;124m\"\u001b[39m], p \u001b[38;5;241m=\u001b[39m \u001b[38;5;241m2.0\u001b[39m, dim \u001b[38;5;241m=\u001b[39m \u001b[38;5;241m-\u001b[39m\u001b[38;5;241m1\u001b[39m)\n\u001b[1;32m      8\u001b[0m framework \u001b[38;5;241m=\u001b[39m Framework(hops_list\u001b[38;5;241m=\u001b[39m [\u001b[38;5;241m3\u001b[39m, \u001b[38;5;241m5\u001b[39m], clfs\u001b[38;5;241m=\u001b[39m[XGBClassifier(\u001b[38;5;241m*\u001b[39m\u001b[38;5;241m*\u001b[39m{\u001b[38;5;124m'\u001b[39m\u001b[38;5;124malpha\u001b[39m\u001b[38;5;124m'\u001b[39m: \u001b[38;5;241m0.9468666283941924\u001b[39m, \u001b[38;5;124m'\u001b[39m\u001b[38;5;124mbooster\u001b[39m\u001b[38;5;124m'\u001b[39m: \u001b[38;5;124m'\u001b[39m\u001b[38;5;124mgbtree\u001b[39m\u001b[38;5;124m'\u001b[39m, \u001b[38;5;124m'\u001b[39m\u001b[38;5;124meta\u001b[39m\u001b[38;5;124m'\u001b[39m: \u001b[38;5;241m0.34790291453070427\u001b[39m, \u001b[38;5;124m'\u001b[39m\u001b[38;5;124mmax_delta_step\u001b[39m\u001b[38;5;124m'\u001b[39m: \u001b[38;5;241m3\u001b[39m, \u001b[38;5;124m'\u001b[39m\u001b[38;5;124mmax_depth\u001b[39m\u001b[38;5;124m'\u001b[39m: \u001b[38;5;28;01mNone\u001b[39;00m, \u001b[38;5;124m'\u001b[39m\u001b[38;5;124mmin_child_weight\u001b[39m\u001b[38;5;124m'\u001b[39m: \u001b[38;5;241m1\u001b[39m, \u001b[38;5;124m'\u001b[39m\u001b[38;5;124mn_estimators\u001b[39m\u001b[38;5;124m'\u001b[39m: \u001b[38;5;241m1200\u001b[39m, \u001b[38;5;124m'\u001b[39m\u001b[38;5;124mreg_lambda\u001b[39m\u001b[38;5;124m'\u001b[39m: \u001b[38;5;241m0.037655682459731096\u001b[39m, \u001b[38;5;124m'\u001b[39m\u001b[38;5;124msubsample\u001b[39m\u001b[38;5;124m'\u001b[39m: \u001b[38;5;241m0.9776289728774308\u001b[39m})\n\u001b[1;32m      9\u001b[0m                                               ],\n\u001b[1;32m     10\u001b[0m                       attention_configs\u001b[38;5;241m=\u001b[39m[{\u001b[38;5;124m'\u001b[39m\u001b[38;5;124minter_layer_normalize\u001b[39m\u001b[38;5;124m'\u001b[39m: \u001b[38;5;28;01mFalse\u001b[39;00m,\n\u001b[1;32m     11\u001b[0m    \u001b[38;5;124m'\u001b[39m\u001b[38;5;124muse_pseudo_attention\u001b[39m\u001b[38;5;124m'\u001b[39m: \u001b[38;5;28;01mTrue\u001b[39;00m,\n\u001b[1;32m     12\u001b[0m    \u001b[38;5;124m'\u001b[39m\u001b[38;5;124mcosine_eps\u001b[39m\u001b[38;5;124m'\u001b[39m: \u001b[38;5;241m0.01\u001b[39m,\n\u001b[1;32m     13\u001b[0m    \u001b[38;5;124m'\u001b[39m\u001b[38;5;124mdropout_attn\u001b[39m\u001b[38;5;124m'\u001b[39m: \u001b[38;5;28;01mNone\u001b[39;00m}], handle_nan\u001b[38;5;241m=\u001b[39m\u001b[38;5;241m0.0\u001b[39m, gpu_idx\u001b[38;5;241m=\u001b[39m\u001b[38;5;241m0\u001b[39m, user_functions\u001b[38;5;241m=\u001b[39m[user_function], multi_target_class\u001b[38;5;241m=\u001b[39m\u001b[38;5;28;01mTrue\u001b[39;00m)\n\u001b[0;32m---> 14\u001b[0m \u001b[43mframework\u001b[49m\u001b[38;5;241;43m.\u001b[39;49m\u001b[43mfit\u001b[49m\u001b[43m(\u001b[49m\u001b[43mX_train\u001b[49m\u001b[38;5;241;43m=\u001b[39;49m\u001b[43mtrain_set\u001b[49m\u001b[38;5;241;43m.\u001b[39;49m\u001b[43mx\u001b[49m\u001b[43m,\u001b[49m\u001b[43m \u001b[49m\u001b[43medge_index\u001b[49m\u001b[38;5;241;43m=\u001b[39;49m\u001b[43mtrain_set\u001b[49m\u001b[38;5;241;43m.\u001b[39;49m\u001b[43medge_index\u001b[49m\u001b[43m,\u001b[49m\u001b[43my_train\u001b[49m\u001b[38;5;241;43m=\u001b[39;49m\u001b[43mtrain_set\u001b[49m\u001b[38;5;241;43m.\u001b[39;49m\u001b[43my\u001b[49m\u001b[43m,\u001b[49m\u001b[43m \u001b[49m\u001b[43mtrain_mask\u001b[49m\u001b[38;5;241;43m=\u001b[39;49m\u001b[43mtorch\u001b[49m\u001b[38;5;241;43m.\u001b[39;49m\u001b[43mones\u001b[49m\u001b[43m(\u001b[49m\u001b[43mtrain_set\u001b[49m\u001b[38;5;241;43m.\u001b[39;49m\u001b[43mx\u001b[49m\u001b[38;5;241;43m.\u001b[39;49m\u001b[43mshape\u001b[49m\u001b[43m[\u001b[49m\u001b[38;5;241;43m0\u001b[39;49m\u001b[43m]\u001b[49m\u001b[43m)\u001b[49m\u001b[38;5;241;43m.\u001b[39;49m\u001b[43mtype\u001b[49m\u001b[43m(\u001b[49m\u001b[43mtorch\u001b[49m\u001b[38;5;241;43m.\u001b[39;49m\u001b[43mbool\u001b[49m\u001b[43m)\u001b[49m\u001b[43m)\u001b[49m\n",
      "File \u001b[0;32m~/git/graph_aware_ml/EnsembleFramework.py:168\u001b[0m, in \u001b[0;36mFramework.fit\u001b[0;34m(self, X_train, edge_index, y_train, train_mask, kwargs_fit_list, transform_kwargs_fit, kwargs_multi_clf_list)\u001b[0m\n\u001b[1;32m    164\u001b[0m y_train \u001b[38;5;241m=\u001b[39m y_train[train_mask]\n\u001b[1;32m    166\u001b[0m \u001b[38;5;28mself\u001b[39m\u001b[38;5;241m.\u001b[39mvalidate_input()\n\u001b[0;32m--> 168\u001b[0m aggregated_train_features_list \u001b[38;5;241m=\u001b[39m \u001b[38;5;28;43mself\u001b[39;49m\u001b[38;5;241;43m.\u001b[39;49m\u001b[43mget_features\u001b[49m\u001b[43m(\u001b[49m\u001b[43mX_train\u001b[49m\u001b[43m,\u001b[49m\u001b[43m \u001b[49m\u001b[43medge_index\u001b[49m\u001b[43m,\u001b[49m\u001b[43m \u001b[49m\u001b[43mtrain_mask\u001b[49m\u001b[43m,\u001b[49m\u001b[43m \u001b[49m\u001b[38;5;28;43;01mTrue\u001b[39;49;00m\u001b[43m)\u001b[49m  \n\u001b[1;32m    170\u001b[0m trained_clfs \u001b[38;5;241m=\u001b[39m []\n\u001b[1;32m    171\u001b[0m \u001b[38;5;28;01mfor\u001b[39;00m i, aggregated_train_features \u001b[38;5;129;01min\u001b[39;00m \u001b[38;5;28menumerate\u001b[39m(aggregated_train_features_list):\n",
      "File \u001b[0;32m~/git/graph_aware_ml/EnsembleFramework.py:66\u001b[0m, in \u001b[0;36mFramework.get_features\u001b[0;34m(self, X, edge_index, mask, is_training)\u001b[0m\n\u001b[1;32m     64\u001b[0m \u001b[38;5;66;03m## Aggregate\u001b[39;00m\n\u001b[1;32m     65\u001b[0m \u001b[38;5;28;01mfor\u001b[39;00m hop_idx \u001b[38;5;129;01min\u001b[39;00m \u001b[38;5;28mrange\u001b[39m(\u001b[38;5;28mlen\u001b[39m(\u001b[38;5;28mself\u001b[39m\u001b[38;5;241m.\u001b[39mhops_list)):\n\u001b[0;32m---> 66\u001b[0m     neighbor_features \u001b[38;5;241m=\u001b[39m \u001b[38;5;28;43mself\u001b[39;49m\u001b[38;5;241;43m.\u001b[39;49m\u001b[43maggregate\u001b[49m\u001b[43m(\u001b[49m\u001b[43mX\u001b[49m\u001b[43m,\u001b[49m\u001b[43m \u001b[49m\u001b[43medge_index\u001b[49m\u001b[43m,\u001b[49m\u001b[43m \u001b[49m\u001b[43mhop_idx\u001b[49m\u001b[43m,\u001b[49m\u001b[43m \u001b[49m\u001b[43mis_training\u001b[49m\u001b[43m)\u001b[49m\n\u001b[1;32m     67\u001b[0m     aggregated_train_features_list\u001b[38;5;241m.\u001b[39mappend(neighbor_features[mask])\n\u001b[1;32m     68\u001b[0m \u001b[38;5;28;01mreturn\u001b[39;00m aggregated_train_features_list\n",
      "File \u001b[0;32m~/git/graph_aware_ml/EnsembleFramework.py:84\u001b[0m, in \u001b[0;36mFramework.aggregate\u001b[0;34m(self, X, edge_index, hop_idx, is_training)\u001b[0m\n\u001b[1;32m     82\u001b[0m hops_list \u001b[38;5;241m=\u001b[39m \u001b[38;5;28mself\u001b[39m\u001b[38;5;241m.\u001b[39mhops_list[hop_idx]\n\u001b[1;32m     83\u001b[0m \u001b[38;5;28;01mfor\u001b[39;00m i, hop \u001b[38;5;129;01min\u001b[39;00m \u001b[38;5;28menumerate\u001b[39m(\u001b[38;5;28mrange\u001b[39m(hops_list)):\n\u001b[0;32m---> 84\u001b[0m     \u001b[38;5;28;01mif\u001b[39;00m \u001b[38;5;28;43mself\u001b[39;49m\u001b[38;5;241;43m.\u001b[39;49m\u001b[43mattention_configs\u001b[49m\u001b[43m[\u001b[49m\u001b[43mhop_idx\u001b[49m\u001b[43m]\u001b[49m \u001b[38;5;129;01mand\u001b[39;00m \u001b[38;5;28mself\u001b[39m\u001b[38;5;241m.\u001b[39mattention_configs[hop_idx][\u001b[38;5;124m\"\u001b[39m\u001b[38;5;124minter_layer_normalize\u001b[39m\u001b[38;5;124m\"\u001b[39m]:\n\u001b[1;32m     85\u001b[0m         features_for_aggregation \u001b[38;5;241m=\u001b[39m torch\u001b[38;5;241m.\u001b[39mnn\u001b[38;5;241m.\u001b[39mfunctional\u001b[38;5;241m.\u001b[39mnormalize(features_for_aggregation, dim \u001b[38;5;241m=\u001b[39m \u001b[38;5;241m0\u001b[39m)\n\u001b[1;32m     86\u001b[0m     source_lift \u001b[38;5;241m=\u001b[39m features_for_aggregation\u001b[38;5;241m.\u001b[39mindex_select(\u001b[38;5;241m0\u001b[39m, edge_index[\u001b[38;5;241m0\u001b[39m])\n",
      "\u001b[0;31mIndexError\u001b[0m: list index out of range"
     ]
    }
   ],
   "source": [
    "from EnsembleFramework import Framework\n",
    "import torch\n",
    "from torch import nn\n",
    "\n",
    "def user_function(kwargs):\n",
    "    return  nn.functional.normalize(kwargs[\"updated_features\"] + kwargs[\"summed_neighbors\"], p = 2.0, dim = -1)\n",
    "    \n",
    "framework = Framework(hops_list= [3, 5], clfs=[XGBClassifier(**{'alpha': 0.9468666283941924, 'booster': 'gbtree', 'eta': 0.34790291453070427, 'max_delta_step': 3, 'max_depth': None, 'min_child_weight': 1, 'n_estimators': 1200, 'reg_lambda': 0.037655682459731096, 'subsample': 0.9776289728774308})], attention_configs=[{'inter_layer_normalize': False,\n",
    "   'use_pseudo_attention': True,\n",
    "   'cosine_eps': 0.01,\n",
    "   'dropout_attn': None},{'inter_layer_normalize': False,\n",
    "   'use_pseudo_attention': True,\n",
    "   'cosine_eps': 0.01,\n",
    "   'dropout_attn': None}], handle_nan=0.0, gpu_idx=0, user_functions=[user_function, user_function])\n",
    "new_train_features = framework.get_features(X=train_set.x, edge_index=train_set.edge_index, mask=torch.ones(train_set.x.shape[0]).type(torch.bool))\n",
    "new_val_features = framework.get_features(X=val_set.x, edge_index=val_set.edge_index, mask=torch.ones(val_set.x.shape[0]).type(torch.bool))\n",
    "new_test_features = framework.get_features(X=test_set.x, edge_index=test_set.edge_index, mask=torch.ones(test_set.x.shape[0]).type(torch.bool))"
   ]
  },
  {
   "cell_type": "code",
   "execution_count": 5,
   "id": "dcfb7c73-6c59-4380-82e7-d78ac4916494",
   "metadata": {},
   "outputs": [],
   "source": [
    "##https://stackoverflow.com/questions/67887291/multi-label-classification-with-sklearn-how-do-you-use-a-validation-set"
   ]
  },
  {
   "cell_type": "code",
   "execution_count": 82,
   "id": "cf8563e0-8b06-491c-ad6a-3d23abc33b2e",
   "metadata": {
    "scrolled": true
   },
   "outputs": [
    {
     "data": {
      "text/plain": [
       "179.91326022148132"
      ]
     },
     "execution_count": 82,
     "metadata": {},
     "output_type": "execute_result"
    }
   ],
   "source": [
    "from sklearn.multioutput import MultiOutputClassifier\n",
    "from sklearn.linear_model import LogisticRegression\n",
    "from xgboost import XGBClassifier\n",
    "import time\n",
    "start = time.time()\n",
    "model = MultiOutputClassifier(XGBClassifier(**{'alpha': 0.9468666283941924, 'booster': 'gbtree', 'eta': 0.34790291453070427, 'max_delta_step': 3, 'max_depth': None, 'min_child_weight': 1, 'n_estimators': 1200, 'reg_lambda': 0.037655682459731096, 'subsample': 0.9776289728774308}), n_jobs=-1).fit(new_train_features[0].cpu(), train_set.y)\n",
    "model_1 = MultiOutputClassifier(XGBClassifier(**{'alpha': 0.9468666283941924, 'booster': 'gbtree', 'eta': 0.34790291453070427, 'max_delta_step': 3, 'max_depth': None, 'min_child_weight': 1, 'n_estimators': 1200, 'reg_lambda': 0.037655682459731096, 'subsample': 0.9776289728774308}), n_jobs=-1).fit(new_train_features[1].cpu(), train_set.y)\n",
    "time.time()-start"
   ]
  },
  {
   "cell_type": "code",
   "execution_count": 73,
   "id": "46280480-43cd-4549-9a6c-f364d895c940",
   "metadata": {},
   "outputs": [
    {
     "data": {
      "text/plain": [
       "array([[1, 0, 0, ..., 1, 1, 0],\n",
       "       [0, 0, 0, ..., 1, 0, 0],\n",
       "       [0, 0, 0, ..., 1, 1, 0],\n",
       "       ...,\n",
       "       [1, 1, 0, ..., 1, 1, 0],\n",
       "       [1, 0, 0, ..., 1, 1, 1],\n",
       "       [1, 1, 0, ..., 1, 1, 0]])"
      ]
     },
     "execution_count": 73,
     "metadata": {},
     "output_type": "execute_result"
    }
   ],
   "source": [
    "np.array(model.predict_proba(new_test_features[0].cpu())).argmax(-1).transpose()"
   ]
  },
  {
   "cell_type": "code",
   "execution_count": 90,
   "id": "4822cd0f-b0d4-4182-9649-e9c6b7a91ecf",
   "metadata": {},
   "outputs": [
    {
     "data": {
      "text/plain": [
       "(5524, 121)"
      ]
     },
     "execution_count": 90,
     "metadata": {},
     "output_type": "execute_result"
    }
   ],
   "source": [
    "probas = np.array(model.predict_proba(new_test_features[1].cpu())) #np.array(model.predict_proba(new_test_features[0].cpu())) + \n",
    "probas.argmax(-1).transpose().shape"
   ]
  },
  {
   "cell_type": "code",
   "execution_count": 86,
   "id": "ad4c1e34-d895-4c89-b6fa-7b63e4183a99",
   "metadata": {},
   "outputs": [
    {
     "data": {
      "text/plain": [
       "torch.Size([5524, 121])"
      ]
     },
     "execution_count": 86,
     "metadata": {},
     "output_type": "execute_result"
    }
   ],
   "source": [
    "test_set.y.shape"
   ]
  },
  {
   "cell_type": "code",
   "execution_count": 39,
   "id": "e3c9df2e-2cd5-4417-bcb5-17c2e32403a2",
   "metadata": {},
   "outputs": [
    {
     "data": {
      "text/plain": [
       "(5524, 121)"
      ]
     },
     "execution_count": 39,
     "metadata": {},
     "output_type": "execute_result"
    }
   ],
   "source": [
    "model.predict(new_test_features[0].cpu()).shape"
   ]
  },
  {
   "cell_type": "code",
   "execution_count": 36,
   "id": "cdbba0d6-dbe4-43e7-a0f4-750bff128852",
   "metadata": {},
   "outputs": [
    {
     "data": {
      "text/plain": [
       "0.9726839651327793"
      ]
     },
     "execution_count": 36,
     "metadata": {},
     "output_type": "execute_result"
    }
   ],
   "source": [
    "from sklearn.metrics import f1_score\n",
    "f1_score(test_set.y, pred, average =\"micro\")"
   ]
  },
  {
   "cell_type": "code",
   "execution_count": null,
   "id": "211eedf1-0676-4d3e-a3c2-470cc158672f",
   "metadata": {},
   "outputs": [],
   "source": []
  },
  {
   "cell_type": "code",
   "execution_count": 18,
   "id": "a6518604-c180-49c8-9cce-4b7bcac7aa37",
   "metadata": {},
   "outputs": [
    {
     "ename": "AxisError",
     "evalue": "axis 1 is out of bounds for array of dimension 0",
     "output_type": "error",
     "traceback": [
      "\u001b[0;31m---------------------------------------------------------------------------\u001b[0m",
      "\u001b[0;31mAxisError\u001b[0m                                 Traceback (most recent call last)",
      "Cell \u001b[0;32mIn[18], line 4\u001b[0m\n\u001b[1;32m      1\u001b[0m \u001b[38;5;28;01mfrom\u001b[39;00m \u001b[38;5;21;01msklearn\u001b[39;00m\u001b[38;5;21;01m.\u001b[39;00m\u001b[38;5;21;01minspection\u001b[39;00m \u001b[38;5;28;01mimport\u001b[39;00m permutation_importance\n\u001b[1;32m      3\u001b[0m \u001b[38;5;28;01mfor\u001b[39;00m model_i \u001b[38;5;129;01min\u001b[39;00m \u001b[38;5;28mrange\u001b[39m(\u001b[38;5;28mlen\u001b[39m(new_train_features)):\n\u001b[0;32m----> 4\u001b[0m     r \u001b[38;5;241m=\u001b[39m \u001b[43mpermutation_importance\u001b[49m\u001b[43m(\u001b[49m\u001b[43mmodel\u001b[49m\u001b[43m,\u001b[49m\u001b[43m \u001b[49m\u001b[43mnew_val_features\u001b[49m\u001b[43m[\u001b[49m\u001b[43mmodel_i\u001b[49m\u001b[43m]\u001b[49m\u001b[38;5;241;43m.\u001b[39;49m\u001b[43mcpu\u001b[49m\u001b[43m(\u001b[49m\u001b[43m)\u001b[49m\u001b[43m,\u001b[49m\u001b[43m \u001b[49m\u001b[43mval_set\u001b[49m\u001b[38;5;241;43m.\u001b[39;49m\u001b[43my\u001b[49m\u001b[43m,\u001b[49m\n\u001b[1;32m      5\u001b[0m \u001b[43m                            \u001b[49m\u001b[43mn_repeats\u001b[49m\u001b[38;5;241;43m=\u001b[39;49m\u001b[38;5;241;43m30\u001b[39;49m\u001b[43m,\u001b[49m\n\u001b[1;32m      6\u001b[0m \u001b[43m                            \u001b[49m\u001b[43mrandom_state\u001b[49m\u001b[38;5;241;43m=\u001b[39;49m\u001b[38;5;241;43m0\u001b[39;49m\u001b[43m)\u001b[49m\n\u001b[1;32m      7\u001b[0m     \u001b[38;5;28mprint\u001b[39m(r\u001b[38;5;241m.\u001b[39mimportances_mean[i])\n",
      "File \u001b[0;32m~/.local/lib/python3.10/site-packages/sklearn/utils/_param_validation.py:211\u001b[0m, in \u001b[0;36mvalidate_params.<locals>.decorator.<locals>.wrapper\u001b[0;34m(*args, **kwargs)\u001b[0m\n\u001b[1;32m    205\u001b[0m \u001b[38;5;28;01mtry\u001b[39;00m:\n\u001b[1;32m    206\u001b[0m     \u001b[38;5;28;01mwith\u001b[39;00m config_context(\n\u001b[1;32m    207\u001b[0m         skip_parameter_validation\u001b[38;5;241m=\u001b[39m(\n\u001b[1;32m    208\u001b[0m             prefer_skip_nested_validation \u001b[38;5;129;01mor\u001b[39;00m global_skip_validation\n\u001b[1;32m    209\u001b[0m         )\n\u001b[1;32m    210\u001b[0m     ):\n\u001b[0;32m--> 211\u001b[0m         \u001b[38;5;28;01mreturn\u001b[39;00m \u001b[43mfunc\u001b[49m\u001b[43m(\u001b[49m\u001b[38;5;241;43m*\u001b[39;49m\u001b[43margs\u001b[49m\u001b[43m,\u001b[49m\u001b[43m \u001b[49m\u001b[38;5;241;43m*\u001b[39;49m\u001b[38;5;241;43m*\u001b[39;49m\u001b[43mkwargs\u001b[49m\u001b[43m)\u001b[49m\n\u001b[1;32m    212\u001b[0m \u001b[38;5;28;01mexcept\u001b[39;00m InvalidParameterError \u001b[38;5;28;01mas\u001b[39;00m e:\n\u001b[1;32m    213\u001b[0m     \u001b[38;5;66;03m# When the function is just a wrapper around an estimator, we allow\u001b[39;00m\n\u001b[1;32m    214\u001b[0m     \u001b[38;5;66;03m# the function to delegate validation to the estimator, but we replace\u001b[39;00m\n\u001b[1;32m    215\u001b[0m     \u001b[38;5;66;03m# the name of the estimator by the name of the function in the error\u001b[39;00m\n\u001b[1;32m    216\u001b[0m     \u001b[38;5;66;03m# message to avoid confusion.\u001b[39;00m\n\u001b[1;32m    217\u001b[0m     msg \u001b[38;5;241m=\u001b[39m re\u001b[38;5;241m.\u001b[39msub(\n\u001b[1;32m    218\u001b[0m         \u001b[38;5;124mr\u001b[39m\u001b[38;5;124m\"\u001b[39m\u001b[38;5;124mparameter of \u001b[39m\u001b[38;5;124m\\\u001b[39m\u001b[38;5;124mw+ must be\u001b[39m\u001b[38;5;124m\"\u001b[39m,\n\u001b[1;32m    219\u001b[0m         \u001b[38;5;124mf\u001b[39m\u001b[38;5;124m\"\u001b[39m\u001b[38;5;124mparameter of \u001b[39m\u001b[38;5;132;01m{\u001b[39;00mfunc\u001b[38;5;241m.\u001b[39m\u001b[38;5;18m__qualname__\u001b[39m\u001b[38;5;132;01m}\u001b[39;00m\u001b[38;5;124m must be\u001b[39m\u001b[38;5;124m\"\u001b[39m,\n\u001b[1;32m    220\u001b[0m         \u001b[38;5;28mstr\u001b[39m(e),\n\u001b[1;32m    221\u001b[0m     )\n",
      "File \u001b[0;32m~/.local/lib/python3.10/site-packages/sklearn/inspection/_permutation_importance.py:287\u001b[0m, in \u001b[0;36mpermutation_importance\u001b[0;34m(estimator, X, y, scoring, n_repeats, n_jobs, random_state, sample_weight, max_samples)\u001b[0m\n\u001b[1;32m    284\u001b[0m     scorers_dict \u001b[38;5;241m=\u001b[39m _check_multimetric_scoring(estimator, scoring)\n\u001b[1;32m    285\u001b[0m     scorer \u001b[38;5;241m=\u001b[39m _MultimetricScorer(scorers\u001b[38;5;241m=\u001b[39mscorers_dict)\n\u001b[0;32m--> 287\u001b[0m baseline_score \u001b[38;5;241m=\u001b[39m \u001b[43m_weights_scorer\u001b[49m\u001b[43m(\u001b[49m\u001b[43mscorer\u001b[49m\u001b[43m,\u001b[49m\u001b[43m \u001b[49m\u001b[43mestimator\u001b[49m\u001b[43m,\u001b[49m\u001b[43m \u001b[49m\u001b[43mX\u001b[49m\u001b[43m,\u001b[49m\u001b[43m \u001b[49m\u001b[43my\u001b[49m\u001b[43m,\u001b[49m\u001b[43m \u001b[49m\u001b[43msample_weight\u001b[49m\u001b[43m)\u001b[49m\n\u001b[1;32m    289\u001b[0m scores \u001b[38;5;241m=\u001b[39m Parallel(n_jobs\u001b[38;5;241m=\u001b[39mn_jobs)(\n\u001b[1;32m    290\u001b[0m     delayed(_calculate_permutation_scores)(\n\u001b[1;32m    291\u001b[0m         estimator,\n\u001b[0;32m   (...)\u001b[0m\n\u001b[1;32m    301\u001b[0m     \u001b[38;5;28;01mfor\u001b[39;00m col_idx \u001b[38;5;129;01min\u001b[39;00m \u001b[38;5;28mrange\u001b[39m(X\u001b[38;5;241m.\u001b[39mshape[\u001b[38;5;241m1\u001b[39m])\n\u001b[1;32m    302\u001b[0m )\n\u001b[1;32m    304\u001b[0m \u001b[38;5;28;01mif\u001b[39;00m \u001b[38;5;28misinstance\u001b[39m(baseline_score, \u001b[38;5;28mdict\u001b[39m):\n",
      "File \u001b[0;32m~/.local/lib/python3.10/site-packages/sklearn/inspection/_permutation_importance.py:25\u001b[0m, in \u001b[0;36m_weights_scorer\u001b[0;34m(scorer, estimator, X, y, sample_weight)\u001b[0m\n\u001b[1;32m     23\u001b[0m \u001b[38;5;28;01mif\u001b[39;00m sample_weight \u001b[38;5;129;01mis\u001b[39;00m \u001b[38;5;129;01mnot\u001b[39;00m \u001b[38;5;28;01mNone\u001b[39;00m:\n\u001b[1;32m     24\u001b[0m     \u001b[38;5;28;01mreturn\u001b[39;00m scorer(estimator, X, y, sample_weight\u001b[38;5;241m=\u001b[39msample_weight)\n\u001b[0;32m---> 25\u001b[0m \u001b[38;5;28;01mreturn\u001b[39;00m \u001b[43mscorer\u001b[49m\u001b[43m(\u001b[49m\u001b[43mestimator\u001b[49m\u001b[43m,\u001b[49m\u001b[43m \u001b[49m\u001b[43mX\u001b[49m\u001b[43m,\u001b[49m\u001b[43m \u001b[49m\u001b[43my\u001b[49m\u001b[43m)\u001b[49m\n",
      "File \u001b[0;32m~/.local/lib/python3.10/site-packages/sklearn/metrics/_scorer.py:527\u001b[0m, in \u001b[0;36m_PassthroughScorer.__call__\u001b[0;34m(self, estimator, *args, **kwargs)\u001b[0m\n\u001b[1;32m    525\u001b[0m \u001b[38;5;28;01mdef\u001b[39;00m \u001b[38;5;21m__call__\u001b[39m(\u001b[38;5;28mself\u001b[39m, estimator, \u001b[38;5;241m*\u001b[39margs, \u001b[38;5;241m*\u001b[39m\u001b[38;5;241m*\u001b[39mkwargs):\n\u001b[1;32m    526\u001b[0m \u001b[38;5;250m    \u001b[39m\u001b[38;5;124;03m\"\"\"Method that wraps estimator.score\"\"\"\u001b[39;00m\n\u001b[0;32m--> 527\u001b[0m     \u001b[38;5;28;01mreturn\u001b[39;00m \u001b[43mestimator\u001b[49m\u001b[38;5;241;43m.\u001b[39;49m\u001b[43mscore\u001b[49m\u001b[43m(\u001b[49m\u001b[38;5;241;43m*\u001b[39;49m\u001b[43margs\u001b[49m\u001b[43m,\u001b[49m\u001b[43m \u001b[49m\u001b[38;5;241;43m*\u001b[39;49m\u001b[38;5;241;43m*\u001b[39;49m\u001b[43mkwargs\u001b[49m\u001b[43m)\u001b[49m\n",
      "File \u001b[0;32m~/.local/lib/python3.10/site-packages/sklearn/multioutput.py:610\u001b[0m, in \u001b[0;36mMultiOutputClassifier.score\u001b[0;34m(self, X, y)\u001b[0m\n\u001b[1;32m    605\u001b[0m     \u001b[38;5;28;01mraise\u001b[39;00m \u001b[38;5;167;01mValueError\u001b[39;00m(\n\u001b[1;32m    606\u001b[0m         \u001b[38;5;124m\"\u001b[39m\u001b[38;5;124mThe number of outputs of Y for fit \u001b[39m\u001b[38;5;132;01m{0}\u001b[39;00m\u001b[38;5;124m and\u001b[39m\u001b[38;5;124m\"\u001b[39m\n\u001b[1;32m    607\u001b[0m         \u001b[38;5;124m\"\u001b[39m\u001b[38;5;124m score \u001b[39m\u001b[38;5;132;01m{1}\u001b[39;00m\u001b[38;5;124m should be same\u001b[39m\u001b[38;5;124m\"\u001b[39m\u001b[38;5;241m.\u001b[39mformat(n_outputs_, y\u001b[38;5;241m.\u001b[39mshape[\u001b[38;5;241m1\u001b[39m])\n\u001b[1;32m    608\u001b[0m     )\n\u001b[1;32m    609\u001b[0m y_pred \u001b[38;5;241m=\u001b[39m \u001b[38;5;28mself\u001b[39m\u001b[38;5;241m.\u001b[39mpredict(X)\n\u001b[0;32m--> 610\u001b[0m \u001b[38;5;28;01mreturn\u001b[39;00m np\u001b[38;5;241m.\u001b[39mmean(\u001b[43mnp\u001b[49m\u001b[38;5;241;43m.\u001b[39;49m\u001b[43mall\u001b[49m\u001b[43m(\u001b[49m\u001b[43my\u001b[49m\u001b[43m \u001b[49m\u001b[38;5;241;43m==\u001b[39;49m\u001b[43m \u001b[49m\u001b[43my_pred\u001b[49m\u001b[43m,\u001b[49m\u001b[43m \u001b[49m\u001b[43maxis\u001b[49m\u001b[38;5;241;43m=\u001b[39;49m\u001b[38;5;241;43m1\u001b[39;49m\u001b[43m)\u001b[49m)\n",
      "File \u001b[0;32m<__array_function__ internals>:200\u001b[0m, in \u001b[0;36mall\u001b[0;34m(*args, **kwargs)\u001b[0m\n",
      "File \u001b[0;32m~/.local/lib/python3.10/site-packages/numpy/core/fromnumeric.py:2515\u001b[0m, in \u001b[0;36mall\u001b[0;34m(a, axis, out, keepdims, where)\u001b[0m\n\u001b[1;32m   2432\u001b[0m \u001b[38;5;129m@array_function_dispatch\u001b[39m(_all_dispatcher)\n\u001b[1;32m   2433\u001b[0m \u001b[38;5;28;01mdef\u001b[39;00m \u001b[38;5;21mall\u001b[39m(a, axis\u001b[38;5;241m=\u001b[39m\u001b[38;5;28;01mNone\u001b[39;00m, out\u001b[38;5;241m=\u001b[39m\u001b[38;5;28;01mNone\u001b[39;00m, keepdims\u001b[38;5;241m=\u001b[39mnp\u001b[38;5;241m.\u001b[39m_NoValue, \u001b[38;5;241m*\u001b[39m, where\u001b[38;5;241m=\u001b[39mnp\u001b[38;5;241m.\u001b[39m_NoValue):\n\u001b[1;32m   2434\u001b[0m \u001b[38;5;250m    \u001b[39m\u001b[38;5;124;03m\"\"\"\u001b[39;00m\n\u001b[1;32m   2435\u001b[0m \u001b[38;5;124;03m    Test whether all array elements along a given axis evaluate to True.\u001b[39;00m\n\u001b[1;32m   2436\u001b[0m \n\u001b[0;32m   (...)\u001b[0m\n\u001b[1;32m   2513\u001b[0m \n\u001b[1;32m   2514\u001b[0m \u001b[38;5;124;03m    \"\"\"\u001b[39;00m\n\u001b[0;32m-> 2515\u001b[0m     \u001b[38;5;28;01mreturn\u001b[39;00m \u001b[43m_wrapreduction\u001b[49m\u001b[43m(\u001b[49m\u001b[43ma\u001b[49m\u001b[43m,\u001b[49m\u001b[43m \u001b[49m\u001b[43mnp\u001b[49m\u001b[38;5;241;43m.\u001b[39;49m\u001b[43mlogical_and\u001b[49m\u001b[43m,\u001b[49m\u001b[43m \u001b[49m\u001b[38;5;124;43m'\u001b[39;49m\u001b[38;5;124;43mall\u001b[39;49m\u001b[38;5;124;43m'\u001b[39;49m\u001b[43m,\u001b[49m\u001b[43m \u001b[49m\u001b[43maxis\u001b[49m\u001b[43m,\u001b[49m\u001b[43m \u001b[49m\u001b[38;5;28;43;01mNone\u001b[39;49;00m\u001b[43m,\u001b[49m\u001b[43m \u001b[49m\u001b[43mout\u001b[49m\u001b[43m,\u001b[49m\n\u001b[1;32m   2516\u001b[0m \u001b[43m                          \u001b[49m\u001b[43mkeepdims\u001b[49m\u001b[38;5;241;43m=\u001b[39;49m\u001b[43mkeepdims\u001b[49m\u001b[43m,\u001b[49m\u001b[43m \u001b[49m\u001b[43mwhere\u001b[49m\u001b[38;5;241;43m=\u001b[39;49m\u001b[43mwhere\u001b[49m\u001b[43m)\u001b[49m\n",
      "File \u001b[0;32m~/.local/lib/python3.10/site-packages/numpy/core/fromnumeric.py:86\u001b[0m, in \u001b[0;36m_wrapreduction\u001b[0;34m(obj, ufunc, method, axis, dtype, out, **kwargs)\u001b[0m\n\u001b[1;32m     83\u001b[0m         \u001b[38;5;28;01melse\u001b[39;00m:\n\u001b[1;32m     84\u001b[0m             \u001b[38;5;28;01mreturn\u001b[39;00m reduction(axis\u001b[38;5;241m=\u001b[39maxis, out\u001b[38;5;241m=\u001b[39mout, \u001b[38;5;241m*\u001b[39m\u001b[38;5;241m*\u001b[39mpasskwargs)\n\u001b[0;32m---> 86\u001b[0m \u001b[38;5;28;01mreturn\u001b[39;00m \u001b[43mufunc\u001b[49m\u001b[38;5;241;43m.\u001b[39;49m\u001b[43mreduce\u001b[49m\u001b[43m(\u001b[49m\u001b[43mobj\u001b[49m\u001b[43m,\u001b[49m\u001b[43m \u001b[49m\u001b[43maxis\u001b[49m\u001b[43m,\u001b[49m\u001b[43m \u001b[49m\u001b[43mdtype\u001b[49m\u001b[43m,\u001b[49m\u001b[43m \u001b[49m\u001b[43mout\u001b[49m\u001b[43m,\u001b[49m\u001b[43m \u001b[49m\u001b[38;5;241;43m*\u001b[39;49m\u001b[38;5;241;43m*\u001b[39;49m\u001b[43mpasskwargs\u001b[49m\u001b[43m)\u001b[49m\n",
      "\u001b[0;31mAxisError\u001b[0m: axis 1 is out of bounds for array of dimension 0"
     ]
    }
   ],
   "source": [
    "from sklearn.inspection import permutation_importance\n",
    "\n",
    "for model_i in range(len(new_train_features)):\n",
    "    r = permutation_importance(model, new_val_features[model_i].cpu(), val_set.y,\n",
    "                            n_repeats=30,\n",
    "                            random_state=0)\n",
    "    print(r.importances_mean[i])"
   ]
  },
  {
   "cell_type": "code",
   "execution_count": 11,
   "id": "9aa48193-f51e-4feb-8e5a-8faf4861053e",
   "metadata": {},
   "outputs": [
    {
     "data": {
      "text/plain": [
       "tensor(0.9830)"
      ]
     },
     "execution_count": 11,
     "metadata": {},
     "output_type": "execute_result"
    }
   ],
   "source": [
    "import numpy as np\n",
    "np.equal(model.predict(new_test_features[0].cpu()), test_set.y).sum()/ test_set.y.numel()"
   ]
  },
  {
   "cell_type": "code",
   "execution_count": 13,
   "id": "0d56c4e3-b8d9-4be4-89f7-91e6e0d439f5",
   "metadata": {},
   "outputs": [],
   "source": [
    "import xgboost as xgb\n",
    "from sklearn.svm import SVC\n",
    "from xgboost import XGBClassifier\n",
    "from sklearn.linear_model import LogisticRegression\n",
    "from hyperopt import fmin, tpe, hp,STATUS_OK, SparkTrials\n",
    "from sklearn.metrics import accuracy_score, f1_score\n",
    "from tqdm.notebook import tqdm\n",
    "from sklearn.multioutput import MultiOutputClassifier\n",
    "\n",
    "# booster_self = [\"gbtree\"]\n",
    "# n_estimators_self = [5, 50, 100,150, 200, 400, 500, 800, 1_000, 1_200]\n",
    "# max_depth_self = [None, 1, 2, 3, 4]\n",
    "# max_delta_step_self = [None, 1, 2, 3, 4]\n",
    "# min_child_weight_self = [None, 1, 2, 3, 4]\n",
    "booster_self = [\"gbtree\"]\n",
    "n_estimators_self = [1_200, 1_400, 1_600]\n",
    "max_depth_self = [None, 4]\n",
    "max_delta_step_self = [2,3,5]\n",
    "min_child_weight_self = [None, 1, 2]\n",
    "\n",
    "xb_choices = {\n",
    "    'booster': booster_self,\n",
    "    'n_estimators': n_estimators_self,\n",
    "    'max_depth': max_depth_self,\n",
    "    'max_delta_step': max_delta_step_self,\n",
    "    'min_child_weight': min_child_weight_self,\n",
    "}\n",
    "space_xb = {\n",
    "    **{key: hp.choice(key, value) for key, value in xb_choices.items()},\n",
    "    'eta': hp.loguniform('eta', -3, -.3),\n",
    "    # 'subsample': hp.uniform('subsample', 0.6, 1),\n",
    "    'reg_lambda': hp.uniform('reg_lambda', 0, 1),\n",
    "    'alpha': hp.uniform('alpha', 0.8, 1),#0.0,1\n",
    "}\n",
    "svc_choices = {\n",
    "    'kernel': [\"linear\",\"rbf\", \"sigmoid\"]\n",
    "}\n",
    "space_svc = {\n",
    "   **{key: hp.choice(key, value) for key, value in svc_choices.items()},\n",
    "     \"C\":hp.uniform(\"C\",0.0, 1.0)\n",
    "}\n",
    "\n",
    "space_lr = {\n",
    "    \"C\":hp.uniform(\"C\",0.0, 1.0)\n",
    "}\n",
    "\n",
    "def search_hyperparams():    \n",
    "    stores=[]\n",
    "    hops_lists = [[5]] #[[0,0, 0], [3,3, 3], [5,5, 5]]\n",
    "    for hops_list in tqdm(hops_lists):\n",
    "        store=dict({})\n",
    "        clfs = [XGBClassifier]\n",
    "        spaces= [space_xb, space_svc, space_lr]\n",
    "        space_choices= [xb_choices, svc_choices, {}]\n",
    "        hops_list = hops_list\n",
    "        attention_configs = [\n",
    "                            {'inter_layer_normalize': True,\n",
    "                             'use_pseudo_attention':True,\n",
    "                             'cosine_eps':.01,\n",
    "                             'dropout_attn': None}]\n",
    "        max_acc = 0\n",
    "        best_hops = None\n",
    "        best_user_function = None\n",
    "        best_attention_config = None\n",
    "        best_clf_params = None\n",
    "        best_clf = None\n",
    "        user_functions = [user_function for _ in hops_list]\n",
    "        for clf_idx, clf in tqdm(enumerate(clfs)):\n",
    "            space = spaces[clf_idx]\n",
    "            framework = Framework(user_functions, \n",
    "                         hops_list=hops_list, ## to obtain best for local neighborhood\n",
    "                         clfs=[],\n",
    "                         gpu_idx=0,\n",
    "                         handle_nan=0.0,\n",
    "                        attention_configs=attention_configs)\n",
    "    \n",
    "    \n",
    "            val_aggregated_feature_list = framework.get_features(val_set.x, val_set.edge_index, torch.ones(val_set.x.shape[0]).type(torch.bool))\n",
    "            train_aggregated_feature_list = framework.get_features(train_set.x, train_set.edge_index, torch.ones(train_set.x.shape[0]).type(torch.bool))## this shoould be indepent of the length of the classifiers list\n",
    "    \n",
    "            for i in range(len(val_aggregated_feature_list)):\n",
    "                print(clf)\n",
    "                print(hops_list[i])\n",
    "                X_val = val_aggregated_feature_list[i].cpu()\n",
    "                X_train = train_aggregated_feature_list[i].cpu()\n",
    "                def objective(params):\n",
    "                    model = MultiOutputClassifier(clf(**params, random_state = 42,tree_method='hist',\n",
    "                      device=\"cuda\"), n_jobs=1).fit(X_train, train_set.y)\n",
    "                    y_pred = model.predict(X_val)\n",
    "                    score = f1_score(val_set.y, y_pred, average =\"micro\")\n",
    "                    return {'loss': -score, 'status': STATUS_OK}\n",
    "                spark_trials = SparkTrials()\n",
    "                best_params = fmin(objective, space, algo=tpe.suggest, max_evals=100, trials=spark_trials)\n",
    "    \n",
    "                for key,value in space_choices[clf_idx].items():\n",
    "                    best_params[key] = value[best_params[key]]\n",
    "    \n",
    "                best_model = MultiOutputClassifier(clf(**best_params, random_state = 42,tree_method='hist',\n",
    "                      device=\"cuda\"), n_jobs=1).fit(X_train, train_set.y)\n",
    "                best_model.fit(X_train, train_set.y)\n",
    "                y_pred = best_model.predict(X_val)\n",
    "                score = f1_score(val_set.y, y_pred, average =\"micro\")\n",
    "                print(best_params)\n",
    "                if score >= max_acc:\n",
    "                    max_acc = score\n",
    "                    best_hops = hops_list[i]\n",
    "                    best_user_function = user_functions[i]\n",
    "                    best_attention_config = attention_configs[i]\n",
    "                    best_clf_params = best_params\n",
    "                    best_clf = clf\n",
    "        store[\"hops_list\"] = hops_list\n",
    "        store[\"max_acc\"] = max_acc\n",
    "        store[\"best_hops\"] = best_hops\n",
    "        store[\"best_user_function\"] = best_user_function\n",
    "        store[\"best_attention_config\"] = best_attention_config\n",
    "        store[\"best_clf_params\"] = best_clf_params\n",
    "        store[\"best_clf\"] = best_clf\n",
    "        stores.append(store)\n",
    "    return stores"
   ]
  },
  {
   "cell_type": "code",
   "execution_count": null,
   "id": "c49f06ab-ae6b-4eee-a08a-1c64554d0e38",
   "metadata": {
    "scrolled": true
   },
   "outputs": [
    {
     "data": {
      "application/vnd.jupyter.widget-view+json": {
       "model_id": "8bc319c240ef4b73b494b5dbf54c0d27",
       "version_major": 2,
       "version_minor": 0
      },
      "text/plain": [
       "  0%|          | 0/1 [00:00<?, ?it/s]"
      ]
     },
     "metadata": {},
     "output_type": "display_data"
    },
    {
     "data": {
      "application/vnd.jupyter.widget-view+json": {
       "model_id": "ee39f6a070874728a095f6ea0f7a8b79",
       "version_major": 2,
       "version_minor": 0
      },
      "text/plain": [
       "0it [00:00, ?it/s]"
      ]
     },
     "metadata": {},
     "output_type": "display_data"
    },
    {
     "name": "stdout",
     "output_type": "stream",
     "text": [
      "<class 'xgboost.sklearn.XGBClassifier'>\n",
      "5\n"
     ]
    },
    {
     "name": "stderr",
     "output_type": "stream",
     "text": [
      "Setting default log level to \"WARN\".\n",
      "To adjust logging level use sc.setLogLevel(newLevel). For SparkR, use setLogLevel(newLevel).\n",
      "23/12/11 11:47:36 WARN NativeCodeLoader: Unable to load native-hadoop library for your platform... using builtin-java classes where applicable\n",
      "Because the requested parallelism was None or a non-positive value, parallelism will be set to (64), which is Spark's default parallelism (64), or 1, whichever is greater. We recommend setting parallelism explicitly to a positive value because the total of Spark task slots is subject to cluster sizing.\n"
     ]
    },
    {
     "name": "stdout",
     "output_type": "stream",
     "text": [
      "\n",
      "\n",
      "  0%|                                                                           | 0/100 [00:00<?, ?trial/s, best loss=?]\u001b[A\u001b[A"
     ]
    },
    {
     "name": "stderr",
     "output_type": "stream",
     "text": [
      "[Stage 0:>    (0 + 1) / 1][Stage 1:>    (0 + 1) / 1][Stage 2:>    (0 + 1) / 1]1]\r"
     ]
    }
   ],
   "source": [
    "ppi_stores = search_hyperparams()"
   ]
  },
  {
   "cell_type": "code",
   "execution_count": null,
   "id": "3043bc84-f5f7-4203-9df9-6c04bebf211a",
   "metadata": {},
   "outputs": [],
   "source": [
    "ppi_stores"
   ]
  },
  {
   "cell_type": "code",
   "execution_count": 267,
   "id": "463ff3ad-40ec-40a7-bcfe-fb5a62a13a3a",
   "metadata": {},
   "outputs": [
    {
     "data": {
      "text/plain": [
       "tensor(0.7473)"
      ]
     },
     "execution_count": 267,
     "metadata": {},
     "output_type": "execute_result"
    }
   ],
   "source": [
    "np.equal(model.predict(test_set.x), test_set.y).sum()/ test_set.y.numel()"
   ]
  },
  {
   "cell_type": "code",
   "execution_count": 234,
   "id": "2588b959-5113-4240-bd94-1803e7449f63",
   "metadata": {},
   "outputs": [
    {
     "name": "stdout",
     "output_type": "stream",
     "text": [
      "torch.Size([1767, 50])\n"
     ]
    }
   ],
   "source": [
    "from EnsembleFramework import Framework\n",
    "\n",
    "def user_function(kwargs):\n",
    "    return  nn.functional.normalize(kwargs[\"updated_features\"] + kwargs[\"summed_neighbors\"], p = 2.0, dim = -1)\n",
    "    \n",
    "for train_batch in train_dataset:\n",
    "    framework = Framework(hops_list= [3], clfs=[], attention_configs=[{}], handle_nan=0.0, gpu_idx=0, user_functions=[user_function])\n",
    "    new_features = framework.get_features(X=train_batch.x, edge_index=train_batch.edge_index, mask=torch.ones(train_batch.x.shape[0]).type(torch.bool))\n",
    "    print(new_features[0].shape)\n",
    "    break"
   ]
  },
  {
   "cell_type": "code",
   "execution_count": 251,
   "id": "4220e904-2c92-4fb7-aff4-ebcdfc522cfc",
   "metadata": {},
   "outputs": [
    {
     "data": {
      "text/plain": [
       "44906"
      ]
     },
     "execution_count": 251,
     "metadata": {},
     "output_type": "execute_result"
    }
   ],
   "source": [
    "sum_shape = 0\n",
    "for batch in train_dataset:\n",
    "    sum_shape += batch.y.shape[0]\n",
    "sum_shape"
   ]
  },
  {
   "cell_type": "code",
   "execution_count": 151,
   "id": "cc85f6c9-a360-46b3-8858-0c8eb7080d23",
   "metadata": {},
   "outputs": [],
   "source": [
    "device = torch.device(\"cuda:0\")"
   ]
  },
  {
   "cell_type": "code",
   "execution_count": 235,
   "id": "0f3cd842-bb1c-4041-a82a-1aedf4bf9f70",
   "metadata": {},
   "outputs": [],
   "source": [
    "import torch\n",
    "from torch import nn\n",
    "from torch_geometric.nn import GATConv\n",
    "\n",
    "class Model(nn.Module):\n",
    "    def __init__(self, input_dim, hidden_dim, output_dim,heads):\n",
    "        super().__init__()\n",
    "        self.layer_1 = nn.ModuleList([nn.Linear(input_dim, hidden_dim) for _ in range(heads[0])])\n",
    "        self.layer_2 = nn.ModuleList([nn.Linear(hidden_dim*heads[0], hidden_dim) for _ in range(heads[1])])\n",
    "        self.layer_3 = nn.ModuleList([nn.Linear(hidden_dim*heads[0], output_dim) for _ in range(heads[2])])\n",
    "        self.layer_4 = nn.Linear(output_dim*heads[2], output_dim)\n",
    "        # self.layer_1 = GATConv(input_dim, hidden_dim, heads= 4, dropout=0.0, concat=True)\n",
    "        # self.layer_2 = GATConv(hidden_dim*4, hidden_dim, heads= 4, dropout=0.0, concat=True)\n",
    "        # self.layer_3 = GATConv(hidden_dim*4, output_dim, heads= 6, dropout=0.0, concat=False)\n",
    "\n",
    "    def forward(self, x, edge_index):\n",
    "        hidden_dims = []\n",
    "        for lin in self.layer_1:\n",
    "            hidden = lin(x)\n",
    "            hidden = nn.functional.elu(hidden)\n",
    "            hidden_dims.append(hidden)\n",
    "        x = torch.cat(hidden_dims, dim = -1)\n",
    "        hidden_dims = []\n",
    "        for lin in self.layer_2:\n",
    "            hidden = lin(x)\n",
    "            hidden = nn.functional.elu(hidden)\n",
    "            hidden_dims.append(hidden)\n",
    "        x = torch.cat(hidden_dims, dim = -1)\n",
    "        hidden_dims = []\n",
    "        for lin in self.layer_3:\n",
    "            hidden = lin(x)\n",
    "            hidden = nn.functional.elu(hidden)\n",
    "            hidden_dims.append(hidden)\n",
    "        x = torch.cat(hidden_dims, dim = -1)\n",
    "        x = self.layer_4(x)\n",
    "        return x"
   ]
  },
  {
   "cell_type": "code",
   "execution_count": 244,
   "id": "c71f8462-aaf7-4fe9-8b14-c14bb31a50fc",
   "metadata": {},
   "outputs": [],
   "source": [
    "model = Model(X_train.shape[1], 64, y_train.shape[1], heads = [4,4,6]).to(device)#256\n",
    "learning_rate = 5e-3\n",
    "epochs = 200\n",
    "opt = torch.optim.Adam(model.parameters(), lr = learning_rate)\n",
    "loss_fn = nn.BCEWithLogitsLoss(reduction='mean')\n",
    "\n",
    "train_losses = []"
   ]
  },
  {
   "cell_type": "code",
   "execution_count": 241,
   "id": "f782cbd9-5465-45cc-b3ac-1b2b0095d207",
   "metadata": {},
   "outputs": [],
   "source": [
    "framework = Framework(hops_list= [8], clfs=[], attention_configs=[{}], handle_nan=0.0, gpu_idx=0, user_functions=[user_function])\n",
    "def train(model):\n",
    "    global epochs, loss_fn, opt\n",
    "    for epoch in range(epochs):\n",
    "        acc_loss = 0\n",
    "        batch_size = 0\n",
    "        for train_batch in train_dataset:\n",
    "            new_features = framework.get_features(X=train_batch.x, edge_index=train_batch.edge_index, mask=torch.ones(train_batch.x.shape[0]).type(torch.bool))\n",
    "            X = new_features[0].to(device)\n",
    "            y = train_batch.y.to(device)\n",
    "            edge_index = train_batch.edge_index.to(device)\n",
    "            model.train()\n",
    "            out = model(X, edge_index)\n",
    "            loss = loss_fn(out, y)\n",
    "            # train_losses.append(loss.sum().item())\n",
    "            opt.zero_grad()\n",
    "            loss.backward()\n",
    "            opt.step()\n",
    "            batch_size+= 1\n",
    "            acc_loss+=loss.item()\n",
    "        # print(f\"Train {acc_loss/batch_size}\")\n",
    "        evaluate_val(model)\n",
    "        \n",
    "    return model"
   ]
  },
  {
   "cell_type": "code",
   "execution_count": 242,
   "id": "4ec12dd1-e437-4b82-aa3b-a9ef7b037576",
   "metadata": {
    "scrolled": true
   },
   "outputs": [
    {
     "name": "stdout",
     "output_type": "stream",
     "text": [
      "0.5430594682693481\n",
      "0.5424825549125671\n",
      "0.5424716174602509\n",
      "0.5424311757087708\n",
      "0.5424549281597137\n",
      "0.5426161289215088\n",
      "0.5421475470066071\n",
      "0.5422431528568268\n",
      "0.5421760082244873\n",
      "0.5418714284896851\n",
      "0.5427609086036682\n",
      "0.5419675409793854\n",
      "0.5447702407836914\n",
      "0.7008543312549591\n",
      "0.7002492547035217\n",
      "0.552751362323761\n",
      "0.5418860018253326\n",
      "0.542603075504303\n",
      "0.5415277481079102\n",
      "0.5415927767753601\n",
      "0.5415101051330566\n",
      "0.5412891805171967\n",
      "0.5411690175533295\n",
      "0.5411224365234375\n",
      "0.5410727560520172\n",
      "0.5410295724868774\n",
      "0.5410719513893127\n",
      "0.5411356985569\n",
      "0.541136622428894\n",
      "0.5416967570781708\n",
      "0.5413985550403595\n",
      "0.5422426760196686\n",
      "0.5407573580741882\n",
      "0.5422178208827972\n",
      "0.5409322381019592\n",
      "0.5415723025798798\n",
      "0.5414955317974091\n",
      "0.541932076215744\n",
      "0.541016012430191\n",
      "0.5405883193016052\n",
      "0.5419783592224121\n",
      "0.54085573554039\n",
      "0.5403166115283966\n",
      "0.5411010980606079\n",
      "0.5416159331798553\n",
      "0.5409170389175415\n",
      "0.5404464900493622\n",
      "0.5416751801967621\n",
      "0.5405725538730621\n",
      "0.5404481589794159\n",
      "0.5397991836071014\n",
      "0.5400949418544769\n",
      "0.5402602255344391\n",
      "0.5407506227493286\n",
      "0.5406529903411865\n",
      "0.5407743752002716\n",
      "0.5404545664787292\n",
      "0.5403009355068207\n",
      "0.5432721376419067\n",
      "0.5407310128211975\n",
      "0.5405688583850861\n",
      "0.5411551892757416\n",
      "0.5401890277862549\n",
      "0.5439452826976776\n",
      "0.5411987900733948\n",
      "0.5402423739433289\n",
      "0.5401494204998016\n",
      "0.5418431758880615\n",
      "0.5402052700519562\n",
      "0.5402687788009644\n",
      "0.5401714742183685\n",
      "0.5425098538398743\n",
      "0.5415471196174622\n",
      "0.5405732691287994\n",
      "0.5395976603031158\n",
      "0.5403328835964203\n",
      "0.5408201515674591\n",
      "0.541543573141098\n",
      "0.5406450629234314\n",
      "0.541612297296524\n",
      "0.5398477017879486\n",
      "0.5398662686347961\n",
      "0.540754646062851\n",
      "0.5406367480754852\n",
      "0.5399531126022339\n",
      "0.539938360452652\n",
      "0.5401082336902618\n",
      "0.5406744182109833\n",
      "0.5408711433410645\n",
      "0.5402820110321045\n",
      "0.5405839383602142\n",
      "0.5396251082420349\n",
      "0.5400102138519287\n",
      "0.540400356054306\n",
      "0.542256236076355\n",
      "0.5406036674976349\n",
      "0.540735512971878\n",
      "0.5404709875583649\n",
      "0.5396067500114441\n",
      "0.5432884097099304\n",
      "0.540065348148346\n",
      "0.5431266725063324\n",
      "0.5405062437057495\n",
      "0.5402617156505585\n",
      "0.5399751961231232\n",
      "0.5410932302474976\n",
      "0.5411550998687744\n",
      "0.5402598083019257\n",
      "0.5398730337619781\n",
      "0.5409702360630035\n",
      "0.540362685918808\n",
      "0.541619062423706\n",
      "0.5395153760910034\n",
      "0.5405743420124054\n",
      "0.5401121079921722\n",
      "0.540397047996521\n",
      "0.5415379703044891\n",
      "0.5389735996723175\n",
      "0.5425865948200226\n",
      "0.5406317114830017\n",
      "0.5406939089298248\n",
      "0.5395860970020294\n",
      "0.541892945766449\n",
      "0.5399045646190643\n",
      "0.5406710505485535\n",
      "0.5403002798557281\n",
      "0.5429930686950684\n",
      "0.5399688184261322\n",
      "0.5397162139415741\n",
      "0.5406554639339447\n",
      "0.5400038957595825\n",
      "0.5394739508628845\n",
      "0.5401372611522675\n",
      "0.5393098592758179\n",
      "0.5407753884792328\n",
      "0.5394270718097687\n",
      "0.5401206910610199\n",
      "0.5389834642410278\n",
      "0.5395367443561554\n",
      "0.5431360304355621\n",
      "0.5411170423030853\n",
      "0.5395903289318085\n",
      "0.5417455434799194\n",
      "0.5398286879062653\n",
      "0.5403164625167847\n",
      "0.5405929386615753\n",
      "0.5389373302459717\n",
      "0.5406466424465179\n",
      "0.540213942527771\n",
      "0.5424695312976837\n",
      "0.5394443273544312\n",
      "0.5405447781085968\n",
      "0.5405982434749603\n",
      "0.5409162640571594\n",
      "0.5394570827484131\n",
      "0.5406701564788818\n",
      "0.5388704240322113\n",
      "0.541398674249649\n",
      "0.5395902693271637\n",
      "0.5388098359107971\n",
      "0.5412142276763916\n",
      "0.5399730205535889\n",
      "0.5391678512096405\n",
      "0.5399994850158691\n",
      "0.5403358340263367\n",
      "0.5394323170185089\n",
      "0.5394059419631958\n",
      "0.5395500659942627\n",
      "0.5388049483299255\n",
      "0.5425923466682434\n",
      "0.53970867395401\n",
      "0.5445460379123688\n",
      "0.539800614118576\n",
      "0.539835125207901\n",
      "0.5391486287117004\n",
      "0.5383752286434174\n",
      "0.5401254296302795\n",
      "0.5411768555641174\n",
      "0.5395174026489258\n",
      "0.5398948192596436\n",
      "0.5408088862895966\n",
      "0.5386823415756226\n",
      "0.5450491011142731\n",
      "0.5414654314517975\n",
      "0.5478432774543762\n",
      "0.5395271182060242\n",
      "0.540590226650238\n",
      "0.5395987629890442\n",
      "0.5737351179122925\n",
      "1.4454161524772644\n",
      "0.8823598027229309\n",
      "0.6131361722946167\n",
      "0.5525300800800323\n",
      "0.5457629561424255\n",
      "0.5441403985023499\n",
      "0.5440093576908112\n",
      "0.5439939200878143\n",
      "0.543985515832901\n",
      "0.543948233127594\n",
      "0.5439224243164062\n"
     ]
    }
   ],
   "source": [
    "model = train(model)"
   ]
  },
  {
   "cell_type": "code",
   "execution_count": 245,
   "id": "244e4e31-236b-4843-bcd8-da353224fd87",
   "metadata": {},
   "outputs": [
    {
     "name": "stdout",
     "output_type": "stream",
     "text": [
      "0.37240967304317524\n",
      "0.3811123891251061\n"
     ]
    }
   ],
   "source": [
    "evaluate_f1(model)"
   ]
  },
  {
   "cell_type": "code",
   "execution_count": null,
   "id": "fd273031-6dce-496b-9055-e0dfd0fa56b5",
   "metadata": {},
   "outputs": [],
   "source": [
    "from sklearn.metrics import f1_score\n",
    "\n",
    "def evaluate_f1(model):\n",
    "    with torch.inference_mode():\n",
    "        model.eval()\n",
    "        for test_batch in test_dataset:\n",
    "            new_features = framework.get_features(X=test_batch.x, edge_index=test_batch.edge_index, mask=torch.ones(test_batch.x.shape[0]).type(torch.bool))\n",
    "            X = new_features[0].to(device)\n",
    "            y = test_batch.y.to(device)\n",
    "            edge_index = test_batch.edge_index.to(device)\n",
    "            logits = model(X, edge_index)\n",
    "            loss = loss_fn(logits, y)\n",
    "            proba = torch.sigmoid(logits)\n",
    "            pred = torch.round(proba)\n",
    "            micro_f1 = f1_score(y.cpu(), pred.cpu(), average='micro')\n",
    "            print(micro_f1)"
   ]
  },
  {
   "cell_type": "code",
   "execution_count": 181,
   "id": "3f2c6d42-bf42-44f3-ab77-d1a36a8ed8bd",
   "metadata": {},
   "outputs": [],
   "source": [
    "def evaluate_val(model):\n",
    "    with torch.inference_mode():\n",
    "        model.eval()\n",
    "        acc_loss = 0\n",
    "        batch_size = 0\n",
    "        for test_batch in val_dataset:\n",
    "            new_features = framework.get_features(X=test_batch.x, edge_index=test_batch.edge_index, mask=torch.ones(test_batch.x.shape[0]).type(torch.bool))\n",
    "            X = new_features[0].to(device)\n",
    "            y = test_batch.y.to(device)\n",
    "            edge_index = test_batch.edge_index.to(device)\n",
    "            logits = model(X, edge_index)\n",
    "            loss = loss_fn(logits, y)\n",
    "            acc_loss+= loss.item()\n",
    "            batch_size += 1\n",
    "        print(acc_loss / batch_size)"
   ]
  },
  {
   "cell_type": "code",
   "execution_count": 180,
   "id": "d4995382-7c46-4efd-8578-fcc9147a34ea",
   "metadata": {},
   "outputs": [],
   "source": [
    "def evaluate(model):\n",
    "    with torch.inference_mode():\n",
    "        model.eval()\n",
    "        for test_batch in test_loader:\n",
    "            X = test_batch.x.to(device)\n",
    "            y = test_batch.y.to(device)\n",
    "            edge_index = test_batch.edge_index.to(device)\n",
    "            logits = model(X, edge_index)\n",
    "            loss = loss_fn(logits, y)\n",
    "            print(loss)"
   ]
  },
  {
   "cell_type": "code",
   "execution_count": 51,
   "id": "9c4132ce-7f27-45d1-abc8-6884b323a393",
   "metadata": {},
   "outputs": [
    {
     "data": {
      "text/plain": [
       "[<matplotlib.lines.Line2D at 0x7f39725396c0>]"
      ]
     },
     "execution_count": 51,
     "metadata": {},
     "output_type": "execute_result"
    },
    {
     "data": {
      "image/png": "[encoded data removed]",
      "text/plain": [
       "<Figure size 640x480 with 1 Axes>"
      ]
     },
     "metadata": {},
     "output_type": "display_data"
    }
   ],
   "source": [
    "import matplotlib.pyplot as plt\n",
    "plt.plot(train_losses)"
   ]
  },
  {
   "cell_type": "code",
   "execution_count": 22,
   "id": "8f110294-f9a3-499f-bd93-d1fd280043f2",
   "metadata": {},
   "outputs": [],
   "source": [
    "from sklearn.metrics import f1_score\n",
    "import numpy as np\n",
    "def print_eval(y_pred):\n",
    "    micro_f1 = f1_score(test_data.y, y_pred, average='micro')\n",
    "    ratio_corr_labels = np.equal(test_data.y, y_pred).sum() / test_data.y.numel()\n",
    "    print(f\"F1-micro {str(micro_f1)} - Overall-Acc: {str(ratio_corr_labels)}\")"
   ]
  },
  {
   "cell_type": "code",
   "execution_count": 23,
   "id": "ebe065a8-b8f7-4959-ad5d-ac94f9a5cef6",
   "metadata": {},
   "outputs": [
    {
     "name": "stdout",
     "output_type": "stream",
     "text": [
      "tensor(0.5436, device='cuda:0')\n"
     ]
    }
   ],
   "source": [
    "evaluate(model, X_train, y_train)"
   ]
  },
  {
   "cell_type": "code",
   "execution_count": 25,
   "id": "585f6560-6e56-41d4-b923-ab4d549f7698",
   "metadata": {},
   "outputs": [
    {
     "name": "stdout",
     "output_type": "stream",
     "text": [
      "F1-micro 0.4263748920241866 - Overall-Acc: tensor(0.7467)\n"
     ]
    }
   ],
   "source": [
    "with torch.inference_mode():\n",
    "    model.eval()\n",
    "    y_pred = torch.round(torch.sigmoid(model(X_test))).detach().cpu()\n",
    "    print_eval(y_pred)"
   ]
  },
  {
   "cell_type": "code",
   "execution_count": null,
   "id": "e1a8fe19-5205-4754-a0a4-65ddd965bb98",
   "metadata": {},
   "outputs": [],
   "source": []
  }
 ],
 "metadata": {
  "kernelspec": {
   "display_name": "Python 3 (ipykernel)",
   "language": "python",
   "name": "python3"
  },
  "language_info": {
   "codemirror_mode": {
    "name": "ipython",
    "version": 3
   },
   "file_extension": ".py",
   "mimetype": "text/x-python",
   "name": "python",
   "nbconvert_exporter": "python",
   "pygments_lexer": "ipython3",
   "version": "3.10.12"
  }
 },
 "nbformat": 4,
 "nbformat_minor": 5
}
