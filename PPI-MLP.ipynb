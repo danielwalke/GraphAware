{
 "cells": [
  {
   "cell_type": "code",
   "execution_count": 1,
   "id": "2fedec7e-b40b-4639-baec-2040f1a07fba",
   "metadata": {},
   "outputs": [],
   "source": [
    "from EnsembleFramework import Framework"
   ]
  },
  {
   "cell_type": "code",
   "execution_count": 184,
   "id": "0f3cd842-bb1c-4041-a82a-1aedf4bf9f70",
   "metadata": {},
   "outputs": [],
   "source": [
    "import torch\n",
    "from torch import nn\n",
    "from torch_geometric.nn import GATConv\n",
    "\n",
    "class Model(nn.Module):\n",
    "    def __init__(self, input_dim, hidden_dim, output_dim):\n",
    "        super().__init__()\n",
    "        self.layer_1 = nn.Linear(input_dim, hidden_dim)\n",
    "        self.layer_2 = nn.Linear(hidden_dim, hidden_dim)\n",
    "        self.layer_3 = nn.Linear(hidden_dim, output_dim)\n",
    "        self.layer_1 = GATConv(input_dim, hidden_dim, heads= 4, dropout=0.0)\n",
    "        self.layer_2 = GATConv(hidden_dim, hidden_dim, heads= 4, dropout=0.0)\n",
    "        self.layer_3 = GATConv(hidden_dim, output_dim, heads= 6, dropout=0.0)\n",
    "\n",
    "    def forward(self, x):\n",
    "        x = self.layer_1(x)\n",
    "        x = nn.functional.elu(x)\n",
    "        x = self.layer_2(x)\n",
    "        x = nn.functional.elu(x)\n",
    "        x = self.layer_3(x)\n",
    "        # x = nn.functional.sigmoid(x)\n",
    "        return x"
   ]
  },
  {
   "cell_type": "code",
   "execution_count": 185,
   "id": "ff17fc77-ad91-4c3f-ad39-88e7ea7a122b",
   "metadata": {},
   "outputs": [],
   "source": [
    "from torch_geometric.datasets import PPI\n",
    "import torch_geometric.transforms as T\n",
    "from torch_geometric.utils import add_self_loops\n",
    "from torch_geometric.loader import DataLoader\n",
    "\n",
    "train_dataset = PPI(root='/tmp/PPI', split=\"train\")\n",
    "val_dataset = PPI(root='/tmp/PPI', split=\"val\")\n",
    "test_dataset = PPI(root='/tmp/PPI', split=\"test\")\n",
    "train_dataset.transform = T.NormalizeFeatures()\n",
    "val_dataset.transform = T.NormalizeFeatures()\n",
    "test_dataset.transform = T.NormalizeFeatures()\n",
    "\n",
    "train_loader = iter(DataLoader(train_dataset, batch_size=len(train_dataset)))\n",
    "val_loader = iter(DataLoader(val_dataset, batch_size=len(val_dataset)))\n",
    "test_loader = iter(DataLoader(test_dataset, batch_size=len(test_dataset)))\n",
    "\n",
    "train_data = next(train_loader)\n",
    "val_data = next(val_loader)\n",
    "test_data = next(test_loader)"
   ]
  },
  {
   "cell_type": "code",
   "execution_count": 186,
   "id": "3f2cca31-aa46-4e97-83da-2ce7f5375c85",
   "metadata": {},
   "outputs": [],
   "source": [
    "X_train = train_data.x\n",
    "y_train = train_data.y\n",
    "\n",
    "X_test = test_data.x\n",
    "y_test = test_data.y"
   ]
  },
  {
   "cell_type": "code",
   "execution_count": 187,
   "id": "cc85f6c9-a360-46b3-8858-0c8eb7080d23",
   "metadata": {},
   "outputs": [],
   "source": [
    "device = torch.device(\"cuda:0\")\n",
    "\n",
    "X_train = X_train.to(device)\n",
    "y_train = y_train.to(device)\n",
    "X_test = X_test.to(device)\n",
    "y_test = y_test.to(device)"
   ]
  },
  {
   "cell_type": "code",
   "execution_count": 209,
   "id": "f782cbd9-5465-45cc-b3ac-1b2b0095d207",
   "metadata": {},
   "outputs": [],
   "source": [
    "def train(model, X_train, y_train):\n",
    "    global epochs, loss_fn, opt\n",
    "    for epoch in range(epochs):\n",
    "        model.train()\n",
    "        out = model(X_train)\n",
    "        loss = loss_fn(out, y_train)\n",
    "        train_losses.append(loss.sum().item())\n",
    "        opt.zero_grad()\n",
    "        loss.backward()\n",
    "        opt.step()\n",
    "    return model"
   ]
  },
  {
   "cell_type": "code",
   "execution_count": 210,
   "id": "d4995382-7c46-4efd-8578-fcc9147a34ea",
   "metadata": {},
   "outputs": [],
   "source": [
    "def evaluate(model, X_test, y_test):\n",
    "    with torch.inference_mode():\n",
    "        model.eval()\n",
    "        logits = model(X_test)\n",
    "        loss = loss_fn(logits, y_test)\n",
    "        print(loss)"
   ]
  },
  {
   "cell_type": "code",
   "execution_count": 233,
   "id": "c71f8462-aaf7-4fe9-8b14-c14bb31a50fc",
   "metadata": {},
   "outputs": [],
   "source": [
    "model = Model(X_train.shape[1], 256, y_train.shape[1]).to(device)\n",
    "learning_rate = 5e-3\n",
    "epochs = 100\n",
    "opt = torch.optim.Adam(model.parameters(), lr = learning_rate)\n",
    "loss_fn = nn.BCEWithLogitsLoss(reduction='mean')\n",
    "\n",
    "train_losses = []"
   ]
  },
  {
   "cell_type": "code",
   "execution_count": 234,
   "id": "5e77970b-96b9-421d-86a8-484e7a75ee5f",
   "metadata": {},
   "outputs": [
    {
     "data": {
      "text/plain": [
       "torch.Size([44906, 50])"
      ]
     },
     "execution_count": 234,
     "metadata": {},
     "output_type": "execute_result"
    }
   ],
   "source": [
    "X_train.shape"
   ]
  },
  {
   "cell_type": "code",
   "execution_count": 235,
   "id": "244e4e31-236b-4843-bcd8-da353224fd87",
   "metadata": {},
   "outputs": [
    {
     "name": "stdout",
     "output_type": "stream",
     "text": [
      "tensor(0.6945, device='cuda:0')\n"
     ]
    }
   ],
   "source": [
    "evaluate(model, X_train, y_train)"
   ]
  },
  {
   "cell_type": "code",
   "execution_count": 236,
   "id": "4ec12dd1-e437-4b82-aa3b-a9ef7b037576",
   "metadata": {},
   "outputs": [],
   "source": [
    "model = train(model, X_train, y_train)"
   ]
  },
  {
   "cell_type": "code",
   "execution_count": 237,
   "id": "9c4132ce-7f27-45d1-abc8-6884b323a393",
   "metadata": {},
   "outputs": [
    {
     "data": {
      "text/plain": [
       "[<matplotlib.lines.Line2D at 0x7f7be4896110>]"
      ]
     },
     "execution_count": 237,
     "metadata": {},
     "output_type": "execute_result"
    },
    {
     "data": {
      "image/png": "[encoded data removed]",
      "text/plain": [
       "<Figure size 640x480 with 1 Axes>"
      ]
     },
     "metadata": {},
     "output_type": "display_data"
    }
   ],
   "source": [
    "import matplotlib.pyplot as plt\n",
    "plt.plot(train_losses)"
   ]
  },
  {
   "cell_type": "code",
   "execution_count": 238,
   "id": "8f110294-f9a3-499f-bd93-d1fd280043f2",
   "metadata": {},
   "outputs": [],
   "source": [
    "from sklearn.metrics import f1_score\n",
    "import numpy as np\n",
    "def print_eval(y_pred):\n",
    "    micro_f1 = f1_score(test_data.y, y_pred, average='micro')\n",
    "    ratio_corr_labels = np.equal(test_data.y, y_pred).sum() / test_data.y.numel()\n",
    "    print(f\"F1-micro {str(micro_f1)} - Overall-Acc: {str(ratio_corr_labels)}\")"
   ]
  },
  {
   "cell_type": "code",
   "execution_count": 239,
   "id": "ebe065a8-b8f7-4959-ad5d-ac94f9a5cef6",
   "metadata": {},
   "outputs": [
    {
     "name": "stdout",
     "output_type": "stream",
     "text": [
      "tensor(0.5438, device='cuda:0')\n"
     ]
    }
   ],
   "source": [
    "evaluate(model, X_train, y_train)"
   ]
  },
  {
   "cell_type": "code",
   "execution_count": 240,
   "id": "585f6560-6e56-41d4-b923-ab4d549f7698",
   "metadata": {},
   "outputs": [
    {
     "name": "stdout",
     "output_type": "stream",
     "text": [
      "F1-micro 0.42403376881143023 - Overall-Acc: tensor(0.7465)\n"
     ]
    }
   ],
   "source": [
    "with torch.inference_mode():\n",
    "    model.eval()\n",
    "    y_pred = torch.round(torch.sigmoid(model(X_test))).detach().cpu()\n",
    "    print_eval(y_pred)"
   ]
  },
  {
   "cell_type": "code",
   "execution_count": null,
   "id": "e1a8fe19-5205-4754-a0a4-65ddd965bb98",
   "metadata": {},
   "outputs": [],
   "source": []
  }
 ],
 "metadata": {
  "kernelspec": {
   "display_name": "Python 3 (ipykernel)",
   "language": "python",
   "name": "python3"
  },
  "language_info": {
   "codemirror_mode": {
    "name": "ipython",
    "version": 3
   },
   "file_extension": ".py",
   "mimetype": "text/x-python",
   "name": "python",
   "nbconvert_exporter": "python",
   "pygments_lexer": "ipython3",
   "version": "3.10.12"
  }
 },
 "nbformat": 4,
 "nbformat_minor": 5
}
