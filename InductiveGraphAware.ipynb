{
 "cells": [
  {
   "cell_type": "code",
   "execution_count": 1,
   "id": "87003c47-b14b-4138-a8c5-727a0ac77a81",
   "metadata": {},
   "outputs": [
    {
     "name": "stderr",
     "output_type": "stream",
     "text": [
      "/home/dwalke/.local/lib/python3.10/site-packages/transformers/utils/generic.py:441: UserWarning: torch.utils._pytree._register_pytree_node is deprecated. Please use torch.utils._pytree.register_pytree_node instead.\n",
      "  _torch_pytree._register_pytree_node(\n"
     ]
    }
   ],
   "source": [
    "from torch.nn.functional import normalize\n",
    "from GraphAwareNestedCVEvaluationInductive import GraphAwareNestedCVEvaluationInductive\n",
    "from torch_geometric.datasets import PPI\n",
    "import torch_geometric.transforms as T\n",
    "from torch_geometric.utils import add_self_loops\n",
    "from hyperopt import hp\n",
    "import numpy as np\n",
    "from tqdm.notebook import tqdm\n",
    "from sklearn.linear_model import LogisticRegression\n",
    "import shap\n",
    "import torch\n",
    "from NestedCV import index_to_mask\n",
    "from xgboost import XGBClassifier"
   ]
  },
  {
   "cell_type": "code",
   "execution_count": 2,
   "id": "bb811edd-a4aa-4398-9bb9-9358e107dea3",
   "metadata": {},
   "outputs": [],
   "source": [
    "dataset = PPI(root='data/PPI')\n",
    "dataset.transform = T.NormalizeFeatures()\n",
    "# for data in dataset:\n",
    "#     data.edge_index = add_self_loops(data.edge_index)[0]"
   ]
  },
  {
   "cell_type": "code",
   "execution_count": null,
   "id": "b14067e7-13f6-481f-82a9-5a6fded8d783",
   "metadata": {},
   "outputs": [],
   "source": []
  },
  {
   "cell_type": "code",
   "execution_count": 3,
   "id": "49e16ff5-b97d-4746-8ed0-c4245b2715c2",
   "metadata": {},
   "outputs": [],
   "source": [
    "def user_function(kwargs):\n",
    "    return  kwargs[\"original_features\"] + kwargs[\"summed_neighbors\"]\n",
    "    \n",
    "class ModelSpace():\n",
    "    def __init__(self):\n",
    "        self.space = None\n",
    "        self.initialize_space()\n",
    "\n",
    "    def initialize_space(self):\n",
    "        framework_choices = {\n",
    "            'hops': [[3]],\n",
    "            'attention_config': [{'inter_layer_normalize': False,\n",
    "    'use_pseudo_attention': True,\n",
    "    'cosine_eps': 0.01,\n",
    "    'dropout_attn': None}],\n",
    "            'user_function': [user_function],\n",
    "        }\n",
    "         \n",
    "        self.space = {\n",
    "            **{key: hp.choice(key, value) for key, value in framework_choices.items()}\n",
    "        }\n",
    "        \n",
    "    def add_choice(self, key, items):\n",
    "        self.space[key] = hp.choice(key, items)\n",
    "        \n",
    "    def add_uniform(self, key, limits: tuple):\n",
    "        self.space[key] = hp.uniform(key, limits[0], limits[1])\n",
    "        \n",
    "    def add_loguniform(self, key, limits: tuple):\n",
    "        self.space[key] = hp.loguniform(key, np.log(limits[0]), np.log(limits[1]))\n",
    "        \n",
    "    def add_qloguniform(self, key, limits, q):\n",
    "        self.space[key] = hp.qloguniform(key, low=np.log(limits[0]), high=np.log(limits[1]), q=q)\n",
    "\n",
    "class XGBSpace(ModelSpace):\n",
    "    def __init__(self):\n",
    "        super().__init__()\n",
    "\n",
    "    def get_space(self):\n",
    "        self.add_choice(\"booster\", [\"gbtree\"])\n",
    "        self.add_choice(\"n_estimators\", [1_400])\n",
    "        self.add_choice(\"max_depth\", [None])\n",
    "        self.add_choice(\"max_delta_step\", [1])\n",
    "        self.add_choice(\"min_child_weight\", [None])\n",
    "        self.add_choice(\"device\", [\"cpu\"])\n",
    "        self.add_choice(\"tree_method\", [\"hist\"])\n",
    "        self.add_choice(\"scale_pos_weight\", [2])\n",
    "\n",
    "        self.add_choice(\"early_stopping_rounds\", [10])\n",
    "        self.add_choice(\"eval_metric\", [\"error\"])\n",
    "        \n",
    "        self.add_loguniform(\"eta\", (0.24, 0.24+0.01))\n",
    "        self.add_loguniform(\"reg_lambda\", (0.023, 0.023+0.01))\n",
    "        self.add_loguniform(\"reg_alpha\", (0.066, 0.066+0.01))\n",
    "\n",
    "        self.add_uniform(\"subsample\", (0.99, 1))\n",
    "        self.add_uniform(\"gamma\", (0.05, 0.05+0.01))\n",
    "        self.add_uniform(\"colsample_bytree\", (0.99, 1))\n",
    "        return self.space   "
   ]
  },
  {
   "cell_type": "code",
   "execution_count": 4,
   "id": "d0304852-f2e2-4171-bf8a-dd659944fd44",
   "metadata": {},
   "outputs": [],
   "source": [
    "xgb_space = XGBSpace()"
   ]
  },
  {
   "cell_type": "code",
   "execution_count": 15,
   "id": "86607f39-f4b3-4b93-bbbd-220e922010b3",
   "metadata": {},
   "outputs": [],
   "source": [
    "store = dict({})"
   ]
  },
  {
   "cell_type": "code",
   "execution_count": 16,
   "id": "31edaa1a-8f09-4895-9f5d-781c7de06c60",
   "metadata": {
    "scrolled": true
   },
   "outputs": [
    {
     "data": {
      "application/vnd.jupyter.widget-view+json": {
       "model_id": "2ab59bf0611649749d4859f8649081fa",
       "version_major": 2,
       "version_minor": 0
      },
      "text/plain": [
       "0it [00:00, ?it/s]"
      ]
     },
     "metadata": {},
     "output_type": "display_data"
    },
    {
     "name": "stderr",
     "output_type": "stream",
     "text": [
      "/home/dwalke/.local/lib/python3.10/site-packages/transformers/utils/generic.py:441: UserWarning: torch.utils._pytree._register_pytree_node is deprecated. Please use torch.utils._pytree.register_pytree_node instead.\n",
      "  _torch_pytree._register_pytree_node(\n",
      "/home/dwalke/git/graph_aware_ml/EnsembleFramework.py:328: UserWarning: The reduce argument of torch.scatter with Tensor src is deprecated and will be removed in a future PyTorch release. Use torch.scatter_reduce instead for more reduction options. (Triggered internally at ../aten/src/ATen/native/TensorAdvancedIndexing.cpp:231.)\n",
      "  summed_exp_score = torch.zeros_like(exp_score).scatter(0, target,exp_score, reduce=\"add\")\n",
      "Total Trials: 1: 1 succeeded, 0 failed, 0 cancelled.                            \n",
      "/home/dwalke/.local/lib/python3.10/site-packages/transformers/utils/generic.py:441: UserWarning: torch.utils._pytree._register_pytree_node is deprecated. Please use torch.utils._pytree.register_pytree_node instead.\n",
      "  _torch_pytree._register_pytree_node(\n",
      "/home/dwalke/git/graph_aware_ml/EnsembleFramework.py:328: UserWarning: The reduce argument of torch.scatter with Tensor src is deprecated and will be removed in a future PyTorch release. Use torch.scatter_reduce instead for more reduction options. (Triggered internally at ../aten/src/ATen/native/TensorAdvancedIndexing.cpp:231.)\n",
      "  summed_exp_score = torch.zeros_like(exp_score).scatter(0, target,exp_score, reduce=\"add\")\n",
      "Total Trials: 1: 1 succeeded, 0 failed, 0 cancelled.                            \n",
      "/home/dwalke/.local/lib/python3.10/site-packages/transformers/utils/generic.py:441: UserWarning: torch.utils._pytree._register_pytree_node is deprecated. Please use torch.utils._pytree.register_pytree_node instead.\n",
      "  _torch_pytree._register_pytree_node(\n",
      "/home/dwalke/git/graph_aware_ml/EnsembleFramework.py:328: UserWarning: The reduce argument of torch.scatter with Tensor src is deprecated and will be removed in a future PyTorch release. Use torch.scatter_reduce instead for more reduction options. (Triggered internally at ../aten/src/ATen/native/TensorAdvancedIndexing.cpp:231.)\n",
      "  summed_exp_score = torch.zeros_like(exp_score).scatter(0, target,exp_score, reduce=\"add\")\n",
      "Total Trials: 1: 1 succeeded, 0 failed, 0 cancelled.                            \n",
      "/home/dwalke/.local/lib/python3.10/site-packages/transformers/utils/generic.py:441: UserWarning: torch.utils._pytree._register_pytree_node is deprecated. Please use torch.utils._pytree.register_pytree_node instead.\n",
      "  _torch_pytree._register_pytree_node(\n",
      "/home/dwalke/git/graph_aware_ml/EnsembleFramework.py:328: UserWarning: The reduce argument of torch.scatter with Tensor src is deprecated and will be removed in a future PyTorch release. Use torch.scatter_reduce instead for more reduction options. (Triggered internally at ../aten/src/ATen/native/TensorAdvancedIndexing.cpp:231.)\n",
      "  summed_exp_score = torch.zeros_like(exp_score).scatter(0, target,exp_score, reduce=\"add\")\n",
      "Total Trials: 1: 1 succeeded, 0 failed, 0 cancelled.                            \n",
      "/home/dwalke/.local/lib/python3.10/site-packages/transformers/utils/generic.py:441: UserWarning: torch.utils._pytree._register_pytree_node is deprecated. Please use torch.utils._pytree.register_pytree_node instead.\n",
      "  _torch_pytree._register_pytree_node(\n",
      "/home/dwalke/git/graph_aware_ml/EnsembleFramework.py:328: UserWarning: The reduce argument of torch.scatter with Tensor src is deprecated and will be removed in a future PyTorch release. Use torch.scatter_reduce instead for more reduction options. (Triggered internally at ../aten/src/ATen/native/TensorAdvancedIndexing.cpp:231.)\n",
      "  summed_exp_score = torch.zeros_like(exp_score).scatter(0, target,exp_score, reduce=\"add\")\n",
      "Total Trials: 1: 1 succeeded, 0 failed, 0 cancelled.                            \n"
     ]
    },
    {
     "data": {
      "text/plain": [
       "<NestedCV.NestedInductiveCV at 0x7fd74bdc6410>"
      ]
     },
     "execution_count": 16,
     "metadata": {},
     "output_type": "execute_result"
    }
   ],
   "source": [
    "graph_aware_nestedCV_evaluation = GraphAwareNestedCVEvaluationInductive(0, XGBClassifier, dataset, max_evals= 1) #len(lr_space.get_space().keys())*20\n",
    "graph_aware_nestedCV_evaluation.nested_cross_validate(5, 5, xgb_space.get_space())"
   ]
  },
  {
   "cell_type": "code",
   "execution_count": 17,
   "id": "6c676ec0-fb82-405f-a2a8-37504944c46c",
   "metadata": {},
   "outputs": [
    {
     "data": {
      "text/plain": [
       "(0.9461399972963511, 0.017575904067168583)"
      ]
     },
     "execution_count": 17,
     "metadata": {},
     "output_type": "execute_result"
    }
   ],
   "source": [
    "graph_aware_nestedCV_evaluation.nested_inductive_cv.outer_scores.mean(), graph_aware_nestedCV_evaluation.nested_inductive_cv.outer_scores.std()"
   ]
  },
  {
   "cell_type": "code",
   "execution_count": 11,
   "id": "bfbde181-184b-4fd3-8c42-d486a49fcf20",
   "metadata": {},
   "outputs": [
    {
     "data": {
      "text/plain": [
       "0.9502419058860636"
      ]
     },
     "execution_count": 11,
     "metadata": {},
     "output_type": "execute_result"
    }
   ],
   "source": [
    "graph_aware_nestedCV_evaluation.nested_inductive_cv.outer_scores.mean()"
   ]
  },
  {
   "cell_type": "code",
   "execution_count": null,
   "id": "727ed0eb-ed16-4d37-a2fc-86a00dc67466",
   "metadata": {},
   "outputs": [],
   "source": []
  },
  {
   "cell_type": "code",
   "execution_count": 12,
   "id": "665b7b5e-83ff-4540-9e7e-c6ed37ef1ae8",
   "metadata": {},
   "outputs": [
    {
     "data": {
      "text/plain": [
       "0.0459691783473089"
      ]
     },
     "execution_count": 12,
     "metadata": {},
     "output_type": "execute_result"
    }
   ],
   "source": [
    "graph_aware_nestedCV_evaluation.nested_inductive_cv.outer_scores.std()"
   ]
  },
  {
   "cell_type": "code",
   "execution_count": 14,
   "id": "c599fea6-371a-4107-8d85-b515f4b51061",
   "metadata": {},
   "outputs": [
    {
     "data": {
      "text/plain": [
       "(0.947062217740643, 0.04270757444487416)"
      ]
     },
     "execution_count": 14,
     "metadata": {},
     "output_type": "execute_result"
    }
   ],
   "source": [
    "graph_aware_nestedCV_evaluation.nested_inductive_cv.inner_scores.mean(), graph_aware_nestedCV_evaluation.nested_inductive_cv.inner_scores.std()"
   ]
  },
  {
   "cell_type": "code",
   "execution_count": 10,
   "id": "a1a75e42-adc0-470d-8e53-c69e64a45768",
   "metadata": {},
   "outputs": [],
   "source": [
    "##When a model is trained with early stopping, there is an inconsistent behavior between native Python interface and sklearn/R interfaces. By default on R and sklearn interfaces, the best_iteration is automatically used so prediction comes from the best model. But with the native Python interface xgboost.Booster.predict() and xgboost.Booster.inplace_predict() uses the full model. Users can use best_iteration attribute with iteration_range parameter to achieve the same behavior. Also the save_best parameter from xgboost.callback.EarlyStopping might be useful."
   ]
  },
  {
   "cell_type": "code",
   "execution_count": null,
   "id": "90b5770d-a25d-4965-b68b-931c5cfa89ca",
   "metadata": {},
   "outputs": [],
   "source": []
  }
 ],
 "metadata": {
  "kernelspec": {
   "display_name": "Python 3 (ipykernel)",
   "language": "python",
   "name": "python3"
  },
  "language_info": {
   "codemirror_mode": {
    "name": "ipython",
    "version": 3
   },
   "file_extension": ".py",
   "mimetype": "text/x-python",
   "name": "python",
   "nbconvert_exporter": "python",
   "pygments_lexer": "ipython3",
   "version": "3.10.12"
  }
 },
 "nbformat": 4,
 "nbformat_minor": 5
}
