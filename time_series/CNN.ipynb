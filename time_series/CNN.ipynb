{
 "cells": [
  {
   "cell_type": "markdown",
   "id": "18229354-cd3e-43bd-a34c-8bdd0e220f75",
   "metadata": {},
   "source": [
    "## Dataset loader and preparation"
   ]
  },
  {
   "cell_type": "code",
   "execution_count": 5,
   "id": "f20ee0d6-e85e-4935-a58c-fbb3f76452f7",
   "metadata": {},
   "outputs": [],
   "source": [
    "import sys\n",
    "sys.path.insert(0, \"../\")\n",
    "from dataAnalysis.DataAnalysis import DataAnalysis\n",
    "import pandas as pd\n",
    "import torch\n",
    " \n",
    "data = pd.read_csv(r\"../sbcdata.csv\", header=0)\n",
    "data_analysis = DataAnalysis(data)"
   ]
  },
  {
   "cell_type": "code",
   "execution_count": 6,
   "id": "c8784566-1c9f-4f64-814a-6afaa149ac72",
   "metadata": {},
   "outputs": [],
   "source": [
    "data = pd.concat((data_analysis.get_training_data(), data_analysis.get_testing_data()))\n",
    "max_Id = data[\"Id\"].unique().max()\n",
    "gw_data = data_analysis.get_gw_testing_data().copy(deep=True)\n",
    "gw_data = gw_data.assign(Id=lambda x: x.Id + max_Id)\n",
    "data = pd.concat((data, gw_data))\n",
    "data = data.sort_values([\"Id\", \"Time\"])\n",
    "data = data.reset_index(drop=True)\n",
    "popped_index = data.pop(\"index\")"
   ]
  },
  {
   "cell_type": "code",
   "execution_count": 7,
   "id": "517e270b-b2e4-4287-a297-37155c5cbd85",
   "metadata": {},
   "outputs": [],
   "source": [
    "from dataAnalysis.Constants import SEX_CATEGORY_COLUMN_NAME, SEX_COLUMN_NAME, FEATURES, LABEL_COLUMN_NAME\n",
    "\n",
    "data[SEX_CATEGORY_COLUMN_NAME] = data.loc[:, SEX_COLUMN_NAME] ==\"W\"\n",
    "\n",
    "data[SEX_CATEGORY_COLUMN_NAME] = data[SEX_CATEGORY_COLUMN_NAME].astype(\"int8\")\n",
    "data[\"Label\"] = data[\"Label\"] == \"Sepsis\"\n",
    "data[\"Label\"] = data[\"Label\"].astype(\"int8\")"
   ]
  },
  {
   "cell_type": "markdown",
   "id": "0e2d6c76-3460-47ff-bbe1-e6dcc876b3f6",
   "metadata": {},
   "source": [
    "## Normalizer"
   ]
  },
  {
   "cell_type": "code",
   "execution_count": 8,
   "id": "6921df7b-52bf-4fbf-b464-312158cff5f3",
   "metadata": {},
   "outputs": [
    {
     "data": {
      "text/plain": [
       "array([[ 79.  ,   0.  ,   8.1 , ...,   4.36,  86.  , 167.  ],\n",
       "       [ 35.  ,   0.  ,  10.6 , ...,   6.02,  79.9 , 199.  ],\n",
       "       [ 47.  ,   1.  ,   8.7 , ...,   4.37,  89.9 , 298.  ],\n",
       "       ...,\n",
       "       [ 32.  ,   1.  ,   7.2 , ...,   3.87,  87.9 , 221.  ],\n",
       "       [ 47.  ,   0.  ,   8.3 , ...,   4.08,  91.9 , 148.  ],\n",
       "       [ 47.  ,   0.  ,   8.9 , ...,   4.39,  92.3 , 150.  ]])"
      ]
     },
     "execution_count": 8,
     "metadata": {},
     "output_type": "execute_result"
    }
   ],
   "source": [
    "data.loc[data[\"Set\"] == \"Training\", FEATURES].values"
   ]
  },
  {
   "cell_type": "code",
   "execution_count": 9,
   "id": "ed5cee5b-a4cd-422e-8eab-a54b1902535b",
   "metadata": {},
   "outputs": [
    {
     "data": {
      "text/html": [
       "<style>#sk-container-id-1 {color: black;}#sk-container-id-1 pre{padding: 0;}#sk-container-id-1 div.sk-toggleable {background-color: white;}#sk-container-id-1 label.sk-toggleable__label {cursor: pointer;display: block;width: 100%;margin-bottom: 0;padding: 0.3em;box-sizing: border-box;text-align: center;}#sk-container-id-1 label.sk-toggleable__label-arrow:before {content: \"▸\";float: left;margin-right: 0.25em;color: #696969;}#sk-container-id-1 label.sk-toggleable__label-arrow:hover:before {color: black;}#sk-container-id-1 div.sk-estimator:hover label.sk-toggleable__label-arrow:before {color: black;}#sk-container-id-1 div.sk-toggleable__content {max-height: 0;max-width: 0;overflow: hidden;text-align: left;background-color: #f0f8ff;}#sk-container-id-1 div.sk-toggleable__content pre {margin: 0.2em;color: black;border-radius: 0.25em;background-color: #f0f8ff;}#sk-container-id-1 input.sk-toggleable__control:checked~div.sk-toggleable__content {max-height: 200px;max-width: 100%;overflow: auto;}#sk-container-id-1 input.sk-toggleable__control:checked~label.sk-toggleable__label-arrow:before {content: \"▾\";}#sk-container-id-1 div.sk-estimator input.sk-toggleable__control:checked~label.sk-toggleable__label {background-color: #d4ebff;}#sk-container-id-1 div.sk-label input.sk-toggleable__control:checked~label.sk-toggleable__label {background-color: #d4ebff;}#sk-container-id-1 input.sk-hidden--visually {border: 0;clip: rect(1px 1px 1px 1px);clip: rect(1px, 1px, 1px, 1px);height: 1px;margin: -1px;overflow: hidden;padding: 0;position: absolute;width: 1px;}#sk-container-id-1 div.sk-estimator {font-family: monospace;background-color: #f0f8ff;border: 1px dotted black;border-radius: 0.25em;box-sizing: border-box;margin-bottom: 0.5em;}#sk-container-id-1 div.sk-estimator:hover {background-color: #d4ebff;}#sk-container-id-1 div.sk-parallel-item::after {content: \"\";width: 100%;border-bottom: 1px solid gray;flex-grow: 1;}#sk-container-id-1 div.sk-label:hover label.sk-toggleable__label {background-color: #d4ebff;}#sk-container-id-1 div.sk-serial::before {content: \"\";position: absolute;border-left: 1px solid gray;box-sizing: border-box;top: 0;bottom: 0;left: 50%;z-index: 0;}#sk-container-id-1 div.sk-serial {display: flex;flex-direction: column;align-items: center;background-color: white;padding-right: 0.2em;padding-left: 0.2em;position: relative;}#sk-container-id-1 div.sk-item {position: relative;z-index: 1;}#sk-container-id-1 div.sk-parallel {display: flex;align-items: stretch;justify-content: center;background-color: white;position: relative;}#sk-container-id-1 div.sk-item::before, #sk-container-id-1 div.sk-parallel-item::before {content: \"\";position: absolute;border-left: 1px solid gray;box-sizing: border-box;top: 0;bottom: 0;left: 50%;z-index: -1;}#sk-container-id-1 div.sk-parallel-item {display: flex;flex-direction: column;z-index: 1;position: relative;background-color: white;}#sk-container-id-1 div.sk-parallel-item:first-child::after {align-self: flex-end;width: 50%;}#sk-container-id-1 div.sk-parallel-item:last-child::after {align-self: flex-start;width: 50%;}#sk-container-id-1 div.sk-parallel-item:only-child::after {width: 0;}#sk-container-id-1 div.sk-dashed-wrapped {border: 1px dashed gray;margin: 0 0.4em 0.5em 0.4em;box-sizing: border-box;padding-bottom: 0.4em;background-color: white;}#sk-container-id-1 div.sk-label label {font-family: monospace;font-weight: bold;display: inline-block;line-height: 1.2em;}#sk-container-id-1 div.sk-label-container {text-align: center;}#sk-container-id-1 div.sk-container {/* jupyter's `normalize.less` sets `[hidden] { display: none; }` but bootstrap.min.css set `[hidden] { display: none !important; }` so we also need the `!important` here to be able to override the default hidden behavior on the sphinx rendered scikit-learn.org. See: https://github.com/scikit-learn/scikit-learn/issues/21755 */display: inline-block !important;position: relative;}#sk-container-id-1 div.sk-text-repr-fallback {display: none;}</style><div id=\"sk-container-id-1\" class=\"sk-top-container\"><div class=\"sk-text-repr-fallback\"><pre>StandardScaler()</pre><b>In a Jupyter environment, please rerun this cell to show the HTML representation or trust the notebook. <br />On GitHub, the HTML representation is unable to render, please try loading this page with nbviewer.org.</b></div><div class=\"sk-container\" hidden><div class=\"sk-item\"><div class=\"sk-estimator sk-toggleable\"><input class=\"sk-toggleable__control sk-hidden--visually\" id=\"sk-estimator-id-1\" type=\"checkbox\" checked><label for=\"sk-estimator-id-1\" class=\"sk-toggleable__label sk-toggleable__label-arrow\">StandardScaler</label><div class=\"sk-toggleable__content\"><pre>StandardScaler()</pre></div></div></div></div></div>"
      ],
      "text/plain": [
       "StandardScaler()"
      ]
     },
     "execution_count": 9,
     "metadata": {},
     "output_type": "execute_result"
    }
   ],
   "source": [
    "from sklearn.preprocessing import StandardScaler\n",
    "scaler = StandardScaler()\n",
    "scaler.fit(data.loc[data[\"Set\"] == \"Training\", FEATURES].values)"
   ]
  },
  {
   "cell_type": "markdown",
   "id": "e996e288-96e8-44e0-8131-ae790eb0dace",
   "metadata": {},
   "source": [
    "## Padding to max length"
   ]
  },
  {
   "cell_type": "code",
   "execution_count": 10,
   "id": "d1f06201-e1ca-43bf-8bbd-8f4c7535267b",
   "metadata": {},
   "outputs": [],
   "source": [
    "id_grouped_data = data.groupby(\"Id\")"
   ]
  },
  {
   "cell_type": "code",
   "execution_count": 11,
   "id": "d70a5569-3843-46ba-9beb-61b8f0207504",
   "metadata": {},
   "outputs": [
    {
     "data": {
      "application/vnd.jupyter.widget-view+json": {
       "model_id": "21671f9397294612a0d62173fd2866e9",
       "version_major": 2,
       "version_minor": 0
      },
      "text/plain": [
       "  0%|          | 0/866517 [00:00<?, ?it/s]"
      ]
     },
     "metadata": {},
     "output_type": "display_data"
    }
   ],
   "source": [
    "from tqdm.notebook import tqdm\n",
    "\n",
    "max_len = 0\n",
    "for id, data_group in tqdm(id_grouped_data):\n",
    "    max_len = max(max_len, data_group.shape[0])"
   ]
  },
  {
   "cell_type": "code",
   "execution_count": 12,
   "id": "fef818a9-caac-4f72-977f-677537e35674",
   "metadata": {},
   "outputs": [],
   "source": [
    "unique_train_ids = data.loc[data[\"Set\"] == \"Training\", \"Id\"].unique()\n",
    "max_train_idx = int(len(unique_train_ids)*.8)\n",
    "val_ids = unique_train_ids[max_train_idx:]"
   ]
  },
  {
   "cell_type": "code",
   "execution_count": 15,
   "id": "97f491cf-ef73-4245-9159-37953f0ae1c4",
   "metadata": {},
   "outputs": [
    {
     "data": {
      "application/vnd.jupyter.widget-view+json": {
       "model_id": "0eaca5ccf8044d96829d8f23f66006d9",
       "version_major": 2,
       "version_minor": 0
      },
      "text/plain": [
       "  0%|          | 0/866517 [00:00<?, ?it/s]"
      ]
     },
     "metadata": {},
     "output_type": "display_data"
    }
   ],
   "source": [
    "import numpy as np\n",
    "\n",
    "pad_value = 0\n",
    "TRAIN = \"train\"\n",
    "GW = \"gw_test\"\n",
    "TEST = \"test\"\n",
    "VAL = \"val\"\n",
    "\n",
    "features = dict({})\n",
    "features[TRAIN] = []\n",
    "features[VAL] = []\n",
    "features[TEST] = []\n",
    "features[GW] = []\n",
    "\n",
    "labels = dict({})\n",
    "labels[TRAIN] = []\n",
    "labels[VAL] = []\n",
    "labels[TEST] = []\n",
    "labels[GW] = []\n",
    "\n",
    "for id, data_group in tqdm(id_grouped_data):\n",
    "    assert data_group[\"Set\"].unique().shape[0] == 1\n",
    "    assert data_group[\"Center\"].unique().shape[0] == 1\n",
    "\n",
    "    features_scaled = scaler.transform(data_group[FEATURES].values)\n",
    "\n",
    "    padded_features = np.pad(features_scaled, ((0, max_len - data_group.shape[0]), (0,0)), mode='constant', constant_values=pad_value)\n",
    "    padded_labels = np.pad(data_group[LABEL_COLUMN_NAME].values, ((0, max_len - data_group.shape[0])), mode='constant', constant_values=pad_value)\n",
    "    \n",
    "    first_el = data_group.iloc[0, :]\n",
    "    if first_el[\"Set\"] == \"Training\":\n",
    "        if first_el[\"Id\"] in val_ids:\n",
    "            features[VAL].append(padded_features)\n",
    "            labels[VAL].append(padded_labels)\n",
    "            continue\n",
    "        if first_el[\"Id\"] not in val_ids:\n",
    "            features[TRAIN].append(padded_features)\n",
    "            labels[TRAIN].append(padded_labels)\n",
    "            continue\n",
    "    if first_el[\"Set\"] == \"Validation\":\n",
    "        if first_el[\"Center\"] == \"Greifswald\":\n",
    "            features[GW].append(padded_features)\n",
    "            labels[GW].append(padded_labels)\n",
    "            continue\n",
    "        if first_el[\"Center\"] == \"Leipzig\":\n",
    "            features[TEST].append(padded_features)\n",
    "            labels[TEST].append(padded_labels)\n",
    "            continue"
   ]
  },
  {
   "cell_type": "markdown",
   "id": "b2bdac22-9b02-4077-a7f4-4db4a0ab5050",
   "metadata": {},
   "source": [
    "## Seed and hyperparams"
   ]
  },
  {
   "cell_type": "code",
   "execution_count": 27,
   "id": "c08009fa-f788-40d9-9a15-6ad7c5bb44c1",
   "metadata": {},
   "outputs": [],
   "source": [
    "torch.manual_seed(42)\n",
    "n_embd = len(FEATURES)\n",
    "head_size = 16\n",
    "dropout = 0\n",
    "out_dim = 1 #binary \n",
    "device = torch.device(\"cuda:0\") #torch.device(\"cuda:2\") #torch.device(\"cuda:2\")\n",
    "WEIGHT = 664\n",
    "lr = 1e-2\n",
    "wd = 0\n",
    "n_blocks = 2\n",
    "n_heads = 4"
   ]
  },
  {
   "cell_type": "markdown",
   "id": "92127f1f-f8bf-41b7-be8f-aa85d0e3eba3",
   "metadata": {},
   "source": [
    "## Batching "
   ]
  },
  {
   "cell_type": "code",
   "execution_count": 28,
   "id": "270f681d-a1aa-4c29-99aa-b31cd962b9cb",
   "metadata": {},
   "outputs": [],
   "source": [
    "from torch.utils.data import DataLoader\n",
    "from torch.utils.data import Dataset\n",
    "\n",
    "class Data(Dataset):\n",
    "    # Constructor\n",
    "    def __init__(self,X, y):\n",
    "        self.x = X\n",
    "        self.y = y\n",
    "        self.len = self.x.shape[0]\n",
    "\n",
    "    def __getitem__(self, index):\n",
    "        return self.x[index], self.y[index]\n",
    "\n",
    "    def __len__(self):\n",
    "        return self.len"
   ]
  },
  {
   "cell_type": "code",
   "execution_count": 29,
   "id": "455e9028-81aa-4f8f-9e1d-3c8493b21e1b",
   "metadata": {},
   "outputs": [],
   "source": [
    "batch_loader = dict({})"
   ]
  },
  {
   "cell_type": "code",
   "execution_count": 30,
   "id": "98a9c611-0cae-4f7d-983c-6bccab281d6d",
   "metadata": {},
   "outputs": [],
   "source": [
    "def add_loader(set_name):\n",
    "    global bitch_loader, sets, labels\n",
    "    dataset = Data(torch.from_numpy(np.array(features[set_name])).type(torch.float).to(device), torch.from_numpy(np.array(labels[set_name])).type(torch.float).to(device))\n",
    "    loader = DataLoader(dataset=dataset, batch_size=500) #max is 100_000\n",
    "    batch_loader[set_name] = loader"
   ]
  },
  {
   "cell_type": "code",
   "execution_count": 31,
   "id": "5d221dbe-a7c3-414f-a23e-f390f551e609",
   "metadata": {},
   "outputs": [],
   "source": [
    "add_loader(TRAIN)\n",
    "add_loader(VAL)\n",
    "add_loader(GW)\n",
    "add_loader(TEST)"
   ]
  },
  {
   "cell_type": "markdown",
   "id": "4c638073-48af-4513-81f7-87f8729c4e14",
   "metadata": {},
   "source": [
    "## Model"
   ]
  },
  {
   "cell_type": "code",
   "execution_count": 279,
   "id": "21724db2-ec23-4f55-8416-315cded98d2d",
   "metadata": {},
   "outputs": [],
   "source": [
    "from torch import nn\n",
    "from torch.nn import functional as F\n",
    "\n",
    "torch.manual_seed(42)\n",
    "class ConvModel(nn.Module):\n",
    "\n",
    "    def __init__(self, input_dim, fiter_size, fiter_size_2,fiter_size_3):\n",
    "        super(ConvModel, self).__init__()\n",
    "\n",
    "        self.pos_embedding_table = nn.Embedding(max_len, input_dim)\n",
    "        \n",
    "        self.conv = nn.Conv1d(input_dim, 1, fiter_size)\n",
    "        self.conv2 = nn.Conv1d(input_dim, 1, fiter_size_2)\n",
    "        self.conv3 = nn.Conv1d(input_dim, 1, fiter_size_3)\n",
    "        self.lin_heads = nn.Linear(3, 1)\n",
    "\n",
    "    def forward(self, x, targets = None):\n",
    "        B, T, C = x.shape\n",
    "        pad_mask = (x != pad_value).type(torch.float)\n",
    "        ignore_mask = torch.bmm(pad_mask, pad_mask.transpose(-2,-1))\n",
    "        ignore_mask = ignore_mask == 0\n",
    "        \n",
    "        # pos_emb = self.pos_embedding_table(torch.arange(T, device = device)) ##destroys zero pad\n",
    "        # x = x + pos_emb\n",
    "        origin_x = torch.clone(x)\n",
    "        \n",
    "        conv_x = torch.nn.functional.pad(x, (0,0,0,self.conv.kernel_size[0]-1,0,0), mode='constant', value=pad_value)\n",
    "        conv2_x = torch.nn.functional.pad(x, (0,0,0,self.conv2.kernel_size[0]-1,0,0), mode='constant', value=pad_value)\n",
    "        conv3_x = torch.nn.functional.pad(x, (0,0,0,self.conv3.kernel_size[0]-1,0,0), mode='constant', value=pad_value)\n",
    "        \n",
    "        conv_x = conv_x.permute(0, 2, 1)\n",
    "        conv2_x = conv2_x.permute(0, 2, 1)\n",
    "        conv3_x = conv3_x.permute(0, 2, 1)\n",
    "        \n",
    "        logits_conv1 = self.conv(conv_x)\n",
    "        logits_conv2 = self.conv2(conv2_x)\n",
    "        logits_conv3 = self.conv3(conv3_x)\n",
    "\n",
    "        logits_conv1 = torch.nn.functional.elu(logits_conv1)\n",
    "        logits_conv2 = torch.nn.functional.elu(logits_conv2)\n",
    "        logits_conv3 = torch.nn.functional.elu(logits_conv3)\n",
    "        \n",
    "        conv_heads = torch.cat((logits_conv1, logits_conv2,logits_conv3), dim = -2)\n",
    "        logits = self.lin_heads(conv_heads.permute(0,2,1))\n",
    "                \n",
    "        logits_mask = torch.logical_not(torch.all(ignore_mask, dim =-1))\n",
    "        return logits.squeeze(-1), logits_mask"
   ]
  },
  {
   "cell_type": "code",
   "execution_count": 350,
   "id": "d54e7688-7ec6-43f5-8931-6ba53ac6e92d",
   "metadata": {},
   "outputs": [],
   "source": [
    "from torch import nn\n",
    "from torch.nn import functional as F\n",
    "\n",
    "torch.manual_seed(42)\n",
    "class ConvModel(nn.Module):\n",
    "\n",
    "    def __init__(self, input_dim, filters):\n",
    "        super(ConvModel, self).__init__()\n",
    "\n",
    "        self.pos_embedding_table = nn.Embedding(max_len, input_dim)\n",
    "\n",
    "        self.convs = nn.ModuleList()\n",
    "        self.filters = filters\n",
    "        for filter in filters:\n",
    "            self.convs.append(nn.Conv1d(input_dim, 1, filter).to(device))\n",
    "        self.lin_heads =nn.Linear(len(filters), 1)\n",
    "\n",
    "    def forward(self, x, targets = None):\n",
    "        B, T, C = x.shape\n",
    "        pad_mask = (x != pad_value).type(torch.float)\n",
    "        ignore_mask = torch.bmm(pad_mask, pad_mask.transpose(-2,-1))\n",
    "        ignore_mask = ignore_mask == 0\n",
    "        \n",
    "        # pos_emb = self.pos_embedding_table(torch.arange(T, device = device)) ##destroys zero pad\n",
    "        # x = x + pos_emb\n",
    "        origin_x = torch.clone(x)\n",
    "\n",
    "        conv_logits = []\n",
    "        for i, filter in enumerate(self.filters):\n",
    "            conv_x = torch.nn.functional.pad(x, (0,0,0,self.convs[i].kernel_size[0]-1,0,0), mode='constant', value=pad_value)\n",
    "            \n",
    "            conv_x = conv_x.permute(0, 2, 1)\n",
    "\n",
    "            conv = self.convs[i]\n",
    "            logits_conv1 = conv(conv_x)\n",
    "    \n",
    "            logits_conv1 = torch.nn.functional.elu(logits_conv1)\n",
    "            conv_logits.append(logits_conv1)\n",
    "\n",
    "        conv_heads = torch.cat(conv_logits, dim = -2)\n",
    "        logits = self.lin_heads(conv_heads.permute(0,2,1))\n",
    "                \n",
    "        logits_mask = torch.logical_not(torch.all(ignore_mask, dim =-1))\n",
    "        return logits.squeeze(-1), logits_mask"
   ]
  },
  {
   "cell_type": "code",
   "execution_count": 349,
   "id": "b068f479-0156-4fa8-adaf-5ae7874131c8",
   "metadata": {},
   "outputs": [
    {
     "name": "stdout",
     "output_type": "stream",
     "text": [
      "ModuleList(\n",
      "  (0): Conv1d(7, 1, kernel_size=(1,), stride=(1,))\n",
      "  (1): Conv1d(7, 1, kernel_size=(2,), stride=(1,))\n",
      "  (2): Conv1d(7, 1, kernel_size=(3,), stride=(1,))\n",
      ")\n"
     ]
    },
    {
     "ename": "KeyboardInterrupt",
     "evalue": "",
     "output_type": "error",
     "traceback": [
      "\u001b[0;31m---------------------------------------------------------------------------\u001b[0m",
      "\u001b[0;31mKeyboardInterrupt\u001b[0m                         Traceback (most recent call last)",
      "Cell \u001b[0;32mIn[349], line 2\u001b[0m\n\u001b[1;32m      1\u001b[0m model \u001b[38;5;241m=\u001b[39m ConvModel(input_dim, [\u001b[38;5;241m1\u001b[39m,\u001b[38;5;241m2\u001b[39m,\u001b[38;5;241m3\u001b[39m])\u001b[38;5;241m.\u001b[39mto(device)\n\u001b[0;32m----> 2\u001b[0m \u001b[43mevaluate_loss_sets\u001b[49m\u001b[43m(\u001b[49m\u001b[43mmodel\u001b[49m\u001b[43m)\u001b[49m\n",
      "Cell \u001b[0;32mIn[336], line 6\u001b[0m, in \u001b[0;36mevaluate_loss_sets\u001b[0;34m(model)\u001b[0m\n\u001b[1;32m      2\u001b[0m losses \u001b[38;5;241m=\u001b[39m \u001b[38;5;28mdict\u001b[39m({})\n\u001b[1;32m      3\u001b[0m \u001b[38;5;28;01mfor\u001b[39;00m set_name \u001b[38;5;129;01min\u001b[39;00m features\u001b[38;5;241m.\u001b[39mkeys():\n\u001b[1;32m      4\u001b[0m     \u001b[38;5;66;03m# if set_name != VAL:\u001b[39;00m\n\u001b[1;32m      5\u001b[0m     \u001b[38;5;66;03m#     continue\u001b[39;00m\n\u001b[0;32m----> 6\u001b[0m     loss \u001b[38;5;241m=\u001b[39m \u001b[43mevaluate_loss\u001b[49m\u001b[43m(\u001b[49m\u001b[43mmodel\u001b[49m\u001b[43m,\u001b[49m\u001b[43m \u001b[49m\u001b[43mset_name\u001b[49m\u001b[43m)\u001b[49m\n\u001b[1;32m      7\u001b[0m     losses[set_name] \u001b[38;5;241m=\u001b[39m loss\n\u001b[1;32m      8\u001b[0m     \u001b[38;5;28mprint\u001b[39m(\u001b[38;5;124mf\u001b[39m\u001b[38;5;124m\"\u001b[39m\u001b[38;5;124mLoss of \u001b[39m\u001b[38;5;132;01m{\u001b[39;00mset_name\u001b[38;5;132;01m}\u001b[39;00m\u001b[38;5;124m: \u001b[39m\u001b[38;5;132;01m{\u001b[39;00mloss\u001b[38;5;132;01m:\u001b[39;00m\u001b[38;5;124m.5f\u001b[39m\u001b[38;5;132;01m}\u001b[39;00m\u001b[38;5;124m\"\u001b[39m) \n",
      "Cell \u001b[0;32mIn[335], line 11\u001b[0m, in \u001b[0;36mevaluate_loss\u001b[0;34m(model, set_name)\u001b[0m\n\u001b[1;32m      8\u001b[0m B,_,_ \u001b[38;5;241m=\u001b[39m x\u001b[38;5;241m.\u001b[39mshape\n\u001b[1;32m      9\u001b[0m logits, logits_mask \u001b[38;5;241m=\u001b[39m model(x)\n\u001b[0;32m---> 11\u001b[0m loss \u001b[38;5;241m=\u001b[39m torch\u001b[38;5;241m.\u001b[39mnn\u001b[38;5;241m.\u001b[39mfunctional\u001b[38;5;241m.\u001b[39mbinary_cross_entropy_with_logits(\u001b[43mlogits\u001b[49m\u001b[43m[\u001b[49m\u001b[43mlogits_mask\u001b[49m\u001b[43m]\u001b[49m\u001b[38;5;241;43m.\u001b[39;49m\u001b[43msqueeze\u001b[49m\u001b[43m(\u001b[49m\u001b[38;5;241;43m-\u001b[39;49m\u001b[38;5;241;43m1\u001b[39;49m\u001b[43m)\u001b[49m, y[logits_mask], pos_weight\u001b[38;5;241m=\u001b[39mtorch\u001b[38;5;241m.\u001b[39mtensor(WEIGHT))\n\u001b[1;32m     12\u001b[0m acc_loss \u001b[38;5;241m+\u001b[39m\u001b[38;5;241m=\u001b[39m loss\u001b[38;5;241m.\u001b[39mitem()\n\u001b[1;32m     13\u001b[0m batch_size \u001b[38;5;241m+\u001b[39m\u001b[38;5;241m=\u001b[39m B\n",
      "\u001b[0;31mKeyboardInterrupt\u001b[0m: "
     ]
    }
   ],
   "source": [
    "model = ConvModel(input_dim, [1,2,3]).to(device)\n",
    "evaluate_loss_sets(model)"
   ]
  },
  {
   "cell_type": "markdown",
   "id": "40c075cc-1333-4706-85ed-11b6ab0e3acc",
   "metadata": {},
   "source": [
    "## Evaluate"
   ]
  },
  {
   "cell_type": "code",
   "execution_count": 335,
   "id": "aad2bf23-22df-4204-ae11-8ff78ae5f4c8",
   "metadata": {},
   "outputs": [],
   "source": [
    "def evaluate_loss(model, set_name):\n",
    "    with torch.inference_mode():\n",
    "        model.eval()\n",
    "        acc_loss = 0\n",
    "        batch_size = 0\n",
    "\n",
    "        for i, (x,y) in enumerate(batch_loader[set_name]):\n",
    "            B,_,_ = x.shape\n",
    "            logits, logits_mask = model(x)\n",
    "        \n",
    "            loss = torch.nn.functional.binary_cross_entropy_with_logits(logits[logits_mask].squeeze(-1), y[logits_mask], pos_weight=torch.tensor(WEIGHT))\n",
    "            acc_loss += loss.item()\n",
    "            batch_size += B\n",
    "    return acc_loss / batch_size        "
   ]
  },
  {
   "cell_type": "code",
   "execution_count": 351,
   "id": "c607fedb-b8e6-4104-a818-778d1f00be6f",
   "metadata": {},
   "outputs": [],
   "source": [
    "def evaluate_loss_sets(model):\n",
    "    losses = dict({})\n",
    "    for set_name in features.keys():\n",
    "        # if set_name != VAL:\n",
    "        #     continue\n",
    "        loss = evaluate_loss(model, set_name)\n",
    "        losses[set_name] = loss\n",
    "        print(f\"Loss of {set_name}: {loss:.5f}\") \n",
    "    return losses\n",
    "        "
   ]
  },
  {
   "cell_type": "code",
   "execution_count": 352,
   "id": "1bb27c79-5e05-4180-8181-b2be847ca22d",
   "metadata": {},
   "outputs": [],
   "source": [
    "from sklearn.metrics import roc_auc_score, accuracy_score\n",
    "\n",
    "def evaluate_auroc(model, set_name):\n",
    "    with torch.inference_mode():\n",
    "        model.eval()\n",
    "        \n",
    "        logits_list = []\n",
    "        label_list = []\n",
    "\n",
    "        batch_size = 0\n",
    "        for i, (x,y) in enumerate(batch_loader[set_name]):\n",
    "            B,_,_ = x.shape\n",
    "            logits, logits_mask = model(x)\n",
    "\n",
    "            logits_list.extend(logits[logits_mask].squeeze(-1).tolist())\n",
    "            label_list.extend(y[logits_mask].squeeze(-1).tolist())\n",
    "            batch_size += B\n",
    "    auroc = roc_auc_score(np.array(label_list), torch.sigmoid(torch.tensor(logits_list)).numpy())\n",
    "    return auroc        "
   ]
  },
  {
   "cell_type": "code",
   "execution_count": 353,
   "id": "82d13cdd-c7c2-404b-80be-e31f4362e349",
   "metadata": {},
   "outputs": [],
   "source": [
    "def evaluate_auroc_sets(model):\n",
    "    for set_name in features.keys():\n",
    "        if set_name == TRAIN:\n",
    "            continue\n",
    "        auroc = evaluate_auroc(model, set_name)\n",
    "        print(f\"AUROC of {set_name}: {auroc:.5f}\")"
   ]
  },
  {
   "cell_type": "markdown",
   "id": "e59ef05b-7e7a-4a86-8f8e-31b46d9207c2",
   "metadata": {},
   "source": [
    "## Train"
   ]
  },
  {
   "cell_type": "code",
   "execution_count": 368,
   "id": "e2e6f14e-bba3-4066-9aa8-5e8b36d55f93",
   "metadata": {},
   "outputs": [],
   "source": [
    "torch.manual_seed(42)\n",
    "input_dim, n_embd, n_heads, dropout, n_blocks = len(FEATURES), len(FEATURES), 7, 0.0, 1\n",
    "model = ConvModel(input_dim, [2,3,4,2,4]).to(device)\n",
    "optim= torch.optim.Adam(model.parameters(), lr = 1e-2, weight_decay=wd)"
   ]
  },
  {
   "cell_type": "code",
   "execution_count": 384,
   "id": "18781ac1-dfc7-4784-b8a6-e8159f74fe5d",
   "metadata": {},
   "outputs": [
    {
     "name": "stdout",
     "output_type": "stream",
     "text": [
      "Loss of train: 0.00107\n",
      "Loss of val: 0.00119\n",
      "Loss of test: 0.00114\n",
      "Loss of gw_test: 0.00094\n"
     ]
    },
    {
     "data": {
      "application/vnd.jupyter.widget-view+json": {
       "model_id": "3188f6e4d974463489876d853ba41898",
       "version_major": 2,
       "version_minor": 0
      },
      "text/plain": [
       "0it [00:00, ?it/s]"
      ]
     },
     "metadata": {},
     "output_type": "display_data"
    },
    {
     "name": "stdout",
     "output_type": "stream",
     "text": [
      "Loss of train: 0.00107\n",
      "Loss of val: 0.00119\n",
      "Loss of test: 0.00114\n",
      "Loss of gw_test: 0.00094\n"
     ]
    },
    {
     "data": {
      "application/vnd.jupyter.widget-view+json": {
       "model_id": "4a97325f8c304d418c36a70ca07dff22",
       "version_major": 2,
       "version_minor": 0
      },
      "text/plain": [
       "0it [00:00, ?it/s]"
      ]
     },
     "metadata": {},
     "output_type": "display_data"
    },
    {
     "name": "stdout",
     "output_type": "stream",
     "text": [
      "Loss of train: 0.00107\n",
      "Loss of val: 0.00119\n",
      "Loss of test: 0.00114\n",
      "Loss of gw_test: 0.00094\n"
     ]
    },
    {
     "data": {
      "application/vnd.jupyter.widget-view+json": {
       "model_id": "3cc31fbaa2d04ce39df40a41ddce83bd",
       "version_major": 2,
       "version_minor": 0
      },
      "text/plain": [
       "0it [00:00, ?it/s]"
      ]
     },
     "metadata": {},
     "output_type": "display_data"
    },
    {
     "name": "stdout",
     "output_type": "stream",
     "text": [
      "Loss of train: 0.00107\n",
      "Loss of val: 0.00118\n",
      "Loss of test: 0.00114\n",
      "Loss of gw_test: 0.00094\n"
     ]
    },
    {
     "data": {
      "application/vnd.jupyter.widget-view+json": {
       "model_id": "f1af9fc036984d75a1c0d2d8acc380a5",
       "version_major": 2,
       "version_minor": 0
      },
      "text/plain": [
       "0it [00:00, ?it/s]"
      ]
     },
     "metadata": {},
     "output_type": "display_data"
    },
    {
     "name": "stdout",
     "output_type": "stream",
     "text": [
      "Loss of train: 0.00107\n",
      "Loss of val: 0.00118\n",
      "Loss of test: 0.00114\n",
      "Loss of gw_test: 0.00094\n"
     ]
    },
    {
     "data": {
      "application/vnd.jupyter.widget-view+json": {
       "model_id": "140e31658b434871a763b789dc6b5b66",
       "version_major": 2,
       "version_minor": 0
      },
      "text/plain": [
       "0it [00:00, ?it/s]"
      ]
     },
     "metadata": {},
     "output_type": "display_data"
    },
    {
     "name": "stdout",
     "output_type": "stream",
     "text": [
      "Loss of train: 0.00107\n",
      "Loss of val: 0.00118\n",
      "Loss of test: 0.00114\n",
      "Loss of gw_test: 0.00094\n"
     ]
    }
   ],
   "source": [
    "torch.manual_seed(42)\n",
    "\n",
    "evaluate_loss_sets(model)\n",
    "last_val_loss = None\n",
    "for epoch in range(5):#5\n",
    "    for i, (x,y) in tqdm(enumerate(batch_loader[TRAIN])):\n",
    "        model.train()\n",
    "        optim.zero_grad()\n",
    "        \n",
    "        logits, logits_mask = model(x)\n",
    "        loss = torch.nn.functional.binary_cross_entropy_with_logits(logits[logits_mask].squeeze(-1), y[logits_mask], pos_weight=torch.tensor(WEIGHT))\n",
    "            \n",
    "        loss.backward()\n",
    "        optim.step()\n",
    "    losses = evaluate_loss_sets(model)\n",
    "    if last_val_loss and last_val_loss <= losses[VAL]:\n",
    "        print(epoch)\n",
    "        break\n",
    "    last_val_loss = losses[VAL]"
   ]
  },
  {
   "cell_type": "code",
   "execution_count": 385,
   "id": "ee88475f-5a55-4ecf-b1aa-8a105a39e15c",
   "metadata": {},
   "outputs": [
    {
     "name": "stdout",
     "output_type": "stream",
     "text": [
      "AUROC of val: 0.95415\n",
      "AUROC of test: 0.94983\n",
      "AUROC of gw_test: 0.95127\n"
     ]
    }
   ],
   "source": [
    "torch.manual_seed(42)\n",
    "evaluate_auroc_sets(model)#0876,88187,88417,0.88449,0.88569,,0.88623,,0.88692"
   ]
  },
  {
   "cell_type": "code",
   "execution_count": 287,
   "id": "0889f63e-6806-4eeb-a4e3-d3faf2c32469",
   "metadata": {},
   "outputs": [],
   "source": [
    "from sklearn.metrics import confusion_matrix\n",
    "\n",
    "def evaluate_confusion(model, set_name):\n",
    "    with torch.inference_mode():\n",
    "        model.eval()\n",
    "        \n",
    "        logits_list = []\n",
    "        label_list = []\n",
    "\n",
    "        batch_size = 0\n",
    "        for i, (x,y) in enumerate(batch_loader[set_name]):\n",
    "            B,_,_ = x.shape\n",
    "            logits, logits_mask = model(x)\n",
    "\n",
    "            logits_list.extend(logits[logits_mask].squeeze(-1).tolist())\n",
    "            label_list.extend(y[logits_mask].squeeze(-1).tolist())\n",
    "            batch_size += B\n",
    "    conf = confusion_matrix(np.array(label_list), torch.round(torch.sigmoid(torch.tensor(logits_list))).numpy())\n",
    "    return conf"
   ]
  },
  {
   "cell_type": "code",
   "execution_count": 288,
   "id": "5283efe9-8103-47eb-8182-f20e2fbf76b8",
   "metadata": {},
   "outputs": [
    {
     "data": {
      "text/plain": [
       "array([[331490,  34304],\n",
       "       [   109,    381]])"
      ]
     },
     "execution_count": 288,
     "metadata": {},
     "output_type": "execute_result"
    }
   ],
   "source": [
    "evaluate_confusion(model, TEST)"
   ]
  },
  {
   "cell_type": "code",
   "execution_count": null,
   "id": "c7f370b5-7ad2-4883-a641-095c580976a2",
   "metadata": {},
   "outputs": [
    {
     "data": {
      "application/vnd.jupyter.widget-view+json": {
       "model_id": "c0ffa2c78f40460283fe7aa39060733b",
       "version_major": 2,
       "version_minor": 0
      },
      "text/plain": [
       "0it [00:00, ?it/s]"
      ]
     },
     "metadata": {},
     "output_type": "display_data"
    },
    {
     "data": {
      "application/vnd.jupyter.widget-view+json": {
       "model_id": "ddd88acc13074efa8e503f5e3be4d1aa",
       "version_major": 2,
       "version_minor": 0
      },
      "text/plain": [
       "0it [00:00, ?it/s]"
      ]
     },
     "metadata": {},
     "output_type": "display_data"
    },
    {
     "name": "stdout",
     "output_type": "stream",
     "text": [
      "Loss of train: 0.00133\n",
      "Loss of val: 0.00152\n",
      "Loss of test: 0.00128\n",
      "Loss of gw_test: 0.00110\n",
      "[0.0015201441491973296]\n"
     ]
    },
    {
     "data": {
      "application/vnd.jupyter.widget-view+json": {
       "model_id": "3fa600ceec1d4dd2a6f006612481bb6a",
       "version_major": 2,
       "version_minor": 0
      },
      "text/plain": [
       "0it [00:00, ?it/s]"
      ]
     },
     "metadata": {},
     "output_type": "display_data"
    },
    {
     "name": "stdout",
     "output_type": "stream",
     "text": [
      "Loss of train: 0.00125\n",
      "Loss of val: 0.00146\n",
      "Loss of test: 0.00121\n",
      "Loss of gw_test: 0.00102\n",
      "[0.0015201441491973296, 0.0014617344999266855]\n"
     ]
    },
    {
     "data": {
      "application/vnd.jupyter.widget-view+json": {
       "model_id": "e82c9e0017244771ae8fee4cccdc2340",
       "version_major": 2,
       "version_minor": 0
      },
      "text/plain": [
       "0it [00:00, ?it/s]"
      ]
     },
     "metadata": {},
     "output_type": "display_data"
    },
    {
     "name": "stdout",
     "output_type": "stream",
     "text": [
      "Loss of train: 0.00123\n",
      "Loss of val: 0.00145\n",
      "Loss of test: 0.00118\n",
      "Loss of gw_test: 0.00100\n",
      "[0.0015201441491973296, 0.0014617344999266855, 0.0014502656352191438]\n"
     ]
    },
    {
     "data": {
      "application/vnd.jupyter.widget-view+json": {
       "model_id": "80fc640301de44aea38758d572612d26",
       "version_major": 2,
       "version_minor": 0
      },
      "text/plain": [
       "0it [00:00, ?it/s]"
      ]
     },
     "metadata": {},
     "output_type": "display_data"
    },
    {
     "name": "stdout",
     "output_type": "stream",
     "text": [
      "Loss of train: 0.00122\n",
      "Loss of val: 0.00145\n",
      "Loss of test: 0.00117\n",
      "Loss of gw_test: 0.00100\n",
      "[0.0015201441491973296, 0.0014617344999266855, 0.0014502656352191438, 0.001446884533937111]\n"
     ]
    },
    {
     "data": {
      "application/vnd.jupyter.widget-view+json": {
       "model_id": "1ba9d2c6956243818ea7b3696e4bb4e5",
       "version_major": 2,
       "version_minor": 0
      },
      "text/plain": [
       "0it [00:00, ?it/s]"
      ]
     },
     "metadata": {},
     "output_type": "display_data"
    },
    {
     "name": "stdout",
     "output_type": "stream",
     "text": [
      "Loss of train: 0.00121\n",
      "Loss of val: 0.00145\n",
      "Loss of test: 0.00117\n",
      "Loss of gw_test: 0.00099\n",
      "[0.0015201441491973296, 0.0014617344999266855, 0.0014502656352191438, 0.001446884533937111, 0.0014456729260945663]\n"
     ]
    },
    {
     "data": {
      "application/vnd.jupyter.widget-view+json": {
       "model_id": "69fe551316a2484899fd75016d9d70e0",
       "version_major": 2,
       "version_minor": 0
      },
      "text/plain": [
       "0it [00:00, ?it/s]"
      ]
     },
     "metadata": {},
     "output_type": "display_data"
    },
    {
     "name": "stdout",
     "output_type": "stream",
     "text": [
      "Loss of train: 0.00121\n",
      "Loss of val: 0.00144\n",
      "Loss of test: 0.00116\n",
      "Loss of gw_test: 0.00099\n",
      "[0.0015201441491973296, 0.0014617344999266855, 0.0014502656352191438, 0.001446884533937111, 0.0014456729260945663, 0.0014435382360318205]\n"
     ]
    },
    {
     "data": {
      "application/vnd.jupyter.widget-view+json": {
       "model_id": "af598f3ae1d149f0bd9b753a7677512b",
       "version_major": 2,
       "version_minor": 0
      },
      "text/plain": [
       "0it [00:00, ?it/s]"
      ]
     },
     "metadata": {},
     "output_type": "display_data"
    },
    {
     "name": "stdout",
     "output_type": "stream",
     "text": [
      "Loss of train: 0.00120\n",
      "Loss of val: 0.00144\n",
      "Loss of test: 0.00116\n",
      "Loss of gw_test: 0.00099\n",
      "[0.0015201441491973296, 0.0014617344999266855, 0.0014502656352191438, 0.001446884533937111, 0.0014456729260945663, 0.0014435382360318205, 0.001440467843451078]\n"
     ]
    },
    {
     "data": {
      "application/vnd.jupyter.widget-view+json": {
       "model_id": "aae23bbcafef483e8da6f3704455fafb",
       "version_major": 2,
       "version_minor": 0
      },
      "text/plain": [
       "0it [00:00, ?it/s]"
      ]
     },
     "metadata": {},
     "output_type": "display_data"
    },
    {
     "name": "stdout",
     "output_type": "stream",
     "text": [
      "Loss of train: 0.00120\n",
      "Loss of val: 0.00144\n",
      "Loss of test: 0.00116\n",
      "Loss of gw_test: 0.00099\n",
      "[0.0015201441491973296, 0.0014617344999266855, 0.0014502656352191438, 0.001446884533937111, 0.0014456729260945663, 0.0014435382360318205, 0.001440467843451078, 0.0014376451864667468]\n"
     ]
    },
    {
     "data": {
      "application/vnd.jupyter.widget-view+json": {
       "model_id": "86930491356547ebbfd07fb593b6c585",
       "version_major": 2,
       "version_minor": 0
      },
      "text/plain": [
       "0it [00:00, ?it/s]"
      ]
     },
     "metadata": {},
     "output_type": "display_data"
    },
    {
     "name": "stdout",
     "output_type": "stream",
     "text": [
      "Loss of train: 0.00119\n",
      "Loss of val: 0.00143\n",
      "Loss of test: 0.00116\n",
      "Loss of gw_test: 0.00099\n",
      "[0.0015201441491973296, 0.0014617344999266855, 0.0014502656352191438, 0.001446884533937111, 0.0014456729260945663, 0.0014435382360318205, 0.001440467843451078, 0.0014376451864667468, 0.0014344314641873779]\n"
     ]
    },
    {
     "data": {
      "application/vnd.jupyter.widget-view+json": {
       "model_id": "2d31728e5bcf440c9c90a723e7b53f2c",
       "version_major": 2,
       "version_minor": 0
      },
      "text/plain": [
       "0it [00:00, ?it/s]"
      ]
     },
     "metadata": {},
     "output_type": "display_data"
    },
    {
     "name": "stdout",
     "output_type": "stream",
     "text": [
      "Loss of train: 0.00119\n",
      "Loss of val: 0.00143\n",
      "Loss of test: 0.00116\n",
      "Loss of gw_test: 0.00099\n",
      "[0.0015201441491973296, 0.0014617344999266855, 0.0014502656352191438, 0.001446884533937111, 0.0014456729260945663, 0.0014435382360318205, 0.001440467843451078, 0.0014376451864667468, 0.0014344314641873779, 0.0014311517716693362]\n"
     ]
    },
    {
     "data": {
      "application/vnd.jupyter.widget-view+json": {
       "model_id": "26635015f3c348b091a6482c1115e93a",
       "version_major": 2,
       "version_minor": 0
      },
      "text/plain": [
       "0it [00:00, ?it/s]"
      ]
     },
     "metadata": {},
     "output_type": "display_data"
    },
    {
     "name": "stdout",
     "output_type": "stream",
     "text": [
      "Loss of train: 0.00119\n",
      "Loss of val: 0.00143\n",
      "Loss of test: 0.00116\n",
      "Loss of gw_test: 0.00099\n",
      "[0.0015201441491973296, 0.0014617344999266855, 0.0014502656352191438, 0.001446884533937111, 0.0014456729260945663, 0.0014435382360318205, 0.001440467843451078, 0.0014376451864667468, 0.0014344314641873779, 0.0014311517716693362, 0.0014293370032070986]\n"
     ]
    },
    {
     "data": {
      "application/vnd.jupyter.widget-view+json": {
       "model_id": "5ceec62f0a31433986325474e1872511",
       "version_major": 2,
       "version_minor": 0
      },
      "text/plain": [
       "0it [00:00, ?it/s]"
      ]
     },
     "metadata": {},
     "output_type": "display_data"
    },
    {
     "name": "stdout",
     "output_type": "stream",
     "text": [
      "Loss of train: 0.00118\n",
      "Loss of val: 0.00143\n",
      "Loss of test: 0.00116\n",
      "Loss of gw_test: 0.00099\n",
      "[0.0015201441491973296, 0.0014617344999266855, 0.0014502656352191438, 0.001446884533937111, 0.0014456729260945663, 0.0014435382360318205, 0.001440467843451078, 0.0014376451864667468, 0.0014344314641873779, 0.0014311517716693362, 0.0014293370032070986, 0.0014266242978902886]\n"
     ]
    },
    {
     "data": {
      "application/vnd.jupyter.widget-view+json": {
       "model_id": "bfbd1c066c4c4072b1d519dd8407b05a",
       "version_major": 2,
       "version_minor": 0
      },
      "text/plain": [
       "0it [00:00, ?it/s]"
      ]
     },
     "metadata": {},
     "output_type": "display_data"
    },
    {
     "name": "stdout",
     "output_type": "stream",
     "text": [
      "Loss of train: 0.00118\n",
      "Loss of val: 0.00142\n",
      "Loss of test: 0.00116\n",
      "Loss of gw_test: 0.00098\n",
      "[0.0015201441491973296, 0.0014617344999266855, 0.0014502656352191438, 0.001446884533937111, 0.0014456729260945663, 0.0014435382360318205, 0.001440467843451078, 0.0014376451864667468, 0.0014344314641873779, 0.0014311517716693362, 0.0014293370032070986, 0.0014266242978902886, 0.001423964535494445]\n"
     ]
    },
    {
     "data": {
      "application/vnd.jupyter.widget-view+json": {
       "model_id": "267a13732a0b47e69a43b8064bfad024",
       "version_major": 2,
       "version_minor": 0
      },
      "text/plain": [
       "0it [00:00, ?it/s]"
      ]
     },
     "metadata": {},
     "output_type": "display_data"
    },
    {
     "name": "stdout",
     "output_type": "stream",
     "text": [
      "Loss of train: 0.00118\n",
      "Loss of val: 0.00142\n",
      "Loss of test: 0.00116\n",
      "Loss of gw_test: 0.00098\n",
      "[0.0015201441491973296, 0.0014617344999266855, 0.0014502656352191438, 0.001446884533937111, 0.0014456729260945663, 0.0014435382360318205, 0.001440467843451078, 0.0014376451864667468, 0.0014344314641873779, 0.0014311517716693362, 0.0014293370032070986, 0.0014266242978902886, 0.001423964535494445, 0.0014200506498042963]\n"
     ]
    },
    {
     "data": {
      "application/vnd.jupyter.widget-view+json": {
       "model_id": "ed497a26061041d59a3b98fc35b0c1b1",
       "version_major": 2,
       "version_minor": 0
      },
      "text/plain": [
       "0it [00:00, ?it/s]"
      ]
     },
     "metadata": {},
     "output_type": "display_data"
    },
    {
     "name": "stdout",
     "output_type": "stream",
     "text": [
      "Loss of train: 0.00118\n",
      "Loss of val: 0.00142\n",
      "Loss of test: 0.00116\n",
      "Loss of gw_test: 0.00098\n",
      "[0.0015201441491973296, 0.0014617344999266855, 0.0014502656352191438, 0.001446884533937111, 0.0014456729260945663, 0.0014435382360318205, 0.001440467843451078, 0.0014376451864667468, 0.0014344314641873779, 0.0014311517716693362, 0.0014293370032070986, 0.0014266242978902886, 0.001423964535494445, 0.0014200506498042963, 0.0014162835759845068]\n"
     ]
    },
    {
     "data": {
      "application/vnd.jupyter.widget-view+json": {
       "model_id": "e9c764c9d0b84b56a1de811ba5c20481",
       "version_major": 2,
       "version_minor": 0
      },
      "text/plain": [
       "0it [00:00, ?it/s]"
      ]
     },
     "metadata": {},
     "output_type": "display_data"
    },
    {
     "name": "stdout",
     "output_type": "stream",
     "text": [
      "Loss of train: 0.00117\n",
      "Loss of val: 0.00141\n",
      "Loss of test: 0.00116\n",
      "Loss of gw_test: 0.00098\n",
      "[0.0015201441491973296, 0.0014617344999266855, 0.0014502656352191438, 0.001446884533937111, 0.0014456729260945663, 0.0014435382360318205, 0.001440467843451078, 0.0014376451864667468, 0.0014344314641873779, 0.0014311517716693362, 0.0014293370032070986, 0.0014266242978902886, 0.001423964535494445, 0.0014200506498042963, 0.0014162835759845068, 0.0014116771647497669]\n"
     ]
    },
    {
     "data": {
      "application/vnd.jupyter.widget-view+json": {
       "model_id": "cf78771e2e194a318a47335316daf191",
       "version_major": 2,
       "version_minor": 0
      },
      "text/plain": [
       "0it [00:00, ?it/s]"
      ]
     },
     "metadata": {},
     "output_type": "display_data"
    },
    {
     "name": "stdout",
     "output_type": "stream",
     "text": [
      "Loss of train: 0.00117\n",
      "Loss of val: 0.00141\n",
      "Loss of test: 0.00116\n",
      "Loss of gw_test: 0.00098\n",
      "[0.0015201441491973296, 0.0014617344999266855, 0.0014502656352191438, 0.001446884533937111, 0.0014456729260945663, 0.0014435382360318205, 0.001440467843451078, 0.0014376451864667468, 0.0014344314641873779, 0.0014311517716693362, 0.0014293370032070986, 0.0014266242978902886, 0.001423964535494445, 0.0014200506498042963, 0.0014162835759845068, 0.0014116771647497669, 0.0014070090494375655]\n"
     ]
    },
    {
     "data": {
      "application/vnd.jupyter.widget-view+json": {
       "model_id": "ab69585bebcd41cba36b0fcad63860ff",
       "version_major": 2,
       "version_minor": 0
      },
      "text/plain": [
       "0it [00:00, ?it/s]"
      ]
     },
     "metadata": {},
     "output_type": "display_data"
    },
    {
     "name": "stdout",
     "output_type": "stream",
     "text": [
      "Loss of train: 0.00117\n",
      "Loss of val: 0.00140\n",
      "Loss of test: 0.00117\n",
      "Loss of gw_test: 0.00098\n",
      "[0.0015201441491973296, 0.0014617344999266855, 0.0014502656352191438, 0.001446884533937111, 0.0014456729260945663, 0.0014435382360318205, 0.001440467843451078, 0.0014376451864667468, 0.0014344314641873779, 0.0014311517716693362, 0.0014293370032070986, 0.0014266242978902886, 0.001423964535494445, 0.0014200506498042963, 0.0014162835759845068, 0.0014116771647497669, 0.0014070090494375655, 0.0014024022630673163]\n"
     ]
    },
    {
     "data": {
      "application/vnd.jupyter.widget-view+json": {
       "model_id": "8c692a65cb3d4eeb875c6bac3a0f7b81",
       "version_major": 2,
       "version_minor": 0
      },
      "text/plain": [
       "0it [00:00, ?it/s]"
      ]
     },
     "metadata": {},
     "output_type": "display_data"
    },
    {
     "name": "stdout",
     "output_type": "stream",
     "text": [
      "Loss of train: 0.00117\n",
      "Loss of val: 0.00140\n",
      "Loss of test: 0.00117\n",
      "Loss of gw_test: 0.00098\n",
      "[0.0015201441491973296, 0.0014617344999266855, 0.0014502656352191438, 0.001446884533937111, 0.0014456729260945663, 0.0014435382360318205, 0.001440467843451078, 0.0014376451864667468, 0.0014344314641873779, 0.0014311517716693362, 0.0014293370032070986, 0.0014266242978902886, 0.001423964535494445, 0.0014200506498042963, 0.0014162835759845068, 0.0014116771647497669, 0.0014070090494375655, 0.0014024022630673163, 0.0013972115365874771]\n"
     ]
    },
    {
     "data": {
      "application/vnd.jupyter.widget-view+json": {
       "model_id": "9b7e85969888425f92f2bb5ce1aabbcb",
       "version_major": 2,
       "version_minor": 0
      },
      "text/plain": [
       "0it [00:00, ?it/s]"
      ]
     },
     "metadata": {},
     "output_type": "display_data"
    },
    {
     "name": "stdout",
     "output_type": "stream",
     "text": [
      "Loss of train: 0.00117\n",
      "Loss of val: 0.00137\n",
      "Loss of test: 0.00117\n",
      "Loss of gw_test: 0.00098\n",
      "[0.0015201441491973296, 0.0014617344999266855, 0.0014502656352191438, 0.001446884533937111, 0.0014456729260945663, 0.0014435382360318205, 0.001440467843451078, 0.0014376451864667468, 0.0014344314641873779, 0.0014311517716693362, 0.0014293370032070986, 0.0014266242978902886, 0.001423964535494445, 0.0014200506498042963, 0.0014162835759845068, 0.0014116771647497669, 0.0014070090494375655, 0.0014024022630673163, 0.0013972115365874771, 0.0013712556978158748]\n"
     ]
    },
    {
     "data": {
      "application/vnd.jupyter.widget-view+json": {
       "model_id": "39514ce161924c76884aa1c191b4e264",
       "version_major": 2,
       "version_minor": 0
      },
      "text/plain": [
       "0it [00:00, ?it/s]"
      ]
     },
     "metadata": {},
     "output_type": "display_data"
    },
    {
     "name": "stdout",
     "output_type": "stream",
     "text": [
      "Loss of train: 0.00116\n",
      "Loss of val: 0.00138\n",
      "Loss of test: 0.00117\n",
      "Loss of gw_test: 0.00098\n",
      "[0.0015201441491973296, 0.0014617344999266855, 0.0014502656352191438, 0.001446884533937111, 0.0014456729260945663, 0.0014435382360318205, 0.001440467843451078, 0.0014376451864667468, 0.0014344314641873779, 0.0014311517716693362, 0.0014293370032070986, 0.0014266242978902886, 0.001423964535494445, 0.0014200506498042963, 0.0014162835759845068, 0.0014116771647497669, 0.0014070090494375655, 0.0014024022630673163, 0.0013972115365874771, 0.0013712556978158748, 0.0013824890330097366]\n",
      "Break at 20\n",
      "{'f1': 2, 'f2': 5, 'f3': 5, 'f4': 3, 'f5': 2}\n",
      "AUROC of val: 0.94251\n",
      "AUROC of test: 0.94641\n",
      "AUROC of gw_test: 0.94919\n"
     ]
    },
    {
     "data": {
      "application/vnd.jupyter.widget-view+json": {
       "model_id": "f2ee80c2bbc84b25ace5f80dbe7fdb05",
       "version_major": 2,
       "version_minor": 0
      },
      "text/plain": [
       "0it [00:00, ?it/s]"
      ]
     },
     "metadata": {},
     "output_type": "display_data"
    },
    {
     "name": "stdout",
     "output_type": "stream",
     "text": [
      "Loss of train: 0.00135\n",
      "Loss of val: 0.00144\n",
      "Loss of test: 0.00130\n",
      "Loss of gw_test: 0.00110\n",
      "[0.0014433633217291637]\n"
     ]
    },
    {
     "data": {
      "application/vnd.jupyter.widget-view+json": {
       "model_id": "7fc11830aa24428f92229e3f55e94b63",
       "version_major": 2,
       "version_minor": 0
      },
      "text/plain": [
       "0it [00:00, ?it/s]"
      ]
     },
     "metadata": {},
     "output_type": "display_data"
    },
    {
     "name": "stdout",
     "output_type": "stream",
     "text": [
      "Loss of train: 0.00128\n",
      "Loss of val: 0.00137\n",
      "Loss of test: 0.00122\n",
      "Loss of gw_test: 0.00105\n",
      "[0.0014433633217291637, 0.0013676089110066418]\n"
     ]
    },
    {
     "data": {
      "application/vnd.jupyter.widget-view+json": {
       "model_id": "85cda438547a41b391b66ea9c365de2b",
       "version_major": 2,
       "version_minor": 0
      },
      "text/plain": [
       "0it [00:00, ?it/s]"
      ]
     },
     "metadata": {},
     "output_type": "display_data"
    },
    {
     "name": "stdout",
     "output_type": "stream",
     "text": [
      "Loss of train: 0.00127\n",
      "Loss of val: 0.00135\n",
      "Loss of test: 0.00120\n",
      "Loss of gw_test: 0.00104\n",
      "[0.0014433633217291637, 0.0013676089110066418, 0.0013461944549496188]\n"
     ]
    },
    {
     "data": {
      "application/vnd.jupyter.widget-view+json": {
       "model_id": "cd119626e118493dafc1a798a4694572",
       "version_major": 2,
       "version_minor": 0
      },
      "text/plain": [
       "0it [00:00, ?it/s]"
      ]
     },
     "metadata": {},
     "output_type": "display_data"
    },
    {
     "name": "stdout",
     "output_type": "stream",
     "text": [
      "Loss of train: 0.00125\n",
      "Loss of val: 0.00134\n",
      "Loss of test: 0.00120\n",
      "Loss of gw_test: 0.00103\n",
      "[0.0014433633217291637, 0.0013676089110066418, 0.0013461944549496188, 0.0013369099251653164]\n"
     ]
    },
    {
     "data": {
      "application/vnd.jupyter.widget-view+json": {
       "model_id": "f9f6abf4001b4f9a97f1ff26edf8abea",
       "version_major": 2,
       "version_minor": 0
      },
      "text/plain": [
       "0it [00:00, ?it/s]"
      ]
     },
     "metadata": {},
     "output_type": "display_data"
    },
    {
     "name": "stdout",
     "output_type": "stream",
     "text": [
      "Loss of train: 0.00125\n",
      "Loss of val: 0.00133\n",
      "Loss of test: 0.00119\n",
      "Loss of gw_test: 0.00103\n",
      "[0.0014433633217291637, 0.0013676089110066418, 0.0013461944549496188, 0.0013369099251653164, 0.001329756708095526]\n"
     ]
    },
    {
     "data": {
      "application/vnd.jupyter.widget-view+json": {
       "model_id": "47d085fa77a141f4b21739240d5441d7",
       "version_major": 2,
       "version_minor": 0
      },
      "text/plain": [
       "0it [00:00, ?it/s]"
      ]
     },
     "metadata": {},
     "output_type": "display_data"
    },
    {
     "name": "stdout",
     "output_type": "stream",
     "text": [
      "Loss of train: 0.00124\n",
      "Loss of val: 0.00133\n",
      "Loss of test: 0.00119\n",
      "Loss of gw_test: 0.00103\n",
      "[0.0014433633217291637, 0.0013676089110066418, 0.0013461944549496188, 0.0013369099251653164, 0.001329756708095526, 0.00132587049073013]\n"
     ]
    },
    {
     "data": {
      "application/vnd.jupyter.widget-view+json": {
       "model_id": "e73abffa43bc49cda31b5b1b950e21d1",
       "version_major": 2,
       "version_minor": 0
      },
      "text/plain": [
       "0it [00:00, ?it/s]"
      ]
     },
     "metadata": {},
     "output_type": "display_data"
    },
    {
     "name": "stdout",
     "output_type": "stream",
     "text": [
      "Loss of train: 0.00123\n",
      "Loss of val: 0.00132\n",
      "Loss of test: 0.00119\n",
      "Loss of gw_test: 0.00102\n",
      "[0.0014433633217291637, 0.0013676089110066418, 0.0013461944549496188, 0.0013369099251653164, 0.001329756708095526, 0.00132587049073013, 0.0013226121957496605]\n"
     ]
    },
    {
     "data": {
      "application/vnd.jupyter.widget-view+json": {
       "model_id": "e924f4ddc3884b638e09f44bb22f21cb",
       "version_major": 2,
       "version_minor": 0
      },
      "text/plain": [
       "0it [00:00, ?it/s]"
      ]
     },
     "metadata": {},
     "output_type": "display_data"
    },
    {
     "name": "stdout",
     "output_type": "stream",
     "text": [
      "Loss of train: 0.00122\n",
      "Loss of val: 0.00132\n",
      "Loss of test: 0.00119\n",
      "Loss of gw_test: 0.00102\n",
      "[0.0014433633217291637, 0.0013676089110066418, 0.0013461944549496188, 0.0013369099251653164, 0.001329756708095526, 0.00132587049073013, 0.0013226121957496605, 0.0013206640041853812]\n"
     ]
    },
    {
     "data": {
      "application/vnd.jupyter.widget-view+json": {
       "model_id": "5e4e63dc3dc7495c96aab55dc1a3f2fe",
       "version_major": 2,
       "version_minor": 0
      },
      "text/plain": [
       "0it [00:00, ?it/s]"
      ]
     },
     "metadata": {},
     "output_type": "display_data"
    },
    {
     "name": "stdout",
     "output_type": "stream",
     "text": [
      "Loss of train: 0.00122\n",
      "Loss of val: 0.00132\n",
      "Loss of test: 0.00118\n",
      "Loss of gw_test: 0.00102\n",
      "[0.0014433633217291637, 0.0013676089110066418, 0.0013461944549496188, 0.0013369099251653164, 0.001329756708095526, 0.00132587049073013, 0.0013226121957496605, 0.0013206640041853812, 0.0013194310354864346]\n"
     ]
    },
    {
     "data": {
      "application/vnd.jupyter.widget-view+json": {
       "model_id": "b21b122e1f4d4d17892c41dc04c62acb",
       "version_major": 2,
       "version_minor": 0
      },
      "text/plain": [
       "0it [00:00, ?it/s]"
      ]
     },
     "metadata": {},
     "output_type": "display_data"
    },
    {
     "name": "stdout",
     "output_type": "stream",
     "text": [
      "Loss of train: 0.00121\n",
      "Loss of val: 0.00132\n",
      "Loss of test: 0.00118\n",
      "Loss of gw_test: 0.00102\n",
      "[0.0014433633217291637, 0.0013676089110066418, 0.0013461944549496188, 0.0013369099251653164, 0.001329756708095526, 0.00132587049073013, 0.0013226121957496605, 0.0013206640041853812, 0.0013194310354864346, 0.0013182688047318387]\n"
     ]
    },
    {
     "data": {
      "application/vnd.jupyter.widget-view+json": {
       "model_id": "100b1f77aee1491781322b22a4c52b28",
       "version_major": 2,
       "version_minor": 0
      },
      "text/plain": [
       "0it [00:00, ?it/s]"
      ]
     },
     "metadata": {},
     "output_type": "display_data"
    },
    {
     "name": "stdout",
     "output_type": "stream",
     "text": [
      "Loss of train: 0.00121\n",
      "Loss of val: 0.00132\n",
      "Loss of test: 0.00118\n",
      "Loss of gw_test: 0.00101\n",
      "[0.0014433633217291637, 0.0013676089110066418, 0.0013461944549496188, 0.0013369099251653164, 0.001329756708095526, 0.00132587049073013, 0.0013226121957496605, 0.0013206640041853812, 0.0013194310354864346, 0.0013182688047318387, 0.0013166968019906523]\n"
     ]
    },
    {
     "data": {
      "application/vnd.jupyter.widget-view+json": {
       "model_id": "c4d28d81567b4558b99c78ba7d93a1f3",
       "version_major": 2,
       "version_minor": 0
      },
      "text/plain": [
       "0it [00:00, ?it/s]"
      ]
     },
     "metadata": {},
     "output_type": "display_data"
    },
    {
     "name": "stdout",
     "output_type": "stream",
     "text": [
      "Loss of train: 0.00120\n",
      "Loss of val: 0.00132\n",
      "Loss of test: 0.00118\n",
      "Loss of gw_test: 0.00101\n",
      "[0.0014433633217291637, 0.0013676089110066418, 0.0013461944549496188, 0.0013369099251653164, 0.001329756708095526, 0.00132587049073013, 0.0013226121957496605, 0.0013206640041853812, 0.0013194310354864346, 0.0013182688047318387, 0.0013166968019906523, 0.0013150861865331663]\n"
     ]
    },
    {
     "data": {
      "application/vnd.jupyter.widget-view+json": {
       "model_id": "6b977646ce684f6597994ae68cdacc61",
       "version_major": 2,
       "version_minor": 0
      },
      "text/plain": [
       "0it [00:00, ?it/s]"
      ]
     },
     "metadata": {},
     "output_type": "display_data"
    },
    {
     "name": "stdout",
     "output_type": "stream",
     "text": [
      "Loss of train: 0.00120\n",
      "Loss of val: 0.00131\n",
      "Loss of test: 0.00118\n",
      "Loss of gw_test: 0.00101\n",
      "[0.0014433633217291637, 0.0013676089110066418, 0.0013461944549496188, 0.0013369099251653164, 0.001329756708095526, 0.00132587049073013, 0.0013226121957496605, 0.0013206640041853812, 0.0013194310354864346, 0.0013182688047318387, 0.0013166968019906523, 0.0013150861865331663, 0.0013127945330861227]\n"
     ]
    },
    {
     "data": {
      "application/vnd.jupyter.widget-view+json": {
       "model_id": "71733fedcde349faa1b7901f4082d912",
       "version_major": 2,
       "version_minor": 0
      },
      "text/plain": [
       "0it [00:00, ?it/s]"
      ]
     },
     "metadata": {},
     "output_type": "display_data"
    },
    {
     "name": "stdout",
     "output_type": "stream",
     "text": [
      "Loss of train: 0.00119\n",
      "Loss of val: 0.00131\n",
      "Loss of test: 0.00117\n",
      "Loss of gw_test: 0.00101\n",
      "[0.0014433633217291637, 0.0013676089110066418, 0.0013461944549496188, 0.0013369099251653164, 0.001329756708095526, 0.00132587049073013, 0.0013226121957496605, 0.0013206640041853812, 0.0013194310354864346, 0.0013182688047318387, 0.0013166968019906523, 0.0013150861865331663, 0.0013127945330861227, 0.001313032470013239]\n",
      "Break at 13\n",
      "{'f1': 2, 'f2': 5, 'f3': 5, 'f4': 3, 'f5': 3}\n",
      "AUROC of val: 0.94609\n",
      "AUROC of test: 0.94674\n",
      "AUROC of gw_test: 0.94747\n"
     ]
    },
    {
     "data": {
      "application/vnd.jupyter.widget-view+json": {
       "model_id": "bc0e5fff69e043479cb744e122881f07",
       "version_major": 2,
       "version_minor": 0
      },
      "text/plain": [
       "0it [00:00, ?it/s]"
      ]
     },
     "metadata": {},
     "output_type": "display_data"
    },
    {
     "name": "stdout",
     "output_type": "stream",
     "text": [
      "Loss of train: 0.00143\n",
      "Loss of val: 0.00155\n",
      "Loss of test: 0.00137\n",
      "Loss of gw_test: 0.00120\n",
      "[0.0015465710629384921]\n"
     ]
    },
    {
     "data": {
      "application/vnd.jupyter.widget-view+json": {
       "model_id": "dd31bfbd421f4bb6bf0e754d39ed5097",
       "version_major": 2,
       "version_minor": 0
      },
      "text/plain": [
       "0it [00:00, ?it/s]"
      ]
     },
     "metadata": {},
     "output_type": "display_data"
    },
    {
     "name": "stdout",
     "output_type": "stream",
     "text": [
      "Loss of train: 0.00140\n",
      "Loss of val: 0.00151\n",
      "Loss of test: 0.00133\n",
      "Loss of gw_test: 0.00118\n",
      "[0.0015465710629384921, 0.001508588632560693]\n"
     ]
    },
    {
     "data": {
      "application/vnd.jupyter.widget-view+json": {
       "model_id": "2f558e3f78a848c2b788a17c61d6e1fa",
       "version_major": 2,
       "version_minor": 0
      },
      "text/plain": [
       "0it [00:00, ?it/s]"
      ]
     },
     "metadata": {},
     "output_type": "display_data"
    },
    {
     "name": "stdout",
     "output_type": "stream",
     "text": [
      "Loss of train: 0.00138\n",
      "Loss of val: 0.00148\n",
      "Loss of test: 0.00131\n",
      "Loss of gw_test: 0.00116\n",
      "[0.0015465710629384921, 0.001508588632560693, 0.001482418185945337]\n"
     ]
    },
    {
     "data": {
      "application/vnd.jupyter.widget-view+json": {
       "model_id": "6419e2603d814bbeb881924656a68939",
       "version_major": 2,
       "version_minor": 0
      },
      "text/plain": [
       "0it [00:00, ?it/s]"
      ]
     },
     "metadata": {},
     "output_type": "display_data"
    },
    {
     "name": "stdout",
     "output_type": "stream",
     "text": [
      "Loss of train: 0.00134\n",
      "Loss of val: 0.00144\n",
      "Loss of test: 0.00128\n",
      "Loss of gw_test: 0.00113\n",
      "[0.0015465710629384921, 0.001508588632560693, 0.001482418185945337, 0.0014401963205388358]\n"
     ]
    },
    {
     "data": {
      "application/vnd.jupyter.widget-view+json": {
       "model_id": "c4b1293614f64479a5c27491cd1aa5be",
       "version_major": 2,
       "version_minor": 0
      },
      "text/plain": [
       "0it [00:00, ?it/s]"
      ]
     },
     "metadata": {},
     "output_type": "display_data"
    },
    {
     "name": "stdout",
     "output_type": "stream",
     "text": [
      "Loss of train: 0.00131\n",
      "Loss of val: 0.00140\n",
      "Loss of test: 0.00125\n",
      "Loss of gw_test: 0.00109\n",
      "[0.0015465710629384921, 0.001508588632560693, 0.001482418185945337, 0.0014401963205388358, 0.001397775532439254]\n"
     ]
    },
    {
     "data": {
      "application/vnd.jupyter.widget-view+json": {
       "model_id": "51f8356ff50240d689c3e1eeb895d608",
       "version_major": 2,
       "version_minor": 0
      },
      "text/plain": [
       "0it [00:00, ?it/s]"
      ]
     },
     "metadata": {},
     "output_type": "display_data"
    },
    {
     "name": "stdout",
     "output_type": "stream",
     "text": [
      "Loss of train: 0.00128\n",
      "Loss of val: 0.00137\n",
      "Loss of test: 0.00123\n",
      "Loss of gw_test: 0.00107\n",
      "[0.0015465710629384921, 0.001508588632560693, 0.001482418185945337, 0.0014401963205388358, 0.001397775532439254, 0.0013730464126005505]\n"
     ]
    },
    {
     "data": {
      "application/vnd.jupyter.widget-view+json": {
       "model_id": "00b348ff5f304c7c8f4c034ad94a2da4",
       "version_major": 2,
       "version_minor": 0
      },
      "text/plain": [
       "0it [00:00, ?it/s]"
      ]
     },
     "metadata": {},
     "output_type": "display_data"
    },
    {
     "name": "stdout",
     "output_type": "stream",
     "text": [
      "Loss of train: 0.00126\n",
      "Loss of val: 0.00136\n",
      "Loss of test: 0.00122\n",
      "Loss of gw_test: 0.00105\n",
      "[0.0015465710629384921, 0.001508588632560693, 0.001482418185945337, 0.0014401963205388358, 0.001397775532439254, 0.0013730464126005505, 0.0013572681278715218]\n"
     ]
    },
    {
     "data": {
      "application/vnd.jupyter.widget-view+json": {
       "model_id": "5d80f1d2ee72417299dc443931d639a2",
       "version_major": 2,
       "version_minor": 0
      },
      "text/plain": [
       "0it [00:00, ?it/s]"
      ]
     },
     "metadata": {},
     "output_type": "display_data"
    },
    {
     "name": "stdout",
     "output_type": "stream",
     "text": [
      "Loss of train: 0.00125\n",
      "Loss of val: 0.00135\n",
      "Loss of test: 0.00122\n",
      "Loss of gw_test: 0.00104\n",
      "[0.0015465710629384921, 0.001508588632560693, 0.001482418185945337, 0.0014401963205388358, 0.001397775532439254, 0.0013730464126005505, 0.0013572681278715218, 0.0013471571368917693]\n"
     ]
    },
    {
     "data": {
      "application/vnd.jupyter.widget-view+json": {
       "model_id": "4a88ae7778494131abf9a6f408611361",
       "version_major": 2,
       "version_minor": 0
      },
      "text/plain": [
       "0it [00:00, ?it/s]"
      ]
     },
     "metadata": {},
     "output_type": "display_data"
    },
    {
     "name": "stdout",
     "output_type": "stream",
     "text": [
      "Loss of train: 0.00124\n",
      "Loss of val: 0.00134\n",
      "Loss of test: 0.00121\n",
      "Loss of gw_test: 0.00103\n",
      "[0.0015465710629384921, 0.001508588632560693, 0.001482418185945337, 0.0014401963205388358, 0.001397775532439254, 0.0013730464126005505, 0.0013572681278715218, 0.0013471571368917693, 0.0013395249238358099]\n"
     ]
    },
    {
     "data": {
      "application/vnd.jupyter.widget-view+json": {
       "model_id": "54e7832006f54f839890c95d64590038",
       "version_major": 2,
       "version_minor": 0
      },
      "text/plain": [
       "0it [00:00, ?it/s]"
      ]
     },
     "metadata": {},
     "output_type": "display_data"
    },
    {
     "name": "stdout",
     "output_type": "stream",
     "text": [
      "Loss of train: 0.00123\n",
      "Loss of val: 0.00133\n",
      "Loss of test: 0.00121\n",
      "Loss of gw_test: 0.00103\n",
      "[0.0015465710629384921, 0.001508588632560693, 0.001482418185945337, 0.0014401963205388358, 0.001397775532439254, 0.0013730464126005505, 0.0013572681278715218, 0.0013471571368917693, 0.0013395249238358099, 0.0013333465118350236]\n"
     ]
    },
    {
     "data": {
      "application/vnd.jupyter.widget-view+json": {
       "model_id": "1e6e8264e35c4a609dd2beaf94e494c4",
       "version_major": 2,
       "version_minor": 0
      },
      "text/plain": [
       "0it [00:00, ?it/s]"
      ]
     },
     "metadata": {},
     "output_type": "display_data"
    },
    {
     "name": "stdout",
     "output_type": "stream",
     "text": [
      "Loss of train: 0.00122\n",
      "Loss of val: 0.00133\n",
      "Loss of test: 0.00121\n",
      "Loss of gw_test: 0.00102\n",
      "[0.0015465710629384921, 0.001508588632560693, 0.001482418185945337, 0.0014401963205388358, 0.001397775532439254, 0.0013730464126005505, 0.0013572681278715218, 0.0013471571368917693, 0.0013395249238358099, 0.0013333465118350236, 0.0013264011062934986]\n"
     ]
    },
    {
     "data": {
      "application/vnd.jupyter.widget-view+json": {
       "model_id": "ccf67396cf124e83b47ac3aabce431aa",
       "version_major": 2,
       "version_minor": 0
      },
      "text/plain": [
       "0it [00:00, ?it/s]"
      ]
     },
     "metadata": {},
     "output_type": "display_data"
    },
    {
     "name": "stdout",
     "output_type": "stream",
     "text": [
      "Loss of train: 0.00121\n",
      "Loss of val: 0.00132\n",
      "Loss of test: 0.00121\n",
      "Loss of gw_test: 0.00102\n",
      "[0.0015465710629384921, 0.001508588632560693, 0.001482418185945337, 0.0014401963205388358, 0.001397775532439254, 0.0013730464126005505, 0.0013572681278715218, 0.0013471571368917693, 0.0013395249238358099, 0.0013333465118350236, 0.0013264011062934986, 0.0013190153088761375]\n"
     ]
    },
    {
     "data": {
      "application/vnd.jupyter.widget-view+json": {
       "model_id": "91b5ce6184b64623bb319f5c1ee9c760",
       "version_major": 2,
       "version_minor": 0
      },
      "text/plain": [
       "0it [00:00, ?it/s]"
      ]
     },
     "metadata": {},
     "output_type": "display_data"
    },
    {
     "name": "stdout",
     "output_type": "stream",
     "text": [
      "Loss of train: 0.00121\n",
      "Loss of val: 0.00131\n",
      "Loss of test: 0.00121\n",
      "Loss of gw_test: 0.00101\n",
      "[0.0015465710629384921, 0.001508588632560693, 0.001482418185945337, 0.0014401963205388358, 0.001397775532439254, 0.0013730464126005505, 0.0013572681278715218, 0.0013471571368917693, 0.0013395249238358099, 0.0013333465118350236, 0.0013264011062934986, 0.0013190153088761375, 0.0013124679933559657]\n"
     ]
    },
    {
     "data": {
      "application/vnd.jupyter.widget-view+json": {
       "model_id": "7bbd794769464f76988727c1be5a1c98",
       "version_major": 2,
       "version_minor": 0
      },
      "text/plain": [
       "0it [00:00, ?it/s]"
      ]
     },
     "metadata": {},
     "output_type": "display_data"
    },
    {
     "name": "stdout",
     "output_type": "stream",
     "text": [
      "Loss of train: 0.00120\n",
      "Loss of val: 0.00131\n",
      "Loss of test: 0.00121\n",
      "Loss of gw_test: 0.00101\n",
      "[0.0015465710629384921, 0.001508588632560693, 0.001482418185945337, 0.0014401963205388358, 0.001397775532439254, 0.0013730464126005505, 0.0013572681278715218, 0.0013471571368917693, 0.0013395249238358099, 0.0013333465118350236, 0.0013264011062934986, 0.0013190153088761375, 0.0013124679933559657, 0.0013067732134180567]\n"
     ]
    },
    {
     "data": {
      "application/vnd.jupyter.widget-view+json": {
       "model_id": "b6c9c42e2e6246b6b528f26a03fe96ae",
       "version_major": 2,
       "version_minor": 0
      },
      "text/plain": [
       "0it [00:00, ?it/s]"
      ]
     },
     "metadata": {},
     "output_type": "display_data"
    },
    {
     "name": "stdout",
     "output_type": "stream",
     "text": [
      "Loss of train: 0.00120\n",
      "Loss of val: 0.00130\n",
      "Loss of test: 0.00121\n",
      "Loss of gw_test: 0.00101\n",
      "[0.0015465710629384921, 0.001508588632560693, 0.001482418185945337, 0.0014401963205388358, 0.001397775532439254, 0.0013730464126005505, 0.0013572681278715218, 0.0013471571368917693, 0.0013395249238358099, 0.0013333465118350236, 0.0013264011062934986, 0.0013190153088761375, 0.0013124679933559657, 0.0013067732134180567, 0.001302309512111243]\n"
     ]
    },
    {
     "data": {
      "application/vnd.jupyter.widget-view+json": {
       "model_id": "24643cc353ea4e9e88d481eaff7a23d8",
       "version_major": 2,
       "version_minor": 0
      },
      "text/plain": [
       "0it [00:00, ?it/s]"
      ]
     },
     "metadata": {},
     "output_type": "display_data"
    },
    {
     "name": "stdout",
     "output_type": "stream",
     "text": [
      "Loss of train: 0.00119\n",
      "Loss of val: 0.00130\n",
      "Loss of test: 0.00121\n",
      "Loss of gw_test: 0.00101\n",
      "[0.0015465710629384921, 0.001508588632560693, 0.001482418185945337, 0.0014401963205388358, 0.001397775532439254, 0.0013730464126005505, 0.0013572681278715218, 0.0013471571368917693, 0.0013395249238358099, 0.0013333465118350236, 0.0013264011062934986, 0.0013190153088761375, 0.0013124679933559657, 0.0013067732134180567, 0.001302309512111243, 0.0012988687438264448]\n"
     ]
    },
    {
     "data": {
      "application/vnd.jupyter.widget-view+json": {
       "model_id": "f1ab30b8bb4142c68fbd049934fb96c7",
       "version_major": 2,
       "version_minor": 0
      },
      "text/plain": [
       "0it [00:00, ?it/s]"
      ]
     },
     "metadata": {},
     "output_type": "display_data"
    },
    {
     "name": "stdout",
     "output_type": "stream",
     "text": [
      "Loss of train: 0.00119\n",
      "Loss of val: 0.00130\n",
      "Loss of test: 0.00121\n",
      "Loss of gw_test: 0.00101\n",
      "[0.0015465710629384921, 0.001508588632560693, 0.001482418185945337, 0.0014401963205388358, 0.001397775532439254, 0.0013730464126005505, 0.0013572681278715218, 0.0013471571368917693, 0.0013395249238358099, 0.0013333465118350236, 0.0013264011062934986, 0.0013190153088761375, 0.0013124679933559657, 0.0013067732134180567, 0.001302309512111243, 0.0012988687438264448, 0.0012959041981491623]\n"
     ]
    },
    {
     "data": {
      "application/vnd.jupyter.widget-view+json": {
       "model_id": "84864f18066e4098bea69f1ae923a62a",
       "version_major": 2,
       "version_minor": 0
      },
      "text/plain": [
       "0it [00:00, ?it/s]"
      ]
     },
     "metadata": {},
     "output_type": "display_data"
    },
    {
     "name": "stdout",
     "output_type": "stream",
     "text": [
      "Loss of train: 0.00119\n",
      "Loss of val: 0.00129\n",
      "Loss of test: 0.00121\n",
      "Loss of gw_test: 0.00101\n",
      "[0.0015465710629384921, 0.001508588632560693, 0.001482418185945337, 0.0014401963205388358, 0.001397775532439254, 0.0013730464126005505, 0.0013572681278715218, 0.0013471571368917693, 0.0013395249238358099, 0.0013333465118350236, 0.0013264011062934986, 0.0013190153088761375, 0.0013124679933559657, 0.0013067732134180567, 0.001302309512111243, 0.0012988687438264448, 0.0012959041981491623, 0.0012933761547328276]\n"
     ]
    },
    {
     "data": {
      "application/vnd.jupyter.widget-view+json": {
       "model_id": "3ccc9d07a9e34e798b5508985501f6bb",
       "version_major": 2,
       "version_minor": 0
      },
      "text/plain": [
       "0it [00:00, ?it/s]"
      ]
     },
     "metadata": {},
     "output_type": "display_data"
    },
    {
     "name": "stdout",
     "output_type": "stream",
     "text": [
      "Loss of train: 0.00118\n",
      "Loss of val: 0.00129\n",
      "Loss of test: 0.00121\n",
      "Loss of gw_test: 0.00101\n",
      "[0.0015465710629384921, 0.001508588632560693, 0.001482418185945337, 0.0014401963205388358, 0.001397775532439254, 0.0013730464126005505, 0.0013572681278715218, 0.0013471571368917693, 0.0013395249238358099, 0.0013333465118350236, 0.0013264011062934986, 0.0013190153088761375, 0.0013124679933559657, 0.0013067732134180567, 0.001302309512111243, 0.0012988687438264448, 0.0012959041981491623, 0.0012933761547328276, 0.001291120459272909]\n"
     ]
    },
    {
     "data": {
      "application/vnd.jupyter.widget-view+json": {
       "model_id": "d1fd7ec9b2f5469d97d9d7f8cde2feb6",
       "version_major": 2,
       "version_minor": 0
      },
      "text/plain": [
       "0it [00:00, ?it/s]"
      ]
     },
     "metadata": {},
     "output_type": "display_data"
    },
    {
     "name": "stdout",
     "output_type": "stream",
     "text": [
      "Loss of train: 0.00118\n",
      "Loss of val: 0.00129\n",
      "Loss of test: 0.00121\n",
      "Loss of gw_test: 0.00101\n",
      "[0.0015465710629384921, 0.001508588632560693, 0.001482418185945337, 0.0014401963205388358, 0.001397775532439254, 0.0013730464126005505, 0.0013572681278715218, 0.0013471571368917693, 0.0013395249238358099, 0.0013333465118350236, 0.0013264011062934986, 0.0013190153088761375, 0.0013124679933559657, 0.0013067732134180567, 0.001302309512111243, 0.0012988687438264448, 0.0012959041981491623, 0.0012933761547328276, 0.001291120459272909, 0.0012890196288932534]\n"
     ]
    },
    {
     "data": {
      "application/vnd.jupyter.widget-view+json": {
       "model_id": "b7ed81aaa00f43abb5f5041fabada926",
       "version_major": 2,
       "version_minor": 0
      },
      "text/plain": [
       "0it [00:00, ?it/s]"
      ]
     },
     "metadata": {},
     "output_type": "display_data"
    },
    {
     "name": "stdout",
     "output_type": "stream",
     "text": [
      "Loss of train: 0.00118\n",
      "Loss of val: 0.00129\n",
      "Loss of test: 0.00121\n",
      "Loss of gw_test: 0.00100\n",
      "[0.0015465710629384921, 0.001508588632560693, 0.001482418185945337, 0.0014401963205388358, 0.001397775532439254, 0.0013730464126005505, 0.0013572681278715218, 0.0013471571368917693, 0.0013395249238358099, 0.0013333465118350236, 0.0013264011062934986, 0.0013190153088761375, 0.0013124679933559657, 0.0013067732134180567, 0.001302309512111243, 0.0012988687438264448, 0.0012959041981491623, 0.0012933761547328276, 0.001291120459272909, 0.0012890196288932534, 0.00128700151779797]\n"
     ]
    },
    {
     "data": {
      "application/vnd.jupyter.widget-view+json": {
       "model_id": "05eac845091d4626b6ac043b306818e6",
       "version_major": 2,
       "version_minor": 0
      },
      "text/plain": [
       "0it [00:00, ?it/s]"
      ]
     },
     "metadata": {},
     "output_type": "display_data"
    },
    {
     "name": "stdout",
     "output_type": "stream",
     "text": [
      "Loss of train: 0.00118\n",
      "Loss of val: 0.00128\n",
      "Loss of test: 0.00121\n",
      "Loss of gw_test: 0.00100\n",
      "[0.0015465710629384921, 0.001508588632560693, 0.001482418185945337, 0.0014401963205388358, 0.001397775532439254, 0.0013730464126005505, 0.0013572681278715218, 0.0013471571368917693, 0.0013395249238358099, 0.0013333465118350236, 0.0013264011062934986, 0.0013190153088761375, 0.0013124679933559657, 0.0013067732134180567, 0.001302309512111243, 0.0012988687438264448, 0.0012959041981491623, 0.0012933761547328276, 0.001291120459272909, 0.0012890196288932534, 0.00128700151779797, 0.0012849984390696056]\n"
     ]
    },
    {
     "data": {
      "application/vnd.jupyter.widget-view+json": {
       "model_id": "414bca1fb866479dbed04cc8c1d8f90e",
       "version_major": 2,
       "version_minor": 0
      },
      "text/plain": [
       "0it [00:00, ?it/s]"
      ]
     },
     "metadata": {},
     "output_type": "display_data"
    },
    {
     "name": "stdout",
     "output_type": "stream",
     "text": [
      "Loss of train: 0.00118\n",
      "Loss of val: 0.00128\n",
      "Loss of test: 0.00121\n",
      "Loss of gw_test: 0.00100\n",
      "[0.0015465710629384921, 0.001508588632560693, 0.001482418185945337, 0.0014401963205388358, 0.001397775532439254, 0.0013730464126005505, 0.0013572681278715218, 0.0013471571368917693, 0.0013395249238358099, 0.0013333465118350236, 0.0013264011062934986, 0.0013190153088761375, 0.0013124679933559657, 0.0013067732134180567, 0.001302309512111243, 0.0012988687438264448, 0.0012959041981491623, 0.0012933761547328276, 0.001291120459272909, 0.0012890196288932534, 0.00128700151779797, 0.0012849984390696056, 0.001282976941596877]\n"
     ]
    },
    {
     "data": {
      "application/vnd.jupyter.widget-view+json": {
       "model_id": "75262c10b2344fa0b060146b020b52fb",
       "version_major": 2,
       "version_minor": 0
      },
      "text/plain": [
       "0it [00:00, ?it/s]"
      ]
     },
     "metadata": {},
     "output_type": "display_data"
    },
    {
     "name": "stdout",
     "output_type": "stream",
     "text": [
      "Loss of train: 0.00117\n",
      "Loss of val: 0.00128\n",
      "Loss of test: 0.00121\n",
      "Loss of gw_test: 0.00100\n",
      "[0.0015465710629384921, 0.001508588632560693, 0.001482418185945337, 0.0014401963205388358, 0.001397775532439254, 0.0013730464126005505, 0.0013572681278715218, 0.0013471571368917693, 0.0013395249238358099, 0.0013333465118350236, 0.0013264011062934986, 0.0013190153088761375, 0.0013124679933559657, 0.0013067732134180567, 0.001302309512111243, 0.0012988687438264448, 0.0012959041981491623, 0.0012933761547328276, 0.001291120459272909, 0.0012890196288932534, 0.00128700151779797, 0.0012849984390696056, 0.001282976941596877, 0.0012809703039484846]\n"
     ]
    },
    {
     "data": {
      "application/vnd.jupyter.widget-view+json": {
       "model_id": "61afc4965f264070b5fa7fdcdc4c0be0",
       "version_major": 2,
       "version_minor": 0
      },
      "text/plain": [
       "0it [00:00, ?it/s]"
      ]
     },
     "metadata": {},
     "output_type": "display_data"
    },
    {
     "name": "stdout",
     "output_type": "stream",
     "text": [
      "Loss of train: 0.00117\n",
      "Loss of val: 0.00128\n",
      "Loss of test: 0.00121\n",
      "Loss of gw_test: 0.00100\n",
      "[0.0015465710629384921, 0.001508588632560693, 0.001482418185945337, 0.0014401963205388358, 0.001397775532439254, 0.0013730464126005505, 0.0013572681278715218, 0.0013471571368917693, 0.0013395249238358099, 0.0013333465118350236, 0.0013264011062934986, 0.0013190153088761375, 0.0013124679933559657, 0.0013067732134180567, 0.001302309512111243, 0.0012988687438264448, 0.0012959041981491623, 0.0012933761547328276, 0.001291120459272909, 0.0012890196288932534, 0.00128700151779797, 0.0012849984390696056, 0.001282976941596877, 0.0012809703039484846, 0.0012790671203215022]\n"
     ]
    },
    {
     "data": {
      "application/vnd.jupyter.widget-view+json": {
       "model_id": "2577d05ffc5645b396f97ab8d0997859",
       "version_major": 2,
       "version_minor": 0
      },
      "text/plain": [
       "0it [00:00, ?it/s]"
      ]
     },
     "metadata": {},
     "output_type": "display_data"
    },
    {
     "name": "stdout",
     "output_type": "stream",
     "text": [
      "Loss of train: 0.00117\n",
      "Loss of val: 0.00128\n",
      "Loss of test: 0.00121\n",
      "Loss of gw_test: 0.00100\n",
      "[0.0015465710629384921, 0.001508588632560693, 0.001482418185945337, 0.0014401963205388358, 0.001397775532439254, 0.0013730464126005505, 0.0013572681278715218, 0.0013471571368917693, 0.0013395249238358099, 0.0013333465118350236, 0.0013264011062934986, 0.0013190153088761375, 0.0013124679933559657, 0.0013067732134180567, 0.001302309512111243, 0.0012988687438264448, 0.0012959041981491623, 0.0012933761547328276, 0.001291120459272909, 0.0012890196288932534, 0.00128700151779797, 0.0012849984390696056, 0.001282976941596877, 0.0012809703039484846, 0.0012790671203215022, 0.001277261929453966]\n"
     ]
    },
    {
     "data": {
      "application/vnd.jupyter.widget-view+json": {
       "model_id": "709a2340b23742a49e277ebeac9712a3",
       "version_major": 2,
       "version_minor": 0
      },
      "text/plain": [
       "0it [00:00, ?it/s]"
      ]
     },
     "metadata": {},
     "output_type": "display_data"
    },
    {
     "name": "stdout",
     "output_type": "stream",
     "text": [
      "Loss of train: 0.00117\n",
      "Loss of val: 0.00128\n",
      "Loss of test: 0.00121\n",
      "Loss of gw_test: 0.00100\n",
      "[0.0015465710629384921, 0.001508588632560693, 0.001482418185945337, 0.0014401963205388358, 0.001397775532439254, 0.0013730464126005505, 0.0013572681278715218, 0.0013471571368917693, 0.0013395249238358099, 0.0013333465118350236, 0.0013264011062934986, 0.0013190153088761375, 0.0013124679933559657, 0.0013067732134180567, 0.001302309512111243, 0.0012988687438264448, 0.0012959041981491623, 0.0012933761547328276, 0.001291120459272909, 0.0012890196288932534, 0.00128700151779797, 0.0012849984390696056, 0.001282976941596877, 0.0012809703039484846, 0.0012790671203215022, 0.001277261929453966, 0.0012755339527325158]\n"
     ]
    },
    {
     "data": {
      "application/vnd.jupyter.widget-view+json": {
       "model_id": "23d4edde2a7d4615853574a8dcd4e9b2",
       "version_major": 2,
       "version_minor": 0
      },
      "text/plain": [
       "0it [00:00, ?it/s]"
      ]
     },
     "metadata": {},
     "output_type": "display_data"
    },
    {
     "name": "stdout",
     "output_type": "stream",
     "text": [
      "Loss of train: 0.00117\n",
      "Loss of val: 0.00127\n",
      "Loss of test: 0.00120\n",
      "Loss of gw_test: 0.00100\n",
      "[0.0015465710629384921, 0.001508588632560693, 0.001482418185945337, 0.0014401963205388358, 0.001397775532439254, 0.0013730464126005505, 0.0013572681278715218, 0.0013471571368917693, 0.0013395249238358099, 0.0013333465118350236, 0.0013264011062934986, 0.0013190153088761375, 0.0013124679933559657, 0.0013067732134180567, 0.001302309512111243, 0.0012988687438264448, 0.0012959041981491623, 0.0012933761547328276, 0.001291120459272909, 0.0012890196288932534, 0.00128700151779797, 0.0012849984390696056, 0.001282976941596877, 0.0012809703039484846, 0.0012790671203215022, 0.001277261929453966, 0.0012755339527325158, 0.0012739230671041009]\n"
     ]
    },
    {
     "data": {
      "application/vnd.jupyter.widget-view+json": {
       "model_id": "f272a41e0789442fb688414269e3d284",
       "version_major": 2,
       "version_minor": 0
      },
      "text/plain": [
       "0it [00:00, ?it/s]"
      ]
     },
     "metadata": {},
     "output_type": "display_data"
    },
    {
     "name": "stdout",
     "output_type": "stream",
     "text": [
      "Loss of train: 0.00117\n",
      "Loss of val: 0.00127\n",
      "Loss of test: 0.00120\n",
      "Loss of gw_test: 0.00100\n",
      "[0.0015465710629384921, 0.001508588632560693, 0.001482418185945337, 0.0014401963205388358, 0.001397775532439254, 0.0013730464126005505, 0.0013572681278715218, 0.0013471571368917693, 0.0013395249238358099, 0.0013333465118350236, 0.0013264011062934986, 0.0013190153088761375, 0.0013124679933559657, 0.0013067732134180567, 0.001302309512111243, 0.0012988687438264448, 0.0012959041981491623, 0.0012933761547328276, 0.001291120459272909, 0.0012890196288932534, 0.00128700151779797, 0.0012849984390696056, 0.001282976941596877, 0.0012809703039484846, 0.0012790671203215022, 0.001277261929453966, 0.0012755339527325158, 0.0012739230671041009, 0.0012724545982364108]\n"
     ]
    },
    {
     "data": {
      "application/vnd.jupyter.widget-view+json": {
       "model_id": "4783f319967745a6918d1e209ad1826a",
       "version_major": 2,
       "version_minor": 0
      },
      "text/plain": [
       "0it [00:00, ?it/s]"
      ]
     },
     "metadata": {},
     "output_type": "display_data"
    },
    {
     "name": "stdout",
     "output_type": "stream",
     "text": [
      "Loss of train: 0.00117\n",
      "Loss of val: 0.00127\n",
      "Loss of test: 0.00120\n",
      "Loss of gw_test: 0.00100\n",
      "[0.0015465710629384921, 0.001508588632560693, 0.001482418185945337, 0.0014401963205388358, 0.001397775532439254, 0.0013730464126005505, 0.0013572681278715218, 0.0013471571368917693, 0.0013395249238358099, 0.0013333465118350236, 0.0013264011062934986, 0.0013190153088761375, 0.0013124679933559657, 0.0013067732134180567, 0.001302309512111243, 0.0012988687438264448, 0.0012959041981491623, 0.0012933761547328276, 0.001291120459272909, 0.0012890196288932534, 0.00128700151779797, 0.0012849984390696056, 0.001282976941596877, 0.0012809703039484846, 0.0012790671203215022, 0.001277261929453966, 0.0012755339527325158, 0.0012739230671041009, 0.0012724545982364108, 0.0012711640633781991]\n"
     ]
    },
    {
     "data": {
      "application/vnd.jupyter.widget-view+json": {
       "model_id": "0e2ebf914f3a466eb123f7da9974f9d4",
       "version_major": 2,
       "version_minor": 0
      },
      "text/plain": [
       "0it [00:00, ?it/s]"
      ]
     },
     "metadata": {},
     "output_type": "display_data"
    },
    {
     "name": "stdout",
     "output_type": "stream",
     "text": [
      "Loss of train: 0.00116\n",
      "Loss of val: 0.00127\n",
      "Loss of test: 0.00120\n",
      "Loss of gw_test: 0.00100\n",
      "[0.0015465710629384921, 0.001508588632560693, 0.001482418185945337, 0.0014401963205388358, 0.001397775532439254, 0.0013730464126005505, 0.0013572681278715218, 0.0013471571368917693, 0.0013395249238358099, 0.0013333465118350236, 0.0013264011062934986, 0.0013190153088761375, 0.0013124679933559657, 0.0013067732134180567, 0.001302309512111243, 0.0012988687438264448, 0.0012959041981491623, 0.0012933761547328276, 0.001291120459272909, 0.0012890196288932534, 0.00128700151779797, 0.0012849984390696056, 0.001282976941596877, 0.0012809703039484846, 0.0012790671203215022, 0.001277261929453966, 0.0012755339527325158, 0.0012739230671041009, 0.0012724545982364108, 0.0012711640633781991, 0.0012700037180357674]\n"
     ]
    },
    {
     "data": {
      "application/vnd.jupyter.widget-view+json": {
       "model_id": "8b32d804026f4b4184d8e54eda22e8f7",
       "version_major": 2,
       "version_minor": 0
      },
      "text/plain": [
       "0it [00:00, ?it/s]"
      ]
     },
     "metadata": {},
     "output_type": "display_data"
    },
    {
     "name": "stdout",
     "output_type": "stream",
     "text": [
      "Loss of train: 0.00116\n",
      "Loss of val: 0.00127\n",
      "Loss of test: 0.00120\n",
      "Loss of gw_test: 0.00100\n",
      "[0.0015465710629384921, 0.001508588632560693, 0.001482418185945337, 0.0014401963205388358, 0.001397775532439254, 0.0013730464126005505, 0.0013572681278715218, 0.0013471571368917693, 0.0013395249238358099, 0.0013333465118350236, 0.0013264011062934986, 0.0013190153088761375, 0.0013124679933559657, 0.0013067732134180567, 0.001302309512111243, 0.0012988687438264448, 0.0012959041981491623, 0.0012933761547328276, 0.001291120459272909, 0.0012890196288932534, 0.00128700151779797, 0.0012849984390696056, 0.001282976941596877, 0.0012809703039484846, 0.0012790671203215022, 0.001277261929453966, 0.0012755339527325158, 0.0012739230671041009, 0.0012724545982364108, 0.0012711640633781991, 0.0012700037180357674, 0.0012689537391402466]\n"
     ]
    },
    {
     "data": {
      "application/vnd.jupyter.widget-view+json": {
       "model_id": "e11d372e0637422ba2673ec39f723112",
       "version_major": 2,
       "version_minor": 0
      },
      "text/plain": [
       "0it [00:00, ?it/s]"
      ]
     },
     "metadata": {},
     "output_type": "display_data"
    },
    {
     "name": "stdout",
     "output_type": "stream",
     "text": [
      "Loss of train: 0.00116\n",
      "Loss of val: 0.00127\n",
      "Loss of test: 0.00120\n",
      "Loss of gw_test: 0.00100\n",
      "[0.0015465710629384921, 0.001508588632560693, 0.001482418185945337, 0.0014401963205388358, 0.001397775532439254, 0.0013730464126005505, 0.0013572681278715218, 0.0013471571368917693, 0.0013395249238358099, 0.0013333465118350236, 0.0013264011062934986, 0.0013190153088761375, 0.0013124679933559657, 0.0013067732134180567, 0.001302309512111243, 0.0012988687438264448, 0.0012959041981491623, 0.0012933761547328276, 0.001291120459272909, 0.0012890196288932534, 0.00128700151779797, 0.0012849984390696056, 0.001282976941596877, 0.0012809703039484846, 0.0012790671203215022, 0.001277261929453966, 0.0012755339527325158, 0.0012739230671041009, 0.0012724545982364108, 0.0012711640633781991, 0.0012700037180357674, 0.0012689537391402466, 0.0012679883917467328]\n"
     ]
    },
    {
     "data": {
      "application/vnd.jupyter.widget-view+json": {
       "model_id": "9ae6cd5b558b4cf6bf6735c5c3d7c649",
       "version_major": 2,
       "version_minor": 0
      },
      "text/plain": [
       "0it [00:00, ?it/s]"
      ]
     },
     "metadata": {},
     "output_type": "display_data"
    },
    {
     "name": "stdout",
     "output_type": "stream",
     "text": [
      "Loss of train: 0.00116\n",
      "Loss of val: 0.00127\n",
      "Loss of test: 0.00120\n",
      "Loss of gw_test: 0.00100\n",
      "[0.0015465710629384921, 0.001508588632560693, 0.001482418185945337, 0.0014401963205388358, 0.001397775532439254, 0.0013730464126005505, 0.0013572681278715218, 0.0013471571368917693, 0.0013395249238358099, 0.0013333465118350236, 0.0013264011062934986, 0.0013190153088761375, 0.0013124679933559657, 0.0013067732134180567, 0.001302309512111243, 0.0012988687438264448, 0.0012959041981491623, 0.0012933761547328276, 0.001291120459272909, 0.0012890196288932534, 0.00128700151779797, 0.0012849984390696056, 0.001282976941596877, 0.0012809703039484846, 0.0012790671203215022, 0.001277261929453966, 0.0012755339527325158, 0.0012739230671041009, 0.0012724545982364108, 0.0012711640633781991, 0.0012700037180357674, 0.0012689537391402466, 0.0012679883917467328, 0.0012671037327704777]\n"
     ]
    },
    {
     "data": {
      "application/vnd.jupyter.widget-view+json": {
       "model_id": "b375fcc986014601ac2469ff85428002",
       "version_major": 2,
       "version_minor": 0
      },
      "text/plain": [
       "0it [00:00, ?it/s]"
      ]
     },
     "metadata": {},
     "output_type": "display_data"
    },
    {
     "name": "stdout",
     "output_type": "stream",
     "text": [
      "Loss of train: 0.00116\n",
      "Loss of val: 0.00127\n",
      "Loss of test: 0.00120\n",
      "Loss of gw_test: 0.00100\n",
      "[0.0015465710629384921, 0.001508588632560693, 0.001482418185945337, 0.0014401963205388358, 0.001397775532439254, 0.0013730464126005505, 0.0013572681278715218, 0.0013471571368917693, 0.0013395249238358099, 0.0013333465118350236, 0.0013264011062934986, 0.0013190153088761375, 0.0013124679933559657, 0.0013067732134180567, 0.001302309512111243, 0.0012988687438264448, 0.0012959041981491623, 0.0012933761547328276, 0.001291120459272909, 0.0012890196288932534, 0.00128700151779797, 0.0012849984390696056, 0.001282976941596877, 0.0012809703039484846, 0.0012790671203215022, 0.001277261929453966, 0.0012755339527325158, 0.0012739230671041009, 0.0012724545982364108, 0.0012711640633781991, 0.0012700037180357674, 0.0012689537391402466, 0.0012679883917467328, 0.0012671037327704777, 0.0012663040708382016]\n"
     ]
    },
    {
     "data": {
      "application/vnd.jupyter.widget-view+json": {
       "model_id": "7feb2e009be0433a87a99b51cc058f2d",
       "version_major": 2,
       "version_minor": 0
      },
      "text/plain": [
       "0it [00:00, ?it/s]"
      ]
     },
     "metadata": {},
     "output_type": "display_data"
    },
    {
     "name": "stdout",
     "output_type": "stream",
     "text": [
      "Loss of train: 0.00116\n",
      "Loss of val: 0.00127\n",
      "Loss of test: 0.00120\n",
      "Loss of gw_test: 0.00100\n",
      "[0.0015465710629384921, 0.001508588632560693, 0.001482418185945337, 0.0014401963205388358, 0.001397775532439254, 0.0013730464126005505, 0.0013572681278715218, 0.0013471571368917693, 0.0013395249238358099, 0.0013333465118350236, 0.0013264011062934986, 0.0013190153088761375, 0.0013124679933559657, 0.0013067732134180567, 0.001302309512111243, 0.0012988687438264448, 0.0012959041981491623, 0.0012933761547328276, 0.001291120459272909, 0.0012890196288932534, 0.00128700151779797, 0.0012849984390696056, 0.001282976941596877, 0.0012809703039484846, 0.0012790671203215022, 0.001277261929453966, 0.0012755339527325158, 0.0012739230671041009, 0.0012724545982364108, 0.0012711640633781991, 0.0012700037180357674, 0.0012689537391402466, 0.0012679883917467328, 0.0012671037327704777, 0.0012663040708382016, 0.0012655686414446868]\n"
     ]
    },
    {
     "data": {
      "application/vnd.jupyter.widget-view+json": {
       "model_id": "ff6500a6f50849c5a3ee3eb7db6be421",
       "version_major": 2,
       "version_minor": 0
      },
      "text/plain": [
       "0it [00:00, ?it/s]"
      ]
     },
     "metadata": {},
     "output_type": "display_data"
    },
    {
     "name": "stdout",
     "output_type": "stream",
     "text": [
      "Loss of train: 0.00116\n",
      "Loss of val: 0.00126\n",
      "Loss of test: 0.00120\n",
      "Loss of gw_test: 0.00100\n",
      "[0.0015465710629384921, 0.001508588632560693, 0.001482418185945337, 0.0014401963205388358, 0.001397775532439254, 0.0013730464126005505, 0.0013572681278715218, 0.0013471571368917693, 0.0013395249238358099, 0.0013333465118350236, 0.0013264011062934986, 0.0013190153088761375, 0.0013124679933559657, 0.0013067732134180567, 0.001302309512111243, 0.0012988687438264448, 0.0012959041981491623, 0.0012933761547328276, 0.001291120459272909, 0.0012890196288932534, 0.00128700151779797, 0.0012849984390696056, 0.001282976941596877, 0.0012809703039484846, 0.0012790671203215022, 0.001277261929453966, 0.0012755339527325158, 0.0012739230671041009, 0.0012724545982364108, 0.0012711640633781991, 0.0012700037180357674, 0.0012689537391402466, 0.0012679883917467328, 0.0012671037327704777, 0.0012663040708382016, 0.0012655686414446868, 0.0012648859990771635]\n"
     ]
    },
    {
     "data": {
      "application/vnd.jupyter.widget-view+json": {
       "model_id": "6cfe90317035467dbf921690810a3fc9",
       "version_major": 2,
       "version_minor": 0
      },
      "text/plain": [
       "0it [00:00, ?it/s]"
      ]
     },
     "metadata": {},
     "output_type": "display_data"
    },
    {
     "name": "stdout",
     "output_type": "stream",
     "text": [
      "Loss of train: 0.00116\n",
      "Loss of val: 0.00126\n",
      "Loss of test: 0.00120\n",
      "Loss of gw_test: 0.00100\n",
      "[0.0015465710629384921, 0.001508588632560693, 0.001482418185945337, 0.0014401963205388358, 0.001397775532439254, 0.0013730464126005505, 0.0013572681278715218, 0.0013471571368917693, 0.0013395249238358099, 0.0013333465118350236, 0.0013264011062934986, 0.0013190153088761375, 0.0013124679933559657, 0.0013067732134180567, 0.001302309512111243, 0.0012988687438264448, 0.0012959041981491623, 0.0012933761547328276, 0.001291120459272909, 0.0012890196288932534, 0.00128700151779797, 0.0012849984390696056, 0.001282976941596877, 0.0012809703039484846, 0.0012790671203215022, 0.001277261929453966, 0.0012755339527325158, 0.0012739230671041009, 0.0012724545982364108, 0.0012711640633781991, 0.0012700037180357674, 0.0012689537391402466, 0.0012679883917467328, 0.0012671037327704777, 0.0012663040708382016, 0.0012655686414446868, 0.0012648859990771635, 0.0012642441224695678]\n"
     ]
    },
    {
     "data": {
      "application/vnd.jupyter.widget-view+json": {
       "model_id": "8b07ee2696ea46afb36ea3b44049b08a",
       "version_major": 2,
       "version_minor": 0
      },
      "text/plain": [
       "0it [00:00, ?it/s]"
      ]
     },
     "metadata": {},
     "output_type": "display_data"
    },
    {
     "name": "stdout",
     "output_type": "stream",
     "text": [
      "Loss of train: 0.00116\n",
      "Loss of val: 0.00126\n",
      "Loss of test: 0.00120\n",
      "Loss of gw_test: 0.00100\n",
      "[0.0015465710629384921, 0.001508588632560693, 0.001482418185945337, 0.0014401963205388358, 0.001397775532439254, 0.0013730464126005505, 0.0013572681278715218, 0.0013471571368917693, 0.0013395249238358099, 0.0013333465118350236, 0.0013264011062934986, 0.0013190153088761375, 0.0013124679933559657, 0.0013067732134180567, 0.001302309512111243, 0.0012988687438264448, 0.0012959041981491623, 0.0012933761547328276, 0.001291120459272909, 0.0012890196288932534, 0.00128700151779797, 0.0012849984390696056, 0.001282976941596877, 0.0012809703039484846, 0.0012790671203215022, 0.001277261929453966, 0.0012755339527325158, 0.0012739230671041009, 0.0012724545982364108, 0.0012711640633781991, 0.0012700037180357674, 0.0012689537391402466, 0.0012679883917467328, 0.0012671037327704777, 0.0012663040708382016, 0.0012655686414446868, 0.0012648859990771635, 0.0012642441224695678, 0.0012636345817245904]\n"
     ]
    },
    {
     "data": {
      "application/vnd.jupyter.widget-view+json": {
       "model_id": "d8b0c8e81f724724b8f9eae5edca6724",
       "version_major": 2,
       "version_minor": 0
      },
      "text/plain": [
       "0it [00:00, ?it/s]"
      ]
     },
     "metadata": {},
     "output_type": "display_data"
    },
    {
     "name": "stdout",
     "output_type": "stream",
     "text": [
      "Loss of train: 0.00116\n",
      "Loss of val: 0.00126\n",
      "Loss of test: 0.00120\n",
      "Loss of gw_test: 0.00100\n",
      "[0.0015465710629384921, 0.001508588632560693, 0.001482418185945337, 0.0014401963205388358, 0.001397775532439254, 0.0013730464126005505, 0.0013572681278715218, 0.0013471571368917693, 0.0013395249238358099, 0.0013333465118350236, 0.0013264011062934986, 0.0013190153088761375, 0.0013124679933559657, 0.0013067732134180567, 0.001302309512111243, 0.0012988687438264448, 0.0012959041981491623, 0.0012933761547328276, 0.001291120459272909, 0.0012890196288932534, 0.00128700151779797, 0.0012849984390696056, 0.001282976941596877, 0.0012809703039484846, 0.0012790671203215022, 0.001277261929453966, 0.0012755339527325158, 0.0012739230671041009, 0.0012724545982364108, 0.0012711640633781991, 0.0012700037180357674, 0.0012689537391402466, 0.0012679883917467328, 0.0012671037327704777, 0.0012663040708382016, 0.0012655686414446868, 0.0012648859990771635, 0.0012642441224695678, 0.0012636345817245904, 0.0012630576527974992]\n"
     ]
    },
    {
     "data": {
      "application/vnd.jupyter.widget-view+json": {
       "model_id": "c5892716676146769d8dacd145bd5488",
       "version_major": 2,
       "version_minor": 0
      },
      "text/plain": [
       "0it [00:00, ?it/s]"
      ]
     },
     "metadata": {},
     "output_type": "display_data"
    },
    {
     "name": "stdout",
     "output_type": "stream",
     "text": [
      "Loss of train: 0.00116\n",
      "Loss of val: 0.00126\n",
      "Loss of test: 0.00120\n",
      "Loss of gw_test: 0.00100\n",
      "[0.0015465710629384921, 0.001508588632560693, 0.001482418185945337, 0.0014401963205388358, 0.001397775532439254, 0.0013730464126005505, 0.0013572681278715218, 0.0013471571368917693, 0.0013395249238358099, 0.0013333465118350236, 0.0013264011062934986, 0.0013190153088761375, 0.0013124679933559657, 0.0013067732134180567, 0.001302309512111243, 0.0012988687438264448, 0.0012959041981491623, 0.0012933761547328276, 0.001291120459272909, 0.0012890196288932534, 0.00128700151779797, 0.0012849984390696056, 0.001282976941596877, 0.0012809703039484846, 0.0012790671203215022, 0.001277261929453966, 0.0012755339527325158, 0.0012739230671041009, 0.0012724545982364108, 0.0012711640633781991, 0.0012700037180357674, 0.0012689537391402466, 0.0012679883917467328, 0.0012671037327704777, 0.0012663040708382016, 0.0012655686414446868, 0.0012648859990771635, 0.0012642441224695678, 0.0012636345817245904, 0.0012630576527974992, 0.001262506562510159]\n"
     ]
    },
    {
     "data": {
      "application/vnd.jupyter.widget-view+json": {
       "model_id": "44a2c94f881d4072ba94ea35bc3cf2b4",
       "version_major": 2,
       "version_minor": 0
      },
      "text/plain": [
       "0it [00:00, ?it/s]"
      ]
     },
     "metadata": {},
     "output_type": "display_data"
    },
    {
     "name": "stdout",
     "output_type": "stream",
     "text": [
      "Loss of train: 0.00116\n",
      "Loss of val: 0.00126\n",
      "Loss of test: 0.00120\n",
      "Loss of gw_test: 0.00100\n",
      "[0.0015465710629384921, 0.001508588632560693, 0.001482418185945337, 0.0014401963205388358, 0.001397775532439254, 0.0013730464126005505, 0.0013572681278715218, 0.0013471571368917693, 0.0013395249238358099, 0.0013333465118350236, 0.0013264011062934986, 0.0013190153088761375, 0.0013124679933559657, 0.0013067732134180567, 0.001302309512111243, 0.0012988687438264448, 0.0012959041981491623, 0.0012933761547328276, 0.001291120459272909, 0.0012890196288932534, 0.00128700151779797, 0.0012849984390696056, 0.001282976941596877, 0.0012809703039484846, 0.0012790671203215022, 0.001277261929453966, 0.0012755339527325158, 0.0012739230671041009, 0.0012724545982364108, 0.0012711640633781991, 0.0012700037180357674, 0.0012689537391402466, 0.0012679883917467328, 0.0012671037327704777, 0.0012663040708382016, 0.0012655686414446868, 0.0012648859990771635, 0.0012642441224695678, 0.0012636345817245904, 0.0012630576527974992, 0.001262506562510159, 0.0012619964212475174]\n"
     ]
    },
    {
     "data": {
      "application/vnd.jupyter.widget-view+json": {
       "model_id": "a2aa80cab25947ed8519ae08baabb93c",
       "version_major": 2,
       "version_minor": 0
      },
      "text/plain": [
       "0it [00:00, ?it/s]"
      ]
     },
     "metadata": {},
     "output_type": "display_data"
    },
    {
     "name": "stdout",
     "output_type": "stream",
     "text": [
      "Loss of train: 0.00116\n",
      "Loss of val: 0.00126\n",
      "Loss of test: 0.00120\n",
      "Loss of gw_test: 0.00100\n",
      "[0.0015465710629384921, 0.001508588632560693, 0.001482418185945337, 0.0014401963205388358, 0.001397775532439254, 0.0013730464126005505, 0.0013572681278715218, 0.0013471571368917693, 0.0013395249238358099, 0.0013333465118350236, 0.0013264011062934986, 0.0013190153088761375, 0.0013124679933559657, 0.0013067732134180567, 0.001302309512111243, 0.0012988687438264448, 0.0012959041981491623, 0.0012933761547328276, 0.001291120459272909, 0.0012890196288932534, 0.00128700151779797, 0.0012849984390696056, 0.001282976941596877, 0.0012809703039484846, 0.0012790671203215022, 0.001277261929453966, 0.0012755339527325158, 0.0012739230671041009, 0.0012724545982364108, 0.0012711640633781991, 0.0012700037180357674, 0.0012689537391402466, 0.0012679883917467328, 0.0012671037327704777, 0.0012663040708382016, 0.0012655686414446868, 0.0012648859990771635, 0.0012642441224695678, 0.0012636345817245904, 0.0012630576527974992, 0.001262506562510159, 0.0012619964212475174, 0.0012615207073796203]\n"
     ]
    },
    {
     "data": {
      "application/vnd.jupyter.widget-view+json": {
       "model_id": "70f500e4ec1e4f6eaafee981b6a9696e",
       "version_major": 2,
       "version_minor": 0
      },
      "text/plain": [
       "0it [00:00, ?it/s]"
      ]
     },
     "metadata": {},
     "output_type": "display_data"
    },
    {
     "name": "stdout",
     "output_type": "stream",
     "text": [
      "Loss of train: 0.00116\n",
      "Loss of val: 0.00126\n",
      "Loss of test: 0.00120\n",
      "Loss of gw_test: 0.00100\n",
      "[0.0015465710629384921, 0.001508588632560693, 0.001482418185945337, 0.0014401963205388358, 0.001397775532439254, 0.0013730464126005505, 0.0013572681278715218, 0.0013471571368917693, 0.0013395249238358099, 0.0013333465118350236, 0.0013264011062934986, 0.0013190153088761375, 0.0013124679933559657, 0.0013067732134180567, 0.001302309512111243, 0.0012988687438264448, 0.0012959041981491623, 0.0012933761547328276, 0.001291120459272909, 0.0012890196288932534, 0.00128700151779797, 0.0012849984390696056, 0.001282976941596877, 0.0012809703039484846, 0.0012790671203215022, 0.001277261929453966, 0.0012755339527325158, 0.0012739230671041009, 0.0012724545982364108, 0.0012711640633781991, 0.0012700037180357674, 0.0012689537391402466, 0.0012679883917467328, 0.0012671037327704777, 0.0012663040708382016, 0.0012655686414446868, 0.0012648859990771635, 0.0012642441224695678, 0.0012636345817245904, 0.0012630576527974992, 0.001262506562510159, 0.0012619964212475174, 0.0012615207073796203, 0.0012610968080634525]\n"
     ]
    },
    {
     "data": {
      "application/vnd.jupyter.widget-view+json": {
       "model_id": "046ed8f705af4c8eb477cfc2ac92f1dd",
       "version_major": 2,
       "version_minor": 0
      },
      "text/plain": [
       "0it [00:00, ?it/s]"
      ]
     },
     "metadata": {},
     "output_type": "display_data"
    },
    {
     "name": "stdout",
     "output_type": "stream",
     "text": [
      "Loss of train: 0.00116\n",
      "Loss of val: 0.00126\n",
      "Loss of test: 0.00120\n",
      "Loss of gw_test: 0.00100\n",
      "[0.0015465710629384921, 0.001508588632560693, 0.001482418185945337, 0.0014401963205388358, 0.001397775532439254, 0.0013730464126005505, 0.0013572681278715218, 0.0013471571368917693, 0.0013395249238358099, 0.0013333465118350236, 0.0013264011062934986, 0.0013190153088761375, 0.0013124679933559657, 0.0013067732134180567, 0.001302309512111243, 0.0012988687438264448, 0.0012959041981491623, 0.0012933761547328276, 0.001291120459272909, 0.0012890196288932534, 0.00128700151779797, 0.0012849984390696056, 0.001282976941596877, 0.0012809703039484846, 0.0012790671203215022, 0.001277261929453966, 0.0012755339527325158, 0.0012739230671041009, 0.0012724545982364108, 0.0012711640633781991, 0.0012700037180357674, 0.0012689537391402466, 0.0012679883917467328, 0.0012671037327704777, 0.0012663040708382016, 0.0012655686414446868, 0.0012648859990771635, 0.0012642441224695678, 0.0012636345817245904, 0.0012630576527974992, 0.001262506562510159, 0.0012619964212475174, 0.0012615207073796203, 0.0012610968080634525, 0.001260835469960365]\n"
     ]
    },
    {
     "data": {
      "application/vnd.jupyter.widget-view+json": {
       "model_id": "6fecb3bc2f6d4a13a7c90f0fbbb440f3",
       "version_major": 2,
       "version_minor": 0
      },
      "text/plain": [
       "0it [00:00, ?it/s]"
      ]
     },
     "metadata": {},
     "output_type": "display_data"
    },
    {
     "name": "stdout",
     "output_type": "stream",
     "text": [
      "Loss of train: 0.00116\n",
      "Loss of val: 0.00126\n",
      "Loss of test: 0.00120\n",
      "Loss of gw_test: 0.00100\n",
      "[0.0015465710629384921, 0.001508588632560693, 0.001482418185945337, 0.0014401963205388358, 0.001397775532439254, 0.0013730464126005505, 0.0013572681278715218, 0.0013471571368917693, 0.0013395249238358099, 0.0013333465118350236, 0.0013264011062934986, 0.0013190153088761375, 0.0013124679933559657, 0.0013067732134180567, 0.001302309512111243, 0.0012988687438264448, 0.0012959041981491623, 0.0012933761547328276, 0.001291120459272909, 0.0012890196288932534, 0.00128700151779797, 0.0012849984390696056, 0.001282976941596877, 0.0012809703039484846, 0.0012790671203215022, 0.001277261929453966, 0.0012755339527325158, 0.0012739230671041009, 0.0012724545982364108, 0.0012711640633781991, 0.0012700037180357674, 0.0012689537391402466, 0.0012679883917467328, 0.0012671037327704777, 0.0012663040708382016, 0.0012655686414446868, 0.0012648859990771635, 0.0012642441224695678, 0.0012636345817245904, 0.0012630576527974992, 0.001262506562510159, 0.0012619964212475174, 0.0012615207073796203, 0.0012610968080634525, 0.001260835469960365, 0.0012605307068535698]\n"
     ]
    },
    {
     "data": {
      "application/vnd.jupyter.widget-view+json": {
       "model_id": "0bc858dc90b94233abe1d8df9347c41c",
       "version_major": 2,
       "version_minor": 0
      },
      "text/plain": [
       "0it [00:00, ?it/s]"
      ]
     },
     "metadata": {},
     "output_type": "display_data"
    },
    {
     "name": "stdout",
     "output_type": "stream",
     "text": [
      "Loss of train: 0.00116\n",
      "Loss of val: 0.00126\n",
      "Loss of test: 0.00120\n",
      "Loss of gw_test: 0.00100\n",
      "[0.0015465710629384921, 0.001508588632560693, 0.001482418185945337, 0.0014401963205388358, 0.001397775532439254, 0.0013730464126005505, 0.0013572681278715218, 0.0013471571368917693, 0.0013395249238358099, 0.0013333465118350236, 0.0013264011062934986, 0.0013190153088761375, 0.0013124679933559657, 0.0013067732134180567, 0.001302309512111243, 0.0012988687438264448, 0.0012959041981491623, 0.0012933761547328276, 0.001291120459272909, 0.0012890196288932534, 0.00128700151779797, 0.0012849984390696056, 0.001282976941596877, 0.0012809703039484846, 0.0012790671203215022, 0.001277261929453966, 0.0012755339527325158, 0.0012739230671041009, 0.0012724545982364108, 0.0012711640633781991, 0.0012700037180357674, 0.0012689537391402466, 0.0012679883917467328, 0.0012671037327704777, 0.0012663040708382016, 0.0012655686414446868, 0.0012648859990771635, 0.0012642441224695678, 0.0012636345817245904, 0.0012630576527974992, 0.001262506562510159, 0.0012619964212475174, 0.0012615207073796203, 0.0012610968080634525, 0.001260835469960365, 0.0012605307068535698, 0.0012601333220982605]\n"
     ]
    },
    {
     "data": {
      "application/vnd.jupyter.widget-view+json": {
       "model_id": "ac2da455f715456abe34bd91629cf233",
       "version_major": 2,
       "version_minor": 0
      },
      "text/plain": [
       "0it [00:00, ?it/s]"
      ]
     },
     "metadata": {},
     "output_type": "display_data"
    },
    {
     "name": "stdout",
     "output_type": "stream",
     "text": [
      "Loss of train: 0.00116\n",
      "Loss of val: 0.00126\n",
      "Loss of test: 0.00120\n",
      "Loss of gw_test: 0.00100\n",
      "[0.0015465710629384921, 0.001508588632560693, 0.001482418185945337, 0.0014401963205388358, 0.001397775532439254, 0.0013730464126005505, 0.0013572681278715218, 0.0013471571368917693, 0.0013395249238358099, 0.0013333465118350236, 0.0013264011062934986, 0.0013190153088761375, 0.0013124679933559657, 0.0013067732134180567, 0.001302309512111243, 0.0012988687438264448, 0.0012959041981491623, 0.0012933761547328276, 0.001291120459272909, 0.0012890196288932534, 0.00128700151779797, 0.0012849984390696056, 0.001282976941596877, 0.0012809703039484846, 0.0012790671203215022, 0.001277261929453966, 0.0012755339527325158, 0.0012739230671041009, 0.0012724545982364108, 0.0012711640633781991, 0.0012700037180357674, 0.0012689537391402466, 0.0012679883917467328, 0.0012671037327704777, 0.0012663040708382016, 0.0012655686414446868, 0.0012648859990771635, 0.0012642441224695678, 0.0012636345817245904, 0.0012630576527974992, 0.001262506562510159, 0.0012619964212475174, 0.0012615207073796203, 0.0012610968080634525, 0.001260835469960365, 0.0012605307068535698, 0.0012601333220982605, 0.001259760403260437]\n"
     ]
    },
    {
     "data": {
      "application/vnd.jupyter.widget-view+json": {
       "model_id": "19593d8360254aec8116d22cd6ef205f",
       "version_major": 2,
       "version_minor": 0
      },
      "text/plain": [
       "0it [00:00, ?it/s]"
      ]
     },
     "metadata": {},
     "output_type": "display_data"
    },
    {
     "name": "stdout",
     "output_type": "stream",
     "text": [
      "Loss of train: 0.00116\n",
      "Loss of val: 0.00126\n",
      "Loss of test: 0.00120\n",
      "Loss of gw_test: 0.00100\n",
      "[0.0015465710629384921, 0.001508588632560693, 0.001482418185945337, 0.0014401963205388358, 0.001397775532439254, 0.0013730464126005505, 0.0013572681278715218, 0.0013471571368917693, 0.0013395249238358099, 0.0013333465118350236, 0.0013264011062934986, 0.0013190153088761375, 0.0013124679933559657, 0.0013067732134180567, 0.001302309512111243, 0.0012988687438264448, 0.0012959041981491623, 0.0012933761547328276, 0.001291120459272909, 0.0012890196288932534, 0.00128700151779797, 0.0012849984390696056, 0.001282976941596877, 0.0012809703039484846, 0.0012790671203215022, 0.001277261929453966, 0.0012755339527325158, 0.0012739230671041009, 0.0012724545982364108, 0.0012711640633781991, 0.0012700037180357674, 0.0012689537391402466, 0.0012679883917467328, 0.0012671037327704777, 0.0012663040708382016, 0.0012655686414446868, 0.0012648859990771635, 0.0012642441224695678, 0.0012636345817245904, 0.0012630576527974992, 0.001262506562510159, 0.0012619964212475174, 0.0012615207073796203, 0.0012610968080634525, 0.001260835469960365, 0.0012605307068535698, 0.0012601333220982605, 0.001259760403260437, 0.0012594238055533265]\n"
     ]
    },
    {
     "data": {
      "application/vnd.jupyter.widget-view+json": {
       "model_id": "5017b647c58a49ffac9e997c1923ff3d",
       "version_major": 2,
       "version_minor": 0
      },
      "text/plain": [
       "0it [00:00, ?it/s]"
      ]
     },
     "metadata": {},
     "output_type": "display_data"
    },
    {
     "name": "stdout",
     "output_type": "stream",
     "text": [
      "Loss of train: 0.00116\n",
      "Loss of val: 0.00126\n",
      "Loss of test: 0.00120\n",
      "Loss of gw_test: 0.00100\n",
      "[0.0015465710629384921, 0.001508588632560693, 0.001482418185945337, 0.0014401963205388358, 0.001397775532439254, 0.0013730464126005505, 0.0013572681278715218, 0.0013471571368917693, 0.0013395249238358099, 0.0013333465118350236, 0.0013264011062934986, 0.0013190153088761375, 0.0013124679933559657, 0.0013067732134180567, 0.001302309512111243, 0.0012988687438264448, 0.0012959041981491623, 0.0012933761547328276, 0.001291120459272909, 0.0012890196288932534, 0.00128700151779797, 0.0012849984390696056, 0.001282976941596877, 0.0012809703039484846, 0.0012790671203215022, 0.001277261929453966, 0.0012755339527325158, 0.0012739230671041009, 0.0012724545982364108, 0.0012711640633781991, 0.0012700037180357674, 0.0012689537391402466, 0.0012679883917467328, 0.0012671037327704777, 0.0012663040708382016, 0.0012655686414446868, 0.0012648859990771635, 0.0012642441224695678, 0.0012636345817245904, 0.0012630576527974992, 0.001262506562510159, 0.0012619964212475174, 0.0012615207073796203, 0.0012610968080634525, 0.001260835469960365, 0.0012605307068535698, 0.0012601333220982605, 0.001259760403260437, 0.0012594238055533265, 0.0012591172445048505]\n"
     ]
    },
    {
     "data": {
      "application/vnd.jupyter.widget-view+json": {
       "model_id": "2b6e6f1d857a46919c377e1690ddc199",
       "version_major": 2,
       "version_minor": 0
      },
      "text/plain": [
       "0it [00:00, ?it/s]"
      ]
     },
     "metadata": {},
     "output_type": "display_data"
    },
    {
     "name": "stdout",
     "output_type": "stream",
     "text": [
      "Loss of train: 0.00115\n",
      "Loss of val: 0.00126\n",
      "Loss of test: 0.00120\n",
      "Loss of gw_test: 0.00100\n",
      "[0.0015465710629384921, 0.001508588632560693, 0.001482418185945337, 0.0014401963205388358, 0.001397775532439254, 0.0013730464126005505, 0.0013572681278715218, 0.0013471571368917693, 0.0013395249238358099, 0.0013333465118350236, 0.0013264011062934986, 0.0013190153088761375, 0.0013124679933559657, 0.0013067732134180567, 0.001302309512111243, 0.0012988687438264448, 0.0012959041981491623, 0.0012933761547328276, 0.001291120459272909, 0.0012890196288932534, 0.00128700151779797, 0.0012849984390696056, 0.001282976941596877, 0.0012809703039484846, 0.0012790671203215022, 0.001277261929453966, 0.0012755339527325158, 0.0012739230671041009, 0.0012724545982364108, 0.0012711640633781991, 0.0012700037180357674, 0.0012689537391402466, 0.0012679883917467328, 0.0012671037327704777, 0.0012663040708382016, 0.0012655686414446868, 0.0012648859990771635, 0.0012642441224695678, 0.0012636345817245904, 0.0012630576527974992, 0.001262506562510159, 0.0012619964212475174, 0.0012615207073796203, 0.0012610968080634525, 0.001260835469960365, 0.0012605307068535698, 0.0012601333220982605, 0.001259760403260437, 0.0012594238055533265, 0.0012591172445048505, 0.0012588368306412025]\n"
     ]
    },
    {
     "data": {
      "application/vnd.jupyter.widget-view+json": {
       "model_id": "5180f93a5edb4e38809d2440b524646e",
       "version_major": 2,
       "version_minor": 0
      },
      "text/plain": [
       "0it [00:00, ?it/s]"
      ]
     },
     "metadata": {},
     "output_type": "display_data"
    },
    {
     "name": "stdout",
     "output_type": "stream",
     "text": [
      "Loss of train: 0.00115\n",
      "Loss of val: 0.00126\n",
      "Loss of test: 0.00120\n",
      "Loss of gw_test: 0.00100\n",
      "[0.0015465710629384921, 0.001508588632560693, 0.001482418185945337, 0.0014401963205388358, 0.001397775532439254, 0.0013730464126005505, 0.0013572681278715218, 0.0013471571368917693, 0.0013395249238358099, 0.0013333465118350236, 0.0013264011062934986, 0.0013190153088761375, 0.0013124679933559657, 0.0013067732134180567, 0.001302309512111243, 0.0012988687438264448, 0.0012959041981491623, 0.0012933761547328276, 0.001291120459272909, 0.0012890196288932534, 0.00128700151779797, 0.0012849984390696056, 0.001282976941596877, 0.0012809703039484846, 0.0012790671203215022, 0.001277261929453966, 0.0012755339527325158, 0.0012739230671041009, 0.0012724545982364108, 0.0012711640633781991, 0.0012700037180357674, 0.0012689537391402466, 0.0012679883917467328, 0.0012671037327704777, 0.0012663040708382016, 0.0012655686414446868, 0.0012648859990771635, 0.0012642441224695678, 0.0012636345817245904, 0.0012630576527974992, 0.001262506562510159, 0.0012619964212475174, 0.0012615207073796203, 0.0012610968080634525, 0.001260835469960365, 0.0012605307068535698, 0.0012601333220982605, 0.001259760403260437, 0.0012594238055533265, 0.0012591172445048505, 0.0012588368306412025, 0.0012585800812114642]\n"
     ]
    },
    {
     "data": {
      "application/vnd.jupyter.widget-view+json": {
       "model_id": "7a8114f1b09c42b1aeede802ef61bf6e",
       "version_major": 2,
       "version_minor": 0
      },
      "text/plain": [
       "0it [00:00, ?it/s]"
      ]
     },
     "metadata": {},
     "output_type": "display_data"
    },
    {
     "name": "stdout",
     "output_type": "stream",
     "text": [
      "Loss of train: 0.00115\n",
      "Loss of val: 0.00126\n",
      "Loss of test: 0.00120\n",
      "Loss of gw_test: 0.00100\n",
      "[0.0015465710629384921, 0.001508588632560693, 0.001482418185945337, 0.0014401963205388358, 0.001397775532439254, 0.0013730464126005505, 0.0013572681278715218, 0.0013471571368917693, 0.0013395249238358099, 0.0013333465118350236, 0.0013264011062934986, 0.0013190153088761375, 0.0013124679933559657, 0.0013067732134180567, 0.001302309512111243, 0.0012988687438264448, 0.0012959041981491623, 0.0012933761547328276, 0.001291120459272909, 0.0012890196288932534, 0.00128700151779797, 0.0012849984390696056, 0.001282976941596877, 0.0012809703039484846, 0.0012790671203215022, 0.001277261929453966, 0.0012755339527325158, 0.0012739230671041009, 0.0012724545982364108, 0.0012711640633781991, 0.0012700037180357674, 0.0012689537391402466, 0.0012679883917467328, 0.0012671037327704777, 0.0012663040708382016, 0.0012655686414446868, 0.0012648859990771635, 0.0012642441224695678, 0.0012636345817245904, 0.0012630576527974992, 0.001262506562510159, 0.0012619964212475174, 0.0012615207073796203, 0.0012610968080634525, 0.001260835469960365, 0.0012605307068535698, 0.0012601333220982605, 0.001259760403260437, 0.0012594238055533265, 0.0012591172445048505, 0.0012588368306412025, 0.0012585800812114642, 0.0012583453402018692]\n"
     ]
    },
    {
     "data": {
      "application/vnd.jupyter.widget-view+json": {
       "model_id": "ad506dbc49244695bd87d64f504c4ef0",
       "version_major": 2,
       "version_minor": 0
      },
      "text/plain": [
       "0it [00:00, ?it/s]"
      ]
     },
     "metadata": {},
     "output_type": "display_data"
    },
    {
     "name": "stdout",
     "output_type": "stream",
     "text": [
      "Loss of train: 0.00115\n",
      "Loss of val: 0.00126\n",
      "Loss of test: 0.00120\n",
      "Loss of gw_test: 0.00100\n",
      "[0.0015465710629384921, 0.001508588632560693, 0.001482418185945337, 0.0014401963205388358, 0.001397775532439254, 0.0013730464126005505, 0.0013572681278715218, 0.0013471571368917693, 0.0013395249238358099, 0.0013333465118350236, 0.0013264011062934986, 0.0013190153088761375, 0.0013124679933559657, 0.0013067732134180567, 0.001302309512111243, 0.0012988687438264448, 0.0012959041981491623, 0.0012933761547328276, 0.001291120459272909, 0.0012890196288932534, 0.00128700151779797, 0.0012849984390696056, 0.001282976941596877, 0.0012809703039484846, 0.0012790671203215022, 0.001277261929453966, 0.0012755339527325158, 0.0012739230671041009, 0.0012724545982364108, 0.0012711640633781991, 0.0012700037180357674, 0.0012689537391402466, 0.0012679883917467328, 0.0012671037327704777, 0.0012663040708382016, 0.0012655686414446868, 0.0012648859990771635, 0.0012642441224695678, 0.0012636345817245904, 0.0012630576527974992, 0.001262506562510159, 0.0012619964212475174, 0.0012615207073796203, 0.0012610968080634525, 0.001260835469960365, 0.0012605307068535698, 0.0012601333220982605, 0.001259760403260437, 0.0012594238055533265, 0.0012591172445048505, 0.0012588368306412025, 0.0012585800812114642, 0.0012583453402018692, 0.0012581370815865677]\n"
     ]
    },
    {
     "data": {
      "application/vnd.jupyter.widget-view+json": {
       "model_id": "93cdb7a1483c4c16a3cf86650fc1c98c",
       "version_major": 2,
       "version_minor": 0
      },
      "text/plain": [
       "0it [00:00, ?it/s]"
      ]
     },
     "metadata": {},
     "output_type": "display_data"
    },
    {
     "name": "stdout",
     "output_type": "stream",
     "text": [
      "Loss of train: 0.00115\n",
      "Loss of val: 0.00126\n",
      "Loss of test: 0.00120\n",
      "Loss of gw_test: 0.00100\n",
      "[0.0015465710629384921, 0.001508588632560693, 0.001482418185945337, 0.0014401963205388358, 0.001397775532439254, 0.0013730464126005505, 0.0013572681278715218, 0.0013471571368917693, 0.0013395249238358099, 0.0013333465118350236, 0.0013264011062934986, 0.0013190153088761375, 0.0013124679933559657, 0.0013067732134180567, 0.001302309512111243, 0.0012988687438264448, 0.0012959041981491623, 0.0012933761547328276, 0.001291120459272909, 0.0012890196288932534, 0.00128700151779797, 0.0012849984390696056, 0.001282976941596877, 0.0012809703039484846, 0.0012790671203215022, 0.001277261929453966, 0.0012755339527325158, 0.0012739230671041009, 0.0012724545982364108, 0.0012711640633781991, 0.0012700037180357674, 0.0012689537391402466, 0.0012679883917467328, 0.0012671037327704777, 0.0012663040708382016, 0.0012655686414446868, 0.0012648859990771635, 0.0012642441224695678, 0.0012636345817245904, 0.0012630576527974992, 0.001262506562510159, 0.0012619964212475174, 0.0012615207073796203, 0.0012610968080634525, 0.001260835469960365, 0.0012605307068535698, 0.0012601333220982605, 0.001259760403260437, 0.0012594238055533265, 0.0012591172445048505, 0.0012588368306412025, 0.0012585800812114642, 0.0012583453402018692, 0.0012581370815865677, 0.0012579495472682786]\n"
     ]
    },
    {
     "data": {
      "application/vnd.jupyter.widget-view+json": {
       "model_id": "1145dd4a7cb843309bd3058063e05f88",
       "version_major": 2,
       "version_minor": 0
      },
      "text/plain": [
       "0it [00:00, ?it/s]"
      ]
     },
     "metadata": {},
     "output_type": "display_data"
    },
    {
     "name": "stdout",
     "output_type": "stream",
     "text": [
      "Loss of train: 0.00115\n",
      "Loss of val: 0.00126\n",
      "Loss of test: 0.00120\n",
      "Loss of gw_test: 0.00100\n",
      "[0.0015465710629384921, 0.001508588632560693, 0.001482418185945337, 0.0014401963205388358, 0.001397775532439254, 0.0013730464126005505, 0.0013572681278715218, 0.0013471571368917693, 0.0013395249238358099, 0.0013333465118350236, 0.0013264011062934986, 0.0013190153088761375, 0.0013124679933559657, 0.0013067732134180567, 0.001302309512111243, 0.0012988687438264448, 0.0012959041981491623, 0.0012933761547328276, 0.001291120459272909, 0.0012890196288932534, 0.00128700151779797, 0.0012849984390696056, 0.001282976941596877, 0.0012809703039484846, 0.0012790671203215022, 0.001277261929453966, 0.0012755339527325158, 0.0012739230671041009, 0.0012724545982364108, 0.0012711640633781991, 0.0012700037180357674, 0.0012689537391402466, 0.0012679883917467328, 0.0012671037327704777, 0.0012663040708382016, 0.0012655686414446868, 0.0012648859990771635, 0.0012642441224695678, 0.0012636345817245904, 0.0012630576527974992, 0.001262506562510159, 0.0012619964212475174, 0.0012615207073796203, 0.0012610968080634525, 0.001260835469960365, 0.0012605307068535698, 0.0012601333220982605, 0.001259760403260437, 0.0012594238055533265, 0.0012591172445048505, 0.0012588368306412025, 0.0012585800812114642, 0.0012583453402018692, 0.0012581370815865677, 0.0012579495472682786, 0.0012577719281525411]\n"
     ]
    },
    {
     "data": {
      "application/vnd.jupyter.widget-view+json": {
       "model_id": "2fab073968cd47cba78379317cab416d",
       "version_major": 2,
       "version_minor": 0
      },
      "text/plain": [
       "0it [00:00, ?it/s]"
      ]
     },
     "metadata": {},
     "output_type": "display_data"
    },
    {
     "name": "stdout",
     "output_type": "stream",
     "text": [
      "Loss of train: 0.00115\n",
      "Loss of val: 0.00126\n",
      "Loss of test: 0.00120\n",
      "Loss of gw_test: 0.00100\n",
      "[0.0015465710629384921, 0.001508588632560693, 0.001482418185945337, 0.0014401963205388358, 0.001397775532439254, 0.0013730464126005505, 0.0013572681278715218, 0.0013471571368917693, 0.0013395249238358099, 0.0013333465118350236, 0.0013264011062934986, 0.0013190153088761375, 0.0013124679933559657, 0.0013067732134180567, 0.001302309512111243, 0.0012988687438264448, 0.0012959041981491623, 0.0012933761547328276, 0.001291120459272909, 0.0012890196288932534, 0.00128700151779797, 0.0012849984390696056, 0.001282976941596877, 0.0012809703039484846, 0.0012790671203215022, 0.001277261929453966, 0.0012755339527325158, 0.0012739230671041009, 0.0012724545982364108, 0.0012711640633781991, 0.0012700037180357674, 0.0012689537391402466, 0.0012679883917467328, 0.0012671037327704777, 0.0012663040708382016, 0.0012655686414446868, 0.0012648859990771635, 0.0012642441224695678, 0.0012636345817245904, 0.0012630576527974992, 0.001262506562510159, 0.0012619964212475174, 0.0012615207073796203, 0.0012610968080634525, 0.001260835469960365, 0.0012605307068535698, 0.0012601333220982605, 0.001259760403260437, 0.0012594238055533265, 0.0012591172445048505, 0.0012588368306412025, 0.0012585800812114642, 0.0012583453402018692, 0.0012581370815865677, 0.0012579495472682786, 0.0012577719281525411, 0.0012576087800407324]\n"
     ]
    },
    {
     "data": {
      "application/vnd.jupyter.widget-view+json": {
       "model_id": "4f3239bb91ef410385ed6335e6c408e1",
       "version_major": 2,
       "version_minor": 0
      },
      "text/plain": [
       "0it [00:00, ?it/s]"
      ]
     },
     "metadata": {},
     "output_type": "display_data"
    },
    {
     "name": "stdout",
     "output_type": "stream",
     "text": [
      "Loss of train: 0.00115\n",
      "Loss of val: 0.00126\n",
      "Loss of test: 0.00120\n",
      "Loss of gw_test: 0.00100\n",
      "[0.0015465710629384921, 0.001508588632560693, 0.001482418185945337, 0.0014401963205388358, 0.001397775532439254, 0.0013730464126005505, 0.0013572681278715218, 0.0013471571368917693, 0.0013395249238358099, 0.0013333465118350236, 0.0013264011062934986, 0.0013190153088761375, 0.0013124679933559657, 0.0013067732134180567, 0.001302309512111243, 0.0012988687438264448, 0.0012959041981491623, 0.0012933761547328276, 0.001291120459272909, 0.0012890196288932534, 0.00128700151779797, 0.0012849984390696056, 0.001282976941596877, 0.0012809703039484846, 0.0012790671203215022, 0.001277261929453966, 0.0012755339527325158, 0.0012739230671041009, 0.0012724545982364108, 0.0012711640633781991, 0.0012700037180357674, 0.0012689537391402466, 0.0012679883917467328, 0.0012671037327704777, 0.0012663040708382016, 0.0012655686414446868, 0.0012648859990771635, 0.0012642441224695678, 0.0012636345817245904, 0.0012630576527974992, 0.001262506562510159, 0.0012619964212475174, 0.0012615207073796203, 0.0012610968080634525, 0.001260835469960365, 0.0012605307068535698, 0.0012601333220982605, 0.001259760403260437, 0.0012594238055533265, 0.0012591172445048505, 0.0012588368306412025, 0.0012585800812114642, 0.0012583453402018692, 0.0012581370815865677, 0.0012579495472682786, 0.0012577719281525411, 0.0012576087800407324, 0.0012574566729612472]\n"
     ]
    },
    {
     "data": {
      "application/vnd.jupyter.widget-view+json": {
       "model_id": "daf9671bc6424a67a837266b157b5e4d",
       "version_major": 2,
       "version_minor": 0
      },
      "text/plain": [
       "0it [00:00, ?it/s]"
      ]
     },
     "metadata": {},
     "output_type": "display_data"
    },
    {
     "name": "stdout",
     "output_type": "stream",
     "text": [
      "Loss of train: 0.00115\n",
      "Loss of val: 0.00126\n",
      "Loss of test: 0.00120\n",
      "Loss of gw_test: 0.00100\n",
      "[0.0015465710629384921, 0.001508588632560693, 0.001482418185945337, 0.0014401963205388358, 0.001397775532439254, 0.0013730464126005505, 0.0013572681278715218, 0.0013471571368917693, 0.0013395249238358099, 0.0013333465118350236, 0.0013264011062934986, 0.0013190153088761375, 0.0013124679933559657, 0.0013067732134180567, 0.001302309512111243, 0.0012988687438264448, 0.0012959041981491623, 0.0012933761547328276, 0.001291120459272909, 0.0012890196288932534, 0.00128700151779797, 0.0012849984390696056, 0.001282976941596877, 0.0012809703039484846, 0.0012790671203215022, 0.001277261929453966, 0.0012755339527325158, 0.0012739230671041009, 0.0012724545982364108, 0.0012711640633781991, 0.0012700037180357674, 0.0012689537391402466, 0.0012679883917467328, 0.0012671037327704777, 0.0012663040708382016, 0.0012655686414446868, 0.0012648859990771635, 0.0012642441224695678, 0.0012636345817245904, 0.0012630576527974992, 0.001262506562510159, 0.0012619964212475174, 0.0012615207073796203, 0.0012610968080634525, 0.001260835469960365, 0.0012605307068535698, 0.0012601333220982605, 0.001259760403260437, 0.0012594238055533265, 0.0012591172445048505, 0.0012588368306412025, 0.0012585800812114642, 0.0012583453402018692, 0.0012581370815865677, 0.0012579495472682786, 0.0012577719281525411, 0.0012576087800407324, 0.0012574566729612472, 0.0012573140321632192]\n"
     ]
    },
    {
     "data": {
      "application/vnd.jupyter.widget-view+json": {
       "model_id": "b156148f4c26428a824f3886c60f0a2c",
       "version_major": 2,
       "version_minor": 0
      },
      "text/plain": [
       "0it [00:00, ?it/s]"
      ]
     },
     "metadata": {},
     "output_type": "display_data"
    },
    {
     "name": "stdout",
     "output_type": "stream",
     "text": [
      "Loss of train: 0.00115\n",
      "Loss of val: 0.00126\n",
      "Loss of test: 0.00120\n",
      "Loss of gw_test: 0.00100\n",
      "[0.0015465710629384921, 0.001508588632560693, 0.001482418185945337, 0.0014401963205388358, 0.001397775532439254, 0.0013730464126005505, 0.0013572681278715218, 0.0013471571368917693, 0.0013395249238358099, 0.0013333465118350236, 0.0013264011062934986, 0.0013190153088761375, 0.0013124679933559657, 0.0013067732134180567, 0.001302309512111243, 0.0012988687438264448, 0.0012959041981491623, 0.0012933761547328276, 0.001291120459272909, 0.0012890196288932534, 0.00128700151779797, 0.0012849984390696056, 0.001282976941596877, 0.0012809703039484846, 0.0012790671203215022, 0.001277261929453966, 0.0012755339527325158, 0.0012739230671041009, 0.0012724545982364108, 0.0012711640633781991, 0.0012700037180357674, 0.0012689537391402466, 0.0012679883917467328, 0.0012671037327704777, 0.0012663040708382016, 0.0012655686414446868, 0.0012648859990771635, 0.0012642441224695678, 0.0012636345817245904, 0.0012630576527974992, 0.001262506562510159, 0.0012619964212475174, 0.0012615207073796203, 0.0012610968080634525, 0.001260835469960365, 0.0012605307068535698, 0.0012601333220982605, 0.001259760403260437, 0.0012594238055533265, 0.0012591172445048505, 0.0012588368306412025, 0.0012585800812114642, 0.0012583453402018692, 0.0012581370815865677, 0.0012579495472682786, 0.0012577719281525411, 0.0012576087800407324, 0.0012574566729612472, 0.0012573140321632192, 0.0012571834091042202]\n"
     ]
    },
    {
     "data": {
      "application/vnd.jupyter.widget-view+json": {
       "model_id": "3a37f8b9dee442cb825aa6a0d40f8c8f",
       "version_major": 2,
       "version_minor": 0
      },
      "text/plain": [
       "0it [00:00, ?it/s]"
      ]
     },
     "metadata": {},
     "output_type": "display_data"
    },
    {
     "name": "stdout",
     "output_type": "stream",
     "text": [
      "Loss of train: 0.00115\n",
      "Loss of val: 0.00126\n",
      "Loss of test: 0.00120\n",
      "Loss of gw_test: 0.00100\n",
      "[0.0015465710629384921, 0.001508588632560693, 0.001482418185945337, 0.0014401963205388358, 0.001397775532439254, 0.0013730464126005505, 0.0013572681278715218, 0.0013471571368917693, 0.0013395249238358099, 0.0013333465118350236, 0.0013264011062934986, 0.0013190153088761375, 0.0013124679933559657, 0.0013067732134180567, 0.001302309512111243, 0.0012988687438264448, 0.0012959041981491623, 0.0012933761547328276, 0.001291120459272909, 0.0012890196288932534, 0.00128700151779797, 0.0012849984390696056, 0.001282976941596877, 0.0012809703039484846, 0.0012790671203215022, 0.001277261929453966, 0.0012755339527325158, 0.0012739230671041009, 0.0012724545982364108, 0.0012711640633781991, 0.0012700037180357674, 0.0012689537391402466, 0.0012679883917467328, 0.0012671037327704777, 0.0012663040708382016, 0.0012655686414446868, 0.0012648859990771635, 0.0012642441224695678, 0.0012636345817245904, 0.0012630576527974992, 0.001262506562510159, 0.0012619964212475174, 0.0012615207073796203, 0.0012610968080634525, 0.001260835469960365, 0.0012605307068535698, 0.0012601333220982605, 0.001259760403260437, 0.0012594238055533265, 0.0012591172445048505, 0.0012588368306412025, 0.0012585800812114642, 0.0012583453402018692, 0.0012581370815865677, 0.0012579495472682786, 0.0012577719281525411, 0.0012576087800407324, 0.0012574566729612472, 0.0012573140321632192, 0.0012571834091042202, 0.0012570616497679116]\n"
     ]
    },
    {
     "data": {
      "application/vnd.jupyter.widget-view+json": {
       "model_id": "c508da70014841b19c1d1f332261d0d8",
       "version_major": 2,
       "version_minor": 0
      },
      "text/plain": [
       "0it [00:00, ?it/s]"
      ]
     },
     "metadata": {},
     "output_type": "display_data"
    },
    {
     "name": "stdout",
     "output_type": "stream",
     "text": [
      "Loss of train: 0.00115\n",
      "Loss of val: 0.00126\n",
      "Loss of test: 0.00120\n",
      "Loss of gw_test: 0.00100\n",
      "[0.0015465710629384921, 0.001508588632560693, 0.001482418185945337, 0.0014401963205388358, 0.001397775532439254, 0.0013730464126005505, 0.0013572681278715218, 0.0013471571368917693, 0.0013395249238358099, 0.0013333465118350236, 0.0013264011062934986, 0.0013190153088761375, 0.0013124679933559657, 0.0013067732134180567, 0.001302309512111243, 0.0012988687438264448, 0.0012959041981491623, 0.0012933761547328276, 0.001291120459272909, 0.0012890196288932534, 0.00128700151779797, 0.0012849984390696056, 0.001282976941596877, 0.0012809703039484846, 0.0012790671203215022, 0.001277261929453966, 0.0012755339527325158, 0.0012739230671041009, 0.0012724545982364108, 0.0012711640633781991, 0.0012700037180357674, 0.0012689537391402466, 0.0012679883917467328, 0.0012671037327704777, 0.0012663040708382016, 0.0012655686414446868, 0.0012648859990771635, 0.0012642441224695678, 0.0012636345817245904, 0.0012630576527974992, 0.001262506562510159, 0.0012619964212475174, 0.0012615207073796203, 0.0012610968080634525, 0.001260835469960365, 0.0012605307068535698, 0.0012601333220982605, 0.001259760403260437, 0.0012594238055533265, 0.0012591172445048505, 0.0012588368306412025, 0.0012585800812114642, 0.0012583453402018692, 0.0012581370815865677, 0.0012579495472682786, 0.0012577719281525411, 0.0012576087800407324, 0.0012574566729612472, 0.0012573140321632192, 0.0012571834091042202, 0.0012570616497679116, 0.001256948421202131]\n"
     ]
    },
    {
     "data": {
      "application/vnd.jupyter.widget-view+json": {
       "model_id": "7d0c0ee4ae2d4ba3be74f90618b22db2",
       "version_major": 2,
       "version_minor": 0
      },
      "text/plain": [
       "0it [00:00, ?it/s]"
      ]
     },
     "metadata": {},
     "output_type": "display_data"
    },
    {
     "name": "stdout",
     "output_type": "stream",
     "text": [
      "Loss of train: 0.00115\n",
      "Loss of val: 0.00126\n",
      "Loss of test: 0.00120\n",
      "Loss of gw_test: 0.00100\n",
      "[0.0015465710629384921, 0.001508588632560693, 0.001482418185945337, 0.0014401963205388358, 0.001397775532439254, 0.0013730464126005505, 0.0013572681278715218, 0.0013471571368917693, 0.0013395249238358099, 0.0013333465118350236, 0.0013264011062934986, 0.0013190153088761375, 0.0013124679933559657, 0.0013067732134180567, 0.001302309512111243, 0.0012988687438264448, 0.0012959041981491623, 0.0012933761547328276, 0.001291120459272909, 0.0012890196288932534, 0.00128700151779797, 0.0012849984390696056, 0.001282976941596877, 0.0012809703039484846, 0.0012790671203215022, 0.001277261929453966, 0.0012755339527325158, 0.0012739230671041009, 0.0012724545982364108, 0.0012711640633781991, 0.0012700037180357674, 0.0012689537391402466, 0.0012679883917467328, 0.0012671037327704777, 0.0012663040708382016, 0.0012655686414446868, 0.0012648859990771635, 0.0012642441224695678, 0.0012636345817245904, 0.0012630576527974992, 0.001262506562510159, 0.0012619964212475174, 0.0012615207073796203, 0.0012610968080634525, 0.001260835469960365, 0.0012605307068535698, 0.0012601333220982605, 0.001259760403260437, 0.0012594238055533265, 0.0012591172445048505, 0.0012588368306412025, 0.0012585800812114642, 0.0012583453402018692, 0.0012581370815865677, 0.0012579495472682786, 0.0012577719281525411, 0.0012576087800407324, 0.0012574566729612472, 0.0012573140321632192, 0.0012571834091042202, 0.0012570616497679116, 0.001256948421202131, 0.0012568404965925249]\n"
     ]
    },
    {
     "data": {
      "application/vnd.jupyter.widget-view+json": {
       "model_id": "b4c1e8f85b794c7e8bde3c57810d1196",
       "version_major": 2,
       "version_minor": 0
      },
      "text/plain": [
       "0it [00:00, ?it/s]"
      ]
     },
     "metadata": {},
     "output_type": "display_data"
    },
    {
     "name": "stdout",
     "output_type": "stream",
     "text": [
      "Loss of train: 0.00115\n",
      "Loss of val: 0.00126\n",
      "Loss of test: 0.00120\n",
      "Loss of gw_test: 0.00100\n",
      "[0.0015465710629384921, 0.001508588632560693, 0.001482418185945337, 0.0014401963205388358, 0.001397775532439254, 0.0013730464126005505, 0.0013572681278715218, 0.0013471571368917693, 0.0013395249238358099, 0.0013333465118350236, 0.0013264011062934986, 0.0013190153088761375, 0.0013124679933559657, 0.0013067732134180567, 0.001302309512111243, 0.0012988687438264448, 0.0012959041981491623, 0.0012933761547328276, 0.001291120459272909, 0.0012890196288932534, 0.00128700151779797, 0.0012849984390696056, 0.001282976941596877, 0.0012809703039484846, 0.0012790671203215022, 0.001277261929453966, 0.0012755339527325158, 0.0012739230671041009, 0.0012724545982364108, 0.0012711640633781991, 0.0012700037180357674, 0.0012689537391402466, 0.0012679883917467328, 0.0012671037327704777, 0.0012663040708382016, 0.0012655686414446868, 0.0012648859990771635, 0.0012642441224695678, 0.0012636345817245904, 0.0012630576527974992, 0.001262506562510159, 0.0012619964212475174, 0.0012615207073796203, 0.0012610968080634525, 0.001260835469960365, 0.0012605307068535698, 0.0012601333220982605, 0.001259760403260437, 0.0012594238055533265, 0.0012591172445048505, 0.0012588368306412025, 0.0012585800812114642, 0.0012583453402018692, 0.0012581370815865677, 0.0012579495472682786, 0.0012577719281525411, 0.0012576087800407324, 0.0012574566729612472, 0.0012573140321632192, 0.0012571834091042202, 0.0012570616497679116, 0.001256948421202131, 0.0012568404965925249, 0.0012567379893685584]\n"
     ]
    },
    {
     "data": {
      "application/vnd.jupyter.widget-view+json": {
       "model_id": "2fed2e337d4d47f3bd4ed8aea079266a",
       "version_major": 2,
       "version_minor": 0
      },
      "text/plain": [
       "0it [00:00, ?it/s]"
      ]
     },
     "metadata": {},
     "output_type": "display_data"
    },
    {
     "name": "stdout",
     "output_type": "stream",
     "text": [
      "Loss of train: 0.00115\n",
      "Loss of val: 0.00126\n",
      "Loss of test: 0.00120\n",
      "Loss of gw_test: 0.00100\n",
      "[0.0015465710629384921, 0.001508588632560693, 0.001482418185945337, 0.0014401963205388358, 0.001397775532439254, 0.0013730464126005505, 0.0013572681278715218, 0.0013471571368917693, 0.0013395249238358099, 0.0013333465118350236, 0.0013264011062934986, 0.0013190153088761375, 0.0013124679933559657, 0.0013067732134180567, 0.001302309512111243, 0.0012988687438264448, 0.0012959041981491623, 0.0012933761547328276, 0.001291120459272909, 0.0012890196288932534, 0.00128700151779797, 0.0012849984390696056, 0.001282976941596877, 0.0012809703039484846, 0.0012790671203215022, 0.001277261929453966, 0.0012755339527325158, 0.0012739230671041009, 0.0012724545982364108, 0.0012711640633781991, 0.0012700037180357674, 0.0012689537391402466, 0.0012679883917467328, 0.0012671037327704777, 0.0012663040708382016, 0.0012655686414446868, 0.0012648859990771635, 0.0012642441224695678, 0.0012636345817245904, 0.0012630576527974992, 0.001262506562510159, 0.0012619964212475174, 0.0012615207073796203, 0.0012610968080634525, 0.001260835469960365, 0.0012605307068535698, 0.0012601333220982605, 0.001259760403260437, 0.0012594238055533265, 0.0012591172445048505, 0.0012588368306412025, 0.0012585800812114642, 0.0012583453402018692, 0.0012581370815865677, 0.0012579495472682786, 0.0012577719281525411, 0.0012576087800407324, 0.0012574566729612472, 0.0012573140321632192, 0.0012571834091042202, 0.0012570616497679116, 0.001256948421202131, 0.0012568404965925249, 0.0012567379893685584, 0.001256640710904367]\n"
     ]
    },
    {
     "data": {
      "application/vnd.jupyter.widget-view+json": {
       "model_id": "2f52f433217443c0b5841f2a47dc27b6",
       "version_major": 2,
       "version_minor": 0
      },
      "text/plain": [
       "0it [00:00, ?it/s]"
      ]
     },
     "metadata": {},
     "output_type": "display_data"
    },
    {
     "name": "stdout",
     "output_type": "stream",
     "text": [
      "Loss of train: 0.00115\n",
      "Loss of val: 0.00126\n",
      "Loss of test: 0.00120\n",
      "Loss of gw_test: 0.00100\n",
      "[0.0015465710629384921, 0.001508588632560693, 0.001482418185945337, 0.0014401963205388358, 0.001397775532439254, 0.0013730464126005505, 0.0013572681278715218, 0.0013471571368917693, 0.0013395249238358099, 0.0013333465118350236, 0.0013264011062934986, 0.0013190153088761375, 0.0013124679933559657, 0.0013067732134180567, 0.001302309512111243, 0.0012988687438264448, 0.0012959041981491623, 0.0012933761547328276, 0.001291120459272909, 0.0012890196288932534, 0.00128700151779797, 0.0012849984390696056, 0.001282976941596877, 0.0012809703039484846, 0.0012790671203215022, 0.001277261929453966, 0.0012755339527325158, 0.0012739230671041009, 0.0012724545982364108, 0.0012711640633781991, 0.0012700037180357674, 0.0012689537391402466, 0.0012679883917467328, 0.0012671037327704777, 0.0012663040708382016, 0.0012655686414446868, 0.0012648859990771635, 0.0012642441224695678, 0.0012636345817245904, 0.0012630576527974992, 0.001262506562510159, 0.0012619964212475174, 0.0012615207073796203, 0.0012610968080634525, 0.001260835469960365, 0.0012605307068535698, 0.0012601333220982605, 0.001259760403260437, 0.0012594238055533265, 0.0012591172445048505, 0.0012588368306412025, 0.0012585800812114642, 0.0012583453402018692, 0.0012581370815865677, 0.0012579495472682786, 0.0012577719281525411, 0.0012576087800407324, 0.0012574566729612472, 0.0012573140321632192, 0.0012571834091042202, 0.0012570616497679116, 0.001256948421202131, 0.0012568404965925249, 0.0012567379893685584, 0.001256640710904367, 0.0012565491029258918]\n"
     ]
    },
    {
     "data": {
      "application/vnd.jupyter.widget-view+json": {
       "model_id": "71c01f8e30db4e4ab1a13f8a9439e7ad",
       "version_major": 2,
       "version_minor": 0
      },
      "text/plain": [
       "0it [00:00, ?it/s]"
      ]
     },
     "metadata": {},
     "output_type": "display_data"
    },
    {
     "name": "stdout",
     "output_type": "stream",
     "text": [
      "Loss of train: 0.00115\n",
      "Loss of val: 0.00126\n",
      "Loss of test: 0.00120\n",
      "Loss of gw_test: 0.00100\n",
      "[0.0015465710629384921, 0.001508588632560693, 0.001482418185945337, 0.0014401963205388358, 0.001397775532439254, 0.0013730464126005505, 0.0013572681278715218, 0.0013471571368917693, 0.0013395249238358099, 0.0013333465118350236, 0.0013264011062934986, 0.0013190153088761375, 0.0013124679933559657, 0.0013067732134180567, 0.001302309512111243, 0.0012988687438264448, 0.0012959041981491623, 0.0012933761547328276, 0.001291120459272909, 0.0012890196288932534, 0.00128700151779797, 0.0012849984390696056, 0.001282976941596877, 0.0012809703039484846, 0.0012790671203215022, 0.001277261929453966, 0.0012755339527325158, 0.0012739230671041009, 0.0012724545982364108, 0.0012711640633781991, 0.0012700037180357674, 0.0012689537391402466, 0.0012679883917467328, 0.0012671037327704777, 0.0012663040708382016, 0.0012655686414446868, 0.0012648859990771635, 0.0012642441224695678, 0.0012636345817245904, 0.0012630576527974992, 0.001262506562510159, 0.0012619964212475174, 0.0012615207073796203, 0.0012610968080634525, 0.001260835469960365, 0.0012605307068535698, 0.0012601333220982605, 0.001259760403260437, 0.0012594238055533265, 0.0012591172445048505, 0.0012588368306412025, 0.0012585800812114642, 0.0012583453402018692, 0.0012581370815865677, 0.0012579495472682786, 0.0012577719281525411, 0.0012576087800407324, 0.0012574566729612472, 0.0012573140321632192, 0.0012571834091042202, 0.0012570616497679116, 0.001256948421202131, 0.0012568404965925249, 0.0012567379893685584, 0.001256640710904367, 0.0012565491029258918, 0.0012564635744281843]\n"
     ]
    },
    {
     "data": {
      "application/vnd.jupyter.widget-view+json": {
       "model_id": "cfa1835df1274b3cbaa8d0e61c8ce4ee",
       "version_major": 2,
       "version_minor": 0
      },
      "text/plain": [
       "0it [00:00, ?it/s]"
      ]
     },
     "metadata": {},
     "output_type": "display_data"
    },
    {
     "name": "stdout",
     "output_type": "stream",
     "text": [
      "Loss of train: 0.00115\n",
      "Loss of val: 0.00126\n",
      "Loss of test: 0.00120\n",
      "Loss of gw_test: 0.00100\n",
      "[0.0015465710629384921, 0.001508588632560693, 0.001482418185945337, 0.0014401963205388358, 0.001397775532439254, 0.0013730464126005505, 0.0013572681278715218, 0.0013471571368917693, 0.0013395249238358099, 0.0013333465118350236, 0.0013264011062934986, 0.0013190153088761375, 0.0013124679933559657, 0.0013067732134180567, 0.001302309512111243, 0.0012988687438264448, 0.0012959041981491623, 0.0012933761547328276, 0.001291120459272909, 0.0012890196288932534, 0.00128700151779797, 0.0012849984390696056, 0.001282976941596877, 0.0012809703039484846, 0.0012790671203215022, 0.001277261929453966, 0.0012755339527325158, 0.0012739230671041009, 0.0012724545982364108, 0.0012711640633781991, 0.0012700037180357674, 0.0012689537391402466, 0.0012679883917467328, 0.0012671037327704777, 0.0012663040708382016, 0.0012655686414446868, 0.0012648859990771635, 0.0012642441224695678, 0.0012636345817245904, 0.0012630576527974992, 0.001262506562510159, 0.0012619964212475174, 0.0012615207073796203, 0.0012610968080634525, 0.001260835469960365, 0.0012605307068535698, 0.0012601333220982605, 0.001259760403260437, 0.0012594238055533265, 0.0012591172445048505, 0.0012588368306412025, 0.0012585800812114642, 0.0012583453402018692, 0.0012581370815865677, 0.0012579495472682786, 0.0012577719281525411, 0.0012576087800407324, 0.0012574566729612472, 0.0012573140321632192, 0.0012571834091042202, 0.0012570616497679116, 0.001256948421202131, 0.0012568404965925249, 0.0012567379893685584, 0.001256640710904367, 0.0012565491029258918, 0.0012564635744281843, 0.0012563832725740304]\n"
     ]
    },
    {
     "data": {
      "application/vnd.jupyter.widget-view+json": {
       "model_id": "ea8183b1ae354db5beee0417b0d691a3",
       "version_major": 2,
       "version_minor": 0
      },
      "text/plain": [
       "0it [00:00, ?it/s]"
      ]
     },
     "metadata": {},
     "output_type": "display_data"
    },
    {
     "name": "stdout",
     "output_type": "stream",
     "text": [
      "Loss of train: 0.00115\n",
      "Loss of val: 0.00126\n",
      "Loss of test: 0.00120\n",
      "Loss of gw_test: 0.00100\n",
      "[0.0015465710629384921, 0.001508588632560693, 0.001482418185945337, 0.0014401963205388358, 0.001397775532439254, 0.0013730464126005505, 0.0013572681278715218, 0.0013471571368917693, 0.0013395249238358099, 0.0013333465118350236, 0.0013264011062934986, 0.0013190153088761375, 0.0013124679933559657, 0.0013067732134180567, 0.001302309512111243, 0.0012988687438264448, 0.0012959041981491623, 0.0012933761547328276, 0.001291120459272909, 0.0012890196288932534, 0.00128700151779797, 0.0012849984390696056, 0.001282976941596877, 0.0012809703039484846, 0.0012790671203215022, 0.001277261929453966, 0.0012755339527325158, 0.0012739230671041009, 0.0012724545982364108, 0.0012711640633781991, 0.0012700037180357674, 0.0012689537391402466, 0.0012679883917467328, 0.0012671037327704777, 0.0012663040708382016, 0.0012655686414446868, 0.0012648859990771635, 0.0012642441224695678, 0.0012636345817245904, 0.0012630576527974992, 0.001262506562510159, 0.0012619964212475174, 0.0012615207073796203, 0.0012610968080634525, 0.001260835469960365, 0.0012605307068535698, 0.0012601333220982605, 0.001259760403260437, 0.0012594238055533265, 0.0012591172445048505, 0.0012588368306412025, 0.0012585800812114642, 0.0012583453402018692, 0.0012581370815865677, 0.0012579495472682786, 0.0012577719281525411, 0.0012576087800407324, 0.0012574566729612472, 0.0012573140321632192, 0.0012571834091042202, 0.0012570616497679116, 0.001256948421202131, 0.0012568404965925249, 0.0012567379893685584, 0.001256640710904367, 0.0012565491029258918, 0.0012564635744281843, 0.0012563832725740304, 0.001256307969799091]\n"
     ]
    },
    {
     "data": {
      "application/vnd.jupyter.widget-view+json": {
       "model_id": "d18238ddd919451192677bfd449f1f02",
       "version_major": 2,
       "version_minor": 0
      },
      "text/plain": [
       "0it [00:00, ?it/s]"
      ]
     },
     "metadata": {},
     "output_type": "display_data"
    },
    {
     "name": "stdout",
     "output_type": "stream",
     "text": [
      "Loss of train: 0.00115\n",
      "Loss of val: 0.00126\n",
      "Loss of test: 0.00120\n",
      "Loss of gw_test: 0.00100\n",
      "[0.0015465710629384921, 0.001508588632560693, 0.001482418185945337, 0.0014401963205388358, 0.001397775532439254, 0.0013730464126005505, 0.0013572681278715218, 0.0013471571368917693, 0.0013395249238358099, 0.0013333465118350236, 0.0013264011062934986, 0.0013190153088761375, 0.0013124679933559657, 0.0013067732134180567, 0.001302309512111243, 0.0012988687438264448, 0.0012959041981491623, 0.0012933761547328276, 0.001291120459272909, 0.0012890196288932534, 0.00128700151779797, 0.0012849984390696056, 0.001282976941596877, 0.0012809703039484846, 0.0012790671203215022, 0.001277261929453966, 0.0012755339527325158, 0.0012739230671041009, 0.0012724545982364108, 0.0012711640633781991, 0.0012700037180357674, 0.0012689537391402466, 0.0012679883917467328, 0.0012671037327704777, 0.0012663040708382016, 0.0012655686414446868, 0.0012648859990771635, 0.0012642441224695678, 0.0012636345817245904, 0.0012630576527974992, 0.001262506562510159, 0.0012619964212475174, 0.0012615207073796203, 0.0012610968080634525, 0.001260835469960365, 0.0012605307068535698, 0.0012601333220982605, 0.001259760403260437, 0.0012594238055533265, 0.0012591172445048505, 0.0012588368306412025, 0.0012585800812114642, 0.0012583453402018692, 0.0012581370815865677, 0.0012579495472682786, 0.0012577719281525411, 0.0012576087800407324, 0.0012574566729612472, 0.0012573140321632192, 0.0012571834091042202, 0.0012570616497679116, 0.001256948421202131, 0.0012568404965925249, 0.0012567379893685584, 0.001256640710904367, 0.0012565491029258918, 0.0012564635744281843, 0.0012563832725740304, 0.001256307969799091, 0.0012562376016291552]\n"
     ]
    },
    {
     "data": {
      "application/vnd.jupyter.widget-view+json": {
       "model_id": "1fd08152e927426c81167eac0ecc59d4",
       "version_major": 2,
       "version_minor": 0
      },
      "text/plain": [
       "0it [00:00, ?it/s]"
      ]
     },
     "metadata": {},
     "output_type": "display_data"
    },
    {
     "name": "stdout",
     "output_type": "stream",
     "text": [
      "Loss of train: 0.00115\n",
      "Loss of val: 0.00126\n",
      "Loss of test: 0.00120\n",
      "Loss of gw_test: 0.00100\n",
      "[0.0015465710629384921, 0.001508588632560693, 0.001482418185945337, 0.0014401963205388358, 0.001397775532439254, 0.0013730464126005505, 0.0013572681278715218, 0.0013471571368917693, 0.0013395249238358099, 0.0013333465118350236, 0.0013264011062934986, 0.0013190153088761375, 0.0013124679933559657, 0.0013067732134180567, 0.001302309512111243, 0.0012988687438264448, 0.0012959041981491623, 0.0012933761547328276, 0.001291120459272909, 0.0012890196288932534, 0.00128700151779797, 0.0012849984390696056, 0.001282976941596877, 0.0012809703039484846, 0.0012790671203215022, 0.001277261929453966, 0.0012755339527325158, 0.0012739230671041009, 0.0012724545982364108, 0.0012711640633781991, 0.0012700037180357674, 0.0012689537391402466, 0.0012679883917467328, 0.0012671037327704777, 0.0012663040708382016, 0.0012655686414446868, 0.0012648859990771635, 0.0012642441224695678, 0.0012636345817245904, 0.0012630576527974992, 0.001262506562510159, 0.0012619964212475174, 0.0012615207073796203, 0.0012610968080634525, 0.001260835469960365, 0.0012605307068535698, 0.0012601333220982605, 0.001259760403260437, 0.0012594238055533265, 0.0012591172445048505, 0.0012588368306412025, 0.0012585800812114642, 0.0012583453402018692, 0.0012581370815865677, 0.0012579495472682786, 0.0012577719281525411, 0.0012576087800407324, 0.0012574566729612472, 0.0012573140321632192, 0.0012571834091042202, 0.0012570616497679116, 0.001256948421202131, 0.0012568404965925249, 0.0012567379893685584, 0.001256640710904367, 0.0012565491029258918, 0.0012564635744281843, 0.0012563832725740304, 0.001256307969799091, 0.0012562376016291552, 0.001256171151290393]\n"
     ]
    },
    {
     "data": {
      "application/vnd.jupyter.widget-view+json": {
       "model_id": "eb65abd5527646f4bbd58c562c2b50dc",
       "version_major": 2,
       "version_minor": 0
      },
      "text/plain": [
       "0it [00:00, ?it/s]"
      ]
     },
     "metadata": {},
     "output_type": "display_data"
    },
    {
     "name": "stdout",
     "output_type": "stream",
     "text": [
      "Loss of train: 0.00115\n",
      "Loss of val: 0.00126\n",
      "Loss of test: 0.00120\n",
      "Loss of gw_test: 0.00100\n",
      "[0.0015465710629384921, 0.001508588632560693, 0.001482418185945337, 0.0014401963205388358, 0.001397775532439254, 0.0013730464126005505, 0.0013572681278715218, 0.0013471571368917693, 0.0013395249238358099, 0.0013333465118350236, 0.0013264011062934986, 0.0013190153088761375, 0.0013124679933559657, 0.0013067732134180567, 0.001302309512111243, 0.0012988687438264448, 0.0012959041981491623, 0.0012933761547328276, 0.001291120459272909, 0.0012890196288932534, 0.00128700151779797, 0.0012849984390696056, 0.001282976941596877, 0.0012809703039484846, 0.0012790671203215022, 0.001277261929453966, 0.0012755339527325158, 0.0012739230671041009, 0.0012724545982364108, 0.0012711640633781991, 0.0012700037180357674, 0.0012689537391402466, 0.0012679883917467328, 0.0012671037327704777, 0.0012663040708382016, 0.0012655686414446868, 0.0012648859990771635, 0.0012642441224695678, 0.0012636345817245904, 0.0012630576527974992, 0.001262506562510159, 0.0012619964212475174, 0.0012615207073796203, 0.0012610968080634525, 0.001260835469960365, 0.0012605307068535698, 0.0012601333220982605, 0.001259760403260437, 0.0012594238055533265, 0.0012591172445048505, 0.0012588368306412025, 0.0012585800812114642, 0.0012583453402018692, 0.0012581370815865677, 0.0012579495472682786, 0.0012577719281525411, 0.0012576087800407324, 0.0012574566729612472, 0.0012573140321632192, 0.0012571834091042202, 0.0012570616497679116, 0.001256948421202131, 0.0012568404965925249, 0.0012567379893685584, 0.001256640710904367, 0.0012565491029258918, 0.0012564635744281843, 0.0012563832725740304, 0.001256307969799091, 0.0012562376016291552, 0.001256171151290393, 0.0012561090413216716]\n"
     ]
    },
    {
     "data": {
      "application/vnd.jupyter.widget-view+json": {
       "model_id": "da8baa1410ad4548935df81d0ad473e3",
       "version_major": 2,
       "version_minor": 0
      },
      "text/plain": [
       "0it [00:00, ?it/s]"
      ]
     },
     "metadata": {},
     "output_type": "display_data"
    },
    {
     "name": "stdout",
     "output_type": "stream",
     "text": [
      "Loss of train: 0.00115\n",
      "Loss of val: 0.00126\n",
      "Loss of test: 0.00120\n",
      "Loss of gw_test: 0.00100\n",
      "[0.0015465710629384921, 0.001508588632560693, 0.001482418185945337, 0.0014401963205388358, 0.001397775532439254, 0.0013730464126005505, 0.0013572681278715218, 0.0013471571368917693, 0.0013395249238358099, 0.0013333465118350236, 0.0013264011062934986, 0.0013190153088761375, 0.0013124679933559657, 0.0013067732134180567, 0.001302309512111243, 0.0012988687438264448, 0.0012959041981491623, 0.0012933761547328276, 0.001291120459272909, 0.0012890196288932534, 0.00128700151779797, 0.0012849984390696056, 0.001282976941596877, 0.0012809703039484846, 0.0012790671203215022, 0.001277261929453966, 0.0012755339527325158, 0.0012739230671041009, 0.0012724545982364108, 0.0012711640633781991, 0.0012700037180357674, 0.0012689537391402466, 0.0012679883917467328, 0.0012671037327704777, 0.0012663040708382016, 0.0012655686414446868, 0.0012648859990771635, 0.0012642441224695678, 0.0012636345817245904, 0.0012630576527974992, 0.001262506562510159, 0.0012619964212475174, 0.0012615207073796203, 0.0012610968080634525, 0.001260835469960365, 0.0012605307068535698, 0.0012601333220982605, 0.001259760403260437, 0.0012594238055533265, 0.0012591172445048505, 0.0012588368306412025, 0.0012585800812114642, 0.0012583453402018692, 0.0012581370815865677, 0.0012579495472682786, 0.0012577719281525411, 0.0012576087800407324, 0.0012574566729612472, 0.0012573140321632192, 0.0012571834091042202, 0.0012570616497679116, 0.001256948421202131, 0.0012568404965925249, 0.0012567379893685584, 0.001256640710904367, 0.0012565491029258918, 0.0012564635744281843, 0.0012563832725740304, 0.001256307969799091, 0.0012562376016291552, 0.001256171151290393, 0.0012561090413216716, 0.001256050543601757]\n"
     ]
    },
    {
     "data": {
      "application/vnd.jupyter.widget-view+json": {
       "model_id": "c95be60a606b4af1afd7a8327f478262",
       "version_major": 2,
       "version_minor": 0
      },
      "text/plain": [
       "0it [00:00, ?it/s]"
      ]
     },
     "metadata": {},
     "output_type": "display_data"
    },
    {
     "name": "stdout",
     "output_type": "stream",
     "text": [
      "Loss of train: 0.00115\n",
      "Loss of val: 0.00126\n",
      "Loss of test: 0.00120\n",
      "Loss of gw_test: 0.00100\n",
      "[0.0015465710629384921, 0.001508588632560693, 0.001482418185945337, 0.0014401963205388358, 0.001397775532439254, 0.0013730464126005505, 0.0013572681278715218, 0.0013471571368917693, 0.0013395249238358099, 0.0013333465118350236, 0.0013264011062934986, 0.0013190153088761375, 0.0013124679933559657, 0.0013067732134180567, 0.001302309512111243, 0.0012988687438264448, 0.0012959041981491623, 0.0012933761547328276, 0.001291120459272909, 0.0012890196288932534, 0.00128700151779797, 0.0012849984390696056, 0.001282976941596877, 0.0012809703039484846, 0.0012790671203215022, 0.001277261929453966, 0.0012755339527325158, 0.0012739230671041009, 0.0012724545982364108, 0.0012711640633781991, 0.0012700037180357674, 0.0012689537391402466, 0.0012679883917467328, 0.0012671037327704777, 0.0012663040708382016, 0.0012655686414446868, 0.0012648859990771635, 0.0012642441224695678, 0.0012636345817245904, 0.0012630576527974992, 0.001262506562510159, 0.0012619964212475174, 0.0012615207073796203, 0.0012610968080634525, 0.001260835469960365, 0.0012605307068535698, 0.0012601333220982605, 0.001259760403260437, 0.0012594238055533265, 0.0012591172445048505, 0.0012588368306412025, 0.0012585800812114642, 0.0012583453402018692, 0.0012581370815865677, 0.0012579495472682786, 0.0012577719281525411, 0.0012576087800407324, 0.0012574566729612472, 0.0012573140321632192, 0.0012571834091042202, 0.0012570616497679116, 0.001256948421202131, 0.0012568404965925249, 0.0012567379893685584, 0.001256640710904367, 0.0012565491029258918, 0.0012564635744281843, 0.0012563832725740304, 0.001256307969799091, 0.0012562376016291552, 0.001256171151290393, 0.0012561090413216716, 0.001256050543601757, 0.0012559955650169087]\n"
     ]
    },
    {
     "data": {
      "application/vnd.jupyter.widget-view+json": {
       "model_id": "a2937b745fce4db48eeae75851e0f493",
       "version_major": 2,
       "version_minor": 0
      },
      "text/plain": [
       "0it [00:00, ?it/s]"
      ]
     },
     "metadata": {},
     "output_type": "display_data"
    },
    {
     "name": "stdout",
     "output_type": "stream",
     "text": [
      "Loss of train: 0.00115\n",
      "Loss of val: 0.00126\n",
      "Loss of test: 0.00120\n",
      "Loss of gw_test: 0.00100\n",
      "[0.0015465710629384921, 0.001508588632560693, 0.001482418185945337, 0.0014401963205388358, 0.001397775532439254, 0.0013730464126005505, 0.0013572681278715218, 0.0013471571368917693, 0.0013395249238358099, 0.0013333465118350236, 0.0013264011062934986, 0.0013190153088761375, 0.0013124679933559657, 0.0013067732134180567, 0.001302309512111243, 0.0012988687438264448, 0.0012959041981491623, 0.0012933761547328276, 0.001291120459272909, 0.0012890196288932534, 0.00128700151779797, 0.0012849984390696056, 0.001282976941596877, 0.0012809703039484846, 0.0012790671203215022, 0.001277261929453966, 0.0012755339527325158, 0.0012739230671041009, 0.0012724545982364108, 0.0012711640633781991, 0.0012700037180357674, 0.0012689537391402466, 0.0012679883917467328, 0.0012671037327704777, 0.0012663040708382016, 0.0012655686414446868, 0.0012648859990771635, 0.0012642441224695678, 0.0012636345817245904, 0.0012630576527974992, 0.001262506562510159, 0.0012619964212475174, 0.0012615207073796203, 0.0012610968080634525, 0.001260835469960365, 0.0012605307068535698, 0.0012601333220982605, 0.001259760403260437, 0.0012594238055533265, 0.0012591172445048505, 0.0012588368306412025, 0.0012585800812114642, 0.0012583453402018692, 0.0012581370815865677, 0.0012579495472682786, 0.0012577719281525411, 0.0012576087800407324, 0.0012574566729612472, 0.0012573140321632192, 0.0012571834091042202, 0.0012570616497679116, 0.001256948421202131, 0.0012568404965925249, 0.0012567379893685584, 0.001256640710904367, 0.0012565491029258918, 0.0012564635744281843, 0.0012563832725740304, 0.001256307969799091, 0.0012562376016291552, 0.001256171151290393, 0.0012561090413216716, 0.001256050543601757, 0.0012559955650169087, 0.0012559440449021137]\n"
     ]
    },
    {
     "data": {
      "application/vnd.jupyter.widget-view+json": {
       "model_id": "94642ca33da84a1684330b7bc3920569",
       "version_major": 2,
       "version_minor": 0
      },
      "text/plain": [
       "0it [00:00, ?it/s]"
      ]
     },
     "metadata": {},
     "output_type": "display_data"
    },
    {
     "name": "stdout",
     "output_type": "stream",
     "text": [
      "Loss of train: 0.00115\n",
      "Loss of val: 0.00126\n",
      "Loss of test: 0.00120\n",
      "Loss of gw_test: 0.00100\n",
      "[0.0015465710629384921, 0.001508588632560693, 0.001482418185945337, 0.0014401963205388358, 0.001397775532439254, 0.0013730464126005505, 0.0013572681278715218, 0.0013471571368917693, 0.0013395249238358099, 0.0013333465118350236, 0.0013264011062934986, 0.0013190153088761375, 0.0013124679933559657, 0.0013067732134180567, 0.001302309512111243, 0.0012988687438264448, 0.0012959041981491623, 0.0012933761547328276, 0.001291120459272909, 0.0012890196288932534, 0.00128700151779797, 0.0012849984390696056, 0.001282976941596877, 0.0012809703039484846, 0.0012790671203215022, 0.001277261929453966, 0.0012755339527325158, 0.0012739230671041009, 0.0012724545982364108, 0.0012711640633781991, 0.0012700037180357674, 0.0012689537391402466, 0.0012679883917467328, 0.0012671037327704777, 0.0012663040708382016, 0.0012655686414446868, 0.0012648859990771635, 0.0012642441224695678, 0.0012636345817245904, 0.0012630576527974992, 0.001262506562510159, 0.0012619964212475174, 0.0012615207073796203, 0.0012610968080634525, 0.001260835469960365, 0.0012605307068535698, 0.0012601333220982605, 0.001259760403260437, 0.0012594238055533265, 0.0012591172445048505, 0.0012588368306412025, 0.0012585800812114642, 0.0012583453402018692, 0.0012581370815865677, 0.0012579495472682786, 0.0012577719281525411, 0.0012576087800407324, 0.0012574566729612472, 0.0012573140321632192, 0.0012571834091042202, 0.0012570616497679116, 0.001256948421202131, 0.0012568404965925249, 0.0012567379893685584, 0.001256640710904367, 0.0012565491029258918, 0.0012564635744281843, 0.0012563832725740304, 0.001256307969799091, 0.0012562376016291552, 0.001256171151290393, 0.0012561090413216716, 0.001256050543601757, 0.0012559955650169087, 0.0012559440449021137, 0.001255895686563135]\n"
     ]
    },
    {
     "data": {
      "application/vnd.jupyter.widget-view+json": {
       "model_id": "0ec524652c9944129190087e6c417cc5",
       "version_major": 2,
       "version_minor": 0
      },
      "text/plain": [
       "0it [00:00, ?it/s]"
      ]
     },
     "metadata": {},
     "output_type": "display_data"
    },
    {
     "name": "stdout",
     "output_type": "stream",
     "text": [
      "Loss of train: 0.00115\n",
      "Loss of val: 0.00126\n",
      "Loss of test: 0.00120\n",
      "Loss of gw_test: 0.00100\n",
      "[0.0015465710629384921, 0.001508588632560693, 0.001482418185945337, 0.0014401963205388358, 0.001397775532439254, 0.0013730464126005505, 0.0013572681278715218, 0.0013471571368917693, 0.0013395249238358099, 0.0013333465118350236, 0.0013264011062934986, 0.0013190153088761375, 0.0013124679933559657, 0.0013067732134180567, 0.001302309512111243, 0.0012988687438264448, 0.0012959041981491623, 0.0012933761547328276, 0.001291120459272909, 0.0012890196288932534, 0.00128700151779797, 0.0012849984390696056, 0.001282976941596877, 0.0012809703039484846, 0.0012790671203215022, 0.001277261929453966, 0.0012755339527325158, 0.0012739230671041009, 0.0012724545982364108, 0.0012711640633781991, 0.0012700037180357674, 0.0012689537391402466, 0.0012679883917467328, 0.0012671037327704777, 0.0012663040708382016, 0.0012655686414446868, 0.0012648859990771635, 0.0012642441224695678, 0.0012636345817245904, 0.0012630576527974992, 0.001262506562510159, 0.0012619964212475174, 0.0012615207073796203, 0.0012610968080634525, 0.001260835469960365, 0.0012605307068535698, 0.0012601333220982605, 0.001259760403260437, 0.0012594238055533265, 0.0012591172445048505, 0.0012588368306412025, 0.0012585800812114642, 0.0012583453402018692, 0.0012581370815865677, 0.0012579495472682786, 0.0012577719281525411, 0.0012576087800407324, 0.0012574566729612472, 0.0012573140321632192, 0.0012571834091042202, 0.0012570616497679116, 0.001256948421202131, 0.0012568404965925249, 0.0012567379893685584, 0.001256640710904367, 0.0012565491029258918, 0.0012564635744281843, 0.0012563832725740304, 0.001256307969799091, 0.0012562376016291552, 0.001256171151290393, 0.0012561090413216716, 0.001256050543601757, 0.0012559955650169087, 0.0012559440449021137, 0.001255895686563135, 0.001255850356536945]\n"
     ]
    },
    {
     "data": {
      "application/vnd.jupyter.widget-view+json": {
       "model_id": "5a329712b5e14539a15e6198e2eb9f59",
       "version_major": 2,
       "version_minor": 0
      },
      "text/plain": [
       "0it [00:00, ?it/s]"
      ]
     },
     "metadata": {},
     "output_type": "display_data"
    },
    {
     "name": "stdout",
     "output_type": "stream",
     "text": [
      "Loss of train: 0.00115\n",
      "Loss of val: 0.00126\n",
      "Loss of test: 0.00120\n",
      "Loss of gw_test: 0.00100\n",
      "[0.0015465710629384921, 0.001508588632560693, 0.001482418185945337, 0.0014401963205388358, 0.001397775532439254, 0.0013730464126005505, 0.0013572681278715218, 0.0013471571368917693, 0.0013395249238358099, 0.0013333465118350236, 0.0013264011062934986, 0.0013190153088761375, 0.0013124679933559657, 0.0013067732134180567, 0.001302309512111243, 0.0012988687438264448, 0.0012959041981491623, 0.0012933761547328276, 0.001291120459272909, 0.0012890196288932534, 0.00128700151779797, 0.0012849984390696056, 0.001282976941596877, 0.0012809703039484846, 0.0012790671203215022, 0.001277261929453966, 0.0012755339527325158, 0.0012739230671041009, 0.0012724545982364108, 0.0012711640633781991, 0.0012700037180357674, 0.0012689537391402466, 0.0012679883917467328, 0.0012671037327704777, 0.0012663040708382016, 0.0012655686414446868, 0.0012648859990771635, 0.0012642441224695678, 0.0012636345817245904, 0.0012630576527974992, 0.001262506562510159, 0.0012619964212475174, 0.0012615207073796203, 0.0012610968080634525, 0.001260835469960365, 0.0012605307068535698, 0.0012601333220982605, 0.001259760403260437, 0.0012594238055533265, 0.0012591172445048505, 0.0012588368306412025, 0.0012585800812114642, 0.0012583453402018692, 0.0012581370815865677, 0.0012579495472682786, 0.0012577719281525411, 0.0012576087800407324, 0.0012574566729612472, 0.0012573140321632192, 0.0012571834091042202, 0.0012570616497679116, 0.001256948421202131, 0.0012568404965925249, 0.0012567379893685584, 0.001256640710904367, 0.0012565491029258918, 0.0012564635744281843, 0.0012563832725740304, 0.001256307969799091, 0.0012562376016291552, 0.001256171151290393, 0.0012561090413216716, 0.001256050543601757, 0.0012559955650169087, 0.0012559440449021137, 0.001255895686563135, 0.001255850356536945, 0.0012558089783425515]\n"
     ]
    },
    {
     "data": {
      "application/vnd.jupyter.widget-view+json": {
       "model_id": "c8e7c98c67eb4f039deb9daa9b2e0d69",
       "version_major": 2,
       "version_minor": 0
      },
      "text/plain": [
       "0it [00:00, ?it/s]"
      ]
     },
     "metadata": {},
     "output_type": "display_data"
    },
    {
     "name": "stdout",
     "output_type": "stream",
     "text": [
      "Loss of train: 0.00115\n",
      "Loss of val: 0.00126\n",
      "Loss of test: 0.00120\n",
      "Loss of gw_test: 0.00100\n",
      "[0.0015465710629384921, 0.001508588632560693, 0.001482418185945337, 0.0014401963205388358, 0.001397775532439254, 0.0013730464126005505, 0.0013572681278715218, 0.0013471571368917693, 0.0013395249238358099, 0.0013333465118350236, 0.0013264011062934986, 0.0013190153088761375, 0.0013124679933559657, 0.0013067732134180567, 0.001302309512111243, 0.0012988687438264448, 0.0012959041981491623, 0.0012933761547328276, 0.001291120459272909, 0.0012890196288932534, 0.00128700151779797, 0.0012849984390696056, 0.001282976941596877, 0.0012809703039484846, 0.0012790671203215022, 0.001277261929453966, 0.0012755339527325158, 0.0012739230671041009, 0.0012724545982364108, 0.0012711640633781991, 0.0012700037180357674, 0.0012689537391402466, 0.0012679883917467328, 0.0012671037327704777, 0.0012663040708382016, 0.0012655686414446868, 0.0012648859990771635, 0.0012642441224695678, 0.0012636345817245904, 0.0012630576527974992, 0.001262506562510159, 0.0012619964212475174, 0.0012615207073796203, 0.0012610968080634525, 0.001260835469960365, 0.0012605307068535698, 0.0012601333220982605, 0.001259760403260437, 0.0012594238055533265, 0.0012591172445048505, 0.0012588368306412025, 0.0012585800812114642, 0.0012583453402018692, 0.0012581370815865677, 0.0012579495472682786, 0.0012577719281525411, 0.0012576087800407324, 0.0012574566729612472, 0.0012573140321632192, 0.0012571834091042202, 0.0012570616497679116, 0.001256948421202131, 0.0012568404965925249, 0.0012567379893685584, 0.001256640710904367, 0.0012565491029258918, 0.0012564635744281843, 0.0012563832725740304, 0.001256307969799091, 0.0012562376016291552, 0.001256171151290393, 0.0012561090413216716, 0.001256050543601757, 0.0012559955650169087, 0.0012559440449021137, 0.001255895686563135, 0.001255850356536945, 0.0012558089783425515, 0.0012557701865939233]\n"
     ]
    },
    {
     "data": {
      "application/vnd.jupyter.widget-view+json": {
       "model_id": "352455a129fc4b899458b76c899b3a96",
       "version_major": 2,
       "version_minor": 0
      },
      "text/plain": [
       "0it [00:00, ?it/s]"
      ]
     },
     "metadata": {},
     "output_type": "display_data"
    },
    {
     "name": "stdout",
     "output_type": "stream",
     "text": [
      "Loss of train: 0.00115\n",
      "Loss of val: 0.00126\n",
      "Loss of test: 0.00120\n",
      "Loss of gw_test: 0.00100\n",
      "[0.0015465710629384921, 0.001508588632560693, 0.001482418185945337, 0.0014401963205388358, 0.001397775532439254, 0.0013730464126005505, 0.0013572681278715218, 0.0013471571368917693, 0.0013395249238358099, 0.0013333465118350236, 0.0013264011062934986, 0.0013190153088761375, 0.0013124679933559657, 0.0013067732134180567, 0.001302309512111243, 0.0012988687438264448, 0.0012959041981491623, 0.0012933761547328276, 0.001291120459272909, 0.0012890196288932534, 0.00128700151779797, 0.0012849984390696056, 0.001282976941596877, 0.0012809703039484846, 0.0012790671203215022, 0.001277261929453966, 0.0012755339527325158, 0.0012739230671041009, 0.0012724545982364108, 0.0012711640633781991, 0.0012700037180357674, 0.0012689537391402466, 0.0012679883917467328, 0.0012671037327704777, 0.0012663040708382016, 0.0012655686414446868, 0.0012648859990771635, 0.0012642441224695678, 0.0012636345817245904, 0.0012630576527974992, 0.001262506562510159, 0.0012619964212475174, 0.0012615207073796203, 0.0012610968080634525, 0.001260835469960365, 0.0012605307068535698, 0.0012601333220982605, 0.001259760403260437, 0.0012594238055533265, 0.0012591172445048505, 0.0012588368306412025, 0.0012585800812114642, 0.0012583453402018692, 0.0012581370815865677, 0.0012579495472682786, 0.0012577719281525411, 0.0012576087800407324, 0.0012574566729612472, 0.0012573140321632192, 0.0012571834091042202, 0.0012570616497679116, 0.001256948421202131, 0.0012568404965925249, 0.0012567379893685584, 0.001256640710904367, 0.0012565491029258918, 0.0012564635744281843, 0.0012563832725740304, 0.001256307969799091, 0.0012562376016291552, 0.001256171151290393, 0.0012561090413216716, 0.001256050543601757, 0.0012559955650169087, 0.0012559440449021137, 0.001255895686563135, 0.001255850356536945, 0.0012558089783425515, 0.0012557701865939233, 0.0012557390053416872]\n"
     ]
    },
    {
     "data": {
      "application/vnd.jupyter.widget-view+json": {
       "model_id": "f551f8f1395e44ef8ba8cdd04b50873e",
       "version_major": 2,
       "version_minor": 0
      },
      "text/plain": [
       "0it [00:00, ?it/s]"
      ]
     },
     "metadata": {},
     "output_type": "display_data"
    },
    {
     "name": "stdout",
     "output_type": "stream",
     "text": [
      "Loss of train: 0.00115\n",
      "Loss of val: 0.00126\n",
      "Loss of test: 0.00120\n",
      "Loss of gw_test: 0.00100\n",
      "[0.0015465710629384921, 0.001508588632560693, 0.001482418185945337, 0.0014401963205388358, 0.001397775532439254, 0.0013730464126005505, 0.0013572681278715218, 0.0013471571368917693, 0.0013395249238358099, 0.0013333465118350236, 0.0013264011062934986, 0.0013190153088761375, 0.0013124679933559657, 0.0013067732134180567, 0.001302309512111243, 0.0012988687438264448, 0.0012959041981491623, 0.0012933761547328276, 0.001291120459272909, 0.0012890196288932534, 0.00128700151779797, 0.0012849984390696056, 0.001282976941596877, 0.0012809703039484846, 0.0012790671203215022, 0.001277261929453966, 0.0012755339527325158, 0.0012739230671041009, 0.0012724545982364108, 0.0012711640633781991, 0.0012700037180357674, 0.0012689537391402466, 0.0012679883917467328, 0.0012671037327704777, 0.0012663040708382016, 0.0012655686414446868, 0.0012648859990771635, 0.0012642441224695678, 0.0012636345817245904, 0.0012630576527974992, 0.001262506562510159, 0.0012619964212475174, 0.0012615207073796203, 0.0012610968080634525, 0.001260835469960365, 0.0012605307068535698, 0.0012601333220982605, 0.001259760403260437, 0.0012594238055533265, 0.0012591172445048505, 0.0012588368306412025, 0.0012585800812114642, 0.0012583453402018692, 0.0012581370815865677, 0.0012579495472682786, 0.0012577719281525411, 0.0012576087800407324, 0.0012574566729612472, 0.0012573140321632192, 0.0012571834091042202, 0.0012570616497679116, 0.001256948421202131, 0.0012568404965925249, 0.0012567379893685584, 0.001256640710904367, 0.0012565491029258918, 0.0012564635744281843, 0.0012563832725740304, 0.001256307969799091, 0.0012562376016291552, 0.001256171151290393, 0.0012561090413216716, 0.001256050543601757, 0.0012559955650169087, 0.0012559440449021137, 0.001255895686563135, 0.001255850356536945, 0.0012558089783425515, 0.0012557701865939233, 0.0012557390053416872, 0.0012557137142389465]\n"
     ]
    },
    {
     "data": {
      "application/vnd.jupyter.widget-view+json": {
       "model_id": "652baea5b8d54d04a021e1dcb246718e",
       "version_major": 2,
       "version_minor": 0
      },
      "text/plain": [
       "0it [00:00, ?it/s]"
      ]
     },
     "metadata": {},
     "output_type": "display_data"
    },
    {
     "name": "stdout",
     "output_type": "stream",
     "text": [
      "Loss of train: 0.00115\n",
      "Loss of val: 0.00126\n",
      "Loss of test: 0.00120\n",
      "Loss of gw_test: 0.00100\n",
      "[0.0015465710629384921, 0.001508588632560693, 0.001482418185945337, 0.0014401963205388358, 0.001397775532439254, 0.0013730464126005505, 0.0013572681278715218, 0.0013471571368917693, 0.0013395249238358099, 0.0013333465118350236, 0.0013264011062934986, 0.0013190153088761375, 0.0013124679933559657, 0.0013067732134180567, 0.001302309512111243, 0.0012988687438264448, 0.0012959041981491623, 0.0012933761547328276, 0.001291120459272909, 0.0012890196288932534, 0.00128700151779797, 0.0012849984390696056, 0.001282976941596877, 0.0012809703039484846, 0.0012790671203215022, 0.001277261929453966, 0.0012755339527325158, 0.0012739230671041009, 0.0012724545982364108, 0.0012711640633781991, 0.0012700037180357674, 0.0012689537391402466, 0.0012679883917467328, 0.0012671037327704777, 0.0012663040708382016, 0.0012655686414446868, 0.0012648859990771635, 0.0012642441224695678, 0.0012636345817245904, 0.0012630576527974992, 0.001262506562510159, 0.0012619964212475174, 0.0012615207073796203, 0.0012610968080634525, 0.001260835469960365, 0.0012605307068535698, 0.0012601333220982605, 0.001259760403260437, 0.0012594238055533265, 0.0012591172445048505, 0.0012588368306412025, 0.0012585800812114642, 0.0012583453402018692, 0.0012581370815865677, 0.0012579495472682786, 0.0012577719281525411, 0.0012576087800407324, 0.0012574566729612472, 0.0012573140321632192, 0.0012571834091042202, 0.0012570616497679116, 0.001256948421202131, 0.0012568404965925249, 0.0012567379893685584, 0.001256640710904367, 0.0012565491029258918, 0.0012564635744281843, 0.0012563832725740304, 0.001256307969799091, 0.0012562376016291552, 0.001256171151290393, 0.0012561090413216716, 0.001256050543601757, 0.0012559955650169087, 0.0012559440449021137, 0.001255895686563135, 0.001255850356536945, 0.0012558089783425515, 0.0012557701865939233, 0.0012557390053416872, 0.0012557137142389465, 0.0012556928488605093]\n"
     ]
    },
    {
     "data": {
      "application/vnd.jupyter.widget-view+json": {
       "model_id": "36ade13e11ab4458973916c07f490e96",
       "version_major": 2,
       "version_minor": 0
      },
      "text/plain": [
       "0it [00:00, ?it/s]"
      ]
     },
     "metadata": {},
     "output_type": "display_data"
    },
    {
     "name": "stdout",
     "output_type": "stream",
     "text": [
      "Loss of train: 0.00115\n",
      "Loss of val: 0.00126\n",
      "Loss of test: 0.00120\n",
      "Loss of gw_test: 0.00100\n",
      "[0.0015465710629384921, 0.001508588632560693, 0.001482418185945337, 0.0014401963205388358, 0.001397775532439254, 0.0013730464126005505, 0.0013572681278715218, 0.0013471571368917693, 0.0013395249238358099, 0.0013333465118350236, 0.0013264011062934986, 0.0013190153088761375, 0.0013124679933559657, 0.0013067732134180567, 0.001302309512111243, 0.0012988687438264448, 0.0012959041981491623, 0.0012933761547328276, 0.001291120459272909, 0.0012890196288932534, 0.00128700151779797, 0.0012849984390696056, 0.001282976941596877, 0.0012809703039484846, 0.0012790671203215022, 0.001277261929453966, 0.0012755339527325158, 0.0012739230671041009, 0.0012724545982364108, 0.0012711640633781991, 0.0012700037180357674, 0.0012689537391402466, 0.0012679883917467328, 0.0012671037327704777, 0.0012663040708382016, 0.0012655686414446868, 0.0012648859990771635, 0.0012642441224695678, 0.0012636345817245904, 0.0012630576527974992, 0.001262506562510159, 0.0012619964212475174, 0.0012615207073796203, 0.0012610968080634525, 0.001260835469960365, 0.0012605307068535698, 0.0012601333220982605, 0.001259760403260437, 0.0012594238055533265, 0.0012591172445048505, 0.0012588368306412025, 0.0012585800812114642, 0.0012583453402018692, 0.0012581370815865677, 0.0012579495472682786, 0.0012577719281525411, 0.0012576087800407324, 0.0012574566729612472, 0.0012573140321632192, 0.0012571834091042202, 0.0012570616497679116, 0.001256948421202131, 0.0012568404965925249, 0.0012567379893685584, 0.001256640710904367, 0.0012565491029258918, 0.0012564635744281843, 0.0012563832725740304, 0.001256307969799091, 0.0012562376016291552, 0.001256171151290393, 0.0012561090413216716, 0.001256050543601757, 0.0012559955650169087, 0.0012559440449021137, 0.001255895686563135, 0.001255850356536945, 0.0012558089783425515, 0.0012557701865939233, 0.0012557390053416872, 0.0012557137142389465, 0.0012556928488605093, 0.0012556745531391476]\n"
     ]
    },
    {
     "data": {
      "application/vnd.jupyter.widget-view+json": {
       "model_id": "60602146ea1a45298b11c1de98ac4c23",
       "version_major": 2,
       "version_minor": 0
      },
      "text/plain": [
       "0it [00:00, ?it/s]"
      ]
     },
     "metadata": {},
     "output_type": "display_data"
    },
    {
     "name": "stdout",
     "output_type": "stream",
     "text": [
      "Loss of train: 0.00115\n",
      "Loss of val: 0.00126\n",
      "Loss of test: 0.00120\n",
      "Loss of gw_test: 0.00100\n",
      "[0.0015465710629384921, 0.001508588632560693, 0.001482418185945337, 0.0014401963205388358, 0.001397775532439254, 0.0013730464126005505, 0.0013572681278715218, 0.0013471571368917693, 0.0013395249238358099, 0.0013333465118350236, 0.0013264011062934986, 0.0013190153088761375, 0.0013124679933559657, 0.0013067732134180567, 0.001302309512111243, 0.0012988687438264448, 0.0012959041981491623, 0.0012933761547328276, 0.001291120459272909, 0.0012890196288932534, 0.00128700151779797, 0.0012849984390696056, 0.001282976941596877, 0.0012809703039484846, 0.0012790671203215022, 0.001277261929453966, 0.0012755339527325158, 0.0012739230671041009, 0.0012724545982364108, 0.0012711640633781991, 0.0012700037180357674, 0.0012689537391402466, 0.0012679883917467328, 0.0012671037327704777, 0.0012663040708382016, 0.0012655686414446868, 0.0012648859990771635, 0.0012642441224695678, 0.0012636345817245904, 0.0012630576527974992, 0.001262506562510159, 0.0012619964212475174, 0.0012615207073796203, 0.0012610968080634525, 0.001260835469960365, 0.0012605307068535698, 0.0012601333220982605, 0.001259760403260437, 0.0012594238055533265, 0.0012591172445048505, 0.0012588368306412025, 0.0012585800812114642, 0.0012583453402018692, 0.0012581370815865677, 0.0012579495472682786, 0.0012577719281525411, 0.0012576087800407324, 0.0012574566729612472, 0.0012573140321632192, 0.0012571834091042202, 0.0012570616497679116, 0.001256948421202131, 0.0012568404965925249, 0.0012567379893685584, 0.001256640710904367, 0.0012565491029258918, 0.0012564635744281843, 0.0012563832725740304, 0.001256307969799091, 0.0012562376016291552, 0.001256171151290393, 0.0012561090413216716, 0.001256050543601757, 0.0012559955650169087, 0.0012559440449021137, 0.001255895686563135, 0.001255850356536945, 0.0012558089783425515, 0.0012557701865939233, 0.0012557390053416872, 0.0012557137142389465, 0.0012556928488605093, 0.0012556745531391476, 0.0012556611846865553]\n"
     ]
    },
    {
     "data": {
      "application/vnd.jupyter.widget-view+json": {
       "model_id": "53849c01003c48ed91f91f232dafb7d5",
       "version_major": 2,
       "version_minor": 0
      },
      "text/plain": [
       "0it [00:00, ?it/s]"
      ]
     },
     "metadata": {},
     "output_type": "display_data"
    },
    {
     "name": "stdout",
     "output_type": "stream",
     "text": [
      "Loss of train: 0.00115\n",
      "Loss of val: 0.00126\n",
      "Loss of test: 0.00120\n",
      "Loss of gw_test: 0.00100\n",
      "[0.0015465710629384921, 0.001508588632560693, 0.001482418185945337, 0.0014401963205388358, 0.001397775532439254, 0.0013730464126005505, 0.0013572681278715218, 0.0013471571368917693, 0.0013395249238358099, 0.0013333465118350236, 0.0013264011062934986, 0.0013190153088761375, 0.0013124679933559657, 0.0013067732134180567, 0.001302309512111243, 0.0012988687438264448, 0.0012959041981491623, 0.0012933761547328276, 0.001291120459272909, 0.0012890196288932534, 0.00128700151779797, 0.0012849984390696056, 0.001282976941596877, 0.0012809703039484846, 0.0012790671203215022, 0.001277261929453966, 0.0012755339527325158, 0.0012739230671041009, 0.0012724545982364108, 0.0012711640633781991, 0.0012700037180357674, 0.0012689537391402466, 0.0012679883917467328, 0.0012671037327704777, 0.0012663040708382016, 0.0012655686414446868, 0.0012648859990771635, 0.0012642441224695678, 0.0012636345817245904, 0.0012630576527974992, 0.001262506562510159, 0.0012619964212475174, 0.0012615207073796203, 0.0012610968080634525, 0.001260835469960365, 0.0012605307068535698, 0.0012601333220982605, 0.001259760403260437, 0.0012594238055533265, 0.0012591172445048505, 0.0012588368306412025, 0.0012585800812114642, 0.0012583453402018692, 0.0012581370815865677, 0.0012579495472682786, 0.0012577719281525411, 0.0012576087800407324, 0.0012574566729612472, 0.0012573140321632192, 0.0012571834091042202, 0.0012570616497679116, 0.001256948421202131, 0.0012568404965925249, 0.0012567379893685584, 0.001256640710904367, 0.0012565491029258918, 0.0012564635744281843, 0.0012563832725740304, 0.001256307969799091, 0.0012562376016291552, 0.001256171151290393, 0.0012561090413216716, 0.001256050543601757, 0.0012559955650169087, 0.0012559440449021137, 0.001255895686563135, 0.001255850356536945, 0.0012558089783425515, 0.0012557701865939233, 0.0012557390053416872, 0.0012557137142389465, 0.0012556928488605093, 0.0012556745531391476, 0.0012556611846865553, 0.0012556522014678976]\n"
     ]
    },
    {
     "data": {
      "application/vnd.jupyter.widget-view+json": {
       "model_id": "307f9b8a08ea4724b85970250dfe8dbb",
       "version_major": 2,
       "version_minor": 0
      },
      "text/plain": [
       "0it [00:00, ?it/s]"
      ]
     },
     "metadata": {},
     "output_type": "display_data"
    },
    {
     "name": "stdout",
     "output_type": "stream",
     "text": [
      "Loss of train: 0.00115\n",
      "Loss of val: 0.00126\n",
      "Loss of test: 0.00120\n",
      "Loss of gw_test: 0.00100\n",
      "[0.0015465710629384921, 0.001508588632560693, 0.001482418185945337, 0.0014401963205388358, 0.001397775532439254, 0.0013730464126005505, 0.0013572681278715218, 0.0013471571368917693, 0.0013395249238358099, 0.0013333465118350236, 0.0013264011062934986, 0.0013190153088761375, 0.0013124679933559657, 0.0013067732134180567, 0.001302309512111243, 0.0012988687438264448, 0.0012959041981491623, 0.0012933761547328276, 0.001291120459272909, 0.0012890196288932534, 0.00128700151779797, 0.0012849984390696056, 0.001282976941596877, 0.0012809703039484846, 0.0012790671203215022, 0.001277261929453966, 0.0012755339527325158, 0.0012739230671041009, 0.0012724545982364108, 0.0012711640633781991, 0.0012700037180357674, 0.0012689537391402466, 0.0012679883917467328, 0.0012671037327704777, 0.0012663040708382016, 0.0012655686414446868, 0.0012648859990771635, 0.0012642441224695678, 0.0012636345817245904, 0.0012630576527974992, 0.001262506562510159, 0.0012619964212475174, 0.0012615207073796203, 0.0012610968080634525, 0.001260835469960365, 0.0012605307068535698, 0.0012601333220982605, 0.001259760403260437, 0.0012594238055533265, 0.0012591172445048505, 0.0012588368306412025, 0.0012585800812114642, 0.0012583453402018692, 0.0012581370815865677, 0.0012579495472682786, 0.0012577719281525411, 0.0012576087800407324, 0.0012574566729612472, 0.0012573140321632192, 0.0012571834091042202, 0.0012570616497679116, 0.001256948421202131, 0.0012568404965925249, 0.0012567379893685584, 0.001256640710904367, 0.0012565491029258918, 0.0012564635744281843, 0.0012563832725740304, 0.001256307969799091, 0.0012562376016291552, 0.001256171151290393, 0.0012561090413216716, 0.001256050543601757, 0.0012559955650169087, 0.0012559440449021137, 0.001255895686563135, 0.001255850356536945, 0.0012558089783425515, 0.0012557701865939233, 0.0012557390053416872, 0.0012557137142389465, 0.0012556928488605093, 0.0012556745531391476, 0.0012556611846865553, 0.0012556522014678976, 0.0012556469556372703]\n"
     ]
    },
    {
     "data": {
      "application/vnd.jupyter.widget-view+json": {
       "model_id": "58c43c32d5a54b58a68474e05db9c118",
       "version_major": 2,
       "version_minor": 0
      },
      "text/plain": [
       "0it [00:00, ?it/s]"
      ]
     },
     "metadata": {},
     "output_type": "display_data"
    },
    {
     "name": "stdout",
     "output_type": "stream",
     "text": [
      "Loss of train: 0.00115\n",
      "Loss of val: 0.00126\n",
      "Loss of test: 0.00120\n",
      "Loss of gw_test: 0.00100\n",
      "[0.0015465710629384921, 0.001508588632560693, 0.001482418185945337, 0.0014401963205388358, 0.001397775532439254, 0.0013730464126005505, 0.0013572681278715218, 0.0013471571368917693, 0.0013395249238358099, 0.0013333465118350236, 0.0013264011062934986, 0.0013190153088761375, 0.0013124679933559657, 0.0013067732134180567, 0.001302309512111243, 0.0012988687438264448, 0.0012959041981491623, 0.0012933761547328276, 0.001291120459272909, 0.0012890196288932534, 0.00128700151779797, 0.0012849984390696056, 0.001282976941596877, 0.0012809703039484846, 0.0012790671203215022, 0.001277261929453966, 0.0012755339527325158, 0.0012739230671041009, 0.0012724545982364108, 0.0012711640633781991, 0.0012700037180357674, 0.0012689537391402466, 0.0012679883917467328, 0.0012671037327704777, 0.0012663040708382016, 0.0012655686414446868, 0.0012648859990771635, 0.0012642441224695678, 0.0012636345817245904, 0.0012630576527974992, 0.001262506562510159, 0.0012619964212475174, 0.0012615207073796203, 0.0012610968080634525, 0.001260835469960365, 0.0012605307068535698, 0.0012601333220982605, 0.001259760403260437, 0.0012594238055533265, 0.0012591172445048505, 0.0012588368306412025, 0.0012585800812114642, 0.0012583453402018692, 0.0012581370815865677, 0.0012579495472682786, 0.0012577719281525411, 0.0012576087800407324, 0.0012574566729612472, 0.0012573140321632192, 0.0012571834091042202, 0.0012570616497679116, 0.001256948421202131, 0.0012568404965925249, 0.0012567379893685584, 0.001256640710904367, 0.0012565491029258918, 0.0012564635744281843, 0.0012563832725740304, 0.001256307969799091, 0.0012562376016291552, 0.001256171151290393, 0.0012561090413216716, 0.001256050543601757, 0.0012559955650169087, 0.0012559440449021137, 0.001255895686563135, 0.001255850356536945, 0.0012558089783425515, 0.0012557701865939233, 0.0012557390053416872, 0.0012557137142389465, 0.0012556928488605093, 0.0012556745531391476, 0.0012556611846865553, 0.0012556522014678976, 0.0012556469556372703, 0.0012556451270809206]\n"
     ]
    },
    {
     "data": {
      "application/vnd.jupyter.widget-view+json": {
       "model_id": "d6c973b741d3427e9026a09fbcb76101",
       "version_major": 2,
       "version_minor": 0
      },
      "text/plain": [
       "0it [00:00, ?it/s]"
      ]
     },
     "metadata": {},
     "output_type": "display_data"
    },
    {
     "name": "stdout",
     "output_type": "stream",
     "text": [
      "Loss of train: 0.00115\n",
      "Loss of val: 0.00126\n",
      "Loss of test: 0.00120\n",
      "Loss of gw_test: 0.00100\n",
      "[0.0015465710629384921, 0.001508588632560693, 0.001482418185945337, 0.0014401963205388358, 0.001397775532439254, 0.0013730464126005505, 0.0013572681278715218, 0.0013471571368917693, 0.0013395249238358099, 0.0013333465118350236, 0.0013264011062934986, 0.0013190153088761375, 0.0013124679933559657, 0.0013067732134180567, 0.001302309512111243, 0.0012988687438264448, 0.0012959041981491623, 0.0012933761547328276, 0.001291120459272909, 0.0012890196288932534, 0.00128700151779797, 0.0012849984390696056, 0.001282976941596877, 0.0012809703039484846, 0.0012790671203215022, 0.001277261929453966, 0.0012755339527325158, 0.0012739230671041009, 0.0012724545982364108, 0.0012711640633781991, 0.0012700037180357674, 0.0012689537391402466, 0.0012679883917467328, 0.0012671037327704777, 0.0012663040708382016, 0.0012655686414446868, 0.0012648859990771635, 0.0012642441224695678, 0.0012636345817245904, 0.0012630576527974992, 0.001262506562510159, 0.0012619964212475174, 0.0012615207073796203, 0.0012610968080634525, 0.001260835469960365, 0.0012605307068535698, 0.0012601333220982605, 0.001259760403260437, 0.0012594238055533265, 0.0012591172445048505, 0.0012588368306412025, 0.0012585800812114642, 0.0012583453402018692, 0.0012581370815865677, 0.0012579495472682786, 0.0012577719281525411, 0.0012576087800407324, 0.0012574566729612472, 0.0012573140321632192, 0.0012571834091042202, 0.0012570616497679116, 0.001256948421202131, 0.0012568404965925249, 0.0012567379893685584, 0.001256640710904367, 0.0012565491029258918, 0.0012564635744281843, 0.0012563832725740304, 0.001256307969799091, 0.0012562376016291552, 0.001256171151290393, 0.0012561090413216716, 0.001256050543601757, 0.0012559955650169087, 0.0012559440449021137, 0.001255895686563135, 0.001255850356536945, 0.0012558089783425515, 0.0012557701865939233, 0.0012557390053416872, 0.0012557137142389465, 0.0012556928488605093, 0.0012556745531391476, 0.0012556611846865553, 0.0012556522014678976, 0.0012556469556372703, 0.0012556451270809206, 0.0012556464096521555]\n",
      "Break at 87\n",
      "{'f1': 2, 'f2': 5, 'f3': 5, 'f4': 3, 'f5': 4}\n",
      "AUROC of val: 0.95091\n",
      "AUROC of test: 0.94571\n",
      "AUROC of gw_test: 0.95009\n"
     ]
    },
    {
     "data": {
      "application/vnd.jupyter.widget-view+json": {
       "model_id": "7171ea16bafc4fd09d8660fcb7d334cd",
       "version_major": 2,
       "version_minor": 0
      },
      "text/plain": [
       "0it [00:00, ?it/s]"
      ]
     },
     "metadata": {},
     "output_type": "display_data"
    },
    {
     "name": "stdout",
     "output_type": "stream",
     "text": [
      "Loss of train: 0.00134\n",
      "Loss of val: 0.00143\n",
      "Loss of test: 0.00129\n",
      "Loss of gw_test: 0.00110\n",
      "[0.0014259382666058547]\n"
     ]
    },
    {
     "data": {
      "application/vnd.jupyter.widget-view+json": {
       "model_id": "4534e2d1909e4ed0ba36fd1249ba3a96",
       "version_major": 2,
       "version_minor": 0
      },
      "text/plain": [
       "0it [00:00, ?it/s]"
      ]
     },
     "metadata": {},
     "output_type": "display_data"
    },
    {
     "name": "stdout",
     "output_type": "stream",
     "text": [
      "Loss of train: 0.00127\n",
      "Loss of val: 0.00137\n",
      "Loss of test: 0.00121\n",
      "Loss of gw_test: 0.00104\n",
      "[0.0014259382666058547, 0.0013692639748724932]\n"
     ]
    },
    {
     "data": {
      "application/vnd.jupyter.widget-view+json": {
       "model_id": "96fd4b19fd6f4bfa8bafddea875b540e",
       "version_major": 2,
       "version_minor": 0
      },
      "text/plain": [
       "0it [00:00, ?it/s]"
      ]
     },
     "metadata": {},
     "output_type": "display_data"
    },
    {
     "name": "stdout",
     "output_type": "stream",
     "text": [
      "Loss of train: 0.00123\n",
      "Loss of val: 0.00134\n",
      "Loss of test: 0.00117\n",
      "Loss of gw_test: 0.00102\n",
      "[0.0014259382666058547, 0.0013692639748724932, 0.001342424750807741]\n"
     ]
    },
    {
     "data": {
      "application/vnd.jupyter.widget-view+json": {
       "model_id": "94a9ea3e77264a32a50fb6f9a46985ac",
       "version_major": 2,
       "version_minor": 0
      },
      "text/plain": [
       "0it [00:00, ?it/s]"
      ]
     },
     "metadata": {},
     "output_type": "display_data"
    },
    {
     "name": "stdout",
     "output_type": "stream",
     "text": [
      "Loss of train: 0.00121\n",
      "Loss of val: 0.00133\n",
      "Loss of test: 0.00115\n",
      "Loss of gw_test: 0.00101\n",
      "[0.0014259382666058547, 0.0013692639748724932, 0.001342424750807741, 0.0013338214108166095]\n"
     ]
    },
    {
     "data": {
      "application/vnd.jupyter.widget-view+json": {
       "model_id": "6a38d17faf04419d8e8001234f119712",
       "version_major": 2,
       "version_minor": 0
      },
      "text/plain": [
       "0it [00:00, ?it/s]"
      ]
     },
     "metadata": {},
     "output_type": "display_data"
    },
    {
     "name": "stdout",
     "output_type": "stream",
     "text": [
      "Loss of train: 0.00122\n",
      "Loss of val: 0.00136\n",
      "Loss of test: 0.00117\n",
      "Loss of gw_test: 0.00104\n",
      "[0.0014259382666058547, 0.0013692639748724932, 0.001342424750807741, 0.0013338214108166095, 0.0013584362617551041]\n",
      "Break at 4\n",
      "{'f1': 2, 'f2': 5, 'f3': 5, 'f4': 3, 'f5': 5}\n",
      "AUROC of val: 0.94454\n",
      "AUROC of test: 0.94758\n",
      "AUROC of gw_test: 0.94496\n"
     ]
    },
    {
     "data": {
      "application/vnd.jupyter.widget-view+json": {
       "model_id": "78fda4c207a648c6b2816053f5025011",
       "version_major": 2,
       "version_minor": 0
      },
      "text/plain": [
       "0it [00:00, ?it/s]"
      ]
     },
     "metadata": {},
     "output_type": "display_data"
    },
    {
     "name": "stdout",
     "output_type": "stream",
     "text": [
      "Loss of train: 0.00136\n",
      "Loss of val: 0.00145\n",
      "Loss of test: 0.00133\n",
      "Loss of gw_test: 0.00110\n",
      "[0.0014509363824473963]\n"
     ]
    },
    {
     "data": {
      "application/vnd.jupyter.widget-view+json": {
       "model_id": "db22d513392f441da573252adced7351",
       "version_major": 2,
       "version_minor": 0
      },
      "text/plain": [
       "0it [00:00, ?it/s]"
      ]
     },
     "metadata": {},
     "output_type": "display_data"
    },
    {
     "name": "stdout",
     "output_type": "stream",
     "text": [
      "Loss of train: 0.00129\n",
      "Loss of val: 0.00137\n",
      "Loss of test: 0.00124\n",
      "Loss of gw_test: 0.00105\n",
      "[0.0014509363824473963, 0.0013711690365754057]\n"
     ]
    },
    {
     "data": {
      "application/vnd.jupyter.widget-view+json": {
       "model_id": "a1f8c19e54db42a287c931589a5a5779",
       "version_major": 2,
       "version_minor": 0
      },
      "text/plain": [
       "0it [00:00, ?it/s]"
      ]
     },
     "metadata": {},
     "output_type": "display_data"
    },
    {
     "name": "stdout",
     "output_type": "stream",
     "text": [
      "Loss of train: 0.00127\n",
      "Loss of val: 0.00134\n",
      "Loss of test: 0.00121\n",
      "Loss of gw_test: 0.00104\n",
      "[0.0014509363824473963, 0.0013711690365754057, 0.0013448244287500397]\n"
     ]
    },
    {
     "data": {
      "application/vnd.jupyter.widget-view+json": {
       "model_id": "b4b80386dfeb4be29f91b78083e7b2b4",
       "version_major": 2,
       "version_minor": 0
      },
      "text/plain": [
       "0it [00:00, ?it/s]"
      ]
     },
     "metadata": {},
     "output_type": "display_data"
    },
    {
     "name": "stdout",
     "output_type": "stream",
     "text": [
      "Loss of train: 0.00126\n",
      "Loss of val: 0.00134\n",
      "Loss of test: 0.00120\n",
      "Loss of gw_test: 0.00104\n",
      "[0.0014509363824473963, 0.0013711690365754057, 0.0013448244287500397, 0.0013356346914341385]\n"
     ]
    },
    {
     "data": {
      "application/vnd.jupyter.widget-view+json": {
       "model_id": "e25f184f69e14988898adee7a42ba472",
       "version_major": 2,
       "version_minor": 0
      },
      "text/plain": [
       "0it [00:00, ?it/s]"
      ]
     },
     "metadata": {},
     "output_type": "display_data"
    },
    {
     "name": "stdout",
     "output_type": "stream",
     "text": [
      "Loss of train: 0.00125\n",
      "Loss of val: 0.00133\n",
      "Loss of test: 0.00120\n",
      "Loss of gw_test: 0.00104\n",
      "[0.0014509363824473963, 0.0013711690365754057, 0.0013448244287500397, 0.0013356346914341385, 0.0013297375744915811]\n"
     ]
    },
    {
     "data": {
      "application/vnd.jupyter.widget-view+json": {
       "model_id": "30c1b263369c423f8d9e79b2c16b06c3",
       "version_major": 2,
       "version_minor": 0
      },
      "text/plain": [
       "0it [00:00, ?it/s]"
      ]
     },
     "metadata": {},
     "output_type": "display_data"
    },
    {
     "name": "stdout",
     "output_type": "stream",
     "text": [
      "Loss of train: 0.00124\n",
      "Loss of val: 0.00132\n",
      "Loss of test: 0.00119\n",
      "Loss of gw_test: 0.00103\n",
      "[0.0014509363824473963, 0.0013711690365754057, 0.0013448244287500397, 0.0013356346914341385, 0.0013297375744915811, 0.0013242755719919935]\n"
     ]
    },
    {
     "data": {
      "application/vnd.jupyter.widget-view+json": {
       "model_id": "46cfcd233a934b5dae8460c676541bee",
       "version_major": 2,
       "version_minor": 0
      },
      "text/plain": [
       "0it [00:00, ?it/s]"
      ]
     },
     "metadata": {},
     "output_type": "display_data"
    },
    {
     "name": "stdout",
     "output_type": "stream",
     "text": [
      "Loss of train: 0.00123\n",
      "Loss of val: 0.00132\n",
      "Loss of test: 0.00119\n",
      "Loss of gw_test: 0.00103\n",
      "[0.0014509363824473963, 0.0013711690365754057, 0.0013448244287500397, 0.0013356346914341385, 0.0013297375744915811, 0.0013242755719919935, 0.001318724655886986]\n"
     ]
    },
    {
     "data": {
      "application/vnd.jupyter.widget-view+json": {
       "model_id": "57bb5a0d507f4e8c839ecd82a58a0112",
       "version_major": 2,
       "version_minor": 0
      },
      "text/plain": [
       "0it [00:00, ?it/s]"
      ]
     },
     "metadata": {},
     "output_type": "display_data"
    },
    {
     "name": "stdout",
     "output_type": "stream",
     "text": [
      "Loss of train: 0.00122\n",
      "Loss of val: 0.00131\n",
      "Loss of test: 0.00118\n",
      "Loss of gw_test: 0.00102\n",
      "[0.0014509363824473963, 0.0013711690365754057, 0.0013448244287500397, 0.0013356346914341385, 0.0013297375744915811, 0.0013242755719919935, 0.001318724655886986, 0.0013136232054507474]\n"
     ]
    },
    {
     "data": {
      "application/vnd.jupyter.widget-view+json": {
       "model_id": "b9de70e59c7c4411a2a5fd24daca7813",
       "version_major": 2,
       "version_minor": 0
      },
      "text/plain": [
       "0it [00:00, ?it/s]"
      ]
     },
     "metadata": {},
     "output_type": "display_data"
    },
    {
     "name": "stdout",
     "output_type": "stream",
     "text": [
      "Loss of train: 0.00121\n",
      "Loss of val: 0.00131\n",
      "Loss of test: 0.00118\n",
      "Loss of gw_test: 0.00102\n",
      "[0.0014509363824473963, 0.0013711690365754057, 0.0013448244287500397, 0.0013356346914341385, 0.0013297375744915811, 0.0013242755719919935, 0.001318724655886986, 0.0013136232054507474, 0.0013057464219601478]\n"
     ]
    },
    {
     "data": {
      "application/vnd.jupyter.widget-view+json": {
       "model_id": "59f430585945453ebe1239f5956aed56",
       "version_major": 2,
       "version_minor": 0
      },
      "text/plain": [
       "0it [00:00, ?it/s]"
      ]
     },
     "metadata": {},
     "output_type": "display_data"
    },
    {
     "name": "stdout",
     "output_type": "stream",
     "text": [
      "Loss of train: 0.00121\n",
      "Loss of val: 0.00130\n",
      "Loss of test: 0.00117\n",
      "Loss of gw_test: 0.00102\n",
      "[0.0014509363824473963, 0.0013711690365754057, 0.0013448244287500397, 0.0013356346914341385, 0.0013297375744915811, 0.0013242755719919935, 0.001318724655886986, 0.0013136232054507474, 0.0013057464219601478, 0.0013005614053277427]\n"
     ]
    },
    {
     "data": {
      "application/vnd.jupyter.widget-view+json": {
       "model_id": "81fa5284ab474b3a9fdea0ac7121acc5",
       "version_major": 2,
       "version_minor": 0
      },
      "text/plain": [
       "0it [00:00, ?it/s]"
      ]
     },
     "metadata": {},
     "output_type": "display_data"
    },
    {
     "name": "stdout",
     "output_type": "stream",
     "text": [
      "Loss of train: 0.00120\n",
      "Loss of val: 0.00130\n",
      "Loss of test: 0.00117\n",
      "Loss of gw_test: 0.00101\n",
      "[0.0014509363824473963, 0.0013711690365754057, 0.0013448244287500397, 0.0013356346914341385, 0.0013297375744915811, 0.0013242755719919935, 0.001318724655886986, 0.0013136232054507474, 0.0013057464219601478, 0.0013005614053277427, 0.0012978259012526466]\n"
     ]
    },
    {
     "data": {
      "application/vnd.jupyter.widget-view+json": {
       "model_id": "94579e66de0540ebb1b43be98bcd68e7",
       "version_major": 2,
       "version_minor": 0
      },
      "text/plain": [
       "0it [00:00, ?it/s]"
      ]
     },
     "metadata": {},
     "output_type": "display_data"
    },
    {
     "name": "stdout",
     "output_type": "stream",
     "text": [
      "Loss of train: 0.00120\n",
      "Loss of val: 0.00129\n",
      "Loss of test: 0.00117\n",
      "Loss of gw_test: 0.00101\n",
      "[0.0014509363824473963, 0.0013711690365754057, 0.0013448244287500397, 0.0013356346914341385, 0.0013297375744915811, 0.0013242755719919935, 0.001318724655886986, 0.0013136232054507474, 0.0013057464219601478, 0.0013005614053277427, 0.0012978259012526466, 0.0012937163755520147]\n"
     ]
    },
    {
     "data": {
      "application/vnd.jupyter.widget-view+json": {
       "model_id": "b1c34351268341b6b6d7574fdb30da8f",
       "version_major": 2,
       "version_minor": 0
      },
      "text/plain": [
       "0it [00:00, ?it/s]"
      ]
     },
     "metadata": {},
     "output_type": "display_data"
    },
    {
     "name": "stdout",
     "output_type": "stream",
     "text": [
      "Loss of train: 0.00119\n",
      "Loss of val: 0.00129\n",
      "Loss of test: 0.00117\n",
      "Loss of gw_test: 0.00101\n",
      "[0.0014509363824473963, 0.0013711690365754057, 0.0013448244287500397, 0.0013356346914341385, 0.0013297375744915811, 0.0013242755719919935, 0.001318724655886986, 0.0013136232054507474, 0.0013057464219601478, 0.0013005614053277427, 0.0012978259012526466, 0.0012937163755520147, 0.0012933151711582039]\n"
     ]
    },
    {
     "data": {
      "application/vnd.jupyter.widget-view+json": {
       "model_id": "36cbb293d3d04a549a6a85870ac2e598",
       "version_major": 2,
       "version_minor": 0
      },
      "text/plain": [
       "0it [00:00, ?it/s]"
      ]
     },
     "metadata": {},
     "output_type": "display_data"
    },
    {
     "name": "stdout",
     "output_type": "stream",
     "text": [
      "Loss of train: 0.00119\n",
      "Loss of val: 0.00129\n",
      "Loss of test: 0.00117\n",
      "Loss of gw_test: 0.00101\n",
      "[0.0014509363824473963, 0.0013711690365754057, 0.0013448244287500397, 0.0013356346914341385, 0.0013297375744915811, 0.0013242755719919935, 0.001318724655886986, 0.0013136232054507474, 0.0013057464219601478, 0.0013005614053277427, 0.0012978259012526466, 0.0012937163755520147, 0.0012933151711582039, 0.001292725557741269]\n"
     ]
    },
    {
     "data": {
      "application/vnd.jupyter.widget-view+json": {
       "model_id": "d5af484cddb047fdb63e128565985a5d",
       "version_major": 2,
       "version_minor": 0
      },
      "text/plain": [
       "0it [00:00, ?it/s]"
      ]
     },
     "metadata": {},
     "output_type": "display_data"
    },
    {
     "name": "stdout",
     "output_type": "stream",
     "text": [
      "Loss of train: 0.00119\n",
      "Loss of val: 0.00129\n",
      "Loss of test: 0.00117\n",
      "Loss of gw_test: 0.00101\n",
      "[0.0014509363824473963, 0.0013711690365754057, 0.0013448244287500397, 0.0013356346914341385, 0.0013297375744915811, 0.0013242755719919935, 0.001318724655886986, 0.0013136232054507474, 0.0013057464219601478, 0.0013005614053277427, 0.0012978259012526466, 0.0012937163755520147, 0.0012933151711582039, 0.001292725557741269, 0.00129081869358207]\n"
     ]
    },
    {
     "data": {
      "application/vnd.jupyter.widget-view+json": {
       "model_id": "d390f169f04042c5a63e86a3aa2f2ae1",
       "version_major": 2,
       "version_minor": 0
      },
      "text/plain": [
       "0it [00:00, ?it/s]"
      ]
     },
     "metadata": {},
     "output_type": "display_data"
    },
    {
     "name": "stdout",
     "output_type": "stream",
     "text": [
      "Loss of train: 0.00119\n",
      "Loss of val: 0.00129\n",
      "Loss of test: 0.00117\n",
      "Loss of gw_test: 0.00101\n",
      "[0.0014509363824473963, 0.0013711690365754057, 0.0013448244287500397, 0.0013356346914341385, 0.0013297375744915811, 0.0013242755719919935, 0.001318724655886986, 0.0013136232054507474, 0.0013057464219601478, 0.0013005614053277427, 0.0012978259012526466, 0.0012937163755520147, 0.0012933151711582039, 0.001292725557741269, 0.00129081869358207, 0.0012873148288872268]\n"
     ]
    },
    {
     "data": {
      "application/vnd.jupyter.widget-view+json": {
       "model_id": "962ec2cba6ff4a45b0e5a0cd93335a3d",
       "version_major": 2,
       "version_minor": 0
      },
      "text/plain": [
       "0it [00:00, ?it/s]"
      ]
     },
     "metadata": {},
     "output_type": "display_data"
    },
    {
     "name": "stdout",
     "output_type": "stream",
     "text": [
      "Loss of train: 0.00118\n",
      "Loss of val: 0.00128\n",
      "Loss of test: 0.00116\n",
      "Loss of gw_test: 0.00100\n",
      "[0.0014509363824473963, 0.0013711690365754057, 0.0013448244287500397, 0.0013356346914341385, 0.0013297375744915811, 0.0013242755719919935, 0.001318724655886986, 0.0013136232054507474, 0.0013057464219601478, 0.0013005614053277427, 0.0012978259012526466, 0.0012937163755520147, 0.0012933151711582039, 0.001292725557741269, 0.00129081869358207, 0.0012873148288872268, 0.001283868401121063]\n"
     ]
    },
    {
     "data": {
      "application/vnd.jupyter.widget-view+json": {
       "model_id": "955caa5557fd44998d18cd53702176ba",
       "version_major": 2,
       "version_minor": 0
      },
      "text/plain": [
       "0it [00:00, ?it/s]"
      ]
     },
     "metadata": {},
     "output_type": "display_data"
    },
    {
     "name": "stdout",
     "output_type": "stream",
     "text": [
      "Loss of train: 0.00118\n",
      "Loss of val: 0.00128\n",
      "Loss of test: 0.00116\n",
      "Loss of gw_test: 0.00100\n",
      "[0.0014509363824473963, 0.0013711690365754057, 0.0013448244287500397, 0.0013356346914341385, 0.0013297375744915811, 0.0013242755719919935, 0.001318724655886986, 0.0013136232054507474, 0.0013057464219601478, 0.0013005614053277427, 0.0012978259012526466, 0.0012937163755520147, 0.0012933151711582039, 0.001292725557741269, 0.00129081869358207, 0.0012873148288872268, 0.001283868401121063, 0.0012817246235804864]\n"
     ]
    },
    {
     "data": {
      "application/vnd.jupyter.widget-view+json": {
       "model_id": "42ad8c3ea8254660a6305a2e83f55717",
       "version_major": 2,
       "version_minor": 0
      },
      "text/plain": [
       "0it [00:00, ?it/s]"
      ]
     },
     "metadata": {},
     "output_type": "display_data"
    },
    {
     "name": "stdout",
     "output_type": "stream",
     "text": [
      "Loss of train: 0.00118\n",
      "Loss of val: 0.00128\n",
      "Loss of test: 0.00116\n",
      "Loss of gw_test: 0.00099\n",
      "[0.0014509363824473963, 0.0013711690365754057, 0.0013448244287500397, 0.0013356346914341385, 0.0013297375744915811, 0.0013242755719919935, 0.001318724655886986, 0.0013136232054507474, 0.0013057464219601478, 0.0013005614053277427, 0.0012978259012526466, 0.0012937163755520147, 0.0012933151711582039, 0.001292725557741269, 0.00129081869358207, 0.0012873148288872268, 0.001283868401121063, 0.0012817246235804864, 0.0012781011672654305]\n"
     ]
    },
    {
     "data": {
      "application/vnd.jupyter.widget-view+json": {
       "model_id": "aade1705c03d4046a682a8d732ed129e",
       "version_major": 2,
       "version_minor": 0
      },
      "text/plain": [
       "0it [00:00, ?it/s]"
      ]
     },
     "metadata": {},
     "output_type": "display_data"
    },
    {
     "name": "stdout",
     "output_type": "stream",
     "text": [
      "Loss of train: 0.00117\n",
      "Loss of val: 0.00128\n",
      "Loss of test: 0.00115\n",
      "Loss of gw_test: 0.00099\n",
      "[0.0014509363824473963, 0.0013711690365754057, 0.0013448244287500397, 0.0013356346914341385, 0.0013297375744915811, 0.0013242755719919935, 0.001318724655886986, 0.0013136232054507474, 0.0013057464219601478, 0.0013005614053277427, 0.0012978259012526466, 0.0012937163755520147, 0.0012933151711582039, 0.001292725557741269, 0.00129081869358207, 0.0012873148288872268, 0.001283868401121063, 0.0012817246235804864, 0.0012781011672654305, 0.001275901548991417]\n"
     ]
    },
    {
     "data": {
      "application/vnd.jupyter.widget-view+json": {
       "model_id": "359bf7bb28634895badfe73d6d0a21df",
       "version_major": 2,
       "version_minor": 0
      },
      "text/plain": [
       "0it [00:00, ?it/s]"
      ]
     },
     "metadata": {},
     "output_type": "display_data"
    },
    {
     "name": "stdout",
     "output_type": "stream",
     "text": [
      "Loss of train: 0.00117\n",
      "Loss of val: 0.00127\n",
      "Loss of test: 0.00115\n",
      "Loss of gw_test: 0.00099\n",
      "[0.0014509363824473963, 0.0013711690365754057, 0.0013448244287500397, 0.0013356346914341385, 0.0013297375744915811, 0.0013242755719919935, 0.001318724655886986, 0.0013136232054507474, 0.0013057464219601478, 0.0013005614053277427, 0.0012978259012526466, 0.0012937163755520147, 0.0012933151711582039, 0.001292725557741269, 0.00129081869358207, 0.0012873148288872268, 0.001283868401121063, 0.0012817246235804864, 0.0012781011672654305, 0.001275901548991417, 0.0012740493441498017]\n"
     ]
    },
    {
     "data": {
      "application/vnd.jupyter.widget-view+json": {
       "model_id": "aef35c56f96445d4b6f7a896dfd66a91",
       "version_major": 2,
       "version_minor": 0
      },
      "text/plain": [
       "0it [00:00, ?it/s]"
      ]
     },
     "metadata": {},
     "output_type": "display_data"
    },
    {
     "name": "stdout",
     "output_type": "stream",
     "text": [
      "Loss of train: 0.00116\n",
      "Loss of val: 0.00127\n",
      "Loss of test: 0.00115\n",
      "Loss of gw_test: 0.00099\n",
      "[0.0014509363824473963, 0.0013711690365754057, 0.0013448244287500397, 0.0013356346914341385, 0.0013297375744915811, 0.0013242755719919935, 0.001318724655886986, 0.0013136232054507474, 0.0013057464219601478, 0.0013005614053277427, 0.0012978259012526466, 0.0012937163755520147, 0.0012933151711582039, 0.001292725557741269, 0.00129081869358207, 0.0012873148288872268, 0.001283868401121063, 0.0012817246235804864, 0.0012781011672654305, 0.001275901548991417, 0.0012740493441498017, 0.0012724799531079556]\n"
     ]
    },
    {
     "data": {
      "application/vnd.jupyter.widget-view+json": {
       "model_id": "2d0c3499eb30421baa066a162f2257b3",
       "version_major": 2,
       "version_minor": 0
      },
      "text/plain": [
       "0it [00:00, ?it/s]"
      ]
     },
     "metadata": {},
     "output_type": "display_data"
    },
    {
     "name": "stdout",
     "output_type": "stream",
     "text": [
      "Loss of train: 0.00116\n",
      "Loss of val: 0.00127\n",
      "Loss of test: 0.00115\n",
      "Loss of gw_test: 0.00098\n",
      "[0.0014509363824473963, 0.0013711690365754057, 0.0013448244287500397, 0.0013356346914341385, 0.0013297375744915811, 0.0013242755719919935, 0.001318724655886986, 0.0013136232054507474, 0.0013057464219601478, 0.0013005614053277427, 0.0012978259012526466, 0.0012937163755520147, 0.0012933151711582039, 0.001292725557741269, 0.00129081869358207, 0.0012873148288872268, 0.001283868401121063, 0.0012817246235804864, 0.0012781011672654305, 0.001275901548991417, 0.0012740493441498017, 0.0012724799531079556, 0.0012727990067755372]\n",
      "Break at 22\n",
      "{'f1': 2, 'f2': 5, 'f3': 5, 'f4': 4, 'f5': 2}\n",
      "AUROC of val: 0.94935\n",
      "AUROC of test: 0.94861\n",
      "AUROC of gw_test: 0.94982\n"
     ]
    },
    {
     "data": {
      "application/vnd.jupyter.widget-view+json": {
       "model_id": "2d1825ea2f624a0f96499c9a2f1b6aff",
       "version_major": 2,
       "version_minor": 0
      },
      "text/plain": [
       "0it [00:00, ?it/s]"
      ]
     },
     "metadata": {},
     "output_type": "display_data"
    },
    {
     "name": "stdout",
     "output_type": "stream",
     "text": [
      "Loss of train: 0.00146\n",
      "Loss of val: 0.00158\n",
      "Loss of test: 0.00143\n",
      "Loss of gw_test: 0.00123\n",
      "[0.0015818103712674876]\n"
     ]
    },
    {
     "data": {
      "application/vnd.jupyter.widget-view+json": {
       "model_id": "1c8a094d1c914238a2a0d2e36d869cc3",
       "version_major": 2,
       "version_minor": 0
      },
      "text/plain": [
       "0it [00:00, ?it/s]"
      ]
     },
     "metadata": {},
     "output_type": "display_data"
    },
    {
     "name": "stdout",
     "output_type": "stream",
     "text": [
      "Loss of train: 0.00140\n",
      "Loss of val: 0.00150\n",
      "Loss of test: 0.00134\n",
      "Loss of gw_test: 0.00118\n",
      "[0.0015818103712674876, 0.0015010133222991382]\n"
     ]
    },
    {
     "data": {
      "application/vnd.jupyter.widget-view+json": {
       "model_id": "d8179e8295994f6c823afd57980c9ff1",
       "version_major": 2,
       "version_minor": 0
      },
      "text/plain": [
       "0it [00:00, ?it/s]"
      ]
     },
     "metadata": {},
     "output_type": "display_data"
    },
    {
     "name": "stdout",
     "output_type": "stream",
     "text": [
      "Loss of train: 0.00138\n",
      "Loss of val: 0.00147\n",
      "Loss of test: 0.00132\n",
      "Loss of gw_test: 0.00117\n",
      "[0.0015818103712674876, 0.0015010133222991382, 0.0014687293086562228]\n"
     ]
    },
    {
     "data": {
      "application/vnd.jupyter.widget-view+json": {
       "model_id": "04144c6936c343a9aac9f69eb4515823",
       "version_major": 2,
       "version_minor": 0
      },
      "text/plain": [
       "0it [00:00, ?it/s]"
      ]
     },
     "metadata": {},
     "output_type": "display_data"
    },
    {
     "name": "stdout",
     "output_type": "stream",
     "text": [
      "Loss of train: 0.00137\n",
      "Loss of val: 0.00145\n",
      "Loss of test: 0.00130\n",
      "Loss of gw_test: 0.00116\n",
      "[0.0015818103712674876, 0.0015010133222991382, 0.0014687293086562228, 0.0014452752398482517]\n"
     ]
    },
    {
     "data": {
      "application/vnd.jupyter.widget-view+json": {
       "model_id": "4498e584d85e43fb9dbeff6be229079e",
       "version_major": 2,
       "version_minor": 0
      },
      "text/plain": [
       "0it [00:00, ?it/s]"
      ]
     },
     "metadata": {},
     "output_type": "display_data"
    },
    {
     "name": "stdout",
     "output_type": "stream",
     "text": [
      "Loss of train: 0.00135\n",
      "Loss of val: 0.00142\n",
      "Loss of test: 0.00129\n",
      "Loss of gw_test: 0.00114\n",
      "[0.0015818103712674876, 0.0015010133222991382, 0.0014687293086562228, 0.0014452752398482517, 0.0014215955983481732]\n"
     ]
    },
    {
     "data": {
      "application/vnd.jupyter.widget-view+json": {
       "model_id": "0cadef288dde4eda8e0d3f2055b6ee52",
       "version_major": 2,
       "version_minor": 0
      },
      "text/plain": [
       "0it [00:00, ?it/s]"
      ]
     },
     "metadata": {},
     "output_type": "display_data"
    },
    {
     "name": "stdout",
     "output_type": "stream",
     "text": [
      "Loss of train: 0.00131\n",
      "Loss of val: 0.00138\n",
      "Loss of test: 0.00126\n",
      "Loss of gw_test: 0.00111\n",
      "[0.0015818103712674876, 0.0015010133222991382, 0.0014687293086562228, 0.0014452752398482517, 0.0014215955983481732, 0.0013838932429564392]\n"
     ]
    },
    {
     "data": {
      "application/vnd.jupyter.widget-view+json": {
       "model_id": "c035ef9cba064d5884499e28d0803cd2",
       "version_major": 2,
       "version_minor": 0
      },
      "text/plain": [
       "0it [00:00, ?it/s]"
      ]
     },
     "metadata": {},
     "output_type": "display_data"
    },
    {
     "name": "stdout",
     "output_type": "stream",
     "text": [
      "Loss of train: 0.00128\n",
      "Loss of val: 0.00135\n",
      "Loss of test: 0.00123\n",
      "Loss of gw_test: 0.00108\n",
      "[0.0015818103712674876, 0.0015010133222991382, 0.0014687293086562228, 0.0014452752398482517, 0.0014215955983481732, 0.0013838932429564392, 0.0013527667795507625]\n"
     ]
    },
    {
     "data": {
      "application/vnd.jupyter.widget-view+json": {
       "model_id": "e60a5137f53243d6908279857c91e2fc",
       "version_major": 2,
       "version_minor": 0
      },
      "text/plain": [
       "0it [00:00, ?it/s]"
      ]
     },
     "metadata": {},
     "output_type": "display_data"
    },
    {
     "name": "stdout",
     "output_type": "stream",
     "text": [
      "Loss of train: 0.00126\n",
      "Loss of val: 0.00133\n",
      "Loss of test: 0.00121\n",
      "Loss of gw_test: 0.00106\n",
      "[0.0015818103712674876, 0.0015010133222991382, 0.0014687293086562228, 0.0014452752398482517, 0.0014215955983481732, 0.0013838932429564392, 0.0013527667795507625, 0.001334914225136563]\n"
     ]
    },
    {
     "data": {
      "application/vnd.jupyter.widget-view+json": {
       "model_id": "882d2c2ea98f4a4eb90d412038bca9ad",
       "version_major": 2,
       "version_minor": 0
      },
      "text/plain": [
       "0it [00:00, ?it/s]"
      ]
     },
     "metadata": {},
     "output_type": "display_data"
    },
    {
     "name": "stdout",
     "output_type": "stream",
     "text": [
      "Loss of train: 0.00125\n",
      "Loss of val: 0.00132\n",
      "Loss of test: 0.00120\n",
      "Loss of gw_test: 0.00104\n",
      "[0.0015818103712674876, 0.0015010133222991382, 0.0014687293086562228, 0.0014452752398482517, 0.0014215955983481732, 0.0013838932429564392, 0.0013527667795507625, 0.001334914225136563, 0.001322060053135971]\n"
     ]
    },
    {
     "data": {
      "application/vnd.jupyter.widget-view+json": {
       "model_id": "c495eaa6ad6248d2a5a8a1f681e0b43a",
       "version_major": 2,
       "version_minor": 0
      },
      "text/plain": [
       "0it [00:00, ?it/s]"
      ]
     },
     "metadata": {},
     "output_type": "display_data"
    },
    {
     "name": "stdout",
     "output_type": "stream",
     "text": [
      "Loss of train: 0.00123\n",
      "Loss of val: 0.00131\n",
      "Loss of test: 0.00120\n",
      "Loss of gw_test: 0.00103\n",
      "[0.0015818103712674876, 0.0015010133222991382, 0.0014687293086562228, 0.0014452752398482517, 0.0014215955983481732, 0.0013838932429564392, 0.0013527667795507625, 0.001334914225136563, 0.001322060053135971, 0.0013097093379601024]\n"
     ]
    },
    {
     "data": {
      "application/vnd.jupyter.widget-view+json": {
       "model_id": "f1663b9f606b4ca0b253d2fb6cf641cb",
       "version_major": 2,
       "version_minor": 0
      },
      "text/plain": [
       "0it [00:00, ?it/s]"
      ]
     },
     "metadata": {},
     "output_type": "display_data"
    },
    {
     "name": "stdout",
     "output_type": "stream",
     "text": [
      "Loss of train: 0.00122\n",
      "Loss of val: 0.00130\n",
      "Loss of test: 0.00119\n",
      "Loss of gw_test: 0.00103\n",
      "[0.0015818103712674876, 0.0015010133222991382, 0.0014687293086562228, 0.0014452752398482517, 0.0014215955983481732, 0.0013838932429564392, 0.0013527667795507625, 0.001334914225136563, 0.001322060053135971, 0.0013097093379601024, 0.0012971485435131426]\n"
     ]
    },
    {
     "data": {
      "application/vnd.jupyter.widget-view+json": {
       "model_id": "02690863dd4e4c1099eb6fe6507a990f",
       "version_major": 2,
       "version_minor": 0
      },
      "text/plain": [
       "0it [00:00, ?it/s]"
      ]
     },
     "metadata": {},
     "output_type": "display_data"
    },
    {
     "name": "stdout",
     "output_type": "stream",
     "text": [
      "Loss of train: 0.00121\n",
      "Loss of val: 0.00129\n",
      "Loss of test: 0.00119\n",
      "Loss of gw_test: 0.00102\n",
      "[0.0015818103712674876, 0.0015010133222991382, 0.0014687293086562228, 0.0014452752398482517, 0.0014215955983481732, 0.0013838932429564392, 0.0013527667795507625, 0.001334914225136563, 0.001322060053135971, 0.0013097093379601024, 0.0012971485435131426, 0.001285724493320264]\n"
     ]
    },
    {
     "data": {
      "application/vnd.jupyter.widget-view+json": {
       "model_id": "65b93c51468744298c169b625668c44e",
       "version_major": 2,
       "version_minor": 0
      },
      "text/plain": [
       "0it [00:00, ?it/s]"
      ]
     },
     "metadata": {},
     "output_type": "display_data"
    },
    {
     "name": "stdout",
     "output_type": "stream",
     "text": [
      "Loss of train: 0.00120\n",
      "Loss of val: 0.00128\n",
      "Loss of test: 0.00119\n",
      "Loss of gw_test: 0.00102\n",
      "[0.0015818103712674876, 0.0015010133222991382, 0.0014687293086562228, 0.0014452752398482517, 0.0014215955983481732, 0.0013838932429564392, 0.0013527667795507625, 0.001334914225136563, 0.001322060053135971, 0.0013097093379601024, 0.0012971485435131426, 0.001285724493320264, 0.0012762693581421887]\n"
     ]
    },
    {
     "data": {
      "application/vnd.jupyter.widget-view+json": {
       "model_id": "0a5ab010f6a840329150626fb506d5ea",
       "version_major": 2,
       "version_minor": 0
      },
      "text/plain": [
       "0it [00:00, ?it/s]"
      ]
     },
     "metadata": {},
     "output_type": "display_data"
    },
    {
     "name": "stdout",
     "output_type": "stream",
     "text": [
      "Loss of train: 0.00119\n",
      "Loss of val: 0.00127\n",
      "Loss of test: 0.00119\n",
      "Loss of gw_test: 0.00101\n",
      "[0.0015818103712674876, 0.0015010133222991382, 0.0014687293086562228, 0.0014452752398482517, 0.0014215955983481732, 0.0013838932429564392, 0.0013527667795507625, 0.001334914225136563, 0.001322060053135971, 0.0013097093379601024, 0.0012971485435131426, 0.001285724493320264, 0.0012762693581421887, 0.0012687440721090792]\n"
     ]
    },
    {
     "data": {
      "application/vnd.jupyter.widget-view+json": {
       "model_id": "e0693430113647bfbc6b8c2c5ba58947",
       "version_major": 2,
       "version_minor": 0
      },
      "text/plain": [
       "0it [00:00, ?it/s]"
      ]
     },
     "metadata": {},
     "output_type": "display_data"
    },
    {
     "name": "stdout",
     "output_type": "stream",
     "text": [
      "Loss of train: 0.00119\n",
      "Loss of val: 0.00126\n",
      "Loss of test: 0.00118\n",
      "Loss of gw_test: 0.00101\n",
      "[0.0015818103712674876, 0.0015010133222991382, 0.0014687293086562228, 0.0014452752398482517, 0.0014215955983481732, 0.0013838932429564392, 0.0013527667795507625, 0.001334914225136563, 0.001322060053135971, 0.0013097093379601024, 0.0012971485435131426, 0.001285724493320264, 0.0012762693581421887, 0.0012687440721090792, 0.0012622875668930052]\n"
     ]
    },
    {
     "data": {
      "application/vnd.jupyter.widget-view+json": {
       "model_id": "20506ed8374947a5a85b305a8ac51b53",
       "version_major": 2,
       "version_minor": 0
      },
      "text/plain": [
       "0it [00:00, ?it/s]"
      ]
     },
     "metadata": {},
     "output_type": "display_data"
    },
    {
     "name": "stdout",
     "output_type": "stream",
     "text": [
      "Loss of train: 0.00118\n",
      "Loss of val: 0.00126\n",
      "Loss of test: 0.00118\n",
      "Loss of gw_test: 0.00101\n",
      "[0.0015818103712674876, 0.0015010133222991382, 0.0014687293086562228, 0.0014452752398482517, 0.0014215955983481732, 0.0013838932429564392, 0.0013527667795507625, 0.001334914225136563, 0.001322060053135971, 0.0013097093379601024, 0.0012971485435131426, 0.001285724493320264, 0.0012762693581421887, 0.0012687440721090792, 0.0012622875668930052, 0.0012564193518911808]\n"
     ]
    },
    {
     "data": {
      "application/vnd.jupyter.widget-view+json": {
       "model_id": "59db733d7ba04b26abfc77518576b086",
       "version_major": 2,
       "version_minor": 0
      },
      "text/plain": [
       "0it [00:00, ?it/s]"
      ]
     },
     "metadata": {},
     "output_type": "display_data"
    },
    {
     "name": "stdout",
     "output_type": "stream",
     "text": [
      "Loss of train: 0.00117\n",
      "Loss of val: 0.00125\n",
      "Loss of test: 0.00118\n",
      "Loss of gw_test: 0.00101\n",
      "[0.0015818103712674876, 0.0015010133222991382, 0.0014687293086562228, 0.0014452752398482517, 0.0014215955983481732, 0.0013838932429564392, 0.0013527667795507625, 0.001334914225136563, 0.001322060053135971, 0.0013097093379601024, 0.0012971485435131426, 0.001285724493320264, 0.0012762693581421887, 0.0012687440721090792, 0.0012622875668930052, 0.0012564193518911808, 0.0012507153421242828]\n"
     ]
    },
    {
     "data": {
      "application/vnd.jupyter.widget-view+json": {
       "model_id": "1aab57723dd340e491c5f1af0db16b25",
       "version_major": 2,
       "version_minor": 0
      },
      "text/plain": [
       "0it [00:00, ?it/s]"
      ]
     },
     "metadata": {},
     "output_type": "display_data"
    },
    {
     "name": "stdout",
     "output_type": "stream",
     "text": [
      "Loss of train: 0.00117\n",
      "Loss of val: 0.00125\n",
      "Loss of test: 0.00117\n",
      "Loss of gw_test: 0.00101\n",
      "[0.0015818103712674876, 0.0015010133222991382, 0.0014687293086562228, 0.0014452752398482517, 0.0014215955983481732, 0.0013838932429564392, 0.0013527667795507625, 0.001334914225136563, 0.001322060053135971, 0.0013097093379601024, 0.0012971485435131426, 0.001285724493320264, 0.0012762693581421887, 0.0012687440721090792, 0.0012622875668930052, 0.0012564193518911808, 0.0012507153421242828, 0.0012461135978630831]\n"
     ]
    },
    {
     "data": {
      "application/vnd.jupyter.widget-view+json": {
       "model_id": "e651d34c76264808be4cc1bb7709e8f9",
       "version_major": 2,
       "version_minor": 0
      },
      "text/plain": [
       "0it [00:00, ?it/s]"
      ]
     },
     "metadata": {},
     "output_type": "display_data"
    },
    {
     "name": "stdout",
     "output_type": "stream",
     "text": [
      "Loss of train: 0.00116\n",
      "Loss of val: 0.00124\n",
      "Loss of test: 0.00117\n",
      "Loss of gw_test: 0.00101\n",
      "[0.0015818103712674876, 0.0015010133222991382, 0.0014687293086562228, 0.0014452752398482517, 0.0014215955983481732, 0.0013838932429564392, 0.0013527667795507625, 0.001334914225136563, 0.001322060053135971, 0.0013097093379601024, 0.0012971485435131426, 0.001285724493320264, 0.0012762693581421887, 0.0012687440721090792, 0.0012622875668930052, 0.0012564193518911808, 0.0012507153421242828, 0.0012461135978630831, 0.0012433683049943923]\n"
     ]
    },
    {
     "data": {
      "application/vnd.jupyter.widget-view+json": {
       "model_id": "c2e44b73393143548776bcd7982a3ff5",
       "version_major": 2,
       "version_minor": 0
      },
      "text/plain": [
       "0it [00:00, ?it/s]"
      ]
     },
     "metadata": {},
     "output_type": "display_data"
    },
    {
     "name": "stdout",
     "output_type": "stream",
     "text": [
      "Loss of train: 0.00116\n",
      "Loss of val: 0.00124\n",
      "Loss of test: 0.00117\n",
      "Loss of gw_test: 0.00101\n",
      "[0.0015818103712674876, 0.0015010133222991382, 0.0014687293086562228, 0.0014452752398482517, 0.0014215955983481732, 0.0013838932429564392, 0.0013527667795507625, 0.001334914225136563, 0.001322060053135971, 0.0013097093379601024, 0.0012971485435131426, 0.001285724493320264, 0.0012762693581421887, 0.0012687440721090792, 0.0012622875668930052, 0.0012564193518911808, 0.0012507153421242828, 0.0012461135978630831, 0.0012433683049943923, 0.001242527401293461]\n"
     ]
    },
    {
     "data": {
      "application/vnd.jupyter.widget-view+json": {
       "model_id": "707f29ba55564372a9b4025bac6eee5b",
       "version_major": 2,
       "version_minor": 0
      },
      "text/plain": [
       "0it [00:00, ?it/s]"
      ]
     },
     "metadata": {},
     "output_type": "display_data"
    },
    {
     "name": "stdout",
     "output_type": "stream",
     "text": [
      "Loss of train: 0.00116\n",
      "Loss of val: 0.00124\n",
      "Loss of test: 0.00117\n",
      "Loss of gw_test: 0.00101\n",
      "[0.0015818103712674876, 0.0015010133222991382, 0.0014687293086562228, 0.0014452752398482517, 0.0014215955983481732, 0.0013838932429564392, 0.0013527667795507625, 0.001334914225136563, 0.001322060053135971, 0.0013097093379601024, 0.0012971485435131426, 0.001285724493320264, 0.0012762693581421887, 0.0012687440721090792, 0.0012622875668930052, 0.0012564193518911808, 0.0012507153421242828, 0.0012461135978630831, 0.0012433683049943923, 0.001242527401293461, 0.0012425812856507769]\n",
      "Break at 20\n",
      "{'f1': 2, 'f2': 5, 'f3': 5, 'f4': 4, 'f5': 3}\n",
      "AUROC of val: 0.95260\n",
      "AUROC of test: 0.94828\n",
      "AUROC of gw_test: 0.94989\n"
     ]
    },
    {
     "data": {
      "application/vnd.jupyter.widget-view+json": {
       "model_id": "62f3f28db10b4f9781e73a944d900da1",
       "version_major": 2,
       "version_minor": 0
      },
      "text/plain": [
       "0it [00:00, ?it/s]"
      ]
     },
     "metadata": {},
     "output_type": "display_data"
    },
    {
     "name": "stdout",
     "output_type": "stream",
     "text": [
      "Loss of train: 0.00133\n",
      "Loss of val: 0.00141\n",
      "Loss of test: 0.00127\n",
      "Loss of gw_test: 0.00109\n",
      "[0.0014134231454361918]\n"
     ]
    },
    {
     "data": {
      "application/vnd.jupyter.widget-view+json": {
       "model_id": "9815f3240b5942869b67acf0d1182e15",
       "version_major": 2,
       "version_minor": 0
      },
      "text/plain": [
       "0it [00:00, ?it/s]"
      ]
     },
     "metadata": {},
     "output_type": "display_data"
    },
    {
     "name": "stdout",
     "output_type": "stream",
     "text": [
      "Loss of train: 0.00126\n",
      "Loss of val: 0.00135\n",
      "Loss of test: 0.00119\n",
      "Loss of gw_test: 0.00103\n",
      "[0.0014134231454361918, 0.0013492300574152725]\n"
     ]
    },
    {
     "data": {
      "application/vnd.jupyter.widget-view+json": {
       "model_id": "bff63d79606a40d19d0f5d48d69b7ccd",
       "version_major": 2,
       "version_minor": 0
      },
      "text/plain": [
       "0it [00:00, ?it/s]"
      ]
     },
     "metadata": {},
     "output_type": "display_data"
    },
    {
     "name": "stdout",
     "output_type": "stream",
     "text": [
      "Loss of train: 0.00122\n",
      "Loss of val: 0.00133\n",
      "Loss of test: 0.00117\n",
      "Loss of gw_test: 0.00102\n",
      "[0.0014134231454361918, 0.0013492300574152725, 0.0013310305315767793]\n"
     ]
    },
    {
     "data": {
      "application/vnd.jupyter.widget-view+json": {
       "model_id": "687ed46ec4ee4256b4e0c1c882a2c938",
       "version_major": 2,
       "version_minor": 0
      },
      "text/plain": [
       "0it [00:00, ?it/s]"
      ]
     },
     "metadata": {},
     "output_type": "display_data"
    },
    {
     "name": "stdout",
     "output_type": "stream",
     "text": [
      "Loss of train: 0.00121\n",
      "Loss of val: 0.00133\n",
      "Loss of test: 0.00116\n",
      "Loss of gw_test: 0.00101\n",
      "[0.0014134231454361918, 0.0013492300574152725, 0.0013310305315767793, 0.0013251584587033872]\n"
     ]
    },
    {
     "data": {
      "application/vnd.jupyter.widget-view+json": {
       "model_id": "435b113ccb654ae2898adca0f8eb71e7",
       "version_major": 2,
       "version_minor": 0
      },
      "text/plain": [
       "0it [00:00, ?it/s]"
      ]
     },
     "metadata": {},
     "output_type": "display_data"
    },
    {
     "name": "stdout",
     "output_type": "stream",
     "text": [
      "Loss of train: 0.00120\n",
      "Loss of val: 0.00132\n",
      "Loss of test: 0.00116\n",
      "Loss of gw_test: 0.00101\n",
      "[0.0014134231454361918, 0.0013492300574152725, 0.0013310305315767793, 0.0013251584587033872, 0.001324892525437205]\n"
     ]
    },
    {
     "data": {
      "application/vnd.jupyter.widget-view+json": {
       "model_id": "b04cfd3a7f8846ee9af19959ed1d34f8",
       "version_major": 2,
       "version_minor": 0
      },
      "text/plain": [
       "0it [00:00, ?it/s]"
      ]
     },
     "metadata": {},
     "output_type": "display_data"
    },
    {
     "name": "stdout",
     "output_type": "stream",
     "text": [
      "Loss of train: 0.00119\n",
      "Loss of val: 0.00133\n",
      "Loss of test: 0.00116\n",
      "Loss of gw_test: 0.00101\n",
      "[0.0014134231454361918, 0.0013492300574152725, 0.0013310305315767793, 0.0013251584587033872, 0.001324892525437205, 0.001327972157440473]\n",
      "Break at 5\n",
      "{'f1': 2, 'f2': 5, 'f3': 5, 'f4': 4, 'f5': 4}\n",
      "AUROC of val: 0.94463\n",
      "AUROC of test: 0.94697\n",
      "AUROC of gw_test: 0.94611\n"
     ]
    },
    {
     "data": {
      "application/vnd.jupyter.widget-view+json": {
       "model_id": "dbff260b657d4b87aff4a4bb2eabb191",
       "version_major": 2,
       "version_minor": 0
      },
      "text/plain": [
       "0it [00:00, ?it/s]"
      ]
     },
     "metadata": {},
     "output_type": "display_data"
    },
    {
     "name": "stdout",
     "output_type": "stream",
     "text": [
      "Loss of train: 0.00133\n",
      "Loss of val: 0.00148\n",
      "Loss of test: 0.00129\n",
      "Loss of gw_test: 0.00109\n",
      "[0.0014802819116792694]\n"
     ]
    },
    {
     "data": {
      "application/vnd.jupyter.widget-view+json": {
       "model_id": "c50de2e9fd5143ba8c08691db27149b8",
       "version_major": 2,
       "version_minor": 0
      },
      "text/plain": [
       "0it [00:00, ?it/s]"
      ]
     },
     "metadata": {},
     "output_type": "display_data"
    },
    {
     "name": "stdout",
     "output_type": "stream",
     "text": [
      "Loss of train: 0.00128\n",
      "Loss of val: 0.00141\n",
      "Loss of test: 0.00123\n",
      "Loss of gw_test: 0.00105\n",
      "[0.0014802819116792694, 0.0014145603051750701]\n"
     ]
    },
    {
     "data": {
      "application/vnd.jupyter.widget-view+json": {
       "model_id": "94530c1e25124fc4ba326947ef447487",
       "version_major": 2,
       "version_minor": 0
      },
      "text/plain": [
       "0it [00:00, ?it/s]"
      ]
     },
     "metadata": {},
     "output_type": "display_data"
    },
    {
     "name": "stdout",
     "output_type": "stream",
     "text": [
      "Loss of train: 0.00124\n",
      "Loss of val: 0.00137\n",
      "Loss of test: 0.00119\n",
      "Loss of gw_test: 0.00103\n",
      "[0.0014802819116792694, 0.0014145603051750701, 0.0013661545172684022]\n"
     ]
    },
    {
     "data": {
      "application/vnd.jupyter.widget-view+json": {
       "model_id": "836e1c6608884387b0d63e67f40b4568",
       "version_major": 2,
       "version_minor": 0
      },
      "text/plain": [
       "0it [00:00, ?it/s]"
      ]
     },
     "metadata": {},
     "output_type": "display_data"
    },
    {
     "name": "stdout",
     "output_type": "stream",
     "text": [
      "Loss of train: 0.00122\n",
      "Loss of val: 0.00134\n",
      "Loss of test: 0.00117\n",
      "Loss of gw_test: 0.00101\n",
      "[0.0014802819116792694, 0.0014145603051750701, 0.0013661545172684022, 0.001337495654892783]\n"
     ]
    },
    {
     "data": {
      "application/vnd.jupyter.widget-view+json": {
       "model_id": "d5661a73523747139aadc3d505fd948c",
       "version_major": 2,
       "version_minor": 0
      },
      "text/plain": [
       "0it [00:00, ?it/s]"
      ]
     },
     "metadata": {},
     "output_type": "display_data"
    },
    {
     "name": "stdout",
     "output_type": "stream",
     "text": [
      "Loss of train: 0.00121\n",
      "Loss of val: 0.00132\n",
      "Loss of test: 0.00117\n",
      "Loss of gw_test: 0.00101\n",
      "[0.0014802819116792694, 0.0014145603051750701, 0.0013661545172684022, 0.001337495654892783, 0.0013175666793016807]\n"
     ]
    },
    {
     "data": {
      "application/vnd.jupyter.widget-view+json": {
       "model_id": "9310f02aab2e4493a1a0f275cb30ba4e",
       "version_major": 2,
       "version_minor": 0
      },
      "text/plain": [
       "0it [00:00, ?it/s]"
      ]
     },
     "metadata": {},
     "output_type": "display_data"
    },
    {
     "name": "stdout",
     "output_type": "stream",
     "text": [
      "Loss of train: 0.00119\n",
      "Loss of val: 0.00130\n",
      "Loss of test: 0.00116\n",
      "Loss of gw_test: 0.00099\n",
      "[0.0014802819116792694, 0.0014145603051750701, 0.0013661545172684022, 0.001337495654892783, 0.0013175666793016807, 0.0013021872225909394]\n"
     ]
    },
    {
     "data": {
      "application/vnd.jupyter.widget-view+json": {
       "model_id": "e7bb33f3c43d45ceaba00c3768557b59",
       "version_major": 2,
       "version_minor": 0
      },
      "text/plain": [
       "0it [00:00, ?it/s]"
      ]
     },
     "metadata": {},
     "output_type": "display_data"
    },
    {
     "name": "stdout",
     "output_type": "stream",
     "text": [
      "Loss of train: 0.00118\n",
      "Loss of val: 0.00129\n",
      "Loss of test: 0.00116\n",
      "Loss of gw_test: 0.00099\n",
      "[0.0014802819116792694, 0.0014145603051750701, 0.0013661545172684022, 0.001337495654892783, 0.0013175666793016807, 0.0013021872225909394, 0.0012907709366732063]\n"
     ]
    },
    {
     "data": {
      "application/vnd.jupyter.widget-view+json": {
       "model_id": "1944351bf5b346f28f7ddf4e427bf134",
       "version_major": 2,
       "version_minor": 0
      },
      "text/plain": [
       "0it [00:00, ?it/s]"
      ]
     },
     "metadata": {},
     "output_type": "display_data"
    },
    {
     "name": "stdout",
     "output_type": "stream",
     "text": [
      "Loss of train: 0.00118\n",
      "Loss of val: 0.00128\n",
      "Loss of test: 0.00116\n",
      "Loss of gw_test: 0.00098\n",
      "[0.0014802819116792694, 0.0014145603051750701, 0.0013661545172684022, 0.001337495654892783, 0.0013175666793016807, 0.0013021872225909394, 0.0012907709366732063, 0.0012819184791931057]\n"
     ]
    },
    {
     "data": {
      "application/vnd.jupyter.widget-view+json": {
       "model_id": "5fd1114a30ab4457bace3f95a8186162",
       "version_major": 2,
       "version_minor": 0
      },
      "text/plain": [
       "0it [00:00, ?it/s]"
      ]
     },
     "metadata": {},
     "output_type": "display_data"
    },
    {
     "name": "stdout",
     "output_type": "stream",
     "text": [
      "Loss of train: 0.00117\n",
      "Loss of val: 0.00128\n",
      "Loss of test: 0.00116\n",
      "Loss of gw_test: 0.00098\n",
      "[0.0014802819116792694, 0.0014145603051750701, 0.0013661545172684022, 0.001337495654892783, 0.0013175666793016807, 0.0013021872225909394, 0.0012907709366732063, 0.0012819184791931057, 0.001276935549286901]\n"
     ]
    },
    {
     "data": {
      "application/vnd.jupyter.widget-view+json": {
       "model_id": "4fd6080624be4b42ab07b18b7e4a9439",
       "version_major": 2,
       "version_minor": 0
      },
      "text/plain": [
       "0it [00:00, ?it/s]"
      ]
     },
     "metadata": {},
     "output_type": "display_data"
    },
    {
     "name": "stdout",
     "output_type": "stream",
     "text": [
      "Loss of train: 0.00117\n",
      "Loss of val: 0.00127\n",
      "Loss of test: 0.00116\n",
      "Loss of gw_test: 0.00098\n",
      "[0.0014802819116792694, 0.0014145603051750701, 0.0013661545172684022, 0.001337495654892783, 0.0013175666793016807, 0.0013021872225909394, 0.0012907709366732063, 0.0012819184791931057, 0.001276935549286901, 0.0012734340903125174]\n"
     ]
    },
    {
     "data": {
      "application/vnd.jupyter.widget-view+json": {
       "model_id": "8a4e0616989e4add9c57d8316f80a6b3",
       "version_major": 2,
       "version_minor": 0
      },
      "text/plain": [
       "0it [00:00, ?it/s]"
      ]
     },
     "metadata": {},
     "output_type": "display_data"
    },
    {
     "name": "stdout",
     "output_type": "stream",
     "text": [
      "Loss of train: 0.00117\n",
      "Loss of val: 0.00127\n",
      "Loss of test: 0.00116\n",
      "Loss of gw_test: 0.00098\n",
      "[0.0014802819116792694, 0.0014145603051750701, 0.0013661545172684022, 0.001337495654892783, 0.0013175666793016807, 0.0013021872225909394, 0.0012907709366732063, 0.0012819184791931057, 0.001276935549286901, 0.0012734340903125174, 0.0012712873146505771]\n"
     ]
    },
    {
     "data": {
      "application/vnd.jupyter.widget-view+json": {
       "model_id": "40c99bdbac084551886090d4b4684a33",
       "version_major": 2,
       "version_minor": 0
      },
      "text/plain": [
       "0it [00:00, ?it/s]"
      ]
     },
     "metadata": {},
     "output_type": "display_data"
    },
    {
     "name": "stdout",
     "output_type": "stream",
     "text": [
      "Loss of train: 0.00117\n",
      "Loss of val: 0.00127\n",
      "Loss of test: 0.00116\n",
      "Loss of gw_test: 0.00098\n",
      "[0.0014802819116792694, 0.0014145603051750701, 0.0013661545172684022, 0.001337495654892783, 0.0013175666793016807, 0.0013021872225909394, 0.0012907709366732063, 0.0012819184791931057, 0.001276935549286901, 0.0012734340903125174, 0.0012712873146505771, 0.001270026499723201]\n"
     ]
    },
    {
     "data": {
      "application/vnd.jupyter.widget-view+json": {
       "model_id": "ed93329d115c47cb9a8f0bd7440dc33a",
       "version_major": 2,
       "version_minor": 0
      },
      "text/plain": [
       "0it [00:00, ?it/s]"
      ]
     },
     "metadata": {},
     "output_type": "display_data"
    },
    {
     "name": "stdout",
     "output_type": "stream",
     "text": [
      "Loss of train: 0.00116\n",
      "Loss of val: 0.00127\n",
      "Loss of test: 0.00116\n",
      "Loss of gw_test: 0.00098\n",
      "[0.0014802819116792694, 0.0014145603051750701, 0.0013661545172684022, 0.001337495654892783, 0.0013175666793016807, 0.0013021872225909394, 0.0012907709366732063, 0.0012819184791931057, 0.001276935549286901, 0.0012734340903125174, 0.0012712873146505771, 0.001270026499723201, 0.0012695547877710066]\n"
     ]
    },
    {
     "data": {
      "application/vnd.jupyter.widget-view+json": {
       "model_id": "1ab64dcb56ab40099accf69fc6671ad9",
       "version_major": 2,
       "version_minor": 0
      },
      "text/plain": [
       "0it [00:00, ?it/s]"
      ]
     },
     "metadata": {},
     "output_type": "display_data"
    },
    {
     "name": "stdout",
     "output_type": "stream",
     "text": [
      "Loss of train: 0.00116\n",
      "Loss of val: 0.00127\n",
      "Loss of test: 0.00116\n",
      "Loss of gw_test: 0.00097\n",
      "[0.0014802819116792694, 0.0014145603051750701, 0.0013661545172684022, 0.001337495654892783, 0.0013175666793016807, 0.0013021872225909394, 0.0012907709366732063, 0.0012819184791931057, 0.001276935549286901, 0.0012734340903125174, 0.0012712873146505771, 0.001270026499723201, 0.0012695547877710066, 0.0012685841406537613]\n"
     ]
    },
    {
     "data": {
      "application/vnd.jupyter.widget-view+json": {
       "model_id": "26d75c6abb314e8493408d64ce5641cd",
       "version_major": 2,
       "version_minor": 0
      },
      "text/plain": [
       "0it [00:00, ?it/s]"
      ]
     },
     "metadata": {},
     "output_type": "display_data"
    },
    {
     "name": "stdout",
     "output_type": "stream",
     "text": [
      "Loss of train: 0.00116\n",
      "Loss of val: 0.00127\n",
      "Loss of test: 0.00116\n",
      "Loss of gw_test: 0.00097\n",
      "[0.0014802819116792694, 0.0014145603051750701, 0.0013661545172684022, 0.001337495654892783, 0.0013175666793016807, 0.0013021872225909394, 0.0012907709366732063, 0.0012819184791931057, 0.001276935549286901, 0.0012734340903125174, 0.0012712873146505771, 0.001270026499723201, 0.0012695547877710066, 0.0012685841406537613, 0.001267964972371258]\n"
     ]
    },
    {
     "data": {
      "application/vnd.jupyter.widget-view+json": {
       "model_id": "62c161409b154430a9788e65679cdb66",
       "version_major": 2,
       "version_minor": 0
      },
      "text/plain": [
       "0it [00:00, ?it/s]"
      ]
     },
     "metadata": {},
     "output_type": "display_data"
    },
    {
     "name": "stdout",
     "output_type": "stream",
     "text": [
      "Loss of train: 0.00116\n",
      "Loss of val: 0.00127\n",
      "Loss of test: 0.00116\n",
      "Loss of gw_test: 0.00098\n",
      "[0.0014802819116792694, 0.0014145603051750701, 0.0013661545172684022, 0.001337495654892783, 0.0013175666793016807, 0.0013021872225909394, 0.0012907709366732063, 0.0012819184791931057, 0.001276935549286901, 0.0012734340903125174, 0.0012712873146505771, 0.001270026499723201, 0.0012695547877710066, 0.0012685841406537613, 0.001267964972371258, 0.0012671434162947934]\n"
     ]
    },
    {
     "data": {
      "application/vnd.jupyter.widget-view+json": {
       "model_id": "b851a7e5aa4a4d52bc6220ed03589c0a",
       "version_major": 2,
       "version_minor": 0
      },
      "text/plain": [
       "0it [00:00, ?it/s]"
      ]
     },
     "metadata": {},
     "output_type": "display_data"
    },
    {
     "name": "stdout",
     "output_type": "stream",
     "text": [
      "Loss of train: 0.00116\n",
      "Loss of val: 0.00127\n",
      "Loss of test: 0.00116\n",
      "Loss of gw_test: 0.00098\n",
      "[0.0014802819116792694, 0.0014145603051750701, 0.0013661545172684022, 0.001337495654892783, 0.0013175666793016807, 0.0013021872225909394, 0.0012907709366732063, 0.0012819184791931057, 0.001276935549286901, 0.0012734340903125174, 0.0012712873146505771, 0.001270026499723201, 0.0012695547877710066, 0.0012685841406537613, 0.001267964972371258, 0.0012671434162947934, 0.00126675293747524]\n"
     ]
    },
    {
     "data": {
      "application/vnd.jupyter.widget-view+json": {
       "model_id": "67442977b4224e379ff487e2859ed9ce",
       "version_major": 2,
       "version_minor": 0
      },
      "text/plain": [
       "0it [00:00, ?it/s]"
      ]
     },
     "metadata": {},
     "output_type": "display_data"
    },
    {
     "name": "stdout",
     "output_type": "stream",
     "text": [
      "Loss of train: 0.00116\n",
      "Loss of val: 0.00127\n",
      "Loss of test: 0.00116\n",
      "Loss of gw_test: 0.00098\n",
      "[0.0014802819116792694, 0.0014145603051750701, 0.0013661545172684022, 0.001337495654892783, 0.0013175666793016807, 0.0013021872225909394, 0.0012907709366732063, 0.0012819184791931057, 0.001276935549286901, 0.0012734340903125174, 0.0012712873146505771, 0.001270026499723201, 0.0012695547877710066, 0.0012685841406537613, 0.001267964972371258, 0.0012671434162947934, 0.00126675293747524, 0.0012660974360701024]\n"
     ]
    },
    {
     "data": {
      "application/vnd.jupyter.widget-view+json": {
       "model_id": "8f00f42577044ee79c7269277e1e7874",
       "version_major": 2,
       "version_minor": 0
      },
      "text/plain": [
       "0it [00:00, ?it/s]"
      ]
     },
     "metadata": {},
     "output_type": "display_data"
    },
    {
     "name": "stdout",
     "output_type": "stream",
     "text": [
      "Loss of train: 0.00115\n",
      "Loss of val: 0.00127\n",
      "Loss of test: 0.00116\n",
      "Loss of gw_test: 0.00098\n",
      "[0.0014802819116792694, 0.0014145603051750701, 0.0013661545172684022, 0.001337495654892783, 0.0013175666793016807, 0.0013021872225909394, 0.0012907709366732063, 0.0012819184791931057, 0.001276935549286901, 0.0012734340903125174, 0.0012712873146505771, 0.001270026499723201, 0.0012695547877710066, 0.0012685841406537613, 0.001267964972371258, 0.0012671434162947934, 0.00126675293747524, 0.0012660974360701024, 0.0012659639568176535]\n"
     ]
    },
    {
     "data": {
      "application/vnd.jupyter.widget-view+json": {
       "model_id": "6f78a7fc1c214697bb855c1c26e5f210",
       "version_major": 2,
       "version_minor": 0
      },
      "text/plain": [
       "0it [00:00, ?it/s]"
      ]
     },
     "metadata": {},
     "output_type": "display_data"
    },
    {
     "name": "stdout",
     "output_type": "stream",
     "text": [
      "Loss of train: 0.00116\n",
      "Loss of val: 0.00127\n",
      "Loss of test: 0.00116\n",
      "Loss of gw_test: 0.00098\n",
      "[0.0014802819116792694, 0.0014145603051750701, 0.0013661545172684022, 0.001337495654892783, 0.0013175666793016807, 0.0013021872225909394, 0.0012907709366732063, 0.0012819184791931057, 0.001276935549286901, 0.0012734340903125174, 0.0012712873146505771, 0.001270026499723201, 0.0012695547877710066, 0.0012685841406537613, 0.001267964972371258, 0.0012671434162947934, 0.00126675293747524, 0.0012660974360701024, 0.0012659639568176535, 0.001267580018018146]\n",
      "Break at 19\n",
      "{'f1': 2, 'f2': 5, 'f3': 5, 'f4': 4, 'f5': 5}\n",
      "AUROC of val: 0.94971\n",
      "AUROC of test: 0.94915\n",
      "AUROC of gw_test: 0.95035\n"
     ]
    },
    {
     "data": {
      "application/vnd.jupyter.widget-view+json": {
       "model_id": "2d8ee60312b14eb694ed1dfc6efca897",
       "version_major": 2,
       "version_minor": 0
      },
      "text/plain": [
       "0it [00:00, ?it/s]"
      ]
     },
     "metadata": {},
     "output_type": "display_data"
    },
    {
     "name": "stdout",
     "output_type": "stream",
     "text": [
      "Loss of train: 0.00134\n",
      "Loss of val: 0.00146\n",
      "Loss of test: 0.00129\n",
      "Loss of gw_test: 0.00111\n",
      "[0.0014552185788327828]\n"
     ]
    },
    {
     "data": {
      "application/vnd.jupyter.widget-view+json": {
       "model_id": "0a5a65fb8320438083e9d8d623de94e1",
       "version_major": 2,
       "version_minor": 0
      },
      "text/plain": [
       "0it [00:00, ?it/s]"
      ]
     },
     "metadata": {},
     "output_type": "display_data"
    },
    {
     "name": "stdout",
     "output_type": "stream",
     "text": [
      "Loss of train: 0.00129\n",
      "Loss of val: 0.00140\n",
      "Loss of test: 0.00123\n",
      "Loss of gw_test: 0.00108\n",
      "[0.0014552185788327828, 0.0013976578503561291]\n"
     ]
    },
    {
     "data": {
      "application/vnd.jupyter.widget-view+json": {
       "model_id": "7a6f0e56735d46af95d6d21a7c64683e",
       "version_major": 2,
       "version_minor": 0
      },
      "text/plain": [
       "0it [00:00, ?it/s]"
      ]
     },
     "metadata": {},
     "output_type": "display_data"
    },
    {
     "name": "stdout",
     "output_type": "stream",
     "text": [
      "Loss of train: 0.00126\n",
      "Loss of val: 0.00138\n",
      "Loss of test: 0.00122\n",
      "Loss of gw_test: 0.00107\n",
      "[0.0014552185788327828, 0.0013976578503561291, 0.0013765539445659562]\n"
     ]
    },
    {
     "data": {
      "application/vnd.jupyter.widget-view+json": {
       "model_id": "2aed5b6029734c1682b73cf019772546",
       "version_major": 2,
       "version_minor": 0
      },
      "text/plain": [
       "0it [00:00, ?it/s]"
      ]
     },
     "metadata": {},
     "output_type": "display_data"
    },
    {
     "name": "stdout",
     "output_type": "stream",
     "text": [
      "Loss of train: 0.00125\n",
      "Loss of val: 0.00136\n",
      "Loss of test: 0.00121\n",
      "Loss of gw_test: 0.00106\n",
      "[0.0014552185788327828, 0.0013976578503561291, 0.0013765539445659562, 0.0013616879948974135]\n"
     ]
    },
    {
     "data": {
      "application/vnd.jupyter.widget-view+json": {
       "model_id": "9f2fd26ddd4d49f2893b13b67fd8a79a",
       "version_major": 2,
       "version_minor": 0
      },
      "text/plain": [
       "0it [00:00, ?it/s]"
      ]
     },
     "metadata": {},
     "output_type": "display_data"
    },
    {
     "name": "stdout",
     "output_type": "stream",
     "text": [
      "Loss of train: 0.00123\n",
      "Loss of val: 0.00135\n",
      "Loss of test: 0.00121\n",
      "Loss of gw_test: 0.00105\n",
      "[0.0014552185788327828, 0.0013976578503561291, 0.0013765539445659562, 0.0013616879948974135, 0.0013504656530503533]\n"
     ]
    },
    {
     "data": {
      "application/vnd.jupyter.widget-view+json": {
       "model_id": "10a6129f0098410f80d7f78498da8212",
       "version_major": 2,
       "version_minor": 0
      },
      "text/plain": [
       "0it [00:00, ?it/s]"
      ]
     },
     "metadata": {},
     "output_type": "display_data"
    },
    {
     "name": "stdout",
     "output_type": "stream",
     "text": [
      "Loss of train: 0.00122\n",
      "Loss of val: 0.00134\n",
      "Loss of test: 0.00120\n",
      "Loss of gw_test: 0.00104\n",
      "[0.0014552185788327828, 0.0013976578503561291, 0.0013765539445659562, 0.0013616879948974135, 0.0013504656530503533, 0.001339010815645659]\n"
     ]
    },
    {
     "data": {
      "application/vnd.jupyter.widget-view+json": {
       "model_id": "afd2c051cdc642b0be2cc23e2a754ed7",
       "version_major": 2,
       "version_minor": 0
      },
      "text/plain": [
       "0it [00:00, ?it/s]"
      ]
     },
     "metadata": {},
     "output_type": "display_data"
    },
    {
     "name": "stdout",
     "output_type": "stream",
     "text": [
      "Loss of train: 0.00121\n",
      "Loss of val: 0.00133\n",
      "Loss of test: 0.00120\n",
      "Loss of gw_test: 0.00103\n",
      "[0.0014552185788327828, 0.0013976578503561291, 0.0013765539445659562, 0.0013616879948974135, 0.0013504656530503533, 0.001339010815645659, 0.0013284435666319292]\n"
     ]
    },
    {
     "data": {
      "application/vnd.jupyter.widget-view+json": {
       "model_id": "afab9a798e53462e8518014892101954",
       "version_major": 2,
       "version_minor": 0
      },
      "text/plain": [
       "0it [00:00, ?it/s]"
      ]
     },
     "metadata": {},
     "output_type": "display_data"
    },
    {
     "name": "stdout",
     "output_type": "stream",
     "text": [
      "Loss of train: 0.00126\n",
      "Loss of val: 0.00140\n",
      "Loss of test: 0.00125\n",
      "Loss of gw_test: 0.00110\n",
      "[0.0014552185788327828, 0.0013976578503561291, 0.0013765539445659562, 0.0013616879948974135, 0.0013504656530503533, 0.001339010815645659, 0.0013284435666319292, 0.0013951652638056976]\n",
      "Break at 7\n",
      "{'f1': 2, 'f2': 5, 'f3': 5, 'f4': 5, 'f5': 2}\n",
      "AUROC of val: 0.94608\n",
      "AUROC of test: 0.94506\n",
      "AUROC of gw_test: 0.94712\n"
     ]
    },
    {
     "data": {
      "application/vnd.jupyter.widget-view+json": {
       "model_id": "d9336abeded642e4bb53412de593126a",
       "version_major": 2,
       "version_minor": 0
      },
      "text/plain": [
       "0it [00:00, ?it/s]"
      ]
     },
     "metadata": {},
     "output_type": "display_data"
    },
    {
     "name": "stdout",
     "output_type": "stream",
     "text": [
      "Loss of train: 0.00135\n",
      "Loss of val: 0.00145\n",
      "Loss of test: 0.00131\n",
      "Loss of gw_test: 0.00110\n",
      "[0.0014485951985568949]\n"
     ]
    },
    {
     "data": {
      "application/vnd.jupyter.widget-view+json": {
       "model_id": "903306b6fc1146728c9a048a715a2915",
       "version_major": 2,
       "version_minor": 0
      },
      "text/plain": [
       "0it [00:00, ?it/s]"
      ]
     },
     "metadata": {},
     "output_type": "display_data"
    },
    {
     "name": "stdout",
     "output_type": "stream",
     "text": [
      "Loss of train: 0.00130\n",
      "Loss of val: 0.00138\n",
      "Loss of test: 0.00125\n",
      "Loss of gw_test: 0.00106\n",
      "[0.0014485951985568949, 0.001382976969890136]\n"
     ]
    },
    {
     "data": {
      "application/vnd.jupyter.widget-view+json": {
       "model_id": "abca5978fb3d44c89ce8d2df0dac07db",
       "version_major": 2,
       "version_minor": 0
      },
      "text/plain": [
       "0it [00:00, ?it/s]"
      ]
     },
     "metadata": {},
     "output_type": "display_data"
    },
    {
     "name": "stdout",
     "output_type": "stream",
     "text": [
      "Loss of train: 0.00127\n",
      "Loss of val: 0.00134\n",
      "Loss of test: 0.00122\n",
      "Loss of gw_test: 0.00105\n",
      "[0.0014485951985568949, 0.001382976969890136, 0.001343170883625729]\n"
     ]
    },
    {
     "data": {
      "application/vnd.jupyter.widget-view+json": {
       "model_id": "dd17156041154cdd98b0e3af9cf7d7f6",
       "version_major": 2,
       "version_minor": 0
      },
      "text/plain": [
       "0it [00:00, ?it/s]"
      ]
     },
     "metadata": {},
     "output_type": "display_data"
    },
    {
     "name": "stdout",
     "output_type": "stream",
     "text": [
      "Loss of train: 0.00125\n",
      "Loss of val: 0.00132\n",
      "Loss of test: 0.00120\n",
      "Loss of gw_test: 0.00104\n",
      "[0.0014485951985568949, 0.001382976969890136, 0.001343170883625729, 0.0013197062114200153]\n"
     ]
    },
    {
     "data": {
      "application/vnd.jupyter.widget-view+json": {
       "model_id": "c7d279b76cdf466ca6158ab55a3b6967",
       "version_major": 2,
       "version_minor": 0
      },
      "text/plain": [
       "0it [00:00, ?it/s]"
      ]
     },
     "metadata": {},
     "output_type": "display_data"
    },
    {
     "name": "stdout",
     "output_type": "stream",
     "text": [
      "Loss of train: 0.00124\n",
      "Loss of val: 0.00131\n",
      "Loss of test: 0.00119\n",
      "Loss of gw_test: 0.00103\n",
      "[0.0014485951985568949, 0.001382976969890136, 0.001343170883625729, 0.0013197062114200153, 0.0013098140160039558]\n"
     ]
    },
    {
     "data": {
      "application/vnd.jupyter.widget-view+json": {
       "model_id": "d10b1b737962415d8e8f11dc9e30b5f5",
       "version_major": 2,
       "version_minor": 0
      },
      "text/plain": [
       "0it [00:00, ?it/s]"
      ]
     },
     "metadata": {},
     "output_type": "display_data"
    },
    {
     "name": "stdout",
     "output_type": "stream",
     "text": [
      "Loss of train: 0.00123\n",
      "Loss of val: 0.00131\n",
      "Loss of test: 0.00118\n",
      "Loss of gw_test: 0.00103\n",
      "[0.0014485951985568949, 0.001382976969890136, 0.001343170883625729, 0.0013197062114200153, 0.0013098140160039558, 0.0013052406381383998]\n"
     ]
    },
    {
     "data": {
      "application/vnd.jupyter.widget-view+json": {
       "model_id": "7f52251e12214896aa98252360895dd0",
       "version_major": 2,
       "version_minor": 0
      },
      "text/plain": [
       "0it [00:00, ?it/s]"
      ]
     },
     "metadata": {},
     "output_type": "display_data"
    },
    {
     "name": "stdout",
     "output_type": "stream",
     "text": [
      "Loss of train: 0.00123\n",
      "Loss of val: 0.00130\n",
      "Loss of test: 0.00118\n",
      "Loss of gw_test: 0.00102\n",
      "[0.0014485951985568949, 0.001382976969890136, 0.001343170883625729, 0.0013197062114200153, 0.0013098140160039558, 0.0013052406381383998, 0.0013018759643774983]\n"
     ]
    },
    {
     "data": {
      "application/vnd.jupyter.widget-view+json": {
       "model_id": "99393f72288f42a292d1cb6cbac9f1f7",
       "version_major": 2,
       "version_minor": 0
      },
      "text/plain": [
       "0it [00:00, ?it/s]"
      ]
     },
     "metadata": {},
     "output_type": "display_data"
    },
    {
     "name": "stdout",
     "output_type": "stream",
     "text": [
      "Loss of train: 0.00122\n",
      "Loss of val: 0.00130\n",
      "Loss of test: 0.00117\n",
      "Loss of gw_test: 0.00102\n",
      "[0.0014485951985568949, 0.001382976969890136, 0.001343170883625729, 0.0013197062114200153, 0.0013098140160039558, 0.0013052406381383998, 0.0013018759643774983, 0.001298126619554986]\n"
     ]
    },
    {
     "data": {
      "application/vnd.jupyter.widget-view+json": {
       "model_id": "57f9c25b58bf4b05905ee413fec68dd9",
       "version_major": 2,
       "version_minor": 0
      },
      "text/plain": [
       "0it [00:00, ?it/s]"
      ]
     },
     "metadata": {},
     "output_type": "display_data"
    },
    {
     "name": "stdout",
     "output_type": "stream",
     "text": [
      "Loss of train: 0.00121\n",
      "Loss of val: 0.00129\n",
      "Loss of test: 0.00117\n",
      "Loss of gw_test: 0.00101\n",
      "[0.0014485951985568949, 0.001382976969890136, 0.001343170883625729, 0.0013197062114200153, 0.0013098140160039558, 0.0013052406381383998, 0.0013018759643774983, 0.001298126619554986, 0.0012909074264621841]\n"
     ]
    },
    {
     "data": {
      "application/vnd.jupyter.widget-view+json": {
       "model_id": "5730cbd7fec44d789b48289b97514adb",
       "version_major": 2,
       "version_minor": 0
      },
      "text/plain": [
       "0it [00:00, ?it/s]"
      ]
     },
     "metadata": {},
     "output_type": "display_data"
    },
    {
     "name": "stdout",
     "output_type": "stream",
     "text": [
      "Loss of train: 0.00121\n",
      "Loss of val: 0.00129\n",
      "Loss of test: 0.00117\n",
      "Loss of gw_test: 0.00101\n",
      "[0.0014485951985568949, 0.001382976969890136, 0.001343170883625729, 0.0013197062114200153, 0.0013098140160039558, 0.0013052406381383998, 0.0013018759643774983, 0.001298126619554986, 0.0012909074264621841, 0.0012873182439042013]\n"
     ]
    },
    {
     "data": {
      "application/vnd.jupyter.widget-view+json": {
       "model_id": "b5fe9a6cbd0d40a7b0563b0774d68d1b",
       "version_major": 2,
       "version_minor": 0
      },
      "text/plain": [
       "0it [00:00, ?it/s]"
      ]
     },
     "metadata": {},
     "output_type": "display_data"
    },
    {
     "name": "stdout",
     "output_type": "stream",
     "text": [
      "Loss of train: 0.00120\n",
      "Loss of val: 0.00128\n",
      "Loss of test: 0.00117\n",
      "Loss of gw_test: 0.00101\n",
      "[0.0014485951985568949, 0.001382976969890136, 0.001343170883625729, 0.0013197062114200153, 0.0013098140160039558, 0.0013052406381383998, 0.0013018759643774983, 0.001298126619554986, 0.0012909074264621841, 0.0012873182439042013, 0.0012833248716694536]\n"
     ]
    },
    {
     "data": {
      "application/vnd.jupyter.widget-view+json": {
       "model_id": "d15bf3a421c24d7591e17d615005aaa7",
       "version_major": 2,
       "version_minor": 0
      },
      "text/plain": [
       "0it [00:00, ?it/s]"
      ]
     },
     "metadata": {},
     "output_type": "display_data"
    },
    {
     "name": "stdout",
     "output_type": "stream",
     "text": [
      "Loss of train: 0.00120\n",
      "Loss of val: 0.00128\n",
      "Loss of test: 0.00117\n",
      "Loss of gw_test: 0.00101\n",
      "[0.0014485951985568949, 0.001382976969890136, 0.001343170883625729, 0.0013197062114200153, 0.0013098140160039558, 0.0013052406381383998, 0.0013018759643774983, 0.001298126619554986, 0.0012909074264621841, 0.0012873182439042013, 0.0012833248716694536, 0.001278480369446681]\n"
     ]
    },
    {
     "data": {
      "application/vnd.jupyter.widget-view+json": {
       "model_id": "13d074b270334cdd8809420962e520e0",
       "version_major": 2,
       "version_minor": 0
      },
      "text/plain": [
       "0it [00:00, ?it/s]"
      ]
     },
     "metadata": {},
     "output_type": "display_data"
    },
    {
     "name": "stdout",
     "output_type": "stream",
     "text": [
      "Loss of train: 0.00119\n",
      "Loss of val: 0.00128\n",
      "Loss of test: 0.00117\n",
      "Loss of gw_test: 0.00100\n",
      "[0.0014485951985568949, 0.001382976969890136, 0.001343170883625729, 0.0013197062114200153, 0.0013098140160039558, 0.0013052406381383998, 0.0013018759643774983, 0.001298126619554986, 0.0012909074264621841, 0.0012873182439042013, 0.0012833248716694536, 0.001278480369446681, 0.0012776262540346206]\n"
     ]
    },
    {
     "data": {
      "application/vnd.jupyter.widget-view+json": {
       "model_id": "ce74f5efee0a486fb104f0c98ca9bc2f",
       "version_major": 2,
       "version_minor": 0
      },
      "text/plain": [
       "0it [00:00, ?it/s]"
      ]
     },
     "metadata": {},
     "output_type": "display_data"
    },
    {
     "name": "stdout",
     "output_type": "stream",
     "text": [
      "Loss of train: 0.00119\n",
      "Loss of val: 0.00128\n",
      "Loss of test: 0.00117\n",
      "Loss of gw_test: 0.00100\n",
      "[0.0014485951985568949, 0.001382976969890136, 0.001343170883625729, 0.0013197062114200153, 0.0013098140160039558, 0.0013052406381383998, 0.0013018759643774983, 0.001298126619554986, 0.0012909074264621841, 0.0012873182439042013, 0.0012833248716694536, 0.001278480369446681, 0.0012776262540346206, 0.0012758222156612458]\n"
     ]
    },
    {
     "data": {
      "application/vnd.jupyter.widget-view+json": {
       "model_id": "bfd54395637a4fa7912bcd7f850b4273",
       "version_major": 2,
       "version_minor": 0
      },
      "text/plain": [
       "0it [00:00, ?it/s]"
      ]
     },
     "metadata": {},
     "output_type": "display_data"
    },
    {
     "name": "stdout",
     "output_type": "stream",
     "text": [
      "Loss of train: 0.00119\n",
      "Loss of val: 0.00127\n",
      "Loss of test: 0.00117\n",
      "Loss of gw_test: 0.00100\n",
      "[0.0014485951985568949, 0.001382976969890136, 0.001343170883625729, 0.0013197062114200153, 0.0013098140160039558, 0.0013052406381383998, 0.0013018759643774983, 0.001298126619554986, 0.0012909074264621841, 0.0012873182439042013, 0.0012833248716694536, 0.001278480369446681, 0.0012776262540346206, 0.0012758222156612458, 0.0012735935110530765]\n"
     ]
    },
    {
     "data": {
      "application/vnd.jupyter.widget-view+json": {
       "model_id": "bd55fe89150d4407b9f2644f1b75b3d7",
       "version_major": 2,
       "version_minor": 0
      },
      "text/plain": [
       "0it [00:00, ?it/s]"
      ]
     },
     "metadata": {},
     "output_type": "display_data"
    },
    {
     "name": "stdout",
     "output_type": "stream",
     "text": [
      "Loss of train: 0.00118\n",
      "Loss of val: 0.00127\n",
      "Loss of test: 0.00117\n",
      "Loss of gw_test: 0.00100\n",
      "[0.0014485951985568949, 0.001382976969890136, 0.001343170883625729, 0.0013197062114200153, 0.0013098140160039558, 0.0013052406381383998, 0.0013018759643774983, 0.001298126619554986, 0.0012909074264621841, 0.0012873182439042013, 0.0012833248716694536, 0.001278480369446681, 0.0012776262540346206, 0.0012758222156612458, 0.0012735935110530765, 0.0012715743457973852]\n"
     ]
    },
    {
     "data": {
      "application/vnd.jupyter.widget-view+json": {
       "model_id": "fe5af396f9a14a24a59036f7aaaa8da1",
       "version_major": 2,
       "version_minor": 0
      },
      "text/plain": [
       "0it [00:00, ?it/s]"
      ]
     },
     "metadata": {},
     "output_type": "display_data"
    },
    {
     "name": "stdout",
     "output_type": "stream",
     "text": [
      "Loss of train: 0.00118\n",
      "Loss of val: 0.00127\n",
      "Loss of test: 0.00116\n",
      "Loss of gw_test: 0.00100\n",
      "[0.0014485951985568949, 0.001382976969890136, 0.001343170883625729, 0.0013197062114200153, 0.0013098140160039558, 0.0013052406381383998, 0.0013018759643774983, 0.001298126619554986, 0.0012909074264621841, 0.0012873182439042013, 0.0012833248716694536, 0.001278480369446681, 0.0012776262540346206, 0.0012758222156612458, 0.0012735935110530765, 0.0012715743457973852, 0.0012690006803163106]\n"
     ]
    },
    {
     "data": {
      "application/vnd.jupyter.widget-view+json": {
       "model_id": "3e343d1461fa40c2983606c6a5908f53",
       "version_major": 2,
       "version_minor": 0
      },
      "text/plain": [
       "0it [00:00, ?it/s]"
      ]
     },
     "metadata": {},
     "output_type": "display_data"
    },
    {
     "name": "stdout",
     "output_type": "stream",
     "text": [
      "Loss of train: 0.00118\n",
      "Loss of val: 0.00126\n",
      "Loss of test: 0.00116\n",
      "Loss of gw_test: 0.00100\n",
      "[0.0014485951985568949, 0.001382976969890136, 0.001343170883625729, 0.0013197062114200153, 0.0013098140160039558, 0.0013052406381383998, 0.0013018759643774983, 0.001298126619554986, 0.0012909074264621841, 0.0012873182439042013, 0.0012833248716694536, 0.001278480369446681, 0.0012776262540346206, 0.0012758222156612458, 0.0012735935110530765, 0.0012715743457973852, 0.0012690006803163106, 0.001264553542815285]\n"
     ]
    },
    {
     "data": {
      "application/vnd.jupyter.widget-view+json": {
       "model_id": "5da86d19d1004f6e85655daace1b81c6",
       "version_major": 2,
       "version_minor": 0
      },
      "text/plain": [
       "0it [00:00, ?it/s]"
      ]
     },
     "metadata": {},
     "output_type": "display_data"
    },
    {
     "name": "stdout",
     "output_type": "stream",
     "text": [
      "Loss of train: 0.00117\n",
      "Loss of val: 0.00126\n",
      "Loss of test: 0.00116\n",
      "Loss of gw_test: 0.00100\n",
      "[0.0014485951985568949, 0.001382976969890136, 0.001343170883625729, 0.0013197062114200153, 0.0013098140160039558, 0.0013052406381383998, 0.0013018759643774983, 0.001298126619554986, 0.0012909074264621841, 0.0012873182439042013, 0.0012833248716694536, 0.001278480369446681, 0.0012776262540346206, 0.0012758222156612458, 0.0012735935110530765, 0.0012715743457973852, 0.0012690006803163106, 0.001264553542815285, 0.0012620905695381315]\n"
     ]
    },
    {
     "data": {
      "application/vnd.jupyter.widget-view+json": {
       "model_id": "d11ffea45d54458bb5eee2ee9fb83b5c",
       "version_major": 2,
       "version_minor": 0
      },
      "text/plain": [
       "0it [00:00, ?it/s]"
      ]
     },
     "metadata": {},
     "output_type": "display_data"
    },
    {
     "name": "stdout",
     "output_type": "stream",
     "text": [
      "Loss of train: 0.00117\n",
      "Loss of val: 0.00126\n",
      "Loss of test: 0.00116\n",
      "Loss of gw_test: 0.00100\n",
      "[0.0014485951985568949, 0.001382976969890136, 0.001343170883625729, 0.0013197062114200153, 0.0013098140160039558, 0.0013052406381383998, 0.0013018759643774983, 0.001298126619554986, 0.0012909074264621841, 0.0012873182439042013, 0.0012833248716694536, 0.001278480369446681, 0.0012776262540346206, 0.0012758222156612458, 0.0012735935110530765, 0.0012715743457973852, 0.0012690006803163106, 0.001264553542815285, 0.0012620905695381315, 0.0012606673090844434]\n"
     ]
    },
    {
     "data": {
      "application/vnd.jupyter.widget-view+json": {
       "model_id": "caee78f12d4a4d9abfb30b95dec51a47",
       "version_major": 2,
       "version_minor": 0
      },
      "text/plain": [
       "0it [00:00, ?it/s]"
      ]
     },
     "metadata": {},
     "output_type": "display_data"
    },
    {
     "name": "stdout",
     "output_type": "stream",
     "text": [
      "Loss of train: 0.00117\n",
      "Loss of val: 0.00126\n",
      "Loss of test: 0.00115\n",
      "Loss of gw_test: 0.00100\n",
      "[0.0014485951985568949, 0.001382976969890136, 0.001343170883625729, 0.0013197062114200153, 0.0013098140160039558, 0.0013052406381383998, 0.0013018759643774983, 0.001298126619554986, 0.0012909074264621841, 0.0012873182439042013, 0.0012833248716694536, 0.001278480369446681, 0.0012776262540346206, 0.0012758222156612458, 0.0012735935110530765, 0.0012715743457973852, 0.0012690006803163106, 0.001264553542815285, 0.0012620905695381315, 0.0012606673090844434, 0.0012579499101297038]\n"
     ]
    },
    {
     "data": {
      "application/vnd.jupyter.widget-view+json": {
       "model_id": "ef0857e3ff914c949ce32756184135ee",
       "version_major": 2,
       "version_minor": 0
      },
      "text/plain": [
       "0it [00:00, ?it/s]"
      ]
     },
     "metadata": {},
     "output_type": "display_data"
    },
    {
     "name": "stdout",
     "output_type": "stream",
     "text": [
      "Loss of train: 0.00117\n",
      "Loss of val: 0.00126\n",
      "Loss of test: 0.00115\n",
      "Loss of gw_test: 0.00100\n",
      "[0.0014485951985568949, 0.001382976969890136, 0.001343170883625729, 0.0013197062114200153, 0.0013098140160039558, 0.0013052406381383998, 0.0013018759643774983, 0.001298126619554986, 0.0012909074264621841, 0.0012873182439042013, 0.0012833248716694536, 0.001278480369446681, 0.0012776262540346206, 0.0012758222156612458, 0.0012735935110530765, 0.0012715743457973852, 0.0012690006803163106, 0.001264553542815285, 0.0012620905695381315, 0.0012606673090844434, 0.0012579499101297038, 0.0012562597935962322]\n"
     ]
    },
    {
     "data": {
      "application/vnd.jupyter.widget-view+json": {
       "model_id": "1578943e6e89457092498b531e88c53a",
       "version_major": 2,
       "version_minor": 0
      },
      "text/plain": [
       "0it [00:00, ?it/s]"
      ]
     },
     "metadata": {},
     "output_type": "display_data"
    },
    {
     "name": "stdout",
     "output_type": "stream",
     "text": [
      "Loss of train: 0.00116\n",
      "Loss of val: 0.00125\n",
      "Loss of test: 0.00115\n",
      "Loss of gw_test: 0.00099\n",
      "[0.0014485951985568949, 0.001382976969890136, 0.001343170883625729, 0.0013197062114200153, 0.0013098140160039558, 0.0013052406381383998, 0.0013018759643774983, 0.001298126619554986, 0.0012909074264621841, 0.0012873182439042013, 0.0012833248716694536, 0.001278480369446681, 0.0012776262540346206, 0.0012758222156612458, 0.0012735935110530765, 0.0012715743457973852, 0.0012690006803163106, 0.001264553542815285, 0.0012620905695381315, 0.0012606673090844434, 0.0012579499101297038, 0.0012562597935962322, 0.0012540203260272284]\n"
     ]
    },
    {
     "data": {
      "application/vnd.jupyter.widget-view+json": {
       "model_id": "f10dadd1559a4504bcafa7e319b39457",
       "version_major": 2,
       "version_minor": 0
      },
      "text/plain": [
       "0it [00:00, ?it/s]"
      ]
     },
     "metadata": {},
     "output_type": "display_data"
    },
    {
     "name": "stdout",
     "output_type": "stream",
     "text": [
      "Loss of train: 0.00116\n",
      "Loss of val: 0.00125\n",
      "Loss of test: 0.00115\n",
      "Loss of gw_test: 0.00100\n",
      "[0.0014485951985568949, 0.001382976969890136, 0.001343170883625729, 0.0013197062114200153, 0.0013098140160039558, 0.0013052406381383998, 0.0013018759643774983, 0.001298126619554986, 0.0012909074264621841, 0.0012873182439042013, 0.0012833248716694536, 0.001278480369446681, 0.0012776262540346206, 0.0012758222156612458, 0.0012735935110530765, 0.0012715743457973852, 0.0012690006803163106, 0.001264553542815285, 0.0012620905695381315, 0.0012606673090844434, 0.0012579499101297038, 0.0012562597935962322, 0.0012540203260272284, 0.0012510904399647162]\n"
     ]
    },
    {
     "data": {
      "application/vnd.jupyter.widget-view+json": {
       "model_id": "4db107c6ad624cf09c98b8663b27346c",
       "version_major": 2,
       "version_minor": 0
      },
      "text/plain": [
       "0it [00:00, ?it/s]"
      ]
     },
     "metadata": {},
     "output_type": "display_data"
    },
    {
     "name": "stdout",
     "output_type": "stream",
     "text": [
      "Loss of train: 0.00116\n",
      "Loss of val: 0.00125\n",
      "Loss of test: 0.00115\n",
      "Loss of gw_test: 0.00099\n",
      "[0.0014485951985568949, 0.001382976969890136, 0.001343170883625729, 0.0013197062114200153, 0.0013098140160039558, 0.0013052406381383998, 0.0013018759643774983, 0.001298126619554986, 0.0012909074264621841, 0.0012873182439042013, 0.0012833248716694536, 0.001278480369446681, 0.0012776262540346206, 0.0012758222156612458, 0.0012735935110530765, 0.0012715743457973852, 0.0012690006803163106, 0.001264553542815285, 0.0012620905695381315, 0.0012606673090844434, 0.0012579499101297038, 0.0012562597935962322, 0.0012540203260272284, 0.0012510904399647162, 0.0012494671024897274]\n"
     ]
    },
    {
     "data": {
      "application/vnd.jupyter.widget-view+json": {
       "model_id": "f438606e91594e5da137a7ebf1e081c9",
       "version_major": 2,
       "version_minor": 0
      },
      "text/plain": [
       "0it [00:00, ?it/s]"
      ]
     },
     "metadata": {},
     "output_type": "display_data"
    },
    {
     "name": "stdout",
     "output_type": "stream",
     "text": [
      "Loss of train: 0.00115\n",
      "Loss of val: 0.00125\n",
      "Loss of test: 0.00115\n",
      "Loss of gw_test: 0.00099\n",
      "[0.0014485951985568949, 0.001382976969890136, 0.001343170883625729, 0.0013197062114200153, 0.0013098140160039558, 0.0013052406381383998, 0.0013018759643774983, 0.001298126619554986, 0.0012909074264621841, 0.0012873182439042013, 0.0012833248716694536, 0.001278480369446681, 0.0012776262540346206, 0.0012758222156612458, 0.0012735935110530765, 0.0012715743457973852, 0.0012690006803163106, 0.001264553542815285, 0.0012620905695381315, 0.0012606673090844434, 0.0012579499101297038, 0.0012562597935962322, 0.0012540203260272284, 0.0012510904399647162, 0.0012494671024897274, 0.0012497010774271844]\n",
      "Break at 25\n",
      "{'f1': 2, 'f2': 5, 'f3': 5, 'f4': 5, 'f5': 3}\n",
      "AUROC of val: 0.95131\n",
      "AUROC of test: 0.94959\n",
      "AUROC of gw_test: 0.94925\n"
     ]
    },
    {
     "data": {
      "application/vnd.jupyter.widget-view+json": {
       "model_id": "24e5dd0957144633a7375ea10184230c",
       "version_major": 2,
       "version_minor": 0
      },
      "text/plain": [
       "0it [00:00, ?it/s]"
      ]
     },
     "metadata": {},
     "output_type": "display_data"
    },
    {
     "name": "stdout",
     "output_type": "stream",
     "text": [
      "Loss of train: 0.00138\n",
      "Loss of val: 0.00148\n",
      "Loss of test: 0.00130\n",
      "Loss of gw_test: 0.00116\n",
      "[0.0014779021547163484]\n"
     ]
    },
    {
     "data": {
      "application/vnd.jupyter.widget-view+json": {
       "model_id": "593b0e7dba4b4fa6ba00be46ea696d54",
       "version_major": 2,
       "version_minor": 0
      },
      "text/plain": [
       "0it [00:00, ?it/s]"
      ]
     },
     "metadata": {},
     "output_type": "display_data"
    },
    {
     "name": "stdout",
     "output_type": "stream",
     "text": [
      "Loss of train: 0.00121\n",
      "Loss of val: 0.00130\n",
      "Loss of test: 0.00119\n",
      "Loss of gw_test: 0.00100\n",
      "[0.0014779021547163484, 0.0013047647761350064]\n"
     ]
    },
    {
     "data": {
      "application/vnd.jupyter.widget-view+json": {
       "model_id": "7476633dd6e341899ef3f80921600873",
       "version_major": 2,
       "version_minor": 0
      },
      "text/plain": [
       "0it [00:00, ?it/s]"
      ]
     },
     "metadata": {},
     "output_type": "display_data"
    },
    {
     "name": "stdout",
     "output_type": "stream",
     "text": [
      "Loss of train: 0.00117\n",
      "Loss of val: 0.00128\n",
      "Loss of test: 0.00115\n",
      "Loss of gw_test: 0.00097\n",
      "[0.0014779021547163484, 0.0013047647761350064, 0.001280602583114685]\n"
     ]
    },
    {
     "data": {
      "application/vnd.jupyter.widget-view+json": {
       "model_id": "b397b9a89c484ad4b70c83a5a5962f8a",
       "version_major": 2,
       "version_minor": 0
      },
      "text/plain": [
       "0it [00:00, ?it/s]"
      ]
     },
     "metadata": {},
     "output_type": "display_data"
    },
    {
     "name": "stdout",
     "output_type": "stream",
     "text": [
      "Loss of train: 0.00116\n",
      "Loss of val: 0.00127\n",
      "Loss of test: 0.00115\n",
      "Loss of gw_test: 0.00096\n",
      "[0.0014779021547163484, 0.0013047647761350064, 0.001280602583114685, 0.0012696624207653073]\n"
     ]
    },
    {
     "data": {
      "application/vnd.jupyter.widget-view+json": {
       "model_id": "09bad00e246642d6bbbbc472cc1a7120",
       "version_major": 2,
       "version_minor": 0
      },
      "text/plain": [
       "0it [00:00, ?it/s]"
      ]
     },
     "metadata": {},
     "output_type": "display_data"
    },
    {
     "name": "stdout",
     "output_type": "stream",
     "text": [
      "Loss of train: 0.00116\n",
      "Loss of val: 0.00127\n",
      "Loss of test: 0.00114\n",
      "Loss of gw_test: 0.00096\n",
      "[0.0014779021547163484, 0.0013047647761350064, 0.001280602583114685, 0.0012696624207653073, 0.0012650711151187461]\n"
     ]
    },
    {
     "data": {
      "application/vnd.jupyter.widget-view+json": {
       "model_id": "88cfe03ddc4645748b1be76a3a8edb16",
       "version_major": 2,
       "version_minor": 0
      },
      "text/plain": [
       "0it [00:00, ?it/s]"
      ]
     },
     "metadata": {},
     "output_type": "display_data"
    },
    {
     "name": "stdout",
     "output_type": "stream",
     "text": [
      "Loss of train: 0.00115\n",
      "Loss of val: 0.00126\n",
      "Loss of test: 0.00114\n",
      "Loss of gw_test: 0.00096\n",
      "[0.0014779021547163484, 0.0013047647761350064, 0.001280602583114685, 0.0012696624207653073, 0.0012650711151187461, 0.0012622470303903935]\n"
     ]
    },
    {
     "data": {
      "application/vnd.jupyter.widget-view+json": {
       "model_id": "93e7488b79c24807b2e3f7e846e1a7dc",
       "version_major": 2,
       "version_minor": 0
      },
      "text/plain": [
       "0it [00:00, ?it/s]"
      ]
     },
     "metadata": {},
     "output_type": "display_data"
    },
    {
     "name": "stdout",
     "output_type": "stream",
     "text": [
      "Loss of train: 0.00115\n",
      "Loss of val: 0.00126\n",
      "Loss of test: 0.00114\n",
      "Loss of gw_test: 0.00096\n",
      "[0.0014779021547163484, 0.0013047647761350064, 0.001280602583114685, 0.0012696624207653073, 0.0012650711151187461, 0.0012622470303903935, 0.0012604647113613216]\n"
     ]
    },
    {
     "data": {
      "application/vnd.jupyter.widget-view+json": {
       "model_id": "e1da21ce77574ab8b9c060f216011538",
       "version_major": 2,
       "version_minor": 0
      },
      "text/plain": [
       "0it [00:00, ?it/s]"
      ]
     },
     "metadata": {},
     "output_type": "display_data"
    },
    {
     "name": "stdout",
     "output_type": "stream",
     "text": [
      "Loss of train: 0.00115\n",
      "Loss of val: 0.00126\n",
      "Loss of test: 0.00114\n",
      "Loss of gw_test: 0.00096\n",
      "[0.0014779021547163484, 0.0013047647761350064, 0.001280602583114685, 0.0012696624207653073, 0.0012650711151187461, 0.0012622470303903935, 0.0012604647113613216, 0.0012601017462412786]\n"
     ]
    },
    {
     "data": {
      "application/vnd.jupyter.widget-view+json": {
       "model_id": "114d4ceafaa74c2f89a3cead3a2e4c01",
       "version_major": 2,
       "version_minor": 0
      },
      "text/plain": [
       "0it [00:00, ?it/s]"
      ]
     },
     "metadata": {},
     "output_type": "display_data"
    },
    {
     "name": "stdout",
     "output_type": "stream",
     "text": [
      "Loss of train: 0.00115\n",
      "Loss of val: 0.00126\n",
      "Loss of test: 0.00114\n",
      "Loss of gw_test: 0.00096\n",
      "[0.0014779021547163484, 0.0013047647761350064, 0.001280602583114685, 0.0012696624207653073, 0.0012650711151187461, 0.0012622470303903935, 0.0012604647113613216, 0.0012601017462412786, 0.0012597411354880567]\n"
     ]
    },
    {
     "data": {
      "application/vnd.jupyter.widget-view+json": {
       "model_id": "7226a28ee0734e038f00784ff7e55d0e",
       "version_major": 2,
       "version_minor": 0
      },
      "text/plain": [
       "0it [00:00, ?it/s]"
      ]
     },
     "metadata": {},
     "output_type": "display_data"
    },
    {
     "name": "stdout",
     "output_type": "stream",
     "text": [
      "Loss of train: 0.00115\n",
      "Loss of val: 0.00126\n",
      "Loss of test: 0.00114\n",
      "Loss of gw_test: 0.00096\n",
      "[0.0014779021547163484, 0.0013047647761350064, 0.001280602583114685, 0.0012696624207653073, 0.0012650711151187461, 0.0012622470303903935, 0.0012604647113613216, 0.0012601017462412786, 0.0012597411354880567, 0.0012593315143175098]\n"
     ]
    },
    {
     "data": {
      "application/vnd.jupyter.widget-view+json": {
       "model_id": "1d6f6685feeb4f469ca87380ae0cd725",
       "version_major": 2,
       "version_minor": 0
      },
      "text/plain": [
       "0it [00:00, ?it/s]"
      ]
     },
     "metadata": {},
     "output_type": "display_data"
    },
    {
     "name": "stdout",
     "output_type": "stream",
     "text": [
      "Loss of train: 0.00114\n",
      "Loss of val: 0.00126\n",
      "Loss of test: 0.00114\n",
      "Loss of gw_test: 0.00096\n",
      "[0.0014779021547163484, 0.0013047647761350064, 0.001280602583114685, 0.0012696624207653073, 0.0012650711151187461, 0.0012622470303903935, 0.0012604647113613216, 0.0012601017462412786, 0.0012597411354880567, 0.0012593315143175098, 0.001258381534218218]\n"
     ]
    },
    {
     "data": {
      "application/vnd.jupyter.widget-view+json": {
       "model_id": "9ac325c5475b46ed9bc0dfdb293d76cd",
       "version_major": 2,
       "version_minor": 0
      },
      "text/plain": [
       "0it [00:00, ?it/s]"
      ]
     },
     "metadata": {},
     "output_type": "display_data"
    },
    {
     "name": "stdout",
     "output_type": "stream",
     "text": [
      "Loss of train: 0.00114\n",
      "Loss of val: 0.00126\n",
      "Loss of test: 0.00114\n",
      "Loss of gw_test: 0.00096\n",
      "[0.0014779021547163484, 0.0013047647761350064, 0.001280602583114685, 0.0012696624207653073, 0.0012650711151187461, 0.0012622470303903935, 0.0012604647113613216, 0.0012601017462412786, 0.0012597411354880567, 0.0012593315143175098, 0.001258381534218218, 0.0012579257021090632]\n"
     ]
    },
    {
     "data": {
      "application/vnd.jupyter.widget-view+json": {
       "model_id": "97c6779247034fd4a23383f44b2edc72",
       "version_major": 2,
       "version_minor": 0
      },
      "text/plain": [
       "0it [00:00, ?it/s]"
      ]
     },
     "metadata": {},
     "output_type": "display_data"
    },
    {
     "name": "stdout",
     "output_type": "stream",
     "text": [
      "Loss of train: 0.00114\n",
      "Loss of val: 0.00126\n",
      "Loss of test: 0.00114\n",
      "Loss of gw_test: 0.00096\n",
      "[0.0014779021547163484, 0.0013047647761350064, 0.001280602583114685, 0.0012696624207653073, 0.0012650711151187461, 0.0012622470303903935, 0.0012604647113613216, 0.0012601017462412786, 0.0012597411354880567, 0.0012593315143175098, 0.001258381534218218, 0.0012579257021090632, 0.0012568531476460708]\n"
     ]
    },
    {
     "data": {
      "application/vnd.jupyter.widget-view+json": {
       "model_id": "8067be71847e4ca18b0a1ea1053b2449",
       "version_major": 2,
       "version_minor": 0
      },
      "text/plain": [
       "0it [00:00, ?it/s]"
      ]
     },
     "metadata": {},
     "output_type": "display_data"
    },
    {
     "name": "stdout",
     "output_type": "stream",
     "text": [
      "Loss of train: 0.00114\n",
      "Loss of val: 0.00126\n",
      "Loss of test: 0.00114\n",
      "Loss of gw_test: 0.00096\n",
      "[0.0014779021547163484, 0.0013047647761350064, 0.001280602583114685, 0.0012696624207653073, 0.0012650711151187461, 0.0012622470303903935, 0.0012604647113613216, 0.0012601017462412786, 0.0012597411354880567, 0.0012593315143175098, 0.001258381534218218, 0.0012579257021090632, 0.0012568531476460708, 0.0012560785523559883]\n"
     ]
    },
    {
     "data": {
      "application/vnd.jupyter.widget-view+json": {
       "model_id": "1134612aab10447c8ec61b776672b3ce",
       "version_major": 2,
       "version_minor": 0
      },
      "text/plain": [
       "0it [00:00, ?it/s]"
      ]
     },
     "metadata": {},
     "output_type": "display_data"
    },
    {
     "name": "stdout",
     "output_type": "stream",
     "text": [
      "Loss of train: 0.00114\n",
      "Loss of val: 0.00125\n",
      "Loss of test: 0.00114\n",
      "Loss of gw_test: 0.00096\n",
      "[0.0014779021547163484, 0.0013047647761350064, 0.001280602583114685, 0.0012696624207653073, 0.0012650711151187461, 0.0012622470303903935, 0.0012604647113613216, 0.0012601017462412786, 0.0012597411354880567, 0.0012593315143175098, 0.001258381534218218, 0.0012579257021090632, 0.0012568531476460708, 0.0012560785523559883, 0.0012541287186039216]\n"
     ]
    },
    {
     "data": {
      "application/vnd.jupyter.widget-view+json": {
       "model_id": "5114ce537a6b416193576168cbb48fae",
       "version_major": 2,
       "version_minor": 0
      },
      "text/plain": [
       "0it [00:00, ?it/s]"
      ]
     },
     "metadata": {},
     "output_type": "display_data"
    },
    {
     "name": "stdout",
     "output_type": "stream",
     "text": [
      "Loss of train: 0.00114\n",
      "Loss of val: 0.00125\n",
      "Loss of test: 0.00114\n",
      "Loss of gw_test: 0.00096\n",
      "[0.0014779021547163484, 0.0013047647761350064, 0.001280602583114685, 0.0012696624207653073, 0.0012650711151187461, 0.0012622470303903935, 0.0012604647113613216, 0.0012601017462412786, 0.0012597411354880567, 0.0012593315143175098, 0.001258381534218218, 0.0012579257021090632, 0.0012568531476460708, 0.0012560785523559883, 0.0012541287186039216, 0.0012526117922170112]\n"
     ]
    },
    {
     "data": {
      "application/vnd.jupyter.widget-view+json": {
       "model_id": "3a3614108868444e8d45cecc00a84646",
       "version_major": 2,
       "version_minor": 0
      },
      "text/plain": [
       "0it [00:00, ?it/s]"
      ]
     },
     "metadata": {},
     "output_type": "display_data"
    },
    {
     "name": "stdout",
     "output_type": "stream",
     "text": [
      "Loss of train: 0.00114\n",
      "Loss of val: 0.00125\n",
      "Loss of test: 0.00114\n",
      "Loss of gw_test: 0.00096\n",
      "[0.0014779021547163484, 0.0013047647761350064, 0.001280602583114685, 0.0012696624207653073, 0.0012650711151187461, 0.0012622470303903935, 0.0012604647113613216, 0.0012601017462412786, 0.0012597411354880567, 0.0012593315143175098, 0.001258381534218218, 0.0012579257021090632, 0.0012568531476460708, 0.0012560785523559883, 0.0012541287186039216, 0.0012526117922170112, 0.0012508855011364273]\n"
     ]
    },
    {
     "data": {
      "application/vnd.jupyter.widget-view+json": {
       "model_id": "bfdef3f305f54ae08eb2cedb3ce0c495",
       "version_major": 2,
       "version_minor": 0
      },
      "text/plain": [
       "0it [00:00, ?it/s]"
      ]
     },
     "metadata": {},
     "output_type": "display_data"
    },
    {
     "name": "stdout",
     "output_type": "stream",
     "text": [
      "Loss of train: 0.00113\n",
      "Loss of val: 0.00125\n",
      "Loss of test: 0.00114\n",
      "Loss of gw_test: 0.00096\n",
      "[0.0014779021547163484, 0.0013047647761350064, 0.001280602583114685, 0.0012696624207653073, 0.0012650711151187461, 0.0012622470303903935, 0.0012604647113613216, 0.0012601017462412786, 0.0012597411354880567, 0.0012593315143175098, 0.001258381534218218, 0.0012579257021090632, 0.0012568531476460708, 0.0012560785523559883, 0.0012541287186039216, 0.0012526117922170112, 0.0012508855011364273, 0.0012496522399756864]\n"
     ]
    },
    {
     "data": {
      "application/vnd.jupyter.widget-view+json": {
       "model_id": "a4f230b65d904a3f93d8aa0a0571d417",
       "version_major": 2,
       "version_minor": 0
      },
      "text/plain": [
       "0it [00:00, ?it/s]"
      ]
     },
     "metadata": {},
     "output_type": "display_data"
    },
    {
     "name": "stdout",
     "output_type": "stream",
     "text": [
      "Loss of train: 0.00113\n",
      "Loss of val: 0.00125\n",
      "Loss of test: 0.00114\n",
      "Loss of gw_test: 0.00096\n",
      "[0.0014779021547163484, 0.0013047647761350064, 0.001280602583114685, 0.0012696624207653073, 0.0012650711151187461, 0.0012622470303903935, 0.0012604647113613216, 0.0012601017462412786, 0.0012597411354880567, 0.0012593315143175098, 0.001258381534218218, 0.0012579257021090632, 0.0012568531476460708, 0.0012560785523559883, 0.0012541287186039216, 0.0012526117922170112, 0.0012508855011364273, 0.0012496522399756864, 0.0012486382673171379]\n"
     ]
    },
    {
     "data": {
      "application/vnd.jupyter.widget-view+json": {
       "model_id": "433a196f279c4833bf2766fbe8e71ba9",
       "version_major": 2,
       "version_minor": 0
      },
      "text/plain": [
       "0it [00:00, ?it/s]"
      ]
     },
     "metadata": {},
     "output_type": "display_data"
    },
    {
     "name": "stdout",
     "output_type": "stream",
     "text": [
      "Loss of train: 0.00113\n",
      "Loss of val: 0.00125\n",
      "Loss of test: 0.00114\n",
      "Loss of gw_test: 0.00096\n",
      "[0.0014779021547163484, 0.0013047647761350064, 0.001280602583114685, 0.0012696624207653073, 0.0012650711151187461, 0.0012622470303903935, 0.0012604647113613216, 0.0012601017462412786, 0.0012597411354880567, 0.0012593315143175098, 0.001258381534218218, 0.0012579257021090632, 0.0012568531476460708, 0.0012560785523559883, 0.0012541287186039216, 0.0012526117922170112, 0.0012508855011364273, 0.0012496522399756864, 0.0012486382673171379, 0.001248099936998204]\n"
     ]
    },
    {
     "data": {
      "application/vnd.jupyter.widget-view+json": {
       "model_id": "3c3d07e70480421b8fffbc98641ee52a",
       "version_major": 2,
       "version_minor": 0
      },
      "text/plain": [
       "0it [00:00, ?it/s]"
      ]
     },
     "metadata": {},
     "output_type": "display_data"
    },
    {
     "name": "stdout",
     "output_type": "stream",
     "text": [
      "Loss of train: 0.00113\n",
      "Loss of val: 0.00125\n",
      "Loss of test: 0.00114\n",
      "Loss of gw_test: 0.00096\n",
      "[0.0014779021547163484, 0.0013047647761350064, 0.001280602583114685, 0.0012696624207653073, 0.0012650711151187461, 0.0012622470303903935, 0.0012604647113613216, 0.0012601017462412786, 0.0012597411354880567, 0.0012593315143175098, 0.001258381534218218, 0.0012579257021090632, 0.0012568531476460708, 0.0012560785523559883, 0.0012541287186039216, 0.0012526117922170112, 0.0012508855011364273, 0.0012496522399756864, 0.0012486382673171379, 0.001248099936998204, 0.0012476435737174836]\n"
     ]
    },
    {
     "data": {
      "application/vnd.jupyter.widget-view+json": {
       "model_id": "c3bfdb1bbb024a80a1db20800ed30325",
       "version_major": 2,
       "version_minor": 0
      },
      "text/plain": [
       "0it [00:00, ?it/s]"
      ]
     },
     "metadata": {},
     "output_type": "display_data"
    },
    {
     "name": "stdout",
     "output_type": "stream",
     "text": [
      "Loss of train: 0.00113\n",
      "Loss of val: 0.00125\n",
      "Loss of test: 0.00114\n",
      "Loss of gw_test: 0.00096\n",
      "[0.0014779021547163484, 0.0013047647761350064, 0.001280602583114685, 0.0012696624207653073, 0.0012650711151187461, 0.0012622470303903935, 0.0012604647113613216, 0.0012601017462412786, 0.0012597411354880567, 0.0012593315143175098, 0.001258381534218218, 0.0012579257021090632, 0.0012568531476460708, 0.0012560785523559883, 0.0012541287186039216, 0.0012526117922170112, 0.0012508855011364273, 0.0012496522399756864, 0.0012486382673171379, 0.001248099936998204, 0.0012476435737174836, 0.0012472519758400665]\n"
     ]
    },
    {
     "data": {
      "application/vnd.jupyter.widget-view+json": {
       "model_id": "71649462e3b441b7a35a4300ebe4be89",
       "version_major": 2,
       "version_minor": 0
      },
      "text/plain": [
       "0it [00:00, ?it/s]"
      ]
     },
     "metadata": {},
     "output_type": "display_data"
    },
    {
     "name": "stdout",
     "output_type": "stream",
     "text": [
      "Loss of train: 0.00113\n",
      "Loss of val: 0.00125\n",
      "Loss of test: 0.00114\n",
      "Loss of gw_test: 0.00096\n",
      "[0.0014779021547163484, 0.0013047647761350064, 0.001280602583114685, 0.0012696624207653073, 0.0012650711151187461, 0.0012622470303903935, 0.0012604647113613216, 0.0012601017462412786, 0.0012597411354880567, 0.0012593315143175098, 0.001258381534218218, 0.0012579257021090632, 0.0012568531476460708, 0.0012560785523559883, 0.0012541287186039216, 0.0012526117922170112, 0.0012508855011364273, 0.0012496522399756864, 0.0012486382673171379, 0.001248099936998204, 0.0012476435737174836, 0.0012472519758400665, 0.0012472520547045832]\n",
      "Break at 22\n",
      "{'f1': 2, 'f2': 5, 'f3': 5, 'f4': 5, 'f5': 4}\n",
      "AUROC of val: 0.95036\n",
      "AUROC of test: 0.94949\n",
      "AUROC of gw_test: 0.95002\n"
     ]
    },
    {
     "data": {
      "application/vnd.jupyter.widget-view+json": {
       "model_id": "b886abacf2e44bbc8d8b7d6f2864d597",
       "version_major": 2,
       "version_minor": 0
      },
      "text/plain": [
       "0it [00:00, ?it/s]"
      ]
     },
     "metadata": {},
     "output_type": "display_data"
    },
    {
     "name": "stdout",
     "output_type": "stream",
     "text": [
      "Loss of train: 0.00127\n",
      "Loss of val: 0.00138\n",
      "Loss of test: 0.00122\n",
      "Loss of gw_test: 0.00105\n",
      "[0.00137915188028458]\n"
     ]
    },
    {
     "data": {
      "application/vnd.jupyter.widget-view+json": {
       "model_id": "d555851496324344a9a1b2cb43672cd3",
       "version_major": 2,
       "version_minor": 0
      },
      "text/plain": [
       "0it [00:00, ?it/s]"
      ]
     },
     "metadata": {},
     "output_type": "display_data"
    },
    {
     "name": "stdout",
     "output_type": "stream",
     "text": [
      "Loss of train: 0.00121\n",
      "Loss of val: 0.00133\n",
      "Loss of test: 0.00118\n",
      "Loss of gw_test: 0.00098\n",
      "[0.00137915188028458, 0.0013287825651216497]\n"
     ]
    },
    {
     "data": {
      "application/vnd.jupyter.widget-view+json": {
       "model_id": "85a3657862874c9c9e585a6e6df21243",
       "version_major": 2,
       "version_minor": 0
      },
      "text/plain": [
       "0it [00:00, ?it/s]"
      ]
     },
     "metadata": {},
     "output_type": "display_data"
    },
    {
     "name": "stdout",
     "output_type": "stream",
     "text": [
      "Loss of train: 0.00118\n",
      "Loss of val: 0.00131\n",
      "Loss of test: 0.00116\n",
      "Loss of gw_test: 0.00097\n",
      "[0.00137915188028458, 0.0013287825651216497, 0.0013105982663424423]\n"
     ]
    },
    {
     "data": {
      "application/vnd.jupyter.widget-view+json": {
       "model_id": "6dc60d1ba5e64442874c71fb0264795f",
       "version_major": 2,
       "version_minor": 0
      },
      "text/plain": [
       "0it [00:00, ?it/s]"
      ]
     },
     "metadata": {},
     "output_type": "display_data"
    },
    {
     "name": "stdout",
     "output_type": "stream",
     "text": [
      "Loss of train: 0.00117\n",
      "Loss of val: 0.00130\n",
      "Loss of test: 0.00116\n",
      "Loss of gw_test: 0.00096\n",
      "[0.00137915188028458, 0.0013287825651216497, 0.0013105982663424423, 0.0012950526065427144]\n"
     ]
    },
    {
     "data": {
      "application/vnd.jupyter.widget-view+json": {
       "model_id": "0f7cc0220dda4e5e9b9e27a74f711c63",
       "version_major": 2,
       "version_minor": 0
      },
      "text/plain": [
       "0it [00:00, ?it/s]"
      ]
     },
     "metadata": {},
     "output_type": "display_data"
    },
    {
     "name": "stdout",
     "output_type": "stream",
     "text": [
      "Loss of train: 0.00116\n",
      "Loss of val: 0.00129\n",
      "Loss of test: 0.00116\n",
      "Loss of gw_test: 0.00095\n",
      "[0.00137915188028458, 0.0013287825651216497, 0.0013105982663424423, 0.0012950526065427144, 0.001288238079699731]\n"
     ]
    },
    {
     "data": {
      "application/vnd.jupyter.widget-view+json": {
       "model_id": "00e6c540af49481aa64d37602c9d3373",
       "version_major": 2,
       "version_minor": 0
      },
      "text/plain": [
       "0it [00:00, ?it/s]"
      ]
     },
     "metadata": {},
     "output_type": "display_data"
    },
    {
     "name": "stdout",
     "output_type": "stream",
     "text": [
      "Loss of train: 0.00116\n",
      "Loss of val: 0.00129\n",
      "Loss of test: 0.00116\n",
      "Loss of gw_test: 0.00095\n",
      "[0.00137915188028458, 0.0013287825651216497, 0.0013105982663424423, 0.0012950526065427144, 0.001288238079699731, 0.0012874641298571679]\n"
     ]
    },
    {
     "data": {
      "application/vnd.jupyter.widget-view+json": {
       "model_id": "80d36834080b4e68abd170e7edf088ae",
       "version_major": 2,
       "version_minor": 0
      },
      "text/plain": [
       "0it [00:00, ?it/s]"
      ]
     },
     "metadata": {},
     "output_type": "display_data"
    },
    {
     "name": "stdout",
     "output_type": "stream",
     "text": [
      "Loss of train: 0.00115\n",
      "Loss of val: 0.00129\n",
      "Loss of test: 0.00116\n",
      "Loss of gw_test: 0.00095\n",
      "[0.00137915188028458, 0.0013287825651216497, 0.0013105982663424423, 0.0012950526065427144, 0.001288238079699731, 0.0012874641298571679, 0.001288292326636309]\n",
      "Break at 6\n",
      "{'f1': 2, 'f2': 5, 'f3': 5, 'f4': 5, 'f5': 5}\n",
      "AUROC of val: 0.94657\n",
      "AUROC of test: 0.94713\n",
      "AUROC of gw_test: 0.95075\n"
     ]
    },
    {
     "data": {
      "application/vnd.jupyter.widget-view+json": {
       "model_id": "2bda92d044974581a1b739873a13de4e",
       "version_major": 2,
       "version_minor": 0
      },
      "text/plain": [
       "0it [00:00, ?it/s]"
      ]
     },
     "metadata": {},
     "output_type": "display_data"
    },
    {
     "name": "stdout",
     "output_type": "stream",
     "text": [
      "Loss of train: 0.00145\n",
      "Loss of val: 0.00162\n",
      "Loss of test: 0.00140\n",
      "Loss of gw_test: 0.00123\n",
      "[0.0016153998090789688]\n"
     ]
    },
    {
     "data": {
      "application/vnd.jupyter.widget-view+json": {
       "model_id": "72c88d4464464237affdfe69c2312034",
       "version_major": 2,
       "version_minor": 0
      },
      "text/plain": [
       "0it [00:00, ?it/s]"
      ]
     },
     "metadata": {},
     "output_type": "display_data"
    },
    {
     "name": "stdout",
     "output_type": "stream",
     "text": [
      "Loss of train: 0.00129\n",
      "Loss of val: 0.00149\n",
      "Loss of test: 0.00128\n",
      "Loss of gw_test: 0.00108\n",
      "[0.0016153998090789688, 0.0014879550772869629]\n"
     ]
    },
    {
     "data": {
      "application/vnd.jupyter.widget-view+json": {
       "model_id": "06a85af83bfd4f21858efd33d46a8f37",
       "version_major": 2,
       "version_minor": 0
      },
      "text/plain": [
       "0it [00:00, ?it/s]"
      ]
     },
     "metadata": {},
     "output_type": "display_data"
    },
    {
     "name": "stdout",
     "output_type": "stream",
     "text": [
      "Loss of train: 0.00125\n",
      "Loss of val: 0.00146\n",
      "Loss of test: 0.00124\n",
      "Loss of gw_test: 0.00105\n",
      "[0.0016153998090789688, 0.0014879550772869629, 0.001463532826054242]\n"
     ]
    },
    {
     "data": {
      "application/vnd.jupyter.widget-view+json": {
       "model_id": "62506d2e2cb84f89b89361aa31f0c5b5",
       "version_major": 2,
       "version_minor": 0
      },
      "text/plain": [
       "0it [00:00, ?it/s]"
      ]
     },
     "metadata": {},
     "output_type": "display_data"
    },
    {
     "name": "stdout",
     "output_type": "stream",
     "text": [
      "Loss of train: 0.00124\n",
      "Loss of val: 0.00146\n",
      "Loss of test: 0.00123\n",
      "Loss of gw_test: 0.00105\n",
      "[0.0016153998090789688, 0.0014879550772869629, 0.001463532826054242, 0.001455571858430834]\n"
     ]
    },
    {
     "data": {
      "application/vnd.jupyter.widget-view+json": {
       "model_id": "9a1eaff79881425fbe86bf49fc81fe34",
       "version_major": 2,
       "version_minor": 0
      },
      "text/plain": [
       "0it [00:00, ?it/s]"
      ]
     },
     "metadata": {},
     "output_type": "display_data"
    },
    {
     "name": "stdout",
     "output_type": "stream",
     "text": [
      "Loss of train: 0.00122\n",
      "Loss of val: 0.00144\n",
      "Loss of test: 0.00122\n",
      "Loss of gw_test: 0.00103\n",
      "[0.0016153998090789688, 0.0014879550772869629, 0.001463532826054242, 0.001455571858430834, 0.001440189121718042]\n"
     ]
    },
    {
     "data": {
      "application/vnd.jupyter.widget-view+json": {
       "model_id": "932b311fcb834194a8bd7a5b9593e6e1",
       "version_major": 2,
       "version_minor": 0
      },
      "text/plain": [
       "0it [00:00, ?it/s]"
      ]
     },
     "metadata": {},
     "output_type": "display_data"
    },
    {
     "name": "stdout",
     "output_type": "stream",
     "text": [
      "Loss of train: 0.00123\n",
      "Loss of val: 0.00143\n",
      "Loss of test: 0.00122\n",
      "Loss of gw_test: 0.00103\n",
      "[0.0016153998090789688, 0.0014879550772869629, 0.001463532826054242, 0.001455571858430834, 0.001440189121718042, 0.001429558689247028]\n"
     ]
    },
    {
     "data": {
      "application/vnd.jupyter.widget-view+json": {
       "model_id": "24eeb8e11dec4d5e88fa4350b24dc972",
       "version_major": 2,
       "version_minor": 0
      },
      "text/plain": [
       "0it [00:00, ?it/s]"
      ]
     },
     "metadata": {},
     "output_type": "display_data"
    },
    {
     "name": "stdout",
     "output_type": "stream",
     "text": [
      "Loss of train: 0.00121\n",
      "Loss of val: 0.00143\n",
      "Loss of test: 0.00121\n",
      "Loss of gw_test: 0.00101\n",
      "[0.0016153998090789688, 0.0014879550772869629, 0.001463532826054242, 0.001455571858430834, 0.001440189121718042, 0.001429558689247028, 0.001427575339062978]\n"
     ]
    },
    {
     "data": {
      "application/vnd.jupyter.widget-view+json": {
       "model_id": "b79d5414944347398d7fcdfac3b53d2c",
       "version_major": 2,
       "version_minor": 0
      },
      "text/plain": [
       "0it [00:00, ?it/s]"
      ]
     },
     "metadata": {},
     "output_type": "display_data"
    },
    {
     "name": "stdout",
     "output_type": "stream",
     "text": [
      "Loss of train: 0.00120\n",
      "Loss of val: 0.00142\n",
      "Loss of test: 0.00120\n",
      "Loss of gw_test: 0.00100\n",
      "[0.0016153998090789688, 0.0014879550772869629, 0.001463532826054242, 0.001455571858430834, 0.001440189121718042, 0.001429558689247028, 0.001427575339062978, 0.0014212147524272397]\n"
     ]
    },
    {
     "data": {
      "application/vnd.jupyter.widget-view+json": {
       "model_id": "97802752c5ac43888bc2b73502ae09ac",
       "version_major": 2,
       "version_minor": 0
      },
      "text/plain": [
       "0it [00:00, ?it/s]"
      ]
     },
     "metadata": {},
     "output_type": "display_data"
    },
    {
     "name": "stdout",
     "output_type": "stream",
     "text": [
      "Loss of train: 0.00119\n",
      "Loss of val: 0.00141\n",
      "Loss of test: 0.00120\n",
      "Loss of gw_test: 0.00099\n",
      "[0.0016153998090789688, 0.0014879550772869629, 0.001463532826054242, 0.001455571858430834, 0.001440189121718042, 0.001429558689247028, 0.001427575339062978, 0.0014212147524272397, 0.0014098038709156556]\n"
     ]
    },
    {
     "data": {
      "application/vnd.jupyter.widget-view+json": {
       "model_id": "9ab192f9bc4042dd82fb8830cc4d6df5",
       "version_major": 2,
       "version_minor": 0
      },
      "text/plain": [
       "0it [00:00, ?it/s]"
      ]
     },
     "metadata": {},
     "output_type": "display_data"
    },
    {
     "name": "stdout",
     "output_type": "stream",
     "text": [
      "Loss of train: 0.00118\n",
      "Loss of val: 0.00140\n",
      "Loss of test: 0.00120\n",
      "Loss of gw_test: 0.00098\n",
      "[0.0016153998090789688, 0.0014879550772869629, 0.001463532826054242, 0.001455571858430834, 0.001440189121718042, 0.001429558689247028, 0.001427575339062978, 0.0014212147524272397, 0.0014098038709156556, 0.0013974144030707136]\n"
     ]
    },
    {
     "data": {
      "application/vnd.jupyter.widget-view+json": {
       "model_id": "2524204684b740839af786ecd609e433",
       "version_major": 2,
       "version_minor": 0
      },
      "text/plain": [
       "0it [00:00, ?it/s]"
      ]
     },
     "metadata": {},
     "output_type": "display_data"
    },
    {
     "name": "stdout",
     "output_type": "stream",
     "text": [
      "Loss of train: 0.00118\n",
      "Loss of val: 0.00139\n",
      "Loss of test: 0.00119\n",
      "Loss of gw_test: 0.00098\n",
      "[0.0016153998090789688, 0.0014879550772869629, 0.001463532826054242, 0.001455571858430834, 0.001440189121718042, 0.001429558689247028, 0.001427575339062978, 0.0014212147524272397, 0.0014098038709156556, 0.0013974144030707136, 0.001392448234907536]\n"
     ]
    },
    {
     "data": {
      "application/vnd.jupyter.widget-view+json": {
       "model_id": "76d1befe507d465a98a635ffa28879a0",
       "version_major": 2,
       "version_minor": 0
      },
      "text/plain": [
       "0it [00:00, ?it/s]"
      ]
     },
     "metadata": {},
     "output_type": "display_data"
    },
    {
     "name": "stdout",
     "output_type": "stream",
     "text": [
      "Loss of train: 0.00117\n",
      "Loss of val: 0.00139\n",
      "Loss of test: 0.00119\n",
      "Loss of gw_test: 0.00097\n",
      "[0.0016153998090789688, 0.0014879550772869629, 0.001463532826054242, 0.001455571858430834, 0.001440189121718042, 0.001429558689247028, 0.001427575339062978, 0.0014212147524272397, 0.0014098038709156556, 0.0013974144030707136, 0.001392448234907536, 0.0013863059856030224]\n"
     ]
    },
    {
     "data": {
      "application/vnd.jupyter.widget-view+json": {
       "model_id": "0030b96386454018b7d62e13ac83ddfc",
       "version_major": 2,
       "version_minor": 0
      },
      "text/plain": [
       "0it [00:00, ?it/s]"
      ]
     },
     "metadata": {},
     "output_type": "display_data"
    },
    {
     "name": "stdout",
     "output_type": "stream",
     "text": [
      "Loss of train: 0.00117\n",
      "Loss of val: 0.00138\n",
      "Loss of test: 0.00119\n",
      "Loss of gw_test: 0.00097\n",
      "[0.0016153998090789688, 0.0014879550772869629, 0.001463532826054242, 0.001455571858430834, 0.001440189121718042, 0.001429558689247028, 0.001427575339062978, 0.0014212147524272397, 0.0014098038709156556, 0.0013974144030707136, 0.001392448234907536, 0.0013863059856030224, 0.00138077066379225]\n"
     ]
    },
    {
     "data": {
      "application/vnd.jupyter.widget-view+json": {
       "model_id": "bb6960fd55274938a64fdfd430245c58",
       "version_major": 2,
       "version_minor": 0
      },
      "text/plain": [
       "0it [00:00, ?it/s]"
      ]
     },
     "metadata": {},
     "output_type": "display_data"
    },
    {
     "name": "stdout",
     "output_type": "stream",
     "text": [
      "Loss of train: 0.00117\n",
      "Loss of val: 0.00138\n",
      "Loss of test: 0.00119\n",
      "Loss of gw_test: 0.00097\n",
      "[0.0016153998090789688, 0.0014879550772869629, 0.001463532826054242, 0.001455571858430834, 0.001440189121718042, 0.001429558689247028, 0.001427575339062978, 0.0014212147524272397, 0.0014098038709156556, 0.0013974144030707136, 0.001392448234907536, 0.0013863059856030224, 0.00138077066379225, 0.0013783867150180284]\n"
     ]
    },
    {
     "data": {
      "application/vnd.jupyter.widget-view+json": {
       "model_id": "5def8bbaa3794435bc314b7cbc74e86a",
       "version_major": 2,
       "version_minor": 0
      },
      "text/plain": [
       "0it [00:00, ?it/s]"
      ]
     },
     "metadata": {},
     "output_type": "display_data"
    },
    {
     "name": "stdout",
     "output_type": "stream",
     "text": [
      "Loss of train: 0.00117\n",
      "Loss of val: 0.00137\n",
      "Loss of test: 0.00119\n",
      "Loss of gw_test: 0.00097\n",
      "[0.0016153998090789688, 0.0014879550772869629, 0.001463532826054242, 0.001455571858430834, 0.001440189121718042, 0.001429558689247028, 0.001427575339062978, 0.0014212147524272397, 0.0014098038709156556, 0.0013974144030707136, 0.001392448234907536, 0.0013863059856030224, 0.00138077066379225, 0.0013783867150180284, 0.0013723660749391869]\n"
     ]
    },
    {
     "data": {
      "application/vnd.jupyter.widget-view+json": {
       "model_id": "533b9d3dff194c4eb2a3a55ba385cb9d",
       "version_major": 2,
       "version_minor": 0
      },
      "text/plain": [
       "0it [00:00, ?it/s]"
      ]
     },
     "metadata": {},
     "output_type": "display_data"
    },
    {
     "name": "stdout",
     "output_type": "stream",
     "text": [
      "Loss of train: 0.00117\n",
      "Loss of val: 0.00137\n",
      "Loss of test: 0.00119\n",
      "Loss of gw_test: 0.00097\n",
      "[0.0016153998090789688, 0.0014879550772869629, 0.001463532826054242, 0.001455571858430834, 0.001440189121718042, 0.001429558689247028, 0.001427575339062978, 0.0014212147524272397, 0.0014098038709156556, 0.0013974144030707136, 0.001392448234907536, 0.0013863059856030224, 0.00138077066379225, 0.0013783867150180284, 0.0013723660749391869, 0.0013679242713035974]\n"
     ]
    },
    {
     "data": {
      "application/vnd.jupyter.widget-view+json": {
       "model_id": "47a17f34864a40659c2c49fca1ca73aa",
       "version_major": 2,
       "version_minor": 0
      },
      "text/plain": [
       "0it [00:00, ?it/s]"
      ]
     },
     "metadata": {},
     "output_type": "display_data"
    },
    {
     "name": "stdout",
     "output_type": "stream",
     "text": [
      "Loss of train: 0.00117\n",
      "Loss of val: 0.00136\n",
      "Loss of test: 0.00119\n",
      "Loss of gw_test: 0.00097\n",
      "[0.0016153998090789688, 0.0014879550772869629, 0.001463532826054242, 0.001455571858430834, 0.001440189121718042, 0.001429558689247028, 0.001427575339062978, 0.0014212147524272397, 0.0014098038709156556, 0.0013974144030707136, 0.001392448234907536, 0.0013863059856030224, 0.00138077066379225, 0.0013783867150180284, 0.0013723660749391869, 0.0013679242713035974, 0.0013623090023173736]\n"
     ]
    },
    {
     "data": {
      "application/vnd.jupyter.widget-view+json": {
       "model_id": "dc616a79b82f45a38aa72760eb4a515e",
       "version_major": 2,
       "version_minor": 0
      },
      "text/plain": [
       "0it [00:00, ?it/s]"
      ]
     },
     "metadata": {},
     "output_type": "display_data"
    },
    {
     "name": "stdout",
     "output_type": "stream",
     "text": [
      "Loss of train: 0.00116\n",
      "Loss of val: 0.00136\n",
      "Loss of test: 0.00119\n",
      "Loss of gw_test: 0.00097\n",
      "[0.0016153998090789688, 0.0014879550772869629, 0.001463532826054242, 0.001455571858430834, 0.001440189121718042, 0.001429558689247028, 0.001427575339062978, 0.0014212147524272397, 0.0014098038709156556, 0.0013974144030707136, 0.001392448234907536, 0.0013863059856030224, 0.00138077066379225, 0.0013783867150180284, 0.0013723660749391869, 0.0013679242713035974, 0.0013623090023173736, 0.0013627146665771924]\n",
      "Break at 17\n",
      "{'f1': 3, 'f2': 2, 'f3': 2, 'f4': 2, 'f5': 2}\n",
      "AUROC of val: 0.94172\n",
      "AUROC of test: 0.94473\n",
      "AUROC of gw_test: 0.94973\n"
     ]
    },
    {
     "data": {
      "application/vnd.jupyter.widget-view+json": {
       "model_id": "ce6d81f2de7f478f9f12ff0466941f4b",
       "version_major": 2,
       "version_minor": 0
      },
      "text/plain": [
       "0it [00:00, ?it/s]"
      ]
     },
     "metadata": {},
     "output_type": "display_data"
    },
    {
     "name": "stdout",
     "output_type": "stream",
     "text": [
      "Loss of train: 0.00136\n",
      "Loss of val: 0.00152\n",
      "Loss of test: 0.00133\n",
      "Loss of gw_test: 0.00112\n",
      "[0.0015205302726922108]\n"
     ]
    },
    {
     "data": {
      "application/vnd.jupyter.widget-view+json": {
       "model_id": "038b5b050e004d389967ddbd7a185b59",
       "version_major": 2,
       "version_minor": 0
      },
      "text/plain": [
       "0it [00:00, ?it/s]"
      ]
     },
     "metadata": {},
     "output_type": "display_data"
    },
    {
     "name": "stdout",
     "output_type": "stream",
     "text": [
      "Loss of train: 0.00128\n",
      "Loss of val: 0.00142\n",
      "Loss of test: 0.00124\n",
      "Loss of gw_test: 0.00106\n",
      "[0.0015205302726922108, 0.0014196692521139095]\n"
     ]
    },
    {
     "data": {
      "application/vnd.jupyter.widget-view+json": {
       "model_id": "8807358878f54c61b036e9c045aebeb7",
       "version_major": 2,
       "version_minor": 0
      },
      "text/plain": [
       "0it [00:00, ?it/s]"
      ]
     },
     "metadata": {},
     "output_type": "display_data"
    },
    {
     "name": "stdout",
     "output_type": "stream",
     "text": [
      "Loss of train: 0.00125\n",
      "Loss of val: 0.00137\n",
      "Loss of test: 0.00122\n",
      "Loss of gw_test: 0.00103\n",
      "[0.0015205302726922108, 0.0014196692521139095, 0.0013728568608178833]\n"
     ]
    },
    {
     "data": {
      "application/vnd.jupyter.widget-view+json": {
       "model_id": "7c5dceb8847b4fe8b4723c29fcca1324",
       "version_major": 2,
       "version_minor": 0
      },
      "text/plain": [
       "0it [00:00, ?it/s]"
      ]
     },
     "metadata": {},
     "output_type": "display_data"
    },
    {
     "name": "stdout",
     "output_type": "stream",
     "text": [
      "Loss of train: 0.00123\n",
      "Loss of val: 0.00136\n",
      "Loss of test: 0.00121\n",
      "Loss of gw_test: 0.00102\n",
      "[0.0015205302726922108, 0.0014196692521139095, 0.0013728568608178833, 0.001355990931838803]\n"
     ]
    },
    {
     "data": {
      "application/vnd.jupyter.widget-view+json": {
       "model_id": "1a6cd8ed94894db9888566931c6ffe7b",
       "version_major": 2,
       "version_minor": 0
      },
      "text/plain": [
       "0it [00:00, ?it/s]"
      ]
     },
     "metadata": {},
     "output_type": "display_data"
    },
    {
     "name": "stdout",
     "output_type": "stream",
     "text": [
      "Loss of train: 0.00122\n",
      "Loss of val: 0.00135\n",
      "Loss of test: 0.00121\n",
      "Loss of gw_test: 0.00102\n",
      "[0.0015205302726922108, 0.0014196692521139095, 0.0013728568608178833, 0.001355990931838803, 0.0013493603901286988]\n"
     ]
    },
    {
     "data": {
      "application/vnd.jupyter.widget-view+json": {
       "model_id": "466efd390cc344dc842ed01801c40036",
       "version_major": 2,
       "version_minor": 0
      },
      "text/plain": [
       "0it [00:00, ?it/s]"
      ]
     },
     "metadata": {},
     "output_type": "display_data"
    },
    {
     "name": "stdout",
     "output_type": "stream",
     "text": [
      "Loss of train: 0.00121\n",
      "Loss of val: 0.00135\n",
      "Loss of test: 0.00121\n",
      "Loss of gw_test: 0.00101\n",
      "[0.0015205302726922108, 0.0014196692521139095, 0.0013728568608178833, 0.001355990931838803, 0.0013493603901286988, 0.0013475255421115616]\n"
     ]
    },
    {
     "data": {
      "application/vnd.jupyter.widget-view+json": {
       "model_id": "e0b4ad8637e54670bc1bbbe850df14c4",
       "version_major": 2,
       "version_minor": 0
      },
      "text/plain": [
       "0it [00:00, ?it/s]"
      ]
     },
     "metadata": {},
     "output_type": "display_data"
    },
    {
     "name": "stdout",
     "output_type": "stream",
     "text": [
      "Loss of train: 0.00120\n",
      "Loss of val: 0.00135\n",
      "Loss of test: 0.00121\n",
      "Loss of gw_test: 0.00101\n",
      "[0.0015205302726922108, 0.0014196692521139095, 0.0013728568608178833, 0.001355990931838803, 0.0013493603901286988, 0.0013475255421115616, 0.0013481537479290713]\n",
      "Break at 6\n",
      "{'f1': 3, 'f2': 2, 'f3': 2, 'f4': 2, 'f5': 3}\n",
      "AUROC of val: 0.94313\n",
      "AUROC of test: 0.94392\n",
      "AUROC of gw_test: 0.94609\n"
     ]
    },
    {
     "data": {
      "application/vnd.jupyter.widget-view+json": {
       "model_id": "099ead682369442c8d4e2f583110191b",
       "version_major": 2,
       "version_minor": 0
      },
      "text/plain": [
       "0it [00:00, ?it/s]"
      ]
     },
     "metadata": {},
     "output_type": "display_data"
    },
    {
     "name": "stdout",
     "output_type": "stream",
     "text": [
      "Loss of train: 0.00137\n",
      "Loss of val: 0.00150\n",
      "Loss of test: 0.00131\n",
      "Loss of gw_test: 0.00114\n",
      "[0.001498499447408157]\n"
     ]
    },
    {
     "data": {
      "application/vnd.jupyter.widget-view+json": {
       "model_id": "6f626e3a0314416894d1b711572d2324",
       "version_major": 2,
       "version_minor": 0
      },
      "text/plain": [
       "0it [00:00, ?it/s]"
      ]
     },
     "metadata": {},
     "output_type": "display_data"
    },
    {
     "name": "stdout",
     "output_type": "stream",
     "text": [
      "Loss of train: 0.00132\n",
      "Loss of val: 0.00146\n",
      "Loss of test: 0.00128\n",
      "Loss of gw_test: 0.00108\n",
      "[0.001498499447408157, 0.0014564018841895692]\n"
     ]
    },
    {
     "data": {
      "application/vnd.jupyter.widget-view+json": {
       "model_id": "e84229cf0e62421ebc9ca640c803fffa",
       "version_major": 2,
       "version_minor": 0
      },
      "text/plain": [
       "0it [00:00, ?it/s]"
      ]
     },
     "metadata": {},
     "output_type": "display_data"
    },
    {
     "name": "stdout",
     "output_type": "stream",
     "text": [
      "Loss of train: 0.00128\n",
      "Loss of val: 0.00144\n",
      "Loss of test: 0.00126\n",
      "Loss of gw_test: 0.00104\n",
      "[0.001498499447408157, 0.0014564018841895692, 0.0014418271010465653]\n"
     ]
    },
    {
     "data": {
      "application/vnd.jupyter.widget-view+json": {
       "model_id": "4e91f34ac38a49a4a396cdf8d837b77a",
       "version_major": 2,
       "version_minor": 0
      },
      "text/plain": [
       "0it [00:00, ?it/s]"
      ]
     },
     "metadata": {},
     "output_type": "display_data"
    },
    {
     "name": "stdout",
     "output_type": "stream",
     "text": [
      "Loss of train: 0.00125\n",
      "Loss of val: 0.00142\n",
      "Loss of test: 0.00124\n",
      "Loss of gw_test: 0.00101\n",
      "[0.001498499447408157, 0.0014564018841895692, 0.0014418271010465653, 0.001417918842035064]\n"
     ]
    },
    {
     "data": {
      "application/vnd.jupyter.widget-view+json": {
       "model_id": "35dda7ede9084ea4abdad5a1d4096e5f",
       "version_major": 2,
       "version_minor": 0
      },
      "text/plain": [
       "0it [00:00, ?it/s]"
      ]
     },
     "metadata": {},
     "output_type": "display_data"
    },
    {
     "name": "stdout",
     "output_type": "stream",
     "text": [
      "Loss of train: 0.00122\n",
      "Loss of val: 0.00139\n",
      "Loss of test: 0.00121\n",
      "Loss of gw_test: 0.00098\n",
      "[0.001498499447408157, 0.0014564018841895692, 0.0014418271010465653, 0.001417918842035064, 0.0013865436764841335]\n"
     ]
    },
    {
     "data": {
      "application/vnd.jupyter.widget-view+json": {
       "model_id": "89fceffd39c64f82a2bbd430d8fd6d3f",
       "version_major": 2,
       "version_minor": 0
      },
      "text/plain": [
       "0it [00:00, ?it/s]"
      ]
     },
     "metadata": {},
     "output_type": "display_data"
    },
    {
     "name": "stdout",
     "output_type": "stream",
     "text": [
      "Loss of train: 0.00119\n",
      "Loss of val: 0.00136\n",
      "Loss of test: 0.00119\n",
      "Loss of gw_test: 0.00096\n",
      "[0.001498499447408157, 0.0014564018841895692, 0.0014418271010465653, 0.001417918842035064, 0.0013865436764841335, 0.001361917744869435]\n"
     ]
    },
    {
     "data": {
      "application/vnd.jupyter.widget-view+json": {
       "model_id": "ba0df1c1eb7c49739fc94bc931a68e07",
       "version_major": 2,
       "version_minor": 0
      },
      "text/plain": [
       "0it [00:00, ?it/s]"
      ]
     },
     "metadata": {},
     "output_type": "display_data"
    },
    {
     "name": "stdout",
     "output_type": "stream",
     "text": [
      "Loss of train: 0.00118\n",
      "Loss of val: 0.00134\n",
      "Loss of test: 0.00119\n",
      "Loss of gw_test: 0.00094\n",
      "[0.001498499447408157, 0.0014564018841895692, 0.0014418271010465653, 0.001417918842035064, 0.0013865436764841335, 0.001361917744869435, 0.0013423122404874952]\n"
     ]
    },
    {
     "data": {
      "application/vnd.jupyter.widget-view+json": {
       "model_id": "e78248c66a1e4194a53fa254defcaacf",
       "version_major": 2,
       "version_minor": 0
      },
      "text/plain": [
       "0it [00:00, ?it/s]"
      ]
     },
     "metadata": {},
     "output_type": "display_data"
    },
    {
     "name": "stdout",
     "output_type": "stream",
     "text": [
      "Loss of train: 0.00117\n",
      "Loss of val: 0.00133\n",
      "Loss of test: 0.00118\n",
      "Loss of gw_test: 0.00094\n",
      "[0.001498499447408157, 0.0014564018841895692, 0.0014418271010465653, 0.001417918842035064, 0.0013865436764841335, 0.001361917744869435, 0.0013423122404874952, 0.0013265254259755086]\n"
     ]
    },
    {
     "data": {
      "application/vnd.jupyter.widget-view+json": {
       "model_id": "3d804bef12bc41e584de1d70f8436ca9",
       "version_major": 2,
       "version_minor": 0
      },
      "text/plain": [
       "0it [00:00, ?it/s]"
      ]
     },
     "metadata": {},
     "output_type": "display_data"
    },
    {
     "name": "stdout",
     "output_type": "stream",
     "text": [
      "Loss of train: 0.00116\n",
      "Loss of val: 0.00132\n",
      "Loss of test: 0.00118\n",
      "Loss of gw_test: 0.00093\n",
      "[0.001498499447408157, 0.0014564018841895692, 0.0014418271010465653, 0.001417918842035064, 0.0013865436764841335, 0.001361917744869435, 0.0013423122404874952, 0.0013265254259755086, 0.0013166509323280114]\n"
     ]
    },
    {
     "data": {
      "application/vnd.jupyter.widget-view+json": {
       "model_id": "8ee546d613c54588a9fc7d6f14772967",
       "version_major": 2,
       "version_minor": 0
      },
      "text/plain": [
       "0it [00:00, ?it/s]"
      ]
     },
     "metadata": {},
     "output_type": "display_data"
    },
    {
     "name": "stdout",
     "output_type": "stream",
     "text": [
      "Loss of train: 0.00115\n",
      "Loss of val: 0.00131\n",
      "Loss of test: 0.00117\n",
      "Loss of gw_test: 0.00093\n",
      "[0.001498499447408157, 0.0014564018841895692, 0.0014418271010465653, 0.001417918842035064, 0.0013865436764841335, 0.001361917744869435, 0.0013423122404874952, 0.0013265254259755086, 0.0013166509323280114, 0.0013102201059064342]\n"
     ]
    },
    {
     "data": {
      "application/vnd.jupyter.widget-view+json": {
       "model_id": "c7b8acf7406b4e88911924c0a4addf09",
       "version_major": 2,
       "version_minor": 0
      },
      "text/plain": [
       "0it [00:00, ?it/s]"
      ]
     },
     "metadata": {},
     "output_type": "display_data"
    },
    {
     "name": "stdout",
     "output_type": "stream",
     "text": [
      "Loss of train: 0.00115\n",
      "Loss of val: 0.00131\n",
      "Loss of test: 0.00117\n",
      "Loss of gw_test: 0.00093\n",
      "[0.001498499447408157, 0.0014564018841895692, 0.0014418271010465653, 0.001417918842035064, 0.0013865436764841335, 0.001361917744869435, 0.0013423122404874952, 0.0013265254259755086, 0.0013166509323280114, 0.0013102201059064342, 0.0013056155944741637]\n"
     ]
    },
    {
     "data": {
      "application/vnd.jupyter.widget-view+json": {
       "model_id": "243b4cacc0eb41e98732de9f455b742f",
       "version_major": 2,
       "version_minor": 0
      },
      "text/plain": [
       "0it [00:00, ?it/s]"
      ]
     },
     "metadata": {},
     "output_type": "display_data"
    },
    {
     "name": "stdout",
     "output_type": "stream",
     "text": [
      "Loss of train: 0.00114\n",
      "Loss of val: 0.00131\n",
      "Loss of test: 0.00117\n",
      "Loss of gw_test: 0.00093\n",
      "[0.001498499447408157, 0.0014564018841895692, 0.0014418271010465653, 0.001417918842035064, 0.0013865436764841335, 0.001361917744869435, 0.0013423122404874952, 0.0013265254259755086, 0.0013166509323280114, 0.0013102201059064342, 0.0013056155944741637, 0.001305981413248191]\n",
      "Break at 11\n",
      "{'f1': 3, 'f2': 2, 'f3': 2, 'f4': 2, 'f5': 4}\n",
      "AUROC of val: 0.94564\n",
      "AUROC of test: 0.94640\n",
      "AUROC of gw_test: 0.95095\n"
     ]
    },
    {
     "data": {
      "application/vnd.jupyter.widget-view+json": {
       "model_id": "ec7842838c5441558e6416b49594e65c",
       "version_major": 2,
       "version_minor": 0
      },
      "text/plain": [
       "0it [00:00, ?it/s]"
      ]
     },
     "metadata": {},
     "output_type": "display_data"
    },
    {
     "name": "stdout",
     "output_type": "stream",
     "text": [
      "Loss of train: 0.00139\n",
      "Loss of val: 0.00152\n",
      "Loss of test: 0.00135\n",
      "Loss of gw_test: 0.00114\n",
      "[0.0015222996103961208]\n"
     ]
    },
    {
     "data": {
      "application/vnd.jupyter.widget-view+json": {
       "model_id": "7d62c9470e2a4677b9645c190d4640df",
       "version_major": 2,
       "version_minor": 0
      },
      "text/plain": [
       "0it [00:00, ?it/s]"
      ]
     },
     "metadata": {},
     "output_type": "display_data"
    },
    {
     "name": "stdout",
     "output_type": "stream",
     "text": [
      "Loss of train: 0.00134\n",
      "Loss of val: 0.00145\n",
      "Loss of test: 0.00129\n",
      "Loss of gw_test: 0.00109\n",
      "[0.0015222996103961208, 0.0014513848865051722]\n"
     ]
    },
    {
     "data": {
      "application/vnd.jupyter.widget-view+json": {
       "model_id": "5a1fb819cfc24a7799e79c87e6c83bf6",
       "version_major": 2,
       "version_minor": 0
      },
      "text/plain": [
       "0it [00:00, ?it/s]"
      ]
     },
     "metadata": {},
     "output_type": "display_data"
    },
    {
     "name": "stdout",
     "output_type": "stream",
     "text": [
      "Loss of train: 0.00131\n",
      "Loss of val: 0.00141\n",
      "Loss of test: 0.00126\n",
      "Loss of gw_test: 0.00108\n",
      "[0.0015222996103961208, 0.0014513848865051722, 0.0014130740448110317]\n"
     ]
    },
    {
     "data": {
      "application/vnd.jupyter.widget-view+json": {
       "model_id": "bdd2fe7c803b436883cb8fbd1569fa13",
       "version_major": 2,
       "version_minor": 0
      },
      "text/plain": [
       "0it [00:00, ?it/s]"
      ]
     },
     "metadata": {},
     "output_type": "display_data"
    },
    {
     "name": "stdout",
     "output_type": "stream",
     "text": [
      "Loss of train: 0.00129\n",
      "Loss of val: 0.00139\n",
      "Loss of test: 0.00125\n",
      "Loss of gw_test: 0.00107\n",
      "[0.0015222996103961208, 0.0014513848865051722, 0.0014130740448110317, 0.0013892651423931127]\n"
     ]
    },
    {
     "data": {
      "application/vnd.jupyter.widget-view+json": {
       "model_id": "b062f15819904519b1f25a2993c82fb9",
       "version_major": 2,
       "version_minor": 0
      },
      "text/plain": [
       "0it [00:00, ?it/s]"
      ]
     },
     "metadata": {},
     "output_type": "display_data"
    },
    {
     "name": "stdout",
     "output_type": "stream",
     "text": [
      "Loss of train: 0.00128\n",
      "Loss of val: 0.00137\n",
      "Loss of test: 0.00124\n",
      "Loss of gw_test: 0.00107\n",
      "[0.0015222996103961208, 0.0014513848865051722, 0.0014130740448110317, 0.0013892651423931127, 0.0013722032769914751]\n"
     ]
    },
    {
     "data": {
      "application/vnd.jupyter.widget-view+json": {
       "model_id": "1a115edec28c44ad877405dda803d916",
       "version_major": 2,
       "version_minor": 0
      },
      "text/plain": [
       "0it [00:00, ?it/s]"
      ]
     },
     "metadata": {},
     "output_type": "display_data"
    },
    {
     "name": "stdout",
     "output_type": "stream",
     "text": [
      "Loss of train: 0.00127\n",
      "Loss of val: 0.00136\n",
      "Loss of test: 0.00123\n",
      "Loss of gw_test: 0.00106\n",
      "[0.0015222996103961208, 0.0014513848865051722, 0.0014130740448110317, 0.0013892651423931127, 0.0013722032769914751, 0.0013613446283856924]\n"
     ]
    },
    {
     "data": {
      "application/vnd.jupyter.widget-view+json": {
       "model_id": "c223e91ab0c04701966c53691ffe6a03",
       "version_major": 2,
       "version_minor": 0
      },
      "text/plain": [
       "0it [00:00, ?it/s]"
      ]
     },
     "metadata": {},
     "output_type": "display_data"
    },
    {
     "name": "stdout",
     "output_type": "stream",
     "text": [
      "Loss of train: 0.00127\n",
      "Loss of val: 0.00135\n",
      "Loss of test: 0.00122\n",
      "Loss of gw_test: 0.00106\n",
      "[0.0015222996103961208, 0.0014513848865051722, 0.0014130740448110317, 0.0013892651423931127, 0.0013722032769914751, 0.0013613446283856924, 0.0013537302270007255]\n"
     ]
    },
    {
     "data": {
      "application/vnd.jupyter.widget-view+json": {
       "model_id": "19fe42bbd6ba4bbea76898c1ad01bb38",
       "version_major": 2,
       "version_minor": 0
      },
      "text/plain": [
       "0it [00:00, ?it/s]"
      ]
     },
     "metadata": {},
     "output_type": "display_data"
    },
    {
     "name": "stdout",
     "output_type": "stream",
     "text": [
      "Loss of train: 0.00126\n",
      "Loss of val: 0.00135\n",
      "Loss of test: 0.00121\n",
      "Loss of gw_test: 0.00106\n",
      "[0.0015222996103961208, 0.0014513848865051722, 0.0014130740448110317, 0.0013892651423931127, 0.0013722032769914751, 0.0013613446283856924, 0.0013537302270007255, 0.0013475522492485655]\n"
     ]
    },
    {
     "data": {
      "application/vnd.jupyter.widget-view+json": {
       "model_id": "da1b0e494f9c4b98a7fbd7f127dc6531",
       "version_major": 2,
       "version_minor": 0
      },
      "text/plain": [
       "0it [00:00, ?it/s]"
      ]
     },
     "metadata": {},
     "output_type": "display_data"
    },
    {
     "name": "stdout",
     "output_type": "stream",
     "text": [
      "Loss of train: 0.00125\n",
      "Loss of val: 0.00134\n",
      "Loss of test: 0.00121\n",
      "Loss of gw_test: 0.00105\n",
      "[0.0015222996103961208, 0.0014513848865051722, 0.0014130740448110317, 0.0013892651423931127, 0.0013722032769914751, 0.0013613446283856924, 0.0013537302270007255, 0.0013475522492485655, 0.0013443004977656708]\n"
     ]
    },
    {
     "data": {
      "application/vnd.jupyter.widget-view+json": {
       "model_id": "c5d4c17fb2d54e818b164894653d63ab",
       "version_major": 2,
       "version_minor": 0
      },
      "text/plain": [
       "0it [00:00, ?it/s]"
      ]
     },
     "metadata": {},
     "output_type": "display_data"
    },
    {
     "name": "stdout",
     "output_type": "stream",
     "text": [
      "Loss of train: 0.00125\n",
      "Loss of val: 0.00134\n",
      "Loss of test: 0.00121\n",
      "Loss of gw_test: 0.00105\n",
      "[0.0015222996103961208, 0.0014513848865051722, 0.0014130740448110317, 0.0013892651423931127, 0.0013722032769914751, 0.0013613446283856924, 0.0013537302270007255, 0.0013475522492485655, 0.0013443004977656708, 0.0013420810275010958]\n"
     ]
    },
    {
     "data": {
      "application/vnd.jupyter.widget-view+json": {
       "model_id": "27511498a4c748ecaf1c4cd08a773669",
       "version_major": 2,
       "version_minor": 0
      },
      "text/plain": [
       "0it [00:00, ?it/s]"
      ]
     },
     "metadata": {},
     "output_type": "display_data"
    },
    {
     "name": "stdout",
     "output_type": "stream",
     "text": [
      "Loss of train: 0.00124\n",
      "Loss of val: 0.00134\n",
      "Loss of test: 0.00120\n",
      "Loss of gw_test: 0.00104\n",
      "[0.0015222996103961208, 0.0014513848865051722, 0.0014130740448110317, 0.0013892651423931127, 0.0013722032769914751, 0.0013613446283856924, 0.0013537302270007255, 0.0013475522492485655, 0.0013443004977656708, 0.0013420810275010958, 0.001340118705644529]\n"
     ]
    },
    {
     "data": {
      "application/vnd.jupyter.widget-view+json": {
       "model_id": "c6028463d1714d719309c8af026394c4",
       "version_major": 2,
       "version_minor": 0
      },
      "text/plain": [
       "0it [00:00, ?it/s]"
      ]
     },
     "metadata": {},
     "output_type": "display_data"
    },
    {
     "name": "stdout",
     "output_type": "stream",
     "text": [
      "Loss of train: 0.00124\n",
      "Loss of val: 0.00134\n",
      "Loss of test: 0.00120\n",
      "Loss of gw_test: 0.00104\n",
      "[0.0015222996103961208, 0.0014513848865051722, 0.0014130740448110317, 0.0013892651423931127, 0.0013722032769914751, 0.0013613446283856924, 0.0013537302270007255, 0.0013475522492485655, 0.0013443004977656708, 0.0013420810275010958, 0.001340118705644529, 0.0013391655476861384]\n"
     ]
    },
    {
     "data": {
      "application/vnd.jupyter.widget-view+json": {
       "model_id": "d14bbcd8194d44dda1717f84c696bdfa",
       "version_major": 2,
       "version_minor": 0
      },
      "text/plain": [
       "0it [00:00, ?it/s]"
      ]
     },
     "metadata": {},
     "output_type": "display_data"
    },
    {
     "name": "stdout",
     "output_type": "stream",
     "text": [
      "Loss of train: 0.00124\n",
      "Loss of val: 0.00134\n",
      "Loss of test: 0.00120\n",
      "Loss of gw_test: 0.00104\n",
      "[0.0015222996103961208, 0.0014513848865051722, 0.0014130740448110317, 0.0013892651423931127, 0.0013722032769914751, 0.0013613446283856924, 0.0013537302270007255, 0.0013475522492485655, 0.0013443004977656708, 0.0013420810275010958, 0.001340118705644529, 0.0013391655476861384, 0.0013386107511897626]\n"
     ]
    },
    {
     "data": {
      "application/vnd.jupyter.widget-view+json": {
       "model_id": "95667a40821d4162b6b17b410a4ecfa9",
       "version_major": 2,
       "version_minor": 0
      },
      "text/plain": [
       "0it [00:00, ?it/s]"
      ]
     },
     "metadata": {},
     "output_type": "display_data"
    },
    {
     "name": "stdout",
     "output_type": "stream",
     "text": [
      "Loss of train: 0.00123\n",
      "Loss of val: 0.00134\n",
      "Loss of test: 0.00120\n",
      "Loss of gw_test: 0.00103\n",
      "[0.0015222996103961208, 0.0014513848865051722, 0.0014130740448110317, 0.0013892651423931127, 0.0013722032769914751, 0.0013613446283856924, 0.0013537302270007255, 0.0013475522492485655, 0.0013443004977656708, 0.0013420810275010958, 0.001340118705644529, 0.0013391655476861384, 0.0013386107511897626, 0.001337428449204071]\n"
     ]
    },
    {
     "data": {
      "application/vnd.jupyter.widget-view+json": {
       "model_id": "3b9ff5a8f56b4ddc9d657660c9af68ff",
       "version_major": 2,
       "version_minor": 0
      },
      "text/plain": [
       "0it [00:00, ?it/s]"
      ]
     },
     "metadata": {},
     "output_type": "display_data"
    },
    {
     "name": "stdout",
     "output_type": "stream",
     "text": [
      "Loss of train: 0.00123\n",
      "Loss of val: 0.00134\n",
      "Loss of test: 0.00120\n",
      "Loss of gw_test: 0.00103\n",
      "[0.0015222996103961208, 0.0014513848865051722, 0.0014130740448110317, 0.0013892651423931127, 0.0013722032769914751, 0.0013613446283856924, 0.0013537302270007255, 0.0013475522492485655, 0.0013443004977656708, 0.0013420810275010958, 0.001340118705644529, 0.0013391655476861384, 0.0013386107511897626, 0.001337428449204071, 0.0013370276625523597]\n"
     ]
    },
    {
     "data": {
      "application/vnd.jupyter.widget-view+json": {
       "model_id": "b8cf678e234645fb84238b8057b5906d",
       "version_major": 2,
       "version_minor": 0
      },
      "text/plain": [
       "0it [00:00, ?it/s]"
      ]
     },
     "metadata": {},
     "output_type": "display_data"
    },
    {
     "name": "stdout",
     "output_type": "stream",
     "text": [
      "Loss of train: 0.00122\n",
      "Loss of val: 0.00134\n",
      "Loss of test: 0.00120\n",
      "Loss of gw_test: 0.00103\n",
      "[0.0015222996103961208, 0.0014513848865051722, 0.0014130740448110317, 0.0013892651423931127, 0.0013722032769914751, 0.0013613446283856924, 0.0013537302270007255, 0.0013475522492485655, 0.0013443004977656708, 0.0013420810275010958, 0.001340118705644529, 0.0013391655476861384, 0.0013386107511897626, 0.001337428449204071, 0.0013370276625523597, 0.0013376070834006616]\n",
      "Break at 15\n",
      "{'f1': 3, 'f2': 2, 'f3': 2, 'f4': 2, 'f5': 5}\n",
      "AUROC of val: 0.94502\n",
      "AUROC of test: 0.94515\n",
      "AUROC of gw_test: 0.94520\n"
     ]
    },
    {
     "data": {
      "application/vnd.jupyter.widget-view+json": {
       "model_id": "a1d49d38ba584014bbc8c7a82b195e34",
       "version_major": 2,
       "version_minor": 0
      },
      "text/plain": [
       "0it [00:00, ?it/s]"
      ]
     },
     "metadata": {},
     "output_type": "display_data"
    },
    {
     "name": "stdout",
     "output_type": "stream",
     "text": [
      "Loss of train: 0.00128\n",
      "Loss of val: 0.00140\n",
      "Loss of test: 0.00124\n",
      "Loss of gw_test: 0.00104\n",
      "[0.0013956510379078513]\n"
     ]
    },
    {
     "data": {
      "application/vnd.jupyter.widget-view+json": {
       "model_id": "f9da5788116b4842ab53a888ece34aeb",
       "version_major": 2,
       "version_minor": 0
      },
      "text/plain": [
       "0it [00:00, ?it/s]"
      ]
     },
     "metadata": {},
     "output_type": "display_data"
    },
    {
     "name": "stdout",
     "output_type": "stream",
     "text": [
      "Loss of train: 0.00120\n",
      "Loss of val: 0.00134\n",
      "Loss of test: 0.00118\n",
      "Loss of gw_test: 0.00097\n",
      "[0.0013956510379078513, 0.0013416354414304342]\n"
     ]
    },
    {
     "data": {
      "application/vnd.jupyter.widget-view+json": {
       "model_id": "3044af3924fe431bacd31b02246c3cf9",
       "version_major": 2,
       "version_minor": 0
      },
      "text/plain": [
       "0it [00:00, ?it/s]"
      ]
     },
     "metadata": {},
     "output_type": "display_data"
    },
    {
     "name": "stdout",
     "output_type": "stream",
     "text": [
      "Loss of train: 0.00118\n",
      "Loss of val: 0.00133\n",
      "Loss of test: 0.00117\n",
      "Loss of gw_test: 0.00096\n",
      "[0.0013956510379078513, 0.0013416354414304342, 0.0013280121176254633]\n"
     ]
    },
    {
     "data": {
      "application/vnd.jupyter.widget-view+json": {
       "model_id": "dcabcbe80a8441c88d0debef3c63bde8",
       "version_major": 2,
       "version_minor": 0
      },
      "text/plain": [
       "0it [00:00, ?it/s]"
      ]
     },
     "metadata": {},
     "output_type": "display_data"
    },
    {
     "name": "stdout",
     "output_type": "stream",
     "text": [
      "Loss of train: 0.00117\n",
      "Loss of val: 0.00133\n",
      "Loss of test: 0.00116\n",
      "Loss of gw_test: 0.00095\n",
      "[0.0013956510379078513, 0.0013416354414304342, 0.0013280121176254633, 0.001325368431458003]\n"
     ]
    },
    {
     "data": {
      "application/vnd.jupyter.widget-view+json": {
       "model_id": "04fa8c387c1c4b9388dc0f3a2c7e9c1d",
       "version_major": 2,
       "version_minor": 0
      },
      "text/plain": [
       "0it [00:00, ?it/s]"
      ]
     },
     "metadata": {},
     "output_type": "display_data"
    },
    {
     "name": "stdout",
     "output_type": "stream",
     "text": [
      "Loss of train: 0.00116\n",
      "Loss of val: 0.00133\n",
      "Loss of test: 0.00116\n",
      "Loss of gw_test: 0.00095\n",
      "[0.0013956510379078513, 0.0013416354414304342, 0.0013280121176254633, 0.001325368431458003, 0.0013264793001089997]\n",
      "Break at 4\n",
      "{'f1': 3, 'f2': 2, 'f3': 2, 'f4': 3, 'f5': 2}\n",
      "AUROC of val: 0.94374\n",
      "AUROC of test: 0.94631\n",
      "AUROC of gw_test: 0.95116\n"
     ]
    },
    {
     "data": {
      "application/vnd.jupyter.widget-view+json": {
       "model_id": "3b3c62f2d34a4c0fb3b24feb8eee5708",
       "version_major": 2,
       "version_minor": 0
      },
      "text/plain": [
       "0it [00:00, ?it/s]"
      ]
     },
     "metadata": {},
     "output_type": "display_data"
    },
    {
     "name": "stdout",
     "output_type": "stream",
     "text": [
      "Loss of train: 0.00142\n",
      "Loss of val: 0.00160\n",
      "Loss of test: 0.00134\n",
      "Loss of gw_test: 0.00120\n",
      "[0.0015968445007168628]\n"
     ]
    },
    {
     "data": {
      "application/vnd.jupyter.widget-view+json": {
       "model_id": "bc8957f1cd07400abc0127403094eaaa",
       "version_major": 2,
       "version_minor": 0
      },
      "text/plain": [
       "0it [00:00, ?it/s]"
      ]
     },
     "metadata": {},
     "output_type": "display_data"
    },
    {
     "name": "stdout",
     "output_type": "stream",
     "text": [
      "Loss of train: 0.00127\n",
      "Loss of val: 0.00145\n",
      "Loss of test: 0.00124\n",
      "Loss of gw_test: 0.00107\n",
      "[0.0015968445007168628, 0.0014484912892657265]\n"
     ]
    },
    {
     "data": {
      "application/vnd.jupyter.widget-view+json": {
       "model_id": "3b4112aa9bdd455f9e77ffdafa4b7ef6",
       "version_major": 2,
       "version_minor": 0
      },
      "text/plain": [
       "0it [00:00, ?it/s]"
      ]
     },
     "metadata": {},
     "output_type": "display_data"
    },
    {
     "name": "stdout",
     "output_type": "stream",
     "text": [
      "Loss of train: 0.00125\n",
      "Loss of val: 0.00142\n",
      "Loss of test: 0.00121\n",
      "Loss of gw_test: 0.00104\n",
      "[0.0015968445007168628, 0.0014484912892657265, 0.0014230179402207029]\n"
     ]
    },
    {
     "data": {
      "application/vnd.jupyter.widget-view+json": {
       "model_id": "58f7c76352cb47b384910371166af692",
       "version_major": 2,
       "version_minor": 0
      },
      "text/plain": [
       "0it [00:00, ?it/s]"
      ]
     },
     "metadata": {},
     "output_type": "display_data"
    },
    {
     "name": "stdout",
     "output_type": "stream",
     "text": [
      "Loss of train: 0.00123\n",
      "Loss of val: 0.00142\n",
      "Loss of test: 0.00119\n",
      "Loss of gw_test: 0.00103\n",
      "[0.0015968445007168628, 0.0014484912892657265, 0.0014230179402207029, 0.0014159385061967413]\n"
     ]
    },
    {
     "data": {
      "application/vnd.jupyter.widget-view+json": {
       "model_id": "6144bb8517c94bb395a21342051a418c",
       "version_major": 2,
       "version_minor": 0
      },
      "text/plain": [
       "0it [00:00, ?it/s]"
      ]
     },
     "metadata": {},
     "output_type": "display_data"
    },
    {
     "name": "stdout",
     "output_type": "stream",
     "text": [
      "Loss of train: 0.00122\n",
      "Loss of val: 0.00142\n",
      "Loss of test: 0.00119\n",
      "Loss of gw_test: 0.00102\n",
      "[0.0015968445007168628, 0.0014484912892657265, 0.0014230179402207029, 0.0014159385061967413, 0.0014161568473371644]\n",
      "Break at 4\n",
      "{'f1': 3, 'f2': 2, 'f3': 2, 'f4': 3, 'f5': 3}\n",
      "AUROC of val: 0.93818\n",
      "AUROC of test: 0.94366\n",
      "AUROC of gw_test: 0.94321\n"
     ]
    },
    {
     "data": {
      "application/vnd.jupyter.widget-view+json": {
       "model_id": "06605d8aeb83439786611d0eefbe2107",
       "version_major": 2,
       "version_minor": 0
      },
      "text/plain": [
       "0it [00:00, ?it/s]"
      ]
     },
     "metadata": {},
     "output_type": "display_data"
    },
    {
     "name": "stdout",
     "output_type": "stream",
     "text": [
      "Loss of train: 0.00133\n",
      "Loss of val: 0.00147\n",
      "Loss of test: 0.00129\n",
      "Loss of gw_test: 0.00110\n",
      "[0.0014683315168810022]\n"
     ]
    },
    {
     "data": {
      "application/vnd.jupyter.widget-view+json": {
       "model_id": "b1e2da403da946998ff1b797577b8982",
       "version_major": 2,
       "version_minor": 0
      },
      "text/plain": [
       "0it [00:00, ?it/s]"
      ]
     },
     "metadata": {},
     "output_type": "display_data"
    },
    {
     "name": "stdout",
     "output_type": "stream",
     "text": [
      "Loss of train: 0.00128\n",
      "Loss of val: 0.00143\n",
      "Loss of test: 0.00125\n",
      "Loss of gw_test: 0.00107\n",
      "[0.0014683315168810022, 0.001425174149151047]\n"
     ]
    },
    {
     "data": {
      "application/vnd.jupyter.widget-view+json": {
       "model_id": "b75164c636cd4064bfaa3decf2051558",
       "version_major": 2,
       "version_minor": 0
      },
      "text/plain": [
       "0it [00:00, ?it/s]"
      ]
     },
     "metadata": {},
     "output_type": "display_data"
    },
    {
     "name": "stdout",
     "output_type": "stream",
     "text": [
      "Loss of train: 0.00124\n",
      "Loss of val: 0.00137\n",
      "Loss of test: 0.00121\n",
      "Loss of gw_test: 0.00105\n",
      "[0.0014683315168810022, 0.001425174149151047, 0.0013731133499523922]\n"
     ]
    },
    {
     "data": {
      "application/vnd.jupyter.widget-view+json": {
       "model_id": "9e2655fb838043eb8d77153b259e840a",
       "version_major": 2,
       "version_minor": 0
      },
      "text/plain": [
       "0it [00:00, ?it/s]"
      ]
     },
     "metadata": {},
     "output_type": "display_data"
    },
    {
     "name": "stdout",
     "output_type": "stream",
     "text": [
      "Loss of train: 0.00122\n",
      "Loss of val: 0.00135\n",
      "Loss of test: 0.00120\n",
      "Loss of gw_test: 0.00104\n",
      "[0.0014683315168810022, 0.001425174149151047, 0.0013731133499523922, 0.0013462517969304994]\n"
     ]
    },
    {
     "data": {
      "application/vnd.jupyter.widget-view+json": {
       "model_id": "04e20eaf32d74ba3bf693d9fbad5ae71",
       "version_major": 2,
       "version_minor": 0
      },
      "text/plain": [
       "0it [00:00, ?it/s]"
      ]
     },
     "metadata": {},
     "output_type": "display_data"
    },
    {
     "name": "stdout",
     "output_type": "stream",
     "text": [
      "Loss of train: 0.00121\n",
      "Loss of val: 0.00132\n",
      "Loss of test: 0.00118\n",
      "Loss of gw_test: 0.00103\n",
      "[0.0014683315168810022, 0.001425174149151047, 0.0013731133499523922, 0.0013462517969304994, 0.0013245265249503025]\n"
     ]
    },
    {
     "data": {
      "application/vnd.jupyter.widget-view+json": {
       "model_id": "58332578c4c94aea994691be16653e55",
       "version_major": 2,
       "version_minor": 0
      },
      "text/plain": [
       "0it [00:00, ?it/s]"
      ]
     },
     "metadata": {},
     "output_type": "display_data"
    },
    {
     "name": "stdout",
     "output_type": "stream",
     "text": [
      "Loss of train: 0.00120\n",
      "Loss of val: 0.00131\n",
      "Loss of test: 0.00117\n",
      "Loss of gw_test: 0.00103\n",
      "[0.0014683315168810022, 0.001425174149151047, 0.0013731133499523922, 0.0013462517969304994, 0.0013245265249503025, 0.0013123358718711512]\n"
     ]
    },
    {
     "data": {
      "application/vnd.jupyter.widget-view+json": {
       "model_id": "824430421af04d18a7d6ee932f6617ef",
       "version_major": 2,
       "version_minor": 0
      },
      "text/plain": [
       "0it [00:00, ?it/s]"
      ]
     },
     "metadata": {},
     "output_type": "display_data"
    },
    {
     "name": "stdout",
     "output_type": "stream",
     "text": [
      "Loss of train: 0.00122\n",
      "Loss of val: 0.00134\n",
      "Loss of test: 0.00118\n",
      "Loss of gw_test: 0.00106\n",
      "[0.0014683315168810022, 0.001425174149151047, 0.0013731133499523922, 0.0013462517969304994, 0.0013245265249503025, 0.0013123358718711512, 0.0013379328820300929]\n",
      "Break at 6\n",
      "{'f1': 3, 'f2': 2, 'f3': 2, 'f4': 3, 'f5': 4}\n",
      "AUROC of val: 0.94578\n",
      "AUROC of test: 0.94662\n",
      "AUROC of gw_test: 0.94399\n"
     ]
    },
    {
     "data": {
      "application/vnd.jupyter.widget-view+json": {
       "model_id": "152782934d0b421daa8cb8b2951e484d",
       "version_major": 2,
       "version_minor": 0
      },
      "text/plain": [
       "0it [00:00, ?it/s]"
      ]
     },
     "metadata": {},
     "output_type": "display_data"
    },
    {
     "name": "stdout",
     "output_type": "stream",
     "text": [
      "Loss of train: 0.00134\n",
      "Loss of val: 0.00147\n",
      "Loss of test: 0.00130\n",
      "Loss of gw_test: 0.00112\n",
      "[0.0014713828763077742]\n"
     ]
    },
    {
     "data": {
      "application/vnd.jupyter.widget-view+json": {
       "model_id": "520e0a84a54d4464b16d29a33ee5c028",
       "version_major": 2,
       "version_minor": 0
      },
      "text/plain": [
       "0it [00:00, ?it/s]"
      ]
     },
     "metadata": {},
     "output_type": "display_data"
    },
    {
     "name": "stdout",
     "output_type": "stream",
     "text": [
      "Loss of train: 0.00121\n",
      "Loss of val: 0.00135\n",
      "Loss of test: 0.00122\n",
      "Loss of gw_test: 0.00101\n",
      "[0.0014713828763077742, 0.0013485255227376192]\n"
     ]
    },
    {
     "data": {
      "application/vnd.jupyter.widget-view+json": {
       "model_id": "34fc520782a54888aacc1e11c620df7d",
       "version_major": 2,
       "version_minor": 0
      },
      "text/plain": [
       "0it [00:00, ?it/s]"
      ]
     },
     "metadata": {},
     "output_type": "display_data"
    },
    {
     "name": "stdout",
     "output_type": "stream",
     "text": [
      "Loss of train: 0.00118\n",
      "Loss of val: 0.00132\n",
      "Loss of test: 0.00120\n",
      "Loss of gw_test: 0.00099\n",
      "[0.0014713828763077742, 0.0013485255227376192, 0.0013193918024351089]\n"
     ]
    },
    {
     "data": {
      "application/vnd.jupyter.widget-view+json": {
       "model_id": "f178db49d02a46ba98e0596e293233ff",
       "version_major": 2,
       "version_minor": 0
      },
      "text/plain": [
       "0it [00:00, ?it/s]"
      ]
     },
     "metadata": {},
     "output_type": "display_data"
    },
    {
     "name": "stdout",
     "output_type": "stream",
     "text": [
      "Loss of train: 0.00117\n",
      "Loss of val: 0.00130\n",
      "Loss of test: 0.00118\n",
      "Loss of gw_test: 0.00098\n",
      "[0.0014713828763077742, 0.0013485255227376192, 0.0013193918024351089, 0.001302714790372283]\n"
     ]
    },
    {
     "data": {
      "application/vnd.jupyter.widget-view+json": {
       "model_id": "2009a4fb929d42ed94461df4697dfa3a",
       "version_major": 2,
       "version_minor": 0
      },
      "text/plain": [
       "0it [00:00, ?it/s]"
      ]
     },
     "metadata": {},
     "output_type": "display_data"
    },
    {
     "name": "stdout",
     "output_type": "stream",
     "text": [
      "Loss of train: 0.00116\n",
      "Loss of val: 0.00129\n",
      "Loss of test: 0.00117\n",
      "Loss of gw_test: 0.00098\n",
      "[0.0014713828763077742, 0.0013485255227376192, 0.0013193918024351089, 0.001302714790372283, 0.0012895625976872798]\n"
     ]
    },
    {
     "data": {
      "application/vnd.jupyter.widget-view+json": {
       "model_id": "6ad2f121e9c5428dab5ce8a1d0cfede2",
       "version_major": 2,
       "version_minor": 0
      },
      "text/plain": [
       "0it [00:00, ?it/s]"
      ]
     },
     "metadata": {},
     "output_type": "display_data"
    },
    {
     "name": "stdout",
     "output_type": "stream",
     "text": [
      "Loss of train: 0.00115\n",
      "Loss of val: 0.00128\n",
      "Loss of test: 0.00117\n",
      "Loss of gw_test: 0.00097\n",
      "[0.0014713828763077742, 0.0013485255227376192, 0.0013193918024351089, 0.001302714790372283, 0.0012895625976872798, 0.001281843636343612]\n"
     ]
    },
    {
     "data": {
      "application/vnd.jupyter.widget-view+json": {
       "model_id": "d7130463fdd54ebfba8c00f4f65007b4",
       "version_major": 2,
       "version_minor": 0
      },
      "text/plain": [
       "0it [00:00, ?it/s]"
      ]
     },
     "metadata": {},
     "output_type": "display_data"
    },
    {
     "name": "stdout",
     "output_type": "stream",
     "text": [
      "Loss of train: 0.00114\n",
      "Loss of val: 0.00128\n",
      "Loss of test: 0.00116\n",
      "Loss of gw_test: 0.00097\n",
      "[0.0014713828763077742, 0.0013485255227376192, 0.0013193918024351089, 0.001302714790372283, 0.0012895625976872798, 0.001281843636343612, 0.001275401845779088]\n"
     ]
    },
    {
     "data": {
      "application/vnd.jupyter.widget-view+json": {
       "model_id": "22a6936f1d1e4abf9289594f0aba2e80",
       "version_major": 2,
       "version_minor": 0
      },
      "text/plain": [
       "0it [00:00, ?it/s]"
      ]
     },
     "metadata": {},
     "output_type": "display_data"
    },
    {
     "name": "stdout",
     "output_type": "stream",
     "text": [
      "Loss of train: 0.00114\n",
      "Loss of val: 0.00127\n",
      "Loss of test: 0.00116\n",
      "Loss of gw_test: 0.00097\n",
      "[0.0014713828763077742, 0.0013485255227376192, 0.0013193918024351089, 0.001302714790372283, 0.0012895625976872798, 0.001281843636343612, 0.001275401845779088, 0.0012691571215582545]\n"
     ]
    },
    {
     "data": {
      "application/vnd.jupyter.widget-view+json": {
       "model_id": "08d7875d06184c948516ced77d8b52bf",
       "version_major": 2,
       "version_minor": 0
      },
      "text/plain": [
       "0it [00:00, ?it/s]"
      ]
     },
     "metadata": {},
     "output_type": "display_data"
    },
    {
     "name": "stdout",
     "output_type": "stream",
     "text": [
      "Loss of train: 0.00113\n",
      "Loss of val: 0.00126\n",
      "Loss of test: 0.00116\n",
      "Loss of gw_test: 0.00096\n",
      "[0.0014713828763077742, 0.0013485255227376192, 0.0013193918024351089, 0.001302714790372283, 0.0012895625976872798, 0.001281843636343612, 0.001275401845779088, 0.0012691571215582545, 0.0012628272652785177]\n"
     ]
    },
    {
     "data": {
      "application/vnd.jupyter.widget-view+json": {
       "model_id": "f82f6b02e87b4183964bde385af951b9",
       "version_major": 2,
       "version_minor": 0
      },
      "text/plain": [
       "0it [00:00, ?it/s]"
      ]
     },
     "metadata": {},
     "output_type": "display_data"
    },
    {
     "name": "stdout",
     "output_type": "stream",
     "text": [
      "Loss of train: 0.00112\n",
      "Loss of val: 0.00126\n",
      "Loss of test: 0.00116\n",
      "Loss of gw_test: 0.00096\n",
      "[0.0014713828763077742, 0.0013485255227376192, 0.0013193918024351089, 0.001302714790372283, 0.0012895625976872798, 0.001281843636343612, 0.001275401845779088, 0.0012691571215582545, 0.0012628272652785177, 0.001257233569899485]\n"
     ]
    },
    {
     "data": {
      "application/vnd.jupyter.widget-view+json": {
       "model_id": "c8d1d93c8fbc44779d4695e9c20d2519",
       "version_major": 2,
       "version_minor": 0
      },
      "text/plain": [
       "0it [00:00, ?it/s]"
      ]
     },
     "metadata": {},
     "output_type": "display_data"
    },
    {
     "name": "stdout",
     "output_type": "stream",
     "text": [
      "Loss of train: 0.00112\n",
      "Loss of val: 0.00125\n",
      "Loss of test: 0.00115\n",
      "Loss of gw_test: 0.00096\n",
      "[0.0014713828763077742, 0.0013485255227376192, 0.0013193918024351089, 0.001302714790372283, 0.0012895625976872798, 0.001281843636343612, 0.001275401845779088, 0.0012691571215582545, 0.0012628272652785177, 0.001257233569899485, 0.0012521331510506261]\n"
     ]
    },
    {
     "data": {
      "application/vnd.jupyter.widget-view+json": {
       "model_id": "d56355ef53fd431eb7bd74367447791f",
       "version_major": 2,
       "version_minor": 0
      },
      "text/plain": [
       "0it [00:00, ?it/s]"
      ]
     },
     "metadata": {},
     "output_type": "display_data"
    },
    {
     "name": "stdout",
     "output_type": "stream",
     "text": [
      "Loss of train: 0.00112\n",
      "Loss of val: 0.00125\n",
      "Loss of test: 0.00115\n",
      "Loss of gw_test: 0.00096\n",
      "[0.0014713828763077742, 0.0013485255227376192, 0.0013193918024351089, 0.001302714790372283, 0.0012895625976872798, 0.001281843636343612, 0.001275401845779088, 0.0012691571215582545, 0.0012628272652785177, 0.001257233569899485, 0.0012521331510506261, 0.0012482899392538612]\n"
     ]
    },
    {
     "data": {
      "application/vnd.jupyter.widget-view+json": {
       "model_id": "7f7a7b1725a64a21a4f8bb346c4e6abe",
       "version_major": 2,
       "version_minor": 0
      },
      "text/plain": [
       "0it [00:00, ?it/s]"
      ]
     },
     "metadata": {},
     "output_type": "display_data"
    },
    {
     "name": "stdout",
     "output_type": "stream",
     "text": [
      "Loss of train: 0.00111\n",
      "Loss of val: 0.00125\n",
      "Loss of test: 0.00115\n",
      "Loss of gw_test: 0.00095\n",
      "[0.0014713828763077742, 0.0013485255227376192, 0.0013193918024351089, 0.001302714790372283, 0.0012895625976872798, 0.001281843636343612, 0.001275401845779088, 0.0012691571215582545, 0.0012628272652785177, 0.001257233569899485, 0.0012521331510506261, 0.0012482899392538612, 0.0012454972327274139]\n"
     ]
    },
    {
     "data": {
      "application/vnd.jupyter.widget-view+json": {
       "model_id": "09d6111e039c49e080bafbc73a8b81ac",
       "version_major": 2,
       "version_minor": 0
      },
      "text/plain": [
       "0it [00:00, ?it/s]"
      ]
     },
     "metadata": {},
     "output_type": "display_data"
    },
    {
     "name": "stdout",
     "output_type": "stream",
     "text": [
      "Loss of train: 0.00111\n",
      "Loss of val: 0.00124\n",
      "Loss of test: 0.00115\n",
      "Loss of gw_test: 0.00095\n",
      "[0.0014713828763077742, 0.0013485255227376192, 0.0013193918024351089, 0.001302714790372283, 0.0012895625976872798, 0.001281843636343612, 0.001275401845779088, 0.0012691571215582545, 0.0012628272652785177, 0.001257233569899485, 0.0012521331510506261, 0.0012482899392538612, 0.0012454972327274139, 0.0012439230042856663]\n"
     ]
    },
    {
     "data": {
      "application/vnd.jupyter.widget-view+json": {
       "model_id": "e2738a72df794607a9ecfd4d7b4cac7a",
       "version_major": 2,
       "version_minor": 0
      },
      "text/plain": [
       "0it [00:00, ?it/s]"
      ]
     },
     "metadata": {},
     "output_type": "display_data"
    },
    {
     "name": "stdout",
     "output_type": "stream",
     "text": [
      "Loss of train: 0.00111\n",
      "Loss of val: 0.00124\n",
      "Loss of test: 0.00115\n",
      "Loss of gw_test: 0.00095\n",
      "[0.0014713828763077742, 0.0013485255227376192, 0.0013193918024351089, 0.001302714790372283, 0.0012895625976872798, 0.001281843636343612, 0.001275401845779088, 0.0012691571215582545, 0.0012628272652785177, 0.001257233569899485, 0.0012521331510506261, 0.0012482899392538612, 0.0012454972327274139, 0.0012439230042856663, 0.0012430576800954681]\n"
     ]
    },
    {
     "data": {
      "application/vnd.jupyter.widget-view+json": {
       "model_id": "d97dadee20194de5ad35d66dc5ff53c0",
       "version_major": 2,
       "version_minor": 0
      },
      "text/plain": [
       "0it [00:00, ?it/s]"
      ]
     },
     "metadata": {},
     "output_type": "display_data"
    },
    {
     "name": "stdout",
     "output_type": "stream",
     "text": [
      "Loss of train: 0.00111\n",
      "Loss of val: 0.00124\n",
      "Loss of test: 0.00115\n",
      "Loss of gw_test: 0.00095\n",
      "[0.0014713828763077742, 0.0013485255227376192, 0.0013193918024351089, 0.001302714790372283, 0.0012895625976872798, 0.001281843636343612, 0.001275401845779088, 0.0012691571215582545, 0.0012628272652785177, 0.001257233569899485, 0.0012521331510506261, 0.0012482899392538612, 0.0012454972327274139, 0.0012439230042856663, 0.0012430576800954681, 0.001242695631017118]\n"
     ]
    },
    {
     "data": {
      "application/vnd.jupyter.widget-view+json": {
       "model_id": "e882bf73965a4853aa6f09116139b2e6",
       "version_major": 2,
       "version_minor": 0
      },
      "text/plain": [
       "0it [00:00, ?it/s]"
      ]
     },
     "metadata": {},
     "output_type": "display_data"
    },
    {
     "name": "stdout",
     "output_type": "stream",
     "text": [
      "Loss of train: 0.00110\n",
      "Loss of val: 0.00124\n",
      "Loss of test: 0.00115\n",
      "Loss of gw_test: 0.00095\n",
      "[0.0014713828763077742, 0.0013485255227376192, 0.0013193918024351089, 0.001302714790372283, 0.0012895625976872798, 0.001281843636343612, 0.001275401845779088, 0.0012691571215582545, 0.0012628272652785177, 0.001257233569899485, 0.0012521331510506261, 0.0012482899392538612, 0.0012454972327274139, 0.0012439230042856663, 0.0012430576800954681, 0.001242695631017118, 0.0012424491785562677]\n"
     ]
    },
    {
     "data": {
      "application/vnd.jupyter.widget-view+json": {
       "model_id": "a585290d3de8480eb95652ef66adbb8e",
       "version_major": 2,
       "version_minor": 0
      },
      "text/plain": [
       "0it [00:00, ?it/s]"
      ]
     },
     "metadata": {},
     "output_type": "display_data"
    },
    {
     "name": "stdout",
     "output_type": "stream",
     "text": [
      "Loss of train: 0.00110\n",
      "Loss of val: 0.00124\n",
      "Loss of test: 0.00115\n",
      "Loss of gw_test: 0.00095\n",
      "[0.0014713828763077742, 0.0013485255227376192, 0.0013193918024351089, 0.001302714790372283, 0.0012895625976872798, 0.001281843636343612, 0.001275401845779088, 0.0012691571215582545, 0.0012628272652785177, 0.001257233569899485, 0.0012521331510506261, 0.0012482899392538612, 0.0012454972327274139, 0.0012439230042856663, 0.0012430576800954681, 0.001242695631017118, 0.0012424491785562677, 0.0012423856858484997]\n"
     ]
    },
    {
     "data": {
      "application/vnd.jupyter.widget-view+json": {
       "model_id": "09bb4c66744b485685e151cb245e631a",
       "version_major": 2,
       "version_minor": 0
      },
      "text/plain": [
       "0it [00:00, ?it/s]"
      ]
     },
     "metadata": {},
     "output_type": "display_data"
    },
    {
     "name": "stdout",
     "output_type": "stream",
     "text": [
      "Loss of train: 0.00110\n",
      "Loss of val: 0.00124\n",
      "Loss of test: 0.00115\n",
      "Loss of gw_test: 0.00095\n",
      "[0.0014713828763077742, 0.0013485255227376192, 0.0013193918024351089, 0.001302714790372283, 0.0012895625976872798, 0.001281843636343612, 0.001275401845779088, 0.0012691571215582545, 0.0012628272652785177, 0.001257233569899485, 0.0012521331510506261, 0.0012482899392538612, 0.0012454972327274139, 0.0012439230042856663, 0.0012430576800954681, 0.001242695631017118, 0.0012424491785562677, 0.0012423856858484997, 0.001242317455626479]\n"
     ]
    },
    {
     "data": {
      "application/vnd.jupyter.widget-view+json": {
       "model_id": "0e35abb34d6b4666a553dd22b108d5b5",
       "version_major": 2,
       "version_minor": 0
      },
      "text/plain": [
       "0it [00:00, ?it/s]"
      ]
     },
     "metadata": {},
     "output_type": "display_data"
    },
    {
     "name": "stdout",
     "output_type": "stream",
     "text": [
      "Loss of train: 0.00110\n",
      "Loss of val: 0.00124\n",
      "Loss of test: 0.00115\n",
      "Loss of gw_test: 0.00095\n",
      "[0.0014713828763077742, 0.0013485255227376192, 0.0013193918024351089, 0.001302714790372283, 0.0012895625976872798, 0.001281843636343612, 0.001275401845779088, 0.0012691571215582545, 0.0012628272652785177, 0.001257233569899485, 0.0012521331510506261, 0.0012482899392538612, 0.0012454972327274139, 0.0012439230042856663, 0.0012430576800954681, 0.001242695631017118, 0.0012424491785562677, 0.0012423856858484997, 0.001242317455626479, 0.0012423589076064577]\n",
      "Break at 19\n",
      "{'f1': 3, 'f2': 2, 'f3': 2, 'f4': 3, 'f5': 5}\n",
      "AUROC of val: 0.95014\n",
      "AUROC of test: 0.94864\n",
      "AUROC of gw_test: 0.95129\n"
     ]
    },
    {
     "data": {
      "application/vnd.jupyter.widget-view+json": {
       "model_id": "d73ec145c5aa46fcbb7d1a70f69c644d",
       "version_major": 2,
       "version_minor": 0
      },
      "text/plain": [
       "0it [00:00, ?it/s]"
      ]
     },
     "metadata": {},
     "output_type": "display_data"
    },
    {
     "name": "stdout",
     "output_type": "stream",
     "text": [
      "Loss of train: 0.00139\n",
      "Loss of val: 0.00153\n",
      "Loss of test: 0.00134\n",
      "Loss of gw_test: 0.00116\n",
      "[0.001531137813150117]\n"
     ]
    },
    {
     "data": {
      "application/vnd.jupyter.widget-view+json": {
       "model_id": "a3751b5c33464a0aa4ac7c804ecbd8df",
       "version_major": 2,
       "version_minor": 0
      },
      "text/plain": [
       "0it [00:00, ?it/s]"
      ]
     },
     "metadata": {},
     "output_type": "display_data"
    },
    {
     "name": "stdout",
     "output_type": "stream",
     "text": [
      "Loss of train: 0.00129\n",
      "Loss of val: 0.00143\n",
      "Loss of test: 0.00128\n",
      "Loss of gw_test: 0.00106\n",
      "[0.001531137813150117, 0.001433042682764236]\n"
     ]
    },
    {
     "data": {
      "application/vnd.jupyter.widget-view+json": {
       "model_id": "b6b9fb6c519e458a88c1d30a9530bf9a",
       "version_major": 2,
       "version_minor": 0
      },
      "text/plain": [
       "0it [00:00, ?it/s]"
      ]
     },
     "metadata": {},
     "output_type": "display_data"
    },
    {
     "name": "stdout",
     "output_type": "stream",
     "text": [
      "Loss of train: 0.00124\n",
      "Loss of val: 0.00137\n",
      "Loss of test: 0.00125\n",
      "Loss of gw_test: 0.00100\n",
      "[0.001531137813150117, 0.001433042682764236, 0.0013742182714569981]\n"
     ]
    },
    {
     "data": {
      "application/vnd.jupyter.widget-view+json": {
       "model_id": "f2e70590fb994fc585a7f26967e47ccc",
       "version_major": 2,
       "version_minor": 0
      },
      "text/plain": [
       "0it [00:00, ?it/s]"
      ]
     },
     "metadata": {},
     "output_type": "display_data"
    },
    {
     "name": "stdout",
     "output_type": "stream",
     "text": [
      "Loss of train: 0.00121\n",
      "Loss of val: 0.00135\n",
      "Loss of test: 0.00124\n",
      "Loss of gw_test: 0.00098\n",
      "[0.001531137813150117, 0.001433042682764236, 0.0013742182714569981, 0.0013503674503617463]\n"
     ]
    },
    {
     "data": {
      "application/vnd.jupyter.widget-view+json": {
       "model_id": "fec33bfd632c4af49ba2d69e9bbc626f",
       "version_major": 2,
       "version_minor": 0
      },
      "text/plain": [
       "0it [00:00, ?it/s]"
      ]
     },
     "metadata": {},
     "output_type": "display_data"
    },
    {
     "name": "stdout",
     "output_type": "stream",
     "text": [
      "Loss of train: 0.00119\n",
      "Loss of val: 0.00134\n",
      "Loss of test: 0.00124\n",
      "Loss of gw_test: 0.00096\n",
      "[0.001531137813150117, 0.001433042682764236, 0.0013742182714569981, 0.0013503674503617463, 0.0013417648111220533]\n"
     ]
    },
    {
     "data": {
      "application/vnd.jupyter.widget-view+json": {
       "model_id": "926776c6f7644bce905e57444223d8c2",
       "version_major": 2,
       "version_minor": 0
      },
      "text/plain": [
       "0it [00:00, ?it/s]"
      ]
     },
     "metadata": {},
     "output_type": "display_data"
    },
    {
     "name": "stdout",
     "output_type": "stream",
     "text": [
      "Loss of train: 0.00119\n",
      "Loss of val: 0.00133\n",
      "Loss of test: 0.00123\n",
      "Loss of gw_test: 0.00096\n",
      "[0.001531137813150117, 0.001433042682764236, 0.0013742182714569981, 0.0013503674503617463, 0.0013417648111220533, 0.0013320914994455777]\n"
     ]
    },
    {
     "data": {
      "application/vnd.jupyter.widget-view+json": {
       "model_id": "bf40b5ee53a64834b941de24762b382b",
       "version_major": 2,
       "version_minor": 0
      },
      "text/plain": [
       "0it [00:00, ?it/s]"
      ]
     },
     "metadata": {},
     "output_type": "display_data"
    },
    {
     "name": "stdout",
     "output_type": "stream",
     "text": [
      "Loss of train: 0.00118\n",
      "Loss of val: 0.00132\n",
      "Loss of test: 0.00123\n",
      "Loss of gw_test: 0.00095\n",
      "[0.001531137813150117, 0.001433042682764236, 0.0013742182714569981, 0.0013503674503617463, 0.0013417648111220533, 0.0013320914994455777, 0.0013239158564004134]\n"
     ]
    },
    {
     "data": {
      "application/vnd.jupyter.widget-view+json": {
       "model_id": "9cacccf39bd34876b05d7aa2473000a8",
       "version_major": 2,
       "version_minor": 0
      },
      "text/plain": [
       "0it [00:00, ?it/s]"
      ]
     },
     "metadata": {},
     "output_type": "display_data"
    },
    {
     "name": "stdout",
     "output_type": "stream",
     "text": [
      "Loss of train: 0.00118\n",
      "Loss of val: 0.00132\n",
      "Loss of test: 0.00123\n",
      "Loss of gw_test: 0.00095\n",
      "[0.001531137813150117, 0.001433042682764236, 0.0013742182714569981, 0.0013503674503617463, 0.0013417648111220533, 0.0013320914994455777, 0.0013239158564004134, 0.0013194447944524113]\n"
     ]
    },
    {
     "data": {
      "application/vnd.jupyter.widget-view+json": {
       "model_id": "643a4a47591c468bbd7503a965c76e0b",
       "version_major": 2,
       "version_minor": 0
      },
      "text/plain": [
       "0it [00:00, ?it/s]"
      ]
     },
     "metadata": {},
     "output_type": "display_data"
    },
    {
     "name": "stdout",
     "output_type": "stream",
     "text": [
      "Loss of train: 0.00117\n",
      "Loss of val: 0.00132\n",
      "Loss of test: 0.00123\n",
      "Loss of gw_test: 0.00094\n",
      "[0.001531137813150117, 0.001433042682764236, 0.0013742182714569981, 0.0013503674503617463, 0.0013417648111220533, 0.0013320914994455777, 0.0013239158564004134, 0.0013194447944524113, 0.00131523613125765]\n"
     ]
    },
    {
     "data": {
      "application/vnd.jupyter.widget-view+json": {
       "model_id": "f616e60e07d641c7a70f429747431000",
       "version_major": 2,
       "version_minor": 0
      },
      "text/plain": [
       "0it [00:00, ?it/s]"
      ]
     },
     "metadata": {},
     "output_type": "display_data"
    },
    {
     "name": "stdout",
     "output_type": "stream",
     "text": [
      "Loss of train: 0.00117\n",
      "Loss of val: 0.00131\n",
      "Loss of test: 0.00123\n",
      "Loss of gw_test: 0.00094\n",
      "[0.001531137813150117, 0.001433042682764236, 0.0013742182714569981, 0.0013503674503617463, 0.0013417648111220533, 0.0013320914994455777, 0.0013239158564004134, 0.0013194447944524113, 0.00131523613125765, 0.0013126232284928069]\n"
     ]
    },
    {
     "data": {
      "application/vnd.jupyter.widget-view+json": {
       "model_id": "7789107767a048b4949cb26684372389",
       "version_major": 2,
       "version_minor": 0
      },
      "text/plain": [
       "0it [00:00, ?it/s]"
      ]
     },
     "metadata": {},
     "output_type": "display_data"
    },
    {
     "name": "stdout",
     "output_type": "stream",
     "text": [
      "Loss of train: 0.00117\n",
      "Loss of val: 0.00131\n",
      "Loss of test: 0.00123\n",
      "Loss of gw_test: 0.00094\n",
      "[0.001531137813150117, 0.001433042682764236, 0.0013742182714569981, 0.0013503674503617463, 0.0013417648111220533, 0.0013320914994455777, 0.0013239158564004134, 0.0013194447944524113, 0.00131523613125765, 0.0013126232284928069, 0.0013114185377314505]\n"
     ]
    },
    {
     "data": {
      "application/vnd.jupyter.widget-view+json": {
       "model_id": "9dda8b6dd7f14607873881f10dd66284",
       "version_major": 2,
       "version_minor": 0
      },
      "text/plain": [
       "0it [00:00, ?it/s]"
      ]
     },
     "metadata": {},
     "output_type": "display_data"
    },
    {
     "name": "stdout",
     "output_type": "stream",
     "text": [
      "Loss of train: 0.00117\n",
      "Loss of val: 0.00131\n",
      "Loss of test: 0.00123\n",
      "Loss of gw_test: 0.00095\n",
      "[0.001531137813150117, 0.001433042682764236, 0.0013742182714569981, 0.0013503674503617463, 0.0013417648111220533, 0.0013320914994455777, 0.0013239158564004134, 0.0013194447944524113, 0.00131523613125765, 0.0013126232284928069, 0.0013114185377314505, 0.0013114231903146852]\n",
      "Break at 11\n",
      "{'f1': 3, 'f2': 2, 'f3': 2, 'f4': 4, 'f5': 2}\n",
      "AUROC of val: 0.94566\n",
      "AUROC of test: 0.94299\n",
      "AUROC of gw_test: 0.94944\n"
     ]
    },
    {
     "data": {
      "application/vnd.jupyter.widget-view+json": {
       "model_id": "393c9102b7544ba6bafc1e4bb56bf8f3",
       "version_major": 2,
       "version_minor": 0
      },
      "text/plain": [
       "0it [00:00, ?it/s]"
      ]
     },
     "metadata": {},
     "output_type": "display_data"
    },
    {
     "name": "stdout",
     "output_type": "stream",
     "text": [
      "Loss of train: 0.00138\n",
      "Loss of val: 0.00152\n",
      "Loss of test: 0.00134\n",
      "Loss of gw_test: 0.00113\n",
      "[0.0015213864628477079]\n"
     ]
    },
    {
     "data": {
      "application/vnd.jupyter.widget-view+json": {
       "model_id": "3a2c4d10cb59476f8ee2faf666b59432",
       "version_major": 2,
       "version_minor": 0
      },
      "text/plain": [
       "0it [00:00, ?it/s]"
      ]
     },
     "metadata": {},
     "output_type": "display_data"
    },
    {
     "name": "stdout",
     "output_type": "stream",
     "text": [
      "Loss of train: 0.00133\n",
      "Loss of val: 0.00145\n",
      "Loss of test: 0.00129\n",
      "Loss of gw_test: 0.00109\n",
      "[0.0015213864628477079, 0.0014524140192093296]\n"
     ]
    },
    {
     "data": {
      "application/vnd.jupyter.widget-view+json": {
       "model_id": "d4eb610248b24120b846a041909fecb4",
       "version_major": 2,
       "version_minor": 0
      },
      "text/plain": [
       "0it [00:00, ?it/s]"
      ]
     },
     "metadata": {},
     "output_type": "display_data"
    },
    {
     "name": "stdout",
     "output_type": "stream",
     "text": [
      "Loss of train: 0.00131\n",
      "Loss of val: 0.00141\n",
      "Loss of test: 0.00126\n",
      "Loss of gw_test: 0.00108\n",
      "[0.0015213864628477079, 0.0014524140192093296, 0.0014134607353121602]\n"
     ]
    },
    {
     "data": {
      "application/vnd.jupyter.widget-view+json": {
       "model_id": "d3af034cbc614c48ad19b3e1671216ad",
       "version_major": 2,
       "version_minor": 0
      },
      "text/plain": [
       "0it [00:00, ?it/s]"
      ]
     },
     "metadata": {},
     "output_type": "display_data"
    },
    {
     "name": "stdout",
     "output_type": "stream",
     "text": [
      "Loss of train: 0.00129\n",
      "Loss of val: 0.00139\n",
      "Loss of test: 0.00124\n",
      "Loss of gw_test: 0.00107\n",
      "[0.0015213864628477079, 0.0014524140192093296, 0.0014134607353121602, 0.0013902265641959747]\n"
     ]
    },
    {
     "data": {
      "application/vnd.jupyter.widget-view+json": {
       "model_id": "3ef67da851b346b3957d07009936ca9a",
       "version_major": 2,
       "version_minor": 0
      },
      "text/plain": [
       "0it [00:00, ?it/s]"
      ]
     },
     "metadata": {},
     "output_type": "display_data"
    },
    {
     "name": "stdout",
     "output_type": "stream",
     "text": [
      "Loss of train: 0.00128\n",
      "Loss of val: 0.00138\n",
      "Loss of test: 0.00123\n",
      "Loss of gw_test: 0.00107\n",
      "[0.0015213864628477079, 0.0014524140192093296, 0.0014134607353121602, 0.0013902265641959747, 0.0013758829855744846]\n"
     ]
    },
    {
     "data": {
      "application/vnd.jupyter.widget-view+json": {
       "model_id": "23d08af60fd64222b549185b745379a2",
       "version_major": 2,
       "version_minor": 0
      },
      "text/plain": [
       "0it [00:00, ?it/s]"
      ]
     },
     "metadata": {},
     "output_type": "display_data"
    },
    {
     "name": "stdout",
     "output_type": "stream",
     "text": [
      "Loss of train: 0.00127\n",
      "Loss of val: 0.00137\n",
      "Loss of test: 0.00122\n",
      "Loss of gw_test: 0.00107\n",
      "[0.0015213864628477079, 0.0014524140192093296, 0.0014134607353121602, 0.0013902265641959747, 0.0013758829855744846, 0.0013661613468791069]\n"
     ]
    },
    {
     "data": {
      "application/vnd.jupyter.widget-view+json": {
       "model_id": "e1ed7e46f7da43c6b0b48da4ea52d4b0",
       "version_major": 2,
       "version_minor": 0
      },
      "text/plain": [
       "0it [00:00, ?it/s]"
      ]
     },
     "metadata": {},
     "output_type": "display_data"
    },
    {
     "name": "stdout",
     "output_type": "stream",
     "text": [
      "Loss of train: 0.00126\n",
      "Loss of val: 0.00136\n",
      "Loss of test: 0.00121\n",
      "Loss of gw_test: 0.00106\n",
      "[0.0015213864628477079, 0.0014524140192093296, 0.0014134607353121602, 0.0013902265641959747, 0.0013758829855744846, 0.0013661613468791069, 0.0013590359926853542]\n"
     ]
    },
    {
     "data": {
      "application/vnd.jupyter.widget-view+json": {
       "model_id": "4be47dec97dc40d98bc42be4f0f7f862",
       "version_major": 2,
       "version_minor": 0
      },
      "text/plain": [
       "0it [00:00, ?it/s]"
      ]
     },
     "metadata": {},
     "output_type": "display_data"
    },
    {
     "name": "stdout",
     "output_type": "stream",
     "text": [
      "Loss of train: 0.00126\n",
      "Loss of val: 0.00135\n",
      "Loss of test: 0.00121\n",
      "Loss of gw_test: 0.00106\n",
      "[0.0015213864628477079, 0.0014524140192093296, 0.0014134607353121602, 0.0013902265641959747, 0.0013758829855744846, 0.0013661613468791069, 0.0013590359926853542, 0.0013546866515584315]\n"
     ]
    },
    {
     "data": {
      "application/vnd.jupyter.widget-view+json": {
       "model_id": "136419e202a445f39a156f3319c9c5db",
       "version_major": 2,
       "version_minor": 0
      },
      "text/plain": [
       "0it [00:00, ?it/s]"
      ]
     },
     "metadata": {},
     "output_type": "display_data"
    },
    {
     "name": "stdout",
     "output_type": "stream",
     "text": [
      "Loss of train: 0.00125\n",
      "Loss of val: 0.00135\n",
      "Loss of test: 0.00120\n",
      "Loss of gw_test: 0.00106\n",
      "[0.0015213864628477079, 0.0014524140192093296, 0.0014134607353121602, 0.0013902265641959747, 0.0013758829855744846, 0.0013661613468791069, 0.0013590359926853542, 0.0013546866515584315, 0.0013517284501717514]\n"
     ]
    },
    {
     "data": {
      "application/vnd.jupyter.widget-view+json": {
       "model_id": "e0734d51efaa449a9895572ca97ae605",
       "version_major": 2,
       "version_minor": 0
      },
      "text/plain": [
       "0it [00:00, ?it/s]"
      ]
     },
     "metadata": {},
     "output_type": "display_data"
    },
    {
     "name": "stdout",
     "output_type": "stream",
     "text": [
      "Loss of train: 0.00125\n",
      "Loss of val: 0.00135\n",
      "Loss of test: 0.00119\n",
      "Loss of gw_test: 0.00106\n",
      "[0.0015213864628477079, 0.0014524140192093296, 0.0014134607353121602, 0.0013902265641959747, 0.0013758829855744846, 0.0013661613468791069, 0.0013590359926853542, 0.0013546866515584315, 0.0013517284501717514, 0.001349213583337271]\n"
     ]
    },
    {
     "data": {
      "application/vnd.jupyter.widget-view+json": {
       "model_id": "e72174829b1f4907b7d0c29a1187e54d",
       "version_major": 2,
       "version_minor": 0
      },
      "text/plain": [
       "0it [00:00, ?it/s]"
      ]
     },
     "metadata": {},
     "output_type": "display_data"
    },
    {
     "name": "stdout",
     "output_type": "stream",
     "text": [
      "Loss of train: 0.00124\n",
      "Loss of val: 0.00135\n",
      "Loss of test: 0.00119\n",
      "Loss of gw_test: 0.00106\n",
      "[0.0015213864628477079, 0.0014524140192093296, 0.0014134607353121602, 0.0013902265641959747, 0.0013758829855744846, 0.0013661613468791069, 0.0013590359926853542, 0.0013546866515584315, 0.0013517284501717514, 0.001349213583337271, 0.001345047467055428]\n"
     ]
    },
    {
     "data": {
      "application/vnd.jupyter.widget-view+json": {
       "model_id": "a2a800e7f5684f11b57007d14ad09dab",
       "version_major": 2,
       "version_minor": 0
      },
      "text/plain": [
       "0it [00:00, ?it/s]"
      ]
     },
     "metadata": {},
     "output_type": "display_data"
    },
    {
     "name": "stdout",
     "output_type": "stream",
     "text": [
      "Loss of train: 0.00124\n",
      "Loss of val: 0.00134\n",
      "Loss of test: 0.00119\n",
      "Loss of gw_test: 0.00105\n",
      "[0.0015213864628477079, 0.0014524140192093296, 0.0014134607353121602, 0.0013902265641959747, 0.0013758829855744846, 0.0013661613468791069, 0.0013590359926853542, 0.0013546866515584315, 0.0013517284501717514, 0.001349213583337271, 0.001345047467055428, 0.0013422204039571113]\n"
     ]
    },
    {
     "data": {
      "application/vnd.jupyter.widget-view+json": {
       "model_id": "13cef4fd55f142dda312eab721212e44",
       "version_major": 2,
       "version_minor": 0
      },
      "text/plain": [
       "0it [00:00, ?it/s]"
      ]
     },
     "metadata": {},
     "output_type": "display_data"
    },
    {
     "name": "stdout",
     "output_type": "stream",
     "text": [
      "Loss of train: 0.00123\n",
      "Loss of val: 0.00134\n",
      "Loss of test: 0.00119\n",
      "Loss of gw_test: 0.00105\n",
      "[0.0015213864628477079, 0.0014524140192093296, 0.0014134607353121602, 0.0013902265641959747, 0.0013758829855744846, 0.0013661613468791069, 0.0013590359926853542, 0.0013546866515584315, 0.0013517284501717514, 0.001349213583337271, 0.001345047467055428, 0.0013422204039571113, 0.0013394372465269178]\n"
     ]
    },
    {
     "data": {
      "application/vnd.jupyter.widget-view+json": {
       "model_id": "e9cc50d7afe8441fbd05614463753166",
       "version_major": 2,
       "version_minor": 0
      },
      "text/plain": [
       "0it [00:00, ?it/s]"
      ]
     },
     "metadata": {},
     "output_type": "display_data"
    },
    {
     "name": "stdout",
     "output_type": "stream",
     "text": [
      "Loss of train: 0.00123\n",
      "Loss of val: 0.00134\n",
      "Loss of test: 0.00119\n",
      "Loss of gw_test: 0.00105\n",
      "[0.0015213864628477079, 0.0014524140192093296, 0.0014134607353121602, 0.0013902265641959747, 0.0013758829855744846, 0.0013661613468791069, 0.0013590359926853542, 0.0013546866515584315, 0.0013517284501717514, 0.001349213583337271, 0.001345047467055428, 0.0013422204039571113, 0.0013394372465269178, 0.001336598642262626]\n"
     ]
    },
    {
     "data": {
      "application/vnd.jupyter.widget-view+json": {
       "model_id": "bbcdc26d8d0244c8a48d2daf7a607c29",
       "version_major": 2,
       "version_minor": 0
      },
      "text/plain": [
       "0it [00:00, ?it/s]"
      ]
     },
     "metadata": {},
     "output_type": "display_data"
    },
    {
     "name": "stdout",
     "output_type": "stream",
     "text": [
      "Loss of train: 0.00122\n",
      "Loss of val: 0.00133\n",
      "Loss of test: 0.00119\n",
      "Loss of gw_test: 0.00104\n",
      "[0.0015213864628477079, 0.0014524140192093296, 0.0014134607353121602, 0.0013902265641959747, 0.0013758829855744846, 0.0013661613468791069, 0.0013590359926853542, 0.0013546866515584315, 0.0013517284501717514, 0.001349213583337271, 0.001345047467055428, 0.0013422204039571113, 0.0013394372465269178, 0.001336598642262626, 0.0013341687016492495]\n"
     ]
    },
    {
     "data": {
      "application/vnd.jupyter.widget-view+json": {
       "model_id": "ca707ff40a1b40b7a05e51d873d57bbc",
       "version_major": 2,
       "version_minor": 0
      },
      "text/plain": [
       "0it [00:00, ?it/s]"
      ]
     },
     "metadata": {},
     "output_type": "display_data"
    },
    {
     "name": "stdout",
     "output_type": "stream",
     "text": [
      "Loss of train: 0.00122\n",
      "Loss of val: 0.00133\n",
      "Loss of test: 0.00118\n",
      "Loss of gw_test: 0.00104\n",
      "[0.0015213864628477079, 0.0014524140192093296, 0.0014134607353121602, 0.0013902265641959747, 0.0013758829855744846, 0.0013661613468791069, 0.0013590359926853542, 0.0013546866515584315, 0.0013517284501717514, 0.001349213583337271, 0.001345047467055428, 0.0013422204039571113, 0.0013394372465269178, 0.001336598642262626, 0.0013341687016492495, 0.0013315917066465438]\n"
     ]
    },
    {
     "data": {
      "application/vnd.jupyter.widget-view+json": {
       "model_id": "10f67cd02bf04dbfaf8cfbd8dbba4a4f",
       "version_major": 2,
       "version_minor": 0
      },
      "text/plain": [
       "0it [00:00, ?it/s]"
      ]
     },
     "metadata": {},
     "output_type": "display_data"
    },
    {
     "name": "stdout",
     "output_type": "stream",
     "text": [
      "Loss of train: 0.00122\n",
      "Loss of val: 0.00133\n",
      "Loss of test: 0.00118\n",
      "Loss of gw_test: 0.00104\n",
      "[0.0015213864628477079, 0.0014524140192093296, 0.0014134607353121602, 0.0013902265641959747, 0.0013758829855744846, 0.0013661613468791069, 0.0013590359926853542, 0.0013546866515584315, 0.0013517284501717514, 0.001349213583337271, 0.001345047467055428, 0.0013422204039571113, 0.0013394372465269178, 0.001336598642262626, 0.0013341687016492495, 0.0013315917066465438, 0.0013296631654674694]\n"
     ]
    },
    {
     "data": {
      "application/vnd.jupyter.widget-view+json": {
       "model_id": "73f4b9c014c3457e95a80814e050c51e",
       "version_major": 2,
       "version_minor": 0
      },
      "text/plain": [
       "0it [00:00, ?it/s]"
      ]
     },
     "metadata": {},
     "output_type": "display_data"
    },
    {
     "name": "stdout",
     "output_type": "stream",
     "text": [
      "Loss of train: 0.00121\n",
      "Loss of val: 0.00133\n",
      "Loss of test: 0.00118\n",
      "Loss of gw_test: 0.00104\n",
      "[0.0015213864628477079, 0.0014524140192093296, 0.0014134607353121602, 0.0013902265641959747, 0.0013758829855744846, 0.0013661613468791069, 0.0013590359926853542, 0.0013546866515584315, 0.0013517284501717514, 0.001349213583337271, 0.001345047467055428, 0.0013422204039571113, 0.0013394372465269178, 0.001336598642262626, 0.0013341687016492495, 0.0013315917066465438, 0.0013296631654674694, 0.0013275215041482682]\n"
     ]
    },
    {
     "data": {
      "application/vnd.jupyter.widget-view+json": {
       "model_id": "438004135a524c4ab25fc37d8d260dda",
       "version_major": 2,
       "version_minor": 0
      },
      "text/plain": [
       "0it [00:00, ?it/s]"
      ]
     },
     "metadata": {},
     "output_type": "display_data"
    },
    {
     "name": "stdout",
     "output_type": "stream",
     "text": [
      "Loss of train: 0.00121\n",
      "Loss of val: 0.00133\n",
      "Loss of test: 0.00118\n",
      "Loss of gw_test: 0.00103\n",
      "[0.0015213864628477079, 0.0014524140192093296, 0.0014134607353121602, 0.0013902265641959747, 0.0013758829855744846, 0.0013661613468791069, 0.0013590359926853542, 0.0013546866515584315, 0.0013517284501717514, 0.001349213583337271, 0.001345047467055428, 0.0013422204039571113, 0.0013394372465269178, 0.001336598642262626, 0.0013341687016492495, 0.0013315917066465438, 0.0013296631654674694, 0.0013275215041482682, 0.0013259383650037152]\n"
     ]
    },
    {
     "data": {
      "application/vnd.jupyter.widget-view+json": {
       "model_id": "cb0da52ab211429b9f517bdc2465b308",
       "version_major": 2,
       "version_minor": 0
      },
      "text/plain": [
       "0it [00:00, ?it/s]"
      ]
     },
     "metadata": {},
     "output_type": "display_data"
    },
    {
     "name": "stdout",
     "output_type": "stream",
     "text": [
      "Loss of train: 0.00121\n",
      "Loss of val: 0.00133\n",
      "Loss of test: 0.00118\n",
      "Loss of gw_test: 0.00103\n",
      "[0.0015213864628477079, 0.0014524140192093296, 0.0014134607353121602, 0.0013902265641959747, 0.0013758829855744846, 0.0013661613468791069, 0.0013590359926853542, 0.0013546866515584315, 0.0013517284501717514, 0.001349213583337271, 0.001345047467055428, 0.0013422204039571113, 0.0013394372465269178, 0.001336598642262626, 0.0013341687016492495, 0.0013315917066465438, 0.0013296631654674694, 0.0013275215041482682, 0.0013259383650037152, 0.001325446404904318]\n"
     ]
    },
    {
     "data": {
      "application/vnd.jupyter.widget-view+json": {
       "model_id": "32a6d4a47af640f992e796a834c1c521",
       "version_major": 2,
       "version_minor": 0
      },
      "text/plain": [
       "0it [00:00, ?it/s]"
      ]
     },
     "metadata": {},
     "output_type": "display_data"
    },
    {
     "name": "stdout",
     "output_type": "stream",
     "text": [
      "Loss of train: 0.00121\n",
      "Loss of val: 0.00132\n",
      "Loss of test: 0.00118\n",
      "Loss of gw_test: 0.00103\n",
      "[0.0015213864628477079, 0.0014524140192093296, 0.0014134607353121602, 0.0013902265641959747, 0.0013758829855744846, 0.0013661613468791069, 0.0013590359926853542, 0.0013546866515584315, 0.0013517284501717514, 0.001349213583337271, 0.001345047467055428, 0.0013422204039571113, 0.0013394372465269178, 0.001336598642262626, 0.0013341687016492495, 0.0013315917066465438, 0.0013296631654674694, 0.0013275215041482682, 0.0013259383650037152, 0.001325446404904318, 0.0013247553370130103]\n"
     ]
    },
    {
     "data": {
      "application/vnd.jupyter.widget-view+json": {
       "model_id": "7a133fd0eda145d4ba8b87fbe2f1e42b",
       "version_major": 2,
       "version_minor": 0
      },
      "text/plain": [
       "0it [00:00, ?it/s]"
      ]
     },
     "metadata": {},
     "output_type": "display_data"
    },
    {
     "name": "stdout",
     "output_type": "stream",
     "text": [
      "Loss of train: 0.00120\n",
      "Loss of val: 0.00133\n",
      "Loss of test: 0.00118\n",
      "Loss of gw_test: 0.00103\n",
      "[0.0015213864628477079, 0.0014524140192093296, 0.0014134607353121602, 0.0013902265641959747, 0.0013758829855744846, 0.0013661613468791069, 0.0013590359926853542, 0.0013546866515584315, 0.0013517284501717514, 0.001349213583337271, 0.001345047467055428, 0.0013422204039571113, 0.0013394372465269178, 0.001336598642262626, 0.0013341687016492495, 0.0013315917066465438, 0.0013296631654674694, 0.0013275215041482682, 0.0013259383650037152, 0.001325446404904318, 0.0013247553370130103, 0.001325506016321002]\n",
      "Break at 21\n",
      "{'f1': 3, 'f2': 2, 'f3': 2, 'f4': 4, 'f5': 3}\n",
      "AUROC of val: 0.94624\n",
      "AUROC of test: 0.94656\n",
      "AUROC of gw_test: 0.94505\n"
     ]
    },
    {
     "data": {
      "application/vnd.jupyter.widget-view+json": {
       "model_id": "84255bdcd58c4863b1201e76ff91845a",
       "version_major": 2,
       "version_minor": 0
      },
      "text/plain": [
       "0it [00:00, ?it/s]"
      ]
     },
     "metadata": {},
     "output_type": "display_data"
    },
    {
     "name": "stdout",
     "output_type": "stream",
     "text": [
      "Loss of train: 0.00139\n",
      "Loss of val: 0.00151\n",
      "Loss of test: 0.00135\n",
      "Loss of gw_test: 0.00117\n",
      "[0.0015145557398571299]\n"
     ]
    },
    {
     "data": {
      "application/vnd.jupyter.widget-view+json": {
       "model_id": "84970a60156c47eebddb8da941b16d3e",
       "version_major": 2,
       "version_minor": 0
      },
      "text/plain": [
       "0it [00:00, ?it/s]"
      ]
     },
     "metadata": {},
     "output_type": "display_data"
    },
    {
     "name": "stdout",
     "output_type": "stream",
     "text": [
      "Loss of train: 0.00123\n",
      "Loss of val: 0.00136\n",
      "Loss of test: 0.00124\n",
      "Loss of gw_test: 0.00101\n",
      "[0.0015145557398571299, 0.001355855535007625]\n"
     ]
    },
    {
     "data": {
      "application/vnd.jupyter.widget-view+json": {
       "model_id": "44e530cf8e884b3f9a46d6369eb9de38",
       "version_major": 2,
       "version_minor": 0
      },
      "text/plain": [
       "0it [00:00, ?it/s]"
      ]
     },
     "metadata": {},
     "output_type": "display_data"
    },
    {
     "name": "stdout",
     "output_type": "stream",
     "text": [
      "Loss of train: 0.00119\n",
      "Loss of val: 0.00132\n",
      "Loss of test: 0.00120\n",
      "Loss of gw_test: 0.00098\n",
      "[0.0015145557398571299, 0.001355855535007625, 0.0013245008702807294]\n"
     ]
    },
    {
     "data": {
      "application/vnd.jupyter.widget-view+json": {
       "model_id": "621cee981de64a5385dea405fea4a63f",
       "version_major": 2,
       "version_minor": 0
      },
      "text/plain": [
       "0it [00:00, ?it/s]"
      ]
     },
     "metadata": {},
     "output_type": "display_data"
    },
    {
     "name": "stdout",
     "output_type": "stream",
     "text": [
      "Loss of train: 0.00118\n",
      "Loss of val: 0.00130\n",
      "Loss of test: 0.00118\n",
      "Loss of gw_test: 0.00097\n",
      "[0.0015145557398571299, 0.001355855535007625, 0.0013245008702807294, 0.0013044611110649424]\n"
     ]
    },
    {
     "data": {
      "application/vnd.jupyter.widget-view+json": {
       "model_id": "8f9a354cfe0c4255bc30f006af8b9485",
       "version_major": 2,
       "version_minor": 0
      },
      "text/plain": [
       "0it [00:00, ?it/s]"
      ]
     },
     "metadata": {},
     "output_type": "display_data"
    },
    {
     "name": "stdout",
     "output_type": "stream",
     "text": [
      "Loss of train: 0.00116\n",
      "Loss of val: 0.00129\n",
      "Loss of test: 0.00116\n",
      "Loss of gw_test: 0.00096\n",
      "[0.0015145557398571299, 0.001355855535007625, 0.0013245008702807294, 0.0013044611110649424, 0.001286157227578512]\n"
     ]
    },
    {
     "data": {
      "application/vnd.jupyter.widget-view+json": {
       "model_id": "67c558fba02e4aa4b61f0190e4de7aab",
       "version_major": 2,
       "version_minor": 0
      },
      "text/plain": [
       "0it [00:00, ?it/s]"
      ]
     },
     "metadata": {},
     "output_type": "display_data"
    },
    {
     "name": "stdout",
     "output_type": "stream",
     "text": [
      "Loss of train: 0.00115\n",
      "Loss of val: 0.00128\n",
      "Loss of test: 0.00115\n",
      "Loss of gw_test: 0.00096\n",
      "[0.0015145557398571299, 0.001355855535007625, 0.0013245008702807294, 0.0013044611110649424, 0.001286157227578512, 0.001276694128636156]\n"
     ]
    },
    {
     "data": {
      "application/vnd.jupyter.widget-view+json": {
       "model_id": "8c3b618d772a4060abf06ee6ab05b223",
       "version_major": 2,
       "version_minor": 0
      },
      "text/plain": [
       "0it [00:00, ?it/s]"
      ]
     },
     "metadata": {},
     "output_type": "display_data"
    },
    {
     "name": "stdout",
     "output_type": "stream",
     "text": [
      "Loss of train: 0.00115\n",
      "Loss of val: 0.00127\n",
      "Loss of test: 0.00115\n",
      "Loss of gw_test: 0.00096\n",
      "[0.0015145557398571299, 0.001355855535007625, 0.0013245008702807294, 0.0013044611110649424, 0.001286157227578512, 0.001276694128636156, 0.0012677870873170343]\n"
     ]
    },
    {
     "data": {
      "application/vnd.jupyter.widget-view+json": {
       "model_id": "45783138f75241b497ed7bfe42b165f7",
       "version_major": 2,
       "version_minor": 0
      },
      "text/plain": [
       "0it [00:00, ?it/s]"
      ]
     },
     "metadata": {},
     "output_type": "display_data"
    },
    {
     "name": "stdout",
     "output_type": "stream",
     "text": [
      "Loss of train: 0.00115\n",
      "Loss of val: 0.00126\n",
      "Loss of test: 0.00115\n",
      "Loss of gw_test: 0.00095\n",
      "[0.0015145557398571299, 0.001355855535007625, 0.0013245008702807294, 0.0013044611110649424, 0.001286157227578512, 0.001276694128636156, 0.0012677870873170343, 0.0012634464061912246]\n"
     ]
    },
    {
     "data": {
      "application/vnd.jupyter.widget-view+json": {
       "model_id": "cbe0a629e77747c79fcf61f9e3a9d80c",
       "version_major": 2,
       "version_minor": 0
      },
      "text/plain": [
       "0it [00:00, ?it/s]"
      ]
     },
     "metadata": {},
     "output_type": "display_data"
    },
    {
     "name": "stdout",
     "output_type": "stream",
     "text": [
      "Loss of train: 0.00114\n",
      "Loss of val: 0.00126\n",
      "Loss of test: 0.00115\n",
      "Loss of gw_test: 0.00095\n",
      "[0.0015145557398571299, 0.001355855535007625, 0.0013245008702807294, 0.0013044611110649424, 0.001286157227578512, 0.001276694128636156, 0.0012677870873170343, 0.0012634464061912246, 0.0012612896950110076]\n"
     ]
    },
    {
     "data": {
      "application/vnd.jupyter.widget-view+json": {
       "model_id": "c1c14aca32ae40949197136da7d1106c",
       "version_major": 2,
       "version_minor": 0
      },
      "text/plain": [
       "0it [00:00, ?it/s]"
      ]
     },
     "metadata": {},
     "output_type": "display_data"
    },
    {
     "name": "stdout",
     "output_type": "stream",
     "text": [
      "Loss of train: 0.00114\n",
      "Loss of val: 0.00126\n",
      "Loss of test: 0.00115\n",
      "Loss of gw_test: 0.00095\n",
      "[0.0015145557398571299, 0.001355855535007625, 0.0013245008702807294, 0.0013044611110649424, 0.001286157227578512, 0.001276694128636156, 0.0012677870873170343, 0.0012634464061912246, 0.0012612896950110076, 0.0012597836804258352]\n"
     ]
    },
    {
     "data": {
      "application/vnd.jupyter.widget-view+json": {
       "model_id": "df65b359118a4185a0afc3f1ccd6bdaa",
       "version_major": 2,
       "version_minor": 0
      },
      "text/plain": [
       "0it [00:00, ?it/s]"
      ]
     },
     "metadata": {},
     "output_type": "display_data"
    },
    {
     "name": "stdout",
     "output_type": "stream",
     "text": [
      "Loss of train: 0.00114\n",
      "Loss of val: 0.00126\n",
      "Loss of test: 0.00115\n",
      "Loss of gw_test: 0.00095\n",
      "[0.0015145557398571299, 0.001355855535007625, 0.0013245008702807294, 0.0013044611110649424, 0.001286157227578512, 0.001276694128636156, 0.0012677870873170343, 0.0012634464061912246, 0.0012612896950110076, 0.0012597836804258352, 0.0012584169232239559]\n"
     ]
    },
    {
     "data": {
      "application/vnd.jupyter.widget-view+json": {
       "model_id": "bf5e861031b14a56ab89772afc26aac5",
       "version_major": 2,
       "version_minor": 0
      },
      "text/plain": [
       "0it [00:00, ?it/s]"
      ]
     },
     "metadata": {},
     "output_type": "display_data"
    },
    {
     "name": "stdout",
     "output_type": "stream",
     "text": [
      "Loss of train: 0.00114\n",
      "Loss of val: 0.00126\n",
      "Loss of test: 0.00115\n",
      "Loss of gw_test: 0.00095\n",
      "[0.0015145557398571299, 0.001355855535007625, 0.0013245008702807294, 0.0013044611110649424, 0.001286157227578512, 0.001276694128636156, 0.0012677870873170343, 0.0012634464061912246, 0.0012612896950110076, 0.0012597836804258352, 0.0012584169232239559, 0.0012568594542679327]\n"
     ]
    },
    {
     "data": {
      "application/vnd.jupyter.widget-view+json": {
       "model_id": "5f0a6492a06b4ed2a5f3251e44350c92",
       "version_major": 2,
       "version_minor": 0
      },
      "text/plain": [
       "0it [00:00, ?it/s]"
      ]
     },
     "metadata": {},
     "output_type": "display_data"
    },
    {
     "name": "stdout",
     "output_type": "stream",
     "text": [
      "Loss of train: 0.00114\n",
      "Loss of val: 0.00126\n",
      "Loss of test: 0.00115\n",
      "Loss of gw_test: 0.00095\n",
      "[0.0015145557398571299, 0.001355855535007625, 0.0013245008702807294, 0.0013044611110649424, 0.001286157227578512, 0.001276694128636156, 0.0012677870873170343, 0.0012634464061912246, 0.0012612896950110076, 0.0012597836804258352, 0.0012584169232239559, 0.0012568594542679327, 0.0012561582153934497]\n"
     ]
    },
    {
     "data": {
      "application/vnd.jupyter.widget-view+json": {
       "model_id": "99452b80e7c941158aafea37956afdb8",
       "version_major": 2,
       "version_minor": 0
      },
      "text/plain": [
       "0it [00:00, ?it/s]"
      ]
     },
     "metadata": {},
     "output_type": "display_data"
    },
    {
     "name": "stdout",
     "output_type": "stream",
     "text": [
      "Loss of train: 0.00114\n",
      "Loss of val: 0.00126\n",
      "Loss of test: 0.00115\n",
      "Loss of gw_test: 0.00095\n",
      "[0.0015145557398571299, 0.001355855535007625, 0.0013245008702807294, 0.0013044611110649424, 0.001286157227578512, 0.001276694128636156, 0.0012677870873170343, 0.0012634464061912246, 0.0012612896950110076, 0.0012597836804258352, 0.0012584169232239559, 0.0012568594542679327, 0.0012561582153934497, 0.0012556703340991318]\n"
     ]
    },
    {
     "data": {
      "application/vnd.jupyter.widget-view+json": {
       "model_id": "7826bd1bc2cc4947b84e2123614f3bbf",
       "version_major": 2,
       "version_minor": 0
      },
      "text/plain": [
       "0it [00:00, ?it/s]"
      ]
     },
     "metadata": {},
     "output_type": "display_data"
    },
    {
     "name": "stdout",
     "output_type": "stream",
     "text": [
      "Loss of train: 0.00114\n",
      "Loss of val: 0.00126\n",
      "Loss of test: 0.00115\n",
      "Loss of gw_test: 0.00095\n",
      "[0.0015145557398571299, 0.001355855535007625, 0.0013245008702807294, 0.0013044611110649424, 0.001286157227578512, 0.001276694128636156, 0.0012677870873170343, 0.0012634464061912246, 0.0012612896950110076, 0.0012597836804258352, 0.0012584169232239559, 0.0012568594542679327, 0.0012561582153934497, 0.0012556703340991318, 0.0012551162270676801]\n"
     ]
    },
    {
     "data": {
      "application/vnd.jupyter.widget-view+json": {
       "model_id": "5a5991a334c14e25ad28cfb790916e04",
       "version_major": 2,
       "version_minor": 0
      },
      "text/plain": [
       "0it [00:00, ?it/s]"
      ]
     },
     "metadata": {},
     "output_type": "display_data"
    },
    {
     "name": "stdout",
     "output_type": "stream",
     "text": [
      "Loss of train: 0.00114\n",
      "Loss of val: 0.00125\n",
      "Loss of test: 0.00115\n",
      "Loss of gw_test: 0.00095\n",
      "[0.0015145557398571299, 0.001355855535007625, 0.0013245008702807294, 0.0013044611110649424, 0.001286157227578512, 0.001276694128636156, 0.0012677870873170343, 0.0012634464061912246, 0.0012612896950110076, 0.0012597836804258352, 0.0012584169232239559, 0.0012568594542679327, 0.0012561582153934497, 0.0012556703340991318, 0.0012551162270676801, 0.0012546571585506348]\n"
     ]
    },
    {
     "data": {
      "application/vnd.jupyter.widget-view+json": {
       "model_id": "75bde5bef01241d09daa14bcc16e234b",
       "version_major": 2,
       "version_minor": 0
      },
      "text/plain": [
       "0it [00:00, ?it/s]"
      ]
     },
     "metadata": {},
     "output_type": "display_data"
    },
    {
     "name": "stdout",
     "output_type": "stream",
     "text": [
      "Loss of train: 0.00114\n",
      "Loss of val: 0.00125\n",
      "Loss of test: 0.00115\n",
      "Loss of gw_test: 0.00095\n",
      "[0.0015145557398571299, 0.001355855535007625, 0.0013245008702807294, 0.0013044611110649424, 0.001286157227578512, 0.001276694128636156, 0.0012677870873170343, 0.0012634464061912246, 0.0012612896950110076, 0.0012597836804258352, 0.0012584169232239559, 0.0012568594542679327, 0.0012561582153934497, 0.0012556703340991318, 0.0012551162270676801, 0.0012546571585506348, 0.0012543089561909077]\n"
     ]
    },
    {
     "data": {
      "application/vnd.jupyter.widget-view+json": {
       "model_id": "4b13d79c011c47a1aaf9c5214c1b495a",
       "version_major": 2,
       "version_minor": 0
      },
      "text/plain": [
       "0it [00:00, ?it/s]"
      ]
     },
     "metadata": {},
     "output_type": "display_data"
    },
    {
     "name": "stdout",
     "output_type": "stream",
     "text": [
      "Loss of train: 0.00114\n",
      "Loss of val: 0.00125\n",
      "Loss of test: 0.00115\n",
      "Loss of gw_test: 0.00095\n",
      "[0.0015145557398571299, 0.001355855535007625, 0.0013245008702807294, 0.0013044611110649424, 0.001286157227578512, 0.001276694128636156, 0.0012677870873170343, 0.0012634464061912246, 0.0012612896950110076, 0.0012597836804258352, 0.0012584169232239559, 0.0012568594542679327, 0.0012561582153934497, 0.0012556703340991318, 0.0012551162270676801, 0.0012546571585506348, 0.0012543089561909077, 0.001254284541344898]\n"
     ]
    },
    {
     "data": {
      "application/vnd.jupyter.widget-view+json": {
       "model_id": "ae7b145285ee4f3c932d9b2285bd76f4",
       "version_major": 2,
       "version_minor": 0
      },
      "text/plain": [
       "0it [00:00, ?it/s]"
      ]
     },
     "metadata": {},
     "output_type": "display_data"
    },
    {
     "name": "stdout",
     "output_type": "stream",
     "text": [
      "Loss of train: 0.00114\n",
      "Loss of val: 0.00125\n",
      "Loss of test: 0.00115\n",
      "Loss of gw_test: 0.00095\n",
      "[0.0015145557398571299, 0.001355855535007625, 0.0013245008702807294, 0.0013044611110649424, 0.001286157227578512, 0.001276694128636156, 0.0012677870873170343, 0.0012634464061912246, 0.0012612896950110076, 0.0012597836804258352, 0.0012584169232239559, 0.0012568594542679327, 0.0012561582153934497, 0.0012556703340991318, 0.0012551162270676801, 0.0012546571585506348, 0.0012543089561909077, 0.001254284541344898, 0.00125436651515502]\n",
      "Break at 18\n",
      "{'f1': 3, 'f2': 2, 'f3': 2, 'f4': 4, 'f5': 4}\n",
      "AUROC of val: 0.94936\n",
      "AUROC of test: 0.94796\n",
      "AUROC of gw_test: 0.95161\n"
     ]
    },
    {
     "data": {
      "application/vnd.jupyter.widget-view+json": {
       "model_id": "7e6021a6d9cc4d98b7a780fa996827b0",
       "version_major": 2,
       "version_minor": 0
      },
      "text/plain": [
       "0it [00:00, ?it/s]"
      ]
     },
     "metadata": {},
     "output_type": "display_data"
    },
    {
     "name": "stdout",
     "output_type": "stream",
     "text": [
      "Loss of train: 0.00130\n",
      "Loss of val: 0.00147\n",
      "Loss of test: 0.00125\n",
      "Loss of gw_test: 0.00107\n",
      "[0.0014713215771340027]\n"
     ]
    },
    {
     "data": {
      "application/vnd.jupyter.widget-view+json": {
       "model_id": "04e2e892c086427bbc788967d9617b24",
       "version_major": 2,
       "version_minor": 0
      },
      "text/plain": [
       "0it [00:00, ?it/s]"
      ]
     },
     "metadata": {},
     "output_type": "display_data"
    },
    {
     "name": "stdout",
     "output_type": "stream",
     "text": [
      "Loss of train: 0.00124\n",
      "Loss of val: 0.00142\n",
      "Loss of test: 0.00118\n",
      "Loss of gw_test: 0.00102\n",
      "[0.0014713215771340027, 0.0014208859948970812]\n"
     ]
    },
    {
     "data": {
      "application/vnd.jupyter.widget-view+json": {
       "model_id": "e92905b8302a4c6cbe33131a073d8e9d",
       "version_major": 2,
       "version_minor": 0
      },
      "text/plain": [
       "0it [00:00, ?it/s]"
      ]
     },
     "metadata": {},
     "output_type": "display_data"
    },
    {
     "name": "stdout",
     "output_type": "stream",
     "text": [
      "Loss of train: 0.00122\n",
      "Loss of val: 0.00140\n",
      "Loss of test: 0.00115\n",
      "Loss of gw_test: 0.00101\n",
      "[0.0014713215771340027, 0.0014208859948970812, 0.0014021828377161418]\n"
     ]
    },
    {
     "data": {
      "application/vnd.jupyter.widget-view+json": {
       "model_id": "63b0c5d8faaa4c699c136895e42aee05",
       "version_major": 2,
       "version_minor": 0
      },
      "text/plain": [
       "0it [00:00, ?it/s]"
      ]
     },
     "metadata": {},
     "output_type": "display_data"
    },
    {
     "name": "stdout",
     "output_type": "stream",
     "text": [
      "Loss of train: 0.00121\n",
      "Loss of val: 0.00139\n",
      "Loss of test: 0.00114\n",
      "Loss of gw_test: 0.00101\n",
      "[0.0014713215771340027, 0.0014208859948970812, 0.0014021828377161418, 0.0013891291713605347]\n"
     ]
    },
    {
     "data": {
      "application/vnd.jupyter.widget-view+json": {
       "model_id": "4bd81add246b43b7a8ecd922c321b86a",
       "version_major": 2,
       "version_minor": 0
      },
      "text/plain": [
       "0it [00:00, ?it/s]"
      ]
     },
     "metadata": {},
     "output_type": "display_data"
    },
    {
     "name": "stdout",
     "output_type": "stream",
     "text": [
      "Loss of train: 0.00120\n",
      "Loss of val: 0.00138\n",
      "Loss of test: 0.00114\n",
      "Loss of gw_test: 0.00100\n",
      "[0.0014713215771340027, 0.0014208859948970812, 0.0014021828377161418, 0.0013891291713605347, 0.0013810445598351428]\n"
     ]
    },
    {
     "data": {
      "application/vnd.jupyter.widget-view+json": {
       "model_id": "8b4769d89fea4f31be0f315f0b798f18",
       "version_major": 2,
       "version_minor": 0
      },
      "text/plain": [
       "0it [00:00, ?it/s]"
      ]
     },
     "metadata": {},
     "output_type": "display_data"
    },
    {
     "name": "stdout",
     "output_type": "stream",
     "text": [
      "Loss of train: 0.00119\n",
      "Loss of val: 0.00137\n",
      "Loss of test: 0.00113\n",
      "Loss of gw_test: 0.00100\n",
      "[0.0014713215771340027, 0.0014208859948970812, 0.0014021828377161418, 0.0013891291713605347, 0.0013810445598351428, 0.0013696960923227507]\n"
     ]
    },
    {
     "data": {
      "application/vnd.jupyter.widget-view+json": {
       "model_id": "861ed66e3f7243aca31a6ac31dc597f4",
       "version_major": 2,
       "version_minor": 0
      },
      "text/plain": [
       "0it [00:00, ?it/s]"
      ]
     },
     "metadata": {},
     "output_type": "display_data"
    },
    {
     "name": "stdout",
     "output_type": "stream",
     "text": [
      "Loss of train: 0.00118\n",
      "Loss of val: 0.00136\n",
      "Loss of test: 0.00113\n",
      "Loss of gw_test: 0.00100\n",
      "[0.0014713215771340027, 0.0014208859948970812, 0.0014021828377161418, 0.0013891291713605347, 0.0013810445598351428, 0.0013696960923227507, 0.0013620939901342556]\n"
     ]
    },
    {
     "data": {
      "application/vnd.jupyter.widget-view+json": {
       "model_id": "da611c55e4fa4db29ccdce15d29d2af7",
       "version_major": 2,
       "version_minor": 0
      },
      "text/plain": [
       "0it [00:00, ?it/s]"
      ]
     },
     "metadata": {},
     "output_type": "display_data"
    },
    {
     "name": "stdout",
     "output_type": "stream",
     "text": [
      "Loss of train: 0.00118\n",
      "Loss of val: 0.00135\n",
      "Loss of test: 0.00113\n",
      "Loss of gw_test: 0.00101\n",
      "[0.0014713215771340027, 0.0014208859948970812, 0.0014021828377161418, 0.0013891291713605347, 0.0013810445598351428, 0.0013696960923227507, 0.0013620939901342556, 0.0013459657320503715]\n"
     ]
    },
    {
     "data": {
      "application/vnd.jupyter.widget-view+json": {
       "model_id": "1fef98eacd61455d993d05e71f30eda5",
       "version_major": 2,
       "version_minor": 0
      },
      "text/plain": [
       "0it [00:00, ?it/s]"
      ]
     },
     "metadata": {},
     "output_type": "display_data"
    },
    {
     "name": "stdout",
     "output_type": "stream",
     "text": [
      "Loss of train: 0.00117\n",
      "Loss of val: 0.00135\n",
      "Loss of test: 0.00113\n",
      "Loss of gw_test: 0.00101\n",
      "[0.0014713215771340027, 0.0014208859948970812, 0.0014021828377161418, 0.0013891291713605347, 0.0013810445598351428, 0.0013696960923227507, 0.0013620939901342556, 0.0013459657320503715, 0.0013469040036611177]\n",
      "Break at 8\n",
      "{'f1': 3, 'f2': 2, 'f3': 2, 'f4': 4, 'f5': 5}\n",
      "AUROC of val: 0.94581\n",
      "AUROC of test: 0.95005\n",
      "AUROC of gw_test: 0.94650\n"
     ]
    },
    {
     "data": {
      "application/vnd.jupyter.widget-view+json": {
       "model_id": "5d79d8b42f814ddba768f9826a81c3d4",
       "version_major": 2,
       "version_minor": 0
      },
      "text/plain": [
       "0it [00:00, ?it/s]"
      ]
     },
     "metadata": {},
     "output_type": "display_data"
    },
    {
     "name": "stdout",
     "output_type": "stream",
     "text": [
      "Loss of train: 0.00136\n",
      "Loss of val: 0.00149\n",
      "Loss of test: 0.00133\n",
      "Loss of gw_test: 0.00113\n",
      "[0.0014852661883487577]\n"
     ]
    },
    {
     "data": {
      "application/vnd.jupyter.widget-view+json": {
       "model_id": "3a9bd408ca764512a860dc57ee3e3a51",
       "version_major": 2,
       "version_minor": 0
      },
      "text/plain": [
       "0it [00:00, ?it/s]"
      ]
     },
     "metadata": {},
     "output_type": "display_data"
    },
    {
     "name": "stdout",
     "output_type": "stream",
     "text": [
      "Loss of train: 0.00129\n",
      "Loss of val: 0.00141\n",
      "Loss of test: 0.00127\n",
      "Loss of gw_test: 0.00109\n",
      "[0.0014852661883487577, 0.0014107398159526217]\n"
     ]
    },
    {
     "data": {
      "application/vnd.jupyter.widget-view+json": {
       "model_id": "eae200c69e254849af1403bb754a2a67",
       "version_major": 2,
       "version_minor": 0
      },
      "text/plain": [
       "0it [00:00, ?it/s]"
      ]
     },
     "metadata": {},
     "output_type": "display_data"
    },
    {
     "name": "stdout",
     "output_type": "stream",
     "text": [
      "Loss of train: 0.00127\n",
      "Loss of val: 0.00139\n",
      "Loss of test: 0.00124\n",
      "Loss of gw_test: 0.00107\n",
      "[0.0014852661883487577, 0.0014107398159526217, 0.0013860809785063476]\n"
     ]
    },
    {
     "data": {
      "application/vnd.jupyter.widget-view+json": {
       "model_id": "3e4736ab6379496e892f11bb2cd0797f",
       "version_major": 2,
       "version_minor": 0
      },
      "text/plain": [
       "0it [00:00, ?it/s]"
      ]
     },
     "metadata": {},
     "output_type": "display_data"
    },
    {
     "name": "stdout",
     "output_type": "stream",
     "text": [
      "Loss of train: 0.00124\n",
      "Loss of val: 0.00135\n",
      "Loss of test: 0.00122\n",
      "Loss of gw_test: 0.00105\n",
      "[0.0014852661883487577, 0.0014107398159526217, 0.0013860809785063476, 0.0013505891737882532]\n"
     ]
    },
    {
     "data": {
      "application/vnd.jupyter.widget-view+json": {
       "model_id": "d6002a715b4e452aa69d56d40773a4fd",
       "version_major": 2,
       "version_minor": 0
      },
      "text/plain": [
       "0it [00:00, ?it/s]"
      ]
     },
     "metadata": {},
     "output_type": "display_data"
    },
    {
     "name": "stdout",
     "output_type": "stream",
     "text": [
      "Loss of train: 0.00122\n",
      "Loss of val: 0.00134\n",
      "Loss of test: 0.00121\n",
      "Loss of gw_test: 0.00105\n",
      "[0.0014852661883487577, 0.0014107398159526217, 0.0013860809785063476, 0.0013505891737882532, 0.0013411358134145048]\n"
     ]
    },
    {
     "data": {
      "application/vnd.jupyter.widget-view+json": {
       "model_id": "badf1ab512824269a62c367c2dea7098",
       "version_major": 2,
       "version_minor": 0
      },
      "text/plain": [
       "0it [00:00, ?it/s]"
      ]
     },
     "metadata": {},
     "output_type": "display_data"
    },
    {
     "name": "stdout",
     "output_type": "stream",
     "text": [
      "Loss of train: 0.00122\n",
      "Loss of val: 0.00134\n",
      "Loss of test: 0.00121\n",
      "Loss of gw_test: 0.00105\n",
      "[0.0014852661883487577, 0.0014107398159526217, 0.0013860809785063476, 0.0013505891737882532, 0.0013411358134145048, 0.001338236644305259]\n"
     ]
    },
    {
     "data": {
      "application/vnd.jupyter.widget-view+json": {
       "model_id": "71a955fc91e741ff96c39ced0e25d609",
       "version_major": 2,
       "version_minor": 0
      },
      "text/plain": [
       "0it [00:00, ?it/s]"
      ]
     },
     "metadata": {},
     "output_type": "display_data"
    },
    {
     "name": "stdout",
     "output_type": "stream",
     "text": [
      "Loss of train: 0.00121\n",
      "Loss of val: 0.00134\n",
      "Loss of test: 0.00121\n",
      "Loss of gw_test: 0.00104\n",
      "[0.0014852661883487577, 0.0014107398159526217, 0.0013860809785063476, 0.0013505891737882532, 0.0013411358134145048, 0.001338236644305259, 0.001336752224066247]\n"
     ]
    },
    {
     "data": {
      "application/vnd.jupyter.widget-view+json": {
       "model_id": "bc7214ae328c41289c55611fe03dee71",
       "version_major": 2,
       "version_minor": 0
      },
      "text/plain": [
       "0it [00:00, ?it/s]"
      ]
     },
     "metadata": {},
     "output_type": "display_data"
    },
    {
     "name": "stdout",
     "output_type": "stream",
     "text": [
      "Loss of train: 0.00121\n",
      "Loss of val: 0.00134\n",
      "Loss of test: 0.00120\n",
      "Loss of gw_test: 0.00104\n",
      "[0.0014852661883487577, 0.0014107398159526217, 0.0013860809785063476, 0.0013505891737882532, 0.0013411358134145048, 0.001338236644305259, 0.001336752224066247, 0.0013358098397908795]\n"
     ]
    },
    {
     "data": {
      "application/vnd.jupyter.widget-view+json": {
       "model_id": "2fea3433e3b948deac1b4e9633615bf9",
       "version_major": 2,
       "version_minor": 0
      },
      "text/plain": [
       "0it [00:00, ?it/s]"
      ]
     },
     "metadata": {},
     "output_type": "display_data"
    },
    {
     "name": "stdout",
     "output_type": "stream",
     "text": [
      "Loss of train: 0.00124\n",
      "Loss of val: 0.00139\n",
      "Loss of test: 0.00123\n",
      "Loss of gw_test: 0.00107\n",
      "[0.0014852661883487577, 0.0014107398159526217, 0.0013860809785063476, 0.0013505891737882532, 0.0013411358134145048, 0.001338236644305259, 0.001336752224066247, 0.0013358098397908795, 0.0013864208447879134]\n",
      "Break at 8\n",
      "{'f1': 3, 'f2': 2, 'f3': 2, 'f4': 5, 'f5': 2}\n",
      "AUROC of val: 0.94609\n",
      "AUROC of test: 0.94709\n",
      "AUROC of gw_test: 0.94470\n"
     ]
    },
    {
     "data": {
      "application/vnd.jupyter.widget-view+json": {
       "model_id": "68e87a13381e4eae991b6e823363632f",
       "version_major": 2,
       "version_minor": 0
      },
      "text/plain": [
       "0it [00:00, ?it/s]"
      ]
     },
     "metadata": {},
     "output_type": "display_data"
    },
    {
     "name": "stdout",
     "output_type": "stream",
     "text": [
      "Loss of train: 0.00138\n",
      "Loss of val: 0.00148\n",
      "Loss of test: 0.00131\n",
      "Loss of gw_test: 0.00117\n",
      "[0.00148183754290865]\n"
     ]
    },
    {
     "data": {
      "application/vnd.jupyter.widget-view+json": {
       "model_id": "55b89e4454b744089f16852de2bc4bdf",
       "version_major": 2,
       "version_minor": 0
      },
      "text/plain": [
       "0it [00:00, ?it/s]"
      ]
     },
     "metadata": {},
     "output_type": "display_data"
    },
    {
     "name": "stdout",
     "output_type": "stream",
     "text": [
      "Loss of train: 0.00123\n",
      "Loss of val: 0.00135\n",
      "Loss of test: 0.00121\n",
      "Loss of gw_test: 0.00102\n",
      "[0.00148183754290865, 0.0013539798446233465]\n"
     ]
    },
    {
     "data": {
      "application/vnd.jupyter.widget-view+json": {
       "model_id": "a556fee98937405da2f495dadf584fc6",
       "version_major": 2,
       "version_minor": 0
      },
      "text/plain": [
       "0it [00:00, ?it/s]"
      ]
     },
     "metadata": {},
     "output_type": "display_data"
    },
    {
     "name": "stdout",
     "output_type": "stream",
     "text": [
      "Loss of train: 0.00119\n",
      "Loss of val: 0.00133\n",
      "Loss of test: 0.00120\n",
      "Loss of gw_test: 0.00099\n",
      "[0.00148183754290865, 0.0013539798446233465, 0.0013333530255644176]\n"
     ]
    },
    {
     "data": {
      "application/vnd.jupyter.widget-view+json": {
       "model_id": "16197e8bae7347ccbdd02eb1d8bd0ed3",
       "version_major": 2,
       "version_minor": 0
      },
      "text/plain": [
       "0it [00:00, ?it/s]"
      ]
     },
     "metadata": {},
     "output_type": "display_data"
    },
    {
     "name": "stdout",
     "output_type": "stream",
     "text": [
      "Loss of train: 0.00118\n",
      "Loss of val: 0.00133\n",
      "Loss of test: 0.00120\n",
      "Loss of gw_test: 0.00098\n",
      "[0.00148183754290865, 0.0013539798446233465, 0.0013333530255644176, 0.001329604772994298]\n"
     ]
    },
    {
     "data": {
      "application/vnd.jupyter.widget-view+json": {
       "model_id": "1db6f369660d4e9aa3337caa3485de6d",
       "version_major": 2,
       "version_minor": 0
      },
      "text/plain": [
       "0it [00:00, ?it/s]"
      ]
     },
     "metadata": {},
     "output_type": "display_data"
    },
    {
     "name": "stdout",
     "output_type": "stream",
     "text": [
      "Loss of train: 0.00117\n",
      "Loss of val: 0.00133\n",
      "Loss of test: 0.00119\n",
      "Loss of gw_test: 0.00098\n",
      "[0.00148183754290865, 0.0013539798446233465, 0.0013333530255644176, 0.001329604772994298, 0.0013302886893270891]\n",
      "Break at 4\n",
      "{'f1': 3, 'f2': 2, 'f3': 2, 'f4': 5, 'f5': 3}\n",
      "AUROC of val: 0.94394\n",
      "AUROC of test: 0.94441\n",
      "AUROC of gw_test: 0.94901\n"
     ]
    },
    {
     "data": {
      "application/vnd.jupyter.widget-view+json": {
       "model_id": "d603d7104443438186b1aa307c42bef3",
       "version_major": 2,
       "version_minor": 0
      },
      "text/plain": [
       "0it [00:00, ?it/s]"
      ]
     },
     "metadata": {},
     "output_type": "display_data"
    },
    {
     "name": "stdout",
     "output_type": "stream",
     "text": [
      "Loss of train: 0.00130\n",
      "Loss of val: 0.00150\n",
      "Loss of test: 0.00125\n",
      "Loss of gw_test: 0.00107\n",
      "[0.0014997491193013395]\n"
     ]
    },
    {
     "data": {
      "application/vnd.jupyter.widget-view+json": {
       "model_id": "c9c26e3a854849edbcc392b8d842c7cc",
       "version_major": 2,
       "version_minor": 0
      },
      "text/plain": [
       "0it [00:00, ?it/s]"
      ]
     },
     "metadata": {},
     "output_type": "display_data"
    },
    {
     "name": "stdout",
     "output_type": "stream",
     "text": [
      "Loss of train: 0.00124\n",
      "Loss of val: 0.00143\n",
      "Loss of test: 0.00117\n",
      "Loss of gw_test: 0.00102\n",
      "[0.0014997491193013395, 0.001426279128499037]\n"
     ]
    },
    {
     "data": {
      "application/vnd.jupyter.widget-view+json": {
       "model_id": "fe49b153b5c94fca97b582053c842d3d",
       "version_major": 2,
       "version_minor": 0
      },
      "text/plain": [
       "0it [00:00, ?it/s]"
      ]
     },
     "metadata": {},
     "output_type": "display_data"
    },
    {
     "name": "stdout",
     "output_type": "stream",
     "text": [
      "Loss of train: 0.00123\n",
      "Loss of val: 0.00141\n",
      "Loss of test: 0.00116\n",
      "Loss of gw_test: 0.00101\n",
      "[0.0014997491193013395, 0.001426279128499037, 0.001411140064660859]\n"
     ]
    },
    {
     "data": {
      "application/vnd.jupyter.widget-view+json": {
       "model_id": "fa141265136c4a3383485c22acb3e391",
       "version_major": 2,
       "version_minor": 0
      },
      "text/plain": [
       "0it [00:00, ?it/s]"
      ]
     },
     "metadata": {},
     "output_type": "display_data"
    },
    {
     "name": "stdout",
     "output_type": "stream",
     "text": [
      "Loss of train: 0.00122\n",
      "Loss of val: 0.00139\n",
      "Loss of test: 0.00115\n",
      "Loss of gw_test: 0.00101\n",
      "[0.0014997491193013395, 0.001426279128499037, 0.001411140064660859, 0.0013934878493972477]\n"
     ]
    },
    {
     "data": {
      "application/vnd.jupyter.widget-view+json": {
       "model_id": "7d4be004d13c4641a514608cc9f776f6",
       "version_major": 2,
       "version_minor": 0
      },
      "text/plain": [
       "0it [00:00, ?it/s]"
      ]
     },
     "metadata": {},
     "output_type": "display_data"
    },
    {
     "name": "stdout",
     "output_type": "stream",
     "text": [
      "Loss of train: 0.00121\n",
      "Loss of val: 0.00139\n",
      "Loss of test: 0.00115\n",
      "Loss of gw_test: 0.00101\n",
      "[0.0014997491193013395, 0.001426279128499037, 0.001411140064660859, 0.0013934878493972477, 0.0013915884863963366]\n"
     ]
    },
    {
     "data": {
      "application/vnd.jupyter.widget-view+json": {
       "model_id": "ae78d6af98614b98a86432d5350850d4",
       "version_major": 2,
       "version_minor": 0
      },
      "text/plain": [
       "0it [00:00, ?it/s]"
      ]
     },
     "metadata": {},
     "output_type": "display_data"
    },
    {
     "name": "stdout",
     "output_type": "stream",
     "text": [
      "Loss of train: 0.00121\n",
      "Loss of val: 0.00138\n",
      "Loss of test: 0.00115\n",
      "Loss of gw_test: 0.00101\n",
      "[0.0014997491193013395, 0.001426279128499037, 0.001411140064660859, 0.0013934878493972477, 0.0013915884863963366, 0.0013781852280289658]\n"
     ]
    },
    {
     "data": {
      "application/vnd.jupyter.widget-view+json": {
       "model_id": "63aa3c0ef66e4502950ef88efa08adbb",
       "version_major": 2,
       "version_minor": 0
      },
      "text/plain": [
       "0it [00:00, ?it/s]"
      ]
     },
     "metadata": {},
     "output_type": "display_data"
    },
    {
     "name": "stdout",
     "output_type": "stream",
     "text": [
      "Loss of train: 0.00120\n",
      "Loss of val: 0.00138\n",
      "Loss of test: 0.00114\n",
      "Loss of gw_test: 0.00101\n",
      "[0.0014997491193013395, 0.001426279128499037, 0.001411140064660859, 0.0013934878493972477, 0.0013915884863963366, 0.0013781852280289658, 0.001377738650438049]\n"
     ]
    },
    {
     "data": {
      "application/vnd.jupyter.widget-view+json": {
       "model_id": "8665f7b42b644941b33abe9dd9cff87e",
       "version_major": 2,
       "version_minor": 0
      },
      "text/plain": [
       "0it [00:00, ?it/s]"
      ]
     },
     "metadata": {},
     "output_type": "display_data"
    },
    {
     "name": "stdout",
     "output_type": "stream",
     "text": [
      "Loss of train: 0.00120\n",
      "Loss of val: 0.00137\n",
      "Loss of test: 0.00114\n",
      "Loss of gw_test: 0.00101\n",
      "[0.0014997491193013395, 0.001426279128499037, 0.001411140064660859, 0.0013934878493972477, 0.0013915884863963366, 0.0013781852280289658, 0.001377738650438049, 0.001370298901226451]\n"
     ]
    },
    {
     "data": {
      "application/vnd.jupyter.widget-view+json": {
       "model_id": "1ca5a9e734b8426bb7fe9075e3b6c478",
       "version_major": 2,
       "version_minor": 0
      },
      "text/plain": [
       "0it [00:00, ?it/s]"
      ]
     },
     "metadata": {},
     "output_type": "display_data"
    },
    {
     "name": "stdout",
     "output_type": "stream",
     "text": [
      "Loss of train: 0.00119\n",
      "Loss of val: 0.00137\n",
      "Loss of test: 0.00114\n",
      "Loss of gw_test: 0.00101\n",
      "[0.0014997491193013395, 0.001426279128499037, 0.001411140064660859, 0.0013934878493972477, 0.0013915884863963366, 0.0013781852280289658, 0.001377738650438049, 0.001370298901226451, 0.0013675670638575916]\n"
     ]
    },
    {
     "data": {
      "application/vnd.jupyter.widget-view+json": {
       "model_id": "8d664a7eca73462b9d13646ab90333bf",
       "version_major": 2,
       "version_minor": 0
      },
      "text/plain": [
       "0it [00:00, ?it/s]"
      ]
     },
     "metadata": {},
     "output_type": "display_data"
    },
    {
     "name": "stdout",
     "output_type": "stream",
     "text": [
      "Loss of train: 0.00118\n",
      "Loss of val: 0.00136\n",
      "Loss of test: 0.00113\n",
      "Loss of gw_test: 0.00101\n",
      "[0.0014997491193013395, 0.001426279128499037, 0.001411140064660859, 0.0013934878493972477, 0.0013915884863963366, 0.0013781852280289658, 0.001377738650438049, 0.001370298901226451, 0.0013675670638575916, 0.0013578539693354771]\n"
     ]
    },
    {
     "data": {
      "application/vnd.jupyter.widget-view+json": {
       "model_id": "f195703c59e54d05b1b98ca069a77f6a",
       "version_major": 2,
       "version_minor": 0
      },
      "text/plain": [
       "0it [00:00, ?it/s]"
      ]
     },
     "metadata": {},
     "output_type": "display_data"
    },
    {
     "name": "stdout",
     "output_type": "stream",
     "text": [
      "Loss of train: 0.00118\n",
      "Loss of val: 0.00135\n",
      "Loss of test: 0.00113\n",
      "Loss of gw_test: 0.00101\n",
      "[0.0014997491193013395, 0.001426279128499037, 0.001411140064660859, 0.0013934878493972477, 0.0013915884863963366, 0.0013781852280289658, 0.001377738650438049, 0.001370298901226451, 0.0013675670638575916, 0.0013578539693354771, 0.001354453719494868]\n"
     ]
    },
    {
     "data": {
      "application/vnd.jupyter.widget-view+json": {
       "model_id": "72a0552fd5fa492f80d194531b6d7b83",
       "version_major": 2,
       "version_minor": 0
      },
      "text/plain": [
       "0it [00:00, ?it/s]"
      ]
     },
     "metadata": {},
     "output_type": "display_data"
    },
    {
     "name": "stdout",
     "output_type": "stream",
     "text": [
      "Loss of train: 0.00117\n",
      "Loss of val: 0.00134\n",
      "Loss of test: 0.00113\n",
      "Loss of gw_test: 0.00101\n",
      "[0.0014997491193013395, 0.001426279128499037, 0.001411140064660859, 0.0013934878493972477, 0.0013915884863963366, 0.0013781852280289658, 0.001377738650438049, 0.001370298901226451, 0.0013675670638575916, 0.0013578539693354771, 0.001354453719494868, 0.0013439859656166802]\n"
     ]
    },
    {
     "data": {
      "application/vnd.jupyter.widget-view+json": {
       "model_id": "bd876ec79e1a4c379cac8c0b95aed07c",
       "version_major": 2,
       "version_minor": 0
      },
      "text/plain": [
       "0it [00:00, ?it/s]"
      ]
     },
     "metadata": {},
     "output_type": "display_data"
    },
    {
     "name": "stdout",
     "output_type": "stream",
     "text": [
      "Loss of train: 0.00117\n",
      "Loss of val: 0.00134\n",
      "Loss of test: 0.00113\n",
      "Loss of gw_test: 0.00101\n",
      "[0.0014997491193013395, 0.001426279128499037, 0.001411140064660859, 0.0013934878493972477, 0.0013915884863963366, 0.0013781852280289658, 0.001377738650438049, 0.001370298901226451, 0.0013675670638575916, 0.0013578539693354771, 0.001354453719494868, 0.0013439859656166802, 0.0013413458411908762]\n"
     ]
    },
    {
     "data": {
      "application/vnd.jupyter.widget-view+json": {
       "model_id": "49eb01dcc7104f5e856aeba1eb9d5bae",
       "version_major": 2,
       "version_minor": 0
      },
      "text/plain": [
       "0it [00:00, ?it/s]"
      ]
     },
     "metadata": {},
     "output_type": "display_data"
    },
    {
     "name": "stdout",
     "output_type": "stream",
     "text": [
      "Loss of train: 0.00116\n",
      "Loss of val: 0.00133\n",
      "Loss of test: 0.00113\n",
      "Loss of gw_test: 0.00101\n",
      "[0.0014997491193013395, 0.001426279128499037, 0.001411140064660859, 0.0013934878493972477, 0.0013915884863963366, 0.0013781852280289658, 0.001377738650438049, 0.001370298901226451, 0.0013675670638575916, 0.0013578539693354771, 0.001354453719494868, 0.0013439859656166802, 0.0013413458411908762, 0.0013310723117121526]\n"
     ]
    },
    {
     "data": {
      "application/vnd.jupyter.widget-view+json": {
       "model_id": "8a96afd5917841df93b418237631db30",
       "version_major": 2,
       "version_minor": 0
      },
      "text/plain": [
       "0it [00:00, ?it/s]"
      ]
     },
     "metadata": {},
     "output_type": "display_data"
    },
    {
     "name": "stdout",
     "output_type": "stream",
     "text": [
      "Loss of train: 0.00116\n",
      "Loss of val: 0.00133\n",
      "Loss of test: 0.00113\n",
      "Loss of gw_test: 0.00101\n",
      "[0.0014997491193013395, 0.001426279128499037, 0.001411140064660859, 0.0013934878493972477, 0.0013915884863963366, 0.0013781852280289658, 0.001377738650438049, 0.001370298901226451, 0.0013675670638575916, 0.0013578539693354771, 0.001354453719494868, 0.0013439859656166802, 0.0013413458411908762, 0.0013310723117121526, 0.0013302392933342295]\n"
     ]
    },
    {
     "data": {
      "application/vnd.jupyter.widget-view+json": {
       "model_id": "5fd87538d11447e590ad083ca158d594",
       "version_major": 2,
       "version_minor": 0
      },
      "text/plain": [
       "0it [00:00, ?it/s]"
      ]
     },
     "metadata": {},
     "output_type": "display_data"
    },
    {
     "name": "stdout",
     "output_type": "stream",
     "text": [
      "Loss of train: 0.00115\n",
      "Loss of val: 0.00133\n",
      "Loss of test: 0.00113\n",
      "Loss of gw_test: 0.00101\n",
      "[0.0014997491193013395, 0.001426279128499037, 0.001411140064660859, 0.0013934878493972477, 0.0013915884863963366, 0.0013781852280289658, 0.001377738650438049, 0.001370298901226451, 0.0013675670638575916, 0.0013578539693354771, 0.001354453719494868, 0.0013439859656166802, 0.0013413458411908762, 0.0013310723117121526, 0.0013302392933342295, 0.0013304207330760384]\n",
      "Break at 15\n",
      "{'f1': 3, 'f2': 2, 'f3': 2, 'f4': 5, 'f5': 4}\n",
      "AUROC of val: 0.94686\n",
      "AUROC of test: 0.94992\n",
      "AUROC of gw_test: 0.94646\n"
     ]
    },
    {
     "data": {
      "application/vnd.jupyter.widget-view+json": {
       "model_id": "f78c5e3ce58e4827a0279484f2d1e5ef",
       "version_major": 2,
       "version_minor": 0
      },
      "text/plain": [
       "0it [00:00, ?it/s]"
      ]
     },
     "metadata": {},
     "output_type": "display_data"
    },
    {
     "name": "stdout",
     "output_type": "stream",
     "text": [
      "Loss of train: 0.00137\n",
      "Loss of val: 0.00155\n",
      "Loss of test: 0.00130\n",
      "Loss of gw_test: 0.00113\n",
      "[0.0015482498966260779]\n"
     ]
    },
    {
     "data": {
      "application/vnd.jupyter.widget-view+json": {
       "model_id": "5eec5ec27be949779dca415a0dce26da",
       "version_major": 2,
       "version_minor": 0
      },
      "text/plain": [
       "0it [00:00, ?it/s]"
      ]
     },
     "metadata": {},
     "output_type": "display_data"
    },
    {
     "name": "stdout",
     "output_type": "stream",
     "text": [
      "Loss of train: 0.00129\n",
      "Loss of val: 0.00148\n",
      "Loss of test: 0.00124\n",
      "Loss of gw_test: 0.00105\n",
      "[0.0015482498966260779, 0.0014757937701317893]\n"
     ]
    },
    {
     "data": {
      "application/vnd.jupyter.widget-view+json": {
       "model_id": "ce0ab96fbe04444b8fb152549d9d661e",
       "version_major": 2,
       "version_minor": 0
      },
      "text/plain": [
       "0it [00:00, ?it/s]"
      ]
     },
     "metadata": {},
     "output_type": "display_data"
    },
    {
     "name": "stdout",
     "output_type": "stream",
     "text": [
      "Loss of train: 0.00123\n",
      "Loss of val: 0.00141\n",
      "Loss of test: 0.00119\n",
      "Loss of gw_test: 0.00100\n",
      "[0.0015482498966260779, 0.0014757937701317893, 0.0014128659593026388]\n"
     ]
    },
    {
     "data": {
      "application/vnd.jupyter.widget-view+json": {
       "model_id": "1afc05da9dcc43979909cd836e8e0b55",
       "version_major": 2,
       "version_minor": 0
      },
      "text/plain": [
       "0it [00:00, ?it/s]"
      ]
     },
     "metadata": {},
     "output_type": "display_data"
    },
    {
     "name": "stdout",
     "output_type": "stream",
     "text": [
      "Loss of train: 0.00119\n",
      "Loss of val: 0.00137\n",
      "Loss of test: 0.00117\n",
      "Loss of gw_test: 0.00097\n",
      "[0.0015482498966260779, 0.0014757937701317893, 0.0014128659593026388, 0.0013665673306883536]\n"
     ]
    },
    {
     "data": {
      "application/vnd.jupyter.widget-view+json": {
       "model_id": "78a20ac5602b44b2bcf11485e89c23f4",
       "version_major": 2,
       "version_minor": 0
      },
      "text/plain": [
       "0it [00:00, ?it/s]"
      ]
     },
     "metadata": {},
     "output_type": "display_data"
    },
    {
     "name": "stdout",
     "output_type": "stream",
     "text": [
      "Loss of train: 0.00118\n",
      "Loss of val: 0.00135\n",
      "Loss of test: 0.00116\n",
      "Loss of gw_test: 0.00096\n",
      "[0.0015482498966260779, 0.0014757937701317893, 0.0014128659593026388, 0.0013665673306883536, 0.001346485732506239]\n"
     ]
    },
    {
     "data": {
      "application/vnd.jupyter.widget-view+json": {
       "model_id": "8b6aa7bd737e4b6483148807b523a5db",
       "version_major": 2,
       "version_minor": 0
      },
      "text/plain": [
       "0it [00:00, ?it/s]"
      ]
     },
     "metadata": {},
     "output_type": "display_data"
    },
    {
     "name": "stdout",
     "output_type": "stream",
     "text": [
      "Loss of train: 0.00117\n",
      "Loss of val: 0.00133\n",
      "Loss of test: 0.00116\n",
      "Loss of gw_test: 0.00095\n",
      "[0.0015482498966260779, 0.0014757937701317893, 0.0014128659593026388, 0.0013665673306883536, 0.001346485732506239, 0.0013291046054829992]\n"
     ]
    },
    {
     "data": {
      "application/vnd.jupyter.widget-view+json": {
       "model_id": "848fb07a343d4f72aff9a8ef8f94180b",
       "version_major": 2,
       "version_minor": 0
      },
      "text/plain": [
       "0it [00:00, ?it/s]"
      ]
     },
     "metadata": {},
     "output_type": "display_data"
    },
    {
     "name": "stdout",
     "output_type": "stream",
     "text": [
      "Loss of train: 0.00116\n",
      "Loss of val: 0.00132\n",
      "Loss of test: 0.00116\n",
      "Loss of gw_test: 0.00095\n",
      "[0.0015482498966260779, 0.0014757937701317893, 0.0014128659593026388, 0.0013665673306883536, 0.001346485732506239, 0.0013291046054829992, 0.001318329672337531]\n"
     ]
    },
    {
     "data": {
      "application/vnd.jupyter.widget-view+json": {
       "model_id": "93e4adea15f842da9561def68b3865cc",
       "version_major": 2,
       "version_minor": 0
      },
      "text/plain": [
       "0it [00:00, ?it/s]"
      ]
     },
     "metadata": {},
     "output_type": "display_data"
    },
    {
     "name": "stdout",
     "output_type": "stream",
     "text": [
      "Loss of train: 0.00116\n",
      "Loss of val: 0.00132\n",
      "Loss of test: 0.00116\n",
      "Loss of gw_test: 0.00094\n",
      "[0.0015482498966260779, 0.0014757937701317893, 0.0014128659593026388, 0.0013665673306883536, 0.001346485732506239, 0.0013291046054829992, 0.001318329672337531, 0.001315698257714583]\n"
     ]
    },
    {
     "data": {
      "application/vnd.jupyter.widget-view+json": {
       "model_id": "a36a7f9067a849c685cd565a4223ae4a",
       "version_major": 2,
       "version_minor": 0
      },
      "text/plain": [
       "0it [00:00, ?it/s]"
      ]
     },
     "metadata": {},
     "output_type": "display_data"
    },
    {
     "name": "stdout",
     "output_type": "stream",
     "text": [
      "Loss of train: 0.00116\n",
      "Loss of val: 0.00131\n",
      "Loss of test: 0.00116\n",
      "Loss of gw_test: 0.00094\n",
      "[0.0015482498966260779, 0.0014757937701317893, 0.0014128659593026388, 0.0013665673306883536, 0.001346485732506239, 0.0013291046054829992, 0.001318329672337531, 0.001315698257714583, 0.0013072152548179142]\n"
     ]
    },
    {
     "data": {
      "application/vnd.jupyter.widget-view+json": {
       "model_id": "e73589ffc6784e11a57b9e3beaa24941",
       "version_major": 2,
       "version_minor": 0
      },
      "text/plain": [
       "0it [00:00, ?it/s]"
      ]
     },
     "metadata": {},
     "output_type": "display_data"
    },
    {
     "name": "stdout",
     "output_type": "stream",
     "text": [
      "Loss of train: 0.00115\n",
      "Loss of val: 0.00131\n",
      "Loss of test: 0.00116\n",
      "Loss of gw_test: 0.00094\n",
      "[0.0015482498966260779, 0.0014757937701317893, 0.0014128659593026388, 0.0013665673306883536, 0.001346485732506239, 0.0013291046054829992, 0.001318329672337531, 0.001315698257714583, 0.0013072152548179142, 0.0013125546787213585]\n",
      "Break at 9\n",
      "{'f1': 3, 'f2': 2, 'f3': 2, 'f4': 5, 'f5': 5}\n",
      "AUROC of val: 0.94400\n",
      "AUROC of test: 0.94581\n",
      "AUROC of gw_test: 0.94931\n"
     ]
    },
    {
     "data": {
      "application/vnd.jupyter.widget-view+json": {
       "model_id": "f8bc1b010a5c479ea38855c650c00683",
       "version_major": 2,
       "version_minor": 0
      },
      "text/plain": [
       "0it [00:00, ?it/s]"
      ]
     },
     "metadata": {},
     "output_type": "display_data"
    },
    {
     "name": "stdout",
     "output_type": "stream",
     "text": [
      "Loss of train: 0.00136\n",
      "Loss of val: 0.00145\n",
      "Loss of test: 0.00131\n",
      "Loss of gw_test: 0.00111\n",
      "[0.0014509246831291437]\n"
     ]
    },
    {
     "data": {
      "application/vnd.jupyter.widget-view+json": {
       "model_id": "c7aeb215bd944f6c89eebdda1a362f8b",
       "version_major": 2,
       "version_minor": 0
      },
      "text/plain": [
       "0it [00:00, ?it/s]"
      ]
     },
     "metadata": {},
     "output_type": "display_data"
    },
    {
     "name": "stdout",
     "output_type": "stream",
     "text": [
      "Loss of train: 0.00129\n",
      "Loss of val: 0.00140\n",
      "Loss of test: 0.00125\n",
      "Loss of gw_test: 0.00104\n",
      "[0.0014509246831291437, 0.0013972240845105013]\n"
     ]
    },
    {
     "data": {
      "application/vnd.jupyter.widget-view+json": {
       "model_id": "73e745c88c064346a612490df88616f3",
       "version_major": 2,
       "version_minor": 0
      },
      "text/plain": [
       "0it [00:00, ?it/s]"
      ]
     },
     "metadata": {},
     "output_type": "display_data"
    },
    {
     "name": "stdout",
     "output_type": "stream",
     "text": [
      "Loss of train: 0.00128\n",
      "Loss of val: 0.00139\n",
      "Loss of test: 0.00124\n",
      "Loss of gw_test: 0.00105\n",
      "[0.0014509246831291437, 0.0013972240845105013, 0.001394391357557295]\n"
     ]
    },
    {
     "data": {
      "application/vnd.jupyter.widget-view+json": {
       "model_id": "f992cf71dc2d4844b30d6ab5babf270d",
       "version_major": 2,
       "version_minor": 0
      },
      "text/plain": [
       "0it [00:00, ?it/s]"
      ]
     },
     "metadata": {},
     "output_type": "display_data"
    },
    {
     "name": "stdout",
     "output_type": "stream",
     "text": [
      "Loss of train: 0.00124\n",
      "Loss of val: 0.00136\n",
      "Loss of test: 0.00122\n",
      "Loss of gw_test: 0.00102\n",
      "[0.0014509246831291437, 0.0013972240845105013, 0.001394391357557295, 0.0013630635368163857]\n"
     ]
    },
    {
     "data": {
      "application/vnd.jupyter.widget-view+json": {
       "model_id": "633f3c5748ca45838e448b484abfdc95",
       "version_major": 2,
       "version_minor": 0
      },
      "text/plain": [
       "0it [00:00, ?it/s]"
      ]
     },
     "metadata": {},
     "output_type": "display_data"
    },
    {
     "name": "stdout",
     "output_type": "stream",
     "text": [
      "Loss of train: 0.00123\n",
      "Loss of val: 0.00136\n",
      "Loss of test: 0.00122\n",
      "Loss of gw_test: 0.00101\n",
      "[0.0014509246831291437, 0.0013972240845105013, 0.001394391357557295, 0.0013630635368163857, 0.0013597416393667996]\n"
     ]
    },
    {
     "data": {
      "application/vnd.jupyter.widget-view+json": {
       "model_id": "a4213182d4454a8196972120375c242b",
       "version_major": 2,
       "version_minor": 0
      },
      "text/plain": [
       "0it [00:00, ?it/s]"
      ]
     },
     "metadata": {},
     "output_type": "display_data"
    },
    {
     "name": "stdout",
     "output_type": "stream",
     "text": [
      "Loss of train: 0.00122\n",
      "Loss of val: 0.00136\n",
      "Loss of test: 0.00122\n",
      "Loss of gw_test: 0.00101\n",
      "[0.0014509246831291437, 0.0013972240845105013, 0.001394391357557295, 0.0013630635368163857, 0.0013597416393667996, 0.0013627258747910046]\n",
      "Break at 5\n",
      "{'f1': 3, 'f2': 2, 'f3': 3, 'f4': 2, 'f5': 2}\n",
      "AUROC of val: 0.94048\n",
      "AUROC of test: 0.94198\n",
      "AUROC of gw_test: 0.94536\n"
     ]
    },
    {
     "data": {
      "application/vnd.jupyter.widget-view+json": {
       "model_id": "11c1ea0160c94da79e13a7aa60003673",
       "version_major": 2,
       "version_minor": 0
      },
      "text/plain": [
       "0it [00:00, ?it/s]"
      ]
     },
     "metadata": {},
     "output_type": "display_data"
    },
    {
     "name": "stdout",
     "output_type": "stream",
     "text": [
      "Loss of train: 0.00137\n",
      "Loss of val: 0.00153\n",
      "Loss of test: 0.00131\n",
      "Loss of gw_test: 0.00115\n",
      "[0.0015284748366372483]\n"
     ]
    },
    {
     "data": {
      "application/vnd.jupyter.widget-view+json": {
       "model_id": "5e0d7e841b234c749c270d890cca0efd",
       "version_major": 2,
       "version_minor": 0
      },
      "text/plain": [
       "0it [00:00, ?it/s]"
      ]
     },
     "metadata": {},
     "output_type": "display_data"
    },
    {
     "name": "stdout",
     "output_type": "stream",
     "text": [
      "Loss of train: 0.00127\n",
      "Loss of val: 0.00144\n",
      "Loss of test: 0.00124\n",
      "Loss of gw_test: 0.00106\n",
      "[0.0015284748366372483, 0.001442081856149279]\n"
     ]
    },
    {
     "data": {
      "application/vnd.jupyter.widget-view+json": {
       "model_id": "b84906e702a246419580ff1f90f5dc74",
       "version_major": 2,
       "version_minor": 0
      },
      "text/plain": [
       "0it [00:00, ?it/s]"
      ]
     },
     "metadata": {},
     "output_type": "display_data"
    },
    {
     "name": "stdout",
     "output_type": "stream",
     "text": [
      "Loss of train: 0.00124\n",
      "Loss of val: 0.00141\n",
      "Loss of test: 0.00121\n",
      "Loss of gw_test: 0.00103\n",
      "[0.0015284748366372483, 0.001442081856149279, 0.001405889416385201]\n"
     ]
    },
    {
     "data": {
      "application/vnd.jupyter.widget-view+json": {
       "model_id": "cf7e2fc3c89e443a80945a677ab0b30a",
       "version_major": 2,
       "version_minor": 0
      },
      "text/plain": [
       "0it [00:00, ?it/s]"
      ]
     },
     "metadata": {},
     "output_type": "display_data"
    },
    {
     "name": "stdout",
     "output_type": "stream",
     "text": [
      "Loss of train: 0.00122\n",
      "Loss of val: 0.00140\n",
      "Loss of test: 0.00119\n",
      "Loss of gw_test: 0.00101\n",
      "[0.0015284748366372483, 0.001442081856149279, 0.001405889416385201, 0.0013953936747739142]\n"
     ]
    },
    {
     "data": {
      "application/vnd.jupyter.widget-view+json": {
       "model_id": "8b116996bf6e4981a7d967072b13fe5c",
       "version_major": 2,
       "version_minor": 0
      },
      "text/plain": [
       "0it [00:00, ?it/s]"
      ]
     },
     "metadata": {},
     "output_type": "display_data"
    },
    {
     "name": "stdout",
     "output_type": "stream",
     "text": [
      "Loss of train: 0.00121\n",
      "Loss of val: 0.00139\n",
      "Loss of test: 0.00119\n",
      "Loss of gw_test: 0.00100\n",
      "[0.0015284748366372483, 0.001442081856149279, 0.001405889416385201, 0.0013953936747739142, 0.0013941943356542536]\n"
     ]
    },
    {
     "data": {
      "application/vnd.jupyter.widget-view+json": {
       "model_id": "cb713b96851c4fe88049592723811745",
       "version_major": 2,
       "version_minor": 0
      },
      "text/plain": [
       "0it [00:00, ?it/s]"
      ]
     },
     "metadata": {},
     "output_type": "display_data"
    },
    {
     "name": "stdout",
     "output_type": "stream",
     "text": [
      "Loss of train: 0.00122\n",
      "Loss of val: 0.00142\n",
      "Loss of test: 0.00119\n",
      "Loss of gw_test: 0.00103\n",
      "[0.0015284748366372483, 0.001442081856149279, 0.001405889416385201, 0.0013953936747739142, 0.0013941943356542536, 0.0014209338518326752]\n",
      "Break at 5\n",
      "{'f1': 3, 'f2': 2, 'f3': 3, 'f4': 2, 'f5': 3}\n",
      "AUROC of val: 0.94033\n",
      "AUROC of test: 0.94461\n",
      "AUROC of gw_test: 0.94605\n"
     ]
    },
    {
     "data": {
      "application/vnd.jupyter.widget-view+json": {
       "model_id": "718e4a3e2f8a4609ad18091f56ba9b70",
       "version_major": 2,
       "version_minor": 0
      },
      "text/plain": [
       "0it [00:00, ?it/s]"
      ]
     },
     "metadata": {},
     "output_type": "display_data"
    },
    {
     "name": "stdout",
     "output_type": "stream",
     "text": [
      "Loss of train: 0.00139\n",
      "Loss of val: 0.00154\n",
      "Loss of test: 0.00135\n",
      "Loss of gw_test: 0.00114\n",
      "[0.001538011663180433]\n"
     ]
    },
    {
     "data": {
      "application/vnd.jupyter.widget-view+json": {
       "model_id": "684ad98dbd8842e2bd763cfd73d1c275",
       "version_major": 2,
       "version_minor": 0
      },
      "text/plain": [
       "0it [00:00, ?it/s]"
      ]
     },
     "metadata": {},
     "output_type": "display_data"
    },
    {
     "name": "stdout",
     "output_type": "stream",
     "text": [
      "Loss of train: 0.00133\n",
      "Loss of val: 0.00147\n",
      "Loss of test: 0.00129\n",
      "Loss of gw_test: 0.00111\n",
      "[0.001538011663180433, 0.0014652167745078108]\n"
     ]
    },
    {
     "data": {
      "application/vnd.jupyter.widget-view+json": {
       "model_id": "5bb9746bf74040f7942c4ada0ce673ce",
       "version_major": 2,
       "version_minor": 0
      },
      "text/plain": [
       "0it [00:00, ?it/s]"
      ]
     },
     "metadata": {},
     "output_type": "display_data"
    },
    {
     "name": "stdout",
     "output_type": "stream",
     "text": [
      "Loss of train: 0.00130\n",
      "Loss of val: 0.00142\n",
      "Loss of test: 0.00126\n",
      "Loss of gw_test: 0.00109\n",
      "[0.001538011663180433, 0.0014652167745078108, 0.0014207158553541735]\n"
     ]
    },
    {
     "data": {
      "application/vnd.jupyter.widget-view+json": {
       "model_id": "f0d680f0c51f4f0fb97da7e83655984f",
       "version_major": 2,
       "version_minor": 0
      },
      "text/plain": [
       "0it [00:00, ?it/s]"
      ]
     },
     "metadata": {},
     "output_type": "display_data"
    },
    {
     "name": "stdout",
     "output_type": "stream",
     "text": [
      "Loss of train: 0.00129\n",
      "Loss of val: 0.00139\n",
      "Loss of test: 0.00124\n",
      "Loss of gw_test: 0.00108\n",
      "[0.001538011663180433, 0.0014652167745078108, 0.0014207158553541735, 0.0013930876149382343]\n"
     ]
    },
    {
     "data": {
      "application/vnd.jupyter.widget-view+json": {
       "model_id": "22e0d8989b504e00a425ccb4df9c8751",
       "version_major": 2,
       "version_minor": 0
      },
      "text/plain": [
       "0it [00:00, ?it/s]"
      ]
     },
     "metadata": {},
     "output_type": "display_data"
    },
    {
     "name": "stdout",
     "output_type": "stream",
     "text": [
      "Loss of train: 0.00127\n",
      "Loss of val: 0.00137\n",
      "Loss of test: 0.00122\n",
      "Loss of gw_test: 0.00107\n",
      "[0.001538011663180433, 0.0014652167745078108, 0.0014207158553541735, 0.0013930876149382343, 0.0013744863615760064]\n"
     ]
    },
    {
     "data": {
      "application/vnd.jupyter.widget-view+json": {
       "model_id": "5f8729a2fb82406cab4e25d015696dbc",
       "version_major": 2,
       "version_minor": 0
      },
      "text/plain": [
       "0it [00:00, ?it/s]"
      ]
     },
     "metadata": {},
     "output_type": "display_data"
    },
    {
     "name": "stdout",
     "output_type": "stream",
     "text": [
      "Loss of train: 0.00126\n",
      "Loss of val: 0.00136\n",
      "Loss of test: 0.00121\n",
      "Loss of gw_test: 0.00106\n",
      "[0.001538011663180433, 0.0014652167745078108, 0.0014207158553541735, 0.0013930876149382343, 0.0013744863615760064, 0.0013605894581737792]\n"
     ]
    },
    {
     "data": {
      "application/vnd.jupyter.widget-view+json": {
       "model_id": "c1965f5b1c774e4daa4266492a763193",
       "version_major": 2,
       "version_minor": 0
      },
      "text/plain": [
       "0it [00:00, ?it/s]"
      ]
     },
     "metadata": {},
     "output_type": "display_data"
    },
    {
     "name": "stdout",
     "output_type": "stream",
     "text": [
      "Loss of train: 0.00125\n",
      "Loss of val: 0.00135\n",
      "Loss of test: 0.00121\n",
      "Loss of gw_test: 0.00106\n",
      "[0.001538011663180433, 0.0014652167745078108, 0.0014207158553541735, 0.0013930876149382343, 0.0013744863615760064, 0.0013605894581737792, 0.0013489371112886384]\n"
     ]
    },
    {
     "data": {
      "application/vnd.jupyter.widget-view+json": {
       "model_id": "8c6d067359884dc9a21f4a49f497af31",
       "version_major": 2,
       "version_minor": 0
      },
      "text/plain": [
       "0it [00:00, ?it/s]"
      ]
     },
     "metadata": {},
     "output_type": "display_data"
    },
    {
     "name": "stdout",
     "output_type": "stream",
     "text": [
      "Loss of train: 0.00125\n",
      "Loss of val: 0.00134\n",
      "Loss of test: 0.00120\n",
      "Loss of gw_test: 0.00105\n",
      "[0.001538011663180433, 0.0014652167745078108, 0.0014207158553541735, 0.0013930876149382343, 0.0013744863615760064, 0.0013605894581737792, 0.0013489371112886384, 0.001339349308781715]\n"
     ]
    },
    {
     "data": {
      "application/vnd.jupyter.widget-view+json": {
       "model_id": "6bf1f753556a4c609d5375dd66e336aa",
       "version_major": 2,
       "version_minor": 0
      },
      "text/plain": [
       "0it [00:00, ?it/s]"
      ]
     },
     "metadata": {},
     "output_type": "display_data"
    },
    {
     "name": "stdout",
     "output_type": "stream",
     "text": [
      "Loss of train: 0.00124\n",
      "Loss of val: 0.00133\n",
      "Loss of test: 0.00120\n",
      "Loss of gw_test: 0.00105\n",
      "[0.001538011663180433, 0.0014652167745078108, 0.0014207158553541735, 0.0013930876149382343, 0.0013744863615760064, 0.0013605894581737792, 0.0013489371112886384, 0.001339349308781715, 0.0013320759960077804]\n"
     ]
    },
    {
     "data": {
      "application/vnd.jupyter.widget-view+json": {
       "model_id": "8ea1a3e0eb6a4987aad2220ec357aa10",
       "version_major": 2,
       "version_minor": 0
      },
      "text/plain": [
       "0it [00:00, ?it/s]"
      ]
     },
     "metadata": {},
     "output_type": "display_data"
    },
    {
     "name": "stdout",
     "output_type": "stream",
     "text": [
      "Loss of train: 0.00124\n",
      "Loss of val: 0.00133\n",
      "Loss of test: 0.00120\n",
      "Loss of gw_test: 0.00105\n",
      "[0.001538011663180433, 0.0014652167745078108, 0.0014207158553541735, 0.0013930876149382343, 0.0013744863615760064, 0.0013605894581737792, 0.0013489371112886384, 0.001339349308781715, 0.0013320759960077804, 0.0013265837250527766]\n"
     ]
    },
    {
     "data": {
      "application/vnd.jupyter.widget-view+json": {
       "model_id": "9ad74f7552ce482ea1489c12ba4d6087",
       "version_major": 2,
       "version_minor": 0
      },
      "text/plain": [
       "0it [00:00, ?it/s]"
      ]
     },
     "metadata": {},
     "output_type": "display_data"
    },
    {
     "name": "stdout",
     "output_type": "stream",
     "text": [
      "Loss of train: 0.00123\n",
      "Loss of val: 0.00132\n",
      "Loss of test: 0.00120\n",
      "Loss of gw_test: 0.00104\n",
      "[0.001538011663180433, 0.0014652167745078108, 0.0014207158553541735, 0.0013930876149382343, 0.0013744863615760064, 0.0013605894581737792, 0.0013489371112886384, 0.001339349308781715, 0.0013320759960077804, 0.0013265837250527766, 0.0013224965443925677]\n"
     ]
    },
    {
     "data": {
      "application/vnd.jupyter.widget-view+json": {
       "model_id": "7e017985c32d47f7ac3e833e7a58a237",
       "version_major": 2,
       "version_minor": 0
      },
      "text/plain": [
       "0it [00:00, ?it/s]"
      ]
     },
     "metadata": {},
     "output_type": "display_data"
    },
    {
     "name": "stdout",
     "output_type": "stream",
     "text": [
      "Loss of train: 0.00123\n",
      "Loss of val: 0.00132\n",
      "Loss of test: 0.00120\n",
      "Loss of gw_test: 0.00104\n",
      "[0.001538011663180433, 0.0014652167745078108, 0.0014207158553541735, 0.0013930876149382343, 0.0013744863615760064, 0.0013605894581737792, 0.0013489371112886384, 0.001339349308781715, 0.0013320759960077804, 0.0013265837250527766, 0.0013224965443925677, 0.001319469151878281]\n"
     ]
    },
    {
     "data": {
      "application/vnd.jupyter.widget-view+json": {
       "model_id": "e7d59cf761434649838fd7448874b7e1",
       "version_major": 2,
       "version_minor": 0
      },
      "text/plain": [
       "0it [00:00, ?it/s]"
      ]
     },
     "metadata": {},
     "output_type": "display_data"
    },
    {
     "name": "stdout",
     "output_type": "stream",
     "text": [
      "Loss of train: 0.00122\n",
      "Loss of val: 0.00132\n",
      "Loss of test: 0.00119\n",
      "Loss of gw_test: 0.00104\n",
      "[0.001538011663180433, 0.0014652167745078108, 0.0014207158553541735, 0.0013930876149382343, 0.0013744863615760064, 0.0013605894581737792, 0.0013489371112886384, 0.001339349308781715, 0.0013320759960077804, 0.0013265837250527766, 0.0013224965443925677, 0.001319469151878281, 0.0013172742495330622]\n"
     ]
    },
    {
     "data": {
      "application/vnd.jupyter.widget-view+json": {
       "model_id": "4715f36070334c55b4b0f7a496204d9c",
       "version_major": 2,
       "version_minor": 0
      },
      "text/plain": [
       "0it [00:00, ?it/s]"
      ]
     },
     "metadata": {},
     "output_type": "display_data"
    },
    {
     "name": "stdout",
     "output_type": "stream",
     "text": [
      "Loss of train: 0.00122\n",
      "Loss of val: 0.00132\n",
      "Loss of test: 0.00119\n",
      "Loss of gw_test: 0.00104\n",
      "[0.001538011663180433, 0.0014652167745078108, 0.0014207158553541735, 0.0013930876149382343, 0.0013744863615760064, 0.0013605894581737792, 0.0013489371112886384, 0.001339349308781715, 0.0013320759960077804, 0.0013265837250527766, 0.0013224965443925677, 0.001319469151878281, 0.0013172742495330622, 0.0013158055391339727]\n"
     ]
    },
    {
     "data": {
      "application/vnd.jupyter.widget-view+json": {
       "model_id": "9b982edd655b4a068b8ec9c5cd8aceae",
       "version_major": 2,
       "version_minor": 0
      },
      "text/plain": [
       "0it [00:00, ?it/s]"
      ]
     },
     "metadata": {},
     "output_type": "display_data"
    },
    {
     "name": "stdout",
     "output_type": "stream",
     "text": [
      "Loss of train: 0.00121\n",
      "Loss of val: 0.00131\n",
      "Loss of test: 0.00119\n",
      "Loss of gw_test: 0.00104\n",
      "[0.001538011663180433, 0.0014652167745078108, 0.0014207158553541735, 0.0013930876149382343, 0.0013744863615760064, 0.0013605894581737792, 0.0013489371112886384, 0.001339349308781715, 0.0013320759960077804, 0.0013265837250527766, 0.0013224965443925677, 0.001319469151878281, 0.0013172742495330622, 0.0013158055391339727, 0.0013147324549102292]\n"
     ]
    },
    {
     "data": {
      "application/vnd.jupyter.widget-view+json": {
       "model_id": "e2ad9d24eb874fa786f4ca1c870844b1",
       "version_major": 2,
       "version_minor": 0
      },
      "text/plain": [
       "0it [00:00, ?it/s]"
      ]
     },
     "metadata": {},
     "output_type": "display_data"
    },
    {
     "name": "stdout",
     "output_type": "stream",
     "text": [
      "Loss of train: 0.00121\n",
      "Loss of val: 0.00131\n",
      "Loss of test: 0.00119\n",
      "Loss of gw_test: 0.00104\n",
      "[0.001538011663180433, 0.0014652167745078108, 0.0014207158553541735, 0.0013930876149382343, 0.0013744863615760064, 0.0013605894581737792, 0.0013489371112886384, 0.001339349308781715, 0.0013320759960077804, 0.0013265837250527766, 0.0013224965443925677, 0.001319469151878281, 0.0013172742495330622, 0.0013158055391339727, 0.0013147324549102292, 0.001313499062825926]\n"
     ]
    },
    {
     "data": {
      "application/vnd.jupyter.widget-view+json": {
       "model_id": "d923917cb682415f88c00afdec89bb1b",
       "version_major": 2,
       "version_minor": 0
      },
      "text/plain": [
       "0it [00:00, ?it/s]"
      ]
     },
     "metadata": {},
     "output_type": "display_data"
    },
    {
     "name": "stdout",
     "output_type": "stream",
     "text": [
      "Loss of train: 0.00121\n",
      "Loss of val: 0.00131\n",
      "Loss of test: 0.00119\n",
      "Loss of gw_test: 0.00103\n",
      "[0.001538011663180433, 0.0014652167745078108, 0.0014207158553541735, 0.0013930876149382343, 0.0013744863615760064, 0.0013605894581737792, 0.0013489371112886384, 0.001339349308781715, 0.0013320759960077804, 0.0013265837250527766, 0.0013224965443925677, 0.001319469151878281, 0.0013172742495330622, 0.0013158055391339727, 0.0013147324549102292, 0.001313499062825926, 0.0013120921738840434]\n"
     ]
    },
    {
     "data": {
      "application/vnd.jupyter.widget-view+json": {
       "model_id": "fd84cf0ef00540ddb8113e7b24cbc897",
       "version_major": 2,
       "version_minor": 0
      },
      "text/plain": [
       "0it [00:00, ?it/s]"
      ]
     },
     "metadata": {},
     "output_type": "display_data"
    },
    {
     "name": "stdout",
     "output_type": "stream",
     "text": [
      "Loss of train: 0.00120\n",
      "Loss of val: 0.00131\n",
      "Loss of test: 0.00118\n",
      "Loss of gw_test: 0.00103\n",
      "[0.001538011663180433, 0.0014652167745078108, 0.0014207158553541735, 0.0013930876149382343, 0.0013744863615760064, 0.0013605894581737792, 0.0013489371112886384, 0.001339349308781715, 0.0013320759960077804, 0.0013265837250527766, 0.0013224965443925677, 0.001319469151878281, 0.0013172742495330622, 0.0013158055391339727, 0.0013147324549102292, 0.001313499062825926, 0.0013120921738840434, 0.0013087082114707107]\n"
     ]
    },
    {
     "data": {
      "application/vnd.jupyter.widget-view+json": {
       "model_id": "f2429a89f24b47199814c0f45d112ebf",
       "version_major": 2,
       "version_minor": 0
      },
      "text/plain": [
       "0it [00:00, ?it/s]"
      ]
     },
     "metadata": {},
     "output_type": "display_data"
    },
    {
     "name": "stdout",
     "output_type": "stream",
     "text": [
      "Loss of train: 0.00120\n",
      "Loss of val: 0.00131\n",
      "Loss of test: 0.00118\n",
      "Loss of gw_test: 0.00103\n",
      "[0.001538011663180433, 0.0014652167745078108, 0.0014207158553541735, 0.0013930876149382343, 0.0013744863615760064, 0.0013605894581737792, 0.0013489371112886384, 0.001339349308781715, 0.0013320759960077804, 0.0013265837250527766, 0.0013224965443925677, 0.001319469151878281, 0.0013172742495330622, 0.0013158055391339727, 0.0013147324549102292, 0.001313499062825926, 0.0013120921738840434, 0.0013087082114707107, 0.0013050222508643506]\n"
     ]
    },
    {
     "data": {
      "application/vnd.jupyter.widget-view+json": {
       "model_id": "6f0a81e152ea4aa8bd3bfa41df16257b",
       "version_major": 2,
       "version_minor": 0
      },
      "text/plain": [
       "0it [00:00, ?it/s]"
      ]
     },
     "metadata": {},
     "output_type": "display_data"
    },
    {
     "name": "stdout",
     "output_type": "stream",
     "text": [
      "Loss of train: 0.00120\n",
      "Loss of val: 0.00130\n",
      "Loss of test: 0.00117\n",
      "Loss of gw_test: 0.00102\n",
      "[0.001538011663180433, 0.0014652167745078108, 0.0014207158553541735, 0.0013930876149382343, 0.0013744863615760064, 0.0013605894581737792, 0.0013489371112886384, 0.001339349308781715, 0.0013320759960077804, 0.0013265837250527766, 0.0013224965443925677, 0.001319469151878281, 0.0013172742495330622, 0.0013158055391339727, 0.0013147324549102292, 0.001313499062825926, 0.0013120921738840434, 0.0013087082114707107, 0.0013050222508643506, 0.0013027376129733299]\n"
     ]
    },
    {
     "data": {
      "application/vnd.jupyter.widget-view+json": {
       "model_id": "b94754a9ca114e908c0a4005ba00744a",
       "version_major": 2,
       "version_minor": 0
      },
      "text/plain": [
       "0it [00:00, ?it/s]"
      ]
     },
     "metadata": {},
     "output_type": "display_data"
    },
    {
     "name": "stdout",
     "output_type": "stream",
     "text": [
      "Loss of train: 0.00119\n",
      "Loss of val: 0.00130\n",
      "Loss of test: 0.00117\n",
      "Loss of gw_test: 0.00102\n",
      "[0.001538011663180433, 0.0014652167745078108, 0.0014207158553541735, 0.0013930876149382343, 0.0013744863615760064, 0.0013605894581737792, 0.0013489371112886384, 0.001339349308781715, 0.0013320759960077804, 0.0013265837250527766, 0.0013224965443925677, 0.001319469151878281, 0.0013172742495330622, 0.0013158055391339727, 0.0013147324549102292, 0.001313499062825926, 0.0013120921738840434, 0.0013087082114707107, 0.0013050222508643506, 0.0013027376129733299, 0.0013018468880601239]\n"
     ]
    },
    {
     "data": {
      "application/vnd.jupyter.widget-view+json": {
       "model_id": "022400abf70e4949b480d2474234aef4",
       "version_major": 2,
       "version_minor": 0
      },
      "text/plain": [
       "0it [00:00, ?it/s]"
      ]
     },
     "metadata": {},
     "output_type": "display_data"
    },
    {
     "name": "stdout",
     "output_type": "stream",
     "text": [
      "Loss of train: 0.00119\n",
      "Loss of val: 0.00130\n",
      "Loss of test: 0.00117\n",
      "Loss of gw_test: 0.00101\n",
      "[0.001538011663180433, 0.0014652167745078108, 0.0014207158553541735, 0.0013930876149382343, 0.0013744863615760064, 0.0013605894581737792, 0.0013489371112886384, 0.001339349308781715, 0.0013320759960077804, 0.0013265837250527766, 0.0013224965443925677, 0.001319469151878281, 0.0013172742495330622, 0.0013158055391339727, 0.0013147324549102292, 0.001313499062825926, 0.0013120921738840434, 0.0013087082114707107, 0.0013050222508643506, 0.0013027376129733299, 0.0013018468880601239, 0.0013013746732937306]\n"
     ]
    },
    {
     "data": {
      "application/vnd.jupyter.widget-view+json": {
       "model_id": "0656711b586849e38391b3f2c90a6de0",
       "version_major": 2,
       "version_minor": 0
      },
      "text/plain": [
       "0it [00:00, ?it/s]"
      ]
     },
     "metadata": {},
     "output_type": "display_data"
    },
    {
     "name": "stdout",
     "output_type": "stream",
     "text": [
      "Loss of train: 0.00119\n",
      "Loss of val: 0.00130\n",
      "Loss of test: 0.00117\n",
      "Loss of gw_test: 0.00101\n",
      "[0.001538011663180433, 0.0014652167745078108, 0.0014207158553541735, 0.0013930876149382343, 0.0013744863615760064, 0.0013605894581737792, 0.0013489371112886384, 0.001339349308781715, 0.0013320759960077804, 0.0013265837250527766, 0.0013224965443925677, 0.001319469151878281, 0.0013172742495330622, 0.0013158055391339727, 0.0013147324549102292, 0.001313499062825926, 0.0013120921738840434, 0.0013087082114707107, 0.0013050222508643506, 0.0013027376129733299, 0.0013018468880601239, 0.0013013746732937306, 0.0013016109028534412]\n",
      "Break at 22\n",
      "{'f1': 3, 'f2': 2, 'f3': 3, 'f4': 2, 'f5': 4}\n",
      "AUROC of val: 0.94794\n",
      "AUROC of test: 0.94746\n",
      "AUROC of gw_test: 0.94720\n"
     ]
    },
    {
     "data": {
      "application/vnd.jupyter.widget-view+json": {
       "model_id": "ffa173491cf74a2390166b69b9ef9321",
       "version_major": 2,
       "version_minor": 0
      },
      "text/plain": [
       "0it [00:00, ?it/s]"
      ]
     },
     "metadata": {},
     "output_type": "display_data"
    },
    {
     "name": "stdout",
     "output_type": "stream",
     "text": [
      "Loss of train: 0.00128\n",
      "Loss of val: 0.00140\n",
      "Loss of test: 0.00126\n",
      "Loss of gw_test: 0.00107\n",
      "[0.0014034611117520292]\n"
     ]
    },
    {
     "data": {
      "application/vnd.jupyter.widget-view+json": {
       "model_id": "883214aba6484fb48a2940479179594b",
       "version_major": 2,
       "version_minor": 0
      },
      "text/plain": [
       "0it [00:00, ?it/s]"
      ]
     },
     "metadata": {},
     "output_type": "display_data"
    },
    {
     "name": "stdout",
     "output_type": "stream",
     "text": [
      "Loss of train: 0.00121\n",
      "Loss of val: 0.00134\n",
      "Loss of test: 0.00122\n",
      "Loss of gw_test: 0.00101\n",
      "[0.0014034611117520292, 0.0013389551179687873]\n"
     ]
    },
    {
     "data": {
      "application/vnd.jupyter.widget-view+json": {
       "model_id": "7e5d094db0ff4b59aacd387f1f7423ff",
       "version_major": 2,
       "version_minor": 0
      },
      "text/plain": [
       "0it [00:00, ?it/s]"
      ]
     },
     "metadata": {},
     "output_type": "display_data"
    },
    {
     "name": "stdout",
     "output_type": "stream",
     "text": [
      "Loss of train: 0.00119\n",
      "Loss of val: 0.00132\n",
      "Loss of test: 0.00121\n",
      "Loss of gw_test: 0.00100\n",
      "[0.0014034611117520292, 0.0013389551179687873, 0.0013249776495955483]\n"
     ]
    },
    {
     "data": {
      "application/vnd.jupyter.widget-view+json": {
       "model_id": "19d6b1e969be45c38eb7794515ab951a",
       "version_major": 2,
       "version_minor": 0
      },
      "text/plain": [
       "0it [00:00, ?it/s]"
      ]
     },
     "metadata": {},
     "output_type": "display_data"
    },
    {
     "name": "stdout",
     "output_type": "stream",
     "text": [
      "Loss of train: 0.00117\n",
      "Loss of val: 0.00131\n",
      "Loss of test: 0.00120\n",
      "Loss of gw_test: 0.00099\n",
      "[0.0014034611117520292, 0.0013389551179687873, 0.0013249776495955483, 0.0013101437846646876]\n"
     ]
    },
    {
     "data": {
      "application/vnd.jupyter.widget-view+json": {
       "model_id": "6c6f3a5a245942799652b5c912a807f4",
       "version_major": 2,
       "version_minor": 0
      },
      "text/plain": [
       "0it [00:00, ?it/s]"
      ]
     },
     "metadata": {},
     "output_type": "display_data"
    },
    {
     "name": "stdout",
     "output_type": "stream",
     "text": [
      "Loss of train: 0.00116\n",
      "Loss of val: 0.00130\n",
      "Loss of test: 0.00119\n",
      "Loss of gw_test: 0.00098\n",
      "[0.0014034611117520292, 0.0013389551179687873, 0.0013249776495955483, 0.0013101437846646876, 0.0012975011507171221]\n"
     ]
    },
    {
     "data": {
      "application/vnd.jupyter.widget-view+json": {
       "model_id": "96477dc7503d48c8b900ef27e02e6dd1",
       "version_major": 2,
       "version_minor": 0
      },
      "text/plain": [
       "0it [00:00, ?it/s]"
      ]
     },
     "metadata": {},
     "output_type": "display_data"
    },
    {
     "name": "stdout",
     "output_type": "stream",
     "text": [
      "Loss of train: 0.00115\n",
      "Loss of val: 0.00129\n",
      "Loss of test: 0.00118\n",
      "Loss of gw_test: 0.00098\n",
      "[0.0014034611117520292, 0.0013389551179687873, 0.0013249776495955483, 0.0013101437846646876, 0.0012975011507171221, 0.0012907842430499715]\n"
     ]
    },
    {
     "data": {
      "application/vnd.jupyter.widget-view+json": {
       "model_id": "7daf46fa1cf0411aa4efa11457f8e457",
       "version_major": 2,
       "version_minor": 0
      },
      "text/plain": [
       "0it [00:00, ?it/s]"
      ]
     },
     "metadata": {},
     "output_type": "display_data"
    },
    {
     "name": "stdout",
     "output_type": "stream",
     "text": [
      "Loss of train: 0.00115\n",
      "Loss of val: 0.00129\n",
      "Loss of test: 0.00118\n",
      "Loss of gw_test: 0.00098\n",
      "[0.0014034611117520292, 0.0013389551179687873, 0.0013249776495955483, 0.0013101437846646876, 0.0012975011507171221, 0.0012907842430499715, 0.0012856480761431483]\n"
     ]
    },
    {
     "data": {
      "application/vnd.jupyter.widget-view+json": {
       "model_id": "dec2afb8950b409898da302ef422ea43",
       "version_major": 2,
       "version_minor": 0
      },
      "text/plain": [
       "0it [00:00, ?it/s]"
      ]
     },
     "metadata": {},
     "output_type": "display_data"
    },
    {
     "name": "stdout",
     "output_type": "stream",
     "text": [
      "Loss of train: 0.00115\n",
      "Loss of val: 0.00128\n",
      "Loss of test: 0.00118\n",
      "Loss of gw_test: 0.00098\n",
      "[0.0014034611117520292, 0.0013389551179687873, 0.0013249776495955483, 0.0013101437846646876, 0.0012975011507171221, 0.0012907842430499715, 0.0012856480761431483, 0.0012809146476084703]\n"
     ]
    },
    {
     "data": {
      "application/vnd.jupyter.widget-view+json": {
       "model_id": "04583767f02542809820ab7338f318e3",
       "version_major": 2,
       "version_minor": 0
      },
      "text/plain": [
       "0it [00:00, ?it/s]"
      ]
     },
     "metadata": {},
     "output_type": "display_data"
    },
    {
     "name": "stdout",
     "output_type": "stream",
     "text": [
      "Loss of train: 0.00114\n",
      "Loss of val: 0.00128\n",
      "Loss of test: 0.00118\n",
      "Loss of gw_test: 0.00098\n",
      "[0.0014034611117520292, 0.0013389551179687873, 0.0013249776495955483, 0.0013101437846646876, 0.0012975011507171221, 0.0012907842430499715, 0.0012856480761431483, 0.0012809146476084703, 0.0012768550544333575]\n"
     ]
    },
    {
     "data": {
      "application/vnd.jupyter.widget-view+json": {
       "model_id": "215e70d4cc0e42e0a59971f0f5a820c3",
       "version_major": 2,
       "version_minor": 0
      },
      "text/plain": [
       "0it [00:00, ?it/s]"
      ]
     },
     "metadata": {},
     "output_type": "display_data"
    },
    {
     "name": "stdout",
     "output_type": "stream",
     "text": [
      "Loss of train: 0.00114\n",
      "Loss of val: 0.00127\n",
      "Loss of test: 0.00118\n",
      "Loss of gw_test: 0.00099\n",
      "[0.0014034611117520292, 0.0013389551179687873, 0.0013249776495955483, 0.0013101437846646876, 0.0012975011507171221, 0.0012907842430499715, 0.0012856480761431483, 0.0012809146476084703, 0.0012768550544333575, 0.0012734349358134978]\n"
     ]
    },
    {
     "data": {
      "application/vnd.jupyter.widget-view+json": {
       "model_id": "2e1a96770f7b46998271d2fa4842bed3",
       "version_major": 2,
       "version_minor": 0
      },
      "text/plain": [
       "0it [00:00, ?it/s]"
      ]
     },
     "metadata": {},
     "output_type": "display_data"
    },
    {
     "name": "stdout",
     "output_type": "stream",
     "text": [
      "Loss of train: 0.00113\n",
      "Loss of val: 0.00127\n",
      "Loss of test: 0.00118\n",
      "Loss of gw_test: 0.00099\n",
      "[0.0014034611117520292, 0.0013389551179687873, 0.0013249776495955483, 0.0013101437846646876, 0.0012975011507171221, 0.0012907842430499715, 0.0012856480761431483, 0.0012809146476084703, 0.0012768550544333575, 0.0012734349358134978, 0.0012701618748278396]\n"
     ]
    },
    {
     "data": {
      "application/vnd.jupyter.widget-view+json": {
       "model_id": "6b9a06c1f8fc4be2b2b10ac2133d5035",
       "version_major": 2,
       "version_minor": 0
      },
      "text/plain": [
       "0it [00:00, ?it/s]"
      ]
     },
     "metadata": {},
     "output_type": "display_data"
    },
    {
     "name": "stdout",
     "output_type": "stream",
     "text": [
      "Loss of train: 0.00113\n",
      "Loss of val: 0.00127\n",
      "Loss of test: 0.00118\n",
      "Loss of gw_test: 0.00099\n",
      "[0.0014034611117520292, 0.0013389551179687873, 0.0013249776495955483, 0.0013101437846646876, 0.0012975011507171221, 0.0012907842430499715, 0.0012856480761431483, 0.0012809146476084703, 0.0012768550544333575, 0.0012734349358134978, 0.0012701618748278396, 0.0012667705929690946]\n"
     ]
    },
    {
     "data": {
      "application/vnd.jupyter.widget-view+json": {
       "model_id": "e531471ea47943dbb640dd723fc363e8",
       "version_major": 2,
       "version_minor": 0
      },
      "text/plain": [
       "0it [00:00, ?it/s]"
      ]
     },
     "metadata": {},
     "output_type": "display_data"
    },
    {
     "name": "stdout",
     "output_type": "stream",
     "text": [
      "Loss of train: 0.00113\n",
      "Loss of val: 0.00126\n",
      "Loss of test: 0.00118\n",
      "Loss of gw_test: 0.00099\n",
      "[0.0014034611117520292, 0.0013389551179687873, 0.0013249776495955483, 0.0013101437846646876, 0.0012975011507171221, 0.0012907842430499715, 0.0012856480761431483, 0.0012809146476084703, 0.0012768550544333575, 0.0012734349358134978, 0.0012701618748278396, 0.0012667705929690946, 0.0012634419138764885]\n"
     ]
    },
    {
     "data": {
      "application/vnd.jupyter.widget-view+json": {
       "model_id": "cefd64b972b741648b333c63932e0214",
       "version_major": 2,
       "version_minor": 0
      },
      "text/plain": [
       "0it [00:00, ?it/s]"
      ]
     },
     "metadata": {},
     "output_type": "display_data"
    },
    {
     "name": "stdout",
     "output_type": "stream",
     "text": [
      "Loss of train: 0.00113\n",
      "Loss of val: 0.00126\n",
      "Loss of test: 0.00118\n",
      "Loss of gw_test: 0.00099\n",
      "[0.0014034611117520292, 0.0013389551179687873, 0.0013249776495955483, 0.0013101437846646876, 0.0012975011507171221, 0.0012907842430499715, 0.0012856480761431483, 0.0012809146476084703, 0.0012768550544333575, 0.0012734349358134978, 0.0012701618748278396, 0.0012667705929690946, 0.0012634419138764885, 0.0012619606422927207]\n"
     ]
    },
    {
     "data": {
      "application/vnd.jupyter.widget-view+json": {
       "model_id": "9da3b297ca1f4ef4b4f3933429433c3d",
       "version_major": 2,
       "version_minor": 0
      },
      "text/plain": [
       "0it [00:00, ?it/s]"
      ]
     },
     "metadata": {},
     "output_type": "display_data"
    },
    {
     "name": "stdout",
     "output_type": "stream",
     "text": [
      "Loss of train: 0.00112\n",
      "Loss of val: 0.00126\n",
      "Loss of test: 0.00118\n",
      "Loss of gw_test: 0.00099\n",
      "[0.0014034611117520292, 0.0013389551179687873, 0.0013249776495955483, 0.0013101437846646876, 0.0012975011507171221, 0.0012907842430499715, 0.0012856480761431483, 0.0012809146476084703, 0.0012768550544333575, 0.0012734349358134978, 0.0012701618748278396, 0.0012667705929690946, 0.0012634419138764885, 0.0012619606422927207, 0.0012603772693762464]\n"
     ]
    },
    {
     "data": {
      "application/vnd.jupyter.widget-view+json": {
       "model_id": "a9c67a79718e489aa2b8b1bfd90f84a6",
       "version_major": 2,
       "version_minor": 0
      },
      "text/plain": [
       "0it [00:00, ?it/s]"
      ]
     },
     "metadata": {},
     "output_type": "display_data"
    },
    {
     "name": "stdout",
     "output_type": "stream",
     "text": [
      "Loss of train: 0.00112\n",
      "Loss of val: 0.00126\n",
      "Loss of test: 0.00119\n",
      "Loss of gw_test: 0.00099\n",
      "[0.0014034611117520292, 0.0013389551179687873, 0.0013249776495955483, 0.0013101437846646876, 0.0012975011507171221, 0.0012907842430499715, 0.0012856480761431483, 0.0012809146476084703, 0.0012768550544333575, 0.0012734349358134978, 0.0012701618748278396, 0.0012667705929690946, 0.0012634419138764885, 0.0012619606422927207, 0.0012603772693762464, 0.0012601713244963157]\n"
     ]
    },
    {
     "data": {
      "application/vnd.jupyter.widget-view+json": {
       "model_id": "50ee6a2e1f6d4c1abb0a30d92ae13504",
       "version_major": 2,
       "version_minor": 0
      },
      "text/plain": [
       "0it [00:00, ?it/s]"
      ]
     },
     "metadata": {},
     "output_type": "display_data"
    },
    {
     "name": "stdout",
     "output_type": "stream",
     "text": [
      "Loss of train: 0.00112\n",
      "Loss of val: 0.00126\n",
      "Loss of test: 0.00118\n",
      "Loss of gw_test: 0.00100\n",
      "[0.0014034611117520292, 0.0013389551179687873, 0.0013249776495955483, 0.0013101437846646876, 0.0012975011507171221, 0.0012907842430499715, 0.0012856480761431483, 0.0012809146476084703, 0.0012768550544333575, 0.0012734349358134978, 0.0012701618748278396, 0.0012667705929690946, 0.0012634419138764885, 0.0012619606422927207, 0.0012603772693762464, 0.0012601713244963157, 0.0012616925737591706]\n",
      "Break at 16\n",
      "{'f1': 3, 'f2': 2, 'f3': 3, 'f4': 2, 'f5': 5}\n",
      "AUROC of val: 0.94939\n",
      "AUROC of test: 0.94662\n",
      "AUROC of gw_test: 0.94817\n"
     ]
    },
    {
     "data": {
      "application/vnd.jupyter.widget-view+json": {
       "model_id": "6490ce3ebf8b4e379cc46f2e0d93edca",
       "version_major": 2,
       "version_minor": 0
      },
      "text/plain": [
       "0it [00:00, ?it/s]"
      ]
     },
     "metadata": {},
     "output_type": "display_data"
    },
    {
     "name": "stdout",
     "output_type": "stream",
     "text": [
      "Loss of train: 0.00137\n",
      "Loss of val: 0.00153\n",
      "Loss of test: 0.00132\n",
      "Loss of gw_test: 0.00113\n",
      "[0.0015311437222045232]\n"
     ]
    },
    {
     "data": {
      "application/vnd.jupyter.widget-view+json": {
       "model_id": "a9d106261dc342ce82d505f001d0dfea",
       "version_major": 2,
       "version_minor": 0
      },
      "text/plain": [
       "0it [00:00, ?it/s]"
      ]
     },
     "metadata": {},
     "output_type": "display_data"
    },
    {
     "name": "stdout",
     "output_type": "stream",
     "text": [
      "Loss of train: 0.00131\n",
      "Loss of val: 0.00149\n",
      "Loss of test: 0.00129\n",
      "Loss of gw_test: 0.00107\n",
      "[0.0015311437222045232, 0.0014905395730247118]\n"
     ]
    },
    {
     "data": {
      "application/vnd.jupyter.widget-view+json": {
       "model_id": "bdf4cf8f46da47adae1618049afaf1bf",
       "version_major": 2,
       "version_minor": 0
      },
      "text/plain": [
       "0it [00:00, ?it/s]"
      ]
     },
     "metadata": {},
     "output_type": "display_data"
    },
    {
     "name": "stdout",
     "output_type": "stream",
     "text": [
      "Loss of train: 0.00128\n",
      "Loss of val: 0.00145\n",
      "Loss of test: 0.00127\n",
      "Loss of gw_test: 0.00104\n",
      "[0.0015311437222045232, 0.0014905395730247118, 0.001452745109520851]\n"
     ]
    },
    {
     "data": {
      "application/vnd.jupyter.widget-view+json": {
       "model_id": "453e22cd27ba416186b71869191a208d",
       "version_major": 2,
       "version_minor": 0
      },
      "text/plain": [
       "0it [00:00, ?it/s]"
      ]
     },
     "metadata": {},
     "output_type": "display_data"
    },
    {
     "name": "stdout",
     "output_type": "stream",
     "text": [
      "Loss of train: 0.00125\n",
      "Loss of val: 0.00143\n",
      "Loss of test: 0.00126\n",
      "Loss of gw_test: 0.00102\n",
      "[0.0015311437222045232, 0.0014905395730247118, 0.001452745109520851, 0.0014277800528663938]\n"
     ]
    },
    {
     "data": {
      "application/vnd.jupyter.widget-view+json": {
       "model_id": "ad6b05c5f2d640d49e1d1c0412c2d312",
       "version_major": 2,
       "version_minor": 0
      },
      "text/plain": [
       "0it [00:00, ?it/s]"
      ]
     },
     "metadata": {},
     "output_type": "display_data"
    },
    {
     "name": "stdout",
     "output_type": "stream",
     "text": [
      "Loss of train: 0.00122\n",
      "Loss of val: 0.00140\n",
      "Loss of test: 0.00124\n",
      "Loss of gw_test: 0.00099\n",
      "[0.0015311437222045232, 0.0014905395730247118, 0.001452745109520851, 0.0014277800528663938, 0.001400070380110842]\n"
     ]
    },
    {
     "data": {
      "application/vnd.jupyter.widget-view+json": {
       "model_id": "ba364a279b674af19682028f0f505a64",
       "version_major": 2,
       "version_minor": 0
      },
      "text/plain": [
       "0it [00:00, ?it/s]"
      ]
     },
     "metadata": {},
     "output_type": "display_data"
    },
    {
     "name": "stdout",
     "output_type": "stream",
     "text": [
      "Loss of train: 0.00121\n",
      "Loss of val: 0.00140\n",
      "Loss of test: 0.00124\n",
      "Loss of gw_test: 0.00098\n",
      "[0.0015311437222045232, 0.0014905395730247118, 0.001452745109520851, 0.0014277800528663938, 0.001400070380110842, 0.0013955325788893188]\n"
     ]
    },
    {
     "data": {
      "application/vnd.jupyter.widget-view+json": {
       "model_id": "4fff31dab3144e1a954ff1596156c629",
       "version_major": 2,
       "version_minor": 0
      },
      "text/plain": [
       "0it [00:00, ?it/s]"
      ]
     },
     "metadata": {},
     "output_type": "display_data"
    },
    {
     "name": "stdout",
     "output_type": "stream",
     "text": [
      "Loss of train: 0.00120\n",
      "Loss of val: 0.00137\n",
      "Loss of test: 0.00123\n",
      "Loss of gw_test: 0.00097\n",
      "[0.0015311437222045232, 0.0014905395730247118, 0.001452745109520851, 0.0014277800528663938, 0.001400070380110842, 0.0013955325788893188, 0.0013716561683041124]\n"
     ]
    },
    {
     "data": {
      "application/vnd.jupyter.widget-view+json": {
       "model_id": "ca584742262443ddbc50319da7c1a633",
       "version_major": 2,
       "version_minor": 0
      },
      "text/plain": [
       "0it [00:00, ?it/s]"
      ]
     },
     "metadata": {},
     "output_type": "display_data"
    },
    {
     "name": "stdout",
     "output_type": "stream",
     "text": [
      "Loss of train: 0.00119\n",
      "Loss of val: 0.00137\n",
      "Loss of test: 0.00123\n",
      "Loss of gw_test: 0.00096\n",
      "[0.0015311437222045232, 0.0014905395730247118, 0.001452745109520851, 0.0014277800528663938, 0.001400070380110842, 0.0013955325788893188, 0.0013716561683041124, 0.0013656732701870153]\n"
     ]
    },
    {
     "data": {
      "application/vnd.jupyter.widget-view+json": {
       "model_id": "c343c78339884bf09efe54c92a315f97",
       "version_major": 2,
       "version_minor": 0
      },
      "text/plain": [
       "0it [00:00, ?it/s]"
      ]
     },
     "metadata": {},
     "output_type": "display_data"
    },
    {
     "name": "stdout",
     "output_type": "stream",
     "text": [
      "Loss of train: 0.00118\n",
      "Loss of val: 0.00135\n",
      "Loss of test: 0.00122\n",
      "Loss of gw_test: 0.00095\n",
      "[0.0015311437222045232, 0.0014905395730247118, 0.001452745109520851, 0.0014277800528663938, 0.001400070380110842, 0.0013955325788893188, 0.0013716561683041124, 0.0013656732701870153, 0.0013530594288420786]\n"
     ]
    },
    {
     "data": {
      "application/vnd.jupyter.widget-view+json": {
       "model_id": "74c8b187a1dd4b26b6a4a3e0d4cc0bee",
       "version_major": 2,
       "version_minor": 0
      },
      "text/plain": [
       "0it [00:00, ?it/s]"
      ]
     },
     "metadata": {},
     "output_type": "display_data"
    },
    {
     "name": "stdout",
     "output_type": "stream",
     "text": [
      "Loss of train: 0.00118\n",
      "Loss of val: 0.00135\n",
      "Loss of test: 0.00122\n",
      "Loss of gw_test: 0.00094\n",
      "[0.0015311437222045232, 0.0014905395730247118, 0.001452745109520851, 0.0014277800528663938, 0.001400070380110842, 0.0013955325788893188, 0.0013716561683041124, 0.0013656732701870153, 0.0013530594288420786, 0.0013500543544216626]\n"
     ]
    },
    {
     "data": {
      "application/vnd.jupyter.widget-view+json": {
       "model_id": "26b0647c2d274f4bbd6040441362b31c",
       "version_major": 2,
       "version_minor": 0
      },
      "text/plain": [
       "0it [00:00, ?it/s]"
      ]
     },
     "metadata": {},
     "output_type": "display_data"
    },
    {
     "name": "stdout",
     "output_type": "stream",
     "text": [
      "Loss of train: 0.00117\n",
      "Loss of val: 0.00134\n",
      "Loss of test: 0.00122\n",
      "Loss of gw_test: 0.00094\n",
      "[0.0015311437222045232, 0.0014905395730247118, 0.001452745109520851, 0.0014277800528663938, 0.001400070380110842, 0.0013955325788893188, 0.0013716561683041124, 0.0013656732701870153, 0.0013530594288420786, 0.0013500543544216626, 0.0013432317287994748]\n"
     ]
    },
    {
     "data": {
      "application/vnd.jupyter.widget-view+json": {
       "model_id": "a52f35c060b44119954afeab5346fff0",
       "version_major": 2,
       "version_minor": 0
      },
      "text/plain": [
       "0it [00:00, ?it/s]"
      ]
     },
     "metadata": {},
     "output_type": "display_data"
    },
    {
     "name": "stdout",
     "output_type": "stream",
     "text": [
      "Loss of train: 0.00117\n",
      "Loss of val: 0.00134\n",
      "Loss of test: 0.00122\n",
      "Loss of gw_test: 0.00094\n",
      "[0.0015311437222045232, 0.0014905395730247118, 0.001452745109520851, 0.0014277800528663938, 0.001400070380110842, 0.0013955325788893188, 0.0013716561683041124, 0.0013656732701870153, 0.0013530594288420786, 0.0013500543544216626, 0.0013432317287994748, 0.0013406729136902812]\n"
     ]
    },
    {
     "data": {
      "application/vnd.jupyter.widget-view+json": {
       "model_id": "fcc6203353474239bfdf93e79cfbb2c7",
       "version_major": 2,
       "version_minor": 0
      },
      "text/plain": [
       "0it [00:00, ?it/s]"
      ]
     },
     "metadata": {},
     "output_type": "display_data"
    },
    {
     "name": "stdout",
     "output_type": "stream",
     "text": [
      "Loss of train: 0.00117\n",
      "Loss of val: 0.00134\n",
      "Loss of test: 0.00122\n",
      "Loss of gw_test: 0.00094\n",
      "[0.0015311437222045232, 0.0014905395730247118, 0.001452745109520851, 0.0014277800528663938, 0.001400070380110842, 0.0013955325788893188, 0.0013716561683041124, 0.0013656732701870153, 0.0013530594288420786, 0.0013500543544216626, 0.0013432317287994748, 0.0013406729136902812, 0.0013374514995105379]\n"
     ]
    },
    {
     "data": {
      "application/vnd.jupyter.widget-view+json": {
       "model_id": "feaf6788783f4e95af9045e691261cc7",
       "version_major": 2,
       "version_minor": 0
      },
      "text/plain": [
       "0it [00:00, ?it/s]"
      ]
     },
     "metadata": {},
     "output_type": "display_data"
    },
    {
     "name": "stdout",
     "output_type": "stream",
     "text": [
      "Loss of train: 0.00117\n",
      "Loss of val: 0.00133\n",
      "Loss of test: 0.00122\n",
      "Loss of gw_test: 0.00094\n",
      "[0.0015311437222045232, 0.0014905395730247118, 0.001452745109520851, 0.0014277800528663938, 0.001400070380110842, 0.0013955325788893188, 0.0013716561683041124, 0.0013656732701870153, 0.0013530594288420786, 0.0013500543544216626, 0.0013432317287994748, 0.0013406729136902812, 0.0013374514995105379, 0.0013320245142671328]\n"
     ]
    },
    {
     "data": {
      "application/vnd.jupyter.widget-view+json": {
       "model_id": "f29d0614dcd74f3da3f35b4dbfaa2240",
       "version_major": 2,
       "version_minor": 0
      },
      "text/plain": [
       "0it [00:00, ?it/s]"
      ]
     },
     "metadata": {},
     "output_type": "display_data"
    },
    {
     "name": "stdout",
     "output_type": "stream",
     "text": [
      "Loss of train: 0.00117\n",
      "Loss of val: 0.00133\n",
      "Loss of test: 0.00122\n",
      "Loss of gw_test: 0.00094\n",
      "[0.0015311437222045232, 0.0014905395730247118, 0.001452745109520851, 0.0014277800528663938, 0.001400070380110842, 0.0013955325788893188, 0.0013716561683041124, 0.0013656732701870153, 0.0013530594288420786, 0.0013500543544216626, 0.0013432317287994748, 0.0013406729136902812, 0.0013374514995105379, 0.0013320245142671328, 0.0013315537735194684]\n"
     ]
    },
    {
     "data": {
      "application/vnd.jupyter.widget-view+json": {
       "model_id": "984082a7d7254ff0b07db27d681f06e6",
       "version_major": 2,
       "version_minor": 0
      },
      "text/plain": [
       "0it [00:00, ?it/s]"
      ]
     },
     "metadata": {},
     "output_type": "display_data"
    },
    {
     "name": "stdout",
     "output_type": "stream",
     "text": [
      "Loss of train: 0.00117\n",
      "Loss of val: 0.00133\n",
      "Loss of test: 0.00122\n",
      "Loss of gw_test: 0.00094\n",
      "[0.0015311437222045232, 0.0014905395730247118, 0.001452745109520851, 0.0014277800528663938, 0.001400070380110842, 0.0013955325788893188, 0.0013716561683041124, 0.0013656732701870153, 0.0013530594288420786, 0.0013500543544216626, 0.0013432317287994748, 0.0013406729136902812, 0.0013374514995105379, 0.0013320245142671328, 0.0013315537735194684, 0.001328800514488113]\n"
     ]
    },
    {
     "data": {
      "application/vnd.jupyter.widget-view+json": {
       "model_id": "784d329b9b7244398d14bb7e6ef8f3b5",
       "version_major": 2,
       "version_minor": 0
      },
      "text/plain": [
       "0it [00:00, ?it/s]"
      ]
     },
     "metadata": {},
     "output_type": "display_data"
    },
    {
     "name": "stdout",
     "output_type": "stream",
     "text": [
      "Loss of train: 0.00117\n",
      "Loss of val: 0.00133\n",
      "Loss of test: 0.00122\n",
      "Loss of gw_test: 0.00094\n",
      "[0.0015311437222045232, 0.0014905395730247118, 0.001452745109520851, 0.0014277800528663938, 0.001400070380110842, 0.0013955325788893188, 0.0013716561683041124, 0.0013656732701870153, 0.0013530594288420786, 0.0013500543544216626, 0.0013432317287994748, 0.0013406729136902812, 0.0013374514995105379, 0.0013320245142671328, 0.0013315537735194684, 0.001328800514488113, 0.0013322617594720223]\n",
      "Break at 16\n",
      "{'f1': 3, 'f2': 2, 'f3': 3, 'f4': 3, 'f5': 2}\n",
      "AUROC of val: 0.94411\n",
      "AUROC of test: 0.94317\n",
      "AUROC of gw_test: 0.94981\n"
     ]
    },
    {
     "data": {
      "application/vnd.jupyter.widget-view+json": {
       "model_id": "076e37e913044c9591f96adeb949b8f9",
       "version_major": 2,
       "version_minor": 0
      },
      "text/plain": [
       "0it [00:00, ?it/s]"
      ]
     },
     "metadata": {},
     "output_type": "display_data"
    },
    {
     "name": "stdout",
     "output_type": "stream",
     "text": [
      "Loss of train: 0.00137\n",
      "Loss of val: 0.00154\n",
      "Loss of test: 0.00132\n",
      "Loss of gw_test: 0.00112\n",
      "[0.0015380976504749345]\n"
     ]
    },
    {
     "data": {
      "application/vnd.jupyter.widget-view+json": {
       "model_id": "c40b214fe29e4687afb782102d921efe",
       "version_major": 2,
       "version_minor": 0
      },
      "text/plain": [
       "0it [00:00, ?it/s]"
      ]
     },
     "metadata": {},
     "output_type": "display_data"
    },
    {
     "name": "stdout",
     "output_type": "stream",
     "text": [
      "Loss of train: 0.00132\n",
      "Loss of val: 0.00147\n",
      "Loss of test: 0.00126\n",
      "Loss of gw_test: 0.00109\n",
      "[0.0015380976504749345, 0.001474654950428864]\n"
     ]
    },
    {
     "data": {
      "application/vnd.jupyter.widget-view+json": {
       "model_id": "e4dfa0afb2be4906b71a175cfc58d40e",
       "version_major": 2,
       "version_minor": 0
      },
      "text/plain": [
       "0it [00:00, ?it/s]"
      ]
     },
     "metadata": {},
     "output_type": "display_data"
    },
    {
     "name": "stdout",
     "output_type": "stream",
     "text": [
      "Loss of train: 0.00129\n",
      "Loss of val: 0.00144\n",
      "Loss of test: 0.00123\n",
      "Loss of gw_test: 0.00108\n",
      "[0.0015380976504749345, 0.001474654950428864, 0.0014427672291477838]\n"
     ]
    },
    {
     "data": {
      "application/vnd.jupyter.widget-view+json": {
       "model_id": "e847901825e14ff799f18a54205fbad3",
       "version_major": 2,
       "version_minor": 0
      },
      "text/plain": [
       "0it [00:00, ?it/s]"
      ]
     },
     "metadata": {},
     "output_type": "display_data"
    },
    {
     "name": "stdout",
     "output_type": "stream",
     "text": [
      "Loss of train: 0.00128\n",
      "Loss of val: 0.00143\n",
      "Loss of test: 0.00122\n",
      "Loss of gw_test: 0.00108\n",
      "[0.0015380976504749345, 0.001474654950428864, 0.0014427672291477838, 0.001425190277579557]\n"
     ]
    },
    {
     "data": {
      "application/vnd.jupyter.widget-view+json": {
       "model_id": "693abac5ef654240adda97c2d128557d",
       "version_major": 2,
       "version_minor": 0
      },
      "text/plain": [
       "0it [00:00, ?it/s]"
      ]
     },
     "metadata": {},
     "output_type": "display_data"
    },
    {
     "name": "stdout",
     "output_type": "stream",
     "text": [
      "Loss of train: 0.00127\n",
      "Loss of val: 0.00141\n",
      "Loss of test: 0.00120\n",
      "Loss of gw_test: 0.00107\n",
      "[0.0015380976504749345, 0.001474654950428864, 0.0014427672291477838, 0.001425190277579557, 0.0014052950938113797]\n"
     ]
    },
    {
     "data": {
      "application/vnd.jupyter.widget-view+json": {
       "model_id": "a417f01f69f74c56bc2b2cc509aa87da",
       "version_major": 2,
       "version_minor": 0
      },
      "text/plain": [
       "0it [00:00, ?it/s]"
      ]
     },
     "metadata": {},
     "output_type": "display_data"
    },
    {
     "name": "stdout",
     "output_type": "stream",
     "text": [
      "Loss of train: 0.00126\n",
      "Loss of val: 0.00139\n",
      "Loss of test: 0.00119\n",
      "Loss of gw_test: 0.00106\n",
      "[0.0015380976504749345, 0.001474654950428864, 0.0014427672291477838, 0.001425190277579557, 0.0014052950938113797, 0.0013917452236271103]\n"
     ]
    },
    {
     "data": {
      "application/vnd.jupyter.widget-view+json": {
       "model_id": "8443082df56f4b9387eb4bb3e48ee2ab",
       "version_major": 2,
       "version_minor": 0
      },
      "text/plain": [
       "0it [00:00, ?it/s]"
      ]
     },
     "metadata": {},
     "output_type": "display_data"
    },
    {
     "name": "stdout",
     "output_type": "stream",
     "text": [
      "Loss of train: 0.00125\n",
      "Loss of val: 0.00138\n",
      "Loss of test: 0.00119\n",
      "Loss of gw_test: 0.00106\n",
      "[0.0015380976504749345, 0.001474654950428864, 0.0014427672291477838, 0.001425190277579557, 0.0014052950938113797, 0.0013917452236271103, 0.0013813865574337967]\n"
     ]
    },
    {
     "data": {
      "application/vnd.jupyter.widget-view+json": {
       "model_id": "c30aced41f664606ac69d2e3f7900da2",
       "version_major": 2,
       "version_minor": 0
      },
      "text/plain": [
       "0it [00:00, ?it/s]"
      ]
     },
     "metadata": {},
     "output_type": "display_data"
    },
    {
     "name": "stdout",
     "output_type": "stream",
     "text": [
      "Loss of train: 0.00124\n",
      "Loss of val: 0.00137\n",
      "Loss of test: 0.00118\n",
      "Loss of gw_test: 0.00106\n",
      "[0.0015380976504749345, 0.001474654950428864, 0.0014427672291477838, 0.001425190277579557, 0.0014052950938113797, 0.0013917452236271103, 0.0013813865574337967, 0.0013736493884035765]\n"
     ]
    },
    {
     "data": {
      "application/vnd.jupyter.widget-view+json": {
       "model_id": "6a7a679ac1804562a42201ac91e3cab8",
       "version_major": 2,
       "version_minor": 0
      },
      "text/plain": [
       "0it [00:00, ?it/s]"
      ]
     },
     "metadata": {},
     "output_type": "display_data"
    },
    {
     "name": "stdout",
     "output_type": "stream",
     "text": [
      "Loss of train: 0.00123\n",
      "Loss of val: 0.00137\n",
      "Loss of test: 0.00118\n",
      "Loss of gw_test: 0.00105\n",
      "[0.0015380976504749345, 0.001474654950428864, 0.0014427672291477838, 0.001425190277579557, 0.0014052950938113797, 0.0013917452236271103, 0.0013813865574337967, 0.0013736493884035765, 0.0013674247114299964]\n"
     ]
    },
    {
     "data": {
      "application/vnd.jupyter.widget-view+json": {
       "model_id": "65ddd8c7e9ac46aaa9494b58487181a5",
       "version_major": 2,
       "version_minor": 0
      },
      "text/plain": [
       "0it [00:00, ?it/s]"
      ]
     },
     "metadata": {},
     "output_type": "display_data"
    },
    {
     "name": "stdout",
     "output_type": "stream",
     "text": [
      "Loss of train: 0.00123\n",
      "Loss of val: 0.00136\n",
      "Loss of test: 0.00118\n",
      "Loss of gw_test: 0.00105\n",
      "[0.0015380976504749345, 0.001474654950428864, 0.0014427672291477838, 0.001425190277579557, 0.0014052950938113797, 0.0013917452236271103, 0.0013813865574337967, 0.0013736493884035765, 0.0013674247114299964, 0.0013622563527046897]\n"
     ]
    },
    {
     "data": {
      "application/vnd.jupyter.widget-view+json": {
       "model_id": "af1ad29c325749deb8841c9a7746c86e",
       "version_major": 2,
       "version_minor": 0
      },
      "text/plain": [
       "0it [00:00, ?it/s]"
      ]
     },
     "metadata": {},
     "output_type": "display_data"
    },
    {
     "name": "stdout",
     "output_type": "stream",
     "text": [
      "Loss of train: 0.00122\n",
      "Loss of val: 0.00136\n",
      "Loss of test: 0.00118\n",
      "Loss of gw_test: 0.00105\n",
      "[0.0015380976504749345, 0.001474654950428864, 0.0014427672291477838, 0.001425190277579557, 0.0014052950938113797, 0.0013917452236271103, 0.0013813865574337967, 0.0013736493884035765, 0.0013674247114299964, 0.0013622563527046897, 0.0013578824570611462]\n"
     ]
    },
    {
     "data": {
      "application/vnd.jupyter.widget-view+json": {
       "model_id": "bb7f3e6941324269b9b9602f4bc0d6a1",
       "version_major": 2,
       "version_minor": 0
      },
      "text/plain": [
       "0it [00:00, ?it/s]"
      ]
     },
     "metadata": {},
     "output_type": "display_data"
    },
    {
     "name": "stdout",
     "output_type": "stream",
     "text": [
      "Loss of train: 0.00122\n",
      "Loss of val: 0.00135\n",
      "Loss of test: 0.00118\n",
      "Loss of gw_test: 0.00105\n",
      "[0.0015380976504749345, 0.001474654950428864, 0.0014427672291477838, 0.001425190277579557, 0.0014052950938113797, 0.0013917452236271103, 0.0013813865574337967, 0.0013736493884035765, 0.0013674247114299964, 0.0013622563527046897, 0.0013578824570611462, 0.00135319440426304]\n"
     ]
    },
    {
     "data": {
      "application/vnd.jupyter.widget-view+json": {
       "model_id": "d2dfa1ab59ad4f62a438bc2a678ad84b",
       "version_major": 2,
       "version_minor": 0
      },
      "text/plain": [
       "0it [00:00, ?it/s]"
      ]
     },
     "metadata": {},
     "output_type": "display_data"
    },
    {
     "name": "stdout",
     "output_type": "stream",
     "text": [
      "Loss of train: 0.00121\n",
      "Loss of val: 0.00135\n",
      "Loss of test: 0.00118\n",
      "Loss of gw_test: 0.00104\n",
      "[0.0015380976504749345, 0.001474654950428864, 0.0014427672291477838, 0.001425190277579557, 0.0014052950938113797, 0.0013917452236271103, 0.0013813865574337967, 0.0013736493884035765, 0.0013674247114299964, 0.0013622563527046897, 0.0013578824570611462, 0.00135319440426304, 0.0013479119203994967]\n"
     ]
    },
    {
     "data": {
      "application/vnd.jupyter.widget-view+json": {
       "model_id": "5d5559d0089b4a7e8285fbc1ef8b2e27",
       "version_major": 2,
       "version_minor": 0
      },
      "text/plain": [
       "0it [00:00, ?it/s]"
      ]
     },
     "metadata": {},
     "output_type": "display_data"
    },
    {
     "name": "stdout",
     "output_type": "stream",
     "text": [
      "Loss of train: 0.00121\n",
      "Loss of val: 0.00134\n",
      "Loss of test: 0.00118\n",
      "Loss of gw_test: 0.00104\n",
      "[0.0015380976504749345, 0.001474654950428864, 0.0014427672291477838, 0.001425190277579557, 0.0014052950938113797, 0.0013917452236271103, 0.0013813865574337967, 0.0013736493884035765, 0.0013674247114299964, 0.0013622563527046897, 0.0013578824570611462, 0.00135319440426304, 0.0013479119203994967, 0.001342476291520424]\n"
     ]
    },
    {
     "data": {
      "application/vnd.jupyter.widget-view+json": {
       "model_id": "2a7bba3e2e854eec9d9783463f056171",
       "version_major": 2,
       "version_minor": 0
      },
      "text/plain": [
       "0it [00:00, ?it/s]"
      ]
     },
     "metadata": {},
     "output_type": "display_data"
    },
    {
     "name": "stdout",
     "output_type": "stream",
     "text": [
      "Loss of train: 0.00120\n",
      "Loss of val: 0.00134\n",
      "Loss of test: 0.00118\n",
      "Loss of gw_test: 0.00103\n",
      "[0.0015380976504749345, 0.001474654950428864, 0.0014427672291477838, 0.001425190277579557, 0.0014052950938113797, 0.0013917452236271103, 0.0013813865574337967, 0.0013736493884035765, 0.0013674247114299964, 0.0013622563527046897, 0.0013578824570611462, 0.00135319440426304, 0.0013479119203994967, 0.001342476291520424, 0.0013368151311450196]\n"
     ]
    },
    {
     "data": {
      "application/vnd.jupyter.widget-view+json": {
       "model_id": "00d43eff81ab4675bc51a6242f4310eb",
       "version_major": 2,
       "version_minor": 0
      },
      "text/plain": [
       "0it [00:00, ?it/s]"
      ]
     },
     "metadata": {},
     "output_type": "display_data"
    },
    {
     "name": "stdout",
     "output_type": "stream",
     "text": [
      "Loss of train: 0.00120\n",
      "Loss of val: 0.00133\n",
      "Loss of test: 0.00118\n",
      "Loss of gw_test: 0.00103\n",
      "[0.0015380976504749345, 0.001474654950428864, 0.0014427672291477838, 0.001425190277579557, 0.0014052950938113797, 0.0013917452236271103, 0.0013813865574337967, 0.0013736493884035765, 0.0013674247114299964, 0.0013622563527046897, 0.0013578824570611462, 0.00135319440426304, 0.0013479119203994967, 0.001342476291520424, 0.0013368151311450196, 0.0013326035423447474]\n"
     ]
    },
    {
     "data": {
      "application/vnd.jupyter.widget-view+json": {
       "model_id": "a2fcd409a6e04572922fa8814e0936e5",
       "version_major": 2,
       "version_minor": 0
      },
      "text/plain": [
       "0it [00:00, ?it/s]"
      ]
     },
     "metadata": {},
     "output_type": "display_data"
    },
    {
     "name": "stdout",
     "output_type": "stream",
     "text": [
      "Loss of train: 0.00119\n",
      "Loss of val: 0.00133\n",
      "Loss of test: 0.00118\n",
      "Loss of gw_test: 0.00102\n",
      "[0.0015380976504749345, 0.001474654950428864, 0.0014427672291477838, 0.001425190277579557, 0.0014052950938113797, 0.0013917452236271103, 0.0013813865574337967, 0.0013736493884035765, 0.0013674247114299964, 0.0013622563527046897, 0.0013578824570611462, 0.00135319440426304, 0.0013479119203994967, 0.001342476291520424, 0.0013368151311450196, 0.0013326035423447474, 0.0013313171789821113]\n"
     ]
    },
    {
     "data": {
      "application/vnd.jupyter.widget-view+json": {
       "model_id": "4b21bd64c75243d49a6711c0acbafffa",
       "version_major": 2,
       "version_minor": 0
      },
      "text/plain": [
       "0it [00:00, ?it/s]"
      ]
     },
     "metadata": {},
     "output_type": "display_data"
    },
    {
     "name": "stdout",
     "output_type": "stream",
     "text": [
      "Loss of train: 0.00119\n",
      "Loss of val: 0.00133\n",
      "Loss of test: 0.00118\n",
      "Loss of gw_test: 0.00102\n",
      "[0.0015380976504749345, 0.001474654950428864, 0.0014427672291477838, 0.001425190277579557, 0.0014052950938113797, 0.0013917452236271103, 0.0013813865574337967, 0.0013736493884035765, 0.0013674247114299964, 0.0013622563527046897, 0.0013578824570611462, 0.00135319440426304, 0.0013479119203994967, 0.001342476291520424, 0.0013368151311450196, 0.0013326035423447474, 0.0013313171789821113, 0.001328051077402069]\n"
     ]
    },
    {
     "data": {
      "application/vnd.jupyter.widget-view+json": {
       "model_id": "25a50f46f7f14861b916d197dcaefe87",
       "version_major": 2,
       "version_minor": 0
      },
      "text/plain": [
       "0it [00:00, ?it/s]"
      ]
     },
     "metadata": {},
     "output_type": "display_data"
    },
    {
     "name": "stdout",
     "output_type": "stream",
     "text": [
      "Loss of train: 0.00118\n",
      "Loss of val: 0.00133\n",
      "Loss of test: 0.00118\n",
      "Loss of gw_test: 0.00102\n",
      "[0.0015380976504749345, 0.001474654950428864, 0.0014427672291477838, 0.001425190277579557, 0.0014052950938113797, 0.0013917452236271103, 0.0013813865574337967, 0.0013736493884035765, 0.0013674247114299964, 0.0013622563527046897, 0.0013578824570611462, 0.00135319440426304, 0.0013479119203994967, 0.001342476291520424, 0.0013368151311450196, 0.0013326035423447474, 0.0013313171789821113, 0.001328051077402069, 0.0013278413569010412]\n"
     ]
    },
    {
     "data": {
      "application/vnd.jupyter.widget-view+json": {
       "model_id": "63d0ccf4dcf54524bc915441d4f517ad",
       "version_major": 2,
       "version_minor": 0
      },
      "text/plain": [
       "0it [00:00, ?it/s]"
      ]
     },
     "metadata": {},
     "output_type": "display_data"
    },
    {
     "name": "stdout",
     "output_type": "stream",
     "text": [
      "Loss of train: 0.00118\n",
      "Loss of val: 0.00132\n",
      "Loss of test: 0.00118\n",
      "Loss of gw_test: 0.00101\n",
      "[0.0015380976504749345, 0.001474654950428864, 0.0014427672291477838, 0.001425190277579557, 0.0014052950938113797, 0.0013917452236271103, 0.0013813865574337967, 0.0013736493884035765, 0.0013674247114299964, 0.0013622563527046897, 0.0013578824570611462, 0.00135319440426304, 0.0013479119203994967, 0.001342476291520424, 0.0013368151311450196, 0.0013326035423447474, 0.0013313171789821113, 0.001328051077402069, 0.0013278413569010412, 0.0013245316308281559]\n"
     ]
    },
    {
     "data": {
      "application/vnd.jupyter.widget-view+json": {
       "model_id": "67b480396a5d40b6955d91ab58b1e098",
       "version_major": 2,
       "version_minor": 0
      },
      "text/plain": [
       "0it [00:00, ?it/s]"
      ]
     },
     "metadata": {},
     "output_type": "display_data"
    },
    {
     "name": "stdout",
     "output_type": "stream",
     "text": [
      "Loss of train: 0.00117\n",
      "Loss of val: 0.00132\n",
      "Loss of test: 0.00118\n",
      "Loss of gw_test: 0.00101\n",
      "[0.0015380976504749345, 0.001474654950428864, 0.0014427672291477838, 0.001425190277579557, 0.0014052950938113797, 0.0013917452236271103, 0.0013813865574337967, 0.0013736493884035765, 0.0013674247114299964, 0.0013622563527046897, 0.0013578824570611462, 0.00135319440426304, 0.0013479119203994967, 0.001342476291520424, 0.0013368151311450196, 0.0013326035423447474, 0.0013313171789821113, 0.001328051077402069, 0.0013278413569010412, 0.0013245316308281559, 0.0013222285458354044]\n"
     ]
    },
    {
     "data": {
      "application/vnd.jupyter.widget-view+json": {
       "model_id": "d2103cc05a8e4f14a54651cd4d10b1f8",
       "version_major": 2,
       "version_minor": 0
      },
      "text/plain": [
       "0it [00:00, ?it/s]"
      ]
     },
     "metadata": {},
     "output_type": "display_data"
    },
    {
     "name": "stdout",
     "output_type": "stream",
     "text": [
      "Loss of train: 0.00117\n",
      "Loss of val: 0.00132\n",
      "Loss of test: 0.00117\n",
      "Loss of gw_test: 0.00101\n",
      "[0.0015380976504749345, 0.001474654950428864, 0.0014427672291477838, 0.001425190277579557, 0.0014052950938113797, 0.0013917452236271103, 0.0013813865574337967, 0.0013736493884035765, 0.0013674247114299964, 0.0013622563527046897, 0.0013578824570611462, 0.00135319440426304, 0.0013479119203994967, 0.001342476291520424, 0.0013368151311450196, 0.0013326035423447474, 0.0013313171789821113, 0.001328051077402069, 0.0013278413569010412, 0.0013245316308281559, 0.0013222285458354044, 0.0013177591796861312]\n"
     ]
    },
    {
     "data": {
      "application/vnd.jupyter.widget-view+json": {
       "model_id": "fb991fbbc74b4650acc5ff9794029065",
       "version_major": 2,
       "version_minor": 0
      },
      "text/plain": [
       "0it [00:00, ?it/s]"
      ]
     },
     "metadata": {},
     "output_type": "display_data"
    },
    {
     "name": "stdout",
     "output_type": "stream",
     "text": [
      "Loss of train: 0.00117\n",
      "Loss of val: 0.00132\n",
      "Loss of test: 0.00118\n",
      "Loss of gw_test: 0.00100\n",
      "[0.0015380976504749345, 0.001474654950428864, 0.0014427672291477838, 0.001425190277579557, 0.0014052950938113797, 0.0013917452236271103, 0.0013813865574337967, 0.0013736493884035765, 0.0013674247114299964, 0.0013622563527046897, 0.0013578824570611462, 0.00135319440426304, 0.0013479119203994967, 0.001342476291520424, 0.0013368151311450196, 0.0013326035423447474, 0.0013313171789821113, 0.001328051077402069, 0.0013278413569010412, 0.0013245316308281559, 0.0013222285458354044, 0.0013177591796861312, 0.0013163608438056414]\n"
     ]
    },
    {
     "data": {
      "application/vnd.jupyter.widget-view+json": {
       "model_id": "8e0f5b1385a943d3bdbe8b8d5130e24f",
       "version_major": 2,
       "version_minor": 0
      },
      "text/plain": [
       "0it [00:00, ?it/s]"
      ]
     },
     "metadata": {},
     "output_type": "display_data"
    },
    {
     "name": "stdout",
     "output_type": "stream",
     "text": [
      "Loss of train: 0.00116\n",
      "Loss of val: 0.00131\n",
      "Loss of test: 0.00117\n",
      "Loss of gw_test: 0.00100\n",
      "[0.0015380976504749345, 0.001474654950428864, 0.0014427672291477838, 0.001425190277579557, 0.0014052950938113797, 0.0013917452236271103, 0.0013813865574337967, 0.0013736493884035765, 0.0013674247114299964, 0.0013622563527046897, 0.0013578824570611462, 0.00135319440426304, 0.0013479119203994967, 0.001342476291520424, 0.0013368151311450196, 0.0013326035423447474, 0.0013313171789821113, 0.001328051077402069, 0.0013278413569010412, 0.0013245316308281559, 0.0013222285458354044, 0.0013177591796861312, 0.0013163608438056414, 0.0013128607592465006]\n"
     ]
    },
    {
     "data": {
      "application/vnd.jupyter.widget-view+json": {
       "model_id": "25a91e91fa5246aeb0c8b9f23efbbf5d",
       "version_major": 2,
       "version_minor": 0
      },
      "text/plain": [
       "0it [00:00, ?it/s]"
      ]
     },
     "metadata": {},
     "output_type": "display_data"
    },
    {
     "name": "stdout",
     "output_type": "stream",
     "text": [
      "Loss of train: 0.00116\n",
      "Loss of val: 0.00131\n",
      "Loss of test: 0.00117\n",
      "Loss of gw_test: 0.00100\n",
      "[0.0015380976504749345, 0.001474654950428864, 0.0014427672291477838, 0.001425190277579557, 0.0014052950938113797, 0.0013917452236271103, 0.0013813865574337967, 0.0013736493884035765, 0.0013674247114299964, 0.0013622563527046897, 0.0013578824570611462, 0.00135319440426304, 0.0013479119203994967, 0.001342476291520424, 0.0013368151311450196, 0.0013326035423447474, 0.0013313171789821113, 0.001328051077402069, 0.0013278413569010412, 0.0013245316308281559, 0.0013222285458354044, 0.0013177591796861312, 0.0013163608438056414, 0.0013128607592465006, 0.0013114185334990077]\n"
     ]
    },
    {
     "data": {
      "application/vnd.jupyter.widget-view+json": {
       "model_id": "cc9d9c761491463f8febc5cd65eea2ca",
       "version_major": 2,
       "version_minor": 0
      },
      "text/plain": [
       "0it [00:00, ?it/s]"
      ]
     },
     "metadata": {},
     "output_type": "display_data"
    },
    {
     "name": "stdout",
     "output_type": "stream",
     "text": [
      "Loss of train: 0.00116\n",
      "Loss of val: 0.00131\n",
      "Loss of test: 0.00117\n",
      "Loss of gw_test: 0.00100\n",
      "[0.0015380976504749345, 0.001474654950428864, 0.0014427672291477838, 0.001425190277579557, 0.0014052950938113797, 0.0013917452236271103, 0.0013813865574337967, 0.0013736493884035765, 0.0013674247114299964, 0.0013622563527046897, 0.0013578824570611462, 0.00135319440426304, 0.0013479119203994967, 0.001342476291520424, 0.0013368151311450196, 0.0013326035423447474, 0.0013313171789821113, 0.001328051077402069, 0.0013278413569010412, 0.0013245316308281559, 0.0013222285458354044, 0.0013177591796861312, 0.0013163608438056414, 0.0013128607592465006, 0.0013114185334990077, 0.00130842128994417]\n"
     ]
    },
    {
     "data": {
      "application/vnd.jupyter.widget-view+json": {
       "model_id": "45b7f103620744cf8f523bdcd1c290f6",
       "version_major": 2,
       "version_minor": 0
      },
      "text/plain": [
       "0it [00:00, ?it/s]"
      ]
     },
     "metadata": {},
     "output_type": "display_data"
    },
    {
     "name": "stdout",
     "output_type": "stream",
     "text": [
      "Loss of train: 0.00116\n",
      "Loss of val: 0.00131\n",
      "Loss of test: 0.00117\n",
      "Loss of gw_test: 0.00100\n",
      "[0.0015380976504749345, 0.001474654950428864, 0.0014427672291477838, 0.001425190277579557, 0.0014052950938113797, 0.0013917452236271103, 0.0013813865574337967, 0.0013736493884035765, 0.0013674247114299964, 0.0013622563527046897, 0.0013578824570611462, 0.00135319440426304, 0.0013479119203994967, 0.001342476291520424, 0.0013368151311450196, 0.0013326035423447474, 0.0013313171789821113, 0.001328051077402069, 0.0013278413569010412, 0.0013245316308281559, 0.0013222285458354044, 0.0013177591796861312, 0.0013163608438056414, 0.0013128607592465006, 0.0013114185334990077, 0.00130842128994417, 0.0013072166104693274]\n"
     ]
    },
    {
     "data": {
      "application/vnd.jupyter.widget-view+json": {
       "model_id": "c3216286b803474d83fa02cecbc2143b",
       "version_major": 2,
       "version_minor": 0
      },
      "text/plain": [
       "0it [00:00, ?it/s]"
      ]
     },
     "metadata": {},
     "output_type": "display_data"
    },
    {
     "name": "stdout",
     "output_type": "stream",
     "text": [
      "Loss of train: 0.00115\n",
      "Loss of val: 0.00130\n",
      "Loss of test: 0.00117\n",
      "Loss of gw_test: 0.00099\n",
      "[0.0015380976504749345, 0.001474654950428864, 0.0014427672291477838, 0.001425190277579557, 0.0014052950938113797, 0.0013917452236271103, 0.0013813865574337967, 0.0013736493884035765, 0.0013674247114299964, 0.0013622563527046897, 0.0013578824570611462, 0.00135319440426304, 0.0013479119203994967, 0.001342476291520424, 0.0013368151311450196, 0.0013326035423447474, 0.0013313171789821113, 0.001328051077402069, 0.0013278413569010412, 0.0013245316308281559, 0.0013222285458354044, 0.0013177591796861312, 0.0013163608438056414, 0.0013128607592465006, 0.0013114185334990077, 0.00130842128994417, 0.0013072166104693274, 0.0013047352999928734]\n"
     ]
    },
    {
     "data": {
      "application/vnd.jupyter.widget-view+json": {
       "model_id": "119c054b947144b984ecbea207786d17",
       "version_major": 2,
       "version_minor": 0
      },
      "text/plain": [
       "0it [00:00, ?it/s]"
      ]
     },
     "metadata": {},
     "output_type": "display_data"
    },
    {
     "name": "stdout",
     "output_type": "stream",
     "text": [
      "Loss of train: 0.00115\n",
      "Loss of val: 0.00130\n",
      "Loss of test: 0.00117\n",
      "Loss of gw_test: 0.00099\n",
      "[0.0015380976504749345, 0.001474654950428864, 0.0014427672291477838, 0.001425190277579557, 0.0014052950938113797, 0.0013917452236271103, 0.0013813865574337967, 0.0013736493884035765, 0.0013674247114299964, 0.0013622563527046897, 0.0013578824570611462, 0.00135319440426304, 0.0013479119203994967, 0.001342476291520424, 0.0013368151311450196, 0.0013326035423447474, 0.0013313171789821113, 0.001328051077402069, 0.0013278413569010412, 0.0013245316308281559, 0.0013222285458354044, 0.0013177591796861312, 0.0013163608438056414, 0.0013128607592465006, 0.0013114185334990077, 0.00130842128994417, 0.0013072166104693274, 0.0013047352999928734, 0.0013034792269532743]\n"
     ]
    },
    {
     "data": {
      "application/vnd.jupyter.widget-view+json": {
       "model_id": "f05cf718af634b85bdd04648deb16d14",
       "version_major": 2,
       "version_minor": 0
      },
      "text/plain": [
       "0it [00:00, ?it/s]"
      ]
     },
     "metadata": {},
     "output_type": "display_data"
    },
    {
     "name": "stdout",
     "output_type": "stream",
     "text": [
      "Loss of train: 0.00115\n",
      "Loss of val: 0.00130\n",
      "Loss of test: 0.00117\n",
      "Loss of gw_test: 0.00099\n",
      "[0.0015380976504749345, 0.001474654950428864, 0.0014427672291477838, 0.001425190277579557, 0.0014052950938113797, 0.0013917452236271103, 0.0013813865574337967, 0.0013736493884035765, 0.0013674247114299964, 0.0013622563527046897, 0.0013578824570611462, 0.00135319440426304, 0.0013479119203994967, 0.001342476291520424, 0.0013368151311450196, 0.0013326035423447474, 0.0013313171789821113, 0.001328051077402069, 0.0013278413569010412, 0.0013245316308281559, 0.0013222285458354044, 0.0013177591796861312, 0.0013163608438056414, 0.0013128607592465006, 0.0013114185334990077, 0.00130842128994417, 0.0013072166104693274, 0.0013047352999928734, 0.0013034792269532743, 0.0013013528776243766]\n"
     ]
    },
    {
     "data": {
      "application/vnd.jupyter.widget-view+json": {
       "model_id": "6f1f9027424d41e6a8cf2d84a9d8435d",
       "version_major": 2,
       "version_minor": 0
      },
      "text/plain": [
       "0it [00:00, ?it/s]"
      ]
     },
     "metadata": {},
     "output_type": "display_data"
    },
    {
     "name": "stdout",
     "output_type": "stream",
     "text": [
      "Loss of train: 0.00115\n",
      "Loss of val: 0.00130\n",
      "Loss of test: 0.00117\n",
      "Loss of gw_test: 0.00099\n",
      "[0.0015380976504749345, 0.001474654950428864, 0.0014427672291477838, 0.001425190277579557, 0.0014052950938113797, 0.0013917452236271103, 0.0013813865574337967, 0.0013736493884035765, 0.0013674247114299964, 0.0013622563527046897, 0.0013578824570611462, 0.00135319440426304, 0.0013479119203994967, 0.001342476291520424, 0.0013368151311450196, 0.0013326035423447474, 0.0013313171789821113, 0.001328051077402069, 0.0013278413569010412, 0.0013245316308281559, 0.0013222285458354044, 0.0013177591796861312, 0.0013163608438056414, 0.0013128607592465006, 0.0013114185334990077, 0.00130842128994417, 0.0013072166104693274, 0.0013047352999928734, 0.0013034792269532743, 0.0013013528776243766, 0.0013001149561209225]\n"
     ]
    },
    {
     "data": {
      "application/vnd.jupyter.widget-view+json": {
       "model_id": "685d9fa4d1fa4d9bacdab6558d04a3dd",
       "version_major": 2,
       "version_minor": 0
      },
      "text/plain": [
       "0it [00:00, ?it/s]"
      ]
     },
     "metadata": {},
     "output_type": "display_data"
    },
    {
     "name": "stdout",
     "output_type": "stream",
     "text": [
      "Loss of train: 0.00115\n",
      "Loss of val: 0.00130\n",
      "Loss of test: 0.00117\n",
      "Loss of gw_test: 0.00099\n",
      "[0.0015380976504749345, 0.001474654950428864, 0.0014427672291477838, 0.001425190277579557, 0.0014052950938113797, 0.0013917452236271103, 0.0013813865574337967, 0.0013736493884035765, 0.0013674247114299964, 0.0013622563527046897, 0.0013578824570611462, 0.00135319440426304, 0.0013479119203994967, 0.001342476291520424, 0.0013368151311450196, 0.0013326035423447474, 0.0013313171789821113, 0.001328051077402069, 0.0013278413569010412, 0.0013245316308281559, 0.0013222285458354044, 0.0013177591796861312, 0.0013163608438056414, 0.0013128607592465006, 0.0013114185334990077, 0.00130842128994417, 0.0013072166104693274, 0.0013047352999928734, 0.0013034792269532743, 0.0013013528776243766, 0.0013001149561209225, 0.0012983342811136967]\n"
     ]
    },
    {
     "data": {
      "application/vnd.jupyter.widget-view+json": {
       "model_id": "a716796a1ca54816a3651a32c1d3ecd2",
       "version_major": 2,
       "version_minor": 0
      },
      "text/plain": [
       "0it [00:00, ?it/s]"
      ]
     },
     "metadata": {},
     "output_type": "display_data"
    },
    {
     "name": "stdout",
     "output_type": "stream",
     "text": [
      "Loss of train: 0.00115\n",
      "Loss of val: 0.00130\n",
      "Loss of test: 0.00117\n",
      "Loss of gw_test: 0.00099\n",
      "[0.0015380976504749345, 0.001474654950428864, 0.0014427672291477838, 0.001425190277579557, 0.0014052950938113797, 0.0013917452236271103, 0.0013813865574337967, 0.0013736493884035765, 0.0013674247114299964, 0.0013622563527046897, 0.0013578824570611462, 0.00135319440426304, 0.0013479119203994967, 0.001342476291520424, 0.0013368151311450196, 0.0013326035423447474, 0.0013313171789821113, 0.001328051077402069, 0.0013278413569010412, 0.0013245316308281559, 0.0013222285458354044, 0.0013177591796861312, 0.0013163608438056414, 0.0013128607592465006, 0.0013114185334990077, 0.00130842128994417, 0.0013072166104693274, 0.0013047352999928734, 0.0013034792269532743, 0.0013013528776243766, 0.0013001149561209225, 0.0012983342811136967, 0.0012972244185143417]\n"
     ]
    },
    {
     "data": {
      "application/vnd.jupyter.widget-view+json": {
       "model_id": "71cf2109bfc9427cb64805b5df1e638e",
       "version_major": 2,
       "version_minor": 0
      },
      "text/plain": [
       "0it [00:00, ?it/s]"
      ]
     },
     "metadata": {},
     "output_type": "display_data"
    },
    {
     "name": "stdout",
     "output_type": "stream",
     "text": [
      "Loss of train: 0.00114\n",
      "Loss of val: 0.00130\n",
      "Loss of test: 0.00117\n",
      "Loss of gw_test: 0.00099\n",
      "[0.0015380976504749345, 0.001474654950428864, 0.0014427672291477838, 0.001425190277579557, 0.0014052950938113797, 0.0013917452236271103, 0.0013813865574337967, 0.0013736493884035765, 0.0013674247114299964, 0.0013622563527046897, 0.0013578824570611462, 0.00135319440426304, 0.0013479119203994967, 0.001342476291520424, 0.0013368151311450196, 0.0013326035423447474, 0.0013313171789821113, 0.001328051077402069, 0.0013278413569010412, 0.0013245316308281559, 0.0013222285458354044, 0.0013177591796861312, 0.0013163608438056414, 0.0013128607592465006, 0.0013114185334990077, 0.00130842128994417, 0.0013072166104693274, 0.0013047352999928734, 0.0013034792269532743, 0.0013013528776243766, 0.0013001149561209225, 0.0012983342811136967, 0.0012972244185143417, 0.0012955577539461541]\n"
     ]
    },
    {
     "data": {
      "application/vnd.jupyter.widget-view+json": {
       "model_id": "5719dcb902d641abbf981eb0dfc9dc20",
       "version_major": 2,
       "version_minor": 0
      },
      "text/plain": [
       "0it [00:00, ?it/s]"
      ]
     },
     "metadata": {},
     "output_type": "display_data"
    },
    {
     "name": "stdout",
     "output_type": "stream",
     "text": [
      "Loss of train: 0.00114\n",
      "Loss of val: 0.00129\n",
      "Loss of test: 0.00117\n",
      "Loss of gw_test: 0.00099\n",
      "[0.0015380976504749345, 0.001474654950428864, 0.0014427672291477838, 0.001425190277579557, 0.0014052950938113797, 0.0013917452236271103, 0.0013813865574337967, 0.0013736493884035765, 0.0013674247114299964, 0.0013622563527046897, 0.0013578824570611462, 0.00135319440426304, 0.0013479119203994967, 0.001342476291520424, 0.0013368151311450196, 0.0013326035423447474, 0.0013313171789821113, 0.001328051077402069, 0.0013278413569010412, 0.0013245316308281559, 0.0013222285458354044, 0.0013177591796861312, 0.0013163608438056414, 0.0013128607592465006, 0.0013114185334990077, 0.00130842128994417, 0.0013072166104693274, 0.0013047352999928734, 0.0013034792269532743, 0.0013013528776243766, 0.0013001149561209225, 0.0012983342811136967, 0.0012972244185143417, 0.0012955577539461541, 0.0012936913907370478]\n"
     ]
    },
    {
     "data": {
      "application/vnd.jupyter.widget-view+json": {
       "model_id": "7b9562134fd94960bc894d3d3544110a",
       "version_major": 2,
       "version_minor": 0
      },
      "text/plain": [
       "0it [00:00, ?it/s]"
      ]
     },
     "metadata": {},
     "output_type": "display_data"
    },
    {
     "name": "stdout",
     "output_type": "stream",
     "text": [
      "Loss of train: 0.00114\n",
      "Loss of val: 0.00129\n",
      "Loss of test: 0.00117\n",
      "Loss of gw_test: 0.00099\n",
      "[0.0015380976504749345, 0.001474654950428864, 0.0014427672291477838, 0.001425190277579557, 0.0014052950938113797, 0.0013917452236271103, 0.0013813865574337967, 0.0013736493884035765, 0.0013674247114299964, 0.0013622563527046897, 0.0013578824570611462, 0.00135319440426304, 0.0013479119203994967, 0.001342476291520424, 0.0013368151311450196, 0.0013326035423447474, 0.0013313171789821113, 0.001328051077402069, 0.0013278413569010412, 0.0013245316308281559, 0.0013222285458354044, 0.0013177591796861312, 0.0013163608438056414, 0.0013128607592465006, 0.0013114185334990077, 0.00130842128994417, 0.0013072166104693274, 0.0013047352999928734, 0.0013034792269532743, 0.0013013528776243766, 0.0013001149561209225, 0.0012983342811136967, 0.0012972244185143417, 0.0012955577539461541, 0.0012936913907370478, 0.0012910043001637674]\n"
     ]
    },
    {
     "data": {
      "application/vnd.jupyter.widget-view+json": {
       "model_id": "c049a48875eb4d9e89e022be3aca1e61",
       "version_major": 2,
       "version_minor": 0
      },
      "text/plain": [
       "0it [00:00, ?it/s]"
      ]
     },
     "metadata": {},
     "output_type": "display_data"
    },
    {
     "name": "stdout",
     "output_type": "stream",
     "text": [
      "Loss of train: 0.00114\n",
      "Loss of val: 0.00129\n",
      "Loss of test: 0.00117\n",
      "Loss of gw_test: 0.00099\n",
      "[0.0015380976504749345, 0.001474654950428864, 0.0014427672291477838, 0.001425190277579557, 0.0014052950938113797, 0.0013917452236271103, 0.0013813865574337967, 0.0013736493884035765, 0.0013674247114299964, 0.0013622563527046897, 0.0013578824570611462, 0.00135319440426304, 0.0013479119203994967, 0.001342476291520424, 0.0013368151311450196, 0.0013326035423447474, 0.0013313171789821113, 0.001328051077402069, 0.0013278413569010412, 0.0013245316308281559, 0.0013222285458354044, 0.0013177591796861312, 0.0013163608438056414, 0.0013128607592465006, 0.0013114185334990077, 0.00130842128994417, 0.0013072166104693274, 0.0013047352999928734, 0.0013034792269532743, 0.0013013528776243766, 0.0013001149561209225, 0.0012983342811136967, 0.0012972244185143417, 0.0012955577539461541, 0.0012936913907370478, 0.0012910043001637674, 0.0012881628181205676]\n"
     ]
    },
    {
     "data": {
      "application/vnd.jupyter.widget-view+json": {
       "model_id": "5c32b68457594432991b4481c0fd16bd",
       "version_major": 2,
       "version_minor": 0
      },
      "text/plain": [
       "0it [00:00, ?it/s]"
      ]
     },
     "metadata": {},
     "output_type": "display_data"
    },
    {
     "name": "stdout",
     "output_type": "stream",
     "text": [
      "Loss of train: 0.00114\n",
      "Loss of val: 0.00129\n",
      "Loss of test: 0.00117\n",
      "Loss of gw_test: 0.00099\n",
      "[0.0015380976504749345, 0.001474654950428864, 0.0014427672291477838, 0.001425190277579557, 0.0014052950938113797, 0.0013917452236271103, 0.0013813865574337967, 0.0013736493884035765, 0.0013674247114299964, 0.0013622563527046897, 0.0013578824570611462, 0.00135319440426304, 0.0013479119203994967, 0.001342476291520424, 0.0013368151311450196, 0.0013326035423447474, 0.0013313171789821113, 0.001328051077402069, 0.0013278413569010412, 0.0013245316308281559, 0.0013222285458354044, 0.0013177591796861312, 0.0013163608438056414, 0.0013128607592465006, 0.0013114185334990077, 0.00130842128994417, 0.0013072166104693274, 0.0013047352999928734, 0.0013034792269532743, 0.0013013528776243766, 0.0013001149561209225, 0.0012983342811136967, 0.0012972244185143417, 0.0012955577539461541, 0.0012936913907370478, 0.0012910043001637674, 0.0012881628181205676, 0.0012862137713206899]\n"
     ]
    },
    {
     "data": {
      "application/vnd.jupyter.widget-view+json": {
       "model_id": "6a09e153551b422e93a9c4099256ad7c",
       "version_major": 2,
       "version_minor": 0
      },
      "text/plain": [
       "0it [00:00, ?it/s]"
      ]
     },
     "metadata": {},
     "output_type": "display_data"
    },
    {
     "name": "stdout",
     "output_type": "stream",
     "text": [
      "Loss of train: 0.00114\n",
      "Loss of val: 0.00129\n",
      "Loss of test: 0.00117\n",
      "Loss of gw_test: 0.00099\n",
      "[0.0015380976504749345, 0.001474654950428864, 0.0014427672291477838, 0.001425190277579557, 0.0014052950938113797, 0.0013917452236271103, 0.0013813865574337967, 0.0013736493884035765, 0.0013674247114299964, 0.0013622563527046897, 0.0013578824570611462, 0.00135319440426304, 0.0013479119203994967, 0.001342476291520424, 0.0013368151311450196, 0.0013326035423447474, 0.0013313171789821113, 0.001328051077402069, 0.0013278413569010412, 0.0013245316308281559, 0.0013222285458354044, 0.0013177591796861312, 0.0013163608438056414, 0.0013128607592465006, 0.0013114185334990077, 0.00130842128994417, 0.0013072166104693274, 0.0013047352999928734, 0.0013034792269532743, 0.0013013528776243766, 0.0013001149561209225, 0.0012983342811136967, 0.0012972244185143417, 0.0012955577539461541, 0.0012936913907370478, 0.0012910043001637674, 0.0012881628181205676, 0.0012862137713206899, 0.001286434774244359]\n",
      "Break at 38\n",
      "{'f1': 3, 'f2': 2, 'f3': 3, 'f4': 3, 'f5': 3}\n",
      "AUROC of val: 0.94823\n",
      "AUROC of test: 0.94646\n",
      "AUROC of gw_test: 0.94881\n"
     ]
    },
    {
     "data": {
      "application/vnd.jupyter.widget-view+json": {
       "model_id": "79a35727a39d442a8a8efc7cc07555ba",
       "version_major": 2,
       "version_minor": 0
      },
      "text/plain": [
       "0it [00:00, ?it/s]"
      ]
     },
     "metadata": {},
     "output_type": "display_data"
    },
    {
     "name": "stdout",
     "output_type": "stream",
     "text": [
      "Loss of train: 0.00129\n",
      "Loss of val: 0.00141\n",
      "Loss of test: 0.00126\n",
      "Loss of gw_test: 0.00107\n",
      "[0.0014078525009279515]\n"
     ]
    },
    {
     "data": {
      "application/vnd.jupyter.widget-view+json": {
       "model_id": "9143e4628f434278869181c92b4267f0",
       "version_major": 2,
       "version_minor": 0
      },
      "text/plain": [
       "0it [00:00, ?it/s]"
      ]
     },
     "metadata": {},
     "output_type": "display_data"
    },
    {
     "name": "stdout",
     "output_type": "stream",
     "text": [
      "Loss of train: 0.00120\n",
      "Loss of val: 0.00133\n",
      "Loss of test: 0.00120\n",
      "Loss of gw_test: 0.00100\n",
      "[0.0014078525009279515, 0.0013276857941731312]\n"
     ]
    },
    {
     "data": {
      "application/vnd.jupyter.widget-view+json": {
       "model_id": "dbc87176159e4103b2d663af836fb45e",
       "version_major": 2,
       "version_minor": 0
      },
      "text/plain": [
       "0it [00:00, ?it/s]"
      ]
     },
     "metadata": {},
     "output_type": "display_data"
    },
    {
     "name": "stdout",
     "output_type": "stream",
     "text": [
      "Loss of train: 0.00117\n",
      "Loss of val: 0.00132\n",
      "Loss of test: 0.00119\n",
      "Loss of gw_test: 0.00099\n",
      "[0.0014078525009279515, 0.0013276857941731312, 0.001316489184308265]\n"
     ]
    },
    {
     "data": {
      "application/vnd.jupyter.widget-view+json": {
       "model_id": "63778d79637c44bbb1e165bc12ad2c1b",
       "version_major": 2,
       "version_minor": 0
      },
      "text/plain": [
       "0it [00:00, ?it/s]"
      ]
     },
     "metadata": {},
     "output_type": "display_data"
    },
    {
     "name": "stdout",
     "output_type": "stream",
     "text": [
      "Loss of train: 0.00116\n",
      "Loss of val: 0.00131\n",
      "Loss of test: 0.00118\n",
      "Loss of gw_test: 0.00098\n",
      "[0.0014078525009279515, 0.0013276857941731312, 0.001316489184308265, 0.001306378083002838]\n"
     ]
    },
    {
     "data": {
      "application/vnd.jupyter.widget-view+json": {
       "model_id": "d4e6cce0062d426a9803444c853541ff",
       "version_major": 2,
       "version_minor": 0
      },
      "text/plain": [
       "0it [00:00, ?it/s]"
      ]
     },
     "metadata": {},
     "output_type": "display_data"
    },
    {
     "name": "stdout",
     "output_type": "stream",
     "text": [
      "Loss of train: 0.00116\n",
      "Loss of val: 0.00130\n",
      "Loss of test: 0.00118\n",
      "Loss of gw_test: 0.00098\n",
      "[0.0014078525009279515, 0.0013276857941731312, 0.001316489184308265, 0.001306378083002838, 0.0012980699883423247]\n"
     ]
    },
    {
     "data": {
      "application/vnd.jupyter.widget-view+json": {
       "model_id": "3a6a17c4924d4384abc1eee21f1f4bb1",
       "version_major": 2,
       "version_minor": 0
      },
      "text/plain": [
       "0it [00:00, ?it/s]"
      ]
     },
     "metadata": {},
     "output_type": "display_data"
    },
    {
     "name": "stdout",
     "output_type": "stream",
     "text": [
      "Loss of train: 0.00115\n",
      "Loss of val: 0.00129\n",
      "Loss of test: 0.00118\n",
      "Loss of gw_test: 0.00097\n",
      "[0.0014078525009279515, 0.0013276857941731312, 0.001316489184308265, 0.001306378083002838, 0.0012980699883423247, 0.0012904882814489588]\n"
     ]
    },
    {
     "data": {
      "application/vnd.jupyter.widget-view+json": {
       "model_id": "2866940813434b7a9aa910c93032e92d",
       "version_major": 2,
       "version_minor": 0
      },
      "text/plain": [
       "0it [00:00, ?it/s]"
      ]
     },
     "metadata": {},
     "output_type": "display_data"
    },
    {
     "name": "stdout",
     "output_type": "stream",
     "text": [
      "Loss of train: 0.00114\n",
      "Loss of val: 0.00128\n",
      "Loss of test: 0.00116\n",
      "Loss of gw_test: 0.00097\n",
      "[0.0014078525009279515, 0.0013276857941731312, 0.001316489184308265, 0.001306378083002838, 0.0012980699883423247, 0.0012904882814489588, 0.0012796126057259883]\n"
     ]
    },
    {
     "data": {
      "application/vnd.jupyter.widget-view+json": {
       "model_id": "b8bd2788c0c548bba81a87222e3bfede",
       "version_major": 2,
       "version_minor": 0
      },
      "text/plain": [
       "0it [00:00, ?it/s]"
      ]
     },
     "metadata": {},
     "output_type": "display_data"
    },
    {
     "name": "stdout",
     "output_type": "stream",
     "text": [
      "Loss of train: 0.00113\n",
      "Loss of val: 0.00126\n",
      "Loss of test: 0.00115\n",
      "Loss of gw_test: 0.00097\n",
      "[0.0014078525009279515, 0.0013276857941731312, 0.001316489184308265, 0.001306378083002838, 0.0012980699883423247, 0.0012904882814489588, 0.0012796126057259883, 0.0012634276990764275]\n"
     ]
    },
    {
     "data": {
      "application/vnd.jupyter.widget-view+json": {
       "model_id": "66b2b3978d7f4b20b87a7486095077b6",
       "version_major": 2,
       "version_minor": 0
      },
      "text/plain": [
       "0it [00:00, ?it/s]"
      ]
     },
     "metadata": {},
     "output_type": "display_data"
    },
    {
     "name": "stdout",
     "output_type": "stream",
     "text": [
      "Loss of train: 0.00113\n",
      "Loss of val: 0.00125\n",
      "Loss of test: 0.00115\n",
      "Loss of gw_test: 0.00097\n",
      "[0.0014078525009279515, 0.0013276857941731312, 0.001316489184308265, 0.001306378083002838, 0.0012980699883423247, 0.0012904882814489588, 0.0012796126057259883, 0.0012634276990764275, 0.0012549740869676296]\n"
     ]
    },
    {
     "data": {
      "application/vnd.jupyter.widget-view+json": {
       "model_id": "a60e81c3f2884f1da535bcfce4716f86",
       "version_major": 2,
       "version_minor": 0
      },
      "text/plain": [
       "0it [00:00, ?it/s]"
      ]
     },
     "metadata": {},
     "output_type": "display_data"
    },
    {
     "name": "stdout",
     "output_type": "stream",
     "text": [
      "Loss of train: 0.00112\n",
      "Loss of val: 0.00125\n",
      "Loss of test: 0.00115\n",
      "Loss of gw_test: 0.00097\n",
      "[0.0014078525009279515, 0.0013276857941731312, 0.001316489184308265, 0.001306378083002838, 0.0012980699883423247, 0.0012904882814489588, 0.0012796126057259883, 0.0012634276990764275, 0.0012549740869676296, 0.0012493317941166028]\n"
     ]
    },
    {
     "data": {
      "application/vnd.jupyter.widget-view+json": {
       "model_id": "b422bb0a22724f91b1b1633eb04e79ec",
       "version_major": 2,
       "version_minor": 0
      },
      "text/plain": [
       "0it [00:00, ?it/s]"
      ]
     },
     "metadata": {},
     "output_type": "display_data"
    },
    {
     "name": "stdout",
     "output_type": "stream",
     "text": [
      "Loss of train: 0.00112\n",
      "Loss of val: 0.00125\n",
      "Loss of test: 0.00114\n",
      "Loss of gw_test: 0.00097\n",
      "[0.0014078525009279515, 0.0013276857941731312, 0.001316489184308265, 0.001306378083002838, 0.0012980699883423247, 0.0012904882814489588, 0.0012796126057259883, 0.0012634276990764275, 0.0012549740869676296, 0.0012493317941166028, 0.0012454680366319095]\n"
     ]
    },
    {
     "data": {
      "application/vnd.jupyter.widget-view+json": {
       "model_id": "b55659758d6e417c95ca2952e98705f6",
       "version_major": 2,
       "version_minor": 0
      },
      "text/plain": [
       "0it [00:00, ?it/s]"
      ]
     },
     "metadata": {},
     "output_type": "display_data"
    },
    {
     "name": "stdout",
     "output_type": "stream",
     "text": [
      "Loss of train: 0.00112\n",
      "Loss of val: 0.00124\n",
      "Loss of test: 0.00114\n",
      "Loss of gw_test: 0.00097\n",
      "[0.0014078525009279515, 0.0013276857941731312, 0.001316489184308265, 0.001306378083002838, 0.0012980699883423247, 0.0012904882814489588, 0.0012796126057259883, 0.0012634276990764275, 0.0012549740869676296, 0.0012493317941166028, 0.0012454680366319095, 0.0012419385667870736]\n"
     ]
    },
    {
     "data": {
      "application/vnd.jupyter.widget-view+json": {
       "model_id": "0bdccf35dfac4ef99462c5e3794aa6d6",
       "version_major": 2,
       "version_minor": 0
      },
      "text/plain": [
       "0it [00:00, ?it/s]"
      ]
     },
     "metadata": {},
     "output_type": "display_data"
    },
    {
     "name": "stdout",
     "output_type": "stream",
     "text": [
      "Loss of train: 0.00111\n",
      "Loss of val: 0.00124\n",
      "Loss of test: 0.00114\n",
      "Loss of gw_test: 0.00097\n",
      "[0.0014078525009279515, 0.0013276857941731312, 0.001316489184308265, 0.001306378083002838, 0.0012980699883423247, 0.0012904882814489588, 0.0012796126057259883, 0.0012634276990764275, 0.0012549740869676296, 0.0012493317941166028, 0.0012454680366319095, 0.0012419385667870736, 0.0012383406192633972]\n"
     ]
    },
    {
     "data": {
      "application/vnd.jupyter.widget-view+json": {
       "model_id": "354f3e27a03948c78312228b0ff2acca",
       "version_major": 2,
       "version_minor": 0
      },
      "text/plain": [
       "0it [00:00, ?it/s]"
      ]
     },
     "metadata": {},
     "output_type": "display_data"
    },
    {
     "name": "stdout",
     "output_type": "stream",
     "text": [
      "Loss of train: 0.00111\n",
      "Loss of val: 0.00124\n",
      "Loss of test: 0.00114\n",
      "Loss of gw_test: 0.00097\n",
      "[0.0014078525009279515, 0.0013276857941731312, 0.001316489184308265, 0.001306378083002838, 0.0012980699883423247, 0.0012904882814489588, 0.0012796126057259883, 0.0012634276990764275, 0.0012549740869676296, 0.0012493317941166028, 0.0012454680366319095, 0.0012419385667870736, 0.0012383406192633972, 0.0012361253114651866]\n"
     ]
    },
    {
     "data": {
      "application/vnd.jupyter.widget-view+json": {
       "model_id": "a11a13e9b2b942d68d72e5acf9b9851e",
       "version_major": 2,
       "version_minor": 0
      },
      "text/plain": [
       "0it [00:00, ?it/s]"
      ]
     },
     "metadata": {},
     "output_type": "display_data"
    },
    {
     "name": "stdout",
     "output_type": "stream",
     "text": [
      "Loss of train: 0.00111\n",
      "Loss of val: 0.00123\n",
      "Loss of test: 0.00114\n",
      "Loss of gw_test: 0.00097\n",
      "[0.0014078525009279515, 0.0013276857941731312, 0.001316489184308265, 0.001306378083002838, 0.0012980699883423247, 0.0012904882814489588, 0.0012796126057259883, 0.0012634276990764275, 0.0012549740869676296, 0.0012493317941166028, 0.0012454680366319095, 0.0012419385667870736, 0.0012383406192633972, 0.0012361253114651866, 0.0012343511352327237]\n"
     ]
    },
    {
     "data": {
      "application/vnd.jupyter.widget-view+json": {
       "model_id": "7148cd2677f140acb144fce5cdea5dd2",
       "version_major": 2,
       "version_minor": 0
      },
      "text/plain": [
       "0it [00:00, ?it/s]"
      ]
     },
     "metadata": {},
     "output_type": "display_data"
    },
    {
     "name": "stdout",
     "output_type": "stream",
     "text": [
      "Loss of train: 0.00111\n",
      "Loss of val: 0.00123\n",
      "Loss of test: 0.00114\n",
      "Loss of gw_test: 0.00097\n",
      "[0.0014078525009279515, 0.0013276857941731312, 0.001316489184308265, 0.001306378083002838, 0.0012980699883423247, 0.0012904882814489588, 0.0012796126057259883, 0.0012634276990764275, 0.0012549740869676296, 0.0012493317941166028, 0.0012454680366319095, 0.0012419385667870736, 0.0012383406192633972, 0.0012361253114651866, 0.0012343511352327237, 0.0012334207655925937]\n"
     ]
    },
    {
     "data": {
      "application/vnd.jupyter.widget-view+json": {
       "model_id": "8e9badea41014a4ea7aa9740a8ce2d68",
       "version_major": 2,
       "version_minor": 0
      },
      "text/plain": [
       "0it [00:00, ?it/s]"
      ]
     },
     "metadata": {},
     "output_type": "display_data"
    },
    {
     "name": "stdout",
     "output_type": "stream",
     "text": [
      "Loss of train: 0.00111\n",
      "Loss of val: 0.00123\n",
      "Loss of test: 0.00114\n",
      "Loss of gw_test: 0.00097\n",
      "[0.0014078525009279515, 0.0013276857941731312, 0.001316489184308265, 0.001306378083002838, 0.0012980699883423247, 0.0012904882814489588, 0.0012796126057259883, 0.0012634276990764275, 0.0012549740869676296, 0.0012493317941166028, 0.0012454680366319095, 0.0012419385667870736, 0.0012383406192633972, 0.0012361253114651866, 0.0012343511352327237, 0.0012334207655925937, 0.0012321850343782633]\n"
     ]
    },
    {
     "data": {
      "application/vnd.jupyter.widget-view+json": {
       "model_id": "f4e177d348b8407fb361aece1c5d3d2f",
       "version_major": 2,
       "version_minor": 0
      },
      "text/plain": [
       "0it [00:00, ?it/s]"
      ]
     },
     "metadata": {},
     "output_type": "display_data"
    },
    {
     "name": "stdout",
     "output_type": "stream",
     "text": [
      "Loss of train: 0.00110\n",
      "Loss of val: 0.00123\n",
      "Loss of test: 0.00115\n",
      "Loss of gw_test: 0.00097\n",
      "[0.0014078525009279515, 0.0013276857941731312, 0.001316489184308265, 0.001306378083002838, 0.0012980699883423247, 0.0012904882814489588, 0.0012796126057259883, 0.0012634276990764275, 0.0012549740869676296, 0.0012493317941166028, 0.0012454680366319095, 0.0012419385667870736, 0.0012383406192633972, 0.0012361253114651866, 0.0012343511352327237, 0.0012334207655925937, 0.0012321850343782633, 0.0012319584250198444]\n"
     ]
    },
    {
     "data": {
      "application/vnd.jupyter.widget-view+json": {
       "model_id": "12eb8acd78554a589ab4d1633abc2dea",
       "version_major": 2,
       "version_minor": 0
      },
      "text/plain": [
       "0it [00:00, ?it/s]"
      ]
     },
     "metadata": {},
     "output_type": "display_data"
    },
    {
     "name": "stdout",
     "output_type": "stream",
     "text": [
      "Loss of train: 0.00110\n",
      "Loss of val: 0.00123\n",
      "Loss of test: 0.00115\n",
      "Loss of gw_test: 0.00097\n",
      "[0.0014078525009279515, 0.0013276857941731312, 0.001316489184308265, 0.001306378083002838, 0.0012980699883423247, 0.0012904882814489588, 0.0012796126057259883, 0.0012634276990764275, 0.0012549740869676296, 0.0012493317941166028, 0.0012454680366319095, 0.0012419385667870736, 0.0012383406192633972, 0.0012361253114651866, 0.0012343511352327237, 0.0012334207655925937, 0.0012321850343782633, 0.0012319584250198444, 0.0012318124709245495]\n"
     ]
    },
    {
     "data": {
      "application/vnd.jupyter.widget-view+json": {
       "model_id": "c7b8bb2d8aa44b6890647d38158790ae",
       "version_major": 2,
       "version_minor": 0
      },
      "text/plain": [
       "0it [00:00, ?it/s]"
      ]
     },
     "metadata": {},
     "output_type": "display_data"
    },
    {
     "name": "stdout",
     "output_type": "stream",
     "text": [
      "Loss of train: 0.00110\n",
      "Loss of val: 0.00123\n",
      "Loss of test: 0.00115\n",
      "Loss of gw_test: 0.00097\n",
      "[0.0014078525009279515, 0.0013276857941731312, 0.001316489184308265, 0.001306378083002838, 0.0012980699883423247, 0.0012904882814489588, 0.0012796126057259883, 0.0012634276990764275, 0.0012549740869676296, 0.0012493317941166028, 0.0012454680366319095, 0.0012419385667870736, 0.0012383406192633972, 0.0012361253114651866, 0.0012343511352327237, 0.0012334207655925937, 0.0012321850343782633, 0.0012319584250198444, 0.0012318124709245495, 0.0012315817307020055]\n"
     ]
    },
    {
     "data": {
      "application/vnd.jupyter.widget-view+json": {
       "model_id": "b05a410ec3754b52a14c54029ce6fae6",
       "version_major": 2,
       "version_minor": 0
      },
      "text/plain": [
       "0it [00:00, ?it/s]"
      ]
     },
     "metadata": {},
     "output_type": "display_data"
    },
    {
     "name": "stdout",
     "output_type": "stream",
     "text": [
      "Loss of train: 0.00110\n",
      "Loss of val: 0.00123\n",
      "Loss of test: 0.00115\n",
      "Loss of gw_test: 0.00097\n",
      "[0.0014078525009279515, 0.0013276857941731312, 0.001316489184308265, 0.001306378083002838, 0.0012980699883423247, 0.0012904882814489588, 0.0012796126057259883, 0.0012634276990764275, 0.0012549740869676296, 0.0012493317941166028, 0.0012454680366319095, 0.0012419385667870736, 0.0012383406192633972, 0.0012361253114651866, 0.0012343511352327237, 0.0012334207655925937, 0.0012321850343782633, 0.0012319584250198444, 0.0012318124709245495, 0.0012315817307020055, 0.0012297250303007813]\n"
     ]
    },
    {
     "data": {
      "application/vnd.jupyter.widget-view+json": {
       "model_id": "b269bf6b1f0141638a3ea807d824894c",
       "version_major": 2,
       "version_minor": 0
      },
      "text/plain": [
       "0it [00:00, ?it/s]"
      ]
     },
     "metadata": {},
     "output_type": "display_data"
    },
    {
     "name": "stdout",
     "output_type": "stream",
     "text": [
      "Loss of train: 0.00110\n",
      "Loss of val: 0.00123\n",
      "Loss of test: 0.00115\n",
      "Loss of gw_test: 0.00097\n",
      "[0.0014078525009279515, 0.0013276857941731312, 0.001316489184308265, 0.001306378083002838, 0.0012980699883423247, 0.0012904882814489588, 0.0012796126057259883, 0.0012634276990764275, 0.0012549740869676296, 0.0012493317941166028, 0.0012454680366319095, 0.0012419385667870736, 0.0012383406192633972, 0.0012361253114651866, 0.0012343511352327237, 0.0012334207655925937, 0.0012321850343782633, 0.0012319584250198444, 0.0012318124709245495, 0.0012315817307020055, 0.0012297250303007813, 0.0012289104068244616]\n"
     ]
    },
    {
     "data": {
      "application/vnd.jupyter.widget-view+json": {
       "model_id": "a9fb6b9e2480478aa686581ef40242bc",
       "version_major": 2,
       "version_minor": 0
      },
      "text/plain": [
       "0it [00:00, ?it/s]"
      ]
     },
     "metadata": {},
     "output_type": "display_data"
    },
    {
     "name": "stdout",
     "output_type": "stream",
     "text": [
      "Loss of train: 0.00110\n",
      "Loss of val: 0.00123\n",
      "Loss of test: 0.00115\n",
      "Loss of gw_test: 0.00097\n",
      "[0.0014078525009279515, 0.0013276857941731312, 0.001316489184308265, 0.001306378083002838, 0.0012980699883423247, 0.0012904882814489588, 0.0012796126057259883, 0.0012634276990764275, 0.0012549740869676296, 0.0012493317941166028, 0.0012454680366319095, 0.0012419385667870736, 0.0012383406192633972, 0.0012361253114651866, 0.0012343511352327237, 0.0012334207655925937, 0.0012321850343782633, 0.0012319584250198444, 0.0012318124709245495, 0.0012315817307020055, 0.0012297250303007813, 0.0012289104068244616, 0.001228016736131101]\n"
     ]
    },
    {
     "data": {
      "application/vnd.jupyter.widget-view+json": {
       "model_id": "0f3a80faf3f844ef9382d91dc98d27f9",
       "version_major": 2,
       "version_minor": 0
      },
      "text/plain": [
       "0it [00:00, ?it/s]"
      ]
     },
     "metadata": {},
     "output_type": "display_data"
    },
    {
     "name": "stdout",
     "output_type": "stream",
     "text": [
      "Loss of train: 0.00110\n",
      "Loss of val: 0.00123\n",
      "Loss of test: 0.00115\n",
      "Loss of gw_test: 0.00097\n",
      "[0.0014078525009279515, 0.0013276857941731312, 0.001316489184308265, 0.001306378083002838, 0.0012980699883423247, 0.0012904882814489588, 0.0012796126057259883, 0.0012634276990764275, 0.0012549740869676296, 0.0012493317941166028, 0.0012454680366319095, 0.0012419385667870736, 0.0012383406192633972, 0.0012361253114651866, 0.0012343511352327237, 0.0012334207655925937, 0.0012321850343782633, 0.0012319584250198444, 0.0012318124709245495, 0.0012315817307020055, 0.0012297250303007813, 0.0012289104068244616, 0.001228016736131101, 0.0012261582321449389]\n"
     ]
    },
    {
     "data": {
      "application/vnd.jupyter.widget-view+json": {
       "model_id": "29d888b9783844698661557c77f1a646",
       "version_major": 2,
       "version_minor": 0
      },
      "text/plain": [
       "0it [00:00, ?it/s]"
      ]
     },
     "metadata": {},
     "output_type": "display_data"
    },
    {
     "name": "stdout",
     "output_type": "stream",
     "text": [
      "Loss of train: 0.00110\n",
      "Loss of val: 0.00123\n",
      "Loss of test: 0.00115\n",
      "Loss of gw_test: 0.00097\n",
      "[0.0014078525009279515, 0.0013276857941731312, 0.001316489184308265, 0.001306378083002838, 0.0012980699883423247, 0.0012904882814489588, 0.0012796126057259883, 0.0012634276990764275, 0.0012549740869676296, 0.0012493317941166028, 0.0012454680366319095, 0.0012419385667870736, 0.0012383406192633972, 0.0012361253114651866, 0.0012343511352327237, 0.0012334207655925937, 0.0012321850343782633, 0.0012319584250198444, 0.0012318124709245495, 0.0012315817307020055, 0.0012297250303007813, 0.0012289104068244616, 0.001228016736131101, 0.0012261582321449389, 0.0012255041598946373]\n"
     ]
    },
    {
     "data": {
      "application/vnd.jupyter.widget-view+json": {
       "model_id": "95905d7a9a544ec6a8de4aa4498da9e3",
       "version_major": 2,
       "version_minor": 0
      },
      "text/plain": [
       "0it [00:00, ?it/s]"
      ]
     },
     "metadata": {},
     "output_type": "display_data"
    },
    {
     "name": "stdout",
     "output_type": "stream",
     "text": [
      "Loss of train: 0.00110\n",
      "Loss of val: 0.00122\n",
      "Loss of test: 0.00115\n",
      "Loss of gw_test: 0.00097\n",
      "[0.0014078525009279515, 0.0013276857941731312, 0.001316489184308265, 0.001306378083002838, 0.0012980699883423247, 0.0012904882814489588, 0.0012796126057259883, 0.0012634276990764275, 0.0012549740869676296, 0.0012493317941166028, 0.0012454680366319095, 0.0012419385667870736, 0.0012383406192633972, 0.0012361253114651866, 0.0012343511352327237, 0.0012334207655925937, 0.0012321850343782633, 0.0012319584250198444, 0.0012318124709245495, 0.0012315817307020055, 0.0012297250303007813, 0.0012289104068244616, 0.001228016736131101, 0.0012261582321449389, 0.0012255041598946373, 0.0012245596406340645]\n"
     ]
    },
    {
     "data": {
      "application/vnd.jupyter.widget-view+json": {
       "model_id": "4e91af7899f2422e8e43956a3b45ef00",
       "version_major": 2,
       "version_minor": 0
      },
      "text/plain": [
       "0it [00:00, ?it/s]"
      ]
     },
     "metadata": {},
     "output_type": "display_data"
    },
    {
     "name": "stdout",
     "output_type": "stream",
     "text": [
      "Loss of train: 0.00109\n",
      "Loss of val: 0.00122\n",
      "Loss of test: 0.00115\n",
      "Loss of gw_test: 0.00097\n",
      "[0.0014078525009279515, 0.0013276857941731312, 0.001316489184308265, 0.001306378083002838, 0.0012980699883423247, 0.0012904882814489588, 0.0012796126057259883, 0.0012634276990764275, 0.0012549740869676296, 0.0012493317941166028, 0.0012454680366319095, 0.0012419385667870736, 0.0012383406192633972, 0.0012361253114651866, 0.0012343511352327237, 0.0012334207655925937, 0.0012321850343782633, 0.0012319584250198444, 0.0012318124709245495, 0.0012315817307020055, 0.0012297250303007813, 0.0012289104068244616, 0.001228016736131101, 0.0012261582321449389, 0.0012255041598946373, 0.0012245596406340645, 0.0012239680653388328]\n"
     ]
    },
    {
     "data": {
      "application/vnd.jupyter.widget-view+json": {
       "model_id": "e22f77a2a35c4f67bf50be24d4cf40c8",
       "version_major": 2,
       "version_minor": 0
      },
      "text/plain": [
       "0it [00:00, ?it/s]"
      ]
     },
     "metadata": {},
     "output_type": "display_data"
    },
    {
     "name": "stdout",
     "output_type": "stream",
     "text": [
      "Loss of train: 0.00109\n",
      "Loss of val: 0.00122\n",
      "Loss of test: 0.00115\n",
      "Loss of gw_test: 0.00097\n",
      "[0.0014078525009279515, 0.0013276857941731312, 0.001316489184308265, 0.001306378083002838, 0.0012980699883423247, 0.0012904882814489588, 0.0012796126057259883, 0.0012634276990764275, 0.0012549740869676296, 0.0012493317941166028, 0.0012454680366319095, 0.0012419385667870736, 0.0012383406192633972, 0.0012361253114651866, 0.0012343511352327237, 0.0012334207655925937, 0.0012321850343782633, 0.0012319584250198444, 0.0012318124709245495, 0.0012315817307020055, 0.0012297250303007813, 0.0012289104068244616, 0.001228016736131101, 0.0012261582321449389, 0.0012255041598946373, 0.0012245596406340645, 0.0012239680653388328, 0.0012233771253332582]\n"
     ]
    },
    {
     "data": {
      "application/vnd.jupyter.widget-view+json": {
       "model_id": "443ae2824b8e4fde952f4450d1ec8b0b",
       "version_major": 2,
       "version_minor": 0
      },
      "text/plain": [
       "0it [00:00, ?it/s]"
      ]
     },
     "metadata": {},
     "output_type": "display_data"
    },
    {
     "name": "stdout",
     "output_type": "stream",
     "text": [
      "Loss of train: 0.00109\n",
      "Loss of val: 0.00123\n",
      "Loss of test: 0.00115\n",
      "Loss of gw_test: 0.00097\n",
      "[0.0014078525009279515, 0.0013276857941731312, 0.001316489184308265, 0.001306378083002838, 0.0012980699883423247, 0.0012904882814489588, 0.0012796126057259883, 0.0012634276990764275, 0.0012549740869676296, 0.0012493317941166028, 0.0012454680366319095, 0.0012419385667870736, 0.0012383406192633972, 0.0012361253114651866, 0.0012343511352327237, 0.0012334207655925937, 0.0012321850343782633, 0.0012319584250198444, 0.0012318124709245495, 0.0012315817307020055, 0.0012297250303007813, 0.0012289104068244616, 0.001228016736131101, 0.0012261582321449389, 0.0012255041598946373, 0.0012245596406340645, 0.0012239680653388328, 0.0012233771253332582, 0.001225977001203639]\n",
      "Break at 28\n",
      "{'f1': 3, 'f2': 2, 'f3': 3, 'f4': 3, 'f5': 4}\n",
      "AUROC of val: 0.95243\n",
      "AUROC of test: 0.94918\n",
      "AUROC of gw_test: 0.95060\n"
     ]
    },
    {
     "data": {
      "application/vnd.jupyter.widget-view+json": {
       "model_id": "cd77460b087a48358361ec44b95ceb00",
       "version_major": 2,
       "version_minor": 0
      },
      "text/plain": [
       "0it [00:00, ?it/s]"
      ]
     },
     "metadata": {},
     "output_type": "display_data"
    },
    {
     "name": "stdout",
     "output_type": "stream",
     "text": [
      "Loss of train: 0.00130\n",
      "Loss of val: 0.00148\n",
      "Loss of test: 0.00126\n",
      "Loss of gw_test: 0.00108\n",
      "[0.0014804155781467693]\n"
     ]
    },
    {
     "data": {
      "application/vnd.jupyter.widget-view+json": {
       "model_id": "cd88c36c30494cce82a895fd1c88ec8c",
       "version_major": 2,
       "version_minor": 0
      },
      "text/plain": [
       "0it [00:00, ?it/s]"
      ]
     },
     "metadata": {},
     "output_type": "display_data"
    },
    {
     "name": "stdout",
     "output_type": "stream",
     "text": [
      "Loss of train: 0.00125\n",
      "Loss of val: 0.00145\n",
      "Loss of test: 0.00120\n",
      "Loss of gw_test: 0.00104\n",
      "[0.0014804155781467693, 0.0014490679246023726]\n"
     ]
    },
    {
     "data": {
      "application/vnd.jupyter.widget-view+json": {
       "model_id": "712d367ddadb4114877ea73d5f27446c",
       "version_major": 2,
       "version_minor": 0
      },
      "text/plain": [
       "0it [00:00, ?it/s]"
      ]
     },
     "metadata": {},
     "output_type": "display_data"
    },
    {
     "name": "stdout",
     "output_type": "stream",
     "text": [
      "Loss of train: 0.00122\n",
      "Loss of val: 0.00142\n",
      "Loss of test: 0.00116\n",
      "Loss of gw_test: 0.00102\n",
      "[0.0014804155781467693, 0.0014490679246023726, 0.0014185620390237167]\n"
     ]
    },
    {
     "data": {
      "application/vnd.jupyter.widget-view+json": {
       "model_id": "c82999936b1a4875b92116f0c7863aab",
       "version_major": 2,
       "version_minor": 0
      },
      "text/plain": [
       "0it [00:00, ?it/s]"
      ]
     },
     "metadata": {},
     "output_type": "display_data"
    },
    {
     "name": "stdout",
     "output_type": "stream",
     "text": [
      "Loss of train: 0.00121\n",
      "Loss of val: 0.00140\n",
      "Loss of test: 0.00114\n",
      "Loss of gw_test: 0.00101\n",
      "[0.0014804155781467693, 0.0014490679246023726, 0.0014185620390237167, 0.0014032189126139808]\n"
     ]
    },
    {
     "data": {
      "application/vnd.jupyter.widget-view+json": {
       "model_id": "7f05e93ca2cb4422b184eff77bff7c62",
       "version_major": 2,
       "version_minor": 0
      },
      "text/plain": [
       "0it [00:00, ?it/s]"
      ]
     },
     "metadata": {},
     "output_type": "display_data"
    },
    {
     "name": "stdout",
     "output_type": "stream",
     "text": [
      "Loss of train: 0.00120\n",
      "Loss of val: 0.00139\n",
      "Loss of test: 0.00113\n",
      "Loss of gw_test: 0.00100\n",
      "[0.0014804155781467693, 0.0014490679246023726, 0.0014185620390237167, 0.0014032189126139808, 0.0013907962889411782]\n"
     ]
    },
    {
     "data": {
      "application/vnd.jupyter.widget-view+json": {
       "model_id": "4ab7b6d3176340e2891c651c61b3974b",
       "version_major": 2,
       "version_minor": 0
      },
      "text/plain": [
       "0it [00:00, ?it/s]"
      ]
     },
     "metadata": {},
     "output_type": "display_data"
    },
    {
     "name": "stdout",
     "output_type": "stream",
     "text": [
      "Loss of train: 0.00119\n",
      "Loss of val: 0.00139\n",
      "Loss of test: 0.00113\n",
      "Loss of gw_test: 0.00100\n",
      "[0.0014804155781467693, 0.0014490679246023726, 0.0014185620390237167, 0.0014032189126139808, 0.0013907962889411782, 0.0013859889904545134]\n"
     ]
    },
    {
     "data": {
      "application/vnd.jupyter.widget-view+json": {
       "model_id": "381745886ed448e0acc06d9e5d60e3f7",
       "version_major": 2,
       "version_minor": 0
      },
      "text/plain": [
       "0it [00:00, ?it/s]"
      ]
     },
     "metadata": {},
     "output_type": "display_data"
    },
    {
     "name": "stdout",
     "output_type": "stream",
     "text": [
      "Loss of train: 0.00119\n",
      "Loss of val: 0.00137\n",
      "Loss of test: 0.00114\n",
      "Loss of gw_test: 0.00102\n",
      "[0.0014804155781467693, 0.0014490679246023726, 0.0014185620390237167, 0.0014032189126139808, 0.0013907962889411782, 0.0013859889904545134, 0.0013736453632094388]\n"
     ]
    },
    {
     "data": {
      "application/vnd.jupyter.widget-view+json": {
       "model_id": "77d13fc67a104e1a946657e74fab1211",
       "version_major": 2,
       "version_minor": 0
      },
      "text/plain": [
       "0it [00:00, ?it/s]"
      ]
     },
     "metadata": {},
     "output_type": "display_data"
    },
    {
     "name": "stdout",
     "output_type": "stream",
     "text": [
      "Loss of train: 0.00118\n",
      "Loss of val: 0.00137\n",
      "Loss of test: 0.00113\n",
      "Loss of gw_test: 0.00101\n",
      "[0.0014804155781467693, 0.0014490679246023726, 0.0014185620390237167, 0.0014032189126139808, 0.0013907962889411782, 0.0013859889904545134, 0.0013736453632094388, 0.001373595584462673]\n"
     ]
    },
    {
     "data": {
      "application/vnd.jupyter.widget-view+json": {
       "model_id": "8fe704e570ce44c79fa00c1020e6e41b",
       "version_major": 2,
       "version_minor": 0
      },
      "text/plain": [
       "0it [00:00, ?it/s]"
      ]
     },
     "metadata": {},
     "output_type": "display_data"
    },
    {
     "name": "stdout",
     "output_type": "stream",
     "text": [
      "Loss of train: 0.00117\n",
      "Loss of val: 0.00138\n",
      "Loss of test: 0.00112\n",
      "Loss of gw_test: 0.00101\n",
      "[0.0014804155781467693, 0.0014490679246023726, 0.0014185620390237167, 0.0014032189126139808, 0.0013907962889411782, 0.0013859889904545134, 0.0013736453632094388, 0.001373595584462673, 0.0013791887265203568]\n",
      "Break at 8\n",
      "{'f1': 3, 'f2': 2, 'f3': 3, 'f4': 3, 'f5': 5}\n",
      "AUROC of val: 0.94572\n",
      "AUROC of test: 0.94971\n",
      "AUROC of gw_test: 0.94577\n"
     ]
    },
    {
     "data": {
      "application/vnd.jupyter.widget-view+json": {
       "model_id": "3b90292e75a646c3ad8a5ed2434e295d",
       "version_major": 2,
       "version_minor": 0
      },
      "text/plain": [
       "0it [00:00, ?it/s]"
      ]
     },
     "metadata": {},
     "output_type": "display_data"
    },
    {
     "name": "stdout",
     "output_type": "stream",
     "text": [
      "Loss of train: 0.00137\n",
      "Loss of val: 0.00152\n",
      "Loss of test: 0.00135\n",
      "Loss of gw_test: 0.00114\n",
      "[0.0015238719393175617]\n"
     ]
    },
    {
     "data": {
      "application/vnd.jupyter.widget-view+json": {
       "model_id": "7c03483125a645eaa4f3af9a75d47a75",
       "version_major": 2,
       "version_minor": 0
      },
      "text/plain": [
       "0it [00:00, ?it/s]"
      ]
     },
     "metadata": {},
     "output_type": "display_data"
    },
    {
     "name": "stdout",
     "output_type": "stream",
     "text": [
      "Loss of train: 0.00132\n",
      "Loss of val: 0.00147\n",
      "Loss of test: 0.00130\n",
      "Loss of gw_test: 0.00110\n",
      "[0.0015238719393175617, 0.0014725592548487543]\n"
     ]
    },
    {
     "data": {
      "application/vnd.jupyter.widget-view+json": {
       "model_id": "1aac29286a924b8c9f70e4158af96e6c",
       "version_major": 2,
       "version_minor": 0
      },
      "text/plain": [
       "0it [00:00, ?it/s]"
      ]
     },
     "metadata": {},
     "output_type": "display_data"
    },
    {
     "name": "stdout",
     "output_type": "stream",
     "text": [
      "Loss of train: 0.00129\n",
      "Loss of val: 0.00144\n",
      "Loss of test: 0.00127\n",
      "Loss of gw_test: 0.00108\n",
      "[0.0015238719393175617, 0.0014725592548487543, 0.0014376121536618886]\n"
     ]
    },
    {
     "data": {
      "application/vnd.jupyter.widget-view+json": {
       "model_id": "bea6d0115a944a6bb8c04d1ec625aa89",
       "version_major": 2,
       "version_minor": 0
      },
      "text/plain": [
       "0it [00:00, ?it/s]"
      ]
     },
     "metadata": {},
     "output_type": "display_data"
    },
    {
     "name": "stdout",
     "output_type": "stream",
     "text": [
      "Loss of train: 0.00126\n",
      "Loss of val: 0.00141\n",
      "Loss of test: 0.00124\n",
      "Loss of gw_test: 0.00107\n",
      "[0.0015238719393175617, 0.0014725592548487543, 0.0014376121536618886, 0.0014101922858550423]\n"
     ]
    },
    {
     "data": {
      "application/vnd.jupyter.widget-view+json": {
       "model_id": "f645bc221763434e9bf03390782b267c",
       "version_major": 2,
       "version_minor": 0
      },
      "text/plain": [
       "0it [00:00, ?it/s]"
      ]
     },
     "metadata": {},
     "output_type": "display_data"
    },
    {
     "name": "stdout",
     "output_type": "stream",
     "text": [
      "Loss of train: 0.00125\n",
      "Loss of val: 0.00139\n",
      "Loss of test: 0.00123\n",
      "Loss of gw_test: 0.00106\n",
      "[0.0015238719393175617, 0.0014725592548487543, 0.0014376121536618886, 0.0014101922858550423, 0.0013912501631223166]\n"
     ]
    },
    {
     "data": {
      "application/vnd.jupyter.widget-view+json": {
       "model_id": "efb8b5ddaa0c434e941a4dce721a7e97",
       "version_major": 2,
       "version_minor": 0
      },
      "text/plain": [
       "0it [00:00, ?it/s]"
      ]
     },
     "metadata": {},
     "output_type": "display_data"
    },
    {
     "name": "stdout",
     "output_type": "stream",
     "text": [
      "Loss of train: 0.00123\n",
      "Loss of val: 0.00138\n",
      "Loss of test: 0.00122\n",
      "Loss of gw_test: 0.00106\n",
      "[0.0015238719393175617, 0.0014725592548487543, 0.0014376121536618886, 0.0014101922858550423, 0.0013912501631223166, 0.0013775508493347852]\n"
     ]
    },
    {
     "data": {
      "application/vnd.jupyter.widget-view+json": {
       "model_id": "2d690a4b754e4dfc998f58a31196f3c0",
       "version_major": 2,
       "version_minor": 0
      },
      "text/plain": [
       "0it [00:00, ?it/s]"
      ]
     },
     "metadata": {},
     "output_type": "display_data"
    },
    {
     "name": "stdout",
     "output_type": "stream",
     "text": [
      "Loss of train: 0.00123\n",
      "Loss of val: 0.00137\n",
      "Loss of test: 0.00121\n",
      "Loss of gw_test: 0.00106\n",
      "[0.0015238719393175617, 0.0014725592548487543, 0.0014376121536618886, 0.0014101922858550423, 0.0013912501631223166, 0.0013775508493347852, 0.0013676553019651484]\n"
     ]
    },
    {
     "data": {
      "application/vnd.jupyter.widget-view+json": {
       "model_id": "733ff87aa17840aeae0b6d8eb8011dc8",
       "version_major": 2,
       "version_minor": 0
      },
      "text/plain": [
       "0it [00:00, ?it/s]"
      ]
     },
     "metadata": {},
     "output_type": "display_data"
    },
    {
     "name": "stdout",
     "output_type": "stream",
     "text": [
      "Loss of train: 0.00122\n",
      "Loss of val: 0.00136\n",
      "Loss of test: 0.00121\n",
      "Loss of gw_test: 0.00105\n",
      "[0.0015238719393175617, 0.0014725592548487543, 0.0014376121536618886, 0.0014101922858550423, 0.0013912501631223166, 0.0013775508493347852, 0.0013676553019651484, 0.0013611004707553018]\n"
     ]
    },
    {
     "data": {
      "application/vnd.jupyter.widget-view+json": {
       "model_id": "4f415cccc8a24014b0138e6bf0ff97a3",
       "version_major": 2,
       "version_minor": 0
      },
      "text/plain": [
       "0it [00:00, ?it/s]"
      ]
     },
     "metadata": {},
     "output_type": "display_data"
    },
    {
     "name": "stdout",
     "output_type": "stream",
     "text": [
      "Loss of train: 0.00122\n",
      "Loss of val: 0.00136\n",
      "Loss of test: 0.00121\n",
      "Loss of gw_test: 0.00105\n",
      "[0.0015238719393175617, 0.0014725592548487543, 0.0014376121536618886, 0.0014101922858550423, 0.0013912501631223166, 0.0013775508493347852, 0.0013676553019651484, 0.0013611004707553018, 0.0013583822509888315]\n"
     ]
    },
    {
     "data": {
      "application/vnd.jupyter.widget-view+json": {
       "model_id": "aabc3b955dd541369f173157dfaf49f1",
       "version_major": 2,
       "version_minor": 0
      },
      "text/plain": [
       "0it [00:00, ?it/s]"
      ]
     },
     "metadata": {},
     "output_type": "display_data"
    },
    {
     "name": "stdout",
     "output_type": "stream",
     "text": [
      "Loss of train: 0.00121\n",
      "Loss of val: 0.00135\n",
      "Loss of test: 0.00121\n",
      "Loss of gw_test: 0.00105\n",
      "[0.0015238719393175617, 0.0014725592548487543, 0.0014376121536618886, 0.0014101922858550423, 0.0013912501631223166, 0.0013775508493347852, 0.0013676553019651484, 0.0013611004707553018, 0.0013583822509888315, 0.0013536839566668374]\n"
     ]
    },
    {
     "data": {
      "application/vnd.jupyter.widget-view+json": {
       "model_id": "cc4de7ba0d88498babbc56f2be57bffe",
       "version_major": 2,
       "version_minor": 0
      },
      "text/plain": [
       "0it [00:00, ?it/s]"
      ]
     },
     "metadata": {},
     "output_type": "display_data"
    },
    {
     "name": "stdout",
     "output_type": "stream",
     "text": [
      "Loss of train: 0.00121\n",
      "Loss of val: 0.00135\n",
      "Loss of test: 0.00121\n",
      "Loss of gw_test: 0.00105\n",
      "[0.0015238719393175617, 0.0014725592548487543, 0.0014376121536618886, 0.0014101922858550423, 0.0013912501631223166, 0.0013775508493347852, 0.0013676553019651484, 0.0013611004707553018, 0.0013583822509888315, 0.0013536839566668374, 0.001348171816932583]\n"
     ]
    },
    {
     "data": {
      "application/vnd.jupyter.widget-view+json": {
       "model_id": "fbaa5601204c4829af7af9a46273f508",
       "version_major": 2,
       "version_minor": 0
      },
      "text/plain": [
       "0it [00:00, ?it/s]"
      ]
     },
     "metadata": {},
     "output_type": "display_data"
    },
    {
     "name": "stdout",
     "output_type": "stream",
     "text": [
      "Loss of train: 0.00120\n",
      "Loss of val: 0.00134\n",
      "Loss of test: 0.00121\n",
      "Loss of gw_test: 0.00105\n",
      "[0.0015238719393175617, 0.0014725592548487543, 0.0014376121536618886, 0.0014101922858550423, 0.0013912501631223166, 0.0013775508493347852, 0.0013676553019651484, 0.0013611004707553018, 0.0013583822509888315, 0.0013536839566668374, 0.001348171816932583, 0.001343875832095202]\n"
     ]
    },
    {
     "data": {
      "application/vnd.jupyter.widget-view+json": {
       "model_id": "4d886974a1e547c99781e0ac5ba2de56",
       "version_major": 2,
       "version_minor": 0
      },
      "text/plain": [
       "0it [00:00, ?it/s]"
      ]
     },
     "metadata": {},
     "output_type": "display_data"
    },
    {
     "name": "stdout",
     "output_type": "stream",
     "text": [
      "Loss of train: 0.00120\n",
      "Loss of val: 0.00134\n",
      "Loss of test: 0.00120\n",
      "Loss of gw_test: 0.00105\n",
      "[0.0015238719393175617, 0.0014725592548487543, 0.0014376121536618886, 0.0014101922858550423, 0.0013912501631223166, 0.0013775508493347852, 0.0013676553019651484, 0.0013611004707553018, 0.0013583822509888315, 0.0013536839566668374, 0.001348171816932583, 0.001343875832095202, 0.001341314350829238]\n"
     ]
    },
    {
     "data": {
      "application/vnd.jupyter.widget-view+json": {
       "model_id": "d1121b0ef10f415d9bf011d18335ab2b",
       "version_major": 2,
       "version_minor": 0
      },
      "text/plain": [
       "0it [00:00, ?it/s]"
      ]
     },
     "metadata": {},
     "output_type": "display_data"
    },
    {
     "name": "stdout",
     "output_type": "stream",
     "text": [
      "Loss of train: 0.00119\n",
      "Loss of val: 0.00134\n",
      "Loss of test: 0.00120\n",
      "Loss of gw_test: 0.00105\n",
      "[0.0015238719393175617, 0.0014725592548487543, 0.0014376121536618886, 0.0014101922858550423, 0.0013912501631223166, 0.0013775508493347852, 0.0013676553019651484, 0.0013611004707553018, 0.0013583822509888315, 0.0013536839566668374, 0.001348171816932583, 0.001343875832095202, 0.001341314350829238, 0.0013400359098940248]\n"
     ]
    },
    {
     "data": {
      "application/vnd.jupyter.widget-view+json": {
       "model_id": "e812c6ade90746ae94159a43b279f70f",
       "version_major": 2,
       "version_minor": 0
      },
      "text/plain": [
       "0it [00:00, ?it/s]"
      ]
     },
     "metadata": {},
     "output_type": "display_data"
    },
    {
     "name": "stdout",
     "output_type": "stream",
     "text": [
      "Loss of train: 0.00119\n",
      "Loss of val: 0.00134\n",
      "Loss of test: 0.00120\n",
      "Loss of gw_test: 0.00105\n",
      "[0.0015238719393175617, 0.0014725592548487543, 0.0014376121536618886, 0.0014101922858550423, 0.0013912501631223166, 0.0013775508493347852, 0.0013676553019651484, 0.0013611004707553018, 0.0013583822509888315, 0.0013536839566668374, 0.001348171816932583, 0.001343875832095202, 0.001341314350829238, 0.0013400359098940248, 0.0013390283187715748]\n"
     ]
    },
    {
     "data": {
      "application/vnd.jupyter.widget-view+json": {
       "model_id": "42c1173f99ce4116a597947b1d6e5732",
       "version_major": 2,
       "version_minor": 0
      },
      "text/plain": [
       "0it [00:00, ?it/s]"
      ]
     },
     "metadata": {},
     "output_type": "display_data"
    },
    {
     "name": "stdout",
     "output_type": "stream",
     "text": [
      "Loss of train: 0.00119\n",
      "Loss of val: 0.00134\n",
      "Loss of test: 0.00120\n",
      "Loss of gw_test: 0.00105\n",
      "[0.0015238719393175617, 0.0014725592548487543, 0.0014376121536618886, 0.0014101922858550423, 0.0013912501631223166, 0.0013775508493347852, 0.0013676553019651484, 0.0013611004707553018, 0.0013583822509888315, 0.0013536839566668374, 0.001348171816932583, 0.001343875832095202, 0.001341314350829238, 0.0013400359098940248, 0.0013390283187715748, 0.0013379525081492925]\n"
     ]
    },
    {
     "data": {
      "application/vnd.jupyter.widget-view+json": {
       "model_id": "90662036433246cf9b0ffb7977eb3882",
       "version_major": 2,
       "version_minor": 0
      },
      "text/plain": [
       "0it [00:00, ?it/s]"
      ]
     },
     "metadata": {},
     "output_type": "display_data"
    },
    {
     "name": "stdout",
     "output_type": "stream",
     "text": [
      "Loss of train: 0.00118\n",
      "Loss of val: 0.00134\n",
      "Loss of test: 0.00120\n",
      "Loss of gw_test: 0.00105\n",
      "[0.0015238719393175617, 0.0014725592548487543, 0.0014376121536618886, 0.0014101922858550423, 0.0013912501631223166, 0.0013775508493347852, 0.0013676553019651484, 0.0013611004707553018, 0.0013583822509888315, 0.0013536839566668374, 0.001348171816932583, 0.001343875832095202, 0.001341314350829238, 0.0013400359098940248, 0.0013390283187715748, 0.0013379525081492925, 0.0013367775858507817]\n"
     ]
    },
    {
     "data": {
      "application/vnd.jupyter.widget-view+json": {
       "model_id": "a0608d4544754cb29a70476c7e64fe47",
       "version_major": 2,
       "version_minor": 0
      },
      "text/plain": [
       "0it [00:00, ?it/s]"
      ]
     },
     "metadata": {},
     "output_type": "display_data"
    },
    {
     "name": "stdout",
     "output_type": "stream",
     "text": [
      "Loss of train: 0.00118\n",
      "Loss of val: 0.00134\n",
      "Loss of test: 0.00120\n",
      "Loss of gw_test: 0.00105\n",
      "[0.0015238719393175617, 0.0014725592548487543, 0.0014376121536618886, 0.0014101922858550423, 0.0013912501631223166, 0.0013775508493347852, 0.0013676553019651484, 0.0013611004707553018, 0.0013583822509888315, 0.0013536839566668374, 0.001348171816932583, 0.001343875832095202, 0.001341314350829238, 0.0013400359098940248, 0.0013390283187715748, 0.0013379525081492925, 0.0013367775858507817, 0.0013356872396092778]\n"
     ]
    },
    {
     "data": {
      "application/vnd.jupyter.widget-view+json": {
       "model_id": "533e9f281cdd4a3bbb41d631d6d68dc7",
       "version_major": 2,
       "version_minor": 0
      },
      "text/plain": [
       "0it [00:00, ?it/s]"
      ]
     },
     "metadata": {},
     "output_type": "display_data"
    },
    {
     "name": "stdout",
     "output_type": "stream",
     "text": [
      "Loss of train: 0.00118\n",
      "Loss of val: 0.00133\n",
      "Loss of test: 0.00121\n",
      "Loss of gw_test: 0.00105\n",
      "[0.0015238719393175617, 0.0014725592548487543, 0.0014376121536618886, 0.0014101922858550423, 0.0013912501631223166, 0.0013775508493347852, 0.0013676553019651484, 0.0013611004707553018, 0.0013583822509888315, 0.0013536839566668374, 0.001348171816932583, 0.001343875832095202, 0.001341314350829238, 0.0013400359098940248, 0.0013390283187715748, 0.0013379525081492925, 0.0013367775858507817, 0.0013356872396092778, 0.0013342931504207632]\n"
     ]
    },
    {
     "data": {
      "application/vnd.jupyter.widget-view+json": {
       "model_id": "158b636a53534911964513466a338c49",
       "version_major": 2,
       "version_minor": 0
      },
      "text/plain": [
       "0it [00:00, ?it/s]"
      ]
     },
     "metadata": {},
     "output_type": "display_data"
    },
    {
     "name": "stdout",
     "output_type": "stream",
     "text": [
      "Loss of train: 0.00118\n",
      "Loss of val: 0.00133\n",
      "Loss of test: 0.00121\n",
      "Loss of gw_test: 0.00105\n",
      "[0.0015238719393175617, 0.0014725592548487543, 0.0014376121536618886, 0.0014101922858550423, 0.0013912501631223166, 0.0013775508493347852, 0.0013676553019651484, 0.0013611004707553018, 0.0013583822509888315, 0.0013536839566668374, 0.001348171816932583, 0.001343875832095202, 0.001341314350829238, 0.0013400359098940248, 0.0013390283187715748, 0.0013379525081492925, 0.0013367775858507817, 0.0013356872396092778, 0.0013342931504207632, 0.0013325921662440396]\n"
     ]
    },
    {
     "data": {
      "application/vnd.jupyter.widget-view+json": {
       "model_id": "5f12d2632b794d9698fd0025535a8fd0",
       "version_major": 2,
       "version_minor": 0
      },
      "text/plain": [
       "0it [00:00, ?it/s]"
      ]
     },
     "metadata": {},
     "output_type": "display_data"
    },
    {
     "name": "stdout",
     "output_type": "stream",
     "text": [
      "Loss of train: 0.00117\n",
      "Loss of val: 0.00133\n",
      "Loss of test: 0.00121\n",
      "Loss of gw_test: 0.00105\n",
      "[0.0015238719393175617, 0.0014725592548487543, 0.0014376121536618886, 0.0014101922858550423, 0.0013912501631223166, 0.0013775508493347852, 0.0013676553019651484, 0.0013611004707553018, 0.0013583822509888315, 0.0013536839566668374, 0.001348171816932583, 0.001343875832095202, 0.001341314350829238, 0.0013400359098940248, 0.0013390283187715748, 0.0013379525081492925, 0.0013367775858507817, 0.0013356872396092778, 0.0013342931504207632, 0.0013325921662440396, 0.0013308101424983905]\n"
     ]
    },
    {
     "data": {
      "application/vnd.jupyter.widget-view+json": {
       "model_id": "6cca81aba33547c89ef9eb9d5fb495ff",
       "version_major": 2,
       "version_minor": 0
      },
      "text/plain": [
       "0it [00:00, ?it/s]"
      ]
     },
     "metadata": {},
     "output_type": "display_data"
    },
    {
     "name": "stdout",
     "output_type": "stream",
     "text": [
      "Loss of train: 0.00117\n",
      "Loss of val: 0.00133\n",
      "Loss of test: 0.00121\n",
      "Loss of gw_test: 0.00105\n",
      "[0.0015238719393175617, 0.0014725592548487543, 0.0014376121536618886, 0.0014101922858550423, 0.0013912501631223166, 0.0013775508493347852, 0.0013676553019651484, 0.0013611004707553018, 0.0013583822509888315, 0.0013536839566668374, 0.001348171816932583, 0.001343875832095202, 0.001341314350829238, 0.0013400359098940248, 0.0013390283187715748, 0.0013379525081492925, 0.0013367775858507817, 0.0013356872396092778, 0.0013342931504207632, 0.0013325921662440396, 0.0013308101424983905, 0.0013291518248716337]\n"
     ]
    },
    {
     "data": {
      "application/vnd.jupyter.widget-view+json": {
       "model_id": "5a4227886a634c5ebd935059dbb24301",
       "version_major": 2,
       "version_minor": 0
      },
      "text/plain": [
       "0it [00:00, ?it/s]"
      ]
     },
     "metadata": {},
     "output_type": "display_data"
    },
    {
     "name": "stdout",
     "output_type": "stream",
     "text": [
      "Loss of train: 0.00117\n",
      "Loss of val: 0.00133\n",
      "Loss of test: 0.00121\n",
      "Loss of gw_test: 0.00105\n",
      "[0.0015238719393175617, 0.0014725592548487543, 0.0014376121536618886, 0.0014101922858550423, 0.0013912501631223166, 0.0013775508493347852, 0.0013676553019651484, 0.0013611004707553018, 0.0013583822509888315, 0.0013536839566668374, 0.001348171816932583, 0.001343875832095202, 0.001341314350829238, 0.0013400359098940248, 0.0013390283187715748, 0.0013379525081492925, 0.0013367775858507817, 0.0013356872396092778, 0.0013342931504207632, 0.0013325921662440396, 0.0013308101424983905, 0.0013291518248716337, 0.001327594170957862]\n"
     ]
    },
    {
     "data": {
      "application/vnd.jupyter.widget-view+json": {
       "model_id": "64bb7f75831544129edaad1019570237",
       "version_major": 2,
       "version_minor": 0
      },
      "text/plain": [
       "0it [00:00, ?it/s]"
      ]
     },
     "metadata": {},
     "output_type": "display_data"
    },
    {
     "name": "stdout",
     "output_type": "stream",
     "text": [
      "Loss of train: 0.00117\n",
      "Loss of val: 0.00133\n",
      "Loss of test: 0.00121\n",
      "Loss of gw_test: 0.00105\n",
      "[0.0015238719393175617, 0.0014725592548487543, 0.0014376121536618886, 0.0014101922858550423, 0.0013912501631223166, 0.0013775508493347852, 0.0013676553019651484, 0.0013611004707553018, 0.0013583822509888315, 0.0013536839566668374, 0.001348171816932583, 0.001343875832095202, 0.001341314350829238, 0.0013400359098940248, 0.0013390283187715748, 0.0013379525081492925, 0.0013367775858507817, 0.0013356872396092778, 0.0013342931504207632, 0.0013325921662440396, 0.0013308101424983905, 0.0013291518248716337, 0.001327594170957862, 0.001326215639664575]\n"
     ]
    },
    {
     "data": {
      "application/vnd.jupyter.widget-view+json": {
       "model_id": "b9442402df8c4cd383abf4e201a834a4",
       "version_major": 2,
       "version_minor": 0
      },
      "text/plain": [
       "0it [00:00, ?it/s]"
      ]
     },
     "metadata": {},
     "output_type": "display_data"
    },
    {
     "name": "stdout",
     "output_type": "stream",
     "text": [
      "Loss of train: 0.00117\n",
      "Loss of val: 0.00133\n",
      "Loss of test: 0.00121\n",
      "Loss of gw_test: 0.00105\n",
      "[0.0015238719393175617, 0.0014725592548487543, 0.0014376121536618886, 0.0014101922858550423, 0.0013912501631223166, 0.0013775508493347852, 0.0013676553019651484, 0.0013611004707553018, 0.0013583822509888315, 0.0013536839566668374, 0.001348171816932583, 0.001343875832095202, 0.001341314350829238, 0.0013400359098940248, 0.0013390283187715748, 0.0013379525081492925, 0.0013367775858507817, 0.0013356872396092778, 0.0013342931504207632, 0.0013325921662440396, 0.0013308101424983905, 0.0013291518248716337, 0.001327594170957862, 0.001326215639664575, 0.0013255033332344607]\n"
     ]
    },
    {
     "data": {
      "application/vnd.jupyter.widget-view+json": {
       "model_id": "adcdc0cfa67d42889a76a69a7ea8334b",
       "version_major": 2,
       "version_minor": 0
      },
      "text/plain": [
       "0it [00:00, ?it/s]"
      ]
     },
     "metadata": {},
     "output_type": "display_data"
    },
    {
     "name": "stdout",
     "output_type": "stream",
     "text": [
      "Loss of train: 0.00116\n",
      "Loss of val: 0.00133\n",
      "Loss of test: 0.00121\n",
      "Loss of gw_test: 0.00105\n",
      "[0.0015238719393175617, 0.0014725592548487543, 0.0014376121536618886, 0.0014101922858550423, 0.0013912501631223166, 0.0013775508493347852, 0.0013676553019651484, 0.0013611004707553018, 0.0013583822509888315, 0.0013536839566668374, 0.001348171816932583, 0.001343875832095202, 0.001341314350829238, 0.0013400359098940248, 0.0013390283187715748, 0.0013379525081492925, 0.0013367775858507817, 0.0013356872396092778, 0.0013342931504207632, 0.0013325921662440396, 0.0013308101424983905, 0.0013291518248716337, 0.001327594170957862, 0.001326215639664575, 0.0013255033332344607, 0.0013260546311936584]\n",
      "Break at 25\n",
      "{'f1': 3, 'f2': 2, 'f3': 3, 'f4': 4, 'f5': 2}\n",
      "AUROC of val: 0.94601\n",
      "AUROC of test: 0.94527\n",
      "AUROC of gw_test: 0.94300\n"
     ]
    },
    {
     "data": {
      "application/vnd.jupyter.widget-view+json": {
       "model_id": "77e254aa64f843808eeabc2f400931de",
       "version_major": 2,
       "version_minor": 0
      },
      "text/plain": [
       "0it [00:00, ?it/s]"
      ]
     },
     "metadata": {},
     "output_type": "display_data"
    },
    {
     "name": "stdout",
     "output_type": "stream",
     "text": [
      "Loss of train: 0.00135\n",
      "Loss of val: 0.00148\n",
      "Loss of test: 0.00129\n",
      "Loss of gw_test: 0.00114\n",
      "[0.0014839183996855558]\n"
     ]
    },
    {
     "data": {
      "application/vnd.jupyter.widget-view+json": {
       "model_id": "3f1f183ecb4c472c860ff36064db3b82",
       "version_major": 2,
       "version_minor": 0
      },
      "text/plain": [
       "0it [00:00, ?it/s]"
      ]
     },
     "metadata": {},
     "output_type": "display_data"
    },
    {
     "name": "stdout",
     "output_type": "stream",
     "text": [
      "Loss of train: 0.00124\n",
      "Loss of val: 0.00135\n",
      "Loss of test: 0.00121\n",
      "Loss of gw_test: 0.00104\n",
      "[0.0014839183996855558, 0.0013505640563567468]\n"
     ]
    },
    {
     "data": {
      "application/vnd.jupyter.widget-view+json": {
       "model_id": "50a5ec90996e44c99aa9e62410750c1a",
       "version_major": 2,
       "version_minor": 0
      },
      "text/plain": [
       "0it [00:00, ?it/s]"
      ]
     },
     "metadata": {},
     "output_type": "display_data"
    },
    {
     "name": "stdout",
     "output_type": "stream",
     "text": [
      "Loss of train: 0.00121\n",
      "Loss of val: 0.00132\n",
      "Loss of test: 0.00120\n",
      "Loss of gw_test: 0.00102\n",
      "[0.0014839183996855558, 0.0013505640563567468, 0.0013185952887348326]\n"
     ]
    },
    {
     "data": {
      "application/vnd.jupyter.widget-view+json": {
       "model_id": "4b181124cfc54032a739012217ac6b18",
       "version_major": 2,
       "version_minor": 0
      },
      "text/plain": [
       "0it [00:00, ?it/s]"
      ]
     },
     "metadata": {},
     "output_type": "display_data"
    },
    {
     "name": "stdout",
     "output_type": "stream",
     "text": [
      "Loss of train: 0.00120\n",
      "Loss of val: 0.00130\n",
      "Loss of test: 0.00119\n",
      "Loss of gw_test: 0.00101\n",
      "[0.0014839183996855558, 0.0013505640563567468, 0.0013185952887348326, 0.0013010707336792132]\n"
     ]
    },
    {
     "data": {
      "application/vnd.jupyter.widget-view+json": {
       "model_id": "9143c09d288e488b95e1a7f738204539",
       "version_major": 2,
       "version_minor": 0
      },
      "text/plain": [
       "0it [00:00, ?it/s]"
      ]
     },
     "metadata": {},
     "output_type": "display_data"
    },
    {
     "name": "stdout",
     "output_type": "stream",
     "text": [
      "Loss of train: 0.00118\n",
      "Loss of val: 0.00129\n",
      "Loss of test: 0.00119\n",
      "Loss of gw_test: 0.00100\n",
      "[0.0014839183996855558, 0.0013505640563567468, 0.0013185952887348326, 0.0013010707336792132, 0.0012903738202547676]\n"
     ]
    },
    {
     "data": {
      "application/vnd.jupyter.widget-view+json": {
       "model_id": "a900b32ea147472cb2dba76bf0b3331a",
       "version_major": 2,
       "version_minor": 0
      },
      "text/plain": [
       "0it [00:00, ?it/s]"
      ]
     },
     "metadata": {},
     "output_type": "display_data"
    },
    {
     "name": "stdout",
     "output_type": "stream",
     "text": [
      "Loss of train: 0.00117\n",
      "Loss of val: 0.00129\n",
      "Loss of test: 0.00118\n",
      "Loss of gw_test: 0.00099\n",
      "[0.0014839183996855558, 0.0013505640563567468, 0.0013185952887348326, 0.0013010707336792132, 0.0012903738202547676, 0.0012876753094222934]\n"
     ]
    },
    {
     "data": {
      "application/vnd.jupyter.widget-view+json": {
       "model_id": "f9f0a755e60c46a78e3b8561a87594f4",
       "version_major": 2,
       "version_minor": 0
      },
      "text/plain": [
       "0it [00:00, ?it/s]"
      ]
     },
     "metadata": {},
     "output_type": "display_data"
    },
    {
     "name": "stdout",
     "output_type": "stream",
     "text": [
      "Loss of train: 0.00116\n",
      "Loss of val: 0.00129\n",
      "Loss of test: 0.00118\n",
      "Loss of gw_test: 0.00098\n",
      "[0.0014839183996855558, 0.0013505640563567468, 0.0013185952887348326, 0.0013010707336792132, 0.0012903738202547676, 0.0012876753094222934, 0.0012904604838936207]\n",
      "Break at 6\n",
      "{'f1': 3, 'f2': 2, 'f3': 3, 'f4': 4, 'f5': 3}\n",
      "AUROC of val: 0.94746\n",
      "AUROC of test: 0.94588\n",
      "AUROC of gw_test: 0.94854\n"
     ]
    },
    {
     "data": {
      "application/vnd.jupyter.widget-view+json": {
       "model_id": "96c7a3adf6574165b4138d91883bc1f2",
       "version_major": 2,
       "version_minor": 0
      },
      "text/plain": [
       "0it [00:00, ?it/s]"
      ]
     },
     "metadata": {},
     "output_type": "display_data"
    },
    {
     "name": "stdout",
     "output_type": "stream",
     "text": [
      "Loss of train: 0.00131\n",
      "Loss of val: 0.00151\n",
      "Loss of test: 0.00127\n",
      "Loss of gw_test: 0.00108\n",
      "[0.0015085422846320212]\n"
     ]
    },
    {
     "data": {
      "application/vnd.jupyter.widget-view+json": {
       "model_id": "6b1f96dce317406ab7eb9248ae7e3f7e",
       "version_major": 2,
       "version_minor": 0
      },
      "text/plain": [
       "0it [00:00, ?it/s]"
      ]
     },
     "metadata": {},
     "output_type": "display_data"
    },
    {
     "name": "stdout",
     "output_type": "stream",
     "text": [
      "Loss of train: 0.00125\n",
      "Loss of val: 0.00145\n",
      "Loss of test: 0.00119\n",
      "Loss of gw_test: 0.00103\n",
      "[0.0015085422846320212, 0.001447617017832634]\n"
     ]
    },
    {
     "data": {
      "application/vnd.jupyter.widget-view+json": {
       "model_id": "0a5416e3239d4809919cbbd1307e8b54",
       "version_major": 2,
       "version_minor": 0
      },
      "text/plain": [
       "0it [00:00, ?it/s]"
      ]
     },
     "metadata": {},
     "output_type": "display_data"
    },
    {
     "name": "stdout",
     "output_type": "stream",
     "text": [
      "Loss of train: 0.00123\n",
      "Loss of val: 0.00141\n",
      "Loss of test: 0.00116\n",
      "Loss of gw_test: 0.00102\n",
      "[0.0015085422846320212, 0.001447617017832634, 0.0014073130669290295]\n"
     ]
    },
    {
     "data": {
      "application/vnd.jupyter.widget-view+json": {
       "model_id": "254e276e027d4c209cb366347c6856e8",
       "version_major": 2,
       "version_minor": 0
      },
      "text/plain": [
       "0it [00:00, ?it/s]"
      ]
     },
     "metadata": {},
     "output_type": "display_data"
    },
    {
     "name": "stdout",
     "output_type": "stream",
     "text": [
      "Loss of train: 0.00122\n",
      "Loss of val: 0.00140\n",
      "Loss of test: 0.00115\n",
      "Loss of gw_test: 0.00101\n",
      "[0.0015085422846320212, 0.001447617017832634, 0.0014073130669290295, 0.0013961990634833953]\n"
     ]
    },
    {
     "data": {
      "application/vnd.jupyter.widget-view+json": {
       "model_id": "a771db78b0c64bdc8f227814c229d69f",
       "version_major": 2,
       "version_minor": 0
      },
      "text/plain": [
       "0it [00:00, ?it/s]"
      ]
     },
     "metadata": {},
     "output_type": "display_data"
    },
    {
     "name": "stdout",
     "output_type": "stream",
     "text": [
      "Loss of train: 0.00121\n",
      "Loss of val: 0.00138\n",
      "Loss of test: 0.00114\n",
      "Loss of gw_test: 0.00101\n",
      "[0.0015085422846320212, 0.001447617017832634, 0.0014073130669290295, 0.0013961990634833953, 0.0013788875972478264]\n"
     ]
    },
    {
     "data": {
      "application/vnd.jupyter.widget-view+json": {
       "model_id": "1f35c93364b44f23860e0838ad9c3088",
       "version_major": 2,
       "version_minor": 0
      },
      "text/plain": [
       "0it [00:00, ?it/s]"
      ]
     },
     "metadata": {},
     "output_type": "display_data"
    },
    {
     "name": "stdout",
     "output_type": "stream",
     "text": [
      "Loss of train: 0.00120\n",
      "Loss of val: 0.00138\n",
      "Loss of test: 0.00114\n",
      "Loss of gw_test: 0.00101\n",
      "[0.0015085422846320212, 0.001447617017832634, 0.0014073130669290295, 0.0013961990634833953, 0.0013788875972478264, 0.001375374126600915]\n"
     ]
    },
    {
     "data": {
      "application/vnd.jupyter.widget-view+json": {
       "model_id": "cf8cfc418d5f45698181d752a33ebc29",
       "version_major": 2,
       "version_minor": 0
      },
      "text/plain": [
       "0it [00:00, ?it/s]"
      ]
     },
     "metadata": {},
     "output_type": "display_data"
    },
    {
     "name": "stdout",
     "output_type": "stream",
     "text": [
      "Loss of train: 0.00120\n",
      "Loss of val: 0.00135\n",
      "Loss of test: 0.00114\n",
      "Loss of gw_test: 0.00101\n",
      "[0.0015085422846320212, 0.001447617017832634, 0.0014073130669290295, 0.0013961990634833953, 0.0013788875972478264, 0.001375374126600915, 0.0013517610468939249]\n"
     ]
    },
    {
     "data": {
      "application/vnd.jupyter.widget-view+json": {
       "model_id": "dda57a64b0924af4b5edf281e4b80a75",
       "version_major": 2,
       "version_minor": 0
      },
      "text/plain": [
       "0it [00:00, ?it/s]"
      ]
     },
     "metadata": {},
     "output_type": "display_data"
    },
    {
     "name": "stdout",
     "output_type": "stream",
     "text": [
      "Loss of train: 0.00119\n",
      "Loss of val: 0.00135\n",
      "Loss of test: 0.00113\n",
      "Loss of gw_test: 0.00101\n",
      "[0.0015085422846320212, 0.001447617017832634, 0.0014073130669290295, 0.0013961990634833953, 0.0013788875972478264, 0.001375374126600915, 0.0013517610468939249, 0.001348944705983911]\n"
     ]
    },
    {
     "data": {
      "application/vnd.jupyter.widget-view+json": {
       "model_id": "e23f8652ff7e4855a95ccb14c1d981e5",
       "version_major": 2,
       "version_minor": 0
      },
      "text/plain": [
       "0it [00:00, ?it/s]"
      ]
     },
     "metadata": {},
     "output_type": "display_data"
    },
    {
     "name": "stdout",
     "output_type": "stream",
     "text": [
      "Loss of train: 0.00118\n",
      "Loss of val: 0.00134\n",
      "Loss of test: 0.00113\n",
      "Loss of gw_test: 0.00101\n",
      "[0.0015085422846320212, 0.001447617017832634, 0.0014073130669290295, 0.0013961990634833953, 0.0013788875972478264, 0.001375374126600915, 0.0013517610468939249, 0.001348944705983911, 0.0013387286457415134]\n"
     ]
    },
    {
     "data": {
      "application/vnd.jupyter.widget-view+json": {
       "model_id": "a44d240c0d1c4676a9d48d2941abfdba",
       "version_major": 2,
       "version_minor": 0
      },
      "text/plain": [
       "0it [00:00, ?it/s]"
      ]
     },
     "metadata": {},
     "output_type": "display_data"
    },
    {
     "name": "stdout",
     "output_type": "stream",
     "text": [
      "Loss of train: 0.00118\n",
      "Loss of val: 0.00134\n",
      "Loss of test: 0.00114\n",
      "Loss of gw_test: 0.00102\n",
      "[0.0015085422846320212, 0.001447617017832634, 0.0014073130669290295, 0.0013961990634833953, 0.0013788875972478264, 0.001375374126600915, 0.0013517610468939249, 0.001348944705983911, 0.0013387286457415134, 0.0013385678594738414]\n"
     ]
    },
    {
     "data": {
      "application/vnd.jupyter.widget-view+json": {
       "model_id": "2cf5476083bc4618861627828d46b187",
       "version_major": 2,
       "version_minor": 0
      },
      "text/plain": [
       "0it [00:00, ?it/s]"
      ]
     },
     "metadata": {},
     "output_type": "display_data"
    },
    {
     "name": "stdout",
     "output_type": "stream",
     "text": [
      "Loss of train: 0.00117\n",
      "Loss of val: 0.00132\n",
      "Loss of test: 0.00113\n",
      "Loss of gw_test: 0.00102\n",
      "[0.0015085422846320212, 0.001447617017832634, 0.0014073130669290295, 0.0013961990634833953, 0.0013788875972478264, 0.001375374126600915, 0.0013517610468939249, 0.001348944705983911, 0.0013387286457415134, 0.0013385678594738414, 0.0013242391450502117]\n"
     ]
    },
    {
     "data": {
      "application/vnd.jupyter.widget-view+json": {
       "model_id": "2f8794a8fcf644c3bc7474b86250b455",
       "version_major": 2,
       "version_minor": 0
      },
      "text/plain": [
       "0it [00:00, ?it/s]"
      ]
     },
     "metadata": {},
     "output_type": "display_data"
    },
    {
     "name": "stdout",
     "output_type": "stream",
     "text": [
      "Loss of train: 0.00117\n",
      "Loss of val: 0.00132\n",
      "Loss of test: 0.00114\n",
      "Loss of gw_test: 0.00102\n",
      "[0.0015085422846320212, 0.001447617017832634, 0.0014073130669290295, 0.0013961990634833953, 0.0013788875972478264, 0.001375374126600915, 0.0013517610468939249, 0.001348944705983911, 0.0013387286457415134, 0.0013385678594738414, 0.0013242391450502117, 0.001322860305917255]\n"
     ]
    },
    {
     "data": {
      "application/vnd.jupyter.widget-view+json": {
       "model_id": "5417cc95b6a1416388d455a3fabd25f7",
       "version_major": 2,
       "version_minor": 0
      },
      "text/plain": [
       "0it [00:00, ?it/s]"
      ]
     },
     "metadata": {},
     "output_type": "display_data"
    },
    {
     "name": "stdout",
     "output_type": "stream",
     "text": [
      "Loss of train: 0.00116\n",
      "Loss of val: 0.00131\n",
      "Loss of test: 0.00113\n",
      "Loss of gw_test: 0.00102\n",
      "[0.0015085422846320212, 0.001447617017832634, 0.0014073130669290295, 0.0013961990634833953, 0.0013788875972478264, 0.001375374126600915, 0.0013517610468939249, 0.001348944705983911, 0.0013387286457415134, 0.0013385678594738414, 0.0013242391450502117, 0.001322860305917255, 0.0013088514421301769]\n"
     ]
    },
    {
     "data": {
      "application/vnd.jupyter.widget-view+json": {
       "model_id": "13b4102b0ec4408aa0b4356436fd1a49",
       "version_major": 2,
       "version_minor": 0
      },
      "text/plain": [
       "0it [00:00, ?it/s]"
      ]
     },
     "metadata": {},
     "output_type": "display_data"
    },
    {
     "name": "stdout",
     "output_type": "stream",
     "text": [
      "Loss of train: 0.00117\n",
      "Loss of val: 0.00131\n",
      "Loss of test: 0.00114\n",
      "Loss of gw_test: 0.00102\n",
      "[0.0015085422846320212, 0.001447617017832634, 0.0014073130669290295, 0.0013961990634833953, 0.0013788875972478264, 0.001375374126600915, 0.0013517610468939249, 0.001348944705983911, 0.0013387286457415134, 0.0013385678594738414, 0.0013242391450502117, 0.001322860305917255, 0.0013088514421301769, 0.0013091294958426656]\n",
      "Break at 13\n",
      "{'f1': 3, 'f2': 2, 'f3': 3, 'f4': 4, 'f5': 4}\n",
      "AUROC of val: 0.94697\n",
      "AUROC of test: 0.94975\n",
      "AUROC of gw_test: 0.94495\n"
     ]
    },
    {
     "data": {
      "application/vnd.jupyter.widget-view+json": {
       "model_id": "6fdecc4ac3a8435cbaf9b5b58cc3253b",
       "version_major": 2,
       "version_minor": 0
      },
      "text/plain": [
       "0it [00:00, ?it/s]"
      ]
     },
     "metadata": {},
     "output_type": "display_data"
    },
    {
     "name": "stdout",
     "output_type": "stream",
     "text": [
      "Loss of train: 0.00134\n",
      "Loss of val: 0.00150\n",
      "Loss of test: 0.00127\n",
      "Loss of gw_test: 0.00106\n",
      "[0.001499460170716884]\n"
     ]
    },
    {
     "data": {
      "application/vnd.jupyter.widget-view+json": {
       "model_id": "52e1552fc4a24a67b05ab8f7188b27ff",
       "version_major": 2,
       "version_minor": 0
      },
      "text/plain": [
       "0it [00:00, ?it/s]"
      ]
     },
     "metadata": {},
     "output_type": "display_data"
    },
    {
     "name": "stdout",
     "output_type": "stream",
     "text": [
      "Loss of train: 0.00125\n",
      "Loss of val: 0.00143\n",
      "Loss of test: 0.00120\n",
      "Loss of gw_test: 0.00099\n",
      "[0.001499460170716884, 0.0014279301090452032]\n"
     ]
    },
    {
     "data": {
      "application/vnd.jupyter.widget-view+json": {
       "model_id": "b0757e30659a4052a2a11a167f6cd58a",
       "version_major": 2,
       "version_minor": 0
      },
      "text/plain": [
       "0it [00:00, ?it/s]"
      ]
     },
     "metadata": {},
     "output_type": "display_data"
    },
    {
     "name": "stdout",
     "output_type": "stream",
     "text": [
      "Loss of train: 0.00120\n",
      "Loss of val: 0.00139\n",
      "Loss of test: 0.00117\n",
      "Loss of gw_test: 0.00095\n",
      "[0.001499460170716884, 0.0014279301090452032, 0.00139251610015191]\n"
     ]
    },
    {
     "data": {
      "application/vnd.jupyter.widget-view+json": {
       "model_id": "ed1704664301447e92a754861d8d5c6d",
       "version_major": 2,
       "version_minor": 0
      },
      "text/plain": [
       "0it [00:00, ?it/s]"
      ]
     },
     "metadata": {},
     "output_type": "display_data"
    },
    {
     "name": "stdout",
     "output_type": "stream",
     "text": [
      "Loss of train: 0.00118\n",
      "Loss of val: 0.00137\n",
      "Loss of test: 0.00116\n",
      "Loss of gw_test: 0.00094\n",
      "[0.001499460170716884, 0.0014279301090452032, 0.00139251610015191, 0.00136812752152831]\n"
     ]
    },
    {
     "data": {
      "application/vnd.jupyter.widget-view+json": {
       "model_id": "df7a55bb52de46e793bf901e2d4e72a4",
       "version_major": 2,
       "version_minor": 0
      },
      "text/plain": [
       "0it [00:00, ?it/s]"
      ]
     },
     "metadata": {},
     "output_type": "display_data"
    },
    {
     "name": "stdout",
     "output_type": "stream",
     "text": [
      "Loss of train: 0.00117\n",
      "Loss of val: 0.00135\n",
      "Loss of test: 0.00116\n",
      "Loss of gw_test: 0.00093\n",
      "[0.001499460170716884, 0.0014279301090452032, 0.00139251610015191, 0.00136812752152831, 0.001348865775017964]\n"
     ]
    },
    {
     "data": {
      "application/vnd.jupyter.widget-view+json": {
       "model_id": "54bcc67f7f484b41b53637bc2d119eef",
       "version_major": 2,
       "version_minor": 0
      },
      "text/plain": [
       "0it [00:00, ?it/s]"
      ]
     },
     "metadata": {},
     "output_type": "display_data"
    },
    {
     "name": "stdout",
     "output_type": "stream",
     "text": [
      "Loss of train: 0.00116\n",
      "Loss of val: 0.00134\n",
      "Loss of test: 0.00117\n",
      "Loss of gw_test: 0.00093\n",
      "[0.001499460170716884, 0.0014279301090452032, 0.00139251610015191, 0.00136812752152831, 0.001348865775017964, 0.0013384883029528558]\n"
     ]
    },
    {
     "data": {
      "application/vnd.jupyter.widget-view+json": {
       "model_id": "4145a50c81d648979eea1f3ea0bfa853",
       "version_major": 2,
       "version_minor": 0
      },
      "text/plain": [
       "0it [00:00, ?it/s]"
      ]
     },
     "metadata": {},
     "output_type": "display_data"
    },
    {
     "name": "stdout",
     "output_type": "stream",
     "text": [
      "Loss of train: 0.00116\n",
      "Loss of val: 0.00132\n",
      "Loss of test: 0.00117\n",
      "Loss of gw_test: 0.00093\n",
      "[0.001499460170716884, 0.0014279301090452032, 0.00139251610015191, 0.00136812752152831, 0.001348865775017964, 0.0013384883029528558, 0.0013243257928879453]\n"
     ]
    },
    {
     "data": {
      "application/vnd.jupyter.widget-view+json": {
       "model_id": "25007322c20a467cb7d837093b6acc0c",
       "version_major": 2,
       "version_minor": 0
      },
      "text/plain": [
       "0it [00:00, ?it/s]"
      ]
     },
     "metadata": {},
     "output_type": "display_data"
    },
    {
     "name": "stdout",
     "output_type": "stream",
     "text": [
      "Loss of train: 0.00116\n",
      "Loss of val: 0.00132\n",
      "Loss of test: 0.00117\n",
      "Loss of gw_test: 0.00093\n",
      "[0.001499460170716884, 0.0014279301090452032, 0.00139251610015191, 0.00136812752152831, 0.001348865775017964, 0.0013384883029528558, 0.0013243257928879453, 0.0013160073465189515]\n"
     ]
    },
    {
     "data": {
      "application/vnd.jupyter.widget-view+json": {
       "model_id": "b7979d7d8b7c46808e1d47530e2e44bb",
       "version_major": 2,
       "version_minor": 0
      },
      "text/plain": [
       "0it [00:00, ?it/s]"
      ]
     },
     "metadata": {},
     "output_type": "display_data"
    },
    {
     "name": "stdout",
     "output_type": "stream",
     "text": [
      "Loss of train: 0.00115\n",
      "Loss of val: 0.00131\n",
      "Loss of test: 0.00117\n",
      "Loss of gw_test: 0.00093\n",
      "[0.001499460170716884, 0.0014279301090452032, 0.00139251610015191, 0.00136812752152831, 0.001348865775017964, 0.0013384883029528558, 0.0013243257928879453, 0.0013160073465189515, 0.001312522641951361]\n"
     ]
    },
    {
     "data": {
      "application/vnd.jupyter.widget-view+json": {
       "model_id": "85b48ca246db4810bc60f9a07eb6d20b",
       "version_major": 2,
       "version_minor": 0
      },
      "text/plain": [
       "0it [00:00, ?it/s]"
      ]
     },
     "metadata": {},
     "output_type": "display_data"
    },
    {
     "name": "stdout",
     "output_type": "stream",
     "text": [
      "Loss of train: 0.00115\n",
      "Loss of val: 0.00131\n",
      "Loss of test: 0.00117\n",
      "Loss of gw_test: 0.00093\n",
      "[0.001499460170716884, 0.0014279301090452032, 0.00139251610015191, 0.00136812752152831, 0.001348865775017964, 0.0013384883029528558, 0.0013243257928879453, 0.0013160073465189515, 0.001312522641951361, 0.0013082416048320442]\n"
     ]
    },
    {
     "data": {
      "application/vnd.jupyter.widget-view+json": {
       "model_id": "7448550db27a406889d434427e6180e0",
       "version_major": 2,
       "version_minor": 0
      },
      "text/plain": [
       "0it [00:00, ?it/s]"
      ]
     },
     "metadata": {},
     "output_type": "display_data"
    },
    {
     "name": "stdout",
     "output_type": "stream",
     "text": [
      "Loss of train: 0.00115\n",
      "Loss of val: 0.00131\n",
      "Loss of test: 0.00117\n",
      "Loss of gw_test: 0.00093\n",
      "[0.001499460170716884, 0.0014279301090452032, 0.00139251610015191, 0.00136812752152831, 0.001348865775017964, 0.0013384883029528558, 0.0013243257928879453, 0.0013160073465189515, 0.001312522641951361, 0.0013082416048320442, 0.001305807648335904]\n"
     ]
    },
    {
     "data": {
      "application/vnd.jupyter.widget-view+json": {
       "model_id": "65c19890610646a599c4af7d67f4ce87",
       "version_major": 2,
       "version_minor": 0
      },
      "text/plain": [
       "0it [00:00, ?it/s]"
      ]
     },
     "metadata": {},
     "output_type": "display_data"
    },
    {
     "name": "stdout",
     "output_type": "stream",
     "text": [
      "Loss of train: 0.00115\n",
      "Loss of val: 0.00130\n",
      "Loss of test: 0.00117\n",
      "Loss of gw_test: 0.00093\n",
      "[0.001499460170716884, 0.0014279301090452032, 0.00139251610015191, 0.00136812752152831, 0.001348865775017964, 0.0013384883029528558, 0.0013243257928879453, 0.0013160073465189515, 0.001312522641951361, 0.0013082416048320442, 0.001305807648335904, 0.0013036357768279152]\n"
     ]
    },
    {
     "data": {
      "application/vnd.jupyter.widget-view+json": {
       "model_id": "b1635c1d68dc4b029bb318cd7679b9d9",
       "version_major": 2,
       "version_minor": 0
      },
      "text/plain": [
       "0it [00:00, ?it/s]"
      ]
     },
     "metadata": {},
     "output_type": "display_data"
    },
    {
     "name": "stdout",
     "output_type": "stream",
     "text": [
      "Loss of train: 0.00115\n",
      "Loss of val: 0.00131\n",
      "Loss of test: 0.00117\n",
      "Loss of gw_test: 0.00093\n",
      "[0.001499460170716884, 0.0014279301090452032, 0.00139251610015191, 0.00136812752152831, 0.001348865775017964, 0.0013384883029528558, 0.0013243257928879453, 0.0013160073465189515, 0.001312522641951361, 0.0013082416048320442, 0.001305807648335904, 0.0013036357768279152, 0.0013092153031172688]\n",
      "Break at 12\n",
      "{'f1': 3, 'f2': 2, 'f3': 3, 'f4': 4, 'f5': 5}\n",
      "AUROC of val: 0.94556\n",
      "AUROC of test: 0.94618\n",
      "AUROC of gw_test: 0.95099\n"
     ]
    },
    {
     "data": {
      "application/vnd.jupyter.widget-view+json": {
       "model_id": "5786b5f6b7194f39a66ad94cd2bb890e",
       "version_major": 2,
       "version_minor": 0
      },
      "text/plain": [
       "0it [00:00, ?it/s]"
      ]
     },
     "metadata": {},
     "output_type": "display_data"
    },
    {
     "name": "stdout",
     "output_type": "stream",
     "text": [
      "Loss of train: 0.00130\n",
      "Loss of val: 0.00142\n",
      "Loss of test: 0.00129\n",
      "Loss of gw_test: 0.00109\n",
      "[0.001419931876174186]\n"
     ]
    },
    {
     "data": {
      "application/vnd.jupyter.widget-view+json": {
       "model_id": "277ed7e0ce744325a33ba64843c9cf06",
       "version_major": 2,
       "version_minor": 0
      },
      "text/plain": [
       "0it [00:00, ?it/s]"
      ]
     },
     "metadata": {},
     "output_type": "display_data"
    },
    {
     "name": "stdout",
     "output_type": "stream",
     "text": [
      "Loss of train: 0.00126\n",
      "Loss of val: 0.00138\n",
      "Loss of test: 0.00125\n",
      "Loss of gw_test: 0.00105\n",
      "[0.001419931876174186, 0.0013822040170700038]\n"
     ]
    },
    {
     "data": {
      "application/vnd.jupyter.widget-view+json": {
       "model_id": "fa49835d86a74e72aaadff000035054e",
       "version_major": 2,
       "version_minor": 0
      },
      "text/plain": [
       "0it [00:00, ?it/s]"
      ]
     },
     "metadata": {},
     "output_type": "display_data"
    },
    {
     "name": "stdout",
     "output_type": "stream",
     "text": [
      "Loss of train: 0.00124\n",
      "Loss of val: 0.00137\n",
      "Loss of test: 0.00123\n",
      "Loss of gw_test: 0.00104\n",
      "[0.001419931876174186, 0.0013822040170700038, 0.0013652584926314648]\n"
     ]
    },
    {
     "data": {
      "application/vnd.jupyter.widget-view+json": {
       "model_id": "e212508c915b4e40ab0c2b757d465073",
       "version_major": 2,
       "version_minor": 0
      },
      "text/plain": [
       "0it [00:00, ?it/s]"
      ]
     },
     "metadata": {},
     "output_type": "display_data"
    },
    {
     "name": "stdout",
     "output_type": "stream",
     "text": [
      "Loss of train: 0.00122\n",
      "Loss of val: 0.00135\n",
      "Loss of test: 0.00122\n",
      "Loss of gw_test: 0.00103\n",
      "[0.001419931876174186, 0.0013822040170700038, 0.0013652584926314648, 0.0013538325574496662]\n"
     ]
    },
    {
     "data": {
      "application/vnd.jupyter.widget-view+json": {
       "model_id": "cc6807f311084bb291b66c6a93b4dfe8",
       "version_major": 2,
       "version_minor": 0
      },
      "text/plain": [
       "0it [00:00, ?it/s]"
      ]
     },
     "metadata": {},
     "output_type": "display_data"
    },
    {
     "name": "stdout",
     "output_type": "stream",
     "text": [
      "Loss of train: 0.00121\n",
      "Loss of val: 0.00135\n",
      "Loss of test: 0.00121\n",
      "Loss of gw_test: 0.00102\n",
      "[0.001419931876174186, 0.0013822040170700038, 0.0013652584926314648, 0.0013538325574496662, 0.001345204177198568]\n"
     ]
    },
    {
     "data": {
      "application/vnd.jupyter.widget-view+json": {
       "model_id": "499fcd968d9849efb847887a73ff4a49",
       "version_major": 2,
       "version_minor": 0
      },
      "text/plain": [
       "0it [00:00, ?it/s]"
      ]
     },
     "metadata": {},
     "output_type": "display_data"
    },
    {
     "name": "stdout",
     "output_type": "stream",
     "text": [
      "Loss of train: 0.00120\n",
      "Loss of val: 0.00134\n",
      "Loss of test: 0.00121\n",
      "Loss of gw_test: 0.00101\n",
      "[0.001419931876174186, 0.0013822040170700038, 0.0013652584926314648, 0.0013538325574496662, 0.001345204177198568, 0.001339165465153505]\n"
     ]
    },
    {
     "data": {
      "application/vnd.jupyter.widget-view+json": {
       "model_id": "d7f27ce9eba244089a74051a85749521",
       "version_major": 2,
       "version_minor": 0
      },
      "text/plain": [
       "0it [00:00, ?it/s]"
      ]
     },
     "metadata": {},
     "output_type": "display_data"
    },
    {
     "name": "stdout",
     "output_type": "stream",
     "text": [
      "Loss of train: 0.00119\n",
      "Loss of val: 0.00134\n",
      "Loss of test: 0.00120\n",
      "Loss of gw_test: 0.00099\n",
      "[0.001419931876174186, 0.0013822040170700038, 0.0013652584926314648, 0.0013538325574496662, 0.001345204177198568, 0.001339165465153505, 0.0013359204603254368]\n"
     ]
    },
    {
     "data": {
      "application/vnd.jupyter.widget-view+json": {
       "model_id": "28f0e26d87f84a84b8816dc20faffa04",
       "version_major": 2,
       "version_minor": 0
      },
      "text/plain": [
       "0it [00:00, ?it/s]"
      ]
     },
     "metadata": {},
     "output_type": "display_data"
    },
    {
     "name": "stdout",
     "output_type": "stream",
     "text": [
      "Loss of train: 0.00118\n",
      "Loss of val: 0.00133\n",
      "Loss of test: 0.00120\n",
      "Loss of gw_test: 0.00098\n",
      "[0.001419931876174186, 0.0013822040170700038, 0.0013652584926314648, 0.0013538325574496662, 0.001345204177198568, 0.001339165465153505, 0.0013359204603254368, 0.0013339749692007142]\n"
     ]
    },
    {
     "data": {
      "application/vnd.jupyter.widget-view+json": {
       "model_id": "150afcfae9aa4de88280acd767c9fd99",
       "version_major": 2,
       "version_minor": 0
      },
      "text/plain": [
       "0it [00:00, ?it/s]"
      ]
     },
     "metadata": {},
     "output_type": "display_data"
    },
    {
     "name": "stdout",
     "output_type": "stream",
     "text": [
      "Loss of train: 0.00117\n",
      "Loss of val: 0.00133\n",
      "Loss of test: 0.00120\n",
      "Loss of gw_test: 0.00097\n",
      "[0.001419931876174186, 0.0013822040170700038, 0.0013652584926314648, 0.0013538325574496662, 0.001345204177198568, 0.001339165465153505, 0.0013359204603254368, 0.0013339749692007142, 0.001326033117546073]\n"
     ]
    },
    {
     "data": {
      "application/vnd.jupyter.widget-view+json": {
       "model_id": "61e201a86e714acda7cf090c8296bdf6",
       "version_major": 2,
       "version_minor": 0
      },
      "text/plain": [
       "0it [00:00, ?it/s]"
      ]
     },
     "metadata": {},
     "output_type": "display_data"
    },
    {
     "name": "stdout",
     "output_type": "stream",
     "text": [
      "Loss of train: 0.00117\n",
      "Loss of val: 0.00132\n",
      "Loss of test: 0.00120\n",
      "Loss of gw_test: 0.00097\n",
      "[0.001419931876174186, 0.0013822040170700038, 0.0013652584926314648, 0.0013538325574496662, 0.001345204177198568, 0.001339165465153505, 0.0013359204603254368, 0.0013339749692007142, 0.001326033117546073, 0.0013242891884657308]\n"
     ]
    },
    {
     "data": {
      "application/vnd.jupyter.widget-view+json": {
       "model_id": "8538f9a57aff4d07b89922ffbc522ed8",
       "version_major": 2,
       "version_minor": 0
      },
      "text/plain": [
       "0it [00:00, ?it/s]"
      ]
     },
     "metadata": {},
     "output_type": "display_data"
    },
    {
     "name": "stdout",
     "output_type": "stream",
     "text": [
      "Loss of train: 0.00116\n",
      "Loss of val: 0.00132\n",
      "Loss of test: 0.00120\n",
      "Loss of gw_test: 0.00096\n",
      "[0.001419931876174186, 0.0013822040170700038, 0.0013652584926314648, 0.0013538325574496662, 0.001345204177198568, 0.001339165465153505, 0.0013359204603254368, 0.0013339749692007142, 0.001326033117546073, 0.0013242891884657308, 0.0013206485755207391]\n"
     ]
    },
    {
     "data": {
      "application/vnd.jupyter.widget-view+json": {
       "model_id": "aab4d325f93a41b9b681fa063a84acba",
       "version_major": 2,
       "version_minor": 0
      },
      "text/plain": [
       "0it [00:00, ?it/s]"
      ]
     },
     "metadata": {},
     "output_type": "display_data"
    },
    {
     "name": "stdout",
     "output_type": "stream",
     "text": [
      "Loss of train: 0.00116\n",
      "Loss of val: 0.00132\n",
      "Loss of test: 0.00120\n",
      "Loss of gw_test: 0.00096\n",
      "[0.001419931876174186, 0.0013822040170700038, 0.0013652584926314648, 0.0013538325574496662, 0.001345204177198568, 0.001339165465153505, 0.0013359204603254368, 0.0013339749692007142, 0.001326033117546073, 0.0013242891884657308, 0.0013206485755207391, 0.001318141691637613]\n"
     ]
    },
    {
     "data": {
      "application/vnd.jupyter.widget-view+json": {
       "model_id": "67d09a54801c492e9044c065f29d7a8e",
       "version_major": 2,
       "version_minor": 0
      },
      "text/plain": [
       "0it [00:00, ?it/s]"
      ]
     },
     "metadata": {},
     "output_type": "display_data"
    },
    {
     "name": "stdout",
     "output_type": "stream",
     "text": [
      "Loss of train: 0.00115\n",
      "Loss of val: 0.00132\n",
      "Loss of test: 0.00120\n",
      "Loss of gw_test: 0.00096\n",
      "[0.001419931876174186, 0.0013822040170700038, 0.0013652584926314648, 0.0013538325574496662, 0.001345204177198568, 0.001339165465153505, 0.0013359204603254368, 0.0013339749692007142, 0.001326033117546073, 0.0013242891884657308, 0.0013206485755207391, 0.001318141691637613, 0.0013159511956885423]\n"
     ]
    },
    {
     "data": {
      "application/vnd.jupyter.widget-view+json": {
       "model_id": "246714907a55463aa0d5f5270da2f0db",
       "version_major": 2,
       "version_minor": 0
      },
      "text/plain": [
       "0it [00:00, ?it/s]"
      ]
     },
     "metadata": {},
     "output_type": "display_data"
    },
    {
     "name": "stdout",
     "output_type": "stream",
     "text": [
      "Loss of train: 0.00115\n",
      "Loss of val: 0.00132\n",
      "Loss of test: 0.00119\n",
      "Loss of gw_test: 0.00095\n",
      "[0.001419931876174186, 0.0013822040170700038, 0.0013652584926314648, 0.0013538325574496662, 0.001345204177198568, 0.001339165465153505, 0.0013359204603254368, 0.0013339749692007142, 0.001326033117546073, 0.0013242891884657308, 0.0013206485755207391, 0.001318141691637613, 0.0013159511956885423, 0.001315136377519856]\n"
     ]
    },
    {
     "data": {
      "application/vnd.jupyter.widget-view+json": {
       "model_id": "b9399d897bf14db9906cf5e6c113046e",
       "version_major": 2,
       "version_minor": 0
      },
      "text/plain": [
       "0it [00:00, ?it/s]"
      ]
     },
     "metadata": {},
     "output_type": "display_data"
    },
    {
     "name": "stdout",
     "output_type": "stream",
     "text": [
      "Loss of train: 0.00114\n",
      "Loss of val: 0.00131\n",
      "Loss of test: 0.00119\n",
      "Loss of gw_test: 0.00095\n",
      "[0.001419931876174186, 0.0013822040170700038, 0.0013652584926314648, 0.0013538325574496662, 0.001345204177198568, 0.001339165465153505, 0.0013359204603254368, 0.0013339749692007142, 0.001326033117546073, 0.0013242891884657308, 0.0013206485755207391, 0.001318141691637613, 0.0013159511956885423, 0.001315136377519856, 0.0013122318069671711]\n"
     ]
    },
    {
     "data": {
      "application/vnd.jupyter.widget-view+json": {
       "model_id": "e8f89da3410e4e689c96deb152908291",
       "version_major": 2,
       "version_minor": 0
      },
      "text/plain": [
       "0it [00:00, ?it/s]"
      ]
     },
     "metadata": {},
     "output_type": "display_data"
    },
    {
     "name": "stdout",
     "output_type": "stream",
     "text": [
      "Loss of train: 0.00114\n",
      "Loss of val: 0.00131\n",
      "Loss of test: 0.00119\n",
      "Loss of gw_test: 0.00095\n",
      "[0.001419931876174186, 0.0013822040170700038, 0.0013652584926314648, 0.0013538325574496662, 0.001345204177198568, 0.001339165465153505, 0.0013359204603254368, 0.0013339749692007142, 0.001326033117546073, 0.0013242891884657308, 0.0013206485755207391, 0.001318141691637613, 0.0013159511956885423, 0.001315136377519856, 0.0013122318069671711, 0.0013115637075551037]\n"
     ]
    },
    {
     "data": {
      "application/vnd.jupyter.widget-view+json": {
       "model_id": "9fbf8b10263b4720acc64bbf46ae6487",
       "version_major": 2,
       "version_minor": 0
      },
      "text/plain": [
       "0it [00:00, ?it/s]"
      ]
     },
     "metadata": {},
     "output_type": "display_data"
    },
    {
     "name": "stdout",
     "output_type": "stream",
     "text": [
      "Loss of train: 0.00113\n",
      "Loss of val: 0.00131\n",
      "Loss of test: 0.00119\n",
      "Loss of gw_test: 0.00095\n",
      "[0.001419931876174186, 0.0013822040170700038, 0.0013652584926314648, 0.0013538325574496662, 0.001345204177198568, 0.001339165465153505, 0.0013359204603254368, 0.0013339749692007142, 0.001326033117546073, 0.0013242891884657308, 0.0013206485755207391, 0.001318141691637613, 0.0013159511956885423, 0.001315136377519856, 0.0013122318069671711, 0.0013115637075551037, 0.0013123507616047496]\n",
      "Break at 16\n",
      "{'f1': 3, 'f2': 2, 'f3': 3, 'f4': 5, 'f5': 2}\n",
      "AUROC of val: 0.94751\n",
      "AUROC of test: 0.94681\n",
      "AUROC of gw_test: 0.95255\n"
     ]
    },
    {
     "data": {
      "application/vnd.jupyter.widget-view+json": {
       "model_id": "784c217c297044dc865a534d6452444c",
       "version_major": 2,
       "version_minor": 0
      },
      "text/plain": [
       "0it [00:00, ?it/s]"
      ]
     },
     "metadata": {},
     "output_type": "display_data"
    },
    {
     "name": "stdout",
     "output_type": "stream",
     "text": [
      "Loss of train: 0.00133\n",
      "Loss of val: 0.00153\n",
      "Loss of test: 0.00131\n",
      "Loss of gw_test: 0.00111\n",
      "[0.0015298207809429805]\n"
     ]
    },
    {
     "data": {
      "application/vnd.jupyter.widget-view+json": {
       "model_id": "675be7edccaa4fd997c4b73bb7cfbb5d",
       "version_major": 2,
       "version_minor": 0
      },
      "text/plain": [
       "0it [00:00, ?it/s]"
      ]
     },
     "metadata": {},
     "output_type": "display_data"
    },
    {
     "name": "stdout",
     "output_type": "stream",
     "text": [
      "Loss of train: 0.00126\n",
      "Loss of val: 0.00147\n",
      "Loss of test: 0.00122\n",
      "Loss of gw_test: 0.00106\n",
      "[0.0015298207809429805, 0.0014684702920479843]\n"
     ]
    },
    {
     "data": {
      "application/vnd.jupyter.widget-view+json": {
       "model_id": "56995828667b46749afe94c16687aecc",
       "version_major": 2,
       "version_minor": 0
      },
      "text/plain": [
       "0it [00:00, ?it/s]"
      ]
     },
     "metadata": {},
     "output_type": "display_data"
    },
    {
     "name": "stdout",
     "output_type": "stream",
     "text": [
      "Loss of train: 0.00124\n",
      "Loss of val: 0.00144\n",
      "Loss of test: 0.00119\n",
      "Loss of gw_test: 0.00104\n",
      "[0.0015298207809429805, 0.0014684702920479843, 0.0014415210824561687]\n"
     ]
    },
    {
     "data": {
      "application/vnd.jupyter.widget-view+json": {
       "model_id": "2317da6f12d444f793aa8f6a8cb8ca14",
       "version_major": 2,
       "version_minor": 0
      },
      "text/plain": [
       "0it [00:00, ?it/s]"
      ]
     },
     "metadata": {},
     "output_type": "display_data"
    },
    {
     "name": "stdout",
     "output_type": "stream",
     "text": [
      "Loss of train: 0.00123\n",
      "Loss of val: 0.00142\n",
      "Loss of test: 0.00117\n",
      "Loss of gw_test: 0.00103\n",
      "[0.0015298207809429805, 0.0014684702920479843, 0.0014415210824561687, 0.0014215729464556507]\n"
     ]
    },
    {
     "data": {
      "application/vnd.jupyter.widget-view+json": {
       "model_id": "d0c4f40fd36f453a862a1fb7457b8c65",
       "version_major": 2,
       "version_minor": 0
      },
      "text/plain": [
       "0it [00:00, ?it/s]"
      ]
     },
     "metadata": {},
     "output_type": "display_data"
    },
    {
     "name": "stdout",
     "output_type": "stream",
     "text": [
      "Loss of train: 0.00122\n",
      "Loss of val: 0.00141\n",
      "Loss of test: 0.00116\n",
      "Loss of gw_test: 0.00102\n",
      "[0.0015298207809429805, 0.0014684702920479843, 0.0014415210824561687, 0.0014215729464556507, 0.0014139819631764255]\n"
     ]
    },
    {
     "data": {
      "application/vnd.jupyter.widget-view+json": {
       "model_id": "36bbba9a0c0d47cfbdd4f13f3035547c",
       "version_major": 2,
       "version_minor": 0
      },
      "text/plain": [
       "0it [00:00, ?it/s]"
      ]
     },
     "metadata": {},
     "output_type": "display_data"
    },
    {
     "name": "stdout",
     "output_type": "stream",
     "text": [
      "Loss of train: 0.00121\n",
      "Loss of val: 0.00140\n",
      "Loss of test: 0.00115\n",
      "Loss of gw_test: 0.00102\n",
      "[0.0015298207809429805, 0.0014684702920479843, 0.0014415210824561687, 0.0014215729464556507, 0.0014139819631764255, 0.001398513450368025]\n"
     ]
    },
    {
     "data": {
      "application/vnd.jupyter.widget-view+json": {
       "model_id": "be0f4492cfd24e9bb2b4794bd4247fed",
       "version_major": 2,
       "version_minor": 0
      },
      "text/plain": [
       "0it [00:00, ?it/s]"
      ]
     },
     "metadata": {},
     "output_type": "display_data"
    },
    {
     "name": "stdout",
     "output_type": "stream",
     "text": [
      "Loss of train: 0.00120\n",
      "Loss of val: 0.00139\n",
      "Loss of test: 0.00115\n",
      "Loss of gw_test: 0.00102\n",
      "[0.0015298207809429805, 0.0014684702920479843, 0.0014415210824561687, 0.0014215729464556507, 0.0014139819631764255, 0.001398513450368025, 0.0013941615666716602]\n"
     ]
    },
    {
     "data": {
      "application/vnd.jupyter.widget-view+json": {
       "model_id": "18b7236af302499db6e3ae380d4d4c01",
       "version_major": 2,
       "version_minor": 0
      },
      "text/plain": [
       "0it [00:00, ?it/s]"
      ]
     },
     "metadata": {},
     "output_type": "display_data"
    },
    {
     "name": "stdout",
     "output_type": "stream",
     "text": [
      "Loss of train: 0.00120\n",
      "Loss of val: 0.00138\n",
      "Loss of test: 0.00114\n",
      "Loss of gw_test: 0.00101\n",
      "[0.0015298207809429805, 0.0014684702920479843, 0.0014415210824561687, 0.0014215729464556507, 0.0014139819631764255, 0.001398513450368025, 0.0013941615666716602, 0.0013797741650557623]\n"
     ]
    },
    {
     "data": {
      "application/vnd.jupyter.widget-view+json": {
       "model_id": "050e8d8be714459ca6807ecc01fd2d53",
       "version_major": 2,
       "version_minor": 0
      },
      "text/plain": [
       "0it [00:00, ?it/s]"
      ]
     },
     "metadata": {},
     "output_type": "display_data"
    },
    {
     "name": "stdout",
     "output_type": "stream",
     "text": [
      "Loss of train: 0.00119\n",
      "Loss of val: 0.00138\n",
      "Loss of test: 0.00114\n",
      "Loss of gw_test: 0.00101\n",
      "[0.0015298207809429805, 0.0014684702920479843, 0.0014415210824561687, 0.0014215729464556507, 0.0014139819631764255, 0.001398513450368025, 0.0013941615666716602, 0.0013797741650557623, 0.0013797646300676512]\n"
     ]
    },
    {
     "data": {
      "application/vnd.jupyter.widget-view+json": {
       "model_id": "837bf9dcc5d34c52ae2bc1533ac3a491",
       "version_major": 2,
       "version_minor": 0
      },
      "text/plain": [
       "0it [00:00, ?it/s]"
      ]
     },
     "metadata": {},
     "output_type": "display_data"
    },
    {
     "name": "stdout",
     "output_type": "stream",
     "text": [
      "Loss of train: 0.00119\n",
      "Loss of val: 0.00137\n",
      "Loss of test: 0.00114\n",
      "Loss of gw_test: 0.00101\n",
      "[0.0015298207809429805, 0.0014684702920479843, 0.0014415210824561687, 0.0014215729464556507, 0.0014139819631764255, 0.001398513450368025, 0.0013941615666716602, 0.0013797741650557623, 0.0013797646300676512, 0.0013668859907387592]\n"
     ]
    },
    {
     "data": {
      "application/vnd.jupyter.widget-view+json": {
       "model_id": "052c82a9c4dc4a28aadb45b50ec8ba24",
       "version_major": 2,
       "version_minor": 0
      },
      "text/plain": [
       "0it [00:00, ?it/s]"
      ]
     },
     "metadata": {},
     "output_type": "display_data"
    },
    {
     "name": "stdout",
     "output_type": "stream",
     "text": [
      "Loss of train: 0.00119\n",
      "Loss of val: 0.00137\n",
      "Loss of test: 0.00115\n",
      "Loss of gw_test: 0.00101\n",
      "[0.0015298207809429805, 0.0014684702920479843, 0.0014415210824561687, 0.0014215729464556507, 0.0014139819631764255, 0.001398513450368025, 0.0013941615666716602, 0.0013797741650557623, 0.0013797646300676512, 0.0013668859907387592, 0.0013683890622243238]\n",
      "Break at 10\n",
      "{'f1': 3, 'f2': 2, 'f3': 3, 'f4': 5, 'f5': 3}\n",
      "AUROC of val: 0.94465\n",
      "AUROC of test: 0.94908\n",
      "AUROC of gw_test: 0.94580\n"
     ]
    },
    {
     "data": {
      "application/vnd.jupyter.widget-view+json": {
       "model_id": "fbd12fae21f04152815d0b24a18e6b97",
       "version_major": 2,
       "version_minor": 0
      },
      "text/plain": [
       "0it [00:00, ?it/s]"
      ]
     },
     "metadata": {},
     "output_type": "display_data"
    },
    {
     "name": "stdout",
     "output_type": "stream",
     "text": [
      "Loss of train: 0.00126\n",
      "Loss of val: 0.00141\n",
      "Loss of test: 0.00121\n",
      "Loss of gw_test: 0.00104\n",
      "[0.0014068512196722365]\n"
     ]
    },
    {
     "data": {
      "application/vnd.jupyter.widget-view+json": {
       "model_id": "19d03df46a4b47e2a9f844f600b3bb56",
       "version_major": 2,
       "version_minor": 0
      },
      "text/plain": [
       "0it [00:00, ?it/s]"
      ]
     },
     "metadata": {},
     "output_type": "display_data"
    },
    {
     "name": "stdout",
     "output_type": "stream",
     "text": [
      "Loss of train: 0.00120\n",
      "Loss of val: 0.00136\n",
      "Loss of test: 0.00116\n",
      "Loss of gw_test: 0.00099\n",
      "[0.0014068512196722365, 0.0013613597317165683]\n"
     ]
    },
    {
     "data": {
      "application/vnd.jupyter.widget-view+json": {
       "model_id": "9dda1fc2a6b44d2dae73df7804bb48a4",
       "version_major": 2,
       "version_minor": 0
      },
      "text/plain": [
       "0it [00:00, ?it/s]"
      ]
     },
     "metadata": {},
     "output_type": "display_data"
    },
    {
     "name": "stdout",
     "output_type": "stream",
     "text": [
      "Loss of train: 0.00118\n",
      "Loss of val: 0.00134\n",
      "Loss of test: 0.00115\n",
      "Loss of gw_test: 0.00098\n",
      "[0.0014068512196722365, 0.0013613597317165683, 0.0013435368554731025]\n"
     ]
    },
    {
     "data": {
      "application/vnd.jupyter.widget-view+json": {
       "model_id": "433efc388d76465a83098bc625416973",
       "version_major": 2,
       "version_minor": 0
      },
      "text/plain": [
       "0it [00:00, ?it/s]"
      ]
     },
     "metadata": {},
     "output_type": "display_data"
    },
    {
     "name": "stdout",
     "output_type": "stream",
     "text": [
      "Loss of train: 0.00117\n",
      "Loss of val: 0.00133\n",
      "Loss of test: 0.00115\n",
      "Loss of gw_test: 0.00096\n",
      "[0.0014068512196722365, 0.0013613597317165683, 0.0013435368554731025, 0.0013292660048905445]\n"
     ]
    },
    {
     "data": {
      "application/vnd.jupyter.widget-view+json": {
       "model_id": "14a81bbfda9b4948bd4ff14802ed8229",
       "version_major": 2,
       "version_minor": 0
      },
      "text/plain": [
       "0it [00:00, ?it/s]"
      ]
     },
     "metadata": {},
     "output_type": "display_data"
    },
    {
     "name": "stdout",
     "output_type": "stream",
     "text": [
      "Loss of train: 0.00116\n",
      "Loss of val: 0.00132\n",
      "Loss of test: 0.00115\n",
      "Loss of gw_test: 0.00095\n",
      "[0.0014068512196722365, 0.0013613597317165683, 0.0013435368554731025, 0.0013292660048905445, 0.0013157974914262442]\n"
     ]
    },
    {
     "data": {
      "application/vnd.jupyter.widget-view+json": {
       "model_id": "0e19967bc3994be79530fc3560a5a117",
       "version_major": 2,
       "version_minor": 0
      },
      "text/plain": [
       "0it [00:00, ?it/s]"
      ]
     },
     "metadata": {},
     "output_type": "display_data"
    },
    {
     "name": "stdout",
     "output_type": "stream",
     "text": [
      "Loss of train: 0.00116\n",
      "Loss of val: 0.00130\n",
      "Loss of test: 0.00115\n",
      "Loss of gw_test: 0.00095\n",
      "[0.0014068512196722365, 0.0013613597317165683, 0.0013435368554731025, 0.0013292660048905445, 0.0013157974914262442, 0.0013041606302026413]\n"
     ]
    },
    {
     "data": {
      "application/vnd.jupyter.widget-view+json": {
       "model_id": "463cedac25584c348f3956fff706884d",
       "version_major": 2,
       "version_minor": 0
      },
      "text/plain": [
       "0it [00:00, ?it/s]"
      ]
     },
     "metadata": {},
     "output_type": "display_data"
    },
    {
     "name": "stdout",
     "output_type": "stream",
     "text": [
      "Loss of train: 0.00115\n",
      "Loss of val: 0.00129\n",
      "Loss of test: 0.00116\n",
      "Loss of gw_test: 0.00094\n",
      "[0.0014068512196722365, 0.0013613597317165683, 0.0013435368554731025, 0.0013292660048905445, 0.0013157974914262442, 0.0013041606302026413, 0.0012938563336867457]\n"
     ]
    },
    {
     "data": {
      "application/vnd.jupyter.widget-view+json": {
       "model_id": "4802a9ec46de44768020fea4a48d6358",
       "version_major": 2,
       "version_minor": 0
      },
      "text/plain": [
       "0it [00:00, ?it/s]"
      ]
     },
     "metadata": {},
     "output_type": "display_data"
    },
    {
     "name": "stdout",
     "output_type": "stream",
     "text": [
      "Loss of train: 0.00115\n",
      "Loss of val: 0.00129\n",
      "Loss of test: 0.00116\n",
      "Loss of gw_test: 0.00094\n",
      "[0.0014068512196722365, 0.0013613597317165683, 0.0013435368554731025, 0.0013292660048905445, 0.0013157974914262442, 0.0013041606302026413, 0.0012938563336867457, 0.0012869780702062102]\n"
     ]
    },
    {
     "data": {
      "application/vnd.jupyter.widget-view+json": {
       "model_id": "8ffa50846c774f3bbe21e0de2afe5442",
       "version_major": 2,
       "version_minor": 0
      },
      "text/plain": [
       "0it [00:00, ?it/s]"
      ]
     },
     "metadata": {},
     "output_type": "display_data"
    },
    {
     "name": "stdout",
     "output_type": "stream",
     "text": [
      "Loss of train: 0.00116\n",
      "Loss of val: 0.00130\n",
      "Loss of test: 0.00116\n",
      "Loss of gw_test: 0.00097\n",
      "[0.0014068512196722365, 0.0013613597317165683, 0.0013435368554731025, 0.0013292660048905445, 0.0013157974914262442, 0.0013041606302026413, 0.0012938563336867457, 0.0012869780702062102, 0.0013041537965005753]\n",
      "Break at 8\n",
      "{'f1': 3, 'f2': 2, 'f3': 3, 'f4': 5, 'f5': 4}\n",
      "AUROC of val: 0.94680\n",
      "AUROC of test: 0.94712\n",
      "AUROC of gw_test: 0.95144\n"
     ]
    },
    {
     "data": {
      "application/vnd.jupyter.widget-view+json": {
       "model_id": "4c59ad1db8be449a9af38f2323648e0d",
       "version_major": 2,
       "version_minor": 0
      },
      "text/plain": [
       "0it [00:00, ?it/s]"
      ]
     },
     "metadata": {},
     "output_type": "display_data"
    },
    {
     "name": "stdout",
     "output_type": "stream",
     "text": [
      "Loss of train: 0.00140\n",
      "Loss of val: 0.00153\n",
      "Loss of test: 0.00135\n",
      "Loss of gw_test: 0.00118\n",
      "[0.0015337790975473975]\n"
     ]
    },
    {
     "data": {
      "application/vnd.jupyter.widget-view+json": {
       "model_id": "f601c57443de4edfb317f12decbec894",
       "version_major": 2,
       "version_minor": 0
      },
      "text/plain": [
       "0it [00:00, ?it/s]"
      ]
     },
     "metadata": {},
     "output_type": "display_data"
    },
    {
     "name": "stdout",
     "output_type": "stream",
     "text": [
      "Loss of train: 0.00131\n",
      "Loss of val: 0.00143\n",
      "Loss of test: 0.00127\n",
      "Loss of gw_test: 0.00112\n",
      "[0.0015337790975473975, 0.001432622766176697]\n"
     ]
    },
    {
     "data": {
      "application/vnd.jupyter.widget-view+json": {
       "model_id": "64d755abd277485290b7250fc8217ccc",
       "version_major": 2,
       "version_minor": 0
      },
      "text/plain": [
       "0it [00:00, ?it/s]"
      ]
     },
     "metadata": {},
     "output_type": "display_data"
    },
    {
     "name": "stdout",
     "output_type": "stream",
     "text": [
      "Loss of train: 0.00128\n",
      "Loss of val: 0.00138\n",
      "Loss of test: 0.00124\n",
      "Loss of gw_test: 0.00108\n",
      "[0.0015337790975473975, 0.001432622766176697, 0.0013825659405858857]\n"
     ]
    },
    {
     "data": {
      "application/vnd.jupyter.widget-view+json": {
       "model_id": "1ed3ad56788349ddad8c95e79c053cac",
       "version_major": 2,
       "version_minor": 0
      },
      "text/plain": [
       "0it [00:00, ?it/s]"
      ]
     },
     "metadata": {},
     "output_type": "display_data"
    },
    {
     "name": "stdout",
     "output_type": "stream",
     "text": [
      "Loss of train: 0.00125\n",
      "Loss of val: 0.00136\n",
      "Loss of test: 0.00124\n",
      "Loss of gw_test: 0.00106\n",
      "[0.0015337790975473975, 0.001432622766176697, 0.0013825659405858857, 0.0013567012315267276]\n"
     ]
    },
    {
     "data": {
      "application/vnd.jupyter.widget-view+json": {
       "model_id": "d7692cfd77cc4e8ea9bae8ea42690fa2",
       "version_major": 2,
       "version_minor": 0
      },
      "text/plain": [
       "0it [00:00, ?it/s]"
      ]
     },
     "metadata": {},
     "output_type": "display_data"
    },
    {
     "name": "stdout",
     "output_type": "stream",
     "text": [
      "Loss of train: 0.00123\n",
      "Loss of val: 0.00134\n",
      "Loss of test: 0.00123\n",
      "Loss of gw_test: 0.00105\n",
      "[0.0015337790975473975, 0.001432622766176697, 0.0013825659405858857, 0.0013567012315267276, 0.001343461624367527]\n"
     ]
    },
    {
     "data": {
      "application/vnd.jupyter.widget-view+json": {
       "model_id": "c7242156f19f4bc7aad90bab61cd95d7",
       "version_major": 2,
       "version_minor": 0
      },
      "text/plain": [
       "0it [00:00, ?it/s]"
      ]
     },
     "metadata": {},
     "output_type": "display_data"
    },
    {
     "name": "stdout",
     "output_type": "stream",
     "text": [
      "Loss of train: 0.00122\n",
      "Loss of val: 0.00134\n",
      "Loss of test: 0.00123\n",
      "Loss of gw_test: 0.00104\n",
      "[0.0015337790975473975, 0.001432622766176697, 0.0013825659405858857, 0.0013567012315267276, 0.001343461624367527, 0.0013360480883668638]\n"
     ]
    },
    {
     "data": {
      "application/vnd.jupyter.widget-view+json": {
       "model_id": "2ebf4267fae849b3a4cbf082f09834e7",
       "version_major": 2,
       "version_minor": 0
      },
      "text/plain": [
       "0it [00:00, ?it/s]"
      ]
     },
     "metadata": {},
     "output_type": "display_data"
    },
    {
     "name": "stdout",
     "output_type": "stream",
     "text": [
      "Loss of train: 0.00121\n",
      "Loss of val: 0.00133\n",
      "Loss of test: 0.00123\n",
      "Loss of gw_test: 0.00104\n",
      "[0.0015337790975473975, 0.001432622766176697, 0.0013825659405858857, 0.0013567012315267276, 0.001343461624367527, 0.0013360480883668638, 0.0013305557643652443]\n"
     ]
    },
    {
     "data": {
      "application/vnd.jupyter.widget-view+json": {
       "model_id": "23e132204fa64302b664457f01bca13c",
       "version_major": 2,
       "version_minor": 0
      },
      "text/plain": [
       "0it [00:00, ?it/s]"
      ]
     },
     "metadata": {},
     "output_type": "display_data"
    },
    {
     "name": "stdout",
     "output_type": "stream",
     "text": [
      "Loss of train: 0.00121\n",
      "Loss of val: 0.00133\n",
      "Loss of test: 0.00123\n",
      "Loss of gw_test: 0.00104\n",
      "[0.0015337790975473975, 0.001432622766176697, 0.0013825659405858857, 0.0013567012315267276, 0.001343461624367527, 0.0013360480883668638, 0.0013305557643652443, 0.001325152095931118]\n"
     ]
    },
    {
     "data": {
      "application/vnd.jupyter.widget-view+json": {
       "model_id": "6219d71c4e064c649520986f3590da4e",
       "version_major": 2,
       "version_minor": 0
      },
      "text/plain": [
       "0it [00:00, ?it/s]"
      ]
     },
     "metadata": {},
     "output_type": "display_data"
    },
    {
     "name": "stdout",
     "output_type": "stream",
     "text": [
      "Loss of train: 0.00120\n",
      "Loss of val: 0.00132\n",
      "Loss of test: 0.00123\n",
      "Loss of gw_test: 0.00103\n",
      "[0.0015337790975473975, 0.001432622766176697, 0.0013825659405858857, 0.0013567012315267276, 0.001343461624367527, 0.0013360480883668638, 0.0013305557643652443, 0.001325152095931118, 0.0013183190263331976]\n"
     ]
    },
    {
     "data": {
      "application/vnd.jupyter.widget-view+json": {
       "model_id": "1a4103436ad24a13ad493ee3e1eba191",
       "version_major": 2,
       "version_minor": 0
      },
      "text/plain": [
       "0it [00:00, ?it/s]"
      ]
     },
     "metadata": {},
     "output_type": "display_data"
    },
    {
     "name": "stdout",
     "output_type": "stream",
     "text": [
      "Loss of train: 0.00120\n",
      "Loss of val: 0.00131\n",
      "Loss of test: 0.00123\n",
      "Loss of gw_test: 0.00103\n",
      "[0.0015337790975473975, 0.001432622766176697, 0.0013825659405858857, 0.0013567012315267276, 0.001343461624367527, 0.0013360480883668638, 0.0013305557643652443, 0.001325152095931118, 0.0013183190263331976, 0.0013113453988634082]\n"
     ]
    },
    {
     "data": {
      "application/vnd.jupyter.widget-view+json": {
       "model_id": "eebd7cb1036e48a29fd49eabe680bd51",
       "version_major": 2,
       "version_minor": 0
      },
      "text/plain": [
       "0it [00:00, ?it/s]"
      ]
     },
     "metadata": {},
     "output_type": "display_data"
    },
    {
     "name": "stdout",
     "output_type": "stream",
     "text": [
      "Loss of train: 0.00119\n",
      "Loss of val: 0.00130\n",
      "Loss of test: 0.00123\n",
      "Loss of gw_test: 0.00102\n",
      "[0.0015337790975473975, 0.001432622766176697, 0.0013825659405858857, 0.0013567012315267276, 0.001343461624367527, 0.0013360480883668638, 0.0013305557643652443, 0.001325152095931118, 0.0013183190263331976, 0.0013113453988634082, 0.001304592523615596]\n"
     ]
    },
    {
     "data": {
      "application/vnd.jupyter.widget-view+json": {
       "model_id": "445f84a2064446918a2b4fd0f19ad9cb",
       "version_major": 2,
       "version_minor": 0
      },
      "text/plain": [
       "0it [00:00, ?it/s]"
      ]
     },
     "metadata": {},
     "output_type": "display_data"
    },
    {
     "name": "stdout",
     "output_type": "stream",
     "text": [
      "Loss of train: 0.00119\n",
      "Loss of val: 0.00130\n",
      "Loss of test: 0.00123\n",
      "Loss of gw_test: 0.00101\n",
      "[0.0015337790975473975, 0.001432622766176697, 0.0013825659405858857, 0.0013567012315267276, 0.001343461624367527, 0.0013360480883668638, 0.0013305557643652443, 0.001325152095931118, 0.0013183190263331976, 0.0013113453988634082, 0.001304592523615596, 0.0012992516526399752]\n"
     ]
    },
    {
     "data": {
      "application/vnd.jupyter.widget-view+json": {
       "model_id": "4161cee97fcb43c1b01851c26cf97052",
       "version_major": 2,
       "version_minor": 0
      },
      "text/plain": [
       "0it [00:00, ?it/s]"
      ]
     },
     "metadata": {},
     "output_type": "display_data"
    },
    {
     "name": "stdout",
     "output_type": "stream",
     "text": [
      "Loss of train: 0.00119\n",
      "Loss of val: 0.00129\n",
      "Loss of test: 0.00123\n",
      "Loss of gw_test: 0.00101\n",
      "[0.0015337790975473975, 0.001432622766176697, 0.0013825659405858857, 0.0013567012315267276, 0.001343461624367527, 0.0013360480883668638, 0.0013305557643652443, 0.001325152095931118, 0.0013183190263331976, 0.0013113453988634082, 0.001304592523615596, 0.0012992516526399752, 0.0012933877712362838]\n"
     ]
    },
    {
     "data": {
      "application/vnd.jupyter.widget-view+json": {
       "model_id": "c50d3673d8a843fb81c08ad364868c1c",
       "version_major": 2,
       "version_minor": 0
      },
      "text/plain": [
       "0it [00:00, ?it/s]"
      ]
     },
     "metadata": {},
     "output_type": "display_data"
    },
    {
     "name": "stdout",
     "output_type": "stream",
     "text": [
      "Loss of train: 0.00118\n",
      "Loss of val: 0.00129\n",
      "Loss of test: 0.00123\n",
      "Loss of gw_test: 0.00100\n",
      "[0.0015337790975473975, 0.001432622766176697, 0.0013825659405858857, 0.0013567012315267276, 0.001343461624367527, 0.0013360480883668638, 0.0013305557643652443, 0.001325152095931118, 0.0013183190263331976, 0.0013113453988634082, 0.001304592523615596, 0.0012992516526399752, 0.0012933877712362838, 0.001287750824383696]\n"
     ]
    },
    {
     "data": {
      "application/vnd.jupyter.widget-view+json": {
       "model_id": "e19e7dacb9a14d039e26ef1e7a9e2d53",
       "version_major": 2,
       "version_minor": 0
      },
      "text/plain": [
       "0it [00:00, ?it/s]"
      ]
     },
     "metadata": {},
     "output_type": "display_data"
    },
    {
     "name": "stdout",
     "output_type": "stream",
     "text": [
      "Loss of train: 0.00118\n",
      "Loss of val: 0.00128\n",
      "Loss of test: 0.00123\n",
      "Loss of gw_test: 0.00100\n",
      "[0.0015337790975473975, 0.001432622766176697, 0.0013825659405858857, 0.0013567012315267276, 0.001343461624367527, 0.0013360480883668638, 0.0013305557643652443, 0.001325152095931118, 0.0013183190263331976, 0.0013113453988634082, 0.001304592523615596, 0.0012992516526399752, 0.0012933877712362838, 0.001287750824383696, 0.0012828271035299505]\n"
     ]
    },
    {
     "data": {
      "application/vnd.jupyter.widget-view+json": {
       "model_id": "027ca0abe13d4797a3a82788ea14bd2c",
       "version_major": 2,
       "version_minor": 0
      },
      "text/plain": [
       "0it [00:00, ?it/s]"
      ]
     },
     "metadata": {},
     "output_type": "display_data"
    },
    {
     "name": "stdout",
     "output_type": "stream",
     "text": [
      "Loss of train: 0.00118\n",
      "Loss of val: 0.00128\n",
      "Loss of test: 0.00123\n",
      "Loss of gw_test: 0.00100\n",
      "[0.0015337790975473975, 0.001432622766176697, 0.0013825659405858857, 0.0013567012315267276, 0.001343461624367527, 0.0013360480883668638, 0.0013305557643652443, 0.001325152095931118, 0.0013183190263331976, 0.0013113453988634082, 0.001304592523615596, 0.0012992516526399752, 0.0012933877712362838, 0.001287750824383696, 0.0012828271035299505, 0.0012774174059811255]\n"
     ]
    },
    {
     "data": {
      "application/vnd.jupyter.widget-view+json": {
       "model_id": "67db9e01b5164cf189f8c8a2715bc1b3",
       "version_major": 2,
       "version_minor": 0
      },
      "text/plain": [
       "0it [00:00, ?it/s]"
      ]
     },
     "metadata": {},
     "output_type": "display_data"
    },
    {
     "name": "stdout",
     "output_type": "stream",
     "text": [
      "Loss of train: 0.00118\n",
      "Loss of val: 0.00127\n",
      "Loss of test: 0.00123\n",
      "Loss of gw_test: 0.00100\n",
      "[0.0015337790975473975, 0.001432622766176697, 0.0013825659405858857, 0.0013567012315267276, 0.001343461624367527, 0.0013360480883668638, 0.0013305557643652443, 0.001325152095931118, 0.0013183190263331976, 0.0013113453988634082, 0.001304592523615596, 0.0012992516526399752, 0.0012933877712362838, 0.001287750824383696, 0.0012828271035299505, 0.0012774174059811255, 0.001272428710641405]\n"
     ]
    },
    {
     "data": {
      "application/vnd.jupyter.widget-view+json": {
       "model_id": "ead3c6f623fa4f2d8eb8a159dc846194",
       "version_major": 2,
       "version_minor": 0
      },
      "text/plain": [
       "0it [00:00, ?it/s]"
      ]
     },
     "metadata": {},
     "output_type": "display_data"
    },
    {
     "name": "stdout",
     "output_type": "stream",
     "text": [
      "Loss of train: 0.00117\n",
      "Loss of val: 0.00127\n",
      "Loss of test: 0.00123\n",
      "Loss of gw_test: 0.00099\n",
      "[0.0015337790975473975, 0.001432622766176697, 0.0013825659405858857, 0.0013567012315267276, 0.001343461624367527, 0.0013360480883668638, 0.0013305557643652443, 0.001325152095931118, 0.0013183190263331976, 0.0013113453988634082, 0.001304592523615596, 0.0012992516526399752, 0.0012933877712362838, 0.001287750824383696, 0.0012828271035299505, 0.0012774174059811255, 0.001272428710641405, 0.0012677507715474156]\n"
     ]
    },
    {
     "data": {
      "application/vnd.jupyter.widget-view+json": {
       "model_id": "4e2010d414394eb1ba29e61e6a33c9c7",
       "version_major": 2,
       "version_minor": 0
      },
      "text/plain": [
       "0it [00:00, ?it/s]"
      ]
     },
     "metadata": {},
     "output_type": "display_data"
    },
    {
     "name": "stdout",
     "output_type": "stream",
     "text": [
      "Loss of train: 0.00117\n",
      "Loss of val: 0.00126\n",
      "Loss of test: 0.00123\n",
      "Loss of gw_test: 0.00099\n",
      "[0.0015337790975473975, 0.001432622766176697, 0.0013825659405858857, 0.0013567012315267276, 0.001343461624367527, 0.0013360480883668638, 0.0013305557643652443, 0.001325152095931118, 0.0013183190263331976, 0.0013113453988634082, 0.001304592523615596, 0.0012992516526399752, 0.0012933877712362838, 0.001287750824383696, 0.0012828271035299505, 0.0012774174059811255, 0.001272428710641405, 0.0012677507715474156, 0.001263661780671442]\n"
     ]
    },
    {
     "data": {
      "application/vnd.jupyter.widget-view+json": {
       "model_id": "40c0b77219ba46898f1df4c83158d553",
       "version_major": 2,
       "version_minor": 0
      },
      "text/plain": [
       "0it [00:00, ?it/s]"
      ]
     },
     "metadata": {},
     "output_type": "display_data"
    },
    {
     "name": "stdout",
     "output_type": "stream",
     "text": [
      "Loss of train: 0.00117\n",
      "Loss of val: 0.00126\n",
      "Loss of test: 0.00122\n",
      "Loss of gw_test: 0.00099\n",
      "[0.0015337790975473975, 0.001432622766176697, 0.0013825659405858857, 0.0013567012315267276, 0.001343461624367527, 0.0013360480883668638, 0.0013305557643652443, 0.001325152095931118, 0.0013183190263331976, 0.0013113453988634082, 0.001304592523615596, 0.0012992516526399752, 0.0012933877712362838, 0.001287750824383696, 0.0012828271035299505, 0.0012774174059811255, 0.001272428710641405, 0.0012677507715474156, 0.001263661780671442, 0.0012600849473938366]\n"
     ]
    },
    {
     "data": {
      "application/vnd.jupyter.widget-view+json": {
       "model_id": "95d98379f86b4f02803c99ac6bc3f544",
       "version_major": 2,
       "version_minor": 0
      },
      "text/plain": [
       "0it [00:00, ?it/s]"
      ]
     },
     "metadata": {},
     "output_type": "display_data"
    },
    {
     "name": "stdout",
     "output_type": "stream",
     "text": [
      "Loss of train: 0.00117\n",
      "Loss of val: 0.00126\n",
      "Loss of test: 0.00122\n",
      "Loss of gw_test: 0.00099\n",
      "[0.0015337790975473975, 0.001432622766176697, 0.0013825659405858857, 0.0013567012315267276, 0.001343461624367527, 0.0013360480883668638, 0.0013305557643652443, 0.001325152095931118, 0.0013183190263331976, 0.0013113453988634082, 0.001304592523615596, 0.0012992516526399752, 0.0012933877712362838, 0.001287750824383696, 0.0012828271035299505, 0.0012774174059811255, 0.001272428710641405, 0.0012677507715474156, 0.001263661780671442, 0.0012600849473938366, 0.001256920812131577]\n"
     ]
    },
    {
     "data": {
      "application/vnd.jupyter.widget-view+json": {
       "model_id": "a0006979b42b477aa00242f589b6ed1f",
       "version_major": 2,
       "version_minor": 0
      },
      "text/plain": [
       "0it [00:00, ?it/s]"
      ]
     },
     "metadata": {},
     "output_type": "display_data"
    },
    {
     "name": "stdout",
     "output_type": "stream",
     "text": [
      "Loss of train: 0.00117\n",
      "Loss of val: 0.00125\n",
      "Loss of test: 0.00122\n",
      "Loss of gw_test: 0.00099\n",
      "[0.0015337790975473975, 0.001432622766176697, 0.0013825659405858857, 0.0013567012315267276, 0.001343461624367527, 0.0013360480883668638, 0.0013305557643652443, 0.001325152095931118, 0.0013183190263331976, 0.0013113453988634082, 0.001304592523615596, 0.0012992516526399752, 0.0012933877712362838, 0.001287750824383696, 0.0012828271035299505, 0.0012774174059811255, 0.001272428710641405, 0.0012677507715474156, 0.001263661780671442, 0.0012600849473938366, 0.001256920812131577, 0.0012539444607606474]\n"
     ]
    },
    {
     "data": {
      "application/vnd.jupyter.widget-view+json": {
       "model_id": "02bb00acfab045758a450cd3ae3ecfa3",
       "version_major": 2,
       "version_minor": 0
      },
      "text/plain": [
       "0it [00:00, ?it/s]"
      ]
     },
     "metadata": {},
     "output_type": "display_data"
    },
    {
     "name": "stdout",
     "output_type": "stream",
     "text": [
      "Loss of train: 0.00117\n",
      "Loss of val: 0.00125\n",
      "Loss of test: 0.00122\n",
      "Loss of gw_test: 0.00099\n",
      "[0.0015337790975473975, 0.001432622766176697, 0.0013825659405858857, 0.0013567012315267276, 0.001343461624367527, 0.0013360480883668638, 0.0013305557643652443, 0.001325152095931118, 0.0013183190263331976, 0.0013113453988634082, 0.001304592523615596, 0.0012992516526399752, 0.0012933877712362838, 0.001287750824383696, 0.0012828271035299505, 0.0012774174059811255, 0.001272428710641405, 0.0012677507715474156, 0.001263661780671442, 0.0012600849473938366, 0.001256920812131577, 0.0012539444607606474, 0.0012511936985883521]\n"
     ]
    },
    {
     "data": {
      "application/vnd.jupyter.widget-view+json": {
       "model_id": "1e678adbef1b493bbb9b5abc60e553d3",
       "version_major": 2,
       "version_minor": 0
      },
      "text/plain": [
       "0it [00:00, ?it/s]"
      ]
     },
     "metadata": {},
     "output_type": "display_data"
    },
    {
     "name": "stdout",
     "output_type": "stream",
     "text": [
      "Loss of train: 0.00116\n",
      "Loss of val: 0.00125\n",
      "Loss of test: 0.00122\n",
      "Loss of gw_test: 0.00099\n",
      "[0.0015337790975473975, 0.001432622766176697, 0.0013825659405858857, 0.0013567012315267276, 0.001343461624367527, 0.0013360480883668638, 0.0013305557643652443, 0.001325152095931118, 0.0013183190263331976, 0.0013113453988634082, 0.001304592523615596, 0.0012992516526399752, 0.0012933877712362838, 0.001287750824383696, 0.0012828271035299505, 0.0012774174059811255, 0.001272428710641405, 0.0012677507715474156, 0.001263661780671442, 0.0012600849473938366, 0.001256920812131577, 0.0012539444607606474, 0.0012511936985883521, 0.001248780803855993]\n"
     ]
    },
    {
     "data": {
      "application/vnd.jupyter.widget-view+json": {
       "model_id": "42d9e2e765c14a2b9b2b32b896702f2f",
       "version_major": 2,
       "version_minor": 0
      },
      "text/plain": [
       "0it [00:00, ?it/s]"
      ]
     },
     "metadata": {},
     "output_type": "display_data"
    },
    {
     "name": "stdout",
     "output_type": "stream",
     "text": [
      "Loss of train: 0.00116\n",
      "Loss of val: 0.00125\n",
      "Loss of test: 0.00122\n",
      "Loss of gw_test: 0.00099\n",
      "[0.0015337790975473975, 0.001432622766176697, 0.0013825659405858857, 0.0013567012315267276, 0.001343461624367527, 0.0013360480883668638, 0.0013305557643652443, 0.001325152095931118, 0.0013183190263331976, 0.0013113453988634082, 0.001304592523615596, 0.0012992516526399752, 0.0012933877712362838, 0.001287750824383696, 0.0012828271035299505, 0.0012774174059811255, 0.001272428710641405, 0.0012677507715474156, 0.001263661780671442, 0.0012600849473938366, 0.001256920812131577, 0.0012539444607606474, 0.0012511936985883521, 0.001248780803855993, 0.0012467303873716787]\n"
     ]
    },
    {
     "data": {
      "application/vnd.jupyter.widget-view+json": {
       "model_id": "88aa4b25f8794690808446703a658d35",
       "version_major": 2,
       "version_minor": 0
      },
      "text/plain": [
       "0it [00:00, ?it/s]"
      ]
     },
     "metadata": {},
     "output_type": "display_data"
    },
    {
     "name": "stdout",
     "output_type": "stream",
     "text": [
      "Loss of train: 0.00116\n",
      "Loss of val: 0.00124\n",
      "Loss of test: 0.00122\n",
      "Loss of gw_test: 0.00098\n",
      "[0.0015337790975473975, 0.001432622766176697, 0.0013825659405858857, 0.0013567012315267276, 0.001343461624367527, 0.0013360480883668638, 0.0013305557643652443, 0.001325152095931118, 0.0013183190263331976, 0.0013113453988634082, 0.001304592523615596, 0.0012992516526399752, 0.0012933877712362838, 0.001287750824383696, 0.0012828271035299505, 0.0012774174059811255, 0.001272428710641405, 0.0012677507715474156, 0.001263661780671442, 0.0012600849473938366, 0.001256920812131577, 0.0012539444607606474, 0.0012511936985883521, 0.001248780803855993, 0.0012467303873716787, 0.0012448461554946844]\n"
     ]
    },
    {
     "data": {
      "application/vnd.jupyter.widget-view+json": {
       "model_id": "42010bf972214d1f8291682017651595",
       "version_major": 2,
       "version_minor": 0
      },
      "text/plain": [
       "0it [00:00, ?it/s]"
      ]
     },
     "metadata": {},
     "output_type": "display_data"
    },
    {
     "name": "stdout",
     "output_type": "stream",
     "text": [
      "Loss of train: 0.00116\n",
      "Loss of val: 0.00124\n",
      "Loss of test: 0.00122\n",
      "Loss of gw_test: 0.00098\n",
      "[0.0015337790975473975, 0.001432622766176697, 0.0013825659405858857, 0.0013567012315267276, 0.001343461624367527, 0.0013360480883668638, 0.0013305557643652443, 0.001325152095931118, 0.0013183190263331976, 0.0013113453988634082, 0.001304592523615596, 0.0012992516526399752, 0.0012933877712362838, 0.001287750824383696, 0.0012828271035299505, 0.0012774174059811255, 0.001272428710641405, 0.0012677507715474156, 0.001263661780671442, 0.0012600849473938366, 0.001256920812131577, 0.0012539444607606474, 0.0012511936985883521, 0.001248780803855993, 0.0012467303873716787, 0.0012448461554946844, 0.0012430146309326765]\n"
     ]
    },
    {
     "data": {
      "application/vnd.jupyter.widget-view+json": {
       "model_id": "1d9642525ee64a569e76874d0a916cdd",
       "version_major": 2,
       "version_minor": 0
      },
      "text/plain": [
       "0it [00:00, ?it/s]"
      ]
     },
     "metadata": {},
     "output_type": "display_data"
    },
    {
     "name": "stdout",
     "output_type": "stream",
     "text": [
      "Loss of train: 0.00116\n",
      "Loss of val: 0.00124\n",
      "Loss of test: 0.00122\n",
      "Loss of gw_test: 0.00098\n",
      "[0.0015337790975473975, 0.001432622766176697, 0.0013825659405858857, 0.0013567012315267276, 0.001343461624367527, 0.0013360480883668638, 0.0013305557643652443, 0.001325152095931118, 0.0013183190263331976, 0.0013113453988634082, 0.001304592523615596, 0.0012992516526399752, 0.0012933877712362838, 0.001287750824383696, 0.0012828271035299505, 0.0012774174059811255, 0.001272428710641405, 0.0012677507715474156, 0.001263661780671442, 0.0012600849473938366, 0.001256920812131577, 0.0012539444607606474, 0.0012511936985883521, 0.001248780803855993, 0.0012467303873716787, 0.0012448461554946844, 0.0012430146309326765, 0.001241113655935403]\n"
     ]
    },
    {
     "data": {
      "application/vnd.jupyter.widget-view+json": {
       "model_id": "debf8d8652e34fe697644a8baa7fab6a",
       "version_major": 2,
       "version_minor": 0
      },
      "text/plain": [
       "0it [00:00, ?it/s]"
      ]
     },
     "metadata": {},
     "output_type": "display_data"
    },
    {
     "name": "stdout",
     "output_type": "stream",
     "text": [
      "Loss of train: 0.00116\n",
      "Loss of val: 0.00124\n",
      "Loss of test: 0.00122\n",
      "Loss of gw_test: 0.00098\n",
      "[0.0015337790975473975, 0.001432622766176697, 0.0013825659405858857, 0.0013567012315267276, 0.001343461624367527, 0.0013360480883668638, 0.0013305557643652443, 0.001325152095931118, 0.0013183190263331976, 0.0013113453988634082, 0.001304592523615596, 0.0012992516526399752, 0.0012933877712362838, 0.001287750824383696, 0.0012828271035299505, 0.0012774174059811255, 0.001272428710641405, 0.0012677507715474156, 0.001263661780671442, 0.0012600849473938366, 0.001256920812131577, 0.0012539444607606474, 0.0012511936985883521, 0.001248780803855993, 0.0012467303873716787, 0.0012448461554946844, 0.0012430146309326765, 0.001241113655935403, 0.0012392881813681452]\n"
     ]
    },
    {
     "data": {
      "application/vnd.jupyter.widget-view+json": {
       "model_id": "ef87938899294293b45f89dc23b981b5",
       "version_major": 2,
       "version_minor": 0
      },
      "text/plain": [
       "0it [00:00, ?it/s]"
      ]
     },
     "metadata": {},
     "output_type": "display_data"
    },
    {
     "name": "stdout",
     "output_type": "stream",
     "text": [
      "Loss of train: 0.00116\n",
      "Loss of val: 0.00124\n",
      "Loss of test: 0.00123\n",
      "Loss of gw_test: 0.00098\n",
      "[0.0015337790975473975, 0.001432622766176697, 0.0013825659405858857, 0.0013567012315267276, 0.001343461624367527, 0.0013360480883668638, 0.0013305557643652443, 0.001325152095931118, 0.0013183190263331976, 0.0013113453988634082, 0.001304592523615596, 0.0012992516526399752, 0.0012933877712362838, 0.001287750824383696, 0.0012828271035299505, 0.0012774174059811255, 0.001272428710641405, 0.0012677507715474156, 0.001263661780671442, 0.0012600849473938366, 0.001256920812131577, 0.0012539444607606474, 0.0012511936985883521, 0.001248780803855993, 0.0012467303873716787, 0.0012448461554946844, 0.0012430146309326765, 0.001241113655935403, 0.0012392881813681452, 0.0012374954836840404]\n"
     ]
    },
    {
     "data": {
      "application/vnd.jupyter.widget-view+json": {
       "model_id": "6bd7a516f1e84a7085791d8234dad51c",
       "version_major": 2,
       "version_minor": 0
      },
      "text/plain": [
       "0it [00:00, ?it/s]"
      ]
     },
     "metadata": {},
     "output_type": "display_data"
    },
    {
     "name": "stdout",
     "output_type": "stream",
     "text": [
      "Loss of train: 0.00116\n",
      "Loss of val: 0.00124\n",
      "Loss of test: 0.00123\n",
      "Loss of gw_test: 0.00098\n",
      "[0.0015337790975473975, 0.001432622766176697, 0.0013825659405858857, 0.0013567012315267276, 0.001343461624367527, 0.0013360480883668638, 0.0013305557643652443, 0.001325152095931118, 0.0013183190263331976, 0.0013113453988634082, 0.001304592523615596, 0.0012992516526399752, 0.0012933877712362838, 0.001287750824383696, 0.0012828271035299505, 0.0012774174059811255, 0.001272428710641405, 0.0012677507715474156, 0.001263661780671442, 0.0012600849473938366, 0.001256920812131577, 0.0012539444607606474, 0.0012511936985883521, 0.001248780803855993, 0.0012467303873716787, 0.0012448461554946844, 0.0012430146309326765, 0.001241113655935403, 0.0012392881813681452, 0.0012374954836840404, 0.0012357638315093052]\n"
     ]
    },
    {
     "data": {
      "application/vnd.jupyter.widget-view+json": {
       "model_id": "2043e8c9454243a3a2dd0383990ccccb",
       "version_major": 2,
       "version_minor": 0
      },
      "text/plain": [
       "0it [00:00, ?it/s]"
      ]
     },
     "metadata": {},
     "output_type": "display_data"
    },
    {
     "name": "stdout",
     "output_type": "stream",
     "text": [
      "Loss of train: 0.00115\n",
      "Loss of val: 0.00123\n",
      "Loss of test: 0.00123\n",
      "Loss of gw_test: 0.00098\n",
      "[0.0015337790975473975, 0.001432622766176697, 0.0013825659405858857, 0.0013567012315267276, 0.001343461624367527, 0.0013360480883668638, 0.0013305557643652443, 0.001325152095931118, 0.0013183190263331976, 0.0013113453988634082, 0.001304592523615596, 0.0012992516526399752, 0.0012933877712362838, 0.001287750824383696, 0.0012828271035299505, 0.0012774174059811255, 0.001272428710641405, 0.0012677507715474156, 0.001263661780671442, 0.0012600849473938366, 0.001256920812131577, 0.0012539444607606474, 0.0012511936985883521, 0.001248780803855993, 0.0012467303873716787, 0.0012448461554946844, 0.0012430146309326765, 0.001241113655935403, 0.0012392881813681452, 0.0012374954836840404, 0.0012357638315093052, 0.00123423768262964]\n"
     ]
    },
    {
     "data": {
      "application/vnd.jupyter.widget-view+json": {
       "model_id": "b7937e519cb648a0b2a7adf0bfcb8df6",
       "version_major": 2,
       "version_minor": 0
      },
      "text/plain": [
       "0it [00:00, ?it/s]"
      ]
     },
     "metadata": {},
     "output_type": "display_data"
    },
    {
     "name": "stdout",
     "output_type": "stream",
     "text": [
      "Loss of train: 0.00115\n",
      "Loss of val: 0.00123\n",
      "Loss of test: 0.00123\n",
      "Loss of gw_test: 0.00098\n",
      "[0.0015337790975473975, 0.001432622766176697, 0.0013825659405858857, 0.0013567012315267276, 0.001343461624367527, 0.0013360480883668638, 0.0013305557643652443, 0.001325152095931118, 0.0013183190263331976, 0.0013113453988634082, 0.001304592523615596, 0.0012992516526399752, 0.0012933877712362838, 0.001287750824383696, 0.0012828271035299505, 0.0012774174059811255, 0.001272428710641405, 0.0012677507715474156, 0.001263661780671442, 0.0012600849473938366, 0.001256920812131577, 0.0012539444607606474, 0.0012511936985883521, 0.001248780803855993, 0.0012467303873716787, 0.0012448461554946844, 0.0012430146309326765, 0.001241113655935403, 0.0012392881813681452, 0.0012374954836840404, 0.0012357638315093052, 0.00123423768262964, 0.0012329669419186054]\n"
     ]
    },
    {
     "data": {
      "application/vnd.jupyter.widget-view+json": {
       "model_id": "4a21ea5338d54d1996121917452efaeb",
       "version_major": 2,
       "version_minor": 0
      },
      "text/plain": [
       "0it [00:00, ?it/s]"
      ]
     },
     "metadata": {},
     "output_type": "display_data"
    },
    {
     "name": "stdout",
     "output_type": "stream",
     "text": [
      "Loss of train: 0.00115\n",
      "Loss of val: 0.00123\n",
      "Loss of test: 0.00122\n",
      "Loss of gw_test: 0.00098\n",
      "[0.0015337790975473975, 0.001432622766176697, 0.0013825659405858857, 0.0013567012315267276, 0.001343461624367527, 0.0013360480883668638, 0.0013305557643652443, 0.001325152095931118, 0.0013183190263331976, 0.0013113453988634082, 0.001304592523615596, 0.0012992516526399752, 0.0012933877712362838, 0.001287750824383696, 0.0012828271035299505, 0.0012774174059811255, 0.001272428710641405, 0.0012677507715474156, 0.001263661780671442, 0.0012600849473938366, 0.001256920812131577, 0.0012539444607606474, 0.0012511936985883521, 0.001248780803855993, 0.0012467303873716787, 0.0012448461554946844, 0.0012430146309326765, 0.001241113655935403, 0.0012392881813681452, 0.0012374954836840404, 0.0012357638315093052, 0.00123423768262964, 0.0012329669419186054, 0.0012316217523984973]\n"
     ]
    },
    {
     "data": {
      "application/vnd.jupyter.widget-view+json": {
       "model_id": "49bd5e6ef8ce4b70ae13a3b19dc3d90a",
       "version_major": 2,
       "version_minor": 0
      },
      "text/plain": [
       "0it [00:00, ?it/s]"
      ]
     },
     "metadata": {},
     "output_type": "display_data"
    },
    {
     "name": "stdout",
     "output_type": "stream",
     "text": [
      "Loss of train: 0.00115\n",
      "Loss of val: 0.00123\n",
      "Loss of test: 0.00122\n",
      "Loss of gw_test: 0.00098\n",
      "[0.0015337790975473975, 0.001432622766176697, 0.0013825659405858857, 0.0013567012315267276, 0.001343461624367527, 0.0013360480883668638, 0.0013305557643652443, 0.001325152095931118, 0.0013183190263331976, 0.0013113453988634082, 0.001304592523615596, 0.0012992516526399752, 0.0012933877712362838, 0.001287750824383696, 0.0012828271035299505, 0.0012774174059811255, 0.001272428710641405, 0.0012677507715474156, 0.001263661780671442, 0.0012600849473938366, 0.001256920812131577, 0.0012539444607606474, 0.0012511936985883521, 0.001248780803855993, 0.0012467303873716787, 0.0012448461554946844, 0.0012430146309326765, 0.001241113655935403, 0.0012392881813681452, 0.0012374954836840404, 0.0012357638315093052, 0.00123423768262964, 0.0012329669419186054, 0.0012316217523984973, 0.0012303831872815822]\n"
     ]
    },
    {
     "data": {
      "application/vnd.jupyter.widget-view+json": {
       "model_id": "c2b23e0e3dbf487f911bb93ec434a691",
       "version_major": 2,
       "version_minor": 0
      },
      "text/plain": [
       "0it [00:00, ?it/s]"
      ]
     },
     "metadata": {},
     "output_type": "display_data"
    },
    {
     "name": "stdout",
     "output_type": "stream",
     "text": [
      "Loss of train: 0.00115\n",
      "Loss of val: 0.00123\n",
      "Loss of test: 0.00122\n",
      "Loss of gw_test: 0.00098\n",
      "[0.0015337790975473975, 0.001432622766176697, 0.0013825659405858857, 0.0013567012315267276, 0.001343461624367527, 0.0013360480883668638, 0.0013305557643652443, 0.001325152095931118, 0.0013183190263331976, 0.0013113453988634082, 0.001304592523615596, 0.0012992516526399752, 0.0012933877712362838, 0.001287750824383696, 0.0012828271035299505, 0.0012774174059811255, 0.001272428710641405, 0.0012677507715474156, 0.001263661780671442, 0.0012600849473938366, 0.001256920812131577, 0.0012539444607606474, 0.0012511936985883521, 0.001248780803855993, 0.0012467303873716787, 0.0012448461554946844, 0.0012430146309326765, 0.001241113655935403, 0.0012392881813681452, 0.0012374954836840404, 0.0012357638315093052, 0.00123423768262964, 0.0012329669419186054, 0.0012316217523984973, 0.0012303831872815822, 0.001229310353759531]\n"
     ]
    },
    {
     "data": {
      "application/vnd.jupyter.widget-view+json": {
       "model_id": "f65fb059c6c24577a3f6894454912c0d",
       "version_major": 2,
       "version_minor": 0
      },
      "text/plain": [
       "0it [00:00, ?it/s]"
      ]
     },
     "metadata": {},
     "output_type": "display_data"
    },
    {
     "name": "stdout",
     "output_type": "stream",
     "text": [
      "Loss of train: 0.00115\n"
     ]
    }
   ],
   "source": [
    "from sklearn.model_selection import ParameterGrid\n",
    "import copy\n",
    "\n",
    "space = {\n",
    "    'f1': [i for i in range(2,6)],\n",
    "    'f2': [i for i in range(2,6)],\n",
    "    'f3': [i for i in range(2,6)],\n",
    "    'f4': [i for i in range(2,6)],\n",
    "    'f5': [i for i in range(2,6)],\n",
    "}\n",
    "param_grid = ParameterGrid(space)\n",
    "\n",
    "# best_hyper_params = None\n",
    "# best_val_loss = float(\"inf\")\n",
    "patience = 2\n",
    "for i, params in tqdm(enumerate(param_grid.__iter__())):\n",
    "    if i <= 243:\n",
    "        continue    \n",
    "    \n",
    "    torch.manual_seed(42)\n",
    "    model = ConvModel(input_dim, [params[f\"f{i}\"] for i in range(1,6)]).to(device)\n",
    "    optim= torch.optim.Adam(model.parameters(), lr = 1e-2)\n",
    "    models = []\n",
    "\n",
    "    last_val_loss = None\n",
    "    val_losses = []\n",
    "    never_breaked = True\n",
    "    for epoch in range(100):\n",
    "        for i, (x,y) in tqdm(enumerate(batch_loader[TRAIN])):\n",
    "            model.train()\n",
    "            optim.zero_grad()\n",
    "            \n",
    "            logits, logits_mask = model(x)\n",
    "            loss = torch.nn.functional.binary_cross_entropy_with_logits(logits[logits_mask].squeeze(-1), y[logits_mask], pos_weight=torch.tensor(WEIGHT))\n",
    "                \n",
    "            loss.backward()\n",
    "            optim.step()\n",
    "        losses = evaluate_loss_sets(model)\n",
    "        val_losses.append(losses[VAL])\n",
    "        models.append(copy.deepcopy(model))\n",
    "        print(val_losses)\n",
    "        if len(val_losses) >= patience and all(list(map(lambda l: losses[VAL] >= l, val_losses[-patience:]))):\n",
    "            print(f\"Break at {epoch}\")\n",
    "            never_breaked = False\n",
    "            model = models[-2]\n",
    "            break\n",
    "    if never_breaked:\n",
    "        print(\"Never breaked with params\")\n",
    "    print(params)\n",
    "    evaluate_auroc_sets(model)\n",
    "    if val_losses[-1]<= best_val_loss:\n",
    "        best_val_loss = min(val_losses[-1], best_val_loss)\n",
    "        best_hyper_params = params\n",
    "        print(\"Currently best params: \")\n",
    "        print(best_hyper_params)"
   ]
  },
  {
   "cell_type": "code",
   "execution_count": null,
   "id": "dc467546-2069-4dbc-b3ff-9aaa852a09c5",
   "metadata": {},
   "outputs": [],
   "source": [
    "raise Exception"
   ]
  },
  {
   "cell_type": "code",
   "execution_count": 367,
   "id": "0b2e34aa-7d99-4223-963a-70c35672d46c",
   "metadata": {},
   "outputs": [
    {
     "data": {
      "text/plain": [
       "{'f1': 2, 'f2': 3, 'f3': 4, 'f4': 2, 'f5': 4}"
      ]
     },
     "execution_count": 367,
     "metadata": {},
     "output_type": "execute_result"
    }
   ],
   "source": [
    "best_hyper_params"
   ]
  },
  {
   "cell_type": "code",
   "execution_count": 381,
   "id": "65d4aa6a-109e-4b2e-9ef2-ece7315595cf",
   "metadata": {},
   "outputs": [
    {
     "data": {
      "text/plain": [
       "0.0011731414962481462"
      ]
     },
     "execution_count": 381,
     "metadata": {},
     "output_type": "execute_result"
    }
   ],
   "source": [
    "best_val_loss"
   ]
  },
  {
   "cell_type": "code",
   "execution_count": null,
   "id": "9e8b133e-207e-4047-bf84-aba97a5d691d",
   "metadata": {},
   "outputs": [],
   "source": []
  }
 ],
 "metadata": {
  "kernelspec": {
   "display_name": "Python 3 (ipykernel)",
   "language": "python",
   "name": "python3"
  },
  "language_info": {
   "codemirror_mode": {
    "name": "ipython",
    "version": 3
   },
   "file_extension": ".py",
   "mimetype": "text/x-python",
   "name": "python",
   "nbconvert_exporter": "python",
   "pygments_lexer": "ipython3",
   "version": "3.10.12"
  }
 },
 "nbformat": 4,
 "nbformat_minor": 5
}
