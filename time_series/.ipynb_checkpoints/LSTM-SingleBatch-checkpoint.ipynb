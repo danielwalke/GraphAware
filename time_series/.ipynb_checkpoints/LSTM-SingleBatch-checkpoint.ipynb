{
 "cells": [
  {
   "cell_type": "code",
   "execution_count": 97,
   "id": "25976b88-622c-4b25-a238-99d496a3055c",
   "metadata": {},
   "outputs": [],
   "source": [
    "import pandas as pd"
   ]
  },
  {
   "cell_type": "code",
   "execution_count": 98,
   "id": "6484d113-136f-493f-b460-67dc042d7794",
   "metadata": {},
   "outputs": [
    {
     "name": "stderr",
     "output_type": "stream",
     "text": [
      "/home/dwalke/git/graph_aware_ml/time_series/../dataAnalysis/data/Filter.py:34: SettingWithCopyWarning: \n",
      "A value is trying to be set on a copy of a slice from a DataFrame.\n",
      "Try using .loc[row_indexer,col_indexer] = value instead\n",
      "\n",
      "See the caveats in the documentation: https://pandas.pydata.org/pandas-docs/stable/user_guide/indexing.html#returning-a-view-versus-a-copy\n",
      "  self.data['Label'] = self.data['Diagnosis']\n",
      "/home/dwalke/git/graph_aware_ml/time_series/../dataAnalysis/data/Filter.py:34: SettingWithCopyWarning: \n",
      "A value is trying to be set on a copy of a slice from a DataFrame.\n",
      "Try using .loc[row_indexer,col_indexer] = value instead\n",
      "\n",
      "See the caveats in the documentation: https://pandas.pydata.org/pandas-docs/stable/user_guide/indexing.html#returning-a-view-versus-a-copy\n",
      "  self.data['Label'] = self.data['Diagnosis']\n",
      "/home/dwalke/git/graph_aware_ml/time_series/../dataAnalysis/data/Filter.py:34: SettingWithCopyWarning: \n",
      "A value is trying to be set on a copy of a slice from a DataFrame.\n",
      "Try using .loc[row_indexer,col_indexer] = value instead\n",
      "\n",
      "See the caveats in the documentation: https://pandas.pydata.org/pandas-docs/stable/user_guide/indexing.html#returning-a-view-versus-a-copy\n",
      "  self.data['Label'] = self.data['Diagnosis']\n"
     ]
    }
   ],
   "source": [
    "import sys\n",
    "sys.path.insert(0, \"../\")\n",
    "from dataAnalysis.DataAnalysis import DataAnalysis\n",
    "import pandas as pd\n",
    "import torch\n",
    " \n",
    "data = pd.read_csv(r\"../sbcdata.csv\", header=0)\n",
    "data_analysis = DataAnalysis(data)"
   ]
  },
  {
   "cell_type": "code",
   "execution_count": 99,
   "id": "25ddb7fc-61fa-40a6-85b6-f366dab17b77",
   "metadata": {},
   "outputs": [],
   "source": [
    "data = pd.concat((data_analysis.get_training_data(), data_analysis.get_testing_data()))\n",
    "max_Id = data[\"Id\"].unique().max()\n",
    "gw_data = data_analysis.get_gw_testing_data().copy(deep=True)\n",
    "gw_data = gw_data.assign(Id=lambda x: x.Id + max_Id)\n",
    "data = pd.concat((data, gw_data))\n",
    "data = data.sort_values([\"Id\", \"Time\"])\n",
    "data = data.reset_index(drop=True)\n",
    "popped_index = data.pop(\"index\")"
   ]
  },
  {
   "cell_type": "code",
   "execution_count": 100,
   "id": "3077e551-dfd4-4bf6-9cc0-cf0c9f9d37c2",
   "metadata": {},
   "outputs": [],
   "source": [
    "train = (data[\"Center\"] == \"Leipzig\") & (data[\"Set\"] == \"Training\")\n",
    "test = (data[\"Center\"] == \"Leipzig\") & (data[\"Set\"] == \"Validation\")\n",
    "val = (data[\"Center\"] == \"Greifswald\") & (data[\"Set\"] == \"Validation\")"
   ]
  },
  {
   "cell_type": "code",
   "execution_count": 101,
   "id": "40c63c82-85ac-4161-841a-326d6c35e446",
   "metadata": {},
   "outputs": [],
   "source": [
    "train = torch.from_numpy(train.values)\n",
    "test = torch.from_numpy(test.values)\n",
    "val = torch.from_numpy(val.values)"
   ]
  },
  {
   "cell_type": "code",
   "execution_count": 102,
   "id": "52163468-28a6-471f-b5b5-154baad2b704",
   "metadata": {},
   "outputs": [],
   "source": [
    "import torch\n",
    "from dataAnalysis.Constants import SEX_CATEGORY_COLUMN_NAME, SEX_COLUMN_NAME, FEATURES, LABEL_COLUMN_NAME\n",
    "\n",
    "data[SEX_CATEGORY_COLUMN_NAME] = data.loc[:, SEX_COLUMN_NAME] ==\"W\"\n",
    "\n",
    "data[SEX_CATEGORY_COLUMN_NAME] = data[SEX_CATEGORY_COLUMN_NAME].astype(\"int8\")\n",
    "data[\"Label\"] = data[\"Label\"] == \"Sepsis\"\n",
    "data[\"Label\"] = data[\"Label\"].astype(\"int8\")\n",
    "\n",
    "X = data[FEATURES].values\n",
    "y = data[LABEL_COLUMN_NAME].values"
   ]
  },
  {
   "cell_type": "code",
   "execution_count": 103,
   "id": "e7d19731-faa2-4f72-8833-a528fd8ce213",
   "metadata": {},
   "outputs": [],
   "source": [
    "from sklearn.preprocessing import QuantileTransformer\n",
    "\n",
    "scaler = QuantileTransformer(output_distribution=\"normal\")\n",
    "scaler.fit(X[train])\n",
    "X = scaler.transform(X)"
   ]
  },
  {
   "cell_type": "code",
   "execution_count": 104,
   "id": "bb63e0b3-9389-4ea2-9548-083b6d2ff6bc",
   "metadata": {},
   "outputs": [],
   "source": [
    "X = torch.from_numpy(X)\n",
    "y = torch.from_numpy(y)"
   ]
  },
  {
   "cell_type": "code",
   "execution_count": 105,
   "id": "699e5842-46ad-45f6-8c55-02a3064dc013",
   "metadata": {},
   "outputs": [],
   "source": [
    "id_grouped_data = data.groupby(\"Id\")"
   ]
  },
  {
   "cell_type": "code",
   "execution_count": 106,
   "id": "3c0197c9-4ee9-4f02-9ad9-492c27f945d7",
   "metadata": {},
   "outputs": [
    {
     "data": {
      "application/vnd.jupyter.widget-view+json": {
       "model_id": "8785aecdd1e3438f88c9a213a4bbccfd",
       "version_major": 2,
       "version_minor": 0
      },
      "text/plain": [
       "  0%|          | 0/866517 [00:00<?, ?it/s]"
      ]
     },
     "metadata": {},
     "output_type": "display_data"
    }
   ],
   "source": [
    "import numpy as np\n",
    "from tqdm.notebook import tqdm\n",
    "\n",
    "edge_index_list = []\n",
    "time_steps = 20\n",
    "\n",
    "i = 0\n",
    "for Id, group in tqdm(id_grouped_data):\n",
    "    indices = group.index\n",
    "    offset = indices[0]\n",
    "    num_nodes = len(indices)\n",
    "    indices = torch.from_numpy(indices.values)\n",
    "\n",
    "    edge_indices = []\n",
    "    for i in range(indices.shape[0]):\n",
    "        sample_indices = indices[:i+1]\n",
    "        padded_sample_indices = torch.nn.functional.pad(sample_indices, (time_steps - len(sample_indices), 0), mode='constant', value=sample_indices[0])\n",
    "        edge_indices.append(padded_sample_indices.unsqueeze(0))\n",
    "    edge_index_list.extend(edge_indices)"
   ]
  },
  {
   "cell_type": "code",
   "execution_count": 107,
   "id": "c77aa6ca-ad14-40dd-b8b3-e22191b97b9b",
   "metadata": {},
   "outputs": [],
   "source": [
    "edge_index = torch.concat(edge_index_list, 0)"
   ]
  },
  {
   "cell_type": "code",
   "execution_count": 108,
   "id": "010088f1-e31e-42b7-863e-d5642f70ad6e",
   "metadata": {},
   "outputs": [],
   "source": [
    "new_X_list = []\n",
    "for i in range(edge_index.shape[0]):\n",
    "    new_X_list.append(torch.index_select(X, 0, edge_index[i, :]).unsqueeze(0))"
   ]
  },
  {
   "cell_type": "code",
   "execution_count": 109,
   "id": "9dd6418f-62e7-4133-b7bb-8157323a6b80",
   "metadata": {},
   "outputs": [],
   "source": [
    "X_times = torch.concat(new_X_list, dim = 0)"
   ]
  },
  {
   "cell_type": "code",
   "execution_count": 110,
   "id": "f131316b-87a2-4977-aeae-3acd5d66473d",
   "metadata": {},
   "outputs": [],
   "source": [
    "device = torch.device(\"cpu\") #torch.device(\"cuda:2\") if torch.cuda.is_available() else torch.device(\"cpu\")\n",
    "\n",
    "y = y.to(device)\n",
    "X_times = X_times.to(device)"
   ]
  },
  {
   "cell_type": "code",
   "execution_count": 111,
   "id": "07776b6c-d084-452d-90cc-a063264ce347",
   "metadata": {},
   "outputs": [],
   "source": [
    "X_times = X_times.type(torch.float32)\n",
    "y = y.type(torch.float32)"
   ]
  },
  {
   "cell_type": "code",
   "execution_count": 112,
   "id": "455dc42b-e286-4b43-888d-de4a7ce8d4fb",
   "metadata": {},
   "outputs": [],
   "source": [
    "## TODO test if there is difference bewteen masking and complete set separation\n",
    "## TODO Find and set appropriate time-window\n",
    "## TODO Hyperparam tuning & CNN, Transformer decoder\n",
    "## TODO normalize\n",
    "## TODO Batching for cuda computations\n",
    "## TODO early stopping"
   ]
  },
  {
   "cell_type": "code",
   "execution_count": 113,
   "id": "77e4f7c6-9d70-4dc1-8038-44fc8bf800ba",
   "metadata": {},
   "outputs": [],
   "source": [
    "sets = dict()\n",
    "sets[\"train\"] = train\n",
    "sets[\"val\"] = val\n",
    "sets[\"test\"] = test"
   ]
  },
  {
   "cell_type": "code",
   "execution_count": 114,
   "id": "8356e7a4-9885-49e5-a676-6ead456986a0",
   "metadata": {},
   "outputs": [],
   "source": [
    "losses = dict()\n",
    "losses[\"train\"] = []\n",
    "losses[\"val\"] = []\n",
    "losses[\"test\"] = []"
   ]
  },
  {
   "cell_type": "code",
   "execution_count": 115,
   "id": "af8d66f5-7a58-4d61-af4f-13531fee5798",
   "metadata": {},
   "outputs": [],
   "source": [
    "aurocs = dict()\n",
    "aurocs[\"train\"] = []\n",
    "aurocs[\"val\"] = []\n",
    "aurocs[\"test\"] = []"
   ]
  },
  {
   "cell_type": "code",
   "execution_count": 116,
   "id": "e7e0a296-4fd7-4d53-a8fb-f52deee1c628",
   "metadata": {},
   "outputs": [
    {
     "data": {
      "text/plain": [
       "tensor(664.1861)"
      ]
     },
     "execution_count": 116,
     "metadata": {},
     "output_type": "execute_result"
    }
   ],
   "source": [
    "counts = torch.unique(y[train], return_counts=True)[-1]\n",
    "WEIGHT = counts[0] / counts[-1]\n",
    "WEIGHT"
   ]
  },
  {
   "cell_type": "code",
   "execution_count": 117,
   "id": "5c0fb215-5186-435c-a0ca-caf4e8663332",
   "metadata": {},
   "outputs": [],
   "source": [
    "from sklearn.metrics import roc_auc_score\n",
    "\n",
    "def evaluate(model, set_name):\n",
    "    global X_times, y, sets, losses\n",
    "    with torch.inference_mode():\n",
    "        model.eval()\n",
    "        logits = model(X_times)\n",
    "        set = sets[set_name]\n",
    "        last_logits_set = torch.squeeze(logits[set])\n",
    "        loss = torch.nn.functional.binary_cross_entropy_with_logits(last_logits_set, y[set],pos_weight=WEIGHT)\n",
    "        last_proba_set = torch.sigmoid(last_logits_set)\n",
    "        auroc = roc_auc_score(y[set].clone().cpu(), last_proba_set.cpu())\n",
    "        losses[set_name].append(loss.item())\n",
    "        aurocs[set_name].append(auroc)\n",
    "        # print(f\"{set_name} has AUROC: {auroc}\")"
   ]
  },
  {
   "cell_type": "code",
   "execution_count": 118,
   "id": "97bbeff8-2e46-4b51-a5bc-8cfb1bf3ce3b",
   "metadata": {},
   "outputs": [],
   "source": [
    "def full_batch_epoch(model):\n",
    "    global X_times, y, train, sets\n",
    "    model.train()\n",
    "    logits = model(X_times)\n",
    "    print(logits.shape)\n",
    "    loss = torch.nn.functional.binary_cross_entropy_with_logits(torch.squeeze(logits[train]), y[train],pos_weight=WEIGHT)\n",
    "    for set_name in sets:\n",
    "        evaluate(model, set_name)\n",
    "    optim.zero_grad()\n",
    "    loss.backward()\n",
    "    optim.step()\n",
    "    return loss.item()"
   ]
  },
  {
   "cell_type": "code",
   "execution_count": 119,
   "id": "8ca2b5d3-84d2-4478-a7ec-f257c13859aa",
   "metadata": {},
   "outputs": [],
   "source": [
    "from torch import nn\n",
    "from torch.autograd import Variable \n",
    "\n",
    "class LSTM1(nn.Module):\n",
    "    def __init__(self, num_classes, input_size, hidden_size, num_layers, seq_length):\n",
    "        super(LSTM1, self).__init__()\n",
    "        self.num_classes = num_classes #number of classes\n",
    "        self.num_layers = num_layers #number of layers\n",
    "        self.input_size = input_size #input size\n",
    "        self.hidden_size = 1 #hidden_size #hidden state\n",
    "        self.seq_length = seq_length #sequence length\n",
    "\n",
    "        self.lstm = nn.LSTM(input_size=input_size, hidden_size=self.hidden_size,\n",
    "                          num_layers=num_layers, batch_first=True) #lstm\n",
    "        self.fc_1 =  nn.Linear(self.hidden_size, 1) #fully connected 1\n",
    "\n",
    "        self.relu = nn.ReLU()\n",
    "    \n",
    "    def forward(self,x):\n",
    "        h_0 = Variable(torch.zeros(self.num_layers, x.shape[0], self.hidden_size)).to(device) #hidden state\n",
    "        c_0 = Variable(torch.zeros(self.num_layers, x.shape[0], self.hidden_size)).to(device) #internal state\n",
    "        # Propagate input through LSTM\n",
    "        output, (hn, cn) = self.lstm(x, (h_0, c_0)) #lstm with input, hidden, and internal state\n",
    "        out = hn.view(-1, self.hidden_size) #reshaping the data for Dense layer next\n",
    "        out = self.relu(out)\n",
    "        out = self.fc_1(out) #first Dense\n",
    "        return out#output[:,-1,0] #out"
   ]
  },
  {
   "cell_type": "code",
   "execution_count": 120,
   "id": "1073958a-68c4-41a3-b318-f60744e979db",
   "metadata": {},
   "outputs": [],
   "source": [
    "def empty_dict(dictionary):\n",
    "    for key in dictionary.keys():\n",
    "        dictionary[key] = []"
   ]
  },
  {
   "cell_type": "code",
   "execution_count": null,
   "id": "39ba6829-1ea8-4f2f-bca0-54ea75b6ac8c",
   "metadata": {
    "scrolled": true
   },
   "outputs": [
    {
     "data": {
      "application/vnd.jupyter.widget-view+json": {
       "model_id": "ba7ef4e8b97544c4a121d679e0b8cb29",
       "version_major": 2,
       "version_minor": 0
      },
      "text/plain": [
       "  0%|          | 0/100 [00:00<?, ?it/s]"
      ]
     },
     "metadata": {},
     "output_type": "display_data"
    },
    {
     "name": "stdout",
     "output_type": "stream",
     "text": [
      "0\n",
      "torch.Size([1819435, 1])\n",
      "1.2011107206344604\n",
      "1\n",
      "torch.Size([1819435, 1])\n",
      "1.1991573572158813\n",
      "2\n",
      "torch.Size([1819435, 1])\n",
      "1.1970678567886353\n",
      "3\n",
      "torch.Size([1819435, 1])\n",
      "1.1949502229690552\n",
      "4\n",
      "torch.Size([1819435, 1])\n",
      "1.1931397914886475\n",
      "5\n",
      "torch.Size([1819435, 1])\n",
      "1.1911486387252808\n",
      "6\n",
      "torch.Size([1819435, 1])\n",
      "1.1891416311264038\n",
      "7\n",
      "torch.Size([1819435, 1])\n",
      "1.187178611755371\n",
      "8\n",
      "torch.Size([1819435, 1])\n",
      "1.1852068901062012\n",
      "9\n",
      "torch.Size([1819435, 1])\n",
      "1.1832293272018433\n",
      "10\n",
      "torch.Size([1819435, 1])\n",
      "1.1812931299209595\n",
      "11\n",
      "torch.Size([1819435, 1])\n",
      "1.1793805360794067\n",
      "12\n",
      "torch.Size([1819435, 1])\n",
      "1.1776275634765625\n",
      "13\n",
      "torch.Size([1819435, 1])\n",
      "1.1758153438568115\n",
      "14\n",
      "torch.Size([1819435, 1])\n",
      "1.1740738153457642\n",
      "15\n",
      "torch.Size([1819435, 1])\n",
      "1.1723486185073853\n",
      "16\n",
      "torch.Size([1819435, 1])\n",
      "1.170357584953308\n",
      "17\n",
      "torch.Size([1819435, 1])\n",
      "1.168624997138977\n",
      "18\n",
      "torch.Size([1819435, 1])\n",
      "1.167022943496704\n",
      "19\n",
      "torch.Size([1819435, 1])\n",
      "1.1656436920166016\n",
      "20\n",
      "torch.Size([1819435, 1])\n",
      "1.1642299890518188\n",
      "21\n",
      "torch.Size([1819435, 1])\n",
      "1.1626100540161133\n",
      "22\n",
      "torch.Size([1819435, 1])\n",
      "1.1608856916427612\n",
      "23\n",
      "torch.Size([1819435, 1])\n",
      "1.159152626991272\n",
      "24\n",
      "torch.Size([1819435, 1])\n",
      "1.1579900979995728\n",
      "25\n",
      "torch.Size([1819435, 1])\n",
      "1.1562730073928833\n",
      "26\n",
      "torch.Size([1819435, 1])\n",
      "1.1546604633331299\n",
      "27\n",
      "torch.Size([1819435, 1])\n",
      "1.1535695791244507\n",
      "28\n",
      "torch.Size([1819435, 1])\n",
      "1.152306318283081\n",
      "29\n",
      "torch.Size([1819435, 1])\n",
      "1.1511170864105225\n",
      "30\n",
      "torch.Size([1819435, 1])\n",
      "1.1489073038101196\n",
      "31\n",
      "torch.Size([1819435, 1])\n",
      "1.147044062614441\n",
      "32\n",
      "torch.Size([1819435, 1])\n",
      "1.1454342603683472\n",
      "33\n",
      "torch.Size([1819435, 1])\n",
      "1.1437863111495972\n",
      "34\n",
      "torch.Size([1819435, 1])\n",
      "1.1420785188674927\n",
      "35\n",
      "torch.Size([1819435, 1])\n",
      "1.140763759613037\n",
      "36\n",
      "torch.Size([1819435, 1])\n",
      "1.1389983892440796\n",
      "37\n",
      "torch.Size([1819435, 1])\n",
      "1.1372482776641846\n",
      "38\n",
      "torch.Size([1819435, 1])\n",
      "1.1355583667755127\n",
      "39\n",
      "torch.Size([1819435, 1])\n",
      "1.1343867778778076\n",
      "40\n",
      "torch.Size([1819435, 1])\n",
      "1.1330405473709106\n",
      "41\n",
      "torch.Size([1819435, 1])\n",
      "1.1315845251083374\n",
      "42\n",
      "torch.Size([1819435, 1])\n",
      "1.130105972290039\n",
      "43\n",
      "torch.Size([1819435, 1])\n",
      "1.1286219358444214\n",
      "44\n",
      "torch.Size([1819435, 1])\n",
      "1.127134084701538\n",
      "45\n",
      "torch.Size([1819435, 1])\n",
      "1.1256567239761353\n",
      "46\n",
      "torch.Size([1819435, 1])\n",
      "1.1241974830627441\n",
      "47\n",
      "torch.Size([1819435, 1])\n",
      "1.1227458715438843\n",
      "48\n",
      "torch.Size([1819435, 1])\n",
      "1.1212990283966064\n",
      "49\n",
      "torch.Size([1819435, 1])\n",
      "1.1198538541793823\n",
      "50\n",
      "torch.Size([1819435, 1])\n",
      "1.118411660194397\n",
      "51\n",
      "torch.Size([1819435, 1])\n",
      "1.1168501377105713\n",
      "52\n",
      "torch.Size([1819435, 1])\n",
      "1.1151384115219116\n",
      "53\n",
      "torch.Size([1819435, 1])\n",
      "1.1139166355133057\n",
      "54\n",
      "torch.Size([1819435, 1])\n",
      "1.1125919818878174\n",
      "55\n",
      "torch.Size([1819435, 1])\n",
      "1.1116101741790771\n",
      "56\n",
      "torch.Size([1819435, 1])\n",
      "1.110478162765503\n",
      "57\n",
      "torch.Size([1819435, 1])\n",
      "1.1092208623886108\n",
      "58\n",
      "torch.Size([1819435, 1])\n",
      "1.1078542470932007\n",
      "59\n",
      "torch.Size([1819435, 1])\n",
      "1.1064355373382568\n",
      "60\n",
      "torch.Size([1819435, 1])\n",
      "1.1050586700439453\n",
      "61\n",
      "torch.Size([1819435, 1])\n",
      "1.1038658618927002\n",
      "62\n",
      "torch.Size([1819435, 1])\n",
      "1.102974772453308\n",
      "63\n",
      "torch.Size([1819435, 1])\n",
      "1.1019593477249146\n",
      "64\n",
      "torch.Size([1819435, 1])\n",
      "1.1006643772125244\n",
      "65\n",
      "torch.Size([1819435, 1])\n",
      "1.099510669708252\n",
      "66\n",
      "torch.Size([1819435, 1])\n",
      "1.0985605716705322\n",
      "67\n",
      "torch.Size([1819435, 1])\n",
      "1.0976414680480957\n",
      "68\n",
      "torch.Size([1819435, 1])\n",
      "1.0966613292694092\n",
      "69\n",
      "torch.Size([1819435, 1])\n",
      "1.0956382751464844\n",
      "70\n",
      "torch.Size([1819435, 1])\n",
      "1.0946576595306396\n",
      "71\n",
      "torch.Size([1819435, 1])\n",
      "1.0937682390213013\n",
      "72\n",
      "torch.Size([1819435, 1])\n",
      "1.0928782224655151\n",
      "73\n",
      "torch.Size([1819435, 1])\n",
      "1.0919545888900757\n",
      "74\n",
      "torch.Size([1819435, 1])\n",
      "1.0911171436309814\n",
      "75\n",
      "torch.Size([1819435, 1])\n",
      "1.0903164148330688\n",
      "76\n",
      "torch.Size([1819435, 1])\n",
      "1.0894790887832642\n",
      "77\n",
      "torch.Size([1819435, 1])\n",
      "1.0886213779449463\n",
      "78\n",
      "torch.Size([1819435, 1])\n",
      "1.0878134965896606\n",
      "79\n",
      "torch.Size([1819435, 1])\n",
      "1.087022304534912\n",
      "80\n",
      "torch.Size([1819435, 1])\n",
      "1.0862118005752563\n",
      "81\n",
      "torch.Size([1819435, 1])\n",
      "1.0854618549346924\n",
      "82\n",
      "torch.Size([1819435, 1])\n",
      "1.0847398042678833\n",
      "83\n",
      "torch.Size([1819435, 1])\n",
      "1.083985447883606\n",
      "84\n",
      "torch.Size([1819435, 1])\n",
      "1.083236575126648\n",
      "85\n",
      "torch.Size([1819435, 1])\n",
      "1.0825098752975464\n",
      "86\n",
      "torch.Size([1819435, 1])\n",
      "1.0817848443984985\n",
      "87\n",
      "torch.Size([1819435, 1])\n",
      "1.081109642982483\n",
      "88\n",
      "torch.Size([1819435, 1])\n",
      "1.0804152488708496\n",
      "89\n",
      "torch.Size([1819435, 1])\n",
      "1.079726219177246\n",
      "90\n",
      "torch.Size([1819435, 1])\n",
      "1.0790555477142334\n",
      "91\n",
      "torch.Size([1819435, 1])\n",
      "1.0783849954605103\n",
      "92\n",
      "torch.Size([1819435, 1])\n",
      "1.0777219533920288\n",
      "93\n",
      "torch.Size([1819435, 1])\n",
      "1.0770823955535889\n",
      "94\n",
      "torch.Size([1819435, 1])\n",
      "1.0764514207839966\n",
      "95\n",
      "torch.Size([1819435, 1])\n",
      "1.075818657875061\n",
      "96\n",
      "torch.Size([1819435, 1])\n",
      "1.075204610824585\n",
      "97\n",
      "torch.Size([1819435, 1])\n",
      "1.0745939016342163\n",
      "98\n",
      "torch.Size([1819435, 1])\n",
      "1.0739911794662476\n",
      "99\n",
      "torch.Size([1819435, 1])\n"
     ]
    }
   ],
   "source": [
    "from tqdm.notebook import tqdm\n",
    "import time\n",
    "\n",
    "is_continue = True\n",
    "if not is_continue:\n",
    "    model = LSTM1(1, X.shape[1], 64, 1, X_times.shape[1]).to(device)\n",
    "    empty_dict(losses)\n",
    "    empty_dict(aurocs)\n",
    "    lr = 0.01\n",
    "    optim = torch.optim.Adam(params=model.parameters(), lr = lr)\n",
    "\n",
    "\n",
    "epochs = 100\n",
    "\n",
    "for epoch in tqdm(range(epochs)):\n",
    "    print(epoch)\n",
    "    start = time.time()\n",
    "    loss = full_batch_epoch(model)\n",
    "    print(loss)"
   ]
  },
  {
   "cell_type": "code",
   "execution_count": 123,
   "id": "3c521f82-9ac4-447e-a035-70ec6325336a",
   "metadata": {},
   "outputs": [
    {
     "data": {
      "image/png": "[encoded data removed]",
      "text/plain": [
       "<Figure size 640x480 with 1 Axes>"
      ]
     },
     "metadata": {},
     "output_type": "display_data"
    }
   ],
   "source": [
    "import matplotlib.pyplot as plt\n",
    "\n",
    "for set_name in losses:\n",
    "    plt.plot(losses[set_name])\n",
    "plt.legend(losses.keys())\n",
    "plt.title(\"Loss curves\")\n",
    "plt.show()"
   ]
  },
  {
   "cell_type": "code",
   "execution_count": 95,
   "id": "6e646ee1-563c-4843-868a-b502c7cf3db5",
   "metadata": {},
   "outputs": [
    {
     "data": {
      "image/png": "[encoded data removed]",
      "text/plain": [
       "<Figure size 640x480 with 1 Axes>"
      ]
     },
     "metadata": {},
     "output_type": "display_data"
    }
   ],
   "source": [
    "import matplotlib.pyplot as plt\n",
    "\n",
    "for set_name in aurocs:\n",
    "    plt.plot(aurocs[set_name])\n",
    "plt.legend(aurocs.keys())\n",
    "plt.title(\"AUROCs\")\n",
    "plt.show()"
   ]
  },
  {
   "cell_type": "code",
   "execution_count": 96,
   "id": "1acecc50-6ab9-4ad5-9ca9-ff4018dc7148",
   "metadata": {},
   "outputs": [
    {
     "data": {
      "text/plain": [
       "0.8019819284925954"
      ]
     },
     "execution_count": 96,
     "metadata": {},
     "output_type": "execute_result"
    }
   ],
   "source": [
    "max(aurocs[\"test\"])"
   ]
  },
  {
   "cell_type": "markdown",
   "id": "b385aed9-10a7-4b9a-8081-4a04c5a1a097",
   "metadata": {},
   "source": [
    "## Evaluate the time series equence lengths"
   ]
  },
  {
   "cell_type": "code",
   "execution_count": 307,
   "id": "40d31bd4-a061-4264-8b16-65a0f00b56d8",
   "metadata": {},
   "outputs": [
    {
     "data": {
      "text/plain": [
       "count    866517.000000\n",
       "mean          2.099711\n",
       "std           3.201005\n",
       "min           1.000000\n",
       "25%           1.000000\n",
       "50%           1.000000\n",
       "75%           2.000000\n",
       "max         416.000000\n",
       "dtype: float64"
      ]
     },
     "execution_count": 307,
     "metadata": {},
     "output_type": "execute_result"
    }
   ],
   "source": [
    "id_grouped_data.size().describe()"
   ]
  },
  {
   "cell_type": "code",
   "execution_count": 312,
   "id": "23775954-4936-4446-b04a-e1642d74e21b",
   "metadata": {},
   "outputs": [],
   "source": [
    "num_sampples_list =  []\n",
    "for i in range(id_grouped_data.size().max()+1):\n",
    "    num_samples = (id_grouped_data.size() == i).sum()\n",
    "    num_sampples_list.append(num_samples)"
   ]
  },
  {
   "cell_type": "code",
   "execution_count": 322,
   "id": "c6f06d3b-a93c-4a6b-9d20-b41b0e8e7e74",
   "metadata": {},
   "outputs": [
    {
     "data": {
      "text/plain": [
       "Text(0.5, 0, 'Length of time series')"
      ]
     },
     "execution_count": 322,
     "metadata": {},
     "output_type": "execute_result"
    },
    {
     "data": {
      "image/png": "[encoded data removed]",
      "text/plain": [
       "<Figure size 640x480 with 1 Axes>"
      ]
     },
     "metadata": {},
     "output_type": "display_data"
    }
   ],
   "source": [
    "import matplotlib.pyplot as plt\n",
    "plt.semilogy(num_sampples_list[1:100])\n",
    "plt.grid(which=\"both\")\n",
    "plt.ylabel(\"Number of samples\")\n",
    "plt.xlabel(\"Length of time series\")"
   ]
  },
  {
   "cell_type": "code",
   "execution_count": null,
   "id": "b1508731-0ebf-48af-8ed5-db36747282cf",
   "metadata": {},
   "outputs": [],
   "source": []
  }
 ],
 "metadata": {
  "kernelspec": {
   "display_name": "Python 3 (ipykernel)",
   "language": "python",
   "name": "python3"
  },
  "language_info": {
   "codemirror_mode": {
    "name": "ipython",
    "version": 3
   },
   "file_extension": ".py",
   "mimetype": "text/x-python",
   "name": "python",
   "nbconvert_exporter": "python",
   "pygments_lexer": "ipython3",
   "version": "3.10.12"
  }
 },
 "nbformat": 4,
 "nbformat_minor": 5
}
