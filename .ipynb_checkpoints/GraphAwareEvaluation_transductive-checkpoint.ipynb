{
 "cells": [
  {
   "cell_type": "markdown",
   "id": "d52ad701-071b-4c9f-9bc8-a0da062c9c8e",
   "metadata": {},
   "source": [
    "# Graph Aware evaluation on Core, CiteSeer and PubMed"
   ]
  },
  {
   "cell_type": "markdown",
   "id": "45afa977-54bf-45de-be73-5b1f5fffc97c",
   "metadata": {},
   "source": [
    "## Load font"
   ]
  },
  {
   "cell_type": "code",
   "execution_count": 1,
   "id": "6361a3a5-c7cd-478d-ba66-9acacb684235",
   "metadata": {},
   "outputs": [
    {
     "name": "stdout",
     "output_type": "stream",
     "text": [
      "/usr/share/fonts/truetype/msttcorefonts/Arial.ttf\n"
     ]
    }
   ],
   "source": [
    "from pylab import *\n",
    "from math import sin\n",
    "rc('text', usetex = False)\n",
    "la = matplotlib.font_manager.FontManager()\n",
    "lu = matplotlib.font_manager.FontProperties(family = 'Arial')\n",
    "print(la.findfont(lu))"
   ]
  },
  {
   "cell_type": "markdown",
   "id": "c9426710-16b8-4651-a531-33eb87bcc074",
   "metadata": {},
   "source": [
    "## Read and process data"
   ]
  },
  {
   "cell_type": "code",
   "execution_count": 2,
   "id": "e9f39ca8-9364-4636-b9be-5b25e76d0d12",
   "metadata": {
    "scrolled": true
   },
   "outputs": [
    {
     "data": {
      "text/plain": [
       "{'Cora': {'X': tensor([[0., 0., 0.,  ..., 0., 0., 0.],\n",
       "          [0., 0., 0.,  ..., 0., 0., 0.],\n",
       "          [0., 0., 0.,  ..., 0., 0., 0.],\n",
       "          ...,\n",
       "          [0., 0., 0.,  ..., 0., 0., 0.],\n",
       "          [0., 0., 0.,  ..., 0., 0., 0.],\n",
       "          [0., 0., 0.,  ..., 0., 0., 0.]]),\n",
       "  'y': tensor([3, 4, 4,  ..., 3, 3, 3]),\n",
       "  'test': tensor([False, False, False,  ...,  True,  True,  True]),\n",
       "  'train': tensor([ True,  True,  True,  ..., False, False, False]),\n",
       "  'val': tensor([False, False, False,  ..., False, False, False]),\n",
       "  'edge_index': tensor([[   0,    0,    0,  ..., 2705, 2706, 2707],\n",
       "          [ 633, 1862, 2582,  ..., 2705, 2706, 2707]])},\n",
       " 'PubMed': {'X': tensor([[0.0000, 0.0000, 0.0000,  ..., 0.0000, 0.0000, 0.0000],\n",
       "          [0.0000, 0.0000, 0.0000,  ..., 0.0000, 0.0000, 0.0000],\n",
       "          [0.0554, 0.0000, 0.0000,  ..., 0.0000, 0.0000, 0.0000],\n",
       "          ...,\n",
       "          [0.0000, 0.0114, 0.0047,  ..., 0.0000, 0.0000, 0.0000],\n",
       "          [0.0531, 0.0000, 0.0000,  ..., 0.0000, 0.0000, 0.0000],\n",
       "          [0.0000, 0.0145, 0.0000,  ..., 0.0000, 0.0000, 0.0000]]),\n",
       "  'y': tensor([1, 1, 0,  ..., 2, 0, 2]),\n",
       "  'test': tensor([False, False, False,  ...,  True,  True,  True]),\n",
       "  'train': tensor([ True,  True,  True,  ..., False, False, False]),\n",
       "  'val': tensor([False, False, False,  ..., False, False, False]),\n",
       "  'edge_index': tensor([[    0,     0,     0,  ..., 19714, 19715, 19716],\n",
       "          [ 1378,  1544,  6092,  ..., 19714, 19715, 19716]])},\n",
       " 'Citeseer': {'X': tensor([[0., 0., 0.,  ..., 0., 0., 0.],\n",
       "          [0., 0., 0.,  ..., 0., 0., 0.],\n",
       "          [0., 0., 0.,  ..., 0., 0., 0.],\n",
       "          ...,\n",
       "          [0., 0., 0.,  ..., 0., 0., 0.],\n",
       "          [0., 0., 0.,  ..., 0., 0., 0.],\n",
       "          [0., 0., 0.,  ..., 0., 0., 0.]]),\n",
       "  'y': tensor([3, 1, 5,  ..., 3, 1, 5]),\n",
       "  'test': tensor([False, False, False,  ...,  True,  True,  True]),\n",
       "  'train': tensor([ True,  True,  True,  ..., False, False, False]),\n",
       "  'val': tensor([False, False, False,  ..., False, False, False]),\n",
       "  'edge_index': tensor([[   0,    1,    1,  ..., 3324, 3325, 3326],\n",
       "          [ 628,  158,  486,  ..., 3324, 3325, 3326]])}}"
      ]
     },
     "execution_count": 2,
     "metadata": {},
     "output_type": "execute_result"
    }
   ],
   "source": [
    "from torch_geometric.datasets import Planetoid\n",
    "import torch_geometric.transforms as T\n",
    "from torch_geometric.utils import add_self_loops\n",
    "\n",
    "citeseer_dataset = Planetoid(root = \"./data\", name = \"CiteSeer\")\n",
    "cora_dataset = Planetoid(root = \"./data\", name = \"Cora\")\n",
    "pubmed_dataset = Planetoid(root = \"./data\", name = \"PubMed\")\n",
    "\n",
    "def pre_process(dataset):\n",
    "    dataset.transform = T.NormalizeFeatures()\n",
    "    return dataset\n",
    "\n",
    "def add_set(set_name):\n",
    "    global name_to_sets, name_to_dataset\n",
    "    name_to_sets[set_name] = dict({})\n",
    "    \n",
    "    dataset = name_to_dataset[set_name]\n",
    "    X =  dataset[0].x \n",
    "    y =  dataset[0].y \n",
    "    \n",
    "    test =  dataset[0].test_mask\n",
    "    train = dataset[0].train_mask \n",
    "    val =  dataset[0].val_mask\n",
    "    \n",
    "    edge_index = add_self_loops(dataset[0].edge_index)[0]\n",
    "\n",
    "    name_to_sets[set_name][\"X\"] = X\n",
    "    name_to_sets[set_name][\"y\"] = y\n",
    "    name_to_sets[set_name][\"test\"] = test\n",
    "    name_to_sets[set_name][\"train\"] = train\n",
    "    name_to_sets[set_name][\"val\"] = val\n",
    "    name_to_sets[set_name][\"edge_index\"] = edge_index\n",
    "\n",
    "def create_sets():\n",
    "    for set_name in name_to_dataset.keys():\n",
    "        add_set(set_name)\n",
    "\n",
    "\n",
    "CORA = \"Cora\"\n",
    "PUBMED = \"PubMed\"\n",
    "CITESEER = \"Citeseer\"\n",
    "\n",
    "name_to_dataset = dict({})\n",
    "name_to_dataset[CORA] = pre_process(cora_dataset)\n",
    "name_to_dataset[PUBMED] = pre_process(pubmed_dataset)\n",
    "name_to_dataset[CITESEER] = pre_process(citeseer_dataset)\n",
    "name_to_sets = dict({})\n",
    "create_sets()\n",
    "name_to_sets"
   ]
  },
  {
   "cell_type": "markdown",
   "id": "e617389a-d7e9-4344-a953-7effac79197b",
   "metadata": {},
   "source": [
    "## Hyperparameter search"
   ]
  },
  {
   "cell_type": "code",
   "execution_count": 3,
   "id": "c99a99fd-af4f-4f72-ab9d-9719ef84db11",
   "metadata": {
    "scrolled": true
   },
   "outputs": [],
   "source": [
    "from sklearn.linear_model import LogisticRegression\n",
    "from hyperopt import hp\n",
    "from AutoTune2 import AutoSearch\n",
    "from sklearn.metrics import accuracy_score\n",
    "from torch.nn.functional import normalize\n",
    "\n",
    "lr_choices = {\n",
    "    'penalty': [\"l2\"],\n",
    "    'max_iter': [2**i for i in range(6, 15)],\n",
    "    \n",
    "}\n",
    "\n",
    "space_lr = {\n",
    "    **{key: hp.choice(key, value) for key, value in lr_choices.items()},\n",
    "    'tol': hp.loguniform('tol', -11, -3),\n",
    "    'C': hp.uniform('C', 0.0, 10)\n",
    "}\n",
    "\n",
    "def norm_user_function(kwargs):\n",
    "    return  normalize(kwargs[\"original_features\"] + kwargs[\"summed_neighbors\"], p=2.0, dim = 1)\n",
    "    \n",
    "def user_function(kwargs):\n",
    "    return  kwargs[\"original_features\"] + kwargs[\"summed_neighbors\"]\n",
    "    \n",
    "\n",
    "hops = [0,3,8]\n",
    "clfs = [LogisticRegression]\n",
    "clfs_space = dict({})\n",
    "clfs_space[\"LogisticRegression\"] = space_lr\n",
    "attention_configs = [None,{'inter_layer_normalize': False,\n",
    "                     'use_pseudo_attention':True,\n",
    "                     'cosine_eps':.01,\n",
    "                     'dropout_attn': None}, \n",
    "                     {'inter_layer_normalize': True,\n",
    "                     'use_pseudo_attention':True,\n",
    "                     'cosine_eps':.01,\n",
    "                     'dropout_attn': None},\n",
    "                     {'inter_layer_normalize': True,\n",
    "                     'use_pseudo_attention':True,\n",
    "                     'cosine_eps':.001,\n",
    "                     'dropout_attn': None}]\n",
    "user_functions = [norm_user_function, user_function]\n",
    "searcher = AutoSearch(name_to_sets[CORA], max_evals=500, pred_metric = accuracy_score, parallelism=50)\n",
    "# store = searcher.search(clfs, clfs_space, hops=hops, user_functions= user_functions,\n",
    "#                         attention_configs = attention_configs)"
   ]
  },
  {
   "cell_type": "code",
   "execution_count": 4,
   "id": "ae299c02-84b6-4b82-b698-3f2d50bd6c40",
   "metadata": {
    "scrolled": true
   },
   "outputs": [],
   "source": [
    "from sklearn.linear_model import LogisticRegression\n",
    "from hyperopt import hp\n",
    "from Auto_Tune_Comb import AutoSearch\n",
    "from sklearn.metrics import accuracy_score\n",
    "from torch.nn.functional import normalize\n",
    "lr_choices = {\n",
    "    'penalty': [\"l2\"],\n",
    "    'max_iter': [2**i for i in range(6, 15)],\n",
    "    \n",
    "}\n",
    "\n",
    "space_lr = {\n",
    "    **{key: hp.choice(key, value) for key, value in lr_choices.items()},\n",
    "    'tol': hp.loguniform('tol', -11, -3),\n",
    "    'C': hp.uniform('C', 0.0, 100)\n",
    "}\n",
    "\n",
    "lr_choices_1 = {\n",
    "    'penalty': [\"l2\"],\n",
    "    'max_iter': [2**i for i in range(6, 15)],\n",
    "    \n",
    "}\n",
    "\n",
    "space_lr_1 = {\n",
    "    **{key: hp.choice(f\"{key}_1\", value) for key, value in lr_choices_1.items()},\n",
    "    'tol': hp.loguniform('tol_1', -11, -3),\n",
    "    'C': hp.uniform('C_1', 0.0, 100)\n",
    "}\n",
    "\n",
    "lr_choices_2 = {\n",
    "    'penalty': [\"l2\"],\n",
    "    'max_iter': [2**i for i in range(6, 15)],\n",
    "    \n",
    "}\n",
    "\n",
    "space_lr_2 = {\n",
    "    **{key: hp.choice(f\"{key}_2\", value) for key, value in lr_choices_2.items()},\n",
    "    'tol': hp.loguniform('tol_2', -11, -3),\n",
    "    'C': hp.uniform('C_2', 0.0, 100)\n",
    "}\n",
    "\n",
    "def norm_user_function(kwargs):\n",
    "    return  normalize(kwargs[\"original_features\"] + kwargs[\"summed_neighbors\"], p=2.0, dim = 1)\n",
    "    \n",
    "def user_function(kwargs):\n",
    "    return  kwargs[\"original_features\"] + kwargs[\"summed_neighbors\"]\n",
    "    \n",
    "\n",
    "hops_list = [[0,3, 8]]\n",
    "clfs = [LogisticRegression]\n",
    "clfs_space = dict({})\n",
    "clfs_space[\"LogisticRegression\"] = [space_lr, space_lr_1,space_lr_2]\n",
    "attention_configs = [{'inter_layer_normalize': True,\n",
    "                     'use_pseudo_attention':True,\n",
    "                     'cosine_eps':.01,\n",
    "                     'dropout_attn': None}]\n",
    "user_functions = [user_function]\n",
    "searcher = AutoSearch(name_to_sets[PUBMED], max_evals=300, pred_metric = accuracy_score, parallelism=50)\n",
    "# store_cora = searcher.search(clfs, clfs_space, hops_list=hops_list, user_functions= user_functions,\n",
    "#                         attention_configs = attention_configs)"
   ]
  },
  {
   "cell_type": "code",
   "execution_count": 10,
   "id": "bcc1048f-c5fe-4038-a96f-686e16285767",
   "metadata": {
    "scrolled": true
   },
   "outputs": [
    {
     "data": {
      "text/plain": [
       "{'LogisticRegression': {'train_acc': 1.0,\n",
       "  'val_acc': 0.774,\n",
       "  'test_acc': 0.772,\n",
       "  'models': [LogisticRegression(C=1.6287310630831904, max_iter=128,\n",
       "                      tol=0.00014627263311068012),\n",
       "   LogisticRegression(C=54.673066007934025, max_iter=2048,\n",
       "                      tol=0.00013744385268677764),\n",
       "   LogisticRegression(C=20.69679117164175, max_iter=128, tol=0.011680454191407551)],\n",
       "  'user_function': <function __main__.user_function(kwargs)>,\n",
       "  'attention_config': {'inter_layer_normalize': True,\n",
       "   'use_pseudo_attention': True,\n",
       "   'cosine_eps': 0.01,\n",
       "   'dropout_attn': None},\n",
       "  'hops_list': [0, 3, 8]}}"
      ]
     },
     "execution_count": 10,
     "metadata": {},
     "output_type": "execute_result"
    }
   ],
   "source": [
    "store_cora"
   ]
  },
  {
   "cell_type": "code",
   "execution_count": 5,
   "id": "80209899-bb5c-4b68-af73-969fbd966d95",
   "metadata": {
    "scrolled": true
   },
   "outputs": [],
   "source": [
    "from sklearn.linear_model import LogisticRegression\n",
    "from hyperopt import hp\n",
    "from Auto_Tune_Comb import AutoSearch\n",
    "from sklearn.metrics import accuracy_score\n",
    "from torch.nn.functional import normalize\n",
    "\n",
    "lr_choices = {\n",
    "    'penalty': [\"l2\"],\n",
    "    'max_iter': [2**i for i in range(6, 15)],\n",
    "    \n",
    "}\n",
    "\n",
    "space_lr = {\n",
    "    **{key: hp.choice(key, value) for key, value in lr_choices.items()},\n",
    "    'tol': hp.loguniform('tol', -11, -3),\n",
    "    'C': hp.uniform('C', 0.0, 10)\n",
    "}\n",
    "\n",
    "def norm_user_function(kwargs):\n",
    "    return  normalize(kwargs[\"original_features\"] + kwargs[\"summed_neighbors\"], p=2.0, dim = 1)\n",
    "    \n",
    "def user_function(kwargs):\n",
    "    return  kwargs[\"original_features\"] + kwargs[\"summed_neighbors\"]\n",
    "    \n",
    "\n",
    "hops_list = [[0,3,6]]\n",
    "clfs = [LogisticRegression]\n",
    "clfs_space = dict({})\n",
    "clfs_space[\"LogisticRegression\"] = space_lr\n",
    "attention_configs = [{'inter_layer_normalize': False,\n",
    "                     'use_pseudo_attention':True,\n",
    "                     'cosine_eps':.01,\n",
    "                     'dropout_attn': None}, \n",
    "                     {'inter_layer_normalize': True,\n",
    "                     'use_pseudo_attention':True,\n",
    "                     'cosine_eps':.01,\n",
    "                     'dropout_attn': None}]\n",
    "user_functions = [user_function]\n",
    "searcher = AutoSearch(name_to_sets[CITESEER], max_evals=100, pred_metric = accuracy_score, parallelism=50)\n",
    "# store = searcher.search(clfs, clfs_space, hops_list=hops_list, user_functions= user_functions,\n",
    "#                         attention_configs = attention_configs)"
   ]
  },
  {
   "cell_type": "code",
   "execution_count": 8,
   "id": "5e1fc36b-6f00-47b0-866f-9d8a0771e137",
   "metadata": {},
   "outputs": [
    {
     "data": {
      "text/plain": [
       "{'LogisticRegression': {'train_acc': 0.9166666666666666,\n",
       "  'val_acc': 0.736,\n",
       "  'test_acc': 0.727,\n",
       "  'model': LogisticRegression(C=0.46543096390864847, max_iter=4096,\n",
       "                     tol=3.141600259794425e-05),\n",
       "  'user_function': <function __main__.user_function(kwargs)>,\n",
       "  'attention_config': {'inter_layer_normalize': False,\n",
       "   'use_pseudo_attention': True,\n",
       "   'cosine_eps': 0.01,\n",
       "   'dropout_attn': None},\n",
       "  'hops_list': [[0, 3, 6]]}}"
      ]
     },
     "execution_count": 8,
     "metadata": {},
     "output_type": "execute_result"
    }
   ],
   "source": [
    "store"
   ]
  },
  {
   "cell_type": "markdown",
   "id": "6152bacf-9124-4f31-921c-e6cfc65844a5",
   "metadata": {},
   "source": [
    "## Generic fit function for GraphAware training"
   ]
  },
  {
   "cell_type": "markdown",
   "id": "5d81b55b-cf71-4a91-adcb-f6fad70dffd5",
   "metadata": {},
   "source": [
    "## Dictionary for storing trained models"
   ]
  },
  {
   "cell_type": "code",
   "execution_count": 3,
   "id": "69b02d09-8a18-47d2-bc37-7afb0e47ba2e",
   "metadata": {},
   "outputs": [],
   "source": [
    "name_to_model = dict({})"
   ]
  },
  {
   "cell_type": "code",
   "execution_count": 4,
   "id": "a3dba0e8-64b4-47fc-a013-a079934d4d10",
   "metadata": {},
   "outputs": [],
   "source": [
    "from EnsembleFramework import Framework\n",
    "import time\n",
    "\n",
    "def fit_dataset(set_name,user_functions=[], hops_list= [3], clfs = [], attention_configs= []):\n",
    "    dataset = name_to_sets[set_name]\n",
    "    y = dataset[\"y\"]\n",
    "    \n",
    "    start = time.time()\n",
    "    framework = Framework(user_functions, \n",
    "                     hops_list=hops_list, ## to obtain best for local neighborhood\n",
    "                     clfs=clfs,\n",
    "                     gpu_idx=0,\n",
    "                     handle_nan=0.0,\n",
    "                    attention_configs=attention_configs)\n",
    "    vals = framework.get_features(dataset[\"X\"], dataset[\"edge_index\"], dataset[\"val\"])\n",
    "    vals = [val.cpu() for val in vals]\n",
    "    kwargs_list=[{\"eval_set\":[(vals[i], y[dataset[\"val\"]])], \"early_stopping_rounds\":5} if clf.__class__.__name__ == 'XGBClassifier' else {} for i, clf in enumerate(clfs)]\n",
    "    framework.fit(dataset[\"X\"], dataset[\"edge_index\"], y, dataset[\"train\"], kwargs_list)\n",
    "    end = time.time()-start\n",
    "    name_to_model[set_name] = framework\n",
    "    return framework, end"
   ]
  },
  {
   "cell_type": "markdown",
   "id": "ef0d54b4-487c-4bf8-9be2-accaa57bd46f",
   "metadata": {},
   "source": [
    "## Generic predict function for GraphAware evaluation"
   ]
  },
  {
   "cell_type": "code",
   "execution_count": 5,
   "id": "78a265c4-b42c-4f6c-87a3-048377575ead",
   "metadata": {},
   "outputs": [],
   "source": [
    "from sklearn.metrics import accuracy_score\n",
    "\n",
    "def predict_dataset(set_name,framework):\n",
    "    dataset = name_to_sets[set_name]\n",
    "    \n",
    "    y = dataset[\"y\"]\n",
    "    framework = name_to_model[set_name]\n",
    "    pred = framework.predict(dataset[\"X\"], dataset[\"edge_index\"], dataset[\"test\"]) \n",
    "    pred_val = framework.predict(dataset[\"X\"], dataset[\"edge_index\"], dataset[\"val\"]) \n",
    "    y_test = y[dataset[\"test\"]]\n",
    "    y_val = y[dataset[\"val\"]]\n",
    "    return {\n",
    "        \"test_acc\": accuracy_score(y_test, pred),\n",
    "        \"val_acc\": accuracy_score(y_val, pred_val)\n",
    "    }"
   ]
  },
  {
   "cell_type": "markdown",
   "id": "7ec54227-0829-4d25-9b2b-543ff1630b06",
   "metadata": {},
   "source": [
    "## Citeseer Evaluation"
   ]
  },
  {
   "cell_type": "markdown",
   "id": "0afb7163-63e7-4589-9de6-2c56962ea1e2",
   "metadata": {},
   "source": [
    "### CiteSeer Hyperparameters"
   ]
  },
  {
   "cell_type": "code",
   "execution_count": 10,
   "id": "c5d5308e-9368-47c9-8a18-f75990e6fdae",
   "metadata": {},
   "outputs": [],
   "source": [
    "from sklearn.linear_model import LogisticRegression\n",
    "from AutoTune2 import upd_user_function, norm_user_function, user_function\n",
    "citeseer_store = {'LogisticRegression': {0: {'train_acc': 1.0,\n",
    "   'val_acc': 0.594,\n",
    "   'test_acc': 0.615,\n",
    "   'model': LogisticRegression(C=3.9057765563512103,\n",
    "                      max_iter=512, tol=0.00037394547447174774),\n",
    "   'user_function': user_function,\n",
    "   'attention_config': {'inter_layer_normalize': True,\n",
    "    'use_pseudo_attention': True,\n",
    "    'cosine_eps': 0.01,\n",
    "    'dropout_attn': None}},\n",
    "  3: {'train_acc': 0.95,\n",
    "   'val_acc': 0.716,\n",
    "   'test_acc': 0.721,\n",
    "   'model': LogisticRegression(C=3.161729301367482, \n",
    "                      max_iter=128, tol=0.0022154364103027916),\n",
    "   'user_function': user_function,\n",
    "   'attention_config': {'inter_layer_normalize': False,\n",
    "    'use_pseudo_attention': True,\n",
    "    'cosine_eps': 0.01,\n",
    "    'dropout_attn': None}},\n",
    "  8: {'train_acc': 0.9583333333333334,\n",
    "   'val_acc': 0.738,\n",
    "   'test_acc': 0.721,\n",
    "   'model': LogisticRegression(C=4.484384767955908,\n",
    "                      max_iter=16384, tol=0.000418404361811845),\n",
    "   'user_function': user_function,\n",
    "   'attention_config': {'inter_layer_normalize': False,\n",
    "    'use_pseudo_attention': True,\n",
    "    'cosine_eps': 0.01,\n",
    "    'dropout_attn': None}}}}"
   ]
  },
  {
   "cell_type": "markdown",
   "id": "634e6281-3911-4352-9ed8-4f5cfc76db4f",
   "metadata": {},
   "source": [
    "### GraphAware on CiteSeer "
   ]
  },
  {
   "cell_type": "code",
   "execution_count": 11,
   "id": "2c4a69c9-43d5-4129-83b6-cb9631fa37e3",
   "metadata": {
    "scrolled": true
   },
   "outputs": [
    {
     "name": "stderr",
     "output_type": "stream",
     "text": [
      "/home/dwalke/git/graph_aware_ml/EnsembleFramework.py:160: UserWarning: The reduce argument of torch.scatter with Tensor src is deprecated and will be removed in a future PyTorch release. Use torch.scatter_reduce instead for more reduction options. (Triggered internally at ../aten/src/ATen/native/TensorAdvancedIndexing.cpp:230.)\n",
      "  summed_exp_score = torch.zeros_like(exp_score).scatter(0, target,exp_score, reduce=\"add\")\n"
     ]
    }
   ],
   "source": [
    "store = citeseer_store\n",
    "user_functions = [store[\"LogisticRegression\"][0][\"user_function\"], store[\"LogisticRegression\"][3][\"user_function\"], store[\"LogisticRegression\"][8][\"user_function\"]]\n",
    "clfs = [store[\"LogisticRegression\"][0][\"model\"], store[\"LogisticRegression\"][3][\"model\"], store[\"LogisticRegression\"][8][\"model\"]]\n",
    "attention_configs = [store[\"LogisticRegression\"][0][\"attention_config\"], store[\"LogisticRegression\"][3][\"attention_config\"], store[\"LogisticRegression\"][8][\"attention_config\"]]\n",
    "times = []\n",
    "accs = []\n",
    "for i in range(1):\n",
    "    framework, end_time = fit_dataset(CITESEER,user_functions=user_functions, hops_list= [0,3,8], clfs = clfs, attention_configs= attention_configs)\n",
    "    acc_dict = predict_dataset(CITESEER, framework)\n",
    "    times.append(end_time)\n",
    "    accs.append(acc_dict[\"test_acc\"])"
   ]
  },
  {
   "cell_type": "code",
   "execution_count": null,
   "id": "53dfd4c0-2eb5-4237-90a0-95c87149dfe9",
   "metadata": {},
   "outputs": [],
   "source": [
    "import numpy as np\n",
    "print(f\"Accuracy of CiteSeer {np.array(accs).mean()} +- {np.array(accs).std()}; Required training time: {np.array(times).mean()}\")"
   ]
  },
  {
   "cell_type": "markdown",
   "id": "ed9c48d4-e7e9-4127-ab3c-c9c007402599",
   "metadata": {},
   "source": [
    "## PubMed Evaluation"
   ]
  },
  {
   "cell_type": "markdown",
   "id": "1a55ce4d-9202-4216-b16b-ee85a0d9f1bd",
   "metadata": {},
   "source": [
    "### PubMed Hyperparameters"
   ]
  },
  {
   "cell_type": "code",
   "execution_count": null,
   "id": "539cca25-9d2c-4a90-bc25-5c0723c5bb7b",
   "metadata": {},
   "outputs": [],
   "source": [
    "from AutoTune2 import upd_user_function, norm_user_function\n",
    "from sklearn.linear_model import LogisticRegression\n",
    "pubmed_store = {'LogisticRegression': {0: {'train_acc': 0.9833333333333333,\n",
    "   'val_acc': 0.742,\n",
    "   'test_acc': 0.737,\n",
    "   'model': LogisticRegression(C=19.012946053218332, max_iter=4096,\n",
    "                      tol=0.011693958862167635),\n",
    "   'user_function': upd_user_function,\n",
    "   'attention_config': {'inter_layer_normalize': True,\n",
    "    'use_pseudo_attention': True,\n",
    "    'cosine_eps': 0.001,\n",
    "    'dropout_attn': None}},\n",
    "  3: {'train_acc': 0.9833333333333333,\n",
    "   'val_acc': 0.812,\n",
    "   'test_acc': 0.802,\n",
    "   'model': LogisticRegression(C=2.3417904147486635, max_iter=4096,\n",
    "                      tol=1.877242326314165e-05),\n",
    "   'user_function': norm_user_function,\n",
    "   'attention_config': {'inter_layer_normalize': False,\n",
    "    'use_pseudo_attention': True,\n",
    "    'cosine_eps': 0.01,\n",
    "    'dropout_attn': None}},\n",
    "  8: {'train_acc': 0.9666666666666667,\n",
    "   'val_acc': 0.826,\n",
    "   'test_acc': 0.793,\n",
    "   'model': LogisticRegression(C=8.816857543671555, max_iter=256, tol=0.0003864950814262107),\n",
    "   'user_function': norm_user_function,\n",
    "   'attention_config': None}}}"
   ]
  },
  {
   "cell_type": "markdown",
   "id": "1aaa5914-5307-4900-accc-2d334a741fd8",
   "metadata": {},
   "source": [
    "### GraphAware on PubMed"
   ]
  },
  {
   "cell_type": "code",
   "execution_count": null,
   "id": "e318ac98-4b11-4f83-b72c-26424523021c",
   "metadata": {
    "scrolled": true
   },
   "outputs": [],
   "source": [
    "from tqdm.notebook import tqdm\n",
    "store = pubmed_store\n",
    "user_functions = [store[\"LogisticRegression\"][0][\"user_function\"], store[\"LogisticRegression\"][3][\"user_function\"], store[\"LogisticRegression\"][8][\"user_function\"]]\n",
    "clfs = [store[\"LogisticRegression\"][0][\"model\"], store[\"LogisticRegression\"][3][\"model\"], store[\"LogisticRegression\"][8][\"model\"]]\n",
    "attention_configs = [store[\"LogisticRegression\"][0][\"attention_config\"], store[\"LogisticRegression\"][3][\"attention_config\"], store[\"LogisticRegression\"][8][\"attention_config\"]]\n",
    "times = []\n",
    "accs = []\n",
    "for i in tqdm(range(100)):\n",
    "    framework, end_time = fit_dataset(PUBMED,user_functions=user_functions, hops_list= [0,3,8], clfs = clfs, attention_configs= attention_configs)\n",
    "    acc_dict = predict_dataset(PUBMED, framework)\n",
    "    times.append(end_time)\n",
    "    accs.append(acc_dict[\"test_acc\"])\n"
   ]
  },
  {
   "cell_type": "code",
   "execution_count": null,
   "id": "ae86b1f1-b7c7-4481-a516-9af2a7319f5f",
   "metadata": {},
   "outputs": [],
   "source": [
    "import numpy as np\n",
    "print(f\"Accuracy of PuBMed {np.array(accs).mean()} +- {np.array(accs).std()}; Required training time: {np.array(times).mean()}\")"
   ]
  },
  {
   "cell_type": "markdown",
   "id": "44f7b1a4-ba15-4da0-9188-a39b19b24d8a",
   "metadata": {},
   "source": [
    "## Cora Evaluation"
   ]
  },
  {
   "cell_type": "markdown",
   "id": "3d685f74-4f0c-47ff-b700-f6307cb316a0",
   "metadata": {},
   "source": [
    "### Cora Hyperparameters"
   ]
  },
  {
   "cell_type": "code",
   "execution_count": 6,
   "id": "5f1ceacc-852c-4bd7-91df-71e63ac0dc78",
   "metadata": {},
   "outputs": [],
   "source": [
    "from sklearn.linear_model import LogisticRegression\n",
    "from AutoTune2 import user_function, norm_user_function\n",
    "cora_store = {'LogisticRegression': {0: {'train_acc': 0.9928571428571429,\n",
    "   'val_acc': 0.586,\n",
    "   'test_acc': 0.598,\n",
    "   'model': LogisticRegression(C=9.89464848441749, l1_ratio=0.1083794378326286,\n",
    "                      max_iter=8192, tol=3.9088643651368724e-05),\n",
    "   'user_function': user_function,\n",
    "   'attention_config': {'inter_layer_normalize': True,\n",
    "    'use_pseudo_attention': True,\n",
    "    'cosine_eps': 0.001,\n",
    "    'dropout_attn': None}},\n",
    "  3: {'train_acc': 0.9928571428571429,\n",
    "   'val_acc': 0.808,\n",
    "   'test_acc': 0.82,\n",
    "   'model': LogisticRegression(C=4.9289832447362025, l1_ratio=0.1761472021705791,\n",
    "                      max_iter=8192, tol=0.017104071425396022),\n",
    "   'user_function': norm_user_function,\n",
    "   'attention_config': None},\n",
    "  8: {'train_acc': 0.9928571428571429,\n",
    "   'val_acc': 0.808,\n",
    "   'test_acc': 0.817,\n",
    "   'model': LogisticRegression(C=3.726771337407598, l1_ratio=0.032154684509317244,\n",
    "                      max_iter=128, tol=7.557643967339885e-05),\n",
    "   'user_function': norm_user_function,\n",
    "   'attention_config': {'inter_layer_normalize': True,\n",
    "    'use_pseudo_attention': True,\n",
    "    'cosine_eps': 0.001,\n",
    "    'dropout_attn': None}}}}"
   ]
  },
  {
   "cell_type": "markdown",
   "id": "aea531a8-444a-4134-b172-b1d0fc1fd4f9",
   "metadata": {},
   "source": [
    "### GraphAware on Cora"
   ]
  },
  {
   "cell_type": "code",
   "execution_count": 7,
   "id": "244557af-8d5c-4abe-bc40-ce3bd3a461ce",
   "metadata": {
    "scrolled": true
   },
   "outputs": [
    {
     "name": "stderr",
     "output_type": "stream",
     "text": [
      "/home/dwalke/git/graph_aware_ml/EnsembleFramework.py:160: UserWarning: The reduce argument of torch.scatter with Tensor src is deprecated and will be removed in a future PyTorch release. Use torch.scatter_reduce instead for more reduction options. (Triggered internally at ../aten/src/ATen/native/TensorAdvancedIndexing.cpp:230.)\n",
      "  summed_exp_score = torch.zeros_like(exp_score).scatter(0, target,exp_score, reduce=\"add\")\n",
      "/home/dwalke/.local/lib/python3.10/site-packages/sklearn/linear_model/_logistic.py:1172: UserWarning: l1_ratio parameter is only used when penalty is 'elasticnet'. Got (penalty=l2)\n",
      "  warnings.warn(\n",
      "/home/dwalke/.local/lib/python3.10/site-packages/sklearn/linear_model/_logistic.py:1172: UserWarning: l1_ratio parameter is only used when penalty is 'elasticnet'. Got (penalty=l2)\n",
      "  warnings.warn(\n",
      "/home/dwalke/.local/lib/python3.10/site-packages/sklearn/linear_model/_logistic.py:1172: UserWarning: l1_ratio parameter is only used when penalty is 'elasticnet'. Got (penalty=l2)\n",
      "  warnings.warn(\n"
     ]
    },
    {
     "name": "stdout",
     "output_type": "stream",
     "text": [
      "{'test_acc': 0.831, 'val_acc': 0.818}\n"
     ]
    }
   ],
   "source": [
    "import time\n",
    "store = cora_store\n",
    "user_functions = [store[\"LogisticRegression\"][0][\"user_function\"], store[\"LogisticRegression\"][3][\"user_function\"], store[\"LogisticRegression\"][8][\"user_function\"]]\n",
    "clfs = [store[\"LogisticRegression\"][0][\"model\"], store[\"LogisticRegression\"][3][\"model\"], store[\"LogisticRegression\"][8][\"model\"]]\n",
    "attention_configs = [store[\"LogisticRegression\"][0][\"attention_config\"], store[\"LogisticRegression\"][3][\"attention_config\"], store[\"LogisticRegression\"][8][\"attention_config\"]]\n",
    "\n",
    "times = []\n",
    "accs = []\n",
    "for i in range(1):\n",
    "    framework, end_time = fit_dataset(CORA,user_functions=user_functions, hops_list= [0,3,8], clfs = clfs, attention_configs= attention_configs)\n",
    "    acc_dict = predict_dataset(CORA, framework)\n",
    "    print(acc_dict)\n",
    "    times.append(end_time)\n",
    "    accs.append(acc_dict[\"test_acc\"])"
   ]
  },
  {
   "cell_type": "code",
   "execution_count": null,
   "id": "c72d2c11-8082-42f6-a013-8eb2cad42c5f",
   "metadata": {},
   "outputs": [],
   "source": [
    "import numpy as np\n",
    "print(f\"Accuracy of Cora {np.array(accs).mean()} +- {np.array(accs).std()}; Required training time: {np.array(times).mean()}\")"
   ]
  },
  {
   "cell_type": "markdown",
   "id": "d7653e6f-4a72-4ef0-9b0d-3e6fca8ef221",
   "metadata": {},
   "source": [
    "## Feature importance for CORA"
   ]
  },
  {
   "cell_type": "code",
   "execution_count": 12,
   "id": "295879d0-b9b9-45f3-ba13-74e1c2d38530",
   "metadata": {},
   "outputs": [
    {
     "data": {
      "image/png": "[encoded data removed]",
      "text/plain": [
       "<Figure size 3000x1000 with 1 Axes>"
      ]
     },
     "metadata": {},
     "output_type": "display_data"
    },
    {
     "data": {
      "text/plain": [
       "<Figure size 640x480 with 0 Axes>"
      ]
     },
     "metadata": {},
     "output_type": "display_data"
    },
    {
     "data": {
      "text/plain": [
       "<Figure size 640x480 with 0 Axes>"
      ]
     },
     "metadata": {},
     "output_type": "display_data"
    }
   ],
   "source": [
    "import matplotlib.pyplot as plt\n",
    "import matplotlib\n",
    "font = {'family' : 'Arial',\n",
    "        'weight' : 'normal',\n",
    "        'size'   : 18}\n",
    "\n",
    "matplotlib.rc('font', **font)\n",
    "plt.figure(figsize=(30,10))\n",
    "# plt.ylim(0, 0.004)\n",
    "plt.xlim(0, 1433)\n",
    "framework.plot_feature_importances(mark_top_n_peaks = 3, file_name=\"FI\", dpi = 100)\n",
    "fig1 = plt.gcf()\n",
    "plt.show()\n",
    "plt.draw()\n",
    "fig1.savefig('feature_importance.png', dpi=100)"
   ]
  },
  {
   "cell_type": "code",
   "execution_count": 14,
   "id": "12db4591-8d07-4142-9c63-896d6188324d",
   "metadata": {},
   "outputs": [
    {
     "data": {
      "text/plain": [
       "<Figure size 640x480 with 0 Axes>"
      ]
     },
     "metadata": {},
     "output_type": "display_data"
    }
   ],
   "source": [
    "plt.gcf()\n",
    "plt.show()"
   ]
  },
  {
   "cell_type": "code",
   "execution_count": 32,
   "id": "97d8b545-02fd-40a5-a6aa-771856cfcec2",
   "metadata": {},
   "outputs": [
    {
     "data": {
      "image/png": "[encoded data removed]",
      "text/plain": [
       "<Figure size 640x480 with 1 Axes>"
      ]
     },
     "metadata": {},
     "output_type": "display_data"
    },
    {
     "data": {
      "text/plain": [
       "<Figure size 640x480 with 0 Axes>"
      ]
     },
     "metadata": {},
     "output_type": "display_data"
    }
   ],
   "source": [
    "fig1 = plt.gcf()\n",
    "plt.plot(framework.feature_importance())\n",
    "plt.xlim(0, 1433)\n",
    "plt.show()\n",
    "plt.draw()\n",
    "fig1.savefig('tessstttyyy.png', dpi=100)"
   ]
  },
  {
   "cell_type": "code",
   "execution_count": 24,
   "id": "e79c5b65-25ea-4b63-8656-16c30d35e07f",
   "metadata": {},
   "outputs": [
    {
     "data": {
      "text/plain": [
       "(1433,)"
      ]
     },
     "execution_count": 24,
     "metadata": {},
     "output_type": "execute_result"
    }
   ],
   "source": [
    "framework.feature_importance().shape"
   ]
  },
  {
   "cell_type": "markdown",
   "id": "cd397a7e-644a-4986-ae3f-81ae5fc06896",
   "metadata": {},
   "source": [
    "## T-SNE Plot for Cora"
   ]
  },
  {
   "cell_type": "code",
   "execution_count": null,
   "id": "48aadd99-dabd-4a8a-874f-8239e18cbf56",
   "metadata": {},
   "outputs": [],
   "source": [
    "dataset = name_to_sets[CORA]\n",
    "y = dataset[\"y\"]\n",
    "X = dataset[\"X\"]\n",
    "edge_index = dataset[\"edge_index\"]\n",
    "framework.plot_tsne(X, edge_index, y)"
   ]
  }
 ],
 "metadata": {
  "kernelspec": {
   "display_name": "Python 3 (ipykernel)",
   "language": "python",
   "name": "python3"
  },
  "language_info": {
   "codemirror_mode": {
    "name": "ipython",
    "version": 3
   },
   "file_extension": ".py",
   "mimetype": "text/x-python",
   "name": "python",
   "nbconvert_exporter": "python",
   "pygments_lexer": "ipython3",
   "version": "3.10.12"
  }
 },
 "nbformat": 4,
 "nbformat_minor": 5
}
