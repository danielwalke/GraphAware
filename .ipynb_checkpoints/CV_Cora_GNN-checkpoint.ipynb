{
 "cells": [
  {
   "cell_type": "code",
   "execution_count": 13,
   "id": "9293d3e7-26a9-4d97-8d29-74c695714454",
   "metadata": {},
   "outputs": [],
   "source": [
    "from torch_geometric.datasets import Planetoid\n",
    "import torch_geometric.transforms as T\n",
    "from torch_geometric.utils import add_self_loops\n",
    "\n",
    "# citeseer_dataset = Planetoid(root = \"./data\", name = \"CiteSeer\")\n",
    "cora_dataset = Planetoid(root = \"./data\", name = \"Cora\")\n",
    "# pubmed_dataset = Planetoid(root = \"./data\", name = \"PubMed\")\n",
    "\n",
    "dataset = cora_dataset"
   ]
  },
  {
   "cell_type": "code",
   "execution_count": 14,
   "id": "e256928f-0567-4dd8-ab94-2e920cafc245",
   "metadata": {},
   "outputs": [
    {
     "data": {
      "text/plain": [
       "Cora()"
      ]
     },
     "execution_count": 14,
     "metadata": {},
     "output_type": "execute_result"
    }
   ],
   "source": [
    "dataset"
   ]
  },
  {
   "cell_type": "code",
   "execution_count": 15,
   "id": "a884fbbf-86d8-4b42-b53e-3be5329c0673",
   "metadata": {},
   "outputs": [],
   "source": [
    "import argparse\n",
    "\n",
    "import torch\n",
    "import torch.nn.functional as F\n",
    "from citation import get_planetoid_dataset, random_planetoid_splits, run\n",
    "\n",
    "from torch_geometric.nn import GCNConv\n",
    "from torch_geometric.profile import rename_profile_file\n",
    "\n",
    "\n",
    "class Net(torch.nn.Module):\n",
    "    def __init__(self, dataset, hidden_dim, dropout):\n",
    "        super().__init__()\n",
    "        self.conv1 = GCNConv(dataset.num_features, hidden_dim)\n",
    "        self.conv2 = GCNConv(hidden_dim, dataset.num_classes)\n",
    "        self.dropout = dropout\n",
    "\n",
    "    def reset_parameters(self):\n",
    "        self.conv1.reset_parameters()\n",
    "        self.conv2.reset_parameters()\n",
    "\n",
    "    def forward(self, data):\n",
    "        x, edge_index = data.x, data.edge_index\n",
    "        x = F.relu(self.conv1(x, edge_index))\n",
    "        x = F.dropout(x, p=self.dropout, training=self.training)\n",
    "        x = self.conv2(x, edge_index)\n",
    "        return F.log_softmax(x, dim=1)"
   ]
  },
  {
   "cell_type": "code",
   "execution_count": 18,
   "id": "60680b3b-9d62-4c32-b4ac-906e44ce1da8",
   "metadata": {},
   "outputs": [],
   "source": [
    "model = Net(dataset, 16, 0.8)\n",
    "optim = torch.optim.Adam(params=model.parameters(), lr = 1e-2, weight_decay=1e-3)\n",
    "loss_fun = torch.nn.BCEWithLogitsLoss()"
   ]
  },
  {
   "cell_type": "code",
   "execution_count": null,
   "id": "7952a7db-d5f9-4f53-a103-4cd7fe77645d",
   "metadata": {},
   "outputs": [],
   "source": [
    "from sklearn.model_selection import KFold\n",
    "import numpy as np\n",
    "from tqdm.notebook import tqdm\n",
    "\n",
    "k_outer = 100\n",
    "kf_outer = KFold(n_splits=k_outer)\n",
    "        \n",
    "scores = torch.zeros(k_outer)\n",
    "\n",
    "def index_to_mask(rows, index_array):\n",
    "    mask_array = np.zeros(rows, dtype=int)\n",
    "    mask_array[index_array] = 1\n",
    "    return torch.from_numpy(mask_array.astype(np.bool_))\n",
    "    \n",
    "for i, (train_index, test_index) in tqdm(enumerate(kf_outer.split(dataset[0].x.numpy()))):            \n",
    "    outer_train_mask = index_to_mask(self.data.X.shape[0], train_index)\n",
    "    \n",
    "    for i, (train_index_inner, test_index_inner) in enumerate(self.kf.split(dataset[0].x.numpy()[train_index])): ##self.outer_train_index\n",
    "        \n",
    "        inner_train_mask = index_to_mask(dataset[0].x.numpy().shape[0], train_index[train_index_inner])\n",
    "        inner_test_mask = index_to_mask(dataset[0].x.numpy().shape[0], train_index[test_index_inner])\n",
    "        for epoch in range(100_000):\n",
    "            model.train()\n",
    "            out = model(dataset[0])\n",
    "            loss = loss_fun(out[train_mask], dataset[0].y[train_mask])\n",
    "            print(loss.item())\n",
    "            optim.zero_grad()\n",
    "            loss.backward()\n",
    "            optim.step()\n",
    "    scores[]\n",
    "    "
   ]
  }
 ],
 "metadata": {
  "kernelspec": {
   "display_name": "Python 3 (ipykernel)",
   "language": "python",
   "name": "python3"
  },
  "language_info": {
   "codemirror_mode": {
    "name": "ipython",
    "version": 3
   },
   "file_extension": ".py",
   "mimetype": "text/x-python",
   "name": "python",
   "nbconvert_exporter": "python",
   "pygments_lexer": "ipython3",
   "version": "3.10.12"
  }
 },
 "nbformat": 4,
 "nbformat_minor": 5
}
