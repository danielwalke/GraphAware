{
 "cells": [
  {
   "cell_type": "code",
   "execution_count": 1,
   "id": "2fedec7e-b40b-4639-baec-2040f1a07fba",
   "metadata": {},
   "outputs": [],
   "source": [
    "from EnsembleFramework import Framework"
   ]
  },
  {
   "cell_type": "code",
   "execution_count": 2,
   "id": "ff17fc77-ad91-4c3f-ad39-88e7ea7a122b",
   "metadata": {},
   "outputs": [],
   "source": [
    "from torch_geometric.datasets import PPI\n",
    "import torch_geometric.transforms as T\n",
    "from torch_geometric.utils import add_self_loops\n",
    "from torch_geometric.loader import DataLoader\n",
    "\n",
    "train_dataset = PPI(root='/tmp/PPI', split=\"train\")\n",
    "val_dataset = PPI(root='/tmp/PPI', split=\"val\")\n",
    "test_dataset = PPI(root='/tmp/PPI', split=\"test\")\n",
    "train_dataset.transform = T.NormalizeFeatures()\n",
    "val_dataset.transform = T.NormalizeFeatures()\n",
    "test_dataset.transform = T.NormalizeFeatures()\n",
    "\n",
    "train_loader = iter(DataLoader(train_dataset, batch_size=len(train_dataset)))\n",
    "val_loader = iter(DataLoader(val_dataset, batch_size=len(val_dataset)))\n",
    "test_loader = iter(DataLoader(test_dataset, batch_size=len(test_dataset)))"
   ]
  },
  {
   "cell_type": "code",
   "execution_count": 3,
   "id": "59b1c73b-8677-4797-ae3d-c116adcbd7fc",
   "metadata": {},
   "outputs": [],
   "source": [
    "train_set = next(train_loader)\n",
    "test_set = next(test_loader)\n",
    "val_set = next(val_loader)"
   ]
  },
  {
   "cell_type": "code",
   "execution_count": 4,
   "id": "459875d7-b103-4699-9230-0ef6581388a4",
   "metadata": {},
   "outputs": [
    {
     "name": "stderr",
     "output_type": "stream",
     "text": [
      "/home/dwalke/git/graph_aware_ml/EnsembleFramework.py:145: UserWarning: The reduce argument of torch.scatter with Tensor src is deprecated and will be removed in a future PyTorch release. Use torch.scatter_reduce instead for more reduction options. (Triggered internally at ../aten/src/ATen/native/TensorAdvancedIndexing.cpp:230.)\n",
      "  summed_exp_score = torch.zeros_like(exp_score).scatter(0, target,exp_score, reduce=\"add\")\n"
     ]
    }
   ],
   "source": [
    "from EnsembleFramework import Framework\n",
    "import torch\n",
    "from torch import nn\n",
    "\n",
    "def user_function(kwargs):\n",
    "    return  nn.functional.normalize(kwargs[\"updated_features\"] + kwargs[\"summed_neighbors\"], p = 2.0, dim = -1)\n",
    "    \n",
    "framework = Framework(hops_list= [5], clfs=[], attention_configs=[{'inter_layer_normalize': False,\n",
    "   'use_pseudo_attention': True,\n",
    "   'cosine_eps': 0.01,\n",
    "   'dropout_attn': None}], handle_nan=0.0, gpu_idx=0, user_functions=[user_function])\n",
    "new_train_features = framework.get_features(X=train_set.x, edge_index=train_set.edge_index, mask=torch.ones(train_set.x.shape[0]).type(torch.bool))\n",
    "new_test_features = framework.get_features(X=test_set.x, edge_index=test_set.edge_index, mask=torch.ones(test_set.x.shape[0]).type(torch.bool))"
   ]
  },
  {
   "cell_type": "code",
   "execution_count": 8,
   "id": "cf8563e0-8b06-491c-ad6a-3d23abc33b2e",
   "metadata": {
    "scrolled": true
   },
   "outputs": [
    {
     "ename": "KeyboardInterrupt",
     "evalue": "",
     "output_type": "error",
     "traceback": [
      "\u001b[0;31m---------------------------------------------------------------------------\u001b[0m",
      "\u001b[0;31mKeyboardInterrupt\u001b[0m                         Traceback (most recent call last)",
      "Cell \u001b[0;32mIn[8], line 4\u001b[0m\n\u001b[1;32m      2\u001b[0m \u001b[38;5;28;01mfrom\u001b[39;00m \u001b[38;5;21;01msklearn\u001b[39;00m\u001b[38;5;21;01m.\u001b[39;00m\u001b[38;5;21;01mlinear_model\u001b[39;00m \u001b[38;5;28;01mimport\u001b[39;00m LogisticRegression\n\u001b[1;32m      3\u001b[0m \u001b[38;5;28;01mfrom\u001b[39;00m \u001b[38;5;21;01mxgboost\u001b[39;00m \u001b[38;5;28;01mimport\u001b[39;00m XGBClassifier\n\u001b[0;32m----> 4\u001b[0m model \u001b[38;5;241m=\u001b[39m \u001b[43mMultiOutputClassifier\u001b[49m\u001b[43m(\u001b[49m\u001b[43mXGBClassifier\u001b[49m\u001b[43m(\u001b[49m\u001b[43m)\u001b[49m\u001b[43m)\u001b[49m\u001b[38;5;241;43m.\u001b[39;49m\u001b[43mfit\u001b[49m\u001b[43m(\u001b[49m\u001b[43mnew_train_features\u001b[49m\u001b[43m[\u001b[49m\u001b[38;5;241;43m0\u001b[39;49m\u001b[43m]\u001b[49m\u001b[38;5;241;43m.\u001b[39;49m\u001b[43mcpu\u001b[49m\u001b[43m(\u001b[49m\u001b[43m)\u001b[49m\u001b[43m,\u001b[49m\u001b[43m \u001b[49m\u001b[43mtrain_set\u001b[49m\u001b[38;5;241;43m.\u001b[39;49m\u001b[43my\u001b[49m\u001b[43m)\u001b[49m\n",
      "File \u001b[0;32m~/.local/lib/python3.10/site-packages/sklearn/multioutput.py:538\u001b[0m, in \u001b[0;36mMultiOutputClassifier.fit\u001b[0;34m(self, X, Y, sample_weight, **fit_params)\u001b[0m\n\u001b[1;32m    512\u001b[0m \u001b[38;5;28;01mdef\u001b[39;00m \u001b[38;5;21mfit\u001b[39m(\u001b[38;5;28mself\u001b[39m, X, Y, sample_weight\u001b[38;5;241m=\u001b[39m\u001b[38;5;28;01mNone\u001b[39;00m, \u001b[38;5;241m*\u001b[39m\u001b[38;5;241m*\u001b[39mfit_params):\n\u001b[1;32m    513\u001b[0m \u001b[38;5;250m    \u001b[39m\u001b[38;5;124;03m\"\"\"Fit the model to data matrix X and targets Y.\u001b[39;00m\n\u001b[1;32m    514\u001b[0m \n\u001b[1;32m    515\u001b[0m \u001b[38;5;124;03m    Parameters\u001b[39;00m\n\u001b[0;32m   (...)\u001b[0m\n\u001b[1;32m    536\u001b[0m \u001b[38;5;124;03m        Returns a fitted instance.\u001b[39;00m\n\u001b[1;32m    537\u001b[0m \u001b[38;5;124;03m    \"\"\"\u001b[39;00m\n\u001b[0;32m--> 538\u001b[0m     \u001b[38;5;28;43msuper\u001b[39;49m\u001b[43m(\u001b[49m\u001b[43m)\u001b[49m\u001b[38;5;241;43m.\u001b[39;49m\u001b[43mfit\u001b[49m\u001b[43m(\u001b[49m\u001b[43mX\u001b[49m\u001b[43m,\u001b[49m\u001b[43m \u001b[49m\u001b[43mY\u001b[49m\u001b[43m,\u001b[49m\u001b[43m \u001b[49m\u001b[43msample_weight\u001b[49m\u001b[38;5;241;43m=\u001b[39;49m\u001b[43msample_weight\u001b[49m\u001b[43m,\u001b[49m\u001b[43m \u001b[49m\u001b[38;5;241;43m*\u001b[39;49m\u001b[38;5;241;43m*\u001b[39;49m\u001b[43mfit_params\u001b[49m\u001b[43m)\u001b[49m\n\u001b[1;32m    539\u001b[0m     \u001b[38;5;28mself\u001b[39m\u001b[38;5;241m.\u001b[39mclasses_ \u001b[38;5;241m=\u001b[39m [estimator\u001b[38;5;241m.\u001b[39mclasses_ \u001b[38;5;28;01mfor\u001b[39;00m estimator \u001b[38;5;129;01min\u001b[39;00m \u001b[38;5;28mself\u001b[39m\u001b[38;5;241m.\u001b[39mestimators_]\n\u001b[1;32m    540\u001b[0m     \u001b[38;5;28;01mreturn\u001b[39;00m \u001b[38;5;28mself\u001b[39m\n",
      "File \u001b[0;32m~/.local/lib/python3.10/site-packages/sklearn/base.py:1152\u001b[0m, in \u001b[0;36m_fit_context.<locals>.decorator.<locals>.wrapper\u001b[0;34m(estimator, *args, **kwargs)\u001b[0m\n\u001b[1;32m   1145\u001b[0m     estimator\u001b[38;5;241m.\u001b[39m_validate_params()\n\u001b[1;32m   1147\u001b[0m \u001b[38;5;28;01mwith\u001b[39;00m config_context(\n\u001b[1;32m   1148\u001b[0m     skip_parameter_validation\u001b[38;5;241m=\u001b[39m(\n\u001b[1;32m   1149\u001b[0m         prefer_skip_nested_validation \u001b[38;5;129;01mor\u001b[39;00m global_skip_validation\n\u001b[1;32m   1150\u001b[0m     )\n\u001b[1;32m   1151\u001b[0m ):\n\u001b[0;32m-> 1152\u001b[0m     \u001b[38;5;28;01mreturn\u001b[39;00m \u001b[43mfit_method\u001b[49m\u001b[43m(\u001b[49m\u001b[43mestimator\u001b[49m\u001b[43m,\u001b[49m\u001b[43m \u001b[49m\u001b[38;5;241;43m*\u001b[39;49m\u001b[43margs\u001b[49m\u001b[43m,\u001b[49m\u001b[43m \u001b[49m\u001b[38;5;241;43m*\u001b[39;49m\u001b[38;5;241;43m*\u001b[39;49m\u001b[43mkwargs\u001b[49m\u001b[43m)\u001b[49m\n",
      "File \u001b[0;32m~/.local/lib/python3.10/site-packages/sklearn/multioutput.py:273\u001b[0m, in \u001b[0;36m_MultiOutputEstimator.fit\u001b[0;34m(self, X, y, sample_weight, **fit_params)\u001b[0m\n\u001b[1;32m    270\u001b[0m     \u001b[38;5;28;01mif\u001b[39;00m sample_weight \u001b[38;5;129;01mis\u001b[39;00m \u001b[38;5;129;01mnot\u001b[39;00m \u001b[38;5;28;01mNone\u001b[39;00m:\n\u001b[1;32m    271\u001b[0m         routed_params\u001b[38;5;241m.\u001b[39mestimator\u001b[38;5;241m.\u001b[39mfit[\u001b[38;5;124m\"\u001b[39m\u001b[38;5;124msample_weight\u001b[39m\u001b[38;5;124m\"\u001b[39m] \u001b[38;5;241m=\u001b[39m sample_weight\n\u001b[0;32m--> 273\u001b[0m \u001b[38;5;28mself\u001b[39m\u001b[38;5;241m.\u001b[39mestimators_ \u001b[38;5;241m=\u001b[39m \u001b[43mParallel\u001b[49m\u001b[43m(\u001b[49m\u001b[43mn_jobs\u001b[49m\u001b[38;5;241;43m=\u001b[39;49m\u001b[38;5;28;43mself\u001b[39;49m\u001b[38;5;241;43m.\u001b[39;49m\u001b[43mn_jobs\u001b[49m\u001b[43m)\u001b[49m\u001b[43m(\u001b[49m\n\u001b[1;32m    274\u001b[0m \u001b[43m    \u001b[49m\u001b[43mdelayed\u001b[49m\u001b[43m(\u001b[49m\u001b[43m_fit_estimator\u001b[49m\u001b[43m)\u001b[49m\u001b[43m(\u001b[49m\n\u001b[1;32m    275\u001b[0m \u001b[43m        \u001b[49m\u001b[38;5;28;43mself\u001b[39;49m\u001b[38;5;241;43m.\u001b[39;49m\u001b[43mestimator\u001b[49m\u001b[43m,\u001b[49m\u001b[43m \u001b[49m\u001b[43mX\u001b[49m\u001b[43m,\u001b[49m\u001b[43m \u001b[49m\u001b[43my\u001b[49m\u001b[43m[\u001b[49m\u001b[43m:\u001b[49m\u001b[43m,\u001b[49m\u001b[43m \u001b[49m\u001b[43mi\u001b[49m\u001b[43m]\u001b[49m\u001b[43m,\u001b[49m\u001b[43m \u001b[49m\u001b[38;5;241;43m*\u001b[39;49m\u001b[38;5;241;43m*\u001b[39;49m\u001b[43mrouted_params\u001b[49m\u001b[38;5;241;43m.\u001b[39;49m\u001b[43mestimator\u001b[49m\u001b[38;5;241;43m.\u001b[39;49m\u001b[43mfit\u001b[49m\n\u001b[1;32m    276\u001b[0m \u001b[43m    \u001b[49m\u001b[43m)\u001b[49m\n\u001b[1;32m    277\u001b[0m \u001b[43m    \u001b[49m\u001b[38;5;28;43;01mfor\u001b[39;49;00m\u001b[43m \u001b[49m\u001b[43mi\u001b[49m\u001b[43m \u001b[49m\u001b[38;5;129;43;01min\u001b[39;49;00m\u001b[43m \u001b[49m\u001b[38;5;28;43mrange\u001b[39;49m\u001b[43m(\u001b[49m\u001b[43my\u001b[49m\u001b[38;5;241;43m.\u001b[39;49m\u001b[43mshape\u001b[49m\u001b[43m[\u001b[49m\u001b[38;5;241;43m1\u001b[39;49m\u001b[43m]\u001b[49m\u001b[43m)\u001b[49m\n\u001b[1;32m    278\u001b[0m \u001b[43m\u001b[49m\u001b[43m)\u001b[49m\n\u001b[1;32m    280\u001b[0m \u001b[38;5;28;01mif\u001b[39;00m \u001b[38;5;28mhasattr\u001b[39m(\u001b[38;5;28mself\u001b[39m\u001b[38;5;241m.\u001b[39mestimators_[\u001b[38;5;241m0\u001b[39m], \u001b[38;5;124m\"\u001b[39m\u001b[38;5;124mn_features_in_\u001b[39m\u001b[38;5;124m\"\u001b[39m):\n\u001b[1;32m    281\u001b[0m     \u001b[38;5;28mself\u001b[39m\u001b[38;5;241m.\u001b[39mn_features_in_ \u001b[38;5;241m=\u001b[39m \u001b[38;5;28mself\u001b[39m\u001b[38;5;241m.\u001b[39mestimators_[\u001b[38;5;241m0\u001b[39m]\u001b[38;5;241m.\u001b[39mn_features_in_\n",
      "File \u001b[0;32m~/.local/lib/python3.10/site-packages/sklearn/utils/parallel.py:65\u001b[0m, in \u001b[0;36mParallel.__call__\u001b[0;34m(self, iterable)\u001b[0m\n\u001b[1;32m     60\u001b[0m config \u001b[38;5;241m=\u001b[39m get_config()\n\u001b[1;32m     61\u001b[0m iterable_with_config \u001b[38;5;241m=\u001b[39m (\n\u001b[1;32m     62\u001b[0m     (_with_config(delayed_func, config), args, kwargs)\n\u001b[1;32m     63\u001b[0m     \u001b[38;5;28;01mfor\u001b[39;00m delayed_func, args, kwargs \u001b[38;5;129;01min\u001b[39;00m iterable\n\u001b[1;32m     64\u001b[0m )\n\u001b[0;32m---> 65\u001b[0m \u001b[38;5;28;01mreturn\u001b[39;00m \u001b[38;5;28;43msuper\u001b[39;49m\u001b[43m(\u001b[49m\u001b[43m)\u001b[49m\u001b[38;5;241;43m.\u001b[39;49m\u001b[38;5;21;43m__call__\u001b[39;49m\u001b[43m(\u001b[49m\u001b[43miterable_with_config\u001b[49m\u001b[43m)\u001b[49m\n",
      "File \u001b[0;32m/usr/local/lib/python3.10/dist-packages/joblib/parallel.py:1088\u001b[0m, in \u001b[0;36mParallel.__call__\u001b[0;34m(self, iterable)\u001b[0m\n\u001b[1;32m   1085\u001b[0m \u001b[38;5;28;01mif\u001b[39;00m \u001b[38;5;28mself\u001b[39m\u001b[38;5;241m.\u001b[39mdispatch_one_batch(iterator):\n\u001b[1;32m   1086\u001b[0m     \u001b[38;5;28mself\u001b[39m\u001b[38;5;241m.\u001b[39m_iterating \u001b[38;5;241m=\u001b[39m \u001b[38;5;28mself\u001b[39m\u001b[38;5;241m.\u001b[39m_original_iterator \u001b[38;5;129;01mis\u001b[39;00m \u001b[38;5;129;01mnot\u001b[39;00m \u001b[38;5;28;01mNone\u001b[39;00m\n\u001b[0;32m-> 1088\u001b[0m \u001b[38;5;28;01mwhile\u001b[39;00m \u001b[38;5;28;43mself\u001b[39;49m\u001b[38;5;241;43m.\u001b[39;49m\u001b[43mdispatch_one_batch\u001b[49m\u001b[43m(\u001b[49m\u001b[43miterator\u001b[49m\u001b[43m)\u001b[49m:\n\u001b[1;32m   1089\u001b[0m     \u001b[38;5;28;01mpass\u001b[39;00m\n\u001b[1;32m   1091\u001b[0m \u001b[38;5;28;01mif\u001b[39;00m pre_dispatch \u001b[38;5;241m==\u001b[39m \u001b[38;5;124m\"\u001b[39m\u001b[38;5;124mall\u001b[39m\u001b[38;5;124m\"\u001b[39m \u001b[38;5;129;01mor\u001b[39;00m n_jobs \u001b[38;5;241m==\u001b[39m \u001b[38;5;241m1\u001b[39m:\n\u001b[1;32m   1092\u001b[0m     \u001b[38;5;66;03m# The iterable was consumed all at once by the above for loop.\u001b[39;00m\n\u001b[1;32m   1093\u001b[0m     \u001b[38;5;66;03m# No need to wait for async callbacks to trigger to\u001b[39;00m\n\u001b[1;32m   1094\u001b[0m     \u001b[38;5;66;03m# consumption.\u001b[39;00m\n",
      "File \u001b[0;32m/usr/local/lib/python3.10/dist-packages/joblib/parallel.py:901\u001b[0m, in \u001b[0;36mParallel.dispatch_one_batch\u001b[0;34m(self, iterator)\u001b[0m\n\u001b[1;32m    899\u001b[0m     \u001b[38;5;28;01mreturn\u001b[39;00m \u001b[38;5;28;01mFalse\u001b[39;00m\n\u001b[1;32m    900\u001b[0m \u001b[38;5;28;01melse\u001b[39;00m:\n\u001b[0;32m--> 901\u001b[0m     \u001b[38;5;28;43mself\u001b[39;49m\u001b[38;5;241;43m.\u001b[39;49m\u001b[43m_dispatch\u001b[49m\u001b[43m(\u001b[49m\u001b[43mtasks\u001b[49m\u001b[43m)\u001b[49m\n\u001b[1;32m    902\u001b[0m     \u001b[38;5;28;01mreturn\u001b[39;00m \u001b[38;5;28;01mTrue\u001b[39;00m\n",
      "File \u001b[0;32m/usr/local/lib/python3.10/dist-packages/joblib/parallel.py:819\u001b[0m, in \u001b[0;36mParallel._dispatch\u001b[0;34m(self, batch)\u001b[0m\n\u001b[1;32m    817\u001b[0m \u001b[38;5;28;01mwith\u001b[39;00m \u001b[38;5;28mself\u001b[39m\u001b[38;5;241m.\u001b[39m_lock:\n\u001b[1;32m    818\u001b[0m     job_idx \u001b[38;5;241m=\u001b[39m \u001b[38;5;28mlen\u001b[39m(\u001b[38;5;28mself\u001b[39m\u001b[38;5;241m.\u001b[39m_jobs)\n\u001b[0;32m--> 819\u001b[0m     job \u001b[38;5;241m=\u001b[39m \u001b[38;5;28;43mself\u001b[39;49m\u001b[38;5;241;43m.\u001b[39;49m\u001b[43m_backend\u001b[49m\u001b[38;5;241;43m.\u001b[39;49m\u001b[43mapply_async\u001b[49m\u001b[43m(\u001b[49m\u001b[43mbatch\u001b[49m\u001b[43m,\u001b[49m\u001b[43m \u001b[49m\u001b[43mcallback\u001b[49m\u001b[38;5;241;43m=\u001b[39;49m\u001b[43mcb\u001b[49m\u001b[43m)\u001b[49m\n\u001b[1;32m    820\u001b[0m     \u001b[38;5;66;03m# A job can complete so quickly than its callback is\u001b[39;00m\n\u001b[1;32m    821\u001b[0m     \u001b[38;5;66;03m# called before we get here, causing self._jobs to\u001b[39;00m\n\u001b[1;32m    822\u001b[0m     \u001b[38;5;66;03m# grow. To ensure correct results ordering, .insert is\u001b[39;00m\n\u001b[1;32m    823\u001b[0m     \u001b[38;5;66;03m# used (rather than .append) in the following line\u001b[39;00m\n\u001b[1;32m    824\u001b[0m     \u001b[38;5;28mself\u001b[39m\u001b[38;5;241m.\u001b[39m_jobs\u001b[38;5;241m.\u001b[39minsert(job_idx, job)\n",
      "File \u001b[0;32m/usr/local/lib/python3.10/dist-packages/joblib/_parallel_backends.py:208\u001b[0m, in \u001b[0;36mSequentialBackend.apply_async\u001b[0;34m(self, func, callback)\u001b[0m\n\u001b[1;32m    206\u001b[0m \u001b[38;5;28;01mdef\u001b[39;00m \u001b[38;5;21mapply_async\u001b[39m(\u001b[38;5;28mself\u001b[39m, func, callback\u001b[38;5;241m=\u001b[39m\u001b[38;5;28;01mNone\u001b[39;00m):\n\u001b[1;32m    207\u001b[0m \u001b[38;5;250m    \u001b[39m\u001b[38;5;124;03m\"\"\"Schedule a func to be run\"\"\"\u001b[39;00m\n\u001b[0;32m--> 208\u001b[0m     result \u001b[38;5;241m=\u001b[39m \u001b[43mImmediateResult\u001b[49m\u001b[43m(\u001b[49m\u001b[43mfunc\u001b[49m\u001b[43m)\u001b[49m\n\u001b[1;32m    209\u001b[0m     \u001b[38;5;28;01mif\u001b[39;00m callback:\n\u001b[1;32m    210\u001b[0m         callback(result)\n",
      "File \u001b[0;32m/usr/local/lib/python3.10/dist-packages/joblib/_parallel_backends.py:597\u001b[0m, in \u001b[0;36mImmediateResult.__init__\u001b[0;34m(self, batch)\u001b[0m\n\u001b[1;32m    594\u001b[0m \u001b[38;5;28;01mdef\u001b[39;00m \u001b[38;5;21m__init__\u001b[39m(\u001b[38;5;28mself\u001b[39m, batch):\n\u001b[1;32m    595\u001b[0m     \u001b[38;5;66;03m# Don't delay the application, to avoid keeping the input\u001b[39;00m\n\u001b[1;32m    596\u001b[0m     \u001b[38;5;66;03m# arguments in memory\u001b[39;00m\n\u001b[0;32m--> 597\u001b[0m     \u001b[38;5;28mself\u001b[39m\u001b[38;5;241m.\u001b[39mresults \u001b[38;5;241m=\u001b[39m \u001b[43mbatch\u001b[49m\u001b[43m(\u001b[49m\u001b[43m)\u001b[49m\n",
      "File \u001b[0;32m/usr/local/lib/python3.10/dist-packages/joblib/parallel.py:288\u001b[0m, in \u001b[0;36mBatchedCalls.__call__\u001b[0;34m(self)\u001b[0m\n\u001b[1;32m    284\u001b[0m \u001b[38;5;28;01mdef\u001b[39;00m \u001b[38;5;21m__call__\u001b[39m(\u001b[38;5;28mself\u001b[39m):\n\u001b[1;32m    285\u001b[0m     \u001b[38;5;66;03m# Set the default nested backend to self._backend but do not set the\u001b[39;00m\n\u001b[1;32m    286\u001b[0m     \u001b[38;5;66;03m# change the default number of processes to -1\u001b[39;00m\n\u001b[1;32m    287\u001b[0m     \u001b[38;5;28;01mwith\u001b[39;00m parallel_backend(\u001b[38;5;28mself\u001b[39m\u001b[38;5;241m.\u001b[39m_backend, n_jobs\u001b[38;5;241m=\u001b[39m\u001b[38;5;28mself\u001b[39m\u001b[38;5;241m.\u001b[39m_n_jobs):\n\u001b[0;32m--> 288\u001b[0m         \u001b[38;5;28;01mreturn\u001b[39;00m [func(\u001b[38;5;241m*\u001b[39margs, \u001b[38;5;241m*\u001b[39m\u001b[38;5;241m*\u001b[39mkwargs)\n\u001b[1;32m    289\u001b[0m                 \u001b[38;5;28;01mfor\u001b[39;00m func, args, kwargs \u001b[38;5;129;01min\u001b[39;00m \u001b[38;5;28mself\u001b[39m\u001b[38;5;241m.\u001b[39mitems]\n",
      "File \u001b[0;32m/usr/local/lib/python3.10/dist-packages/joblib/parallel.py:288\u001b[0m, in \u001b[0;36m<listcomp>\u001b[0;34m(.0)\u001b[0m\n\u001b[1;32m    284\u001b[0m \u001b[38;5;28;01mdef\u001b[39;00m \u001b[38;5;21m__call__\u001b[39m(\u001b[38;5;28mself\u001b[39m):\n\u001b[1;32m    285\u001b[0m     \u001b[38;5;66;03m# Set the default nested backend to self._backend but do not set the\u001b[39;00m\n\u001b[1;32m    286\u001b[0m     \u001b[38;5;66;03m# change the default number of processes to -1\u001b[39;00m\n\u001b[1;32m    287\u001b[0m     \u001b[38;5;28;01mwith\u001b[39;00m parallel_backend(\u001b[38;5;28mself\u001b[39m\u001b[38;5;241m.\u001b[39m_backend, n_jobs\u001b[38;5;241m=\u001b[39m\u001b[38;5;28mself\u001b[39m\u001b[38;5;241m.\u001b[39m_n_jobs):\n\u001b[0;32m--> 288\u001b[0m         \u001b[38;5;28;01mreturn\u001b[39;00m [\u001b[43mfunc\u001b[49m\u001b[43m(\u001b[49m\u001b[38;5;241;43m*\u001b[39;49m\u001b[43margs\u001b[49m\u001b[43m,\u001b[49m\u001b[43m \u001b[49m\u001b[38;5;241;43m*\u001b[39;49m\u001b[38;5;241;43m*\u001b[39;49m\u001b[43mkwargs\u001b[49m\u001b[43m)\u001b[49m\n\u001b[1;32m    289\u001b[0m                 \u001b[38;5;28;01mfor\u001b[39;00m func, args, kwargs \u001b[38;5;129;01min\u001b[39;00m \u001b[38;5;28mself\u001b[39m\u001b[38;5;241m.\u001b[39mitems]\n",
      "File \u001b[0;32m~/.local/lib/python3.10/site-packages/sklearn/utils/parallel.py:127\u001b[0m, in \u001b[0;36m_FuncWrapper.__call__\u001b[0;34m(self, *args, **kwargs)\u001b[0m\n\u001b[1;32m    125\u001b[0m     config \u001b[38;5;241m=\u001b[39m {}\n\u001b[1;32m    126\u001b[0m \u001b[38;5;28;01mwith\u001b[39;00m config_context(\u001b[38;5;241m*\u001b[39m\u001b[38;5;241m*\u001b[39mconfig):\n\u001b[0;32m--> 127\u001b[0m     \u001b[38;5;28;01mreturn\u001b[39;00m \u001b[38;5;28;43mself\u001b[39;49m\u001b[38;5;241;43m.\u001b[39;49m\u001b[43mfunction\u001b[49m\u001b[43m(\u001b[49m\u001b[38;5;241;43m*\u001b[39;49m\u001b[43margs\u001b[49m\u001b[43m,\u001b[49m\u001b[43m \u001b[49m\u001b[38;5;241;43m*\u001b[39;49m\u001b[38;5;241;43m*\u001b[39;49m\u001b[43mkwargs\u001b[49m\u001b[43m)\u001b[49m\n",
      "File \u001b[0;32m~/.local/lib/python3.10/site-packages/sklearn/multioutput.py:60\u001b[0m, in \u001b[0;36m_fit_estimator\u001b[0;34m(estimator, X, y, sample_weight, **fit_params)\u001b[0m\n\u001b[1;32m     58\u001b[0m     estimator\u001b[38;5;241m.\u001b[39mfit(X, y, sample_weight\u001b[38;5;241m=\u001b[39msample_weight, \u001b[38;5;241m*\u001b[39m\u001b[38;5;241m*\u001b[39mfit_params)\n\u001b[1;32m     59\u001b[0m \u001b[38;5;28;01melse\u001b[39;00m:\n\u001b[0;32m---> 60\u001b[0m     \u001b[43mestimator\u001b[49m\u001b[38;5;241;43m.\u001b[39;49m\u001b[43mfit\u001b[49m\u001b[43m(\u001b[49m\u001b[43mX\u001b[49m\u001b[43m,\u001b[49m\u001b[43m \u001b[49m\u001b[43my\u001b[49m\u001b[43m,\u001b[49m\u001b[43m \u001b[49m\u001b[38;5;241;43m*\u001b[39;49m\u001b[38;5;241;43m*\u001b[39;49m\u001b[43mfit_params\u001b[49m\u001b[43m)\u001b[49m\n\u001b[1;32m     61\u001b[0m \u001b[38;5;28;01mreturn\u001b[39;00m estimator\n",
      "File \u001b[0;32m~/.local/lib/python3.10/site-packages/xgboost/core.py:729\u001b[0m, in \u001b[0;36mrequire_keyword_args.<locals>.throw_if.<locals>.inner_f\u001b[0;34m(*args, **kwargs)\u001b[0m\n\u001b[1;32m    727\u001b[0m \u001b[38;5;28;01mfor\u001b[39;00m k, arg \u001b[38;5;129;01min\u001b[39;00m \u001b[38;5;28mzip\u001b[39m(sig\u001b[38;5;241m.\u001b[39mparameters, args):\n\u001b[1;32m    728\u001b[0m     kwargs[k] \u001b[38;5;241m=\u001b[39m arg\n\u001b[0;32m--> 729\u001b[0m \u001b[38;5;28;01mreturn\u001b[39;00m \u001b[43mfunc\u001b[49m\u001b[43m(\u001b[49m\u001b[38;5;241;43m*\u001b[39;49m\u001b[38;5;241;43m*\u001b[39;49m\u001b[43mkwargs\u001b[49m\u001b[43m)\u001b[49m\n",
      "File \u001b[0;32m~/.local/lib/python3.10/site-packages/xgboost/sklearn.py:1515\u001b[0m, in \u001b[0;36mXGBClassifier.fit\u001b[0;34m(self, X, y, sample_weight, base_margin, eval_set, eval_metric, early_stopping_rounds, verbose, xgb_model, sample_weight_eval_set, base_margin_eval_set, feature_weights, callbacks)\u001b[0m\n\u001b[1;32m   1487\u001b[0m (\n\u001b[1;32m   1488\u001b[0m     model,\n\u001b[1;32m   1489\u001b[0m     metric,\n\u001b[0;32m   (...)\u001b[0m\n\u001b[1;32m   1494\u001b[0m     xgb_model, eval_metric, params, early_stopping_rounds, callbacks\n\u001b[1;32m   1495\u001b[0m )\n\u001b[1;32m   1496\u001b[0m train_dmatrix, evals \u001b[38;5;241m=\u001b[39m _wrap_evaluation_matrices(\n\u001b[1;32m   1497\u001b[0m     missing\u001b[38;5;241m=\u001b[39m\u001b[38;5;28mself\u001b[39m\u001b[38;5;241m.\u001b[39mmissing,\n\u001b[1;32m   1498\u001b[0m     X\u001b[38;5;241m=\u001b[39mX,\n\u001b[0;32m   (...)\u001b[0m\n\u001b[1;32m   1512\u001b[0m     feature_types\u001b[38;5;241m=\u001b[39m\u001b[38;5;28mself\u001b[39m\u001b[38;5;241m.\u001b[39mfeature_types,\n\u001b[1;32m   1513\u001b[0m )\n\u001b[0;32m-> 1515\u001b[0m \u001b[38;5;28mself\u001b[39m\u001b[38;5;241m.\u001b[39m_Booster \u001b[38;5;241m=\u001b[39m \u001b[43mtrain\u001b[49m\u001b[43m(\u001b[49m\n\u001b[1;32m   1516\u001b[0m \u001b[43m    \u001b[49m\u001b[43mparams\u001b[49m\u001b[43m,\u001b[49m\n\u001b[1;32m   1517\u001b[0m \u001b[43m    \u001b[49m\u001b[43mtrain_dmatrix\u001b[49m\u001b[43m,\u001b[49m\n\u001b[1;32m   1518\u001b[0m \u001b[43m    \u001b[49m\u001b[38;5;28;43mself\u001b[39;49m\u001b[38;5;241;43m.\u001b[39;49m\u001b[43mget_num_boosting_rounds\u001b[49m\u001b[43m(\u001b[49m\u001b[43m)\u001b[49m\u001b[43m,\u001b[49m\n\u001b[1;32m   1519\u001b[0m \u001b[43m    \u001b[49m\u001b[43mevals\u001b[49m\u001b[38;5;241;43m=\u001b[39;49m\u001b[43mevals\u001b[49m\u001b[43m,\u001b[49m\n\u001b[1;32m   1520\u001b[0m \u001b[43m    \u001b[49m\u001b[43mearly_stopping_rounds\u001b[49m\u001b[38;5;241;43m=\u001b[39;49m\u001b[43mearly_stopping_rounds\u001b[49m\u001b[43m,\u001b[49m\n\u001b[1;32m   1521\u001b[0m \u001b[43m    \u001b[49m\u001b[43mevals_result\u001b[49m\u001b[38;5;241;43m=\u001b[39;49m\u001b[43mevals_result\u001b[49m\u001b[43m,\u001b[49m\n\u001b[1;32m   1522\u001b[0m \u001b[43m    \u001b[49m\u001b[43mobj\u001b[49m\u001b[38;5;241;43m=\u001b[39;49m\u001b[43mobj\u001b[49m\u001b[43m,\u001b[49m\n\u001b[1;32m   1523\u001b[0m \u001b[43m    \u001b[49m\u001b[43mcustom_metric\u001b[49m\u001b[38;5;241;43m=\u001b[39;49m\u001b[43mmetric\u001b[49m\u001b[43m,\u001b[49m\n\u001b[1;32m   1524\u001b[0m \u001b[43m    \u001b[49m\u001b[43mverbose_eval\u001b[49m\u001b[38;5;241;43m=\u001b[39;49m\u001b[43mverbose\u001b[49m\u001b[43m,\u001b[49m\n\u001b[1;32m   1525\u001b[0m \u001b[43m    \u001b[49m\u001b[43mxgb_model\u001b[49m\u001b[38;5;241;43m=\u001b[39;49m\u001b[43mmodel\u001b[49m\u001b[43m,\u001b[49m\n\u001b[1;32m   1526\u001b[0m \u001b[43m    \u001b[49m\u001b[43mcallbacks\u001b[49m\u001b[38;5;241;43m=\u001b[39;49m\u001b[43mcallbacks\u001b[49m\u001b[43m,\u001b[49m\n\u001b[1;32m   1527\u001b[0m \u001b[43m\u001b[49m\u001b[43m)\u001b[49m\n\u001b[1;32m   1529\u001b[0m \u001b[38;5;28;01mif\u001b[39;00m \u001b[38;5;129;01mnot\u001b[39;00m \u001b[38;5;28mcallable\u001b[39m(\u001b[38;5;28mself\u001b[39m\u001b[38;5;241m.\u001b[39mobjective):\n\u001b[1;32m   1530\u001b[0m     \u001b[38;5;28mself\u001b[39m\u001b[38;5;241m.\u001b[39mobjective \u001b[38;5;241m=\u001b[39m params[\u001b[38;5;124m\"\u001b[39m\u001b[38;5;124mobjective\u001b[39m\u001b[38;5;124m\"\u001b[39m]\n",
      "File \u001b[0;32m~/.local/lib/python3.10/site-packages/xgboost/core.py:729\u001b[0m, in \u001b[0;36mrequire_keyword_args.<locals>.throw_if.<locals>.inner_f\u001b[0;34m(*args, **kwargs)\u001b[0m\n\u001b[1;32m    727\u001b[0m \u001b[38;5;28;01mfor\u001b[39;00m k, arg \u001b[38;5;129;01min\u001b[39;00m \u001b[38;5;28mzip\u001b[39m(sig\u001b[38;5;241m.\u001b[39mparameters, args):\n\u001b[1;32m    728\u001b[0m     kwargs[k] \u001b[38;5;241m=\u001b[39m arg\n\u001b[0;32m--> 729\u001b[0m \u001b[38;5;28;01mreturn\u001b[39;00m \u001b[43mfunc\u001b[49m\u001b[43m(\u001b[49m\u001b[38;5;241;43m*\u001b[39;49m\u001b[38;5;241;43m*\u001b[39;49m\u001b[43mkwargs\u001b[49m\u001b[43m)\u001b[49m\n",
      "File \u001b[0;32m~/.local/lib/python3.10/site-packages/xgboost/training.py:181\u001b[0m, in \u001b[0;36mtrain\u001b[0;34m(params, dtrain, num_boost_round, evals, obj, feval, maximize, early_stopping_rounds, evals_result, verbose_eval, xgb_model, callbacks, custom_metric)\u001b[0m\n\u001b[1;32m    179\u001b[0m \u001b[38;5;28;01mif\u001b[39;00m cb_container\u001b[38;5;241m.\u001b[39mbefore_iteration(bst, i, dtrain, evals):\n\u001b[1;32m    180\u001b[0m     \u001b[38;5;28;01mbreak\u001b[39;00m\n\u001b[0;32m--> 181\u001b[0m \u001b[43mbst\u001b[49m\u001b[38;5;241;43m.\u001b[39;49m\u001b[43mupdate\u001b[49m\u001b[43m(\u001b[49m\u001b[43mdtrain\u001b[49m\u001b[43m,\u001b[49m\u001b[43m \u001b[49m\u001b[43mi\u001b[49m\u001b[43m,\u001b[49m\u001b[43m \u001b[49m\u001b[43mobj\u001b[49m\u001b[43m)\u001b[49m\n\u001b[1;32m    182\u001b[0m \u001b[38;5;28;01mif\u001b[39;00m cb_container\u001b[38;5;241m.\u001b[39mafter_iteration(bst, i, dtrain, evals):\n\u001b[1;32m    183\u001b[0m     \u001b[38;5;28;01mbreak\u001b[39;00m\n",
      "File \u001b[0;32m~/.local/lib/python3.10/site-packages/xgboost/core.py:2050\u001b[0m, in \u001b[0;36mBooster.update\u001b[0;34m(self, dtrain, iteration, fobj)\u001b[0m\n\u001b[1;32m   2046\u001b[0m \u001b[38;5;28mself\u001b[39m\u001b[38;5;241m.\u001b[39m_assign_dmatrix_features(dtrain)\n\u001b[1;32m   2048\u001b[0m \u001b[38;5;28;01mif\u001b[39;00m fobj \u001b[38;5;129;01mis\u001b[39;00m \u001b[38;5;28;01mNone\u001b[39;00m:\n\u001b[1;32m   2049\u001b[0m     _check_call(\n\u001b[0;32m-> 2050\u001b[0m         \u001b[43m_LIB\u001b[49m\u001b[38;5;241;43m.\u001b[39;49m\u001b[43mXGBoosterUpdateOneIter\u001b[49m\u001b[43m(\u001b[49m\n\u001b[1;32m   2051\u001b[0m \u001b[43m            \u001b[49m\u001b[38;5;28;43mself\u001b[39;49m\u001b[38;5;241;43m.\u001b[39;49m\u001b[43mhandle\u001b[49m\u001b[43m,\u001b[49m\u001b[43m \u001b[49m\u001b[43mctypes\u001b[49m\u001b[38;5;241;43m.\u001b[39;49m\u001b[43mc_int\u001b[49m\u001b[43m(\u001b[49m\u001b[43miteration\u001b[49m\u001b[43m)\u001b[49m\u001b[43m,\u001b[49m\u001b[43m \u001b[49m\u001b[43mdtrain\u001b[49m\u001b[38;5;241;43m.\u001b[39;49m\u001b[43mhandle\u001b[49m\n\u001b[1;32m   2052\u001b[0m \u001b[43m        \u001b[49m\u001b[43m)\u001b[49m\n\u001b[1;32m   2053\u001b[0m     )\n\u001b[1;32m   2054\u001b[0m \u001b[38;5;28;01melse\u001b[39;00m:\n\u001b[1;32m   2055\u001b[0m     pred \u001b[38;5;241m=\u001b[39m \u001b[38;5;28mself\u001b[39m\u001b[38;5;241m.\u001b[39mpredict(dtrain, output_margin\u001b[38;5;241m=\u001b[39m\u001b[38;5;28;01mTrue\u001b[39;00m, training\u001b[38;5;241m=\u001b[39m\u001b[38;5;28;01mTrue\u001b[39;00m)\n",
      "\u001b[0;31mKeyboardInterrupt\u001b[0m: "
     ]
    }
   ],
   "source": [
    "from sklearn.multioutput import MultiOutputClassifier\n",
    "from sklearn.linear_model import LogisticRegression\n",
    "from xgboost import XGBClassifier\n",
    "model = MultiOutputClassifier(XGBClassifier()).fit(new_train_features[0].cpu(), train_set.y)"
   ]
  },
  {
   "cell_type": "code",
   "execution_count": 310,
   "id": "cdbba0d6-dbe4-43e7-a0f4-750bff128852",
   "metadata": {},
   "outputs": [
    {
     "data": {
      "text/plain": [
       "0.9069177946997163"
      ]
     },
     "execution_count": 310,
     "metadata": {},
     "output_type": "execute_result"
    }
   ],
   "source": [
    "from sklearn.metrics import f1_score\n",
    "f1_score(test_set.y, model.predict(new_test_features[0].cpu()), average =\"micro\")"
   ]
  },
  {
   "cell_type": "code",
   "execution_count": 311,
   "id": "9aa48193-f51e-4feb-8e5a-8faf4861053e",
   "metadata": {},
   "outputs": [
    {
     "data": {
      "text/plain": [
       "tensor(0.9464)"
      ]
     },
     "execution_count": 311,
     "metadata": {},
     "output_type": "execute_result"
    }
   ],
   "source": [
    "np.equal(model.predict(new_test_features[0].cpu()), test_set.y).sum()/ test_set.y.numel()"
   ]
  },
  {
   "cell_type": "code",
   "execution_count": 7,
   "id": "0d56c4e3-b8d9-4be4-89f7-91e6e0d439f5",
   "metadata": {},
   "outputs": [],
   "source": [
    "import xgboost as xgb\n",
    "from sklearn.svm import SVC\n",
    "from xgboost import XGBClassifier\n",
    "from sklearn.linear_model import LogisticRegression\n",
    "from hyperopt import fmin, tpe, hp,STATUS_OK, SparkTrials\n",
    "from sklearn.metrics import accuracy_score, f1_score\n",
    "from tqdm.notebook import tqdm\n",
    "from sklearn.multioutput import MultiOutputClassifier\n",
    "\n",
    "booster_self = [\"gbtree\"]\n",
    "n_estimators_self = [5, 50, 100,150, 200, 400, 500, 800, 1_000, 1_200]\n",
    "max_depth_self = [None, 1, 2, 3, 4]\n",
    "max_delta_step_self = [None, 1, 2, 3, 4]\n",
    "min_child_weight_self = [None, 1, 2, 3, 4]\n",
    "\n",
    "xb_choices = {\n",
    "    'booster': booster_self,\n",
    "    'n_estimators': n_estimators_self,\n",
    "    'max_depth': max_depth_self,\n",
    "    'max_delta_step': max_delta_step_self,\n",
    "    'min_child_weight': min_child_weight_self,\n",
    "}\n",
    "space_xb = {\n",
    "    **{key: hp.choice(key, value) for key, value in xb_choices.items()},\n",
    "    'eta': hp.loguniform('eta', -3, -.3),\n",
    "    'subsample': hp.uniform('subsample', 0.6, 1),\n",
    "    'reg_lambda': hp.uniform('reg_lambda', 0, 1),\n",
    "    'alpha': hp.uniform('alpha', 0, 1),\n",
    "}\n",
    "svc_choices = {\n",
    "    'kernel': [\"linear\",\"rbf\", \"sigmoid\"]\n",
    "}\n",
    "space_svc = {\n",
    "   **{key: hp.choice(key, value) for key, value in svc_choices.items()},\n",
    "     \"C\":hp.uniform(\"C\",0.0, 1.0)\n",
    "}\n",
    "\n",
    "space_lr = {\n",
    "    \"C\":hp.uniform(\"C\",0.0, 1.0)\n",
    "}\n",
    "\n",
    "def search_hyperparams():    \n",
    "    stores=[]\n",
    "    hops_lists = [[0,0, 0], [3,3, 3], [5,5, 5]]\n",
    "    for hops_list in hops_lists:\n",
    "        store=dict({})\n",
    "        clfs = [XGBClassifier]\n",
    "        spaces= [space_xb, space_svc, space_lr]\n",
    "        space_choices= [xb_choices, svc_choices, {}]\n",
    "        hops_list = hops_list\n",
    "        attention_configs = [ None, \n",
    "                             {'inter_layer_normalize': False,\n",
    "                             'use_pseudo_attention':True,\n",
    "                             'cosine_eps':.01,\n",
    "                             'dropout_attn': None},\n",
    "                            {'inter_layer_normalize': True,\n",
    "                             'use_pseudo_attention':True,\n",
    "                             'cosine_eps':.01,\n",
    "                             'dropout_attn': None}]\n",
    "        max_acc = 0\n",
    "        best_hops = None\n",
    "        best_user_function = None\n",
    "        best_attention_config = None\n",
    "        best_clf_params = None\n",
    "        best_clf = None\n",
    "        for clf_idx, clf in tqdm(enumerate(clfs)):\n",
    "            space = spaces[clf_idx]\n",
    "            framework = Framework([user_function for _ in hops_list], \n",
    "                         hops_list=hops_list, ## to obtain best for local neighborhood\n",
    "                         clfs=[],\n",
    "                         gpu_idx=0,\n",
    "                         handle_nan=0.0,\n",
    "                        attention_configs=attention_configs)\n",
    "    \n",
    "    \n",
    "            val_aggregated_feature_list = framework.get_features(val_set.x, val_set.edge_index, torch.ones(val_set.x.shape[0]).type(torch.bool))\n",
    "            train_aggregated_feature_list = framework.get_features(train_set.x, train_set.edge_index, torch.ones(train_set.x.shape[0]).type(torch.bool))## this shoould be indepent of the length of the classifiers list\n",
    "    \n",
    "            for i in range(len(val_aggregated_feature_list)):\n",
    "                print(clf)\n",
    "                print(hops_list[i])\n",
    "                X_val = val_aggregated_feature_list[i].cpu()\n",
    "                X_train = train_aggregated_feature_list[i].cpu()\n",
    "                def objective(params):\n",
    "                    model = MultiOutputClassifier(clf(**params, random_state = 42,tree_method='hist',\n",
    "                      device=\"cuda\"), n_jobs=1).fit(X_train, train_set.y)\n",
    "                    y_pred = model.predict(X_val)\n",
    "                    score = f1_score(val_set.y, y_pred, average =\"micro\")\n",
    "                    return {'loss': -score, 'status': STATUS_OK}\n",
    "                spark_trials = SparkTrials()\n",
    "                best_params = fmin(objective, space, algo=tpe.suggest, max_evals=500, trials=spark_trials)\n",
    "    \n",
    "                for key,value in space_choices[clf_idx].items():\n",
    "                    best_params[key] = value[best_params[key]]\n",
    "    \n",
    "                best_model = MultiOutputClassifier(clf(**best_params, random_state = 42,tree_method='hist',\n",
    "                      device=\"cuda\"), n_jobs=1).fit(X_train, train_set.y)\n",
    "                best_model.fit(X_train, train_set.y)\n",
    "                y_pred = best_model.predict(X_val)\n",
    "                score = f1_score(val_set.y, y_pred, average =\"micro\")\n",
    "                if score >= max_acc:\n",
    "                    max_acc = score\n",
    "                    best_hops = hops_list[i]\n",
    "                    best_user_function = user_functions[i]\n",
    "                    best_attention_config = attention_configs[i]\n",
    "                    best_clf_params = best_params\n",
    "                    best_clf = clf\n",
    "        store[\"hops_list\"] = hops_list\n",
    "        store[\"max_acc\"] = max_acc\n",
    "        store[\"best_hops\"] = best_hops\n",
    "        store[\"best_user_function\"] = best_user_function\n",
    "        store[\"best_attention_config\"] = best_attention_config\n",
    "        store[\"best_clf_params\"] = best_clf_params\n",
    "        store[\"best_clf\"] = best_clf\n",
    "        stores.append(store)\n",
    "    return stores"
   ]
  },
  {
   "cell_type": "code",
   "execution_count": null,
   "id": "c49f06ab-ae6b-4eee-a08a-1c64554d0e38",
   "metadata": {
    "scrolled": true
   },
   "outputs": [
    {
     "data": {
      "application/vnd.jupyter.widget-view+json": {
       "model_id": "6e5ff9cded1e4ac58bbe3062af4f571b",
       "version_major": 2,
       "version_minor": 0
      },
      "text/plain": [
       "0it [00:00, ?it/s]"
      ]
     },
     "metadata": {},
     "output_type": "display_data"
    },
    {
     "name": "stderr",
     "output_type": "stream",
     "text": [
      "Because the requested parallelism was None or a non-positive value, parallelism will be set to (64), which is Spark's default parallelism (64), or 1, whichever is greater. We recommend setting parallelism explicitly to a positive value because the total of Spark task slots is subject to cluster sizing.\n"
     ]
    },
    {
     "name": "stdout",
     "output_type": "stream",
     "text": [
      "<class 'xgboost.sklearn.XGBClassifier'>\n",
      "0\n",
      "\n",
      "  0%|                                                                           | 0/500 [00:00<?, ?trial/s, best loss=?]\u001b[A"
     ]
    },
    {
     "name": "stderr",
     "output_type": "stream",
     "text": [
      "                                                                                \r"
     ]
    },
    {
     "name": "stdout",
     "output_type": "stream",
     "text": [
      "\n",
      "  0%|                                           | 1/500 [01:49<15:09:42, 109.38s/trial, best loss: -0.39624524210302836]\u001b[A"
     ]
    },
    {
     "name": "stderr",
     "output_type": "stream",
     "text": [
      "[Stage 69:>   (0 + 1) / 1][Stage 70:>   (0 + 1) / 1][Stage 71:>   (0 + 1) / 1]  \r"
     ]
    },
    {
     "name": "stdout",
     "output_type": "stream",
     "text": [
      "\n",
      "  0%|▏                                            | 2/500 [02:48<11:02:18, 79.80s/trial, best loss: -0.4168114483595519]\u001b[A"
     ]
    },
    {
     "name": "stderr",
     "output_type": "stream",
     "text": [
      "                                                                                \r"
     ]
    },
    {
     "name": "stdout",
     "output_type": "stream",
     "text": [
      "\n",
      "  1%|▎                                             | 3/500 [02:58<6:37:07, 47.94s/trial, best loss: -0.4178456258690571]\u001b[A"
     ]
    },
    {
     "name": "stderr",
     "output_type": "stream",
     "text": [
      "                                                                                \r"
     ]
    },
    {
     "name": "stdout",
     "output_type": "stream",
     "text": [
      "\n",
      "  1%|▎                                            | 4/500 [03:37<6:07:20, 44.44s/trial, best loss: -0.41943983604957547]\u001b[A"
     ]
    },
    {
     "name": "stderr",
     "output_type": "stream",
     "text": [
      "[Stage 69:>   (0 + 1) / 1][Stage 70:>   (0 + 1) / 1][Stage 71:>   (0 + 1) / 1]\r"
     ]
    },
    {
     "name": "stdout",
     "output_type": "stream",
     "text": [
      "\n",
      "  1%|▍                                            | 5/500 [03:38<3:57:23, 28.77s/trial, best loss: -0.41943983604957547]\u001b[A"
     ]
    },
    {
     "name": "stderr",
     "output_type": "stream",
     "text": [
      "                                                                                \r"
     ]
    },
    {
     "name": "stdout",
     "output_type": "stream",
     "text": [
      "\n",
      "  1%|▌                                            | 6/500 [05:37<8:09:59, 59.51s/trial, best loss: -0.42767262438269976]\u001b[A"
     ]
    },
    {
     "name": "stderr",
     "output_type": "stream",
     "text": [
      "                                                                                \r"
     ]
    },
    {
     "name": "stdout",
     "output_type": "stream",
     "text": [
      "\n",
      "  1%|▋                                            | 7/500 [05:46<5:53:23, 43.01s/trial, best loss: -0.42767262438269976]\u001b[A"
     ]
    },
    {
     "name": "stderr",
     "output_type": "stream",
     "text": [
      "                                                                                \r"
     ]
    },
    {
     "name": "stdout",
     "output_type": "stream",
     "text": [
      "\n",
      "  2%|▊                                            | 9/500 [06:42<4:52:49, 35.78s/trial, best loss: -0.42767262438269976]\u001b[A"
     ]
    },
    {
     "name": "stderr",
     "output_type": "stream",
     "text": [
      "                                                                                \r"
     ]
    },
    {
     "name": "stdout",
     "output_type": "stream",
     "text": [
      "\n",
      "  2%|▉                                           | 10/500 [08:38<7:38:32, 56.15s/trial, best loss: -0.42767262438269976]\u001b[A"
     ]
    },
    {
     "name": "stderr",
     "output_type": "stream",
     "text": [
      "[Stage 69:>   (0 + 1) / 1][Stage 71:>   (0 + 1) / 1][Stage 72:>   (0 + 1) / 1]  \r"
     ]
    },
    {
     "name": "stdout",
     "output_type": "stream",
     "text": [
      "\n",
      "  2%|▉                                           | 11/500 [08:44<5:48:03, 42.71s/trial, best loss: -0.42767262438269976]\u001b[A\n",
      "  2%|█                                           | 12/500 [08:52<4:29:15, 33.10s/trial, best loss: -0.42767262438269976]\u001b[A"
     ]
    },
    {
     "name": "stderr",
     "output_type": "stream",
     "text": [
      "                                                                                \r"
     ]
    },
    {
     "name": "stdout",
     "output_type": "stream",
     "text": [
      "\n",
      "  3%|█▏                                          | 13/500 [09:34<4:49:19, 35.65s/trial, best loss: -0.42767262438269976]\u001b[A"
     ]
    },
    {
     "name": "stderr",
     "output_type": "stream",
     "text": [
      "[Stage 69:>   (0 + 1) / 1][Stage 71:>   (0 + 1) / 1][Stage 72:>   (0 + 1) / 1]  \r"
     ]
    },
    {
     "name": "stdout",
     "output_type": "stream",
     "text": [
      "\n",
      "  3%|█▏                                          | 14/500 [09:51<4:05:17, 30.28s/trial, best loss: -0.42767262438269976]\u001b[A"
     ]
    },
    {
     "name": "stderr",
     "output_type": "stream",
     "text": [
      "                                                                                \r"
     ]
    },
    {
     "name": "stdout",
     "output_type": "stream",
     "text": [
      "\n",
      "  3%|█▎                                          | 15/500 [11:44<7:20:12, 54.46s/trial, best loss: -0.42767262438269976]\u001b[A"
     ]
    },
    {
     "name": "stderr",
     "output_type": "stream",
     "text": [
      "                                                                                \r"
     ]
    },
    {
     "name": "stdout",
     "output_type": "stream",
     "text": [
      "\n",
      "  3%|█▎                                        | 16/500 [17:38<19:11:00, 142.69s/trial, best loss: -0.45972133040401053]\u001b[A"
     ]
    },
    {
     "name": "stderr",
     "output_type": "stream",
     "text": [
      "[Stage 69:>   (0 + 1) / 1][Stage 71:>   (0 + 1) / 1][Stage 72:>   (0 + 1) / 1]  \r"
     ]
    },
    {
     "name": "stdout",
     "output_type": "stream",
     "text": [
      "\n",
      "  3%|█▍                                        | 17/500 [20:56<21:18:36, 158.83s/trial, best loss: -0.45972133040401053]\u001b[A"
     ]
    },
    {
     "name": "stderr",
     "output_type": "stream",
     "text": [
      "                                                                                \r"
     ]
    },
    {
     "name": "stdout",
     "output_type": "stream",
     "text": [
      "\n",
      "  4%|█▌                                         | 18/500 [21:46<16:56:24, 126.52s/trial, best loss: -0.5374596076595446]\u001b[A"
     ]
    },
    {
     "name": "stderr",
     "output_type": "stream",
     "text": [
      "                                                                                \r"
     ]
    },
    {
     "name": "stdout",
     "output_type": "stream",
     "text": [
      "\n",
      "  4%|█▋                                         | 19/500 [22:48<14:20:25, 107.33s/trial, best loss: -0.5374596076595446]\u001b[A"
     ]
    },
    {
     "name": "stderr",
     "output_type": "stream",
     "text": [
      "                                                                                \r"
     ]
    },
    {
     "name": "stdout",
     "output_type": "stream",
     "text": [
      "\n",
      "  4%|█▊                                          | 20/500 [22:54<10:16:39, 77.08s/trial, best loss: -0.5374596076595446]\u001b[A"
     ]
    },
    {
     "name": "stderr",
     "output_type": "stream",
     "text": [
      "                                                                                \r"
     ]
    },
    {
     "name": "stdout",
     "output_type": "stream",
     "text": [
      "\n",
      "  4%|█▉                                           | 21/500 [23:07<7:42:32, 57.94s/trial, best loss: -0.5374596076595446]\u001b[A"
     ]
    },
    {
     "name": "stderr",
     "output_type": "stream",
     "text": [
      "[Stage 69:>   (0 + 1) / 1][Stage 71:>   (0 + 1) / 1][Stage 72:>   (0 + 1) / 1]\r"
     ]
    },
    {
     "name": "stdout",
     "output_type": "stream",
     "text": [
      "\n",
      "  4%|██                                            | 22/500 [24:01<7:32:25, 56.79s/trial, best loss: -0.538343344042464]\u001b[A"
     ]
    },
    {
     "name": "stderr",
     "output_type": "stream",
     "text": [
      "                                                                                \r"
     ]
    },
    {
     "name": "stdout",
     "output_type": "stream",
     "text": [
      "\n",
      "  5%|██                                            | 23/500 [25:16<8:15:06, 62.28s/trial, best loss: -0.538343344042464]\u001b[A"
     ]
    },
    {
     "name": "stderr",
     "output_type": "stream",
     "text": [
      "[Stage 69:>   (0 + 1) / 1][Stage 71:>   (0 + 1) / 1][Stage 72:>   (0 + 1) / 1]  \r"
     ]
    },
    {
     "name": "stdout",
     "output_type": "stream",
     "text": [
      "\n",
      "  5%|██▏                                           | 24/500 [25:26<6:09:51, 46.62s/trial, best loss: -0.538343344042464]\u001b[A"
     ]
    },
    {
     "name": "stderr",
     "output_type": "stream",
     "text": [
      "[Stage 71:>   (0 + 1) / 1][Stage 72:>   (0 + 1) / 1][Stage 73:>   (0 + 1) / 1]  \r"
     ]
    },
    {
     "name": "stdout",
     "output_type": "stream",
     "text": [
      "\n",
      "  5%|██▏                                         | 25/500 [29:44<14:31:30, 110.09s/trial, best loss: -0.538343344042464]\u001b[A"
     ]
    },
    {
     "name": "stderr",
     "output_type": "stream",
     "text": [
      "                                                                                \r"
     ]
    },
    {
     "name": "stdout",
     "output_type": "stream",
     "text": [
      "\n",
      "  5%|██▎                                         | 26/500 [32:16<16:07:11, 122.43s/trial, best loss: -0.538343344042464]\u001b[A"
     ]
    },
    {
     "name": "stderr",
     "output_type": "stream",
     "text": [
      "                                                                                \r"
     ]
    },
    {
     "name": "stdout",
     "output_type": "stream",
     "text": [
      "\n",
      "  5%|██▍                                          | 27/500 [32:54<12:45:46, 97.14s/trial, best loss: -0.538343344042464]\u001b[A"
     ]
    },
    {
     "name": "stderr",
     "output_type": "stream",
     "text": [
      "                                                                                \r"
     ]
    },
    {
     "name": "stdout",
     "output_type": "stream",
     "text": [
      "\n",
      "  6%|██▍                                         | 28/500 [37:32<19:51:48, 151.50s/trial, best loss: -0.538343344042464]\u001b[A"
     ]
    },
    {
     "name": "stderr",
     "output_type": "stream",
     "text": [
      "[Stage 72:>   (0 + 1) / 1][Stage 73:>   (0 + 1) / 1][Stage 74:>   (0 + 1) / 1]  \r"
     ]
    },
    {
     "name": "stdout",
     "output_type": "stream",
     "text": [
      "\n",
      "  6%|██▌                                         | 29/500 [37:36<14:02:02, 107.27s/trial, best loss: -0.538343344042464]\u001b[A"
     ]
    },
    {
     "name": "stderr",
     "output_type": "stream",
     "text": [
      "                                                                                \r"
     ]
    },
    {
     "name": "stdout",
     "output_type": "stream",
     "text": [
      "\n",
      "  6%|██▋                                          | 30/500 [38:39<12:16:28, 94.02s/trial, best loss: -0.538343344042464]\u001b[A"
     ]
    },
    {
     "name": "stderr",
     "output_type": "stream",
     "text": [
      "                                                                                \r"
     ]
    },
    {
     "name": "stdout",
     "output_type": "stream",
     "text": [
      "\n",
      "  6%|██▋                                         | 31/500 [41:05<14:14:58, 109.38s/trial, best loss: -0.538343344042464]\u001b[A"
     ]
    },
    {
     "name": "stderr",
     "output_type": "stream",
     "text": [
      "                                                                                \r"
     ]
    },
    {
     "name": "stdout",
     "output_type": "stream",
     "text": [
      "\n",
      "  6%|██▉                                          | 32/500 [41:47<11:35:40, 89.19s/trial, best loss: -0.538343344042464]\u001b[A"
     ]
    },
    {
     "name": "stderr",
     "output_type": "stream",
     "text": [
      "                                                                                \r"
     ]
    },
    {
     "name": "stdout",
     "output_type": "stream",
     "text": [
      "\n",
      "  7%|██▊                                        | 33/500 [43:54<13:02:54, 100.59s/trial, best loss: -0.5391919588055323]\u001b[A"
     ]
    },
    {
     "name": "stderr",
     "output_type": "stream",
     "text": [
      "[Stage 72:>   (0 + 1) / 1][Stage 73:>   (0 + 1) / 1][Stage 79:>   (0 + 1) / 1]  \r"
     ]
    },
    {
     "name": "stdout",
     "output_type": "stream",
     "text": [
      "\n",
      "  7%|██▉                                        | 34/500 [46:26<15:01:35, 116.08s/trial, best loss: -0.5391919588055323]\u001b[A\n",
      "  7%|███                                         | 35/500 [46:54<11:35:02, 89.68s/trial, best loss: -0.5391919588055323]\u001b[A"
     ]
    },
    {
     "name": "stderr",
     "output_type": "stream",
     "text": [
      "                                                                                \r"
     ]
    },
    {
     "name": "stdout",
     "output_type": "stream",
     "text": [
      "\n",
      "  7%|███▏                                         | 36/500 [47:33<9:36:10, 74.51s/trial, best loss: -0.5391919588055323]\u001b[A"
     ]
    },
    {
     "name": "stderr",
     "output_type": "stream",
     "text": [
      "[Stage 72:>   (0 + 1) / 1][Stage 73:>   (0 + 1) / 1][Stage 79:>   (0 + 1) / 1]  \r"
     ]
    },
    {
     "name": "stdout",
     "output_type": "stream",
     "text": [
      "\n",
      "  7%|███▎                                         | 37/500 [47:43<7:05:40, 55.16s/trial, best loss: -0.5391919588055323]\u001b[A"
     ]
    },
    {
     "name": "stderr",
     "output_type": "stream",
     "text": [
      "[Stage 72:>   (0 + 1) / 1][Stage 73:>   (0 + 1) / 1][Stage 79:>   (0 + 1) / 1]  \r"
     ]
    },
    {
     "name": "stdout",
     "output_type": "stream",
     "text": [
      "\n",
      "  8%|███▍                                         | 38/500 [48:03<5:43:40, 44.63s/trial, best loss: -0.5391919588055323]\u001b[A\n",
      "  8%|███▌                                         | 39/500 [48:21<4:41:39, 36.66s/trial, best loss: -0.5391919588055323]\u001b[A"
     ]
    },
    {
     "name": "stderr",
     "output_type": "stream",
     "text": [
      "                                                                                \r"
     ]
    },
    {
     "name": "stdout",
     "output_type": "stream",
     "text": [
      "\n",
      "  8%|███▌                                         | 40/500 [48:53<4:30:31, 35.29s/trial, best loss: -0.5391919588055323]\u001b[A"
     ]
    },
    {
     "name": "stderr",
     "output_type": "stream",
     "text": [
      "                                                                                \r"
     ]
    },
    {
     "name": "stdout",
     "output_type": "stream",
     "text": [
      "\n",
      "  8%|███▋                                         | 41/500 [49:03<3:32:00, 27.71s/trial, best loss: -0.5391919588055323]\u001b[A"
     ]
    },
    {
     "name": "stderr",
     "output_type": "stream",
     "text": [
      "[Stage 72:>   (0 + 1) / 1][Stage 73:>   (0 + 1) / 1][Stage 79:>   (0 + 1) / 1]\r"
     ]
    },
    {
     "name": "stdout",
     "output_type": "stream",
     "text": [
      "\n",
      "  8%|███▌                                       | 42/500 [53:52<13:28:31, 105.92s/trial, best loss: -0.5391919588055323]\u001b[A"
     ]
    },
    {
     "name": "stderr",
     "output_type": "stream",
     "text": [
      "                                                                                \r"
     ]
    },
    {
     "name": "stdout",
     "output_type": "stream",
     "text": [
      "\n",
      "  9%|███▊                                         | 43/500 [53:56<9:33:57, 75.36s/trial, best loss: -0.5391919588055323]\u001b[A"
     ]
    },
    {
     "name": "stderr",
     "output_type": "stream",
     "text": [
      "[Stage 72:>   (0 + 1) / 1][Stage 73:>   (0 + 1) / 1][Stage 79:>   (0 + 1) / 1]\r"
     ]
    },
    {
     "name": "stdout",
     "output_type": "stream",
     "text": [
      "\n",
      "  9%|███▉                                         | 44/500 [53:57<6:43:32, 53.10s/trial, best loss: -0.5391919588055323]\u001b[A"
     ]
    },
    {
     "name": "stderr",
     "output_type": "stream",
     "text": [
      "                                                                                \r"
     ]
    },
    {
     "name": "stdout",
     "output_type": "stream",
     "text": [
      "\n",
      "  9%|████                                         | 45/500 [54:02<4:53:17, 38.68s/trial, best loss: -0.5391919588055323]\u001b[A"
     ]
    },
    {
     "name": "stderr",
     "output_type": "stream",
     "text": [
      "                                                                                \r"
     ]
    },
    {
     "name": "stdout",
     "output_type": "stream",
     "text": [
      "\n",
      "  9%|████▏                                        | 46/500 [54:04<3:29:28, 27.68s/trial, best loss: -0.5391919588055323]\u001b[A"
     ]
    },
    {
     "name": "stderr",
     "output_type": "stream",
     "text": [
      "[Stage 72:>   (0 + 1) / 1][Stage 73:>   (0 + 1) / 1][Stage 79:>   (0 + 1) / 1]  \r"
     ]
    },
    {
     "name": "stdout",
     "output_type": "stream",
     "text": [
      "\n",
      "  9%|████▏                                        | 47/500 [54:12<2:44:30, 21.79s/trial, best loss: -0.5391919588055323]\u001b[A"
     ]
    },
    {
     "name": "stderr",
     "output_type": "stream",
     "text": [
      "                                                                                \r"
     ]
    },
    {
     "name": "stdout",
     "output_type": "stream",
     "text": [
      "\n",
      " 10%|████▎                                        | 48/500 [54:39<2:56:07, 23.38s/trial, best loss: -0.5391919588055323]\u001b[A"
     ]
    },
    {
     "name": "stderr",
     "output_type": "stream",
     "text": [
      "                                                                                \r"
     ]
    },
    {
     "name": "stdout",
     "output_type": "stream",
     "text": [
      "\n",
      " 10%|████▌                                        | 50/500 [54:40<1:36:09, 12.82s/trial, best loss: -0.5391919588055323]\u001b[A"
     ]
    },
    {
     "name": "stderr",
     "output_type": "stream",
     "text": [
      "                                                                                \r"
     ]
    },
    {
     "name": "stdout",
     "output_type": "stream",
     "text": [
      "\n",
      " 10%|████▌                                        | 51/500 [54:45<1:21:33, 10.90s/trial, best loss: -0.5391919588055323]\u001b[A"
     ]
    },
    {
     "name": "stderr",
     "output_type": "stream",
     "text": [
      "                                                                                \r"
     ]
    },
    {
     "name": "stdout",
     "output_type": "stream",
     "text": [
      "\n",
      " 10%|████▋                                        | 52/500 [54:48<1:06:01,  8.84s/trial, best loss: -0.5391919588055323]\u001b[A"
     ]
    },
    {
     "name": "stderr",
     "output_type": "stream",
     "text": [
      "                                                                                \r"
     ]
    },
    {
     "name": "stdout",
     "output_type": "stream",
     "text": [
      "\n",
      " 11%|████▊                                        | 54/500 [55:03<1:01:31,  8.28s/trial, best loss: -0.5391919588055323]\u001b[A"
     ]
    },
    {
     "name": "stderr",
     "output_type": "stream",
     "text": [
      "                                                                                \r"
     ]
    },
    {
     "name": "stdout",
     "output_type": "stream",
     "text": [
      "\n",
      " 11%|████▉                                        | 55/500 [55:56<2:17:27, 18.53s/trial, best loss: -0.5391919588055323]\u001b[A"
     ]
    },
    {
     "name": "stderr",
     "output_type": "stream",
     "text": [
      "                                                                                \r"
     ]
    },
    {
     "name": "stdout",
     "output_type": "stream",
     "text": [
      "\n",
      " 11%|█████                                        | 56/500 [56:27<2:40:22, 21.67s/trial, best loss: -0.5391919588055323]\u001b[A"
     ]
    },
    {
     "name": "stderr",
     "output_type": "stream",
     "text": [
      "                                                                                \r"
     ]
    },
    {
     "name": "stdout",
     "output_type": "stream",
     "text": [
      "\n",
      " 11%|████▉                                      | 57/500 [1:00:32<9:55:17, 80.63s/trial, best loss: -0.5391919588055323]\u001b[A"
     ]
    },
    {
     "name": "stderr",
     "output_type": "stream",
     "text": [
      "[Stage 73:>   (0 + 1) / 1][Stage 79:>   (0 + 1) / 1][Stage 80:>   (0 + 1) / 1]\r"
     ]
    },
    {
     "name": "stdout",
     "output_type": "stream",
     "text": [
      "\n",
      " 12%|████▉                                      | 58/500 [1:01:15<8:38:18, 70.36s/trial, best loss: -0.5391919588055323]\u001b[A"
     ]
    },
    {
     "name": "stderr",
     "output_type": "stream",
     "text": [
      "[Stage 73:>   (0 + 1) / 1][Stage 79:>   (0 + 1) / 1][Stage 80:>   (0 + 1) / 1]  \r"
     ]
    },
    {
     "name": "stdout",
     "output_type": "stream",
     "text": [
      "\n",
      " 12%|█████                                      | 59/500 [1:01:18<6:18:06, 51.44s/trial, best loss: -0.5391919588055323]\u001b[A"
     ]
    },
    {
     "name": "stderr",
     "output_type": "stream",
     "text": [
      "[Stage 73:>   (0 + 1) / 1][Stage 79:>   (0 + 1) / 1][Stage 80:>   (0 + 1) / 1]  \r"
     ]
    },
    {
     "name": "stdout",
     "output_type": "stream",
     "text": [
      "\n",
      " 12%|████▉                                    | 60/500 [1:07:38<17:46:21, 145.41s/trial, best loss: -0.5391919588055323]\u001b[A"
     ]
    },
    {
     "name": "stderr",
     "output_type": "stream",
     "text": [
      "[Stage 73:>   (0 + 1) / 1][Stage 79:>   (0 + 1) / 1][Stage 80:>   (0 + 1) / 1]  \r"
     ]
    },
    {
     "name": "stdout",
     "output_type": "stream",
     "text": [
      "\n",
      " 12%|█████                                    | 61/500 [1:08:12<13:47:22, 113.08s/trial, best loss: -0.5391919588055323]\u001b[A"
     ]
    },
    {
     "name": "stderr",
     "output_type": "stream",
     "text": [
      "[Stage 73:>   (0 + 1) / 1][Stage 79:>   (0 + 1) / 1][Stage 80:>   (0 + 1) / 1]  \r"
     ]
    },
    {
     "name": "stdout",
     "output_type": "stream",
     "text": [
      "\n",
      " 12%|█████▎                                     | 62/500 [1:08:23<10:07:09, 83.17s/trial, best loss: -0.539612363956724]\u001b[A"
     ]
    },
    {
     "name": "stderr",
     "output_type": "stream",
     "text": [
      "                                                                                \r"
     ]
    },
    {
     "name": "stdout",
     "output_type": "stream",
     "text": [
      "\n",
      " 13%|█████▎                                    | 63/500 [1:11:06<12:57:54, 106.81s/trial, best loss: -0.539612363956724]\u001b[A"
     ]
    },
    {
     "name": "stderr",
     "output_type": "stream",
     "text": [
      "                                                                                \r"
     ]
    },
    {
     "name": "stdout",
     "output_type": "stream",
     "text": [
      "\n",
      " 13%|█████▍                                    | 64/500 [1:15:58<19:36:15, 161.87s/trial, best loss: -0.539612363956724]\u001b[A"
     ]
    },
    {
     "name": "stderr",
     "output_type": "stream",
     "text": [
      "                                                                                \r"
     ]
    },
    {
     "name": "stdout",
     "output_type": "stream",
     "text": [
      "\n",
      " 13%|█████▍                                    | 65/500 [1:18:32<19:15:02, 159.32s/trial, best loss: -0.539612363956724]\u001b[A"
     ]
    },
    {
     "name": "stderr",
     "output_type": "stream",
     "text": [
      "                                                                                \r"
     ]
    },
    {
     "name": "stdout",
     "output_type": "stream",
     "text": [
      "\n",
      " 13%|█████▍                                   | 66/500 [1:19:00<14:29:08, 120.16s/trial, best loss: -0.5397160718797204]\u001b[A"
     ]
    },
    {
     "name": "stderr",
     "output_type": "stream",
     "text": [
      "                                                                                \r"
     ]
    },
    {
     "name": "stdout",
     "output_type": "stream",
     "text": [
      "\n",
      " 13%|█████▍                                   | 67/500 [1:24:59<23:03:17, 191.68s/trial, best loss: -0.5397160718797204]\u001b[A"
     ]
    },
    {
     "name": "stderr",
     "output_type": "stream",
     "text": [
      "                                                                                \r"
     ]
    },
    {
     "name": "stdout",
     "output_type": "stream",
     "text": [
      "\n",
      " 14%|█████▌                                   | 68/500 [1:27:21<21:13:32, 176.88s/trial, best loss: -0.5397160718797204]\u001b[A"
     ]
    },
    {
     "name": "stderr",
     "output_type": "stream",
     "text": [
      "                                                                                \r"
     ]
    },
    {
     "name": "stdout",
     "output_type": "stream",
     "text": [
      "\n",
      " 14%|█████▋                                   | 69/500 [1:27:38<15:26:48, 129.02s/trial, best loss: -0.5397160718797204]\u001b[A"
     ]
    },
    {
     "name": "stderr",
     "output_type": "stream",
     "text": [
      "[Stage 73:>   (0 + 1) / 1][Stage 79:>   (0 + 1) / 1][Stage 80:>   (0 + 1) / 1]  \r"
     ]
    },
    {
     "name": "stdout",
     "output_type": "stream",
     "text": [
      "\n",
      " 14%|█████▋                                   | 70/500 [1:32:20<20:51:49, 174.67s/trial, best loss: -0.5397160718797204]\u001b[A"
     ]
    },
    {
     "name": "stderr",
     "output_type": "stream",
     "text": [
      "                                                                                \r"
     ]
    },
    {
     "name": "stdout",
     "output_type": "stream",
     "text": [
      "\n",
      " 14%|█████▊                                   | 71/500 [1:32:44<15:26:08, 129.53s/trial, best loss: -0.5397160718797204]\u001b[A"
     ]
    },
    {
     "name": "stderr",
     "output_type": "stream",
     "text": [
      "                                                                                \r"
     ]
    },
    {
     "name": "stdout",
     "output_type": "stream",
     "text": [
      "\n",
      " 14%|██████                                    | 72/500 [1:32:59<11:19:10, 95.21s/trial, best loss: -0.5398595688214848]\u001b[A"
     ]
    },
    {
     "name": "stderr",
     "output_type": "stream",
     "text": [
      "                                                                                \r"
     ]
    },
    {
     "name": "stdout",
     "output_type": "stream",
     "text": [
      "\n",
      " 15%|██████▎                                    | 73/500 [1:33:38<9:17:48, 78.38s/trial, best loss: -0.5398595688214848]\u001b[A"
     ]
    },
    {
     "name": "stderr",
     "output_type": "stream",
     "text": [
      "                                                                                \r"
     ]
    },
    {
     "name": "stdout",
     "output_type": "stream",
     "text": [
      "\n",
      " 15%|██████                                   | 74/500 [1:39:07<18:08:59, 153.38s/trial, best loss: -0.5398595688214848]\u001b[A"
     ]
    },
    {
     "name": "stderr",
     "output_type": "stream",
     "text": [
      "                                                                                \r"
     ]
    },
    {
     "name": "stdout",
     "output_type": "stream",
     "text": [
      "\n",
      " 15%|██████▏                                  | 75/500 [1:40:15<15:05:18, 127.81s/trial, best loss: -0.5398595688214848]\u001b[A"
     ]
    },
    {
     "name": "stderr",
     "output_type": "stream",
     "text": [
      "[Stage 73:>   (0 + 1) / 1][Stage 79:>   (0 + 1) / 1][Stage 80:>   (0 + 1) / 1]  \r"
     ]
    },
    {
     "name": "stdout",
     "output_type": "stream",
     "text": [
      "\n",
      " 15%|██████▍                                   | 76/500 [1:40:20<10:42:56, 90.98s/trial, best loss: -0.5398595688214848]\u001b[A"
     ]
    },
    {
     "name": "stderr",
     "output_type": "stream",
     "text": [
      "                                                                                \r"
     ]
    },
    {
     "name": "stdout",
     "output_type": "stream",
     "text": [
      "\n",
      " 15%|██████▌                                    | 77/500 [1:41:03<9:00:07, 76.61s/trial, best loss: -0.5398595688214848]\u001b[A"
     ]
    },
    {
     "name": "stderr",
     "output_type": "stream",
     "text": [
      "[Stage 73:>   (0 + 1) / 1][Stage 79:>   (0 + 1) / 1][Stage 80:>   (0 + 1) / 1]\r"
     ]
    },
    {
     "name": "stdout",
     "output_type": "stream",
     "text": [
      "\n",
      " 16%|██████▋                                    | 78/500 [1:41:52<8:00:47, 68.36s/trial, best loss: -0.5398595688214848]\u001b[A"
     ]
    },
    {
     "name": "stderr",
     "output_type": "stream",
     "text": [
      "                                                                                \r"
     ]
    },
    {
     "name": "stdout",
     "output_type": "stream",
     "text": [
      "\n",
      " 16%|██████▍                                  | 79/500 [1:45:50<13:57:33, 119.37s/trial, best loss: -0.5398595688214848]\u001b[A"
     ]
    },
    {
     "name": "stderr",
     "output_type": "stream",
     "text": [
      "                                                                                \r"
     ]
    },
    {
     "name": "stdout",
     "output_type": "stream",
     "text": [
      "\n",
      " 16%|██████▋                                   | 80/500 [1:46:34<11:17:31, 96.79s/trial, best loss: -0.5398595688214848]\u001b[A"
     ]
    },
    {
     "name": "stderr",
     "output_type": "stream",
     "text": [
      "[Stage 73:>   (0 + 1) / 1][Stage 79:>   (0 + 1) / 1][Stage 80:>   (0 + 1) / 1]  \r"
     ]
    },
    {
     "name": "stdout",
     "output_type": "stream",
     "text": [
      "\n",
      " 16%|██████▋                                  | 81/500 [1:48:54<12:44:46, 109.51s/trial, best loss: -0.5398595688214848]\u001b[A"
     ]
    },
    {
     "name": "stderr",
     "output_type": "stream",
     "text": [
      "[Stage 73:>   (0 + 1) / 1][Stage 79:>   (0 + 1) / 1][Stage 80:>   (0 + 1) / 1]  \r"
     ]
    },
    {
     "name": "stdout",
     "output_type": "stream",
     "text": [
      "\n",
      " 16%|███████                                    | 82/500 [1:48:56<8:58:17, 77.27s/trial, best loss: -0.5398595688214848]\u001b[A"
     ]
    },
    {
     "name": "stderr",
     "output_type": "stream",
     "text": [
      "                                                                                \r"
     ]
    },
    {
     "name": "stdout",
     "output_type": "stream",
     "text": [
      "\n",
      " 17%|██████▊                                  | 83/500 [1:55:54<20:48:37, 179.66s/trial, best loss: -0.5398595688214848]\u001b[A"
     ]
    },
    {
     "name": "stderr",
     "output_type": "stream",
     "text": [
      "[Stage 73:>   (0 + 1) / 1][Stage 79:>   (0 + 1) / 1][Stage 80:>   (0 + 1) / 1]\r"
     ]
    },
    {
     "name": "stdout",
     "output_type": "stream",
     "text": [
      "\n",
      " 17%|██████▉                                  | 84/500 [2:01:39<26:28:28, 229.11s/trial, best loss: -0.5398595688214848]\u001b[A"
     ]
    },
    {
     "name": "stderr",
     "output_type": "stream",
     "text": [
      "                                                                                \r"
     ]
    },
    {
     "name": "stdout",
     "output_type": "stream",
     "text": [
      "\n",
      " 17%|██████▉                                  | 85/500 [2:02:05<19:23:22, 168.20s/trial, best loss: -0.5398595688214848]\u001b[A"
     ]
    },
    {
     "name": "stderr",
     "output_type": "stream",
     "text": [
      "                                                                                \r"
     ]
    },
    {
     "name": "stdout",
     "output_type": "stream",
     "text": [
      "\n",
      " 17%|███████                                  | 86/500 [2:11:10<32:22:05, 281.46s/trial, best loss: -0.5398595688214848]\u001b[A"
     ]
    },
    {
     "name": "stderr",
     "output_type": "stream",
     "text": [
      "[Stage 73:>   (0 + 1) / 1][Stage 79:>   (0 + 1) / 1][Stage 80:>   (0 + 1) / 1]\r"
     ]
    },
    {
     "name": "stdout",
     "output_type": "stream",
     "text": [
      "\n",
      " 17%|███████▏                                 | 87/500 [2:11:54<24:05:10, 209.95s/trial, best loss: -0.5398595688214848]\u001b[A"
     ]
    },
    {
     "name": "stderr",
     "output_type": "stream",
     "text": [
      "[Stage 73:>   (0 + 1) / 1][Stage 79:>   (0 + 1) / 1][Stage 80:>   (0 + 1) / 1]  \r"
     ]
    },
    {
     "name": "stdout",
     "output_type": "stream",
     "text": [
      "\n",
      " 18%|███████▏                                 | 88/500 [2:13:33<20:13:27, 176.72s/trial, best loss: -0.5398595688214848]\u001b[A"
     ]
    },
    {
     "name": "stderr",
     "output_type": "stream",
     "text": [
      "                                                                                \r"
     ]
    },
    {
     "name": "stdout",
     "output_type": "stream",
     "text": [
      "\n",
      " 18%|███████▎                                 | 89/500 [2:14:41<16:27:21, 144.14s/trial, best loss: -0.5398595688214848]\u001b[A"
     ]
    },
    {
     "name": "stderr",
     "output_type": "stream",
     "text": [
      "[Stage 73:>   (0 + 1) / 1][Stage 79:>   (0 + 1) / 1][Stage 80:>   (0 + 1) / 1]  \r"
     ]
    },
    {
     "name": "stdout",
     "output_type": "stream",
     "text": [
      "\n",
      " 18%|███████▍                                 | 90/500 [2:18:35<19:29:55, 171.21s/trial, best loss: -0.5398595688214848]\u001b[A"
     ]
    },
    {
     "name": "stderr",
     "output_type": "stream",
     "text": [
      "[Stage 73:>   (0 + 1) / 1][Stage 79:>   (0 + 1) / 1][Stage 80:>   (0 + 1) / 1]  \r"
     ]
    },
    {
     "name": "stdout",
     "output_type": "stream",
     "text": [
      "\n",
      " 18%|███████▍                                 | 91/500 [2:19:04<14:36:22, 128.56s/trial, best loss: -0.5398595688214848]\u001b[A\n",
      " 18%|███████▋                                  | 92/500 [2:19:16<10:36:32, 93.61s/trial, best loss: -0.5402558354921411]\u001b[A"
     ]
    },
    {
     "name": "stderr",
     "output_type": "stream",
     "text": [
      "                                                                                \r"
     ]
    },
    {
     "name": "stdout",
     "output_type": "stream",
     "text": [
      "\n",
      " 19%|███████▋                                 | 93/500 [2:23:15<15:29:33, 137.04s/trial, best loss: -0.5402558354921411]\u001b[A"
     ]
    },
    {
     "name": "stderr",
     "output_type": "stream",
     "text": [
      "                                                                                \r"
     ]
    },
    {
     "name": "stdout",
     "output_type": "stream",
     "text": [
      "\n",
      " 19%|███████▋                                 | 94/500 [2:23:30<11:19:37, 100.44s/trial, best loss: -0.5402558354921411]\u001b[A"
     ]
    },
    {
     "name": "stderr",
     "output_type": "stream",
     "text": [
      "                                                                                \r"
     ]
    },
    {
     "name": "stdout",
     "output_type": "stream",
     "text": [
      "\n",
      " 19%|████████▏                                  | 95/500 [2:23:45<8:25:02, 74.82s/trial, best loss: -0.5402558354921411]\u001b[A"
     ]
    },
    {
     "name": "stderr",
     "output_type": "stream",
     "text": [
      "[Stage 73:>   (0 + 1) / 1][Stage 79:>   (0 + 1) / 1][Stage 81:>   (0 + 1) / 1]  \r"
     ]
    },
    {
     "name": "stdout",
     "output_type": "stream",
     "text": [
      "\n",
      " 19%|███████▊                                 | 96/500 [2:27:27<13:21:43, 119.07s/trial, best loss: -0.5402558354921411]\u001b[A"
     ]
    },
    {
     "name": "stderr",
     "output_type": "stream",
     "text": [
      "                                                                                \r"
     ]
    },
    {
     "name": "stdout",
     "output_type": "stream",
     "text": [
      "\n",
      " 19%|███████▉                                 | 97/500 [2:35:24<25:20:17, 226.35s/trial, best loss: -0.5402558354921411]\u001b[A"
     ]
    },
    {
     "name": "stderr",
     "output_type": "stream",
     "text": [
      "                                                                                \r"
     ]
    },
    {
     "name": "stdout",
     "output_type": "stream",
     "text": [
      "\n",
      " 20%|████████                                 | 98/500 [2:42:28<31:54:58, 285.82s/trial, best loss: -0.5402558354921411]\u001b[A"
     ]
    },
    {
     "name": "stderr",
     "output_type": "stream",
     "text": [
      "                                                                                \r"
     ]
    },
    {
     "name": "stdout",
     "output_type": "stream",
     "text": [
      "\n",
      " 20%|████████                                 | 99/500 [2:43:25<24:11:40, 217.21s/trial, best loss: -0.5402558354921411]\u001b[A"
     ]
    },
    {
     "name": "stderr",
     "output_type": "stream",
     "text": [
      "[Stage 73:>   (0 + 1) / 1][Stage 79:>   (0 + 1) / 1][Stage 81:>   (0 + 1) / 1]  \r"
     ]
    },
    {
     "name": "stdout",
     "output_type": "stream",
     "text": [
      "\n",
      " 20%|████████                                | 100/500 [2:48:18<26:38:26, 239.77s/trial, best loss: -0.5402558354921411]\u001b[A"
     ]
    },
    {
     "name": "stderr",
     "output_type": "stream",
     "text": [
      "[Stage 73:>   (0 + 1) / 1][Stage 79:>   (0 + 1) / 1][Stage 81:>   (0 + 1) / 1]  \r"
     ]
    },
    {
     "name": "stdout",
     "output_type": "stream",
     "text": [
      "\n",
      " 20%|████████                                | 101/500 [2:48:42<19:24:06, 175.05s/trial, best loss: -0.5402558354921411]\u001b[A\n",
      " 20%|████████▏                               | 102/500 [2:49:24<14:56:34, 135.16s/trial, best loss: -0.5402558354921411]\u001b[A"
     ]
    },
    {
     "name": "stderr",
     "output_type": "stream",
     "text": [
      "                                                                                \r"
     ]
    },
    {
     "name": "stdout",
     "output_type": "stream",
     "text": [
      "\n",
      " 21%|████████▏                               | 103/500 [2:51:57<15:30:17, 140.60s/trial, best loss: -0.5402558354921411]\u001b[A"
     ]
    },
    {
     "name": "stderr",
     "output_type": "stream",
     "text": [
      "                                                                                \r"
     ]
    },
    {
     "name": "stdout",
     "output_type": "stream",
     "text": [
      "\n",
      " 21%|████████▎                               | 104/500 [2:53:30<13:54:02, 126.37s/trial, best loss: -0.5402558354921411]\u001b[A"
     ]
    },
    {
     "name": "stderr",
     "output_type": "stream",
     "text": [
      "                                                                                \r"
     ]
    },
    {
     "name": "stdout",
     "output_type": "stream",
     "text": [
      "\n",
      " 21%|████████▌                                | 105/500 [2:53:41<10:02:10, 91.47s/trial, best loss: -0.5402558354921411]\u001b[A"
     ]
    },
    {
     "name": "stderr",
     "output_type": "stream",
     "text": [
      "                                                                                \r"
     ]
    },
    {
     "name": "stdout",
     "output_type": "stream",
     "text": [
      "\n",
      " 21%|████████▉                                 | 106/500 [2:53:47<7:12:21, 65.84s/trial, best loss: -0.5402558354921411]\u001b[A"
     ]
    },
    {
     "name": "stderr",
     "output_type": "stream",
     "text": [
      "                                                                                \r"
     ]
    },
    {
     "name": "stdout",
     "output_type": "stream",
     "text": [
      "\n",
      " 21%|████████▉                                 | 107/500 [2:53:56<5:19:40, 48.80s/trial, best loss: -0.5402558354921411]\u001b[A"
     ]
    },
    {
     "name": "stderr",
     "output_type": "stream",
     "text": [
      "                                                                                \r"
     ]
    },
    {
     "name": "stdout",
     "output_type": "stream",
     "text": [
      "\n",
      " 22%|█████████                                 | 108/500 [2:54:13<4:16:37, 39.28s/trial, best loss: -0.5402558354921411]\u001b[A"
     ]
    },
    {
     "name": "stderr",
     "output_type": "stream",
     "text": [
      "                                                                                \r"
     ]
    },
    {
     "name": "stdout",
     "output_type": "stream",
     "text": [
      "\n",
      " 22%|█████████▏                                | 109/500 [2:54:43<3:57:58, 36.52s/trial, best loss: -0.5402558354921411]\u001b[A"
     ]
    },
    {
     "name": "stderr",
     "output_type": "stream",
     "text": [
      "[Stage 73:>   (0 + 1) / 1][Stage 79:>   (0 + 1) / 1][Stage 81:>   (0 + 1) / 1]\r"
     ]
    },
    {
     "name": "stdout",
     "output_type": "stream",
     "text": [
      "\n",
      " 22%|█████████▏                                | 110/500 [2:54:46<2:52:04, 26.47s/trial, best loss: -0.5402558354921411]\u001b[A"
     ]
    },
    {
     "name": "stderr",
     "output_type": "stream",
     "text": [
      "[Stage 73:>   (0 + 1) / 1][Stage 79:>   (0 + 1) / 1][Stage 81:>   (0 + 1) / 1]  \r"
     ]
    },
    {
     "name": "stdout",
     "output_type": "stream",
     "text": [
      "\n",
      " 22%|█████████▎                                | 111/500 [2:57:54<8:06:21, 75.02s/trial, best loss: -0.5402558354921411]\u001b[A"
     ]
    },
    {
     "name": "stderr",
     "output_type": "stream",
     "text": [
      "[Stage 73:>   (0 + 1) / 1][Stage 79:>   (0 + 1) / 1][Stage 81:>   (0 + 1) / 1]  \r"
     ]
    },
    {
     "name": "stdout",
     "output_type": "stream",
     "text": [
      "\n",
      " 22%|█████████▍                                | 112/500 [2:58:35<6:59:15, 64.83s/trial, best loss: -0.5402558354921411]\u001b[A"
     ]
    },
    {
     "name": "stderr",
     "output_type": "stream",
     "text": [
      "                                                                                \r"
     ]
    },
    {
     "name": "stdout",
     "output_type": "stream",
     "text": [
      "\n",
      " 23%|█████████▍                                | 113/500 [2:58:47<5:16:01, 49.00s/trial, best loss: -0.5402558354921411]\u001b[A"
     ]
    },
    {
     "name": "stderr",
     "output_type": "stream",
     "text": [
      "                                                                                \r"
     ]
    },
    {
     "name": "stdout",
     "output_type": "stream",
     "text": [
      "\n",
      " 23%|█████████▌                                | 114/500 [3:01:26<8:47:58, 82.07s/trial, best loss: -0.5403205031878582]\u001b[A"
     ]
    },
    {
     "name": "stderr",
     "output_type": "stream",
     "text": [
      "                                                                                \r"
     ]
    },
    {
     "name": "stdout",
     "output_type": "stream",
     "text": [
      "\n",
      " 23%|█████████▏                              | 115/500 [3:06:04<15:02:38, 140.67s/trial, best loss: -0.5403205031878582]\u001b[A"
     ]
    },
    {
     "name": "stderr",
     "output_type": "stream",
     "text": [
      "                                                                                \r"
     ]
    },
    {
     "name": "stdout",
     "output_type": "stream",
     "text": [
      "\n",
      " 23%|█████████▎                              | 116/500 [3:10:15<18:32:48, 173.88s/trial, best loss: -0.5403253302835297]\u001b[A"
     ]
    },
    {
     "name": "stderr",
     "output_type": "stream",
     "text": [
      "                                                                                \r"
     ]
    },
    {
     "name": "stdout",
     "output_type": "stream",
     "text": [
      "\n",
      " 23%|█████████▌                               | 117/500 [3:11:45<15:49:35, 148.76s/trial, best loss: -0.540423351122774]\u001b[A"
     ]
    },
    {
     "name": "stderr",
     "output_type": "stream",
     "text": [
      "                                                                                \r"
     ]
    },
    {
     "name": "stdout",
     "output_type": "stream",
     "text": [
      "\n",
      " 24%|█████████▋                               | 118/500 [3:11:59<11:29:47, 108.34s/trial, best loss: -0.540423351122774]\u001b[A"
     ]
    },
    {
     "name": "stderr",
     "output_type": "stream",
     "text": [
      "                                                                                \r"
     ]
    },
    {
     "name": "stdout",
     "output_type": "stream",
     "text": [
      "\n",
      " 24%|█████████▊                               | 119/500 [3:16:44<17:03:24, 161.17s/trial, best loss: -0.540423351122774]\u001b[A"
     ]
    },
    {
     "name": "stderr",
     "output_type": "stream",
     "text": [
      "[Stage 79:>   (0 + 1) / 1][Stage 81:>   (0 + 1) / 1][Stage 83:>   (0 + 1) / 1]  \r"
     ]
    },
    {
     "name": "stdout",
     "output_type": "stream",
     "text": [
      "\n",
      " 24%|█████████▊                               | 120/500 [3:18:41<15:37:18, 148.00s/trial, best loss: -0.540423351122774]\u001b[A"
     ]
    },
    {
     "name": "stderr",
     "output_type": "stream",
     "text": [
      "[Stage 79:>   (0 + 1) / 1][Stage 81:>   (0 + 1) / 1][Stage 83:>   (0 + 1) / 1]  \r"
     ]
    },
    {
     "name": "stdout",
     "output_type": "stream",
     "text": [
      "\n",
      " 24%|█████████▉                               | 121/500 [3:31:16<34:45:09, 330.10s/trial, best loss: -0.540423351122774]\u001b[A"
     ]
    },
    {
     "name": "stderr",
     "output_type": "stream",
     "text": [
      "                                                                                \r"
     ]
    },
    {
     "name": "stdout",
     "output_type": "stream",
     "text": [
      "\n",
      " 24%|██████████                               | 122/500 [3:32:45<27:04:13, 257.81s/trial, best loss: -0.540423351122774]\u001b[A"
     ]
    },
    {
     "name": "stderr",
     "output_type": "stream",
     "text": [
      "                                                                                \r"
     ]
    },
    {
     "name": "stdout",
     "output_type": "stream",
     "text": [
      "\n",
      " 25%|██████████                               | 123/500 [3:37:48<28:24:02, 271.20s/trial, best loss: -0.540423351122774]\u001b[A"
     ]
    },
    {
     "name": "stderr",
     "output_type": "stream",
     "text": [
      "                                                                                \r"
     ]
    },
    {
     "name": "stdout",
     "output_type": "stream",
     "text": [
      "\n",
      " 25%|██████████▏                              | 124/500 [3:37:56<20:04:47, 192.25s/trial, best loss: -0.540423351122774]\u001b[A"
     ]
    },
    {
     "name": "stderr",
     "output_type": "stream",
     "text": [
      "[Stage 79:>   (0 + 1) / 1][Stage 81:>   (0 + 1) / 1][Stage 83:>   (0 + 1) / 1]\r"
     ]
    },
    {
     "name": "stdout",
     "output_type": "stream",
     "text": [
      "\n",
      " 25%|██████████▎                              | 125/500 [3:38:02<14:12:25, 136.39s/trial, best loss: -0.540423351122774]\u001b[A"
     ]
    },
    {
     "name": "stderr",
     "output_type": "stream",
     "text": [
      "                                                                                \r"
     ]
    },
    {
     "name": "stdout",
     "output_type": "stream",
     "text": [
      "\n",
      " 25%|██████████▎                              | 126/500 [3:38:33<10:53:11, 104.79s/trial, best loss: -0.540423351122774]\u001b[A"
     ]
    },
    {
     "name": "stderr",
     "output_type": "stream",
     "text": [
      "[Stage 79:>   (0 + 1) / 1][Stage 81:>   (0 + 1) / 1][Stage 83:>   (0 + 1) / 1]  \r"
     ]
    },
    {
     "name": "stdout",
     "output_type": "stream",
     "text": [
      "\n",
      " 25%|██████████▉                                | 127/500 [3:38:41<7:51:01, 75.77s/trial, best loss: -0.540423351122774]\u001b[A\n",
      " 26%|██████████▊                               | 128/500 [3:39:02<6:08:00, 59.35s/trial, best loss: -0.5405477915827147]\u001b[A"
     ]
    },
    {
     "name": "stderr",
     "output_type": "stream",
     "text": [
      "                                                                                \r"
     ]
    },
    {
     "name": "stdout",
     "output_type": "stream",
     "text": [
      "\n",
      " 26%|██████████▊                               | 129/500 [3:39:34<5:16:24, 51.17s/trial, best loss: -0.5405477915827147]\u001b[A"
     ]
    },
    {
     "name": "stderr",
     "output_type": "stream",
     "text": [
      "                                                                                \r"
     ]
    },
    {
     "name": "stdout",
     "output_type": "stream",
     "text": [
      "\n",
      " 26%|██████████▉                               | 130/500 [3:40:45<5:52:29, 57.16s/trial, best loss: -0.5405477915827147]\u001b[A"
     ]
    },
    {
     "name": "stderr",
     "output_type": "stream",
     "text": [
      "                                                                                \r"
     ]
    },
    {
     "name": "stdout",
     "output_type": "stream",
     "text": [
      "\n",
      " 26%|███████████                               | 131/500 [3:40:46<4:07:55, 40.31s/trial, best loss: -0.5405477915827147]\u001b[A"
     ]
    },
    {
     "name": "stderr",
     "output_type": "stream",
     "text": [
      "[Stage 79:>   (0 + 1) / 1][Stage 81:>   (0 + 1) / 1][Stage 83:>   (0 + 1) / 1]\r"
     ]
    },
    {
     "name": "stdout",
     "output_type": "stream",
     "text": [
      "\n",
      " 26%|███████████                               | 132/500 [3:40:49<2:58:42, 29.14s/trial, best loss: -0.5405477915827147]\u001b[A"
     ]
    },
    {
     "name": "stderr",
     "output_type": "stream",
     "text": [
      "[Stage 79:>   (0 + 1) / 1][Stage 81:>   (0 + 1) / 1][Stage 83:>   (0 + 1) / 1]  \r"
     ]
    },
    {
     "name": "stdout",
     "output_type": "stream",
     "text": [
      "\n",
      " 27%|███████████▏                              | 133/500 [3:40:59<2:23:13, 23.41s/trial, best loss: -0.5405477915827147]\u001b[A"
     ]
    },
    {
     "name": "stderr",
     "output_type": "stream",
     "text": [
      "                                                                                \r"
     ]
    },
    {
     "name": "stdout",
     "output_type": "stream",
     "text": [
      "\n",
      " 27%|███████████▎                              | 134/500 [3:41:39<2:53:23, 28.43s/trial, best loss: -0.5405477915827147]\u001b[A"
     ]
    },
    {
     "name": "stderr",
     "output_type": "stream",
     "text": [
      "[Stage 79:>   (0 + 1) / 1][Stage 81:>   (0 + 1) / 1][Stage 83:>   (0 + 1) / 1]\r"
     ]
    },
    {
     "name": "stdout",
     "output_type": "stream",
     "text": [
      "\n",
      " 27%|███████████▎                              | 135/500 [3:44:10<6:35:16, 64.98s/trial, best loss: -0.5405477915827147]\u001b[A"
     ]
    },
    {
     "name": "stderr",
     "output_type": "stream",
     "text": [
      "[Stage 79:>   (0 + 1) / 1][Stage 81:>   (0 + 1) / 1][Stage 83:>   (0 + 1) / 1]  \r"
     ]
    },
    {
     "name": "stdout",
     "output_type": "stream",
     "text": [
      "\n",
      " 27%|███████████▍                              | 136/500 [3:44:41<5:32:29, 54.81s/trial, best loss: -0.5405477915827147]\u001b[A"
     ]
    },
    {
     "name": "stderr",
     "output_type": "stream",
     "text": [
      "                                                                                \r"
     ]
    },
    {
     "name": "stdout",
     "output_type": "stream",
     "text": [
      "\n",
      " 27%|██████████▉                             | 137/500 [3:56:32<25:22:34, 251.66s/trial, best loss: -0.5405477915827147]\u001b[A"
     ]
    },
    {
     "name": "stderr",
     "output_type": "stream",
     "text": [
      "                                                                                \r"
     ]
    },
    {
     "name": "stdout",
     "output_type": "stream",
     "text": [
      "\n",
      " 28%|███████████                             | 138/500 [3:59:03<22:16:35, 221.53s/trial, best loss: -0.5405477915827147]\u001b[A"
     ]
    },
    {
     "name": "stderr",
     "output_type": "stream",
     "text": [
      "[Stage 79:>   (0 + 1) / 1][Stage 81:>   (0 + 1) / 1][Stage 83:>   (0 + 1) / 1]  \r"
     ]
    },
    {
     "name": "stdout",
     "output_type": "stream",
     "text": [
      "\n",
      " 28%|███████████                             | 139/500 [4:01:03<19:09:58, 191.13s/trial, best loss: -0.5405477915827147]\u001b[A"
     ]
    },
    {
     "name": "stderr",
     "output_type": "stream",
     "text": [
      "[Stage 79:>   (0 + 1) / 1][Stage 81:>   (0 + 1) / 1][Stage 83:>   (0 + 1) / 1]\r"
     ]
    },
    {
     "name": "stdout",
     "output_type": "stream",
     "text": [
      "\n",
      " 28%|███████████▏                            | 140/500 [4:04:03<18:47:14, 187.87s/trial, best loss: -0.5405477915827147]\u001b[A"
     ]
    },
    {
     "name": "stderr",
     "output_type": "stream",
     "text": [
      "[Stage 79:>   (0 + 1) / 1][Stage 81:>   (0 + 1) / 1][Stage 83:>   (0 + 1) / 1]  \r"
     ]
    },
    {
     "name": "stdout",
     "output_type": "stream",
     "text": [
      "\n",
      " 28%|███████████▎                            | 141/500 [4:07:33<19:22:37, 194.31s/trial, best loss: -0.5405477915827147]\u001b[A"
     ]
    },
    {
     "name": "stderr",
     "output_type": "stream",
     "text": [
      "                                                                                \r"
     ]
    },
    {
     "name": "stdout",
     "output_type": "stream",
     "text": [
      "\n",
      " 28%|███████████▎                            | 142/500 [4:09:23<16:48:49, 169.08s/trial, best loss: -0.5405477915827147]\u001b[A"
     ]
    },
    {
     "name": "stderr",
     "output_type": "stream",
     "text": [
      "                                                                                \r"
     ]
    },
    {
     "name": "stdout",
     "output_type": "stream",
     "text": [
      "\n",
      " 29%|███████████▍                            | 143/500 [4:11:09<14:53:52, 150.23s/trial, best loss: -0.5405477915827147]\u001b[A"
     ]
    },
    {
     "name": "stderr",
     "output_type": "stream",
     "text": [
      "                                                                                \r"
     ]
    },
    {
     "name": "stdout",
     "output_type": "stream",
     "text": [
      "\n",
      " 29%|███████████▌                            | 144/500 [4:13:31<14:37:08, 147.83s/trial, best loss: -0.5405477915827147]\u001b[A"
     ]
    },
    {
     "name": "stderr",
     "output_type": "stream",
     "text": [
      "                                                                                \r"
     ]
    },
    {
     "name": "stdout",
     "output_type": "stream",
     "text": [
      "\n",
      " 29%|███████████▌                            | 145/500 [4:14:05<11:12:46, 113.71s/trial, best loss: -0.5405477915827147]\u001b[A"
     ]
    },
    {
     "name": "stderr",
     "output_type": "stream",
     "text": [
      "                                                                                \r"
     ]
    },
    {
     "name": "stdout",
     "output_type": "stream",
     "text": [
      "\n",
      " 29%|███████████▋                            | 146/500 [4:15:47<10:48:42, 109.95s/trial, best loss: -0.5405477915827147]\u001b[A"
     ]
    },
    {
     "name": "stderr",
     "output_type": "stream",
     "text": [
      "                                                                                \r"
     ]
    },
    {
     "name": "stdout",
     "output_type": "stream",
     "text": [
      "\n",
      " 29%|███████████▊                            | 147/500 [4:17:34<10:42:00, 109.12s/trial, best loss: -0.5405477915827147]\u001b[A"
     ]
    },
    {
     "name": "stderr",
     "output_type": "stream",
     "text": [
      "                                                                                \r"
     ]
    },
    {
     "name": "stdout",
     "output_type": "stream",
     "text": [
      "\n",
      " 30%|███████████▊                            | 148/500 [4:20:09<12:01:25, 122.97s/trial, best loss: -0.5405477915827147]\u001b[A"
     ]
    },
    {
     "name": "stderr",
     "output_type": "stream",
     "text": [
      "                                                                                \r"
     ]
    },
    {
     "name": "stdout",
     "output_type": "stream",
     "text": [
      "\n",
      " 30%|████████████▏                            | 149/500 [4:21:00<9:53:14, 101.41s/trial, best loss: -0.5405477915827147]\u001b[A"
     ]
    },
    {
     "name": "stderr",
     "output_type": "stream",
     "text": [
      "[Stage 79:>   (0 + 1) / 1][Stage 83:>   (0 + 1) / 1][Stage 91:>   (0 + 1) / 1]  \r"
     ]
    },
    {
     "name": "stdout",
     "output_type": "stream",
     "text": [
      "\n",
      " 30%|████████████▌                             | 150/500 [4:21:36<7:57:13, 81.81s/trial, best loss: -0.5405477915827147]\u001b[A"
     ]
    },
    {
     "name": "stderr",
     "output_type": "stream",
     "text": [
      "                                                                                \r"
     ]
    },
    {
     "name": "stdout",
     "output_type": "stream",
     "text": [
      "\n",
      " 30%|████████████▋                             | 151/500 [4:21:48<5:54:08, 60.88s/trial, best loss: -0.5405477915827147]\u001b[A"
     ]
    },
    {
     "name": "stderr",
     "output_type": "stream",
     "text": [
      "[Stage 79:>   (0 + 1) / 1][Stage 83:>   (0 + 1) / 1][Stage 110:>  (0 + 1) / 1]  \r"
     ]
    },
    {
     "name": "stdout",
     "output_type": "stream",
     "text": [
      "\n",
      " 30%|████████████▊                             | 152/500 [4:21:57<4:22:55, 45.33s/trial, best loss: -0.5405477915827147]\u001b[A\n",
      " 31%|████████████▊                             | 153/500 [4:22:43<4:21:46, 45.26s/trial, best loss: -0.5405477915827147]\u001b[A"
     ]
    },
    {
     "name": "stderr",
     "output_type": "stream",
     "text": [
      "                                                                                \r"
     ]
    },
    {
     "name": "stdout",
     "output_type": "stream",
     "text": [
      "\n",
      " 31%|████████████▉                             | 154/500 [4:24:47<6:37:36, 68.95s/trial, best loss: -0.5405477915827147]\u001b[A"
     ]
    },
    {
     "name": "stderr",
     "output_type": "stream",
     "text": [
      "[Stage 79:>   (0 + 1) / 1][Stage 83:>   (0 + 1) / 1][Stage 110:>  (0 + 1) / 1]  \r"
     ]
    },
    {
     "name": "stdout",
     "output_type": "stream",
     "text": [
      "\n",
      " 31%|█████████████                             | 155/500 [4:24:55<4:51:22, 50.68s/trial, best loss: -0.5405477915827147]\u001b[A"
     ]
    },
    {
     "name": "stderr",
     "output_type": "stream",
     "text": [
      "                                                                                \r"
     ]
    },
    {
     "name": "stdout",
     "output_type": "stream",
     "text": [
      "\n",
      " 31%|█████████████                             | 156/500 [4:25:56<5:08:30, 53.81s/trial, best loss: -0.5405477915827147]\u001b[A"
     ]
    },
    {
     "name": "stderr",
     "output_type": "stream",
     "text": [
      "[Stage 79:>   (0 + 1) / 1][Stage 83:>   (0 + 1) / 1][Stage 110:>  (0 + 1) / 1]  \r"
     ]
    },
    {
     "name": "stdout",
     "output_type": "stream",
     "text": [
      "\n",
      " 31%|█████████████▏                            | 157/500 [4:27:04<5:32:12, 58.11s/trial, best loss: -0.5405477915827147]\u001b[A"
     ]
    },
    {
     "name": "stderr",
     "output_type": "stream",
     "text": [
      "[Stage 79:>   (0 + 1) / 1][Stage 83:>   (0 + 1) / 1][Stage 110:>  (0 + 1) / 1]  \r"
     ]
    },
    {
     "name": "stdout",
     "output_type": "stream",
     "text": [
      "\n",
      " 32%|█████████████▎                            | 158/500 [4:27:15<4:10:47, 44.00s/trial, best loss: -0.5405477915827147]\u001b[A"
     ]
    },
    {
     "name": "stderr",
     "output_type": "stream",
     "text": [
      "                                                                                \r"
     ]
    },
    {
     "name": "stdout",
     "output_type": "stream",
     "text": [
      "\n",
      " 32%|█████████████▎                            | 159/500 [4:27:17<2:58:32, 31.41s/trial, best loss: -0.5405477915827147]\u001b[A"
     ]
    },
    {
     "name": "stderr",
     "output_type": "stream",
     "text": [
      "[Stage 79:>   (0 + 1) / 1][Stage 83:>   (0 + 1) / 1][Stage 110:>  (0 + 1) / 1]\r"
     ]
    },
    {
     "name": "stdout",
     "output_type": "stream",
     "text": [
      "\n",
      " 32%|█████████████▍                            | 160/500 [4:28:21<3:53:38, 41.23s/trial, best loss: -0.5405477915827147]\u001b[A"
     ]
    },
    {
     "name": "stderr",
     "output_type": "stream",
     "text": [
      "                                                                                \r"
     ]
    },
    {
     "name": "stdout",
     "output_type": "stream",
     "text": [
      "\n",
      " 32%|█████████████▌                            | 161/500 [4:31:28<7:58:56, 84.77s/trial, best loss: -0.5405477915827147]\u001b[A"
     ]
    },
    {
     "name": "stderr",
     "output_type": "stream",
     "text": [
      "                                                                                \r"
     ]
    },
    {
     "name": "stdout",
     "output_type": "stream",
     "text": [
      "\n",
      " 32%|████████████▉                           | 162/500 [4:35:12<11:53:29, 126.66s/trial, best loss: -0.5405477915827147]\u001b[A"
     ]
    },
    {
     "name": "stderr",
     "output_type": "stream",
     "text": [
      "[Stage 79:>   (0 + 1) / 1][Stage 83:>   (0 + 1) / 1][Stage 110:>  (0 + 1) / 1]  \r"
     ]
    },
    {
     "name": "stdout",
     "output_type": "stream",
     "text": [
      "\n",
      " 33%|█████████████▎                           | 163/500 [4:36:04<9:45:48, 104.30s/trial, best loss: -0.5405477915827147]\u001b[A"
     ]
    },
    {
     "name": "stderr",
     "output_type": "stream",
     "text": [
      "[Stage 79:>   (0 + 1) / 1][Stage 83:>   (0 + 1) / 1][Stage 110:>  (0 + 1) / 1]\r"
     ]
    },
    {
     "name": "stdout",
     "output_type": "stream",
     "text": [
      "\n",
      " 33%|█████████████▍                           | 164/500 [4:37:56<9:57:21, 106.67s/trial, best loss: -0.5405477915827147]\u001b[A"
     ]
    },
    {
     "name": "stderr",
     "output_type": "stream",
     "text": [
      "                                                                                \r"
     ]
    },
    {
     "name": "stdout",
     "output_type": "stream",
     "text": [
      "\n",
      " 33%|█████████████▏                          | 165/500 [4:42:36<14:45:02, 158.51s/trial, best loss: -0.5405477915827147]\u001b[A"
     ]
    },
    {
     "name": "stderr",
     "output_type": "stream",
     "text": [
      "                                                                                \r"
     ]
    },
    {
     "name": "stdout",
     "output_type": "stream",
     "text": [
      "\n",
      " 33%|█████████████▎                          | 166/500 [4:44:45<13:53:35, 149.75s/trial, best loss: -0.5405477915827147]\u001b[A"
     ]
    },
    {
     "name": "stderr",
     "output_type": "stream",
     "text": [
      "                                                                                \r"
     ]
    },
    {
     "name": "stdout",
     "output_type": "stream",
     "text": [
      "\n",
      " 33%|█████████████▎                          | 167/500 [4:49:37<17:47:08, 192.28s/trial, best loss: -0.5405477915827147]\u001b[A"
     ]
    },
    {
     "name": "stderr",
     "output_type": "stream",
     "text": [
      "[Stage 79:>   (0 + 1) / 1][Stage 83:>   (0 + 1) / 1][Stage 110:>  (0 + 1) / 1]  \r"
     ]
    },
    {
     "name": "stdout",
     "output_type": "stream",
     "text": [
      "\n",
      " 34%|█████████████▍                          | 168/500 [4:52:00<16:22:33, 177.57s/trial, best loss: -0.5405477915827147]\u001b[A"
     ]
    },
    {
     "name": "stderr",
     "output_type": "stream",
     "text": [
      "                                                                                \r"
     ]
    },
    {
     "name": "stdout",
     "output_type": "stream",
     "text": [
      "\n",
      " 34%|█████████████▌                          | 169/500 [4:56:21<18:38:23, 202.73s/trial, best loss: -0.5405477915827147]\u001b[A"
     ]
    },
    {
     "name": "stderr",
     "output_type": "stream",
     "text": [
      "[Stage 79:>   (0 + 1) / 1][Stage 83:>   (0 + 1) / 1][Stage 110:>  (0 + 1) / 1]  \r"
     ]
    },
    {
     "name": "stdout",
     "output_type": "stream",
     "text": [
      "\n",
      " 34%|█████████████▌                          | 170/500 [4:56:47<13:43:32, 149.73s/trial, best loss: -0.5405477915827147]\u001b[A"
     ]
    },
    {
     "name": "stderr",
     "output_type": "stream",
     "text": [
      "                                                                                \r"
     ]
    },
    {
     "name": "stdout",
     "output_type": "stream",
     "text": [
      "\n",
      " 34%|█████████████▋                          | 171/500 [5:03:42<20:56:52, 229.22s/trial, best loss: -0.5405477915827147]\u001b[A"
     ]
    },
    {
     "name": "stderr",
     "output_type": "stream",
     "text": [
      "                                                                                \r"
     ]
    },
    {
     "name": "stdout",
     "output_type": "stream",
     "text": [
      "\n",
      " 34%|█████████████▊                          | 172/500 [5:06:02<18:27:12, 202.54s/trial, best loss: -0.5405477915827147]\u001b[A"
     ]
    },
    {
     "name": "stderr",
     "output_type": "stream",
     "text": [
      "                                                                                \r"
     ]
    },
    {
     "name": "stdout",
     "output_type": "stream",
     "text": [
      "\n",
      " 35%|█████████████▊                          | 173/500 [5:10:29<20:08:22, 221.72s/trial, best loss: -0.5405477915827147]\u001b[A"
     ]
    },
    {
     "name": "stderr",
     "output_type": "stream",
     "text": [
      "[Stage 79:>   (0 + 1) / 1][Stage 83:>   (0 + 1) / 1][Stage 110:>  (0 + 1) / 1]\r"
     ]
    },
    {
     "name": "stdout",
     "output_type": "stream",
     "text": [
      "\n",
      " 35%|█████████████▉                          | 174/500 [5:10:57<14:49:01, 163.62s/trial, best loss: -0.5405477915827147]\u001b[A"
     ]
    },
    {
     "name": "stderr",
     "output_type": "stream",
     "text": [
      "                                                                                \r"
     ]
    },
    {
     "name": "stdout",
     "output_type": "stream",
     "text": [
      "\n",
      " 35%|██████████████                          | 175/500 [5:11:01<10:26:57, 115.75s/trial, best loss: -0.5405477915827147]\u001b[A"
     ]
    },
    {
     "name": "stderr",
     "output_type": "stream",
     "text": [
      "                                                                                \r"
     ]
    },
    {
     "name": "stdout",
     "output_type": "stream",
     "text": [
      "\n",
      " 35%|██████████████▊                           | 176/500 [5:11:08<7:28:55, 83.13s/trial, best loss: -0.5405477915827147]\u001b[A"
     ]
    },
    {
     "name": "stderr",
     "output_type": "stream",
     "text": [
      "                                                                                \r"
     ]
    },
    {
     "name": "stdout",
     "output_type": "stream",
     "text": [
      "\n",
      " 35%|██████████████▌                          | 177/500 [5:13:36<9:12:43, 102.67s/trial, best loss: -0.5405477915827147]\u001b[A"
     ]
    },
    {
     "name": "stderr",
     "output_type": "stream",
     "text": [
      "                                                                                \r"
     ]
    },
    {
     "name": "stdout",
     "output_type": "stream",
     "text": [
      "\n",
      " 36%|██████████████▉                           | 178/500 [5:14:47<8:20:14, 93.21s/trial, best loss: -0.5405477915827147]\u001b[A"
     ]
    },
    {
     "name": "stderr",
     "output_type": "stream",
     "text": [
      "[Stage 83:>   (0 + 1) / 1][Stage 110:>  (0 + 1) / 1][Stage 122:>  (0 + 1) / 1]  \r"
     ]
    },
    {
     "name": "stdout",
     "output_type": "stream",
     "text": [
      "\n",
      " 36%|███████████████                           | 179/500 [5:15:41<7:14:19, 81.18s/trial, best loss: -0.5405477915827147]\u001b[A"
     ]
    },
    {
     "name": "stderr",
     "output_type": "stream",
     "text": [
      "                                                                                \r"
     ]
    },
    {
     "name": "stdout",
     "output_type": "stream",
     "text": [
      "\n",
      " 36%|███████████████▍                           | 180/500 [5:16:30<6:21:39, 71.56s/trial, best loss: -0.540646251659893]\u001b[A"
     ]
    },
    {
     "name": "stderr",
     "output_type": "stream",
     "text": [
      "[Stage 83:>   (0 + 1) / 1][Stage 110:>  (0 + 1) / 1][Stage 122:>  (0 + 1) / 1]\r"
     ]
    },
    {
     "name": "stdout",
     "output_type": "stream",
     "text": [
      "\n",
      " 36%|██████████████▊                          | 181/500 [5:24:08<16:38:02, 187.72s/trial, best loss: -0.540646251659893]\u001b[A"
     ]
    },
    {
     "name": "stderr",
     "output_type": "stream",
     "text": [
      "[Stage 110:>  (0 + 1) / 1][Stage 122:>  (0 + 1) / 1][Stage 163:>  (0 + 1) / 1]  \r"
     ]
    },
    {
     "name": "stdout",
     "output_type": "stream",
     "text": [
      "\n",
      " 36%|██████████████▉                          | 182/500 [5:24:20<11:54:03, 134.73s/trial, best loss: -0.540646251659893]\u001b[A"
     ]
    },
    {
     "name": "stderr",
     "output_type": "stream",
     "text": [
      "[Stage 122:>  (0 + 1) / 1][Stage 163:>  (0 + 1) / 1][Stage 169:>  (0 + 1) / 1]  \r"
     ]
    },
    {
     "name": "stdout",
     "output_type": "stream",
     "text": [
      "\n",
      " 37%|███████████████                          | 183/500 [5:25:43<10:30:05, 119.26s/trial, best loss: -0.540646251659893]\u001b[A"
     ]
    },
    {
     "name": "stderr",
     "output_type": "stream",
     "text": [
      "                                                                                \r"
     ]
    },
    {
     "name": "stdout",
     "output_type": "stream",
     "text": [
      "\n",
      " 37%|███████████████▍                          | 184/500 [5:26:59<9:20:00, 106.33s/trial, best loss: -0.540646251659893]\u001b[A"
     ]
    },
    {
     "name": "stderr",
     "output_type": "stream",
     "text": [
      "                                                                                \r"
     ]
    },
    {
     "name": "stdout",
     "output_type": "stream",
     "text": [
      "\n",
      " 37%|███████████████▌                          | 185/500 [5:28:37<9:05:25, 103.89s/trial, best loss: -0.540646251659893]\u001b[A"
     ]
    },
    {
     "name": "stderr",
     "output_type": "stream",
     "text": [
      "[Stage 122:>  (0 + 1) / 1][Stage 163:>  (0 + 1) / 1][Stage 169:>  (0 + 1) / 1]  \r"
     ]
    },
    {
     "name": "stdout",
     "output_type": "stream",
     "text": [
      "\n",
      " 37%|███████████████▌                          | 186/500 [5:30:08<8:43:44, 100.08s/trial, best loss: -0.540646251659893]\u001b[A"
     ]
    },
    {
     "name": "stderr",
     "output_type": "stream",
     "text": [
      "[Stage 122:>  (0 + 1) / 1][Stage 163:>  (0 + 1) / 1][Stage 169:>  (0 + 1) / 1]\r"
     ]
    },
    {
     "name": "stdout",
     "output_type": "stream",
     "text": [
      "\n",
      " 37%|████████████████                           | 187/500 [5:31:40<8:29:41, 97.71s/trial, best loss: -0.540646251659893]\u001b[A"
     ]
    },
    {
     "name": "stderr",
     "output_type": "stream",
     "text": [
      "[Stage 122:>  (0 + 1) / 1][Stage 163:>  (0 + 1) / 1][Stage 169:>  (0 + 1) / 1]  \r"
     ]
    },
    {
     "name": "stdout",
     "output_type": "stream",
     "text": [
      "\n",
      " 38%|███████████████▍                         | 188/500 [5:37:28<14:57:52, 172.67s/trial, best loss: -0.540646251659893]\u001b[A"
     ]
    },
    {
     "name": "stderr",
     "output_type": "stream",
     "text": [
      "                                                                                \r"
     ]
    },
    {
     "name": "stdout",
     "output_type": "stream",
     "text": [
      "\n",
      " 38%|███████████████▍                         | 189/500 [5:43:05<19:09:52, 221.84s/trial, best loss: -0.540646251659893]\u001b[A"
     ]
    },
    {
     "name": "stderr",
     "output_type": "stream",
     "text": [
      "                                                                                \r"
     ]
    },
    {
     "name": "stdout",
     "output_type": "stream",
     "text": [
      "\n",
      " 38%|███████████████▌                         | 190/500 [5:46:29<18:39:05, 216.60s/trial, best loss: -0.540646251659893]\u001b[A"
     ]
    },
    {
     "name": "stderr",
     "output_type": "stream",
     "text": [
      "[Stage 122:>  (0 + 1) / 1][Stage 163:>  (0 + 1) / 1][Stage 169:>  (0 + 1) / 1]\r"
     ]
    },
    {
     "name": "stdout",
     "output_type": "stream",
     "text": [
      "\n",
      " 38%|███████████████▋                         | 191/500 [5:48:21<15:54:13, 185.29s/trial, best loss: -0.540646251659893]\u001b[A"
     ]
    },
    {
     "name": "stderr",
     "output_type": "stream",
     "text": [
      "[Stage 122:>  (0 + 1) / 1][Stage 163:>  (0 + 1) / 1][Stage 169:>  (0 + 1) / 1]  \r"
     ]
    },
    {
     "name": "stdout",
     "output_type": "stream",
     "text": [
      "\n",
      " 38%|███████████████▋                         | 192/500 [5:50:14<14:00:08, 163.66s/trial, best loss: -0.540646251659893]\u001b[A"
     ]
    },
    {
     "name": "stderr",
     "output_type": "stream",
     "text": [
      "                                                                                \r"
     ]
    },
    {
     "name": "stdout",
     "output_type": "stream",
     "text": [
      "\n",
      " 39%|███████████████▊                         | 193/500 [5:50:36<10:20:04, 121.19s/trial, best loss: -0.540646251659893]\u001b[A"
     ]
    },
    {
     "name": "stderr",
     "output_type": "stream",
     "text": [
      "[Stage 122:>  (0 + 1) / 1][Stage 163:>  (0 + 1) / 1][Stage 169:>  (0 + 1) / 1]  \r"
     ]
    },
    {
     "name": "stdout",
     "output_type": "stream",
     "text": [
      "\n",
      " 39%|███████████████▉                         | 194/500 [5:56:32<16:16:42, 191.51s/trial, best loss: -0.540646251659893]\u001b[A"
     ]
    },
    {
     "name": "stderr",
     "output_type": "stream",
     "text": [
      "                                                                                \r"
     ]
    },
    {
     "name": "stdout",
     "output_type": "stream",
     "text": [
      "\n",
      " 39%|███████████████▉                         | 195/500 [6:07:39<28:18:53, 334.21s/trial, best loss: -0.540646251659893]\u001b[A"
     ]
    },
    {
     "name": "stderr",
     "output_type": "stream",
     "text": [
      "                                                                                \r"
     ]
    },
    {
     "name": "stdout",
     "output_type": "stream",
     "text": [
      "\n",
      " 39%|████████████████                         | 196/500 [6:08:19<20:46:18, 245.98s/trial, best loss: -0.540646251659893]\u001b[A"
     ]
    },
    {
     "name": "stderr",
     "output_type": "stream",
     "text": [
      "                                                                                \r"
     ]
    },
    {
     "name": "stdout",
     "output_type": "stream",
     "text": [
      "\n",
      " 39%|████████████████▏                        | 197/500 [6:09:56<16:55:17, 201.05s/trial, best loss: -0.540646251659893]\u001b[A"
     ]
    },
    {
     "name": "stderr",
     "output_type": "stream",
     "text": [
      "[Stage 122:>  (0 + 1) / 1][Stage 163:>  (0 + 1) / 1][Stage 169:>  (0 + 1) / 1]\r"
     ]
    },
    {
     "name": "stdout",
     "output_type": "stream",
     "text": [
      "\n",
      " 40%|████████████████▏                        | 198/500 [6:29:39<41:34:46, 495.65s/trial, best loss: -0.540646251659893]\u001b[A"
     ]
    },
    {
     "name": "stderr",
     "output_type": "stream",
     "text": [
      "                                                                                \r"
     ]
    },
    {
     "name": "stdout",
     "output_type": "stream",
     "text": [
      "\n",
      " 40%|████████████████▎                        | 199/500 [6:30:26<30:11:27, 361.09s/trial, best loss: -0.540646251659893]\u001b[A"
     ]
    },
    {
     "name": "stderr",
     "output_type": "stream",
     "text": [
      "                                                                                \r"
     ]
    },
    {
     "name": "stdout",
     "output_type": "stream",
     "text": [
      "\n",
      " 40%|████████████████▍                        | 200/500 [6:30:49<21:38:23, 259.68s/trial, best loss: -0.540646251659893]\u001b[A"
     ]
    },
    {
     "name": "stderr",
     "output_type": "stream",
     "text": [
      "                                                                                \r"
     ]
    },
    {
     "name": "stdout",
     "output_type": "stream",
     "text": [
      "\n",
      " 40%|████████████████▍                        | 201/500 [6:34:34<20:42:51, 249.40s/trial, best loss: -0.540646251659893]\u001b[A"
     ]
    },
    {
     "name": "stderr",
     "output_type": "stream",
     "text": [
      "[Stage 122:>  (0 + 1) / 1][Stage 163:>  (0 + 1) / 1][Stage 169:>  (0 + 1) / 1]  \r"
     ]
    },
    {
     "name": "stdout",
     "output_type": "stream",
     "text": [
      "\n",
      " 40%|████████████████▌                        | 202/500 [6:35:01<15:07:26, 182.71s/trial, best loss: -0.540646251659893]\u001b[A"
     ]
    },
    {
     "name": "stderr",
     "output_type": "stream",
     "text": [
      "[Stage 122:>  (0 + 1) / 1][Stage 163:>  (0 + 1) / 1][Stage 169:>  (0 + 1) / 1]  \r"
     ]
    },
    {
     "name": "stdout",
     "output_type": "stream",
     "text": [
      "\n",
      " 41%|████████████████▋                        | 203/500 [6:38:29<15:41:03, 190.11s/trial, best loss: -0.540646251659893]\u001b[A"
     ]
    },
    {
     "name": "stderr",
     "output_type": "stream",
     "text": [
      "[Stage 122:>  (0 + 1) / 1][Stage 163:>  (0 + 1) / 1][Stage 169:>  (0 + 1) / 1]\r"
     ]
    },
    {
     "name": "stdout",
     "output_type": "stream",
     "text": [
      "\n",
      " 41%|████████████████▋                        | 204/500 [6:41:12<14:58:12, 182.07s/trial, best loss: -0.540646251659893]\u001b[A"
     ]
    },
    {
     "name": "stderr",
     "output_type": "stream",
     "text": [
      "                                                                                \r"
     ]
    },
    {
     "name": "stdout",
     "output_type": "stream",
     "text": [
      "\n",
      " 41%|████████████████▊                        | 205/500 [6:44:54<15:54:41, 194.17s/trial, best loss: -0.540646251659893]\u001b[A"
     ]
    },
    {
     "name": "stderr",
     "output_type": "stream",
     "text": [
      "[Stage 122:>  (0 + 1) / 1][Stage 163:>  (0 + 1) / 1][Stage 169:>  (0 + 1) / 1]\r"
     ]
    },
    {
     "name": "stdout",
     "output_type": "stream",
     "text": [
      "\n",
      " 41%|████████████████▉                        | 206/500 [6:46:09<12:55:02, 158.17s/trial, best loss: -0.540646251659893]\u001b[A"
     ]
    },
    {
     "name": "stderr",
     "output_type": "stream",
     "text": [
      "[Stage 122:>  (0 + 1) / 1][Stage 163:>  (0 + 1) / 1][Stage 169:>  (0 + 1) / 1]  \r"
     ]
    },
    {
     "name": "stdout",
     "output_type": "stream",
     "text": [
      "\n",
      " 41%|████████████████▉                        | 207/500 [6:49:33<14:00:05, 172.03s/trial, best loss: -0.540646251659893]\u001b[A"
     ]
    },
    {
     "name": "stderr",
     "output_type": "stream",
     "text": [
      "                                                                                \r"
     ]
    },
    {
     "name": "stdout",
     "output_type": "stream",
     "text": [
      "\n",
      " 42%|█████████████████                        | 208/500 [6:51:53<13:10:50, 162.50s/trial, best loss: -0.540646251659893]\u001b[A"
     ]
    },
    {
     "name": "stderr",
     "output_type": "stream",
     "text": [
      "                                                                                \r"
     ]
    },
    {
     "name": "stdout",
     "output_type": "stream",
     "text": [
      "\n",
      " 42%|████████████████▋                       | 209/500 [6:53:52<12:05:10, 149.52s/trial, best loss: -0.5415667423236692]\u001b[A"
     ]
    },
    {
     "name": "stderr",
     "output_type": "stream",
     "text": [
      "                                                                                \r"
     ]
    },
    {
     "name": "stdout",
     "output_type": "stream",
     "text": [
      "\n",
      " 42%|████████████████▊                       | 210/500 [6:56:58<12:54:38, 160.27s/trial, best loss: -0.5415667423236692]\u001b[A"
     ]
    },
    {
     "name": "stderr",
     "output_type": "stream",
     "text": [
      "                                                                                \r"
     ]
    },
    {
     "name": "stdout",
     "output_type": "stream",
     "text": [
      "\n",
      " 42%|████████████████▉                       | 211/500 [7:00:35<14:14:31, 177.41s/trial, best loss: -0.5415667423236692]\u001b[A"
     ]
    },
    {
     "name": "stderr",
     "output_type": "stream",
     "text": [
      "                                                                                \r"
     ]
    },
    {
     "name": "stdout",
     "output_type": "stream",
     "text": [
      "\n",
      " 42%|████████████████▉                       | 212/500 [7:09:17<22:27:40, 280.77s/trial, best loss: -0.5415667423236692]\u001b[A"
     ]
    },
    {
     "name": "stderr",
     "output_type": "stream",
     "text": [
      "                                                                                \r"
     ]
    },
    {
     "name": "stdout",
     "output_type": "stream",
     "text": [
      "\n",
      " 43%|█████████████████                       | 213/500 [7:11:09<18:21:08, 230.20s/trial, best loss: -0.5415667423236692]\u001b[A"
     ]
    },
    {
     "name": "stderr",
     "output_type": "stream",
     "text": [
      "                                                                                \r"
     ]
    },
    {
     "name": "stdout",
     "output_type": "stream",
     "text": [
      "\n",
      " 43%|█████████████████                       | 214/500 [7:19:30<24:44:25, 311.42s/trial, best loss: -0.5415667423236692]\u001b[A"
     ]
    },
    {
     "name": "stderr",
     "output_type": "stream",
     "text": [
      "                                                                                \r"
     ]
    },
    {
     "name": "stdout",
     "output_type": "stream",
     "text": [
      "\n",
      " 43%|█████████████████▏                      | 215/500 [7:19:33<17:19:48, 218.91s/trial, best loss: -0.5415667423236692]\u001b[A"
     ]
    },
    {
     "name": "stderr",
     "output_type": "stream",
     "text": [
      "                                                                                \r"
     ]
    },
    {
     "name": "stdout",
     "output_type": "stream",
     "text": [
      "\n",
      " 43%|█████████████████▎                      | 216/500 [7:26:46<22:19:51, 283.07s/trial, best loss: -0.5415667423236692]\u001b[A"
     ]
    },
    {
     "name": "stderr",
     "output_type": "stream",
     "text": [
      "                                                                                \r"
     ]
    },
    {
     "name": "stdout",
     "output_type": "stream",
     "text": [
      "\n",
      " 43%|█████████████████▎                      | 217/500 [7:30:54<21:24:45, 272.39s/trial, best loss: -0.5415667423236692]\u001b[A"
     ]
    },
    {
     "name": "stderr",
     "output_type": "stream",
     "text": [
      "                                                                                \r"
     ]
    },
    {
     "name": "stdout",
     "output_type": "stream",
     "text": [
      "\n",
      " 44%|█████████████████▍                      | 218/500 [7:32:51<17:41:29, 225.85s/trial, best loss: -0.5415667423236692]\u001b[A"
     ]
    },
    {
     "name": "stderr",
     "output_type": "stream",
     "text": [
      "                                                                                \r"
     ]
    },
    {
     "name": "stdout",
     "output_type": "stream",
     "text": [
      "\n",
      " 44%|█████████████████▌                      | 219/500 [7:33:22<13:04:04, 167.42s/trial, best loss: -0.5415667423236692]\u001b[A"
     ]
    },
    {
     "name": "stderr",
     "output_type": "stream",
     "text": [
      "                                                                                \r"
     ]
    },
    {
     "name": "stdout",
     "output_type": "stream",
     "text": [
      "\n",
      " 44%|█████████████████▌                      | 220/500 [7:34:50<11:10:22, 143.65s/trial, best loss: -0.5415667423236692]\u001b[A"
     ]
    },
    {
     "name": "stderr",
     "output_type": "stream",
     "text": [
      "[Stage 163:>  (0 + 1) / 1][Stage 172:>  (0 + 1) / 1][Stage 178:>  (0 + 1) / 1]\r"
     ]
    },
    {
     "name": "stdout",
     "output_type": "stream",
     "text": [
      "\n",
      " 44%|██████████████████                       | 221/500 [7:35:58<9:22:39, 121.00s/trial, best loss: -0.5415667423236692]\u001b[A"
     ]
    },
    {
     "name": "stderr",
     "output_type": "stream",
     "text": [
      "[Stage 163:>  (0 + 1) / 1][Stage 172:>  (0 + 1) / 1][Stage 178:>  (0 + 1) / 1]  \r"
     ]
    },
    {
     "name": "stdout",
     "output_type": "stream",
     "text": [
      "\n",
      " 44%|█████████████████▊                      | 222/500 [7:43:25<16:53:30, 218.74s/trial, best loss: -0.5415667423236692]\u001b[A"
     ]
    },
    {
     "name": "stderr",
     "output_type": "stream",
     "text": [
      "                                                                                \r"
     ]
    },
    {
     "name": "stdout",
     "output_type": "stream",
     "text": [
      "\n",
      " 45%|█████████████████▊                      | 223/500 [7:44:25<13:10:11, 171.16s/trial, best loss: -0.5415667423236692]\u001b[A"
     ]
    },
    {
     "name": "stderr",
     "output_type": "stream",
     "text": [
      "                                                                                \r"
     ]
    },
    {
     "name": "stdout",
     "output_type": "stream",
     "text": [
      "\n",
      " 45%|██████████████████▎                      | 224/500 [7:44:31<9:19:29, 121.63s/trial, best loss: -0.5415667423236692]\u001b[A"
     ]
    },
    {
     "name": "stderr",
     "output_type": "stream",
     "text": [
      "                                                                                \r"
     ]
    },
    {
     "name": "stdout",
     "output_type": "stream",
     "text": [
      "\n",
      " 45%|██████████████████▍                      | 225/500 [7:46:35<9:21:05, 122.42s/trial, best loss: -0.5415667423236692]\u001b[A"
     ]
    },
    {
     "name": "stderr",
     "output_type": "stream",
     "text": [
      "[Stage 163:>  (0 + 1) / 1][Stage 172:>  (0 + 1) / 1][Stage 178:>  (0 + 1) / 1]\r"
     ]
    },
    {
     "name": "stdout",
     "output_type": "stream",
     "text": [
      "\n",
      " 45%|██████████████████                      | 226/500 [7:55:18<18:27:51, 242.60s/trial, best loss: -0.5415667423236692]\u001b[A"
     ]
    },
    {
     "name": "stderr",
     "output_type": "stream",
     "text": [
      "                                                                                \r"
     ]
    },
    {
     "name": "stdout",
     "output_type": "stream",
     "text": [
      "\n",
      " 45%|██████████████████▏                     | 227/500 [8:00:56<20:33:33, 271.11s/trial, best loss: -0.5415667423236692]\u001b[A"
     ]
    },
    {
     "name": "stderr",
     "output_type": "stream",
     "text": [
      "                                                                                \r"
     ]
    },
    {
     "name": "stdout",
     "output_type": "stream",
     "text": [
      "\n",
      " 46%|██████████████████▏                     | 228/500 [8:03:24<17:42:01, 234.27s/trial, best loss: -0.5415667423236692]\u001b[A"
     ]
    },
    {
     "name": "stderr",
     "output_type": "stream",
     "text": [
      "                                                                                \r"
     ]
    },
    {
     "name": "stdout",
     "output_type": "stream",
     "text": [
      "\n",
      " 46%|██████████████████▎                     | 229/500 [8:06:17<16:14:12, 215.69s/trial, best loss: -0.5415667423236692]\u001b[A"
     ]
    },
    {
     "name": "stderr",
     "output_type": "stream",
     "text": [
      "[Stage 163:>  (0 + 1) / 1][Stage 172:>  (0 + 1) / 1][Stage 178:>  (0 + 1) / 1]\r"
     ]
    },
    {
     "name": "stdout",
     "output_type": "stream",
     "text": [
      "\n",
      " 46%|██████████████████▍                     | 230/500 [8:09:46<16:02:08, 213.81s/trial, best loss: -0.5415667423236692]\u001b[A"
     ]
    },
    {
     "name": "stderr",
     "output_type": "stream",
     "text": [
      "                                                                                \r"
     ]
    },
    {
     "name": "stdout",
     "output_type": "stream",
     "text": [
      "\n",
      " 46%|██████████████████▍                     | 231/500 [8:15:41<19:08:04, 256.08s/trial, best loss: -0.5415667423236692]\u001b[A"
     ]
    },
    {
     "name": "stderr",
     "output_type": "stream",
     "text": [
      "                                                                                \r"
     ]
    },
    {
     "name": "stdout",
     "output_type": "stream",
     "text": [
      "\n",
      " 46%|██████████████████▌                     | 232/500 [8:15:46<13:27:26, 180.77s/trial, best loss: -0.5415667423236692]\u001b[A"
     ]
    },
    {
     "name": "stderr",
     "output_type": "stream",
     "text": [
      "                                                                                \r"
     ]
    },
    {
     "name": "stdout",
     "output_type": "stream",
     "text": [
      "\n",
      " 47%|██████████████████▋                     | 233/500 [8:22:36<18:30:06, 249.46s/trial, best loss: -0.5415667423236692]\u001b[A"
     ]
    },
    {
     "name": "stderr",
     "output_type": "stream",
     "text": [
      "[Stage 163:>  (0 + 1) / 1][Stage 172:>  (0 + 1) / 1][Stage 178:>  (0 + 1) / 1]  \r"
     ]
    },
    {
     "name": "stdout",
     "output_type": "stream",
     "text": [
      "\n",
      " 47%|██████████████████▋                     | 234/500 [8:26:10<17:39:20, 238.95s/trial, best loss: -0.5415667423236692]\u001b[A"
     ]
    },
    {
     "name": "stderr",
     "output_type": "stream",
     "text": [
      "[Stage 163:>  (0 + 1) / 1][Stage 172:>  (0 + 1) / 1][Stage 178:>  (0 + 1) / 1]\r"
     ]
    },
    {
     "name": "stdout",
     "output_type": "stream",
     "text": [
      "\n",
      " 47%|██████████████████▊                     | 235/500 [8:28:38<15:35:14, 211.75s/trial, best loss: -0.5415667423236692]\u001b[A"
     ]
    },
    {
     "name": "stderr",
     "output_type": "stream",
     "text": [
      "[Stage 163:>  (0 + 1) / 1][Stage 172:>  (0 + 1) / 1][Stage 178:>  (0 + 1) / 1]  \r"
     ]
    },
    {
     "name": "stdout",
     "output_type": "stream",
     "text": [
      "\n",
      " 47%|██████████████████▉                     | 236/500 [8:28:47<11:04:07, 150.94s/trial, best loss: -0.5415667423236692]\u001b[A"
     ]
    },
    {
     "name": "stderr",
     "output_type": "stream",
     "text": [
      "                                                                                \r"
     ]
    },
    {
     "name": "stdout",
     "output_type": "stream",
     "text": [
      "\n",
      " 47%|██████████████████▉                     | 237/500 [8:31:28<11:13:56, 153.75s/trial, best loss: -0.5415667423236692]\u001b[A"
     ]
    },
    {
     "name": "stderr",
     "output_type": "stream",
     "text": [
      "                                                                                \r"
     ]
    },
    {
     "name": "stdout",
     "output_type": "stream",
     "text": [
      "\n"
     ]
    },
    {
     "name": "stderr",
     "output_type": "stream",
     "text": [
      "[Stage 163:>  (0 + 1) / 1][Stage 172:>  (0 + 1) / 1][Stage 178:>  (0 + 1) / 1]\r"
     ]
    },
    {
     "name": "stdout",
     "output_type": "stream",
     "text": [
      " 48%|███████████████████▌                     | 238/500 [8:32:05<8:38:38, 118.77s/trial, best loss: -0.5415667423236692]\u001b[A"
     ]
    },
    {
     "name": "stderr",
     "output_type": "stream",
     "text": [
      "                                                                                \r"
     ]
    },
    {
     "name": "stdout",
     "output_type": "stream",
     "text": [
      "\n",
      " 48%|███████████████████▌                     | 239/500 [8:33:15<7:33:15, 104.20s/trial, best loss: -0.5415667423236692]\u001b[A"
     ]
    },
    {
     "name": "stderr",
     "output_type": "stream",
     "text": [
      "                                                                                \r"
     ]
    },
    {
     "name": "stdout",
     "output_type": "stream",
     "text": [
      "\n",
      " 48%|███████████████████▋                     | 240/500 [8:36:04<8:56:14, 123.75s/trial, best loss: -0.5415667423236692]\u001b[A"
     ]
    },
    {
     "name": "stderr",
     "output_type": "stream",
     "text": [
      "[Stage 163:>  (0 + 1) / 1][Stage 172:>  (0 + 1) / 1][Stage 180:>  (0 + 1) / 1]\r"
     ]
    },
    {
     "name": "stdout",
     "output_type": "stream",
     "text": [
      "\n",
      " 48%|███████████████████▊                     | 241/500 [8:38:18<9:06:31, 126.61s/trial, best loss: -0.5415667423236692]\u001b[A"
     ]
    },
    {
     "name": "stderr",
     "output_type": "stream",
     "text": [
      "                                                                                \r"
     ]
    },
    {
     "name": "stdout",
     "output_type": "stream",
     "text": [
      "\n",
      " 48%|███████████████████▊                     | 242/500 [8:39:44<8:12:16, 114.48s/trial, best loss: -0.5415667423236692]\u001b[A"
     ]
    },
    {
     "name": "stderr",
     "output_type": "stream",
     "text": [
      "[Stage 163:>  (0 + 1) / 1][Stage 172:>  (0 + 1) / 1][Stage 180:>  (0 + 1) / 1]  \r"
     ]
    },
    {
     "name": "stdout",
     "output_type": "stream",
     "text": [
      "\n",
      " 49%|███████████████████▍                    | 243/500 [8:44:48<12:13:24, 171.22s/trial, best loss: -0.5415667423236692]\u001b[A"
     ]
    },
    {
     "name": "stderr",
     "output_type": "stream",
     "text": [
      "[Stage 163:>  (0 + 1) / 1][Stage 172:>  (0 + 1) / 1][Stage 180:>  (0 + 1) / 1]  \r"
     ]
    },
    {
     "name": "stdout",
     "output_type": "stream",
     "text": [
      "\n",
      " 49%|███████████████████▌                    | 244/500 [8:56:07<23:00:54, 323.65s/trial, best loss: -0.5415667423236692]\u001b[A"
     ]
    },
    {
     "name": "stderr",
     "output_type": "stream",
     "text": [
      "                                                                                \r"
     ]
    },
    {
     "name": "stdout",
     "output_type": "stream",
     "text": [
      "\n",
      " 49%|███████████████████▌                    | 245/500 [8:59:36<20:29:53, 289.39s/trial, best loss: -0.5415667423236692]\u001b[A"
     ]
    },
    {
     "name": "stderr",
     "output_type": "stream",
     "text": [
      "                                                                                \r"
     ]
    },
    {
     "name": "stdout",
     "output_type": "stream",
     "text": [
      "\n",
      " 49%|███████████████████▋                    | 246/500 [9:05:27<21:42:58, 307.79s/trial, best loss: -0.5415667423236692]\u001b[A"
     ]
    },
    {
     "name": "stderr",
     "output_type": "stream",
     "text": [
      "[Stage 163:>  (0 + 1) / 1][Stage 172:>  (0 + 1) / 1][Stage 180:>  (0 + 1) / 1]\r"
     ]
    },
    {
     "name": "stdout",
     "output_type": "stream",
     "text": [
      "\n",
      " 49%|███████████████████▊                    | 247/500 [9:06:34<16:33:31, 235.62s/trial, best loss: -0.5415667423236692]\u001b[A"
     ]
    },
    {
     "name": "stderr",
     "output_type": "stream",
     "text": [
      "[Stage 163:>  (0 + 1) / 1][Stage 172:>  (0 + 1) / 1][Stage 180:>  (0 + 1) / 1]  \r"
     ]
    },
    {
     "name": "stdout",
     "output_type": "stream",
     "text": [
      "\n",
      " 50%|███████████████████▊                    | 248/500 [9:19:06<27:19:33, 390.37s/trial, best loss: -0.5415667423236692]\u001b[A"
     ]
    },
    {
     "name": "stderr",
     "output_type": "stream",
     "text": [
      "                                                                                \r"
     ]
    },
    {
     "name": "stdout",
     "output_type": "stream",
     "text": [
      "\n",
      " 50%|███████████████████▉                    | 249/500 [9:21:54<22:34:27, 323.77s/trial, best loss: -0.5415667423236692]\u001b[A"
     ]
    },
    {
     "name": "stderr",
     "output_type": "stream",
     "text": [
      "                                                                                \r"
     ]
    },
    {
     "name": "stdout",
     "output_type": "stream",
     "text": [
      "\n",
      " 50%|████████████████████                    | 250/500 [9:22:53<16:58:24, 244.42s/trial, best loss: -0.5415667423236692]\u001b[A"
     ]
    },
    {
     "name": "stderr",
     "output_type": "stream",
     "text": [
      "[Stage 163:>  (0 + 1) / 1][Stage 172:>  (0 + 1) / 1][Stage 180:>  (0 + 1) / 1]\r"
     ]
    },
    {
     "name": "stdout",
     "output_type": "stream",
     "text": [
      "\n",
      " 50%|████████████████████                    | 251/500 [9:36:53<29:15:24, 422.99s/trial, best loss: -0.5415667423236692]\u001b[A"
     ]
    },
    {
     "name": "stderr",
     "output_type": "stream",
     "text": [
      "[Stage 163:>  (0 + 1) / 1][Stage 172:>  (0 + 1) / 1][Stage 180:>  (0 + 1) / 1]  \r"
     ]
    },
    {
     "name": "stdout",
     "output_type": "stream",
     "text": [
      "\n",
      " 50%|████████████████████▏                   | 252/500 [9:45:40<31:17:30, 454.24s/trial, best loss: -0.5415667423236692]\u001b[A"
     ]
    },
    {
     "name": "stderr",
     "output_type": "stream",
     "text": [
      "[Stage 172:>  (0 + 1) / 1][Stage 180:>  (0 + 1) / 1][Stage 192:>  (0 + 1) / 1]  \r"
     ]
    },
    {
     "name": "stdout",
     "output_type": "stream",
     "text": [
      "\n",
      " 51%|████████████████████▏                   | 253/500 [9:47:51<24:31:06, 357.35s/trial, best loss: -0.5415667423236692]\u001b[A"
     ]
    },
    {
     "name": "stderr",
     "output_type": "stream",
     "text": [
      "[Stage 172:>  (0 + 1) / 1][Stage 180:>  (0 + 1) / 1][Stage 192:>  (0 + 1) / 1]\r"
     ]
    },
    {
     "name": "stdout",
     "output_type": "stream",
     "text": [
      "\n",
      " 51%|████████████████████▎                   | 254/500 [9:56:48<28:06:10, 411.26s/trial, best loss: -0.5415667423236692]\u001b[A"
     ]
    },
    {
     "name": "stderr",
     "output_type": "stream",
     "text": [
      "                                                                                \r"
     ]
    },
    {
     "name": "stdout",
     "output_type": "stream",
     "text": [
      "\n",
      " 51%|████████████████████▍                   | 255/500 [9:58:24<21:32:11, 316.45s/trial, best loss: -0.5415667423236692]\u001b[A"
     ]
    },
    {
     "name": "stderr",
     "output_type": "stream",
     "text": [
      "[Stage 180:>  (0 + 1) / 1][Stage 192:>  (0 + 1) / 1][Stage 231:>  (0 + 1) / 1]  \r"
     ]
    },
    {
     "name": "stdout",
     "output_type": "stream",
     "text": [
      "\n",
      " 51%|████████████████████▍                   | 256/500 [9:59:06<15:52:13, 234.15s/trial, best loss: -0.5415667423236692]\u001b[A"
     ]
    },
    {
     "name": "stderr",
     "output_type": "stream",
     "text": [
      "                                                                                \r"
     ]
    },
    {
     "name": "stdout",
     "output_type": "stream",
     "text": [
      "\n",
      " 51%|████████████████████                   | 257/500 [10:06:16<19:46:08, 292.87s/trial, best loss: -0.5415667423236692]\u001b[A"
     ]
    },
    {
     "name": "stderr",
     "output_type": "stream",
     "text": [
      "[Stage 192:>  (0 + 1) / 1][Stage 231:>  (0 + 1) / 1][Stage 238:>  (0 + 1) / 1]\r"
     ]
    },
    {
     "name": "stdout",
     "output_type": "stream",
     "text": [
      "\n",
      " 52%|████████████████████                   | 258/500 [10:16:51<26:35:35, 395.60s/trial, best loss: -0.5415667423236692]\u001b[A"
     ]
    },
    {
     "name": "stderr",
     "output_type": "stream",
     "text": [
      "[Stage 231:>  (0 + 1) / 1][Stage 238:>  (0 + 1) / 1][Stage 258:>  (0 + 1) / 1]  \r"
     ]
    },
    {
     "name": "stdout",
     "output_type": "stream",
     "text": [
      "\n",
      " 52%|████████████████████▏                  | 259/500 [10:27:54<31:51:39, 475.93s/trial, best loss: -0.5415667423236692]\u001b[A"
     ]
    },
    {
     "name": "stderr",
     "output_type": "stream",
     "text": [
      "                                                                                \r"
     ]
    },
    {
     "name": "stdout",
     "output_type": "stream",
     "text": [
      "\n",
      " 52%|████████████████████▎                  | 260/500 [10:29:25<24:01:03, 360.26s/trial, best loss: -0.5415667423236692]\u001b[A"
     ]
    },
    {
     "name": "stderr",
     "output_type": "stream",
     "text": [
      "                                                                                \r"
     ]
    },
    {
     "name": "stdout",
     "output_type": "stream",
     "text": [
      "\n",
      " 52%|████████████████████▎                  | 261/500 [10:31:19<19:01:05, 286.47s/trial, best loss: -0.5415667423236692]\u001b[A"
     ]
    },
    {
     "name": "stderr",
     "output_type": "stream",
     "text": [
      "[Stage 231:>  (0 + 1) / 1][Stage 238:>  (0 + 1) / 1][Stage 258:>  (0 + 1) / 1]  \r"
     ]
    },
    {
     "name": "stdout",
     "output_type": "stream",
     "text": [
      "\n",
      " 52%|████████████████████▍                  | 262/500 [10:32:44<14:56:49, 226.09s/trial, best loss: -0.5415667423236692]\u001b[A"
     ]
    },
    {
     "name": "stderr",
     "output_type": "stream",
     "text": [
      "[Stage 231:>  (0 + 1) / 1][Stage 238:>  (0 + 1) / 1][Stage 258:>  (0 + 1) / 1]  \r"
     ]
    },
    {
     "name": "stdout",
     "output_type": "stream",
     "text": [
      "\n",
      " 53%|████████████████████▌                  | 263/500 [10:32:55<10:38:16, 161.59s/trial, best loss: -0.5415667423236692]\u001b[A"
     ]
    },
    {
     "name": "stderr",
     "output_type": "stream",
     "text": [
      "[Stage 231:>  (0 + 1) / 1][Stage 238:>  (0 + 1) / 1][Stage 258:>  (0 + 1) / 1]  \r"
     ]
    },
    {
     "name": "stdout",
     "output_type": "stream",
     "text": [
      "\n",
      " 53%|████████████████████▌                  | 264/500 [10:37:07<12:21:46, 188.58s/trial, best loss: -0.5415667423236692]\u001b[A"
     ]
    },
    {
     "name": "stderr",
     "output_type": "stream",
     "text": [
      "                                                                                \r"
     ]
    },
    {
     "name": "stdout",
     "output_type": "stream",
     "text": [
      "\n",
      " 53%|████████████████████▋                  | 265/500 [10:40:28<12:33:50, 192.47s/trial, best loss: -0.5415667423236692]\u001b[A"
     ]
    },
    {
     "name": "stderr",
     "output_type": "stream",
     "text": [
      "[Stage 231:>  (0 + 1) / 1][Stage 258:>  (0 + 1) / 1][Stage 266:>  (0 + 1) / 1]\r"
     ]
    },
    {
     "name": "stdout",
     "output_type": "stream",
     "text": [
      "\n",
      " 53%|████████████████████▋                  | 266/500 [11:10:05<43:24:12, 667.75s/trial, best loss: -0.5415667423236692]\u001b[A"
     ]
    },
    {
     "name": "stderr",
     "output_type": "stream",
     "text": [
      "[Stage 231:>  (0 + 1) / 1][Stage 258:>  (0 + 1) / 1][Stage 266:>  (0 + 1) / 1]  \r"
     ]
    },
    {
     "name": "stdout",
     "output_type": "stream",
     "text": [
      "\n",
      " 53%|████████████████████▊                  | 267/500 [11:17:48<39:14:30, 606.31s/trial, best loss: -0.5415667423236692]\u001b[A"
     ]
    },
    {
     "name": "stderr",
     "output_type": "stream",
     "text": [
      "                                                                                \r"
     ]
    },
    {
     "name": "stdout",
     "output_type": "stream",
     "text": [
      "\n",
      " 54%|████████████████████▉                  | 268/500 [11:28:59<40:18:42, 625.53s/trial, best loss: -0.5415667423236692]\u001b[A"
     ]
    },
    {
     "name": "stderr",
     "output_type": "stream",
     "text": [
      "[Stage 231:>  (0 + 1) / 1][Stage 258:>  (0 + 1) / 1][Stage 274:>  (0 + 1) / 1]  \r"
     ]
    },
    {
     "name": "stdout",
     "output_type": "stream",
     "text": [
      "\n",
      " 54%|████████████████████▉                  | 269/500 [11:31:07<30:33:58, 476.36s/trial, best loss: -0.5415667423236692]\u001b[A"
     ]
    },
    {
     "name": "stderr",
     "output_type": "stream",
     "text": [
      "                                                                                \r"
     ]
    },
    {
     "name": "stdout",
     "output_type": "stream",
     "text": [
      "\n",
      " 54%|█████████████████████                  | 270/500 [11:42:26<34:19:32, 537.27s/trial, best loss: -0.5415667423236692]\u001b[A"
     ]
    },
    {
     "name": "stderr",
     "output_type": "stream",
     "text": [
      "                                                                                \r"
     ]
    },
    {
     "name": "stdout",
     "output_type": "stream",
     "text": [
      "\n",
      " 54%|█████████████████████▏                 | 271/500 [11:43:05<24:40:16, 387.85s/trial, best loss: -0.5415667423236692]\u001b[A"
     ]
    },
    {
     "name": "stderr",
     "output_type": "stream",
     "text": [
      "[Stage 231:>  (0 + 1) / 1][Stage 258:>  (0 + 1) / 1][Stage 274:>  (0 + 1) / 1]\r"
     ]
    },
    {
     "name": "stdout",
     "output_type": "stream",
     "text": [
      "\n",
      " 54%|█████████████████████▏                 | 272/500 [11:44:13<18:28:14, 291.64s/trial, best loss: -0.5415667423236692]\u001b[A"
     ]
    },
    {
     "name": "stderr",
     "output_type": "stream",
     "text": [
      "[Stage 231:>  (0 + 1) / 1][Stage 258:>  (0 + 1) / 1][Stage 274:>  (0 + 1) / 1]  \r"
     ]
    },
    {
     "name": "stdout",
     "output_type": "stream",
     "text": [
      "\n",
      " 55%|█████████████████████▎                 | 273/500 [11:45:43<14:34:44, 231.21s/trial, best loss: -0.5415667423236692]\u001b[A"
     ]
    },
    {
     "name": "stderr",
     "output_type": "stream",
     "text": [
      "[Stage 231:>  (0 + 1) / 1][Stage 258:>  (0 + 1) / 1][Stage 274:>  (0 + 1) / 1]  \r"
     ]
    },
    {
     "name": "stdout",
     "output_type": "stream",
     "text": [
      "\n",
      " 55%|█████████████████████▎                 | 274/500 [11:46:53<11:28:54, 182.90s/trial, best loss: -0.5415667423236692]\u001b[A"
     ]
    },
    {
     "name": "stderr",
     "output_type": "stream",
     "text": [
      "[Stage 231:>  (0 + 1) / 1][Stage 258:>  (0 + 1) / 1][Stage 274:>  (0 + 1) / 1]\r"
     ]
    },
    {
     "name": "stdout",
     "output_type": "stream",
     "text": [
      "\n",
      " 55%|█████████████████████▍                 | 275/500 [11:52:02<13:47:20, 220.62s/trial, best loss: -0.5415667423236692]\u001b[A"
     ]
    },
    {
     "name": "stderr",
     "output_type": "stream",
     "text": [
      "[Stage 258:>  (0 + 1) / 1][Stage 274:>  (0 + 1) / 1][Stage 283:>  (0 + 1) / 1]  \r"
     ]
    },
    {
     "name": "stdout",
     "output_type": "stream",
     "text": [
      "\n",
      " 55%|█████████████████████▌                 | 276/500 [11:56:27<14:34:00, 234.11s/trial, best loss: -0.5415667423236692]\u001b[A"
     ]
    },
    {
     "name": "stderr",
     "output_type": "stream",
     "text": [
      "                                                                                \r"
     ]
    },
    {
     "name": "stdout",
     "output_type": "stream",
     "text": [
      "\n",
      " 55%|█████████████████████▌                 | 277/500 [12:01:46<16:04:22, 259.47s/trial, best loss: -0.5416852871207114]\u001b[A"
     ]
    },
    {
     "name": "stderr",
     "output_type": "stream",
     "text": [
      "                                                                                \r"
     ]
    },
    {
     "name": "stdout",
     "output_type": "stream",
     "text": [
      "\n",
      " 56%|█████████████████████▋                 | 278/500 [12:07:10<17:12:25, 279.03s/trial, best loss: -0.5416852871207114]\u001b[A"
     ]
    },
    {
     "name": "stderr",
     "output_type": "stream",
     "text": [
      "[Stage 258:>  (0 + 1) / 1][Stage 274:>  (0 + 1) / 1][Stage 283:>  (0 + 1) / 1]  \r"
     ]
    },
    {
     "name": "stdout",
     "output_type": "stream",
     "text": [
      "\n",
      " 56%|█████████████████████▊                 | 279/500 [12:16:09<21:54:00, 356.74s/trial, best loss: -0.5416852871207114]\u001b[A"
     ]
    },
    {
     "name": "stderr",
     "output_type": "stream",
     "text": [
      "[Stage 258:>  (0 + 1) / 1][Stage 274:>  (0 + 1) / 1][Stage 283:>  (0 + 1) / 1]\r"
     ]
    },
    {
     "name": "stdout",
     "output_type": "stream",
     "text": [
      "\n",
      " 56%|█████████████████████▊                 | 280/500 [12:19:01<18:25:15, 301.43s/trial, best loss: -0.5416852871207114]\u001b[A"
     ]
    },
    {
     "name": "stderr",
     "output_type": "stream",
     "text": [
      "                                                                                \r"
     ]
    },
    {
     "name": "stdout",
     "output_type": "stream",
     "text": [
      "\n",
      " 56%|█████████████████████▉                 | 281/500 [12:31:44<26:46:15, 440.07s/trial, best loss: -0.5416852871207114]\u001b[A"
     ]
    },
    {
     "name": "stderr",
     "output_type": "stream",
     "text": [
      "[Stage 258:>  (0 + 1) / 1][Stage 274:>  (0 + 1) / 1][Stage 283:>  (0 + 1) / 1]  \r"
     ]
    },
    {
     "name": "stdout",
     "output_type": "stream",
     "text": [
      "\n",
      " 56%|█████████████████████▉                 | 282/500 [12:35:34<22:49:23, 376.90s/trial, best loss: -0.5416852871207114]\u001b[A"
     ]
    },
    {
     "name": "stderr",
     "output_type": "stream",
     "text": [
      "[Stage 258:>  (0 + 1) / 1][Stage 274:>  (0 + 1) / 1][Stage 283:>  (0 + 1) / 1]  \r"
     ]
    },
    {
     "name": "stdout",
     "output_type": "stream",
     "text": [
      "\n",
      " 57%|██████████████████████                 | 283/500 [12:45:58<27:11:31, 451.11s/trial, best loss: -0.5416852871207114]\u001b[A"
     ]
    },
    {
     "name": "stderr",
     "output_type": "stream",
     "text": [
      "                                                                                \r"
     ]
    },
    {
     "name": "stdout",
     "output_type": "stream",
     "text": [
      "\n",
      " 57%|██████████████████████▏                | 284/500 [12:51:19<24:43:07, 411.98s/trial, best loss: -0.5416852871207114]\u001b[A"
     ]
    },
    {
     "name": "stderr",
     "output_type": "stream",
     "text": [
      "                                                                                \r"
     ]
    },
    {
     "name": "stdout",
     "output_type": "stream",
     "text": [
      "\n",
      " 57%|██████████████████████▏                | 285/500 [12:56:44<23:02:25, 385.79s/trial, best loss: -0.5416852871207114]\u001b[A"
     ]
    },
    {
     "name": "stderr",
     "output_type": "stream",
     "text": [
      "                                                                                \r"
     ]
    },
    {
     "name": "stdout",
     "output_type": "stream",
     "text": [
      "\n",
      " 57%|██████████████████████▎                | 286/500 [13:07:42<27:47:36, 467.56s/trial, best loss: -0.5416852871207114]\u001b[A"
     ]
    },
    {
     "name": "stderr",
     "output_type": "stream",
     "text": [
      "                                                                                \r"
     ]
    },
    {
     "name": "stdout",
     "output_type": "stream",
     "text": [
      "\n",
      " 57%|██████████████████████▍                | 287/500 [13:10:39<22:30:47, 380.50s/trial, best loss: -0.5416852871207114]\u001b[A"
     ]
    },
    {
     "name": "stderr",
     "output_type": "stream",
     "text": [
      "[Stage 274:>  (0 + 1) / 1][Stage 283:>  (0 + 1) / 1][Stage 292:>  (0 + 1) / 1]\r"
     ]
    },
    {
     "name": "stdout",
     "output_type": "stream",
     "text": [
      "\n",
      " 58%|██████████████████████▍                | 288/500 [13:11:26<16:31:03, 280.49s/trial, best loss: -0.5416852871207114]\u001b[A"
     ]
    },
    {
     "name": "stderr",
     "output_type": "stream",
     "text": [
      "[Stage 274:>  (0 + 1) / 1][Stage 283:>  (0 + 1) / 1][Stage 292:>  (0 + 1) / 1]  \r"
     ]
    },
    {
     "name": "stdout",
     "output_type": "stream",
     "text": [
      "\n",
      " 58%|██████████████████████▌                | 289/500 [13:13:11<13:20:28, 227.62s/trial, best loss: -0.5416852871207114]\u001b[A"
     ]
    },
    {
     "name": "stderr",
     "output_type": "stream",
     "text": [
      "                                                                                \r"
     ]
    },
    {
     "name": "stdout",
     "output_type": "stream",
     "text": [
      "\n",
      " 58%|██████████████████████▌                | 290/500 [13:23:38<20:16:23, 347.54s/trial, best loss: -0.5416852871207114]\u001b[A"
     ]
    },
    {
     "name": "stderr",
     "output_type": "stream",
     "text": [
      "[Stage 274:>  (0 + 1) / 1][Stage 283:>  (0 + 1) / 1][Stage 292:>  (0 + 1) / 1]  \r"
     ]
    },
    {
     "name": "stdout",
     "output_type": "stream",
     "text": [
      "\n",
      " 58%|██████████████████████▋                | 291/500 [13:26:23<17:00:13, 292.89s/trial, best loss: -0.5416852871207114]\u001b[A"
     ]
    },
    {
     "name": "stderr",
     "output_type": "stream",
     "text": [
      "                                                                                \r"
     ]
    },
    {
     "name": "stdout",
     "output_type": "stream",
     "text": [
      "\n",
      " 58%|██████████████████████▊                | 292/500 [13:30:38<16:15:28, 281.39s/trial, best loss: -0.5416852871207114]\u001b[A"
     ]
    },
    {
     "name": "stderr",
     "output_type": "stream",
     "text": [
      "                                                                                \r"
     ]
    },
    {
     "name": "stdout",
     "output_type": "stream",
     "text": [
      "\n",
      " 59%|██████████████████████▊                | 293/500 [13:30:55<11:37:12, 202.09s/trial, best loss: -0.5416852871207114]\u001b[A"
     ]
    },
    {
     "name": "stderr",
     "output_type": "stream",
     "text": [
      "                                                                                \r"
     ]
    },
    {
     "name": "stdout",
     "output_type": "stream",
     "text": [
      "\n",
      " 59%|██████████████████████▉                | 294/500 [13:34:32<11:48:38, 206.40s/trial, best loss: -0.5416852871207114]\u001b[A"
     ]
    },
    {
     "name": "stderr",
     "output_type": "stream",
     "text": [
      "[Stage 283:>  (0 + 1) / 1][Stage 292:>  (0 + 1) / 1][Stage 312:>  (0 + 1) / 1]\r"
     ]
    },
    {
     "name": "stdout",
     "output_type": "stream",
     "text": [
      "\n",
      " 59%|███████████████████████                | 295/500 [13:37:01<10:46:42, 189.28s/trial, best loss: -0.5416852871207114]\u001b[A"
     ]
    },
    {
     "name": "stderr",
     "output_type": "stream",
     "text": [
      "[Stage 292:>  (0 + 1) / 1][Stage 312:>  (0 + 1) / 1][Stage 328:>  (0 + 1) / 1]  \r"
     ]
    },
    {
     "name": "stdout",
     "output_type": "stream",
     "text": [
      "\n",
      " 59%|███████████████████████▋                | 296/500 [13:37:24<7:54:01, 139.42s/trial, best loss: -0.5416852871207114]\u001b[A"
     ]
    },
    {
     "name": "stderr",
     "output_type": "stream",
     "text": [
      "[Stage 292:>  (0 + 1) / 1][Stage 312:>  (0 + 1) / 1][Stage 328:>  (0 + 1) / 1]  \r"
     ]
    },
    {
     "name": "stdout",
     "output_type": "stream",
     "text": [
      "\n",
      " 59%|███████████████████████▏               | 297/500 [13:43:48<11:59:45, 212.74s/trial, best loss: -0.5416852871207114]\u001b[A"
     ]
    },
    {
     "name": "stderr",
     "output_type": "stream",
     "text": [
      "                                                                                \r"
     ]
    },
    {
     "name": "stdout",
     "output_type": "stream",
     "text": [
      "\n",
      " 60%|███████████████████████▊                | 298/500 [13:43:58<8:31:30, 151.94s/trial, best loss: -0.5416852871207114]\u001b[A"
     ]
    },
    {
     "name": "stderr",
     "output_type": "stream",
     "text": [
      "                                                                                \r"
     ]
    },
    {
     "name": "stdout",
     "output_type": "stream",
     "text": [
      "\n",
      " 60%|███████████████████████▉                | 299/500 [13:46:44<8:43:29, 156.27s/trial, best loss: -0.5416852871207114]\u001b[A"
     ]
    },
    {
     "name": "stderr",
     "output_type": "stream",
     "text": [
      "[Stage 312:>  (0 + 1) / 1][Stage 328:>  (0 + 1) / 1][Stage 331:>  (0 + 1) / 1]\r"
     ]
    },
    {
     "name": "stdout",
     "output_type": "stream",
     "text": [
      "\n",
      " 60%|████████████████████████                | 300/500 [13:49:22<8:41:57, 156.59s/trial, best loss: -0.5416852871207114]\u001b[A"
     ]
    },
    {
     "name": "stderr",
     "output_type": "stream",
     "text": [
      "                                                                                \r"
     ]
    },
    {
     "name": "stdout",
     "output_type": "stream",
     "text": [
      "\n",
      " 60%|████████████████████████                | 301/500 [13:49:52<6:33:30, 118.64s/trial, best loss: -0.5416852871207114]\u001b[A"
     ]
    },
    {
     "name": "stderr",
     "output_type": "stream",
     "text": [
      "                                                                                \r"
     ]
    },
    {
     "name": "stdout",
     "output_type": "stream",
     "text": [
      "\n",
      " 60%|████████████████████████▏               | 302/500 [13:53:11<7:51:29, 142.88s/trial, best loss: -0.5416852871207114]\u001b[A"
     ]
    },
    {
     "name": "stderr",
     "output_type": "stream",
     "text": [
      "                                                                                \r"
     ]
    },
    {
     "name": "stdout",
     "output_type": "stream",
     "text": [
      "\n",
      " 61%|████████████████████████▏               | 303/500 [13:53:44<6:00:59, 109.95s/trial, best loss: -0.5416852871207114]\u001b[A"
     ]
    },
    {
     "name": "stderr",
     "output_type": "stream",
     "text": [
      "                                                                                \r"
     ]
    },
    {
     "name": "stdout",
     "output_type": "stream",
     "text": [
      "\n",
      " 61%|███████████████████████▋               | 304/500 [14:01:33<11:51:00, 217.66s/trial, best loss: -0.5416852871207114]\u001b[A"
     ]
    },
    {
     "name": "stderr",
     "output_type": "stream",
     "text": [
      "[Stage 312:>  (0 + 1) / 1][Stage 331:>  (0 + 1) / 1][Stage 338:>  (0 + 1) / 1]  \r"
     ]
    },
    {
     "name": "stdout",
     "output_type": "stream",
     "text": [
      "\n",
      " 61%|████████████████████████▍               | 305/500 [14:02:22<9:03:04, 167.10s/trial, best loss: -0.5416852871207114]\u001b[A"
     ]
    },
    {
     "name": "stderr",
     "output_type": "stream",
     "text": [
      "                                                                                \r"
     ]
    },
    {
     "name": "stdout",
     "output_type": "stream",
     "text": [
      "\n",
      " 61%|████████████████████████▍               | 306/500 [14:03:03<6:58:06, 129.31s/trial, best loss: -0.5416852871207114]\u001b[A"
     ]
    },
    {
     "name": "stderr",
     "output_type": "stream",
     "text": [
      "                                                                                \r"
     ]
    },
    {
     "name": "stdout",
     "output_type": "stream",
     "text": [
      "\n",
      " 61%|████████████████████████▌               | 307/500 [14:04:48<6:31:46, 121.79s/trial, best loss: -0.5416852871207114]\u001b[A"
     ]
    },
    {
     "name": "stderr",
     "output_type": "stream",
     "text": [
      "                                                                                \r"
     ]
    },
    {
     "name": "stdout",
     "output_type": "stream",
     "text": [
      "\n",
      " 62%|████████████████████████▋               | 308/500 [14:10:19<9:51:15, 184.77s/trial, best loss: -0.5416852871207114]\u001b[A"
     ]
    },
    {
     "name": "stderr",
     "output_type": "stream",
     "text": [
      "                                                                                \r"
     ]
    },
    {
     "name": "stdout",
     "output_type": "stream",
     "text": [
      "\n",
      " 62%|████████████████████████▋               | 309/500 [14:12:05<8:32:13, 160.91s/trial, best loss: -0.5416852871207114]\u001b[A"
     ]
    },
    {
     "name": "stderr",
     "output_type": "stream",
     "text": [
      "                                                                                \r"
     ]
    },
    {
     "name": "stdout",
     "output_type": "stream",
     "text": [
      "\n",
      " 62%|████████████████████████▏              | 310/500 [14:18:13<11:47:01, 223.27s/trial, best loss: -0.5416852871207114]\u001b[A"
     ]
    },
    {
     "name": "stderr",
     "output_type": "stream",
     "text": [
      "                                                                                \r"
     ]
    },
    {
     "name": "stdout",
     "output_type": "stream",
     "text": [
      "\n",
      " 62%|████████████████████████▎              | 311/500 [14:24:08<13:47:33, 262.71s/trial, best loss: -0.5416852871207114]\u001b[A"
     ]
    },
    {
     "name": "stderr",
     "output_type": "stream",
     "text": [
      "                                                                                \r"
     ]
    },
    {
     "name": "stdout",
     "output_type": "stream",
     "text": [
      "\n",
      " 62%|████████████████████████▎              | 312/500 [14:30:05<15:11:32, 290.92s/trial, best loss: -0.5416852871207114]\u001b[A"
     ]
    },
    {
     "name": "stderr",
     "output_type": "stream",
     "text": [
      "                                                                                \r"
     ]
    },
    {
     "name": "stdout",
     "output_type": "stream",
     "text": [
      "\n",
      " 63%|████████████████████████▍              | 313/500 [14:33:45<14:00:55, 269.82s/trial, best loss: -0.5416852871207114]\u001b[A"
     ]
    },
    {
     "name": "stderr",
     "output_type": "stream",
     "text": [
      "[Stage 312:>  (0 + 1) / 1][Stage 331:>  (0 + 1) / 1][Stage 354:>  (0 + 1) / 1]  \r"
     ]
    },
    {
     "name": "stdout",
     "output_type": "stream",
     "text": [
      "\n",
      " 63%|████████████████████████▍              | 314/500 [14:39:13<14:50:14, 287.18s/trial, best loss: -0.5416852871207114]\u001b[A"
     ]
    },
    {
     "name": "stderr",
     "output_type": "stream",
     "text": [
      "                                                                                \r"
     ]
    },
    {
     "name": "stdout",
     "output_type": "stream",
     "text": [
      "\n",
      " 63%|████████████████████████▌              | 315/500 [14:39:42<10:46:44, 209.75s/trial, best loss: -0.5416852871207114]\u001b[A"
     ]
    },
    {
     "name": "stderr",
     "output_type": "stream",
     "text": [
      "                                                                                \r"
     ]
    },
    {
     "name": "stdout",
     "output_type": "stream",
     "text": [
      "\n",
      " 63%|████████████████████████▋              | 316/500 [14:43:36<11:05:04, 216.87s/trial, best loss: -0.5416852871207114]\u001b[A"
     ]
    },
    {
     "name": "stderr",
     "output_type": "stream",
     "text": [
      "                                                                                \r"
     ]
    },
    {
     "name": "stdout",
     "output_type": "stream",
     "text": [
      "\n",
      " 63%|████████████████████████▋              | 317/500 [14:46:09<10:03:20, 197.82s/trial, best loss: -0.5416852871207114]\u001b[A"
     ]
    },
    {
     "name": "stderr",
     "output_type": "stream",
     "text": [
      "[Stage 331:>  (0 + 1) / 1][Stage 354:>  (0 + 1) / 1][Stage 356:>  (0 + 1) / 1]\r"
     ]
    },
    {
     "name": "stdout",
     "output_type": "stream",
     "text": [
      "\n",
      " 64%|█████████████████████████▍              | 318/500 [14:47:21<8:05:43, 160.13s/trial, best loss: -0.5416852871207114]\u001b[A"
     ]
    },
    {
     "name": "stderr",
     "output_type": "stream",
     "text": [
      "[Stage 331:>  (0 + 1) / 1][Stage 354:>  (0 + 1) / 1][Stage 356:>  (0 + 1) / 1]  \r"
     ]
    },
    {
     "name": "stdout",
     "output_type": "stream",
     "text": [
      "\n",
      " 64%|█████████████████████████▌              | 319/500 [14:48:35<6:45:16, 134.35s/trial, best loss: -0.5416852871207114]\u001b[A"
     ]
    },
    {
     "name": "stderr",
     "output_type": "stream",
     "text": [
      "                                                                                \r"
     ]
    },
    {
     "name": "stdout",
     "output_type": "stream",
     "text": [
      "\n",
      " 64%|█████████████████████████▌              | 320/500 [14:50:03<6:00:39, 120.22s/trial, best loss: -0.5416852871207114]\u001b[A"
     ]
    },
    {
     "name": "stderr",
     "output_type": "stream",
     "text": [
      "                                                                                \r"
     ]
    },
    {
     "name": "stdout",
     "output_type": "stream",
     "text": [
      "\n",
      " 64%|█████████████████████████▋              | 321/500 [14:54:00<7:43:41, 155.42s/trial, best loss: -0.5416852871207114]\u001b[A"
     ]
    },
    {
     "name": "stderr",
     "output_type": "stream",
     "text": [
      "                                                                                \r"
     ]
    },
    {
     "name": "stdout",
     "output_type": "stream",
     "text": [
      "\n",
      " 64%|█████████████████████████              | 322/500 [15:09:42<19:21:03, 391.37s/trial, best loss: -0.5416852871207114]\u001b[A"
     ]
    },
    {
     "name": "stderr",
     "output_type": "stream",
     "text": [
      "                                                                                \r"
     ]
    },
    {
     "name": "stdout",
     "output_type": "stream",
     "text": [
      "\n",
      " 65%|█████████████████████████▏             | 323/500 [15:27:01<28:47:46, 585.69s/trial, best loss: -0.5416852871207114]\u001b[A"
     ]
    },
    {
     "name": "stderr",
     "output_type": "stream",
     "text": [
      "[Stage 331:>  (0 + 1) / 1][Stage 354:>  (0 + 1) / 1][Stage 356:>  (0 + 1) / 1]\r"
     ]
    },
    {
     "name": "stdout",
     "output_type": "stream",
     "text": [
      "\n",
      " 65%|█████████████████████████▎             | 324/500 [15:30:24<23:00:45, 470.71s/trial, best loss: -0.5416852871207114]\u001b[A"
     ]
    },
    {
     "name": "stderr",
     "output_type": "stream",
     "text": [
      "                                                                                \r"
     ]
    },
    {
     "name": "stdout",
     "output_type": "stream",
     "text": [
      "\n",
      " 65%|█████████████████████████▎             | 325/500 [15:30:38<16:13:22, 333.73s/trial, best loss: -0.5416852871207114]\u001b[A"
     ]
    },
    {
     "name": "stderr",
     "output_type": "stream",
     "text": [
      "                                                                                \r"
     ]
    },
    {
     "name": "stdout",
     "output_type": "stream",
     "text": [
      "\n",
      " 65%|█████████████████████████▍             | 326/500 [15:34:08<14:20:37, 296.76s/trial, best loss: -0.5416852871207114]\u001b[A"
     ]
    },
    {
     "name": "stderr",
     "output_type": "stream",
     "text": [
      "[Stage 331:>  (0 + 1) / 1][Stage 361:>  (0 + 1) / 1][Stage 363:>  (0 + 1) / 1]\r"
     ]
    },
    {
     "name": "stdout",
     "output_type": "stream",
     "text": [
      "\n",
      " 65%|█████████████████████████▌             | 327/500 [15:36:24<11:56:03, 248.35s/trial, best loss: -0.5416852871207114]\u001b[A"
     ]
    },
    {
     "name": "stderr",
     "output_type": "stream",
     "text": [
      "                                                                                \r"
     ]
    },
    {
     "name": "stdout",
     "output_type": "stream",
     "text": [
      "\n",
      " 66%|██████████████████████████▏             | 328/500 [15:37:34<9:18:41, 194.89s/trial, best loss: -0.5416852871207114]\u001b[A"
     ]
    },
    {
     "name": "stderr",
     "output_type": "stream",
     "text": [
      "                                                                                \r"
     ]
    },
    {
     "name": "stdout",
     "output_type": "stream",
     "text": [
      "\n",
      " 66%|██████████████████████████▎             | 329/500 [15:40:08<8:40:45, 182.72s/trial, best loss: -0.5416852871207114]\u001b[A"
     ]
    },
    {
     "name": "stderr",
     "output_type": "stream",
     "text": [
      "[Stage 361:>  (0 + 1) / 1][Stage 363:>  (0 + 1) / 1][Stage 366:>  (0 + 1) / 1]  \r"
     ]
    },
    {
     "name": "stdout",
     "output_type": "stream",
     "text": [
      "\n",
      " 66%|█████████████████████████▋             | 330/500 [15:45:25<10:31:33, 222.90s/trial, best loss: -0.5416852871207114]\u001b[A"
     ]
    },
    {
     "name": "stderr",
     "output_type": "stream",
     "text": [
      "[Stage 361:>  (0 + 1) / 1][Stage 363:>  (0 + 1) / 1][Stage 366:>  (0 + 1) / 1]\r"
     ]
    },
    {
     "name": "stdout",
     "output_type": "stream",
     "text": [
      "\n",
      " 66%|█████████████████████████▊             | 331/500 [15:53:24<14:04:14, 299.73s/trial, best loss: -0.5416852871207114]\u001b[A"
     ]
    },
    {
     "name": "stderr",
     "output_type": "stream",
     "text": [
      "                                                                                \r"
     ]
    },
    {
     "name": "stdout",
     "output_type": "stream",
     "text": [
      "\n",
      " 66%|█████████████████████████▉             | 332/500 [15:54:48<10:58:11, 235.07s/trial, best loss: -0.5416852871207114]\u001b[A"
     ]
    },
    {
     "name": "stderr",
     "output_type": "stream",
     "text": [
      "                                                                                \r"
     ]
    },
    {
     "name": "stdout",
     "output_type": "stream",
     "text": [
      "\n",
      " 67%|█████████████████████████▉             | 333/500 [15:58:58<11:06:21, 239.41s/trial, best loss: -0.5416852871207114]\u001b[A"
     ]
    },
    {
     "name": "stderr",
     "output_type": "stream",
     "text": [
      "[Stage 366:>  (0 + 1) / 1][Stage 377:>  (0 + 1) / 1][Stage 382:>  (0 + 1) / 1]  \r"
     ]
    },
    {
     "name": "stdout",
     "output_type": "stream",
     "text": [
      "\n",
      " 67%|██████████████████████████▋             | 334/500 [16:01:40<9:58:26, 216.30s/trial, best loss: -0.5416852871207114]\u001b[A"
     ]
    },
    {
     "name": "stderr",
     "output_type": "stream",
     "text": [
      "[Stage 366:>  (0 + 1) / 1][Stage 377:>  (0 + 1) / 1][Stage 382:>  (0 + 1) / 1]  \r"
     ]
    },
    {
     "name": "stdout",
     "output_type": "stream",
     "text": [
      "\n",
      " 67%|██████████████████████████▏            | 335/500 [16:06:26<10:52:04, 237.12s/trial, best loss: -0.5416852871207114]\u001b[A"
     ]
    },
    {
     "name": "stderr",
     "output_type": "stream",
     "text": [
      "[Stage 366:>  (0 + 1) / 1][Stage 377:>  (0 + 1) / 1][Stage 382:>  (0 + 1) / 1]  \r"
     ]
    },
    {
     "name": "stdout",
     "output_type": "stream",
     "text": [
      "\n",
      " 67%|██████████████████████████▉             | 336/500 [16:07:24<8:21:21, 183.42s/trial, best loss: -0.5416852871207114]\u001b[A"
     ]
    },
    {
     "name": "stderr",
     "output_type": "stream",
     "text": [
      "                                                                                \r"
     ]
    },
    {
     "name": "stdout",
     "output_type": "stream",
     "text": [
      "\n",
      " 67%|██████████████████████████▉             | 337/500 [16:12:10<9:42:23, 214.38s/trial, best loss: -0.5416852871207114]\u001b[A"
     ]
    },
    {
     "name": "stderr",
     "output_type": "stream",
     "text": [
      "                                                                                \r"
     ]
    },
    {
     "name": "stdout",
     "output_type": "stream",
     "text": [
      "\n",
      " 68%|██████████████████████████▎            | 338/500 [16:21:26<14:14:51, 316.62s/trial, best loss: -0.5416852871207114]\u001b[A"
     ]
    },
    {
     "name": "stderr",
     "output_type": "stream",
     "text": [
      "[Stage 377:>  (0 + 1) / 1][Stage 382:>  (0 + 1) / 1][Stage 384:>  (0 + 1) / 1]\r"
     ]
    },
    {
     "name": "stdout",
     "output_type": "stream",
     "text": [
      "\n",
      " 68%|███████████████████████████             | 339/500 [16:21:31<9:58:46, 223.15s/trial, best loss: -0.5416852871207114]\u001b[A"
     ]
    },
    {
     "name": "stderr",
     "output_type": "stream",
     "text": [
      "[Stage 382:>  (0 + 1) / 1][Stage 384:>  (0 + 1) / 1][Stage 391:>  (0 + 1) / 1]  \r"
     ]
    },
    {
     "name": "stdout",
     "output_type": "stream",
     "text": [
      "\n",
      " 68%|██████████████████████████▌            | 340/500 [16:42:53<24:02:37, 540.98s/trial, best loss: -0.5416852871207114]\u001b[A"
     ]
    },
    {
     "name": "stderr",
     "output_type": "stream",
     "text": [
      "                                                                                \r"
     ]
    },
    {
     "name": "stdout",
     "output_type": "stream",
     "text": [
      "\n",
      " 68%|██████████████████████████▌            | 341/500 [16:45:07<18:29:30, 418.68s/trial, best loss: -0.5416852871207114]\u001b[A"
     ]
    },
    {
     "name": "stderr",
     "output_type": "stream",
     "text": [
      "[Stage 382:>  (0 + 1) / 1][Stage 384:>  (0 + 1) / 1][Stage 391:>  (0 + 1) / 1]  \r"
     ]
    },
    {
     "name": "stdout",
     "output_type": "stream",
     "text": [
      "\n",
      " 68%|██████████████████████████▋            | 342/500 [16:49:34<16:23:09, 373.35s/trial, best loss: -0.5416852871207114]\u001b[A"
     ]
    },
    {
     "name": "stderr",
     "output_type": "stream",
     "text": [
      "                                                                                \r"
     ]
    },
    {
     "name": "stdout",
     "output_type": "stream",
     "text": [
      "\n",
      " 69%|██████████████████████████▊            | 343/500 [16:51:54<13:14:00, 303.44s/trial, best loss: -0.5416852871207114]\u001b[A"
     ]
    },
    {
     "name": "stderr",
     "output_type": "stream",
     "text": [
      "[Stage 384:>  (0 + 1) / 1][Stage 391:>  (0 + 1) / 1][Stage 399:>  (0 + 1) / 1]\r"
     ]
    }
   ],
   "source": [
    "ppi_stores = search_hyperparams()"
   ]
  },
  {
   "cell_type": "code",
   "execution_count": 267,
   "id": "463ff3ad-40ec-40a7-bcfe-fb5a62a13a3a",
   "metadata": {},
   "outputs": [
    {
     "data": {
      "text/plain": [
       "tensor(0.7473)"
      ]
     },
     "execution_count": 267,
     "metadata": {},
     "output_type": "execute_result"
    }
   ],
   "source": [
    "np.equal(model.predict(test_set.x), test_set.y).sum()/ test_set.y.numel()"
   ]
  },
  {
   "cell_type": "code",
   "execution_count": 256,
   "id": "f0e3657f-f519-47f2-ab92-ce62226548df",
   "metadata": {},
   "outputs": [
    {
     "data": {
      "text/plain": [
       "DataBatch(x=[44906, 50], edge_index=[2, 1226368], y=[44906, 121], batch=[44906], ptr=[21])"
      ]
     },
     "execution_count": 256,
     "metadata": {},
     "output_type": "execute_result"
    }
   ],
   "source": []
  },
  {
   "cell_type": "code",
   "execution_count": 234,
   "id": "2588b959-5113-4240-bd94-1803e7449f63",
   "metadata": {},
   "outputs": [
    {
     "name": "stdout",
     "output_type": "stream",
     "text": [
      "torch.Size([1767, 50])\n"
     ]
    }
   ],
   "source": [
    "from EnsembleFramework import Framework\n",
    "\n",
    "def user_function(kwargs):\n",
    "    return  nn.functional.normalize(kwargs[\"updated_features\"] + kwargs[\"summed_neighbors\"], p = 2.0, dim = -1)\n",
    "    \n",
    "for train_batch in train_dataset:\n",
    "    framework = Framework(hops_list= [3], clfs=[], attention_configs=[{}], handle_nan=0.0, gpu_idx=0, user_functions=[user_function])\n",
    "    new_features = framework.get_features(X=train_batch.x, edge_index=train_batch.edge_index, mask=torch.ones(train_batch.x.shape[0]).type(torch.bool))\n",
    "    print(new_features[0].shape)\n",
    "    break"
   ]
  },
  {
   "cell_type": "code",
   "execution_count": 251,
   "id": "4220e904-2c92-4fb7-aff4-ebcdfc522cfc",
   "metadata": {},
   "outputs": [
    {
     "data": {
      "text/plain": [
       "44906"
      ]
     },
     "execution_count": 251,
     "metadata": {},
     "output_type": "execute_result"
    }
   ],
   "source": [
    "sum_shape = 0\n",
    "for batch in train_dataset:\n",
    "    sum_shape += batch.y.shape[0]\n",
    "sum_shape"
   ]
  },
  {
   "cell_type": "code",
   "execution_count": 151,
   "id": "cc85f6c9-a360-46b3-8858-0c8eb7080d23",
   "metadata": {},
   "outputs": [],
   "source": [
    "device = torch.device(\"cuda:0\")"
   ]
  },
  {
   "cell_type": "code",
   "execution_count": 235,
   "id": "0f3cd842-bb1c-4041-a82a-1aedf4bf9f70",
   "metadata": {},
   "outputs": [],
   "source": [
    "import torch\n",
    "from torch import nn\n",
    "from torch_geometric.nn import GATConv\n",
    "\n",
    "class Model(nn.Module):\n",
    "    def __init__(self, input_dim, hidden_dim, output_dim,heads):\n",
    "        super().__init__()\n",
    "        self.layer_1 = nn.ModuleList([nn.Linear(input_dim, hidden_dim) for _ in range(heads[0])])\n",
    "        self.layer_2 = nn.ModuleList([nn.Linear(hidden_dim*heads[0], hidden_dim) for _ in range(heads[1])])\n",
    "        self.layer_3 = nn.ModuleList([nn.Linear(hidden_dim*heads[0], output_dim) for _ in range(heads[2])])\n",
    "        self.layer_4 = nn.Linear(output_dim*heads[2], output_dim)\n",
    "        # self.layer_1 = GATConv(input_dim, hidden_dim, heads= 4, dropout=0.0, concat=True)\n",
    "        # self.layer_2 = GATConv(hidden_dim*4, hidden_dim, heads= 4, dropout=0.0, concat=True)\n",
    "        # self.layer_3 = GATConv(hidden_dim*4, output_dim, heads= 6, dropout=0.0, concat=False)\n",
    "\n",
    "    def forward(self, x, edge_index):\n",
    "        hidden_dims = []\n",
    "        for lin in self.layer_1:\n",
    "            hidden = lin(x)\n",
    "            hidden = nn.functional.elu(hidden)\n",
    "            hidden_dims.append(hidden)\n",
    "        x = torch.cat(hidden_dims, dim = -1)\n",
    "        hidden_dims = []\n",
    "        for lin in self.layer_2:\n",
    "            hidden = lin(x)\n",
    "            hidden = nn.functional.elu(hidden)\n",
    "            hidden_dims.append(hidden)\n",
    "        x = torch.cat(hidden_dims, dim = -1)\n",
    "        hidden_dims = []\n",
    "        for lin in self.layer_3:\n",
    "            hidden = lin(x)\n",
    "            hidden = nn.functional.elu(hidden)\n",
    "            hidden_dims.append(hidden)\n",
    "        x = torch.cat(hidden_dims, dim = -1)\n",
    "        x = self.layer_4(x)\n",
    "        return x"
   ]
  },
  {
   "cell_type": "code",
   "execution_count": 244,
   "id": "c71f8462-aaf7-4fe9-8b14-c14bb31a50fc",
   "metadata": {},
   "outputs": [],
   "source": [
    "model = Model(X_train.shape[1], 64, y_train.shape[1], heads = [4,4,6]).to(device)#256\n",
    "learning_rate = 5e-3\n",
    "epochs = 200\n",
    "opt = torch.optim.Adam(model.parameters(), lr = learning_rate)\n",
    "loss_fn = nn.BCEWithLogitsLoss(reduction='mean')\n",
    "\n",
    "train_losses = []"
   ]
  },
  {
   "cell_type": "code",
   "execution_count": 241,
   "id": "f782cbd9-5465-45cc-b3ac-1b2b0095d207",
   "metadata": {},
   "outputs": [],
   "source": [
    "framework = Framework(hops_list= [8], clfs=[], attention_configs=[{}], handle_nan=0.0, gpu_idx=0, user_functions=[user_function])\n",
    "def train(model):\n",
    "    global epochs, loss_fn, opt\n",
    "    for epoch in range(epochs):\n",
    "        acc_loss = 0\n",
    "        batch_size = 0\n",
    "        for train_batch in train_dataset:\n",
    "            new_features = framework.get_features(X=train_batch.x, edge_index=train_batch.edge_index, mask=torch.ones(train_batch.x.shape[0]).type(torch.bool))\n",
    "            X = new_features[0].to(device)\n",
    "            y = train_batch.y.to(device)\n",
    "            edge_index = train_batch.edge_index.to(device)\n",
    "            model.train()\n",
    "            out = model(X, edge_index)\n",
    "            loss = loss_fn(out, y)\n",
    "            # train_losses.append(loss.sum().item())\n",
    "            opt.zero_grad()\n",
    "            loss.backward()\n",
    "            opt.step()\n",
    "            batch_size+= 1\n",
    "            acc_loss+=loss.item()\n",
    "        # print(f\"Train {acc_loss/batch_size}\")\n",
    "        evaluate_val(model)\n",
    "        \n",
    "    return model"
   ]
  },
  {
   "cell_type": "code",
   "execution_count": 242,
   "id": "4ec12dd1-e437-4b82-aa3b-a9ef7b037576",
   "metadata": {
    "scrolled": true
   },
   "outputs": [
    {
     "name": "stdout",
     "output_type": "stream",
     "text": [
      "0.5430594682693481\n",
      "0.5424825549125671\n",
      "0.5424716174602509\n",
      "0.5424311757087708\n",
      "0.5424549281597137\n",
      "0.5426161289215088\n",
      "0.5421475470066071\n",
      "0.5422431528568268\n",
      "0.5421760082244873\n",
      "0.5418714284896851\n",
      "0.5427609086036682\n",
      "0.5419675409793854\n",
      "0.5447702407836914\n",
      "0.7008543312549591\n",
      "0.7002492547035217\n",
      "0.552751362323761\n",
      "0.5418860018253326\n",
      "0.542603075504303\n",
      "0.5415277481079102\n",
      "0.5415927767753601\n",
      "0.5415101051330566\n",
      "0.5412891805171967\n",
      "0.5411690175533295\n",
      "0.5411224365234375\n",
      "0.5410727560520172\n",
      "0.5410295724868774\n",
      "0.5410719513893127\n",
      "0.5411356985569\n",
      "0.541136622428894\n",
      "0.5416967570781708\n",
      "0.5413985550403595\n",
      "0.5422426760196686\n",
      "0.5407573580741882\n",
      "0.5422178208827972\n",
      "0.5409322381019592\n",
      "0.5415723025798798\n",
      "0.5414955317974091\n",
      "0.541932076215744\n",
      "0.541016012430191\n",
      "0.5405883193016052\n",
      "0.5419783592224121\n",
      "0.54085573554039\n",
      "0.5403166115283966\n",
      "0.5411010980606079\n",
      "0.5416159331798553\n",
      "0.5409170389175415\n",
      "0.5404464900493622\n",
      "0.5416751801967621\n",
      "0.5405725538730621\n",
      "0.5404481589794159\n",
      "0.5397991836071014\n",
      "0.5400949418544769\n",
      "0.5402602255344391\n",
      "0.5407506227493286\n",
      "0.5406529903411865\n",
      "0.5407743752002716\n",
      "0.5404545664787292\n",
      "0.5403009355068207\n",
      "0.5432721376419067\n",
      "0.5407310128211975\n",
      "0.5405688583850861\n",
      "0.5411551892757416\n",
      "0.5401890277862549\n",
      "0.5439452826976776\n",
      "0.5411987900733948\n",
      "0.5402423739433289\n",
      "0.5401494204998016\n",
      "0.5418431758880615\n",
      "0.5402052700519562\n",
      "0.5402687788009644\n",
      "0.5401714742183685\n",
      "0.5425098538398743\n",
      "0.5415471196174622\n",
      "0.5405732691287994\n",
      "0.5395976603031158\n",
      "0.5403328835964203\n",
      "0.5408201515674591\n",
      "0.541543573141098\n",
      "0.5406450629234314\n",
      "0.541612297296524\n",
      "0.5398477017879486\n",
      "0.5398662686347961\n",
      "0.540754646062851\n",
      "0.5406367480754852\n",
      "0.5399531126022339\n",
      "0.539938360452652\n",
      "0.5401082336902618\n",
      "0.5406744182109833\n",
      "0.5408711433410645\n",
      "0.5402820110321045\n",
      "0.5405839383602142\n",
      "0.5396251082420349\n",
      "0.5400102138519287\n",
      "0.540400356054306\n",
      "0.542256236076355\n",
      "0.5406036674976349\n",
      "0.540735512971878\n",
      "0.5404709875583649\n",
      "0.5396067500114441\n",
      "0.5432884097099304\n",
      "0.540065348148346\n",
      "0.5431266725063324\n",
      "0.5405062437057495\n",
      "0.5402617156505585\n",
      "0.5399751961231232\n",
      "0.5410932302474976\n",
      "0.5411550998687744\n",
      "0.5402598083019257\n",
      "0.5398730337619781\n",
      "0.5409702360630035\n",
      "0.540362685918808\n",
      "0.541619062423706\n",
      "0.5395153760910034\n",
      "0.5405743420124054\n",
      "0.5401121079921722\n",
      "0.540397047996521\n",
      "0.5415379703044891\n",
      "0.5389735996723175\n",
      "0.5425865948200226\n",
      "0.5406317114830017\n",
      "0.5406939089298248\n",
      "0.5395860970020294\n",
      "0.541892945766449\n",
      "0.5399045646190643\n",
      "0.5406710505485535\n",
      "0.5403002798557281\n",
      "0.5429930686950684\n",
      "0.5399688184261322\n",
      "0.5397162139415741\n",
      "0.5406554639339447\n",
      "0.5400038957595825\n",
      "0.5394739508628845\n",
      "0.5401372611522675\n",
      "0.5393098592758179\n",
      "0.5407753884792328\n",
      "0.5394270718097687\n",
      "0.5401206910610199\n",
      "0.5389834642410278\n",
      "0.5395367443561554\n",
      "0.5431360304355621\n",
      "0.5411170423030853\n",
      "0.5395903289318085\n",
      "0.5417455434799194\n",
      "0.5398286879062653\n",
      "0.5403164625167847\n",
      "0.5405929386615753\n",
      "0.5389373302459717\n",
      "0.5406466424465179\n",
      "0.540213942527771\n",
      "0.5424695312976837\n",
      "0.5394443273544312\n",
      "0.5405447781085968\n",
      "0.5405982434749603\n",
      "0.5409162640571594\n",
      "0.5394570827484131\n",
      "0.5406701564788818\n",
      "0.5388704240322113\n",
      "0.541398674249649\n",
      "0.5395902693271637\n",
      "0.5388098359107971\n",
      "0.5412142276763916\n",
      "0.5399730205535889\n",
      "0.5391678512096405\n",
      "0.5399994850158691\n",
      "0.5403358340263367\n",
      "0.5394323170185089\n",
      "0.5394059419631958\n",
      "0.5395500659942627\n",
      "0.5388049483299255\n",
      "0.5425923466682434\n",
      "0.53970867395401\n",
      "0.5445460379123688\n",
      "0.539800614118576\n",
      "0.539835125207901\n",
      "0.5391486287117004\n",
      "0.5383752286434174\n",
      "0.5401254296302795\n",
      "0.5411768555641174\n",
      "0.5395174026489258\n",
      "0.5398948192596436\n",
      "0.5408088862895966\n",
      "0.5386823415756226\n",
      "0.5450491011142731\n",
      "0.5414654314517975\n",
      "0.5478432774543762\n",
      "0.5395271182060242\n",
      "0.540590226650238\n",
      "0.5395987629890442\n",
      "0.5737351179122925\n",
      "1.4454161524772644\n",
      "0.8823598027229309\n",
      "0.6131361722946167\n",
      "0.5525300800800323\n",
      "0.5457629561424255\n",
      "0.5441403985023499\n",
      "0.5440093576908112\n",
      "0.5439939200878143\n",
      "0.543985515832901\n",
      "0.543948233127594\n",
      "0.5439224243164062\n"
     ]
    }
   ],
   "source": [
    "model = train(model)"
   ]
  },
  {
   "cell_type": "code",
   "execution_count": 245,
   "id": "244e4e31-236b-4843-bcd8-da353224fd87",
   "metadata": {},
   "outputs": [
    {
     "name": "stdout",
     "output_type": "stream",
     "text": [
      "0.37240967304317524\n",
      "0.3811123891251061\n"
     ]
    }
   ],
   "source": [
    "evaluate_f1(model)"
   ]
  },
  {
   "cell_type": "code",
   "execution_count": null,
   "id": "fd273031-6dce-496b-9055-e0dfd0fa56b5",
   "metadata": {},
   "outputs": [],
   "source": [
    "from sklearn.metrics import f1_score\n",
    "\n",
    "def evaluate_f1(model):\n",
    "    with torch.inference_mode():\n",
    "        model.eval()\n",
    "        for test_batch in test_dataset:\n",
    "            new_features = framework.get_features(X=test_batch.x, edge_index=test_batch.edge_index, mask=torch.ones(test_batch.x.shape[0]).type(torch.bool))\n",
    "            X = new_features[0].to(device)\n",
    "            y = test_batch.y.to(device)\n",
    "            edge_index = test_batch.edge_index.to(device)\n",
    "            logits = model(X, edge_index)\n",
    "            loss = loss_fn(logits, y)\n",
    "            proba = torch.sigmoid(logits)\n",
    "            pred = torch.round(proba)\n",
    "            micro_f1 = f1_score(y.cpu(), pred.cpu(), average='micro')\n",
    "            print(micro_f1)"
   ]
  },
  {
   "cell_type": "code",
   "execution_count": 181,
   "id": "3f2c6d42-bf42-44f3-ab77-d1a36a8ed8bd",
   "metadata": {},
   "outputs": [],
   "source": [
    "def evaluate_val(model):\n",
    "    with torch.inference_mode():\n",
    "        model.eval()\n",
    "        acc_loss = 0\n",
    "        batch_size = 0\n",
    "        for test_batch in val_dataset:\n",
    "            new_features = framework.get_features(X=test_batch.x, edge_index=test_batch.edge_index, mask=torch.ones(test_batch.x.shape[0]).type(torch.bool))\n",
    "            X = new_features[0].to(device)\n",
    "            y = test_batch.y.to(device)\n",
    "            edge_index = test_batch.edge_index.to(device)\n",
    "            logits = model(X, edge_index)\n",
    "            loss = loss_fn(logits, y)\n",
    "            acc_loss+= loss.item()\n",
    "            batch_size += 1\n",
    "        print(acc_loss / batch_size)"
   ]
  },
  {
   "cell_type": "code",
   "execution_count": 180,
   "id": "d4995382-7c46-4efd-8578-fcc9147a34ea",
   "metadata": {},
   "outputs": [],
   "source": [
    "def evaluate(model):\n",
    "    with torch.inference_mode():\n",
    "        model.eval()\n",
    "        for test_batch in test_loader:\n",
    "            X = test_batch.x.to(device)\n",
    "            y = test_batch.y.to(device)\n",
    "            edge_index = test_batch.edge_index.to(device)\n",
    "            logits = model(X, edge_index)\n",
    "            loss = loss_fn(logits, y)\n",
    "            print(loss)"
   ]
  },
  {
   "cell_type": "code",
   "execution_count": 51,
   "id": "9c4132ce-7f27-45d1-abc8-6884b323a393",
   "metadata": {},
   "outputs": [
    {
     "data": {
      "text/plain": [
       "[<matplotlib.lines.Line2D at 0x7f39725396c0>]"
      ]
     },
     "execution_count": 51,
     "metadata": {},
     "output_type": "execute_result"
    },
    {
     "data": {
      "image/png": "[encoded data removed]",
      "text/plain": [
       "<Figure size 640x480 with 1 Axes>"
      ]
     },
     "metadata": {},
     "output_type": "display_data"
    }
   ],
   "source": [
    "import matplotlib.pyplot as plt\n",
    "plt.plot(train_losses)"
   ]
  },
  {
   "cell_type": "code",
   "execution_count": 22,
   "id": "8f110294-f9a3-499f-bd93-d1fd280043f2",
   "metadata": {},
   "outputs": [],
   "source": [
    "from sklearn.metrics import f1_score\n",
    "import numpy as np\n",
    "def print_eval(y_pred):\n",
    "    micro_f1 = f1_score(test_data.y, y_pred, average='micro')\n",
    "    ratio_corr_labels = np.equal(test_data.y, y_pred).sum() / test_data.y.numel()\n",
    "    print(f\"F1-micro {str(micro_f1)} - Overall-Acc: {str(ratio_corr_labels)}\")"
   ]
  },
  {
   "cell_type": "code",
   "execution_count": 23,
   "id": "ebe065a8-b8f7-4959-ad5d-ac94f9a5cef6",
   "metadata": {},
   "outputs": [
    {
     "name": "stdout",
     "output_type": "stream",
     "text": [
      "tensor(0.5436, device='cuda:0')\n"
     ]
    }
   ],
   "source": [
    "evaluate(model, X_train, y_train)"
   ]
  },
  {
   "cell_type": "code",
   "execution_count": 25,
   "id": "585f6560-6e56-41d4-b923-ab4d549f7698",
   "metadata": {},
   "outputs": [
    {
     "name": "stdout",
     "output_type": "stream",
     "text": [
      "F1-micro 0.4263748920241866 - Overall-Acc: tensor(0.7467)\n"
     ]
    }
   ],
   "source": [
    "with torch.inference_mode():\n",
    "    model.eval()\n",
    "    y_pred = torch.round(torch.sigmoid(model(X_test))).detach().cpu()\n",
    "    print_eval(y_pred)"
   ]
  },
  {
   "cell_type": "code",
   "execution_count": null,
   "id": "e1a8fe19-5205-4754-a0a4-65ddd965bb98",
   "metadata": {},
   "outputs": [],
   "source": []
  }
 ],
 "metadata": {
  "kernelspec": {
   "display_name": "Python 3 (ipykernel)",
   "language": "python",
   "name": "python3"
  },
  "language_info": {
   "codemirror_mode": {
    "name": "ipython",
    "version": 3
   },
   "file_extension": ".py",
   "mimetype": "text/x-python",
   "name": "python",
   "nbconvert_exporter": "python",
   "pygments_lexer": "ipython3",
   "version": "3.10.12"
  }
 },
 "nbformat": 4,
 "nbformat_minor": 5
}
