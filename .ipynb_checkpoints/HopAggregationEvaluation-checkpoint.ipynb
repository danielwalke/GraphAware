{
 "cells": [
  {
   "cell_type": "code",
   "execution_count": 1,
   "id": "e93033d3-12b5-4226-8f80-26739951e015",
   "metadata": {},
   "outputs": [],
   "source": [
    "import sys\n",
    " \n",
    "sys.path.insert(0, \"../\")\n",
    "\n",
    "from EnsembleFramework import Framework"
   ]
  },
  {
   "cell_type": "code",
   "execution_count": 3,
   "id": "934783c4-c5d4-4078-9494-288d147fb754",
   "metadata": {},
   "outputs": [],
   "source": [
    "from torch_geometric.datasets import Planetoid\n",
    "import torch_geometric.transforms as T\n",
    "from torch_geometric.utils import add_self_loops\n",
    "\n",
    "dataset_name = 'Cora'\n",
    "split = \"public\"\n",
    "dataset = Planetoid(root='/tmp/Cora', name=dataset_name, split=split)\n",
    "dataset.transform = T.NormalizeFeatures()\n",
    "\n",
    "features =  dataset[0].x\n",
    "y =  dataset[0].y\n",
    "\n",
    "test =  dataset[0].test_mask\n",
    "train = dataset[0].train_mask\n",
    "val =  dataset[0].val_mask\n",
    "\n",
    "edge_index = dataset[0].edge_index \n",
    "edge_index = add_self_loops(edge_index)[0]"
   ]
  },
  {
   "cell_type": "code",
   "execution_count": 37,
   "id": "c55ade43-1271-4530-a140-439acea1ca6d",
   "metadata": {},
   "outputs": [],
   "source": [
    "import torch\n",
    "from torch.nn.functional import normalize\n",
    "def user_function(kwargs):\n",
    "    return normalize(kwargs[\"original_features\"] + kwargs[\"summed_neighbors\"], p=2.0, dim = 1)\n",
    "\n",
    "\n",
    "hops_list = [0, 2,3,4,5,6,7,8,9,10, 20, 50]\n",
    "framework = Framework([user_function for i in hops_list], \n",
    "                     hops_list=hops_list, ## to obtain best for local neighborhood\n",
    "                     clfs=[],\n",
    "                     gpu_idx=0,\n",
    "                     handle_nan=0.0,\n",
    "                    attention_configs=[None for i in hops_list])\n",
    "new_features = framework.get_features(features, edge_index,val)"
   ]
  },
  {
   "cell_type": "code",
   "execution_count": 39,
   "id": "aebcadc7-8b91-4453-99f4-afcc943fb0fc",
   "metadata": {},
   "outputs": [
    {
     "name": "stdout",
     "output_type": "stream",
     "text": [
      "Hop 0\n",
      "-0.029286278\n",
      "Hop 2\n",
      "0.014761812\n",
      "Hop 3\n",
      "0.02108769\n",
      "Hop 4\n",
      "0.025357008\n",
      "Hop 5\n",
      "0.029823406\n",
      "Hop 6\n",
      "0.032983743\n",
      "Hop 7\n",
      "0.035499126\n",
      "Hop 8\n",
      "0.037054792\n",
      "Hop 9\n",
      "0.03787552\n",
      "Hop 10\n",
      "0.038027745\n",
      "Hop 20\n",
      "0.020425273\n",
      "Hop 50\n",
      "-0.041694228\n"
     ]
    }
   ],
   "source": [
    "from sklearn.metrics import silhouette_score, calinski_harabasz_score\n",
    "\n",
    "for i, hop_features in enumerate(new_features):\n",
    "    print(f\"Hop {hops_list[i]}\")\n",
    "    print(silhouette_score(hop_features.cpu(), y[val], metric=\"euclidean\")) #cosine"
   ]
  },
  {
   "cell_type": "code",
   "execution_count": null,
   "id": "06c85e77-cab7-43dc-8eda-49b8bb38646f",
   "metadata": {},
   "outputs": [],
   "source": []
  }
 ],
 "metadata": {
  "kernelspec": {
   "display_name": "Python 3 (ipykernel)",
   "language": "python",
   "name": "python3"
  },
  "language_info": {
   "codemirror_mode": {
    "name": "ipython",
    "version": 3
   },
   "file_extension": ".py",
   "mimetype": "text/x-python",
   "name": "python",
   "nbconvert_exporter": "python",
   "pygments_lexer": "ipython3",
   "version": "3.10.12"
  }
 },
 "nbformat": 4,
 "nbformat_minor": 5
}
