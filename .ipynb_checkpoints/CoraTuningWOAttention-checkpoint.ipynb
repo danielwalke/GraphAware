{
 "cells": [
  {
   "cell_type": "markdown",
   "id": "369593e8-c7bb-4bf0-bb63-b13a7d3ffad2",
   "metadata": {},
   "source": [
    "# Evaluation graph awareness along different algorithms"
   ]
  },
  {
   "cell_type": "markdown",
   "id": "9a632dd5-e3e5-4c67-8627-df75bf73e468",
   "metadata": {},
   "source": [
    "## Read data"
   ]
  },
  {
   "cell_type": "code",
   "execution_count": 35,
   "id": "151bf675-4602-4d34-ab80-fa8a66ad9904",
   "metadata": {},
   "outputs": [],
   "source": [
    "from torch_geometric.datasets import Planetoid\n",
    "from EnsembleFramework import Framework\n",
    "import torch_geometric.transforms as T\n",
    "from torch_geometric.utils import add_self_loops\n",
    "\n",
    "dataset_name = 'Cora'\n",
    "split = \"public\"\n",
    "dataset = Planetoid(root='/tmp/Cora', name=dataset_name, split=split)\n",
    "dataset.transform = T.NormalizeFeatures()\n",
    "\n",
    "features =  dataset[0].x\n",
    "y =  dataset[0].y\n",
    "\n",
    "test =  dataset[0].test_mask\n",
    "train = dataset[0].train_mask\n",
    "val =  dataset[0].val_mask\n",
    "\n",
    "edge_index = dataset[0].edge_index \n",
    "edge_index = add_self_loops(edge_index)[0]"
   ]
  },
  {
   "cell_type": "markdown",
   "id": "280cd6cf-504b-4a17-a1a6-271ad0f29886",
   "metadata": {},
   "source": [
    "## Define Hyperparameter spaces"
   ]
  },
  {
   "cell_type": "markdown",
   "id": "a9949416-8b1b-4049-a0e2-cf816067ef54",
   "metadata": {},
   "source": [
    "### Logistic regression hyperparameter space"
   ]
  },
  {
   "cell_type": "code",
   "execution_count": 60,
   "id": "0f333c8f-7023-4942-a06f-2145c84a3c6c",
   "metadata": {},
   "outputs": [],
   "source": [
    "from hyperopt import hp\n",
    "\n",
    "lr_choices = {\n",
    "    'penalty': [\"l2\"],\n",
    "    'max_iter': [2**i for i in range(6, 15)],\n",
    "}\n",
    "\n",
    "lr_space = {\n",
    "    **{key: hp.choice(key, value) for key, value in lr_choices.items()},\n",
    "    'tol': hp.loguniform('tol', -11, -3),\n",
    "    'C': hp.uniform('C', 0.0, 10)\n",
    "}"
   ]
  },
  {
   "cell_type": "markdown",
   "id": "9c6f614b-0c1b-410a-9596-8cbfee4c3e75",
   "metadata": {},
   "source": [
    "### Support Vector classfiier hyperparameter space"
   ]
  },
  {
   "cell_type": "code",
   "execution_count": 61,
   "id": "e0297cd6-7d10-4001-a085-9410bff2474f",
   "metadata": {},
   "outputs": [],
   "source": [
    "from hyperopt import hp\n",
    "\n",
    "svc_choices = {\n",
    "    'gamma': [\"scale\", \"auto\"],\n",
    "    \"probability\": [True]\n",
    "}\n",
    "\n",
    "svc_space = {\n",
    "    **{key: hp.choice(key, value) for key, value in svc_choices.items()},\n",
    "    'C': hp.uniform('C', 0.0, 150)\n",
    "}"
   ]
  },
  {
   "cell_type": "markdown",
   "id": "f76f5b7c-7b28-44b6-9570-4d68cbc81921",
   "metadata": {},
   "source": [
    "### Decision tree hyperparameter space"
   ]
  },
  {
   "cell_type": "code",
   "execution_count": 62,
   "id": "07c096ef-fe5e-43b9-ad3d-0594f68fd386",
   "metadata": {},
   "outputs": [],
   "source": [
    "from hyperopt import hp\n",
    "\n",
    "dt_choices = {\n",
    "    'criterion': [\"gini\"],\n",
    "    'max_depth': [None, *[i**2 for i in range(5, 10)]]\n",
    "}\n",
    "\n",
    "dt_space = {\n",
    "    **{key: hp.choice(key, value) for key, value in dt_choices.items()},\n",
    "    'min_samples_split': hp.uniform('min_samples_split', 0.0, 1.0),\n",
    "    'min_samples_leaf': hp.uniform('min_samples_leaf', 0.0, .5),\n",
    "    'min_weight_fraction_leaf': hp.uniform('min_weight_fraction_leaf', 0.0, 1.0),\n",
    "    'max_features': hp.uniform('max_features', 0.0, 1.0),\n",
    "}"
   ]
  },
  {
   "cell_type": "markdown",
   "id": "53ad1a84-801c-4543-9859-23e8468dddbb",
   "metadata": {},
   "source": [
    "### XGBoost hyperparameter space"
   ]
  },
  {
   "cell_type": "code",
   "execution_count": 63,
   "id": "881b368f-ce37-4183-9e32-f9ce8529cce4",
   "metadata": {},
   "outputs": [],
   "source": [
    "from hyperopt import hp\n",
    "\n",
    "booster_self = [\"gbtree\"]\n",
    "n_estimators_self = [1_400, 1_600, 1_800, 2_000]\n",
    "max_depth_self = [None,2, 3,4]\n",
    "max_delta_step_self = [1,2,3]\n",
    "min_child_weight_self = [None, *list(range(1,5,1))]\n",
    "\n",
    "xb_choices = {\n",
    "    'booster': booster_self,\n",
    "    'n_estimators': n_estimators_self,\n",
    "    'max_depth': max_depth_self,\n",
    "    'max_delta_step': max_delta_step_self,\n",
    "    'min_child_weight': min_child_weight_self,\n",
    "    # 'device': [\"cuda:2\"],\n",
    "    \"tree_method\": [\"hist\"]\n",
    "}\n",
    " \n",
    "xb_space = {\n",
    "    **{key: hp.choice(key, value) for key, value in xb_choices.items()},\n",
    "    'eta': hp.loguniform('eta', -3, -.4),\n",
    "    'subsample': hp.uniform('subsample', 0.6, 1),\n",
    "    'reg_lambda': hp.loguniform('reg_lambda',-5, 5),\n",
    "    'reg_alpha': hp.loguniform('reg_alpha',-3, 1),\n",
    "    'gamma': hp.uniform('gamma', 0, .8),\n",
    "    'colsample_bytree': hp.uniform('colsample_bytree', 0.6, 1),\n",
    "}"
   ]
  },
  {
   "cell_type": "markdown",
   "id": "e2d2aa7c-3ab6-460b-94fd-8565792bfba2",
   "metadata": {},
   "source": [
    "### Random forest hyperparameter space"
   ]
  },
  {
   "cell_type": "code",
   "execution_count": 64,
   "id": "5f97277c-6fa4-4f61-88cd-1bd524429be5",
   "metadata": {},
   "outputs": [],
   "source": [
    "from hyperopt import hp\n",
    "\n",
    "rf_choices = {\n",
    "    'n_estimators': [200, 400, 600, 800, 1000, 1200, 1400, 1600, 1800, 2000],\n",
    "    'max_depth':  [10, 20, 30, 40, 50, 60, 70, 80, 90, 100, None],\n",
    "    'min_samples_split': [2, 5, 10],\n",
    "    \"criterion\":  [\"gini\", \"entropy\", \"log_loss\"]\n",
    "}\n",
    "\n",
    "rf_space = {\n",
    "    **{key: hp.choice(key, value) for key, value in rf_choices.items()},\n",
    "    'max_samples': hp.uniform('max_samples', 0.0, 1),\n",
    "    'min_samples_leaf': hp.uniform('min_samples_leaf', 0.0, 1.0),\n",
    "    'min_samples_split': hp.uniform('min_samples_split', 0.0, 1.0),\n",
    "     'max_features': hp.uniform('max_features', 0.0, 1.0),\n",
    "}"
   ]
  },
  {
   "cell_type": "code",
   "execution_count": 65,
   "id": "99753fd4-9fb3-4fb2-9bb9-15a688f4c2c1",
   "metadata": {},
   "outputs": [],
   "source": [
    "from sklearn.ensemble import RandomForestClassifier\n",
    "from xgboost import XGBClassifier\n",
    "from sklearn.linear_model import LogisticRegression\n",
    "from sklearn.svm import SVC\n",
    "from sklearn.tree import DecisionTreeClassifier\n",
    "\n",
    "clfs_space = dict({})\n",
    "clfs_space[\"RandomForestClassifier\"] = rf_space\n",
    "clfs_space[\"LogisticRegression\"] = lr_space\n",
    "clfs_space[\"DecisionTreeClassifier\"] = dt_space\n",
    "clfs_space[\"XGBClassifier\"] = xb_space\n",
    "clfs_space[\"SVC\"] = svc_space\n",
    "\n",
    "clfs = [RandomForestClassifier, LogisticRegression, DecisionTreeClassifier, XGBClassifier, SVC]"
   ]
  },
  {
   "cell_type": "markdown",
   "id": "a87e6dee-03db-4a98-a522-19ba583abf0a",
   "metadata": {},
   "source": [
    "## Convert data in format for AutoTune"
   ]
  },
  {
   "cell_type": "code",
   "execution_count": 66,
   "id": "07d25f05-2645-41e1-97ac-b562ef7c9ec7",
   "metadata": {},
   "outputs": [],
   "source": [
    "cora_set = dict({})\n",
    "cora_set[\"X\"] = features\n",
    "cora_set[\"y\"] = y\n",
    "cora_set[\"test\"] = test\n",
    "cora_set[\"train\"] = train\n",
    "cora_set[\"val\"] = val\n",
    "cora_set[\"edge_index\"] = edge_index"
   ]
  },
  {
   "cell_type": "markdown",
   "id": "8bdded46-7f04-4d10-a421-f8a328419f98",
   "metadata": {},
   "source": [
    "## Start AutoTune search"
   ]
  },
  {
   "cell_type": "code",
   "execution_count": null,
   "id": "c3b31f80-3ca9-4b8d-871d-0fb0709f6447",
   "metadata": {},
   "outputs": [
    {
     "data": {
      "application/vnd.jupyter.widget-view+json": {
       "model_id": "42d4871bd036427ebc68092d24966453",
       "version_major": 2,
       "version_minor": 0
      },
      "text/plain": [
       "  0%|          | 0/5 [00:00<?, ?it/s]"
      ]
     },
     "metadata": {},
     "output_type": "display_data"
    },
    {
     "data": {
      "application/vnd.jupyter.widget-view+json": {
       "model_id": "023d4da562aa475589d7b1e48ada6d2d",
       "version_major": 2,
       "version_minor": 0
      },
      "text/plain": [
       "  0%|          | 0/1 [00:00<?, ?it/s]"
      ]
     },
     "metadata": {},
     "output_type": "display_data"
    },
    {
     "data": {
      "application/vnd.jupyter.widget-view+json": {
       "model_id": "a01027e5df3b4c1ca4b840de5ce67fc8",
       "version_major": 2,
       "version_minor": 0
      },
      "text/plain": [
       "  0%|          | 0/1 [00:00<?, ?it/s]"
      ]
     },
     "metadata": {},
     "output_type": "display_data"
    },
    {
     "name": "stderr",
     "output_type": "stream",
     "text": [
      "Total Trials: 10: 10 succeeded, 0 failed, 0 cancelled.                          \n"
     ]
    },
    {
     "data": {
      "application/vnd.jupyter.widget-view+json": {
       "model_id": "98abef28abe24f369e72de1edbe3880c",
       "version_major": 2,
       "version_minor": 0
      },
      "text/plain": [
       "  0%|          | 0/1 [00:00<?, ?it/s]"
      ]
     },
     "metadata": {},
     "output_type": "display_data"
    },
    {
     "data": {
      "application/vnd.jupyter.widget-view+json": {
       "model_id": "ece93a35d4184674b68e3ddf502d0249",
       "version_major": 2,
       "version_minor": 0
      },
      "text/plain": [
       "  0%|          | 0/1 [00:00<?, ?it/s]"
      ]
     },
     "metadata": {},
     "output_type": "display_data"
    },
    {
     "name": "stderr",
     "output_type": "stream",
     "text": [
      "/home/dwalke/.local/lib/python3.10/site-packages/sklearn/linear_model/_logistic.py:1193: UserWarning: Setting penalty=None will ignore the C and l1_ratio parameters\n",
      "  warnings.warn(\n",
      "/home/dwalke/.local/lib/python3.10/site-packages/sklearn/linear_model/_logistic.py:1193: UserWarning: Setting penalty=None will ignore the C and l1_ratio parameters\n",
      "  warnings.warn(\n",
      "/home/dwalke/.local/lib/python3.10/site-packages/sklearn/linear_model/_logistic.py:1193: UserWarning: Setting penalty=None will ignore the C and l1_ratio parameters\n",
      "  warnings.warn(\n",
      "/home/dwalke/.local/lib/python3.10/site-packages/sklearn/linear_model/_logistic.py:1193: UserWarning: Setting penalty=None will ignore the C and l1_ratio parameters\n",
      "  warnings.warn(\n",
      "Total Trials: 10: 10 succeeded, 0 failed, 0 cancelled.                          \n"
     ]
    },
    {
     "data": {
      "application/vnd.jupyter.widget-view+json": {
       "model_id": "9b2798ee352d479ca0dec8f4ccce585a",
       "version_major": 2,
       "version_minor": 0
      },
      "text/plain": [
       "  0%|          | 0/1 [00:00<?, ?it/s]"
      ]
     },
     "metadata": {},
     "output_type": "display_data"
    },
    {
     "data": {
      "application/vnd.jupyter.widget-view+json": {
       "model_id": "8c578c200cd9495d8cd01f7038f9976a",
       "version_major": 2,
       "version_minor": 0
      },
      "text/plain": [
       "  0%|          | 0/1 [00:00<?, ?it/s]"
      ]
     },
     "metadata": {},
     "output_type": "display_data"
    },
    {
     "name": "stderr",
     "output_type": "stream",
     "text": [
      "Traceback (most recent call last):) / 1][Stage 865:>                (0 + 1) / 1]\n",
      "  File \"/home/dwalke/.local/lib/python3.10/site-packages/hyperopt/spark.py\", line 467, in run_task_on_executor\n",
      "    result = domain.evaluate(\n",
      "  File \"/home/dwalke/.local/lib/python3.10/site-packages/hyperopt/base.py\", line 892, in evaluate\n",
      "    rval = self.fn(pyll_rval)\n",
      "  File \"/home/dwalke/git/graph_aware_ml/AutoTune2.py\", line 91, in objective\n",
      "    framework.fit(auto_search.data.X, auto_search.data.edge_index,\n",
      "  File \"/home/dwalke/git/graph_aware_ml/EnsembleFramework.py\", line 195, in fit\n",
      "    clf.fit(aggregated_train_features.cpu().numpy(), y_train,**transformed_kwargs)\n",
      "  File \"/home/dwalke/.local/lib/python3.10/site-packages/sklearn/base.py\", line 1145, in wrapper\n",
      "    estimator._validate_params()\n",
      "  File \"/home/dwalke/.local/lib/python3.10/site-packages/sklearn/base.py\", line 638, in _validate_params\n",
      "    validate_parameter_constraints(\n",
      "  File \"/home/dwalke/.local/lib/python3.10/site-packages/sklearn/utils/_param_validation.py\", line 95, in validate_parameter_constraints\n",
      "    raise InvalidParameterError(\n",
      "sklearn.utils._param_validation.InvalidParameterError: The 'min_weight_fraction_leaf' parameter of DecisionTreeClassifier must be a float in the range [0.0, 0.5]. Got 0.9764698442376695 instead.\n",
      "\n",
      "trial task 1 failed, exception is The 'min_weight_fraction_leaf' parameter of DecisionTreeClassifier must be a float in the range [0.0, 0.5]. Got 0.9764698442376695 instead..\n",
      " Traceback (most recent call last):\n",
      "  File \"/home/dwalke/.local/lib/python3.10/site-packages/hyperopt/spark.py\", line 467, in run_task_on_executor\n",
      "    result = domain.evaluate(\n",
      "  File \"/home/dwalke/.local/lib/python3.10/site-packages/hyperopt/base.py\", line 892, in evaluate\n",
      "    rval = self.fn(pyll_rval)\n",
      "  File \"/home/dwalke/git/graph_aware_ml/AutoTune2.py\", line 91, in objective\n",
      "    framework.fit(auto_search.data.X, auto_search.data.edge_index,\n",
      "  File \"/home/dwalke/git/graph_aware_ml/EnsembleFramework.py\", line 195, in fit\n",
      "    clf.fit(aggregated_train_features.cpu().numpy(), y_train,**transformed_kwargs)\n",
      "  File \"/home/dwalke/.local/lib/python3.10/site-packages/sklearn/base.py\", line 1145, in wrapper\n",
      "    estimator._validate_params()\n",
      "  File \"/home/dwalke/.local/lib/python3.10/site-packages/sklearn/base.py\", line 638, in _validate_params\n",
      "    validate_parameter_constraints(\n",
      "  File \"/home/dwalke/.local/lib/python3.10/site-packages/sklearn/utils/_param_validation.py\", line 95, in validate_parameter_constraints\n",
      "    raise InvalidParameterError(\n",
      "sklearn.utils._param_validation.InvalidParameterError: The 'min_weight_fraction_leaf' parameter of DecisionTreeClassifier must be a float in the range [0.0, 0.5]. Got 0.9764698442376695 instead.\n",
      "\n",
      "Traceback (most recent call last):) / 1][Stage 866:>                (0 + 1) / 1]\n",
      "  File \"/home/dwalke/.local/lib/python3.10/site-packages/hyperopt/spark.py\", line 467, in run_task_on_executor\n",
      "    result = domain.evaluate(\n",
      "  File \"/home/dwalke/.local/lib/python3.10/site-packages/hyperopt/base.py\", line 892, in evaluate\n",
      "    rval = self.fn(pyll_rval)\n",
      "  File \"/home/dwalke/git/graph_aware_ml/AutoTune2.py\", line 91, in objective\n",
      "    framework.fit(auto_search.data.X, auto_search.data.edge_index,\n",
      "  File \"/home/dwalke/git/graph_aware_ml/EnsembleFramework.py\", line 195, in fit\n",
      "    clf.fit(aggregated_train_features.cpu().numpy(), y_train,**transformed_kwargs)\n",
      "  File \"/home/dwalke/.local/lib/python3.10/site-packages/sklearn/base.py\", line 1145, in wrapper\n",
      "    estimator._validate_params()\n",
      "  File \"/home/dwalke/.local/lib/python3.10/site-packages/sklearn/base.py\", line 638, in _validate_params\n",
      "    validate_parameter_constraints(\n",
      "  File \"/home/dwalke/.local/lib/python3.10/site-packages/sklearn/utils/_param_validation.py\", line 95, in validate_parameter_constraints\n",
      "    raise InvalidParameterError(\n",
      "sklearn.utils._param_validation.InvalidParameterError: The 'min_weight_fraction_leaf' parameter of DecisionTreeClassifier must be a float in the range [0.0, 0.5]. Got 0.7857493872091501 instead.\n",
      "\n",
      "trial task 2 failed, exception is The 'min_weight_fraction_leaf' parameter of DecisionTreeClassifier must be a float in the range [0.0, 0.5]. Got 0.7857493872091501 instead..\n",
      " Traceback (most recent call last):\n",
      "  File \"/home/dwalke/.local/lib/python3.10/site-packages/hyperopt/spark.py\", line 467, in run_task_on_executor\n",
      "    result = domain.evaluate(\n",
      "  File \"/home/dwalke/.local/lib/python3.10/site-packages/hyperopt/base.py\", line 892, in evaluate\n",
      "    rval = self.fn(pyll_rval)\n",
      "  File \"/home/dwalke/git/graph_aware_ml/AutoTune2.py\", line 91, in objective\n",
      "    framework.fit(auto_search.data.X, auto_search.data.edge_index,\n",
      "  File \"/home/dwalke/git/graph_aware_ml/EnsembleFramework.py\", line 195, in fit\n",
      "    clf.fit(aggregated_train_features.cpu().numpy(), y_train,**transformed_kwargs)\n",
      "  File \"/home/dwalke/.local/lib/python3.10/site-packages/sklearn/base.py\", line 1145, in wrapper\n",
      "    estimator._validate_params()\n",
      "  File \"/home/dwalke/.local/lib/python3.10/site-packages/sklearn/base.py\", line 638, in _validate_params\n",
      "    validate_parameter_constraints(\n",
      "  File \"/home/dwalke/.local/lib/python3.10/site-packages/sklearn/utils/_param_validation.py\", line 95, in validate_parameter_constraints\n",
      "    raise InvalidParameterError(\n",
      "sklearn.utils._param_validation.InvalidParameterError: The 'min_weight_fraction_leaf' parameter of DecisionTreeClassifier must be a float in the range [0.0, 0.5]. Got 0.7857493872091501 instead.\n",
      "\n"
     ]
    }
   ],
   "source": [
    "from AutoTune2 import AutoSearch\n",
    "from sklearn.metrics import accuracy_score\n",
    "from torch.nn.functional import normalize\n",
    "\n",
    "def user_function(kwargs):\n",
    "    return  normalize(kwargs[\"original_features\"] + kwargs[\"summed_neighbors\"], p=2.0, dim = 1)\n",
    "\n",
    "searcher = AutoSearch(cora_set, max_evals=10, pred_metric = accuracy_score, parallelism=50)\n",
    "hops = [3]\n",
    "store = searcher.search(clfs, clfs_space, hops=hops, user_functions= [user_function],\n",
    "                        attention_configs = [None])"
   ]
  },
  {
   "cell_type": "markdown",
   "id": "fa896bce-953f-44a9-aa4d-bf614687f859",
   "metadata": {},
   "source": [
    "## Print results"
   ]
  },
  {
   "cell_type": "code",
   "execution_count": 54,
   "id": "d49f89c6-826d-4ff8-8525-b5fee8593835",
   "metadata": {},
   "outputs": [
    {
     "data": {
      "text/plain": [
       "{'RandomForestClassifier': {3: {'train_acc': 0.7214285714285714,\n",
       "   'val_acc': 0.542,\n",
       "   'test_acc': 0.578,\n",
       "   'model': RandomForestClassifier(criterion='entropy', max_depth=60,\n",
       "                          max_features=0.5386735923044993,\n",
       "                          max_samples=0.8232521612995202,\n",
       "                          min_samples_leaf=0.22776932723998056,\n",
       "                          min_samples_split=0.1432446178498361, n_estimators=1800),\n",
       "   'user_function': <function __main__.user_function(kwargs)>,\n",
       "   'attention_config': None}},\n",
       " 'LogisticRegression': {3: {'train_acc': 0.9928571428571429,\n",
       "   'val_acc': 0.806,\n",
       "   'test_acc': 0.824,\n",
       "   'model': LogisticRegression(C=6.266904433373178, l1_ratio=0.8445600388364138,\n",
       "                      max_iter=64, tol=0.0048069207391340085),\n",
       "   'user_function': <function __main__.user_function(kwargs)>,\n",
       "   'attention_config': None}},\n",
       " 'DecisionTreeClassifier': {3: {'train_acc': 0.14285714285714285,\n",
       "   'val_acc': 0.122,\n",
       "   'test_acc': 0.13,\n",
       "   'model': DecisionTreeClassifier(max_depth=36, min_samples_leaf=0.6088610872188048,\n",
       "                          min_samples_split=0.4197252579486209,\n",
       "                          min_weight_fraction_leaf=0.10242230099193006),\n",
       "   'user_function': <function __main__.user_function(kwargs)>,\n",
       "   'attention_config': None}},\n",
       " 'XGBClassifier': {3: {'train_acc': 1.0,\n",
       "   'val_acc': 0.758,\n",
       "   'test_acc': 0.78,\n",
       "   'model': XGBClassifier(base_score=None, booster='gbtree', callbacks=None,\n",
       "                 colsample_bylevel=None, colsample_bynode=None,\n",
       "                 colsample_bytree=0.6191873033030525, device='cuda:2',\n",
       "                 early_stopping_rounds=None, enable_categorical=False,\n",
       "                 eta=0.2296495027095957, eval_metric=None, feature_types=None,\n",
       "                 gamma=0.42499065922417484, grow_policy=None, importance_type=None,\n",
       "                 interaction_constraints=None, learning_rate=None, max_bin=None,\n",
       "                 max_cat_threshold=None, max_cat_to_onehot=None, max_delta_step=2,\n",
       "                 max_depth=2, max_leaves=None, min_child_weight=3, missing=nan,\n",
       "                 monotone_constraints=None, multi_strategy=None, n_estimators=2000,\n",
       "                 n_jobs=None, num_parallel_tree=None, ...),\n",
       "   'user_function': <function __main__.user_function(kwargs)>,\n",
       "   'attention_config': None}},\n",
       " 'SVC': {3: {'train_acc': 1.0,\n",
       "   'val_acc': 0.786,\n",
       "   'test_acc': 0.816,\n",
       "   'model': SVC(C=71.77635832937338, probability=True),\n",
       "   'user_function': <function __main__.user_function(kwargs)>,\n",
       "   'attention_config': None}}}"
      ]
     },
     "execution_count": 54,
     "metadata": {},
     "output_type": "execute_result"
    }
   ],
   "source": [
    "store"
   ]
  },
  {
   "cell_type": "code",
   "execution_count": null,
   "id": "434eff4b-7028-4ed3-adc1-ac5a5f6284ef",
   "metadata": {},
   "outputs": [],
   "source": []
  }
 ],
 "metadata": {
  "kernelspec": {
   "display_name": "Python 3 (ipykernel)",
   "language": "python",
   "name": "python3"
  },
  "language_info": {
   "codemirror_mode": {
    "name": "ipython",
    "version": 3
   },
   "file_extension": ".py",
   "mimetype": "text/x-python",
   "name": "python",
   "nbconvert_exporter": "python",
   "pygments_lexer": "ipython3",
   "version": "3.10.12"
  }
 },
 "nbformat": 4,
 "nbformat_minor": 5
}
