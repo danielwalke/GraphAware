{
 "cells": [
  {
   "cell_type": "code",
   "execution_count": 3,
   "id": "87003c47-b14b-4138-a8c5-727a0ac77a81",
   "metadata": {},
   "outputs": [],
   "source": [
    "import torch\n",
    "from torch import nn\n",
    "from torch_geometric.nn import GCNConv, GATConv, ChebConv, SAGEConv\n",
    "from torch.nn import Linear\n",
    "import torch.nn.functional as F\n",
    "from GNNNestedCVEvaluationBinary import GNNNestedCVEvaluation\n",
    "from torch_geometric.datasets import Planetoid\n",
    "import torch_geometric.transforms as T\n",
    "from torch_geometric.utils import add_self_loops\n",
    "from hyperopt import hp\n",
    "import numpy as np\n",
    "from tqdm.notebook import tqdm\n",
    "from torch_geometric.data import Data"
   ]
  },
  {
   "cell_type": "code",
   "execution_count": null,
   "id": "83b09487-bbd4-4ef8-99e3-ce557693acea",
   "metadata": {},
   "outputs": [],
   "source": [
    "!pip install hyperopt\n",
    "!pip install tqdm\n",
    "!pip install numpy\n",
    "!pip install torch\n",
    "!pip install torch_geometric"
   ]
  },
  {
   "cell_type": "code",
   "execution_count": null,
   "id": "430d6b04-86b7-4a69-8585-af0597654740",
   "metadata": {},
   "outputs": [],
   "source": [
    "## TODO\n",
    "def get_complete_node_table_from_sql(dataset_name) -> np.array [#number of rows x # number of features(50)]:\n",
    "    connector = sql_connector(dataset_name)\n",
    "    data = connector.execute_query(\"SELECT * FROM node_table\")\n",
    "    data = remove_index_and_primary_keys(data)\n",
    "    return np.array(data) \n",
    "\n",
    "def get_complete_edge_index_table_from_sql(dataset_name) -> np.array [2 # number of edges]:\n",
    "    return edge_index\n",
    "\n",
    "node_features = get_complete_node_table_from_sql(\"1000_nodes_dataset\")\n",
    "node_labels = node_features[:, -1]\n",
    "edge_index = get_complete_edge_index_table_from_sql(\"1000_nodes_dataset\")"
   ]
  },
  {
   "cell_type": "code",
   "execution_count": 15,
   "id": "93d2997a-08de-4188-bc35-8dfebca5f586",
   "metadata": {},
   "outputs": [],
   "source": [
    "## Working example\n",
    "# num_nodes = 50\n",
    "# num_features = 10\n",
    "# num_edges = 10\n",
    "# node_features = torch.rand(num_nodes, num_features)\n",
    "# node_labels = torch.randint(0, 2, (num_nodes,))\n",
    "# edge_index = torch.randint(0, num_nodes, (2, num_edges))\n",
    "\n",
    "# node_features = node_features.numpy()\n",
    "# node_labels = node_labels.numpy()\n",
    "# edge_index = edge_index.numpy()"
   ]
  },
  {
   "cell_type": "code",
   "execution_count": 16,
   "id": "df43e608-7587-4561-b588-b61ba1c6b97b",
   "metadata": {},
   "outputs": [
    {
     "data": {
      "text/plain": [
       "Data(x=[50, 10], edge_index=[2, 10], y=[50])"
      ]
     },
     "execution_count": 16,
     "metadata": {},
     "output_type": "execute_result"
    }
   ],
   "source": [
    "data = Data(x = torch.from_numpy(node_features).type(torch.float), y = torch.from_numpy(node_labels).type(torch.float), edge_index = torch.from_numpy(edge_index).type(torch.long))\n",
    "data"
   ]
  },
  {
   "cell_type": "code",
   "execution_count": 17,
   "id": "6c38f01c-7c6f-4f78-8d86-2926991654fa",
   "metadata": {},
   "outputs": [
    {
     "data": {
      "text/plain": [
       "Data(x=[2708, 1433], edge_index=[2, 10556], y=[2708], train_mask=[2708], val_mask=[2708], test_mask=[2708])"
      ]
     },
     "execution_count": 17,
     "metadata": {},
     "output_type": "execute_result"
    }
   ],
   "source": [
    "## Example data\n",
    "dataset_name = 'Cora'\n",
    "split = \"public\"\n",
    "dataset = Planetoid(root='data/', name=dataset_name, split=split)\n",
    "dataset.transform = T.NormalizeFeatures()\n",
    "data_example = dataset[0]\n",
    "data_example"
   ]
  },
  {
   "cell_type": "code",
   "execution_count": 18,
   "id": "5f2c3025-439d-48d0-a380-0f53a720a481",
   "metadata": {},
   "outputs": [],
   "source": [
    "class GCN(nn.Module):\n",
    "    def __init__(self, in_dim, hidden_dim, out_dim, dropout = .2, normalize = False, add_self_loops = True):\n",
    "        super(GCN, self).__init__()\n",
    "        hidden_dim = int(hidden_dim)        \n",
    "        self.conv1 = GCNConv(in_dim, hidden_dim, normalize = normalize, add_self_loops=add_self_loops)\n",
    "        self.conv2 = GCNConv(hidden_dim, out_dim, normalize = normalize, add_self_loops=add_self_loops)\n",
    "        self.dropout = nn.Dropout(p=dropout)\n",
    "        \n",
    "    def forward(self, x, edge_index):\n",
    "        x = self.conv1(x, edge_index)\n",
    "        x = F.relu(x)\n",
    "        x = self.dropout(x)\n",
    "        x = self.conv2(x, edge_index)\n",
    "        return x"
   ]
  },
  {
   "cell_type": "code",
   "execution_count": 19,
   "id": "49e16ff5-b97d-4746-8ed0-c4245b2715c2",
   "metadata": {},
   "outputs": [],
   "source": [
    "class GNNSpace():\n",
    "    def __init__(self, num_classes):\n",
    "        self.hidden_dim_limits = [128]\n",
    "        self.dropout_limits = [0.0]\n",
    "        self.weight_decay_limits = [1e-5]\n",
    "        self.lr_limits = [3e-4]\n",
    "        self.out_dim = [num_classes]\n",
    "        self.gnn_space = None\n",
    "        self.initialize_space()\n",
    "        \n",
    "\n",
    "    def initialize_space(self):\n",
    "        gnn_choices = {\n",
    "            'out_dim': self.out_dim,\n",
    "            'hidden_dim': self.hidden_dim_limits,\n",
    "            'lr': self.lr_limits,\n",
    "            'weight_decay': self.weight_decay_limits,\n",
    "            'dropout': self.dropout_limits\n",
    "        }\n",
    "         \n",
    "        self.gnn_space = {\n",
    "            **{key: hp.choice(key, value) for key, value in gnn_choices.items()}\n",
    "        }\n",
    "        \n",
    "    def add_choice(self, key, items):\n",
    "        self.gnn_space[key] = hp.choice(key, items)\n",
    "        \n",
    "    def add_uniform(self, key, limits: tuple):\n",
    "        self.gnn_space[key] = hp.uniform(key, limits[0], limits[1])\n",
    "        \n",
    "    def add_loguniform(self, key, limits: tuple):\n",
    "        self.gnn_space[key] = hp.loguniform(key, np.log(limits[0]), np.log(limits[1]))\n",
    "        \n",
    "    def add_qloguniform(self, key, limits, q):\n",
    "        self.gnn_space[key] = hp.qloguniform(key, low=np.log(limits[0]), high=np.log(limits[1]), q=q)\n",
    "\n",
    "class GCNSpace(GNNSpace):\n",
    "    def __init__(self, dataset):\n",
    "        super().__init__(dataset)\n",
    "\n",
    "    def get_space(self):\n",
    "        self.add_choice('normalize', [True])\n",
    "        self.add_choice('add_self_loops', [True])\n",
    "        return self.gnn_space      "
   ]
  },
  {
   "cell_type": "code",
   "execution_count": 20,
   "id": "992986aa-d6f9-4ce6-bea9-42519c25ebd8",
   "metadata": {},
   "outputs": [],
   "source": [
    "device = torch.device(\"cpu\")"
   ]
  },
  {
   "cell_type": "code",
   "execution_count": 21,
   "id": "d0304852-f2e2-4171-bf8a-dd659944fd44",
   "metadata": {},
   "outputs": [],
   "source": [
    "gcn_space = GCNSpace(1)\n",
    "space = gcn_space.get_space()"
   ]
  },
  {
   "cell_type": "code",
   "execution_count": 22,
   "id": "d92c0f2a-ea07-471e-a6e9-eaba48b8140c",
   "metadata": {
    "scrolled": true
   },
   "outputs": [
    {
     "data": {
      "application/vnd.jupyter.widget-view+json": {
       "model_id": "934f468ac2bd4acb9d6d8dbfa3b38cbb",
       "version_major": 2,
       "version_minor": 0
      },
      "text/plain": [
       "0it [00:00, ?it/s]"
      ]
     },
     "metadata": {},
     "output_type": "display_data"
    },
    {
     "name": "stderr",
     "output_type": "stream",
     "text": [
      "Setting default log level to \"WARN\".\n",
      "To adjust logging level use sc.setLogLevel(newLevel). For SparkR, use setLogLevel(newLevel).\n",
      "24/07/11 09:52:59 WARN NativeCodeLoader: Unable to load native-hadoop library for your platform... using builtin-java classes where applicable\n",
      "24/07/11 09:53:00 WARN Utils: Service 'SparkUI' could not bind on port 4040. Attempting port 4041.\n",
      "24/07/11 09:53:00 WARN Utils: Service 'SparkUI' could not bind on port 4041. Attempting port 4042.\n",
      "24/07/11 09:53:00 WARN Utils: Service 'SparkUI' could not bind on port 4042. Attempting port 4043.\n",
      "24/07/11 09:53:00 WARN Utils: Service 'SparkUI' could not bind on port 4043. Attempting port 4044.\n",
      "/home/dwalke/.local/lib/python3.10/site-packages/transformers/utils/generic.py:441: UserWarning: torch.utils._pytree._register_pytree_node is deprecated. Please use torch.utils._pytree.register_pytree_node instead.\n",
      "  _torch_pytree._register_pytree_node(\n",
      "Total Trials: 1: 1 succeeded, 0 failed, 0 cancelled.                            \n",
      "/home/dwalke/.local/lib/python3.10/site-packages/transformers/utils/generic.py:441: UserWarning: torch.utils._pytree._register_pytree_node is deprecated. Please use torch.utils._pytree.register_pytree_node instead.\n",
      "  _torch_pytree._register_pytree_node(\n",
      "Total Trials: 1: 1 succeeded, 0 failed, 0 cancelled.                            \n",
      "/home/dwalke/.local/lib/python3.10/site-packages/transformers/utils/generic.py:441: UserWarning: torch.utils._pytree._register_pytree_node is deprecated. Please use torch.utils._pytree.register_pytree_node instead.\n",
      "  _torch_pytree._register_pytree_node(\n",
      "Total Trials: 1: 1 succeeded, 0 failed, 0 cancelled.                            \n",
      "/home/dwalke/.local/lib/python3.10/site-packages/transformers/utils/generic.py:441: UserWarning: torch.utils._pytree._register_pytree_node is deprecated. Please use torch.utils._pytree.register_pytree_node instead.\n",
      "  _torch_pytree._register_pytree_node(\n",
      "Total Trials: 1: 1 succeeded, 0 failed, 0 cancelled.                            \n",
      "/home/dwalke/.local/lib/python3.10/site-packages/transformers/utils/generic.py:441: UserWarning: torch.utils._pytree._register_pytree_node is deprecated. Please use torch.utils._pytree.register_pytree_node instead.\n",
      "  _torch_pytree._register_pytree_node(\n",
      "Total Trials: 1: 1 succeeded, 0 failed, 0 cancelled.                            \n"
     ]
    },
    {
     "data": {
      "text/plain": [
       "\n",
       "        Using a 5 x 5 nested StratifiedKFold Cross-Validation, we obtain:\n",
       "        0.3600 +- 0.0490.\n",
       "\n",
       "        self.outer_scores: [0.40000001 0.40000001 0.30000001 0.30000001 0.40000001]\n",
       "\n",
       "        self.best_params_per_fold: [{'add_self_loops': True, 'dropout': 0.0, 'hidden_dim': 128, 'lr': 0.0003, 'normalize': True, 'out_dim': 1, 'weight_decay': 1e-05}, {'add_self_loops': True, 'dropout': 0.0, 'hidden_dim': 128, 'lr': 0.0003, 'normalize': True, 'out_dim': 1, 'weight_decay': 1e-05}, {'add_self_loops': True, 'dropout': 0.0, 'hidden_dim': 128, 'lr': 0.0003, 'normalize': True, 'out_dim': 1, 'weight_decay': 1e-05}, {'add_self_loops': True, 'dropout': 0.0, 'hidden_dim': 128, 'lr': 0.0003, 'normalize': True, 'out_dim': 1, 'weight_decay': 1e-05}, {'add_self_loops': True, 'dropout': 0.0, 'hidden_dim': 128, 'lr': 0.0003, 'normalize': True, 'out_dim': 1, 'weight_decay': 1e-05}]\n",
       "\n",
       "        self.best_models: [GCN(\n",
       "  (conv1): GCNConv(10, 128)\n",
       "  (conv2): GCNConv(128, 1)\n",
       "  (dropout): Dropout(p=0.0, inplace=False)\n",
       "), GCN(\n",
       "  (conv1): GCNConv(10, 128)\n",
       "  (conv2): GCNConv(128, 1)\n",
       "  (dropout): Dropout(p=0.0, inplace=False)\n",
       "), GCN(\n",
       "  (conv1): GCNConv(10, 128)\n",
       "  (conv2): GCNConv(128, 1)\n",
       "  (dropout): Dropout(p=0.0, inplace=False)\n",
       "), GCN(\n",
       "  (conv1): GCNConv(10, 128)\n",
       "  (conv2): GCNConv(128, 1)\n",
       "  (dropout): Dropout(p=0.0, inplace=False)\n",
       "), GCN(\n",
       "  (conv1): GCNConv(10, 128)\n",
       "  (conv2): GCNConv(128, 1)\n",
       "  (dropout): Dropout(p=0.0, inplace=False)\n",
       ")]\n",
       "\n",
       "        "
      ]
     },
     "execution_count": 22,
     "metadata": {},
     "output_type": "execute_result"
    }
   ],
   "source": [
    "gnn_nestedCV_evaluation = GNNNestedCVEvaluation(device, GCN,data, max_evals= 1)\n",
    "gnn_nestedCV_evaluation.nested_cross_validate(5, 5, space)"
   ]
  },
  {
   "cell_type": "code",
   "execution_count": 26,
   "id": "e335f5b7-fd00-47a2-a66d-3dc13eb56223",
   "metadata": {},
   "outputs": [
    {
     "data": {
      "text/plain": [
       "\n",
       "        Using a 5 x 5 nested StratifiedKFold Cross-Validation, we obtain:\n",
       "        0.3600 +- 0.0490.\n",
       "\n",
       "        self.outer_scores: [0.40000001 0.40000001 0.30000001 0.30000001 0.40000001]\n",
       "\n",
       "        self.best_params_per_fold: [{'add_self_loops': True, 'dropout': 0.0, 'hidden_dim': 128, 'lr': 0.0003, 'normalize': True, 'out_dim': 1, 'weight_decay': 1e-05}, {'add_self_loops': True, 'dropout': 0.0, 'hidden_dim': 128, 'lr': 0.0003, 'normalize': True, 'out_dim': 1, 'weight_decay': 1e-05}, {'add_self_loops': True, 'dropout': 0.0, 'hidden_dim': 128, 'lr': 0.0003, 'normalize': True, 'out_dim': 1, 'weight_decay': 1e-05}, {'add_self_loops': True, 'dropout': 0.0, 'hidden_dim': 128, 'lr': 0.0003, 'normalize': True, 'out_dim': 1, 'weight_decay': 1e-05}, {'add_self_loops': True, 'dropout': 0.0, 'hidden_dim': 128, 'lr': 0.0003, 'normalize': True, 'out_dim': 1, 'weight_decay': 1e-05}]\n",
       "\n",
       "        self.best_models: [GCN(\n",
       "  (conv1): GCNConv(10, 128)\n",
       "  (conv2): GCNConv(128, 1)\n",
       "  (dropout): Dropout(p=0.0, inplace=False)\n",
       "), GCN(\n",
       "  (conv1): GCNConv(10, 128)\n",
       "  (conv2): GCNConv(128, 1)\n",
       "  (dropout): Dropout(p=0.0, inplace=False)\n",
       "), GCN(\n",
       "  (conv1): GCNConv(10, 128)\n",
       "  (conv2): GCNConv(128, 1)\n",
       "  (dropout): Dropout(p=0.0, inplace=False)\n",
       "), GCN(\n",
       "  (conv1): GCNConv(10, 128)\n",
       "  (conv2): GCNConv(128, 1)\n",
       "  (dropout): Dropout(p=0.0, inplace=False)\n",
       "), GCN(\n",
       "  (conv1): GCNConv(10, 128)\n",
       "  (conv2): GCNConv(128, 1)\n",
       "  (dropout): Dropout(p=0.0, inplace=False)\n",
       ")]\n",
       "\n",
       "        "
      ]
     },
     "execution_count": 26,
     "metadata": {},
     "output_type": "execute_result"
    }
   ],
   "source": [
    "gnn_nestedCV_evaluation.nested_transd_cv"
   ]
  }
 ],
 "metadata": {
  "kernelspec": {
   "display_name": "Python 3 (ipykernel)",
   "language": "python",
   "name": "python3"
  },
  "language_info": {
   "codemirror_mode": {
    "name": "ipython",
    "version": 3
   },
   "file_extension": ".py",
   "mimetype": "text/x-python",
   "name": "python",
   "nbconvert_exporter": "python",
   "pygments_lexer": "ipython3",
   "version": "3.10.12"
  }
 },
 "nbformat": 4,
 "nbformat_minor": 5
}
