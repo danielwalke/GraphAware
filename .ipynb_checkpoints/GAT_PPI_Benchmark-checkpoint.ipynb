{
 "cells": [
  {
   "cell_type": "markdown",
   "id": "ea80517d-2b96-4026-89ba-68b6ff84df18",
   "metadata": {},
   "source": [
    "# Benchmark for GAT"
   ]
  },
  {
   "cell_type": "markdown",
   "id": "ebea6c40-28f4-4eaf-b22a-7e8caa58ee66",
   "metadata": {},
   "source": [
    "## Read data"
   ]
  },
  {
   "cell_type": "code",
   "execution_count": 1,
   "id": "fb1c65ba-0223-44e0-9b52-c86a995eba54",
   "metadata": {},
   "outputs": [
    {
     "ename": "NameError",
     "evalue": "name 'torch' is not defined",
     "output_type": "error",
     "traceback": [
      "\u001b[0;31m---------------------------------------------------------------------------\u001b[0m",
      "\u001b[0;31mNameError\u001b[0m                                 Traceback (most recent call last)",
      "Cell \u001b[0;32mIn[1], line 19\u001b[0m\n\u001b[1;32m     16\u001b[0m val_loader \u001b[38;5;241m=\u001b[39m \u001b[38;5;28miter\u001b[39m(DataLoader(val_dataset, batch_size\u001b[38;5;241m=\u001b[39m\u001b[38;5;28mlen\u001b[39m(val_dataset)))\n\u001b[1;32m     17\u001b[0m test_loader \u001b[38;5;241m=\u001b[39m \u001b[38;5;28miter\u001b[39m(DataLoader(test_dataset, batch_size\u001b[38;5;241m=\u001b[39m\u001b[38;5;28mlen\u001b[39m(test_dataset)))\n\u001b[0;32m---> 19\u001b[0m device \u001b[38;5;241m=\u001b[39m torch\u001b[38;5;241m.\u001b[39mdevice(\u001b[38;5;124m\"\u001b[39m\u001b[38;5;124mcuda:0\u001b[39m\u001b[38;5;124m\"\u001b[39m) \u001b[38;5;28;01mif\u001b[39;00m \u001b[43mtorch\u001b[49m\u001b[38;5;241m.\u001b[39mcuda\u001b[38;5;241m.\u001b[39mis_available() \u001b[38;5;28;01melse\u001b[39;00m torch\u001b[38;5;241m.\u001b[39mdevice(\u001b[38;5;124m\"\u001b[39m\u001b[38;5;124mcpu\u001b[39m\u001b[38;5;124m\"\u001b[39m)\n\u001b[1;32m     21\u001b[0m train_set \u001b[38;5;241m=\u001b[39m \u001b[38;5;28mnext\u001b[39m(train_loader)\n\u001b[1;32m     22\u001b[0m test_set \u001b[38;5;241m=\u001b[39m \u001b[38;5;28mnext\u001b[39m(test_loader)\n",
      "\u001b[0;31mNameError\u001b[0m: name 'torch' is not defined"
     ]
    }
   ],
   "source": [
    "from torch_geometric.datasets import PPI\n",
    "import torch_geometric.transforms as T\n",
    "from torch_geometric.utils import add_self_loops\n",
    "from torch_geometric.loader import DataLoader\n",
    "import torch \n",
    "\n",
    "TRAIN = \"train\"\n",
    "VAL = \"val\"\n",
    "TEST = \"test\"\n",
    "set_names = [TRAIN, TEST, VAL]\n",
    "\n",
    "train_dataset = PPI(root='/tmp/PPI', split=\"train\")\n",
    "val_dataset = PPI(root='/tmp/PPI', split=\"val\")\n",
    "test_dataset = PPI(root='/tmp/PPI', split=\"test\")\n",
    "\n",
    "train_loader = iter(DataLoader(train_dataset, batch_size=len(train_dataset)))\n",
    "val_loader = iter(DataLoader(val_dataset, batch_size=len(val_dataset)))\n",
    "test_loader = iter(DataLoader(test_dataset, batch_size=len(test_dataset)))\n",
    "\n",
    "device = torch.device(\"cuda:0\") if torch.cuda.is_available() else torch.device(\"cpu\")\n",
    "\n",
    "train_set = next(train_loader)\n",
    "test_set = next(test_loader)\n",
    "val_set = next(val_loader)\n",
    "\n",
    "sets = dict()\n",
    "sets[TRAIN] = train_dataset\n",
    "sets[TEST] = test_dataset\n",
    "sets[VAL] = val_dataset"
   ]
  },
  {
   "cell_type": "markdown",
   "id": "54b7415b-0c79-4dfd-a19b-79732f2df192",
   "metadata": {},
   "source": [
    "## Define GNN architecture"
   ]
  },
  {
   "cell_type": "code",
   "execution_count": null,
   "id": "93afa03f-a35a-44df-82e0-212cf82859d8",
   "metadata": {},
   "outputs": [],
   "source": [
    "import torch\n",
    "from torch import nn\n",
    "from torch_geometric.nn import GATConv\n",
    "from torch.nn import Linear\n",
    "import torch.nn.functional as F\n",
    "class GNN(nn.Module):\n",
    "    def __init__(self, in_dim, hidden_dim, out_dim, heads, dropout = .2):\n",
    "        super(GNN, self).__init__()\n",
    "        self.dropout = dropout\n",
    "        self.conv1 = GATConv(in_dim, hidden_dim, add_self_loops=True, heads = heads[0], dropout = dropout, concat=True)\n",
    "        self.lin1 = Linear(in_dim, hidden_dim*heads[0])\n",
    "        self.conv2 = GATConv(hidden_dim*heads[0], hidden_dim, add_self_loops=True,heads = heads[1], dropout = dropout, concat=True)\n",
    "        self.lin2 = Linear(hidden_dim*heads[0], hidden_dim*heads[1])\n",
    "        self.conv3 = GATConv(hidden_dim*heads[1], out_dim, add_self_loops=True,heads = heads[2], dropout = dropout,concat=False)\n",
    "        self.lin3 = Linear(hidden_dim*heads[1], out_dim)\n",
    "        \n",
    "    def forward(self, x, edge_index):\n",
    "        x = self.conv1(x, edge_index) + self.lin1(x)\n",
    "        x = F.elu(x)\n",
    "        x = self.conv2(x, edge_index) + self.lin2(x)\n",
    "        x = F.elu(x)\n",
    "        x = self.conv3(x, edge_index) + self.lin3(x)\n",
    "        return x"
   ]
  },
  {
   "cell_type": "markdown",
   "id": "4c17ad63-051a-4ebc-9cc8-07f948c7d3eb",
   "metadata": {},
   "source": [
    "## Hyperparameter tuning for GNN"
   ]
  },
  {
   "cell_type": "code",
   "execution_count": null,
   "id": "3e8bf61d-0c5c-427f-910f-68f8ce721735",
   "metadata": {
    "scrolled": true
   },
   "outputs": [],
   "source": [
    "from sklearn.model_selection import ParameterGrid\n",
    "from tqdm.notebook import tqdm\n",
    "\n",
    "space = {\n",
    "    \"WEIGHT_DECAYS\": [0, 1e-3],\n",
    "    \"HEADS_LIST\": [[4,4,6], [6,6,6], [8,8,8], [4,4,4]],\n",
    "    \"DROPOUT\": [0.0, 0.2, 0.4],\n",
    "    \"HIDDEN_DIMS\": [512, 1024],\n",
    "    \"LEARNING_RATES\": [5e-3, 1e-3]\n",
    "}\n",
    "\n",
    "param_grid = ParameterGrid(space)\n",
    "best_params_overall = None\n",
    "best_val_overall = float(\"inf\")\n",
    "\n",
    "for params in tqdm(param_grid.__iter__()):    \n",
    "    gnnTraining = GNNTraining(device = device,\n",
    "            GNN = GNN,\n",
    "            sets = sets,\n",
    "            hidden_dim = params[\"HIDDEN_DIMS\"],\n",
    "            lr = params[\"LEARNING_RATES\"],\n",
    "            dropout = params[\"DROPOUT\"],\n",
    "            weight_decay=params[\"WEIGHT_DECAYS\"],\n",
    "            epochs = 1000,\n",
    "            kwargs = {\"heads\": params[\"HEADS_LIST\"]})\n",
    "    gnnTraining.train()\n",
    "    \n",
    "    if gnnTraining.best_val_loss <= best_val_overall:\n",
    "        print(\"Updated params\")\n",
    "        best_val_overall = gnnTraining.best_val_loss\n",
    "        best_params_overall = params"
   ]
  },
  {
   "cell_type": "markdown",
   "id": "c60b9cc5-e556-47d5-a6d0-dd4d4b1d1457",
   "metadata": {},
   "source": [
    "## Best Hyperparameter"
   ]
  },
  {
   "cell_type": "code",
   "execution_count": 40,
   "id": "49cf37c2-ec99-49dc-9a5c-39a3efe6ab3c",
   "metadata": {},
   "outputs": [
    {
     "data": {
      "text/plain": [
       "{'DROPOUT': 0.2,\n",
       " 'HEADS_LIST': [8, 8, 8],\n",
       " 'HIDDEN_DIMS': 512,\n",
       " 'LEARNING_RATES': 0.001,\n",
       " 'WEIGHT_DECAYS': 0}"
      ]
     },
     "execution_count": 40,
     "metadata": {},
     "output_type": "execute_result"
    }
   ],
   "source": [
    "best_params_overall"
   ]
  },
  {
   "cell_type": "markdown",
   "id": "0d652d9f-1d41-4bc3-a887-18cac050f5a1",
   "metadata": {},
   "source": [
    "## Training & Evaluation"
   ]
  },
  {
   "cell_type": "code",
   "execution_count": 23,
   "id": "a8bd129f-0eb5-4df4-9c8e-4d8476850500",
   "metadata": {},
   "outputs": [],
   "source": [
    "from tqdm.notebook import tqdm\n",
    "from GNNTraining import GNNTraining\n",
    "from GNNEvaluate import GNNEvaluate \n",
    "\n",
    "gnnTraining = GNNTraining(device = device,\n",
    "            GNN = GNN,\n",
    "            sets = sets,\n",
    "            hidden_dim = 512,\n",
    "            lr = 1e-3,\n",
    "            dropout = 0.2,\n",
    "            weight_decay=0.0,\n",
    "            epochs = 1000,\n",
    "            kwargs = {\"heads\": [8,8,8]})\n",
    "best_model = gnnTraining.train()\n",
    "\n",
    "gnnEvaluate = GNNEvaluate(device = device,\n",
    "            sets = sets)\n",
    "gnnEvaluate.evaluate(best_model)"
   ]
  },
  {
   "cell_type": "markdown",
   "id": "1a1a6e08-c525-4924-a377-bb4cc67c6021",
   "metadata": {},
   "source": [
    "## Standard deviation over 10 runs"
   ]
  },
  {
   "cell_type": "code",
   "execution_count": 24,
   "id": "a0f4eefb-2ce2-43a5-8dd1-a4b8a03c0c26",
   "metadata": {},
   "outputs": [],
   "source": [
    "from GNNTraining import GNNTraining\n",
    "from GNNEvaluate import GNNEvaluate \n",
    "\n",
    "times = []\n",
    "scores = []\n",
    "for i in tqdm(range(10)):\n",
    "    gnnTraining = GNNTraining(\n",
    "            GNN = GNN,\n",
    "            sets = sets,\n",
    "            hidden_dim = 512,\n",
    "            lr = 1e-3,\n",
    "            dropout = 0.2,\n",
    "            weight_decay=0.0,\n",
    "            epochs = 1000,\n",
    "            kwargs = {\"heads\": [8,8,8]})\n",
    "    best_model = gnnTraining.train()\n",
    "    times.append(gnnTraining.training_time)\n",
    "    \n",
    "    gnnEvaluate = GNNEvaluate(device = device,\n",
    "                sets = sets)\n",
    "    score = gnnEvaluate.evaluate(best_model)\n",
    "    scores.append(score)"
   ]
  },
  {
   "cell_type": "code",
   "execution_count": 25,
   "id": "a99873f4-6b2e-45b8-87ca-d45d99e455ca",
   "metadata": {},
   "outputs": [
    {
     "data": {
      "application/vnd.jupyter.widget-view+json": {
       "model_id": "d4df521630834f93ad4ec518b3ea4e50",
       "version_major": 2,
       "version_minor": 0
      },
      "text/plain": [
       "  0%|          | 0/1000 [00:00<?, ?it/s]"
      ]
     },
     "metadata": {},
     "output_type": "display_data"
    }
   ],
   "source": [
    "import numpy as np\n",
    "print(f\"F1-score: {np.mean(scores)} +- {np.std(scores)}; {np.mean(times)}\")"
   ]
  }
 ],
 "metadata": {
  "kernelspec": {
   "display_name": "Python 3 (ipykernel)",
   "language": "python",
   "name": "python3"
  },
  "language_info": {
   "codemirror_mode": {
    "name": "ipython",
    "version": 3
   },
   "file_extension": ".py",
   "mimetype": "text/x-python",
   "name": "python",
   "nbconvert_exporter": "python",
   "pygments_lexer": "ipython3",
   "version": "3.10.12"
  }
 },
 "nbformat": 4,
 "nbformat_minor": 5
}
