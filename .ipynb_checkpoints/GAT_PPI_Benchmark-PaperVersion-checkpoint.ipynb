{
 "cells": [
  {
   "cell_type": "markdown",
   "id": "f58d64eb-8a35-4d8b-93b3-adb646798217",
   "metadata": {},
   "source": [
    "# Benchmark for GAT paper version"
   ]
  },
  {
   "cell_type": "markdown",
   "id": "f456d921-973f-4283-ba6a-759dd34ff717",
   "metadata": {},
   "source": [
    "## Read data"
   ]
  },
  {
   "cell_type": "code",
   "execution_count": 2,
   "id": "fb1c65ba-0223-44e0-9b52-c86a995eba54",
   "metadata": {},
   "outputs": [],
   "source": [
    "from torch_geometric.datasets import PPI\n",
    "import torch_geometric.transforms as T\n",
    "from torch_geometric.utils import add_self_loops\n",
    "from torch_geometric.loader import DataLoader\n",
    "\n",
    "TRAIN = \"train\"\n",
    "VAL = \"val\"\n",
    "TEST = \"test\"\n",
    "set_names = [TRAIN, TEST, VAL]\n",
    "\n",
    "train_dataset = PPI(root='/tmp/PPI', split=\"train\")\n",
    "val_dataset = PPI(root='/tmp/PPI', split=\"val\")\n",
    "test_dataset = PPI(root='/tmp/PPI', split=\"test\")\n",
    "\n",
    "train_loader = iter(DataLoader(train_dataset, batch_size=len(train_dataset)))\n",
    "val_loader = iter(DataLoader(val_dataset, batch_size=len(val_dataset)))\n",
    "test_loader = iter(DataLoader(test_dataset, batch_size=len(test_dataset)))\n",
    "\n",
    "device = torch.device(\"cuda:2\") if torch.cuda.is_available() else torch.device(\"cpu\")\n",
    "\n",
    "train_set = next(train_loader)\n",
    "test_set = next(test_loader)\n",
    "val_set = next(val_loader)\n",
    "\n",
    "sets = dict()\n",
    "sets[TRAIN] = train_dataset\n",
    "sets[TEST] = test_dataset\n",
    "sets[VAL] = val_dataset"
   ]
  },
  {
   "cell_type": "markdown",
   "id": "feba5915-73e6-42fd-9d5b-3fe347773c9c",
   "metadata": {},
   "source": [
    "## Define GNN architecture"
   ]
  },
  {
   "cell_type": "code",
   "execution_count": 4,
   "id": "93afa03f-a35a-44df-82e0-212cf82859d8",
   "metadata": {},
   "outputs": [],
   "source": [
    "import torch\n",
    "from torch import nn\n",
    "from torch_geometric.nn import GATConv\n",
    "from torch.nn import Linear\n",
    "import torch.nn.functional as F\n",
    "class GNN(nn.Module):\n",
    "    def __init__(self, in_dim, hidden_dim, out_dim, heads, dropout = .2):\n",
    "        super(GNN, self).__init__()\n",
    "        self.dropout = dropout\n",
    "        self.conv1 = GATConv(in_dim, hidden_dim, add_self_loops=True, heads = heads[0], dropout = dropout, concat=True)\n",
    "        self.lin1 = Linear(in_dim, hidden_dim*heads[0])\n",
    "        self.conv2 = GATConv(hidden_dim*heads[0], hidden_dim, add_self_loops=True,heads = heads[1], dropout = dropout, concat=True)\n",
    "        self.lin2 = Linear(hidden_dim*heads[0], hidden_dim*heads[1])\n",
    "        self.conv3 = GATConv(hidden_dim*heads[1], out_dim, add_self_loops=True,heads = heads[2], dropout = dropout,concat=False)\n",
    "        self.lin3 = Linear(hidden_dim*heads[1], out_dim)\n",
    "        \n",
    "    def forward(self, x, edge_index):\n",
    "        x = self.conv1(x, edge_index) + self.lin1(x)\n",
    "        x = F.elu(x)\n",
    "        x = self.conv2(x, edge_index) + self.lin2(x)\n",
    "        x = F.elu(x)\n",
    "        x = self.conv3(x, edge_index) + self.lin3(x)\n",
    "        return x"
   ]
  },
  {
   "cell_type": "markdown",
   "id": "463f47d4-b8da-42f4-85c0-1f08f0d99864",
   "metadata": {},
   "source": [
    "## Hyperparam search"
   ]
  },
  {
   "cell_type": "code",
   "execution_count": null,
   "id": "0227f045-c5c9-48d7-9500-aaae0c768c83",
   "metadata": {
    "scrolled": true
   },
   "outputs": [],
   "source": [
    "from sklearn.model_selection import ParameterGrid\n",
    "from tqdm.notebook import tqdm\n",
    "from GNNTraining import GNNTraining\n",
    "\n",
    "space = {\n",
    "    \"WEIGHT_DECAYS\": [0, 1e-3],\n",
    "    \"HEADS_LIST\": [[4,4,6], [6,6,6], [8,8,8], [4,4,4]],\n",
    "    \"DROPOUT\": [0.0, 0.2, 0.4],\n",
    "    \"HIDDEN_DIMS\": [512, 1024],\n",
    "    \"LEARNING_RATES\": [5e-3, 1e-3]\n",
    "}\n",
    "\n",
    "param_grid = ParameterGrid(space)\n",
    "best_params_overall = None\n",
    "best_val_overall = float(\"inf\")\n",
    "\n",
    "for params in tqdm(param_grid.__iter__()):    \n",
    "    gnnTraining = GNNTraining(device = device,\n",
    "            GNN = GNN,\n",
    "            sets = sets,\n",
    "            hidden_dim = params[\"HIDDEN_DIMS\"],\n",
    "            lr = params[\"LEARNING_RATES\"],\n",
    "            dropout = params[\"DROPOUT\"],\n",
    "            weight_decay=params[\"WEIGHT_DECAYS\"],\n",
    "            epochs = 1000,\n",
    "            kwargs = {\"heads\": params[\"HEADS_LIST\"]})\n",
    "    gnnTraining.train()\n",
    "    \n",
    "    if gnnTraining.best_val_loss <= best_val_overall:\n",
    "        print(\"Updated params\")\n",
    "        best_val_overall = gnnTraining.best_val_loss\n",
    "        best_params_overall = params"
   ]
  },
  {
   "cell_type": "markdown",
   "id": "4c852ebd-689d-4ec8-bb33-f8711e9205a0",
   "metadata": {},
   "source": [
    "## Training & Evaluation"
   ]
  },
  {
   "cell_type": "code",
   "execution_count": 9,
   "id": "0d0d508e-9dac-423c-ab78-812163275303",
   "metadata": {},
   "outputs": [],
   "source": [
    "from GNNTraining import GNNTraining\n",
    "from GNNEvaluate import GNNEvaluate \n",
    "\n",
    "gnnTraining = GNNTraining(device = device,\n",
    "            GNN = GNN,\n",
    "            sets = sets,\n",
    "            hidden_dim = 64,\n",
    "            lr = 1e-3,\n",
    "            dropout = 0.0,\n",
    "            weight_decay=0.0,\n",
    "            epochs = 1000,\n",
    "            kwargs = {\"heads\": [4,4,6]})\n",
    "best_model = gnnTraining.train()\n",
    "\n",
    "gnnEvaluate = GNNEvaluate(device = device,\n",
    "            sets = sets)\n",
    "gnnEvaluate.evaluate(best_model)"
   ]
  },
  {
   "cell_type": "markdown",
   "id": "4dffb814-4f2c-4fc2-babf-b74c1894fb5d",
   "metadata": {},
   "source": [
    "## Standard deviation over 10 runs"
   ]
  },
  {
   "cell_type": "code",
   "execution_count": null,
   "id": "af42f33c-8a42-4b93-80bc-a76d37e2157d",
   "metadata": {},
   "outputs": [
    {
     "data": {
      "application/vnd.jupyter.widget-view+json": {
       "model_id": "3ae8eb071ab6415d9c6ccf0fa2041a57",
       "version_major": 2,
       "version_minor": 0
      },
      "text/plain": [
       "  0%|          | 0/10 [00:00<?, ?it/s]"
      ]
     },
     "metadata": {},
     "output_type": "display_data"
    },
    {
     "data": {
      "application/vnd.jupyter.widget-view+json": {
       "model_id": "b11a1727d45044f984df2eac731a135d",
       "version_major": 2,
       "version_minor": 0
      },
      "text/plain": [
       "  0%|          | 0/1000 [00:00<?, ?it/s]"
      ]
     },
     "metadata": {},
     "output_type": "display_data"
    },
    {
     "data": {
      "application/vnd.jupyter.widget-view+json": {
       "model_id": "2a3c0105443249d19f5711f46a2d51d7",
       "version_major": 2,
       "version_minor": 0
      },
      "text/plain": [
       "  0%|          | 0/1000 [00:00<?, ?it/s]"
      ]
     },
     "metadata": {},
     "output_type": "display_data"
    },
    {
     "data": {
      "application/vnd.jupyter.widget-view+json": {
       "model_id": "0a65ac5df4cd4e66b8b27fbcccfd9f69",
       "version_major": 2,
       "version_minor": 0
      },
      "text/plain": [
       "  0%|          | 0/1000 [00:00<?, ?it/s]"
      ]
     },
     "metadata": {},
     "output_type": "display_data"
    },
    {
     "data": {
      "application/vnd.jupyter.widget-view+json": {
       "model_id": "c3f81f1b06cd43d2847ca317b85ad1b8",
       "version_major": 2,
       "version_minor": 0
      },
      "text/plain": [
       "  0%|          | 0/1000 [00:00<?, ?it/s]"
      ]
     },
     "metadata": {},
     "output_type": "display_data"
    }
   ],
   "source": [
    "from GNNTraining import GNNTraining\n",
    "from GNNEvaluate import GNNEvaluate \n",
    "\n",
    "times = []\n",
    "scores = []\n",
    "for i in tqdm(range(10)):\n",
    "    gnnTraining = GNNTraining(device = device,\n",
    "            GNN = GNN,\n",
    "            sets = sets,\n",
    "            hidden_dim = 64,\n",
    "            lr = 1e-3,\n",
    "            dropout = 0.0,\n",
    "            weight_decay=0.0,\n",
    "            epochs = 1000,\n",
    "            kwargs = {\"heads\": [4,4,6]})\n",
    "    best_model = gnnTraining.train()\n",
    "    times.append(gnnTraining.training_time)\n",
    "    \n",
    "    gnnEvaluate = GNNEvaluate(device = device,\n",
    "                sets = sets)\n",
    "    score = gnnEvaluate.evaluate(best_model)\n",
    "    scores.append(score)"
   ]
  },
  {
   "cell_type": "code",
   "execution_count": null,
   "id": "d745cf61-b1fc-45f3-9214-d33bf1b732d4",
   "metadata": {},
   "outputs": [],
   "source": [
    "import numpy as np\n",
    "print(f\"F1-score: {np.mean(scores)} +- {np.std(scores)}; {np.mean(times)}\")"
   ]
  },
  {
   "cell_type": "code",
   "execution_count": 36,
   "id": "134cc966-260e-445a-b8c5-d1079eb31566",
   "metadata": {},
   "outputs": [
    {
     "data": {
      "text/plain": [
       "(0.9805182714737274, 418.48951025009154, 0.0026618887000523575)"
      ]
     },
     "execution_count": 36,
     "metadata": {},
     "output_type": "execute_result"
    }
   ],
   "source": [
    "import numpy as np\n",
    "##old version\n",
    "np.mean(scores), np.mean(times), np.std(scores)"
   ]
  }
 ],
 "metadata": {
  "kernelspec": {
   "display_name": "Python 3 (ipykernel)",
   "language": "python",
   "name": "python3"
  },
  "language_info": {
   "codemirror_mode": {
    "name": "ipython",
    "version": 3
   },
   "file_extension": ".py",
   "mimetype": "text/x-python",
   "name": "python",
   "nbconvert_exporter": "python",
   "pygments_lexer": "ipython3",
   "version": "3.10.12"
  }
 },
 "nbformat": 4,
 "nbformat_minor": 5
}
