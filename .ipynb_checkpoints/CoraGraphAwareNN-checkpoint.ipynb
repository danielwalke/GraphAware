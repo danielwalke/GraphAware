{
 "cells": [
  {
   "cell_type": "code",
   "execution_count": 1,
   "id": "b7873d1c-92e3-48d0-a654-a6068e83070f",
   "metadata": {
    "scrolled": true
   },
   "outputs": [
    {
     "name": "stdout",
     "output_type": "stream",
     "text": [
      "Defaulting to user installation because normal site-packages is not writeable\n",
      "Requirement already satisfied: torchmetrics in /home/dwalke/.local/lib/python3.10/site-packages (1.2.0)\n",
      "Requirement already satisfied: numpy>1.20.0 in /home/dwalke/.local/lib/python3.10/site-packages (from torchmetrics) (1.26.1)\n",
      "Requirement already satisfied: torch>=1.8.1 in /home/dwalke/.local/lib/python3.10/site-packages (from torchmetrics) (2.1.0)\n",
      "Requirement already satisfied: lightning-utilities>=0.8.0 in /home/dwalke/.local/lib/python3.10/site-packages (from torchmetrics) (0.9.0)\n",
      "Requirement already satisfied: packaging>=17.1 in /home/dwalke/.local/lib/python3.10/site-packages (from lightning-utilities>=0.8.0->torchmetrics) (23.2)\n",
      "Requirement already satisfied: typing-extensions in /home/dwalke/.local/lib/python3.10/site-packages (from lightning-utilities>=0.8.0->torchmetrics) (4.8.0)\n",
      "Requirement already satisfied: filelock in /home/dwalke/.local/lib/python3.10/site-packages (from torch>=1.8.1->torchmetrics) (3.12.4)\n",
      "Requirement already satisfied: sympy in /usr/local/lib/python3.10/dist-packages (from torch>=1.8.1->torchmetrics) (1.11.1)\n",
      "Requirement already satisfied: networkx in /usr/local/lib/python3.10/dist-packages (from torch>=1.8.1->torchmetrics) (3.0)\n",
      "Requirement already satisfied: jinja2 in /usr/lib/python3/dist-packages (from torch>=1.8.1->torchmetrics) (3.0.3)\n",
      "Requirement already satisfied: fsspec in /home/dwalke/.local/lib/python3.10/site-packages (from torch>=1.8.1->torchmetrics) (2023.9.2)\n",
      "Requirement already satisfied: nvidia-cuda-nvrtc-cu12==12.1.105 in /home/dwalke/.local/lib/python3.10/site-packages (from torch>=1.8.1->torchmetrics) (12.1.105)\n",
      "Requirement already satisfied: nvidia-cuda-runtime-cu12==12.1.105 in /home/dwalke/.local/lib/python3.10/site-packages (from torch>=1.8.1->torchmetrics) (12.1.105)\n",
      "Requirement already satisfied: nvidia-cuda-cupti-cu12==12.1.105 in /home/dwalke/.local/lib/python3.10/site-packages (from torch>=1.8.1->torchmetrics) (12.1.105)\n",
      "Requirement already satisfied: nvidia-cudnn-cu12==8.9.2.26 in /home/dwalke/.local/lib/python3.10/site-packages (from torch>=1.8.1->torchmetrics) (8.9.2.26)\n",
      "Requirement already satisfied: nvidia-cublas-cu12==12.1.3.1 in /home/dwalke/.local/lib/python3.10/site-packages (from torch>=1.8.1->torchmetrics) (12.1.3.1)\n",
      "Requirement already satisfied: nvidia-cufft-cu12==11.0.2.54 in /home/dwalke/.local/lib/python3.10/site-packages (from torch>=1.8.1->torchmetrics) (11.0.2.54)\n",
      "Requirement already satisfied: nvidia-curand-cu12==10.3.2.106 in /home/dwalke/.local/lib/python3.10/site-packages (from torch>=1.8.1->torchmetrics) (10.3.2.106)\n",
      "Requirement already satisfied: nvidia-cusolver-cu12==11.4.5.107 in /home/dwalke/.local/lib/python3.10/site-packages (from torch>=1.8.1->torchmetrics) (11.4.5.107)\n",
      "Requirement already satisfied: nvidia-cusparse-cu12==12.1.0.106 in /home/dwalke/.local/lib/python3.10/site-packages (from torch>=1.8.1->torchmetrics) (12.1.0.106)\n",
      "Requirement already satisfied: nvidia-nccl-cu12==2.18.1 in /home/dwalke/.local/lib/python3.10/site-packages (from torch>=1.8.1->torchmetrics) (2.18.1)\n",
      "Requirement already satisfied: nvidia-nvtx-cu12==12.1.105 in /home/dwalke/.local/lib/python3.10/site-packages (from torch>=1.8.1->torchmetrics) (12.1.105)\n",
      "Requirement already satisfied: triton==2.1.0 in /home/dwalke/.local/lib/python3.10/site-packages (from torch>=1.8.1->torchmetrics) (2.1.0)\n",
      "Requirement already satisfied: nvidia-nvjitlink-cu12 in /home/dwalke/.local/lib/python3.10/site-packages (from nvidia-cusolver-cu12==11.4.5.107->torch>=1.8.1->torchmetrics) (12.3.52)\n",
      "Requirement already satisfied: mpmath>=0.19 in /usr/local/lib/python3.10/dist-packages (from sympy->torch>=1.8.1->torchmetrics) (1.3.0)\n",
      "\n",
      "\u001b[1m[\u001b[0m\u001b[34;49mnotice\u001b[0m\u001b[1;39;49m]\u001b[0m\u001b[39;49m A new release of pip is available: \u001b[0m\u001b[31;49m23.2.1\u001b[0m\u001b[39;49m -> \u001b[0m\u001b[32;49m23.3\u001b[0m\n",
      "\u001b[1m[\u001b[0m\u001b[34;49mnotice\u001b[0m\u001b[1;39;49m]\u001b[0m\u001b[39;49m To update, run: \u001b[0m\u001b[32;49m/usr/bin/python -m pip install --upgrade pip\u001b[0m\n",
      "Defaulting to user installation because normal site-packages is not writeable\n",
      "Requirement already satisfied: comet_ml in /home/dwalke/.local/lib/python3.10/site-packages (3.34.1)\n",
      "Requirement already satisfied: torch in /home/dwalke/.local/lib/python3.10/site-packages (2.1.0)\n",
      "Requirement already satisfied: torchvision in /home/dwalke/.local/lib/python3.10/site-packages (0.16.0)\n",
      "Requirement already satisfied: tqdm in /usr/local/lib/python3.10/dist-packages (4.65.0)\n",
      "Requirement already satisfied: jsonschema!=3.1.0,>=2.6.0 in /home/dwalke/.local/lib/python3.10/site-packages (from comet_ml) (4.19.1)\n",
      "Requirement already satisfied: psutil>=5.6.3 in /usr/local/lib/python3.10/dist-packages (from comet_ml) (5.9.4)\n",
      "Requirement already satisfied: python-box<7.0.0 in /home/dwalke/.local/lib/python3.10/site-packages (from comet_ml) (6.1.0)\n",
      "Requirement already satisfied: requests-toolbelt>=0.8.0 in /home/dwalke/.local/lib/python3.10/site-packages (from comet_ml) (1.0.0)\n",
      "Requirement already satisfied: requests>=2.18.4 in /home/dwalke/.local/lib/python3.10/site-packages (from comet_ml) (2.31.0)\n",
      "Requirement already satisfied: semantic-version>=2.8.0 in /home/dwalke/.local/lib/python3.10/site-packages (from comet_ml) (2.10.0)\n",
      "Requirement already satisfied: sentry-sdk>=1.1.0 in /home/dwalke/.local/lib/python3.10/site-packages (from comet_ml) (1.32.0)\n",
      "Requirement already satisfied: simplejson in /home/dwalke/.local/lib/python3.10/site-packages (from comet_ml) (3.19.2)\n",
      "Requirement already satisfied: six in /usr/lib/python3/dist-packages (from comet_ml) (1.16.0)\n",
      "Requirement already satisfied: urllib3>=1.21.1 in /home/dwalke/.local/lib/python3.10/site-packages (from comet_ml) (2.0.7)\n",
      "Requirement already satisfied: websocket-client<1.4.0,>=0.55.0 in /home/dwalke/.local/lib/python3.10/site-packages (from comet_ml) (1.3.3)\n",
      "Requirement already satisfied: wrapt>=1.11.2 in /home/dwalke/.local/lib/python3.10/site-packages (from comet_ml) (1.15.0)\n",
      "Requirement already satisfied: wurlitzer>=1.0.2 in /home/dwalke/.local/lib/python3.10/site-packages (from comet_ml) (3.0.3)\n",
      "Requirement already satisfied: everett[ini]<3.2.0,>=1.0.1 in /home/dwalke/.local/lib/python3.10/site-packages (from comet_ml) (3.1.0)\n",
      "Requirement already satisfied: dulwich!=0.20.33,>=0.20.6 in /home/dwalke/.local/lib/python3.10/site-packages (from comet_ml) (0.21.6)\n",
      "Requirement already satisfied: rich>=13.3.2 in /home/dwalke/.local/lib/python3.10/site-packages (from comet_ml) (13.6.0)\n",
      "Requirement already satisfied: filelock in /home/dwalke/.local/lib/python3.10/site-packages (from torch) (3.12.4)\n",
      "Requirement already satisfied: typing-extensions in /home/dwalke/.local/lib/python3.10/site-packages (from torch) (4.8.0)\n",
      "Requirement already satisfied: sympy in /usr/local/lib/python3.10/dist-packages (from torch) (1.11.1)\n",
      "Requirement already satisfied: networkx in /usr/local/lib/python3.10/dist-packages (from torch) (3.0)\n",
      "Requirement already satisfied: jinja2 in /usr/lib/python3/dist-packages (from torch) (3.0.3)\n",
      "Requirement already satisfied: fsspec in /home/dwalke/.local/lib/python3.10/site-packages (from torch) (2023.9.2)\n",
      "Requirement already satisfied: nvidia-cuda-nvrtc-cu12==12.1.105 in /home/dwalke/.local/lib/python3.10/site-packages (from torch) (12.1.105)\n",
      "Requirement already satisfied: nvidia-cuda-runtime-cu12==12.1.105 in /home/dwalke/.local/lib/python3.10/site-packages (from torch) (12.1.105)\n",
      "Requirement already satisfied: nvidia-cuda-cupti-cu12==12.1.105 in /home/dwalke/.local/lib/python3.10/site-packages (from torch) (12.1.105)\n",
      "Requirement already satisfied: nvidia-cudnn-cu12==8.9.2.26 in /home/dwalke/.local/lib/python3.10/site-packages (from torch) (8.9.2.26)\n",
      "Requirement already satisfied: nvidia-cublas-cu12==12.1.3.1 in /home/dwalke/.local/lib/python3.10/site-packages (from torch) (12.1.3.1)\n",
      "Requirement already satisfied: nvidia-cufft-cu12==11.0.2.54 in /home/dwalke/.local/lib/python3.10/site-packages (from torch) (11.0.2.54)\n",
      "Requirement already satisfied: nvidia-curand-cu12==10.3.2.106 in /home/dwalke/.local/lib/python3.10/site-packages (from torch) (10.3.2.106)\n",
      "Requirement already satisfied: nvidia-cusolver-cu12==11.4.5.107 in /home/dwalke/.local/lib/python3.10/site-packages (from torch) (11.4.5.107)\n",
      "Requirement already satisfied: nvidia-cusparse-cu12==12.1.0.106 in /home/dwalke/.local/lib/python3.10/site-packages (from torch) (12.1.0.106)\n",
      "Requirement already satisfied: nvidia-nccl-cu12==2.18.1 in /home/dwalke/.local/lib/python3.10/site-packages (from torch) (2.18.1)\n",
      "Requirement already satisfied: nvidia-nvtx-cu12==12.1.105 in /home/dwalke/.local/lib/python3.10/site-packages (from torch) (12.1.105)\n",
      "Requirement already satisfied: triton==2.1.0 in /home/dwalke/.local/lib/python3.10/site-packages (from torch) (2.1.0)\n",
      "Requirement already satisfied: nvidia-nvjitlink-cu12 in /home/dwalke/.local/lib/python3.10/site-packages (from nvidia-cusolver-cu12==11.4.5.107->torch) (12.3.52)\n",
      "Requirement already satisfied: numpy in /home/dwalke/.local/lib/python3.10/site-packages (from torchvision) (1.26.1)\n",
      "Requirement already satisfied: pillow!=8.3.*,>=5.3.0 in /home/dwalke/.local/lib/python3.10/site-packages (from torchvision) (10.0.1)\n",
      "Requirement already satisfied: configobj in /usr/lib/python3/dist-packages (from everett[ini]<3.2.0,>=1.0.1->comet_ml) (5.0.6)\n",
      "Requirement already satisfied: attrs>=22.2.0 in /home/dwalke/.local/lib/python3.10/site-packages (from jsonschema!=3.1.0,>=2.6.0->comet_ml) (23.1.0)\n",
      "Requirement already satisfied: jsonschema-specifications>=2023.03.6 in /home/dwalke/.local/lib/python3.10/site-packages (from jsonschema!=3.1.0,>=2.6.0->comet_ml) (2023.7.1)\n",
      "Requirement already satisfied: referencing>=0.28.4 in /home/dwalke/.local/lib/python3.10/site-packages (from jsonschema!=3.1.0,>=2.6.0->comet_ml) (0.30.2)\n",
      "Requirement already satisfied: rpds-py>=0.7.1 in /home/dwalke/.local/lib/python3.10/site-packages (from jsonschema!=3.1.0,>=2.6.0->comet_ml) (0.10.6)\n",
      "Requirement already satisfied: charset-normalizer<4,>=2 in /home/dwalke/.local/lib/python3.10/site-packages (from requests>=2.18.4->comet_ml) (3.3.0)\n",
      "Requirement already satisfied: idna<4,>=2.5 in /usr/lib/python3/dist-packages (from requests>=2.18.4->comet_ml) (3.3)\n",
      "Requirement already satisfied: certifi>=2017.4.17 in /usr/lib/python3/dist-packages (from requests>=2.18.4->comet_ml) (2020.6.20)\n",
      "Requirement already satisfied: markdown-it-py>=2.2.0 in /home/dwalke/.local/lib/python3.10/site-packages (from rich>=13.3.2->comet_ml) (3.0.0)\n",
      "Requirement already satisfied: pygments<3.0.0,>=2.13.0 in /home/dwalke/.local/lib/python3.10/site-packages (from rich>=13.3.2->comet_ml) (2.16.1)\n",
      "Requirement already satisfied: mpmath>=0.19 in /usr/local/lib/python3.10/dist-packages (from sympy->torch) (1.3.0)\n",
      "Requirement already satisfied: mdurl~=0.1 in /home/dwalke/.local/lib/python3.10/site-packages (from markdown-it-py>=2.2.0->rich>=13.3.2->comet_ml) (0.1.2)\n",
      "\n",
      "\u001b[1m[\u001b[0m\u001b[34;49mnotice\u001b[0m\u001b[1;39;49m]\u001b[0m\u001b[39;49m A new release of pip is available: \u001b[0m\u001b[31;49m23.2.1\u001b[0m\u001b[39;49m -> \u001b[0m\u001b[32;49m23.3\u001b[0m\n",
      "\u001b[1m[\u001b[0m\u001b[34;49mnotice\u001b[0m\u001b[1;39;49m]\u001b[0m\u001b[39;49m To update, run: \u001b[0m\u001b[32;49m/usr/bin/python -m pip install --upgrade pip\u001b[0m\n"
     ]
    }
   ],
   "source": [
    "!pip install torchmetrics\n",
    "!pip install comet_ml torch torchvision tqdm"
   ]
  },
  {
   "cell_type": "code",
   "execution_count": 4,
   "id": "ff260d21-ef59-4466-990d-d0f6193d2155",
   "metadata": {},
   "outputs": [],
   "source": [
    "import torch\n",
    "from torch import nn\n",
    "import comet_ml\n",
    "import torchvision\n",
    "\n",
    "# experiment = comet_ml.Experiment(\n",
    "#     api_key=\"JyHv45AaTrhvq3g3tdCVOznbM\",\n",
    "#     project_name=\"graph_aware\"\n",
    "# )\n"
   ]
  },
  {
   "cell_type": "code",
   "execution_count": 5,
   "id": "c8cf0473-839d-4123-a8c2-c19d634575e3",
   "metadata": {},
   "outputs": [],
   "source": [
    "class NeuralNet(nn.Module):\n",
    "    def __init__(self, input_dim, hidden_dim, out_dim, dropout=.0):\n",
    "        super().__init__()\n",
    "        self.lin1 = nn.Linear(input_dim , hidden_dim)\n",
    "        self.lin2 = nn.Linear(hidden_dim, out_dim)\n",
    "        self.dropout = nn.Dropout(p=dropout)\n",
    "    \n",
    "    def forward(self, x):\n",
    "        x = self.dropout(x)\n",
    "        x = self.lin1(x)\n",
    "        x = nn.functional.elu(x)\n",
    "        x = self.dropout(x)\n",
    "        x = self.lin2(x)\n",
    "        x = nn.functional.softmax(x, dim = 1)\n",
    "        return x"
   ]
  },
  {
   "cell_type": "code",
   "execution_count": 33,
   "id": "f5f0ec9f-e258-48b5-afba-e8856cae978e",
   "metadata": {},
   "outputs": [],
   "source": [
    "import copy\n",
    "from torchmetrics import Accuracy\n",
    "import matplotlib.pyplot as plt\n",
    "\n",
    "class Classifier():\n",
    "    device = torch.device(\"cuda:0\") if torch.cuda.is_available() else torch.device(\"cpu\")\n",
    "    metrics = dict({})\n",
    "    metrics[\"train\"] = []\n",
    "    metrics[\"val\"] = []\n",
    "    metrics[\"test\"] = []\n",
    "    \n",
    "    losses = dict({})\n",
    "    losses[\"train\"] = []\n",
    "    losses[\"val\"] = []\n",
    "    losses[\"test\"] = []\n",
    "    \n",
    "    models = []\n",
    "    state_dicts = []\n",
    "    \n",
    "    best_state_dict = None\n",
    "    best_metric = dict({})\n",
    "    best_loss = dict({})\n",
    "    best_model = None\n",
    "    \n",
    "    \n",
    "    def __init__(self, X, y,lr=3e-2,weight_decay=1e-4, epochs=100_000, patience = 100, dropout=.6):\n",
    "        num_classes = torch.unique(y[\"train\"]).shape[0]\n",
    "        assert num_classes == 7\n",
    "        self.model = NeuralNet(X[\"train\"].shape[1], 16, num_classes, dropout).to(Classifier.device)\n",
    "        \n",
    "        lr = lr\n",
    "        weight_decay = weight_decay\n",
    "        self.epochs = epochs\n",
    "        self.patience = patience\n",
    "        self.optim = torch.optim.Adam(self.model.parameters(), lr=lr, weight_decay= weight_decay)\n",
    "        self.metric_fn = Accuracy(task=\"multiclass\", num_classes=num_classes).to(Classifier.device)\n",
    "        self.loss_fn = nn.CrossEntropyLoss(reduction='mean')\n",
    "        self.enough_training_for_today = False\n",
    "        self.empty()\n",
    "\n",
    "    def empty(self):\n",
    "        for key in self.metrics:\n",
    "            Classifier.metrics[key] = []\n",
    "        for key in self.losses:\n",
    "            Classifier.losses[key] = []\n",
    "        Classifier.models = []\n",
    "        Classifier.state_dicts = []\n",
    "        \n",
    "        Classifier.best_state_dict = None\n",
    "        Classifier.best_metric = dict({})\n",
    "        Classifier.best_loss = dict({})\n",
    "        Classifier.best_model = None\n",
    "\n",
    "    def fit(self, X, y):\n",
    "        X = Classifier.dict_to_device(X)\n",
    "        y = Classifier.dict_to_device(y)\n",
    "        for epoch in range(self.epochs):\n",
    "            self.model.train()\n",
    "            logits = self.model(X[\"train\"])\n",
    "            self.optim.zero_grad()\n",
    "            loss = self.loss_fn(logits, y[\"train\"])\n",
    "            loss.backward()\n",
    "            self.optim.step()\n",
    "            \n",
    "            self.eval_all(X, y)\n",
    "    \n",
    "            if self.enough_training_for_today:\n",
    "                self.store_best(self.patience)\n",
    "                break\n",
    "        self.store_best(0)\n",
    "\n",
    "    def eval_all(self, X, y):\n",
    "        self.evaluate(X[\"train\"], y[\"train\"], \"train\")\n",
    "        self.evaluate(X[\"val\"], y[\"val\"], \"val\")\n",
    "        self.evaluate(X[\"test\"], y[\"test\"], \"test\")\n",
    "\n",
    "    def evaluate(self, x, y, set_name):\n",
    "        with torch.inference_mode():\n",
    "            self.model.eval()\n",
    "            logits = self.model(x)\n",
    "            loss = self.loss_fn(logits, y)\n",
    "            metric = self.metric_fn(y, logits.argmax(1))\n",
    "            if set_name == \"val\" and len(Classifier.losses[set_name]) >= self.patience:\n",
    "                last_metrics = Classifier.metrics[set_name][-self.patience:]\n",
    "                last_losses = Classifier.losses[set_name][-self.patience:]\n",
    "                \n",
    "                if all([(m >= metric.item()) for m in last_metrics]) or all([(l <= loss.item()) for l in last_losses]):\n",
    "                    self.enough_training_for_today = True\n",
    "    \n",
    "            Classifier.metrics[set_name].append(metric.item())\n",
    "            Classifier.losses[set_name].append(loss.item())\n",
    "            Classifier.state_dicts.append(self.model.state_dict().copy())\n",
    "            Classifier.models.append(copy.deepcopy(self.model))\n",
    "\n",
    "    def store_best(self, offset):\n",
    "        for key, value in Classifier.metrics.items():\n",
    "                    Classifier.best_metric[key] = value[-1-offset]\n",
    "        for key, value in Classifier.losses.items():\n",
    "            Classifier.best_loss[key] = value[-1-offset]\n",
    "        Classifier.best_state_dict = Classifier.state_dicts[-1-offset]\n",
    "        Classifier.best_model = Classifier.models[-1-offset]\n",
    "\n",
    "    @staticmethod\n",
    "    def dict_to_device(store_dict):\n",
    "        for key in store_dict:\n",
    "            store_dict[key] = store_dict[key].to(Classifier.device)\n",
    "        return store_dict\n",
    "\n",
    "    @staticmethod\n",
    "    def plot(store_dict, title):\n",
    "        for key, value in store_dict.items():\n",
    "            plt.plot(value)\n",
    "        plt.legend(store_dict.keys())\n",
    "        plt.title(title)\n",
    "        plt.show()"
   ]
  },
  {
   "cell_type": "code",
   "execution_count": 34,
   "id": "726e2b71-0422-4ae4-83ec-94aa962cca52",
   "metadata": {},
   "outputs": [],
   "source": [
    "from torch_geometric.datasets import Planetoid\n",
    "import torch_geometric.transforms as T\n",
    "from torch_geometric.utils import add_self_loops\n",
    "\n",
    "dataset_name = 'Cora'\n",
    "split = \"public\"\n",
    "dataset = Planetoid(root='/tmp/Cora', name=dataset_name, split=split)\n",
    "dataset.transform = T.NormalizeFeatures()\n",
    "\n",
    "features =  dataset[0].x\n",
    "labels =  dataset[0].y\n",
    "\n",
    "test =  dataset[0].test_mask\n",
    "train = dataset[0].train_mask\n",
    "val =  dataset[0].val_mask\n",
    "\n",
    "edge_index = dataset[0].edge_index \n",
    "edge_index = add_self_loops(edge_index)[0]\n",
    "\n",
    "X = dict({})\n",
    "X[\"train\"] = features[train]\n",
    "X[\"val\"] = features[val]\n",
    "X[\"test\"] = features[test]\n",
    "\n",
    "y = dict({})\n",
    "y[\"train\"] = labels[train]\n",
    "y[\"val\"] = labels[val]\n",
    "y[\"test\"] = labels[test]"
   ]
  },
  {
   "cell_type": "code",
   "execution_count": 35,
   "id": "7e966bf2-cbd3-4760-a085-20350dc26df6",
   "metadata": {},
   "outputs": [],
   "source": [
    "clf = Classifier(X, y,lr=3e-2,weight_decay=1e-4, epochs=100_000, patience = 100, dropout=.6)"
   ]
  },
  {
   "cell_type": "code",
   "execution_count": 36,
   "id": "9bfafbd3-5c17-4f90-9bd9-7ca823cfead9",
   "metadata": {},
   "outputs": [],
   "source": [
    "clf.fit(X, y)"
   ]
  },
  {
   "cell_type": "code",
   "execution_count": 39,
   "id": "3e6508f4-b594-4a25-a4d4-2845e0b6981e",
   "metadata": {},
   "outputs": [
    {
     "data": {
      "image/png": "[encoded data removed]",
      "text/plain": [
       "<Figure size 640x480 with 1 Axes>"
      ]
     },
     "metadata": {},
     "output_type": "display_data"
    }
   ],
   "source": [
    "clf.plot(clf.metrics, \"Acc\")"
   ]
  },
  {
   "cell_type": "code",
   "execution_count": 42,
   "id": "3dde0aa1-8f6f-418c-8977-265d8a5d5e34",
   "metadata": {},
   "outputs": [
    {
     "data": {
      "text/plain": [
       "0.5799999833106995"
      ]
     },
     "execution_count": 42,
     "metadata": {},
     "output_type": "execute_result"
    }
   ],
   "source": [
    "clf.best_metric[\"val\"]"
   ]
  },
  {
   "cell_type": "code",
   "execution_count": 40,
   "id": "09bbdb53-dd5d-4372-856d-d276a2899c5d",
   "metadata": {},
   "outputs": [
    {
     "data": {
      "text/plain": [
       "{'train': 1.0, 'val': 0.5799999833106995, 'test': 0.6069999933242798}"
      ]
     },
     "execution_count": 40,
     "metadata": {},
     "output_type": "execute_result"
    }
   ],
   "source": [
    "from hyperopt import fmin, tpe, hp,STATUS_OK, SparkTrials\n",
    "\n",
    "def space = {\n",
    "    'lr': hp.loguniform('lr', -5, -.3),\n",
    "    'weight_decay': hp.loguniform('weight_decay', -6, -3),\n",
    "    'patience': hp.uniform('patience', 10, 100),\n",
    "    'dropout':hp.uniform('patience', 0.0, 0.8),\n",
    "}\n",
    "def objective(params):\n",
    "    model = Classifier(X, y,epochs=100_000, **params)\n",
    "    model.fit(X, y)\n",
    "    score = model.best_metric[\"val\"]\n",
    "    return {'loss': -score, 'status': STATUS_OK}\n",
    "spark_trials = SparkTrials()\n",
    "best_params = fmin(objective, space, algo=tpe.suggest, max_evals=50, trials=spark_trials)"
   ]
  },
  {
   "cell_type": "code",
   "execution_count": 8,
   "id": "2cb9154b-48e9-4406-8b79-3b961c98be52",
   "metadata": {},
   "outputs": [],
   "source": [
    "metrics = dict({})\n",
    "metrics[\"train\"] = []\n",
    "metrics[\"val\"] = []\n",
    "metrics[\"test\"] = []\n",
    "\n",
    "losses = dict({})\n",
    "losses[\"train\"] = []\n",
    "losses[\"val\"] = []\n",
    "losses[\"test\"] = []\n",
    "\n",
    "models = []\n",
    "state_dicts = []\n",
    "\n",
    "best_state_dict = None\n",
    "best_metric = dict({})\n",
    "best_loss = dict({})\n",
    "best_model = None\n",
    "\n",
    "enough_training_for_today = False"
   ]
  },
  {
   "cell_type": "code",
   "execution_count": 9,
   "id": "b2babf43-ed62-4198-b15c-c50491f7114d",
   "metadata": {},
   "outputs": [],
   "source": [
    "import copy\n",
    "def evaluate(model, x, y, set_name):\n",
    "    global loss_fn, metric_fn, metrics, losses,state_dicts, patience, enough_training_for_today\n",
    "    \n",
    "    with torch.inference_mode():\n",
    "        model.eval()\n",
    "        logits = model(x)\n",
    "        loss = loss_fn(logits, y)\n",
    "        metric = metric_fn(y, logits.argmax(1))\n",
    "        if set_name == \"val\" and len(losses[set_name]) >= patience:\n",
    "            last_metrics = metrics[set_name][-patience:]\n",
    "            last_losses = losses[set_name][-patience:]\n",
    "            \n",
    "            if all([(m >= metric.item()) for m in last_metrics]) or all([(l <= loss.item()) for l in last_losses]):\n",
    "                enough_training_for_today = True\n",
    "\n",
    "        metrics[set_name].append(metric.item())\n",
    "        losses[set_name].append(loss.item())\n",
    "        state_dicts.append(model.state_dict().copy())\n",
    "        models.append(copy.deepcopy(model))\n",
    "        \n",
    "        experiment.log_metrics({f\"{set_name}_accuracy\": metric.item(), f\"{set_name}_loss\": loss.item()}, epoch=len(losses[set_name])-1)\n",
    "            \n",
    "def eval_all(model, X, y):\n",
    "    evaluate(model, X[\"train\"], y[\"train\"], \"train\")\n",
    "    evaluate(model, X[\"val\"], y[\"val\"], \"val\")\n",
    "    evaluate(model, X[\"test\"], y[\"test\"], \"test\")"
   ]
  },
  {
   "cell_type": "code",
   "execution_count": 10,
   "id": "03c21572-3794-4667-9955-5c0cc3ffaaa4",
   "metadata": {},
   "outputs": [],
   "source": [
    "def store_best(offset):\n",
    "    for key, value in metrics.items():\n",
    "                best_metric[key] = value[-1-offset]\n",
    "    for key, value in losses.items():\n",
    "        best_loss[key] = value[-1-offset]\n",
    "    best_state_dict = state_dicts[-1-offset]\n",
    "    best_model = models[-1-offset]\n",
    "    \n",
    "def train(model, X, y):\n",
    "    global epochs, loss_fn, optim, metrics, losses, state_dicts\n",
    "    for epoch in range(epochs):\n",
    "        model.train()\n",
    "        logits = model(X[\"train\"])\n",
    "        optim.zero_grad()\n",
    "        loss = loss_fn(logits, y[\"train\"])\n",
    "        loss.backward()\n",
    "        optim.step()\n",
    "        \n",
    "        eval_all(model, X, y)\n",
    "\n",
    "        if enough_training_for_today:\n",
    "            store_best(patience)\n",
    "            break\n",
    "    store_best(0)\n"
   ]
  },
  {
   "cell_type": "code",
   "execution_count": 11,
   "id": "bcb19e64-e7ee-444b-9198-d0742fb065f1",
   "metadata": {},
   "outputs": [],
   "source": [
    "from torchmetrics import Accuracy\n",
    "\n",
    "num_classes = torch.unique(labels).shape[0]\n",
    "model = Classificator(X[\"train\"].shape[1], 16, num_classes).to(device)\n",
    "lr = 3e-3\n",
    "weight_decay = 1e-4\n",
    "epochs = 100_000\n",
    "patience = 100\n",
    "optim = torch.optim.Adam(model.parameters(), lr=lr, weight_decay= weight_decay)\n",
    "metric_fn = Accuracy(task=\"multiclass\", num_classes=num_classes).to(device)\n",
    "loss_fn = nn.CrossEntropyLoss(reduction='mean')\n",
    "\n",
    "hyper_params = dict({})\n",
    "hyper_params[\"lr\"] = lr\n",
    "hyper_params[\"weight_decay\"] = weight_decay\n",
    "hyper_params[\"epochs\"] = epochs\n",
    "hyper_params[\"patience\"] = patience\n",
    "hyper_params[\"split\"] = split\n",
    "hyper_params[\"dataset_name\"] = dataset_name\n",
    "experiment.log_parameters(hyper_params)"
   ]
  },
  {
   "cell_type": "code",
   "execution_count": 12,
   "id": "ce3728d4-00d3-4507-9d8d-20f19d3e5fd8",
   "metadata": {},
   "outputs": [],
   "source": [
    "train(model, X, y)"
   ]
  },
  {
   "cell_type": "code",
   "execution_count": 13,
   "id": "8e63455f-d074-41d2-8111-a2aeb5d97039",
   "metadata": {},
   "outputs": [],
   "source": [
    "import matplotlib.pyplot as plt\n",
    "def plot(store_dict, title):\n",
    "    for key, value in store_dict.items():\n",
    "        plt.plot(value)\n",
    "    plt.legend(store_dict.keys())\n",
    "    plt.title(title)\n",
    "    plt.show()"
   ]
  },
  {
   "cell_type": "code",
   "execution_count": 14,
   "id": "ee78a6b1-bc65-4002-ba82-6c5bf5d39bf6",
   "metadata": {},
   "outputs": [
    {
     "data": {
      "image/png": "[encoded data removed]",
      "text/plain": [
       "<Figure size 640x480 with 1 Axes>"
      ]
     },
     "metadata": {},
     "output_type": "display_data"
    },
    {
     "data": {
      "image/png": "[encoded data removed]",
      "text/plain": [
       "<Figure size 640x480 with 1 Axes>"
      ]
     },
     "metadata": {},
     "output_type": "display_data"
    }
   ],
   "source": [
    "plot(losses, \"Loss\")\n",
    "plot(metrics, \"Accuracy\")"
   ]
  },
  {
   "cell_type": "code",
   "execution_count": 15,
   "id": "4deaa331-e4f6-4153-b065-313530ea2aba",
   "metadata": {},
   "outputs": [],
   "source": [
    "# from comet_ml.integration.pytorch import log_model\n",
    "# log_model(experiment, model, model_name=\"Classificator_model\")"
   ]
  },
  {
   "cell_type": "code",
   "execution_count": 16,
   "id": "cedcd3e8-39dd-4d98-9f14-4acdb0db6554",
   "metadata": {},
   "outputs": [
    {
     "name": "stderr",
     "output_type": "stream",
     "text": [
      "\u001b[1;38;5;39mCOMET INFO:\u001b[0m ---------------------------------------------------------------------------------------\n",
      "\u001b[1;38;5;39mCOMET INFO:\u001b[0m Comet.ml Experiment Summary\n",
      "\u001b[1;38;5;39mCOMET INFO:\u001b[0m ---------------------------------------------------------------------------------------\n",
      "\u001b[1;38;5;39mCOMET INFO:\u001b[0m   Data:\n",
      "\u001b[1;38;5;39mCOMET INFO:\u001b[0m     display_summary_level : 1\n",
      "\u001b[1;38;5;39mCOMET INFO:\u001b[0m     url                   : https://www.comet.com/danielwalke/graph-aware/35841c5a4b5146f68e4dbe4a7c4f678f\n",
      "\u001b[1;38;5;39mCOMET INFO:\u001b[0m   Metrics [count] (min, max):\n",
      "\u001b[1;38;5;39mCOMET INFO:\u001b[0m     test_accuracy [418]  : (0.14900000393390656, 0.5720000267028809)\n",
      "\u001b[1;38;5;39mCOMET INFO:\u001b[0m     test_loss [418]      : (1.7183868885040283, 1.9457080364227295)\n",
      "\u001b[1;38;5;39mCOMET INFO:\u001b[0m     train_accuracy [418] : (0.1428571492433548, 1.0)\n",
      "\u001b[1;38;5;39mCOMET INFO:\u001b[0m     train_loss [418]     : (1.2048777341842651, 1.945623517036438)\n",
      "\u001b[1;38;5;39mCOMET INFO:\u001b[0m     val_accuracy [418]   : (0.16200000047683716, 0.5860000252723694)\n",
      "\u001b[1;38;5;39mCOMET INFO:\u001b[0m     val_loss [418]       : (1.7278835773468018, 1.945151925086975)\n",
      "\u001b[1;38;5;39mCOMET INFO:\u001b[0m   Parameters:\n",
      "\u001b[1;38;5;39mCOMET INFO:\u001b[0m     dataset_name : Cora\n",
      "\u001b[1;38;5;39mCOMET INFO:\u001b[0m     epochs       : 100000\n",
      "\u001b[1;38;5;39mCOMET INFO:\u001b[0m     lr           : 0.003\n",
      "\u001b[1;38;5;39mCOMET INFO:\u001b[0m     patience     : 100\n",
      "\u001b[1;38;5;39mCOMET INFO:\u001b[0m     split        : public\n",
      "\u001b[1;38;5;39mCOMET INFO:\u001b[0m     weight_decay : 0.0001\n",
      "\u001b[1;38;5;39mCOMET INFO:\u001b[0m   Uploads:\n",
      "\u001b[1;38;5;39mCOMET INFO:\u001b[0m     environment details      : 1\n",
      "\u001b[1;38;5;39mCOMET INFO:\u001b[0m     filename                 : 1\n",
      "\u001b[1;38;5;39mCOMET INFO:\u001b[0m     git metadata             : 1\n",
      "\u001b[1;38;5;39mCOMET INFO:\u001b[0m     git-patch (uncompressed) : 1 (509.92 KB)\n",
      "\u001b[1;38;5;39mCOMET INFO:\u001b[0m     installed packages       : 1\n",
      "\u001b[1;38;5;39mCOMET INFO:\u001b[0m     notebook                 : 1\n",
      "\u001b[1;38;5;39mCOMET INFO:\u001b[0m     os packages              : 1\n",
      "\u001b[1;38;5;39mCOMET INFO:\u001b[0m     source_code              : 1\n",
      "\u001b[1;38;5;39mCOMET INFO:\u001b[0m \n",
      "\u001b[1;38;5;214mCOMET WARNING:\u001b[0m To get all data logged automatically, import comet_ml before the following modules: torch.\n",
      "\u001b[1;38;5;39mCOMET INFO:\u001b[0m Please wait for metadata to finish uploading (timeout is 3600 seconds)\n"
     ]
    }
   ],
   "source": [
    "experiment.end()"
   ]
  }
 ],
 "metadata": {
  "kernelspec": {
   "display_name": "Python 3 (ipykernel)",
   "language": "python",
   "name": "python3"
  },
  "language_info": {
   "codemirror_mode": {
    "name": "ipython",
    "version": 3
   },
   "file_extension": ".py",
   "mimetype": "text/x-python",
   "name": "python",
   "nbconvert_exporter": "python",
   "pygments_lexer": "ipython3",
   "version": "3.10.12"
  }
 },
 "nbformat": 4,
 "nbformat_minor": 5
}
