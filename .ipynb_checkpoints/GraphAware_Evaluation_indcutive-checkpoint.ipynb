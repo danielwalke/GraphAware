{
 "cells": [
  {
   "cell_type": "markdown",
   "id": "1b4907bf-8a73-49f6-9eed-3df0adcca41e",
   "metadata": {},
   "source": [
    "## Read and process data"
   ]
  },
  {
   "cell_type": "code",
   "execution_count": 1,
   "id": "ff17fc77-ad91-4c3f-ad39-88e7ea7a122b",
   "metadata": {},
   "outputs": [],
   "source": [
    "from torch_geometric.datasets import PPI\n",
    "import torch_geometric.transforms as T\n",
    "from torch_geometric.utils import add_self_loops\n",
    "from torch_geometric.loader import DataLoader\n",
    "\n",
    "train_dataset = PPI(root='./data/PPI', split=\"train\")\n",
    "val_dataset = PPI(root='./data/PPI', split=\"val\")\n",
    "test_dataset = PPI(root='./data/PPI', split=\"test\")\n",
    "\n",
    "train_dataset.transform = T.NormalizeFeatures()\n",
    "val_dataset.transform = T.NormalizeFeatures()\n",
    "test_dataset.transform = T.NormalizeFeatures()\n",
    "\n",
    "train_loader = iter(DataLoader(train_dataset, batch_size=len(train_dataset)))\n",
    "val_loader = iter(DataLoader(val_dataset, batch_size=len(val_dataset)))\n",
    "test_loader = iter(DataLoader(test_dataset, batch_size=len(test_dataset)))\n",
    "\n",
    "train_set = next(train_loader)\n",
    "test_set = next(test_loader)\n",
    "val_set = next(val_loader)"
   ]
  },
  {
   "cell_type": "code",
   "execution_count": 2,
   "id": "c5f97354-be21-431d-9b2f-34bcb37312b0",
   "metadata": {},
   "outputs": [],
   "source": [
    "complete_data = {\"X_train\": train_set.x,\n",
    "                \"X_test\": test_set.x,\n",
    "                \"X_val\": val_set.x,\n",
    "                \"y_train\": train_set.y,\n",
    "                \"y_test\": test_set.y,\n",
    "                \"y_val\": val_set.y,\n",
    "                \"edge_index_train\": train_set.edge_index,\n",
    "                \"edge_index_test\": test_set.edge_index,\n",
    "                \"edge_index_val\": val_set.edge_index}"
   ]
  },
  {
   "cell_type": "markdown",
   "id": "9abe25e4-e868-4b15-99de-ff4543c80338",
   "metadata": {},
   "source": [
    "## Search Hyperparameters"
   ]
  },
  {
   "cell_type": "code",
   "execution_count": 3,
   "id": "da10e1b1-4199-4583-a746-6f64569744cc",
   "metadata": {},
   "outputs": [],
   "source": [
    "from hyperopt import hp\n",
    "from xgboost import XGBClassifier\n",
    "\n",
    "xb_choices = {\n",
    "    'booster': [\"gbtree\"],\n",
    "    'n_estimators': [1_400, 1_600, 1_800, 2_000],\n",
    "    'max_depth': [None,2, 3,4],\n",
    "    'max_delta_step': [1,2,3],\n",
    "    'min_child_weight': [None, *list(range(1,5,1))],\n",
    "    'device': [\"cuda:2\"],\n",
    "    \"tree_method\": [\"hist\"],\n",
    "    'scale_pos_weight': [((train_set.y == 0).sum() / (train_set.y == 1).sum()).item()]\n",
    "}\n",
    " \n",
    "space_xb = {\n",
    "    **{key: hp.choice(key, value) for key, value in xb_choices.items()},\n",
    "    'eta': hp.loguniform('eta', -3, -.4),\n",
    "    'subsample': hp.uniform('subsample', 0.8, 1),#0.6\n",
    "    'reg_lambda': hp.loguniform('reg_lambda',-5, 5),\n",
    "    'reg_alpha': hp.loguniform('reg_alpha',-3, 1),#0.8\n",
    "    'gamma': hp.uniform('gamma', 0, .2),\n",
    "    'colsample_bytree': hp.uniform('colsample_bytree', 0.85, 1),\n",
    "}\n",
    "\n",
    "clfs_space = dict({})\n",
    "clfs_space[\"XGBClassifier\"] = space_xb\n",
    "clfs = [XGBClassifier]"
   ]
  },
  {
   "cell_type": "code",
   "execution_count": null,
   "id": "0361ff6f-fe71-43f6-a93c-e22fd09f58e9",
   "metadata": {
    "scrolled": true
   },
   "outputs": [],
   "source": [
    "from AutoTune2 import AutoSearch\n",
    "from sklearn.metrics import f1_score\n",
    "\n",
    "searcher = AutoSearch(complete_data, multi_target_class=True, max_evals=45, pred_metric = f1_score, pred_metric_kwargs={\"average\":\"micro\"},\n",
    "                      is_transductive = False, parallelism = 8)\n",
    "store = searcher.search(clfs, clfs_space, hops=[3])"
   ]
  },
  {
   "cell_type": "code",
   "execution_count": 11,
   "id": "b1df599d-1613-48c5-84ec-06505f9a7b29",
   "metadata": {},
   "outputs": [
    {
     "data": {
      "text/plain": [
       "{'XGBClassifier': {3: {'train_acc': 0.9977430847776764,\n",
       "   'val_acc': 0.9773959159268455,\n",
       "   'test_acc': 0.9846497334587644,\n",
       "   'model': XGBClassifier(base_score=None, booster='gbtree', callbacks=None,\n",
       "                 colsample_bylevel=None, colsample_bynode=None,\n",
       "                 colsample_bytree=0.9983509027864691, device='cuda:2',\n",
       "                 early_stopping_rounds=None, enable_categorical=False,\n",
       "                 eta=0.24241545316243465, eval_metric=None, feature_types=None,\n",
       "                 gamma=0.05633266483318489, grow_policy=None, importance_type=None,\n",
       "                 interaction_constraints=None, learning_rate=None, max_bin=None,\n",
       "                 max_cat_threshold=None, max_cat_to_onehot=None, max_delta_step=1,\n",
       "                 max_depth=None, max_leaves=None, min_child_weight=None,\n",
       "                 missing=nan, monotone_constraints=None, multi_strategy=None,\n",
       "                 n_estimators=1400, n_jobs=None, num_parallel_tree=None, ...),\n",
       "   'user_function': <function AutoTune2.user_function(kwargs)>,\n",
       "   'attention_config': {'inter_layer_normalize': False,\n",
       "    'use_pseudo_attention': True,\n",
       "    'cosine_eps': 0.01,\n",
       "    'dropout_attn': None}}}}"
      ]
     },
     "execution_count": 11,
     "metadata": {},
     "output_type": "execute_result"
    }
   ],
   "source": [
    "store"
   ]
  },
  {
   "cell_type": "markdown",
   "id": "92222516-e9f3-454a-b512-672a292f3f19",
   "metadata": {},
   "source": [
    "## Store hyperparameters permanently"
   ]
  },
  {
   "cell_type": "code",
   "execution_count": 8,
   "id": "9b02edd0-fdef-45aa-b4a1-0607fe5c0160",
   "metadata": {},
   "outputs": [],
   "source": [
    "from AutoTune2 import user_function\n",
    "from xgboost import XGBClassifier\n",
    "\n",
    "store = {3: {'train_acc': 0.9979866294463681,\n",
    "   'val_acc': 0.9758037656002039,\n",
    "   'test_acc': 0.9838136835582694,\n",
    "   'model': XGBClassifier(**{'objective': 'binary:logistic',\n",
    " 'base_score': None,\n",
    " 'booster': 'gbtree',\n",
    " 'colsample_bytree': 0.9983509027864691,\n",
    " 'device': 'cuda:2',\n",
    " 'gamma': 0.05633266483318489,\n",
    " 'grow_policy': None,\n",
    " 'importance_type': None,\n",
    " 'interaction_constraints': None,\n",
    " 'learning_rate': None,\n",
    " 'max_bin': None,\n",
    " 'max_cat_threshold': None,\n",
    " 'max_cat_to_onehot': None,\n",
    " 'max_delta_step': 1,\n",
    " 'max_depth': None,\n",
    " 'max_leaves': None,\n",
    " 'min_child_weight': None,\n",
    " 'monotone_constraints': None,\n",
    " 'multi_strategy': None,\n",
    " 'n_estimators': 1400,\n",
    " 'n_jobs': None,\n",
    " 'num_parallel_tree': None,\n",
    " 'random_state': None,\n",
    " 'reg_alpha': 0.06653159168960418,\n",
    " 'reg_lambda': 0.02308162322280471,\n",
    " 'sampling_method': None,\n",
    " 'scale_pos_weight': 2.252702236175537,\n",
    " 'subsample': 0.9956436486105597,\n",
    " 'tree_method': 'hist',\n",
    " 'validate_parameters': None,\n",
    " 'verbosity': None,\n",
    " 'eta': 0.24241545316243465,\n",
    "                            'early_stopping_rounds': 10,\n",
    "                            \"eval_metric\":\"error\"\n",
    "                            }),\n",
    "   'user_function': user_function,\n",
    "   'attention_config': {'inter_layer_normalize': False,\n",
    "    'use_pseudo_attention': True,\n",
    "    'cosine_eps': 0.01,\n",
    "    'dropout_attn': None}}\n",
    "}"
   ]
  },
  {
   "cell_type": "markdown",
   "id": "bf4b4ea4-0753-4d92-a1c0-68b8602c3089",
   "metadata": {},
   "source": [
    "## GraphAware - Evaluation"
   ]
  },
  {
   "cell_type": "code",
   "execution_count": 9,
   "id": "80625bf5-6231-4e0e-ace1-b5f934ff927b",
   "metadata": {},
   "outputs": [],
   "source": [
    "from EnsembleFramework import Framework\n",
    "from AutoTune2 import user_function\n",
    "hops =  [3]\n",
    "framework = Framework(hops_list= hops,\n",
    "                      clfs=[store[i][\"model\"] for i in hops],\n",
    "                      attention_configs=[store[i][\"attention_config\"] for i in hops],\n",
    "                      handle_nan=0.0,\n",
    "                      gpu_idx=0,\n",
    "                      user_functions=[store[i][\"user_function\"] for i in hops]\n",
    "                      )"
   ]
  },
  {
   "cell_type": "code",
   "execution_count": 10,
   "id": "fa3e5ead-1d74-4a92-9e73-fc34927777a9",
   "metadata": {},
   "outputs": [
    {
     "data": {
      "application/vnd.jupyter.widget-view+json": {
       "model_id": "2f08731649f548f1b8eb93ed718b6163",
       "version_major": 2,
       "version_minor": 0
      },
      "text/plain": [
       "  0%|          | 0/1 [00:00<?, ?it/s]"
      ]
     },
     "metadata": {},
     "output_type": "display_data"
    },
    {
     "name": "stderr",
     "output_type": "stream",
     "text": [
      "/home/dwalke/git/graph_aware_ml/EnsembleFramework.py:160: UserWarning: The reduce argument of torch.scatter with Tensor src is deprecated and will be removed in a future PyTorch release. Use torch.scatter_reduce instead for more reduction options. (Triggered internally at ../aten/src/ATen/native/TensorAdvancedIndexing.cpp:230.)\n",
      "  summed_exp_score = torch.zeros_like(exp_score).scatter(0, target,exp_score, reduce=\"add\")\n",
      "/home/dwalke/.local/lib/python3.10/site-packages/xgboost/core.py:160: UserWarning: [10:37:14] WARNING: /workspace/src/common/error_msg.cc:58: Falling back to prediction using DMatrix due to mismatched devices. This might lead to higher memory usage and slower performance. XGBoost is running on: cuda:2, while the input data is on: cpu.\n",
      "Potential solutions:\n",
      "- Use a data structure that matches the device ordinal in the booster.\n",
      "- Set the device for booster before call to inplace_predict.\n",
      "\n",
      "This warning will only be shown once.\n",
      "\n",
      "  warnings.warn(smsg, UserWarning)\n"
     ]
    }
   ],
   "source": [
    "from tqdm.notebook import tqdm\n",
    "import time\n",
    "import numpy as np\n",
    "import torch\n",
    "from sklearn.metrics import f1_score\n",
    "\n",
    "times = []\n",
    "scores = []\n",
    "ITERATIONS = 1\n",
    "for i in tqdm(range(ITERATIONS)):\n",
    "    start = time.time()\n",
    "    def transform_kwargs_fit(framework, kwargs, i):\n",
    "        val_out = framework.get_features(val_set.x, val_set.edge_index, torch.ones(val_set.x.shape[0]).type(torch.bool), is_training = False)[0].cpu()    \n",
    "        return {\"eval_set\":[(val_out, val_set.y)], \"verbose\":False}\n",
    "        \n",
    "    framework.fit(X_train=train_set.x, edge_index=train_set.edge_index,y_train=train_set.y, train_mask=torch.ones(train_set.x.shape[0]).type(torch.bool),\n",
    "                 transform_kwargs_fit = transform_kwargs_fit)\n",
    "    elapsed_time = time.time() - start\n",
    "    predict_proba = framework.predict_proba(test_set.x, test_set.edge_index, torch.ones(test_set.x.shape[0]).type(torch.bool))\n",
    "    score = f1_score(test_set.y, np.round(predict_proba), average =\"micro\")\n",
    "    scores.append(score)\n",
    "    times.append(elapsed_time)   "
   ]
  },
  {
   "cell_type": "code",
   "execution_count": 22,
   "id": "4b66e0ba-c51a-4bea-bf35-dce49d27cd5f",
   "metadata": {},
   "outputs": [
    {
     "name": "stdout",
     "output_type": "stream",
     "text": [
      "F1-Micro is 0.9838814782318904+-0.00022475508435411922; Required training time is: 149.87999074459077+-7.572227816215075\n"
     ]
    }
   ],
   "source": [
    "scores = np.array(scores)\n",
    "times = np.array(times)\n",
    "print(f\"F1-Micro is {scores.mean()}+-{scores.std()}; Required training time is: {times.mean()}+-{times.std()}\")"
   ]
  },
  {
   "cell_type": "markdown",
   "id": "f4ccb6ee-218f-44ea-9239-1a7db2b33cd3",
   "metadata": {},
   "source": [
    "## Feature importance calculation"
   ]
  },
  {
   "cell_type": "code",
   "execution_count": 13,
   "id": "1f9ab510-75a5-45a6-9307-de1cbcebf422",
   "metadata": {},
   "outputs": [
    {
     "data": {
      "text/plain": [
       "array([0.01924938, 0.01910766, 0.01912091, 0.0193457 , 0.01824162,\n",
       "       0.0204236 , 0.01810137, 0.01878868, 0.01838496, 0.02142961,\n",
       "       0.02532204, 0.01807901, 0.01903244, 0.01923802, 0.01915025,\n",
       "       0.01947404, 0.01987461, 0.01917948, 0.01992037, 0.01846377,\n",
       "       0.01961845, 0.01931971, 0.02005534, 0.01994174, 0.01731976,\n",
       "       0.01908039, 0.01880015, 0.0205507 , 0.01913141, 0.01971542,\n",
       "       0.01905106, 0.01963227, 0.020801  , 0.01922891, 0.02336204,\n",
       "       0.02463376, 0.01973318, 0.01971647, 0.01934644, 0.02117537,\n",
       "       0.01972008, 0.02041284, 0.0209612 , 0.01841985, 0.02018405,\n",
       "       0.01777514, 0.02308099, 0.0215361 , 0.02657736, 0.0211913 ],\n",
       "      dtype=float32)"
      ]
     },
     "execution_count": 13,
     "metadata": {},
     "output_type": "execute_result"
    }
   ],
   "source": [
    "framework.feature_importance()"
   ]
  },
  {
   "cell_type": "code",
   "execution_count": 14,
   "id": "07091646-fe9a-4fa5-a6d1-2294dae3a8c2",
   "metadata": {},
   "outputs": [
    {
     "data": {
      "image/png": "[encoded data removed]",
      "text/plain": [
       "<Figure size 640x480 with 1 Axes>"
      ]
     },
     "metadata": {},
     "output_type": "display_data"
    }
   ],
   "source": [
    "framework.plot_feature_importances()"
   ]
  }
 ],
 "metadata": {
  "kernelspec": {
   "display_name": "Python 3 (ipykernel)",
   "language": "python",
   "name": "python3"
  },
  "language_info": {
   "codemirror_mode": {
    "name": "ipython",
    "version": 3
   },
   "file_extension": ".py",
   "mimetype": "text/x-python",
   "name": "python",
   "nbconvert_exporter": "python",
   "pygments_lexer": "ipython3",
   "version": "3.10.12"
  }
 },
 "nbformat": 4,
 "nbformat_minor": 5
}
