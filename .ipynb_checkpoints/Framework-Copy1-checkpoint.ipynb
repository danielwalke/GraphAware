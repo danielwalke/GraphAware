{
 "cells": [
  {
   "cell_type": "code",
   "execution_count": 1,
   "id": "2938ede7",
   "metadata": {},
   "outputs": [],
   "source": [
    "import sys\n",
    " \n",
    "sys.path.insert(0, \"../\")"
   ]
  },
  {
   "cell_type": "code",
   "execution_count": 2,
   "id": "abc84a79",
   "metadata": {},
   "outputs": [
    {
     "name": "stderr",
     "output_type": "stream",
     "text": [
      "/home/dwalke/git/graph_aware_ml/dataAnalysis/data/Filter.py:34: SettingWithCopyWarning: \n",
      "A value is trying to be set on a copy of a slice from a DataFrame.\n",
      "Try using .loc[row_indexer,col_indexer] = value instead\n",
      "\n",
      "See the caveats in the documentation: https://pandas.pydata.org/pandas-docs/stable/user_guide/indexing.html#returning-a-view-versus-a-copy\n",
      "  self.data['Label'] = self.data['Diagnosis']\n",
      "/home/dwalke/git/graph_aware_ml/dataAnalysis/data/Filter.py:34: SettingWithCopyWarning: \n",
      "A value is trying to be set on a copy of a slice from a DataFrame.\n",
      "Try using .loc[row_indexer,col_indexer] = value instead\n",
      "\n",
      "See the caveats in the documentation: https://pandas.pydata.org/pandas-docs/stable/user_guide/indexing.html#returning-a-view-versus-a-copy\n",
      "  self.data['Label'] = self.data['Diagnosis']\n",
      "/home/dwalke/git/graph_aware_ml/dataAnalysis/data/Filter.py:34: SettingWithCopyWarning: \n",
      "A value is trying to be set on a copy of a slice from a DataFrame.\n",
      "Try using .loc[row_indexer,col_indexer] = value instead\n",
      "\n",
      "See the caveats in the documentation: https://pandas.pydata.org/pandas-docs/stable/user_guide/indexing.html#returning-a-view-versus-a-copy\n",
      "  self.data['Label'] = self.data['Diagnosis']\n"
     ]
    }
   ],
   "source": [
    "from dataAnalysis.DataAnalysis import DataAnalysis\n",
    "import pandas as pd\n",
    "\n",
    "data = pd.read_csv(r\"./sbcdata.csv\", header=0)\n",
    "data_analysis = DataAnalysis(data, mimic_data = None)"
   ]
  },
  {
   "cell_type": "code",
   "execution_count": 48,
   "id": "3d882efc",
   "metadata": {},
   "outputs": [],
   "source": [
    "data = pd.concat((data_analysis.get_training_data(), data_analysis.get_testing_data()))\n",
    "max_Id = data[\"Id\"].unique().max()\n",
    "gw_data = data_analysis.get_gw_testing_data().copy(deep=True)\n",
    "gw_data = gw_data.assign(Id=lambda x: x.Id + max_Id)\n",
    "data = pd.concat((data, gw_data))\n",
    "data = data.sort_values([\"Id\", \"Time\"])\n",
    "data = data.reset_index(drop=True)\n",
    "popped_index = data.pop(\"index\")"
   ]
  },
  {
   "cell_type": "code",
   "execution_count": 72,
   "id": "bbfa5947",
   "metadata": {},
   "outputs": [],
   "source": [
    "from dataAnalysis.Constants import SEX_CATEGORY_COLUMN_NAME, SEX_COLUMN_NAME, FEATURES\n",
    "data[SEX_CATEGORY_COLUMN_NAME] = data.loc[:, SEX_COLUMN_NAME] ==\"W\"\n",
    "\n",
    "data[SEX_CATEGORY_COLUMN_NAME] = data[SEX_CATEGORY_COLUMN_NAME].astype(\"int8\")\n",
    "data[\"Label\"] = data[\"Label\"] == \"Sepsis\"\n",
    "data[\"Label\"] = data[\"Label\"].astype(\"int8\")"
   ]
  },
  {
   "cell_type": "markdown",
   "id": "fe9a1e4e",
   "metadata": {},
   "source": [
    "## Edge index construction"
   ]
  },
  {
   "cell_type": "code",
   "execution_count": 46,
   "id": "11c33e19",
   "metadata": {},
   "outputs": [],
   "source": [
    "edge_index = torch.tensor(pd.read_csv(\"edge_index/reverse_directed_edge_index.csv\", header=None, skiprows=1).values.transpose(), dtype=torch.long)"
   ]
  },
  {
   "cell_type": "code",
   "execution_count": 69,
   "id": "52567628",
   "metadata": {},
   "outputs": [
    {
     "data": {
      "text/plain": [
       "tensor([[     0,      1,      2,  ..., 366280, 366281, 366282],\n",
       "        [     0,      1,      2,  ..., 366283, 366283, 366283]])"
      ]
     },
     "execution_count": 69,
     "metadata": {},
     "output_type": "execute_result"
    }
   ],
   "source": [
    "import numpy as np\n",
    "from tqdm.notebook import tqdm\n",
    "\n",
    "def get_edge_index(dataset):\n",
    "    dataset = dataset.reset_index(drop=True)\n",
    "    source_edge_index = []\n",
    "    target_edge_index = []\n",
    "\n",
    "    for Id, group in dataset.groupby(\"Id\"):\n",
    "        indices = group.index\n",
    "        offset = indices[0]\n",
    "        num_nodes = len(indices)\n",
    "        edge_index = torch.zeros((2, sum(range(num_nodes + 1))), dtype=torch.long)+offset\n",
    "\n",
    "        ## Self edges\n",
    "        edge_index[:, 0:num_nodes] = (torch.arange(num_nodes) + offset).view(1, -1)\n",
    "        idx = num_nodes\n",
    "        for i in range(1, num_nodes):\n",
    "            edge_index[1, idx:idx + i] = i+offset\n",
    "            edge_index[0, idx:idx + i] = torch.arange(i)+offset\n",
    "            idx += i\n",
    "\n",
    "        source_edge_index.extend(edge_index[0, :].numpy().tolist())\n",
    "        target_edge_index.extend(edge_index[1, :].numpy().tolist())\n",
    "\n",
    "    edge_index = np.asarray([np.asarray(source_edge_index), np.asarray(target_edge_index)])\n",
    "    edge_index = torch.tensor(edge_index)\n",
    "    return edge_index"
   ]
  },
  {
   "cell_type": "code",
   "execution_count": 99,
   "id": "a31e237b",
   "metadata": {},
   "outputs": [],
   "source": [
    "test_edge_index = get_edge_index(data[(data[\"Set\"] == \"Validation\") & (data[\"Center\"] == \"Leipzig\")])\n",
    "test_gw_edge_index = get_edge_index(data[(data[\"Set\"] == \"Validation\") & (data[\"Center\"] == \"Greifswald\")])\n",
    "train_edge_index = get_edge_index(data[data[\"Set\"] == \"Training\"])"
   ]
  },
  {
   "cell_type": "markdown",
   "id": "9df9a164",
   "metadata": {},
   "source": [
    "## Framework"
   ]
  },
  {
   "cell_type": "code",
   "execution_count": 10,
   "id": "2717fcb2",
   "metadata": {},
   "outputs": [],
   "source": [
    "import numpy\n",
    "def user_function(origin_features, updated_features, sum_neighbors, mul_neighbors, num_neighbors):\n",
    "    return updated_features - sum_neighbors / num_neighbors"
   ]
  },
  {
   "cell_type": "code",
   "execution_count": 285,
   "id": "e1e6c8c7",
   "metadata": {},
   "outputs": [],
   "source": [
    "import torch\n",
    "\n",
    "class Framework:\n",
    "    #edge_index ##torch_tensor\n",
    "    #features ##numpy array or torch tensor with shape mxn\n",
    "    #user_function ## user-defined function\n",
    "    #concat: Optional[bool] ## whether concatanate or add\n",
    "    #handle_nan replace nan values with given number e.g., when dividing in user-defined function by zero\n",
    "    ## normaliz- if false pseudo-attention scores might contain -inf or inf\n",
    "        \n",
    "    def __init__(self, features, edge_index, user_function,handle_nan:float=None,\n",
    "                 concat = True, gpu_idx:int=None, normalize:bool=True, use_pseudo_attention = True):\n",
    "        self.features = features\n",
    "        self.edge_index = edge_index\n",
    "        self.user_function = user_function\n",
    "        self.concat = concat\n",
    "        self.handle_nan = handle_nan\n",
    "        self.normalize = normalize\n",
    "        self.use_pseudo_attention = use_pseudo_attention\n",
    "        \n",
    "        self.device = torch.device(f\"cuda:{str(gpu_idx)}\") if gpu_idx is not None and torch.cuda.is_available() else torch.device(\"cpu\")\n",
    "        \n",
    "        self.make_tensors()\n",
    "        if gpu_idx is not None: self.shift_device()\n",
    "        \n",
    "    def make_tensors(self):\n",
    "        if not torch.is_tensor(self.features):\n",
    "            try:\n",
    "                self.features = torch.from_numpy(self.features)\n",
    "            except:\n",
    "                raise Exception(\"Features input must be numpy array or torch tensor\")\n",
    "        if not torch.is_tensor(self.edge_index):\n",
    "            try:\n",
    "                self.edge_index = torch.from_numpy(self.edge_index)\n",
    "            except:\n",
    "                raise Exception(\"Edge index must be numpy array or torch tensor\")\n",
    "        if self.edge_index.shape[0] != 2:\n",
    "            raise Exception(\"Edge index must have the shape 2 x NumberOfEdges\")\n",
    "        #check max edge index and shape of features\n",
    "    \n",
    "    def shift_device(self):\n",
    "        self.features = self.features.to(self.device) \n",
    "        self.edge_index = self.edge_index.to(self.device) \n",
    "    \n",
    "    def aggregate(self, hops = 1):\n",
    "        if hops <= 0:\n",
    "            raise Exception(\"Number of hops must be greater or equal to 1.\")\n",
    "            \n",
    "        features_for_aggregation = self.features\n",
    "        for i in range(hops):\n",
    "            if self.normalize:\n",
    "                features_for_aggregation = torch.nn.functional.normalize(features_for_aggregation, dim = 0)\n",
    "            source_lift = features_for_aggregation.index_select(0, self.edge_index[0])\n",
    "            target = self.edge_index[1]\n",
    "            \n",
    "            if self.use_pseudo_attention:\n",
    "                cos = torch.nn.CosineSimilarity(dim=1, eps=1e-6)\n",
    "                score = cos(source_lift, features_for_aggregation.index_select(0, target))\n",
    "                exp_score = torch.exp(score)\n",
    "                summed_exp_score = torch.zeros_like(exp_score).scatter(0, target,exp_score, reduce=\"add\")\n",
    "                target_lifted_summed_exp_score = summed_exp_score.index_select(0, self.edge_index[1])\n",
    "                normalized_scores = exp_score / target_lifted_summed_exp_score\n",
    "                source_lift = normalized_scores.unsqueeze(1) * source_lift\n",
    "            \n",
    "            summed_neighbors = torch.zeros_like(features_for_aggregation, device=self.device).scatter(0, target.unsqueeze(0).repeat(features_for_aggregation.shape[1], 1).t(), source_lift, reduce=\"add\")\n",
    "            multiplied_neighbors = torch.ones_like(features_for_aggregation, device=self.device).scatter(0, target.unsqueeze(0).repeat(features_for_aggregation.shape[1], 1).t(), source_lift, reduce=\"multiply\")\n",
    "\n",
    "            num_source_neighbors = torch.zeros(features_for_aggregation.shape[0], dtype=torch.float, device=self.device)\n",
    "            num_source_neighbors.scatter_(0, target, torch.ones_like(target, dtype=torch.float, device=self.device), reduce=\"add\")\n",
    "            num_source_neighbors = num_source_neighbors.unsqueeze(-1)\n",
    "\n",
    "            out = self.user_function(self.features,features_for_aggregation,\n",
    "                                     summed_neighbors, multiplied_neighbors, num_source_neighbors)\n",
    "            \n",
    "            if self.handle_nan is not None:\n",
    "                out = torch.nan_to_num(out, nan=self.handle_nan)\n",
    "            features_for_aggregation = out\n",
    "        new_features = torch.concat((self.features, features_for_aggregation), dim = 1) if self.concat else torch.add(self.features, features_for_aggregation)\n",
    "        return new_features\n",
    "            \n",
    "        \n",
    "    "
   ]
  },
  {
   "cell_type": "code",
   "execution_count": 243,
   "id": "5c068620",
   "metadata": {},
   "outputs": [],
   "source": [
    "import numpy\n",
    "def user_function(origin_features, updated_features, sum_neighbors, mul_neighbors, num_neighbors, score):\n",
    "    return sum_neighbors / num_neighbors##is this incorporating all neigbors? ##TODO check"
   ]
  },
  {
   "cell_type": "code",
   "execution_count": 244,
   "id": "54aed2d6",
   "metadata": {},
   "outputs": [
    {
     "name": "stdout",
     "output_type": "stream",
     "text": [
      "tensor([1.0000, 0.8161, 0.8161, 1.0000], device='cuda:0')\n"
     ]
    },
    {
     "data": {
      "text/plain": [
       "array([[ 0.        ,  1.        ,  2.        ,  0.06815251,  0.07486726,\n",
       "         0.07486726],\n",
       "       [ 2.        ,  4.        ,  8.        ,  0.        ,  0.        ,\n",
       "         0.        ],\n",
       "       [ 4.        ,  8.        , 16.        ,  0.8728715 ,  0.87157553,\n",
       "         0.87157553],\n",
       "       [ 8.        , 16.        , 32.        ,  0.        ,  0.        ,\n",
       "         0.        ]], dtype=float32)"
      ]
     },
     "execution_count": 244,
     "metadata": {},
     "output_type": "execute_result"
    }
   ],
   "source": [
    "## small test case\n",
    "edge_index = torch.tensor([[0,1,2,3], [0,0,0, 2]], dtype=torch.long)\n",
    "X_f = torch.tensor([[0,1,2], [2,4,8],[4,8,16], [8,16,32]], dtype=torch.float)\n",
    "test_framework = Framework(X_f, edge_index, user_function,handle_nan=0,concat =True, gpu_idx=0)\n",
    "X_new_f = test_framework.aggregate(1).cpu().numpy()\n",
    "X_new_f"
   ]
  },
  {
   "cell_type": "code",
   "execution_count": 101,
   "id": "47306adc",
   "metadata": {
    "scrolled": true
   },
   "outputs": [
    {
     "ename": "NameError",
     "evalue": "name 'data' is not defined",
     "output_type": "error",
     "traceback": [
      "\u001b[0;31m---------------------------------------------------------------------------\u001b[0m",
      "\u001b[0;31mNameError\u001b[0m                                 Traceback (most recent call last)",
      "Cell \u001b[0;32mIn[101], line 3\u001b[0m\n\u001b[1;32m      1\u001b[0m \u001b[38;5;28;01mfrom\u001b[39;00m \u001b[38;5;21;01mdataAnalysis\u001b[39;00m\u001b[38;5;21;01m.\u001b[39;00m\u001b[38;5;21;01mConstants\u001b[39;00m \u001b[38;5;28;01mimport\u001b[39;00m FEATURES, LABEL_COLUMN_NAME\n\u001b[0;32m----> 3\u001b[0m train_mask \u001b[38;5;241m=\u001b[39m \u001b[43mdata\u001b[49m[\u001b[38;5;124m\"\u001b[39m\u001b[38;5;124mSet\u001b[39m\u001b[38;5;124m\"\u001b[39m] \u001b[38;5;241m==\u001b[39m \u001b[38;5;124m\"\u001b[39m\u001b[38;5;124mTraining\u001b[39m\u001b[38;5;124m\"\u001b[39m\n\u001b[1;32m      4\u001b[0m X_train \u001b[38;5;241m=\u001b[39m data\u001b[38;5;241m.\u001b[39mloc[train_mask, FEATURES]\u001b[38;5;241m.\u001b[39mvalues\n\u001b[1;32m      5\u001b[0m y_train \u001b[38;5;241m=\u001b[39m data\u001b[38;5;241m.\u001b[39mloc[train_mask, LABEL_COLUMN_NAME]\u001b[38;5;241m.\u001b[39mvalues\n",
      "\u001b[0;31mNameError\u001b[0m: name 'data' is not defined"
     ]
    }
   ],
   "source": [
    "from dataAnalysis.Constants import FEATURES, LABEL_COLUMN_NAME\n",
    "\n",
    "train_mask = data[\"Set\"] == \"Training\"\n",
    "X_train = data.loc[train_mask, FEATURES].values\n",
    "y_train = data.loc[train_mask, LABEL_COLUMN_NAME].values\n",
    "\n",
    "test_mask = (data[\"Set\"] == \"Validation\") & (data[\"Center\"] == \"Leipzig\")\n",
    "X_test = data.loc[test_mask, FEATURES].values\n",
    "y_test = data.loc[test_mask, LABEL_COLUMN_NAME].values\n",
    "\n",
    "test_gw_mask = (data[\"Set\"] == \"Validation\") & (data[\"Center\"] == \"Greifswald\")\n",
    "X_test_gw = data.loc[test_gw_mask, FEATURES].values\n",
    "y_test_gw = data.loc[test_gw_mask, LABEL_COLUMN_NAME].values"
   ]
  },
  {
   "cell_type": "code",
   "execution_count": null,
   "id": "2cb54972",
   "metadata": {},
   "outputs": [],
   "source": [
    "def reverse_edge_index(edge_index):\n",
    "    rev_edge_index = torch.zeros_like(edge_index)\n",
    "    index = torch.LongTensor([1,0])\n",
    "    rev_edge_index[index] = edge_index\n",
    "    return rev_edge_index"
   ]
  },
  {
   "cell_type": "code",
   "execution_count": null,
   "id": "d516c394",
   "metadata": {},
   "outputs": [],
   "source": [
    "rev_train_edge_index = reverse_edge_index(train_edge_index)\n",
    "rev_test_edge_index = reverse_edge_index(test_edge_index)\n",
    "rev_test_gw_edge_index = reverse_edge_index(test_gw_edge_index)"
   ]
  },
  {
   "cell_type": "code",
   "execution_count": 305,
   "id": "79e45058",
   "metadata": {},
   "outputs": [
    {
     "ename": "NameError",
     "evalue": "name 'train_edge_index' is not defined",
     "output_type": "error",
     "traceback": [
      "\u001b[0;31m---------------------------------------------------------------------------\u001b[0m",
      "\u001b[0;31mNameError\u001b[0m                                 Traceback (most recent call last)",
      "Cell \u001b[0;32mIn[305], line 2\u001b[0m\n\u001b[1;32m      1\u001b[0m \u001b[38;5;28;01mfrom\u001b[39;00m \u001b[38;5;21;01mtorch_geometric\u001b[39;00m\u001b[38;5;21;01m.\u001b[39;00m\u001b[38;5;21;01mutils\u001b[39;00m \u001b[38;5;28;01mimport\u001b[39;00m to_undirected\n\u001b[0;32m----> 2\u001b[0m undir_train_edge_index \u001b[38;5;241m=\u001b[39m to_undirected(\u001b[43mtrain_edge_index\u001b[49m)\n\u001b[1;32m      3\u001b[0m undir_test_edge_index \u001b[38;5;241m=\u001b[39m to_undirected(test_edge_index)\n\u001b[1;32m      4\u001b[0m undir_test_gw_edge_index \u001b[38;5;241m=\u001b[39m to_undirected(test_gw_edge_index)\n",
      "\u001b[0;31mNameError\u001b[0m: name 'train_edge_index' is not defined"
     ]
    }
   ],
   "source": [
    "from torch_geometric.utils import to_undirected\n",
    "undir_train_edge_index = to_undirected(train_edge_index)\n",
    "undir_test_edge_index = to_undirected(test_edge_index)\n",
    "undir_test_gw_edge_index = to_undirected(test_gw_edge_index)"
   ]
  },
  {
   "cell_type": "code",
   "execution_count": 163,
   "id": "9a767af3",
   "metadata": {},
   "outputs": [],
   "source": [
    "framework_train = Framework(X_train, undir_train_edge_index, user_function,handle_nan=0,concat =True, gpu_idx=0)\n",
    "framework_test = Framework(X_test, undir_test_edge_index, user_function,handle_nan=0,concat =True, gpu_idx=0)\n",
    "framework_test_gw = Framework(X_test_gw, undir_test_gw_edge_index, user_function,handle_nan=0,concat =True, gpu_idx=0)"
   ]
  },
  {
   "cell_type": "code",
   "execution_count": 164,
   "id": "69f892bd",
   "metadata": {},
   "outputs": [],
   "source": [
    "X_train = framework_train.aggregate(hops=1).cpu().numpy()\n",
    "X_test = framework_test.aggregate(hops=1).cpu().numpy()\n",
    "X_test_gw = framework_test_gw.aggregate(hops=1).cpu().numpy()"
   ]
  },
  {
   "cell_type": "markdown",
   "id": "03e58692",
   "metadata": {},
   "source": [
    "## Random forest"
   ]
  },
  {
   "cell_type": "code",
   "execution_count": 165,
   "id": "e891e9fe",
   "metadata": {},
   "outputs": [],
   "source": [
    "from dataAnalysis.Metrics import Evaluation\n",
    "\n",
    "evaluation = Evaluation(y_test, y_test_gw, X_test, X_test_gw)"
   ]
  },
  {
   "cell_type": "code",
   "execution_count": 166,
   "id": "8fcd60fc",
   "metadata": {},
   "outputs": [
    {
     "name": "stdout",
     "output_type": "stream",
     "text": [
      "20.86803388595581\n",
      "         Name       MCC  F1-Micro  F1-Macro  F1-Binary     AUROC     AUPRC\n",
      "0     Leipzig  0.083075  0.928752  0.493555   0.024083  0.901749  0.041736\n",
      "1  Greifswald  0.074864  0.953052  0.499516   0.023085  0.881209  0.038466\n",
      "[0.08422749 0.00898844 0.05745031 0.36313595 0.06286337 0.02743558\n",
      " 0.1078364  0.00139719 0.         0.05872383 0.07187648 0.06400507\n",
      " 0.03440521 0.05765468]\n"
     ]
    },
    {
     "data": {
      "image/png": "[encoded data removed]",
      "text/plain": [
       "<Figure size 640x480 with 2 Axes>"
      ]
     },
     "metadata": {},
     "output_type": "display_data"
    }
   ],
   "source": [
    "from sklearn.ensemble import RandomForestClassifier\n",
    "import time\n",
    "start = time.time()\n",
    "random_forest = RandomForestClassifier(class_weight={0: 0.0025, 1: 1}, max_leaf_nodes=79,\n",
    "                           min_samples_leaf=0.0001,\n",
    "                           min_samples_split=0.0055,\n",
    "                           n_estimators=500, random_state=42, n_jobs=-1)\n",
    "random_forest.fit(X_train, y_train)\n",
    "print(time.time() -start)\n",
    "print(evaluation.get_df_metrics(random_forest))\n",
    "evaluation.plot_confusion_matrix(random_forest)\n",
    "print(random_forest.feature_importances_)"
   ]
  },
  {
   "cell_type": "markdown",
   "id": "0caf4406",
   "metadata": {},
   "source": [
    "## Cora experiments"
   ]
  },
  {
   "cell_type": "code",
   "execution_count": 3,
   "id": "899da3aa",
   "metadata": {},
   "outputs": [],
   "source": [
    "##this will lead to problems -> lets see if i can fix them e.g. with dimension reduction techniques or some other ideas\n",
    "from torch_geometric.datasets import Planetoid\n",
    "dataset = Planetoid(root='/tmp/Cora', name='Cora', num_val=0)"
   ]
  },
  {
   "cell_type": "code",
   "execution_count": 4,
   "id": "63ff01af",
   "metadata": {},
   "outputs": [
    {
     "data": {
      "text/plain": [
       "torch.Size([2708, 1433])"
      ]
     },
     "execution_count": 4,
     "metadata": {},
     "output_type": "execute_result"
    }
   ],
   "source": [
    "dataset[0].x.shape"
   ]
  },
  {
   "cell_type": "code",
   "execution_count": 5,
   "id": "8c066fde",
   "metadata": {},
   "outputs": [],
   "source": [
    "X = dataset[0].x\n",
    "y = dataset[0].y\n",
    "\n",
    "test = dataset[0].test_mask\n",
    "# val = dataset[0].val_mask\n",
    "train = ~test#dataset[0].train_mask\n",
    "\n",
    "y_train = y[train]\n",
    "# y_val = y[val]\n",
    "y_test = y[test]"
   ]
  },
  {
   "cell_type": "code",
   "execution_count": 6,
   "id": "558ae0cf",
   "metadata": {},
   "outputs": [
    {
     "data": {
      "text/plain": [
       "tensor(1708)"
      ]
     },
     "execution_count": 6,
     "metadata": {},
     "output_type": "execute_result"
    }
   ],
   "source": [
    "train.sum()"
   ]
  },
  {
   "cell_type": "code",
   "execution_count": 7,
   "id": "3dd2bfc6",
   "metadata": {},
   "outputs": [
    {
     "data": {
      "text/plain": [
       "0.9992481972551757"
      ]
     },
     "execution_count": 7,
     "metadata": {},
     "output_type": "execute_result"
    }
   ],
   "source": [
    "import numpy as np\n",
    "from sklearn.datasets import make_friedman1\n",
    "from sklearn.decomposition import SparsePCA\n",
    "\n",
    "transformer = SparsePCA(n_components=750, random_state=0)\n",
    "transformer.fit(X)\n",
    "X_transformed = transformer.transform(X)\n",
    "X_transformed.shape\n",
    "# # most values in the components_ are zero (sparsity)\n",
    "np.mean(transformer.components_ == 0)"
   ]
  },
  {
   "cell_type": "code",
   "execution_count": 8,
   "id": "2dcef79f",
   "metadata": {},
   "outputs": [
    {
     "data": {
      "text/plain": [
       "array([ 9., 23., 19., ..., 18., 14., 13.], dtype=float32)"
      ]
     },
     "execution_count": 8,
     "metadata": {},
     "output_type": "execute_result"
    }
   ],
   "source": [
    "np.sum(X.numpy(), axis=1)"
   ]
  },
  {
   "cell_type": "code",
   "execution_count": 9,
   "id": "9eb721a6",
   "metadata": {},
   "outputs": [],
   "source": [
    "X_pca = transformer.transform(X)"
   ]
  },
  {
   "cell_type": "code",
   "execution_count": 10,
   "id": "5a73c7b1",
   "metadata": {},
   "outputs": [
    {
     "data": {
      "text/plain": [
       "(2708, 750)"
      ]
     },
     "execution_count": 10,
     "metadata": {},
     "output_type": "execute_result"
    }
   ],
   "source": [
    "X_pca.shape"
   ]
  },
  {
   "cell_type": "code",
   "execution_count": 300,
   "id": "ebb2d719",
   "metadata": {},
   "outputs": [],
   "source": [
    "import numpy\n",
    "def user_function(origin_features, updated_features, sum_neighbors, mul_neighbors, num_neighbors):\n",
    "    return updated_features + sum_neighbors/num_neighbors ##is this incorporating all neigbors? ##TODO check"
   ]
  },
  {
   "cell_type": "code",
   "execution_count": 301,
   "id": "f6fa4af6",
   "metadata": {},
   "outputs": [],
   "source": [
    "cora_framework = Framework(X, dataset[0].edge_index, user_function,handle_nan=0,concat =True, gpu_idx=0, normalize=True, use_pseudo_attention=True)\n",
    "X_new = cora_framework.aggregate(2).cpu().numpy()"
   ]
  },
  {
   "cell_type": "code",
   "execution_count": 302,
   "id": "86ea1665",
   "metadata": {},
   "outputs": [],
   "source": [
    "X_train = X_new[train]\n",
    "# X_val = X_new[val]\n",
    "X_test = X_new[test]"
   ]
  },
  {
   "cell_type": "code",
   "execution_count": 303,
   "id": "96046d40",
   "metadata": {},
   "outputs": [
    {
     "data": {
      "text/plain": [
       "(1708, 2866)"
      ]
     },
     "execution_count": 303,
     "metadata": {},
     "output_type": "execute_result"
    }
   ],
   "source": [
    "X_train.shape"
   ]
  },
  {
   "cell_type": "code",
   "execution_count": 304,
   "id": "e79996ef",
   "metadata": {},
   "outputs": [
    {
     "data": {
      "text/plain": [
       "(1000, 2866)"
      ]
     },
     "execution_count": 304,
     "metadata": {},
     "output_type": "execute_result"
    }
   ],
   "source": [
    "X_test.shape"
   ]
  },
  {
   "cell_type": "code",
   "execution_count": 305,
   "id": "ef1bfa92",
   "metadata": {},
   "outputs": [
    {
     "data": {
      "text/html": [
       "<style>#sk-container-id-27 {color: black;}#sk-container-id-27 pre{padding: 0;}#sk-container-id-27 div.sk-toggleable {background-color: white;}#sk-container-id-27 label.sk-toggleable__label {cursor: pointer;display: block;width: 100%;margin-bottom: 0;padding: 0.3em;box-sizing: border-box;text-align: center;}#sk-container-id-27 label.sk-toggleable__label-arrow:before {content: \"▸\";float: left;margin-right: 0.25em;color: #696969;}#sk-container-id-27 label.sk-toggleable__label-arrow:hover:before {color: black;}#sk-container-id-27 div.sk-estimator:hover label.sk-toggleable__label-arrow:before {color: black;}#sk-container-id-27 div.sk-toggleable__content {max-height: 0;max-width: 0;overflow: hidden;text-align: left;background-color: #f0f8ff;}#sk-container-id-27 div.sk-toggleable__content pre {margin: 0.2em;color: black;border-radius: 0.25em;background-color: #f0f8ff;}#sk-container-id-27 input.sk-toggleable__control:checked~div.sk-toggleable__content {max-height: 200px;max-width: 100%;overflow: auto;}#sk-container-id-27 input.sk-toggleable__control:checked~label.sk-toggleable__label-arrow:before {content: \"▾\";}#sk-container-id-27 div.sk-estimator input.sk-toggleable__control:checked~label.sk-toggleable__label {background-color: #d4ebff;}#sk-container-id-27 div.sk-label input.sk-toggleable__control:checked~label.sk-toggleable__label {background-color: #d4ebff;}#sk-container-id-27 input.sk-hidden--visually {border: 0;clip: rect(1px 1px 1px 1px);clip: rect(1px, 1px, 1px, 1px);height: 1px;margin: -1px;overflow: hidden;padding: 0;position: absolute;width: 1px;}#sk-container-id-27 div.sk-estimator {font-family: monospace;background-color: #f0f8ff;border: 1px dotted black;border-radius: 0.25em;box-sizing: border-box;margin-bottom: 0.5em;}#sk-container-id-27 div.sk-estimator:hover {background-color: #d4ebff;}#sk-container-id-27 div.sk-parallel-item::after {content: \"\";width: 100%;border-bottom: 1px solid gray;flex-grow: 1;}#sk-container-id-27 div.sk-label:hover label.sk-toggleable__label {background-color: #d4ebff;}#sk-container-id-27 div.sk-serial::before {content: \"\";position: absolute;border-left: 1px solid gray;box-sizing: border-box;top: 0;bottom: 0;left: 50%;z-index: 0;}#sk-container-id-27 div.sk-serial {display: flex;flex-direction: column;align-items: center;background-color: white;padding-right: 0.2em;padding-left: 0.2em;position: relative;}#sk-container-id-27 div.sk-item {position: relative;z-index: 1;}#sk-container-id-27 div.sk-parallel {display: flex;align-items: stretch;justify-content: center;background-color: white;position: relative;}#sk-container-id-27 div.sk-item::before, #sk-container-id-27 div.sk-parallel-item::before {content: \"\";position: absolute;border-left: 1px solid gray;box-sizing: border-box;top: 0;bottom: 0;left: 50%;z-index: -1;}#sk-container-id-27 div.sk-parallel-item {display: flex;flex-direction: column;z-index: 1;position: relative;background-color: white;}#sk-container-id-27 div.sk-parallel-item:first-child::after {align-self: flex-end;width: 50%;}#sk-container-id-27 div.sk-parallel-item:last-child::after {align-self: flex-start;width: 50%;}#sk-container-id-27 div.sk-parallel-item:only-child::after {width: 0;}#sk-container-id-27 div.sk-dashed-wrapped {border: 1px dashed gray;margin: 0 0.4em 0.5em 0.4em;box-sizing: border-box;padding-bottom: 0.4em;background-color: white;}#sk-container-id-27 div.sk-label label {font-family: monospace;font-weight: bold;display: inline-block;line-height: 1.2em;}#sk-container-id-27 div.sk-label-container {text-align: center;}#sk-container-id-27 div.sk-container {/* jupyter's `normalize.less` sets `[hidden] { display: none; }` but bootstrap.min.css set `[hidden] { display: none !important; }` so we also need the `!important` here to be able to override the default hidden behavior on the sphinx rendered scikit-learn.org. See: https://github.com/scikit-learn/scikit-learn/issues/21755 */display: inline-block !important;position: relative;}#sk-container-id-27 div.sk-text-repr-fallback {display: none;}</style><div id=\"sk-container-id-27\" class=\"sk-top-container\"><div class=\"sk-text-repr-fallback\"><pre>RandomForestClassifier(class_weight=&#x27;balanced&#x27;, max_leaf_nodes=50,\n",
       "                       min_samples_leaf=0.02, n_estimators=600, n_jobs=-1,\n",
       "                       random_state=42)</pre><b>In a Jupyter environment, please rerun this cell to show the HTML representation or trust the notebook. <br />On GitHub, the HTML representation is unable to render, please try loading this page with nbviewer.org.</b></div><div class=\"sk-container\" hidden><div class=\"sk-item\"><div class=\"sk-estimator sk-toggleable\"><input class=\"sk-toggleable__control sk-hidden--visually\" id=\"sk-estimator-id-27\" type=\"checkbox\" checked><label for=\"sk-estimator-id-27\" class=\"sk-toggleable__label sk-toggleable__label-arrow\">RandomForestClassifier</label><div class=\"sk-toggleable__content\"><pre>RandomForestClassifier(class_weight=&#x27;balanced&#x27;, max_leaf_nodes=50,\n",
       "                       min_samples_leaf=0.02, n_estimators=600, n_jobs=-1,\n",
       "                       random_state=42)</pre></div></div></div></div></div>"
      ],
      "text/plain": [
       "RandomForestClassifier(class_weight='balanced', max_leaf_nodes=50,\n",
       "                       min_samples_leaf=0.02, n_estimators=600, n_jobs=-1,\n",
       "                       random_state=42)"
      ]
     },
     "execution_count": 305,
     "metadata": {},
     "output_type": "execute_result"
    }
   ],
   "source": [
    "from sklearn.ensemble import RandomForestClassifier\n",
    "import time\n",
    "start = time.time()\n",
    "random_forest = RandomForestClassifier(n_jobs=-1, random_state=42, class_weight='balanced', n_estimators=600, max_leaf_nodes=50,\n",
    "                                      min_samples_leaf=.02)\n",
    "random_forest.fit(X_train, y_train)"
   ]
  },
  {
   "cell_type": "code",
   "execution_count": 331,
   "id": "1506a524",
   "metadata": {},
   "outputs": [
    {
     "name": "stdout",
     "output_type": "stream",
     "text": [
      "[08:10:40] WARNING: ../src/learner.cc:767: \n",
      "Parameters: { \"scale_pos_weight\" } are not used.\n",
      "\n"
     ]
    },
    {
     "data": {
      "text/html": [
       "<style>#sk-container-id-30 {color: black;}#sk-container-id-30 pre{padding: 0;}#sk-container-id-30 div.sk-toggleable {background-color: white;}#sk-container-id-30 label.sk-toggleable__label {cursor: pointer;display: block;width: 100%;margin-bottom: 0;padding: 0.3em;box-sizing: border-box;text-align: center;}#sk-container-id-30 label.sk-toggleable__label-arrow:before {content: \"▸\";float: left;margin-right: 0.25em;color: #696969;}#sk-container-id-30 label.sk-toggleable__label-arrow:hover:before {color: black;}#sk-container-id-30 div.sk-estimator:hover label.sk-toggleable__label-arrow:before {color: black;}#sk-container-id-30 div.sk-toggleable__content {max-height: 0;max-width: 0;overflow: hidden;text-align: left;background-color: #f0f8ff;}#sk-container-id-30 div.sk-toggleable__content pre {margin: 0.2em;color: black;border-radius: 0.25em;background-color: #f0f8ff;}#sk-container-id-30 input.sk-toggleable__control:checked~div.sk-toggleable__content {max-height: 200px;max-width: 100%;overflow: auto;}#sk-container-id-30 input.sk-toggleable__control:checked~label.sk-toggleable__label-arrow:before {content: \"▾\";}#sk-container-id-30 div.sk-estimator input.sk-toggleable__control:checked~label.sk-toggleable__label {background-color: #d4ebff;}#sk-container-id-30 div.sk-label input.sk-toggleable__control:checked~label.sk-toggleable__label {background-color: #d4ebff;}#sk-container-id-30 input.sk-hidden--visually {border: 0;clip: rect(1px 1px 1px 1px);clip: rect(1px, 1px, 1px, 1px);height: 1px;margin: -1px;overflow: hidden;padding: 0;position: absolute;width: 1px;}#sk-container-id-30 div.sk-estimator {font-family: monospace;background-color: #f0f8ff;border: 1px dotted black;border-radius: 0.25em;box-sizing: border-box;margin-bottom: 0.5em;}#sk-container-id-30 div.sk-estimator:hover {background-color: #d4ebff;}#sk-container-id-30 div.sk-parallel-item::after {content: \"\";width: 100%;border-bottom: 1px solid gray;flex-grow: 1;}#sk-container-id-30 div.sk-label:hover label.sk-toggleable__label {background-color: #d4ebff;}#sk-container-id-30 div.sk-serial::before {content: \"\";position: absolute;border-left: 1px solid gray;box-sizing: border-box;top: 0;bottom: 0;left: 50%;z-index: 0;}#sk-container-id-30 div.sk-serial {display: flex;flex-direction: column;align-items: center;background-color: white;padding-right: 0.2em;padding-left: 0.2em;position: relative;}#sk-container-id-30 div.sk-item {position: relative;z-index: 1;}#sk-container-id-30 div.sk-parallel {display: flex;align-items: stretch;justify-content: center;background-color: white;position: relative;}#sk-container-id-30 div.sk-item::before, #sk-container-id-30 div.sk-parallel-item::before {content: \"\";position: absolute;border-left: 1px solid gray;box-sizing: border-box;top: 0;bottom: 0;left: 50%;z-index: -1;}#sk-container-id-30 div.sk-parallel-item {display: flex;flex-direction: column;z-index: 1;position: relative;background-color: white;}#sk-container-id-30 div.sk-parallel-item:first-child::after {align-self: flex-end;width: 50%;}#sk-container-id-30 div.sk-parallel-item:last-child::after {align-self: flex-start;width: 50%;}#sk-container-id-30 div.sk-parallel-item:only-child::after {width: 0;}#sk-container-id-30 div.sk-dashed-wrapped {border: 1px dashed gray;margin: 0 0.4em 0.5em 0.4em;box-sizing: border-box;padding-bottom: 0.4em;background-color: white;}#sk-container-id-30 div.sk-label label {font-family: monospace;font-weight: bold;display: inline-block;line-height: 1.2em;}#sk-container-id-30 div.sk-label-container {text-align: center;}#sk-container-id-30 div.sk-container {/* jupyter's `normalize.less` sets `[hidden] { display: none; }` but bootstrap.min.css set `[hidden] { display: none !important; }` so we also need the `!important` here to be able to override the default hidden behavior on the sphinx rendered scikit-learn.org. See: https://github.com/scikit-learn/scikit-learn/issues/21755 */display: inline-block !important;position: relative;}#sk-container-id-30 div.sk-text-repr-fallback {display: none;}</style><div id=\"sk-container-id-30\" class=\"sk-top-container\"><div class=\"sk-text-repr-fallback\"><pre>XGBClassifier(base_score=None, booster=None, callbacks=None,\n",
       "              colsample_bylevel=None, colsample_bynode=None,\n",
       "              colsample_bytree=None, early_stopping_rounds=None,\n",
       "              enable_categorical=False, eta=0.1, eval_metric=None,\n",
       "              feature_types=None, gamma=None, gpu_id=None, grow_policy=None,\n",
       "              importance_type=None, interaction_constraints=None,\n",
       "              learning_rate=None, max_bin=None, max_cat_threshold=None,\n",
       "              max_cat_to_onehot=None, max_delta_step=7, max_depth=2,\n",
       "              max_leaves=None, min_child_weight=7, missing=nan,\n",
       "              monotone_constraints=None, n_estimators=1000, n_jobs=None,\n",
       "              num_parallel_tree=None, objective=&#x27;multi:softprob&#x27;, ...)</pre><b>In a Jupyter environment, please rerun this cell to show the HTML representation or trust the notebook. <br />On GitHub, the HTML representation is unable to render, please try loading this page with nbviewer.org.</b></div><div class=\"sk-container\" hidden><div class=\"sk-item\"><div class=\"sk-estimator sk-toggleable\"><input class=\"sk-toggleable__control sk-hidden--visually\" id=\"sk-estimator-id-30\" type=\"checkbox\" checked><label for=\"sk-estimator-id-30\" class=\"sk-toggleable__label sk-toggleable__label-arrow\">XGBClassifier</label><div class=\"sk-toggleable__content\"><pre>XGBClassifier(base_score=None, booster=None, callbacks=None,\n",
       "              colsample_bylevel=None, colsample_bynode=None,\n",
       "              colsample_bytree=None, early_stopping_rounds=None,\n",
       "              enable_categorical=False, eta=0.1, eval_metric=None,\n",
       "              feature_types=None, gamma=None, gpu_id=None, grow_policy=None,\n",
       "              importance_type=None, interaction_constraints=None,\n",
       "              learning_rate=None, max_bin=None, max_cat_threshold=None,\n",
       "              max_cat_to_onehot=None, max_delta_step=7, max_depth=2,\n",
       "              max_leaves=None, min_child_weight=7, missing=nan,\n",
       "              monotone_constraints=None, n_estimators=1000, n_jobs=None,\n",
       "              num_parallel_tree=None, objective=&#x27;multi:softprob&#x27;, ...)</pre></div></div></div></div></div>"
      ],
      "text/plain": [
       "XGBClassifier(base_score=None, booster=None, callbacks=None,\n",
       "              colsample_bylevel=None, colsample_bynode=None,\n",
       "              colsample_bytree=None, early_stopping_rounds=None,\n",
       "              enable_categorical=False, eta=0.1, eval_metric=None,\n",
       "              feature_types=None, gamma=None, gpu_id=None, grow_policy=None,\n",
       "              importance_type=None, interaction_constraints=None,\n",
       "              learning_rate=None, max_bin=None, max_cat_threshold=None,\n",
       "              max_cat_to_onehot=None, max_delta_step=7, max_depth=2,\n",
       "              max_leaves=None, min_child_weight=7, missing=nan,\n",
       "              monotone_constraints=None, n_estimators=1000, n_jobs=None,\n",
       "              num_parallel_tree=None, objective='multi:softprob', ...)"
      ]
     },
     "execution_count": 331,
     "metadata": {},
     "output_type": "execute_result"
    }
   ],
   "source": [
    "from xgboost import XGBClassifier\n",
    "from sklearn.utils.class_weight import compute_class_weight\n",
    "\n",
    "# calculate class weights based on the training data\n",
    "# class_weights = compute_class_weight('balanced', classes=[0, 1], y=y_train)\n",
    "\n",
    "bst = XGBClassifier( tree_method='gpu_hist', \n",
    "                           n_estimators=1000,\n",
    "                           max_depth=2,\n",
    "                           eta=0.1,\n",
    "                           min_child_weight = 7,\n",
    "                           max_delta_step= 7,\n",
    "                           sampling_method= \"uniform\")\n",
    "bst.fit(X_train, y_train)"
   ]
  },
  {
   "cell_type": "code",
   "execution_count": 318,
   "id": "2cf75e06",
   "metadata": {},
   "outputs": [
    {
     "data": {
      "text/plain": [
       "array([0, 1, 2, 3, 4, 5, 6])"
      ]
     },
     "execution_count": 318,
     "metadata": {},
     "output_type": "execute_result"
    }
   ],
   "source": [
    "np.unique(y_train)"
   ]
  },
  {
   "cell_type": "code",
   "execution_count": 325,
   "id": "040c1b2d",
   "metadata": {},
   "outputs": [
    {
     "data": {
      "text/plain": [
       "[0.12939110398292542,\n",
       " 0.07377049326896667,\n",
       " 0.16042155027389526,\n",
       " 0.29215458035469055,\n",
       " 0.16217797994613647,\n",
       " 0.11416862159967422,\n",
       " 0.06791569292545319]"
      ]
     },
     "execution_count": 325,
     "metadata": {},
     "output_type": "execute_result"
    }
   ],
   "source": [
    "weights = []\n",
    "for label in np.unique(y_train):\n",
    "    weight = (y_train == label).sum() / y_train.shape[0]\n",
    "    weights.append(weight.item())\n",
    "weights"
   ]
  },
  {
   "cell_type": "code",
   "execution_count": 337,
   "id": "3c214e2f",
   "metadata": {},
   "outputs": [
    {
     "data": {
      "text/plain": [
       "tensor(872)"
      ]
     },
     "execution_count": 337,
     "metadata": {},
     "output_type": "execute_result"
    }
   ],
   "source": [
    "np.equal(y_test, bst.predict(X_test)).sum()"
   ]
  },
  {
   "cell_type": "code",
   "execution_count": 338,
   "id": "315f1d52",
   "metadata": {},
   "outputs": [
    {
     "data": {
      "text/plain": [
       "1000"
      ]
     },
     "execution_count": 338,
     "metadata": {},
     "output_type": "execute_result"
    }
   ],
   "source": [
    "y_test.shape[0]"
   ]
  },
  {
   "cell_type": "code",
   "execution_count": 332,
   "id": "1caaa3f2",
   "metadata": {},
   "outputs": [
    {
     "name": "stdout",
     "output_type": "stream",
     "text": [
      "tensor(0.8720)\n"
     ]
    }
   ],
   "source": [
    "def validate():\n",
    "#     pred_val = random_forest.predict(X_val)\n",
    "    pred = bst.predict(X_test)\n",
    "#     print(np.equal(pred_val, y_val).sum() / y_val.shape[0])\n",
    "    print(np.equal(pred, y_test).sum() / y_test.shape[0])\n",
    "validate() "
   ]
  },
  {
   "cell_type": "code",
   "execution_count": 213,
   "id": "e624dd02",
   "metadata": {},
   "outputs": [],
   "source": [
    "## TODO:Test other algorithm (decision tree + XGBoost)"
   ]
  },
  {
   "cell_type": "markdown",
   "id": "b6b0119d",
   "metadata": {},
   "source": [
    "## Notes\n",
    "\n",
    "(Framework wird extrem kritisch hinterfragt wegen des curse of dimensionality)\n",
    "\n",
    "- Results of SBC similar to \"Edges are all you need\" without normalize and without pseudo-attention\n",
    "- Iterative aggregation through hops similar to GNN layer\n",
    "- Graph-awareness in ML Algorithms: with zero hops or just hop the acc drops a lot\n",
    "- Extremely fast computation wiith node lifting and torch scatter which can utilize a GPU\n",
    "- Even without SparsePCA high acc although number of features is now higher than number of nodes -> important for Ronalds Dataset (would still recommend implement dimensionality reduction in framework - before or after? aggregation part) -> potential reason: sparsity of cora features\n",
    "- solely \"feature engineering/manipulation\" (I do not change algorithmic details) -> fully compatible with scikit learn, xgboost, Rahuls DTP plugin"
   ]
  },
  {
   "cell_type": "code",
   "execution_count": 342,
   "id": "a8e3cf23",
   "metadata": {},
   "outputs": [],
   "source": [
    "from sklearn.model_selection import GridSearchCV\n",
    "\n",
    "def get_best_estimator(model, param_grid):\n",
    "    grid = GridSearchCV(\n",
    "    n_jobs=-1,\n",
    "    cv=10,\n",
    "    estimator=model,\n",
    "    scoring=['accuracy'],\n",
    "    refit=\"accuracy\",\n",
    "    return_train_score=True,\n",
    "    param_grid=param_grid,\n",
    "    verbose= 10\n",
    "    )\n",
    "    grid.fit(X_train, y_train)\n",
    "    return grid.best_estimator_\n",
    "    "
   ]
  },
  {
   "cell_type": "code",
   "execution_count": null,
   "id": "f0bf2cbe",
   "metadata": {},
   "outputs": [
    {
     "name": "stdout",
     "output_type": "stream",
     "text": [
      "Fitting 10 folds for each of 8550 candidates, totalling 85500 fits\n"
     ]
    }
   ],
   "source": [
    "from sklearn.ensemble import RandomForestClassifier\n",
    "param_grid={\n",
    "    'n_estimators': range(500, 1500, 100),\n",
    "    'max_depth':range(1,10, 1),#0 to 10\n",
    "    'eta':np.linspace(0.1, 1, 5),\n",
    "    'min_child_weight': range(1, 20, 1),\n",
    "                           \n",
    "    }\n",
    "xgb = get_best_estimator(XGBClassifier(random_state=42, tree_method='gpu_hist',sampling_method= \"uniform\",device=\"cuda\"),\n",
    "                                   param_grid)"
   ]
  },
  {
   "cell_type": "code",
   "execution_count": null,
   "id": "dd561ce6",
   "metadata": {},
   "outputs": [],
   "source": [
    "from sklearn.ensemble import RandomForestClassifier\n",
    "param_grid={\n",
    "        'n_estimators': range(200, 800, 100),\n",
    "         'max_leaf_nodes': range(10, 60, 10),\n",
    "        'min_samples_leaf': np.linspace(0.02, 0.3, 2, endpoint=True),\n",
    "    'class_weight':{\"balanced\"}\n",
    "    }\n",
    "random_forest = get_best_estimator(RandomForestClassifier(random_state=42), param_grid)"
   ]
  },
  {
   "cell_type": "code",
   "execution_count": 146,
   "id": "8794c4fa",
   "metadata": {},
   "outputs": [
    {
     "data": {
      "text/html": [
       "<style>#sk-container-id-19 {color: black;}#sk-container-id-19 pre{padding: 0;}#sk-container-id-19 div.sk-toggleable {background-color: white;}#sk-container-id-19 label.sk-toggleable__label {cursor: pointer;display: block;width: 100%;margin-bottom: 0;padding: 0.3em;box-sizing: border-box;text-align: center;}#sk-container-id-19 label.sk-toggleable__label-arrow:before {content: \"▸\";float: left;margin-right: 0.25em;color: #696969;}#sk-container-id-19 label.sk-toggleable__label-arrow:hover:before {color: black;}#sk-container-id-19 div.sk-estimator:hover label.sk-toggleable__label-arrow:before {color: black;}#sk-container-id-19 div.sk-toggleable__content {max-height: 0;max-width: 0;overflow: hidden;text-align: left;background-color: #f0f8ff;}#sk-container-id-19 div.sk-toggleable__content pre {margin: 0.2em;color: black;border-radius: 0.25em;background-color: #f0f8ff;}#sk-container-id-19 input.sk-toggleable__control:checked~div.sk-toggleable__content {max-height: 200px;max-width: 100%;overflow: auto;}#sk-container-id-19 input.sk-toggleable__control:checked~label.sk-toggleable__label-arrow:before {content: \"▾\";}#sk-container-id-19 div.sk-estimator input.sk-toggleable__control:checked~label.sk-toggleable__label {background-color: #d4ebff;}#sk-container-id-19 div.sk-label input.sk-toggleable__control:checked~label.sk-toggleable__label {background-color: #d4ebff;}#sk-container-id-19 input.sk-hidden--visually {border: 0;clip: rect(1px 1px 1px 1px);clip: rect(1px, 1px, 1px, 1px);height: 1px;margin: -1px;overflow: hidden;padding: 0;position: absolute;width: 1px;}#sk-container-id-19 div.sk-estimator {font-family: monospace;background-color: #f0f8ff;border: 1px dotted black;border-radius: 0.25em;box-sizing: border-box;margin-bottom: 0.5em;}#sk-container-id-19 div.sk-estimator:hover {background-color: #d4ebff;}#sk-container-id-19 div.sk-parallel-item::after {content: \"\";width: 100%;border-bottom: 1px solid gray;flex-grow: 1;}#sk-container-id-19 div.sk-label:hover label.sk-toggleable__label {background-color: #d4ebff;}#sk-container-id-19 div.sk-serial::before {content: \"\";position: absolute;border-left: 1px solid gray;box-sizing: border-box;top: 0;bottom: 0;left: 50%;z-index: 0;}#sk-container-id-19 div.sk-serial {display: flex;flex-direction: column;align-items: center;background-color: white;padding-right: 0.2em;padding-left: 0.2em;position: relative;}#sk-container-id-19 div.sk-item {position: relative;z-index: 1;}#sk-container-id-19 div.sk-parallel {display: flex;align-items: stretch;justify-content: center;background-color: white;position: relative;}#sk-container-id-19 div.sk-item::before, #sk-container-id-19 div.sk-parallel-item::before {content: \"\";position: absolute;border-left: 1px solid gray;box-sizing: border-box;top: 0;bottom: 0;left: 50%;z-index: -1;}#sk-container-id-19 div.sk-parallel-item {display: flex;flex-direction: column;z-index: 1;position: relative;background-color: white;}#sk-container-id-19 div.sk-parallel-item:first-child::after {align-self: flex-end;width: 50%;}#sk-container-id-19 div.sk-parallel-item:last-child::after {align-self: flex-start;width: 50%;}#sk-container-id-19 div.sk-parallel-item:only-child::after {width: 0;}#sk-container-id-19 div.sk-dashed-wrapped {border: 1px dashed gray;margin: 0 0.4em 0.5em 0.4em;box-sizing: border-box;padding-bottom: 0.4em;background-color: white;}#sk-container-id-19 div.sk-label label {font-family: monospace;font-weight: bold;display: inline-block;line-height: 1.2em;}#sk-container-id-19 div.sk-label-container {text-align: center;}#sk-container-id-19 div.sk-container {/* jupyter's `normalize.less` sets `[hidden] { display: none; }` but bootstrap.min.css set `[hidden] { display: none !important; }` so we also need the `!important` here to be able to override the default hidden behavior on the sphinx rendered scikit-learn.org. See: https://github.com/scikit-learn/scikit-learn/issues/21755 */display: inline-block !important;position: relative;}#sk-container-id-19 div.sk-text-repr-fallback {display: none;}</style><div id=\"sk-container-id-19\" class=\"sk-top-container\"><div class=\"sk-text-repr-fallback\"><pre>RandomForestClassifier(max_leaf_nodes=50, min_samples_leaf=0.020000000000000004,\n",
       "                       n_estimators=600, random_state=42)</pre><b>In a Jupyter environment, please rerun this cell to show the HTML representation or trust the notebook. <br />On GitHub, the HTML representation is unable to render, please try loading this page with nbviewer.org.</b></div><div class=\"sk-container\" hidden><div class=\"sk-item\"><div class=\"sk-estimator sk-toggleable\"><input class=\"sk-toggleable__control sk-hidden--visually\" id=\"sk-estimator-id-19\" type=\"checkbox\" checked><label for=\"sk-estimator-id-19\" class=\"sk-toggleable__label sk-toggleable__label-arrow\">RandomForestClassifier</label><div class=\"sk-toggleable__content\"><pre>RandomForestClassifier(max_leaf_nodes=50, min_samples_leaf=0.020000000000000004,\n",
       "                       n_estimators=600, random_state=42)</pre></div></div></div></div></div>"
      ],
      "text/plain": [
       "RandomForestClassifier(max_leaf_nodes=50, min_samples_leaf=0.020000000000000004,\n",
       "                       n_estimators=600, random_state=42)"
      ]
     },
     "execution_count": 146,
     "metadata": {},
     "output_type": "execute_result"
    }
   ],
   "source": [
    "random_forest"
   ]
  },
  {
   "cell_type": "code",
   "execution_count": 319,
   "id": "53e49693",
   "metadata": {},
   "outputs": [
    {
     "data": {
      "text/plain": [
       "(array([0, 1, 2, 3, 4, 5, 6]), array([221, 126, 274, 499, 277, 195, 116]))"
      ]
     },
     "execution_count": 319,
     "metadata": {},
     "output_type": "execute_result"
    }
   ],
   "source": [
    "np.unique(y_train.numpy(), return_counts=True)"
   ]
  },
  {
   "cell_type": "code",
   "execution_count": 202,
   "id": "7a5964bc",
   "metadata": {},
   "outputs": [
    {
     "data": {
      "text/plain": [
       "1000"
      ]
     },
     "execution_count": 202,
     "metadata": {},
     "output_type": "execute_result"
    }
   ],
   "source": [
    "y_test.shape[0]"
   ]
  },
  {
   "cell_type": "code",
   "execution_count": 39,
   "id": "e0706454",
   "metadata": {},
   "outputs": [],
   "source": [
    "edge_index = torch.tensor([[0,1,2, 0],\n",
    "                          [0,0,0, 2]], dtype=torch.long)"
   ]
  },
  {
   "cell_type": "code",
   "execution_count": 40,
   "id": "30b9403f",
   "metadata": {},
   "outputs": [],
   "source": [
    "features = torch.tensor([[1,2,3], [2,4,6], [4,8,12], [8, 16, 24]], dtype=torch.float)"
   ]
  },
  {
   "cell_type": "code",
   "execution_count": 41,
   "id": "db43e805",
   "metadata": {},
   "outputs": [],
   "source": [
    "framework = Framework(features, edge_index, user_function,handle_nan=0,concat =True, gpu_idx=0)"
   ]
  },
  {
   "cell_type": "code",
   "execution_count": 42,
   "id": "c6ebe7a6",
   "metadata": {},
   "outputs": [
    {
     "name": "stdout",
     "output_type": "stream",
     "text": [
      "tensor([[ 1.,  2.,  3.],\n",
      "        [ 2.,  4.,  6.],\n",
      "        [ 4.,  8., 12.],\n",
      "        [ 8., 16., 24.]], device='cuda:0')\n"
     ]
    },
    {
     "data": {
      "text/plain": [
       "tensor([[ 1.0000,  2.0000,  3.0000, -1.3333, -2.6667, -4.0000],\n",
       "        [ 2.0000,  4.0000,  6.0000,  0.0000,  0.0000,  0.0000],\n",
       "        [ 4.0000,  8.0000, 12.0000,  3.0000,  6.0000,  9.0000],\n",
       "        [ 8.0000, 16.0000, 24.0000,  0.0000,  0.0000,  0.0000]],\n",
       "       device='cuda:0')"
      ]
     },
     "execution_count": 42,
     "metadata": {},
     "output_type": "execute_result"
    }
   ],
   "source": [
    "framework.aggregate(1)"
   ]
  },
  {
   "cell_type": "code",
   "execution_count": 45,
   "id": "d2a530da",
   "metadata": {},
   "outputs": [
    {
     "name": "stdout",
     "output_type": "stream",
     "text": [
      "tensor([[ 1.,  2.,  3.],\n",
      "        [ 2.,  4.,  6.],\n",
      "        [ 4.,  8., 12.],\n",
      "        [ 8., 16., 24.]], device='cuda:0')\n",
      "tensor([[-1.3333, -2.6667, -4.0000],\n",
      "        [ 0.0000,  0.0000,  0.0000],\n",
      "        [ 3.0000,  6.0000,  9.0000],\n",
      "        [ 0.0000,  0.0000,  0.0000]], device='cuda:0')\n",
      "tensor([[-1.8889, -3.7778, -5.6667],\n",
      "        [ 0.0000,  0.0000,  0.0000],\n",
      "        [ 4.3333,  8.6667, 13.0000],\n",
      "        [ 0.0000,  0.0000,  0.0000]], device='cuda:0')\n",
      "tensor([[-2.7037, -5.4074, -8.1111],\n",
      "        [ 0.0000,  0.0000,  0.0000],\n",
      "        [ 6.2222, 12.4444, 18.6667],\n",
      "        [ 0.0000,  0.0000,  0.0000]], device='cuda:0')\n"
     ]
    },
    {
     "data": {
      "text/plain": [
       "tensor([[  1.0000,   2.0000,   3.0000,  -3.8765,  -7.7531, -11.6296],\n",
       "        [  2.0000,   4.0000,   6.0000,   0.0000,   0.0000,   0.0000],\n",
       "        [  4.0000,   8.0000,  12.0000,   8.9259,  17.8519,  26.7778],\n",
       "        [  8.0000,  16.0000,  24.0000,   0.0000,   0.0000,   0.0000]],\n",
       "       device='cuda:0')"
      ]
     },
     "execution_count": 45,
     "metadata": {},
     "output_type": "execute_result"
    }
   ],
   "source": [
    "framework.aggregate(4)"
   ]
  },
  {
   "cell_type": "code",
   "execution_count": 249,
   "id": "1ea7378c",
   "metadata": {},
   "outputs": [
    {
     "name": "stdout",
     "output_type": "stream",
     "text": [
      "Sleep\n",
      "Sleep\n",
      "Sleep\n"
     ]
    },
    {
     "ename": "KeyboardInterrupt",
     "evalue": "",
     "output_type": "error",
     "traceback": [
      "\u001b[0;31m---------------------------------------------------------------------------\u001b[0m",
      "\u001b[0;31mKeyboardInterrupt\u001b[0m                         Traceback (most recent call last)",
      "Cell \u001b[0;32mIn[249], line 4\u001b[0m\n\u001b[1;32m      2\u001b[0m \u001b[38;5;28;01mfor\u001b[39;00m i \u001b[38;5;129;01min\u001b[39;00m \u001b[38;5;28mrange\u001b[39m(\u001b[38;5;241m10000\u001b[39m):\n\u001b[1;32m      3\u001b[0m     \u001b[38;5;28mprint\u001b[39m(\u001b[38;5;124m\"\u001b[39m\u001b[38;5;124mSleep\u001b[39m\u001b[38;5;124m\"\u001b[39m)\n\u001b[0;32m----> 4\u001b[0m     \u001b[43mtime\u001b[49m\u001b[38;5;241;43m.\u001b[39;49m\u001b[43msleep\u001b[49m\u001b[43m(\u001b[49m\u001b[38;5;241;43m60\u001b[39;49m\u001b[43m)\u001b[49m\n",
      "\u001b[0;31mKeyboardInterrupt\u001b[0m: "
     ]
    }
   ],
   "source": [
    "import time\n",
    "for i in range(10000):\n",
    "    print(\"Sleep\")\n",
    "    time.sleep(60)"
   ]
  },
  {
   "cell_type": "code",
   "execution_count": null,
   "id": "65034654",
   "metadata": {},
   "outputs": [],
   "source": []
  }
 ],
 "metadata": {
  "kernelspec": {
   "display_name": "Python 3 (ipykernel)",
   "language": "python",
   "name": "python3"
  },
  "language_info": {
   "codemirror_mode": {
    "name": "ipython",
    "version": 3
   },
   "file_extension": ".py",
   "mimetype": "text/x-python",
   "name": "python",
   "nbconvert_exporter": "python",
   "pygments_lexer": "ipython3",
   "version": "3.10.12"
  }
 },
 "nbformat": 4,
 "nbformat_minor": 5
}
