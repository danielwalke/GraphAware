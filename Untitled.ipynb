{
 "cells": [
  {
   "cell_type": "code",
   "execution_count": 34,
   "id": "fd335cc5-d04c-4eb7-a54b-b02f806cffe0",
   "metadata": {},
   "outputs": [],
   "source": [
    "import sys\n",
    "import torch"
   ]
  },
  {
   "cell_type": "code",
   "execution_count": 35,
   "id": "d40f5058-1f2a-432c-9117-3ccb3c6193b8",
   "metadata": {},
   "outputs": [
    {
     "data": {
      "text/plain": [
       "80"
      ]
     },
     "execution_count": 35,
     "metadata": {},
     "output_type": "execute_result"
    }
   ],
   "source": [
    "sys.getsizeof(torch.rand(1000,80))"
   ]
  },
  {
   "cell_type": "code",
   "execution_count": 36,
   "id": "317d1c8d-4086-40a8-8191-f7009b23b012",
   "metadata": {},
   "outputs": [],
   "source": [
    "a = torch.rand(10000000,50, dtype= torch.float32)"
   ]
  },
  {
   "cell_type": "code",
   "execution_count": 37,
   "id": "3016422f-8fdf-4a07-bc4d-f0006d166280",
   "metadata": {},
   "outputs": [
    {
     "data": {
      "text/plain": [
       "2000000000"
      ]
     },
     "execution_count": 37,
     "metadata": {},
     "output_type": "execute_result"
    }
   ],
   "source": [
    "a.element_size() * a.nelement()"
   ]
  },
  {
   "cell_type": "code",
   "execution_count": 28,
   "id": "2416bbe4-87dd-4a97-bdef-41fd70b4599e",
   "metadata": {},
   "outputs": [
    {
     "data": {
      "text/plain": [
       "4"
      ]
     },
     "execution_count": 28,
     "metadata": {},
     "output_type": "execute_result"
    }
   ],
   "source": [
    "a.element_size()"
   ]
  },
  {
   "cell_type": "code",
   "execution_count": 29,
   "id": "5a8aa266-8766-47c2-aa37-67fca01b3f18",
   "metadata": {},
   "outputs": [
    {
     "data": {
      "text/plain": [
       "500000"
      ]
     },
     "execution_count": 29,
     "metadata": {},
     "output_type": "execute_result"
    }
   ],
   "source": [
    "a.nelement()"
   ]
  },
  {
   "cell_type": "code",
   "execution_count": 22,
   "id": "20c3b43f-6f5a-4604-a2ed-e3fc0d052236",
   "metadata": {},
   "outputs": [
    {
     "data": {
      "text/plain": [
       "tensor([[0.6799, 0.2265, 0.8907, 0.4180, 0.7792, 0.4337],\n",
       "        [0.6205, 0.9846, 0.5401, 0.4448, 0.2227, 0.0850],\n",
       "        [0.4019, 0.4345, 0.7977, 0.0177, 0.7471, 0.9207],\n",
       "        ...,\n",
       "        [0.6605, 0.5914, 0.0408, 0.7364, 0.8846, 0.0510],\n",
       "        [0.5087, 0.5145, 0.2373, 0.8704, 0.5006, 0.4347],\n",
       "        [0.0276, 0.2151, 0.0010, 0.1359, 0.8396, 0.1700]])"
      ]
     },
     "execution_count": 22,
     "metadata": {},
     "output_type": "execute_result"
    }
   ],
   "source": [
    "a"
   ]
  },
  {
   "cell_type": "code",
   "execution_count": null,
   "id": "c7ca20fd-d430-4cf2-b12d-e2792ea04af5",
   "metadata": {},
   "outputs": [],
   "source": []
  }
 ],
 "metadata": {
  "kernelspec": {
   "display_name": "Python 3 (ipykernel)",
   "language": "python",
   "name": "python3"
  },
  "language_info": {
   "codemirror_mode": {
    "name": "ipython",
    "version": 3
   },
   "file_extension": ".py",
   "mimetype": "text/x-python",
   "name": "python",
   "nbconvert_exporter": "python",
   "pygments_lexer": "ipython3",
   "version": "3.10.12"
  }
 },
 "nbformat": 4,
 "nbformat_minor": 5
}
