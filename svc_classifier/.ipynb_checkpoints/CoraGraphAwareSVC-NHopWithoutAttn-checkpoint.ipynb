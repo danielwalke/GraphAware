{
 "cells": [
  {
   "cell_type": "code",
   "execution_count": 1,
   "id": "d85411a8-9ed4-41c7-a08d-c0cd679dc7eb",
   "metadata": {},
   "outputs": [],
   "source": [
    "import sys\n",
    " \n",
    "sys.path.insert(0, \"../\")\n",
    "\n",
    "from EnsembleFramework import Framework"
   ]
  },
  {
   "cell_type": "code",
   "execution_count": 2,
   "id": "29b64973-624b-4fa6-89df-d45861f1d2b0",
   "metadata": {},
   "outputs": [],
   "source": [
    "from torch_geometric.datasets import Planetoid\n",
    "import torch_geometric.transforms as T\n",
    "from torch_geometric.utils import add_self_loops\n",
    "\n",
    "dataset_name = 'Cora'\n",
    "split = \"public\"\n",
    "dataset = Planetoid(root='/tmp/Cora', name=dataset_name, split=split)\n",
    "dataset.transform = T.NormalizeFeatures()\n",
    "\n",
    "features =  dataset[0].x\n",
    "y =  dataset[0].y\n",
    "\n",
    "test =  dataset[0].test_mask\n",
    "train = dataset[0].train_mask\n",
    "val =  dataset[0].val_mask\n",
    "\n",
    "edge_index = dataset[0].edge_index \n",
    "edge_index = add_self_loops(edge_index)[0]"
   ]
  },
  {
   "cell_type": "code",
   "execution_count": 8,
   "id": "0615441c-30ff-40c4-82e0-39578351a45e",
   "metadata": {},
   "outputs": [],
   "source": [
    "from torch.nn.functional import normalize\n",
    "def user_function(kwargs):\n",
    "    return  kwargs[\"original_features\"] + kwargs[\"summed_neighbors\"] #normalize(kwargs[\"original_features\"] + kwargs[\"summed_neighbors\"], p=2.0, dim = 1)\n",
    "hops_list = [8]#0,2,3,4,\n",
    "framework = Framework([user_function for i in hops_list], \n",
    "                     hops_list=hops_list, ## to obtain best for local neighborhood\n",
    "                     clfs=[],\n",
    "                     gpu_idx=0,\n",
    "                     handle_nan=0.0,\n",
    "                    attention_configs=[None for i in hops_list])\n",
    "new_features_list = framework.get_features(features, edge_index, None)"
   ]
  },
  {
   "cell_type": "code",
   "execution_count": null,
   "id": "82999c70-a8a8-4043-86dc-e1f6788a8de2",
   "metadata": {},
   "outputs": [
    {
     "data": {
      "application/vnd.jupyter.widget-view+json": {
       "model_id": "a021e5d2806d4182b9ff22fa6e938aca",
       "version_major": 2,
       "version_minor": 0
      },
      "text/plain": [
       "0it [00:00, ?it/s]"
      ]
     },
     "metadata": {},
     "output_type": "display_data"
    },
    {
     "name": "stdout",
     "output_type": "stream",
     "text": [
      "\n",
      "  0%|                                                                          | 0/1000 [00:00<?, ?trial/s, best loss=?]\u001b[A\n",
      "  0%|                                                             | 1/1000 [00:00<02:21,  7.08trial/s, best loss: -0.21]\u001b[A\n",
      "\u001b[A                                                                                                                     <class 'Exception'>\n",
      "\n",
      "  0%|                                                             | 1/1000 [00:00<02:21,  7.08trial/s, best loss: -0.21]\u001b[A\n",
      "\u001b[A                                                                                                                     {'C': 28.000760325388928, 'degree': 4, 'gamma': 'auto', 'kernel': 'poly', 'tol': 0.001706325418498131}\n",
      "\n",
      "  0%|                                                             | 1/1000 [00:00<02:21,  7.08trial/s, best loss: -0.21]\u001b[A\n",
      "  0%|▏                                                           | 3/1000 [00:00<01:54,  8.74trial/s, best loss: -0.316]\u001b[A\n",
      "  0%|▏                                                           | 4/1000 [00:00<02:29,  6.67trial/s, best loss: -0.316]\u001b[A\n",
      "  0%|▎                                                            | 5/1000 [00:00<03:24,  4.87trial/s, best loss: -0.55]\u001b[A\n",
      "  1%|▎                                                            | 6/1000 [00:01<05:15,  3.15trial/s, best loss: -0.55]\u001b[A\n",
      "  1%|▍                                                            | 7/1000 [00:01<04:14,  3.90trial/s, best loss: -0.55]\u001b[A\n",
      "  1%|▍                                                            | 8/1000 [00:01<03:32,  4.66trial/s, best loss: -0.55]\u001b[A\n",
      "  1%|▌                                                            | 9/1000 [00:01<03:04,  5.36trial/s, best loss: -0.55]\u001b[A\n",
      "  1%|▌                                                           | 10/1000 [00:02<04:07,  4.00trial/s, best loss: -0.55]\u001b[A\n",
      "  1%|▋                                                           | 11/1000 [00:02<03:27,  4.76trial/s, best loss: -0.55]\u001b[A\n",
      "  1%|▋                                                           | 12/1000 [00:02<03:00,  5.46trial/s, best loss: -0.55]\u001b[A\n",
      "  1%|▊                                                           | 13/1000 [00:02<03:09,  5.20trial/s, best loss: -0.55]\u001b[A\n",
      "  1%|▊                                                           | 14/1000 [00:03<05:33,  2.96trial/s, best loss: -0.55]\u001b[A\n",
      "  2%|▉                                                           | 15/1000 [00:03<04:45,  3.45trial/s, best loss: -0.55]\u001b[A\n",
      "  2%|▉                                                           | 16/1000 [00:03<05:16,  3.11trial/s, best loss: -0.55]\u001b[A\n",
      "  2%|█                                                           | 17/1000 [00:04<04:13,  3.88trial/s, best loss: -0.55]\u001b[A\n",
      "  2%|█▏                                                          | 19/1000 [00:04<03:01,  5.42trial/s, best loss: -0.55]\u001b[A\n",
      "\u001b[A                                                                                                                     <class 'Exception'>\n",
      "\n",
      "  2%|█▏                                                          | 19/1000 [00:04<03:01,  5.42trial/s, best loss: -0.55]\u001b[A\n",
      "\u001b[A                                                                                                                     {'C': 135.90114523674595, 'degree': 4, 'gamma': 'auto', 'kernel': 'poly', 'tol': 0.03822172745739322}\n",
      "\n",
      "  2%|█▏                                                          | 19/1000 [00:04<03:01,  5.42trial/s, best loss: -0.55]\u001b[A\n",
      "  2%|█▎                                                          | 21/1000 [00:04<03:18,  4.93trial/s, best loss: -0.55]\u001b[A\n",
      "  2%|█▎                                                          | 22/1000 [00:05<04:01,  4.05trial/s, best loss: -0.55]\u001b[A\n",
      "  2%|█▍                                                          | 23/1000 [00:05<04:26,  3.67trial/s, best loss: -0.55]\u001b[A\n",
      "  2%|█▍                                                          | 24/1000 [00:05<04:14,  3.84trial/s, best loss: -0.55]\u001b[A\n",
      "  2%|█▌                                                          | 25/1000 [00:05<04:34,  3.55trial/s, best loss: -0.55]\u001b[A\n",
      "  3%|█▌                                                          | 26/1000 [00:06<05:07,  3.16trial/s, best loss: -0.55]\u001b[A\n",
      "  3%|█▌                                                          | 27/1000 [00:06<05:18,  3.06trial/s, best loss: -0.55]\u001b[A\n",
      "  3%|█▋                                                          | 28/1000 [00:07<04:59,  3.24trial/s, best loss: -0.55]\u001b[A\n",
      "  3%|█▋                                                          | 29/1000 [00:07<05:02,  3.21trial/s, best loss: -0.55]\u001b[A\n",
      "  3%|█▊                                                          | 30/1000 [00:07<05:11,  3.12trial/s, best loss: -0.55]\u001b[A\n",
      "  3%|█▊                                                          | 31/1000 [00:08<05:44,  2.81trial/s, best loss: -0.55]\u001b[A\n",
      "  3%|█▉                                                          | 32/1000 [00:08<05:56,  2.71trial/s, best loss: -0.55]\u001b[A\n",
      "  3%|█▉                                                          | 33/1000 [00:08<05:19,  3.03trial/s, best loss: -0.55]\u001b[A\n",
      "  3%|██                                                          | 34/1000 [00:08<04:24,  3.65trial/s, best loss: -0.55]\u001b[A\n",
      "  4%|██▏                                                         | 36/1000 [00:09<04:27,  3.61trial/s, best loss: -0.55]\u001b[A\n",
      "  4%|██▎                                                         | 38/1000 [00:09<03:32,  4.52trial/s, best loss: -0.55]\u001b[A\n",
      "\u001b[A                                                                                                                     <class 'Exception'>\n",
      "\n",
      "  4%|██▎                                                         | 38/1000 [00:09<03:32,  4.52trial/s, best loss: -0.55]\u001b[A\n",
      "\u001b[A                                                                                                                     {'C': 125.53422212707561, 'degree': 4, 'gamma': 'auto', 'kernel': 'poly', 'tol': 0.0019216394724585286}\n",
      "\n",
      "  4%|██▎                                                         | 38/1000 [00:09<03:32,  4.52trial/s, best loss: -0.55]\u001b[A\n",
      "  4%|██▍                                                         | 40/1000 [00:09<02:42,  5.91trial/s, best loss: -0.55]\u001b[A\n",
      "  4%|██▌                                                         | 42/1000 [00:10<03:16,  4.86trial/s, best loss: -0.55]\u001b[A\n",
      "\u001b[A                                                                                                                     <class 'Exception'>\n",
      "\n",
      "  4%|██▌                                                         | 42/1000 [00:10<03:16,  4.86trial/s, best loss: -0.55]\u001b[A\n",
      "\u001b[A                                                                                                                     {'C': 20.1938824364157, 'degree': 4, 'gamma': 'auto', 'kernel': 'poly', 'tol': 0.00033924496660361935}\n",
      "\n",
      "  4%|██▌                                                         | 42/1000 [00:10<03:16,  4.86trial/s, best loss: -0.55]\u001b[A\n",
      "  4%|██▋                                                         | 44/1000 [00:10<02:36,  6.09trial/s, best loss: -0.55]\u001b[A\n",
      "  4%|██▋                                                         | 45/1000 [00:10<03:02,  5.23trial/s, best loss: -0.55]\u001b[A\n",
      "  5%|██▊                                                         | 47/1000 [00:11<02:27,  6.46trial/s, best loss: -0.55]\u001b[A\n",
      "  5%|██▉                                                         | 48/1000 [00:11<03:11,  4.97trial/s, best loss: -0.55]\u001b[A\n",
      "  5%|██▉                                                         | 49/1000 [00:11<02:54,  5.44trial/s, best loss: -0.55]\u001b[A\n",
      "  5%|███                                                         | 50/1000 [00:11<03:34,  4.42trial/s, best loss: -0.55]\u001b[A\n",
      "\u001b[A                                                                                                                     <class 'Exception'>\n",
      "\n",
      "  5%|███                                                         | 51/1000 [00:12<03:34,  4.42trial/s, best loss: -0.55]\u001b[A\n",
      "\u001b[A                                                                                                                     {'C': 65.57949823832678, 'degree': 4, 'gamma': 'auto', 'kernel': 'poly', 'tol': 0.002833691859971923}\n",
      "\n",
      "  5%|███                                                         | 51/1000 [00:12<03:34,  4.42trial/s, best loss: -0.55]\u001b[A\n",
      "  5%|███                                                         | 52/1000 [00:12<02:29,  6.32trial/s, best loss: -0.55]\u001b[A\n",
      "  5%|███▏                                                        | 53/1000 [00:12<03:31,  4.47trial/s, best loss: -0.55]\u001b[A\n",
      "  5%|███▏                                                        | 54/1000 [00:12<03:19,  4.74trial/s, best loss: -0.55]\u001b[A\n",
      "  6%|███▎                                                        | 55/1000 [00:13<03:56,  3.99trial/s, best loss: -0.55]\u001b[A\n",
      "  6%|███▎                                                        | 56/1000 [00:13<04:57,  3.17trial/s, best loss: -0.55]\u001b[A\n",
      "\u001b[A                                                                                                                     <class 'Exception'>\n",
      "\n",
      "  6%|███▎                                                        | 56/1000 [00:13<04:57,  3.17trial/s, best loss: -0.55]\u001b[A\n",
      "\u001b[A                                                                                                                     {'C': 36.69567078454142, 'degree': 4, 'gamma': 'auto', 'kernel': 'poly', 'tol': 0.0007691788598511943}\n",
      "\n",
      "  6%|███▎                                                        | 56/1000 [00:13<04:57,  3.17trial/s, best loss: -0.55]\u001b[A\n",
      "  6%|███▍                                                        | 58/1000 [00:13<03:50,  4.09trial/s, best loss: -0.55]\u001b[A\n",
      "  6%|███▌                                                        | 60/1000 [00:14<04:04,  3.84trial/s, best loss: -0.55]\u001b[A\n",
      "  6%|███▋                                                        | 61/1000 [00:14<03:40,  4.26trial/s, best loss: -0.55]\u001b[A\n",
      "  6%|███▋                                                        | 62/1000 [00:14<04:03,  3.84trial/s, best loss: -0.55]\u001b[A\n",
      "  6%|███▊                                                        | 63/1000 [00:15<04:01,  3.88trial/s, best loss: -0.55]\u001b[A\n",
      "  6%|███▉                                                        | 65/1000 [00:15<03:57,  3.94trial/s, best loss: -0.55]\u001b[A\n",
      "  7%|███▉                                                        | 66/1000 [00:16<04:42,  3.31trial/s, best loss: -0.55]\u001b[A\n",
      "  7%|████                                                        | 67/1000 [00:16<05:20,  2.91trial/s, best loss: -0.55]\u001b[A\n",
      "  7%|████                                                        | 68/1000 [00:17<05:53,  2.64trial/s, best loss: -0.55]\u001b[A\n",
      "  7%|████▏                                                       | 69/1000 [00:17<07:11,  2.16trial/s, best loss: -0.55]\u001b[A\n",
      "  7%|████▏                                                       | 70/1000 [00:18<08:09,  1.90trial/s, best loss: -0.55]\u001b[A\n",
      "  7%|████▎                                                       | 71/1000 [00:19<08:51,  1.75trial/s, best loss: -0.55]\u001b[A\n",
      "  7%|████▎                                                       | 72/1000 [00:19<09:22,  1.65trial/s, best loss: -0.55]\u001b[A\n",
      "  7%|████▍                                                       | 73/1000 [00:20<08:39,  1.78trial/s, best loss: -0.55]\u001b[A\n",
      "  7%|████▍                                                       | 74/1000 [00:20<07:33,  2.04trial/s, best loss: -0.55]\u001b[A\n",
      "  8%|████▌                                                       | 75/1000 [00:20<06:12,  2.48trial/s, best loss: -0.55]\u001b[A\n",
      "  8%|████▌                                                       | 77/1000 [00:21<04:08,  3.71trial/s, best loss: -0.55]\u001b[A\n",
      "  8%|████▋                                                       | 78/1000 [00:21<04:42,  3.26trial/s, best loss: -0.55]\u001b[A\n",
      "  8%|████▋                                                       | 79/1000 [00:21<05:13,  2.94trial/s, best loss: -0.55]\u001b[A\n",
      "  8%|████▊                                                       | 80/1000 [00:22<05:34,  2.75trial/s, best loss: -0.55]\u001b[A\n",
      "  8%|████▉                                                       | 82/1000 [00:22<04:19,  3.54trial/s, best loss: -0.55]\u001b[A\n",
      "  8%|████▉                                                       | 83/1000 [00:23<04:53,  3.13trial/s, best loss: -0.55]\u001b[A\n",
      "  8%|█████                                                       | 84/1000 [00:23<05:28,  2.79trial/s, best loss: -0.55]\u001b[A\n",
      "  8%|█████                                                       | 85/1000 [00:23<04:35,  3.32trial/s, best loss: -0.55]\u001b[A\n",
      "  9%|█████▏                                                      | 86/1000 [00:24<04:47,  3.18trial/s, best loss: -0.55]\u001b[A\n",
      "  9%|█████▎                                                      | 88/1000 [00:24<03:14,  4.69trial/s, best loss: -0.55]\u001b[A\n",
      "  9%|█████▎                                                      | 89/1000 [00:24<03:15,  4.67trial/s, best loss: -0.55]\u001b[A\n",
      "  9%|█████▍                                                      | 90/1000 [00:24<02:52,  5.27trial/s, best loss: -0.55]\u001b[A\n",
      "  9%|█████▍                                                      | 91/1000 [00:24<03:49,  3.95trial/s, best loss: -0.55]\u001b[A\n",
      "  9%|█████▌                                                      | 92/1000 [00:25<03:36,  4.19trial/s, best loss: -0.55]\u001b[A"
     ]
    }
   ],
   "source": [
    "from sklearn.svm import SVC\n",
    "from sklearn.metrics import accuracy_score\n",
    "import numpy as np\n",
    "from sklearn.model_selection import ParameterGrid\n",
    "from tqdm.notebook import tqdm\n",
    "from hyperopt import fmin, tpe, hp,STATUS_OK\n",
    "\n",
    "kernel = [\"linear\", \"poly\", \"rbf\", \"sigmoid\"]\n",
    "degree = [i for i in range(2, 5)]\n",
    "gamma = [\"scale\", \"auto\"]\n",
    "\n",
    "lr_choices = {\n",
    "    'kernel': kernel,\n",
    "    'degree': degree,\n",
    "    'gamma': gamma,\n",
    "}\n",
    "\n",
    "space = {\n",
    "    **{key: hp.choice(key, value) for key, value in lr_choices.items()},\n",
    "    'tol': hp.loguniform('tol', -11, -3),\n",
    "    'C': hp.uniform('C', 0.0, 150)\n",
    "}\n",
    "\n",
    "clf = SVC\n",
    "hops_to_params=dict({})\n",
    "hops_to_score=dict({})\n",
    "\n",
    "for i, hops in tqdm(enumerate(hops_list)):\n",
    "    new_features = new_features_list[i].cpu()\n",
    "    \n",
    "    def objective(params):\n",
    "        score = 0\n",
    "        try:\n",
    "            model = clf(**params, random_state = 42, probability= True)\n",
    "            model.fit(new_features[train], y[train])\n",
    "            y_pred = model.predict(new_features[val])\n",
    "            score = accuracy_score(y[val], y_pred)\n",
    "        except Exception:\n",
    "            print(Exception)\n",
    "            print(params)\n",
    "            score = -100\n",
    "        return {'loss': -score, 'status': STATUS_OK}\n",
    "    \n",
    "    best_params = fmin(objective, space, algo=tpe.suggest, max_evals=1_000, verbose=1)\n",
    "\n",
    "    for key,value in lr_choices.items():\n",
    "        best_params[key] = value[best_params[key]]\n",
    "\n",
    "    best_model = clf(**best_params, random_state = 42, probability= True)\n",
    "    best_model.fit(new_features[train], y[train])\n",
    "    y_pred = best_model.predict(new_features[val])\n",
    "    \n",
    "    hops_to_params[hops] = best_params\n",
    "    hops_to_score[hops] = accuracy_score(y[val], y_pred)"
   ]
  },
  {
   "cell_type": "code",
   "execution_count": 5,
   "id": "3f12518c-c82a-45b8-ae22-9aa8b6d309c5",
   "metadata": {},
   "outputs": [
    {
     "data": {
      "text/plain": [
       "{0: 0.606, 2: 0.814, 5: 0.806, 10: 0.806, 15: 0.814, 20: 0.814, 30: 0.808}"
      ]
     },
     "execution_count": 5,
     "metadata": {},
     "output_type": "execute_result"
    }
   ],
   "source": [
    "hops_to_score"
   ]
  },
  {
   "cell_type": "code",
   "execution_count": 6,
   "id": "0ac9eac0-0e72-4d21-912b-1b55846266da",
   "metadata": {},
   "outputs": [
    {
     "data": {
      "text/plain": [
       "{0: {'C': 16.446210093451946,\n",
       "  'degree': 3,\n",
       "  'gamma': 'scale',\n",
       "  'kernel': 'linear',\n",
       "  'tol': 0.000135351820310177},\n",
       " 2: {'C': 2.2454653587741507,\n",
       "  'degree': 3,\n",
       "  'gamma': 'scale',\n",
       "  'kernel': 'rbf',\n",
       "  'tol': 0.00019691417556260917},\n",
       " 5: {'C': 2.592997015572764,\n",
       "  'degree': 3,\n",
       "  'gamma': 'scale',\n",
       "  'kernel': 'rbf',\n",
       "  'tol': 0.04866716101055986},\n",
       " 10: {'C': 3.3515654989687267,\n",
       "  'degree': 2,\n",
       "  'gamma': 'auto',\n",
       "  'kernel': 'linear',\n",
       "  'tol': 0.0029514082294456625},\n",
       " 15: {'C': 5.04509676482287,\n",
       "  'degree': 4,\n",
       "  'gamma': 'auto',\n",
       "  'kernel': 'linear',\n",
       "  'tol': 0.008655874875022741},\n",
       " 20: {'C': 6.086161177881024,\n",
       "  'degree': 2,\n",
       "  'gamma': 'auto',\n",
       "  'kernel': 'linear',\n",
       "  'tol': 0.001121164624982405},\n",
       " 30: {'C': 28.162688966389688,\n",
       "  'degree': 3,\n",
       "  'gamma': 'scale',\n",
       "  'kernel': 'linear',\n",
       "  'tol': 0.01697468319698367}}"
      ]
     },
     "execution_count": 6,
     "metadata": {},
     "output_type": "execute_result"
    }
   ],
   "source": [
    "hops_to_params"
   ]
  },
  {
   "cell_type": "code",
   "execution_count": 7,
   "id": "3603dace-1fbd-4112-ad30-fee50f1d44a1",
   "metadata": {},
   "outputs": [
    {
     "data": {
      "text/plain": [
       "82"
      ]
     },
     "execution_count": 7,
     "metadata": {},
     "output_type": "execute_result"
    }
   ],
   "source": [
    "82"
   ]
  },
  {
   "cell_type": "code",
   "execution_count": null,
   "id": "56d67c7f-63d5-439f-897e-44336ca8e5c2",
   "metadata": {},
   "outputs": [],
   "source": []
  }
 ],
 "metadata": {
  "kernelspec": {
   "display_name": "Python 3 (ipykernel)",
   "language": "python",
   "name": "python3"
  },
  "language_info": {
   "codemirror_mode": {
    "name": "ipython",
    "version": 3
   },
   "file_extension": ".py",
   "mimetype": "text/x-python",
   "name": "python",
   "nbconvert_exporter": "python",
   "pygments_lexer": "ipython3",
   "version": "3.10.12"
  }
 },
 "nbformat": 4,
 "nbformat_minor": 5
}
