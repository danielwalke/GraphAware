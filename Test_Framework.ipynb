{
 "cells": [
  {
   "cell_type": "code",
   "execution_count": 1,
   "id": "a6b61790-4200-476c-8d95-37a023886ef1",
   "metadata": {},
   "outputs": [],
   "source": [
    "import sys\n",
    " \n",
    "sys.path.insert(0, \"../\")\n",
    "\n",
    "from EnsembleFramework import Framework"
   ]
  },
  {
   "cell_type": "code",
   "execution_count": 2,
   "id": "96bf8462-ef79-45fa-ae01-21632db27e1b",
   "metadata": {},
   "outputs": [
    {
     "name": "stdout",
     "output_type": "stream",
     "text": [
      "tensor([[2., 1., 0., 2.],\n",
      "        [1., 0., 1., 1.],\n",
      "        [1., 3., 1., 0.],\n",
      "        [2., 0., 2., 1.],\n",
      "        [1., 1., 1., 2.],\n",
      "        [1., 2., 0., 1.],\n",
      "        [1., 0., 1., 0.],\n",
      "        [1., 0., 0., 1.],\n",
      "        [0., 1., 1., 0.],\n",
      "        [0., 1., 0., 1.]], device='cuda:0')\n",
      "tensor([[4., 4., 3., 4.],\n",
      "        [4., 1., 3., 3.],\n",
      "        [1., 4., 1., 1.],\n",
      "        [2., 0., 2., 1.],\n",
      "        [1., 1., 1., 2.],\n",
      "        [1., 2., 0., 1.],\n",
      "        [1., 0., 1., 0.],\n",
      "        [1., 0., 0., 1.],\n",
      "        [0., 1., 1., 0.],\n",
      "        [0., 1., 0., 1.]], device='cuda:0')\n",
      "tensor([[7., 6., 5., 7.],\n",
      "        [4., 1., 3., 3.],\n",
      "        [1., 4., 1., 1.],\n",
      "        [2., 0., 2., 1.],\n",
      "        [1., 1., 1., 2.],\n",
      "        [1., 2., 0., 1.],\n",
      "        [1., 0., 1., 0.],\n",
      "        [1., 0., 0., 1.],\n",
      "        [0., 1., 1., 0.],\n",
      "        [0., 1., 0., 1.]], device='cuda:0')\n"
     ]
    },
    {
     "data": {
      "text/plain": [
       "[tensor([[7., 6., 5., 7.],\n",
       "         [4., 1., 3., 3.],\n",
       "         [1., 4., 1., 1.],\n",
       "         [2., 0., 2., 1.],\n",
       "         [1., 1., 1., 2.],\n",
       "         [1., 2., 0., 1.],\n",
       "         [1., 0., 1., 0.],\n",
       "         [1., 0., 0., 1.],\n",
       "         [0., 1., 1., 0.],\n",
       "         [0., 1., 0., 1.]], device='cuda:0')]"
      ]
     },
     "execution_count": 2,
     "metadata": {},
     "output_type": "execute_result"
    }
   ],
   "source": [
    "import torch\n",
    "def user_function(kwargs):\n",
    "    # print(kwargs[\"summed_neighbors\"])\n",
    "    print(kwargs[\"original_features\"] + kwargs[\"summed_neighbors\"])\n",
    "    return kwargs[\"original_features\"] + kwargs[\"summed_neighbors\"] #kwargs[\"updated_features\"] + kwargs[\"summed_neighbors\"]\n",
    "\n",
    "hops_list = [3]\n",
    "\n",
    "framework = Framework([user_function for i in hops_list], \n",
    "                     hops_list=hops_list, ## to obtain best for local neighborhood\n",
    "                     clfs=[],\n",
    "                     gpu_idx=0,\n",
    "                     handle_nan=0.0,\n",
    "                    attention_configs=[None for i in hops_list])\n",
    "# test_edge_index = torch.tensor([[1,2,3,4,4,5,6,7,7,7,8,8,9],\n",
    "#                            [0,0,1,1,0,2,3,3,0,4,4,2,5]], dtype=torch.long)\n",
    "# test_X = torch.tensor([[0,0,0,0], [1,0,0,0],[0,1,0,0], [0,0,1,0], [0,0,0,1], [1,1,0,0], [1,0,1,0], [1,0,0,1], [0,1,1,0], [0,1,0,1]], dtype=torch.float)\n",
    "\n",
    "test_X = torch.tensor([[0,0,0,0], [1,0,0,0], [0,1,0,0], [0,0,1,0], [0,0,0,1], [1,1,0,0], [1,0,1,0], [1,0,0,1], [0,1,1,0], [0,1,0,1]]).type(torch.float)\n",
    "test_edge_index = torch.tensor([[9, 8,8,7,7,7,6,5,4,4,3,1,2], [5,2,4,4,0,3,3,2,0,1,1,0,0]])\n",
    "framework.get_features(test_X, test_edge_index, torch.ones(test_X.shape[0]).type(torch.bool))"
   ]
  },
  {
   "cell_type": "code",
   "execution_count": null,
   "id": "74bf1e78-29da-4ada-8651-5198ca3de15c",
   "metadata": {},
   "outputs": [],
   "source": []
  }
 ],
 "metadata": {
  "kernelspec": {
   "display_name": "Python 3 (ipykernel)",
   "language": "python",
   "name": "python3"
  },
  "language_info": {
   "codemirror_mode": {
    "name": "ipython",
    "version": 3
   },
   "file_extension": ".py",
   "mimetype": "text/x-python",
   "name": "python",
   "nbconvert_exporter": "python",
   "pygments_lexer": "ipython3",
   "version": "3.10.12"
  }
 },
 "nbformat": 4,
 "nbformat_minor": 5
}
