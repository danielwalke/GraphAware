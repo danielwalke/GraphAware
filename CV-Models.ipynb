{
 "cells": [
  {
   "cell_type": "code",
   "execution_count": 1,
   "id": "d3096278-13b4-49e8-9b0b-9c1500ddf8fe",
   "metadata": {},
   "outputs": [],
   "source": [
    "from torch_geometric.datasets import PPI\n",
    "import torch_geometric.transforms as T\n",
    "from torch_geometric.utils import add_self_loops\n",
    "from torch_geometric.loader import DataLoader\n",
    "\n",
    "train_dataset = PPI(root='/tmp/PPI', split=\"train\")\n",
    "val_dataset = PPI(root='/tmp/PPI', split=\"val\")\n",
    "test_dataset = PPI(root='/tmp/PPI', split=\"test\")\n",
    "train_dataset.transform = T.NormalizeFeatures()\n",
    "val_dataset.transform = T.NormalizeFeatures()\n",
    "test_dataset.transform = T.NormalizeFeatures()"
   ]
  },
  {
   "cell_type": "code",
   "execution_count": 2,
   "id": "4319bf18-8f1d-488e-bbcf-6053c4c6967c",
   "metadata": {},
   "outputs": [],
   "source": [
    "data = []\n",
    "data.extend(train_dataset)\n",
    "data.extend(val_dataset)"
   ]
  },
  {
   "cell_type": "code",
   "execution_count": 3,
   "id": "fc98c692-f0f6-4b07-85a2-63f01eaaafe8",
   "metadata": {},
   "outputs": [],
   "source": [
    "from AutoTune2 import user_function\n",
    "from xgboost import XGBClassifier\n",
    "import time\n",
    "from sklearn.metrics import f1_score\t\n",
    "from EnsembleFramework import Framework\n",
    "\n",
    "def train_and_evaluate(train_set, test_set):\n",
    "    hops =  [3]\n",
    "    framework = Framework(hops_list= hops,\n",
    "                          clfs=[XGBClassifier(**{'objective': 'binary:logistic',\n",
    " 'base_score': None,\n",
    " 'booster': 'gbtree',\n",
    " 'callbacks': None,\n",
    " 'colsample_bylevel': None,\n",
    " 'colsample_bynode': None,\n",
    " 'colsample_bytree': None,\n",
    " 'device': 'cuda:2',\n",
    " 'enable_categorical': False,\n",
    " 'feature_types': None,\n",
    " 'gamma': None,\n",
    " 'grow_policy': None,\n",
    " 'importance_type': None,\n",
    " 'interaction_constraints': None,\n",
    " 'learning_rate': None,\n",
    " 'max_bin': None,\n",
    " 'max_cat_threshold': None,\n",
    " 'max_cat_to_onehot': None,\n",
    " 'max_delta_step': 2,\n",
    " 'max_depth': 5,\n",
    " 'max_leaves': None,\n",
    " 'min_child_weight': None,\n",
    " 'monotone_constraints': None,\n",
    " 'multi_strategy': None,\n",
    " 'n_estimators': 1200,\n",
    " 'n_jobs': None,\n",
    " 'num_parallel_tree': None,\n",
    " 'random_state': None,\n",
    " 'reg_alpha': None,\n",
    " 'reg_lambda': 0.539620964294334,\n",
    " 'sampling_method': None,\n",
    " 'scale_pos_weight': None,\n",
    " 'subsample': 0.9375310941231909,\n",
    " 'tree_method': 'hist',\n",
    " 'validate_parameters': None,\n",
    " 'verbosity': None,\n",
    " 'alpha': 0.24419435164444453,\n",
    " 'eta': 0.2431766543218163,\n",
    "                            #'early_stopping_rounds': 10,\n",
    "                            #\"eval_metric\":\"error\"\n",
    "                            })],\n",
    "                          attention_configs=[ {'inter_layer_normalize': False,\n",
    "    'use_pseudo_attention': True,\n",
    "    'cosine_eps': 0.01,\n",
    "    'dropout_attn': None} for i in hops],\n",
    "                          handle_nan=0.0,\n",
    "                          gpu_idx=0,\n",
    "                          user_functions=[user_function for i in hops],\n",
    "                          multi_target_class=True\n",
    "                          )\n",
    "    start = time.time()\n",
    "    framework.fit(X_train=train_set.x, edge_index=train_set.edge_index,y_train=train_set.y, train_mask=torch.ones(train_set.x.shape[0]).type(torch.bool),\n",
    "                     kwargs_multi_clf_list=[{\"n_jobs\":-1}], transform_kwargs_fit = None)#transform_kwargs_fit\n",
    "    elapsed_time = time.time() - start\n",
    "    pred = framework.predict(test_set.x, test_set.edge_index, torch.ones(test_set.x.shape[0]).type(torch.bool))\n",
    "    score = f1_score(test_set.y, pred, average =\"micro\")\n",
    "    print(f\"F1-score: {score}; Elapsed time: {elapsed_time} s.\")\n",
    "    return elapsed_time, score"
   ]
  },
  {
   "cell_type": "code",
   "execution_count": 4,
   "id": "56448077-0be1-4749-a108-42edb5f343f8",
   "metadata": {},
   "outputs": [
    {
     "name": "stderr",
     "output_type": "stream",
     "text": [
      "/home/dwalke/git/graph_aware_ml/EnsembleFramework.py:159: UserWarning: The reduce argument of torch.scatter with Tensor src is deprecated and will be removed in a future PyTorch release. Use torch.scatter_reduce instead for more reduction options. (Triggered internally at ../aten/src/ATen/native/TensorAdvancedIndexing.cpp:230.)\n",
      "  summed_exp_score = torch.zeros_like(exp_score).scatter(0, target,exp_score, reduce=\"add\")\n",
      "/home/dwalke/.local/lib/python3.10/site-packages/xgboost/core.py:160: UserWarning: [09:07:50] WARNING: /workspace/src/common/error_msg.cc:58: Falling back to prediction using DMatrix due to mismatched devices. This might lead to higher memory usage and slower performance. XGBoost is running on: cuda:2, while the input data is on: cpu.\n",
      "Potential solutions:\n",
      "- Use a data structure that matches the device ordinal in the booster.\n",
      "- Set the device for booster before call to inplace_predict.\n",
      "\n",
      "This warning will only be shown once.\n",
      "\n",
      "  warnings.warn(smsg, UserWarning)\n"
     ]
    },
    {
     "name": "stdout",
     "output_type": "stream",
     "text": [
      "F1-score: 0.9138002961361286; Elapsed time: 503.11538553237915 s.\n",
      "F1-score: 0.863897089771427; Elapsed time: 488.6962630748749 s.\n",
      "F1-score: 0.8472356529732697; Elapsed time: 487.51142978668213 s.\n",
      "F1-score: 0.8835232916925148; Elapsed time: 490.66277837753296 s.\n",
      "F1-score: 0.8049621590746824; Elapsed time: 486.8423104286194 s.\n"
     ]
    }
   ],
   "source": [
    "from sklearn.model_selection import KFold\n",
    "import torch \n",
    "\n",
    "kf = KFold(n_splits=5)\n",
    "scores = []\n",
    "times = []\n",
    "for i, (train_index, test_index) in enumerate(kf.split(data)):\n",
    "    train_data = [data[i] for i in train_index]\n",
    "    test_data = [data[i] for i in test_index]\n",
    "    train_loader = iter(DataLoader(train_data, batch_size=len(test_index)))\n",
    "    test_loader = iter(DataLoader(test_data, batch_size=len(test_index)))\n",
    "\n",
    "    train_set = next(train_loader)\n",
    "    test_set = next(test_loader)\n",
    "\n",
    "    elapsed_time, score = train_and_evaluate(train_set, test_set)\n",
    "    scores.append(score)\n",
    "    times.append(elapsed_time)"
   ]
  },
  {
   "cell_type": "code",
   "execution_count": null,
   "id": "7bb63678-af4c-4a17-a5f5-cdbfddf8a525",
   "metadata": {},
   "outputs": [],
   "source": [
    "import torch\n",
    "from torch import nn\n",
    "from torch_geometric.nn import GATConv\n",
    "from torch.nn import Linear\n",
    "import torch.nn.functional as F\n",
    "class GNN(nn.Module):\n",
    "    def __init__(self, in_dim, hidden_dim, out_dim, heads, dropout = .2):\n",
    "        super(GNN, self).__init__()\n",
    "        self.dropout = dropout\n",
    "        self.conv1 = GATConv(in_dim, hidden_dim, add_self_loops=True, heads = heads[0], dropout = dropout, concat=True)\n",
    "        self.lin1 = Linear(in_dim, hidden_dim*heads[0])\n",
    "        self.conv2 = GATConv(hidden_dim*heads[0], hidden_dim, add_self_loops=True,heads = heads[1], dropout = dropout, concat=True)\n",
    "        self.lin2 = Linear(hidden_dim*heads[0], hidden_dim*heads[1])\n",
    "        self.conv3 = GATConv(hidden_dim*heads[1], out_dim, add_self_loops=True,heads = heads[2], dropout = dropout,concat=False)\n",
    "        self.lin3 = Linear(hidden_dim*heads[1], out_dim)\n",
    "        \n",
    "    def forward(self, x, edge_index):\n",
    "        x = self.conv1(x, edge_index) + self.lin1(x)\n",
    "        x = F.elu(x)\n",
    "        x = self.conv2(x, edge_index) + self.lin2(x)\n",
    "        x = F.elu(x)\n",
    "        x = self.conv3(x, edge_index) + self.lin3(x)\n",
    "        return x"
   ]
  },
  {
   "cell_type": "code",
   "execution_count": null,
   "id": "917bb577-d859-43de-972a-fc38101143e8",
   "metadata": {},
   "outputs": [],
   "source": [
    "import  matplotlib.pyplot as plt\n",
    "from tqdm.notebook import tqdm\n",
    "from sklearn.metrics import f1_score\n",
    "from torcheval.metrics.functional import multiclass_f1_score\n",
    "import torch \n",
    "import copy \n",
    "def train_and_evaluate_gnn(sets):     \n",
    "    EPOCHS = 150 #200\n",
    "    HIDDEN_DIM = 512 #64\n",
    "    HEADS = [8,8,8]#[4,4,6]\n",
    "    DROPOUT = 0.2\n",
    "    LEARNING_RATE = 1e-3\n",
    "    WEIGHT_DECAY = 0\n",
    "    \n",
    "    \n",
    "    model = GNN(in_dim=sets[TRAIN][0].x.shape[-1], hidden_dim=HIDDEN_DIM, out_dim=sets[TRAIN][0].y.shape[-1], heads = HEADS, dropout = DROPOUT).to(device)\n",
    "    print(model)\n",
    "    optim = torch.optim.Adam(model.parameters(), lr = LEARNING_RATE, weight_decay=WEIGHT_DECAY)\n",
    "    loss_fn = torch.nn.BCEWithLogitsLoss(reduction='mean')\n",
    "    \n",
    "    losses = dict()\n",
    "    for set_name in set_names: losses[set_name] = []\n",
    "    scores = dict()\n",
    "    for set_name in set_names: scores[set_name] = []\n",
    "    \n",
    "    @torch.no_grad\n",
    "    def validate(model, set_name, sets):\n",
    "        model = copy.deepcopy(model)\n",
    "        acc_loss = 0\n",
    "        batch_size = 0\n",
    "        ground_truth = []\n",
    "        preds = []\n",
    "        # with torch.inference_mode():\n",
    "        model.eval()\n",
    "        eval_set = sets[set_name]\n",
    "\n",
    "        for loader in eval_set:\n",
    "            loader = loader.to(device)\n",
    "            out = model(loader.x, loader.edge_index)\n",
    "            loss = loss_fn(out, loader.y)\n",
    "            ground_truth.append(loader.y)\n",
    "            preds.append((out > 0).float())\n",
    "            acc_loss += loss.item()\n",
    "            batch_size+=1\n",
    "                \n",
    "        score = f1_score(torch.cat(ground_truth).cpu(), torch.cat(preds).detach().cpu(), average =\"micro\")\n",
    "        scores[set_name].append(score)\n",
    "        \n",
    "        losses[set_name].append(acc_loss / batch_size)\n",
    "        return score\n",
    "    \n",
    "    def train(model):\n",
    "        global PATIENCE_COUNT\n",
    "        for epoch in tqdm(range(EPOCHS)):\n",
    "            acc_loss = 0\n",
    "            for loader in sets[TRAIN]:\n",
    "                loader = loader.to(device)\n",
    "                optim.zero_grad()\n",
    "                model.train()                \n",
    "                out = model(loader.x, loader.edge_index)\n",
    "                loss = loss_fn(out, loader.y)\n",
    "                acc_loss += loss.item()\n",
    "                loss.backward()\n",
    "                optim.step()\n",
    "    start = time.time()\n",
    "    train(model)\n",
    "    elapsed_time = time.time() - start\n",
    "    score = validate(model, VAL, sets)\n",
    "    print(f\"F1-score: {score}; Elapsed time: {elapsed_time} s.\")\n",
    "    return elapsed_time, score"
   ]
  },
  {
   "cell_type": "code",
   "execution_count": 94,
   "id": "781a5150-3631-4754-bc86-41877a0d80a0",
   "metadata": {},
   "outputs": [],
   "source": [
    "unnormalized_train_dataset = PPI(root='/tmp/PPI', split=\"train\")\n",
    "unnormalized_val_dataset = PPI(root='/tmp/PPI', split=\"val\")\n",
    "unnormalized_test_dataset = PPI(root='/tmp/PPI', split=\"test\")\n",
    "\n",
    "\n",
    "unnormalized_data = []\n",
    "unnormalized_data.extend(unnormalized_train_dataset)\n",
    "unnormalized_data.extend(unnormalized_val_dataset)"
   ]
  },
  {
   "cell_type": "code",
   "execution_count": 95,
   "id": "43de60fe-167a-4337-ab25-6064b4346add",
   "metadata": {},
   "outputs": [],
   "source": [
    "TRAIN = \"train\"\n",
    "VAL = \"val\"\n",
    "set_names = [TRAIN, VAL]\n",
    "\n",
    "device = torch.device(\"cuda:2\") if torch.cuda.is_available() else torch.device(\"cpu\")"
   ]
  },
  {
   "cell_type": "code",
   "execution_count": 96,
   "id": "3c62fb85-cb10-459c-a3b3-74d881dfad56",
   "metadata": {
    "scrolled": true
   },
   "outputs": [
    {
     "name": "stdout",
     "output_type": "stream",
     "text": [
      "GNN(\n",
      "  (conv1): GATConv(50, 512, heads=8)\n",
      "  (lin1): Linear(in_features=50, out_features=4096, bias=True)\n",
      "  (conv2): GATConv(4096, 512, heads=8)\n",
      "  (lin2): Linear(in_features=4096, out_features=4096, bias=True)\n",
      "  (conv3): GATConv(4096, 121, heads=8)\n",
      "  (lin3): Linear(in_features=4096, out_features=121, bias=True)\n",
      ")\n"
     ]
    },
    {
     "data": {
      "application/vnd.jupyter.widget-view+json": {
       "model_id": "df1954dad3f348c4b41a5b64095cf86b",
       "version_major": 2,
       "version_minor": 0
      },
      "text/plain": [
       "  0%|          | 0/150 [00:00<?, ?it/s]"
      ]
     },
     "metadata": {},
     "output_type": "display_data"
    },
    {
     "name": "stdout",
     "output_type": "stream",
     "text": [
      "F1-score: 0.983159619369414; Elapsed time: 258.689404964447 s.\n",
      "GNN(\n",
      "  (conv1): GATConv(50, 512, heads=8)\n",
      "  (lin1): Linear(in_features=50, out_features=4096, bias=True)\n",
      "  (conv2): GATConv(4096, 512, heads=8)\n",
      "  (lin2): Linear(in_features=4096, out_features=4096, bias=True)\n",
      "  (conv3): GATConv(4096, 121, heads=8)\n",
      "  (lin3): Linear(in_features=4096, out_features=121, bias=True)\n",
      ")\n"
     ]
    },
    {
     "data": {
      "application/vnd.jupyter.widget-view+json": {
       "model_id": "996003a64daf48e5b1d5603e84793ca5",
       "version_major": 2,
       "version_minor": 0
      },
      "text/plain": [
       "  0%|          | 0/150 [00:00<?, ?it/s]"
      ]
     },
     "metadata": {},
     "output_type": "display_data"
    },
    {
     "name": "stdout",
     "output_type": "stream",
     "text": [
      "F1-score: 0.9747386734407827; Elapsed time: 254.24147200584412 s.\n",
      "GNN(\n",
      "  (conv1): GATConv(50, 512, heads=8)\n",
      "  (lin1): Linear(in_features=50, out_features=4096, bias=True)\n",
      "  (conv2): GATConv(4096, 512, heads=8)\n",
      "  (lin2): Linear(in_features=4096, out_features=4096, bias=True)\n",
      "  (conv3): GATConv(4096, 121, heads=8)\n",
      "  (lin3): Linear(in_features=4096, out_features=121, bias=True)\n",
      ")\n"
     ]
    },
    {
     "data": {
      "application/vnd.jupyter.widget-view+json": {
       "model_id": "550448e2a95c4c7493de2c032d14f607",
       "version_major": 2,
       "version_minor": 0
      },
      "text/plain": [
       "  0%|          | 0/150 [00:00<?, ?it/s]"
      ]
     },
     "metadata": {},
     "output_type": "display_data"
    },
    {
     "name": "stdout",
     "output_type": "stream",
     "text": [
      "F1-score: 0.9848582894794099; Elapsed time: 252.3985493183136 s.\n",
      "GNN(\n",
      "  (conv1): GATConv(50, 512, heads=8)\n",
      "  (lin1): Linear(in_features=50, out_features=4096, bias=True)\n",
      "  (conv2): GATConv(4096, 512, heads=8)\n",
      "  (lin2): Linear(in_features=4096, out_features=4096, bias=True)\n",
      "  (conv3): GATConv(4096, 121, heads=8)\n",
      "  (lin3): Linear(in_features=4096, out_features=121, bias=True)\n",
      ")\n"
     ]
    },
    {
     "data": {
      "application/vnd.jupyter.widget-view+json": {
       "model_id": "7f280776e77d499e9018183772a9bd7b",
       "version_major": 2,
       "version_minor": 0
      },
      "text/plain": [
       "  0%|          | 0/150 [00:00<?, ?it/s]"
      ]
     },
     "metadata": {},
     "output_type": "display_data"
    },
    {
     "name": "stdout",
     "output_type": "stream",
     "text": [
      "F1-score: 0.99540119927234; Elapsed time: 245.50580954551697 s.\n",
      "GNN(\n",
      "  (conv1): GATConv(50, 512, heads=8)\n",
      "  (lin1): Linear(in_features=50, out_features=4096, bias=True)\n",
      "  (conv2): GATConv(4096, 512, heads=8)\n",
      "  (lin2): Linear(in_features=4096, out_features=4096, bias=True)\n",
      "  (conv3): GATConv(4096, 121, heads=8)\n",
      "  (lin3): Linear(in_features=4096, out_features=121, bias=True)\n",
      ")\n"
     ]
    },
    {
     "data": {
      "application/vnd.jupyter.widget-view+json": {
       "model_id": "dcd16fcd437a42f5b7ff260031191e4a",
       "version_major": 2,
       "version_minor": 0
      },
      "text/plain": [
       "  0%|          | 0/150 [00:00<?, ?it/s]"
      ]
     },
     "metadata": {},
     "output_type": "display_data"
    },
    {
     "name": "stdout",
     "output_type": "stream",
     "text": [
      "F1-score: 0.9855634404689042; Elapsed time: 232.22667288780212 s.\n"
     ]
    }
   ],
   "source": [
    "from sklearn.model_selection import KFold\n",
    "import torch \n",
    "\n",
    "kf = KFold(n_splits=5)\n",
    "gnn_scores = []\n",
    "gnn_times = []\n",
    "for i, (train_index, test_index) in enumerate(kf.split(unnormalized_data)):\n",
    "    train_data = [unnormalized_data[i] for i in train_index]\n",
    "    test_data = [unnormalized_data[i] for i in test_index]    \n",
    "      \n",
    "    sets = dict()\n",
    "    sets[TRAIN] = train_data\n",
    "    sets[VAL] = test_data\n",
    "    \n",
    "    elapsed_time, score = train_and_evaluate_gnn(sets)\n",
    "    gnn_scores.append(score)\n",
    "    gnn_times.append(elapsed_time)"
   ]
  },
  {
   "cell_type": "code",
   "execution_count": null,
   "id": "f9662b1c-966b-4997-a0b7-6f67ca567bfd",
   "metadata": {},
   "outputs": [],
   "source": []
  },
  {
   "cell_type": "code",
   "execution_count": null,
   "id": "4e336aa2-a7f2-49d6-9cb3-7f26fdb48b02",
   "metadata": {},
   "outputs": [],
   "source": []
  }
 ],
 "metadata": {
  "kernelspec": {
   "display_name": "Python 3 (ipykernel)",
   "language": "python",
   "name": "python3"
  },
  "language_info": {
   "codemirror_mode": {
    "name": "ipython",
    "version": 3
   },
   "file_extension": ".py",
   "mimetype": "text/x-python",
   "name": "python",
   "nbconvert_exporter": "python",
   "pygments_lexer": "ipython3",
   "version": "3.10.12"
  }
 },
 "nbformat": 4,
 "nbformat_minor": 5
}
