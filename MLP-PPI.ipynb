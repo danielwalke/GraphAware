{
 "cells": [
  {
   "cell_type": "code",
   "execution_count": 1,
   "id": "c3b74711-93d6-45b3-b8ea-0be463316919",
   "metadata": {},
   "outputs": [],
   "source": [
    "from torch_geometric.datasets import PPI\n",
    "import torch_geometric.transforms as T\n",
    "from torch_geometric.utils import add_self_loops\n",
    "from torch_geometric.loader import DataLoader\n",
    "\n",
    "train_dataset = PPI(root='/tmp/PPI', split=\"train\")\n",
    "val_dataset = PPI(root='/tmp/PPI', split=\"val\")\n",
    "test_dataset = PPI(root='/tmp/PPI', split=\"test\")\n",
    "# train_dataset.transform = T.NormalizeFeatures()\n",
    "# val_dataset.transform = T.NormalizeFeatures()\n",
    "# test_dataset.transform = T.NormalizeFeatures()\n",
    "\n",
    "train_loader = iter(DataLoader(train_dataset, batch_size=len(train_dataset)))\n",
    "val_loader = iter(DataLoader(val_dataset, batch_size=len(val_dataset)))\n",
    "test_loader = iter(DataLoader(test_dataset, batch_size=len(test_dataset)))"
   ]
  },
  {
   "cell_type": "code",
   "execution_count": 2,
   "id": "e603a62a-62ff-40da-b24f-c775a2f65dd9",
   "metadata": {},
   "outputs": [],
   "source": [
    "train_set = next(train_loader)\n",
    "test_set = next(test_loader)\n",
    "val_set = next(val_loader)"
   ]
  },
  {
   "cell_type": "code",
   "execution_count": 3,
   "id": "cebb0796-8b62-45e7-9c8a-435c2525a092",
   "metadata": {},
   "outputs": [
    {
     "data": {
      "text/plain": [
       "tensor([[-0.0855, -0.0884, -0.1128,  ..., -0.1399, -0.1494, -0.1481],\n",
       "        [-0.0855, -0.0884, -0.1128,  ..., -0.1399, -0.1494, -0.1481],\n",
       "        [-0.0855, -0.0884, -0.1128,  ..., -0.1399, -0.1494, -0.1481],\n",
       "        ...,\n",
       "        [-0.0855, -0.0884, -0.1128,  ..., -0.1399, -0.1494, -0.1481],\n",
       "        [-0.0855, -0.0884, -0.1128,  ..., -0.1399, -0.1494, -0.1481],\n",
       "        [-0.0855, -0.0884, -0.1128,  ..., -0.1399, -0.1494, -0.1481]])"
      ]
     },
     "execution_count": 3,
     "metadata": {},
     "output_type": "execute_result"
    }
   ],
   "source": [
    "train_set.x"
   ]
  },
  {
   "cell_type": "code",
   "execution_count": 4,
   "id": "47e046c9-57e6-4158-adc7-7da3667a4bc2",
   "metadata": {},
   "outputs": [
    {
     "name": "stderr",
     "output_type": "stream",
     "text": [
      "/home/dwalke/git/graph_aware_ml/EnsembleFramework.py:159: UserWarning: The reduce argument of torch.scatter with Tensor src is deprecated and will be removed in a future PyTorch release. Use torch.scatter_reduce instead for more reduction options. (Triggered internally at ../aten/src/ATen/native/TensorAdvancedIndexing.cpp:230.)\n",
      "  summed_exp_score = torch.zeros_like(exp_score).scatter(0, target,exp_score, reduce=\"add\")\n"
     ]
    }
   ],
   "source": [
    "from AutoTune2 import user_function\n",
    "from EnsembleFramework import Framework\n",
    "import torch \n",
    "\n",
    "hops = [3]\n",
    "framework = Framework(hops_list= hops,\n",
    "                      clfs=[],\n",
    "                      attention_configs=[{'inter_layer_normalize': False,\n",
    "    'use_pseudo_attention': True,\n",
    "    'cosine_eps': 0.01,\n",
    "    'dropout_attn': None} for i in hops],\n",
    "                      handle_nan=0.0,\n",
    "                      gpu_idx=1,\n",
    "                      user_functions=[user_function for i in hops]\n",
    "                      )\n",
    "train_features = framework.get_features(train_set.x, train_set.edge_index, torch.ones(train_set.x.shape[0]).type(torch.bool))[0].cpu()\n",
    "val_features = framework.get_features(val_set.x, val_set.edge_index, torch.ones(val_set.x.shape[0]).type(torch.bool))[0].cpu()\n",
    "test_features = framework.get_features(test_set.x, test_set.edge_index, torch.ones(test_set.x.shape[0]).type(torch.bool))[0].cpu()"
   ]
  },
  {
   "cell_type": "code",
   "execution_count": 23,
   "id": "258b0a60-d36d-48a9-9ec7-45765b1b233c",
   "metadata": {},
   "outputs": [
    {
     "data": {
      "text/html": [
       "<style>#sk-container-id-7 {color: black;}#sk-container-id-7 pre{padding: 0;}#sk-container-id-7 div.sk-toggleable {background-color: white;}#sk-container-id-7 label.sk-toggleable__label {cursor: pointer;display: block;width: 100%;margin-bottom: 0;padding: 0.3em;box-sizing: border-box;text-align: center;}#sk-container-id-7 label.sk-toggleable__label-arrow:before {content: \"▸\";float: left;margin-right: 0.25em;color: #696969;}#sk-container-id-7 label.sk-toggleable__label-arrow:hover:before {color: black;}#sk-container-id-7 div.sk-estimator:hover label.sk-toggleable__label-arrow:before {color: black;}#sk-container-id-7 div.sk-toggleable__content {max-height: 0;max-width: 0;overflow: hidden;text-align: left;background-color: #f0f8ff;}#sk-container-id-7 div.sk-toggleable__content pre {margin: 0.2em;color: black;border-radius: 0.25em;background-color: #f0f8ff;}#sk-container-id-7 input.sk-toggleable__control:checked~div.sk-toggleable__content {max-height: 200px;max-width: 100%;overflow: auto;}#sk-container-id-7 input.sk-toggleable__control:checked~label.sk-toggleable__label-arrow:before {content: \"▾\";}#sk-container-id-7 div.sk-estimator input.sk-toggleable__control:checked~label.sk-toggleable__label {background-color: #d4ebff;}#sk-container-id-7 div.sk-label input.sk-toggleable__control:checked~label.sk-toggleable__label {background-color: #d4ebff;}#sk-container-id-7 input.sk-hidden--visually {border: 0;clip: rect(1px 1px 1px 1px);clip: rect(1px, 1px, 1px, 1px);height: 1px;margin: -1px;overflow: hidden;padding: 0;position: absolute;width: 1px;}#sk-container-id-7 div.sk-estimator {font-family: monospace;background-color: #f0f8ff;border: 1px dotted black;border-radius: 0.25em;box-sizing: border-box;margin-bottom: 0.5em;}#sk-container-id-7 div.sk-estimator:hover {background-color: #d4ebff;}#sk-container-id-7 div.sk-parallel-item::after {content: \"\";width: 100%;border-bottom: 1px solid gray;flex-grow: 1;}#sk-container-id-7 div.sk-label:hover label.sk-toggleable__label {background-color: #d4ebff;}#sk-container-id-7 div.sk-serial::before {content: \"\";position: absolute;border-left: 1px solid gray;box-sizing: border-box;top: 0;bottom: 0;left: 50%;z-index: 0;}#sk-container-id-7 div.sk-serial {display: flex;flex-direction: column;align-items: center;background-color: white;padding-right: 0.2em;padding-left: 0.2em;position: relative;}#sk-container-id-7 div.sk-item {position: relative;z-index: 1;}#sk-container-id-7 div.sk-parallel {display: flex;align-items: stretch;justify-content: center;background-color: white;position: relative;}#sk-container-id-7 div.sk-item::before, #sk-container-id-7 div.sk-parallel-item::before {content: \"\";position: absolute;border-left: 1px solid gray;box-sizing: border-box;top: 0;bottom: 0;left: 50%;z-index: -1;}#sk-container-id-7 div.sk-parallel-item {display: flex;flex-direction: column;z-index: 1;position: relative;background-color: white;}#sk-container-id-7 div.sk-parallel-item:first-child::after {align-self: flex-end;width: 50%;}#sk-container-id-7 div.sk-parallel-item:last-child::after {align-self: flex-start;width: 50%;}#sk-container-id-7 div.sk-parallel-item:only-child::after {width: 0;}#sk-container-id-7 div.sk-dashed-wrapped {border: 1px dashed gray;margin: 0 0.4em 0.5em 0.4em;box-sizing: border-box;padding-bottom: 0.4em;background-color: white;}#sk-container-id-7 div.sk-label label {font-family: monospace;font-weight: bold;display: inline-block;line-height: 1.2em;}#sk-container-id-7 div.sk-label-container {text-align: center;}#sk-container-id-7 div.sk-container {/* jupyter's `normalize.less` sets `[hidden] { display: none; }` but bootstrap.min.css set `[hidden] { display: none !important; }` so we also need the `!important` here to be able to override the default hidden behavior on the sphinx rendered scikit-learn.org. See: https://github.com/scikit-learn/scikit-learn/issues/21755 */display: inline-block !important;position: relative;}#sk-container-id-7 div.sk-text-repr-fallback {display: none;}</style><div id=\"sk-container-id-7\" class=\"sk-top-container\"><div class=\"sk-text-repr-fallback\"><pre>MLPClassifier(hidden_layer_sizes=(512, 512, 512), learning_rate_init=0.005)</pre><b>In a Jupyter environment, please rerun this cell to show the HTML representation or trust the notebook. <br />On GitHub, the HTML representation is unable to render, please try loading this page with nbviewer.org.</b></div><div class=\"sk-container\" hidden><div class=\"sk-item\"><div class=\"sk-estimator sk-toggleable\"><input class=\"sk-toggleable__control sk-hidden--visually\" id=\"sk-estimator-id-7\" type=\"checkbox\" checked><label for=\"sk-estimator-id-7\" class=\"sk-toggleable__label sk-toggleable__label-arrow\">MLPClassifier</label><div class=\"sk-toggleable__content\"><pre>MLPClassifier(hidden_layer_sizes=(512, 512, 512), learning_rate_init=0.005)</pre></div></div></div></div></div>"
      ],
      "text/plain": [
       "MLPClassifier(hidden_layer_sizes=(512, 512, 512), learning_rate_init=0.005)"
      ]
     },
     "execution_count": 23,
     "metadata": {},
     "output_type": "execute_result"
    }
   ],
   "source": [
    "from sklearn.neural_network import MLPClassifier\n",
    "\n",
    "mlp = MLPClassifier(max_iter=200, hidden_layer_sizes=(512, 512, 512), learning_rate=\"constant\", learning_rate_init=0.005)\n",
    "mlp.fit(train_features, train_set.y)"
   ]
  },
  {
   "cell_type": "code",
   "execution_count": 24,
   "id": "a19d9114-a684-4f10-83c3-7a0b6654daeb",
   "metadata": {},
   "outputs": [
    {
     "data": {
      "text/plain": [
       "0.6285610451686818"
      ]
     },
     "execution_count": 24,
     "metadata": {},
     "output_type": "execute_result"
    }
   ],
   "source": [
    "from sklearn.metrics import f1_score\n",
    "\n",
    "score = f1_score(test_set.y,mlp.predict(test_features), average =\"micro\")\n",
    "score"
   ]
  },
  {
   "cell_type": "code",
   "execution_count": 61,
   "id": "3117da1a-89b1-4508-a5fa-988cde226d3c",
   "metadata": {},
   "outputs": [],
   "source": [
    "from torch import nn\n",
    "import torch.nn.functional as F\n",
    "\n",
    "class MLP(nn.Module):\n",
    "    def __init__(self, input_dim, hidden_dim, output_dim, dropout):\n",
    "        super(MLP, self).__init__()\n",
    "        self.dropout = dropout\n",
    "        self.lin_conv_0 = nn.Linear(input_dim, hidden_dim)\n",
    "        self.lin_0 = nn.Linear(input_dim, hidden_dim)\n",
    "        self.lin_comb_0 = nn.Linear(hidden_dim, hidden_dim)\n",
    "\n",
    "        self.lin_conv_1 = nn.Linear(hidden_dim, hidden_dim)\n",
    "        self.lin_1 = nn.Linear(hidden_dim, hidden_dim)\n",
    "        self.lin_comb_1 = nn.Linear(hidden_dim, hidden_dim)\n",
    "\n",
    "        self.lin_conv_2 = nn.Linear(hidden_dim, output_dim)\n",
    "        self.lin_2 = nn.Linear(hidden_dim, hidden_dim)\n",
    "        self.lin_comb_2 = nn.Linear(hidden_dim, output_dim)\n",
    "\n",
    "    def forward(self, x, x_conv):\n",
    "        x = self.lin_0(x)\n",
    "        x_conv = self.lin_conv_0(x_conv)\n",
    "        # x_comb = self.lin_comb_0(x_conv + x)\n",
    "        # x_comb = F.elu(x_comb)\n",
    "        x = F.elu(x)\n",
    "        x_conv = F.elu(x_conv)\n",
    "        # x_new = F.dropout(x_new, p=self.dropout, training=self.training)\n",
    "        x = self.lin_1(x)\n",
    "        x_conv = self.lin_conv_1(x_conv)\n",
    "        # x_comb = self.lin_comb_1(x_conv + x)\n",
    "        # x_comb = F.elu(x_comb)\n",
    "        x = F.elu(x)\n",
    "        x_conv = F.elu(x_conv)\n",
    "        # x_new = F.dropout(x_new, p=self.dropout, training=self.training)\n",
    "        x = self.lin_2(x)\n",
    "        x_conv = self.lin_conv_2(x_conv)\n",
    "        # x_comb = self.lin_comb_2(x_conv + x)\n",
    "        return x_conv #x_comb      \n",
    "              "
   ]
  },
  {
   "cell_type": "code",
   "execution_count": 66,
   "id": "534f82fe-393b-47c8-9375-b78e784a3187",
   "metadata": {},
   "outputs": [
    {
     "data": {
      "application/vnd.jupyter.widget-view+json": {
       "model_id": "eabce6152b85402f859b86af066cd5b5",
       "version_major": 2,
       "version_minor": 0
      },
      "text/plain": [
       "  0%|          | 0/5000 [00:00<?, ?it/s]"
      ]
     },
     "metadata": {},
     "output_type": "display_data"
    }
   ],
   "source": [
    "from tqdm.notebook import tqdm\n",
    "device = torch.device(\"cuda:1\")\n",
    "model = MLP(train_set.x.shape[1], 256, train_set.y.shape[1], dropout = 0.2).to(device)\n",
    "optim = torch.optim.Adam(params=model.parameters(), lr = 0.0005)\n",
    "EPOCHS = 5000\n",
    "\n",
    "losses = {}\n",
    "TRAIN = \"train\"\n",
    "losses[TRAIN] = []\n",
    "\n",
    "for epoch in tqdm(range(EPOCHS)):\n",
    "    model.train()\n",
    "    optim.zero_grad()\n",
    "    out = model(train_set.x.to(device), train_features.to(device))\n",
    "    loss = F.binary_cross_entropy_with_logits(out, train_set.y.to(device))\n",
    "    losses[TRAIN].append(loss.item())\n",
    "    loss.backward()\n",
    "    optim.step()"
   ]
  },
  {
   "cell_type": "code",
   "execution_count": 67,
   "id": "ac63f6b1-2ea2-489f-bfed-7203b5b4a172",
   "metadata": {},
   "outputs": [
    {
     "data": {
      "text/plain": [
       "Text(0.5, 1.0, 'Loss curves')"
      ]
     },
     "execution_count": 67,
     "metadata": {},
     "output_type": "execute_result"
    },
    {
     "data": {
      "image/png": "[encoded data removed]",
      "text/plain": [
       "<Figure size 640x480 with 1 Axes>"
      ]
     },
     "metadata": {},
     "output_type": "display_data"
    }
   ],
   "source": [
    "import matplotlib.pyplot as plt\n",
    "plt.plot(range(EPOCHS), losses[TRAIN])\n",
    "plt.xlabel(\"Epochs\")\n",
    "plt.ylabel(\"Loss\")\n",
    "plt.legend([\"Train loss\"])\n",
    "plt.title(\"Loss curves\")"
   ]
  },
  {
   "cell_type": "code",
   "execution_count": 68,
   "id": "bfa4aa2d-13a3-40df-8d9f-e904877e6243",
   "metadata": {},
   "outputs": [],
   "source": [
    "TEST = \"test\"\n",
    "VAL = \"val\"\n",
    "losses[TEST] = []\n",
    "losses[VAL] = []\n",
    "\n",
    "with torch.inference_mode():\n",
    "    model.eval()\n",
    "    out = model(test_set.x.to(device), test_features.to(device))\n",
    "    eval_loss = F.binary_cross_entropy_with_logits(out, test_set.y.to(device))\n",
    "    losses[TEST].append(eval_loss.item())\n",
    "    y_pred = torch.round(torch.sigmoid(out))\n",
    "    "
   ]
  },
  {
   "cell_type": "code",
   "execution_count": 69,
   "id": "cb130806-ba63-4740-b267-20df07ce4658",
   "metadata": {},
   "outputs": [
    {
     "data": {
      "text/plain": [
       "0.642657325497221"
      ]
     },
     "execution_count": 69,
     "metadata": {},
     "output_type": "execute_result"
    }
   ],
   "source": [
    "from sklearn.metrics import f1_score\n",
    "\n",
    "f1_score(test_set.y, y_pred.cpu(), average=\"micro\")"
   ]
  },
  {
   "cell_type": "code",
   "execution_count": null,
   "id": "764de18e-c0d2-4ae3-a08d-67843410585b",
   "metadata": {},
   "outputs": [],
   "source": []
  }
 ],
 "metadata": {
  "kernelspec": {
   "display_name": "Python 3 (ipykernel)",
   "language": "python",
   "name": "python3"
  },
  "language_info": {
   "codemirror_mode": {
    "name": "ipython",
    "version": 3
   },
   "file_extension": ".py",
   "mimetype": "text/x-python",
   "name": "python",
   "nbconvert_exporter": "python",
   "pygments_lexer": "ipython3",
   "version": "3.10.12"
  }
 },
 "nbformat": 4,
 "nbformat_minor": 5
}
