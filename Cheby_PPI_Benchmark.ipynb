{
 "cells": [
  {
   "cell_type": "markdown",
   "id": "0f8c7faa-02df-41f6-8135-eca9a21ad25f",
   "metadata": {},
   "source": [
    "# Benchmark for ChebyNets"
   ]
  },
  {
   "cell_type": "markdown",
   "id": "bbf94ed0-4984-4075-ab04-fa367c31c782",
   "metadata": {},
   "source": [
    "## Read data"
   ]
  },
  {
   "cell_type": "code",
   "execution_count": 2,
   "id": "fb1c65ba-0223-44e0-9b52-c86a995eba54",
   "metadata": {},
   "outputs": [],
   "source": [
    "from torch_geometric.datasets import PPI\n",
    "import torch_geometric.transforms as T\n",
    "from torch_geometric.utils import add_self_loops\n",
    "from torch_geometric.loader import DataLoader\n",
    "import torch\n",
    "\n",
    "TRAIN = \"train\"\n",
    "VAL = \"val\"\n",
    "TEST = \"test\"\n",
    "set_names = [TRAIN, TEST, VAL]\n",
    "\n",
    "train_dataset = PPI(root='/tmp/PPI', split=\"train\")\n",
    "val_dataset = PPI(root='/tmp/PPI', split=\"val\")\n",
    "test_dataset = PPI(root='/tmp/PPI', split=\"test\")\n",
    "\n",
    "train_loader = iter(DataLoader(train_dataset, batch_size=len(train_dataset)))\n",
    "val_loader = iter(DataLoader(val_dataset, batch_size=len(val_dataset)))\n",
    "test_loader = iter(DataLoader(test_dataset, batch_size=len(test_dataset)))\n",
    "\n",
    "device = torch.device(\"cuda:1\") if torch.cuda.is_available() else torch.device(\"cpu\")\n",
    "\n",
    "train_set = next(train_loader)\n",
    "test_set = next(test_loader)\n",
    "val_set = next(val_loader)\n",
    "\n",
    "sets = dict()\n",
    "sets[TRAIN] = train_dataset\n",
    "sets[TEST] = test_dataset\n",
    "sets[VAL] = val_dataset"
   ]
  },
  {
   "cell_type": "markdown",
   "id": "b6dbeecf-c13a-4a0a-8f6e-1bd8e857df01",
   "metadata": {},
   "source": [
    "## Define GNN architecture"
   ]
  },
  {
   "cell_type": "code",
   "execution_count": 3,
   "id": "93afa03f-a35a-44df-82e0-212cf82859d8",
   "metadata": {},
   "outputs": [],
   "source": [
    "import torch\n",
    "from torch import nn\n",
    "from torch_geometric.nn import ChebConv\n",
    "from torch.nn import Linear\n",
    "import torch.nn.functional as F\n",
    "class GNN(nn.Module):\n",
    "    def __init__(self, in_dim, hidden_dim, out_dim, dropout = .2, normalization  = \"sym\", K = 1):\n",
    "        super(GNN, self).__init__()\n",
    "        \n",
    "        self.conv1 = ChebConv(in_dim, hidden_dim, normalization  = normalization , K=K)\n",
    "        self.lin1 = Linear(in_dim, hidden_dim)\n",
    "        self.conv2 = ChebConv(hidden_dim, hidden_dim, normalization  = normalization , K=K)\n",
    "        self.lin2 = Linear(hidden_dim, hidden_dim)\n",
    "        self.conv3 = ChebConv(hidden_dim, out_dim, normalization  = normalization , K=K)\n",
    "        self.lin3 = Linear(hidden_dim, out_dim)\n",
    "        self.dropout = nn.Dropout(p=dropout)\n",
    "        \n",
    "    def forward(self, x, edge_index):\n",
    "        x = self.dropout(x)\n",
    "        x = self.conv1(x, edge_index) + self.lin1(x)\n",
    "        x = F.elu(x)\n",
    "        x = self.dropout(x)\n",
    "        x = self.conv2(x, edge_index) + self.lin2(x)\n",
    "        x = F.elu(x)\n",
    "        x = self.dropout(x)\n",
    "        x = self.conv3(x, edge_index) + self.lin3(x)\n",
    "        return x"
   ]
  },
  {
   "cell_type": "markdown",
   "id": "aff697d0-a1d0-44c6-80c7-dd35c6dc052e",
   "metadata": {},
   "source": [
    "## Hyperparameter tuning for GNN"
   ]
  },
  {
   "cell_type": "code",
   "execution_count": null,
   "id": "3e8bf61d-0c5c-427f-910f-68f8ce721735",
   "metadata": {},
   "outputs": [],
   "source": [
    "from sklearn.model_selection import ParameterGrid\n",
    "from tqdm.notebook import tqdm\n",
    "\n",
    "space = {\n",
    "    \"WEIGHT_DECAYS\": [0],#[0, 1e-3]\n",
    "    \"DROPOUT\": [0.0, 0.2],\n",
    "    \"HIDDEN_DIMS\": [128, 256, 512],\n",
    "    \"LEARNING_RATES\": [1e-4, 5e-3, 1e-3],\n",
    "    \"K\": [1,2,3],\n",
    "    \"NORMALIZATION\": [None, \"sym\", \"rw\"],\n",
    "}\n",
    "\n",
    "param_grid = ParameterGrid(space)\n",
    "best_params_overall = None\n",
    "best_val_overall = float(\"inf\")\n",
    "\n",
    "for params in tqdm(param_grid.__iter__()):    \n",
    "    gnnTraining = GNNTraining(device = device,\n",
    "            GNN = GNN,\n",
    "            sets = sets,\n",
    "            hidden_dim = params[\"HIDDEN_DIMS\"],\n",
    "            lr = params[\"LEARNING_RATES\"],\n",
    "            dropout = params[\"DROPOUT\"],\n",
    "            weight_decay=params[\"WEIGHT_DECAYS\"],\n",
    "            epochs = 2_000,\n",
    "            kwargs = {\"K\":params[\"K\"], \"normalization\":params[\"NORMALIZATION\"]})\n",
    "    gnnTraining.train()\n",
    "    \n",
    "    if gnnTraining.best_val_loss <= best_val_overall:\n",
    "        print(\"Updated params\")\n",
    "        best_val_overall = gnnTraining.best_val_loss\n",
    "        best_params_overall = params"
   ]
  },
  {
   "cell_type": "markdown",
   "id": "e73e6ea2-bb2a-4668-8ceb-4a03fe7558c6",
   "metadata": {},
   "source": [
    "## Best hyperparamers"
   ]
  },
  {
   "cell_type": "code",
   "execution_count": 18,
   "id": "49cf37c2-ec99-49dc-9a5c-39a3efe6ab3c",
   "metadata": {},
   "outputs": [
    {
     "data": {
      "text/plain": [
       "{'DROPOUT': 0.2,\n",
       " 'HIDDEN_DIMS': 512,\n",
       " 'K': 2,\n",
       " 'LEARNING_RATES': 0.005,\n",
       " 'NORMALIZATION': 'sym',\n",
       " 'WEIGHT_DECAYS': 0}"
      ]
     },
     "execution_count": 18,
     "metadata": {},
     "output_type": "execute_result"
    }
   ],
   "source": [
    "best_params_overall"
   ]
  },
  {
   "cell_type": "markdown",
   "id": "dc973b0c-d6eb-4494-a9d9-06455930e027",
   "metadata": {},
   "source": [
    "## Training & Evaluation"
   ]
  },
  {
   "cell_type": "code",
   "execution_count": null,
   "id": "a8bd129f-0eb5-4df4-9c8e-4d8476850500",
   "metadata": {},
   "outputs": [
    {
     "data": {
      "application/vnd.jupyter.widget-view+json": {
       "model_id": "c49e61746f3a47a6ade3441af79a72ad",
       "version_major": 2,
       "version_minor": 0
      },
      "text/plain": [
       "  0%|          | 0/2000 [00:00<?, ?it/s]"
      ]
     },
     "metadata": {},
     "output_type": "display_data"
    }
   ],
   "source": [
    "from tqdm.notebook import tqdm\n",
    "from GNNTraining import GNNTraining\n",
    "from GNNEvaluate import GNNEvaluate \n",
    "\n",
    "gnnTraining = GNNTraining(device = device,\n",
    "            GNN = GNN,\n",
    "            sets = sets,\n",
    "            hidden_dim = 512,\n",
    "            lr = 0.005,\n",
    "            dropout = 0.2,\n",
    "            weight_decay=0.0,\n",
    "            epochs = 2_000,\n",
    "            kwargs = {\"K\":2, \"normalization\":'sym'})\n",
    "best_model = gnnTraining.train()\n",
    "\n",
    "gnnEvaluate = GNNEvaluate(device = device, sets = sets)\n",
    "gnnEvaluate.evaluate(best_model)"
   ]
  },
  {
   "cell_type": "markdown",
   "id": "645ddc03-60a8-432d-8de5-8a3eb5e4a971",
   "metadata": {},
   "source": [
    "## Standard deviation over 10 runs"
   ]
  },
  {
   "cell_type": "code",
   "execution_count": null,
   "id": "a0f4eefb-2ce2-43a5-8dd1-a4b8a03c0c26",
   "metadata": {},
   "outputs": [],
   "source": [
    "from GNNTraining import GNNTraining\n",
    "from GNNEvaluate import GNNEvaluate \n",
    "\n",
    "times = []\n",
    "scores = []\n",
    "for i in tqdm(range(10)):\n",
    "    gnnTraining = GNNTraining(device = device,\n",
    "           GNN = GNN,\n",
    "            sets = sets,\n",
    "            hidden_dim = 512,\n",
    "            lr = 0.005,\n",
    "            dropout = 0.2,\n",
    "            weight_decay=0.0,\n",
    "            epochs = 2_000,\n",
    "            kwargs = {\"K\":2, \"normalization\":'sym'})\n",
    "    best_model = gnnTraining.train()\n",
    "    times.append(gnnTraining.training_time)\n",
    "    \n",
    "    gnnEvaluate = GNNEvaluate(device = device,\n",
    "                sets = sets)\n",
    "    score = gnnEvaluate.evaluate(best_model)\n",
    "    scores.append(score)"
   ]
  },
  {
   "cell_type": "code",
   "execution_count": null,
   "id": "a99873f4-6b2e-45b8-87ca-d45d99e455ca",
   "metadata": {},
   "outputs": [],
   "source": [
    "import numpy as np\n",
    "print(f\"F1-score: {np.mean(scores)} +- {np.std(scores)}; {np.mean(times)}\")"
   ]
  },
  {
   "cell_type": "code",
   "execution_count": null,
   "id": "752a9940-4609-4d69-9eeb-6aa6c9b0f083",
   "metadata": {},
   "outputs": [],
   "source": []
  }
 ],
 "metadata": {
  "kernelspec": {
   "display_name": "Python 3 (ipykernel)",
   "language": "python",
   "name": "python3"
  },
  "language_info": {
   "codemirror_mode": {
    "name": "ipython",
    "version": 3
   },
   "file_extension": ".py",
   "mimetype": "text/x-python",
   "name": "python",
   "nbconvert_exporter": "python",
   "pygments_lexer": "ipython3",
   "version": "3.10.12"
  }
 },
 "nbformat": 4,
 "nbformat_minor": 5
}
