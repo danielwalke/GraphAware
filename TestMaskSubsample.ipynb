{
 "cells": [
  {
   "cell_type": "code",
   "execution_count": 62,
   "id": "9728c20d-1c90-4937-817d-c3f5ab552399",
   "metadata": {},
   "outputs": [],
   "source": [
    "import torch"
   ]
  },
  {
   "cell_type": "code",
   "execution_count": 88,
   "id": "e7fc39c7-f5f8-4e9f-b2b9-15aeed2c8452",
   "metadata": {},
   "outputs": [],
   "source": [
    "mask = torch.zeros((100, ), dtype = torch.bool)\n",
    "train_index = torch.randperm(mask.shape[0])[:60]\n",
    "mask[train_index] = 1"
   ]
  },
  {
   "cell_type": "code",
   "execution_count": 95,
   "id": "a534d9be-50a9-4c3a-ba7c-32cdacc7378d",
   "metadata": {},
   "outputs": [],
   "source": [
    "def train_val_masks(train_mask, manual_seed = None, train_size = 0.8):\n",
    "    if manual_seed:\n",
    "        torch.manual_seed(manual_seed)\n",
    "    train_index = train_mask.nonzero().squeeze()\n",
    "    print(train_index)\n",
    "    min = int(train_size*train_index.shape[0])\n",
    "    rand_train_index = torch.randperm(train_index.shape[0])\n",
    "    print(rand_train_index)\n",
    "    rand_train_index_train_index = rand_train_index[:min]\n",
    "    rand_train_index_val_index = rand_train_index[min:]\n",
    "\n",
    "    train_mask = torch.zeros_like(train_mask)\n",
    "    val_mask = torch.zeros_like(train_mask)\n",
    "    \n",
    "    new_train_idx = train_index[rand_train_index_train_index]\n",
    "    new_val_idx = train_index[rand_train_index_val_index]\n",
    "\n",
    "    print(new_train_idx)\n",
    "    print(new_val_idx)\n",
    "\n",
    "    train_mask[new_train_idx] = 1\n",
    "    val_mask[new_val_idx] = 1\n",
    "    return train_mask, val_mask"
   ]
  },
  {
   "cell_type": "code",
   "execution_count": 96,
   "id": "92e9680d-f5c0-459f-88e4-77709c7556e1",
   "metadata": {},
   "outputs": [
    {
     "name": "stdout",
     "output_type": "stream",
     "text": [
      "tensor([ 1,  2,  5,  8, 10, 11, 12, 13, 14, 15, 16, 18, 20, 21, 22, 23, 25, 27,\n",
      "        28, 29, 31, 32, 34, 35, 37, 41, 42, 43, 44, 45, 47, 50, 51, 52, 55, 57,\n",
      "        59, 60, 61, 62, 63, 65, 71, 72, 75, 76, 77, 78, 79, 82, 83, 84, 87, 88,\n",
      "        89, 92, 93, 94, 95, 96])\n",
      "tensor([42, 35, 52, 55, 22, 15, 40, 30, 26, 47, 38, 16, 10, 50, 41, 37, 31, 32,\n",
      "        27, 28, 49,  1, 57, 51, 59, 58, 53, 48, 24, 33,  0, 21, 39, 20, 23, 29,\n",
      "         9, 12, 56, 54, 46, 14, 43, 44,  3,  8, 45, 11,  4, 34, 13, 36, 17, 25,\n",
      "         6, 19,  7,  5,  2, 18])\n",
      "tensor([71, 57, 87, 92, 34, 23, 63, 47, 42, 78, 61, 25, 16, 83, 65, 60, 50, 51,\n",
      "        43, 44, 82,  2, 94, 84, 96, 95, 88, 79, 37, 52,  1, 32, 62, 31, 35, 45,\n",
      "        15, 20, 93, 89, 77, 22, 72, 75,  8, 14, 76, 18])\n",
      "tensor([10, 55, 21, 59, 27, 41, 12, 29, 13, 11,  5, 28])\n"
     ]
    }
   ],
   "source": [
    "train_mask, val_mask = train_val_masks(mask, 42)"
   ]
  }
 ],
 "metadata": {
  "kernelspec": {
   "display_name": "Python 3 (ipykernel)",
   "language": "python",
   "name": "python3"
  },
  "language_info": {
   "codemirror_mode": {
    "name": "ipython",
    "version": 3
   },
   "file_extension": ".py",
   "mimetype": "text/x-python",
   "name": "python",
   "nbconvert_exporter": "python",
   "pygments_lexer": "ipython3",
   "version": "3.10.12"
  }
 },
 "nbformat": 4,
 "nbformat_minor": 5
}
