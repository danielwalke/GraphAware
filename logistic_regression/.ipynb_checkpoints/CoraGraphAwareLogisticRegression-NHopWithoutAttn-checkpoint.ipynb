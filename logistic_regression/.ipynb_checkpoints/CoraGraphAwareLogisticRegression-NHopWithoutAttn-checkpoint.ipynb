{
 "cells": [
  {
   "cell_type": "code",
   "execution_count": 1,
   "id": "b7873d1c-92e3-48d0-a654-a6068e83070f",
   "metadata": {
    "scrolled": true
   },
   "outputs": [
    {
     "name": "stdout",
     "output_type": "stream",
     "text": [
      "Defaulting to user installation because normal site-packages is not writeable\n",
      "Requirement already satisfied: torchmetrics in /home/dwalke/.local/lib/python3.10/site-packages (1.2.0)\n",
      "Requirement already satisfied: numpy>1.20.0 in /home/dwalke/.local/lib/python3.10/site-packages (from torchmetrics) (1.26.1)\n",
      "Requirement already satisfied: torch>=1.8.1 in /home/dwalke/.local/lib/python3.10/site-packages (from torchmetrics) (2.1.0)\n",
      "Requirement already satisfied: lightning-utilities>=0.8.0 in /home/dwalke/.local/lib/python3.10/site-packages (from torchmetrics) (0.9.0)\n",
      "Requirement already satisfied: packaging>=17.1 in /home/dwalke/.local/lib/python3.10/site-packages (from lightning-utilities>=0.8.0->torchmetrics) (23.2)\n",
      "Requirement already satisfied: typing-extensions in /home/dwalke/.local/lib/python3.10/site-packages (from lightning-utilities>=0.8.0->torchmetrics) (4.8.0)\n",
      "Requirement already satisfied: filelock in /home/dwalke/.local/lib/python3.10/site-packages (from torch>=1.8.1->torchmetrics) (3.12.4)\n",
      "Requirement already satisfied: sympy in /usr/local/lib/python3.10/dist-packages (from torch>=1.8.1->torchmetrics) (1.11.1)\n",
      "Requirement already satisfied: networkx in /usr/local/lib/python3.10/dist-packages (from torch>=1.8.1->torchmetrics) (3.0)\n",
      "Requirement already satisfied: jinja2 in /usr/lib/python3/dist-packages (from torch>=1.8.1->torchmetrics) (3.0.3)\n",
      "Requirement already satisfied: fsspec in /home/dwalke/.local/lib/python3.10/site-packages (from torch>=1.8.1->torchmetrics) (2023.9.2)\n",
      "Requirement already satisfied: nvidia-cuda-nvrtc-cu12==12.1.105 in /home/dwalke/.local/lib/python3.10/site-packages (from torch>=1.8.1->torchmetrics) (12.1.105)\n",
      "Requirement already satisfied: nvidia-cuda-runtime-cu12==12.1.105 in /home/dwalke/.local/lib/python3.10/site-packages (from torch>=1.8.1->torchmetrics) (12.1.105)\n",
      "Requirement already satisfied: nvidia-cuda-cupti-cu12==12.1.105 in /home/dwalke/.local/lib/python3.10/site-packages (from torch>=1.8.1->torchmetrics) (12.1.105)\n",
      "Requirement already satisfied: nvidia-cudnn-cu12==8.9.2.26 in /home/dwalke/.local/lib/python3.10/site-packages (from torch>=1.8.1->torchmetrics) (8.9.2.26)\n",
      "Requirement already satisfied: nvidia-cublas-cu12==12.1.3.1 in /home/dwalke/.local/lib/python3.10/site-packages (from torch>=1.8.1->torchmetrics) (12.1.3.1)\n",
      "Requirement already satisfied: nvidia-cufft-cu12==11.0.2.54 in /home/dwalke/.local/lib/python3.10/site-packages (from torch>=1.8.1->torchmetrics) (11.0.2.54)\n",
      "Requirement already satisfied: nvidia-curand-cu12==10.3.2.106 in /home/dwalke/.local/lib/python3.10/site-packages (from torch>=1.8.1->torchmetrics) (10.3.2.106)\n",
      "Requirement already satisfied: nvidia-cusolver-cu12==11.4.5.107 in /home/dwalke/.local/lib/python3.10/site-packages (from torch>=1.8.1->torchmetrics) (11.4.5.107)\n",
      "Requirement already satisfied: nvidia-cusparse-cu12==12.1.0.106 in /home/dwalke/.local/lib/python3.10/site-packages (from torch>=1.8.1->torchmetrics) (12.1.0.106)\n",
      "Requirement already satisfied: nvidia-nccl-cu12==2.18.1 in /home/dwalke/.local/lib/python3.10/site-packages (from torch>=1.8.1->torchmetrics) (2.18.1)\n",
      "Requirement already satisfied: nvidia-nvtx-cu12==12.1.105 in /home/dwalke/.local/lib/python3.10/site-packages (from torch>=1.8.1->torchmetrics) (12.1.105)\n",
      "Requirement already satisfied: triton==2.1.0 in /home/dwalke/.local/lib/python3.10/site-packages (from torch>=1.8.1->torchmetrics) (2.1.0)\n",
      "Requirement already satisfied: nvidia-nvjitlink-cu12 in /home/dwalke/.local/lib/python3.10/site-packages (from nvidia-cusolver-cu12==11.4.5.107->torch>=1.8.1->torchmetrics) (12.3.52)\n",
      "Requirement already satisfied: mpmath>=0.19 in /usr/local/lib/python3.10/dist-packages (from sympy->torch>=1.8.1->torchmetrics) (1.3.0)\n",
      "\n",
      "\u001b[1m[\u001b[0m\u001b[34;49mnotice\u001b[0m\u001b[1;39;49m]\u001b[0m\u001b[39;49m A new release of pip is available: \u001b[0m\u001b[31;49m23.2.1\u001b[0m\u001b[39;49m -> \u001b[0m\u001b[32;49m23.3.1\u001b[0m\n",
      "\u001b[1m[\u001b[0m\u001b[34;49mnotice\u001b[0m\u001b[1;39;49m]\u001b[0m\u001b[39;49m To update, run: \u001b[0m\u001b[32;49m/usr/bin/python -m pip install --upgrade pip\u001b[0m\n",
      "Defaulting to user installation because normal site-packages is not writeable\n",
      "Requirement already satisfied: comet_ml in /home/dwalke/.local/lib/python3.10/site-packages (3.34.1)\n",
      "Requirement already satisfied: torch in /home/dwalke/.local/lib/python3.10/site-packages (2.1.0)\n",
      "Requirement already satisfied: torchvision in /home/dwalke/.local/lib/python3.10/site-packages (0.16.0)\n",
      "Requirement already satisfied: tqdm in /usr/local/lib/python3.10/dist-packages (4.65.0)\n",
      "Requirement already satisfied: jsonschema!=3.1.0,>=2.6.0 in /home/dwalke/.local/lib/python3.10/site-packages (from comet_ml) (4.19.1)\n",
      "Requirement already satisfied: psutil>=5.6.3 in /usr/local/lib/python3.10/dist-packages (from comet_ml) (5.9.4)\n",
      "Requirement already satisfied: python-box<7.0.0 in /home/dwalke/.local/lib/python3.10/site-packages (from comet_ml) (6.1.0)\n",
      "Requirement already satisfied: requests-toolbelt>=0.8.0 in /home/dwalke/.local/lib/python3.10/site-packages (from comet_ml) (1.0.0)\n",
      "Requirement already satisfied: requests>=2.18.4 in /home/dwalke/.local/lib/python3.10/site-packages (from comet_ml) (2.31.0)\n",
      "Requirement already satisfied: semantic-version>=2.8.0 in /home/dwalke/.local/lib/python3.10/site-packages (from comet_ml) (2.10.0)\n",
      "Requirement already satisfied: sentry-sdk>=1.1.0 in /home/dwalke/.local/lib/python3.10/site-packages (from comet_ml) (1.32.0)\n",
      "Requirement already satisfied: simplejson in /home/dwalke/.local/lib/python3.10/site-packages (from comet_ml) (3.19.2)\n",
      "Requirement already satisfied: six in /usr/lib/python3/dist-packages (from comet_ml) (1.16.0)\n",
      "Requirement already satisfied: urllib3>=1.21.1 in /home/dwalke/.local/lib/python3.10/site-packages (from comet_ml) (2.0.7)\n",
      "Requirement already satisfied: websocket-client<1.4.0,>=0.55.0 in /home/dwalke/.local/lib/python3.10/site-packages (from comet_ml) (1.3.3)\n",
      "Requirement already satisfied: wrapt>=1.11.2 in /home/dwalke/.local/lib/python3.10/site-packages (from comet_ml) (1.15.0)\n",
      "Requirement already satisfied: wurlitzer>=1.0.2 in /home/dwalke/.local/lib/python3.10/site-packages (from comet_ml) (3.0.3)\n",
      "Requirement already satisfied: everett[ini]<3.2.0,>=1.0.1 in /home/dwalke/.local/lib/python3.10/site-packages (from comet_ml) (3.1.0)\n",
      "Requirement already satisfied: dulwich!=0.20.33,>=0.20.6 in /home/dwalke/.local/lib/python3.10/site-packages (from comet_ml) (0.21.6)\n",
      "Requirement already satisfied: rich>=13.3.2 in /home/dwalke/.local/lib/python3.10/site-packages (from comet_ml) (13.6.0)\n",
      "Requirement already satisfied: filelock in /home/dwalke/.local/lib/python3.10/site-packages (from torch) (3.12.4)\n",
      "Requirement already satisfied: typing-extensions in /home/dwalke/.local/lib/python3.10/site-packages (from torch) (4.8.0)\n",
      "Requirement already satisfied: sympy in /usr/local/lib/python3.10/dist-packages (from torch) (1.11.1)\n",
      "Requirement already satisfied: networkx in /usr/local/lib/python3.10/dist-packages (from torch) (3.0)\n",
      "Requirement already satisfied: jinja2 in /usr/lib/python3/dist-packages (from torch) (3.0.3)\n",
      "Requirement already satisfied: fsspec in /home/dwalke/.local/lib/python3.10/site-packages (from torch) (2023.9.2)\n",
      "Requirement already satisfied: nvidia-cuda-nvrtc-cu12==12.1.105 in /home/dwalke/.local/lib/python3.10/site-packages (from torch) (12.1.105)\n",
      "Requirement already satisfied: nvidia-cuda-runtime-cu12==12.1.105 in /home/dwalke/.local/lib/python3.10/site-packages (from torch) (12.1.105)\n",
      "Requirement already satisfied: nvidia-cuda-cupti-cu12==12.1.105 in /home/dwalke/.local/lib/python3.10/site-packages (from torch) (12.1.105)\n",
      "Requirement already satisfied: nvidia-cudnn-cu12==8.9.2.26 in /home/dwalke/.local/lib/python3.10/site-packages (from torch) (8.9.2.26)\n",
      "Requirement already satisfied: nvidia-cublas-cu12==12.1.3.1 in /home/dwalke/.local/lib/python3.10/site-packages (from torch) (12.1.3.1)\n",
      "Requirement already satisfied: nvidia-cufft-cu12==11.0.2.54 in /home/dwalke/.local/lib/python3.10/site-packages (from torch) (11.0.2.54)\n",
      "Requirement already satisfied: nvidia-curand-cu12==10.3.2.106 in /home/dwalke/.local/lib/python3.10/site-packages (from torch) (10.3.2.106)\n",
      "Requirement already satisfied: nvidia-cusolver-cu12==11.4.5.107 in /home/dwalke/.local/lib/python3.10/site-packages (from torch) (11.4.5.107)\n",
      "Requirement already satisfied: nvidia-cusparse-cu12==12.1.0.106 in /home/dwalke/.local/lib/python3.10/site-packages (from torch) (12.1.0.106)\n",
      "Requirement already satisfied: nvidia-nccl-cu12==2.18.1 in /home/dwalke/.local/lib/python3.10/site-packages (from torch) (2.18.1)\n",
      "Requirement already satisfied: nvidia-nvtx-cu12==12.1.105 in /home/dwalke/.local/lib/python3.10/site-packages (from torch) (12.1.105)\n",
      "Requirement already satisfied: triton==2.1.0 in /home/dwalke/.local/lib/python3.10/site-packages (from torch) (2.1.0)\n",
      "Requirement already satisfied: nvidia-nvjitlink-cu12 in /home/dwalke/.local/lib/python3.10/site-packages (from nvidia-cusolver-cu12==11.4.5.107->torch) (12.3.52)\n",
      "Requirement already satisfied: numpy in /home/dwalke/.local/lib/python3.10/site-packages (from torchvision) (1.26.1)\n",
      "Requirement already satisfied: pillow!=8.3.*,>=5.3.0 in /home/dwalke/.local/lib/python3.10/site-packages (from torchvision) (10.0.1)\n",
      "Requirement already satisfied: configobj in /usr/lib/python3/dist-packages (from everett[ini]<3.2.0,>=1.0.1->comet_ml) (5.0.6)\n",
      "Requirement already satisfied: attrs>=22.2.0 in /home/dwalke/.local/lib/python3.10/site-packages (from jsonschema!=3.1.0,>=2.6.0->comet_ml) (23.1.0)\n",
      "Requirement already satisfied: jsonschema-specifications>=2023.03.6 in /home/dwalke/.local/lib/python3.10/site-packages (from jsonschema!=3.1.0,>=2.6.0->comet_ml) (2023.7.1)\n",
      "Requirement already satisfied: referencing>=0.28.4 in /home/dwalke/.local/lib/python3.10/site-packages (from jsonschema!=3.1.0,>=2.6.0->comet_ml) (0.30.2)\n",
      "Requirement already satisfied: rpds-py>=0.7.1 in /home/dwalke/.local/lib/python3.10/site-packages (from jsonschema!=3.1.0,>=2.6.0->comet_ml) (0.10.6)\n",
      "Requirement already satisfied: charset-normalizer<4,>=2 in /home/dwalke/.local/lib/python3.10/site-packages (from requests>=2.18.4->comet_ml) (3.3.0)\n",
      "Requirement already satisfied: idna<4,>=2.5 in /usr/lib/python3/dist-packages (from requests>=2.18.4->comet_ml) (3.3)\n",
      "Requirement already satisfied: certifi>=2017.4.17 in /usr/lib/python3/dist-packages (from requests>=2.18.4->comet_ml) (2020.6.20)\n",
      "Requirement already satisfied: markdown-it-py>=2.2.0 in /home/dwalke/.local/lib/python3.10/site-packages (from rich>=13.3.2->comet_ml) (3.0.0)\n",
      "Requirement already satisfied: pygments<3.0.0,>=2.13.0 in /home/dwalke/.local/lib/python3.10/site-packages (from rich>=13.3.2->comet_ml) (2.16.1)\n",
      "Requirement already satisfied: mpmath>=0.19 in /usr/local/lib/python3.10/dist-packages (from sympy->torch) (1.3.0)\n",
      "Requirement already satisfied: mdurl~=0.1 in /home/dwalke/.local/lib/python3.10/site-packages (from markdown-it-py>=2.2.0->rich>=13.3.2->comet_ml) (0.1.2)\n",
      "\n",
      "\u001b[1m[\u001b[0m\u001b[34;49mnotice\u001b[0m\u001b[1;39;49m]\u001b[0m\u001b[39;49m A new release of pip is available: \u001b[0m\u001b[31;49m23.2.1\u001b[0m\u001b[39;49m -> \u001b[0m\u001b[32;49m23.3.1\u001b[0m\n",
      "\u001b[1m[\u001b[0m\u001b[34;49mnotice\u001b[0m\u001b[1;39;49m]\u001b[0m\u001b[39;49m To update, run: \u001b[0m\u001b[32;49m/usr/bin/python -m pip install --upgrade pip\u001b[0m\n"
     ]
    }
   ],
   "source": [
    "!pip install torchmetrics\n",
    "!pip install comet_ml torch torchvision tqdm"
   ]
  },
  {
   "cell_type": "code",
   "execution_count": 2,
   "id": "7abbf72e-5798-4787-96a7-61398ef9c368",
   "metadata": {},
   "outputs": [],
   "source": [
    "import sys\n",
    " \n",
    "sys.path.insert(0, \"../\")\n",
    "\n",
    "from EnsembleFramework import Framework"
   ]
  },
  {
   "cell_type": "code",
   "execution_count": 5,
   "id": "726e2b71-0422-4ae4-83ec-94aa962cca52",
   "metadata": {},
   "outputs": [],
   "source": [
    "from torch_geometric.datasets import Planetoid\n",
    "import torch_geometric.transforms as T\n",
    "from torch_geometric.utils import add_self_loops\n",
    "\n",
    "dataset_name = 'Cora'\n",
    "split = \"public\"\n",
    "dataset = Planetoid(root='/tmp/Cora', name=dataset_name, split=split)\n",
    "dataset.transform = T.NormalizeFeatures()\n",
    "\n",
    "features =  dataset[0].x\n",
    "labels =  dataset[0].y\n",
    "\n",
    "test =  dataset[0].test_mask\n",
    "train = dataset[0].train_mask\n",
    "val =  dataset[0].val_mask\n",
    "\n",
    "edge_index = dataset[0].edge_index \n",
    "edge_index = add_self_loops(edge_index)[0]"
   ]
  },
  {
   "cell_type": "code",
   "execution_count": 6,
   "id": "b18a09f6-33e7-48f8-b247-b02600462e20",
   "metadata": {},
   "outputs": [],
   "source": [
    "def user_function(kwargs):\n",
    "    return  kwargs[\"updated_features\"] + kwargs[\"summed_neighbors\"]\n",
    "hops_list = [0,1,2,3, 5, 10]\n",
    "framework = Framework([user_function for i in hops_list], \n",
    "                     hops_list=hops_list, ## to obtain best for local neighborhood\n",
    "                     clfs=[],\n",
    "                     gpu_idx=0,\n",
    "                     handle_nan=0.0,\n",
    "                    attention_configs=[None for i in hops_list])\n",
    "new_features_list = framework.get_features(features, edge_index, None)"
   ]
  },
  {
   "cell_type": "code",
   "execution_count": 4,
   "id": "62e11266-8095-41b0-beb7-2e567074c412",
   "metadata": {},
   "outputs": [
    {
     "data": {
      "text/plain": [
       "{'booster': ['gbtree'],\n",
       " 'n_estimators': [5, 50, 100, 150, 200, 400, 500, 800, 1000, 1200],\n",
       " 'max_depth': [None, 1, 2, 3, 4],\n",
       " 'max_delta_step': [None, 1, 2, 3, 4],\n",
       " 'min_child_weight': [None, 1, 2, 3, 4],\n",
       " 'eta': <hyperopt.pyll.base.Apply at 0x7f41cee475b0>,\n",
       " 'subsample': <hyperopt.pyll.base.Apply at 0x7f41cee473a0>,\n",
       " 'reg_lambda': <hyperopt.pyll.base.Apply at 0x7f41cee450c0>,\n",
       " 'alpha': <hyperopt.pyll.base.Apply at 0x7f407f474970>}"
      ]
     },
     "execution_count": 4,
     "metadata": {},
     "output_type": "execute_result"
    }
   ],
   "source": [
    "from hyperopt import fmin, tpe, hp,STATUS_OK, SparkTrials\n",
    "\n",
    "booster_self = [\"gbtree\"]\n",
    "n_estimators_self = [5, 50, 100,150, 200, 400, 500, 800, 1_000, 1_200]\n",
    "max_depth_self = [None, 1, 2, 3, 4]\n",
    "max_delta_step_self = [None, 1, 2, 3, 4]\n",
    "min_child_weight_self = [None, 1, 2, 3, 4]\n",
    "\n",
    "xb_choices = {\n",
    "    'booster': booster_self,\n",
    "    'n_estimators': n_estimators_self,\n",
    "    'max_depth': max_depth_self,\n",
    "    'max_delta_step': max_delta_step_self,\n",
    "    'min_child_weight': min_child_weight_self,\n",
    "}\n",
    "space_xb = {\n",
    "    **{key: hp.choice(key, value) for key, value in xb_choices.items()},\n",
    "    'eta': hp.loguniform('eta', -3, -.3),\n",
    "    'subsample': hp.uniform('subsample', 0.6, 1),\n",
    "    'reg_lambda': hp.uniform('reg_lambda', 0, 1),\n",
    "    'alpha': hp.uniform('alpha', 0, 1),\n",
    "}\n",
    "space_xb"
   ]
  },
  {
   "cell_type": "code",
   "execution_count": null,
   "id": "7dbecf83-3413-4a3d-9c96-b2144f2caa2b",
   "metadata": {},
   "outputs": [
    {
     "data": {
      "application/vnd.jupyter.widget-view+json": {
       "model_id": "32f2bce0103a481e9108afad0e02d889",
       "version_major": 2,
       "version_minor": 0
      },
      "text/plain": [
       "0it [00:00, ?it/s]"
      ]
     },
     "metadata": {},
     "output_type": "display_data"
    },
    {
     "name": "stdout",
     "output_type": "stream",
     "text": [
      "0.12999999523162842\n",
      "0.2800000011920929\n",
      "0.3100000023841858\n",
      "0.3619999885559082\n",
      "0.421999990940094\n",
      "0.4699999988079071\n",
      "0.7459999918937683\n",
      "0.7580000162124634\n",
      "0.7639999985694885\n",
      "0.765999972820282\n",
      "0.7680000066757202\n",
      "0.7699999809265137\n"
     ]
    }
   ],
   "source": [
    "from sklearn.model_selection import GridSearchCV\n",
    "import numpy as np\n",
    "from sklearn.model_selection import ParameterGrid\n",
    "from tqdm.notebook import tqdm\n",
    "\n",
    "space = {\n",
    "    'lr': np.linspace(1e-5, 1e-2, 30, endpoint=True),\n",
    "    'weight_decay': np.linspace(1e-5, 1e-2, 30, endpoint=True),\n",
    "    'patience': [20, 100],\n",
    "    'dropout':[0, 0.1, 0.2,.3,.4,.5,.6]\n",
    "}\n",
    "\n",
    "hops_to_score=dict({})\n",
    "hops_to_params=dict({})\n",
    "for i, hops in enumerate(hops_list):\n",
    "    new_features = new_features_list[i]\n",
    "    X = dict({})\n",
    "    X[\"train\"] = new_features[train]\n",
    "    X[\"val\"] = new_features[val]\n",
    "    X[\"test\"] = new_features[test]\n",
    "    \n",
    "    y = dict({})\n",
    "    y[\"train\"] = labels[train]\n",
    "    y[\"val\"] = labels[val]\n",
    "    y[\"test\"] = labels[test]\n",
    "    \n",
    "    param_grid = ParameterGrid(space)\n",
    "    best_score = 0\n",
    "    best_params = None\n",
    "    for params in tqdm(param_grid.__iter__()):\n",
    "        model = Classifier(X, y,epochs=100_000, **params)\n",
    "        model.fit(X, y)\n",
    "        score = model.best_metric[\"val\"]\n",
    "        if score > best_score:\n",
    "            best_score = score\n",
    "            best_params = params\n",
    "            print(best_score)\n",
    "    hops_to_score[hops] = best_score\n",
    "    hops_to_params[hops] = best_params\n",
    "            # model.plot(model.losses, \"Loss\")"
   ]
  },
  {
   "cell_type": "code",
   "execution_count": null,
   "id": "9424dbb8-7d66-457e-be36-77242a4dfe82",
   "metadata": {},
   "outputs": [],
   "source": [
    "hops_to_params"
   ]
  }
 ],
 "metadata": {
  "kernelspec": {
   "display_name": "Python 3 (ipykernel)",
   "language": "python",
   "name": "python3"
  },
  "language_info": {
   "codemirror_mode": {
    "name": "ipython",
    "version": 3
   },
   "file_extension": ".py",
   "mimetype": "text/x-python",
   "name": "python",
   "nbconvert_exporter": "python",
   "pygments_lexer": "ipython3",
   "version": "3.10.12"
  }
 },
 "nbformat": 4,
 "nbformat_minor": 5
}
