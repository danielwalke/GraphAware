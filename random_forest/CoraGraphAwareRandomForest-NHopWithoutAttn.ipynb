{
 "cells": [
  {
   "cell_type": "code",
   "execution_count": null,
   "id": "49ee8a3d-cd92-4c7c-a0d5-a706499820c7",
   "metadata": {},
   "outputs": [],
   "source": [
    "import sys\n",
    " \n",
    "sys.path.insert(0, \"../\")\n",
    "\n",
    "from EnsembleFramework import Framework"
   ]
  },
  {
   "cell_type": "code",
   "execution_count": null,
   "id": "e23f83ec-02b0-4440-9e93-2723480014ae",
   "metadata": {},
   "outputs": [],
   "source": [
    "from torch_geometric.datasets import Planetoid\n",
    "import torch_geometric.transforms as T\n",
    "from torch_geometric.utils import add_self_loops\n",
    "\n",
    "dataset_name = 'Cora'\n",
    "split = \"public\"\n",
    "dataset = Planetoid(root='/tmp/Cora', name=dataset_name, split=split)\n",
    "dataset.transform = T.NormalizeFeatures()\n",
    "\n",
    "features =  dataset[0].x\n",
    "y =  dataset[0].y\n",
    "\n",
    "test =  dataset[0].test_mask\n",
    "train = dataset[0].train_mask\n",
    "val =  dataset[0].val_mask\n",
    "\n",
    "edge_index = dataset[0].edge_index \n",
    "edge_index = add_self_loops(edge_index)[0]"
   ]
  },
  {
   "cell_type": "code",
   "execution_count": null,
   "id": "37df08b7-43e4-486b-a20a-db5fe07992bb",
   "metadata": {},
   "outputs": [],
   "source": [
    "from torch.nn.functional import normalize\n",
    "def user_function(kwargs):\n",
    "    return  normalize(kwargs[\"original_features\"] + kwargs[\"summed_neighbors\"], p=2.0, dim = 1)\n",
    "    \n",
    "hops_list = [0,2,5,10] #[0,1,2,3,4,5,6,7,8,9,10,15,20,30,40,50]\n",
    "framework = Framework([user_function for i in hops_list], \n",
    "                     hops_list=hops_list, ## to obtain best for local neighborhood\n",
    "                     clfs=[],\n",
    "                     gpu_idx=0,\n",
    "                     handle_nan=0.0,\n",
    "                    attention_configs=[None for i in hops_list])\n",
    "new_features_list = framework.get_features(features, edge_index, None)"
   ]
  },
  {
   "cell_type": "code",
   "execution_count": null,
   "id": "35f22842-958b-4227-89bd-5ab082a49d58",
   "metadata": {},
   "outputs": [],
   "source": [
    "from sklearn.ensemble import RandomForestClassifier\n",
    "from sklearn.metrics import accuracy_score\n",
    "import numpy as np\n",
    "from sklearn.model_selection import ParameterGrid\n",
    "from tqdm.notebook import tqdm\n",
    "from hyperopt import fmin, tpe, hp,STATUS_OK\n",
    "\n",
    "n_estimators = [50, 100,150, 200, 400, 500, 800, 1_000, 1_200]\n",
    "max_depth = [None, 2,3,4,5,8,10]\n",
    "min_samples_leaf = [1, 0.1, 0.01, 10, 50, 100]\n",
    "max_leaf_nodes = [None, 50, 100, 200]\n",
    "bootrtrap = [True, False]\n",
    "# oob_score = [True, False]\n",
    "\n",
    "lr_choices = {\n",
    "    'n_estimators': n_estimators,\n",
    "    'max_depth': max_depth,\n",
    "    'min_samples_leaf': min_samples_leaf,\n",
    "    'max_leaf_nodes': max_leaf_nodes,\n",
    "    'bootrtrap': bootrtrap,\n",
    "    # 'oob_score': oob_score,\n",
    "}\n",
    "\n",
    "space = {\n",
    "    **{key: hp.choice(key, value) for key, value in lr_choices.items()},\n",
    "    'max_samples': hp.uniform('max_samples', 0.6, 0.8),\n",
    "    'min_samples_leaf': hp.uniform('min_samples_leaf', 0.0, 0.8),\n",
    "}\n",
    "\n",
    "clf = RandomForestClassifier\n",
    "hops_to_params=dict({})\n",
    "hops_to_score=dict({})\n",
    "\n",
    "for i, hops in tqdm(enumerate(hops_list)):\n",
    "    new_features = new_features_list[i].cpu()\n",
    "    \n",
    "    def objective(params):\n",
    "        score = 0\n",
    "        try:\n",
    "            model = clf(**params, random_state = 42,  n_jobs=10)\n",
    "            model.fit(new_features[train], y[train])\n",
    "            y_pred = model.predict(new_features[val])\n",
    "            score = accuracy_score(y[val], y_pred)\n",
    "        except Exception:\n",
    "            print(Exception)\n",
    "            print(params)\n",
    "            score = -100\n",
    "        return {'loss': -score, 'status': STATUS_OK}\n",
    "    \n",
    "    best_params = fmin(objective, space, algo=tpe.suggest, max_evals=1_000, verbose=1)\n",
    "\n",
    "    for key,value in lr_choices.items():\n",
    "        best_params[key] = value[best_params[key]]\n",
    "\n",
    "    best_model = clf(**best_params, random_state = 42,  n_jobs=10)\n",
    "    best_model.fit(new_features[train], y[train])\n",
    "    y_pred = best_model.predict(new_features[val])\n",
    "    \n",
    "    hops_to_params[hops] = best_params\n",
    "    hops_to_score[hops] = accuracy_score(y[val], y_pred)"
   ]
  },
  {
   "cell_type": "code",
   "execution_count": null,
   "id": "f4075885-b906-45bd-b136-4a54f0e4f24d",
   "metadata": {},
   "outputs": [],
   "source": [
    "import pandas as pd\n",
    "df = pd.DataFrame(columns=[\"best_params\"], index=hops_to_params.keys())\n",
    "df[\"best_params\"] = hops_to_params.values()\n",
    "df.to_csv(\"normalized_origin_features_plus_summed_neighbors_wo_attn.csv\")\n",
    "df"
   ]
  },
  {
   "cell_type": "code",
   "execution_count": null,
   "id": "6598cdf3-f367-4a40-9dcc-1984209eb25e",
   "metadata": {},
   "outputs": [],
   "source": [
    "hops_to_params"
   ]
  },
  {
   "cell_type": "code",
   "execution_count": null,
   "id": "a0aedc13-a579-402b-96a3-6e7c3cf2f156",
   "metadata": {},
   "outputs": [],
   "source": [
    "hops_to_score"
   ]
  },
  {
   "cell_type": "code",
   "execution_count": null,
   "id": "4e3334f9-321a-482a-a39d-544683e4eb89",
   "metadata": {},
   "outputs": [],
   "source": []
  }
 ],
 "metadata": {
  "kernelspec": {
   "display_name": "Python 3 (ipykernel)",
   "language": "python",
   "name": "python3"
  },
  "language_info": {
   "codemirror_mode": {
    "name": "ipython",
    "version": 3
   },
   "file_extension": ".py",
   "mimetype": "text/x-python",
   "name": "python",
   "nbconvert_exporter": "python",
   "pygments_lexer": "ipython3",
   "version": "3.10.12"
  }
 },
 "nbformat": 4,
 "nbformat_minor": 5
}
