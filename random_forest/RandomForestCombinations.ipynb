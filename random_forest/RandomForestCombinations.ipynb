{
 "cells": [
  {
   "cell_type": "code",
   "execution_count": 1,
   "id": "2ef484c2-d0cd-48e1-9950-1368ada3b2d3",
   "metadata": {},
   "outputs": [],
   "source": [
    "import sys\n",
    " \n",
    "sys.path.insert(0, \"../\")\n",
    "\n",
    "from EnsembleFramework import Framework"
   ]
  },
  {
   "cell_type": "code",
   "execution_count": null,
   "id": "210202b3-21ef-4051-8d66-dd2f36c4a4d5",
   "metadata": {},
   "outputs": [],
   "source": [
    "from torch_geometric.datasets import Planetoid\n",
    "import torch_geometric.transforms as T\n",
    "from torch_geometric.utils import add_self_loops\n",
    "\n",
    "dataset_name = 'Cora'\n",
    "split = \"public\"\n",
    "dataset = Planetoid(root='/tmp/Cora', name=dataset_name, split=split)\n",
    "dataset.transform = T.NormalizeFeatures()\n",
    "\n",
    "features =  dataset[0].x\n",
    "y =  dataset[0].y\n",
    "\n",
    "test =  dataset[0].test_mask\n",
    "train = dataset[0].train_mask\n",
    "val =  dataset[0].val_mask\n",
    "\n",
    "edge_index = dataset[0].edge_index \n",
    "edge_index = add_self_loops(edge_index)[0]"
   ]
  },
  {
   "cell_type": "code",
   "execution_count": null,
   "id": "e69c0a74-1cd8-4128-900f-1bf36283d14b",
   "metadata": {},
   "outputs": [],
   "source": [
    "import pandas as pd\n",
    "import ast\n",
    "\n",
    "hops_to_best_params_df = pd.read_csv(\"normalized_origin_features_plus_summed_neighbors_wo_attn.csv\")\n",
    "evaluated_hops = hops_to_best_params_df.iloc[:,0].values\n",
    "best_params = hops_to_best_params_df.iloc[:,1].values\n",
    "hops_to_best_params = dict({hop: ast.literal_eval(best_params[i]) for i, hop in enumerate(evaluated_hops)})\n",
    "hops_to_best_params"
   ]
  },
  {
   "cell_type": "code",
   "execution_count": null,
   "id": "f83ff023-0b8f-4168-bb14-dd475634cd85",
   "metadata": {},
   "outputs": [],
   "source": [
    "import matplotlib.pyplot as plt\n",
    "from sklearn.manifold import TSNE\n",
    "\n",
    "def plot_tsne(scores):\n",
    "    node_labels = y.cpu().numpy()\n",
    "    num_classes = len(set(node_labels))\n",
    "    \n",
    "    t_sne_embeddings = TSNE(n_components=2, perplexity=30, method='barnes_hut').fit_transform(scores)\n",
    "    \n",
    "    fig = plt.figure(figsize=(12,8), dpi=80)  # otherwise plots are really small in Jupyter Notebook\n",
    "    cora_label_to_color_map = {0: \"red\", 1: \"blue\", 2: \"green\", 3: \"orange\", 4: \"yellow\", 5: \"pink\", 6: \"gray\"}\n",
    "    for class_id in range(num_classes):\n",
    "        \n",
    "        plt.scatter(t_sne_embeddings[node_labels == class_id, 0], t_sne_embeddings[node_labels == class_id, 1], s=20, color=cora_label_to_color_map[class_id], edgecolors='black', linewidths=0.2)\n",
    "    plt.show()"
   ]
  },
  {
   "cell_type": "code",
   "execution_count": null,
   "id": "01f4bb71-674a-48a5-b328-ff812900ad67",
   "metadata": {},
   "outputs": [],
   "source": [
    "from sklearn.ensemble import RandomForestClassifier\n",
    "from sklearn.metrics import accuracy_score\n",
    "import time\n",
    "from torch.nn.functional import normalize\n",
    "import torch \n",
    "def user_function(kwargs):\n",
    "    return  normalize(kwargs[\"original_features\"] + kwargs[\"summed_neighbors\"], p = 2.0, dim = 1)\n",
    "    \n",
    "for hop in evaluated_hops:\n",
    "    hops_list = [hop]\n",
    "    \n",
    "    clfs = [\n",
    "        RandomForestClassifier(**hops_to_best_params[hops], random_state = 42,  n_jobs=-1) for hops in hops_list\n",
    "    ]\n",
    "    framework = Framework([user_function for i in hops_list], \n",
    "                         hops_list=hops_list, ## to obtain best for local neighborhood\n",
    "                         clfs=clfs,\n",
    "                         gpu_idx=0,\n",
    "                         handle_nan=0.0,\n",
    "                        attention_configs=[None for i in hops_list])\n",
    "    start = time.time()\n",
    "    framework.fit(features,\n",
    "                edge_index,\n",
    "                y,\n",
    "                train)\n",
    "    train_time = time.time()-start\n",
    "    \n",
    "    y_pred_val = framework.predict(features,\n",
    "                    edge_index,\n",
    "                    val)\n",
    "    y_pred_test = framework.predict(features,\n",
    "                    edge_index,\n",
    "                    test)\n",
    "    y_pred_train = framework.predict(features,\n",
    "                    edge_index,\n",
    "                    train)\n",
    "    y_pred_proba = framework.predict_proba(features, edge_index, torch.ones_like(y).type(torch.bool))\n",
    "    val_score = accuracy_score(y[val], y_pred_val)\n",
    "    test_score = accuracy_score(y[test], y_pred_test)\n",
    "    train_score = accuracy_score(y[train], y_pred_train)\n",
    "    print(f\"XGBoost with {str(hops_list)} hops has the following accuracies:\\nTrain acc: {str(train_score)}; Val acc {str(val_score)}; Test acc {str(test_score)}\")\n",
    "    print(f\"The required training time was {str(round(train_time,2))} s\")\n",
    "    plot_tsne(y_pred_proba)"
   ]
  },
  {
   "cell_type": "code",
   "execution_count": null,
   "id": "978c123c-cb3c-498e-857f-dc0d96a31b71",
   "metadata": {},
   "outputs": [],
   "source": []
  }
 ],
 "metadata": {
  "kernelspec": {
   "display_name": "Python 3 (ipykernel)",
   "language": "python",
   "name": "python3"
  },
  "language_info": {
   "codemirror_mode": {
    "name": "ipython",
    "version": 3
   },
   "file_extension": ".py",
   "mimetype": "text/x-python",
   "name": "python",
   "nbconvert_exporter": "python",
   "pygments_lexer": "ipython3",
   "version": "3.10.12"
  }
 },
 "nbformat": 4,
 "nbformat_minor": 5
}
