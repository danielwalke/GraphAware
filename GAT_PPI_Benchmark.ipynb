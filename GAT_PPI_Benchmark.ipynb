{
 "cells": [
  {
   "cell_type": "markdown",
   "id": "ea80517d-2b96-4026-89ba-68b6ff84df18",
   "metadata": {},
   "source": [
    "# Benchmark for GAT"
   ]
  },
  {
   "cell_type": "markdown",
   "id": "ebea6c40-28f4-4eaf-b22a-7e8caa58ee66",
   "metadata": {},
   "source": [
    "## Read data"
   ]
  },
  {
   "cell_type": "code",
   "execution_count": 1,
   "id": "fb1c65ba-0223-44e0-9b52-c86a995eba54",
   "metadata": {},
   "outputs": [
    {
     "name": "stderr",
     "output_type": "stream",
     "text": [
      "/home/dwalke/.local/lib/python3.10/site-packages/transformers/utils/generic.py:441: UserWarning: torch.utils._pytree._register_pytree_node is deprecated. Please use torch.utils._pytree.register_pytree_node instead.\n",
      "  _torch_pytree._register_pytree_node(\n",
      "Downloading https://data.dgl.ai/dataset/ppi.zip\n",
      "Extracting /tmp/PPI/ppi.zip\n",
      "Processing...\n",
      "Done!\n"
     ]
    }
   ],
   "source": [
    "from torch_geometric.datasets import PPI\n",
    "import torch_geometric.transforms as T\n",
    "from torch_geometric.utils import add_self_loops\n",
    "from torch_geometric.loader import DataLoader\n",
    "import torch \n",
    "\n",
    "TRAIN = \"train\"\n",
    "VAL = \"val\"\n",
    "TEST = \"test\"\n",
    "set_names = [TRAIN, TEST, VAL]\n",
    "\n",
    "train_dataset = PPI(root='/tmp/PPI', split=\"train\")\n",
    "val_dataset = PPI(root='/tmp/PPI', split=\"val\")\n",
    "test_dataset = PPI(root='/tmp/PPI', split=\"test\")\n",
    "\n",
    "train_loader = iter(DataLoader(train_dataset, batch_size=len(train_dataset)))\n",
    "val_loader = iter(DataLoader(val_dataset, batch_size=len(val_dataset)))\n",
    "test_loader = iter(DataLoader(test_dataset, batch_size=len(test_dataset)))\n",
    "\n",
    "device = torch.device(\"cuda:2\") if torch.cuda.is_available() else torch.device(\"cpu\")\n",
    "\n",
    "train_set = next(train_loader)\n",
    "test_set = next(test_loader)\n",
    "val_set = next(val_loader)\n",
    "\n",
    "sets = dict()\n",
    "sets[TRAIN] = train_dataset\n",
    "sets[TEST] = test_dataset\n",
    "sets[VAL] = val_dataset"
   ]
  },
  {
   "cell_type": "code",
   "execution_count": 7,
   "id": "50354734-f34c-425c-95c7-f8a85420b671",
   "metadata": {},
   "outputs": [
    {
     "data": {
      "text/plain": [
       "DataBatch(x=[44906, 50], edge_index=[2, 1226368], y=[44906, 121], batch=[44906], ptr=[21])"
      ]
     },
     "execution_count": 7,
     "metadata": {},
     "output_type": "execute_result"
    }
   ],
   "source": [
    "train_set"
   ]
  },
  {
   "cell_type": "code",
   "execution_count": 18,
   "id": "af40efa1-db91-4759-a31d-35e1b9ca462b",
   "metadata": {},
   "outputs": [
    {
     "data": {
      "text/plain": [
       "torch.Size([2, 1226368])"
      ]
     },
     "execution_count": 18,
     "metadata": {},
     "output_type": "execute_result"
    }
   ],
   "source": [
    "ds =PPI(root='/tmp/PPI')\n",
    "next(iter(DataLoader(ds, batch_size=len(ds)))).edge_index.shape"
   ]
  },
  {
   "cell_type": "markdown",
   "id": "54b7415b-0c79-4dfd-a19b-79732f2df192",
   "metadata": {},
   "source": [
    "## Define GNN architecture"
   ]
  },
  {
   "cell_type": "code",
   "execution_count": 4,
   "id": "93afa03f-a35a-44df-82e0-212cf82859d8",
   "metadata": {},
   "outputs": [],
   "source": [
    "import torch\n",
    "from torch import nn\n",
    "from torch_geometric.nn import GATConv\n",
    "from torch.nn import Linear\n",
    "import torch.nn.functional as F\n",
    "class GNN(nn.Module):\n",
    "    def __init__(self, in_dim, hidden_dim, out_dim, heads, dropout = .2):\n",
    "        super(GNN, self).__init__()\n",
    "        self.dropout = dropout\n",
    "        self.conv1 = GATConv(in_dim, hidden_dim, add_self_loops=True, heads = heads[0], dropout = dropout, concat=True)\n",
    "        self.lin1 = Linear(in_dim, hidden_dim*heads[0])\n",
    "        self.conv2 = GATConv(hidden_dim*heads[0], hidden_dim, add_self_loops=True,heads = heads[1], dropout = dropout, concat=True)\n",
    "        self.lin2 = Linear(hidden_dim*heads[0], hidden_dim*heads[1])\n",
    "        self.conv3 = GATConv(hidden_dim*heads[1], out_dim, add_self_loops=True,heads = heads[2], dropout = dropout,concat=False)\n",
    "        self.lin3 = Linear(hidden_dim*heads[1], out_dim)\n",
    "        \n",
    "    def forward(self, x, edge_index):\n",
    "        x = self.conv1(x, edge_index) + self.lin1(x)\n",
    "        x = F.elu(x)\n",
    "        x = self.conv2(x, edge_index) + self.lin2(x)\n",
    "        x = F.elu(x)\n",
    "        x = self.conv3(x, edge_index) + self.lin3(x)\n",
    "        return x"
   ]
  },
  {
   "cell_type": "markdown",
   "id": "4c17ad63-051a-4ebc-9cc8-07f948c7d3eb",
   "metadata": {},
   "source": [
    "## Hyperparameter tuning for GNN"
   ]
  },
  {
   "cell_type": "code",
   "execution_count": null,
   "id": "3e8bf61d-0c5c-427f-910f-68f8ce721735",
   "metadata": {
    "scrolled": true
   },
   "outputs": [],
   "source": [
    "from sklearn.model_selection import ParameterGrid\n",
    "from tqdm.notebook import tqdm\n",
    "\n",
    "space = {\n",
    "    \"WEIGHT_DECAYS\": [0, 1e-3],\n",
    "    \"HEADS_LIST\": [[4,4,6], [6,6,6], [8,8,8], [4,4,4]],\n",
    "    \"DROPOUT\": [0.0, 0.2, 0.4],\n",
    "    \"HIDDEN_DIMS\": [512, 1024],\n",
    "    \"LEARNING_RATES\": [5e-3, 1e-3]\n",
    "}\n",
    "\n",
    "param_grid = ParameterGrid(space)\n",
    "best_params_overall = None\n",
    "best_val_overall = float(\"inf\")\n",
    "\n",
    "for params in tqdm(param_grid.__iter__()):    \n",
    "    gnnTraining = GNNTraining(device = device,\n",
    "            GNN = GNN,\n",
    "            sets = sets,\n",
    "            hidden_dim = params[\"HIDDEN_DIMS\"],\n",
    "            lr = params[\"LEARNING_RATES\"],\n",
    "            dropout = params[\"DROPOUT\"],\n",
    "            weight_decay=params[\"WEIGHT_DECAYS\"],\n",
    "            epochs = 1000,\n",
    "            kwargs = {\"heads\": params[\"HEADS_LIST\"]})\n",
    "    gnnTraining.train()\n",
    "    \n",
    "    if gnnTraining.best_val_loss <= best_val_overall:\n",
    "        print(\"Updated params\")\n",
    "        best_val_overall = gnnTraining.best_val_loss\n",
    "        best_params_overall = params"
   ]
  },
  {
   "cell_type": "markdown",
   "id": "c60b9cc5-e556-47d5-a6d0-dd4d4b1d1457",
   "metadata": {},
   "source": [
    "## Best Hyperparameter"
   ]
  },
  {
   "cell_type": "code",
   "execution_count": 40,
   "id": "49cf37c2-ec99-49dc-9a5c-39a3efe6ab3c",
   "metadata": {},
   "outputs": [
    {
     "data": {
      "text/plain": [
       "{'DROPOUT': 0.2,\n",
       " 'HEADS_LIST': [8, 8, 8],\n",
       " 'HIDDEN_DIMS': 512,\n",
       " 'LEARNING_RATES': 0.001,\n",
       " 'WEIGHT_DECAYS': 0}"
      ]
     },
     "execution_count": 40,
     "metadata": {},
     "output_type": "execute_result"
    }
   ],
   "source": [
    "best_params_overall"
   ]
  },
  {
   "cell_type": "markdown",
   "id": "0d652d9f-1d41-4bc3-a887-18cac050f5a1",
   "metadata": {},
   "source": [
    "## Training & Evaluation"
   ]
  },
  {
   "cell_type": "code",
   "execution_count": 6,
   "id": "a8bd129f-0eb5-4df4-9c8e-4d8476850500",
   "metadata": {
    "scrolled": true
   },
   "outputs": [
    {
     "data": {
      "application/vnd.jupyter.widget-view+json": {
       "model_id": "6e991524ace84d6f885f6f789567285e",
       "version_major": 2,
       "version_minor": 0
      },
      "text/plain": [
       "  0%|          | 0/1000 [00:00<?, ?it/s]"
      ]
     },
     "metadata": {},
     "output_type": "display_data"
    },
    {
     "data": {
      "text/plain": [
       "0.9918850232232057"
      ]
     },
     "execution_count": 6,
     "metadata": {},
     "output_type": "execute_result"
    }
   ],
   "source": [
    "from tqdm.notebook import tqdm\n",
    "from GNNTraining import GNNTraining\n",
    "from GNNEvaluate import GNNEvaluate \n",
    "\n",
    "gnnTraining = GNNTraining(device = device,\n",
    "            GNN = GNN,\n",
    "            sets = sets,\n",
    "            hidden_dim = 512,\n",
    "            lr = 1e-3,\n",
    "            dropout = 0.2,\n",
    "            weight_decay=0.0,\n",
    "            epochs = 1000,\n",
    "            kwargs = {\"heads\": [8,8,8]})\n",
    "best_model = gnnTraining.train()\n",
    "\n",
    "gnnEvaluate = GNNEvaluate(device = device,\n",
    "            sets = sets)\n",
    "gnnEvaluate.evaluate(best_model)"
   ]
  },
  {
   "cell_type": "markdown",
   "id": "1a1a6e08-c525-4924-a377-bb4cc67c6021",
   "metadata": {},
   "source": [
    "## Standard deviation over 10 runs"
   ]
  },
  {
   "cell_type": "code",
   "execution_count": 8,
   "id": "a0f4eefb-2ce2-43a5-8dd1-a4b8a03c0c26",
   "metadata": {},
   "outputs": [
    {
     "data": {
      "application/vnd.jupyter.widget-view+json": {
       "model_id": "53d0ff18e86e41699080496ab544437b",
       "version_major": 2,
       "version_minor": 0
      },
      "text/plain": [
       "  0%|          | 0/10 [00:00<?, ?it/s]"
      ]
     },
     "metadata": {},
     "output_type": "display_data"
    },
    {
     "data": {
      "application/vnd.jupyter.widget-view+json": {
       "model_id": "841e1133cc1c45b8a6761f811fbb5687",
       "version_major": 2,
       "version_minor": 0
      },
      "text/plain": [
       "  0%|          | 0/1000 [00:00<?, ?it/s]"
      ]
     },
     "metadata": {},
     "output_type": "display_data"
    },
    {
     "data": {
      "application/vnd.jupyter.widget-view+json": {
       "model_id": "e5151dfcab5941f1ac9887d7bd0dba30",
       "version_major": 2,
       "version_minor": 0
      },
      "text/plain": [
       "  0%|          | 0/1000 [00:00<?, ?it/s]"
      ]
     },
     "metadata": {},
     "output_type": "display_data"
    },
    {
     "data": {
      "application/vnd.jupyter.widget-view+json": {
       "model_id": "f5c95acce30d464e9d526f2ced58c3b0",
       "version_major": 2,
       "version_minor": 0
      },
      "text/plain": [
       "  0%|          | 0/1000 [00:00<?, ?it/s]"
      ]
     },
     "metadata": {},
     "output_type": "display_data"
    },
    {
     "data": {
      "application/vnd.jupyter.widget-view+json": {
       "model_id": "ce71310b0a5c4ddcb200bc036dfa7bd4",
       "version_major": 2,
       "version_minor": 0
      },
      "text/plain": [
       "  0%|          | 0/1000 [00:00<?, ?it/s]"
      ]
     },
     "metadata": {},
     "output_type": "display_data"
    },
    {
     "data": {
      "application/vnd.jupyter.widget-view+json": {
       "model_id": "35de01729bb742bca5a0c294822d9cec",
       "version_major": 2,
       "version_minor": 0
      },
      "text/plain": [
       "  0%|          | 0/1000 [00:00<?, ?it/s]"
      ]
     },
     "metadata": {},
     "output_type": "display_data"
    },
    {
     "data": {
      "application/vnd.jupyter.widget-view+json": {
       "model_id": "bf56fc00ee8547748eb9f283deb9218f",
       "version_major": 2,
       "version_minor": 0
      },
      "text/plain": [
       "  0%|          | 0/1000 [00:00<?, ?it/s]"
      ]
     },
     "metadata": {},
     "output_type": "display_data"
    },
    {
     "data": {
      "application/vnd.jupyter.widget-view+json": {
       "model_id": "54ee97bdd8794973ad69d68c3227618b",
       "version_major": 2,
       "version_minor": 0
      },
      "text/plain": [
       "  0%|          | 0/1000 [00:00<?, ?it/s]"
      ]
     },
     "metadata": {},
     "output_type": "display_data"
    },
    {
     "data": {
      "application/vnd.jupyter.widget-view+json": {
       "model_id": "b6461ddd0bce4336ab7cfaf9ebd92212",
       "version_major": 2,
       "version_minor": 0
      },
      "text/plain": [
       "  0%|          | 0/1000 [00:00<?, ?it/s]"
      ]
     },
     "metadata": {},
     "output_type": "display_data"
    },
    {
     "data": {
      "application/vnd.jupyter.widget-view+json": {
       "model_id": "7927dbf053e544f69fffacad2df3842c",
       "version_major": 2,
       "version_minor": 0
      },
      "text/plain": [
       "  0%|          | 0/1000 [00:00<?, ?it/s]"
      ]
     },
     "metadata": {},
     "output_type": "display_data"
    },
    {
     "data": {
      "application/vnd.jupyter.widget-view+json": {
       "model_id": "e42eb766ccd14a60960e989320a4ac07",
       "version_major": 2,
       "version_minor": 0
      },
      "text/plain": [
       "  0%|          | 0/1000 [00:00<?, ?it/s]"
      ]
     },
     "metadata": {},
     "output_type": "display_data"
    }
   ],
   "source": [
    "from GNNTraining import GNNTraining\n",
    "from GNNEvaluate import GNNEvaluate \n",
    "from tqdm.notebook import tqdm\n",
    "\n",
    "times = []\n",
    "scores = []\n",
    "for i in tqdm(range(10)):\n",
    "    gnnTraining = GNNTraining(\n",
    "            device = device,\n",
    "            GNN = GNN,\n",
    "            sets = sets,\n",
    "            hidden_dim = 512,\n",
    "            lr = 1e-3,\n",
    "            dropout = 0.2,\n",
    "            weight_decay=0.0,\n",
    "            epochs = 1000,\n",
    "            kwargs = {\"heads\": [8,8,8]})\n",
    "    best_model = gnnTraining.train()\n",
    "    times.append(gnnTraining.training_time)\n",
    "    \n",
    "    gnnEvaluate = GNNEvaluate(device = device,\n",
    "                sets = sets)\n",
    "    score = gnnEvaluate.evaluate(best_model)\n",
    "    scores.append(score)"
   ]
  },
  {
   "cell_type": "code",
   "execution_count": 9,
   "id": "a99873f4-6b2e-45b8-87ca-d45d99e455ca",
   "metadata": {},
   "outputs": [
    {
     "name": "stdout",
     "output_type": "stream",
     "text": [
      "F1-score: 0.9917494066241483 +- 0.00022626228787424871; 338.71823971271516\n"
     ]
    }
   ],
   "source": [
    "import numpy as np\n",
    "print(f\"F1-score: {np.mean(scores)} +- {np.std(scores)}; {np.mean(times)}\")"
   ]
  },
  {
   "cell_type": "code",
   "execution_count": null,
   "id": "630dd2e1-cf91-45b9-90a2-85e87f71ceb8",
   "metadata": {},
   "outputs": [],
   "source": []
  }
 ],
 "metadata": {
  "kernelspec": {
   "display_name": "Python 3 (ipykernel)",
   "language": "python",
   "name": "python3"
  },
  "language_info": {
   "codemirror_mode": {
    "name": "ipython",
    "version": 3
   },
   "file_extension": ".py",
   "mimetype": "text/x-python",
   "name": "python",
   "nbconvert_exporter": "python",
   "pygments_lexer": "ipython3",
   "version": "3.10.12"
  }
 },
 "nbformat": 4,
 "nbformat_minor": 5
}
