{
 "cells": [
  {
   "cell_type": "code",
   "execution_count": 1,
   "id": "b7873d1c-92e3-48d0-a654-a6068e83070f",
   "metadata": {
    "scrolled": true
   },
   "outputs": [
    {
     "name": "stdout",
     "output_type": "stream",
     "text": [
      "Defaulting to user installation because normal site-packages is not writeable\n",
      "Requirement already satisfied: torchmetrics in /home/dwalke/.local/lib/python3.10/site-packages (1.2.0)\n",
      "Requirement already satisfied: numpy>1.20.0 in /home/dwalke/.local/lib/python3.10/site-packages (from torchmetrics) (1.26.1)\n",
      "Requirement already satisfied: torch>=1.8.1 in /home/dwalke/.local/lib/python3.10/site-packages (from torchmetrics) (2.1.0)\n",
      "Requirement already satisfied: lightning-utilities>=0.8.0 in /home/dwalke/.local/lib/python3.10/site-packages (from torchmetrics) (0.9.0)\n",
      "Requirement already satisfied: packaging>=17.1 in /home/dwalke/.local/lib/python3.10/site-packages (from lightning-utilities>=0.8.0->torchmetrics) (23.2)\n",
      "Requirement already satisfied: typing-extensions in /home/dwalke/.local/lib/python3.10/site-packages (from lightning-utilities>=0.8.0->torchmetrics) (4.8.0)\n",
      "Requirement already satisfied: filelock in /home/dwalke/.local/lib/python3.10/site-packages (from torch>=1.8.1->torchmetrics) (3.12.4)\n",
      "Requirement already satisfied: sympy in /usr/local/lib/python3.10/dist-packages (from torch>=1.8.1->torchmetrics) (1.11.1)\n",
      "Requirement already satisfied: networkx in /usr/local/lib/python3.10/dist-packages (from torch>=1.8.1->torchmetrics) (3.0)\n",
      "Requirement already satisfied: jinja2 in /usr/lib/python3/dist-packages (from torch>=1.8.1->torchmetrics) (3.0.3)\n",
      "Requirement already satisfied: fsspec in /home/dwalke/.local/lib/python3.10/site-packages (from torch>=1.8.1->torchmetrics) (2023.9.2)\n",
      "Requirement already satisfied: nvidia-cuda-nvrtc-cu12==12.1.105 in /home/dwalke/.local/lib/python3.10/site-packages (from torch>=1.8.1->torchmetrics) (12.1.105)\n",
      "Requirement already satisfied: nvidia-cuda-runtime-cu12==12.1.105 in /home/dwalke/.local/lib/python3.10/site-packages (from torch>=1.8.1->torchmetrics) (12.1.105)\n",
      "Requirement already satisfied: nvidia-cuda-cupti-cu12==12.1.105 in /home/dwalke/.local/lib/python3.10/site-packages (from torch>=1.8.1->torchmetrics) (12.1.105)\n",
      "Requirement already satisfied: nvidia-cudnn-cu12==8.9.2.26 in /home/dwalke/.local/lib/python3.10/site-packages (from torch>=1.8.1->torchmetrics) (8.9.2.26)\n",
      "Requirement already satisfied: nvidia-cublas-cu12==12.1.3.1 in /home/dwalke/.local/lib/python3.10/site-packages (from torch>=1.8.1->torchmetrics) (12.1.3.1)\n",
      "Requirement already satisfied: nvidia-cufft-cu12==11.0.2.54 in /home/dwalke/.local/lib/python3.10/site-packages (from torch>=1.8.1->torchmetrics) (11.0.2.54)\n",
      "Requirement already satisfied: nvidia-curand-cu12==10.3.2.106 in /home/dwalke/.local/lib/python3.10/site-packages (from torch>=1.8.1->torchmetrics) (10.3.2.106)\n",
      "Requirement already satisfied: nvidia-cusolver-cu12==11.4.5.107 in /home/dwalke/.local/lib/python3.10/site-packages (from torch>=1.8.1->torchmetrics) (11.4.5.107)\n",
      "Requirement already satisfied: nvidia-cusparse-cu12==12.1.0.106 in /home/dwalke/.local/lib/python3.10/site-packages (from torch>=1.8.1->torchmetrics) (12.1.0.106)\n",
      "Requirement already satisfied: nvidia-nccl-cu12==2.18.1 in /home/dwalke/.local/lib/python3.10/site-packages (from torch>=1.8.1->torchmetrics) (2.18.1)\n",
      "Requirement already satisfied: nvidia-nvtx-cu12==12.1.105 in /home/dwalke/.local/lib/python3.10/site-packages (from torch>=1.8.1->torchmetrics) (12.1.105)\n",
      "Requirement already satisfied: triton==2.1.0 in /home/dwalke/.local/lib/python3.10/site-packages (from torch>=1.8.1->torchmetrics) (2.1.0)\n",
      "Requirement already satisfied: nvidia-nvjitlink-cu12 in /home/dwalke/.local/lib/python3.10/site-packages (from nvidia-cusolver-cu12==11.4.5.107->torch>=1.8.1->torchmetrics) (12.3.52)\n",
      "Requirement already satisfied: mpmath>=0.19 in /usr/local/lib/python3.10/dist-packages (from sympy->torch>=1.8.1->torchmetrics) (1.3.0)\n",
      "\n",
      "\u001b[1m[\u001b[0m\u001b[34;49mnotice\u001b[0m\u001b[1;39;49m]\u001b[0m\u001b[39;49m A new release of pip is available: \u001b[0m\u001b[31;49m23.2.1\u001b[0m\u001b[39;49m -> \u001b[0m\u001b[32;49m23.3.1\u001b[0m\n",
      "\u001b[1m[\u001b[0m\u001b[34;49mnotice\u001b[0m\u001b[1;39;49m]\u001b[0m\u001b[39;49m To update, run: \u001b[0m\u001b[32;49m/usr/bin/python -m pip install --upgrade pip\u001b[0m\n",
      "Defaulting to user installation because normal site-packages is not writeable\n",
      "Requirement already satisfied: comet_ml in /home/dwalke/.local/lib/python3.10/site-packages (3.34.1)\n",
      "Requirement already satisfied: torch in /home/dwalke/.local/lib/python3.10/site-packages (2.1.0)\n",
      "Requirement already satisfied: torchvision in /home/dwalke/.local/lib/python3.10/site-packages (0.16.0)\n",
      "Requirement already satisfied: tqdm in /usr/local/lib/python3.10/dist-packages (4.65.0)\n",
      "Requirement already satisfied: jsonschema!=3.1.0,>=2.6.0 in /home/dwalke/.local/lib/python3.10/site-packages (from comet_ml) (4.19.1)\n",
      "Requirement already satisfied: psutil>=5.6.3 in /usr/local/lib/python3.10/dist-packages (from comet_ml) (5.9.4)\n",
      "Requirement already satisfied: python-box<7.0.0 in /home/dwalke/.local/lib/python3.10/site-packages (from comet_ml) (6.1.0)\n",
      "Requirement already satisfied: requests-toolbelt>=0.8.0 in /home/dwalke/.local/lib/python3.10/site-packages (from comet_ml) (1.0.0)\n",
      "Requirement already satisfied: requests>=2.18.4 in /home/dwalke/.local/lib/python3.10/site-packages (from comet_ml) (2.31.0)\n",
      "Requirement already satisfied: semantic-version>=2.8.0 in /home/dwalke/.local/lib/python3.10/site-packages (from comet_ml) (2.10.0)\n",
      "Requirement already satisfied: sentry-sdk>=1.1.0 in /home/dwalke/.local/lib/python3.10/site-packages (from comet_ml) (1.32.0)\n",
      "Requirement already satisfied: simplejson in /home/dwalke/.local/lib/python3.10/site-packages (from comet_ml) (3.19.2)\n",
      "Requirement already satisfied: six in /usr/lib/python3/dist-packages (from comet_ml) (1.16.0)\n",
      "Requirement already satisfied: urllib3>=1.21.1 in /home/dwalke/.local/lib/python3.10/site-packages (from comet_ml) (2.0.7)\n",
      "Requirement already satisfied: websocket-client<1.4.0,>=0.55.0 in /home/dwalke/.local/lib/python3.10/site-packages (from comet_ml) (1.3.3)\n",
      "Requirement already satisfied: wrapt>=1.11.2 in /home/dwalke/.local/lib/python3.10/site-packages (from comet_ml) (1.15.0)\n",
      "Requirement already satisfied: wurlitzer>=1.0.2 in /home/dwalke/.local/lib/python3.10/site-packages (from comet_ml) (3.0.3)\n",
      "Requirement already satisfied: everett[ini]<3.2.0,>=1.0.1 in /home/dwalke/.local/lib/python3.10/site-packages (from comet_ml) (3.1.0)\n",
      "Requirement already satisfied: dulwich!=0.20.33,>=0.20.6 in /home/dwalke/.local/lib/python3.10/site-packages (from comet_ml) (0.21.6)\n",
      "Requirement already satisfied: rich>=13.3.2 in /home/dwalke/.local/lib/python3.10/site-packages (from comet_ml) (13.6.0)\n",
      "Requirement already satisfied: filelock in /home/dwalke/.local/lib/python3.10/site-packages (from torch) (3.12.4)\n",
      "Requirement already satisfied: typing-extensions in /home/dwalke/.local/lib/python3.10/site-packages (from torch) (4.8.0)\n",
      "Requirement already satisfied: sympy in /usr/local/lib/python3.10/dist-packages (from torch) (1.11.1)\n",
      "Requirement already satisfied: networkx in /usr/local/lib/python3.10/dist-packages (from torch) (3.0)\n",
      "Requirement already satisfied: jinja2 in /usr/lib/python3/dist-packages (from torch) (3.0.3)\n",
      "Requirement already satisfied: fsspec in /home/dwalke/.local/lib/python3.10/site-packages (from torch) (2023.9.2)\n",
      "Requirement already satisfied: nvidia-cuda-nvrtc-cu12==12.1.105 in /home/dwalke/.local/lib/python3.10/site-packages (from torch) (12.1.105)\n",
      "Requirement already satisfied: nvidia-cuda-runtime-cu12==12.1.105 in /home/dwalke/.local/lib/python3.10/site-packages (from torch) (12.1.105)\n",
      "Requirement already satisfied: nvidia-cuda-cupti-cu12==12.1.105 in /home/dwalke/.local/lib/python3.10/site-packages (from torch) (12.1.105)\n",
      "Requirement already satisfied: nvidia-cudnn-cu12==8.9.2.26 in /home/dwalke/.local/lib/python3.10/site-packages (from torch) (8.9.2.26)\n",
      "Requirement already satisfied: nvidia-cublas-cu12==12.1.3.1 in /home/dwalke/.local/lib/python3.10/site-packages (from torch) (12.1.3.1)\n",
      "Requirement already satisfied: nvidia-cufft-cu12==11.0.2.54 in /home/dwalke/.local/lib/python3.10/site-packages (from torch) (11.0.2.54)\n",
      "Requirement already satisfied: nvidia-curand-cu12==10.3.2.106 in /home/dwalke/.local/lib/python3.10/site-packages (from torch) (10.3.2.106)\n",
      "Requirement already satisfied: nvidia-cusolver-cu12==11.4.5.107 in /home/dwalke/.local/lib/python3.10/site-packages (from torch) (11.4.5.107)\n",
      "Requirement already satisfied: nvidia-cusparse-cu12==12.1.0.106 in /home/dwalke/.local/lib/python3.10/site-packages (from torch) (12.1.0.106)\n",
      "Requirement already satisfied: nvidia-nccl-cu12==2.18.1 in /home/dwalke/.local/lib/python3.10/site-packages (from torch) (2.18.1)\n",
      "Requirement already satisfied: nvidia-nvtx-cu12==12.1.105 in /home/dwalke/.local/lib/python3.10/site-packages (from torch) (12.1.105)\n",
      "Requirement already satisfied: triton==2.1.0 in /home/dwalke/.local/lib/python3.10/site-packages (from torch) (2.1.0)\n",
      "Requirement already satisfied: nvidia-nvjitlink-cu12 in /home/dwalke/.local/lib/python3.10/site-packages (from nvidia-cusolver-cu12==11.4.5.107->torch) (12.3.52)\n",
      "Requirement already satisfied: numpy in /home/dwalke/.local/lib/python3.10/site-packages (from torchvision) (1.26.1)\n",
      "Requirement already satisfied: pillow!=8.3.*,>=5.3.0 in /home/dwalke/.local/lib/python3.10/site-packages (from torchvision) (10.0.1)\n",
      "Requirement already satisfied: configobj in /usr/lib/python3/dist-packages (from everett[ini]<3.2.0,>=1.0.1->comet_ml) (5.0.6)\n",
      "Requirement already satisfied: attrs>=22.2.0 in /home/dwalke/.local/lib/python3.10/site-packages (from jsonschema!=3.1.0,>=2.6.0->comet_ml) (23.1.0)\n",
      "Requirement already satisfied: jsonschema-specifications>=2023.03.6 in /home/dwalke/.local/lib/python3.10/site-packages (from jsonschema!=3.1.0,>=2.6.0->comet_ml) (2023.7.1)\n",
      "Requirement already satisfied: referencing>=0.28.4 in /home/dwalke/.local/lib/python3.10/site-packages (from jsonschema!=3.1.0,>=2.6.0->comet_ml) (0.30.2)\n",
      "Requirement already satisfied: rpds-py>=0.7.1 in /home/dwalke/.local/lib/python3.10/site-packages (from jsonschema!=3.1.0,>=2.6.0->comet_ml) (0.10.6)\n",
      "Requirement already satisfied: charset-normalizer<4,>=2 in /home/dwalke/.local/lib/python3.10/site-packages (from requests>=2.18.4->comet_ml) (3.3.0)\n",
      "Requirement already satisfied: idna<4,>=2.5 in /usr/lib/python3/dist-packages (from requests>=2.18.4->comet_ml) (3.3)\n",
      "Requirement already satisfied: certifi>=2017.4.17 in /usr/lib/python3/dist-packages (from requests>=2.18.4->comet_ml) (2020.6.20)\n",
      "Requirement already satisfied: markdown-it-py>=2.2.0 in /home/dwalke/.local/lib/python3.10/site-packages (from rich>=13.3.2->comet_ml) (3.0.0)\n",
      "Requirement already satisfied: pygments<3.0.0,>=2.13.0 in /home/dwalke/.local/lib/python3.10/site-packages (from rich>=13.3.2->comet_ml) (2.16.1)\n",
      "Requirement already satisfied: mpmath>=0.19 in /usr/local/lib/python3.10/dist-packages (from sympy->torch) (1.3.0)\n",
      "Requirement already satisfied: mdurl~=0.1 in /home/dwalke/.local/lib/python3.10/site-packages (from markdown-it-py>=2.2.0->rich>=13.3.2->comet_ml) (0.1.2)\n",
      "\n",
      "\u001b[1m[\u001b[0m\u001b[34;49mnotice\u001b[0m\u001b[1;39;49m]\u001b[0m\u001b[39;49m A new release of pip is available: \u001b[0m\u001b[31;49m23.2.1\u001b[0m\u001b[39;49m -> \u001b[0m\u001b[32;49m23.3.1\u001b[0m\n",
      "\u001b[1m[\u001b[0m\u001b[34;49mnotice\u001b[0m\u001b[1;39;49m]\u001b[0m\u001b[39;49m To update, run: \u001b[0m\u001b[32;49m/usr/bin/python -m pip install --upgrade pip\u001b[0m\n"
     ]
    }
   ],
   "source": [
    "!pip install torchmetrics\n",
    "!pip install comet_ml torch torchvision tqdm"
   ]
  },
  {
   "cell_type": "code",
   "execution_count": 2,
   "id": "7abbf72e-5798-4787-96a7-61398ef9c368",
   "metadata": {},
   "outputs": [],
   "source": [
    "import sys\n",
    " \n",
    "sys.path.insert(0, \"../\")\n",
    "\n",
    "from EnsembleFramework import Framework"
   ]
  },
  {
   "cell_type": "code",
   "execution_count": 3,
   "id": "c8cf0473-839d-4123-a8c2-c19d634575e3",
   "metadata": {},
   "outputs": [],
   "source": [
    "import torch\n",
    "from torch import nn\n",
    "class NeuralNet(nn.Module):\n",
    "    def __init__(self, input_dim, hidden_dim, out_dim, dropout=.0):\n",
    "        super().__init__()\n",
    "        self.lin1 = nn.Linear(input_dim , hidden_dim)\n",
    "        self.lin2 = nn.Linear(hidden_dim, out_dim)\n",
    "\n",
    "        torch.nn.init.xavier_uniform_(self.lin1.weight) \n",
    "        torch.nn.init.xavier_uniform_(self.lin2.weight) \n",
    "        self.lin1.bias.data.fill_(0.0)\n",
    "        self.lin2.bias.data.fill_(0.0)\n",
    "        self.dropout = nn.Dropout(p=dropout)\n",
    "    \n",
    "    def forward(self, x):\n",
    "        torch.manual_seed(1)\n",
    "        torch.cuda.manual_seed(1)\n",
    "        x = self.dropout(x)\n",
    "        x = self.lin1(x)\n",
    "        x = nn.functional.elu(x)\n",
    "        torch.manual_seed(1)\n",
    "        torch.cuda.manual_seed(1)\n",
    "        x = self.dropout(x)\n",
    "        x = self.lin2(x)\n",
    "        x = nn.functional.softmax(x, dim = 1)\n",
    "        return x"
   ]
  },
  {
   "cell_type": "code",
   "execution_count": 4,
   "id": "f5f0ec9f-e258-48b5-afba-e8856cae978e",
   "metadata": {},
   "outputs": [],
   "source": [
    "import copy\n",
    "from torchmetrics import Accuracy\n",
    "import matplotlib.pyplot as plt\n",
    "\n",
    "class Classifier():\n",
    "    device = torch.device(\"cuda:0\") if torch.cuda.is_available() else torch.device(\"cpu\")\n",
    "    metrics = dict({})\n",
    "    metrics[\"train\"] = []\n",
    "    metrics[\"val\"] = []\n",
    "    metrics[\"test\"] = []\n",
    "    \n",
    "    losses = dict({})\n",
    "    losses[\"train\"] = []\n",
    "    losses[\"val\"] = []\n",
    "    losses[\"test\"] = []\n",
    "    \n",
    "    models = []\n",
    "    state_dicts = []\n",
    "    \n",
    "    best_state_dict = None\n",
    "    best_metric = dict({})\n",
    "    best_loss = dict({})\n",
    "    best_model = None\n",
    "    \n",
    "    \n",
    "    def __init__(self, X, y,lr=3e-2,weight_decay=1e-4, epochs=100_000, patience = 100, dropout=.6):\n",
    "        num_classes = torch.unique(y[\"train\"]).shape[0]\n",
    "        assert num_classes == 7\n",
    "        self.model = NeuralNet(X[\"train\"].shape[1], 16, num_classes, dropout).to(Classifier.device)\n",
    "\n",
    "        self.X = X\n",
    "        self.y = y\n",
    "        self.lr = lr\n",
    "        self.weight_decay = weight_decay\n",
    "        self.epochs = epochs\n",
    "        self.patience = patience\n",
    "        self.dropout = dropout\n",
    "        self.optim = torch.optim.Adam(self.model.parameters(), lr=lr, weight_decay= weight_decay)\n",
    "        self.metric_fn = Accuracy(task=\"multiclass\", num_classes=num_classes).to(Classifier.device)\n",
    "        self.loss_fn = nn.CrossEntropyLoss(reduction='mean')\n",
    "        self.enough_training_for_today = False\n",
    "        self.empty()\n",
    "\n",
    "    def empty(self):\n",
    "        for key in self.metrics:\n",
    "            Classifier.metrics[key] = []\n",
    "        for key in self.losses:\n",
    "            Classifier.losses[key] = []\n",
    "        Classifier.models = []\n",
    "        Classifier.state_dicts = []\n",
    "        \n",
    "        Classifier.best_state_dict = None\n",
    "        Classifier.best_metric = dict({})\n",
    "        Classifier.best_loss = dict({})\n",
    "        Classifier.best_model = None\n",
    "\n",
    "    def fit(self, X, y):\n",
    "        X = Classifier.dict_to_device(X)\n",
    "        y = Classifier.dict_to_device(y)\n",
    "        for epoch in range(self.epochs):\n",
    "            self.model.train()\n",
    "            logits = self.model(X[\"train\"])\n",
    "            self.optim.zero_grad()\n",
    "            loss = self.loss_fn(logits, y[\"train\"])\n",
    "            loss.backward()\n",
    "            self.optim.step()\n",
    "            \n",
    "            self.eval_all(X, y)\n",
    "    \n",
    "            if self.enough_training_for_today:\n",
    "                self.store_best(self.patience)\n",
    "                break\n",
    "        self.store_best(0)\n",
    "\n",
    "    def eval_all(self, X, y):\n",
    "        self.evaluate(X[\"train\"], y[\"train\"], \"train\")\n",
    "        self.evaluate(X[\"val\"], y[\"val\"], \"val\")\n",
    "        self.evaluate(X[\"test\"], y[\"test\"], \"test\")\n",
    "\n",
    "    def evaluate(self, x, y, set_name):\n",
    "        with torch.inference_mode():\n",
    "            self.model.eval()\n",
    "            logits = self.model(x)\n",
    "            loss = self.loss_fn(logits, y)\n",
    "            metric = self.metric_fn(y, logits.argmax(1))\n",
    "            if set_name == \"val\" and len(Classifier.losses[set_name]) >= self.patience:\n",
    "                last_metrics = Classifier.metrics[set_name][-self.patience:]\n",
    "                last_losses = Classifier.losses[set_name][-self.patience:]\n",
    "                \n",
    "                if all([(m >= metric.item()) for m in last_metrics]) or all([(l <= loss.item()) for l in last_losses]):\n",
    "                    self.enough_training_for_today = True\n",
    "    \n",
    "            Classifier.metrics[set_name].append(metric.item())\n",
    "            Classifier.losses[set_name].append(loss.item())\n",
    "            Classifier.state_dicts.append(self.model.state_dict().copy())\n",
    "            Classifier.models.append(copy.deepcopy(self.model))\n",
    "\n",
    "    def store_best(self, offset):\n",
    "        for key, value in Classifier.metrics.items():\n",
    "                    Classifier.best_metric[key] = value[-1-offset]\n",
    "        for key, value in Classifier.losses.items():\n",
    "            Classifier.best_loss[key] = value[-1-offset]\n",
    "        Classifier.best_state_dict = Classifier.state_dicts[-1-offset]\n",
    "        Classifier.best_model = Classifier.models[-1-offset]\n",
    "\n",
    "    @staticmethod\n",
    "    def dict_to_device(store_dict):\n",
    "        for key in store_dict:\n",
    "            store_dict[key] = store_dict[key].to(Classifier.device)\n",
    "        return store_dict\n",
    "\n",
    "    @staticmethod\n",
    "    def plot(store_dict, title):\n",
    "        for key, value in store_dict.items():\n",
    "            plt.plot(value)\n",
    "        plt.legend(store_dict.keys())\n",
    "        plt.title(title)\n",
    "        plt.show()\n",
    "\n",
    "    def get_params(self, **kwargs):\n",
    "        return {'lr': self.lr, 'weight_decay': self.weight_decay, 'patience': self.patience, 'dropout': self.dropout, 'X': self.X, 'y':self.y}\n",
    "\n",
    "    def set_params(self, **kwargs):\n",
    "        self.lr = kwargs[\"lr\"]\n",
    "        self.weight_decay = kwargs[\"weight_decay\"]\n",
    "        self.patience = kwargs[\"patience\"]\n",
    "        self.dropout = kwargs[\"dropout\"]\n",
    "        # self.X = kwargs[\"X\"]\n",
    "        # self.y = kwargs[\"y\"]\n",
    "\n",
    "    def predict(self, X):\n",
    "        with torch.inference_mode():\n",
    "            self.model.eval()\n",
    "            logits = self.model(x)\n",
    "            return logits.argmax(1)"
   ]
  },
  {
   "cell_type": "code",
   "execution_count": 5,
   "id": "726e2b71-0422-4ae4-83ec-94aa962cca52",
   "metadata": {},
   "outputs": [],
   "source": [
    "from torch_geometric.datasets import Planetoid\n",
    "import torch_geometric.transforms as T\n",
    "from torch_geometric.utils import add_self_loops\n",
    "\n",
    "dataset_name = 'Cora'\n",
    "split = \"public\"\n",
    "dataset = Planetoid(root='/tmp/Cora', name=dataset_name, split=split)\n",
    "dataset.transform = T.NormalizeFeatures()\n",
    "\n",
    "features =  dataset[0].x\n",
    "labels =  dataset[0].y\n",
    "\n",
    "test =  dataset[0].test_mask\n",
    "train = dataset[0].train_mask\n",
    "val =  dataset[0].val_mask\n",
    "\n",
    "edge_index = dataset[0].edge_index \n",
    "edge_index = add_self_loops(edge_index)[0]\n",
    "\n",
    "X = dict({})\n",
    "X[\"train\"] = features[train]\n",
    "X[\"val\"] = features[val]\n",
    "X[\"test\"] = features[test]\n",
    "\n",
    "y = dict({})\n",
    "y[\"train\"] = labels[train]\n",
    "y[\"val\"] = labels[val]\n",
    "y[\"test\"] = labels[test]"
   ]
  },
  {
   "cell_type": "code",
   "execution_count": 6,
   "id": "b18a09f6-33e7-48f8-b247-b02600462e20",
   "metadata": {},
   "outputs": [],
   "source": [
    "from torch.nn.functional import normalize\n",
    "def user_function(kwargs):\n",
    "    return  normalize(kwargs[\"updated_features\"] + kwargs[\"summed_neighbors\"], p=2.0, dim = 1)\n",
    "hops_list = [1,2,3, 5, 10]\n",
    "framework = Framework([user_function for i in hops_list], \n",
    "                     hops_list=hops_list, ## to obtain best for local neighborhood\n",
    "                     clfs=[],\n",
    "                     gpu_idx=0,\n",
    "                     handle_nan=0.0,\n",
    "                    attention_configs=[None for i in hops_list])\n",
    "new_features_list = framework.get_features(features, edge_index, None)\n"
   ]
  },
  {
   "cell_type": "code",
   "execution_count": 7,
   "id": "7dbecf83-3413-4a3d-9c96-b2144f2caa2b",
   "metadata": {
    "scrolled": true
   },
   "outputs": [
    {
     "data": {
      "application/vnd.jupyter.widget-view+json": {
       "model_id": "caae1f5ed7544fb0a506d21bda49950f",
       "version_major": 2,
       "version_minor": 0
      },
      "text/plain": [
       "0it [00:00, ?it/s]"
      ]
     },
     "metadata": {},
     "output_type": "display_data"
    },
    {
     "name": "stdout",
     "output_type": "stream",
     "text": [
      "0.2840000092983246\n",
      "0.3659999966621399\n",
      "0.5299999713897705\n",
      "0.5860000252723694\n",
      "0.7419999837875366\n",
      "0.7459999918937683\n",
      "0.7620000243186951\n",
      "0.7639999985694885\n",
      "0.765999972820282\n",
      "0.7680000066757202\n",
      "0.7720000147819519\n",
      "0.7760000228881836\n"
     ]
    },
    {
     "data": {
      "application/vnd.jupyter.widget-view+json": {
       "model_id": "9c3e100606814510bd2a6e0b0d5794fd",
       "version_major": 2,
       "version_minor": 0
      },
      "text/plain": [
       "0it [00:00, ?it/s]"
      ]
     },
     "metadata": {},
     "output_type": "display_data"
    },
    {
     "name": "stdout",
     "output_type": "stream",
     "text": [
      "0.4339999854564667\n",
      "0.5659999847412109\n",
      "0.5740000009536743\n",
      "0.6380000114440918\n",
      "0.7760000228881836\n",
      "0.7799999713897705\n",
      "0.7900000214576721\n",
      "0.7940000295639038\n",
      "0.7979999780654907\n",
      "0.800000011920929\n",
      "0.8019999861717224\n"
     ]
    },
    {
     "data": {
      "application/vnd.jupyter.widget-view+json": {
       "model_id": "80239b9f4ca94348b5516f67fb864a29",
       "version_major": 2,
       "version_minor": 0
      },
      "text/plain": [
       "0it [00:00, ?it/s]"
      ]
     },
     "metadata": {},
     "output_type": "display_data"
    },
    {
     "name": "stdout",
     "output_type": "stream",
     "text": [
      "0.5740000009536743\n",
      "0.6159999966621399\n",
      "0.6539999842643738\n",
      "0.7860000133514404\n",
      "0.7900000214576721\n",
      "0.7940000295639038\n",
      "0.8019999861717224\n",
      "0.8040000200271606\n",
      "0.8119999766349792\n"
     ]
    },
    {
     "data": {
      "application/vnd.jupyter.widget-view+json": {
       "model_id": "3d1d25f5b5484f64bedcbbbbfe18dc42",
       "version_major": 2,
       "version_minor": 0
      },
      "text/plain": [
       "0it [00:00, ?it/s]"
      ]
     },
     "metadata": {},
     "output_type": "display_data"
    },
    {
     "name": "stdout",
     "output_type": "stream",
     "text": [
      "0.5659999847412109\n",
      "0.5860000252723694\n",
      "0.6320000290870667\n",
      "0.656000018119812\n",
      "0.800000011920929\n",
      "0.8019999861717224\n",
      "0.8059999942779541\n",
      "0.8100000023841858\n",
      "0.8180000185966492\n"
     ]
    },
    {
     "data": {
      "application/vnd.jupyter.widget-view+json": {
       "model_id": "2468d2439a124baeae077db94dab02db",
       "version_major": 2,
       "version_minor": 0
      },
      "text/plain": [
       "0it [00:00, ?it/s]"
      ]
     },
     "metadata": {},
     "output_type": "display_data"
    },
    {
     "name": "stdout",
     "output_type": "stream",
     "text": [
      "0.6439999938011169\n",
      "0.6480000019073486\n",
      "0.6539999842643738\n",
      "0.8100000023841858\n",
      "0.8140000104904175\n",
      "0.8180000185966492\n",
      "0.8220000267028809\n"
     ]
    }
   ],
   "source": [
    "from sklearn.model_selection import GridSearchCV\n",
    "import numpy as np\n",
    "from sklearn.model_selection import ParameterGrid\n",
    "from tqdm.notebook import tqdm\n",
    "\n",
    "space = {\n",
    "    'lr': np.linspace(1e-5, 1e-2, 30, endpoint=True),\n",
    "    'weight_decay': np.linspace(1e-5, 1e-2, 30, endpoint=True),\n",
    "    'patience': [20, 100],\n",
    "    'dropout':[0, 0.1, 0.2,.3,.4,.5,.6]\n",
    "}\n",
    "\n",
    "hops_to_score=dict({})\n",
    "hops_to_params=dict({})\n",
    "for i, hops in enumerate(hops_list):\n",
    "    new_features = new_features_list[i]\n",
    "    X = dict({})\n",
    "    X[\"train\"] = new_features[train]\n",
    "    X[\"val\"] = new_features[val]\n",
    "    X[\"test\"] = new_features[test]\n",
    "    \n",
    "    y = dict({})\n",
    "    y[\"train\"] = labels[train]\n",
    "    y[\"val\"] = labels[val]\n",
    "    y[\"test\"] = labels[test]\n",
    "    \n",
    "    param_grid = ParameterGrid(space)\n",
    "    best_score = 0\n",
    "    best_params = None\n",
    "    for params in tqdm(param_grid.__iter__()):\n",
    "        model = Classifier(X, y,epochs=100_000, **params)\n",
    "        model.fit(X, y)\n",
    "        score = model.best_metric[\"val\"]\n",
    "        if score > best_score:\n",
    "            best_score = score\n",
    "            best_params = params\n",
    "            print(best_score)\n",
    "    hops_to_score[hops] = best_score\n",
    "    hops_to_params[hops] = best_params\n",
    "            # model.plot(model.losses, \"Loss\")"
   ]
  },
  {
   "cell_type": "code",
   "execution_count": 8,
   "id": "9424dbb8-7d66-457e-be36-77242a4dfe82",
   "metadata": {},
   "outputs": [
    {
     "data": {
      "text/plain": [
       "{1: {'dropout': 0.1,\n",
       "  'lr': 0.0006989655172413794,\n",
       "  'patience': 100,\n",
       "  'weight_decay': 0.001043448275862069},\n",
       " 2: {'dropout': 0,\n",
       "  'lr': 0.004488275862068966,\n",
       "  'patience': 100,\n",
       "  'weight_decay': 0.004143793103448276},\n",
       " 3: {'dropout': 0,\n",
       "  'lr': 0.0006989655172413794,\n",
       "  'patience': 100,\n",
       "  'weight_decay': 0.002076896551724138},\n",
       " 5: {'dropout': 0,\n",
       "  'lr': 0.001043448275862069,\n",
       "  'patience': 100,\n",
       "  'weight_decay': 0.003110344827586207},\n",
       " 10: {'dropout': 0,\n",
       "  'lr': 0.003110344827586207,\n",
       "  'patience': 100,\n",
       "  'weight_decay': 0.0013879310344827587}}"
      ]
     },
     "execution_count": 8,
     "metadata": {},
     "output_type": "execute_result"
    }
   ],
   "source": [
    "hops_to_params"
   ]
  },
  {
   "cell_type": "code",
   "execution_count": 9,
   "id": "2ce6de05-a702-48fe-8fcf-9cbba048cd6a",
   "metadata": {},
   "outputs": [
    {
     "data": {
      "text/plain": [
       "{1: 0.7760000228881836,\n",
       " 2: 0.8019999861717224,\n",
       " 3: 0.8119999766349792,\n",
       " 5: 0.8180000185966492,\n",
       " 10: 0.8220000267028809}"
      ]
     },
     "execution_count": 9,
     "metadata": {},
     "output_type": "execute_result"
    }
   ],
   "source": [
    "hops_to_score"
   ]
  },
  {
   "cell_type": "code",
   "execution_count": 12,
   "id": "1c90ecae-1581-4b5b-b340-ffaa74d88291",
   "metadata": {},
   "outputs": [],
   "source": [
    "model = Classifier(X, y,epochs=100_000, **hops_to_params[10])\n",
    "model.fit(X, y)"
   ]
  },
  {
   "cell_type": "code",
   "execution_count": 13,
   "id": "2e756f7f-cd08-4c33-9b9f-e4fdfc504d53",
   "metadata": {},
   "outputs": [
    {
     "data": {
      "text/plain": [
       "{'train': 0.9857142567634583,\n",
       " 'val': 0.8220000267028809,\n",
       " 'test': 0.796999990940094}"
      ]
     },
     "execution_count": 13,
     "metadata": {},
     "output_type": "execute_result"
    }
   ],
   "source": [
    "model.best_metric"
   ]
  },
  {
   "cell_type": "code",
   "execution_count": null,
   "id": "64e36f81-cf66-4d21-aa00-7305f507c639",
   "metadata": {},
   "outputs": [],
   "source": [
    "hops_list = [0, 2] \n",
    "framework = Framework([user_function for i in hops_list], \n",
    "                     hops_list=hops_list, ## to obtain best for local neighborhood\n",
    "                     clfs=[],\n",
    "                     gpu_idx=0,\n",
    "                     handle_nan=0.0,\n",
    "                    attention_configs=[None for i in hops_list])\n",
    "new_features_list = framework.get_features(features, edge_index, None)\n",
    "for i, feature in enumerate(new_features_list):\n",
    "    X = dict({})\n",
    "    X[\"train\"] = new_features[train]\n",
    "    X[\"val\"] = new_features[val]\n",
    "    X[\"test\"] = new_features[test]\n",
    "    \n",
    "    y = dict({})\n",
    "    y[\"train\"] = labels[train]\n",
    "    y[\"val\"] = labels[val]\n",
    "    y[\"test\"] = labels[test]\n",
    "\n",
    "    model = Classifier(X, y,epochs=100_000, **hops_to_params[hops_list[i]])\n",
    "    model.fit(X, y)\n",
    "    "
   ]
  }
 ],
 "metadata": {
  "kernelspec": {
   "display_name": "Python 3 (ipykernel)",
   "language": "python",
   "name": "python3"
  },
  "language_info": {
   "codemirror_mode": {
    "name": "ipython",
    "version": 3
   },
   "file_extension": ".py",
   "mimetype": "text/x-python",
   "name": "python",
   "nbconvert_exporter": "python",
   "pygments_lexer": "ipython3",
   "version": "3.10.12"
  }
 },
 "nbformat": 4,
 "nbformat_minor": 5
}
