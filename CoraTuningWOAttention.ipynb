{
 "cells": [
  {
   "cell_type": "markdown",
   "id": "369593e8-c7bb-4bf0-bb63-b13a7d3ffad2",
   "metadata": {},
   "source": [
    "# Evaluation graph awareness along different algorithms"
   ]
  },
  {
   "cell_type": "markdown",
   "id": "9a632dd5-e3e5-4c67-8627-df75bf73e468",
   "metadata": {},
   "source": [
    "## Read data"
   ]
  },
  {
   "cell_type": "code",
   "execution_count": 35,
   "id": "151bf675-4602-4d34-ab80-fa8a66ad9904",
   "metadata": {},
   "outputs": [],
   "source": [
    "from torch_geometric.datasets import Planetoid\n",
    "from EnsembleFramework import Framework\n",
    "import torch_geometric.transforms as T\n",
    "from torch_geometric.utils import add_self_loops\n",
    "\n",
    "dataset_name = 'Cora'\n",
    "split = \"public\"\n",
    "dataset = Planetoid(root='/tmp/Cora', name=dataset_name, split=split)\n",
    "dataset.transform = T.NormalizeFeatures()\n",
    "\n",
    "features =  dataset[0].x\n",
    "y =  dataset[0].y\n",
    "\n",
    "test =  dataset[0].test_mask\n",
    "train = dataset[0].train_mask\n",
    "val =  dataset[0].val_mask\n",
    "\n",
    "edge_index = dataset[0].edge_index \n",
    "edge_index = add_self_loops(edge_index)[0]"
   ]
  },
  {
   "cell_type": "markdown",
   "id": "280cd6cf-504b-4a17-a1a6-271ad0f29886",
   "metadata": {},
   "source": [
    "## Define Hyperparameter spaces"
   ]
  },
  {
   "cell_type": "markdown",
   "id": "a9949416-8b1b-4049-a0e2-cf816067ef54",
   "metadata": {},
   "source": [
    "### Logistic regression hyperparameter space"
   ]
  },
  {
   "cell_type": "code",
   "execution_count": 80,
   "id": "0f333c8f-7023-4942-a06f-2145c84a3c6c",
   "metadata": {},
   "outputs": [],
   "source": [
    "from hyperopt import hp\n",
    "\n",
    "lr_choices = {\n",
    "    'penalty': [\"l2\"],\n",
    "    'max_iter': [2**i for i in range(6, 15)],\n",
    "}\n",
    "\n",
    "lr_space = {\n",
    "    **{key: hp.choice(key, value) for key, value in lr_choices.items()},\n",
    "    'tol': hp.loguniform('tol', -11, -3),\n",
    "    'C': hp.uniform('C', 0.0, 10)\n",
    "}"
   ]
  },
  {
   "cell_type": "markdown",
   "id": "9c6f614b-0c1b-410a-9596-8cbfee4c3e75",
   "metadata": {},
   "source": [
    "### Support Vector classfiier hyperparameter space"
   ]
  },
  {
   "cell_type": "code",
   "execution_count": 81,
   "id": "e0297cd6-7d10-4001-a085-9410bff2474f",
   "metadata": {},
   "outputs": [],
   "source": [
    "from hyperopt import hp\n",
    "\n",
    "svc_choices = {\n",
    "    'gamma': [\"scale\", \"auto\"],\n",
    "    \"probability\": [True]\n",
    "}\n",
    "\n",
    "svc_space = {\n",
    "    **{key: hp.choice(key, value) for key, value in svc_choices.items()},\n",
    "    'C': hp.uniform('C', 0.0, 150)\n",
    "}"
   ]
  },
  {
   "cell_type": "markdown",
   "id": "f76f5b7c-7b28-44b6-9570-4d68cbc81921",
   "metadata": {},
   "source": [
    "### Decision tree hyperparameter space"
   ]
  },
  {
   "cell_type": "code",
   "execution_count": 82,
   "id": "07c096ef-fe5e-43b9-ad3d-0594f68fd386",
   "metadata": {},
   "outputs": [],
   "source": [
    "from hyperopt import hp\n",
    "\n",
    "dt_choices = {\n",
    "    'criterion': [\"gini\"],\n",
    "    'max_depth': [None, *[i**2 for i in range(5, 10)]]\n",
    "}\n",
    "\n",
    "dt_space = {\n",
    "    **{key: hp.choice(key, value) for key, value in dt_choices.items()},\n",
    "    'min_samples_split': hp.uniform('min_samples_split', 0.0, 1.0),\n",
    "    'min_samples_leaf': hp.uniform('min_samples_leaf', 0.0, .5),\n",
    "    'min_weight_fraction_leaf': hp.uniform('min_weight_fraction_leaf', 0.0, 0.5),\n",
    "    'max_features': hp.uniform('max_features', 0.0, 1.0),\n",
    "}"
   ]
  },
  {
   "cell_type": "markdown",
   "id": "53ad1a84-801c-4543-9859-23e8468dddbb",
   "metadata": {},
   "source": [
    "### XGBoost hyperparameter space"
   ]
  },
  {
   "cell_type": "code",
   "execution_count": 83,
   "id": "881b368f-ce37-4183-9e32-f9ce8529cce4",
   "metadata": {},
   "outputs": [],
   "source": [
    "from hyperopt import hp\n",
    "\n",
    "booster_self = [\"gbtree\"]\n",
    "n_estimators_self = [1_400, 1_600, 1_800, 2_000]\n",
    "max_depth_self = [None,2, 3,4]\n",
    "max_delta_step_self = [1,2,3]\n",
    "min_child_weight_self = [None, *list(range(1,5,1))]\n",
    "\n",
    "xb_choices = {\n",
    "    'booster': booster_self,\n",
    "    'n_estimators': n_estimators_self,\n",
    "    'max_depth': max_depth_self,\n",
    "    'max_delta_step': max_delta_step_self,\n",
    "    'min_child_weight': min_child_weight_self,\n",
    "    # 'device': [\"cuda:2\"],\n",
    "    \"tree_method\": [\"hist\"]\n",
    "}\n",
    " \n",
    "xb_space = {\n",
    "    **{key: hp.choice(key, value) for key, value in xb_choices.items()},\n",
    "    'eta': hp.loguniform('eta', -3, -.4),\n",
    "    'subsample': hp.uniform('subsample', 0.6, 1),\n",
    "    'reg_lambda': hp.loguniform('reg_lambda',-5, 5),\n",
    "    'reg_alpha': hp.loguniform('reg_alpha',-3, 1),\n",
    "    'gamma': hp.uniform('gamma', 0, .8),\n",
    "    'colsample_bytree': hp.uniform('colsample_bytree', 0.6, 1),\n",
    "}"
   ]
  },
  {
   "cell_type": "markdown",
   "id": "e2d2aa7c-3ab6-460b-94fd-8565792bfba2",
   "metadata": {},
   "source": [
    "### Random forest hyperparameter space"
   ]
  },
  {
   "cell_type": "code",
   "execution_count": 84,
   "id": "5f97277c-6fa4-4f61-88cd-1bd524429be5",
   "metadata": {},
   "outputs": [],
   "source": [
    "from hyperopt import hp\n",
    "\n",
    "rf_choices = {\n",
    "    'n_estimators': [200, 400, 600, 800, 1000, 1200, 1400, 1600, 1800, 2000],\n",
    "    'max_depth':  [10, 20, 30, 40, 50, 60, 70, 80, 90, 100, None],\n",
    "    'min_samples_split': [2, 5, 10],\n",
    "    \"criterion\":  [\"gini\", \"entropy\", \"log_loss\"]\n",
    "}\n",
    "\n",
    "rf_space = {\n",
    "    **{key: hp.choice(key, value) for key, value in rf_choices.items()},\n",
    "    'max_samples': hp.uniform('max_samples', 0.0, 1),\n",
    "    'min_samples_leaf': hp.uniform('min_samples_leaf', 0.0, 1.0),\n",
    "    'min_samples_split': hp.uniform('min_samples_split', 0.0, 1.0),\n",
    "     'max_features': hp.uniform('max_features', 0.0, 1.0),\n",
    "}"
   ]
  },
  {
   "cell_type": "code",
   "execution_count": 108,
   "id": "99753fd4-9fb3-4fb2-9bb9-15a688f4c2c1",
   "metadata": {},
   "outputs": [],
   "source": [
    "from sklearn.ensemble import RandomForestClassifier\n",
    "from xgboost import XGBClassifier\n",
    "from sklearn.linear_model import LogisticRegression\n",
    "from sklearn.svm import SVC\n",
    "from sklearn.tree import DecisionTreeClassifier\n",
    "\n",
    "clfs_space = dict({})\n",
    "clfs_space[\"RandomForestClassifier\"] = rf_space\n",
    "clfs_space[\"LogisticRegression\"] = lr_space\n",
    "clfs_space[\"DecisionTreeClassifier\"] = dt_space\n",
    "clfs_space[\"XGBClassifier\"] = xb_space\n",
    "clfs_space[\"SVC\"] = svc_space\n",
    "\n",
    "clfs = [RandomForestClassifier, LogisticRegression, DecisionTreeClassifier, XGBClassifier, SVC]\n",
    "clfs = [RandomForestClassifier]"
   ]
  },
  {
   "cell_type": "markdown",
   "id": "a87e6dee-03db-4a98-a522-19ba583abf0a",
   "metadata": {},
   "source": [
    "## Convert data in format for AutoTune"
   ]
  },
  {
   "cell_type": "code",
   "execution_count": 109,
   "id": "07d25f05-2645-41e1-97ac-b562ef7c9ec7",
   "metadata": {},
   "outputs": [],
   "source": [
    "cora_set = dict({})\n",
    "cora_set[\"X\"] = features\n",
    "cora_set[\"y\"] = y\n",
    "cora_set[\"test\"] = test\n",
    "cora_set[\"train\"] = train\n",
    "cora_set[\"val\"] = val\n",
    "cora_set[\"edge_index\"] = edge_index"
   ]
  },
  {
   "cell_type": "markdown",
   "id": "8bdded46-7f04-4d10-a421-f8a328419f98",
   "metadata": {},
   "source": [
    "## Start AutoTune search"
   ]
  },
  {
   "cell_type": "code",
   "execution_count": 110,
   "id": "c3b31f80-3ca9-4b8d-871d-0fb0709f6447",
   "metadata": {
    "scrolled": true
   },
   "outputs": [
    {
     "data": {
      "application/vnd.jupyter.widget-view+json": {
       "model_id": "19900fcc3fa1403192c813bdf5696c96",
       "version_major": 2,
       "version_minor": 0
      },
      "text/plain": [
       "  0%|          | 0/1 [00:00<?, ?it/s]"
      ]
     },
     "metadata": {},
     "output_type": "display_data"
    },
    {
     "data": {
      "application/vnd.jupyter.widget-view+json": {
       "model_id": "8c6b0c465f89421997e15d25cd8e9094",
       "version_major": 2,
       "version_minor": 0
      },
      "text/plain": [
       "  0%|          | 0/4 [00:00<?, ?it/s]"
      ]
     },
     "metadata": {},
     "output_type": "display_data"
    },
    {
     "data": {
      "application/vnd.jupyter.widget-view+json": {
       "model_id": "12dd3a2af1834135b747aca5697cefef",
       "version_major": 2,
       "version_minor": 0
      },
      "text/plain": [
       "  0%|          | 0/1 [00:00<?, ?it/s]"
      ]
     },
     "metadata": {},
     "output_type": "display_data"
    },
    {
     "name": "stderr",
     "output_type": "stream",
     "text": [
      "Total Trials: 500: 500 succeeded, 0 failed, 0 cancelled.                        \n"
     ]
    },
    {
     "data": {
      "application/vnd.jupyter.widget-view+json": {
       "model_id": "881af996311d4583bbcaed53e4be0139",
       "version_major": 2,
       "version_minor": 0
      },
      "text/plain": [
       "  0%|          | 0/1 [00:00<?, ?it/s]"
      ]
     },
     "metadata": {},
     "output_type": "display_data"
    },
    {
     "name": "stderr",
     "output_type": "stream",
     "text": [
      "Total Trials: 500: 500 succeeded, 0 failed, 0 cancelled.                        \n"
     ]
    },
    {
     "data": {
      "application/vnd.jupyter.widget-view+json": {
       "model_id": "1f1a15698d594b81807af7114ca5fd91",
       "version_major": 2,
       "version_minor": 0
      },
      "text/plain": [
       "  0%|          | 0/1 [00:00<?, ?it/s]"
      ]
     },
     "metadata": {},
     "output_type": "display_data"
    },
    {
     "name": "stderr",
     "output_type": "stream",
     "text": [
      "Total Trials: 500: 500 succeeded, 0 failed, 0 cancelled.                        \n"
     ]
    },
    {
     "data": {
      "application/vnd.jupyter.widget-view+json": {
       "model_id": "1f484ab1ba7a45c28ccf5d85b706cf5b",
       "version_major": 2,
       "version_minor": 0
      },
      "text/plain": [
       "  0%|          | 0/1 [00:00<?, ?it/s]"
      ]
     },
     "metadata": {},
     "output_type": "display_data"
    },
    {
     "name": "stderr",
     "output_type": "stream",
     "text": [
      "Total Trials: 500: 500 succeeded, 0 failed, 0 cancelled.                        \n"
     ]
    }
   ],
   "source": [
    "from AutoTune2 import AutoSearch\n",
    "from sklearn.metrics import accuracy_score\n",
    "from torch.nn.functional import normalize\n",
    "\n",
    "def user_function(kwargs):\n",
    "    return  normalize(kwargs[\"original_features\"] + kwargs[\"summed_neighbors\"], p=2.0, dim = 1)\n",
    "\n",
    "searcher = AutoSearch(cora_set, max_evals=500, pred_metric = accuracy_score, parallelism=50)\n",
    "hops = [0,1,2,3]\n",
    "store = searcher.search(clfs, clfs_space, hops=hops, user_functions= [user_function],\n",
    "                        attention_configs = [None])"
   ]
  },
  {
   "cell_type": "markdown",
   "id": "fa896bce-953f-44a9-aa4d-bf614687f859",
   "metadata": {},
   "source": [
    "## Print results"
   ]
  },
  {
   "cell_type": "code",
   "execution_count": 113,
   "id": "434eff4b-7028-4ed3-adc1-ac5a5f6284ef",
   "metadata": {},
   "outputs": [
    {
     "name": "stdout",
     "output_type": "stream",
     "text": [
      "RandomForestClassifier\n",
      "0\t0.603\n",
      "1\t0.784\n",
      "2\t0.79\n",
      "3\t0.79\n",
      "LogisticRegression\n",
      "0\t0.594\n",
      "1\t0.777\n",
      "2\t0.812\n",
      "3\t0.827\n",
      "DecisionTreeClassifier\n",
      "0\t0.472\n",
      "1\t0.595\n",
      "2\t0.664\n",
      "3\t0.677\n",
      "XGBClassifier\n",
      "0\t0.561\n",
      "1\t0.749\n",
      "2\t0.779\n",
      "3\t0.801\n",
      "SVC\n",
      "0\t0.573\n",
      "1\t0.778\n",
      "2\t0.81\n",
      "3\t0.823\n"
     ]
    }
   ],
   "source": [
    "for clf in store:\n",
    "    print(clf)\n",
    "    for hop in store[clf]:\n",
    "        print(str(hop) + \"\\t\" + str( store[clf][hop][\"test_acc\"]))        "
   ]
  },
  {
   "cell_type": "code",
   "execution_count": 125,
   "id": "73b66246-7c39-4f4f-a4cf-c854b2ea47c3",
   "metadata": {},
   "outputs": [
    {
     "name": "stdout",
     "output_type": "stream",
     "text": [
      "##################################################\n",
      "Classifier RandomForestClassifier with 0 hops:\n",
      "{'bootstrap': True, 'ccp_alpha': 0.0, 'class_weight': None, 'criterion': 'gini', 'max_depth': 70, 'max_features': 0.017454264780728222, 'max_leaf_nodes': None, 'max_samples': 0.8144623806543172, 'min_impurity_decrease': 0.0, 'min_samples_leaf': 0.001206120249848465, 'min_samples_split': 0.30634714958041454, 'min_weight_fraction_leaf': 0.0, 'n_estimators': 1200, 'n_jobs': None, 'oob_score': False, 'random_state': None, 'verbose': 0, 'warm_start': False}\n",
      "Classifier RandomForestClassifier with 1 hops:\n",
      "{'bootstrap': True, 'ccp_alpha': 0.0, 'class_weight': None, 'criterion': 'gini', 'max_depth': 70, 'max_features': 0.02213797323722393, 'max_leaf_nodes': None, 'max_samples': 0.8904645788222673, 'min_impurity_decrease': 0.0, 'min_samples_leaf': 0.01604692824272263, 'min_samples_split': 0.32146517860140683, 'min_weight_fraction_leaf': 0.0, 'n_estimators': 1400, 'n_jobs': None, 'oob_score': False, 'random_state': None, 'verbose': 0, 'warm_start': False}\n",
      "Classifier RandomForestClassifier with 2 hops:\n",
      "{'bootstrap': True, 'ccp_alpha': 0.0, 'class_weight': None, 'criterion': 'log_loss', 'max_depth': 90, 'max_features': 0.058898610817025104, 'max_leaf_nodes': None, 'max_samples': 0.959341957746279, 'min_impurity_decrease': 0.0, 'min_samples_leaf': 0.00022242285158886876, 'min_samples_split': 0.005678059620060967, 'min_weight_fraction_leaf': 0.0, 'n_estimators': 1000, 'n_jobs': None, 'oob_score': False, 'random_state': None, 'verbose': 0, 'warm_start': False}\n",
      "Classifier RandomForestClassifier with 3 hops:\n",
      "{'bootstrap': True, 'ccp_alpha': 0.0, 'class_weight': None, 'criterion': 'gini', 'max_depth': 10, 'max_features': 0.16870247137325103, 'max_leaf_nodes': None, 'max_samples': 0.956506824953303, 'min_impurity_decrease': 0.0, 'min_samples_leaf': 0.0004688374892213056, 'min_samples_split': 0.09104211474875484, 'min_weight_fraction_leaf': 0.0, 'n_estimators': 1200, 'n_jobs': None, 'oob_score': False, 'random_state': None, 'verbose': 0, 'warm_start': False}\n",
      "##################################################\n",
      "Classifier LogisticRegression with 0 hops:\n",
      "{'C': 7.083705334482291, 'class_weight': None, 'dual': False, 'fit_intercept': True, 'intercept_scaling': 1, 'l1_ratio': None, 'max_iter': 512, 'multi_class': 'auto', 'n_jobs': None, 'penalty': 'l2', 'random_state': None, 'solver': 'lbfgs', 'tol': 0.007769353308940913, 'verbose': 0, 'warm_start': False}\n",
      "Classifier LogisticRegression with 1 hops:\n",
      "{'C': 8.902446708801625, 'class_weight': None, 'dual': False, 'fit_intercept': True, 'intercept_scaling': 1, 'l1_ratio': None, 'max_iter': 1024, 'multi_class': 'auto', 'n_jobs': None, 'penalty': 'l2', 'random_state': None, 'solver': 'lbfgs', 'tol': 0.0022695802301610233, 'verbose': 0, 'warm_start': False}\n",
      "Classifier LogisticRegression with 2 hops:\n",
      "{'C': 9.336875183488424, 'class_weight': None, 'dual': False, 'fit_intercept': True, 'intercept_scaling': 1, 'l1_ratio': None, 'max_iter': 256, 'multi_class': 'auto', 'n_jobs': None, 'penalty': 'l2', 'random_state': None, 'solver': 'lbfgs', 'tol': 0.00023913988414132485, 'verbose': 0, 'warm_start': False}\n",
      "Classifier LogisticRegression with 3 hops:\n",
      "{'C': 7.766462691442069, 'class_weight': None, 'dual': False, 'fit_intercept': True, 'intercept_scaling': 1, 'l1_ratio': None, 'max_iter': 64, 'multi_class': 'auto', 'n_jobs': None, 'penalty': 'l2', 'random_state': None, 'solver': 'lbfgs', 'tol': 0.004625019630766721, 'verbose': 0, 'warm_start': False}\n",
      "##################################################\n",
      "Classifier DecisionTreeClassifier with 0 hops:\n",
      "{'ccp_alpha': 0.0, 'class_weight': None, 'criterion': 'gini', 'max_depth': 64, 'max_features': 0.8473908062174679, 'max_leaf_nodes': None, 'min_impurity_decrease': 0.0, 'min_samples_leaf': 0.0014589241894887445, 'min_samples_split': 0.23210381246121048, 'min_weight_fraction_leaf': 0.047097867142608704, 'random_state': None, 'splitter': 'best'}\n",
      "Classifier DecisionTreeClassifier with 1 hops:\n",
      "{'ccp_alpha': 0.0, 'class_weight': None, 'criterion': 'gini', 'max_depth': 25, 'max_features': 0.4028242087426944, 'max_leaf_nodes': None, 'min_impurity_decrease': 0.0, 'min_samples_leaf': 0.019032351181755128, 'min_samples_split': 0.2957445395655129, 'min_weight_fraction_leaf': 0.00016222380065218645, 'random_state': None, 'splitter': 'best'}\n",
      "Classifier DecisionTreeClassifier with 2 hops:\n",
      "{'ccp_alpha': 0.0, 'class_weight': None, 'criterion': 'gini', 'max_depth': 36, 'max_features': 0.9985147228310765, 'max_leaf_nodes': None, 'min_impurity_decrease': 0.0, 'min_samples_leaf': 0.06098517015662755, 'min_samples_split': 0.27978561200606067, 'min_weight_fraction_leaf': 0.012313313574697504, 'random_state': None, 'splitter': 'best'}\n",
      "Classifier DecisionTreeClassifier with 3 hops:\n",
      "{'ccp_alpha': 0.0, 'class_weight': None, 'criterion': 'gini', 'max_depth': 25, 'max_features': 0.4703154581205483, 'max_leaf_nodes': None, 'min_impurity_decrease': 0.0, 'min_samples_leaf': 0.06633296923744159, 'min_samples_split': 0.24145919469717603, 'min_weight_fraction_leaf': 0.05813356043242181, 'random_state': None, 'splitter': 'best'}\n",
      "##################################################\n",
      "Classifier XGBClassifier with 0 hops:\n",
      "{'objective': 'binary:logistic', 'base_score': None, 'booster': 'gbtree', 'callbacks': None, 'colsample_bylevel': None, 'colsample_bynode': None, 'colsample_bytree': 0.645266241620217, 'device': None, 'early_stopping_rounds': None, 'enable_categorical': False, 'eval_metric': None, 'feature_types': None, 'gamma': 0.6169657067133576, 'grow_policy': None, 'importance_type': None, 'interaction_constraints': None, 'learning_rate': None, 'max_bin': None, 'max_cat_threshold': None, 'max_cat_to_onehot': None, 'max_delta_step': 1, 'max_depth': 4, 'max_leaves': None, 'min_child_weight': 1, 'missing': nan, 'monotone_constraints': None, 'multi_strategy': None, 'n_estimators': 1800, 'n_jobs': None, 'num_parallel_tree': None, 'random_state': None, 'reg_alpha': 1.350576715658744, 'reg_lambda': 1.1342430848435117, 'sampling_method': None, 'scale_pos_weight': None, 'subsample': 0.6834014059417477, 'tree_method': 'hist', 'validate_parameters': None, 'verbosity': None, 'eta': 0.14963464546031083}\n",
      "Classifier XGBClassifier with 1 hops:\n",
      "{'objective': 'binary:logistic', 'base_score': None, 'booster': 'gbtree', 'callbacks': None, 'colsample_bylevel': None, 'colsample_bynode': None, 'colsample_bytree': 0.8052198929038524, 'device': None, 'early_stopping_rounds': None, 'enable_categorical': False, 'eval_metric': None, 'feature_types': None, 'gamma': 0.10758490349091901, 'grow_policy': None, 'importance_type': None, 'interaction_constraints': None, 'learning_rate': None, 'max_bin': None, 'max_cat_threshold': None, 'max_cat_to_onehot': None, 'max_delta_step': 2, 'max_depth': 4, 'max_leaves': None, 'min_child_weight': 1, 'missing': nan, 'monotone_constraints': None, 'multi_strategy': None, 'n_estimators': 1600, 'n_jobs': None, 'num_parallel_tree': None, 'random_state': None, 'reg_alpha': 2.1319892305519064, 'reg_lambda': 0.5174118978897079, 'sampling_method': None, 'scale_pos_weight': None, 'subsample': 0.6086738879976653, 'tree_method': 'hist', 'validate_parameters': None, 'verbosity': None, 'eta': 0.21871072550002157}\n",
      "Classifier XGBClassifier with 2 hops:\n",
      "{'objective': 'binary:logistic', 'base_score': None, 'booster': 'gbtree', 'callbacks': None, 'colsample_bylevel': None, 'colsample_bynode': None, 'colsample_bytree': 0.6457439077381418, 'device': None, 'early_stopping_rounds': None, 'enable_categorical': False, 'eval_metric': None, 'feature_types': None, 'gamma': 0.1501631890479571, 'grow_policy': None, 'importance_type': None, 'interaction_constraints': None, 'learning_rate': None, 'max_bin': None, 'max_cat_threshold': None, 'max_cat_to_onehot': None, 'max_delta_step': 2, 'max_depth': None, 'max_leaves': None, 'min_child_weight': 3, 'missing': nan, 'monotone_constraints': None, 'multi_strategy': None, 'n_estimators': 1400, 'n_jobs': None, 'num_parallel_tree': None, 'random_state': None, 'reg_alpha': 0.0627576611519091, 'reg_lambda': 0.7405382816919276, 'sampling_method': None, 'scale_pos_weight': None, 'subsample': 0.6974776388423456, 'tree_method': 'hist', 'validate_parameters': None, 'verbosity': None, 'eta': 0.1347889643388216}\n",
      "Classifier XGBClassifier with 3 hops:\n",
      "{'objective': 'binary:logistic', 'base_score': None, 'booster': 'gbtree', 'callbacks': None, 'colsample_bylevel': None, 'colsample_bynode': None, 'colsample_bytree': 0.6107914109654888, 'device': None, 'early_stopping_rounds': None, 'enable_categorical': False, 'eval_metric': None, 'feature_types': None, 'gamma': 0.2261459205848106, 'grow_policy': None, 'importance_type': None, 'interaction_constraints': None, 'learning_rate': None, 'max_bin': None, 'max_cat_threshold': None, 'max_cat_to_onehot': None, 'max_delta_step': 3, 'max_depth': 2, 'max_leaves': None, 'min_child_weight': 3, 'missing': nan, 'monotone_constraints': None, 'multi_strategy': None, 'n_estimators': 2000, 'n_jobs': None, 'num_parallel_tree': None, 'random_state': None, 'reg_alpha': 0.28165081001118175, 'reg_lambda': 0.20430116448764218, 'sampling_method': None, 'scale_pos_weight': None, 'subsample': 0.6129491889091601, 'tree_method': 'hist', 'validate_parameters': None, 'verbosity': None, 'eta': 0.08916940930056233}\n",
      "##################################################\n",
      "Classifier SVC with 0 hops:\n",
      "{'C': 88.31376874744782, 'break_ties': False, 'cache_size': 200, 'class_weight': None, 'coef0': 0.0, 'decision_function_shape': 'ovr', 'degree': 3, 'gamma': 'scale', 'kernel': 'rbf', 'max_iter': -1, 'probability': True, 'random_state': None, 'shrinking': True, 'tol': 0.001, 'verbose': False}\n",
      "Classifier SVC with 1 hops:\n",
      "{'C': 2.3786107963188807, 'break_ties': False, 'cache_size': 200, 'class_weight': None, 'coef0': 0.0, 'decision_function_shape': 'ovr', 'degree': 3, 'gamma': 'scale', 'kernel': 'rbf', 'max_iter': -1, 'probability': True, 'random_state': None, 'shrinking': True, 'tol': 0.001, 'verbose': False}\n",
      "Classifier SVC with 2 hops:\n",
      "{'C': 2.905940351008823, 'break_ties': False, 'cache_size': 200, 'class_weight': None, 'coef0': 0.0, 'decision_function_shape': 'ovr', 'degree': 3, 'gamma': 'scale', 'kernel': 'rbf', 'max_iter': -1, 'probability': True, 'random_state': None, 'shrinking': True, 'tol': 0.001, 'verbose': False}\n",
      "Classifier SVC with 3 hops:\n",
      "{'C': 1.1819598504346502, 'break_ties': False, 'cache_size': 200, 'class_weight': None, 'coef0': 0.0, 'decision_function_shape': 'ovr', 'degree': 3, 'gamma': 'scale', 'kernel': 'rbf', 'max_iter': -1, 'probability': True, 'random_state': None, 'shrinking': True, 'tol': 0.001, 'verbose': False}\n"
     ]
    }
   ],
   "source": [
    "clf_hop_to_params = dict({})\n",
    "for clf in store:\n",
    "    print(50*\"#\")\n",
    "    clf_hop_to_params[clf] = dict({})\n",
    "    for hop in store[clf]:\n",
    "        print(f\"Classifier {clf} with {hop} hops:\")\n",
    "        print(store[clf][hop][\"model\"].get_params())\n",
    "        clf_hop_to_params[clf][hop] = store[clf][hop][\"model\"].get_params()"
   ]
  },
  {
   "cell_type": "code",
   "execution_count": 127,
   "id": "bce4b233-f17b-4a32-a0dc-bfe486158a8a",
   "metadata": {},
   "outputs": [],
   "source": [
    "import pandas as pd\n",
    "pd.DataFrame.from_dict(clf_hop_to_params).to_csv(\"Hyperparameters_Cora_WithoutAttention.csv\")"
   ]
  },
  {
   "cell_type": "code",
   "execution_count": null,
   "id": "5672a1dc-fcde-48ef-ac4b-f7aefc95f71d",
   "metadata": {},
   "outputs": [],
   "source": []
  }
 ],
 "metadata": {
  "kernelspec": {
   "display_name": "Python 3 (ipykernel)",
   "language": "python",
   "name": "python3"
  },
  "language_info": {
   "codemirror_mode": {
    "name": "ipython",
    "version": 3
   },
   "file_extension": ".py",
   "mimetype": "text/x-python",
   "name": "python",
   "nbconvert_exporter": "python",
   "pygments_lexer": "ipython3",
   "version": "3.10.12"
  }
 },
 "nbformat": 4,
 "nbformat_minor": 5
}
