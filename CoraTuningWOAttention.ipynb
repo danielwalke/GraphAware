{
 "cells": [
  {
   "cell_type": "markdown",
   "id": "369593e8-c7bb-4bf0-bb63-b13a7d3ffad2",
   "metadata": {},
   "source": [
    "# Evaluation graph awareness along different algorithms"
   ]
  },
  {
   "cell_type": "markdown",
   "id": "9a632dd5-e3e5-4c67-8627-df75bf73e468",
   "metadata": {},
   "source": [
    "## Read data"
   ]
  },
  {
   "cell_type": "code",
   "execution_count": 35,
   "id": "151bf675-4602-4d34-ab80-fa8a66ad9904",
   "metadata": {},
   "outputs": [],
   "source": [
    "from torch_geometric.datasets import Planetoid\n",
    "from EnsembleFramework import Framework\n",
    "import torch_geometric.transforms as T\n",
    "from torch_geometric.utils import add_self_loops\n",
    "\n",
    "dataset_name = 'Cora'\n",
    "split = \"public\"\n",
    "dataset = Planetoid(root='/tmp/Cora', name=dataset_name, split=split)\n",
    "dataset.transform = T.NormalizeFeatures()\n",
    "\n",
    "features =  dataset[0].x\n",
    "y =  dataset[0].y\n",
    "\n",
    "test =  dataset[0].test_mask\n",
    "train = dataset[0].train_mask\n",
    "val =  dataset[0].val_mask\n",
    "\n",
    "edge_index = dataset[0].edge_index \n",
    "edge_index = add_self_loops(edge_index)[0]"
   ]
  },
  {
   "cell_type": "markdown",
   "id": "280cd6cf-504b-4a17-a1a6-271ad0f29886",
   "metadata": {},
   "source": [
    "## Define Hyperparameter spaces"
   ]
  },
  {
   "cell_type": "markdown",
   "id": "a9949416-8b1b-4049-a0e2-cf816067ef54",
   "metadata": {},
   "source": [
    "### Logistic regression hyperparameter space"
   ]
  },
  {
   "cell_type": "code",
   "execution_count": 80,
   "id": "0f333c8f-7023-4942-a06f-2145c84a3c6c",
   "metadata": {},
   "outputs": [],
   "source": [
    "from hyperopt import hp\n",
    "\n",
    "lr_choices = {\n",
    "    'penalty': [\"l2\"],\n",
    "    'max_iter': [2**i for i in range(6, 15)],\n",
    "}\n",
    "\n",
    "lr_space = {\n",
    "    **{key: hp.choice(key, value) for key, value in lr_choices.items()},\n",
    "    'tol': hp.loguniform('tol', -11, -3),\n",
    "    'C': hp.uniform('C', 0.0, 10)\n",
    "}"
   ]
  },
  {
   "cell_type": "markdown",
   "id": "9c6f614b-0c1b-410a-9596-8cbfee4c3e75",
   "metadata": {},
   "source": [
    "### Support Vector classfiier hyperparameter space"
   ]
  },
  {
   "cell_type": "code",
   "execution_count": 81,
   "id": "e0297cd6-7d10-4001-a085-9410bff2474f",
   "metadata": {},
   "outputs": [],
   "source": [
    "from hyperopt import hp\n",
    "\n",
    "svc_choices = {\n",
    "    'gamma': [\"scale\", \"auto\"],\n",
    "    \"probability\": [True]\n",
    "}\n",
    "\n",
    "svc_space = {\n",
    "    **{key: hp.choice(key, value) for key, value in svc_choices.items()},\n",
    "    'C': hp.uniform('C', 0.0, 150)\n",
    "}"
   ]
  },
  {
   "cell_type": "markdown",
   "id": "f76f5b7c-7b28-44b6-9570-4d68cbc81921",
   "metadata": {},
   "source": [
    "### Decision tree hyperparameter space"
   ]
  },
  {
   "cell_type": "code",
   "execution_count": 82,
   "id": "07c096ef-fe5e-43b9-ad3d-0594f68fd386",
   "metadata": {},
   "outputs": [],
   "source": [
    "from hyperopt import hp\n",
    "\n",
    "dt_choices = {\n",
    "    'criterion': [\"gini\"],\n",
    "    'max_depth': [None, *[i**2 for i in range(5, 10)]]\n",
    "}\n",
    "\n",
    "dt_space = {\n",
    "    **{key: hp.choice(key, value) for key, value in dt_choices.items()},\n",
    "    'min_samples_split': hp.uniform('min_samples_split', 0.0, 1.0),\n",
    "    'min_samples_leaf': hp.uniform('min_samples_leaf', 0.0, .5),\n",
    "    'min_weight_fraction_leaf': hp.uniform('min_weight_fraction_leaf', 0.0, 0.5),\n",
    "    'max_features': hp.uniform('max_features', 0.0, 1.0),\n",
    "}"
   ]
  },
  {
   "cell_type": "markdown",
   "id": "53ad1a84-801c-4543-9859-23e8468dddbb",
   "metadata": {},
   "source": [
    "### XGBoost hyperparameter space"
   ]
  },
  {
   "cell_type": "code",
   "execution_count": 83,
   "id": "881b368f-ce37-4183-9e32-f9ce8529cce4",
   "metadata": {},
   "outputs": [],
   "source": [
    "from hyperopt import hp\n",
    "\n",
    "booster_self = [\"gbtree\"]\n",
    "n_estimators_self = [1_400, 1_600, 1_800, 2_000]\n",
    "max_depth_self = [None,2, 3,4]\n",
    "max_delta_step_self = [1,2,3]\n",
    "min_child_weight_self = [None, *list(range(1,5,1))]\n",
    "\n",
    "xb_choices = {\n",
    "    'booster': booster_self,\n",
    "    'n_estimators': n_estimators_self,\n",
    "    'max_depth': max_depth_self,\n",
    "    'max_delta_step': max_delta_step_self,\n",
    "    'min_child_weight': min_child_weight_self,\n",
    "    # 'device': [\"cuda:2\"],\n",
    "    \"tree_method\": [\"hist\"]\n",
    "}\n",
    " \n",
    "xb_space = {\n",
    "    **{key: hp.choice(key, value) for key, value in xb_choices.items()},\n",
    "    'eta': hp.loguniform('eta', -3, -.4),\n",
    "    'subsample': hp.uniform('subsample', 0.6, 1),\n",
    "    'reg_lambda': hp.loguniform('reg_lambda',-5, 5),\n",
    "    'reg_alpha': hp.loguniform('reg_alpha',-3, 1),\n",
    "    'gamma': hp.uniform('gamma', 0, .8),\n",
    "    'colsample_bytree': hp.uniform('colsample_bytree', 0.6, 1),\n",
    "}"
   ]
  },
  {
   "cell_type": "markdown",
   "id": "e2d2aa7c-3ab6-460b-94fd-8565792bfba2",
   "metadata": {},
   "source": [
    "### Random forest hyperparameter space"
   ]
  },
  {
   "cell_type": "code",
   "execution_count": 84,
   "id": "5f97277c-6fa4-4f61-88cd-1bd524429be5",
   "metadata": {},
   "outputs": [],
   "source": [
    "from hyperopt import hp\n",
    "\n",
    "rf_choices = {\n",
    "    'n_estimators': [200, 400, 600, 800, 1000, 1200, 1400, 1600, 1800, 2000],\n",
    "    'max_depth':  [10, 20, 30, 40, 50, 60, 70, 80, 90, 100, None],\n",
    "    'min_samples_split': [2, 5, 10],\n",
    "    \"criterion\":  [\"gini\", \"entropy\", \"log_loss\"]\n",
    "}\n",
    "\n",
    "rf_space = {\n",
    "    **{key: hp.choice(key, value) for key, value in rf_choices.items()},\n",
    "    'max_samples': hp.uniform('max_samples', 0.0, 1),\n",
    "    'min_samples_leaf': hp.uniform('min_samples_leaf', 0.0, 1.0),\n",
    "    'min_samples_split': hp.uniform('min_samples_split', 0.0, 1.0),\n",
    "     'max_features': hp.uniform('max_features', 0.0, 1.0),\n",
    "}"
   ]
  },
  {
   "cell_type": "code",
   "execution_count": 108,
   "id": "99753fd4-9fb3-4fb2-9bb9-15a688f4c2c1",
   "metadata": {},
   "outputs": [],
   "source": [
    "from sklearn.ensemble import RandomForestClassifier\n",
    "from xgboost import XGBClassifier\n",
    "from sklearn.linear_model import LogisticRegression\n",
    "from sklearn.svm import SVC\n",
    "from sklearn.tree import DecisionTreeClassifier\n",
    "\n",
    "clfs_space = dict({})\n",
    "clfs_space[\"RandomForestClassifier\"] = rf_space\n",
    "clfs_space[\"LogisticRegression\"] = lr_space\n",
    "clfs_space[\"DecisionTreeClassifier\"] = dt_space\n",
    "clfs_space[\"XGBClassifier\"] = xb_space\n",
    "clfs_space[\"SVC\"] = svc_space\n",
    "\n",
    "clfs = [RandomForestClassifier, LogisticRegression, DecisionTreeClassifier, XGBClassifier, SVC]\n",
    "clfs = [RandomForestClassifier]"
   ]
  },
  {
   "cell_type": "markdown",
   "id": "a87e6dee-03db-4a98-a522-19ba583abf0a",
   "metadata": {},
   "source": [
    "## Convert data in format for AutoTune"
   ]
  },
  {
   "cell_type": "code",
   "execution_count": 109,
   "id": "07d25f05-2645-41e1-97ac-b562ef7c9ec7",
   "metadata": {},
   "outputs": [],
   "source": [
    "cora_set = dict({})\n",
    "cora_set[\"X\"] = features\n",
    "cora_set[\"y\"] = y\n",
    "cora_set[\"test\"] = test\n",
    "cora_set[\"train\"] = train\n",
    "cora_set[\"val\"] = val\n",
    "cora_set[\"edge_index\"] = edge_index"
   ]
  },
  {
   "cell_type": "markdown",
   "id": "8bdded46-7f04-4d10-a421-f8a328419f98",
   "metadata": {},
   "source": [
    "## Start AutoTune search"
   ]
  },
  {
   "cell_type": "code",
   "execution_count": null,
   "id": "c3b31f80-3ca9-4b8d-871d-0fb0709f6447",
   "metadata": {
    "scrolled": true
   },
   "outputs": [
    {
     "data": {
      "application/vnd.jupyter.widget-view+json": {
       "model_id": "19900fcc3fa1403192c813bdf5696c96",
       "version_major": 2,
       "version_minor": 0
      },
      "text/plain": [
       "  0%|          | 0/1 [00:00<?, ?it/s]"
      ]
     },
     "metadata": {},
     "output_type": "display_data"
    },
    {
     "data": {
      "application/vnd.jupyter.widget-view+json": {
       "model_id": "8c6b0c465f89421997e15d25cd8e9094",
       "version_major": 2,
       "version_minor": 0
      },
      "text/plain": [
       "  0%|          | 0/4 [00:00<?, ?it/s]"
      ]
     },
     "metadata": {},
     "output_type": "display_data"
    },
    {
     "data": {
      "application/vnd.jupyter.widget-view+json": {
       "model_id": "12dd3a2af1834135b747aca5697cefef",
       "version_major": 2,
       "version_minor": 0
      },
      "text/plain": [
       "  0%|          | 0/1 [00:00<?, ?it/s]"
      ]
     },
     "metadata": {},
     "output_type": "display_data"
    },
    {
     "name": "stderr",
     "output_type": "stream",
     "text": [
      "                                                                                \r"
     ]
    }
   ],
   "source": [
    "from AutoTune2 import AutoSearch\n",
    "from sklearn.metrics import accuracy_score\n",
    "from torch.nn.functional import normalize\n",
    "\n",
    "def user_function(kwargs):\n",
    "    return  normalize(kwargs[\"original_features\"] + kwargs[\"summed_neighbors\"], p=2.0, dim = 1)\n",
    "\n",
    "searcher = AutoSearch(cora_set, max_evals=500, pred_metric = accuracy_score, parallelism=50)\n",
    "hops = [0,1,2,3]\n",
    "new_store = searcher.search(clfs, clfs_space, hops=hops, user_functions= [user_function],\n",
    "                        attention_configs = [None])"
   ]
  },
  {
   "cell_type": "markdown",
   "id": "fa896bce-953f-44a9-aa4d-bf614687f859",
   "metadata": {},
   "source": [
    "## Print results"
   ]
  },
  {
   "cell_type": "code",
   "execution_count": 88,
   "id": "d49f89c6-826d-4ff8-8525-b5fee8593835",
   "metadata": {},
   "outputs": [
    {
     "data": {
      "text/plain": [
       "{'RandomForestClassifier': {0: {'train_acc': 0.9714285714285714,\n",
       "   'val_acc': 0.584,\n",
       "   'test_acc': 0.606,\n",
       "   'model': RandomForestClassifier(criterion='log_loss', max_depth=20,\n",
       "                          max_features=0.013841755202367634,\n",
       "                          max_samples=0.7682795501203881,\n",
       "                          min_samples_leaf=0.0003813325501525952,\n",
       "                          min_samples_split=0.37389441276997104,\n",
       "                          n_estimators=1200),\n",
       "   'user_function': <function __main__.user_function(kwargs)>,\n",
       "   'attention_config': None},\n",
       "  1: {'train_acc': 0.9428571428571428,\n",
       "   'val_acc': 0.75,\n",
       "   'test_acc': 0.787,\n",
       "   'model': RandomForestClassifier(max_depth=10, max_features=0.13638206473703932,\n",
       "                          max_samples=0.46238124418992105,\n",
       "                          min_samples_leaf=0.0035213871435883573,\n",
       "                          min_samples_split=0.10775068499990069, n_estimators=600),\n",
       "   'user_function': <function __main__.user_function(kwargs)>,\n",
       "   'attention_config': None},\n",
       "  2: {'train_acc': 0.9857142857142858,\n",
       "   'val_acc': 0.776,\n",
       "   'test_acc': 0.8,\n",
       "   'model': RandomForestClassifier(max_depth=60, max_features=0.07333636439227531,\n",
       "                          max_samples=0.7508972159474427,\n",
       "                          min_samples_leaf=0.021794224673840627,\n",
       "                          min_samples_split=0.0469880552379157, n_estimators=1800),\n",
       "   'user_function': <function __main__.user_function(kwargs)>,\n",
       "   'attention_config': None},\n",
       "  3: {'train_acc': 0.95,\n",
       "   'val_acc': 0.748,\n",
       "   'test_acc': 0.769,\n",
       "   'model': RandomForestClassifier(criterion='log_loss', max_depth=90,\n",
       "                          max_features=0.9360590075726304,\n",
       "                          max_samples=0.5951933671945258,\n",
       "                          min_samples_leaf=0.006329902830379784,\n",
       "                          min_samples_split=0.11693955351620133,\n",
       "                          n_estimators=1400),\n",
       "   'user_function': <function __main__.user_function(kwargs)>,\n",
       "   'attention_config': None}},\n",
       " 'LogisticRegression': {0: {'train_acc': 0.9928571428571429,\n",
       "   'val_acc': 0.586,\n",
       "   'test_acc': 0.594,\n",
       "   'model': LogisticRegression(C=7.083705334482291, max_iter=512, tol=0.007769353308940913),\n",
       "   'user_function': <function __main__.user_function(kwargs)>,\n",
       "   'attention_config': None},\n",
       "  1: {'train_acc': 1.0,\n",
       "   'val_acc': 0.764,\n",
       "   'test_acc': 0.777,\n",
       "   'model': LogisticRegression(C=8.902446708801625, max_iter=1024,\n",
       "                      tol=0.0022695802301610233),\n",
       "   'user_function': <function __main__.user_function(kwargs)>,\n",
       "   'attention_config': None},\n",
       "  2: {'train_acc': 1.0,\n",
       "   'val_acc': 0.798,\n",
       "   'test_acc': 0.812,\n",
       "   'model': LogisticRegression(C=9.336875183488424, max_iter=256,\n",
       "                      tol=0.00023913988414132485),\n",
       "   'user_function': <function __main__.user_function(kwargs)>,\n",
       "   'attention_config': None},\n",
       "  3: {'train_acc': 0.9928571428571429,\n",
       "   'val_acc': 0.812,\n",
       "   'test_acc': 0.827,\n",
       "   'model': LogisticRegression(C=7.766462691442069, max_iter=64, tol=0.004625019630766721),\n",
       "   'user_function': <function __main__.user_function(kwargs)>,\n",
       "   'attention_config': None}},\n",
       " 'DecisionTreeClassifier': {0: {'train_acc': 0.6142857142857143,\n",
       "   'val_acc': 0.504,\n",
       "   'test_acc': 0.472,\n",
       "   'model': DecisionTreeClassifier(max_depth=64, max_features=0.8473908062174679,\n",
       "                          min_samples_leaf=0.0014589241894887445,\n",
       "                          min_samples_split=0.23210381246121048,\n",
       "                          min_weight_fraction_leaf=0.047097867142608704),\n",
       "   'user_function': <function __main__.user_function(kwargs)>,\n",
       "   'attention_config': None},\n",
       "  1: {'train_acc': 0.7,\n",
       "   'val_acc': 0.574,\n",
       "   'test_acc': 0.595,\n",
       "   'model': DecisionTreeClassifier(max_depth=25, max_features=0.4028242087426944,\n",
       "                          min_samples_leaf=0.019032351181755128,\n",
       "                          min_samples_split=0.2957445395655129,\n",
       "                          min_weight_fraction_leaf=0.00016222380065218645),\n",
       "   'user_function': <function __main__.user_function(kwargs)>,\n",
       "   'attention_config': None},\n",
       "  2: {'train_acc': 0.7214285714285714,\n",
       "   'val_acc': 0.688,\n",
       "   'test_acc': 0.664,\n",
       "   'model': DecisionTreeClassifier(max_depth=36, max_features=0.9985147228310765,\n",
       "                          min_samples_leaf=0.06098517015662755,\n",
       "                          min_samples_split=0.27978561200606067,\n",
       "                          min_weight_fraction_leaf=0.012313313574697504),\n",
       "   'user_function': <function __main__.user_function(kwargs)>,\n",
       "   'attention_config': None},\n",
       "  3: {'train_acc': 0.8642857142857143,\n",
       "   'val_acc': 0.658,\n",
       "   'test_acc': 0.677,\n",
       "   'model': DecisionTreeClassifier(max_depth=25, max_features=0.4703154581205483,\n",
       "                          min_samples_leaf=0.06633296923744159,\n",
       "                          min_samples_split=0.24145919469717603,\n",
       "                          min_weight_fraction_leaf=0.05813356043242181),\n",
       "   'user_function': <function __main__.user_function(kwargs)>,\n",
       "   'attention_config': None}},\n",
       " 'XGBClassifier': {0: {'train_acc': 0.9071428571428571,\n",
       "   'val_acc': 0.552,\n",
       "   'test_acc': 0.554,\n",
       "   'model': XGBClassifier(base_score=None, booster='gbtree', callbacks=None,\n",
       "                 colsample_bylevel=None, colsample_bynode=None,\n",
       "                 colsample_bytree=0.7167227150057662, device=None,\n",
       "                 early_stopping_rounds=None, enable_categorical=False,\n",
       "                 eta=0.07005568487071742, eval_metric=None, feature_types=None,\n",
       "                 gamma=0.7965788066705587, grow_policy=None, importance_type=None,\n",
       "                 interaction_constraints=None, learning_rate=None, max_bin=None,\n",
       "                 max_cat_threshold=None, max_cat_to_onehot=None, max_delta_step=2,\n",
       "                 max_depth=4, max_leaves=None, min_child_weight=None, missing=nan,\n",
       "                 monotone_constraints=None, multi_strategy=None, n_estimators=1800,\n",
       "                 n_jobs=None, num_parallel_tree=None, ...),\n",
       "   'user_function': <function __main__.user_function(kwargs)>,\n",
       "   'attention_config': None},\n",
       "  1: {'train_acc': 1.0,\n",
       "   'val_acc': 0.74,\n",
       "   'test_acc': 0.755,\n",
       "   'model': XGBClassifier(base_score=None, booster='gbtree', callbacks=None,\n",
       "                 colsample_bylevel=None, colsample_bynode=None,\n",
       "                 colsample_bytree=0.6133781387326146, device=None,\n",
       "                 early_stopping_rounds=None, enable_categorical=False,\n",
       "                 eta=0.06557829938193549, eval_metric=None, feature_types=None,\n",
       "                 gamma=0.3056562357311764, grow_policy=None, importance_type=None,\n",
       "                 interaction_constraints=None, learning_rate=None, max_bin=None,\n",
       "                 max_cat_threshold=None, max_cat_to_onehot=None, max_delta_step=3,\n",
       "                 max_depth=4, max_leaves=None, min_child_weight=None, missing=nan,\n",
       "                 monotone_constraints=None, multi_strategy=None, n_estimators=1800,\n",
       "                 n_jobs=None, num_parallel_tree=None, ...),\n",
       "   'user_function': <function __main__.user_function(kwargs)>,\n",
       "   'attention_config': None},\n",
       "  2: {'train_acc': 1.0,\n",
       "   'val_acc': 0.782,\n",
       "   'test_acc': 0.759,\n",
       "   'model': XGBClassifier(base_score=None, booster='gbtree', callbacks=None,\n",
       "                 colsample_bylevel=None, colsample_bynode=None,\n",
       "                 colsample_bytree=0.9775059511549802, device=None,\n",
       "                 early_stopping_rounds=None, enable_categorical=False,\n",
       "                 eta=0.06277627798720144, eval_metric=None, feature_types=None,\n",
       "                 gamma=0.37212015277361604, grow_policy=None, importance_type=None,\n",
       "                 interaction_constraints=None, learning_rate=None, max_bin=None,\n",
       "                 max_cat_threshold=None, max_cat_to_onehot=None, max_delta_step=3,\n",
       "                 max_depth=3, max_leaves=None, min_child_weight=1, missing=nan,\n",
       "                 monotone_constraints=None, multi_strategy=None, n_estimators=1800,\n",
       "                 n_jobs=None, num_parallel_tree=None, ...),\n",
       "   'user_function': <function __main__.user_function(kwargs)>,\n",
       "   'attention_config': None},\n",
       "  3: {'train_acc': 1.0,\n",
       "   'val_acc': 0.78,\n",
       "   'test_acc': 0.783,\n",
       "   'model': XGBClassifier(base_score=None, booster='gbtree', callbacks=None,\n",
       "                 colsample_bylevel=None, colsample_bynode=None,\n",
       "                 colsample_bytree=0.6875838805291771, device=None,\n",
       "                 early_stopping_rounds=None, enable_categorical=False,\n",
       "                 eta=0.15511942170806153, eval_metric=None, feature_types=None,\n",
       "                 gamma=0.31859823464466963, grow_policy=None, importance_type=None,\n",
       "                 interaction_constraints=None, learning_rate=None, max_bin=None,\n",
       "                 max_cat_threshold=None, max_cat_to_onehot=None, max_delta_step=1,\n",
       "                 max_depth=None, max_leaves=None, min_child_weight=4, missing=nan,\n",
       "                 monotone_constraints=None, multi_strategy=None, n_estimators=1400,\n",
       "                 n_jobs=None, num_parallel_tree=None, ...),\n",
       "   'user_function': <function __main__.user_function(kwargs)>,\n",
       "   'attention_config': None}},\n",
       " 'SVC': {0: {'train_acc': 1.0,\n",
       "   'val_acc': 0.568,\n",
       "   'test_acc': 0.573,\n",
       "   'model': SVC(C=88.31376874744782, probability=True),\n",
       "   'user_function': <function __main__.user_function(kwargs)>,\n",
       "   'attention_config': None},\n",
       "  1: {'train_acc': 1.0,\n",
       "   'val_acc': 0.782,\n",
       "   'test_acc': 0.778,\n",
       "   'model': SVC(C=2.3786107963188807, probability=True),\n",
       "   'user_function': <function __main__.user_function(kwargs)>,\n",
       "   'attention_config': None},\n",
       "  2: {'train_acc': 1.0,\n",
       "   'val_acc': 0.8,\n",
       "   'test_acc': 0.81,\n",
       "   'model': SVC(C=2.905940351008823, probability=True),\n",
       "   'user_function': <function __main__.user_function(kwargs)>,\n",
       "   'attention_config': None},\n",
       "  3: {'train_acc': 0.9857142857142858,\n",
       "   'val_acc': 0.806,\n",
       "   'test_acc': 0.823,\n",
       "   'model': SVC(C=1.1819598504346502, probability=True),\n",
       "   'user_function': <function __main__.user_function(kwargs)>,\n",
       "   'attention_config': None}}}"
      ]
     },
     "execution_count": 88,
     "metadata": {},
     "output_type": "execute_result"
    }
   ],
   "source": [
    "store"
   ]
  },
  {
   "cell_type": "code",
   "execution_count": 107,
   "id": "5f903c6b-b632-4333-a007-cca7ea079133",
   "metadata": {},
   "outputs": [
    {
     "data": {
      "text/plain": [
       "{'RandomForestClassifier': {0: {'train_acc': 0.9285714285714286,\n",
       "   'val_acc': 0.538,\n",
       "   'test_acc': 0.569,\n",
       "   'model': RandomForestClassifier(max_depth=30, max_features=0.7897331102959456,\n",
       "                          max_samples=0.7565925087365034,\n",
       "                          min_samples_leaf=0.003477978198885334,\n",
       "                          min_samples_split=0.09482346804883962, n_estimators=600),\n",
       "   'user_function': <function __main__.user_function(kwargs)>,\n",
       "   'attention_config': None},\n",
       "  1: {'train_acc': 1.0,\n",
       "   'val_acc': 0.788,\n",
       "   'test_acc': 0.802,\n",
       "   'model': RandomForestClassifier(max_depth=70, max_features=0.05451653672311975,\n",
       "                          max_samples=0.939331814722632,\n",
       "                          min_samples_leaf=0.00030458635265399187,\n",
       "                          min_samples_split=0.00027797525964570746,\n",
       "                          n_estimators=2000),\n",
       "   'user_function': <function __main__.user_function(kwargs)>,\n",
       "   'attention_config': None},\n",
       "  2: {'train_acc': 0.9857142857142858,\n",
       "   'val_acc': 0.764,\n",
       "   'test_acc': 0.758,\n",
       "   'model': RandomForestClassifier(criterion='log_loss', max_depth=50,\n",
       "                          max_features=0.306606103752188,\n",
       "                          max_samples=0.9292977603259365,\n",
       "                          min_samples_leaf=0.021734147829600137,\n",
       "                          min_samples_split=0.02164402213071283,\n",
       "                          n_estimators=1800),\n",
       "   'user_function': <function __main__.user_function(kwargs)>,\n",
       "   'attention_config': None},\n",
       "  3: {'train_acc': 1.0,\n",
       "   'val_acc': 0.776,\n",
       "   'test_acc': 0.786,\n",
       "   'model': RandomForestClassifier(max_depth=80, max_features=0.0934213977658899,\n",
       "                          max_samples=0.8870616214517257,\n",
       "                          min_samples_leaf=0.0015931093118134799,\n",
       "                          min_samples_split=0.0008569226899210886,\n",
       "                          n_estimators=1600),\n",
       "   'user_function': <function __main__.user_function(kwargs)>,\n",
       "   'attention_config': None}},\n",
       " 'XGBClassifier': {0: {'train_acc': 0.9357142857142857,\n",
       "   'val_acc': 0.56,\n",
       "   'test_acc': 0.561,\n",
       "   'model': XGBClassifier(base_score=None, booster='gbtree', callbacks=None,\n",
       "                 colsample_bylevel=None, colsample_bynode=None,\n",
       "                 colsample_bytree=0.645266241620217, device=None,\n",
       "                 early_stopping_rounds=None, enable_categorical=False,\n",
       "                 eta=0.14963464546031083, eval_metric=None, feature_types=None,\n",
       "                 gamma=0.6169657067133576, grow_policy=None, importance_type=None,\n",
       "                 interaction_constraints=None, learning_rate=None, max_bin=None,\n",
       "                 max_cat_threshold=None, max_cat_to_onehot=None, max_delta_step=1,\n",
       "                 max_depth=4, max_leaves=None, min_child_weight=1, missing=nan,\n",
       "                 monotone_constraints=None, multi_strategy=None, n_estimators=1800,\n",
       "                 n_jobs=None, num_parallel_tree=None, ...),\n",
       "   'user_function': <function __main__.user_function(kwargs)>,\n",
       "   'attention_config': None},\n",
       "  1: {'train_acc': 0.9928571428571429,\n",
       "   'val_acc': 0.75,\n",
       "   'test_acc': 0.749,\n",
       "   'model': XGBClassifier(base_score=None, booster='gbtree', callbacks=None,\n",
       "                 colsample_bylevel=None, colsample_bynode=None,\n",
       "                 colsample_bytree=0.8052198929038524, device=None,\n",
       "                 early_stopping_rounds=None, enable_categorical=False,\n",
       "                 eta=0.21871072550002157, eval_metric=None, feature_types=None,\n",
       "                 gamma=0.10758490349091901, grow_policy=None, importance_type=None,\n",
       "                 interaction_constraints=None, learning_rate=None, max_bin=None,\n",
       "                 max_cat_threshold=None, max_cat_to_onehot=None, max_delta_step=2,\n",
       "                 max_depth=4, max_leaves=None, min_child_weight=1, missing=nan,\n",
       "                 monotone_constraints=None, multi_strategy=None, n_estimators=1600,\n",
       "                 n_jobs=None, num_parallel_tree=None, ...),\n",
       "   'user_function': <function __main__.user_function(kwargs)>,\n",
       "   'attention_config': None},\n",
       "  2: {'train_acc': 1.0,\n",
       "   'val_acc': 0.786,\n",
       "   'test_acc': 0.779,\n",
       "   'model': XGBClassifier(base_score=None, booster='gbtree', callbacks=None,\n",
       "                 colsample_bylevel=None, colsample_bynode=None,\n",
       "                 colsample_bytree=0.6457439077381418, device=None,\n",
       "                 early_stopping_rounds=None, enable_categorical=False,\n",
       "                 eta=0.1347889643388216, eval_metric=None, feature_types=None,\n",
       "                 gamma=0.1501631890479571, grow_policy=None, importance_type=None,\n",
       "                 interaction_constraints=None, learning_rate=None, max_bin=None,\n",
       "                 max_cat_threshold=None, max_cat_to_onehot=None, max_delta_step=2,\n",
       "                 max_depth=None, max_leaves=None, min_child_weight=3, missing=nan,\n",
       "                 monotone_constraints=None, multi_strategy=None, n_estimators=1400,\n",
       "                 n_jobs=None, num_parallel_tree=None, ...),\n",
       "   'user_function': <function __main__.user_function(kwargs)>,\n",
       "   'attention_config': None},\n",
       "  3: {'train_acc': 1.0,\n",
       "   'val_acc': 0.794,\n",
       "   'test_acc': 0.801,\n",
       "   'model': XGBClassifier(base_score=None, booster='gbtree', callbacks=None,\n",
       "                 colsample_bylevel=None, colsample_bynode=None,\n",
       "                 colsample_bytree=0.6107914109654888, device=None,\n",
       "                 early_stopping_rounds=None, enable_categorical=False,\n",
       "                 eta=0.08916940930056233, eval_metric=None, feature_types=None,\n",
       "                 gamma=0.2261459205848106, grow_policy=None, importance_type=None,\n",
       "                 interaction_constraints=None, learning_rate=None, max_bin=None,\n",
       "                 max_cat_threshold=None, max_cat_to_onehot=None, max_delta_step=3,\n",
       "                 max_depth=2, max_leaves=None, min_child_weight=3, missing=nan,\n",
       "                 monotone_constraints=None, multi_strategy=None, n_estimators=2000,\n",
       "                 n_jobs=None, num_parallel_tree=None, ...),\n",
       "   'user_function': <function __main__.user_function(kwargs)>,\n",
       "   'attention_config': None}}}"
      ]
     },
     "execution_count": 107,
     "metadata": {},
     "output_type": "execute_result"
    }
   ],
   "source": [
    "new_store"
   ]
  },
  {
   "cell_type": "code",
   "execution_count": 104,
   "id": "ca10a80c-3e4e-418b-8620-e1137becfd10",
   "metadata": {},
   "outputs": [],
   "source": [
    "store[\"RandomForestClassifier\"] = new_store[\"RandomForestClassifier\"]\n",
    "store[\"XGBClassifier\"] = new_store[\"XGBClassifier\"]"
   ]
  },
  {
   "cell_type": "code",
   "execution_count": 106,
   "id": "434eff4b-7028-4ed3-adc1-ac5a5f6284ef",
   "metadata": {},
   "outputs": [
    {
     "name": "stdout",
     "output_type": "stream",
     "text": [
      "RandomForestClassifier\n",
      "0\t0.569\n",
      "1\t0.802\n",
      "2\t0.758\n",
      "3\t0.786\n",
      "LogisticRegression\n",
      "0\t0.594\n",
      "1\t0.777\n",
      "2\t0.812\n",
      "3\t0.827\n",
      "DecisionTreeClassifier\n",
      "0\t0.472\n",
      "1\t0.595\n",
      "2\t0.664\n",
      "3\t0.677\n",
      "XGBClassifier\n",
      "0\t0.561\n",
      "1\t0.749\n",
      "2\t0.779\n",
      "3\t0.801\n",
      "SVC\n",
      "0\t0.573\n",
      "1\t0.778\n",
      "2\t0.81\n",
      "3\t0.823\n"
     ]
    }
   ],
   "source": [
    "for clf in store:\n",
    "    print(clf)\n",
    "    for hop in store[clf]:\n",
    "        print(str(hop) + \"\\t\" + str( store[clf][hop][\"test_acc\"]))\n",
    "        "
   ]
  },
  {
   "cell_type": "code",
   "execution_count": null,
   "id": "73b66246-7c39-4f4f-a4cf-c854b2ea47c3",
   "metadata": {},
   "outputs": [],
   "source": []
  }
 ],
 "metadata": {
  "kernelspec": {
   "display_name": "Python 3 (ipykernel)",
   "language": "python",
   "name": "python3"
  },
  "language_info": {
   "codemirror_mode": {
    "name": "ipython",
    "version": 3
   },
   "file_extension": ".py",
   "mimetype": "text/x-python",
   "name": "python",
   "nbconvert_exporter": "python",
   "pygments_lexer": "ipython3",
   "version": "3.10.12"
  }
 },
 "nbformat": 4,
 "nbformat_minor": 5
}
